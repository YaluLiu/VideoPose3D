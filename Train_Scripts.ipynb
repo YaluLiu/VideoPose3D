{
 "cells": [
  {
   "cell_type": "code",
   "execution_count": 1,
   "metadata": {},
   "outputs": [],
   "source": [
    "import time\n",
    "\n",
    "import torch\n",
    "\n",
    "import torch.nn as nn\n",
    "import torch.nn.functional as F\n",
    "import torch.optim as optim\n",
    "import os\n",
    "import sys\n",
    "import errno\n",
    "\n",
    "from common.camera import *\n",
    "from common.model import *\n",
    "from common.loss import *\n",
    "from common.utils import *\n",
    "from common.visualization import *\n",
    "from common.generators import ChunkedGenerator, UnchunkedGenerator\n",
    "from common.utils import deterministic_random\n",
    "\n",
    "from scripts.data_preprocessing_human36 import *\n",
    "from scripts.build_model import *\n",
    "from scripts.train import *\n",
    "from scripts.eval import *"
   ]
  },
  {
   "cell_type": "code",
   "execution_count": 2,
   "metadata": {},
   "outputs": [],
   "source": [
    "dataset_path = \"../data/data_3d_h36m.npz\"\n",
    "dataset_path_2d = '../data/data_2d_h36m_cpn_ft_h36m_dbb.npz'"
   ]
  },
  {
   "cell_type": "markdown",
   "metadata": {},
   "source": [
    "## load data"
   ]
  },
  {
   "cell_type": "code",
   "execution_count": 3,
   "metadata": {},
   "outputs": [
    {
     "name": "stdout",
     "output_type": "stream",
     "text": [
      "load and process 3d data\n",
      "load and process 2d data\n"
     ]
    }
   ],
   "source": [
    "dataset, keypoints = load_and_preprocess_human36m(dataset_path, dataset_path_2d)"
   ]
  },
  {
   "cell_type": "code",
   "execution_count": 4,
   "metadata": {},
   "outputs": [],
   "source": [
    "subjects_train = ['S1', 'S5', 'S6', 'S7', 'S8']\n",
    "subjects_semi = ['S9']\n",
    "subjects_test = ['S11']"
   ]
  },
  {
   "cell_type": "code",
   "execution_count": 5,
   "metadata": {},
   "outputs": [
    {
     "data": {
      "text/plain": [
       "dict_keys(['Eating 1', 'Photo', 'Walking', 'Greeting 2', 'Walking 1', 'Posing', 'Phoning 3', 'WalkDog', 'Sitting 1', 'Purchases', 'Sitting', 'WalkDog 1', 'Waiting', 'Photo 1', 'SittingDown 1', 'Smoking', 'Greeting', 'Discussion 1', 'Discussion 2', 'WalkTogether', 'Posing 1', 'Eating', 'SittingDown', 'Waiting 1', 'Directions 1', 'Purchases 1', 'WalkTogether 1', 'Phoning 2', 'Smoking 2'])"
      ]
     },
     "execution_count": 5,
     "metadata": {},
     "output_type": "execute_result"
    }
   ],
   "source": [
    "dataset[\"S11\"].keys()"
   ]
  },
  {
   "cell_type": "code",
   "execution_count": 6,
   "metadata": {},
   "outputs": [],
   "source": [
    "cameras_valid, poses_valid, poses_valid_2d = fetch(dataset = dataset,\n",
    "                                                   keypoints = keypoints, \n",
    "                                                   subjects = subjects_test, \n",
    "                                                   stride = 1)\n",
    "\n",
    "cameras_train, poses_train, poses_train_2d = fetch(dataset = dataset,\n",
    "                                                   keypoints = keypoints, \n",
    "                                                   subjects = subjects_train, \n",
    "                                                   stride = 1)\n",
    "\n",
    "cameras_semi, _, poses_semi_2d = fetch(dataset = dataset,\n",
    "                                       keypoints = keypoints,\n",
    "                                       subjects = subjects_semi,\n",
    "                                       stride = 1)"
   ]
  },
  {
   "cell_type": "markdown",
   "metadata": {},
   "source": [
    "## build model"
   ]
  },
  {
   "cell_type": "code",
   "execution_count": 7,
   "metadata": {},
   "outputs": [
    {
     "name": "stdout",
     "output_type": "stream",
     "text": [
      "Loading checkpoint checkpoints/epoch_100.bin\n",
      "This model was trained for 100 epochs\n"
     ]
    }
   ],
   "source": [
    "resume = True\n",
    "gpu_ = False\n",
    "filter_widths = [3,3,3,3,3]\n",
    "model_pos_train, model_pos, model_traj, model_traj_train = build_models(17, 2, 17, filter_widths)\n",
    "\n",
    "if resume:\n",
    "    chk_filename = \"checkpoints/epoch_100.bin\"\n",
    "    print('Loading checkpoint', chk_filename)\n",
    "    checkpoint = torch.load(chk_filename, map_location=lambda storage, loc: storage)\n",
    "    print('This model was trained for {} epochs'.format(checkpoint['epoch']))\n",
    "    model_pos_train.load_state_dict(checkpoint['model_pos'])\n",
    "    model_pos.load_state_dict(checkpoint['model_pos'])\n",
    "    model_traj_train.load_state_dict(checkpoint['model_traj'])\n",
    "    model_traj.load_state_dict(checkpoint['model_traj'])\n",
    "    \n",
    "\n",
    "# load model on gpu\n",
    "if torch.cuda.is_available():\n",
    "    model_pos = model_pos.cuda()\n",
    "    model_pos_train = model_pos_train.cuda()\n",
    "    model_traj = model_traj.cuda()\n",
    "    model_traj_train = model_traj_train.cuda()\n",
    "\n",
    "# copy on multi-gpu\n",
    "devices = [0, 1, 2]\n",
    "model_pos_train = nn.DataParallel(model_pos_train, device_ids=devices)\n",
    "model_traj_train = nn.DataParallel(model_traj_train, device_ids=devices)\n",
    "\n",
    "models = {}\n",
    "models[\"model_pos_train\"] = model_pos_train\n",
    "models[\"model_pos\"] = model_pos\n",
    "models[\"model_traj_train\"] = model_traj_train\n",
    "models[\"model_traj\"] = model_traj"
   ]
  },
  {
   "cell_type": "markdown",
   "metadata": {},
   "source": [
    "## build data generator"
   ]
  },
  {
   "cell_type": "code",
   "execution_count": 8,
   "metadata": {},
   "outputs": [],
   "source": [
    "receptive_field = model_pos.receptive_field()\n",
    "pad = (receptive_field - 1) // 2\n",
    "batch_size = 4096*2"
   ]
  },
  {
   "cell_type": "code",
   "execution_count": 9,
   "metadata": {},
   "outputs": [],
   "source": [
    "test_generator = UnchunkedGenerator(cameras_valid, poses_valid, poses_valid_2d, pad=pad, causal_shift=0, augment=False)\n",
    "train_generator = ChunkedGenerator(batch_size, cameras_train, poses_train, poses_train_2d, 1, pad=pad, causal_shift=0, shuffle=True, augment=False)\n",
    "train_generator_eval = UnchunkedGenerator(cameras_train, poses_train, poses_train_2d, pad=pad, causal_shift=0, augment=False)\n",
    "semi_generator = ChunkedGenerator(batch_size, cameras_semi, None, poses_semi_2d, 1, pad=pad, causal_shift=0, shuffle=True, random_seed=4321, augment=False, endless=True)\n",
    "semi_generator_eval = UnchunkedGenerator(cameras_semi, None, poses_semi_2d, pad=pad, causal_shift=0, augment=False)\n",
    "\n",
    "if resume:\n",
    "    train_generator.set_random_state(checkpoint['random_state'])\n",
    "    semi_generator.set_random_state(checkpoint['random_state_semi'])\n",
    "\n",
    "generators = {}\n",
    "generators[\"test_generator\"] = test_generator\n",
    "generators[\"train_generator\"] = train_generator\n",
    "generators[\"train_generator_eval\"] = train_generator_eval\n",
    "generators[\"semi_generator\"] = semi_generator\n",
    "generators[\"semi_generator_eval\"] = semi_generator_eval"
   ]
  },
  {
   "cell_type": "markdown",
   "metadata": {},
   "source": [
    "## Optimizer Meta"
   ]
  },
  {
   "cell_type": "code",
   "execution_count": 10,
   "metadata": {},
   "outputs": [],
   "source": [
    "lr = 0.001\n",
    "initial_momentum = 0.1\n",
    "final_momentum = 0.001\n",
    "lr_decay = 0.95\n",
    "optimizer = optim.Adam(list(model_pos_train.parameters()) + list(model_traj_train.parameters()),\n",
    "                               lr=lr, amsgrad=True)\n",
    "if resume:\n",
    "    optimizer.load_state_dict(checkpoint['optimizer'])\n",
    "    lr = checkpoint[\"lr\"]"
   ]
  },
  {
   "cell_type": "markdown",
   "metadata": {},
   "source": [
    "## Loss"
   ]
  },
  {
   "cell_type": "code",
   "execution_count": 11,
   "metadata": {},
   "outputs": [],
   "source": [
    "losses = Losses()"
   ]
  },
  {
   "cell_type": "markdown",
   "metadata": {},
   "source": [
    "## Training Meta"
   ]
  },
  {
   "cell_type": "code",
   "execution_count": 12,
   "metadata": {},
   "outputs": [],
   "source": [
    "checkpoint_folder = \"checkpoints/\"\n",
    "save_freq = 10 \n",
    "warmup = 5\n",
    "epochs = 100\n",
    "\n",
    "if resume:\n",
    "    start_epoch = checkpoint['epoch']\n",
    "else:\n",
    "    start_epoch = 0"
   ]
  },
  {
   "cell_type": "markdown",
   "metadata": {},
   "source": [
    "## Training Loop"
   ]
  },
  {
   "cell_type": "code",
   "execution_count": 13,
   "metadata": {
    "scrolled": true
   },
   "outputs": [
    {
     "name": "stderr",
     "output_type": "stream",
     "text": [
      " - epoch   0 train : 100%|██████████| 191/191 [04:38<00:00,  1.33s/it]\n",
      " evaluate on test set : 100%|██████████| 116/116 [00:02<00:00, 55.02it/s]\n",
      " evaluate on train set : 100%|██████████| 600/600 [00:12<00:00, 48.98it/s]\n",
      " evaluate on unlabel train set : 100%|██████████| 120/120 [00:02<00:00, 50.15it/s]\n"
     ]
    },
    {
     "name": "stdout",
     "output_type": "stream",
     "text": [
      "Saving checkpoint to checkpoints/epoch_0.bin\n"
     ]
    },
    {
     "name": "stderr",
     "output_type": "stream",
     "text": [
      " - epoch   1 train : 100%|██████████| 191/191 [04:30<00:00,  1.33s/it]\n",
      " evaluate on test set : 100%|██████████| 116/116 [00:02<00:00, 55.47it/s]\n",
      " evaluate on train set : 100%|██████████| 600/600 [00:12<00:00, 48.81it/s]\n",
      " evaluate on unlabel train set : 100%|██████████| 120/120 [00:02<00:00, 49.25it/s]\n",
      " - epoch   2 train : 100%|██████████| 191/191 [04:30<00:00,  1.34s/it]\n",
      " evaluate on test set : 100%|██████████| 116/116 [00:02<00:00, 55.53it/s]\n",
      " evaluate on train set : 100%|██████████| 600/600 [00:12<00:00, 49.05it/s]\n",
      " evaluate on unlabel train set : 100%|██████████| 120/120 [00:02<00:00, 51.00it/s]\n",
      " - epoch   3 train : 100%|██████████| 191/191 [04:30<00:00,  1.33s/it]\n",
      " evaluate on test set : 100%|██████████| 116/116 [00:02<00:00, 54.73it/s]\n",
      " evaluate on train set : 100%|██████████| 600/600 [00:12<00:00, 48.98it/s]\n",
      " evaluate on unlabel train set : 100%|██████████| 120/120 [00:02<00:00, 50.92it/s]\n",
      " - epoch   4 train : 100%|██████████| 191/191 [04:30<00:00,  1.33s/it]\n",
      " evaluate on test set : 100%|██████████| 116/116 [00:02<00:00, 53.99it/s]\n",
      " evaluate on train set : 100%|██████████| 600/600 [00:12<00:00, 48.71it/s]\n",
      " evaluate on unlabel train set : 100%|██████████| 120/120 [00:02<00:00, 51.13it/s]\n",
      " - epoch   5 train : 100%|██████████| 191/191 [07:48<00:00,  2.36s/it]\n",
      " evaluate on test set : 100%|██████████| 116/116 [00:02<00:00, 40.36it/s]\n",
      " evaluate on train set : 100%|██████████| 600/600 [00:12<00:00, 49.00it/s]\n",
      " evaluate on unlabel train set : 100%|██████████| 120/120 [00:02<00:00, 51.15it/s]\n",
      " - epoch   6 train : 100%|██████████| 191/191 [07:44<00:00,  2.35s/it]\n",
      " evaluate on test set : 100%|██████████| 116/116 [00:02<00:00, 40.57it/s]\n",
      " evaluate on train set : 100%|██████████| 600/600 [00:12<00:00, 48.65it/s]\n",
      " evaluate on unlabel train set : 100%|██████████| 120/120 [00:02<00:00, 50.90it/s]\n",
      " - epoch   7 train : 100%|██████████| 191/191 [07:45<00:00,  2.37s/it]\n",
      " evaluate on test set : 100%|██████████| 116/116 [00:02<00:00, 41.21it/s]\n",
      " evaluate on train set : 100%|██████████| 600/600 [00:12<00:00, 48.74it/s]\n",
      " evaluate on unlabel train set : 100%|██████████| 120/120 [00:02<00:00, 51.12it/s]\n",
      " - epoch   8 train : 100%|██████████| 191/191 [07:45<00:00,  2.32s/it]\n",
      " evaluate on test set : 100%|██████████| 116/116 [00:02<00:00, 40.49it/s]\n",
      " evaluate on train set : 100%|██████████| 600/600 [00:12<00:00, 49.20it/s]\n",
      " evaluate on unlabel train set : 100%|██████████| 120/120 [00:02<00:00, 50.38it/s]\n",
      " - epoch   9 train : 100%|██████████| 191/191 [07:45<00:00,  2.35s/it]\n",
      " evaluate on test set : 100%|██████████| 116/116 [00:02<00:00, 41.11it/s]\n",
      " evaluate on train set : 100%|██████████| 600/600 [00:12<00:00, 48.63it/s]\n",
      " evaluate on unlabel train set : 100%|██████████| 120/120 [00:02<00:00, 51.08it/s]\n",
      " - epoch  10 train : 100%|██████████| 191/191 [07:44<00:00,  2.35s/it]\n",
      " evaluate on test set : 100%|██████████| 116/116 [00:02<00:00, 41.16it/s]\n",
      " evaluate on train set : 100%|██████████| 600/600 [00:12<00:00, 49.07it/s]\n",
      " evaluate on unlabel train set : 100%|██████████| 120/120 [00:02<00:00, 51.19it/s]\n"
     ]
    },
    {
     "name": "stdout",
     "output_type": "stream",
     "text": [
      "Saving checkpoint to checkpoints/epoch_10.bin\n"
     ]
    },
    {
     "name": "stderr",
     "output_type": "stream",
     "text": [
      " - epoch  11 train : 100%|██████████| 191/191 [07:45<00:00,  2.38s/it]\n",
      " evaluate on test set : 100%|██████████| 116/116 [00:02<00:00, 41.28it/s]\n",
      " evaluate on train set : 100%|██████████| 600/600 [00:12<00:00, 49.23it/s]\n",
      " evaluate on unlabel train set : 100%|██████████| 120/120 [00:02<00:00, 50.80it/s]\n",
      " - epoch  12 train : 100%|██████████| 191/191 [07:45<00:00,  2.37s/it]\n",
      " evaluate on test set : 100%|██████████| 116/116 [00:02<00:00, 39.96it/s]\n",
      " evaluate on train set : 100%|██████████| 600/600 [00:12<00:00, 49.25it/s]\n",
      " evaluate on unlabel train set : 100%|██████████| 120/120 [00:02<00:00, 51.17it/s]\n",
      " - epoch  13 train : 100%|██████████| 191/191 [07:45<00:00,  2.38s/it]\n",
      " evaluate on test set : 100%|██████████| 116/116 [00:02<00:00, 40.45it/s]\n",
      " evaluate on train set : 100%|██████████| 600/600 [00:12<00:00, 49.40it/s]\n",
      " evaluate on unlabel train set : 100%|██████████| 120/120 [00:02<00:00, 51.18it/s]\n",
      " - epoch  14 train : 100%|██████████| 191/191 [07:45<00:00,  2.37s/it]\n",
      " evaluate on test set : 100%|██████████| 116/116 [00:02<00:00, 41.32it/s]\n",
      " evaluate on train set : 100%|██████████| 600/600 [00:12<00:00, 48.90it/s]\n",
      " evaluate on unlabel train set : 100%|██████████| 120/120 [00:02<00:00, 51.09it/s]\n",
      " - epoch  15 train : 100%|██████████| 191/191 [07:45<00:00,  2.35s/it]\n",
      " evaluate on test set : 100%|██████████| 116/116 [00:02<00:00, 40.55it/s]\n",
      " evaluate on train set : 100%|██████████| 600/600 [00:12<00:00, 49.23it/s]\n",
      " evaluate on unlabel train set : 100%|██████████| 120/120 [00:02<00:00, 50.63it/s]\n",
      " - epoch  16 train : 100%|██████████| 191/191 [07:45<00:00,  2.38s/it]\n",
      " evaluate on test set : 100%|██████████| 116/116 [00:02<00:00, 40.46it/s]\n",
      " evaluate on train set : 100%|██████████| 600/600 [00:12<00:00, 49.43it/s]\n",
      " evaluate on unlabel train set : 100%|██████████| 120/120 [00:02<00:00, 51.12it/s]\n",
      " - epoch  17 train : 100%|██████████| 191/191 [07:45<00:00,  2.35s/it]\n",
      " evaluate on test set : 100%|██████████| 116/116 [00:02<00:00, 41.19it/s]\n",
      " evaluate on train set : 100%|██████████| 600/600 [00:12<00:00, 48.90it/s]\n",
      " evaluate on unlabel train set : 100%|██████████| 120/120 [00:02<00:00, 51.11it/s]\n",
      " - epoch  18 train : 100%|██████████| 191/191 [07:46<00:00,  2.32s/it]\n",
      " evaluate on test set : 100%|██████████| 116/116 [00:02<00:00, 40.52it/s]\n",
      " evaluate on train set : 100%|██████████| 600/600 [00:12<00:00, 49.02it/s]\n",
      " evaluate on unlabel train set : 100%|██████████| 120/120 [00:02<00:00, 51.13it/s]\n",
      " - epoch  19 train : 100%|██████████| 191/191 [07:45<00:00,  2.36s/it]\n",
      " evaluate on test set : 100%|██████████| 116/116 [00:02<00:00, 41.23it/s]\n",
      " evaluate on train set : 100%|██████████| 600/600 [00:12<00:00, 49.51it/s]\n",
      " evaluate on unlabel train set : 100%|██████████| 120/120 [00:02<00:00, 51.36it/s]\n",
      " - epoch  20 train : 100%|██████████| 191/191 [07:45<00:00,  2.41s/it]\n",
      " evaluate on test set : 100%|██████████| 116/116 [00:02<00:00, 41.15it/s]\n",
      " evaluate on train set : 100%|██████████| 600/600 [00:12<00:00, 48.88it/s]\n",
      " evaluate on unlabel train set : 100%|██████████| 120/120 [00:02<00:00, 51.10it/s]\n"
     ]
    },
    {
     "name": "stdout",
     "output_type": "stream",
     "text": [
      "Saving checkpoint to checkpoints/epoch_20.bin\n"
     ]
    },
    {
     "name": "stderr",
     "output_type": "stream",
     "text": [
      " - epoch  21 train : 100%|██████████| 191/191 [07:46<00:00,  2.36s/it]\n",
      " evaluate on test set : 100%|██████████| 116/116 [00:02<00:00, 41.28it/s]\n",
      " evaluate on train set : 100%|██████████| 600/600 [00:12<00:00, 49.50it/s]\n",
      " evaluate on unlabel train set : 100%|██████████| 120/120 [00:02<00:00, 51.16it/s]\n",
      " - epoch  22 train : 100%|██████████| 191/191 [07:46<00:00,  2.37s/it]\n",
      " evaluate on test set : 100%|██████████| 116/116 [00:02<00:00, 41.11it/s]\n",
      " evaluate on train set : 100%|██████████| 600/600 [00:12<00:00, 49.37it/s]\n",
      " evaluate on unlabel train set : 100%|██████████| 120/120 [00:02<00:00, 50.96it/s]\n",
      " - epoch  23 train : 100%|██████████| 191/191 [07:46<00:00,  2.37s/it]\n",
      " evaluate on test set : 100%|██████████| 116/116 [00:02<00:00, 41.00it/s]\n",
      " evaluate on train set : 100%|██████████| 600/600 [00:12<00:00, 51.26it/s]\n",
      " evaluate on unlabel train set : 100%|██████████| 120/120 [00:02<00:00, 51.14it/s]\n",
      " - epoch  24 train : 100%|██████████| 191/191 [07:45<00:00,  2.35s/it]\n",
      " evaluate on test set : 100%|██████████| 116/116 [00:02<00:00, 39.62it/s]\n",
      " evaluate on train set : 100%|██████████| 600/600 [00:12<00:00, 51.08it/s]\n",
      " evaluate on unlabel train set : 100%|██████████| 120/120 [00:02<00:00, 51.24it/s]\n",
      " - epoch  25 train : 100%|██████████| 191/191 [07:45<00:00,  2.39s/it]\n",
      " evaluate on test set : 100%|██████████| 116/116 [00:02<00:00, 40.29it/s]\n",
      " evaluate on train set : 100%|██████████| 600/600 [00:12<00:00, 48.96it/s]\n",
      " evaluate on unlabel train set : 100%|██████████| 120/120 [00:02<00:00, 51.26it/s]\n",
      " - epoch  26 train : 100%|██████████| 191/191 [07:46<00:00,  2.37s/it]\n",
      " evaluate on test set : 100%|██████████| 116/116 [00:02<00:00, 41.19it/s]\n",
      " evaluate on train set : 100%|██████████| 600/600 [00:12<00:00, 49.00it/s]\n",
      " evaluate on unlabel train set : 100%|██████████| 120/120 [00:02<00:00, 49.54it/s]\n",
      " - epoch  27 train : 100%|██████████| 191/191 [07:46<00:00,  2.36s/it]\n",
      " evaluate on test set : 100%|██████████| 116/116 [00:02<00:00, 41.34it/s]\n",
      " evaluate on train set : 100%|██████████| 600/600 [00:12<00:00, 49.53it/s]\n",
      " evaluate on unlabel train set : 100%|██████████| 120/120 [00:02<00:00, 51.33it/s]\n",
      " - epoch  28 train : 100%|██████████| 191/191 [07:45<00:00,  2.29s/it]\n",
      " evaluate on test set : 100%|██████████| 116/116 [00:02<00:00, 41.20it/s]\n",
      " evaluate on train set : 100%|██████████| 600/600 [00:12<00:00, 48.93it/s]\n",
      " evaluate on unlabel train set : 100%|██████████| 120/120 [00:02<00:00, 51.21it/s]\n",
      " - epoch  29 train : 100%|██████████| 191/191 [07:45<00:00,  2.39s/it]\n",
      " evaluate on test set : 100%|██████████| 116/116 [00:02<00:00, 41.25it/s]\n",
      " evaluate on train set : 100%|██████████| 600/600 [00:12<00:00, 48.93it/s]\n",
      " evaluate on unlabel train set : 100%|██████████| 120/120 [00:02<00:00, 51.25it/s]\n",
      " - epoch  30 train : 100%|██████████| 191/191 [07:44<00:00,  2.39s/it]\n",
      " evaluate on test set : 100%|██████████| 116/116 [00:02<00:00, 41.21it/s]\n",
      " evaluate on train set : 100%|██████████| 600/600 [00:12<00:00, 49.49it/s]\n",
      " evaluate on unlabel train set : 100%|██████████| 120/120 [00:02<00:00, 51.28it/s]\n"
     ]
    },
    {
     "name": "stdout",
     "output_type": "stream",
     "text": [
      "Saving checkpoint to checkpoints/epoch_30.bin\n"
     ]
    },
    {
     "name": "stderr",
     "output_type": "stream",
     "text": [
      " - epoch  31 train : 100%|██████████| 191/191 [07:46<00:00,  2.38s/it]\n",
      " evaluate on test set : 100%|██████████| 116/116 [00:02<00:00, 40.72it/s]\n",
      " evaluate on train set : 100%|██████████| 600/600 [00:12<00:00, 49.15it/s]\n",
      " evaluate on unlabel train set : 100%|██████████| 120/120 [00:02<00:00, 51.09it/s]\n",
      " - epoch  32 train : 100%|██████████| 191/191 [07:46<00:00,  2.38s/it]\n",
      " evaluate on test set : 100%|██████████| 116/116 [00:02<00:00, 55.49it/s]\n",
      " evaluate on train set : 100%|██████████| 600/600 [00:12<00:00, 49.35it/s]\n",
      " evaluate on unlabel train set : 100%|██████████| 120/120 [00:02<00:00, 50.30it/s]\n",
      " - epoch  33 train : 100%|██████████| 191/191 [07:45<00:00,  2.37s/it]\n",
      " evaluate on test set : 100%|██████████| 116/116 [00:02<00:00, 56.41it/s]\n",
      " evaluate on train set : 100%|██████████| 600/600 [00:12<00:00, 49.16it/s]\n",
      " evaluate on unlabel train set : 100%|██████████| 120/120 [00:02<00:00, 50.31it/s]\n",
      " - epoch  34 train : 100%|██████████| 191/191 [07:46<00:00,  2.37s/it]\n",
      " evaluate on test set : 100%|██████████| 116/116 [00:02<00:00, 40.72it/s]\n",
      " evaluate on train set : 100%|██████████| 600/600 [00:12<00:00, 49.23it/s]\n",
      " evaluate on unlabel train set : 100%|██████████| 120/120 [00:02<00:00, 51.25it/s]\n",
      " - epoch  35 train : 100%|██████████| 191/191 [07:45<00:00,  2.36s/it]\n",
      " evaluate on test set : 100%|██████████| 116/116 [00:02<00:00, 40.08it/s]\n",
      " evaluate on train set : 100%|██████████| 600/600 [00:12<00:00, 49.43it/s]\n",
      " evaluate on unlabel train set : 100%|██████████| 120/120 [00:02<00:00, 50.48it/s]\n",
      " - epoch  36 train : 100%|██████████| 191/191 [07:46<00:00,  2.37s/it]\n",
      " evaluate on test set : 100%|██████████| 116/116 [00:02<00:00, 41.01it/s]\n",
      " evaluate on train set : 100%|██████████| 600/600 [00:12<00:00, 49.62it/s]\n",
      " evaluate on unlabel train set : 100%|██████████| 120/120 [00:02<00:00, 51.31it/s]\n",
      " - epoch  37 train : 100%|██████████| 191/191 [07:45<00:00,  2.35s/it]\n",
      " evaluate on test set : 100%|██████████| 116/116 [00:02<00:00, 40.97it/s]\n",
      " evaluate on train set : 100%|██████████| 600/600 [00:12<00:00, 49.23it/s]\n",
      " evaluate on unlabel train set : 100%|██████████| 120/120 [00:02<00:00, 51.34it/s]\n",
      " - epoch  38 train : 100%|██████████| 191/191 [07:46<00:00,  2.34s/it]\n",
      " evaluate on test set : 100%|██████████| 116/116 [00:02<00:00, 42.69it/s]\n",
      " evaluate on train set : 100%|██████████| 600/600 [00:12<00:00, 49.53it/s]\n",
      " evaluate on unlabel train set : 100%|██████████| 120/120 [00:02<00:00, 50.70it/s]\n",
      " - epoch  39 train : 100%|██████████| 191/191 [07:47<00:00,  2.37s/it]\n",
      " evaluate on test set : 100%|██████████| 116/116 [00:02<00:00, 40.43it/s]\n",
      " evaluate on train set : 100%|██████████| 600/600 [00:12<00:00, 49.14it/s]\n",
      " evaluate on unlabel train set : 100%|██████████| 120/120 [00:02<00:00, 50.01it/s]\n",
      " - epoch  40 train : 100%|██████████| 191/191 [07:46<00:00,  2.35s/it]\n",
      " evaluate on test set : 100%|██████████| 116/116 [00:02<00:00, 40.52it/s]\n",
      " evaluate on train set : 100%|██████████| 600/600 [00:12<00:00, 49.28it/s]\n",
      " evaluate on unlabel train set : 100%|██████████| 120/120 [00:02<00:00, 51.12it/s]\n"
     ]
    },
    {
     "name": "stdout",
     "output_type": "stream",
     "text": [
      "Saving checkpoint to checkpoints/epoch_40.bin\n"
     ]
    },
    {
     "name": "stderr",
     "output_type": "stream",
     "text": [
      " - epoch  41 train : 100%|██████████| 191/191 [07:45<00:00,  2.40s/it]\n",
      " evaluate on test set : 100%|██████████| 116/116 [00:02<00:00, 40.25it/s]\n",
      " evaluate on train set : 100%|██████████| 600/600 [00:12<00:00, 49.24it/s]\n",
      " evaluate on unlabel train set : 100%|██████████| 120/120 [00:02<00:00, 51.19it/s]\n",
      " - epoch  42 train : 100%|██████████| 191/191 [07:45<00:00,  2.37s/it]\n",
      " evaluate on test set : 100%|██████████| 116/116 [00:02<00:00, 40.97it/s]\n",
      " evaluate on train set : 100%|██████████| 600/600 [00:12<00:00, 49.41it/s]\n",
      " evaluate on unlabel train set : 100%|██████████| 120/120 [00:02<00:00, 51.13it/s]\n",
      " - epoch  43 train : 100%|██████████| 191/191 [07:46<00:00,  2.36s/it]\n",
      " evaluate on test set : 100%|██████████| 116/116 [00:02<00:00, 55.78it/s]\n",
      " evaluate on train set : 100%|██████████| 600/600 [00:12<00:00, 51.26it/s]\n",
      " evaluate on unlabel train set : 100%|██████████| 120/120 [00:02<00:00, 51.20it/s]\n",
      " - epoch  44 train : 100%|██████████| 191/191 [07:46<00:00,  2.37s/it]\n",
      " evaluate on test set : 100%|██████████| 116/116 [00:02<00:00, 41.10it/s]\n",
      " evaluate on train set : 100%|██████████| 600/600 [00:12<00:00, 49.62it/s]\n",
      " evaluate on unlabel train set : 100%|██████████| 120/120 [00:02<00:00, 51.35it/s]\n",
      " - epoch  45 train : 100%|██████████| 191/191 [07:45<00:00,  2.35s/it]\n",
      " evaluate on test set : 100%|██████████| 116/116 [00:02<00:00, 40.11it/s]\n",
      " evaluate on train set : 100%|██████████| 600/600 [00:12<00:00, 49.18it/s]\n",
      " evaluate on unlabel train set : 100%|██████████| 120/120 [00:02<00:00, 51.44it/s]\n",
      " - epoch  46 train : 100%|██████████| 191/191 [07:45<00:00,  2.36s/it]\n",
      " evaluate on test set : 100%|██████████| 116/116 [00:02<00:00, 41.04it/s]\n",
      " evaluate on train set : 100%|██████████| 600/600 [00:12<00:00, 49.37it/s]\n",
      " evaluate on unlabel train set : 100%|██████████| 120/120 [00:02<00:00, 51.31it/s]\n",
      " - epoch  47 train : 100%|██████████| 191/191 [07:45<00:00,  2.33s/it]\n",
      " evaluate on test set : 100%|██████████| 116/116 [00:02<00:00, 39.98it/s]\n",
      " evaluate on train set : 100%|██████████| 600/600 [00:12<00:00, 48.96it/s]\n",
      " evaluate on unlabel train set : 100%|██████████| 120/120 [00:02<00:00, 51.41it/s]\n",
      " - epoch  48 train : 100%|██████████| 191/191 [07:45<00:00,  2.37s/it]\n",
      " evaluate on test set : 100%|██████████| 116/116 [00:02<00:00, 39.93it/s]\n",
      " evaluate on train set : 100%|██████████| 600/600 [00:12<00:00, 51.43it/s]\n",
      " evaluate on unlabel train set : 100%|██████████| 120/120 [00:02<00:00, 49.49it/s]\n",
      " - epoch  49 train : 100%|██████████| 191/191 [07:45<00:00,  2.35s/it]\n",
      " evaluate on test set : 100%|██████████| 116/116 [00:02<00:00, 41.12it/s]\n",
      " evaluate on train set : 100%|██████████| 600/600 [00:12<00:00, 49.26it/s]\n",
      " evaluate on unlabel train set : 100%|██████████| 120/120 [00:02<00:00, 51.24it/s]\n",
      " - epoch  50 train : 100%|██████████| 191/191 [07:45<00:00,  2.34s/it]\n",
      " evaluate on test set : 100%|██████████| 116/116 [00:02<00:00, 56.30it/s]\n",
      " evaluate on train set : 100%|██████████| 600/600 [00:12<00:00, 51.43it/s]\n",
      " evaluate on unlabel train set : 100%|██████████| 120/120 [00:02<00:00, 51.18it/s]\n"
     ]
    },
    {
     "name": "stdout",
     "output_type": "stream",
     "text": [
      "Saving checkpoint to checkpoints/epoch_50.bin\n"
     ]
    },
    {
     "name": "stderr",
     "output_type": "stream",
     "text": [
      " - epoch  51 train : 100%|██████████| 191/191 [07:45<00:00,  2.34s/it]\n",
      " evaluate on test set : 100%|██████████| 116/116 [00:02<00:00, 41.11it/s]\n",
      " evaluate on train set : 100%|██████████| 600/600 [00:12<00:00, 48.79it/s]\n",
      " evaluate on unlabel train set : 100%|██████████| 120/120 [00:02<00:00, 50.26it/s]\n",
      " - epoch  52 train : 100%|██████████| 191/191 [07:45<00:00,  2.40s/it]\n",
      " evaluate on test set : 100%|██████████| 116/116 [00:02<00:00, 41.07it/s]\n",
      " evaluate on train set : 100%|██████████| 600/600 [00:12<00:00, 49.51it/s]\n",
      " evaluate on unlabel train set : 100%|██████████| 120/120 [00:02<00:00, 51.13it/s]\n",
      " - epoch  53 train : 100%|██████████| 191/191 [07:44<00:00,  2.39s/it]\n",
      " evaluate on test set : 100%|██████████| 116/116 [00:02<00:00, 40.15it/s]\n",
      " evaluate on train set : 100%|██████████| 600/600 [00:12<00:00, 49.15it/s]\n",
      " evaluate on unlabel train set : 100%|██████████| 120/120 [00:02<00:00, 49.87it/s]\n",
      " - epoch  54 train : 100%|██████████| 191/191 [07:45<00:00,  2.36s/it]\n",
      " evaluate on test set : 100%|██████████| 116/116 [00:02<00:00, 40.46it/s]\n",
      " evaluate on train set : 100%|██████████| 600/600 [00:12<00:00, 46.91it/s]\n",
      " evaluate on unlabel train set : 100%|██████████| 120/120 [00:02<00:00, 51.13it/s]\n",
      " - epoch  55 train : 100%|██████████| 191/191 [07:45<00:00,  2.35s/it]\n",
      " evaluate on test set : 100%|██████████| 116/116 [00:02<00:00, 41.27it/s]\n",
      " evaluate on train set : 100%|██████████| 600/600 [00:12<00:00, 49.04it/s]\n",
      " evaluate on unlabel train set : 100%|██████████| 120/120 [00:02<00:00, 49.71it/s]\n",
      " - epoch  56 train : 100%|██████████| 191/191 [07:45<00:00,  2.34s/it]\n",
      " evaluate on test set : 100%|██████████| 116/116 [00:02<00:00, 41.15it/s]\n",
      " evaluate on train set : 100%|██████████| 600/600 [00:12<00:00, 49.46it/s]\n",
      " evaluate on unlabel train set : 100%|██████████| 120/120 [00:02<00:00, 51.34it/s]\n",
      " - epoch  57 train : 100%|██████████| 191/191 [07:45<00:00,  2.30s/it]\n",
      " evaluate on test set : 100%|██████████| 116/116 [00:02<00:00, 41.35it/s]\n",
      " evaluate on train set : 100%|██████████| 600/600 [00:12<00:00, 49.06it/s]\n",
      " evaluate on unlabel train set : 100%|██████████| 120/120 [00:02<00:00, 51.32it/s]\n",
      " - epoch  58 train : 100%|██████████| 191/191 [07:46<00:00,  2.40s/it]\n",
      " evaluate on test set : 100%|██████████| 116/116 [00:02<00:00, 41.29it/s]\n",
      " evaluate on train set : 100%|██████████| 600/600 [00:12<00:00, 49.35it/s]\n",
      " evaluate on unlabel train set : 100%|██████████| 120/120 [00:02<00:00, 51.27it/s]\n",
      " - epoch  59 train : 100%|██████████| 191/191 [07:45<00:00,  2.35s/it]\n",
      " evaluate on test set : 100%|██████████| 116/116 [00:02<00:00, 40.65it/s]\n",
      " evaluate on train set : 100%|██████████| 600/600 [00:12<00:00, 49.00it/s]\n",
      " evaluate on unlabel train set : 100%|██████████| 120/120 [00:02<00:00, 49.62it/s]\n",
      " - epoch  60 train : 100%|██████████| 191/191 [07:44<00:00,  2.37s/it]\n",
      " evaluate on test set : 100%|██████████| 116/116 [00:02<00:00, 40.62it/s]\n",
      " evaluate on train set : 100%|██████████| 600/600 [00:12<00:00, 49.37it/s]\n",
      " evaluate on unlabel train set : 100%|██████████| 120/120 [00:02<00:00, 51.15it/s]\n"
     ]
    },
    {
     "name": "stdout",
     "output_type": "stream",
     "text": [
      "Saving checkpoint to checkpoints/epoch_60.bin\n"
     ]
    },
    {
     "name": "stderr",
     "output_type": "stream",
     "text": [
      " - epoch  61 train : 100%|██████████| 191/191 [07:45<00:00,  2.38s/it]\n",
      " evaluate on test set : 100%|██████████| 116/116 [00:02<00:00, 40.76it/s]\n",
      " evaluate on train set : 100%|██████████| 600/600 [00:12<00:00, 49.36it/s]\n",
      " evaluate on unlabel train set : 100%|██████████| 120/120 [00:02<00:00, 51.32it/s]\n",
      " - epoch  62 train : 100%|██████████| 191/191 [07:45<00:00,  2.37s/it]\n",
      " evaluate on test set : 100%|██████████| 116/116 [00:02<00:00, 40.41it/s]\n",
      " evaluate on train set : 100%|██████████| 600/600 [00:12<00:00, 49.32it/s]\n",
      " evaluate on unlabel train set : 100%|██████████| 120/120 [00:02<00:00, 50.71it/s]\n",
      " - epoch  63 train : 100%|██████████| 191/191 [07:45<00:00,  2.37s/it]\n",
      " evaluate on test set : 100%|██████████| 116/116 [00:02<00:00, 40.67it/s]\n",
      " evaluate on train set : 100%|██████████| 600/600 [00:12<00:00, 48.72it/s]\n",
      " evaluate on unlabel train set : 100%|██████████| 120/120 [00:02<00:00, 51.28it/s]\n",
      " - epoch  64 train : 100%|██████████| 191/191 [07:44<00:00,  2.32s/it]\n",
      " evaluate on test set : 100%|██████████| 116/116 [00:02<00:00, 39.48it/s]\n",
      " evaluate on train set : 100%|██████████| 600/600 [00:12<00:00, 49.33it/s]\n",
      " evaluate on unlabel train set : 100%|██████████| 120/120 [00:02<00:00, 49.71it/s]\n",
      " - epoch  65 train : 100%|██████████| 191/191 [07:45<00:00,  2.37s/it]\n",
      " evaluate on test set : 100%|██████████| 116/116 [00:02<00:00, 41.35it/s]\n",
      " evaluate on train set : 100%|██████████| 600/600 [00:12<00:00, 48.95it/s]\n",
      " evaluate on unlabel train set : 100%|██████████| 120/120 [00:02<00:00, 51.25it/s]\n",
      " - epoch  66 train : 100%|██████████| 191/191 [07:45<00:00,  2.33s/it]\n",
      " evaluate on test set : 100%|██████████| 116/116 [00:02<00:00, 40.49it/s]\n",
      " evaluate on train set : 100%|██████████| 600/600 [00:12<00:00, 49.03it/s]\n",
      " evaluate on unlabel train set : 100%|██████████| 120/120 [00:02<00:00, 51.19it/s]\n",
      " - epoch  67 train : 100%|██████████| 191/191 [07:45<00:00,  2.27s/it]\n",
      " evaluate on test set : 100%|██████████| 116/116 [00:02<00:00, 40.61it/s]\n",
      " evaluate on train set : 100%|██████████| 600/600 [00:12<00:00, 49.17it/s]\n",
      " evaluate on unlabel train set : 100%|██████████| 120/120 [00:02<00:00, 50.02it/s]\n",
      " - epoch  68 train : 100%|██████████| 191/191 [07:46<00:00,  2.35s/it]\n",
      " evaluate on test set : 100%|██████████| 116/116 [00:02<00:00, 40.54it/s]\n",
      " evaluate on train set : 100%|██████████| 600/600 [00:12<00:00, 49.42it/s]\n",
      " evaluate on unlabel train set : 100%|██████████| 120/120 [00:02<00:00, 50.49it/s]\n",
      " - epoch  69 train : 100%|██████████| 191/191 [07:47<00:00,  2.39s/it]\n",
      " evaluate on test set : 100%|██████████| 116/116 [00:02<00:00, 40.55it/s]\n",
      " evaluate on train set : 100%|██████████| 600/600 [00:12<00:00, 49.38it/s]\n",
      " evaluate on unlabel train set : 100%|██████████| 120/120 [00:02<00:00, 51.11it/s]\n",
      " - epoch  70 train : 100%|██████████| 191/191 [07:47<00:00,  2.38s/it]\n",
      " evaluate on test set : 100%|██████████| 116/116 [00:02<00:00, 41.20it/s]\n",
      " evaluate on train set : 100%|██████████| 600/600 [00:12<00:00, 48.74it/s]\n",
      " evaluate on unlabel train set : 100%|██████████| 120/120 [00:02<00:00, 51.18it/s]\n"
     ]
    },
    {
     "name": "stdout",
     "output_type": "stream",
     "text": [
      "Saving checkpoint to checkpoints/epoch_70.bin\n"
     ]
    },
    {
     "name": "stderr",
     "output_type": "stream",
     "text": [
      " - epoch  71 train : 100%|██████████| 191/191 [07:46<00:00,  2.41s/it]\n",
      " evaluate on test set : 100%|██████████| 116/116 [00:02<00:00, 41.22it/s]\n",
      " evaluate on train set : 100%|██████████| 600/600 [00:12<00:00, 49.00it/s]\n",
      " evaluate on unlabel train set : 100%|██████████| 120/120 [00:02<00:00, 50.01it/s]\n",
      " - epoch  72 train : 100%|██████████| 191/191 [07:45<00:00,  2.38s/it]\n",
      " evaluate on test set : 100%|██████████| 116/116 [00:02<00:00, 41.25it/s]\n",
      " evaluate on train set : 100%|██████████| 600/600 [00:12<00:00, 49.07it/s]\n",
      " evaluate on unlabel train set : 100%|██████████| 120/120 [00:02<00:00, 51.30it/s]\n",
      " - epoch  73 train : 100%|██████████| 191/191 [07:45<00:00,  2.38s/it]\n",
      " evaluate on test set : 100%|██████████| 116/116 [00:02<00:00, 40.39it/s]\n",
      " evaluate on train set : 100%|██████████| 600/600 [00:12<00:00, 48.99it/s]\n",
      " evaluate on unlabel train set : 100%|██████████| 120/120 [00:02<00:00, 51.27it/s]\n",
      " - epoch  74 train : 100%|██████████| 191/191 [07:44<00:00,  2.35s/it]\n",
      " evaluate on test set : 100%|██████████| 116/116 [00:02<00:00, 41.17it/s]\n",
      " evaluate on train set : 100%|██████████| 600/600 [00:12<00:00, 48.94it/s]\n",
      " evaluate on unlabel train set : 100%|██████████| 120/120 [00:02<00:00, 51.10it/s]\n",
      " - epoch  75 train : 100%|██████████| 191/191 [07:44<00:00,  2.38s/it]\n",
      " evaluate on test set : 100%|██████████| 116/116 [00:02<00:00, 40.87it/s]\n",
      " evaluate on train set : 100%|██████████| 600/600 [00:12<00:00, 49.45it/s]\n",
      " evaluate on unlabel train set : 100%|██████████| 120/120 [00:02<00:00, 51.37it/s]\n",
      " - epoch  76 train : 100%|██████████| 191/191 [07:45<00:00,  2.32s/it]\n",
      " evaluate on test set : 100%|██████████| 116/116 [00:02<00:00, 40.59it/s]\n",
      " evaluate on train set : 100%|██████████| 600/600 [00:12<00:00, 50.38it/s]\n",
      " evaluate on unlabel train set : 100%|██████████| 120/120 [00:02<00:00, 51.26it/s]\n",
      " - epoch  77 train : 100%|██████████| 191/191 [07:45<00:00,  2.35s/it]\n",
      " evaluate on test set : 100%|██████████| 116/116 [00:02<00:00, 43.41it/s]\n",
      " evaluate on train set : 100%|██████████| 600/600 [00:12<00:00, 49.31it/s]\n",
      " evaluate on unlabel train set : 100%|██████████| 120/120 [00:02<00:00, 51.06it/s]\n",
      " - epoch  78 train : 100%|██████████| 191/191 [07:46<00:00,  2.37s/it]\n",
      " evaluate on test set : 100%|██████████| 116/116 [00:02<00:00, 41.21it/s]\n",
      " evaluate on train set : 100%|██████████| 600/600 [00:12<00:00, 49.15it/s]\n",
      " evaluate on unlabel train set : 100%|██████████| 120/120 [00:02<00:00, 49.62it/s]\n",
      " - epoch  79 train : 100%|██████████| 191/191 [07:45<00:00,  2.37s/it]\n",
      " evaluate on test set : 100%|██████████| 116/116 [00:02<00:00, 40.90it/s]\n",
      " evaluate on train set : 100%|██████████| 600/600 [00:12<00:00, 49.00it/s]\n",
      " evaluate on unlabel train set : 100%|██████████| 120/120 [00:02<00:00, 49.64it/s]\n",
      " - epoch  80 train : 100%|██████████| 191/191 [07:44<00:00,  2.38s/it]\n",
      " evaluate on test set : 100%|██████████| 116/116 [00:02<00:00, 41.09it/s]\n",
      " evaluate on train set : 100%|██████████| 600/600 [00:12<00:00, 48.96it/s]\n",
      " evaluate on unlabel train set : 100%|██████████| 120/120 [00:02<00:00, 51.23it/s]\n"
     ]
    },
    {
     "name": "stdout",
     "output_type": "stream",
     "text": [
      "Saving checkpoint to checkpoints/epoch_80.bin\n"
     ]
    },
    {
     "name": "stderr",
     "output_type": "stream",
     "text": [
      " - epoch  81 train : 100%|██████████| 191/191 [07:44<00:00,  2.34s/it]\n",
      " evaluate on test set : 100%|██████████| 116/116 [00:02<00:00, 40.87it/s]\n",
      " evaluate on train set : 100%|██████████| 600/600 [00:12<00:00, 49.07it/s]\n",
      " evaluate on unlabel train set : 100%|██████████| 120/120 [00:02<00:00, 51.22it/s]\n",
      " - epoch  82 train : 100%|██████████| 191/191 [07:45<00:00,  2.36s/it]\n",
      " evaluate on test set : 100%|██████████| 116/116 [00:02<00:00, 41.04it/s]\n",
      " evaluate on train set : 100%|██████████| 600/600 [00:12<00:00, 49.35it/s]\n",
      " evaluate on unlabel train set : 100%|██████████| 120/120 [00:02<00:00, 49.45it/s]\n",
      " - epoch  83 train : 100%|██████████| 191/191 [07:45<00:00,  2.37s/it]\n",
      " evaluate on test set : 100%|██████████| 116/116 [00:02<00:00, 41.27it/s]\n",
      " evaluate on train set : 100%|██████████| 600/600 [00:12<00:00, 51.35it/s]\n",
      " evaluate on unlabel train set : 100%|██████████| 120/120 [00:02<00:00, 51.34it/s]\n",
      " - epoch  84 train : 100%|██████████| 191/191 [07:45<00:00,  2.38s/it]\n",
      " evaluate on test set : 100%|██████████| 116/116 [00:02<00:00, 40.19it/s]\n",
      " evaluate on train set : 100%|██████████| 600/600 [00:12<00:00, 51.40it/s]\n",
      " evaluate on unlabel train set : 100%|██████████| 120/120 [00:02<00:00, 50.10it/s]\n",
      " - epoch  85 train : 100%|██████████| 191/191 [07:45<00:00,  2.38s/it]\n",
      " evaluate on test set : 100%|██████████| 116/116 [00:02<00:00, 41.30it/s]\n",
      " evaluate on train set : 100%|██████████| 600/600 [00:12<00:00, 48.91it/s]\n",
      " evaluate on unlabel train set : 100%|██████████| 120/120 [00:02<00:00, 49.75it/s]\n",
      " - epoch  86 train : 100%|██████████| 191/191 [07:45<00:00,  2.32s/it]\n",
      " evaluate on test set : 100%|██████████| 116/116 [00:02<00:00, 41.44it/s]\n",
      " evaluate on train set : 100%|██████████| 600/600 [00:12<00:00, 51.68it/s]\n",
      " evaluate on unlabel train set : 100%|██████████| 120/120 [00:02<00:00, 50.61it/s]\n",
      " - epoch  87 train : 100%|██████████| 191/191 [07:45<00:00,  2.36s/it]\n",
      " evaluate on test set : 100%|██████████| 116/116 [00:02<00:00, 40.24it/s]\n",
      " evaluate on train set : 100%|██████████| 600/600 [00:12<00:00, 49.11it/s]\n",
      " evaluate on unlabel train set : 100%|██████████| 120/120 [00:02<00:00, 51.35it/s]\n",
      " - epoch  88 train : 100%|██████████| 191/191 [07:45<00:00,  2.36s/it]\n",
      " evaluate on test set : 100%|██████████| 116/116 [00:02<00:00, 40.31it/s]\n",
      " evaluate on train set : 100%|██████████| 600/600 [00:12<00:00, 49.19it/s]\n",
      " evaluate on unlabel train set : 100%|██████████| 120/120 [00:02<00:00, 51.33it/s]\n",
      " - epoch  89 train : 100%|██████████| 191/191 [07:45<00:00,  2.37s/it]\n",
      " evaluate on test set : 100%|██████████| 116/116 [00:02<00:00, 41.07it/s]\n",
      " evaluate on train set : 100%|██████████| 600/600 [00:12<00:00, 48.90it/s]\n",
      " evaluate on unlabel train set : 100%|██████████| 120/120 [00:02<00:00, 51.18it/s]\n",
      " - epoch  90 train : 100%|██████████| 191/191 [07:45<00:00,  2.37s/it]\n",
      " evaluate on test set : 100%|██████████| 116/116 [00:02<00:00, 39.63it/s]\n",
      " evaluate on train set : 100%|██████████| 600/600 [00:12<00:00, 49.29it/s]\n",
      " evaluate on unlabel train set : 100%|██████████| 120/120 [00:02<00:00, 49.73it/s]\n"
     ]
    },
    {
     "name": "stdout",
     "output_type": "stream",
     "text": [
      "Saving checkpoint to checkpoints/epoch_90.bin\n"
     ]
    },
    {
     "name": "stderr",
     "output_type": "stream",
     "text": [
      " - epoch  91 train : 100%|██████████| 191/191 [07:46<00:00,  2.38s/it]\n",
      " evaluate on test set : 100%|██████████| 116/116 [00:02<00:00, 41.24it/s]\n",
      " evaluate on train set : 100%|██████████| 600/600 [00:12<00:00, 48.97it/s]\n",
      " evaluate on unlabel train set : 100%|██████████| 120/120 [00:02<00:00, 51.25it/s]\n",
      " - epoch  92 train : 100%|██████████| 191/191 [07:45<00:00,  2.39s/it]\n",
      " evaluate on test set : 100%|██████████| 116/116 [00:02<00:00, 40.33it/s]\n",
      " evaluate on train set : 100%|██████████| 600/600 [00:12<00:00, 49.42it/s]\n",
      " evaluate on unlabel train set : 100%|██████████| 120/120 [00:02<00:00, 50.50it/s]\n",
      " - epoch  93 train : 100%|██████████| 191/191 [07:45<00:00,  2.36s/it]\n",
      " evaluate on test set : 100%|██████████| 116/116 [00:02<00:00, 40.15it/s]\n",
      " evaluate on train set : 100%|██████████| 600/600 [00:12<00:00, 48.82it/s]\n",
      " evaluate on unlabel train set : 100%|██████████| 120/120 [00:02<00:00, 51.28it/s]\n",
      " - epoch  94 train : 100%|██████████| 191/191 [07:45<00:00,  2.37s/it]\n",
      " evaluate on test set : 100%|██████████| 116/116 [00:02<00:00, 39.93it/s]\n",
      " evaluate on train set : 100%|██████████| 600/600 [00:12<00:00, 49.27it/s]\n",
      " evaluate on unlabel train set : 100%|██████████| 120/120 [00:02<00:00, 50.00it/s]\n",
      " - epoch  95 train : 100%|██████████| 191/191 [07:46<00:00,  2.37s/it]\n",
      " evaluate on test set : 100%|██████████| 116/116 [00:02<00:00, 41.10it/s]\n",
      " evaluate on train set : 100%|██████████| 600/600 [00:12<00:00, 48.89it/s]\n",
      " evaluate on unlabel train set : 100%|██████████| 120/120 [00:02<00:00, 49.70it/s]\n",
      " - epoch  96 train : 100%|██████████| 191/191 [07:45<00:00,  2.33s/it]\n",
      " evaluate on test set : 100%|██████████| 116/116 [00:02<00:00, 41.16it/s]\n",
      " evaluate on train set : 100%|██████████| 600/600 [00:12<00:00, 49.12it/s]\n",
      " evaluate on unlabel train set : 100%|██████████| 120/120 [00:02<00:00, 51.13it/s]\n",
      " - epoch  97 train : 100%|██████████| 191/191 [07:45<00:00,  2.37s/it]\n",
      " evaluate on test set : 100%|██████████| 116/116 [00:02<00:00, 40.79it/s]\n",
      " evaluate on train set : 100%|██████████| 600/600 [00:12<00:00, 49.35it/s]\n",
      " evaluate on unlabel train set : 100%|██████████| 120/120 [00:02<00:00, 51.24it/s]\n",
      " - epoch  98 train : 100%|██████████| 191/191 [07:46<00:00,  2.40s/it]\n",
      " evaluate on test set : 100%|██████████| 116/116 [00:02<00:00, 41.23it/s]\n",
      " evaluate on train set : 100%|██████████| 600/600 [00:12<00:00, 49.08it/s]\n",
      " evaluate on unlabel train set : 100%|██████████| 120/120 [00:02<00:00, 51.07it/s]\n",
      " - epoch  99 train : 100%|██████████| 191/191 [07:45<00:00,  2.37s/it]\n",
      " evaluate on test set : 100%|██████████| 116/116 [00:02<00:00, 41.19it/s]\n",
      " evaluate on train set : 100%|██████████| 600/600 [00:12<00:00, 49.12it/s]\n",
      " evaluate on unlabel train set : 100%|██████████| 120/120 [00:02<00:00, 50.98it/s]\n",
      " - epoch 100 train : 100%|██████████| 191/191 [07:45<00:00,  2.39s/it]\n",
      " evaluate on test set : 100%|██████████| 116/116 [00:02<00:00, 41.17it/s]\n",
      " evaluate on train set : 100%|██████████| 600/600 [00:12<00:00, 49.20it/s]\n",
      " evaluate on unlabel train set : 100%|██████████| 120/120 [00:02<00:00, 51.27it/s]\n"
     ]
    },
    {
     "name": "stdout",
     "output_type": "stream",
     "text": [
      "Saving checkpoint to checkpoints/epoch_100.bin\n"
     ]
    }
   ],
   "source": [
    "for epoch in range(start_epoch, epochs+1):\n",
    "    if epoch < warmup:\n",
    "        skip = True\n",
    "    else:\n",
    "        skip = False\n",
    "        \n",
    "    models, optimizer, train_losses = train(models, generators, optimizer, pad, skip, False, True, epoch)    \n",
    "    eval_losses = evaluate(models, generators, pad)\n",
    "    losses.update(train_losses, eval_losses)    \n",
    "    \n",
    "    # Decay learning rate exponentially\n",
    "    lr *= lr_decay\n",
    "    for param_group in optimizer.param_groups:\n",
    "        param_group['lr'] *= lr_decay\n",
    "\n",
    "    # Decay BatchNorm momentum\n",
    "    momentum = initial_momentum * np.exp(-epoch/epochs * np.log(initial_momentum/final_momentum))\n",
    "    models[\"model_pos_train\"].module.expand_bn.momentum = momentum\n",
    "    models[\"model_traj_train\"].module.expand_bn.momentum = momentum\n",
    "    # print(\" -- epoch {:3d} -- \".format(i))\n",
    "    \n",
    "    if epoch % save_freq == 0:\n",
    "        chk_path = os.path.join(checkpoint_folder, 'epoch_{}.bin'.format(epoch))\n",
    "        print('Saving checkpoint to', chk_path)\n",
    "        torch.save({\n",
    "                'epoch': epoch,\n",
    "                'lr': lr,\n",
    "                'random_state': generators[\"train_generator\"].random_state(),\n",
    "                'optimizer': optimizer.state_dict(),\n",
    "                'model_pos': states_convert(models[\"model_pos_train\"]),\n",
    "                'model_traj': states_convert(models[\"model_traj_train\"]),\n",
    "                'random_state_semi': generators[\"semi_generator\"].random_state(),\n",
    "            }, chk_path)"
   ]
  },
  {
   "cell_type": "code",
   "execution_count": 14,
   "metadata": {},
   "outputs": [
    {
     "data": {
      "image/png": "[encoded data removed]",
      "text/plain": [
       "<Figure size 1080x720 with 3 Axes>"
      ]
     },
     "metadata": {
      "needs_background": "light"
     },
     "output_type": "display_data"
    }
   ],
   "source": [
    "fig = losses.visualize(start_epoch, epoch)"
   ]
  }
 ],
 "metadata": {
  "kernelspec": {
   "display_name": "Python 3",
   "language": "python",
   "name": "python3"
  },
  "language_info": {
   "codemirror_mode": {
    "name": "ipython",
    "version": 3
   },
   "file_extension": ".py",
   "mimetype": "text/x-python",
   "name": "python",
   "nbconvert_exporter": "python",
   "pygments_lexer": "ipython3",
   "version": "3.5.2"
  }
 },
 "nbformat": 4,
 "nbformat_minor": 2
}
