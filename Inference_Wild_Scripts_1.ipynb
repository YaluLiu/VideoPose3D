{
 "cells": [
  {
   "cell_type": "code",
   "execution_count": 1,
   "metadata": {},
   "outputs": [
    {
     "data": {
      "text/html": [
       "        <script type=\"text/javascript\">\n",
       "        window.PlotlyConfig = {MathJaxConfig: 'local'};\n",
       "        if (window.MathJax) {MathJax.Hub.Config({SVG: {font: \"STIX-Web\"}});}\n",
       "        if (typeof require !== 'undefined') {\n",
       "        require.undef(\"plotly\");\n",
       "        requirejs.config({\n",
       "            paths: {\n",
       "                'plotly': ['https://cdn.plot.ly/plotly-latest.min']\n",
       "            }\n",
       "        });\n",
       "        require(['plotly'], function(Plotly) {\n",
       "            window._Plotly = Plotly;\n",
       "        });\n",
       "        }\n",
       "        </script>\n",
       "        "
      ]
     },
     "metadata": {},
     "output_type": "display_data"
    }
   ],
   "source": [
    "import time\n",
    "\n",
    "import torch\n",
    "\n",
    "import torch.nn as nn\n",
    "import torch.nn.functional as F\n",
    "import torch.optim as optim\n",
    "import os\n",
    "import sys\n",
    "import errno\n",
    "\n",
    "from common.camera import *\n",
    "from common.visualization import *\n",
    "from common.utils import *\n",
    "from common.generators import ChunkedGenerator, UnchunkedGenerator\n",
    "from common.h36m_dataset import Human36mDataset, preprocess_Human36m\n",
    "from common.visualization import *\n",
    "from common.model import *\n",
    "from common.xianhui_dataset import *\n",
    "import matplotlib\n",
    "import glob\n",
    "import plotly\n",
    "import json\n",
    "%matplotlib inline\n",
    "plotly.offline.init_notebook_mode(connected=True)\n",
    "\n",
    "from scripts.build_model import *\n",
    "from scripts.train import *\n",
    "from scripts.eval import *\n",
    "from scripts.data_preprocessing_cmu_mocap import *"
   ]
  },
  {
   "cell_type": "code",
   "execution_count": 2,
   "metadata": {},
   "outputs": [],
   "source": [
    "data_root_path = \"../wild_data_cmu/output_human/\" "
   ]
  },
  {
   "cell_type": "code",
   "execution_count": 3,
   "metadata": {},
   "outputs": [
    {
     "name": "stdout",
     "output_type": "stream",
     "text": [
      " load 3d data \n",
      " processing 3d data \n",
      " load 2d keypoints \n",
      " processing 2d keypoints \n"
     ]
    }
   ],
   "source": [
    "dataset, keypoints = load_and_preprocess_cmu_mocap(data_root_path)"
   ]
  },
  {
   "cell_type": "code",
   "execution_count": 4,
   "metadata": {},
   "outputs": [],
   "source": [
    "subjects = sorted(dataset.subjects())\n",
    "subjects_train = subjects[:1]\n",
    "subjects_semi = subjects[15:23]\n",
    "subjects_test = subjects[:10]"
   ]
  },
  {
   "cell_type": "code",
   "execution_count": 5,
   "metadata": {},
   "outputs": [],
   "source": [
    "cameras_valid, poses_valid, poses_valid_2d = fetch(dataset = dataset,\n",
    "                                                   keypoints = keypoints, \n",
    "                                                   subjects = subjects_test, \n",
    "                                                   stride = 1)\n",
    "\n",
    "cameras_train, poses_train, poses_train_2d = fetch(dataset = dataset,\n",
    "                                                   keypoints = keypoints, \n",
    "                                                   subjects = subjects_train, \n",
    "                                                   stride = 1)\n",
    "\n",
    "cameras_semi, _, poses_semi_2d = fetch(dataset = dataset,\n",
    "                                       keypoints = keypoints,\n",
    "                                       subjects = subjects_semi,\n",
    "                                       stride = 1)"
   ]
  },
  {
   "cell_type": "code",
   "execution_count": 6,
   "metadata": {},
   "outputs": [
    {
     "data": {
      "text/html": [
       "        <script type=\"text/javascript\">\n",
       "        window.PlotlyConfig = {MathJaxConfig: 'local'};\n",
       "        if (window.MathJax) {MathJax.Hub.Config({SVG: {font: \"STIX-Web\"}});}\n",
       "        if (typeof require !== 'undefined') {\n",
       "        require.undef(\"plotly\");\n",
       "        requirejs.config({\n",
       "            paths: {\n",
       "                'plotly': ['https://cdn.plot.ly/plotly-latest.min']\n",
       "            }\n",
       "        });\n",
       "        require(['plotly'], function(Plotly) {\n",
       "            window._Plotly = Plotly;\n",
       "        });\n",
       "        }\n",
       "        </script>\n",
       "        "
      ]
     },
     "metadata": {},
     "output_type": "display_data"
    }
   ],
   "source": [
    "import plotly\n",
    "plotly.offline.init_notebook_mode(connected=True)"
   ]
  },
  {
   "cell_type": "code",
   "execution_count": 7,
   "metadata": {},
   "outputs": [
    {
     "name": "stdout",
     "output_type": "stream",
     "text": [
      "Loading checkpoint checkpoints/epoch_80.bin\n",
      "This model was trained for 80 epochs\n"
     ]
    },
    {
     "data": {
      "text/plain": [
       "IncompatibleKeys(missing_keys=[], unexpected_keys=[])"
      ]
     },
     "execution_count": 7,
     "metadata": {},
     "output_type": "execute_result"
    }
   ],
   "source": [
    "resume = True\n",
    "filter_widths = [3,3,3,3,3]\n",
    "model_pos_train, model_pos, model_traj, model_traj_train = build_models(17, 2, 17, filter_widths)\n",
    "\n",
    "# chk_filename = \"../checkpoint/pretrained_h36m_cpn.bin\"\n",
    "chk_filename = \"checkpoints/epoch_80.bin\"\n",
    "print('Loading checkpoint', chk_filename)\n",
    "checkpoint = torch.load(chk_filename, map_location=lambda storage, loc: storage)\n",
    "print('This model was trained for {} epochs'.format(checkpoint['epoch']))\n",
    "model_pos_train.load_state_dict(checkpoint['model_pos'])\n",
    "model_pos.load_state_dict(checkpoint['model_pos'])\n",
    "model_traj_train.load_state_dict(checkpoint['model_traj'])\n",
    "model_traj.load_state_dict(checkpoint['model_traj'])"
   ]
  },
  {
   "cell_type": "code",
   "execution_count": 8,
   "metadata": {},
   "outputs": [
    {
     "name": "stdout",
     "output_type": "stream",
     "text": [
      "INFO: Receptive field: 243 frames\n"
     ]
    }
   ],
   "source": [
    "receptive_field = model_pos.receptive_field()\n",
    "print('INFO: Receptive field: {} frames'.format(receptive_field))\n",
    "pad = (receptive_field - 1) // 2 # Padding on each side"
   ]
  },
  {
   "cell_type": "code",
   "execution_count": 9,
   "metadata": {},
   "outputs": [],
   "source": [
    "batch_size = 10240\n",
    "train_generator = ChunkedGenerator(batch_size, cameras_train, poses_train, poses_train_2d, 1, pad=pad, causal_shift=0, shuffle=True, augment=False)"
   ]
  },
  {
   "cell_type": "code",
   "execution_count": 10,
   "metadata": {},
   "outputs": [],
   "source": [
    "test_generator = UnchunkedGenerator(cameras_valid[:1], \n",
    "                                    poses_valid[:1], \n",
    "                                    poses_valid_2d[:1], \n",
    "                                    pad=pad, \n",
    "                                    causal_shift=0, \n",
    "                                    augment=False)"
   ]
  },
  {
   "cell_type": "code",
   "execution_count": 11,
   "metadata": {},
   "outputs": [],
   "source": [
    "# def camera2screen_self(input_3d_cam, cam, w=640, h=480):\n",
    "#     batch_size, nframe, njoints, nchannel = inputs_3d.shape\n",
    "#     input_3d_cam_total = input_3d_cam.reshape(batch_size, nframe * njoints, nchannel)\n",
    "#     cam = cam.reshape(batch_size, 3, 3).transpose(1,2)\n",
    "#     # projection\n",
    "#     proj_2d_screen = torch.matmul(input_3d_cam_total, cam)\n",
    "#     proj_2d_screen[:,:,0] /= proj_2d_screen[:,:,2]\n",
    "#     proj_2d_screen[:,:,1] /= proj_2d_screen[:,:,2]\n",
    "#     proj_2d_screen = proj_2d_screen[:,:,:2].reshape(batch_size, nframe, njoints, 2)\n",
    "#     # normalization\n",
    "#     return normalize_screen_coordinates(proj_2d_screen[..., :2], w=w, h=h)"
   ]
  },
  {
   "cell_type": "code",
   "execution_count": 12,
   "metadata": {},
   "outputs": [
    {
     "name": "stdout",
     "output_type": "stream",
     "text": [
      "tensor(5.2395e-08, device='cuda:0')\n"
     ]
    }
   ],
   "source": [
    "dists = []\n",
    "for cam, batch, batch_2d in test_generator.next_epoch():\n",
    "    inputs_3d = torch.from_numpy(batch.astype('float32'))\n",
    "    inputs_2d = torch.from_numpy(batch_2d.astype('float32'))\n",
    "    cam = torch.from_numpy(cam.astype('float32'))\n",
    "\n",
    "    if torch.cuda.is_available():\n",
    "        cam = cam.cuda()\n",
    "        inputs_3d = inputs_3d.cuda()\n",
    "        inputs_2d = inputs_2d.cuda()\n",
    "\n",
    "    target = inputs_2d[:, pad:-pad, :, :2].contiguous()\n",
    "    \n",
    "    input_3d_cam = inputs_3d.clone()\n",
    "    trajectory = inputs_3d[:,:,:1,:]\n",
    "    input_3d_cam[:,:,1:,:] += trajectory\n",
    "\n",
    "    reproj_2d = camera2screen_self(input_3d_cam, cam, w = 640, h = 480)\n",
    "    dists.append(torch.norm(trajectory, dim=3).cpu().numpy().reshape(-1))\n",
    "    print(mpjpe(target, reproj_2d))\n",
    "    break"
   ]
  },
  {
   "cell_type": "code",
   "execution_count": 13,
   "metadata": {},
   "outputs": [],
   "source": [
    "human36m_kpts_name = ['Pelvis', 'RHip', 'RKnee', 'RAnkle','LHip','LKnee',\n",
    "                      'LAnkle','Spine1','Neck', 'Head','Site','LShoulder',\n",
    "                      'LElbow','LWrist','RShoulder', 'RElbow','RWrist']"
   ]
  },
  {
   "cell_type": "code",
   "execution_count": 14,
   "metadata": {},
   "outputs": [],
   "source": [
    "pts_3d = batch[0].reshape(-1, 3)\n",
    "xmin = pts_3d[:,0].min()\n",
    "xmax = pts_3d[:,0].max()\n",
    "ymin = pts_3d[:,1].min()\n",
    "ymax = pts_3d[:,1].max()\n",
    "zmin = pts_3d[:,2].min()\n",
    "zmax = pts_3d[:,2].max()"
   ]
  },
  {
   "cell_type": "code",
   "execution_count": 15,
   "metadata": {},
   "outputs": [
    {
     "data": {
      "text/plain": [
       "tensor([[[ 9.9353],\n",
       "         [ 9.9351],\n",
       "         [ 9.9352],\n",
       "         ...,\n",
       "         [10.1099],\n",
       "         [10.1073],\n",
       "         [10.1042]]], device='cuda:0')"
      ]
     },
     "execution_count": 15,
     "metadata": {},
     "output_type": "execute_result"
    }
   ],
   "source": [
    "torch.norm(trajectory, dim=3)"
   ]
  },
  {
   "cell_type": "code",
   "execution_count": 16,
   "metadata": {},
   "outputs": [
    {
     "data": {
      "application/vnd.plotly.v1+json": {
       "config": {
        "linkText": "Export to plot.ly",
        "plotlyServerURL": "https://plot.ly",
        "responsive": true,
        "showLink": false
       },
       "data": [
        {
         "line": {
          "color": "red",
          "width": 5
         },
         "marker": {
          "color": "blue",
          "size": 2
         },
         "text": [
          "RHip"
         ],
         "type": "scatter3d",
         "uid": "50a4090e-bed7-4bd3-84aa-e40905f0b97c",
         "x": [
          -0.04161335266424013,
          -0.10456789807196559
         ],
         "y": [
          -0.1129214814534123,
          -0.9363594694242567
         ],
         "z": [
          -0.10264956827796112,
          -9.89050039882495
         ]
        },
        {
         "line": {
          "color": "red",
          "width": 5
         },
         "marker": {
          "color": "blue",
          "size": 2
         },
         "text": [
          "RKnee"
         ],
         "type": "scatter3d",
         "uid": "cf9c09d6-c7b6-4f53-83c3-1381bbccb7a4",
         "x": [
          -0.09689602959736435,
          -0.04161335266424013
         ],
         "y": [
          -0.6053635134977158,
          -0.1129214814534123
         ],
         "z": [
          -0.11006108352815502,
          -0.10264956827796112
         ]
        },
        {
         "line": {
          "color": "red",
          "width": 5
         },
         "marker": {
          "color": "blue",
          "size": 2
         },
         "text": [
          "RAnkle"
         ],
         "type": "scatter3d",
         "uid": "8ee47f9a-c106-4882-abbe-ff7a36f15c3a",
         "x": [
          0.10456789807196559,
          -0.09689602959736435
         ],
         "y": [
          -1.0636405305757433,
          -0.6053635134977158
         ],
         "z": [
          -0.10949960117505064,
          -0.11006108352815502
         ]
        },
        {
         "line": {
          "color": "black",
          "width": 5
         },
         "marker": {
          "color": "blue",
          "size": 2
         },
         "text": [
          "LHip"
         ],
         "type": "scatter3d",
         "uid": "9a751ced-fc2f-41e5-b3d5-c1be81724001",
         "x": [
          -0.06136136682368801,
          -0.10456789807196559
         ],
         "y": [
          -0.12861168424323033,
          -0.9363594694242567
         ],
         "z": [
          0.07345835378364995,
          -9.89050039882495
         ]
        },
        {
         "line": {
          "color": "black",
          "width": 5
         },
         "marker": {
          "color": "blue",
          "size": 2
         },
         "text": [
          "LKnee"
         ],
         "type": "scatter3d",
         "uid": "e4236848-eb6f-435c-845c-3b509d51ff0b",
         "x": [
          -0.10442779232638297,
          -0.06136136682368801
         ],
         "y": [
          -0.6037854784970356,
          -0.12861168424323033
         ],
         "z": [
          0.06555879346310967,
          0.07345835378364995
         ]
        },
        {
         "line": {
          "color": "black",
          "width": 5
         },
         "marker": {
          "color": "blue",
          "size": 2
         },
         "text": [
          "LAnkle"
         ],
         "type": "scatter3d",
         "uid": "e84cc6f1-d5b5-4c54-addb-ccfa41f4f200",
         "x": [
          0.09944522952446312,
          -0.10442779232638297
         ],
         "y": [
          -1.0595616405448778,
          -0.6037854784970356
         ],
         "z": [
          0.07691802117805047,
          0.06555879346310967
         ]
        },
        {
         "line": {
          "color": "black",
          "width": 5
         },
         "marker": {
          "color": "blue",
          "size": 2
         },
         "text": [
          "Spine1"
         ],
         "type": "scatter3d",
         "uid": "1c31154d-fabf-4010-8e07-7db430c879f7",
         "x": [
          -0.011001247963074695,
          -0.10456789807196559
         ],
         "y": [
          0.27185801889773575,
          -0.9363594694242567
         ],
         "z": [
          0.020326688214982624,
          -9.89050039882495
         ]
        },
        {
         "line": {
          "color": "black",
          "width": 5
         },
         "marker": {
          "color": "blue",
          "size": 2
         },
         "text": [
          "Neck"
         ],
         "type": "scatter3d",
         "uid": "d0e81e31-8bfb-45b4-a124-4244237dcde5",
         "x": [
          -0.019563723574876832,
          -0.011001247963074695
         ],
         "y": [
          0.5259484896285249,
          0.27185801889773575
         ],
         "z": [
          0.03125325884929886,
          0.020326688214982624
         ]
        },
        {
         "line": {
          "color": "black",
          "width": 5
         },
         "marker": {
          "color": "blue",
          "size": 2
         },
         "text": [
          "Head"
         ],
         "type": "scatter3d",
         "uid": "23bed790-0be6-4e32-926d-bf050575f6db",
         "x": [
          -0.021511809274798677,
          -0.019563723574876832
         ],
         "y": [
          0.6434687909414425,
          0.5259484896285249
         ],
         "z": [
          0.04074014214718247,
          0.03125325884929886
         ]
        },
        {
         "line": {
          "color": "black",
          "width": 5
         },
         "marker": {
          "color": "blue",
          "size": 2
         },
         "text": [
          "Site"
         ],
         "type": "scatter3d",
         "uid": "e7c6840d-a86d-485d-8b76-292b672453e4",
         "x": [
          -0.03695434176832216,
          -0.021511809274798677
         ],
         "y": [
          0.7605817573123892,
          0.6434687909414425
         ],
         "z": [
          0.04142265499688591,
          0.04074014214718247
         ]
        },
        {
         "line": {
          "color": "black",
          "width": 5
         },
         "marker": {
          "color": "blue",
          "size": 2
         },
         "text": [
          "LShoulder"
         ],
         "type": "scatter3d",
         "uid": "3bfb1788-4457-4127-9318-5c84cf107082",
         "x": [
          -0.005104091113605241,
          -0.019563723574876832
         ],
         "y": [
          0.487061874984823,
          0.5259484896285249
         ],
         "z": [
          0.25012858513129643,
          0.03125325884929886
         ]
        },
        {
         "line": {
          "color": "black",
          "width": 5
         },
         "marker": {
          "color": "blue",
          "size": 2
         },
         "text": [
          "LElbow"
         ],
         "type": "scatter3d",
         "uid": "1f423c64-8fd8-4935-857e-04f6067f1315",
         "x": [
          -0.06760370190261919,
          -0.005104091113605241
         ],
         "y": [
          -0.05800151593010572,
          0.487061874984823
         ],
         "z": [
          0.2733394984701718,
          0.25012858513129643
         ]
        },
        {
         "line": {
          "color": "black",
          "width": 5
         },
         "marker": {
          "color": "blue",
          "size": 2
         },
         "text": [
          "LWrist"
         ],
         "type": "scatter3d",
         "uid": "d18f91d9-a844-44f2-af7c-f65b4bfb6458",
         "x": [
          -0.11183880323530448,
          -0.06760370190261919
         ],
         "y": [
          -0.16495700117926804,
          -0.05800151593010572
         ],
         "z": [
          0.28268426886048736,
          0.2733394984701718
         ]
        },
        {
         "line": {
          "color": "red",
          "width": 5
         },
         "marker": {
          "color": "blue",
          "size": 2
         },
         "text": [
          "RShoulder"
         ],
         "type": "scatter3d",
         "uid": "7ffe41fd-c594-4ba0-8f97-8eec1dd40aca",
         "x": [
          0.0030008161448812076,
          -0.019563723574876832
         ],
         "y": [
          0.5046480377376783,
          0.5259484896285249
         ],
         "z": [
          -0.182904408163715,
          0.03125325884929886
         ]
        },
        {
         "line": {
          "color": "red",
          "width": 5
         },
         "marker": {
          "color": "blue",
          "size": 2
         },
         "text": [
          "RElbow"
         ],
         "type": "scatter3d",
         "uid": "87fee9d9-d364-428d-a1e9-6a1ef1f24289",
         "x": [
          -0.07045259016660002,
          0.0030008161448812076
         ],
         "y": [
          -0.05758789420182464,
          0.5046480377376783
         ],
         "z": [
          -0.22147052255055044,
          -0.182904408163715
         ]
        },
        {
         "line": {
          "color": "red",
          "width": 5
         },
         "marker": {
          "color": "blue",
          "size": 2
         },
         "text": [
          "RWrist"
         ],
         "type": "scatter3d",
         "uid": "e5fc7c6b-4606-4f4e-ae18-d4bbec611277",
         "x": [
          -0.11106804239743867,
          -0.07045259016660002
         ],
         "y": [
          -0.1641143939893117,
          -0.05758789420182464
         ],
         "z": [
          -0.23499485318503943,
          -0.22147052255055044
         ]
        },
        {
         "line": {
          "color": "#1f77b4",
          "width": 1
         },
         "marker": {
          "color": "#1f77b4",
          "size": 1
         },
         "type": "scatter3d",
         "uid": "0bf2052f-6a4c-4441-91fa-6e3a3c8f54c1",
         "x": [],
         "y": [],
         "z": []
        }
       ],
       "frames": [
        {
         "data": [
          {
           "line": {
            "color": "red",
            "width": 5
           },
           "marker": {
            "color": "blue",
            "size": 2
           },
           "text": [
            "RHip"
           ],
           "type": "scatter3d",
           "x": [
            -0.04161335266424013,
            -0.10456789807196559
           ],
           "y": [
            -0.1129214814534123,
            -0.9363594694242567
           ],
           "z": [
            -0.10264956827796112,
            -9.89050039882495
           ]
          },
          {
           "line": {
            "color": "red",
            "width": 5
           },
           "marker": {
            "color": "blue",
            "size": 2
           },
           "text": [
            "RKnee"
           ],
           "type": "scatter3d",
           "x": [
            -0.09689602959736435,
            -0.04161335266424013
           ],
           "y": [
            -0.6053635134977158,
            -0.1129214814534123
           ],
           "z": [
            -0.11006108352815502,
            -0.10264956827796112
           ]
          },
          {
           "line": {
            "color": "red",
            "width": 5
           },
           "marker": {
            "color": "blue",
            "size": 2
           },
           "text": [
            "RAnkle"
           ],
           "type": "scatter3d",
           "x": [
            0.10456789807196559,
            -0.09689602959736435
           ],
           "y": [
            -1.0636405305757433,
            -0.6053635134977158
           ],
           "z": [
            -0.10949960117505064,
            -0.11006108352815502
           ]
          },
          {
           "line": {
            "color": "black",
            "width": 5
           },
           "marker": {
            "color": "blue",
            "size": 2
           },
           "text": [
            "LHip"
           ],
           "type": "scatter3d",
           "x": [
            -0.06136136682368801,
            -0.10456789807196559
           ],
           "y": [
            -0.12861168424323033,
            -0.9363594694242567
           ],
           "z": [
            0.07345835378364995,
            -9.89050039882495
           ]
          },
          {
           "line": {
            "color": "black",
            "width": 5
           },
           "marker": {
            "color": "blue",
            "size": 2
           },
           "text": [
            "LKnee"
           ],
           "type": "scatter3d",
           "x": [
            -0.10442779232638297,
            -0.06136136682368801
           ],
           "y": [
            -0.6037854784970356,
            -0.12861168424323033
           ],
           "z": [
            0.06555879346310967,
            0.07345835378364995
           ]
          },
          {
           "line": {
            "color": "black",
            "width": 5
           },
           "marker": {
            "color": "blue",
            "size": 2
           },
           "text": [
            "LAnkle"
           ],
           "type": "scatter3d",
           "x": [
            0.09944522952446312,
            -0.10442779232638297
           ],
           "y": [
            -1.0595616405448778,
            -0.6037854784970356
           ],
           "z": [
            0.07691802117805047,
            0.06555879346310967
           ]
          },
          {
           "line": {
            "color": "black",
            "width": 5
           },
           "marker": {
            "color": "blue",
            "size": 2
           },
           "text": [
            "Spine1"
           ],
           "type": "scatter3d",
           "x": [
            -0.011001247963074695,
            -0.10456789807196559
           ],
           "y": [
            0.27185801889773575,
            -0.9363594694242567
           ],
           "z": [
            0.020326688214982624,
            -9.89050039882495
           ]
          },
          {
           "line": {
            "color": "black",
            "width": 5
           },
           "marker": {
            "color": "blue",
            "size": 2
           },
           "text": [
            "Neck"
           ],
           "type": "scatter3d",
           "x": [
            -0.019563723574876832,
            -0.011001247963074695
           ],
           "y": [
            0.5259484896285249,
            0.27185801889773575
           ],
           "z": [
            0.03125325884929886,
            0.020326688214982624
           ]
          },
          {
           "line": {
            "color": "black",
            "width": 5
           },
           "marker": {
            "color": "blue",
            "size": 2
           },
           "text": [
            "Head"
           ],
           "type": "scatter3d",
           "x": [
            -0.021511809274798677,
            -0.019563723574876832
           ],
           "y": [
            0.6434687909414425,
            0.5259484896285249
           ],
           "z": [
            0.04074014214718247,
            0.03125325884929886
           ]
          },
          {
           "line": {
            "color": "black",
            "width": 5
           },
           "marker": {
            "color": "blue",
            "size": 2
           },
           "text": [
            "Site"
           ],
           "type": "scatter3d",
           "x": [
            -0.03695434176832216,
            -0.021511809274798677
           ],
           "y": [
            0.7605817573123892,
            0.6434687909414425
           ],
           "z": [
            0.04142265499688591,
            0.04074014214718247
           ]
          },
          {
           "line": {
            "color": "black",
            "width": 5
           },
           "marker": {
            "color": "blue",
            "size": 2
           },
           "text": [
            "LShoulder"
           ],
           "type": "scatter3d",
           "x": [
            -0.005104091113605241,
            -0.019563723574876832
           ],
           "y": [
            0.487061874984823,
            0.5259484896285249
           ],
           "z": [
            0.25012858513129643,
            0.03125325884929886
           ]
          },
          {
           "line": {
            "color": "black",
            "width": 5
           },
           "marker": {
            "color": "blue",
            "size": 2
           },
           "text": [
            "LElbow"
           ],
           "type": "scatter3d",
           "x": [
            -0.06760370190261919,
            -0.005104091113605241
           ],
           "y": [
            -0.05800151593010572,
            0.487061874984823
           ],
           "z": [
            0.2733394984701718,
            0.25012858513129643
           ]
          },
          {
           "line": {
            "color": "black",
            "width": 5
           },
           "marker": {
            "color": "blue",
            "size": 2
           },
           "text": [
            "LWrist"
           ],
           "type": "scatter3d",
           "x": [
            -0.11183880323530448,
            -0.06760370190261919
           ],
           "y": [
            -0.16495700117926804,
            -0.05800151593010572
           ],
           "z": [
            0.28268426886048736,
            0.2733394984701718
           ]
          },
          {
           "line": {
            "color": "red",
            "width": 5
           },
           "marker": {
            "color": "blue",
            "size": 2
           },
           "text": [
            "RShoulder"
           ],
           "type": "scatter3d",
           "x": [
            0.0030008161448812076,
            -0.019563723574876832
           ],
           "y": [
            0.5046480377376783,
            0.5259484896285249
           ],
           "z": [
            -0.182904408163715,
            0.03125325884929886
           ]
          },
          {
           "line": {
            "color": "red",
            "width": 5
           },
           "marker": {
            "color": "blue",
            "size": 2
           },
           "text": [
            "RElbow"
           ],
           "type": "scatter3d",
           "x": [
            -0.07045259016660002,
            0.0030008161448812076
           ],
           "y": [
            -0.05758789420182464,
            0.5046480377376783
           ],
           "z": [
            -0.22147052255055044,
            -0.182904408163715
           ]
          },
          {
           "line": {
            "color": "red",
            "width": 5
           },
           "marker": {
            "color": "blue",
            "size": 2
           },
           "text": [
            "RWrist"
           ],
           "type": "scatter3d",
           "x": [
            -0.11106804239743867,
            -0.07045259016660002
           ],
           "y": [
            -0.1641143939893117,
            -0.05758789420182464
           ],
           "z": [
            -0.23499485318503943,
            -0.22147052255055044
           ]
          },
          {
           "line": {
            "color": "#1f77b4",
            "width": 1
           },
           "marker": {
            "color": "#1f77b4",
            "size": 1
           },
           "type": "scatter3d",
           "x": [],
           "y": [],
           "z": []
          }
         ],
         "name": "frame1"
        },
        {
         "data": [
          {
           "line": {
            "color": "red",
            "width": 5
           },
           "marker": {
            "color": "blue",
            "size": 2
           },
           "text": [
            "RHip"
           ],
           "type": "scatter3d",
           "x": [
            0.024308063432961782,
            0.07519876859470122
           ],
           "y": [
            -0.11006849744898739,
            -0.9168994694242565
           ],
           "z": [
            -0.1109680579387824,
            -9.781967065491616
           ]
          },
          {
           "line": {
            "color": "red",
            "width": 5
           },
           "marker": {
            "color": "blue",
            "size": 2
           },
           "text": [
            "RKnee"
           ],
           "type": "scatter3d",
           "x": [
            -0.03229100961384931,
            0.024308063432961782
           ],
           "y": [
            -0.597676893744147,
            -0.11006849744898739
           ],
           "z": [
            -0.17912124307215116,
            -0.1109680579387824
           ]
          },
          {
           "line": {
            "color": "red",
            "width": 5
           },
           "marker": {
            "color": "blue",
            "size": 2
           },
           "text": [
            "RAnkle"
           ],
           "type": "scatter3d",
           "x": [
            0.17914666032777005,
            -0.03229100961384931
           ],
           "y": [
            -1.0213248575039207,
            -0.597676893744147
           ],
           "z": [
            -0.016571655782065875,
            -0.17912124307215116
           ]
          },
          {
           "line": {
            "color": "black",
            "width": 5
           },
           "marker": {
            "color": "blue",
            "size": 2
           },
           "text": [
            "LHip"
           ],
           "type": "scatter3d",
           "x": [
            -0.08027639238265655,
            0.07519876859470122
           ],
           "y": [
            -0.13533149199650585,
            -0.9168994694242565
           ],
           "z": [
            0.030714825459069672,
            -9.781967065491616
           ]
          },
          {
           "line": {
            "color": "black",
            "width": 5
           },
           "marker": {
            "color": "blue",
            "size": 2
           },
           "text": [
            "LKnee"
           ],
           "type": "scatter3d",
           "x": [
            -0.17546001949148254,
            -0.08027639238265655
           ],
           "y": [
            -0.5965674965421015,
            -0.13533149199650585
           ],
           "z": [
            -0.04615311353774665,
            0.030714825459069672
           ]
          },
          {
           "line": {
            "color": "black",
            "width": 5
           },
           "marker": {
            "color": "blue",
            "size": 2
           },
           "text": [
            "LAnkle"
           ],
           "type": "scatter3d",
           "x": [
            -0.06073894181689592,
            -0.17546001949148254
           ],
           "y": [
            -1.0821334028480376,
            -0.5965674965421015
           ],
           "z": [
            -0.024017713057681078,
            -0.04615311353774665
           ]
          },
          {
           "line": {
            "color": "black",
            "width": 5
           },
           "marker": {
            "color": "blue",
            "size": 2
           },
           "text": [
            "Spine1"
           ],
           "type": "scatter3d",
           "x": [
            -0.08293097010070578,
            0.07519876859470122
           ],
           "y": [
            0.2595035048112013,
            -0.9168994694242565
           ],
           "z": [
            0.004447105335234625,
            -9.781967065491616
           ]
          },
          {
           "line": {
            "color": "black",
            "width": 5
           },
           "marker": {
            "color": "blue",
            "size": 2
           },
           "text": [
            "Neck"
           ],
           "type": "scatter3d",
           "x": [
            -0.1759142874261343,
            -0.08293097010070578
           ],
           "y": [
            0.49431395306053516,
            0.2595035048112013
           ],
           "z": [
            -0.01691839355690483,
            0.004447105335234625
           ]
          },
          {
           "line": {
            "color": "black",
            "width": 5
           },
           "marker": {
            "color": "blue",
            "size": 2
           },
           "text": [
            "Head"
           ],
           "type": "scatter3d",
           "x": [
            -0.19768121614566947,
            -0.1759142874261343
           ],
           "y": [
            0.6073854501125178,
            0.49431395306053516
           ],
           "z": [
            -0.04233206274935064,
            -0.01691839355690483
           ]
          },
          {
           "line": {
            "color": "black",
            "width": 5
           },
           "marker": {
            "color": "blue",
            "size": 2
           },
           "text": [
            "Site"
           ],
           "type": "scatter3d",
           "x": [
            -0.19954265938866012,
            -0.19768121614566947
           ],
           "y": [
            0.7173601816041821,
            0.6073854501125178
           ],
           "z": [
            -0.08541892836052511,
            -0.04233206274935064
           ]
          },
          {
           "line": {
            "color": "black",
            "width": 5
           },
           "marker": {
            "color": "blue",
            "size": 2
           },
           "text": [
            "LShoulder"
           ],
           "type": "scatter3d",
           "x": [
            -0.26649597006313297,
            -0.1759142874261343
           ],
           "y": [
            0.45338251956583275,
            0.49431395306053516
           ],
           "z": [
            0.17139382254333668,
            -0.01691839355690483
           ]
          },
          {
           "line": {
            "color": "black",
            "width": 5
           },
           "marker": {
            "color": "blue",
            "size": 2
           },
           "text": [
            "LElbow"
           ],
           "type": "scatter3d",
           "x": [
            -0.27689500558141994,
            -0.26649597006313297
           ],
           "y": [
            -0.09822956725193133,
            0.45338251956583275
           ],
           "z": [
            0.207131405488866,
            0.17139382254333668
           ]
          },
          {
           "line": {
            "color": "black",
            "width": 5
           },
           "marker": {
            "color": "blue",
            "size": 2
           },
           "text": [
            "LWrist"
           ],
           "type": "scatter3d",
           "x": [
            -0.3040636597049789,
            -0.27689500558141994
           ],
           "y": [
            -0.2110086764040091,
            -0.09822956725193133
           ],
           "z": [
            0.20200485495048426,
            0.207131405488866
           ]
          },
          {
           "line": {
            "color": "red",
            "width": 5
           },
           "marker": {
            "color": "blue",
            "size": 2
           },
           "text": [
            "RShoulder"
           ],
           "type": "scatter3d",
           "x": [
            0.0060274358860397115,
            -0.1759142874261343
           ],
           "y": [
            0.5047708486568807,
            0.49431395306053516
           ],
           "z": [
            -0.16174694164977055,
            -0.01691839355690483
           ]
          },
          {
           "line": {
            "color": "red",
            "width": 5
           },
           "marker": {
            "color": "blue",
            "size": 2
           },
           "text": [
            "RElbow"
           ],
           "type": "scatter3d",
           "x": [
            0.030531456913149665,
            0.0060274358860397115
           ],
           "y": [
            -0.041484808924657335,
            0.5047708486568807
           ],
           "z": [
            -0.25215063897462464,
            -0.16174694164977055
           ]
          },
          {
           "line": {
            "color": "red",
            "width": 5
           },
           "marker": {
            "color": "blue",
            "size": 2
           },
           "text": [
            "RWrist"
           ],
           "type": "scatter3d",
           "x": [
            0.0058878976707478076,
            0.030531456913149665
           ],
           "y": [
            -0.14382385935552056,
            -0.041484808924657335
           ],
           "z": [
            -0.29797455610067836,
            -0.25215063897462464
           ]
          },
          {
           "line": {
            "color": "#1f77b4",
            "width": 1
           },
           "marker": {
            "color": "#1f77b4",
            "size": 1
           },
           "type": "scatter3d",
           "x": [
            -0.10456789807196559
           ],
           "y": [
            -0.9363594694242567
           ],
           "z": [
            -9.89050039882495
           ]
          }
         ],
         "name": "frame2"
        },
        {
         "data": [
          {
           "line": {
            "color": "red",
            "width": 5
           },
           "marker": {
            "color": "blue",
            "size": 2
           },
           "text": [
            "RHip"
           ],
           "type": "scatter3d",
           "x": [
            0.11227201434111789,
            0.4937387685947011
           ],
           "y": [
            -0.1074135758837369,
            -0.9295194694242566
           ],
           "z": [
            0.02961730022976461,
            -9.717387065491616
           ]
          },
          {
           "line": {
            "color": "red",
            "width": 5
           },
           "marker": {
            "color": "blue",
            "size": 2
           },
           "text": [
            "RKnee"
           ],
           "type": "scatter3d",
           "x": [
            0.055951832264163226,
            0.11227201434111789
           ],
           "y": [
            -0.5991021235934006,
            -0.1074135758837369
           ],
           "z": [
            0.055706934054319035,
            0.02961730022976461
           ]
          },
          {
           "line": {
            "color": "red",
            "width": 5
           },
           "marker": {
            "color": "blue",
            "size": 2
           },
           "text": [
            "RAnkle"
           ],
           "type": "scatter3d",
           "x": [
            -0.08342443702722424,
            0.055951832264163226
           ],
           "y": [
            -1.0622798548889807,
            -0.5991021235934006
           ],
           "z": [
            0.18472824464530113,
            0.055706934054319035
           ]
          },
          {
           "line": {
            "color": "black",
            "width": 5
           },
           "marker": {
            "color": "blue",
            "size": 2
           },
           "text": [
            "LHip"
           ],
           "type": "scatter3d",
           "x": [
            -0.019973434069150642,
            0.4937387685947011
           ],
           "y": [
            -0.1335029704343198,
            -0.9295194694242566
           ],
           "z": [
            -0.08648890807296716,
            -9.717387065491616
           ]
          },
          {
           "line": {
            "color": "black",
            "width": 5
           },
           "marker": {
            "color": "blue",
            "size": 2
           },
           "text": [
            "LKnee"
           ],
           "type": "scatter3d",
           "x": [
            0.12391705202925063,
            -0.019973434069150642
           ],
           "y": [
            -0.5430478368179037,
            -0.1335029704343198
           ],
           "z": [
            -0.2846701010091621,
            -0.08648890807296716
           ]
          },
          {
           "line": {
            "color": "black",
            "width": 5
           },
           "marker": {
            "color": "blue",
            "size": 2
           },
           "text": [
            "LAnkle"
           ],
           "type": "scatter3d",
           "x": [
            0.11180117884476859,
            0.12391705202925063
           ],
           "y": [
            -1.0399514604599984,
            -0.5430478368179037
           ],
           "z": [
            -0.23603734031978973,
            -0.2846701010091621
           ]
          },
          {
           "line": {
            "color": "black",
            "width": 5
           },
           "marker": {
            "color": "blue",
            "size": 2
           },
           "text": [
            "Spine1"
           ],
           "type": "scatter3d",
           "x": [
            0.023128883788001042,
            0.4937387685947011
           ],
           "y": [
            0.26862123923162273,
            -0.9295194694242566
           ],
           "z": [
            -0.03821955551263656,
            -9.717387065491616
           ]
          },
          {
           "line": {
            "color": "black",
            "width": 5
           },
           "marker": {
            "color": "blue",
            "size": 2
           },
           "text": [
            "Neck"
           ],
           "type": "scatter3d",
           "x": [
            0.05678156247661048,
            0.023128883788001042
           ],
           "y": [
            0.5131793876800017,
            0.26862123923162273
           ],
           "z": [
            -0.0993636545672878,
            -0.03821955551263656
           ]
          },
          {
           "line": {
            "color": "black",
            "width": 5
           },
           "marker": {
            "color": "blue",
            "size": 2
           },
           "text": [
            "Head"
           ],
           "type": "scatter3d",
           "x": [
            0.08790554363382785,
            0.05678156247661048
           ],
           "y": [
            0.6186155976297505,
            0.5131793876800017
           ],
           "z": [
            -0.1420171496367253,
            -0.0993636545672878
           ]
          },
          {
           "line": {
            "color": "black",
            "width": 5
           },
           "marker": {
            "color": "blue",
            "size": 2
           },
           "text": [
            "Site"
           ],
           "type": "scatter3d",
           "x": [
            0.1391097606094055,
            0.08790554363382785
           ],
           "y": [
            0.7156919044557011,
            0.6186155976297505
           ],
           "z": [
            -0.1857058591937477,
            -0.1420171496367253
           ]
          },
          {
           "line": {
            "color": "black",
            "width": 5
           },
           "marker": {
            "color": "blue",
            "size": 2
           },
           "text": [
            "LShoulder"
           ],
           "type": "scatter3d",
           "x": [
            -0.1399359529535616,
            0.05678156247661048
           ],
           "y": [
            0.4943591888601935,
            0.5131793876800017
           ],
           "z": [
            -0.18521828025516918,
            -0.0993636545672878
           ]
          },
          {
           "line": {
            "color": "black",
            "width": 5
           },
           "marker": {
            "color": "blue",
            "size": 2
           },
           "text": [
            "LElbow"
           ],
           "type": "scatter3d",
           "x": [
            -0.22307408440559395,
            -0.1399359529535616
           ],
           "y": [
            -0.045988649449281827,
            0.4943591888601935
           ],
           "z": [
            -0.14515629285411435,
            -0.18521828025516918
           ]
          },
          {
           "line": {
            "color": "black",
            "width": 5
           },
           "marker": {
            "color": "blue",
            "size": 2
           },
           "text": [
            "LWrist"
           ],
           "type": "scatter3d",
           "x": [
            -0.23496171397207494,
            -0.22307408440559395
           ],
           "y": [
            -0.15889114673952398,
            -0.045988649449281827
           ],
           "z": [
            -0.16955414352505294,
            -0.14515629285411435
           ]
          },
          {
           "line": {
            "color": "red",
            "width": 5
           },
           "marker": {
            "color": "blue",
            "size": 2
           },
           "text": [
            "RShoulder"
           ],
           "type": "scatter3d",
           "x": [
            0.22017388303828034,
            0.05678156247661048
           ],
           "y": [
            0.4876938467683387,
            0.5131793876800017
           ],
           "z": [
            0.05596425468631949,
            -0.0993636545672878
           ]
          },
          {
           "line": {
            "color": "red",
            "width": 5
           },
           "marker": {
            "color": "blue",
            "size": 2
           },
           "text": [
            "RElbow"
           ],
           "type": "scatter3d",
           "x": [
            0.3203899543076143,
            0.22017388303828034
           ],
           "y": [
            -0.06703222124485753,
            0.4876938467683387
           ],
           "z": [
            0.07545626970801855,
            0.05596425468631949
           ]
          },
          {
           "line": {
            "color": "red",
            "width": 5
           },
           "marker": {
            "color": "blue",
            "size": 2
           },
           "text": [
            "RWrist"
           ],
           "type": "scatter3d",
           "x": [
            0.36332400229602657,
            0.3203899543076143
           ],
           "y": [
            -0.17200450177459659,
            -0.06703222124485753
           ],
           "z": [
            0.057626365622059694,
            0.07545626970801855
           ]
          },
          {
           "line": {
            "color": "#1f77b4",
            "width": 1
           },
           "marker": {
            "color": "#1f77b4",
            "size": 1
           },
           "type": "scatter3d",
           "x": [
            -0.10456789807196559,
            0.07519876859470122
           ],
           "y": [
            -0.9363594694242567,
            -0.9168994694242565
           ],
           "z": [
            -9.89050039882495,
            -9.781967065491616
           ]
          }
         ],
         "name": "frame3"
        },
        {
         "data": [
          {
           "line": {
            "color": "red",
            "width": 5
           },
           "marker": {
            "color": "blue",
            "size": 2
           },
           "text": [
            "RHip"
           ],
           "type": "scatter3d",
           "x": [
            0.09664635743990901,
            1.127338768594701
           ],
           "y": [
            -0.12287433980174112,
            -0.9334528027575899
           ],
           "z": [
            0.024109006058463223,
            -10.231047065491616
           ]
          },
          {
           "line": {
            "color": "red",
            "width": 5
           },
           "marker": {
            "color": "blue",
            "size": 2
           },
           "text": [
            "RKnee"
           ],
           "type": "scatter3d",
           "x": [
            0.28516627298393904,
            0.09664635743990901
           ],
           "y": [
            -0.5425863554833692,
            -0.12287433980174112
           ],
           "z": [
            -0.1600439879081179,
            0.024109006058463223
           ]
          },
          {
           "line": {
            "color": "red",
            "width": 5
           },
           "marker": {
            "color": "blue",
            "size": 2
           },
           "text": [
            "RAnkle"
           ],
           "type": "scatter3d",
           "x": [
            0.3620247633082201,
            0.28516627298393904
           ],
           "y": [
            -1.0345459665659862,
            -0.5425863554833692
           ],
           "z": [
            -0.2117582734086767,
            -0.1600439879081179
           ]
          },
          {
           "line": {
            "color": "black",
            "width": 5
           },
           "marker": {
            "color": "blue",
            "size": 2
           },
           "text": [
            "LHip"
           ],
           "type": "scatter3d",
           "x": [
            -0.03344652409606108,
            1.127338768594701
           ],
           "y": [
            -0.12299468994454554,
            -0.9334528027575899
           ],
           "z": [
            -0.09724170234160034,
            -10.231047065491616
           ]
          },
          {
           "line": {
            "color": "black",
            "width": 5
           },
           "marker": {
            "color": "blue",
            "size": 2
           },
           "text": [
            "LKnee"
           ],
           "type": "scatter3d",
           "x": [
            -0.09530375292346016,
            -0.03344652409606108
           ],
           "y": [
            -0.5741164508717842,
            -0.12299468994454554
           ],
           "z": [
            0.04548213891870567,
            -0.09724170234160034
           ]
          },
          {
           "line": {
            "color": "black",
            "width": 5
           },
           "marker": {
            "color": "blue",
            "size": 2
           },
           "text": [
            "LAnkle"
           ],
           "type": "scatter3d",
           "x": [
            -0.18448257574776927,
            -0.09530375292346016
           ],
           "y": [
            -1.0302912072814028,
            -0.5741164508717842
           ],
           "z": [
            0.22817554372093873,
            0.04548213891870567
           ]
          },
          {
           "line": {
            "color": "black",
            "width": 5
           },
           "marker": {
            "color": "blue",
            "size": 2
           },
           "text": [
            "Spine1"
           ],
           "type": "scatter3d",
           "x": [
            -0.005963455470907819,
            1.127338768594701
           ],
           "y": [
            0.26353490591669804,
            -0.9334528027575899
           ],
           "z": [
            -0.0697252872884988,
            -10.231047065491616
           ]
          },
          {
           "line": {
            "color": "black",
            "width": 5
           },
           "marker": {
            "color": "blue",
            "size": 2
           },
           "text": [
            "Neck"
           ],
           "type": "scatter3d",
           "x": [
            0.004618308211971067,
            -0.005963455470907819
           ],
           "y": [
            0.5125172791813686,
            0.26353490591669804
           ],
           "z": [
            -0.1219015167697588,
            -0.0697252872884988
           ]
          },
          {
           "line": {
            "color": "black",
            "width": 5
           },
           "marker": {
            "color": "blue",
            "size": 2
           },
           "text": [
            "Head"
           ],
           "type": "scatter3d",
           "x": [
            0.020808185167530358,
            0.004618308211971067
           ],
           "y": [
            0.6212080223186167,
            0.5125172791813686
           ],
           "z": [
            -0.164668647299143,
            -0.1219015167697588
           ]
          },
          {
           "line": {
            "color": "black",
            "width": 5
           },
           "marker": {
            "color": "blue",
            "size": 2
           },
           "text": [
            "Site"
           ],
           "type": "scatter3d",
           "x": [
            0.055619168377228245,
            0.020808185167530358
           ],
           "y": [
            0.7217138277024171,
            0.6212080223186167
           ],
           "z": [
            -0.2160608943597051,
            -0.164668647299143
           ]
          },
          {
           "line": {
            "color": "black",
            "width": 5
           },
           "marker": {
            "color": "blue",
            "size": 2
           },
           "text": [
            "LShoulder"
           ],
           "type": "scatter3d",
           "x": [
            -0.17274086972163805,
            0.004618308211971067
           ],
           "y": [
            0.46039872945897375,
            0.5125172791813686
           ],
           "z": [
            -0.25024209270048914,
            -0.1219015167697588
           ]
          },
          {
           "line": {
            "color": "black",
            "width": 5
           },
           "marker": {
            "color": "blue",
            "size": 2
           },
           "text": [
            "LElbow"
           ],
           "type": "scatter3d",
           "x": [
            -0.0630048355379107,
            -0.17274086972163805
           ],
           "y": [
            0.00996803784283018,
            0.46039872945897375
           ],
           "z": [
            -0.38268617223705625,
            -0.25024209270048914
           ]
          },
          {
           "line": {
            "color": "black",
            "width": 5
           },
           "marker": {
            "color": "blue",
            "size": 2
           },
           "text": [
            "LWrist"
           ],
           "type": "scatter3d",
           "x": [
            0.009134679711246374,
            -0.0630048355379107
           ],
           "y": [
            -0.050061813185156456,
            0.00996803784283018
           ],
           "z": [
            -0.4510663745884589,
            -0.38268617223705625
           ]
          },
          {
           "line": {
            "color": "red",
            "width": 5
           },
           "marker": {
            "color": "blue",
            "size": 2
           },
           "text": [
            "RShoulder"
           ],
           "type": "scatter3d",
           "x": [
            0.1437875818221297,
            0.004618308211971067
           ],
           "y": [
            0.5102188331094213,
            0.5125172791813686
           ],
           "z": [
            0.04168295343231421,
            -0.1219015167697588
           ]
          },
          {
           "line": {
            "color": "red",
            "width": 5
           },
           "marker": {
            "color": "blue",
            "size": 2
           },
           "text": [
            "RElbow"
           ],
           "type": "scatter3d",
           "x": [
            0.21641263905808428,
            0.1437875818221297
           ],
           "y": [
            -0.04108669497196238,
            0.5102188331094213
           ],
           "z": [
            0.13291317223690413,
            0.04168295343231421
           ]
          },
          {
           "line": {
            "color": "red",
            "width": 5
           },
           "marker": {
            "color": "blue",
            "size": 2
           },
           "text": [
            "RWrist"
           ],
           "type": "scatter3d",
           "x": [
            0.2587036428140914,
            0.21641263905808428
           ],
           "y": [
            -0.14781071874271912,
            -0.04108669497196238
           ],
           "z": [
            0.1342811588919517,
            0.13291317223690413
           ]
          },
          {
           "line": {
            "color": "#1f77b4",
            "width": 1
           },
           "marker": {
            "color": "#1f77b4",
            "size": 1
           },
           "type": "scatter3d",
           "x": [
            -0.10456789807196559,
            0.07519876859470122,
            0.4937387685947011
           ],
           "y": [
            -0.9363594694242567,
            -0.9168994694242565,
            -0.9295194694242566
           ],
           "z": [
            -9.89050039882495,
            -9.781967065491616,
            -9.717387065491616
           ]
          }
         ],
         "name": "frame4"
        },
        {
         "data": [
          {
           "line": {
            "color": "red",
            "width": 5
           },
           "marker": {
            "color": "blue",
            "size": 2
           },
           "text": [
            "RHip"
           ],
           "type": "scatter3d",
           "x": [
            0.12332995738915797,
            1.5346987685947013
           ],
           "y": [
            -0.09711645321092877,
            -0.9425594694242567
           ],
           "z": [
            -0.01944176142641041,
            -11.064395532158283
           ]
          },
          {
           "line": {
            "color": "red",
            "width": 5
           },
           "marker": {
            "color": "blue",
            "size": 2
           },
           "text": [
            "RKnee"
           ],
           "type": "scatter3d",
           "x": [
            0.13443995106643647,
            0.12332995738915797
           ],
           "y": [
            -0.5815570364074072,
            -0.09711645321092877
           ],
           "z": [
            0.08450124816955018,
            -0.01944176142641041
           ]
          },
          {
           "line": {
            "color": "red",
            "width": 5
           },
           "marker": {
            "color": "blue",
            "size": 2
           },
           "text": [
            "RAnkle"
           ],
           "type": "scatter3d",
           "x": [
            0.0301692681367427,
            0.13443995106643647
           ],
           "y": [
            -0.9259764435773872,
            -0.5815570364074072
           ],
           "z": [
            0.4325080734508582,
            0.08450124816955018
           ]
          },
          {
           "line": {
            "color": "black",
            "width": 5
           },
           "marker": {
            "color": "blue",
            "size": 2
           },
           "text": [
            "LHip"
           ],
           "type": "scatter3d",
           "x": [
            -0.04289252407355093,
            1.5346987685947013
           ],
           "y": [
            -0.13929145557317013,
            -0.9425594694242567
           ],
           "z": [
            -0.06678648205934401,
            -11.064395532158283
           ]
          },
          {
           "line": {
            "color": "black",
            "width": 5
           },
           "marker": {
            "color": "blue",
            "size": 2
           },
           "text": [
            "LKnee"
           ],
           "type": "scatter3d",
           "x": [
            0.018069809465280695,
            -0.04289252407355093
           ],
           "y": [
            -0.5296671361898333,
            -0.13929145557317013
           ],
           "z": [
            -0.3343639038964117,
            -0.06678648205934401
           ]
          },
          {
           "line": {
            "color": "black",
            "width": 5
           },
           "marker": {
            "color": "blue",
            "size": 2
           },
           "text": [
            "LAnkle"
           ],
           "type": "scatter3d",
           "x": [
            0.11109323854538733,
            0.018069809465280695
           ],
           "y": [
            -1.0203190523912546,
            -0.5296671361898333
           ],
           "z": [
            -0.34006388231639306,
            -0.3343639038964117
           ]
          },
          {
           "line": {
            "color": "black",
            "width": 5
           },
           "marker": {
            "color": "blue",
            "size": 2
           },
           "text": [
            "Spine1"
           ],
           "type": "scatter3d",
           "x": [
            -0.026541117256681845,
            1.5346987685947013
           ],
           "y": [
            0.2651003496119728,
            -0.9425594694242567
           ],
           "z": [
            -0.05811619512797961,
            -11.064395532158283
           ]
          },
          {
           "line": {
            "color": "black",
            "width": 5
           },
           "marker": {
            "color": "blue",
            "size": 2
           },
           "text": [
            "Neck"
           ],
           "type": "scatter3d",
           "x": [
            -0.05673242739143225,
            -0.026541117256681845
           ],
           "y": [
            0.511938392203265,
            0.2651003496119728
           ],
           "z": [
            -0.11291525616415932,
            -0.05811619512797961
           ]
          },
          {
           "line": {
            "color": "black",
            "width": 5
           },
           "marker": {
            "color": "blue",
            "size": 2
           },
           "text": [
            "Head"
           ],
           "type": "scatter3d",
           "x": [
            -0.08538070927551855,
            -0.05673242739143225
           ],
           "y": [
            0.6221250085445356,
            0.511938392203265
           ],
           "z": [
            -0.14362360580448374,
            -0.11291525616415932
           ]
          },
          {
           "line": {
            "color": "black",
            "width": 5
           },
           "marker": {
            "color": "blue",
            "size": 2
           },
           "text": [
            "Site"
           ],
           "type": "scatter3d",
           "x": [
            -0.11243548301865802,
            -0.08538070927551855
           ],
           "y": [
            0.7274579863649688,
            0.6221250085445356
           ],
           "z": [
            -0.18974721718730692,
            -0.14362360580448374
           ]
          },
          {
           "line": {
            "color": "black",
            "width": 5
           },
           "marker": {
            "color": "blue",
            "size": 2
           },
           "text": [
            "LShoulder"
           ],
           "type": "scatter3d",
           "x": [
            -0.27649046308801095,
            -0.05673242739143225
           ],
           "y": [
            0.4540431151905331,
            0.511938392203265
           ],
           "z": [
            -0.08945855965285787,
            -0.11291525616415932
           ]
          },
          {
           "line": {
            "color": "black",
            "width": 5
           },
           "marker": {
            "color": "blue",
            "size": 2
           },
           "text": [
            "LElbow"
           ],
           "type": "scatter3d",
           "x": [
            -0.3666643159414045,
            -0.27649046308801095
           ],
           "y": [
            -0.040627360479110086,
            0.4540431151905331
           ],
           "z": [
            -0.12159578706308238,
            -0.08945855965285787
           ]
          },
          {
           "line": {
            "color": "black",
            "width": 5
           },
           "marker": {
            "color": "blue",
            "size": 2
           },
           "text": [
            "LWrist"
           ],
           "type": "scatter3d",
           "x": [
            -0.40767253964449623,
            -0.3666643159414045
           ],
           "y": [
            -0.12881403166976724,
            -0.040627360479110086
           ],
           "z": [
            -0.18503852787298491,
            -0.12159578706308238
           ]
          },
          {
           "line": {
            "color": "red",
            "width": 5
           },
           "marker": {
            "color": "blue",
            "size": 2
           },
           "text": [
            "RShoulder"
           ],
           "type": "scatter3d",
           "x": [
            0.15230750143733096,
            -0.05673242739143225
           ],
           "y": [
            0.5166255951390977,
            0.511938392203265
           ],
           "z": [
            -0.07905304445721129,
            -0.11291525616415932
           ]
          },
          {
           "line": {
            "color": "red",
            "width": 5
           },
           "marker": {
            "color": "blue",
            "size": 2
           },
           "text": [
            "RElbow"
           ],
           "type": "scatter3d",
           "x": [
            0.23369359526150935,
            0.15230750143733096
           ],
           "y": [
            -0.0067147657528476845,
            0.5166255951390977
           ],
           "z": [
            -0.20712271607394506,
            -0.07905304445721129
           ]
          },
          {
           "line": {
            "color": "red",
            "width": 5
           },
           "marker": {
            "color": "blue",
            "size": 2
           },
           "text": [
            "RWrist"
           ],
           "type": "scatter3d",
           "x": [
            0.24734526079973396,
            0.23369359526150935
           ],
           "y": [
            -0.09590063018246542,
            -0.0067147657528476845
           ],
           "z": [
            -0.2781151892663498,
            -0.20712271607394506
           ]
          },
          {
           "line": {
            "color": "#1f77b4",
            "width": 1
           },
           "marker": {
            "color": "#1f77b4",
            "size": 1
           },
           "type": "scatter3d",
           "x": [
            -0.10456789807196559,
            0.07519876859470122,
            0.4937387685947011,
            1.127338768594701
           ],
           "y": [
            -0.9363594694242567,
            -0.9168994694242565,
            -0.9295194694242566,
            -0.9334528027575899
           ],
           "z": [
            -9.89050039882495,
            -9.781967065491616,
            -9.717387065491616,
            -10.231047065491616
           ]
          }
         ],
         "name": "frame5"
        },
        {
         "data": [
          {
           "line": {
            "color": "red",
            "width": 5
           },
           "marker": {
            "color": "blue",
            "size": 2
           },
           "text": [
            "RHip"
           ],
           "type": "scatter3d",
           "x": [
            -0.00691716384507024,
            1.5842921019280345
           ],
           "y": [
            -0.12233813451966036,
            -0.8539261360909234
           ],
           "z": [
            -0.10002699459562692,
            -11.62703239882495
           ]
          },
          {
           "line": {
            "color": "red",
            "width": 5
           },
           "marker": {
            "color": "blue",
            "size": 2
           },
           "text": [
            "RKnee"
           ],
           "type": "scatter3d",
           "x": [
            -0.4214633384854376,
            -0.00691716384507024
           ],
           "y": [
            -0.38437436829817884,
            -0.12233813451966036
           ],
           "z": [
            -0.17143246447943028,
            -0.10002699459562692
           ]
          },
          {
           "line": {
            "color": "red",
            "width": 5
           },
           "marker": {
            "color": "blue",
            "size": 2
           },
           "text": [
            "RAnkle"
           ],
           "type": "scatter3d",
           "x": [
            -0.1579451981422093,
            -0.4214633384854376
           ],
           "y": [
            -0.8031077295046085,
            -0.38437436829817884
           ],
           "z": [
            -0.09510150274611462,
            -0.17143246447943028
           ]
          },
          {
           "line": {
            "color": "black",
            "width": 5
           },
           "marker": {
            "color": "blue",
            "size": 2
           },
           "text": [
            "LHip"
           ],
           "type": "scatter3d",
           "x": [
            -0.0517596878547788,
            1.5842921019280345
           ],
           "y": [
            -0.13369336469717163,
            -0.8539261360909234
           ],
           "z": [
            0.07175884163000923,
            -11.62703239882495
           ]
          },
          {
           "line": {
            "color": "black",
            "width": 5
           },
           "marker": {
            "color": "blue",
            "size": 2
           },
           "text": [
            "LKnee"
           ],
           "type": "scatter3d",
           "x": [
            -0.06952144721810027,
            -0.0517596878547788
           ],
           "y": [
            -0.6104924447388209,
            -0.13369336469717163
           ],
           "z": [
            0.06438239396522327,
            0.07175884163000923
           ]
          },
          {
           "line": {
            "color": "black",
            "width": 5
           },
           "marker": {
            "color": "blue",
            "size": 2
           },
           "text": [
            "LAnkle"
           ],
           "type": "scatter3d",
           "x": [
            0.03453965171170981,
            -0.06952144721810027
           ],
           "y": [
            -1.0930668103224304,
            -0.6104924447388209
           ],
           "z": [
            0.1400026316997991,
            0.06438239396522327
           ]
          },
          {
           "line": {
            "color": "black",
            "width": 5
           },
           "marker": {
            "color": "blue",
            "size": 2
           },
           "text": [
            "Spine1"
           ],
           "type": "scatter3d",
           "x": [
            -0.19098184534515128,
            1.5842921019280345
           ],
           "y": [
            0.1932262772064972,
            -0.8539261360909234
           ],
           "z": [
            0.010587711630876129,
            -11.62703239882495
           ]
          },
          {
           "line": {
            "color": "black",
            "width": 5
           },
           "marker": {
            "color": "blue",
            "size": 2
           },
           "text": [
            "Neck"
           ],
           "type": "scatter3d",
           "x": [
            -0.35446108258419806,
            -0.19098184534515128
           ],
           "y": [
            0.3879612597356321,
            0.1932262772064972
           ],
           "z": [
            0.009005000885514036,
            0.010587711630876129
           ]
          },
          {
           "line": {
            "color": "black",
            "width": 5
           },
           "marker": {
            "color": "blue",
            "size": 2
           },
           "text": [
            "Head"
           ],
           "type": "scatter3d",
           "x": [
            -0.3951656627825719,
            -0.35446108258419806
           ],
           "y": [
            0.4985331522238703,
            0.3879612597356321
           ],
           "z": [
            0.01367522097931051,
            0.009005000885514036
           ]
          },
          {
           "line": {
            "color": "black",
            "width": 5
           },
           "marker": {
            "color": "blue",
            "size": 2
           },
           "text": [
            "Site"
           ],
           "type": "scatter3d",
           "x": [
            -0.43536305375920725,
            -0.3951656627825719
           ],
           "y": [
            0.6092688248160374,
            0.4985331522238703
           ],
           "z": [
            0.004947959092676868,
            0.01367522097931051
           ]
          },
          {
           "line": {
            "color": "black",
            "width": 5
           },
           "marker": {
            "color": "blue",
            "size": 2
           },
           "text": [
            "LShoulder"
           ],
           "type": "scatter3d",
           "x": [
            -0.3390689307506525,
            -0.35446108258419806
           ],
           "y": [
            0.3735910647015668,
            0.3879612597356321
           ],
           "z": [
            0.22199997837043206,
            0.009005000885514036
           ]
          },
          {
           "line": {
            "color": "black",
            "width": 5
           },
           "marker": {
            "color": "blue",
            "size": 2
           },
           "text": [
            "LElbow"
           ],
           "type": "scatter3d",
           "x": [
            -0.6680895652238709,
            -0.3390689307506525
           ],
           "y": [
            -0.03727710831226361,
            0.3735910647015668
           ],
           "z": [
            0.261717230480361,
            0.22199997837043206
           ]
          },
          {
           "line": {
            "color": "black",
            "width": 5
           },
           "marker": {
            "color": "blue",
            "size": 2
           },
           "text": [
            "LWrist"
           ],
           "type": "scatter3d",
           "x": [
            -0.7687291145686509,
            -0.6680895652238709
           ],
           "y": [
            -0.09331709076400796,
            -0.03727710831226361
           ],
           "z": [
            0.24706300846306384,
            0.261717230480361
           ]
          },
          {
           "line": {
            "color": "red",
            "width": 5
           },
           "marker": {
            "color": "blue",
            "size": 2
           },
           "text": [
            "RShoulder"
           ],
           "type": "scatter3d",
           "x": [
            -0.3004276437765332,
            -0.35446108258419806
           ],
           "y": [
            0.38082739189615933,
            0.3879612597356321
           ],
           "z": [
            -0.20967932670892075,
            0.009005000885514036
           ]
          },
          {
           "line": {
            "color": "red",
            "width": 5
           },
           "marker": {
            "color": "blue",
            "size": 2
           },
           "text": [
            "RElbow"
           ],
           "type": "scatter3d",
           "x": [
            -0.688377048858789,
            -0.3004276437765332
           ],
           "y": [
            0.018482701122753298,
            0.38082739189615933
           ],
           "z": [
            -0.20174540372646632,
            -0.20967932670892075
           ]
          },
          {
           "line": {
            "color": "red",
            "width": 5
           },
           "marker": {
            "color": "blue",
            "size": 2
           },
           "text": [
            "RWrist"
           ],
           "type": "scatter3d",
           "x": [
            -0.7952969375374986,
            -0.688377048858789
           ],
           "y": [
            -0.01302779381251118,
            0.018482701122753298
           ],
           "z": [
            -0.1742564286661441,
            -0.20174540372646632
           ]
          },
          {
           "line": {
            "color": "#1f77b4",
            "width": 1
           },
           "marker": {
            "color": "#1f77b4",
            "size": 1
           },
           "type": "scatter3d",
           "x": [
            -0.10456789807196559,
            0.07519876859470122,
            0.4937387685947011,
            1.127338768594701,
            1.5346987685947013
           ],
           "y": [
            -0.9363594694242567,
            -0.9168994694242565,
            -0.9295194694242566,
            -0.9334528027575899,
            -0.9425594694242567
           ],
           "z": [
            -9.89050039882495,
            -9.781967065491616,
            -9.717387065491616,
            -10.231047065491616,
            -11.064395532158283
           ]
          }
         ],
         "name": "frame6"
        },
        {
         "data": [
          {
           "line": {
            "color": "red",
            "width": 5
           },
           "marker": {
            "color": "blue",
            "size": 2
           },
           "text": [
            "RHip"
           ],
           "type": "scatter3d",
           "x": [
            -0.04035882802363311,
            1.3928254352613678
           ],
           "y": [
            -0.12340842413097874,
            -0.5647928027575899
           ],
           "z": [
            -0.09034042182384816,
            -11.72928039882495
           ]
          },
          {
           "line": {
            "color": "red",
            "width": 5
           },
           "marker": {
            "color": "blue",
            "size": 2
           },
           "text": [
            "RKnee"
           ],
           "type": "scatter3d",
           "x": [
            -0.11671849681858215,
            -0.04035882802363311
           ],
           "y": [
            -0.6114570278241427,
            -0.12340842413097874
           ],
           "z": [
            -0.050490437309456127,
            -0.09034042182384816
           ]
          },
          {
           "line": {
            "color": "red",
            "width": 5
           },
           "marker": {
            "color": "blue",
            "size": 2
           },
           "text": [
            "RAnkle"
           ],
           "type": "scatter3d",
           "x": [
            0.03786507547393203,
            -0.11671849681858215
           ],
           "y": [
            -1.0855262832489116,
            -0.6114570278241427
           ],
           "z": [
            -0.006127006033112892,
            -0.050490437309456127
           ]
          },
          {
           "line": {
            "color": "black",
            "width": 5
           },
           "marker": {
            "color": "blue",
            "size": 2
           },
           "text": [
            "LHip"
           ],
           "type": "scatter3d",
           "x": [
            -0.011481270774327479,
            1.3928254352613678
           ],
           "y": [
            -0.13558173876780288,
            -0.5647928027575899
           ],
           "z": [
            0.0847825744894628,
            -11.72928039882495
           ]
          },
          {
           "line": {
            "color": "black",
            "width": 5
           },
           "marker": {
            "color": "blue",
            "size": 2
           },
           "text": [
            "LKnee"
           ],
           "type": "scatter3d",
           "x": [
            -0.40354875683769886,
            -0.011481270774327479
           ],
           "y": [
            -0.38559882748355667,
            -0.13558173876780288
           ],
           "z": [
            0.19193571969034728,
            0.0847825744894628
           ]
          },
          {
           "line": {
            "color": "black",
            "width": 5
           },
           "marker": {
            "color": "blue",
            "size": 2
           },
           "text": [
            "LAnkle"
           ],
           "type": "scatter3d",
           "x": [
            -0.14801408078877643,
            -0.40354875683769886
           ],
           "y": [
            -0.8078183716621832,
            -0.38559882748355667
           ],
           "z": [
            0.11539921314541957,
            0.19193571969034728
           ]
          },
          {
           "line": {
            "color": "black",
            "width": 5
           },
           "marker": {
            "color": "blue",
            "size": 2
           },
           "text": [
            "Spine1"
           ],
           "type": "scatter3d",
           "x": [
            -0.22501375358375286,
            1.3928254352613678
           ],
           "y": [
            0.14828889094537678,
            -0.5647928027575899
           ],
           "z": [
            0.03122505929871089,
            -11.72928039882495
           ]
          },
          {
           "line": {
            "color": "black",
            "width": 5
           },
           "marker": {
            "color": "blue",
            "size": 2
           },
           "text": [
            "Neck"
           ],
           "type": "scatter3d",
           "x": [
            -0.42323338473372096,
            -0.22501375358375286
           ],
           "y": [
            0.3037688639215592,
            0.14828889094537678
           ],
           "z": [
            0.06110218121009581,
            0.03122505929871089
           ]
          },
          {
           "line": {
            "color": "black",
            "width": 5
           },
           "marker": {
            "color": "blue",
            "size": 2
           },
           "text": [
            "Head"
           ],
           "type": "scatter3d",
           "x": [
            -0.45965799723197953,
            -0.42323338473372096
           ],
           "y": [
            0.41558579726587075,
            0.3037688639215592
           ],
           "z": [
            0.06976464247155612,
            0.06110218121009581
           ]
          },
          {
           "line": {
            "color": "black",
            "width": 5
           },
           "marker": {
            "color": "blue",
            "size": 2
           },
           "text": [
            "Site"
           ],
           "type": "scatter3d",
           "x": [
            -0.49238247687238335,
            -0.45965799723197953
           ],
           "y": [
            0.5289233361629251,
            0.41558579726587075
           ],
           "z": [
            0.06359250873762612,
            0.06976464247155612
           ]
          },
          {
           "line": {
            "color": "black",
            "width": 5
           },
           "marker": {
            "color": "blue",
            "size": 2
           },
           "text": [
            "LShoulder"
           ],
           "type": "scatter3d",
           "x": [
            -0.35996137202189304,
            -0.42323338473372096
           ],
           "y": [
            0.31899403674894833,
            0.3037688639215592
           ],
           "z": [
            0.2588327951822933,
            0.06110218121009581
           ]
          },
          {
           "line": {
            "color": "black",
            "width": 5
           },
           "marker": {
            "color": "blue",
            "size": 2
           },
           "text": [
            "LElbow"
           ],
           "type": "scatter3d",
           "x": [
            -0.8191266715853599,
            -0.35996137202189304
           ],
           "y": [
            0.1291542176843299,
            0.31899403674894833
           ],
           "z": [
            0.287593926350981,
            0.2588327951822933
           ]
          },
          {
           "line": {
            "color": "black",
            "width": 5
           },
           "marker": {
            "color": "blue",
            "size": 2
           },
           "text": [
            "LWrist"
           ],
           "type": "scatter3d",
           "x": [
            -0.9308255847320075,
            -0.8191266715853599
           ],
           "y": [
            0.14311085605644314,
            0.1291542176843299
           ],
           "z": [
            0.25909638618253616,
            0.287593926350981
           ]
          },
          {
           "line": {
            "color": "red",
            "width": 5
           },
           "marker": {
            "color": "blue",
            "size": 2
           },
           "text": [
            "RShoulder"
           ],
           "type": "scatter3d",
           "x": [
            -0.425716496239234,
            -0.42323338473372096
           ],
           "y": [
            0.27472833728078183,
            0.3037688639215592
           ],
           "z": [
            -0.16732368712653134,
            0.06110218121009581
           ]
          },
          {
           "line": {
            "color": "red",
            "width": 5
           },
           "marker": {
            "color": "blue",
            "size": 2
           },
           "text": [
            "RElbow"
           ],
           "type": "scatter3d",
           "x": [
            -0.5281890528482465,
            -0.425716496239234
           ],
           "y": [
            -0.23717982342052024,
            0.27472833728078183
           ],
           "z": [
            -0.11688047699915494,
            -0.16732368712653134
           ]
          },
          {
           "line": {
            "color": "red",
            "width": 5
           },
           "marker": {
            "color": "blue",
            "size": 2
           },
           "text": [
            "RWrist"
           ],
           "type": "scatter3d",
           "x": [
            -0.5994018713943493,
            -0.5281890528482465
           ],
           "y": [
            -0.3198645789258172,
            -0.23717982342052024
           ],
           "z": [
            -0.08120999455569766,
            -0.11688047699915494
           ]
          },
          {
           "line": {
            "color": "#1f77b4",
            "width": 1
           },
           "marker": {
            "color": "#1f77b4",
            "size": 1
           },
           "type": "scatter3d",
           "x": [
            -0.10456789807196559,
            0.07519876859470122,
            0.4937387685947011,
            1.127338768594701,
            1.5346987685947013,
            1.5842921019280345
           ],
           "y": [
            -0.9363594694242567,
            -0.9168994694242565,
            -0.9295194694242566,
            -0.9334528027575899,
            -0.9425594694242567,
            -0.8539261360909234
           ],
           "z": [
            -9.89050039882495,
            -9.781967065491616,
            -9.717387065491616,
            -10.231047065491616,
            -11.064395532158283,
            -11.62703239882495
           ]
          }
         ],
         "name": "frame7"
        },
        {
         "data": [
          {
           "line": {
            "color": "red",
            "width": 5
           },
           "marker": {
            "color": "blue",
            "size": 2
           },
           "text": [
            "RHip"
           ],
           "type": "scatter3d",
           "x": [
            -0.004325557842400185,
            1.1768121019280344
           ],
           "y": [
            -0.12459482000024469,
            -0.27810613609092316
           ],
           "z": [
            -0.09735135509946424,
            -11.640749732158284
           ]
          },
          {
           "line": {
            "color": "red",
            "width": 5
           },
           "marker": {
            "color": "blue",
            "size": 2
           },
           "text": [
            "RKnee"
           ],
           "type": "scatter3d",
           "x": [
            -0.41538154773726144,
            -0.004325557842400185
           ],
           "y": [
            -0.40135610717082204,
            -0.12459482000024469
           ],
           "z": [
            -0.10416479375845356,
            -0.09735135509946424
           ]
          },
          {
           "line": {
            "color": "red",
            "width": 5
           },
           "marker": {
            "color": "blue",
            "size": 2
           },
           "text": [
            "RAnkle"
           ],
           "type": "scatter3d",
           "x": [
            -0.13289772668227529,
            -0.41538154773726144
           ],
           "y": [
            -0.8119313568273836,
            -0.40135610717082204
           ],
           "z": [
            -0.05687093572226587,
            -0.10416479375845356
           ]
          },
          {
           "line": {
            "color": "black",
            "width": 5
           },
           "marker": {
            "color": "blue",
            "size": 2
           },
           "text": [
            "LHip"
           ],
           "type": "scatter3d",
           "x": [
            -0.014183320395322108,
            1.1768121019280344
           ],
           "y": [
            -0.13835324547051853,
            -0.27810613609092316
           ],
           "z": [
            0.07974663186175235,
            -11.640749732158284
           ]
          },
          {
           "line": {
            "color": "black",
            "width": 5
           },
           "marker": {
            "color": "blue",
            "size": 2
           },
           "text": [
            "LKnee"
           ],
           "type": "scatter3d",
           "x": [
            -0.10687048880417271,
            -0.014183320395322108
           ],
           "y": [
            -0.6064416825907222,
            -0.13835324547051853
           ],
           "z": [
            0.07665492503390325,
            0.07974663186175235
           ]
          },
          {
           "line": {
            "color": "black",
            "width": 5
           },
           "marker": {
            "color": "blue",
            "size": 2
           },
           "text": [
            "LAnkle"
           ],
           "type": "scatter3d",
           "x": [
            0.0694027827788446,
            -0.10687048880417271
           ],
           "y": [
            -1.0731401152926656,
            -0.6064416825907222
           ],
           "z": [
            0.05329989082485653,
            0.07665492503390325
           ]
          },
          {
           "line": {
            "color": "black",
            "width": 5
           },
           "marker": {
            "color": "blue",
            "size": 2
           },
           "text": [
            "Spine1"
           ],
           "type": "scatter3d",
           "x": [
            -0.2505033389033827,
            1.1768121019280344
           ],
           "y": [
            0.10272480522169247,
            -0.27810613609092316
           ],
           "z": [
            0.01372331915047198,
            -11.640749732158284
           ]
          },
          {
           "line": {
            "color": "black",
            "width": 5
           },
           "marker": {
            "color": "blue",
            "size": 2
           },
           "text": [
            "Neck"
           ],
           "type": "scatter3d",
           "x": [
            -0.48952085601310036,
            -0.2505033389033827
           ],
           "y": [
            0.18778122488478655,
            0.10272480522169247
           ],
           "z": [
            0.01758413100082379,
            0.01372331915047198
           ]
          },
          {
           "line": {
            "color": "black",
            "width": 5
           },
           "marker": {
            "color": "blue",
            "size": 2
           },
           "text": [
            "Head"
           ],
           "type": "scatter3d",
           "x": [
            -0.549641013978292,
            -0.48952085601310036
           ],
           "y": [
            0.2855278026583732,
            0.18778122488478655
           ],
           "z": [
            0.0447132731375266,
            0.01758413100082379
           ]
          },
          {
           "line": {
            "color": "black",
            "width": 5
           },
           "marker": {
            "color": "blue",
            "size": 2
           },
           "text": [
            "Site"
           ],
           "type": "scatter3d",
           "x": [
            -0.5843338618316062,
            -0.549641013978292
           ],
           "y": [
            0.39723309231081716,
            0.2855278026583732
           ],
           "z": [
            0.06122748208910345,
            0.0447132731375266
           ]
          },
          {
           "line": {
            "color": "black",
            "width": 5
           },
           "marker": {
            "color": "blue",
            "size": 2
           },
           "text": [
            "LShoulder"
           ],
           "type": "scatter3d",
           "x": [
            -0.45972083228137095,
            -0.48952085601310036
           ],
           "y": [
            0.18518156073508107,
            0.18778122488478655
           ],
           "z": [
            0.23414408018452448,
            0.01758413100082379
           ]
          },
          {
           "line": {
            "color": "black",
            "width": 5
           },
           "marker": {
            "color": "blue",
            "size": 2
           },
           "text": [
            "LElbow"
           ],
           "type": "scatter3d",
           "x": [
            -0.6684827413126774,
            -0.45972083228137095
           ],
           "y": [
            -0.14146952754825826,
            0.18518156073508107
           ],
           "z": [
            0.20791455521244018,
            0.23414408018452448
           ]
          },
          {
           "line": {
            "color": "black",
            "width": 5
           },
           "marker": {
            "color": "blue",
            "size": 2
           },
           "text": [
            "LWrist"
           ],
           "type": "scatter3d",
           "x": [
            -0.7772331891595403,
            -0.6684827413126774
           ],
           "y": [
            -0.14106047549450662,
            -0.14146952754825826
           ],
           "z": [
            0.16721176024736906,
            0.20791455521244018
           ]
          },
          {
           "line": {
            "color": "red",
            "width": 5
           },
           "marker": {
            "color": "blue",
            "size": 2
           },
           "text": [
            "RShoulder"
           ],
           "type": "scatter3d",
           "x": [
            -0.4293460101830012,
            -0.48952085601310036
           ],
           "y": [
            0.2462033601048872,
            0.18778122488478655
           ],
           "z": [
            -0.19392863105532854,
            0.01758413100082379
           ]
          },
          {
           "line": {
            "color": "red",
            "width": 5
           },
           "marker": {
            "color": "blue",
            "size": 2
           },
           "text": [
            "RElbow"
           ],
           "type": "scatter3d",
           "x": [
            -0.6722168380871675,
            -0.4293460101830012
           ],
           "y": [
            -0.08285151436750793,
            0.2462033601048872
           ],
           "z": [
            -0.22890917956126344,
            -0.19392863105532854
           ]
          },
          {
           "line": {
            "color": "red",
            "width": 5
           },
           "marker": {
            "color": "blue",
            "size": 2
           },
           "text": [
            "RWrist"
           ],
           "type": "scatter3d",
           "x": [
            -0.7819480391919196,
            -0.6722168380871675
           ],
           "y": [
            -0.08072281093895217,
            -0.08285151436750793
           ],
           "z": [
            -0.19522016411376697,
            -0.22890917956126344
           ]
          },
          {
           "line": {
            "color": "#1f77b4",
            "width": 1
           },
           "marker": {
            "color": "#1f77b4",
            "size": 1
           },
           "type": "scatter3d",
           "x": [
            -0.10456789807196559,
            0.07519876859470122,
            0.4937387685947011,
            1.127338768594701,
            1.5346987685947013,
            1.5842921019280345,
            1.3928254352613678
           ],
           "y": [
            -0.9363594694242567,
            -0.9168994694242565,
            -0.9295194694242566,
            -0.9334528027575899,
            -0.9425594694242567,
            -0.8539261360909234,
            -0.5647928027575899
           ],
           "z": [
            -9.89050039882495,
            -9.781967065491616,
            -9.717387065491616,
            -10.231047065491616,
            -11.064395532158283,
            -11.62703239882495,
            -11.72928039882495
           ]
          }
         ],
         "name": "frame8"
        },
        {
         "data": [
          {
           "line": {
            "color": "red",
            "width": 5
           },
           "marker": {
            "color": "blue",
            "size": 2
           },
           "text": [
            "RHip"
           ],
           "type": "scatter3d",
           "x": [
            0.02178338539015745,
            0.7025454352613678
           ],
           "y": [
            -0.12400073093409181,
            -0.09269280275758995
           ],
           "z": [
            -0.09575577690143966,
            -11.71298039882495
           ]
          },
          {
           "line": {
            "color": "red",
            "width": 5
           },
           "marker": {
            "color": "blue",
            "size": 2
           },
           "text": [
            "RKnee"
           ],
           "type": "scatter3d",
           "x": [
            0.025463341422182872,
            0.02178338539015745
           ],
           "y": [
            -0.6170600415190155,
            -0.12400073093409181
           ],
           "z": [
            -0.04586355285559307,
            -0.09575577690143966
           ]
          },
          {
           "line": {
            "color": "red",
            "width": 5
           },
           "marker": {
            "color": "blue",
            "size": 2
           },
           "text": [
            "RAnkle"
           ],
           "type": "scatter3d",
           "x": [
            0.34415361749739004,
            0.025463341422182872
           ],
           "y": [
            -0.9991516616468952,
            -0.6170600415190155
           ],
           "z": [
            0.009348362158114298,
            -0.04586355285559307
           ]
          },
          {
           "line": {
            "color": "black",
            "width": 5
           },
           "marker": {
            "color": "blue",
            "size": 2
           },
           "text": [
            "LHip"
           ],
           "type": "scatter3d",
           "x": [
            0.02894018439614665,
            0.7025454352613678
           ],
           "y": [
            -0.1348871639570326,
            -0.09269280275758995
           ],
           "z": [
            0.08167148296499427,
            -11.71298039882495
           ]
          },
          {
           "line": {
            "color": "black",
            "width": 5
           },
           "marker": {
            "color": "blue",
            "size": 2
           },
           "text": [
            "LKnee"
           ],
           "type": "scatter3d",
           "x": [
            -0.04673410788847521,
            0.02894018439614665
           ],
           "y": [
            -0.6028983369393481,
            -0.1348871639570326
           ],
           "z": [
            0.13595037624160433,
            0.08167148296499427
           ]
          },
          {
           "line": {
            "color": "black",
            "width": 5
           },
           "marker": {
            "color": "blue",
            "size": 2
           },
           "text": [
            "LAnkle"
           ],
           "type": "scatter3d",
           "x": [
            0.2939555860617269,
            -0.04673410788847521
           ],
           "y": [
            -0.967977863735461,
            -0.6028983369393481
           ],
           "z": [
            0.1274284906298071,
            0.13595037624160433
           ]
          },
          {
           "line": {
            "color": "black",
            "width": 5
           },
           "marker": {
            "color": "blue",
            "size": 2
           },
           "text": [
            "Spine1"
           ],
           "type": "scatter3d",
           "x": [
            -0.2483328474910031,
            0.7025454352613678
           ],
           "y": [
            0.1032877059937729,
            -0.09269280275758995
           ],
           "z": [
            0.03620076461686672,
            -11.71298039882495
           ]
          },
          {
           "line": {
            "color": "black",
            "width": 5
           },
           "marker": {
            "color": "blue",
            "size": 2
           },
           "text": [
            "Neck"
           ],
           "type": "scatter3d",
           "x": [
            -0.490732581744659,
            -0.2483328474910031
           ],
           "y": [
            0.17188713839697312,
            0.1032877059937729
           ],
           "z": [
            0.06218822390167844,
            0.03620076461686672
           ]
          },
          {
           "line": {
            "color": "black",
            "width": 5
           },
           "marker": {
            "color": "blue",
            "size": 2
           },
           "text": [
            "Head"
           ],
           "type": "scatter3d",
           "x": [
            -0.5678775108968355,
            -0.490732581744659
           ],
           "y": [
            0.2559972351072799,
            0.17188713839697312
           ],
           "z": [
            0.091835631052545,
            0.06218822390167844
           ]
          },
          {
           "line": {
            "color": "black",
            "width": 5
           },
           "marker": {
            "color": "blue",
            "size": 2
           },
           "text": [
            "Site"
           ],
           "type": "scatter3d",
           "x": [
            -0.6272584297198804,
            -0.5678775108968355
           ],
           "y": [
            0.35668157094420594,
            0.2559972351072799
           ],
           "z": [
            0.10889304945668954,
            0.091835631052545
           ]
          },
          {
           "line": {
            "color": "black",
            "width": 5
           },
           "marker": {
            "color": "blue",
            "size": 2
           },
           "text": [
            "LShoulder"
           ],
           "type": "scatter3d",
           "x": [
            -0.43593622099171603,
            -0.490732581744659
           ],
           "y": [
            0.18468824479061907,
            0.17188713839697312
           ],
           "z": [
            0.27564870153579335,
            0.06218822390167844
           ]
          },
          {
           "line": {
            "color": "black",
            "width": 5
           },
           "marker": {
            "color": "blue",
            "size": 2
           },
           "text": [
            "LElbow"
           ],
           "type": "scatter3d",
           "x": [
            -0.278146431371798,
            -0.43593622099171603
           ],
           "y": [
            -0.2006032688755326,
            0.18468824479061907
           ],
           "z": [
            0.2576328282191529,
            0.27564870153579335
           ]
          },
          {
           "line": {
            "color": "black",
            "width": 5
           },
           "marker": {
            "color": "blue",
            "size": 2
           },
           "text": [
            "LWrist"
           ],
           "type": "scatter3d",
           "x": [
            -0.3343878544232135,
            -0.278146431371798
           ],
           "y": [
            -0.2984339680200345,
            -0.2006032688755326
           ],
           "z": [
            0.23025397896477173,
            0.2576328282191529
           ]
          },
          {
           "line": {
            "color": "red",
            "width": 5
           },
           "marker": {
            "color": "blue",
            "size": 2
           },
           "text": [
            "RShoulder"
           ],
           "type": "scatter3d",
           "x": [
            -0.4560297599615267,
            -0.490732581744659
           ],
           "y": [
            0.22975804643562747,
            0.17188713839697312
           ],
           "z": [
            -0.15499906473662506,
            0.06218822390167844
           ]
          },
          {
           "line": {
            "color": "red",
            "width": 5
           },
           "marker": {
            "color": "blue",
            "size": 2
           },
           "text": [
            "RElbow"
           ],
           "type": "scatter3d",
           "x": [
            -0.2764029005377305,
            -0.4560297599615267
           ],
           "y": [
            -0.1686154096773802,
            0.22975804643562747
           ],
           "z": [
            -0.14259516746160195,
            -0.15499906473662506
           ]
          },
          {
           "line": {
            "color": "red",
            "width": 5
           },
           "marker": {
            "color": "blue",
            "size": 2
           },
           "text": [
            "RWrist"
           ],
           "type": "scatter3d",
           "x": [
            -0.32571893738955754,
            -0.2764029005377305
           ],
           "y": [
            -0.2661429992060791,
            -0.1686154096773802
           ],
           "z": [
            -0.10742820248094276,
            -0.14259516746160195
           ]
          },
          {
           "line": {
            "color": "#1f77b4",
            "width": 1
           },
           "marker": {
            "color": "#1f77b4",
            "size": 1
           },
           "type": "scatter3d",
           "x": [
            -0.10456789807196559,
            0.07519876859470122,
            0.4937387685947011,
            1.127338768594701,
            1.5346987685947013,
            1.5842921019280345,
            1.3928254352613678,
            1.1768121019280344
           ],
           "y": [
            -0.9363594694242567,
            -0.9168994694242565,
            -0.9295194694242566,
            -0.9334528027575899,
            -0.9425594694242567,
            -0.8539261360909234,
            -0.5647928027575899,
            -0.27810613609092316
           ],
           "z": [
            -9.89050039882495,
            -9.781967065491616,
            -9.717387065491616,
            -10.231047065491616,
            -11.064395532158283,
            -11.62703239882495,
            -11.72928039882495,
            -11.640749732158284
           ]
          }
         ],
         "name": "frame9"
        },
        {
         "data": [
          {
           "line": {
            "color": "red",
            "width": 5
           },
           "marker": {
            "color": "blue",
            "size": 2
           },
           "text": [
            "RHip"
           ],
           "type": "scatter3d",
           "x": [
            0.018024796336642224,
            0.5634387685947011
           ],
           "y": [
            -0.12684886023217978,
            -0.08301946942425675
           ],
           "z": [
            -0.09275957813650848,
            -11.67711439882495
           ]
          },
          {
           "line": {
            "color": "red",
            "width": 5
           },
           "marker": {
            "color": "blue",
            "size": 2
           },
           "text": [
            "RKnee"
           ],
           "type": "scatter3d",
           "x": [
            0.12578089143269722,
            0.018024796336642224
           ],
           "y": [
            -0.6093904315357188,
            -0.12684886023217978
           ],
           "z": [
            -0.05881085526391239,
            -0.09275957813650848
           ]
          },
          {
           "line": {
            "color": "red",
            "width": 5
           },
           "marker": {
            "color": "blue",
            "size": 2
           },
           "text": [
            "RAnkle"
           ],
           "type": "scatter3d",
           "x": [
            0.4629346485153414,
            0.12578089143269722
           ],
           "y": [
            -0.9784256448172481,
            -0.6093904315357188
           ],
           "z": [
            -0.03149402456132222,
            -0.05881085526391239
           ]
          },
          {
           "line": {
            "color": "black",
            "width": 5
           },
           "marker": {
            "color": "blue",
            "size": 2
           },
           "text": [
            "LHip"
           ],
           "type": "scatter3d",
           "x": [
            0.02893794893424062,
            0.5634387685947011
           ],
           "y": [
            -0.13300454394390826,
            -0.08301946942425675
           ],
           "z": [
            0.08470359381223425,
            -11.67711439882495
           ]
          },
          {
           "line": {
            "color": "black",
            "width": 5
           },
           "marker": {
            "color": "blue",
            "size": 2
           },
           "text": [
            "LKnee"
           ],
           "type": "scatter3d",
           "x": [
            0.13184476051862892,
            0.02893794893424062
           ],
           "y": [
            -0.5972422221288021,
            -0.13300454394390826
           ],
           "z": [
            0.04469333153580024,
            0.08470359381223425
           ]
          },
          {
           "line": {
            "color": "black",
            "width": 5
           },
           "marker": {
            "color": "blue",
            "size": 2
           },
           "text": [
            "LAnkle"
           ],
           "type": "scatter3d",
           "x": [
            0.46087488358523565,
            0.13184476051862892
           ],
           "y": [
            -0.9688467074404989,
            -0.5972422221288021
           ],
           "z": [
            0.10014092476525605,
            0.04469333153580024
           ]
          },
          {
           "line": {
            "color": "black",
            "width": 5
           },
           "marker": {
            "color": "blue",
            "size": 2
           },
           "text": [
            "Spine1"
           ],
           "type": "scatter3d",
           "x": [
            -0.21587942598740045,
            0.5634387685947011
           ],
           "y": [
            0.16390710402253084,
            -0.08301946942425675
           ],
           "z": [
            0.022771127825476967,
            -11.67711439882495
           ]
          },
          {
           "line": {
            "color": "black",
            "width": 5
           },
           "marker": {
            "color": "blue",
            "size": 2
           },
           "text": [
            "Neck"
           ],
           "type": "scatter3d",
           "x": [
            -0.4456057115068581,
            -0.21587942598740045
           ],
           "y": [
            0.2513984394371789,
            0.16390710402253084
           ],
           "z": [
            0.03913227490959592,
            0.022771127825476967
           ]
          },
          {
           "line": {
            "color": "black",
            "width": 5
           },
           "marker": {
            "color": "blue",
            "size": 2
           },
           "text": [
            "Head"
           ],
           "type": "scatter3d",
           "x": [
            -0.5121833478839193,
            -0.4456057115068581
           ],
           "y": [
            0.3473939204648422,
            0.2513984394371789
           ],
           "z": [
            0.05516671191225342,
            0.03913227490959592
           ]
          },
          {
           "line": {
            "color": "black",
            "width": 5
           },
           "marker": {
            "color": "blue",
            "size": 2
           },
           "text": [
            "Site"
           ],
           "type": "scatter3d",
           "x": [
            -0.5467476511929684,
            -0.5121833478839193
           ],
           "y": [
            0.4603409684571107,
            0.3473939204648422
           ],
           "z": [
            0.05679699176497088,
            0.05516671191225342
           ]
          },
          {
           "line": {
            "color": "black",
            "width": 5
           },
           "marker": {
            "color": "blue",
            "size": 2
           },
           "text": [
            "LShoulder"
           ],
           "type": "scatter3d",
           "x": [
            -0.37804751238380796,
            -0.4456057115068581
           ],
           "y": [
            0.3143477167734565,
            0.2513984394371789
           ],
           "z": [
            0.24688164018410852,
            0.03913227490959592
           ]
          },
          {
           "line": {
            "color": "black",
            "width": 5
           },
           "marker": {
            "color": "blue",
            "size": 2
           },
           "text": [
            "LElbow"
           ],
           "type": "scatter3d",
           "x": [
            -0.16564280514527918,
            -0.37804751238380796
           ],
           "y": [
            -0.14920567647141514,
            0.3143477167734565
           ],
           "z": [
            0.2084221888383908,
            0.24688164018410852
           ]
          },
          {
           "line": {
            "color": "black",
            "width": 5
           },
           "marker": {
            "color": "blue",
            "size": 2
           },
           "text": [
            "LWrist"
           ],
           "type": "scatter3d",
           "x": [
            -0.17458951118577554,
            -0.16564280514527918
           ],
           "y": [
            -0.26158420928679593,
            -0.14920567647141514
           ],
           "z": [
            0.18059115289411132,
            0.2084221888383908
           ]
          },
          {
           "line": {
            "color": "red",
            "width": 5
           },
           "marker": {
            "color": "blue",
            "size": 2
           },
           "text": [
            "RShoulder"
           ],
           "type": "scatter3d",
           "x": [
            -0.3939742141858241,
            -0.4456057115068581
           ],
           "y": [
            0.30637094074799376,
            0.2513984394371789
           ],
           "z": [
            -0.18621794090322652,
            0.03913227490959592
           ]
          },
          {
           "line": {
            "color": "red",
            "width": 5
           },
           "marker": {
            "color": "blue",
            "size": 2
           },
           "text": [
            "RElbow"
           ],
           "type": "scatter3d",
           "x": [
            -0.16629522442066852,
            -0.3939742141858241
           ],
           "y": [
            -0.1698611528415206,
            0.30637094074799376
           ],
           "z": [
            -0.18033955578781224,
            -0.18621794090322652
           ]
          },
          {
           "line": {
            "color": "red",
            "width": 5
           },
           "marker": {
            "color": "blue",
            "size": 2
           },
           "text": [
            "RWrist"
           ],
           "type": "scatter3d",
           "x": [
            -0.17162469271773823,
            -0.16629522442066852
           ],
           "y": [
            -0.2819673422756448,
            -0.1698611528415206
           ],
           "z": [
            -0.15616898082090636,
            -0.18033955578781224
           ]
          },
          {
           "line": {
            "color": "#1f77b4",
            "width": 1
           },
           "marker": {
            "color": "#1f77b4",
            "size": 1
           },
           "type": "scatter3d",
           "x": [
            -0.10456789807196559,
            0.07519876859470122,
            0.4937387685947011,
            1.127338768594701,
            1.5346987685947013,
            1.5842921019280345,
            1.3928254352613678,
            1.1768121019280344,
            0.7025454352613678
           ],
           "y": [
            -0.9363594694242567,
            -0.9168994694242565,
            -0.9295194694242566,
            -0.9334528027575899,
            -0.9425594694242567,
            -0.8539261360909234,
            -0.5647928027575899,
            -0.27810613609092316,
            -0.09269280275758995
           ],
           "z": [
            -9.89050039882495,
            -9.781967065491616,
            -9.717387065491616,
            -10.231047065491616,
            -11.064395532158283,
            -11.62703239882495,
            -11.72928039882495,
            -11.640749732158284,
            -11.71298039882495
           ]
          }
         ],
         "name": "frame10"
        },
        {
         "data": [
          {
           "line": {
            "color": "red",
            "width": 5
           },
           "marker": {
            "color": "blue",
            "size": 2
           },
           "text": [
            "RHip"
           ],
           "type": "scatter3d",
           "x": [
            0.02438052220935949,
            0.8725321019280343
           ],
           "y": [
            -0.12119352154840612,
            -0.06881280275759005
           ],
           "z": [
            -0.09867920972899213,
            -11.655715065491616
           ]
          },
          {
           "line": {
            "color": "red",
            "width": 5
           },
           "marker": {
            "color": "blue",
            "size": 2
           },
           "text": [
            "RKnee"
           ],
           "type": "scatter3d",
           "x": [
            -0.05395404224517075,
            0.02438052220935949
           ],
           "y": [
            -0.6096898184030834,
            -0.12119352154840612
           ],
           "z": [
            -0.06960475664548404,
            -0.09867920972899213
           ]
          },
          {
           "line": {
            "color": "red",
            "width": 5
           },
           "marker": {
            "color": "blue",
            "size": 2
           },
           "text": [
            "RAnkle"
           ],
           "type": "scatter3d",
           "x": [
            0.1961971418487205,
            -0.05395404224517075
           ],
           "y": [
            -1.0427990957866249,
            -0.6096898184030834
           ],
           "z": [
            -0.04847201576666471,
            -0.06960475664548404
           ]
          },
          {
           "line": {
            "color": "black",
            "width": 5
           },
           "marker": {
            "color": "blue",
            "size": 2
           },
           "text": [
            "LHip"
           ],
           "type": "scatter3d",
           "x": [
            0.023000599353810713,
            0.8725321019280343
           ],
           "y": [
            -0.1379189751426919,
            -0.06881280275759005
           ],
           "z": [
            0.07843239845822936,
            -11.655715065491616
           ]
          },
          {
           "line": {
            "color": "black",
            "width": 5
           },
           "marker": {
            "color": "blue",
            "size": 2
           },
           "text": [
            "LKnee"
           ],
           "type": "scatter3d",
           "x": [
            -0.08728632021493721,
            0.023000599353810713
           ],
           "y": [
            -0.6002647589838348,
            -0.1379189751426919
           ],
           "z": [
            0.12062749699764197,
            0.07843239845822936
           ]
          },
          {
           "line": {
            "color": "black",
            "width": 5
           },
           "marker": {
            "color": "blue",
            "size": 2
           },
           "text": [
            "LAnkle"
           ],
           "type": "scatter3d",
           "x": [
            0.15742297361950985,
            -0.08728632021493721
           ],
           "y": [
            -1.0334867882939334,
            -0.6002647589838348
           ],
           "z": [
            0.07748603416404265,
            0.12062749699764197
           ]
          },
          {
           "line": {
            "color": "black",
            "width": 5
           },
           "marker": {
            "color": "blue",
            "size": 2
           },
           "text": [
            "Spine1"
           ],
           "type": "scatter3d",
           "x": [
            -0.26648390065578365,
            0.8725321019280343
           ],
           "y": [
            0.04141974464543674,
            -0.06881280275759005
           ],
           "z": [
            0.014018505306854223,
            -11.655715065491616
           ]
          },
          {
           "line": {
            "color": "black",
            "width": 5
           },
           "marker": {
            "color": "blue",
            "size": 2
           },
           "text": [
            "Neck"
           ],
           "type": "scatter3d",
           "x": [
            -0.5199477626263889,
            -0.26648390065578365
           ],
           "y": [
            0.05118045333988719,
            0.04141974464543674
           ],
           "z": [
            0.02709824816357198,
            0.014018505306854223
           ]
          },
          {
           "line": {
            "color": "black",
            "width": 5
           },
           "marker": {
            "color": "blue",
            "size": 2
           },
           "text": [
            "Head"
           ],
           "type": "scatter3d",
           "x": [
            -0.6030515839349893,
            -0.5199477626263889
           ],
           "y": [
            0.13435519064821788,
            0.05118045333988719
           ],
           "z": [
            0.036072387168472275,
            0.02709824816357198
           ]
          },
          {
           "line": {
            "color": "black",
            "width": 5
           },
           "marker": {
            "color": "blue",
            "size": 2
           },
           "text": [
            "Site"
           ],
           "type": "scatter3d",
           "x": [
            -0.674415981637936,
            -0.6030515839349893
           ],
           "y": [
            0.2284895618889271,
            0.13435519064821788
           ],
           "z": [
            0.03559550414511037,
            0.036072387168472275
           ]
          },
          {
           "line": {
            "color": "black",
            "width": 5
           },
           "marker": {
            "color": "blue",
            "size": 2
           },
           "text": [
            "LShoulder"
           ],
           "type": "scatter3d",
           "x": [
            -0.48552115611948066,
            -0.5199477626263889
           ],
           "y": [
            0.11729381618307544,
            0.05118045333988719
           ],
           "z": [
            0.22714333714779045,
            0.02709824816357198
           ]
          },
          {
           "line": {
            "color": "black",
            "width": 5
           },
           "marker": {
            "color": "blue",
            "size": 2
           },
           "text": [
            "LElbow"
           ],
           "type": "scatter3d",
           "x": [
            -0.4393901003281778,
            -0.48552115611948066
           ],
           "y": [
            -0.2538412964585759,
            0.11729381618307544
           ],
           "z": [
            0.19313405944564366,
            0.22714333714779045
           ]
          },
          {
           "line": {
            "color": "black",
            "width": 5
           },
           "marker": {
            "color": "blue",
            "size": 2
           },
           "text": [
            "LWrist"
           ],
           "type": "scatter3d",
           "x": [
            -0.5274265942828783,
            -0.4393901003281778
           ],
           "y": [
            -0.3181042312288276,
            -0.2538412964585759
           ],
           "z": [
            0.15309163575123108,
            0.19313405944564366
           ]
          },
          {
           "line": {
            "color": "red",
            "width": 5
           },
           "marker": {
            "color": "blue",
            "size": 2
           },
           "text": [
            "RShoulder"
           ],
           "type": "scatter3d",
           "x": [
            -0.4888116385583129,
            -0.5199477626263889
           ],
           "y": [
            0.04917662805644207,
            0.05118045333988719
           ],
           "z": [
            -0.20092413105216167,
            0.02709824816357198
           ]
          },
          {
           "line": {
            "color": "red",
            "width": 5
           },
           "marker": {
            "color": "blue",
            "size": 2
           },
           "text": [
            "RElbow"
           ],
           "type": "scatter3d",
           "x": [
            -0.4133920812382231,
            -0.4888116385583129
           ],
           "y": [
            -0.31610604416994037,
            0.04917662805644207
           ],
           "z": [
            -0.23395564310915873,
            -0.20092413105216167
           ]
          },
          {
           "line": {
            "color": "red",
            "width": 5
           },
           "marker": {
            "color": "blue",
            "size": 2
           },
           "text": [
            "RWrist"
           ],
           "type": "scatter3d",
           "x": [
            -0.49632813714003154,
            -0.4133920812382231
           ],
           "y": [
            -0.3852232783259919,
            -0.31610604416994037
           ],
           "z": [
            -0.19490649190110076,
            -0.23395564310915873
           ]
          },
          {
           "line": {
            "color": "#1f77b4",
            "width": 1
           },
           "marker": {
            "color": "#1f77b4",
            "size": 1
           },
           "type": "scatter3d",
           "x": [
            -0.10456789807196559,
            0.07519876859470122,
            0.4937387685947011,
            1.127338768594701,
            1.5346987685947013,
            1.5842921019280345,
            1.3928254352613678,
            1.1768121019280344,
            0.7025454352613678,
            0.5634387685947011
           ],
           "y": [
            -0.9363594694242567,
            -0.9168994694242565,
            -0.9295194694242566,
            -0.9334528027575899,
            -0.9425594694242567,
            -0.8539261360909234,
            -0.5647928027575899,
            -0.27810613609092316,
            -0.09269280275758995,
            -0.08301946942425675
           ],
           "z": [
            -9.89050039882495,
            -9.781967065491616,
            -9.717387065491616,
            -10.231047065491616,
            -11.064395532158283,
            -11.62703239882495,
            -11.72928039882495,
            -11.640749732158284,
            -11.71298039882495,
            -11.67711439882495
           ]
          }
         ],
         "name": "frame11"
        },
        {
         "data": [
          {
           "line": {
            "color": "red",
            "width": 5
           },
           "marker": {
            "color": "blue",
            "size": 2
           },
           "text": [
            "RHip"
           ],
           "type": "scatter3d",
           "x": [
            -0.0499910074235288,
            1.3347321019280343
           ],
           "y": [
            -0.11789468458660379,
            -0.16405946942425653
           ],
           "z": [
            -0.09285261700269665,
            -11.733913732158284
           ]
          },
          {
           "line": {
            "color": "red",
            "width": 5
           },
           "marker": {
            "color": "blue",
            "size": 2
           },
           "text": [
            "RKnee"
           ],
           "type": "scatter3d",
           "x": [
            -0.3346602720606435,
            -0.0499910074235288
           ],
           "y": [
            -0.5150016740646217,
            -0.11789468458660379
           ],
           "z": [
            -0.009908608600712299,
            -0.09285261700269665
           ]
          },
          {
           "line": {
            "color": "red",
            "width": 5
           },
           "marker": {
            "color": "blue",
            "size": 2
           },
           "text": [
            "RAnkle"
           ],
           "type": "scatter3d",
           "x": [
            -0.24086492629013256,
            -0.3346602720606435
           ],
           "y": [
            -1.0052283876724928,
            -0.5150016740646217
           ],
           "z": [
            0.028640790529978588,
            -0.009908608600712299
           ]
          },
          {
           "line": {
            "color": "black",
            "width": 5
           },
           "marker": {
            "color": "blue",
            "size": 2
           },
           "text": [
            "LHip"
           ],
           "type": "scatter3d",
           "x": [
            -0.014317839271498656,
            1.3347321019280343
           ],
           "y": [
            -0.1380355327255265,
            -0.16405946942425653
           ],
           "z": [
            0.08027143692952876,
            -11.733913732158284
           ]
          },
          {
           "line": {
            "color": "black",
            "width": 5
           },
           "marker": {
            "color": "blue",
            "size": 2
           },
           "text": [
            "LKnee"
           ],
           "type": "scatter3d",
           "x": [
            -0.30362839598490576,
            -0.014317839271498656
           ],
           "y": [
            -0.5104711734901031,
            -0.1380355327255265
           ],
           "z": [
            0.15306120315289462,
            0.08027143692952876
           ]
          },
          {
           "line": {
            "color": "black",
            "width": 5
           },
           "marker": {
            "color": "blue",
            "size": 2
           },
           "text": [
            "LAnkle"
           ],
           "type": "scatter3d",
           "x": [
            -0.26434692651215763,
            -0.30362839598490576
           ],
           "y": [
            -1.0083440445098677,
            -0.5104711734901031
           ],
           "z": [
            0.15088831508977307,
            0.15306120315289462
           ]
          },
          {
           "line": {
            "color": "black",
            "width": 5
           },
           "marker": {
            "color": "blue",
            "size": 2
           },
           "text": [
            "Spine1"
           ],
           "type": "scatter3d",
           "x": [
            -0.22648880358980183,
            1.3347321019280343
           ],
           "y": [
            0.12902188574361917,
            -0.16405946942425653
           ],
           "z": [
            0.07763981988514068,
            -11.733913732158284
           ]
          },
          {
           "line": {
            "color": "black",
            "width": 5
           },
           "marker": {
            "color": "blue",
            "size": 2
           },
           "text": [
            "Neck"
           ],
           "type": "scatter3d",
           "x": [
            -0.41793673354550276,
            -0.22648880358980183
           ],
           "y": [
            0.2829937212080387,
            0.12902188574361917
           ],
           "z": [
            0.14397556471794104,
            0.07763981988514068
           ]
          },
          {
           "line": {
            "color": "black",
            "width": 5
           },
           "marker": {
            "color": "blue",
            "size": 2
           },
           "text": [
            "Head"
           ],
           "type": "scatter3d",
           "x": [
            -0.4411763400370585,
            -0.41793673354550276
           ],
           "y": [
            0.3976224207448158,
            0.2829937212080387
           ],
           "z": [
            0.15897553624810357,
            0.14397556471794104
           ]
          },
          {
           "line": {
            "color": "black",
            "width": 5
           },
           "marker": {
            "color": "blue",
            "size": 2
           },
           "text": [
            "Site"
           ],
           "type": "scatter3d",
           "x": [
            -0.45837537069889756,
            -0.4411763400370585
           ],
           "y": [
            0.5142688400035855,
            0.3976224207448158
           ],
           "z": [
            0.1661998524238033,
            0.15897553624810357
           ]
          },
          {
           "line": {
            "color": "black",
            "width": 5
           },
           "marker": {
            "color": "blue",
            "size": 2
           },
           "text": [
            "LShoulder"
           ],
           "type": "scatter3d",
           "x": [
            -0.3271393907931912,
            -0.41793673354550276
           ],
           "y": [
            0.2582165356822148,
            0.2829937212080387
           ],
           "z": [
            0.3465907255962968,
            0.14397556471794104
           ]
          },
          {
           "line": {
            "color": "black",
            "width": 5
           },
           "marker": {
            "color": "blue",
            "size": 2
           },
           "text": [
            "LElbow"
           ],
           "type": "scatter3d",
           "x": [
            -0.7512737228661921,
            -0.3271393907931912
           ],
           "y": [
            -0.09154225551027317,
            0.2582165356822148
           ],
           "z": [
            0.2778513194416323,
            0.3465907255962968
           ]
          },
          {
           "line": {
            "color": "black",
            "width": 5
           },
           "marker": {
            "color": "blue",
            "size": 2
           },
           "text": [
            "LWrist"
           ],
           "type": "scatter3d",
           "x": [
            -0.8536322426910821,
            -0.7512737228661921
           ],
           "y": [
            -0.14251728879730963,
            -0.09154225551027317
           ],
           "z": [
            0.2576566629927708,
            0.2778513194416323
           ]
          },
          {
           "line": {
            "color": "red",
            "width": 5
           },
           "marker": {
            "color": "blue",
            "size": 2
           },
           "text": [
            "RShoulder"
           ],
           "type": "scatter3d",
           "x": [
            -0.439308913536553,
            -0.41793673354550276
           ],
           "y": [
            0.2979444497318038,
            0.2829937212080387
           ],
           "z": [
            -0.07022125472201246,
            0.14397556471794104
           ]
          },
          {
           "line": {
            "color": "red",
            "width": 5
           },
           "marker": {
            "color": "blue",
            "size": 2
           },
           "text": [
            "RElbow"
           ],
           "type": "scatter3d",
           "x": [
            -0.8088356531954679,
            -0.439308913536553
           ],
           "y": [
            -0.11920897521935392,
            0.2979444497318038
           ],
           "z": [
            -0.08636259402556057,
            -0.07022125472201246
           ]
          },
          {
           "line": {
            "color": "red",
            "width": 5
           },
           "marker": {
            "color": "blue",
            "size": 2
           },
           "text": [
            "RWrist"
           ],
           "type": "scatter3d",
           "x": [
            -0.907787085234986,
            -0.8088356531954679
           ],
           "y": [
            -0.17661627330097174,
            -0.11920897521935392
           ],
           "z": [
            -0.0766964748303014,
            -0.08636259402556057
           ]
          },
          {
           "line": {
            "color": "#1f77b4",
            "width": 1
           },
           "marker": {
            "color": "#1f77b4",
            "size": 1
           },
           "type": "scatter3d",
           "x": [
            -0.10456789807196559,
            0.07519876859470122,
            0.4937387685947011,
            1.127338768594701,
            1.5346987685947013,
            1.5842921019280345,
            1.3928254352613678,
            1.1768121019280344,
            0.7025454352613678,
            0.5634387685947011,
            0.8725321019280343
           ],
           "y": [
            -0.9363594694242567,
            -0.9168994694242565,
            -0.9295194694242566,
            -0.9334528027575899,
            -0.9425594694242567,
            -0.8539261360909234,
            -0.5647928027575899,
            -0.27810613609092316,
            -0.09269280275758995,
            -0.08301946942425675,
            -0.06881280275759005
           ],
           "z": [
            -9.89050039882495,
            -9.781967065491616,
            -9.717387065491616,
            -10.231047065491616,
            -11.064395532158283,
            -11.62703239882495,
            -11.72928039882495,
            -11.640749732158284,
            -11.71298039882495,
            -11.67711439882495,
            -11.655715065491616
           ]
          }
         ],
         "name": "frame12"
        },
        {
         "data": [
          {
           "line": {
            "color": "red",
            "width": 5
           },
           "marker": {
            "color": "blue",
            "size": 2
           },
           "text": [
            "RHip"
           ],
           "type": "scatter3d",
           "x": [
            -0.04420004467098737,
            1.3049254352613677
           ],
           "y": [
            -0.11891988586154856,
            -0.16121946942425658
           ],
           "z": [
            -0.09446842202028449,
            -11.667425732158282
           ]
          },
          {
           "line": {
            "color": "red",
            "width": 5
           },
           "marker": {
            "color": "blue",
            "size": 2
           },
           "text": [
            "RKnee"
           ],
           "type": "scatter3d",
           "x": [
            -0.3290052077195983,
            -0.04420004467098737
           ],
           "y": [
            -0.5228947546123697,
            -0.11891988586154856
           ],
           "z": [
            -0.05840480642603296,
            -0.09446842202028449
           ]
          },
          {
           "line": {
            "color": "red",
            "width": 5
           },
           "marker": {
            "color": "blue",
            "size": 2
           },
           "text": [
            "RAnkle"
           ],
           "type": "scatter3d",
           "x": [
            -0.21313174671569524,
            -0.3290052077195983
           ],
           "y": [
            -1.0091661006638495,
            -0.5228947546123697
           ],
           "z": [
            -0.031583679667834375,
            -0.05840480642603296
           ]
          },
          {
           "line": {
            "color": "black",
            "width": 5
           },
           "marker": {
            "color": "blue",
            "size": 2
           },
           "text": [
            "LHip"
           ],
           "type": "scatter3d",
           "x": [
            -0.03730863770295412,
            1.3049254352613677
           ],
           "y": [
            -0.13210736359864717,
            -0.16121946942425658
           ],
           "z": [
            0.08281317792912013,
            -11.667425732158282
           ]
          },
          {
           "line": {
            "color": "black",
            "width": 5
           },
           "marker": {
            "color": "blue",
            "size": 2
           },
           "text": [
            "LKnee"
           ],
           "type": "scatter3d",
           "x": [
            -0.31996464993767926,
            -0.03730863770295412
           ],
           "y": [
            -0.5159231292989439,
            -0.13210736359864717
           ],
           "z": [
            0.10513562295319367,
            0.08281317792912013
           ]
          },
          {
           "line": {
            "color": "black",
            "width": 5
           },
           "marker": {
            "color": "blue",
            "size": 2
           },
           "text": [
            "LAnkle"
           ],
           "type": "scatter3d",
           "x": [
            -0.23373827859119367,
            -0.31996464993767926
           ],
           "y": [
            -1.0074730395175833,
            -0.5159231292989439
           ],
           "z": [
            0.08593016455195013,
            0.10513562295319367
           ]
          },
          {
           "line": {
            "color": "black",
            "width": 5
           },
           "marker": {
            "color": "blue",
            "size": 2
           },
           "text": [
            "Spine1"
           ],
           "type": "scatter3d",
           "x": [
            -0.20609517505027153,
            1.3049254352613677
           ],
           "y": [
            0.17525767187570618,
            -0.16121946942425658
           ],
           "z": [
            0.025135001199632967,
            -11.667425732158282
           ]
          },
          {
           "line": {
            "color": "black",
            "width": 5
           },
           "marker": {
            "color": "blue",
            "size": 2
           },
           "text": [
            "Neck"
           ],
           "type": "scatter3d",
           "x": [
            -0.3883766272140138,
            -0.20609517505027153
           ],
           "y": [
            0.352669018466367,
            0.17525767187570618
           ],
           "z": [
            0.03739475410909954,
            0.025135001199632967
           ]
          },
          {
           "line": {
            "color": "black",
            "width": 5
           },
           "marker": {
            "color": "blue",
            "size": 2
           },
           "text": [
            "Head"
           ],
           "type": "scatter3d",
           "x": [
            -0.40213091745822516,
            -0.3883766272140138
           ],
           "y": [
            0.4692655369665506,
            0.352669018466367
           ],
           "z": [
            0.04838968870623006,
            0.03739475410909954
           ]
          },
          {
           "line": {
            "color": "black",
            "width": 5
           },
           "marker": {
            "color": "blue",
            "size": 2
           },
           "text": [
            "Site"
           ],
           "type": "scatter3d",
           "x": [
            -0.3974709777781491,
            -0.40213091745822516
           ],
           "y": [
            0.5872959969177833,
            0.4692655369665506
           ],
           "z": [
            0.04960624601459429,
            0.04838968870623006
           ]
          },
          {
           "line": {
            "color": "black",
            "width": 5
           },
           "marker": {
            "color": "blue",
            "size": 2
           },
           "text": [
            "LShoulder"
           ],
           "type": "scatter3d",
           "x": [
            -0.3430171615038409,
            -0.3883766272140138
           ],
           "y": [
            0.332057904644701,
            0.352669018466367
           ],
           "z": [
            0.2614027404049519,
            0.03739475410909954
           ]
          },
          {
           "line": {
            "color": "black",
            "width": 5
           },
           "marker": {
            "color": "blue",
            "size": 2
           },
           "text": [
            "LElbow"
           ],
           "type": "scatter3d",
           "x": [
            -0.7262754605432713,
            -0.3430171615038409
           ],
           "y": [
            -0.06518463381022621,
            0.332057904644701
           ],
           "z": [
            0.20208155966560426,
            0.2614027404049519
           ]
          },
          {
           "line": {
            "color": "black",
            "width": 5
           },
           "marker": {
            "color": "blue",
            "size": 2
           },
           "text": [
            "LWrist"
           ],
           "type": "scatter3d",
           "x": [
            -0.8207560533497352,
            -0.7262754605432713
           ],
           "y": [
            -0.129361769393036,
            -0.06518463381022621
           ],
           "z": [
            0.18114695673721748,
            0.20208155966560426
           ]
          },
          {
           "line": {
            "color": "red",
            "width": 5
           },
           "marker": {
            "color": "blue",
            "size": 2
           },
           "text": [
            "RShoulder"
           ],
           "type": "scatter3d",
           "x": [
            -0.3491041655028929,
            -0.3883766272140138
           ],
           "y": [
            0.36744749085527384,
            0.352669018466367
           ],
           "z": [
            -0.17057302453358503,
            0.03739475410909954
           ]
          },
          {
           "line": {
            "color": "red",
            "width": 5
           },
           "marker": {
            "color": "blue",
            "size": 2
           },
           "text": [
            "RElbow"
           ],
           "type": "scatter3d",
           "x": [
            -0.8250489734399402,
            -0.3491041655028929
           ],
           "y": [
            0.5209575441691363,
            0.36744749085527384
           ],
           "z": [
            -0.19300352221524975,
            -0.17057302453358503
           ]
          },
          {
           "line": {
            "color": "red",
            "width": 5
           },
           "marker": {
            "color": "blue",
            "size": 2
           },
           "text": [
            "RWrist"
           ],
           "type": "scatter3d",
           "x": [
            -0.8933693232249936,
            -0.8250489734399402
           ],
           "y": [
            0.608482403731424,
            0.5209575441691363
           ],
           "z": [
            -0.16381197549621263,
            -0.19300352221524975
           ]
          },
          {
           "line": {
            "color": "#1f77b4",
            "width": 1
           },
           "marker": {
            "color": "#1f77b4",
            "size": 1
           },
           "type": "scatter3d",
           "x": [
            -0.10456789807196559,
            0.07519876859470122,
            0.4937387685947011,
            1.127338768594701,
            1.5346987685947013,
            1.5842921019280345,
            1.3928254352613678,
            1.1768121019280344,
            0.7025454352613678,
            0.5634387685947011,
            0.8725321019280343,
            1.3347321019280343
           ],
           "y": [
            -0.9363594694242567,
            -0.9168994694242565,
            -0.9295194694242566,
            -0.9334528027575899,
            -0.9425594694242567,
            -0.8539261360909234,
            -0.5647928027575899,
            -0.27810613609092316,
            -0.09269280275758995,
            -0.08301946942425675,
            -0.06881280275759005,
            -0.16405946942425653
           ],
           "z": [
            -9.89050039882495,
            -9.781967065491616,
            -9.717387065491616,
            -10.231047065491616,
            -11.064395532158283,
            -11.62703239882495,
            -11.72928039882495,
            -11.640749732158284,
            -11.71298039882495,
            -11.67711439882495,
            -11.655715065491616,
            -11.733913732158284
           ]
          }
         ],
         "name": "frame13"
        },
        {
         "data": [
          {
           "line": {
            "color": "red",
            "width": 5
           },
           "marker": {
            "color": "blue",
            "size": 2
           },
           "text": [
            "RHip"
           ],
           "type": "scatter3d",
           "x": [
            -0.06634870816410743,
            1.1927054352613675
           ],
           "y": [
            -0.10654403301037862,
            -0.3059861360909233
           ],
           "z": [
            -0.09626050028999877,
            -11.71280039882495
           ]
          },
          {
           "line": {
            "color": "red",
            "width": 5
           },
           "marker": {
            "color": "blue",
            "size": 2
           },
           "text": [
            "RKnee"
           ],
           "type": "scatter3d",
           "x": [
            0.004114511324946557,
            -0.06634870816410743
           ],
           "y": [
            -0.5937905119353004,
            -0.10654403301037862
           ],
           "z": [
            -0.03937409307683559,
            -0.09626050028999877
           ]
          },
          {
           "line": {
            "color": "red",
            "width": 5
           },
           "marker": {
            "color": "blue",
            "size": 2
           },
           "text": [
            "RAnkle"
           ],
           "type": "scatter3d",
           "x": [
            0.07529071752211314,
            0.004114511324946557
           ],
           "y": [
            -1.0859672263159255,
            -0.5937905119353004
           ],
           "z": [
            0.018087922978917703,
            -0.03937409307683559
           ]
          },
          {
           "line": {
            "color": "black",
            "width": 5
           },
           "marker": {
            "color": "blue",
            "size": 2
           },
           "text": [
            "LHip"
           ],
           "type": "scatter3d",
           "x": [
            -0.05552223239430654,
            1.1927054352613675
           ],
           "y": [
            -0.12729446316748705,
            -0.3059861360909233
           ],
           "z": [
            0.08009815078895066,
            -11.71280039882495
           ]
          },
          {
           "line": {
            "color": "black",
            "width": 5
           },
           "marker": {
            "color": "blue",
            "size": 2
           },
           "text": [
            "LKnee"
           ],
           "type": "scatter3d",
           "x": [
            -0.4491019454172307,
            -0.05552223239430654
           ],
           "y": [
            -0.35199460742674904,
            -0.12729446316748705
           ],
           "z": [
            0.2294705360248237,
            0.08009815078895066
           ]
          },
          {
           "line": {
            "color": "black",
            "width": 5
           },
           "marker": {
            "color": "blue",
            "size": 2
           },
           "text": [
            "LAnkle"
           ],
           "type": "scatter3d",
           "x": [
            -0.14468285185180352,
            -0.4491019454172307
           ],
           "y": [
            -0.7399537441472843,
            -0.35199460742674904
           ],
           "z": [
            0.15046500019474962,
            0.2294705360248237
           ]
          },
          {
           "line": {
            "color": "black",
            "width": 5
           },
           "marker": {
            "color": "blue",
            "size": 2
           },
           "text": [
            "Spine1"
           ],
           "type": "scatter3d",
           "x": [
            -0.10521198120154529,
            1.1927054352613675
           ],
           "y": [
            0.25051823348028535,
            -0.3059861360909233
           ],
           "z": [
            0.017334515994956945,
            -11.71280039882495
           ]
          },
          {
           "line": {
            "color": "black",
            "width": 5
           },
           "marker": {
            "color": "blue",
            "size": 2
           },
           "text": [
            "Neck"
           ],
           "type": "scatter3d",
           "x": [
            -0.20946976007991858,
            -0.10521198120154529
           ],
           "y": [
            0.4816197497922583,
            0.25051823348028535
           ],
           "z": [
            0.021517458264764144,
            0.017334515994956945
           ]
          },
          {
           "line": {
            "color": "black",
            "width": 5
           },
           "marker": {
            "color": "blue",
            "size": 2
           },
           "text": [
            "Head"
           ],
           "type": "scatter3d",
           "x": [
            -0.22232634805448126,
            -0.20946976007991858
           ],
           "y": [
            0.5988353917721474,
            0.4816197497922583
           ],
           "z": [
            0.021380951211410704,
            0.021517458264764144
           ]
          },
          {
           "line": {
            "color": "black",
            "width": 5
           },
           "marker": {
            "color": "blue",
            "size": 2
           },
           "text": [
            "Site"
           ],
           "type": "scatter3d",
           "x": [
            -0.22245786602810302,
            -0.22232634805448126
           ],
           "y": [
            0.7164554463057118,
            0.5988353917721474
           ],
           "z": [
            0.010431521986564718,
            0.021380951211410704
           ]
          },
          {
           "line": {
            "color": "black",
            "width": 5
           },
           "marker": {
            "color": "blue",
            "size": 2
           },
           "text": [
            "LShoulder"
           ],
           "type": "scatter3d",
           "x": [
            -0.12476554034901466,
            -0.20946976007991858
           ],
           "y": [
            0.468529909046,
            0.4816197497922583
           ],
           "z": [
            0.2437080029621601,
            0.021517458264764144
           ]
          },
          {
           "line": {
            "color": "black",
            "width": 5
           },
           "marker": {
            "color": "blue",
            "size": 2
           },
           "text": [
            "LElbow"
           ],
           "type": "scatter3d",
           "x": [
            -0.6278640311240198,
            -0.12476554034901466
           ],
           "y": [
            0.6676073553133457,
            0.468529909046
           ],
           "z": [
            0.30196896138000895,
            0.2437080029621601
           ]
          },
          {
           "line": {
            "color": "black",
            "width": 5
           },
           "marker": {
            "color": "blue",
            "size": 2
           },
           "text": [
            "LWrist"
           ],
           "type": "scatter3d",
           "x": [
            -0.7225130784610565,
            -0.6278640311240198
           ],
           "y": [
            0.7334606136010904,
            0.6676073553133457
           ],
           "z": [
            0.28824121722725593,
            0.30196896138000895
           ]
          },
          {
           "line": {
            "color": "red",
            "width": 5
           },
           "marker": {
            "color": "blue",
            "size": 2
           },
           "text": [
            "RShoulder"
           ],
           "type": "scatter3d",
           "x": [
            -0.18491398381935586,
            -0.20946976007991858
           ],
           "y": [
            0.46999673324355573,
            0.4816197497922583
           ],
           "z": [
            -0.18556178295218118,
            0.021517458264764144
           ]
          },
          {
           "line": {
            "color": "red",
            "width": 5
           },
           "marker": {
            "color": "blue",
            "size": 2
           },
           "text": [
            "RElbow"
           ],
           "type": "scatter3d",
           "x": [
            -0.6952110412449677,
            -0.18491398381935586
           ],
           "y": [
            0.6823796361199932,
            0.46999673324355573
           ],
           "z": [
            -0.125246745073893,
            -0.18556178295218118
           ]
          },
          {
           "line": {
            "color": "red",
            "width": 5
           },
           "marker": {
            "color": "blue",
            "size": 2
           },
           "text": [
            "RWrist"
           ],
           "type": "scatter3d",
           "x": [
            -0.7784636157786455,
            -0.6952110412449677
           ],
           "y": [
            0.7585348043089994,
            0.6823796361199932
           ],
           "z": [
            -0.10403785949216982,
            -0.125246745073893
           ]
          },
          {
           "line": {
            "color": "#1f77b4",
            "width": 1
           },
           "marker": {
            "color": "#1f77b4",
            "size": 1
           },
           "type": "scatter3d",
           "x": [
            -0.10456789807196559,
            0.07519876859470122,
            0.4937387685947011,
            1.127338768594701,
            1.5346987685947013,
            1.5842921019280345,
            1.3928254352613678,
            1.1768121019280344,
            0.7025454352613678,
            0.5634387685947011,
            0.8725321019280343,
            1.3347321019280343,
            1.3049254352613677
           ],
           "y": [
            -0.9363594694242567,
            -0.9168994694242565,
            -0.9295194694242566,
            -0.9334528027575899,
            -0.9425594694242567,
            -0.8539261360909234,
            -0.5647928027575899,
            -0.27810613609092316,
            -0.09269280275758995,
            -0.08301946942425675,
            -0.06881280275759005,
            -0.16405946942425653,
            -0.16121946942425658
           ],
           "z": [
            -9.89050039882495,
            -9.781967065491616,
            -9.717387065491616,
            -10.231047065491616,
            -11.064395532158283,
            -11.62703239882495,
            -11.72928039882495,
            -11.640749732158284,
            -11.71298039882495,
            -11.67711439882495,
            -11.655715065491616,
            -11.733913732158284,
            -11.667425732158282
           ]
          }
         ],
         "name": "frame14"
        },
        {
         "data": [
          {
           "line": {
            "color": "red",
            "width": 5
           },
           "marker": {
            "color": "blue",
            "size": 2
           },
           "text": [
            "RHip"
           ],
           "type": "scatter3d",
           "x": [
            -0.04685519993237264,
            0.9764121019280343
           ],
           "y": [
            -0.11961988922780753,
            -0.36855946942425666
           ],
           "z": [
            -0.09227967436910589,
            -11.671505065491615
           ]
          },
          {
           "line": {
            "color": "red",
            "width": 5
           },
           "marker": {
            "color": "blue",
            "size": 2
           },
           "text": [
            "RKnee"
           ],
           "type": "scatter3d",
           "x": [
            -0.003974776379936595,
            -0.04685519993237264
           ],
           "y": [
            -0.6109220537108342,
            -0.11961988922780753
           ],
           "z": [
            -0.04335409515561217,
            -0.09227967436910589
           ]
          },
          {
           "line": {
            "color": "red",
            "width": 5
           },
           "marker": {
            "color": "blue",
            "size": 2
           },
           "text": [
            "RAnkle"
           ],
           "type": "scatter3d",
           "x": [
            0.28325301574060036,
            -0.003974776379936595
           ],
           "y": [
            -1.0202920744284478,
            -0.6109220537108342
           ],
           "z": [
            -0.020501625539772306,
            -0.04335409515561217
           ]
          },
          {
           "line": {
            "color": "black",
            "width": 5
           },
           "marker": {
            "color": "blue",
            "size": 2
           },
           "text": [
            "LHip"
           ],
           "type": "scatter3d",
           "x": [
            -0.03412118829803079,
            0.9764121019280343
           ],
           "y": [
            -0.1317372070191547,
            -0.36855946942425666
           ],
           "z": [
            0.08475473555429325,
            -11.671505065491615
           ]
          },
          {
           "line": {
            "color": "black",
            "width": 5
           },
           "marker": {
            "color": "blue",
            "size": 2
           },
           "text": [
            "LKnee"
           ],
           "type": "scatter3d",
           "x": [
            -0.042786481833933965,
            -0.03412118829803079
           ],
           "y": [
            -0.6066746278835398,
            -0.1317372070191547
           ],
           "z": [
            0.13021475925663673,
            0.08475473555429325
           ]
          },
          {
           "line": {
            "color": "black",
            "width": 5
           },
           "marker": {
            "color": "blue",
            "size": 2
           },
           "text": [
            "LAnkle"
           ],
           "type": "scatter3d",
           "x": [
            0.2584320353717895,
            -0.042786481833933965
           ],
           "y": [
            -1.0048392078134702,
            -0.6066746278835398
           ],
           "z": [
            0.14276558255806648,
            0.13021475925663673
           ]
          },
          {
           "line": {
            "color": "black",
            "width": 5
           },
           "marker": {
            "color": "blue",
            "size": 2
           },
           "text": [
            "Spine1"
           ],
           "type": "scatter3d",
           "x": [
            -0.08860379302736088,
            0.9764121019280343
           ],
           "y": [
            0.2574281258885329,
            -0.36855946942425666
           ],
           "z": [
            0.007091752598419987,
            -11.671505065491615
           ]
          },
          {
           "line": {
            "color": "black",
            "width": 5
           },
           "marker": {
            "color": "blue",
            "size": 2
           },
           "text": [
            "Neck"
           ],
           "type": "scatter3d",
           "x": [
            -0.18564349248922007,
            -0.08860379302736088
           ],
           "y": [
            0.49231882858212916,
            0.2574281258885329
           ],
           "z": [
            0.01556483305837908,
            0.007091752598419987
           ]
          },
          {
           "line": {
            "color": "black",
            "width": 5
           },
           "marker": {
            "color": "blue",
            "size": 2
           },
           "text": [
            "Head"
           ],
           "type": "scatter3d",
           "x": [
            -0.2172696825675584,
            -0.18564349248922007
           ],
           "y": [
            0.6058671938754476,
            0.49231882858212916
           ],
           "z": [
            0.0189367840700001,
            0.01556483305837908
           ]
          },
          {
           "line": {
            "color": "black",
            "width": 5
           },
           "marker": {
            "color": "blue",
            "size": 2
           },
           "text": [
            "Site"
           ],
           "type": "scatter3d",
           "x": [
            -0.2578041653504817,
            -0.2172696825675584
           ],
           "y": [
            0.7167174532905789,
            0.6058671938754476
           ],
           "z": [
            0.014082897078626644,
            0.0189367840700001
           ]
          },
          {
           "line": {
            "color": "black",
            "width": 5
           },
           "marker": {
            "color": "blue",
            "size": 2
           },
           "text": [
            "LShoulder"
           ],
           "type": "scatter3d",
           "x": [
            -0.11853195460401644,
            -0.18564349248922007
           ],
           "y": [
            0.48821777080475615,
            0.49231882858212916
           ],
           "z": [
            0.2192163219063623,
            0.01556483305837908
           ]
          },
          {
           "line": {
            "color": "black",
            "width": 5
           },
           "marker": {
            "color": "blue",
            "size": 2
           },
           "text": [
            "LElbow"
           ],
           "type": "scatter3d",
           "x": [
            -0.5484849716257355,
            -0.11853195460401644
           ],
           "y": [
            0.6759046905136104,
            0.48821777080475615
           ],
           "z": [
            0.2714479269252674,
            0.2192163219063623
           ]
          },
          {
           "line": {
            "color": "black",
            "width": 5
           },
           "marker": {
            "color": "blue",
            "size": 2
           },
           "text": [
            "LWrist"
           ],
           "type": "scatter3d",
           "x": [
            -0.6076594042354969,
            -0.5484849716257355
           ],
           "y": [
            0.7707348485256191,
            0.6759046905136104
           ],
           "z": [
            0.23999681557487662,
            0.2714479269252674
           ]
          },
          {
           "line": {
            "color": "red",
            "width": 5
           },
           "marker": {
            "color": "blue",
            "size": 2
           },
           "text": [
            "RShoulder"
           ],
           "type": "scatter3d",
           "x": [
            -0.17525689596847582,
            -0.18564349248922007
           ],
           "y": [
            0.46044515888693294,
            0.49231882858212916
           ],
           "z": [
            -0.2096233905486944,
            0.01556483305837908
           ]
          },
          {
           "line": {
            "color": "red",
            "width": 5
           },
           "marker": {
            "color": "blue",
            "size": 2
           },
           "text": [
            "RElbow"
           ],
           "type": "scatter3d",
           "x": [
            -0.5739951851040401,
            -0.17525689596847582
           ],
           "y": [
            0.6598397319447167,
            0.46044515888693294
           ],
           "z": [
            -0.19909350847152218,
            -0.2096233905486944
           ]
          },
          {
           "line": {
            "color": "red",
            "width": 5
           },
           "marker": {
            "color": "blue",
            "size": 2
           },
           "text": [
            "RWrist"
           ],
           "type": "scatter3d",
           "x": [
            -0.6017751296106745,
            -0.5739951851040401
           ],
           "y": [
            0.764605200550962,
            0.6598397319447167
           ],
           "z": [
            -0.16123998938911654,
            -0.19909350847152218
           ]
          },
          {
           "line": {
            "color": "#1f77b4",
            "width": 1
           },
           "marker": {
            "color": "#1f77b4",
            "size": 1
           },
           "type": "scatter3d",
           "x": [
            -0.10456789807196559,
            0.07519876859470122,
            0.4937387685947011,
            1.127338768594701,
            1.5346987685947013,
            1.5842921019280345,
            1.3928254352613678,
            1.1768121019280344,
            0.7025454352613678,
            0.5634387685947011,
            0.8725321019280343,
            1.3347321019280343,
            1.3049254352613677,
            1.1927054352613675
           ],
           "y": [
            -0.9363594694242567,
            -0.9168994694242565,
            -0.9295194694242566,
            -0.9334528027575899,
            -0.9425594694242567,
            -0.8539261360909234,
            -0.5647928027575899,
            -0.27810613609092316,
            -0.09269280275758995,
            -0.08301946942425675,
            -0.06881280275759005,
            -0.16405946942425653,
            -0.16121946942425658,
            -0.3059861360909233
           ],
           "z": [
            -9.89050039882495,
            -9.781967065491616,
            -9.717387065491616,
            -10.231047065491616,
            -11.064395532158283,
            -11.62703239882495,
            -11.72928039882495,
            -11.640749732158284,
            -11.71298039882495,
            -11.67711439882495,
            -11.655715065491616,
            -11.733913732158284,
            -11.667425732158282,
            -11.71280039882495
           ]
          }
         ],
         "name": "frame15"
        },
        {
         "data": [
          {
           "line": {
            "color": "red",
            "width": 5
           },
           "marker": {
            "color": "blue",
            "size": 2
           },
           "text": [
            "RHip"
           ],
           "type": "scatter3d",
           "x": [
            -0.032982871342954745,
            1.160118768594701
           ],
           "y": [
            -0.11720059653887538,
            -0.3208794694242565
           ],
           "z": [
            -0.10097532535302456,
            -11.601569065491617
           ]
          },
          {
           "line": {
            "color": "red",
            "width": 5
           },
           "marker": {
            "color": "blue",
            "size": 2
           },
           "text": [
            "RKnee"
           ],
           "type": "scatter3d",
           "x": [
            -0.12768211499898174,
            -0.032982871342954745
           ],
           "y": [
            -0.6035931690396903,
            -0.11720059653887538
           ],
           "z": [
            -0.10901140139391963,
            -0.10097532535302456
           ]
          },
          {
           "line": {
            "color": "red",
            "width": 5
           },
           "marker": {
            "color": "blue",
            "size": 2
           },
           "text": [
            "RAnkle"
           ],
           "type": "scatter3d",
           "x": [
            0.17605820576818254,
            -0.12768211499898174
           ],
           "y": [
            -1.0014628418197862,
            -0.6035931690396903
           ],
           "z": [
            -0.10212701191916906,
            -0.10901140139391963
           ]
          },
          {
           "line": {
            "color": "black",
            "width": 5
           },
           "marker": {
            "color": "blue",
            "size": 2
           },
           "text": [
            "LHip"
           ],
           "type": "scatter3d",
           "x": [
            -0.026816332631959483,
            1.160118768594701
           ],
           "y": [
            -0.1388641425733912,
            -0.3208794694242565
           ],
           "z": [
            0.07549799079766828,
            -11.601569065491617
           ]
          },
          {
           "line": {
            "color": "black",
            "width": 5
           },
           "marker": {
            "color": "blue",
            "size": 2
           },
           "text": [
            "LKnee"
           ],
           "type": "scatter3d",
           "x": [
            -0.1369205345242248,
            -0.026816332631959483
           ],
           "y": [
            -0.6026057993192944,
            -0.1388641425733912
           ],
           "z": [
            0.09847613973588842,
            0.07549799079766828
           ]
          },
          {
           "line": {
            "color": "black",
            "width": 5
           },
           "marker": {
            "color": "blue",
            "size": 2
           },
           "text": [
            "LAnkle"
           ],
           "type": "scatter3d",
           "x": [
            0.076143942762541,
            -0.1369205345242248
           ],
           "y": [
            -1.054062606815998,
            -0.6026057993192944
           ],
           "z": [
            0.08379858996292455,
            0.09847613973588842
           ]
          },
          {
           "line": {
            "color": "black",
            "width": 5
           },
           "marker": {
            "color": "blue",
            "size": 2
           },
           "text": [
            "Spine1"
           ],
           "type": "scatter3d",
           "x": [
            -0.14243420317015043,
            1.160118768594701
           ],
           "y": [
            0.2274678119138409,
            -0.3208794694242565
           ],
           "z": [
            0.042904517230113015,
            -11.601569065491617
           ]
          },
          {
           "line": {
            "color": "black",
            "width": 5
           },
           "marker": {
            "color": "blue",
            "size": 2
           },
           "text": [
            "Neck"
           ],
           "type": "scatter3d",
           "x": [
            -0.2913699834066391,
            -0.14243420317015043
           ],
           "y": [
            0.4300259470469414,
            0.2274678119138409
           ],
           "z": [
            0.08104814171611885,
            0.042904517230113015
           ]
          },
          {
           "line": {
            "color": "black",
            "width": 5
           },
           "marker": {
            "color": "blue",
            "size": 2
           },
           "text": [
            "Head"
           ],
           "type": "scatter3d",
           "x": [
            -0.3881044492613497,
            -0.2913699834066391
           ],
           "y": [
            0.4922817079308923,
            0.4300259470469414
           ],
           "z": [
            0.10696108376917479,
            0.08104814171611885
           ]
          },
          {
           "line": {
            "color": "black",
            "width": 5
           },
           "marker": {
            "color": "blue",
            "size": 2
           },
           "text": [
            "Site"
           ],
           "type": "scatter3d",
           "x": [
            -0.49770816506957716,
            -0.3881044492613497
           ],
           "y": [
            0.5340943489326828,
            0.4922817079308923
           ],
           "z": [
            0.12085759625579229,
            0.10696108376917479
           ]
          },
          {
           "line": {
            "color": "black",
            "width": 5
           },
           "marker": {
            "color": "blue",
            "size": 2
           },
           "text": [
            "LShoulder"
           ],
           "type": "scatter3d",
           "x": [
            -0.21942134307380134,
            -0.2913699834066391
           ],
           "y": [
            0.4174107222774488,
            0.4300259470469414
           ],
           "z": [
            0.28196739400535087,
            0.08104814171611885
           ]
          },
          {
           "line": {
            "color": "black",
            "width": 5
           },
           "marker": {
            "color": "blue",
            "size": 2
           },
           "text": [
            "LElbow"
           ],
           "type": "scatter3d",
           "x": [
            -0.6827274208144571,
            -0.21942134307380134
           ],
           "y": [
            0.6089431550888484,
            0.4174107222774488
           ],
           "z": [
            0.2486771117245663,
            0.28196739400535087
           ]
          },
          {
           "line": {
            "color": "black",
            "width": 5
           },
           "marker": {
            "color": "blue",
            "size": 2
           },
           "text": [
            "LWrist"
           ],
           "type": "scatter3d",
           "x": [
            -0.7517019203743098,
            -0.6827274208144571
           ],
           "y": [
            0.68984038980707,
            0.6089431550888484
           ],
           "z": [
            0.20196843400984932,
            0.2486771117245663
           ]
          },
          {
           "line": {
            "color": "red",
            "width": 5
           },
           "marker": {
            "color": "blue",
            "size": 2
           },
           "text": [
            "RShoulder"
           ],
           "type": "scatter3d",
           "x": [
            -0.2834653673639891,
            -0.2913699834066391
           ],
           "y": [
            0.4271599533075352,
            0.4300259470469414
           ],
           "z": [
            -0.1466301460845525,
            0.08104814171611885
           ]
          },
          {
           "line": {
            "color": "red",
            "width": 5
           },
           "marker": {
            "color": "blue",
            "size": 2
           },
           "text": [
            "RElbow"
           ],
           "type": "scatter3d",
           "x": [
            -0.4784649161293745,
            -0.2834653673639891
           ],
           "y": [
            -0.06853633449970253,
            0.4271599533075352
           ],
           "z": [
            -0.17660742450799738,
            -0.1466301460845525
           ]
          },
          {
           "line": {
            "color": "red",
            "width": 5
           },
           "marker": {
            "color": "blue",
            "size": 2
           },
           "text": [
            "RWrist"
           ],
           "type": "scatter3d",
           "x": [
            -0.558153659241887,
            -0.4784649161293745
           ],
           "y": [
            -0.14726209080278507,
            -0.06853633449970253
           ],
           "z": [
            -0.151460314303133,
            -0.17660742450799738
           ]
          },
          {
           "line": {
            "color": "#1f77b4",
            "width": 1
           },
           "marker": {
            "color": "#1f77b4",
            "size": 1
           },
           "type": "scatter3d",
           "x": [
            -0.10456789807196559,
            0.07519876859470122,
            0.4937387685947011,
            1.127338768594701,
            1.5346987685947013,
            1.5842921019280345,
            1.3928254352613678,
            1.1768121019280344,
            0.7025454352613678,
            0.5634387685947011,
            0.8725321019280343,
            1.3347321019280343,
            1.3049254352613677,
            1.1927054352613675,
            0.9764121019280343
           ],
           "y": [
            -0.9363594694242567,
            -0.9168994694242565,
            -0.9295194694242566,
            -0.9334528027575899,
            -0.9425594694242567,
            -0.8539261360909234,
            -0.5647928027575899,
            -0.27810613609092316,
            -0.09269280275758995,
            -0.08301946942425675,
            -0.06881280275759005,
            -0.16405946942425653,
            -0.16121946942425658,
            -0.3059861360909233,
            -0.36855946942425666
           ],
           "z": [
            -9.89050039882495,
            -9.781967065491616,
            -9.717387065491616,
            -10.231047065491616,
            -11.064395532158283,
            -11.62703239882495,
            -11.72928039882495,
            -11.640749732158284,
            -11.71298039882495,
            -11.67711439882495,
            -11.655715065491616,
            -11.733913732158284,
            -11.667425732158282,
            -11.71280039882495,
            -11.671505065491615
           ]
          }
         ],
         "name": "frame16"
        },
        {
         "data": [
          {
           "line": {
            "color": "red",
            "width": 5
           },
           "marker": {
            "color": "blue",
            "size": 2
           },
           "text": [
            "RHip"
           ],
           "type": "scatter3d",
           "x": [
            -0.03073500015435293,
            1.4533787685947008
           ],
           "y": [
            -0.12704890654605006,
            -0.5929661360909233
           ],
           "z": [
            -0.08907188710366754,
            -11.708547065491617
           ]
          },
          {
           "line": {
            "color": "red",
            "width": 5
           },
           "marker": {
            "color": "blue",
            "size": 2
           },
           "text": [
            "RKnee"
           ],
           "type": "scatter3d",
           "x": [
            -0.1964023822846812,
            -0.03073500015435293
           ],
           "y": [
            -0.5938532882123115,
            -0.12704890654605006
           ],
           "z": [
            -0.0730018028978563,
            -0.08907188710366754
           ]
          },
          {
           "line": {
            "color": "red",
            "width": 5
           },
           "marker": {
            "color": "blue",
            "size": 2
           },
           "text": [
            "RAnkle"
           ],
           "type": "scatter3d",
           "x": [
            -0.04028504191609694,
            -0.1964023822846812
           ],
           "y": [
            -1.0689773757280507,
            -0.5938532882123115
           ],
           "z": [
            -0.05085837735219023,
            -0.0730018028978563
           ]
          },
          {
           "line": {
            "color": "black",
            "width": 5
           },
           "marker": {
            "color": "blue",
            "size": 2
           },
           "text": [
            "LHip"
           ],
           "type": "scatter3d",
           "x": [
            -0.024251674519203403,
            1.4533787685947008
           ],
           "y": [
            -0.13135095463814994,
            -0.5929661360909233
           ],
           "z": [
            0.08866281859729597,
            -11.708547065491617
           ]
          },
          {
           "line": {
            "color": "black",
            "width": 5
           },
           "marker": {
            "color": "blue",
            "size": 2
           },
           "text": [
            "LKnee"
           ],
           "type": "scatter3d",
           "x": [
            -0.26104012655529374,
            -0.024251674519203403
           ],
           "y": [
            -0.5334871752759771,
            -0.13135095463814994
           ],
           "z": [
            0.18828683095311227,
            0.08866281859729597
           ]
          },
          {
           "line": {
            "color": "black",
            "width": 5
           },
           "marker": {
            "color": "blue",
            "size": 2
           },
           "text": [
            "LAnkle"
           ],
           "type": "scatter3d",
           "x": [
            0.09530650406645513,
            -0.26104012655529374
           ],
           "y": [
            -0.8833878849614358,
            -0.5334871752759771
           ],
           "z": [
            0.18486291651551667,
            0.18828683095311227
           ]
          },
          {
           "line": {
            "color": "black",
            "width": 5
           },
           "marker": {
            "color": "blue",
            "size": 2
           },
           "text": [
            "Spine1"
           ],
           "type": "scatter3d",
           "x": [
            -0.19943777271052499,
            1.4533787685947008
           ],
           "y": [
            0.18222694226911185,
            -0.5929661360909233
           ],
           "z": [
            0.0010151624338163856,
            -11.708547065491617
           ]
          },
          {
           "line": {
            "color": "black",
            "width": 5
           },
           "marker": {
            "color": "blue",
            "size": 2
           },
           "text": [
            "Neck"
           ],
           "type": "scatter3d",
           "x": [
            -0.4059867685692822,
            -0.19943777271052499
           ],
           "y": [
            0.3300242509097724,
            0.18222694226911185
           ],
           "z": [
            -0.015350647460758537,
            0.0010151624338163856
           ]
          },
          {
           "line": {
            "color": "black",
            "width": 5
           },
           "marker": {
            "color": "blue",
            "size": 2
           },
           "text": [
            "Head"
           ],
           "type": "scatter3d",
           "x": [
            -0.5187412032519404,
            -0.4059867685692822
           ],
           "y": [
            0.36439597531805834,
            0.3300242509097724
           ],
           "z": [
            -0.018487402770917427,
            -0.015350647460758537
           ]
          },
          {
           "line": {
            "color": "black",
            "width": 5
           },
           "marker": {
            "color": "blue",
            "size": 2
           },
           "text": [
            "Site"
           ],
           "type": "scatter3d",
           "x": [
            -0.6354992703727029,
            -0.5187412032519404
           ],
           "y": [
            0.37534005080537813,
            0.36439597531805834
           ],
           "z": [
            -0.032705894243550304,
            -0.018487402770917427
           ]
          },
          {
           "line": {
            "color": "black",
            "width": 5
           },
           "marker": {
            "color": "blue",
            "size": 2
           },
           "text": [
            "LShoulder"
           ],
           "type": "scatter3d",
           "x": [
            -0.38251513035022566,
            -0.4059867685692822
           ],
           "y": [
            0.3434036460324261,
            0.3300242509097724
           ],
           "z": [
            0.20016620873699864,
            -0.015350647460758537
           ]
          },
          {
           "line": {
            "color": "black",
            "width": 5
           },
           "marker": {
            "color": "blue",
            "size": 2
           },
           "text": [
            "LElbow"
           ],
           "type": "scatter3d",
           "x": [
            -0.5876721204733598,
            -0.38251513035022566
           ],
           "y": [
            -0.160248422807582,
            0.3434036460324261
           ],
           "z": [
            0.1813217380885206,
            0.20016620873699864
           ]
          },
          {
           "line": {
            "color": "black",
            "width": 5
           },
           "marker": {
            "color": "blue",
            "size": 2
           },
           "text": [
            "LWrist"
           ],
           "type": "scatter3d",
           "x": [
            -0.6558560175992824,
            -0.5876721204733598
           ],
           "y": [
            -0.2504619983437262,
            -0.160248422807582
           ],
           "z": [
            0.15493970423685433,
            0.1813217380885206
           ]
          },
          {
           "line": {
            "color": "red",
            "width": 5
           },
           "marker": {
            "color": "blue",
            "size": 2
           },
           "text": [
            "RShoulder"
           ],
           "type": "scatter3d",
           "x": [
            -0.34917051474356997,
            -0.4059867685692822
           ],
           "y": [
            0.32093255578945645,
            0.3300242509097724
           ],
           "z": [
            -0.23143050422246247,
            -0.015350647460758537
           ]
          },
          {
           "line": {
            "color": "red",
            "width": 5
           },
           "marker": {
            "color": "blue",
            "size": 2
           },
           "text": [
            "RElbow"
           ],
           "type": "scatter3d",
           "x": [
            -0.7278377165548332,
            -0.34917051474356997
           ],
           "y": [
            -0.04828232639625751,
            0.32093255578945645
           ],
           "z": [
            -0.16004877499046088,
            -0.23143050422246247
           ]
          },
          {
           "line": {
            "color": "red",
            "width": 5
           },
           "marker": {
            "color": "blue",
            "size": 2
           },
           "text": [
            "RWrist"
           ],
           "type": "scatter3d",
           "x": [
            -0.8337899398437478,
            -0.7278377165548332
           ],
           "y": [
            -0.07939813666973716,
            -0.04828232639625751
           ],
           "z": [
            -0.12864255956801962,
            -0.16004877499046088
           ]
          },
          {
           "line": {
            "color": "#1f77b4",
            "width": 1
           },
           "marker": {
            "color": "#1f77b4",
            "size": 1
           },
           "type": "scatter3d",
           "x": [
            -0.10456789807196559,
            0.07519876859470122,
            0.4937387685947011,
            1.127338768594701,
            1.5346987685947013,
            1.5842921019280345,
            1.3928254352613678,
            1.1768121019280344,
            0.7025454352613678,
            0.5634387685947011,
            0.8725321019280343,
            1.3347321019280343,
            1.3049254352613677,
            1.1927054352613675,
            0.9764121019280343,
            1.160118768594701
           ],
           "y": [
            -0.9363594694242567,
            -0.9168994694242565,
            -0.9295194694242566,
            -0.9334528027575899,
            -0.9425594694242567,
            -0.8539261360909234,
            -0.5647928027575899,
            -0.27810613609092316,
            -0.09269280275758995,
            -0.08301946942425675,
            -0.06881280275759005,
            -0.16405946942425653,
            -0.16121946942425658,
            -0.3059861360909233,
            -0.36855946942425666,
            -0.3208794694242565
           ],
           "z": [
            -9.89050039882495,
            -9.781967065491616,
            -9.717387065491616,
            -10.231047065491616,
            -11.064395532158283,
            -11.62703239882495,
            -11.72928039882495,
            -11.640749732158284,
            -11.71298039882495,
            -11.67711439882495,
            -11.655715065491616,
            -11.733913732158284,
            -11.667425732158282,
            -11.71280039882495,
            -11.671505065491615,
            -11.601569065491617
           ]
          }
         ],
         "name": "frame17"
        },
        {
         "data": [
          {
           "line": {
            "color": "red",
            "width": 5
           },
           "marker": {
            "color": "blue",
            "size": 2
           },
           "text": [
            "RHip"
           ],
           "type": "scatter3d",
           "x": [
            -0.05888415079113063,
            1.725698768594701
           ],
           "y": [
            -0.11582070160265179,
            -0.8983794694242566
           ],
           "z": [
            -0.09021135087737164,
            -11.585561732158283
           ]
          },
          {
           "line": {
            "color": "red",
            "width": 5
           },
           "marker": {
            "color": "blue",
            "size": 2
           },
           "text": [
            "RKnee"
           ],
           "type": "scatter3d",
           "x": [
            -0.36053266542546014,
            -0.05888415079113063
           ],
           "y": [
            -0.5072028437929332,
            -0.11582070160265179
           ],
           "z": [
            -0.1281382838481253,
            -0.09021135087737164
           ]
          },
          {
           "line": {
            "color": "red",
            "width": 5
           },
           "marker": {
            "color": "blue",
            "size": 2
           },
           "text": [
            "RAnkle"
           ],
           "type": "scatter3d",
           "x": [
            -0.0040937914509928675,
            -0.36053266542546014
           ],
           "y": [
            -0.8587079481479032,
            -0.5072028437929332
           ],
           "z": [
            -0.1269787457779934,
            -0.1281382838481253
           ]
          },
          {
           "line": {
            "color": "black",
            "width": 5
           },
           "marker": {
            "color": "blue",
            "size": 2
           },
           "text": [
            "LHip"
           ],
           "type": "scatter3d",
           "x": [
            -0.05750461606195256,
            1.725698768594701
           ],
           "y": [
            -0.12133123445112126,
            -0.8983794694242566
           ],
           "z": [
            0.08760287142034784,
            -11.585561732158283
           ]
          },
          {
           "line": {
            "color": "black",
            "width": 5
           },
           "marker": {
            "color": "blue",
            "size": 2
           },
           "text": [
            "LKnee"
           ],
           "type": "scatter3d",
           "x": [
            -0.10613716389547956,
            -0.05750461606195256
           ],
           "y": [
            -0.5959095485043462,
            -0.12133123445112126
           ],
           "z": [
            0.07676064258982507,
            0.08760287142034784
           ]
          },
          {
           "line": {
            "color": "black",
            "width": 5
           },
           "marker": {
            "color": "blue",
            "size": 2
           },
           "text": [
            "LAnkle"
           ],
           "type": "scatter3d",
           "x": [
            0.029127875825595728,
            -0.10613716389547956
           ],
           "y": [
            -1.075693093270943,
            -0.5959095485043462
           ],
           "z": [
            0.04616211020032246,
            0.07676064258982507
           ]
          },
          {
           "line": {
            "color": "black",
            "width": 5
           },
           "marker": {
            "color": "blue",
            "size": 2
           },
           "text": [
            "Spine1"
           ],
           "type": "scatter3d",
           "x": [
            -0.06852166296441031,
            1.725698768594701
           ],
           "y": [
            0.26090056876106327,
            -0.8983794694242566
           ],
           "z": [
            0.037459729844371736,
            -11.585561732158283
           ]
          },
          {
           "line": {
            "color": "black",
            "width": 5
           },
           "marker": {
            "color": "blue",
            "size": 2
           },
           "text": [
            "Neck"
           ],
           "type": "scatter3d",
           "x": [
            -0.13151371429880343,
            -0.06852166296441031
           ],
           "y": [
            0.5074809408062761,
            0.26090056876106327
           ],
           "z": [
            0.04487818055297055,
            0.037459729844371736
           ]
          },
          {
           "line": {
            "color": "black",
            "width": 5
           },
           "marker": {
            "color": "blue",
            "size": 2
           },
           "text": [
            "Head"
           ],
           "type": "scatter3d",
           "x": [
            -0.15227519258507272,
            -0.13151371429880343
           ],
           "y": [
            0.6228764521038235,
            0.5074809408062761
           ],
           "z": [
            0.0574342231232734,
            0.04487818055297055
           ]
          },
          {
           "line": {
            "color": "black",
            "width": 5
           },
           "marker": {
            "color": "blue",
            "size": 2
           },
           "text": [
            "Site"
           ],
           "type": "scatter3d",
           "x": [
            -0.18375809336006155,
            -0.15227519258507272
           ],
           "y": [
            0.7365091688106631,
            0.6228764521038235
           ],
           "z": [
            0.06456283998921108,
            0.0574342231232734
           ]
          },
          {
           "line": {
            "color": "black",
            "width": 5
           },
           "marker": {
            "color": "blue",
            "size": 2
           },
           "text": [
            "LShoulder"
           ],
           "type": "scatter3d",
           "x": [
            -0.11037521582569054,
            -0.13151371429880343
           ],
           "y": [
            0.4697046435080867,
            0.5074809408062761
           ],
           "z": [
            0.2694199127247998,
            0.04487818055297055
           ]
          },
          {
           "line": {
            "color": "black",
            "width": 5
           },
           "marker": {
            "color": "blue",
            "size": 2
           },
           "text": [
            "LElbow"
           ],
           "type": "scatter3d",
           "x": [
            -0.10743645459632445,
            -0.11037521582569054
           ],
           "y": [
            -0.062481498684962,
            0.4697046435080867
           ],
           "z": [
            0.30663781143888613,
            0.2694199127247998
           ]
          },
          {
           "line": {
            "color": "black",
            "width": 5
           },
           "marker": {
            "color": "blue",
            "size": 2
           },
           "text": [
            "LWrist"
           ],
           "type": "scatter3d",
           "x": [
            -0.15085628703641674,
            -0.10743645459632445
           ],
           "y": [
            -0.17013271928481055,
            -0.062481498684962
           ],
           "z": [
            0.3035592399062619,
            0.30663781143888613
           ]
          },
          {
           "line": {
            "color": "red",
            "width": 5
           },
           "marker": {
            "color": "blue",
            "size": 2
           },
           "text": [
            "RShoulder"
           ],
           "type": "scatter3d",
           "x": [
            -0.09649118508198162,
            -0.13151371429880343
           ],
           "y": [
            0.49474668256432386,
            0.5074809408062761
           ],
           "z": [
            -0.16309906477131975,
            0.04487818055297055
           ]
          },
          {
           "line": {
            "color": "red",
            "width": 5
           },
           "marker": {
            "color": "blue",
            "size": 2
           },
           "text": [
            "RElbow"
           ],
           "type": "scatter3d",
           "x": [
            -0.024658706431455846,
            -0.09649118508198162
           ],
           "y": [
            -0.04198681773577495,
            0.49474668256432386
           ],
           "z": [
            -0.2924130937727174,
            -0.16309906477131975
           ]
          },
          {
           "line": {
            "color": "red",
            "width": 5
           },
           "marker": {
            "color": "blue",
            "size": 2
           },
           "text": [
            "RWrist"
           ],
           "type": "scatter3d",
           "x": [
            -0.0475663369560857,
            -0.024658706431455846
           ],
           "y": [
            -0.14810712895412248,
            -0.04198681773577495
           ],
           "z": [
            -0.3297512464676231,
            -0.2924130937727174
           ]
          },
          {
           "line": {
            "color": "#1f77b4",
            "width": 1
           },
           "marker": {
            "color": "#1f77b4",
            "size": 1
           },
           "type": "scatter3d",
           "x": [
            -0.10456789807196559,
            0.07519876859470122,
            0.4937387685947011,
            1.127338768594701,
            1.5346987685947013,
            1.5842921019280345,
            1.3928254352613678,
            1.1768121019280344,
            0.7025454352613678,
            0.5634387685947011,
            0.8725321019280343,
            1.3347321019280343,
            1.3049254352613677,
            1.1927054352613675,
            0.9764121019280343,
            1.160118768594701,
            1.4533787685947008
           ],
           "y": [
            -0.9363594694242567,
            -0.9168994694242565,
            -0.9295194694242566,
            -0.9334528027575899,
            -0.9425594694242567,
            -0.8539261360909234,
            -0.5647928027575899,
            -0.27810613609092316,
            -0.09269280275758995,
            -0.08301946942425675,
            -0.06881280275759005,
            -0.16405946942425653,
            -0.16121946942425658,
            -0.3059861360909233,
            -0.36855946942425666,
            -0.3208794694242565,
            -0.5929661360909233
           ],
           "z": [
            -9.89050039882495,
            -9.781967065491616,
            -9.717387065491616,
            -10.231047065491616,
            -11.064395532158283,
            -11.62703239882495,
            -11.72928039882495,
            -11.640749732158284,
            -11.71298039882495,
            -11.67711439882495,
            -11.655715065491616,
            -11.733913732158284,
            -11.667425732158282,
            -11.71280039882495,
            -11.671505065491615,
            -11.601569065491617,
            -11.708547065491617
           ]
          }
         ],
         "name": "frame18"
        },
        {
         "data": [
          {
           "line": {
            "color": "red",
            "width": 5
           },
           "marker": {
            "color": "blue",
            "size": 2
           },
           "text": [
            "RHip"
           ],
           "type": "scatter3d",
           "x": [
            -0.10057203999660946,
            1.726798768594701
           ],
           "y": [
            -0.11309491846376085,
            -0.9128861360909233
           ],
           "z": [
            -0.04598554283510303,
            -11.510019732158284
           ]
          },
          {
           "line": {
            "color": "red",
            "width": 5
           },
           "marker": {
            "color": "blue",
            "size": 2
           },
           "text": [
            "RKnee"
           ],
           "type": "scatter3d",
           "x": [
            -0.04996952255573839,
            -0.10057203999660946
           ],
           "y": [
            -0.6045650416740769,
            -0.11309491846376085
           ],
           "z": [
            -0.08480258897983362,
            -0.04598554283510303
           ]
          },
          {
           "line": {
            "color": "red",
            "width": 5
           },
           "marker": {
            "color": "blue",
            "size": 2
           },
           "text": [
            "RAnkle"
           ],
           "type": "scatter3d",
           "x": [
            0.12099717480710881,
            -0.04996952255573839
           ],
           "y": [
            -1.0598718289375761,
            -0.6045650416740769
           ],
           "z": [
            -0.20342793054288855,
            -0.08480258897983362
           ]
          },
          {
           "line": {
            "color": "black",
            "width": 5
           },
           "marker": {
            "color": "blue",
            "size": 2
           },
           "text": [
            "LHip"
           ],
           "type": "scatter3d",
           "x": [
            0.00908696018419497,
            1.726798768594701
           ],
           "y": [
            -0.13023504300009492,
            -0.9128861360909233
           ],
           "z": [
            0.09305145421931904,
            -11.510019732158284
           ]
          },
          {
           "line": {
            "color": "black",
            "width": 5
           },
           "marker": {
            "color": "blue",
            "size": 2
           },
           "text": [
            "LKnee"
           ],
           "type": "scatter3d",
           "x": [
            -0.045098956495303266,
            0.00908696018419497
           ],
           "y": [
            -0.5546599765234361,
            -0.13023504300009492
           ],
           "z": [
            0.3043205173632284,
            0.09305145421931904
           ]
          },
          {
           "line": {
            "color": "black",
            "width": 5
           },
           "marker": {
            "color": "blue",
            "size": 2
           },
           "text": [
            "LAnkle"
           ],
           "type": "scatter3d",
           "x": [
            0.07848983702802403,
            -0.045098956495303266
           ],
           "y": [
            -1.0336811794836558,
            -0.5546599765234361
           ],
           "z": [
            0.37280152359071295,
            0.3043205173632284
           ]
          },
          {
           "line": {
            "color": "black",
            "width": 5
           },
           "marker": {
            "color": "blue",
            "size": 2
           },
           "text": [
            "Spine1"
           ],
           "type": "scatter3d",
           "x": [
            -0.037023476459947746,
            1.726798768594701
           ],
           "y": [
            0.26517710406404693,
            -0.9128861360909233
           ],
           "z": [
            0.051327826634167906,
            -11.510019732158284
           ]
          },
          {
           "line": {
            "color": "black",
            "width": 5
           },
           "marker": {
            "color": "blue",
            "size": 2
           },
           "text": [
            "Neck"
           ],
           "type": "scatter3d",
           "x": [
            -0.06010692731152867,
            -0.037023476459947746
           ],
           "y": [
            0.5141895710687407,
            0.26517710406404693
           ],
           "z": [
            0.09720972487450474,
            0.051327826634167906
           ]
          },
          {
           "line": {
            "color": "black",
            "width": 5
           },
           "marker": {
            "color": "blue",
            "size": 2
           },
           "text": [
            "Head"
           ],
           "type": "scatter3d",
           "x": [
            -0.07299888939035015,
            -0.06010692731152867
           ],
           "y": [
            0.6241560839258722,
            0.5141895710687407
           ],
           "z": [
            0.137780411054079,
            0.09720972487450474
           ]
          },
          {
           "line": {
            "color": "black",
            "width": 5
           },
           "marker": {
            "color": "blue",
            "size": 2
           },
           "text": [
            "Site"
           ],
           "type": "scatter3d",
           "x": [
            -0.10517574821518139,
            -0.07299888939035015
           ],
           "y": [
            0.7275370126000162,
            0.6241560839258722
           ],
           "z": [
            0.1850182969979315,
            0.137780411054079
           ]
          },
          {
           "line": {
            "color": "black",
            "width": 5
           },
           "marker": {
            "color": "blue",
            "size": 2
           },
           "text": [
            "LShoulder"
           ],
           "type": "scatter3d",
           "x": [
            0.1044767928786352,
            -0.06010692731152867
           ],
           "y": [
            0.47847275551922497,
            0.5141895710687407
           ],
           "z": [
            0.23473727788304544,
            0.09720972487450474
           ]
          },
          {
           "line": {
            "color": "black",
            "width": 5
           },
           "marker": {
            "color": "blue",
            "size": 2
           },
           "text": [
            "LElbow"
           ],
           "type": "scatter3d",
           "x": [
            0.16877600441041385,
            0.1044767928786352
           ],
           "y": [
            -0.03814618883213483,
            0.47847275551922497
           ],
           "z": [
            0.29236212030726527,
            0.23473727788304544
           ]
          },
          {
           "line": {
            "color": "black",
            "width": 5
           },
           "marker": {
            "color": "blue",
            "size": 2
           },
           "text": [
            "LWrist"
           ],
           "type": "scatter3d",
           "x": [
            0.15652543956572296,
            0.16877600441041385
           ],
           "y": [
            -0.13882171859926906,
            -0.03814618883213483
           ],
           "z": [
            0.34891215227487216,
            0.29236212030726527
           ]
          },
          {
           "line": {
            "color": "red",
            "width": 5
           },
           "marker": {
            "color": "blue",
            "size": 2
           },
           "text": [
            "RShoulder"
           ],
           "type": "scatter3d",
           "x": [
            -0.19856546757418236,
            -0.06010692731152867
           ],
           "y": [
            0.49696525841858374,
            0.5141895710687407
           ],
           "z": [
            -0.07464266917273932,
            0.09720972487450474
           ]
          },
          {
           "line": {
            "color": "red",
            "width": 5
           },
           "marker": {
            "color": "blue",
            "size": 2
           },
           "text": [
            "RElbow"
           ],
           "type": "scatter3d",
           "x": [
            -0.4200301080908564,
            -0.19856546757418236
           ],
           "y": [
            0.034044711571108,
            0.49696525841858374
           ],
           "z": [
            -0.07633735777321249,
            -0.07464266917273932
           ]
          },
          {
           "line": {
            "color": "red",
            "width": 5
           },
           "marker": {
            "color": "blue",
            "size": 2
           },
           "text": [
            "RWrist"
           ],
           "type": "scatter3d",
           "x": [
            -0.5099795828223297,
            -0.4200301080908564
           ],
           "y": [
            -0.027792668842990365,
            0.034044711571108
           ],
           "z": [
            -0.04076141063115912,
            -0.07633735777321249
           ]
          },
          {
           "line": {
            "color": "#1f77b4",
            "width": 1
           },
           "marker": {
            "color": "#1f77b4",
            "size": 1
           },
           "type": "scatter3d",
           "x": [
            -0.10456789807196559,
            0.07519876859470122,
            0.4937387685947011,
            1.127338768594701,
            1.5346987685947013,
            1.5842921019280345,
            1.3928254352613678,
            1.1768121019280344,
            0.7025454352613678,
            0.5634387685947011,
            0.8725321019280343,
            1.3347321019280343,
            1.3049254352613677,
            1.1927054352613675,
            0.9764121019280343,
            1.160118768594701,
            1.4533787685947008,
            1.725698768594701
           ],
           "y": [
            -0.9363594694242567,
            -0.9168994694242565,
            -0.9295194694242566,
            -0.9334528027575899,
            -0.9425594694242567,
            -0.8539261360909234,
            -0.5647928027575899,
            -0.27810613609092316,
            -0.09269280275758995,
            -0.08301946942425675,
            -0.06881280275759005,
            -0.16405946942425653,
            -0.16121946942425658,
            -0.3059861360909233,
            -0.36855946942425666,
            -0.3208794694242565,
            -0.5929661360909233,
            -0.8983794694242566
           ],
           "z": [
            -9.89050039882495,
            -9.781967065491616,
            -9.717387065491616,
            -10.231047065491616,
            -11.064395532158283,
            -11.62703239882495,
            -11.72928039882495,
            -11.640749732158284,
            -11.71298039882495,
            -11.67711439882495,
            -11.655715065491616,
            -11.733913732158284,
            -11.667425732158282,
            -11.71280039882495,
            -11.671505065491615,
            -11.601569065491617,
            -11.708547065491617,
            -11.585561732158283
           ]
          }
         ],
         "name": "frame19"
        },
        {
         "data": [
          {
           "line": {
            "color": "red",
            "width": 5
           },
           "marker": {
            "color": "blue",
            "size": 2
           },
           "text": [
            "RHip"
           ],
           "type": "scatter3d",
           "x": [
            -0.08563280249442662,
            1.3951387685947012
           ],
           "y": [
            -0.1328220449472326,
            -0.93739280275759
           ],
           "z": [
            -0.006722609183148265,
            -10.847421065491616
           ]
          },
          {
           "line": {
            "color": "red",
            "width": 5
           },
           "marker": {
            "color": "blue",
            "size": 2
           },
           "text": [
            "RKnee"
           ],
           "type": "scatter3d",
           "x": [
            -0.28034341729703693,
            -0.08563280249442662
           ],
           "y": [
            -0.5420496707374385,
            -0.1328220449472326
           ],
           "z": [
            0.19385352754407847,
            -0.006722609183148265
           ]
          },
          {
           "line": {
            "color": "red",
            "width": 5
           },
           "marker": {
            "color": "blue",
            "size": 2
           },
           "text": [
            "RAnkle"
           ],
           "type": "scatter3d",
           "x": [
            -0.3662548716110883,
            -0.28034341729703693
           ],
           "y": [
            -1.0303615814899023,
            -0.5420496707374385
           ],
           "z": [
            0.262966143116369,
            0.19385352754407847
           ]
          },
          {
           "line": {
            "color": "black",
            "width": 5
           },
           "marker": {
            "color": "blue",
            "size": 2
           },
           "text": [
            "LHip"
           ],
           "type": "scatter3d",
           "x": [
            0.046187539394134,
            1.3951387685947012
           ],
           "y": [
            -0.10713858705534718,
            -0.93739280275759
           ],
           "z": [
            0.10995611293354557,
            -10.847421065491616
           ]
          },
          {
           "line": {
            "color": "black",
            "width": 5
           },
           "marker": {
            "color": "blue",
            "size": 2
           },
           "text": [
            "LKnee"
           ],
           "type": "scatter3d",
           "x": [
            0.1772642934388362,
            0.046187539394134
           ],
           "y": [
            -0.5517510860254913,
            -0.10713858705534718
           ],
           "z": [
            -0.003383487881979619,
            0.10995611293354557
           ]
          },
          {
           "line": {
            "color": "black",
            "width": 5
           },
           "marker": {
            "color": "blue",
            "size": 2
           },
           "text": [
            "LAnkle"
           ],
           "type": "scatter3d",
           "x": [
            0.3144495267434635,
            0.1772642934388362
           ],
           "y": [
            -1.01708355360072,
            -0.5517510860254913
           ],
           "z": [
            -0.12200497568010427,
            -0.003383487881979619
           ]
          },
          {
           "line": {
            "color": "black",
            "width": 5
           },
           "marker": {
            "color": "blue",
            "size": 2
           },
           "text": [
            "Spine1"
           ],
           "type": "scatter3d",
           "x": [
            -0.0481770014425531,
            1.3951387685947012
           ],
           "y": [
            0.2636823274668201,
            -0.93739280275759
           ],
           "z": [
            0.048247996647754476,
            -10.847421065491616
           ]
          },
          {
           "line": {
            "color": "black",
            "width": 5
           },
           "marker": {
            "color": "blue",
            "size": 2
           },
           "text": [
            "Neck"
           ],
           "type": "scatter3d",
           "x": [
            -0.11998764684227492,
            -0.0481770014425531
           ],
           "y": [
            0.4994852299209942,
            0.2636823274668201
           ],
           "z": [
            0.10724523873607339,
            0.048247996647754476
           ]
          },
          {
           "line": {
            "color": "black",
            "width": 5
           },
           "marker": {
            "color": "blue",
            "size": 2
           },
           "text": [
            "Head"
           ],
           "type": "scatter3d",
           "x": [
            -0.13193879254291274,
            -0.11998764684227492
           ],
           "y": [
            0.6156868615368347,
            0.4994852299209942
           ],
           "z": [
            0.12334393866928117,
            0.10724523873607339
           ]
          },
          {
           "line": {
            "color": "black",
            "width": 5
           },
           "marker": {
            "color": "blue",
            "size": 2
           },
           "text": [
            "Site"
           ],
           "type": "scatter3d",
           "x": [
            -0.14972736149236576,
            -0.13193879254291274
           ],
           "y": [
            0.7324678537477991,
            0.6156868615368347
           ],
           "z": [
            0.1237327815157876,
            0.12334393866928117
           ]
          },
          {
           "line": {
            "color": "black",
            "width": 5
           },
           "marker": {
            "color": "blue",
            "size": 2
           },
           "text": [
            "LShoulder"
           ],
           "type": "scatter3d",
           "x": [
            0.056148459765345216,
            -0.11998764684227492
           ],
           "y": [
            0.4997237418281968,
            0.4994852299209942
           ],
           "z": [
            0.22868368272463613,
            0.10724523873607339
           ]
          },
          {
           "line": {
            "color": "black",
            "width": 5
           },
           "marker": {
            "color": "blue",
            "size": 2
           },
           "text": [
            "LElbow"
           ],
           "type": "scatter3d",
           "x": [
            0.08876413579691533,
            0.056148459765345216
           ],
           "y": [
            0.02324717420097877,
            0.4997237418281968
           ],
           "z": [
            0.37891571774392396,
            0.22868368272463613
           ]
          },
          {
           "line": {
            "color": "black",
            "width": 5
           },
           "marker": {
            "color": "blue",
            "size": 2
           },
           "text": [
            "LWrist"
           ],
           "type": "scatter3d",
           "x": [
            0.04672799480433354,
            0.08876413579691533
           ],
           "y": [
            -0.05956961464473287,
            0.02324717420097877
           ],
           "z": [
            0.4486142620915725,
            0.37891571774392396
           ]
          },
          {
           "line": {
            "color": "red",
            "width": 5
           },
           "marker": {
            "color": "blue",
            "size": 2
           },
           "text": [
            "RShoulder"
           ],
           "type": "scatter3d",
           "x": [
            -0.23213005215191407,
            -0.11998764684227492
           ],
           "y": [
            0.4680510766548247,
            0.4994852299209942
           ],
           "z": [
            -0.09347292169573151,
            0.10724523873607339
           ]
          },
          {
           "line": {
            "color": "red",
            "width": 5
           },
           "marker": {
            "color": "blue",
            "size": 2
           },
           "text": [
            "RElbow"
           ],
           "type": "scatter3d",
           "x": [
            -0.24171942587811035,
            -0.23213005215191407
           ],
           "y": [
            -0.07433538239471882,
            0.4680510766548247
           ],
           "z": [
            -0.15362135509542085,
            -0.09347292169573151
           ]
          },
          {
           "line": {
            "color": "red",
            "width": 5
           },
           "marker": {
            "color": "blue",
            "size": 2
           },
           "text": [
            "RWrist"
           ],
           "type": "scatter3d",
           "x": [
            -0.2856814980408686,
            -0.24171942587811035
           ],
           "y": [
            -0.17994887240690227,
            -0.07433538239471882
           ],
           "z": [
            -0.14394951066931405,
            -0.15362135509542085
           ]
          },
          {
           "line": {
            "color": "#1f77b4",
            "width": 1
           },
           "marker": {
            "color": "#1f77b4",
            "size": 1
           },
           "type": "scatter3d",
           "x": [
            -0.10456789807196559,
            0.07519876859470122,
            0.4937387685947011,
            1.127338768594701,
            1.5346987685947013,
            1.5842921019280345,
            1.3928254352613678,
            1.1768121019280344,
            0.7025454352613678,
            0.5634387685947011,
            0.8725321019280343,
            1.3347321019280343,
            1.3049254352613677,
            1.1927054352613675,
            0.9764121019280343,
            1.160118768594701,
            1.4533787685947008,
            1.725698768594701,
            1.726798768594701
           ],
           "y": [
            -0.9363594694242567,
            -0.9168994694242565,
            -0.9295194694242566,
            -0.9334528027575899,
            -0.9425594694242567,
            -0.8539261360909234,
            -0.5647928027575899,
            -0.27810613609092316,
            -0.09269280275758995,
            -0.08301946942425675,
            -0.06881280275759005,
            -0.16405946942425653,
            -0.16121946942425658,
            -0.3059861360909233,
            -0.36855946942425666,
            -0.3208794694242565,
            -0.5929661360909233,
            -0.8983794694242566,
            -0.9128861360909233
           ],
           "z": [
            -9.89050039882495,
            -9.781967065491616,
            -9.717387065491616,
            -10.231047065491616,
            -11.064395532158283,
            -11.62703239882495,
            -11.72928039882495,
            -11.640749732158284,
            -11.71298039882495,
            -11.67711439882495,
            -11.655715065491616,
            -11.733913732158284,
            -11.667425732158282,
            -11.71280039882495,
            -11.671505065491615,
            -11.601569065491617,
            -11.708547065491617,
            -11.585561732158283,
            -11.510019732158284
           ]
          }
         ],
         "name": "frame20"
        },
        {
         "data": [
          {
           "line": {
            "color": "red",
            "width": 5
           },
           "marker": {
            "color": "blue",
            "size": 2
           },
           "text": [
            "RHip"
           ],
           "type": "scatter3d",
           "x": [
            -0.048246899053260295,
            0.5218254352613677
           ],
           "y": [
            -0.11047084068185842,
            -0.9429728027575901
           ],
           "z": [
            -0.10241238231791883,
            -10.372922398824949
           ]
          },
          {
           "line": {
            "color": "red",
            "width": 5
           },
           "marker": {
            "color": "blue",
            "size": 2
           },
           "text": [
            "RKnee"
           ],
           "type": "scatter3d",
           "x": [
            -0.0456930604415251,
            -0.048246899053260295
           ],
           "y": [
            -0.6054311078043606,
            -0.11047084068185842
           ],
           "z": [
            -0.07755133387893309,
            -0.10241238231791883
           ]
          },
          {
           "line": {
            "color": "red",
            "width": 5
           },
           "marker": {
            "color": "blue",
            "size": 2
           },
           "text": [
            "RAnkle"
           ],
           "type": "scatter3d",
           "x": [
            0.3145660797796419,
            -0.0456930604415251
           ],
           "y": [
            -0.9523963247178553,
            -0.6054311078043606
           ],
           "z": [
            -0.098392253618659,
            -0.07755133387893309
           ]
          },
          {
           "line": {
            "color": "black",
            "width": 5
           },
           "marker": {
            "color": "blue",
            "size": 2
           },
           "text": [
            "LHip"
           ],
           "type": "scatter3d",
           "x": [
            -0.07160532224695759,
            0.5218254352613677
           ],
           "y": [
            -0.12318136244571298,
            -0.9429728027575901
           ],
           "z": [
            0.07349382405945981,
            -10.372922398824949
           ]
          },
          {
           "line": {
            "color": "black",
            "width": 5
           },
           "marker": {
            "color": "blue",
            "size": 2
           },
           "text": [
            "LKnee"
           ],
           "type": "scatter3d",
           "x": [
            -0.225566710096958,
            -0.07160532224695759
           ],
           "y": [
            -0.5679008821861111,
            -0.12318136244571298
           ],
           "z": [
            0.15240956784716175,
            0.07349382405945981
           ]
          },
          {
           "line": {
            "color": "black",
            "width": 5
           },
           "marker": {
            "color": "blue",
            "size": 2
           },
           "text": [
            "LAnkle"
           ],
           "type": "scatter3d",
           "x": [
            -0.18867119246393432,
            -0.225566710096958
           ],
           "y": [
            -1.0578662471346354,
            -0.5679008821861111
           ],
           "z": [
            0.24184005992557722,
            0.15240956784716175
           ]
          },
          {
           "line": {
            "color": "black",
            "width": 5
           },
           "marker": {
            "color": "blue",
            "size": 2
           },
           "text": [
            "Spine1"
           ],
           "type": "scatter3d",
           "x": [
            -0.036054048903868596,
            0.5218254352613677
           ],
           "y": [
            0.26873584522691574,
            -0.9429728027575901
           ],
           "z": [
            0.02865668064847604,
            -10.372922398824949
           ]
          },
          {
           "line": {
            "color": "black",
            "width": 5
           },
           "marker": {
            "color": "blue",
            "size": 2
           },
           "text": [
            "Neck"
           ],
           "type": "scatter3d",
           "x": [
            -0.07114150569025174,
            -0.036054048903868596
           ],
           "y": [
            0.5193449962688725,
            0.26873584522691574
           ],
           "z": [
            0.05170080014500478,
            0.02865668064847604
           ]
          },
          {
           "line": {
            "color": "black",
            "width": 5
           },
           "marker": {
            "color": "blue",
            "size": 2
           },
           "text": [
            "Head"
           ],
           "type": "scatter3d",
           "x": [
            -0.06737293649018433,
            -0.07114150569025174
           ],
           "y": [
            0.6371566574149352,
            0.5193449962688725
           ],
           "z": [
            0.05502158280432923,
            0.05170080014500478
           ]
          },
          {
           "line": {
            "color": "black",
            "width": 5
           },
           "marker": {
            "color": "blue",
            "size": 2
           },
           "text": [
            "Site"
           ],
           "type": "scatter3d",
           "x": [
            -0.06243814248367724,
            -0.06737293649018433
           ],
           "y": [
            0.7539326538694906,
            0.6371566574149352
           ],
           "z": [
            0.03789268949609159,
            0.05502158280432923
           ]
          },
          {
           "line": {
            "color": "black",
            "width": 5
           },
           "marker": {
            "color": "blue",
            "size": 2
           },
           "text": [
            "LShoulder"
           ],
           "type": "scatter3d",
           "x": [
            -0.06930140384993921,
            -0.07114150569025174
           ],
           "y": [
            0.481271061110504,
            0.5193449962688725
           ],
           "z": [
            0.2586127272278187,
            0.05170080014500478
           ]
          },
          {
           "line": {
            "color": "black",
            "width": 5
           },
           "marker": {
            "color": "blue",
            "size": 2
           },
           "text": [
            "LElbow"
           ],
           "type": "scatter3d",
           "x": [
            -0.23526381793447276,
            -0.06930140384993921
           ],
           "y": [
            0.000984798290206923,
            0.481271061110504
           ],
           "z": [
            0.33965621097300236,
            0.2586127272278187
           ]
          },
          {
           "line": {
            "color": "black",
            "width": 5
           },
           "marker": {
            "color": "blue",
            "size": 2
           },
           "text": [
            "LWrist"
           ],
           "type": "scatter3d",
           "x": [
            -0.321571726428167,
            -0.23526381793447276
           ],
           "y": [
            -0.07468722201777189,
            0.000984798290206923
           ],
           "z": [
            0.35721283429291795,
            0.33965621097300236
           ]
          },
          {
           "line": {
            "color": "red",
            "width": 5
           },
           "marker": {
            "color": "blue",
            "size": 2
           },
           "text": [
            "RShoulder"
           ],
           "type": "scatter3d",
           "x": [
            -0.009710127709432026,
            -0.07114150569025174
           ],
           "y": [
            0.5042862079733899,
            0.5193449962688725
           ],
           "z": [
            -0.17011996192347567,
            0.05170080014500478
           ]
          },
          {
           "line": {
            "color": "red",
            "width": 5
           },
           "marker": {
            "color": "blue",
            "size": 2
           },
           "text": [
            "RElbow"
           ],
           "type": "scatter3d",
           "x": [
            -0.24112210891770497,
            -0.009710127709432026
           ],
           "y": [
            0.18326052955423777,
            0.5042862079733899
           ],
           "z": [
            -0.39186217427616477,
            -0.17011996192347567
           ]
          },
          {
           "line": {
            "color": "red",
            "width": 5
           },
           "marker": {
            "color": "blue",
            "size": 2
           },
           "text": [
            "RWrist"
           ],
           "type": "scatter3d",
           "x": [
            -0.3484804011255589,
            -0.24112210891770497
           ],
           "y": [
            0.18253738054236712,
            0.18326052955423777
           ],
           "z": [
            -0.4325327015129705,
            -0.39186217427616477
           ]
          },
          {
           "line": {
            "color": "#1f77b4",
            "width": 1
           },
           "marker": {
            "color": "#1f77b4",
            "size": 1
           },
           "type": "scatter3d",
           "x": [
            -0.10456789807196559,
            0.07519876859470122,
            0.4937387685947011,
            1.127338768594701,
            1.5346987685947013,
            1.5842921019280345,
            1.3928254352613678,
            1.1768121019280344,
            0.7025454352613678,
            0.5634387685947011,
            0.8725321019280343,
            1.3347321019280343,
            1.3049254352613677,
            1.1927054352613675,
            0.9764121019280343,
            1.160118768594701,
            1.4533787685947008,
            1.725698768594701,
            1.726798768594701,
            1.3951387685947012
           ],
           "y": [
            -0.9363594694242567,
            -0.9168994694242565,
            -0.9295194694242566,
            -0.9334528027575899,
            -0.9425594694242567,
            -0.8539261360909234,
            -0.5647928027575899,
            -0.27810613609092316,
            -0.09269280275758995,
            -0.08301946942425675,
            -0.06881280275759005,
            -0.16405946942425653,
            -0.16121946942425658,
            -0.3059861360909233,
            -0.36855946942425666,
            -0.3208794694242565,
            -0.5929661360909233,
            -0.8983794694242566,
            -0.9128861360909233,
            -0.93739280275759
           ],
           "z": [
            -9.89050039882495,
            -9.781967065491616,
            -9.717387065491616,
            -10.231047065491616,
            -11.064395532158283,
            -11.62703239882495,
            -11.72928039882495,
            -11.640749732158284,
            -11.71298039882495,
            -11.67711439882495,
            -11.655715065491616,
            -11.733913732158284,
            -11.667425732158282,
            -11.71280039882495,
            -11.671505065491615,
            -11.601569065491617,
            -11.708547065491617,
            -11.585561732158283,
            -11.510019732158284,
            -10.847421065491616
           ]
          }
         ],
         "name": "frame21"
        },
        {
         "data": [
          {
           "line": {
            "color": "red",
            "width": 5
           },
           "marker": {
            "color": "blue",
            "size": 2
           },
           "text": [
            "RHip"
           ],
           "type": "scatter3d",
           "x": [
            0.0735069233845664,
            -0.023674564738632144
           ],
           "y": [
            -0.11508568924915785,
            -0.9707661360909232
           ],
           "z": [
            -0.07982407096750421,
            -10.329247065491616
           ]
          },
          {
           "line": {
            "color": "red",
            "width": 5
           },
           "marker": {
            "color": "blue",
            "size": 2
           },
           "text": [
            "RKnee"
           ],
           "type": "scatter3d",
           "x": [
            -0.04779427366729246,
            0.0735069233845664
           ],
           "y": [
            -0.5547428310688074,
            -0.11508568924915785
           ],
           "z": [
            -0.27372579115554707,
            -0.07982407096750421
           ]
          },
          {
           "line": {
            "color": "red",
            "width": 5
           },
           "marker": {
            "color": "blue",
            "size": 2
           },
           "text": [
            "RAnkle"
           ],
           "type": "scatter3d",
           "x": [
            -0.07084199493478871,
            -0.04779427366729246
           ],
           "y": [
            -1.0276338043887945,
            -0.5547428310688074
           ],
           "z": [
            -0.11109497091174525,
            -0.27372579115554707
           ]
          },
          {
           "line": {
            "color": "black",
            "width": 5
           },
           "marker": {
            "color": "blue",
            "size": 2
           },
           "text": [
            "LHip"
           ],
           "type": "scatter3d",
           "x": [
            -0.09449543481617628,
            -0.023674564738632144
           ],
           "y": [
            -0.12751735663521657,
            -0.9707661360909232
           ],
           "z": [
            -0.022632917589749724,
            -10.329247065491616
           ]
          },
          {
           "line": {
            "color": "black",
            "width": 5
           },
           "marker": {
            "color": "blue",
            "size": 2
           },
           "text": [
            "LKnee"
           ],
           "type": "scatter3d",
           "x": [
            -0.2479490812994475,
            -0.09449543481617628
           ],
           "y": [
            -0.5040348615767294,
            -0.12751735663521657
           ],
           "z": [
            -0.27242043060431165,
            -0.022632917589749724
           ]
          },
          {
           "line": {
            "color": "black",
            "width": 5
           },
           "marker": {
            "color": "blue",
            "size": 2
           },
           "text": [
            "LAnkle"
           ],
           "type": "scatter3d",
           "x": [
            -0.21744559221908422,
            -0.2479490812994475
           ],
           "y": [
            -0.9684932995801887,
            -0.5040348615767294
           ],
           "z": [
            -0.09138715326214175,
            -0.27242043060431165
           ]
          },
          {
           "line": {
            "color": "black",
            "width": 5
           },
           "marker": {
            "color": "blue",
            "size": 2
           },
           "text": [
            "Spine1"
           ],
           "type": "scatter3d",
           "x": [
            -0.07394729784862394,
            -0.023674564738632144
           ],
           "y": [
            0.23667619668686246,
            -0.9707661360909232
           ],
           "z": [
            -0.11083329949927467,
            -10.329247065491616
           ]
          },
          {
           "line": {
            "color": "black",
            "width": 5
           },
           "marker": {
            "color": "blue",
            "size": 2
           },
           "text": [
            "Neck"
           ],
           "type": "scatter3d",
           "x": [
            -0.1400001118751516,
            -0.07394729784862394
           ],
           "y": [
            0.4554759950969267,
            0.23667619668686246
           ],
           "z": [
            -0.223128077384402,
            -0.11083329949927467
           ]
          },
          {
           "line": {
            "color": "black",
            "width": 5
           },
           "marker": {
            "color": "blue",
            "size": 2
           },
           "text": [
            "Head"
           ],
           "type": "scatter3d",
           "x": [
            -0.15901272000477462,
            -0.1400001118751516
           ],
           "y": [
            0.5515660789282153,
            0.4554759950969267
           ],
           "z": [
            -0.2887789245585708,
            -0.223128077384402
           ]
          },
          {
           "line": {
            "color": "black",
            "width": 5
           },
           "marker": {
            "color": "blue",
            "size": 2
           },
           "text": [
            "Site"
           ],
           "type": "scatter3d",
           "x": [
            -0.16511343379512766,
            -0.15901272000477462
           ],
           "y": [
            0.6382598928050354,
            0.5515660789282153
           ],
           "z": [
            -0.3687873519431015,
            -0.2887789245585708
           ]
          },
          {
           "line": {
            "color": "black",
            "width": 5
           },
           "marker": {
            "color": "blue",
            "size": 2
           },
           "text": [
            "LShoulder"
           ],
           "type": "scatter3d",
           "x": [
            -0.33586878352465155,
            -0.1400001118751516
           ],
           "y": [
            0.4105295982134436,
            0.4554759950969267
           ],
           "z": [
            -0.12895836719278542,
            -0.223128077384402
           ]
          },
          {
           "line": {
            "color": "black",
            "width": 5
           },
           "marker": {
            "color": "blue",
            "size": 2
           },
           "text": [
            "LElbow"
           ],
           "type": "scatter3d",
           "x": [
            -0.4669979321346479,
            -0.33586878352465155
           ],
           "y": [
            0.36413857578135045,
            0.4105295982134436
           ],
           "z": [
            -0.5678296330012245,
            -0.12895836719278542
           ]
          },
          {
           "line": {
            "color": "black",
            "width": 5
           },
           "marker": {
            "color": "blue",
            "size": 2
           },
           "text": [
            "LWrist"
           ],
           "type": "scatter3d",
           "x": [
            -0.4657868362407878,
            -0.4669979321346479
           ],
           "y": [
            0.42962660042693157,
            0.36413857578135045
           ],
           "z": [
            -0.6637118348073994,
            -0.5678296330012245
           ]
          },
          {
           "line": {
            "color": "red",
            "width": 5
           },
           "marker": {
            "color": "blue",
            "size": 2
           },
           "text": [
            "RShoulder"
           ],
           "type": "scatter3d",
           "x": [
            0.07704159765771526,
            -0.1400001118751516
           ],
           "y": [
            0.4699858590716679,
            0.4554759950969267
           ],
           "z": [
            -0.24669751140857699,
            -0.223128077384402
           ]
          },
          {
           "line": {
            "color": "red",
            "width": 5
           },
           "marker": {
            "color": "blue",
            "size": 2
           },
           "text": [
            "RElbow"
           ],
           "type": "scatter3d",
           "x": [
            0.0069486955142700445,
            0.07704159765771526
           ],
           "y": [
            0.4017290497626407,
            0.4699858590716679
           ],
           "z": [
            -0.6338499123715469,
            -0.24669751140857699
           ]
          },
          {
           "line": {
            "color": "red",
            "width": 5
           },
           "marker": {
            "color": "blue",
            "size": 2
           },
           "text": [
            "RWrist"
           ],
           "type": "scatter3d",
           "x": [
            -0.04089345346307963,
            0.0069486955142700445
           ],
           "y": [
            0.48414617686431205,
            0.4017290497626407
           ],
           "z": [
            -0.6978730611345991,
            -0.6338499123715469
           ]
          },
          {
           "line": {
            "color": "#1f77b4",
            "width": 1
           },
           "marker": {
            "color": "#1f77b4",
            "size": 1
           },
           "type": "scatter3d",
           "x": [
            -0.10456789807196559,
            0.07519876859470122,
            0.4937387685947011,
            1.127338768594701,
            1.5346987685947013,
            1.5842921019280345,
            1.3928254352613678,
            1.1768121019280344,
            0.7025454352613678,
            0.5634387685947011,
            0.8725321019280343,
            1.3347321019280343,
            1.3049254352613677,
            1.1927054352613675,
            0.9764121019280343,
            1.160118768594701,
            1.4533787685947008,
            1.725698768594701,
            1.726798768594701,
            1.3951387685947012,
            0.5218254352613677
           ],
           "y": [
            -0.9363594694242567,
            -0.9168994694242565,
            -0.9295194694242566,
            -0.9334528027575899,
            -0.9425594694242567,
            -0.8539261360909234,
            -0.5647928027575899,
            -0.27810613609092316,
            -0.09269280275758995,
            -0.08301946942425675,
            -0.06881280275759005,
            -0.16405946942425653,
            -0.16121946942425658,
            -0.3059861360909233,
            -0.36855946942425666,
            -0.3208794694242565,
            -0.5929661360909233,
            -0.8983794694242566,
            -0.9128861360909233,
            -0.93739280275759,
            -0.9429728027575901
           ],
           "z": [
            -9.89050039882495,
            -9.781967065491616,
            -9.717387065491616,
            -10.231047065491616,
            -11.064395532158283,
            -11.62703239882495,
            -11.72928039882495,
            -11.640749732158284,
            -11.71298039882495,
            -11.67711439882495,
            -11.655715065491616,
            -11.733913732158284,
            -11.667425732158282,
            -11.71280039882495,
            -11.671505065491615,
            -11.601569065491617,
            -11.708547065491617,
            -11.585561732158283,
            -11.510019732158284,
            -10.847421065491616,
            -10.372922398824949
           ]
          }
         ],
         "name": "frame22"
        },
        {
         "data": [
          {
           "line": {
            "color": "red",
            "width": 5
           },
           "marker": {
            "color": "blue",
            "size": 2
           },
           "text": [
            "RHip"
           ],
           "type": "scatter3d",
           "x": [
            0.06606944721706909,
            -0.26836789807196554
           ],
           "y": [
            -0.006172590985316528,
            -1.5781301360909232
           ],
           "z": [
            -0.14358479455082573,
            -11.276871065491616
           ]
          },
          {
           "line": {
            "color": "red",
            "width": 5
           },
           "marker": {
            "color": "blue",
            "size": 2
           },
           "text": [
            "RKnee"
           ],
           "type": "scatter3d",
           "x": [
            0.24427461951095497,
            0.06606944721706909
           ],
           "y": [
            -0.023819630408614678,
            -0.006172590985316528
           ],
           "z": [
            -0.6056905815935956,
            -0.14358479455082573
           ]
          },
          {
           "line": {
            "color": "red",
            "width": 5
           },
           "marker": {
            "color": "blue",
            "size": 2
           },
           "text": [
            "RAnkle"
           ],
           "type": "scatter3d",
           "x": [
            0.05784110777970261,
            0.24427461951095497
           ],
           "y": [
            -0.37485610772508804,
            -0.023819630408614678
           ],
           "z": [
            -0.3013522976181555,
            -0.6056905815935956
           ]
          },
          {
           "line": {
            "color": "black",
            "width": 5
           },
           "marker": {
            "color": "blue",
            "size": 2
           },
           "text": [
            "LHip"
           ],
           "type": "scatter3d",
           "x": [
            -0.10927868211319047,
            -0.26836789807196554
           ],
           "y": [
            -0.017929775199970077,
            -1.5781301360909232
           ],
           "z": [
            -0.11592672340680821,
            -11.276871065491616
           ]
          },
          {
           "line": {
            "color": "black",
            "width": 5
           },
           "marker": {
            "color": "blue",
            "size": 2
           },
           "text": [
            "LKnee"
           ],
           "type": "scatter3d",
           "x": [
            -0.4347011404132864,
            -0.10927868211319047
           ],
           "y": [
            0.013597935602221334,
            -0.017929775199970077
           ],
           "z": [
            -0.46350906169500483,
            -0.11592672340680821
           ]
          },
          {
           "line": {
            "color": "black",
            "width": 5
           },
           "marker": {
            "color": "blue",
            "size": 2
           },
           "text": [
            "LAnkle"
           ],
           "type": "scatter3d",
           "x": [
            -0.18286791603001984,
            -0.4347011404132864
           ],
           "y": [
            -0.38266354463837016,
            0.013597935602221334
           ],
           "z": [
            -0.29326800507763373,
            -0.46350906169500483
           ]
          },
          {
           "line": {
            "color": "black",
            "width": 5
           },
           "marker": {
            "color": "blue",
            "size": 2
           },
           "text": [
            "Spine1"
           ],
           "type": "scatter3d",
           "x": [
            -0.007263831734731219,
            -0.26836789807196554
           ],
           "y": [
            0.23840676524838877,
            -1.5781301360909232
           ],
           "z": [
            0.13037355757223956,
            -11.276871065491616
           ]
          },
          {
           "line": {
            "color": "black",
            "width": 5
           },
           "marker": {
            "color": "blue",
            "size": 2
           },
           "text": [
            "Neck"
           ],
           "type": "scatter3d",
           "x": [
            -0.0021137220459381267,
            -0.007263831734731219
           ],
           "y": [
            0.47148562021640483,
            0.23840676524838877
           ],
           "z": [
            0.2256705803006529,
            0.13037355757223956
           ]
          },
          {
           "line": {
            "color": "black",
            "width": 5
           },
           "marker": {
            "color": "blue",
            "size": 2
           },
           "text": [
            "Head"
           ],
           "type": "scatter3d",
           "x": [
            -0.0030877084809178834,
            -0.0021137220459381267
           ],
           "y": [
            0.5873448255289306,
            0.47148562021640483
           ],
           "z": [
            0.24759118950877657,
            0.2256705803006529
           ]
          },
          {
           "line": {
            "color": "black",
            "width": 5
           },
           "marker": {
            "color": "blue",
            "size": 2
           },
           "text": [
            "Site"
           ],
           "type": "scatter3d",
           "x": [
            0.007406925853423951,
            -0.0030877084809178834
           ],
           "y": [
            0.7043230672550025,
            0.5873448255289306
           ],
           "z": [
            0.2602536591996074,
            0.24759118950877657
           ]
          },
          {
           "line": {
            "color": "black",
            "width": 5
           },
           "marker": {
            "color": "blue",
            "size": 2
           },
           "text": [
            "LShoulder"
           ],
           "type": "scatter3d",
           "x": [
            -0.20587511667537228,
            -0.0021137220459381267
           ],
           "y": [
            0.41449408826415346,
            0.47148562021640483
           ],
           "z": [
            0.29979374564722683,
            0.2256705803006529
           ]
          },
          {
           "line": {
            "color": "black",
            "width": 5
           },
           "marker": {
            "color": "blue",
            "size": 2
           },
           "text": [
            "LElbow"
           ],
           "type": "scatter3d",
           "x": [
            -0.29979663421819297,
            -0.20587511667537228
           ],
           "y": [
            0.8975298502285927,
            0.41449408826415346
           ],
           "z": [
            0.15943208150291,
            0.29979374564722683
           ]
          },
          {
           "line": {
            "color": "black",
            "width": 5
           },
           "marker": {
            "color": "blue",
            "size": 2
           },
           "text": [
            "LWrist"
           ],
           "type": "scatter3d",
           "x": [
            -0.2681621362408762,
            -0.29979663421819297
           ],
           "y": [
            1.009224443568157,
            0.8975298502285927
           ],
           "z": [
            0.15676354166304485,
            0.15943208150291
           ]
          },
          {
           "line": {
            "color": "red",
            "width": 5
           },
           "marker": {
            "color": "blue",
            "size": 2
           },
           "text": [
            "RShoulder"
           ],
           "type": "scatter3d",
           "x": [
            0.22124390926823004,
            -0.0021137220459381267
           ],
           "y": [
            0.423464612601562,
            0.47148562021640483
           ],
           "z": [
            0.22643569704875333,
            0.2256705803006529
           ]
          },
          {
           "line": {
            "color": "red",
            "width": 5
           },
           "marker": {
            "color": "blue",
            "size": 2
           },
           "text": [
            "RElbow"
           ],
           "type": "scatter3d",
           "x": [
            0.26135997950254647,
            0.22124390926823004
           ],
           "y": [
            0.9341552865553784,
            0.423464612601562
           ],
           "z": [
            0.12113158220232378,
            0.22643569704875333
           ]
          },
          {
           "line": {
            "color": "red",
            "width": 5
           },
           "marker": {
            "color": "blue",
            "size": 2
           },
           "text": [
            "RWrist"
           ],
           "type": "scatter3d",
           "x": [
            0.23757057044660215,
            0.26135997950254647
           ],
           "y": [
            1.0422369471737907,
            0.9341552865553784
           ],
           "z": [
            0.1516739509830085,
            0.12113158220232378
           ]
          },
          {
           "line": {
            "color": "#1f77b4",
            "width": 1
           },
           "marker": {
            "color": "#1f77b4",
            "size": 1
           },
           "type": "scatter3d",
           "x": [
            -0.10456789807196559,
            0.07519876859470122,
            0.4937387685947011,
            1.127338768594701,
            1.5346987685947013,
            1.5842921019280345,
            1.3928254352613678,
            1.1768121019280344,
            0.7025454352613678,
            0.5634387685947011,
            0.8725321019280343,
            1.3347321019280343,
            1.3049254352613677,
            1.1927054352613675,
            0.9764121019280343,
            1.160118768594701,
            1.4533787685947008,
            1.725698768594701,
            1.726798768594701,
            1.3951387685947012,
            0.5218254352613677,
            -0.023674564738632144
           ],
           "y": [
            -0.9363594694242567,
            -0.9168994694242565,
            -0.9295194694242566,
            -0.9334528027575899,
            -0.9425594694242567,
            -0.8539261360909234,
            -0.5647928027575899,
            -0.27810613609092316,
            -0.09269280275758995,
            -0.08301946942425675,
            -0.06881280275759005,
            -0.16405946942425653,
            -0.16121946942425658,
            -0.3059861360909233,
            -0.36855946942425666,
            -0.3208794694242565,
            -0.5929661360909233,
            -0.8983794694242566,
            -0.9128861360909233,
            -0.93739280275759,
            -0.9429728027575901,
            -0.9707661360909232
           ],
           "z": [
            -9.89050039882495,
            -9.781967065491616,
            -9.717387065491616,
            -10.231047065491616,
            -11.064395532158283,
            -11.62703239882495,
            -11.72928039882495,
            -11.640749732158284,
            -11.71298039882495,
            -11.67711439882495,
            -11.655715065491616,
            -11.733913732158284,
            -11.667425732158282,
            -11.71280039882495,
            -11.671505065491615,
            -11.601569065491617,
            -11.708547065491617,
            -11.585561732158283,
            -11.510019732158284,
            -10.847421065491616,
            -10.372922398824949,
            -10.329247065491616
           ]
          }
         ],
         "name": "frame23"
        },
        {
         "data": [
          {
           "line": {
            "color": "red",
            "width": 5
           },
           "marker": {
            "color": "blue",
            "size": 2
           },
           "text": [
            "RHip"
           ],
           "type": "scatter3d",
           "x": [
            -0.007679347112772128,
            -0.3035612314052989
           ],
           "y": [
            -0.10346833678899436,
            -1.0126394694242564
           ],
           "z": [
            -0.11939512917738426,
            -11.827567065491616
           ]
          },
          {
           "line": {
            "color": "red",
            "width": 5
           },
           "marker": {
            "color": "blue",
            "size": 2
           },
           "text": [
            "RKnee"
           ],
           "type": "scatter3d",
           "x": [
            -0.12308833985901396,
            -0.007679347112772128
           ],
           "y": [
            -0.5339892339595698,
            -0.10346833678899436
           ],
           "z": [
            -0.3360579578856342,
            -0.11939512917738426
           ]
          },
          {
           "line": {
            "color": "red",
            "width": 5
           },
           "marker": {
            "color": "blue",
            "size": 2
           },
           "text": [
            "RAnkle"
           ],
           "type": "scatter3d",
           "x": [
            0.14764261078126528,
            -0.12308833985901396
           ],
           "y": [
            -0.8329111597733374,
            -0.5339892339595698
           ],
           "z": [
            -0.03948370339020357,
            -0.3360579578856342
           ]
          },
          {
           "line": {
            "color": "black",
            "width": 5
           },
           "marker": {
            "color": "blue",
            "size": 2
           },
           "text": [
            "LHip"
           ],
           "type": "scatter3d",
           "x": [
            -0.10713285945873269,
            -0.3035612314052989
           ],
           "y": [
            -0.11603574120849203,
            -1.0126394694242564
           ],
           "z": [
            0.02757842615790196,
            -11.827567065491616
           ]
          },
          {
           "line": {
            "color": "black",
            "width": 5
           },
           "marker": {
            "color": "blue",
            "size": 2
           },
           "text": [
            "LKnee"
           ],
           "type": "scatter3d",
           "x": [
            -0.26983167516264606,
            -0.10713285945873269
           ],
           "y": [
            -0.5588450437591821,
            -0.11603574120849203
           ],
           "z": [
            -0.044228758353890285,
            0.02757842615790196
           ]
          },
          {
           "line": {
            "color": "black",
            "width": 5
           },
           "marker": {
            "color": "blue",
            "size": 2
           },
           "text": [
            "LAnkle"
           ],
           "type": "scatter3d",
           "x": [
            -0.06185609189763108,
            -0.26983167516264606
           ],
           "y": [
            -0.9573372600629129,
            -0.5588450437591821
           ],
           "z": [
            0.17342983048389016,
            -0.044228758353890285
           ]
          },
          {
           "line": {
            "color": "black",
            "width": 5
           },
           "marker": {
            "color": "blue",
            "size": 2
           },
           "text": [
            "Spine1"
           ],
           "type": "scatter3d",
           "x": [
            -0.05098390818525378,
            -0.3035612314052989
           ],
           "y": [
            0.2670733292908565,
            -1.0126394694242564
           ],
           "z": [
            -0.020313084006412296,
            -11.827567065491616
           ]
          },
          {
           "line": {
            "color": "black",
            "width": 5
           },
           "marker": {
            "color": "blue",
            "size": 2
           },
           "text": [
            "Neck"
           ],
           "type": "scatter3d",
           "x": [
            -0.12205742910700973,
            -0.05098390818525378
           ],
           "y": [
            0.5075576948916745,
            0.2670733292908565
           ],
           "z": [
            -0.027421453409955276,
            -0.020313084006412296
           ]
          },
          {
           "line": {
            "color": "black",
            "width": 5
           },
           "marker": {
            "color": "blue",
            "size": 2
           },
           "text": [
            "Head"
           ],
           "type": "scatter3d",
           "x": [
            -0.12906637007337313,
            -0.12205742910700973
           ],
           "y": [
            0.6248407948863481,
            0.5075576948916745
           ],
           "z": [
            -0.017403149389304318,
            -0.027421453409955276
           ]
          },
          {
           "line": {
            "color": "black",
            "width": 5
           },
           "marker": {
            "color": "blue",
            "size": 2
           },
           "text": [
            "Site"
           ],
           "type": "scatter3d",
           "x": [
            -0.11496142292646688,
            -0.12906637007337313
           ],
           "y": [
            0.7420601128400419,
            0.6248407948863481
           ],
           "z": [
            -0.013521591678818723,
            -0.017403149389304318
           ]
          },
          {
           "line": {
            "color": "black",
            "width": 5
           },
           "marker": {
            "color": "blue",
            "size": 2
           },
           "text": [
            "LShoulder"
           ],
           "type": "scatter3d",
           "x": [
            -0.11459005958598073,
            -0.12205742910700973
           ],
           "y": [
            0.47864025877970695,
            0.5075576948916745
           ],
           "z": [
            0.20407515055734926,
            -0.027421453409955276
           ]
          },
          {
           "line": {
            "color": "black",
            "width": 5
           },
           "marker": {
            "color": "blue",
            "size": 2
           },
           "text": [
            "LElbow"
           ],
           "type": "scatter3d",
           "x": [
            -0.12805505322232652,
            -0.11459005958598073
           ],
           "y": [
            0.28509587790831303,
            0.47864025877970695
           ],
           "z": [
            0.5679682541317526,
            0.20407515055734926
           ]
          },
          {
           "line": {
            "color": "black",
            "width": 5
           },
           "marker": {
            "color": "blue",
            "size": 2
           },
           "text": [
            "LWrist"
           ],
           "type": "scatter3d",
           "x": [
            -0.1628945463446968,
            -0.12805505322232652
           ],
           "y": [
            0.3306078708468998,
            0.28509587790831303
           ],
           "z": [
            0.6689554462215366,
            0.5679682541317526
           ]
          },
          {
           "line": {
            "color": "red",
            "width": 5
           },
           "marker": {
            "color": "blue",
            "size": 2
           },
           "text": [
            "RShoulder"
           ],
           "type": "scatter3d",
           "x": [
            -0.00012606497080358547,
            -0.12205742910700973
           ],
           "y": [
            0.5034460361861905,
            0.5075576948916745
           ],
           "z": [
            -0.21326787773960376,
            -0.027421453409955276
           ]
          },
          {
           "line": {
            "color": "red",
            "width": 5
           },
           "marker": {
            "color": "blue",
            "size": 2
           },
           "text": [
            "RElbow"
           ],
           "type": "scatter3d",
           "x": [
            0.0318781097688261,
            -0.00012606497080358547
           ],
           "y": [
            0.3744239178697577,
            0.5034460361861905
           ],
           "z": [
            -0.6626336095869529,
            -0.21326787773960376
           ]
          },
          {
           "line": {
            "color": "red",
            "width": 5
           },
           "marker": {
            "color": "blue",
            "size": 2
           },
           "text": [
            "RWrist"
           ],
           "type": "scatter3d",
           "x": [
            -0.0003808519263461818,
            0.0318781097688261
           ],
           "y": [
            0.4218165553239135,
            0.3744239178697577
           ],
           "z": [
            -0.7621007646758979,
            -0.6626336095869529
           ]
          },
          {
           "line": {
            "color": "#1f77b4",
            "width": 1
           },
           "marker": {
            "color": "#1f77b4",
            "size": 1
           },
           "type": "scatter3d",
           "x": [
            -0.10456789807196559,
            0.07519876859470122,
            0.4937387685947011,
            1.127338768594701,
            1.5346987685947013,
            1.5842921019280345,
            1.3928254352613678,
            1.1768121019280344,
            0.7025454352613678,
            0.5634387685947011,
            0.8725321019280343,
            1.3347321019280343,
            1.3049254352613677,
            1.1927054352613675,
            0.9764121019280343,
            1.160118768594701,
            1.4533787685947008,
            1.725698768594701,
            1.726798768594701,
            1.3951387685947012,
            0.5218254352613677,
            -0.023674564738632144,
            -0.26836789807196554
           ],
           "y": [
            -0.9363594694242567,
            -0.9168994694242565,
            -0.9295194694242566,
            -0.9334528027575899,
            -0.9425594694242567,
            -0.8539261360909234,
            -0.5647928027575899,
            -0.27810613609092316,
            -0.09269280275758995,
            -0.08301946942425675,
            -0.06881280275759005,
            -0.16405946942425653,
            -0.16121946942425658,
            -0.3059861360909233,
            -0.36855946942425666,
            -0.3208794694242565,
            -0.5929661360909233,
            -0.8983794694242566,
            -0.9128861360909233,
            -0.93739280275759,
            -0.9429728027575901,
            -0.9707661360909232,
            -1.5781301360909232
           ],
           "z": [
            -9.89050039882495,
            -9.781967065491616,
            -9.717387065491616,
            -10.231047065491616,
            -11.064395532158283,
            -11.62703239882495,
            -11.72928039882495,
            -11.640749732158284,
            -11.71298039882495,
            -11.67711439882495,
            -11.655715065491616,
            -11.733913732158284,
            -11.667425732158282,
            -11.71280039882495,
            -11.671505065491615,
            -11.601569065491617,
            -11.708547065491617,
            -11.585561732158283,
            -11.510019732158284,
            -10.847421065491616,
            -10.372922398824949,
            -10.329247065491616,
            -11.276871065491616
           ]
          }
         ],
         "name": "frame24"
        },
        {
         "data": [
          {
           "line": {
            "color": "red",
            "width": 5
           },
           "marker": {
            "color": "blue",
            "size": 2
           },
           "text": [
            "RHip"
           ],
           "type": "scatter3d",
           "x": [
            -0.054682909176295424,
            -0.2385212314052989
           ],
           "y": [
            -0.11346471880033815,
            -0.9420794694242567
           ],
           "z": [
            -0.09568387007652213,
            -12.03726039882495
           ]
          },
          {
           "line": {
            "color": "red",
            "width": 5
           },
           "marker": {
            "color": "blue",
            "size": 2
           },
           "text": [
            "RKnee"
           ],
           "type": "scatter3d",
           "x": [
            -0.09752321002733938,
            -0.054682909176295424
           ],
           "y": [
            -0.6070180797328057,
            -0.11346471880033815
           ],
           "z": [
            -0.10910208107412878,
            -0.09568387007652213
           ]
          },
          {
           "line": {
            "color": "red",
            "width": 5
           },
           "marker": {
            "color": "blue",
            "size": 2
           },
           "text": [
            "RAnkle"
           ],
           "type": "scatter3d",
           "x": [
            0.11162579633235883,
            -0.09752321002733938
           ],
           "y": [
            -1.0588110354023306,
            -0.6070180797328057
           ],
           "z": [
            -0.05670291941608063,
            -0.10910208107412878
           ]
          },
          {
           "line": {
            "color": "black",
            "width": 5
           },
           "marker": {
            "color": "blue",
            "size": 2
           },
           "text": [
            "LHip"
           ],
           "type": "scatter3d",
           "x": [
            -0.063583021169415,
            -0.2385212314052989
           ],
           "y": [
            -0.12236130855756788,
            -0.9420794694242567
           ],
           "z": [
            0.0817754363486074,
            -12.03726039882495
           ]
          },
          {
           "line": {
            "color": "black",
            "width": 5
           },
           "marker": {
            "color": "blue",
            "size": 2
           },
           "text": [
            "LKnee"
           ],
           "type": "scatter3d",
           "x": [
            -0.14249290394693642,
            -0.063583021169415
           ],
           "y": [
            -0.5878454490772329,
            -0.12236130855756788
           ],
           "z": [
            0.15109354458232538,
            0.0817754363486074
           ]
          },
          {
           "line": {
            "color": "black",
            "width": 5
           },
           "marker": {
            "color": "blue",
            "size": 2
           },
           "text": [
            "LAnkle"
           ],
           "type": "scatter3d",
           "x": [
            0.021504139612696344,
            -0.14249290394693642
           ],
           "y": [
            -1.0559943316396097,
            -0.5878454490772329
           ],
           "z": [
            0.20911719875227774,
            0.15109354458232538
           ]
          },
          {
           "line": {
            "color": "black",
            "width": 5
           },
           "marker": {
            "color": "blue",
            "size": 2
           },
           "text": [
            "Spine1"
           ],
           "type": "scatter3d",
           "x": [
            -0.034855220640785944,
            -0.2385212314052989
           ],
           "y": [
            0.2701995028174855,
            -0.9420794694242567
           ],
           "z": [
            -0.0004798334556053163,
            -12.03726039882495
           ]
          },
          {
           "line": {
            "color": "black",
            "width": 5
           },
           "marker": {
            "color": "blue",
            "size": 2
           },
           "text": [
            "Neck"
           ],
           "type": "scatter3d",
           "x": [
            -0.08090962638502253,
            -0.034855220640785944
           ],
           "y": [
            0.5188924620618058,
            0.2701995028174855
           ],
           "z": [
            -0.029287839224142687,
            -0.0004798334556053163
           ]
          },
          {
           "line": {
            "color": "black",
            "width": 5
           },
           "marker": {
            "color": "blue",
            "size": 2
           },
           "text": [
            "Head"
           ],
           "type": "scatter3d",
           "x": [
            -0.08344465193863354,
            -0.08090962638502253
           ],
           "y": [
            0.6363651262035239,
            0.5188924620618058
           ],
           "z": [
            -0.039215781517008,
            -0.029287839224142687
           ]
          },
          {
           "line": {
            "color": "black",
            "width": 5
           },
           "marker": {
            "color": "blue",
            "size": 2
           },
           "text": [
            "Site"
           ],
           "type": "scatter3d",
           "x": [
            -0.09331952166005297,
            -0.08344465193863354
           ],
           "y": [
            0.7536883322498504,
            0.6363651262035239
           ],
           "z": [
            -0.04881457294104585,
            -0.039215781517008
           ]
          },
          {
           "line": {
            "color": "black",
            "width": 5
           },
           "marker": {
            "color": "blue",
            "size": 2
           },
           "text": [
            "LShoulder"
           ],
           "type": "scatter3d",
           "x": [
            -0.031676518038360135,
            -0.08090962638502253
           ],
           "y": [
            0.5142975799335419,
            0.5188924620618058
           ],
           "z": [
            0.19842318954304972,
            -0.029287839224142687
           ]
          },
          {
           "line": {
            "color": "black",
            "width": 5
           },
           "marker": {
            "color": "blue",
            "size": 2
           },
           "text": [
            "LElbow"
           ],
           "type": "scatter3d",
           "x": [
            -0.12952420446956658,
            -0.031676518038360135
           ],
           "y": [
            0.35665389881145515,
            0.5142975799335419
           ],
           "z": [
            0.6579723947515337,
            0.19842318954304972
           ]
          },
          {
           "line": {
            "color": "black",
            "width": 5
           },
           "marker": {
            "color": "blue",
            "size": 2
           },
           "text": [
            "LWrist"
           ],
           "type": "scatter3d",
           "x": [
            -0.1852934441539934,
            -0.12952420446956658
           ],
           "y": [
            0.38014303765299773,
            0.35665389881145515
           ],
           "z": [
            0.7570763654588077,
            0.6579723947515337
           ]
          },
          {
           "line": {
            "color": "red",
            "width": 5
           },
           "marker": {
            "color": "blue",
            "size": 2
           },
           "text": [
            "RShoulder"
           ],
           "type": "scatter3d",
           "x": [
            -0.059299416833845486,
            -0.08090962638502253
           ],
           "y": [
            0.4736150079439574,
            0.5188924620618058
           ],
           "z": [
            -0.23224424563463053,
            -0.029287839224142687
           ]
          },
          {
           "line": {
            "color": "red",
            "width": 5
           },
           "marker": {
            "color": "blue",
            "size": 2
           },
           "text": [
            "RElbow"
           ],
           "type": "scatter3d",
           "x": [
            -0.0725806942900416,
            -0.059299416833845486
           ],
           "y": [
            0.31599670945155545,
            0.4736150079439574
           ],
           "z": [
            -0.5234336491773437,
            -0.23224424563463053
           ]
          },
          {
           "line": {
            "color": "red",
            "width": 5
           },
           "marker": {
            "color": "blue",
            "size": 2
           },
           "text": [
            "RWrist"
           ],
           "type": "scatter3d",
           "x": [
            -0.1425385226456432,
            -0.0725806942900416
           ],
           "y": [
            0.37906434701086655,
            0.31599670945155545
           ],
           "z": [
            -0.589075046027622,
            -0.5234336491773437
           ]
          },
          {
           "line": {
            "color": "#1f77b4",
            "width": 1
           },
           "marker": {
            "color": "#1f77b4",
            "size": 1
           },
           "type": "scatter3d",
           "x": [
            -0.10456789807196559,
            0.07519876859470122,
            0.4937387685947011,
            1.127338768594701,
            1.5346987685947013,
            1.5842921019280345,
            1.3928254352613678,
            1.1768121019280344,
            0.7025454352613678,
            0.5634387685947011,
            0.8725321019280343,
            1.3347321019280343,
            1.3049254352613677,
            1.1927054352613675,
            0.9764121019280343,
            1.160118768594701,
            1.4533787685947008,
            1.725698768594701,
            1.726798768594701,
            1.3951387685947012,
            0.5218254352613677,
            -0.023674564738632144,
            -0.26836789807196554,
            -0.3035612314052989
           ],
           "y": [
            -0.9363594694242567,
            -0.9168994694242565,
            -0.9295194694242566,
            -0.9334528027575899,
            -0.9425594694242567,
            -0.8539261360909234,
            -0.5647928027575899,
            -0.27810613609092316,
            -0.09269280275758995,
            -0.08301946942425675,
            -0.06881280275759005,
            -0.16405946942425653,
            -0.16121946942425658,
            -0.3059861360909233,
            -0.36855946942425666,
            -0.3208794694242565,
            -0.5929661360909233,
            -0.8983794694242566,
            -0.9128861360909233,
            -0.93739280275759,
            -0.9429728027575901,
            -0.9707661360909232,
            -1.5781301360909232,
            -1.0126394694242564
           ],
           "z": [
            -9.89050039882495,
            -9.781967065491616,
            -9.717387065491616,
            -10.231047065491616,
            -11.064395532158283,
            -11.62703239882495,
            -11.72928039882495,
            -11.640749732158284,
            -11.71298039882495,
            -11.67711439882495,
            -11.655715065491616,
            -11.733913732158284,
            -11.667425732158282,
            -11.71280039882495,
            -11.671505065491615,
            -11.601569065491617,
            -11.708547065491617,
            -11.585561732158283,
            -11.510019732158284,
            -10.847421065491616,
            -10.372922398824949,
            -10.329247065491616,
            -11.276871065491616,
            -11.827567065491616
           ]
          }
         ],
         "name": "frame25"
        },
        {
         "data": [
          {
           "line": {
            "color": "red",
            "width": 5
           },
           "marker": {
            "color": "blue",
            "size": 2
           },
           "text": [
            "RHip"
           ],
           "type": "scatter3d",
           "x": [
            -0.006028907033360759,
            -0.19296789807196552
           ],
           "y": [
            -0.1160415136911428,
            -0.9359861360909234
           ],
           "z": [
            -0.10732141138419138,
            -11.878647065491617
           ]
          },
          {
           "line": {
            "color": "red",
            "width": 5
           },
           "marker": {
            "color": "blue",
            "size": 2
           },
           "text": [
            "RKnee"
           ],
           "type": "scatter3d",
           "x": [
            -0.06804521156066806,
            -0.006028907033360759
           ],
           "y": [
            -0.5853663949994377,
            -0.1160415136911428
           ],
           "z": [
            -0.25394471651966555,
            -0.10732141138419138
           ]
          },
          {
           "line": {
            "color": "red",
            "width": 5
           },
           "marker": {
            "color": "blue",
            "size": 2
           },
           "text": [
            "RAnkle"
           ],
           "type": "scatter3d",
           "x": [
            0.08888487941241958,
            -0.06804521156066806
           ],
           "y": [
            -1.0580306598276565,
            -0.5853663949994377
           ],
           "z": [
            -0.2032762539625832,
            -0.25394471651966555
           ]
          },
          {
           "line": {
            "color": "black",
            "width": 5
           },
           "marker": {
            "color": "blue",
            "size": 2
           },
           "text": [
            "LHip"
           ],
           "type": "scatter3d",
           "x": [
            -0.0758753855869434,
            -0.19296789807196552
           ],
           "y": [
            -0.1297701614025415,
            -0.9359861360909234
           ],
           "z": [
            0.0557220196560273,
            -11.878647065491617
           ]
          },
          {
           "line": {
            "color": "black",
            "width": 5
           },
           "marker": {
            "color": "blue",
            "size": 2
           },
           "text": [
            "LKnee"
           ],
           "type": "scatter3d",
           "x": [
            -0.18700474647672616,
            -0.0758753855869434
           ],
           "y": [
            -0.5937721401068052,
            -0.1297701614025415
           ],
           "z": [
            0.04799649629826597,
            0.0557220196560273
           ]
          },
          {
           "line": {
            "color": "black",
            "width": 5
           },
           "marker": {
            "color": "blue",
            "size": 2
           },
           "text": [
            "LAnkle"
           ],
           "type": "scatter3d",
           "x": [
            -0.01987211741476902,
            -0.18700474647672616
           ],
           "y": [
            -1.0643253643174948,
            -0.5937721401068052
           ],
           "z": [
            0.05645217319010598,
            0.04799649629826597
           ]
          },
          {
           "line": {
            "color": "black",
            "width": 5
           },
           "marker": {
            "color": "blue",
            "size": 2
           },
           "text": [
            "Spine1"
           ],
           "type": "scatter3d",
           "x": [
            -0.09742569939438456,
            -0.19296789807196552
           ],
           "y": [
            0.2537481537757942,
            -0.9359861360909234
           ],
           "z": [
            -0.010752089459680647,
            -11.878647065491617
           ]
          },
          {
           "line": {
            "color": "black",
            "width": 5
           },
           "marker": {
            "color": "blue",
            "size": 2
           },
           "text": [
            "Neck"
           ],
           "type": "scatter3d",
           "x": [
            -0.20740798501550078,
            -0.09742569939438456
           ],
           "y": [
            0.4776775150639816,
            0.2537481537757942
           ],
           "z": [
            -0.0547296748804218,
            -0.010752089459680647
           ]
          },
          {
           "line": {
            "color": "black",
            "width": 5
           },
           "marker": {
            "color": "blue",
            "size": 2
           },
           "text": [
            "Head"
           ],
           "type": "scatter3d",
           "x": [
            -0.24760707726736558,
            -0.20740798501550078
           ],
           "y": [
            0.5823070040542422,
            0.4776775150639816
           ],
           "z": [
            -0.09135644417616717,
            -0.0547296748804218
           ]
          },
          {
           "line": {
            "color": "black",
            "width": 5
           },
           "marker": {
            "color": "blue",
            "size": 2
           },
           "text": [
            "Site"
           ],
           "type": "scatter3d",
           "x": [
            -0.2731634875627739,
            -0.24760707726736558
           ],
           "y": [
            0.6840220575469791,
            0.5823070040542422
           ],
           "z": [
            -0.14571913645302637,
            -0.09135644417616717
           ]
          },
          {
           "line": {
            "color": "black",
            "width": 5
           },
           "marker": {
            "color": "blue",
            "size": 2
           },
           "text": [
            "LShoulder"
           ],
           "type": "scatter3d",
           "x": [
            -0.27290728528602165,
            -0.20740798501550078
           ],
           "y": [
            0.45945646425731024,
            0.4776775150639816
           ],
           "z": [
            0.15063778621965263,
            -0.0547296748804218
           ]
          },
          {
           "line": {
            "color": "black",
            "width": 5
           },
           "marker": {
            "color": "blue",
            "size": 2
           },
           "text": [
            "LElbow"
           ],
           "type": "scatter3d",
           "x": [
            -0.49752517152430537,
            -0.27290728528602165
           ],
           "y": [
            0.20309725950829516,
            0.45945646425731024
           ],
           "z": [
            0.08532130563700946,
            0.15063778621965263
           ]
          },
          {
           "line": {
            "color": "black",
            "width": 5
           },
           "marker": {
            "color": "blue",
            "size": 2
           },
           "text": [
            "LWrist"
           ],
           "type": "scatter3d",
           "x": [
            -0.5843826083175097,
            -0.49752517152430537
           ],
           "y": [
            0.2346822583041681,
            0.20309725950829516
           ],
           "z": [
            0.01502394954715669,
            0.08532130563700946
           ]
          },
          {
           "line": {
            "color": "red",
            "width": 5
           },
           "marker": {
            "color": "blue",
            "size": 2
           },
           "text": [
            "RShoulder"
           ],
           "type": "scatter3d",
           "x": [
            -0.04222874701774729,
            -0.20740798501550078
           ],
           "y": [
            0.47864628040709434,
            0.4776775150639816
           ],
           "z": [
            -0.21584781904012473,
            -0.0547296748804218
           ]
          },
          {
           "line": {
            "color": "red",
            "width": 5
           },
           "marker": {
            "color": "blue",
            "size": 2
           },
           "text": [
            "RElbow"
           ],
           "type": "scatter3d",
           "x": [
            0.07509786333340181,
            -0.04222874701774729
           ],
           "y": [
            0.3601431641392625,
            0.47864628040709434
           ],
           "z": [
            -0.5937812768182518,
            -0.21584781904012473
           ]
          },
          {
           "line": {
            "color": "red",
            "width": 5
           },
           "marker": {
            "color": "blue",
            "size": 2
           },
           "text": [
            "RWrist"
           ],
           "type": "scatter3d",
           "x": [
            0.04980414800741867,
            0.07509786333340181
           ],
           "y": [
            0.4211050742778868,
            0.3601431641392625
           ],
           "z": [
            -0.6877189748593384,
            -0.5937812768182518
           ]
          },
          {
           "line": {
            "color": "#1f77b4",
            "width": 1
           },
           "marker": {
            "color": "#1f77b4",
            "size": 1
           },
           "type": "scatter3d",
           "x": [
            -0.10456789807196559,
            0.07519876859470122,
            0.4937387685947011,
            1.127338768594701,
            1.5346987685947013,
            1.5842921019280345,
            1.3928254352613678,
            1.1768121019280344,
            0.7025454352613678,
            0.5634387685947011,
            0.8725321019280343,
            1.3347321019280343,
            1.3049254352613677,
            1.1927054352613675,
            0.9764121019280343,
            1.160118768594701,
            1.4533787685947008,
            1.725698768594701,
            1.726798768594701,
            1.3951387685947012,
            0.5218254352613677,
            -0.023674564738632144,
            -0.26836789807196554,
            -0.3035612314052989,
            -0.2385212314052989
           ],
           "y": [
            -0.9363594694242567,
            -0.9168994694242565,
            -0.9295194694242566,
            -0.9334528027575899,
            -0.9425594694242567,
            -0.8539261360909234,
            -0.5647928027575899,
            -0.27810613609092316,
            -0.09269280275758995,
            -0.08301946942425675,
            -0.06881280275759005,
            -0.16405946942425653,
            -0.16121946942425658,
            -0.3059861360909233,
            -0.36855946942425666,
            -0.3208794694242565,
            -0.5929661360909233,
            -0.8983794694242566,
            -0.9128861360909233,
            -0.93739280275759,
            -0.9429728027575901,
            -0.9707661360909232,
            -1.5781301360909232,
            -1.0126394694242564,
            -0.9420794694242567
           ],
           "z": [
            -9.89050039882495,
            -9.781967065491616,
            -9.717387065491616,
            -10.231047065491616,
            -11.064395532158283,
            -11.62703239882495,
            -11.72928039882495,
            -11.640749732158284,
            -11.71298039882495,
            -11.67711439882495,
            -11.655715065491616,
            -11.733913732158284,
            -11.667425732158282,
            -11.71280039882495,
            -11.671505065491615,
            -11.601569065491617,
            -11.708547065491617,
            -11.585561732158283,
            -11.510019732158284,
            -10.847421065491616,
            -10.372922398824949,
            -10.329247065491616,
            -11.276871065491616,
            -11.827567065491616,
            -12.03726039882495
           ]
          }
         ],
         "name": "frame26"
        },
        {
         "data": [
          {
           "line": {
            "color": "red",
            "width": 5
           },
           "marker": {
            "color": "blue",
            "size": 2
           },
           "text": [
            "RHip"
           ],
           "type": "scatter3d",
           "x": [
            0.05322210107730167,
            -0.11495456473863222
           ],
           "y": [
            -0.10840911899219763,
            -1.5009401360909234
           ],
           "z": [
            -0.10215055965336894,
            -11.89806039882495
           ]
          },
          {
           "line": {
            "color": "red",
            "width": 5
           },
           "marker": {
            "color": "blue",
            "size": 2
           },
           "text": [
            "RKnee"
           ],
           "type": "scatter3d",
           "x": [
            -0.026365159988923997,
            0.05322210107730167
           ],
           "y": [
            -0.13664244348742316,
            -0.10840911899219763
           ],
           "z": [
            -0.5904936840188526,
            -0.10215055965336894
           ]
          },
          {
           "line": {
            "color": "red",
            "width": 5
           },
           "marker": {
            "color": "blue",
            "size": 2
           },
           "text": [
            "RAnkle"
           ],
           "type": "scatter3d",
           "x": [
            0.002753333970905686,
            -0.026365159988923997
           ],
           "y": [
            -0.4839244755065024,
            -0.13664244348742316
           ],
           "z": [
            -0.23111483469333827,
            -0.5904936840188526
           ]
          },
          {
           "line": {
            "color": "black",
            "width": 5
           },
           "marker": {
            "color": "blue",
            "size": 2
           },
           "text": [
            "LHip"
           ],
           "type": "scatter3d",
           "x": [
            -0.11301013774915786,
            -0.11495456473863222
           ],
           "y": [
            -0.10689458390510742,
            -1.5009401360909234
           ],
           "z": [
            -0.03878877544633319,
            -11.89806039882495
           ]
          },
          {
           "line": {
            "color": "black",
            "width": 5
           },
           "marker": {
            "color": "blue",
            "size": 2
           },
           "text": [
            "LKnee"
           ],
           "type": "scatter3d",
           "x": [
            -0.583560955346005,
            -0.11301013774915786
           ],
           "y": [
            -0.18360863734455468,
            -0.10689458390510742
           ],
           "z": [
            -0.05889193112456326,
            -0.03878877544633319
           ]
          },
          {
           "line": {
            "color": "black",
            "width": 5
           },
           "marker": {
            "color": "blue",
            "size": 2
           },
           "text": [
            "LAnkle"
           ],
           "type": "scatter3d",
           "x": [
            -0.15316324864900502,
            -0.583560955346005
           ],
           "y": [
            -0.42994973543728743,
            -0.18360863734455468
           ],
           "z": [
            0.00026065499275063075,
            -0.05889193112456326
           ]
          },
          {
           "line": {
            "color": "black",
            "width": 5
           },
           "marker": {
            "color": "blue",
            "size": 2
           },
           "text": [
            "Spine1"
           ],
           "type": "scatter3d",
           "x": [
            -0.06670337739948332,
            -0.11495456473863222
           ],
           "y": [
            0.22266225463008138,
            -1.5009401360909234
           ],
           "z": [
            -0.13893820015845648,
            -11.89806039882495
           ]
          },
          {
           "line": {
            "color": "black",
            "width": 5
           },
           "marker": {
            "color": "blue",
            "size": 2
           },
           "text": [
            "Neck"
           ],
           "type": "scatter3d",
           "x": [
            -0.13542374401085247,
            -0.06670337739948332
           ],
           "y": [
            0.4072593443925814,
            0.22266225463008138
           ],
           "z": [
            -0.2963834813797739,
            -0.13893820015845648
           ]
          },
          {
           "line": {
            "color": "black",
            "width": 5
           },
           "marker": {
            "color": "blue",
            "size": 2
           },
           "text": [
            "Head"
           ],
           "type": "scatter3d",
           "x": [
            -0.16593695458071853,
            -0.13542374401085247
           ],
           "y": [
            0.5160032967108061,
            0.4072593443925814
           ],
           "z": [
            -0.33027321475452176,
            -0.2963834813797739
           ]
          },
          {
           "line": {
            "color": "black",
            "width": 5
           },
           "marker": {
            "color": "blue",
            "size": 2
           },
           "text": [
            "Site"
           ],
           "type": "scatter3d",
           "x": [
            -0.17854570019411195,
            -0.16593695458071853
           ],
           "y": [
            0.6315255790321879,
            0.5160032967108061
           ],
           "z": [
            -0.3514865677926853,
            -0.33027321475452176
           ]
          },
          {
           "line": {
            "color": "black",
            "width": 5
           },
           "marker": {
            "color": "blue",
            "size": 2
           },
           "text": [
            "LShoulder"
           ],
           "type": "scatter3d",
           "x": [
            -0.3219384688467174,
            -0.13542374401085247
           ],
           "y": [
            0.40311465688323667,
            0.4072593443925814
           ],
           "z": [
            -0.1769956117228535,
            -0.2963834813797739
           ]
          },
          {
           "line": {
            "color": "black",
            "width": 5
           },
           "marker": {
            "color": "blue",
            "size": 2
           },
           "text": [
            "LElbow"
           ],
           "type": "scatter3d",
           "x": [
            -0.43080423175237137,
            -0.3219384688467174
           ],
           "y": [
            0.7258846795110985,
            0.40311465688323667
           ],
           "z": [
            -0.5666062763242721,
            -0.1769956117228535
           ]
          },
          {
           "line": {
            "color": "black",
            "width": 5
           },
           "marker": {
            "color": "blue",
            "size": 2
           },
           "text": [
            "LWrist"
           ],
           "type": "scatter3d",
           "x": [
            -0.4161584985304875,
            -0.43080423175237137
           ],
           "y": [
            0.8261804116306548,
            0.7258846795110985
           ],
           "z": [
            -0.623261491136681,
            -0.5666062763242721
           ]
          },
          {
           "line": {
            "color": "red",
            "width": 5
           },
           "marker": {
            "color": "blue",
            "size": 2
           },
           "text": [
            "RShoulder"
           ],
           "type": "scatter3d",
           "x": [
            0.09298049839183295,
            -0.13542374401085247
           ],
           "y": [
            0.4341303341462375,
            0.4072593443925814
           ],
           "z": [
            -0.298539078489636,
            -0.2963834813797739
           ]
          },
          {
           "line": {
            "color": "red",
            "width": 5
           },
           "marker": {
            "color": "blue",
            "size": 2
           },
           "text": [
            "RElbow"
           ],
           "type": "scatter3d",
           "x": [
            0.08224716330863197,
            0.09298049839183295
           ],
           "y": [
            0.8343358815766453,
            0.4341303341462375
           ],
           "z": [
            -0.6427525317830298,
            -0.298539078489636
           ]
          },
          {
           "line": {
            "color": "red",
            "width": 5
           },
           "marker": {
            "color": "blue",
            "size": 2
           },
           "text": [
            "RWrist"
           ],
           "type": "scatter3d",
           "x": [
            0.04149903872621781,
            0.08224716330863197
           ],
           "y": [
            0.9369442886822552,
            0.8343358815766453
           ],
           "z": [
            -0.6742409863380807,
            -0.6427525317830298
           ]
          },
          {
           "line": {
            "color": "#1f77b4",
            "width": 1
           },
           "marker": {
            "color": "#1f77b4",
            "size": 1
           },
           "type": "scatter3d",
           "x": [
            -0.10456789807196559,
            0.07519876859470122,
            0.4937387685947011,
            1.127338768594701,
            1.5346987685947013,
            1.5842921019280345,
            1.3928254352613678,
            1.1768121019280344,
            0.7025454352613678,
            0.5634387685947011,
            0.8725321019280343,
            1.3347321019280343,
            1.3049254352613677,
            1.1927054352613675,
            0.9764121019280343,
            1.160118768594701,
            1.4533787685947008,
            1.725698768594701,
            1.726798768594701,
            1.3951387685947012,
            0.5218254352613677,
            -0.023674564738632144,
            -0.26836789807196554,
            -0.3035612314052989,
            -0.2385212314052989,
            -0.19296789807196552
           ],
           "y": [
            -0.9363594694242567,
            -0.9168994694242565,
            -0.9295194694242566,
            -0.9334528027575899,
            -0.9425594694242567,
            -0.8539261360909234,
            -0.5647928027575899,
            -0.27810613609092316,
            -0.09269280275758995,
            -0.08301946942425675,
            -0.06881280275759005,
            -0.16405946942425653,
            -0.16121946942425658,
            -0.3059861360909233,
            -0.36855946942425666,
            -0.3208794694242565,
            -0.5929661360909233,
            -0.8983794694242566,
            -0.9128861360909233,
            -0.93739280275759,
            -0.9429728027575901,
            -0.9707661360909232,
            -1.5781301360909232,
            -1.0126394694242564,
            -0.9420794694242567,
            -0.9359861360909234
           ],
           "z": [
            -9.89050039882495,
            -9.781967065491616,
            -9.717387065491616,
            -10.231047065491616,
            -11.064395532158283,
            -11.62703239882495,
            -11.72928039882495,
            -11.640749732158284,
            -11.71298039882495,
            -11.67711439882495,
            -11.655715065491616,
            -11.733913732158284,
            -11.667425732158282,
            -11.71280039882495,
            -11.671505065491615,
            -11.601569065491617,
            -11.708547065491617,
            -11.585561732158283,
            -11.510019732158284,
            -10.847421065491616,
            -10.372922398824949,
            -10.329247065491616,
            -11.276871065491616,
            -11.827567065491616,
            -12.03726039882495,
            -11.878647065491617
           ]
          }
         ],
         "name": "frame27"
        },
        {
         "data": [
          {
           "line": {
            "color": "red",
            "width": 5
           },
           "marker": {
            "color": "blue",
            "size": 2
           },
           "text": [
            "RHip"
           ],
           "type": "scatter3d",
           "x": [
            -0.047964126781804714,
            -0.043434564738632275
           ],
           "y": [
            -0.10762101571256055,
            -1.30883280275759
           ],
           "z": [
            -0.10553210639563382,
            -12.074693732158282
           ]
          },
          {
           "line": {
            "color": "red",
            "width": 5
           },
           "marker": {
            "color": "blue",
            "size": 2
           },
           "text": [
            "RKnee"
           ],
           "type": "scatter3d",
           "x": [
            -0.3958290704706306,
            -0.047964126781804714
           ],
           "y": [
            -0.4085199970136757,
            -0.10762101571256055
           ],
           "z": [
            -0.29008574048459046,
            -0.10553210639563382
           ]
          },
          {
           "line": {
            "color": "red",
            "width": 5
           },
           "marker": {
            "color": "blue",
            "size": 2
           },
           "text": [
            "RAnkle"
           ],
           "type": "scatter3d",
           "x": [
            0.02561484327396286,
            -0.3958290704706306
           ],
           "y": [
            -0.6449580333214335,
            -0.4085199970136757
           ],
           "z": [
            -0.1593649068317582,
            -0.29008574048459046
           ]
          },
          {
           "line": {
            "color": "black",
            "width": 5
           },
           "marker": {
            "color": "blue",
            "size": 2
           },
           "text": [
            "LHip"
           ],
           "type": "scatter3d",
           "x": [
            -0.08980318636686752,
            -0.043434564738632275
           ],
           "y": [
            -0.11452414452817683,
            -1.30883280275759
           ],
           "z": [
            0.06724522616069173,
            -12.074693732158282
           ]
          },
          {
           "line": {
            "color": "black",
            "width": 5
           },
           "marker": {
            "color": "blue",
            "size": 2
           },
           "text": [
            "LKnee"
           ],
           "type": "scatter3d",
           "x": [
            -0.5161622380796286,
            -0.08980318636686752
           ],
           "y": [
            -0.3077205363827227,
            -0.11452414452817683
           ],
           "z": [
            0.15998339522486305,
            0.06724522616069173
           ]
          },
          {
           "line": {
            "color": "black",
            "width": 5
           },
           "marker": {
            "color": "blue",
            "size": 2
           },
           "text": [
            "LAnkle"
           ],
           "type": "scatter3d",
           "x": [
            -0.18111313100646573,
            -0.5161622380796286
           ],
           "y": [
            -0.6780189006178254,
            -0.3077205363827227
           ],
           "z": [
            0.16679282091429393,
            0.15998339522486305
           ]
          },
          {
           "line": {
            "color": "black",
            "width": 5
           },
           "marker": {
            "color": "blue",
            "size": 2
           },
           "text": [
            "Spine1"
           ],
           "type": "scatter3d",
           "x": [
            -0.11460105481466887,
            -0.043434564738632275
           ],
           "y": [
            0.24499532689000914,
            -1.30883280275759
           ],
           "z": [
            -0.02204562013284317,
            -12.074693732158282
           ]
          },
          {
           "line": {
            "color": "black",
            "width": 5
           },
           "marker": {
            "color": "blue",
            "size": 2
           },
           "text": [
            "Neck"
           ],
           "type": "scatter3d",
           "x": [
            -0.20271953721194766,
            -0.11460105481466887
           ],
           "y": [
            0.47530037421028015,
            0.24499532689000914
           ],
           "z": [
            -0.0835946822239908,
            -0.02204562013284317
           ]
          },
          {
           "line": {
            "color": "black",
            "width": 5
           },
           "marker": {
            "color": "blue",
            "size": 2
           },
           "text": [
            "Head"
           ],
           "type": "scatter3d",
           "x": [
            -0.2174857777133466,
            -0.20271953721194766
           ],
           "y": [
            0.5899920215083791,
            0.47530037421028015
           ],
           "z": [
            -0.10667284061637794,
            -0.0835946822239908
           ]
          },
          {
           "line": {
            "color": "black",
            "width": 5
           },
           "marker": {
            "color": "blue",
            "size": 2
           },
           "text": [
            "Site"
           ],
           "type": "scatter3d",
           "x": [
            -0.23862257930994168,
            -0.2174857777133466
           ],
           "y": [
            0.7028172417367424,
            0.5899920215083791
           ],
           "z": [
            -0.13456710211392497,
            -0.10667284061637794
           ]
          },
          {
           "line": {
            "color": "black",
            "width": 5
           },
           "marker": {
            "color": "blue",
            "size": 2
           },
           "text": [
            "LShoulder"
           ],
           "type": "scatter3d",
           "x": [
            -0.2749250325939456,
            -0.20271953721194766
           ],
           "y": [
            0.45937664569431513,
            0.47530037421028015
           ],
           "z": [
            0.14376529704920316,
            -0.0835946822239908
           ]
          },
          {
           "line": {
            "color": "black",
            "width": 5
           },
           "marker": {
            "color": "blue",
            "size": 2
           },
           "text": [
            "LElbow"
           ],
           "type": "scatter3d",
           "x": [
            -0.5768686491409731,
            -0.2749250325939456
           ],
           "y": [
            0.4019629617512466,
            0.45937664569431513
           ],
           "z": [
            -0.1499274003128761,
            0.14376529704920316
           ]
          },
          {
           "line": {
            "color": "black",
            "width": 5
           },
           "marker": {
            "color": "blue",
            "size": 2
           },
           "text": [
            "LWrist"
           ],
           "type": "scatter3d",
           "x": [
            -0.5885027331196023,
            -0.5768686491409731
           ],
           "y": [
            0.45274817228498754,
            0.4019629617512466
           ],
           "z": [
            -0.25370145887023554,
            -0.1499274003128761
           ]
          },
          {
           "line": {
            "color": "red",
            "width": 5
           },
           "marker": {
            "color": "blue",
            "size": 2
           },
           "text": [
            "RShoulder"
           ],
           "type": "scatter3d",
           "x": [
            -0.09099808554029801,
            -0.20271953721194766
           ],
           "y": [
            0.45417604185468496,
            0.47530037421028015
           ],
           "z": [
            -0.2487093744791693,
            -0.0835946822239908
           ]
          },
          {
           "line": {
            "color": "red",
            "width": 5
           },
           "marker": {
            "color": "blue",
            "size": 2
           },
           "text": [
            "RElbow"
           ],
           "type": "scatter3d",
           "x": [
            -0.05590384225698261,
            -0.09099808554029801
           ],
           "y": [
            0.6855591198198483,
            0.45417604185468496
           ],
           "z": [
            -0.5615269221404855,
            -0.2487093744791693
           ]
          },
          {
           "line": {
            "color": "red",
            "width": 5
           },
           "marker": {
            "color": "blue",
            "size": 2
           },
           "text": [
            "RWrist"
           ],
           "type": "scatter3d",
           "x": [
            -0.10392345538372172,
            -0.05590384225698261
           ],
           "y": [
            0.789713330692239,
            0.6855591198198483
           ],
           "z": [
            -0.5563854487419491,
            -0.5615269221404855
           ]
          },
          {
           "line": {
            "color": "#1f77b4",
            "width": 1
           },
           "marker": {
            "color": "#1f77b4",
            "size": 1
           },
           "type": "scatter3d",
           "x": [
            -0.10456789807196559,
            0.07519876859470122,
            0.4937387685947011,
            1.127338768594701,
            1.5346987685947013,
            1.5842921019280345,
            1.3928254352613678,
            1.1768121019280344,
            0.7025454352613678,
            0.5634387685947011,
            0.8725321019280343,
            1.3347321019280343,
            1.3049254352613677,
            1.1927054352613675,
            0.9764121019280343,
            1.160118768594701,
            1.4533787685947008,
            1.725698768594701,
            1.726798768594701,
            1.3951387685947012,
            0.5218254352613677,
            -0.023674564738632144,
            -0.26836789807196554,
            -0.3035612314052989,
            -0.2385212314052989,
            -0.19296789807196552,
            -0.11495456473863222
           ],
           "y": [
            -0.9363594694242567,
            -0.9168994694242565,
            -0.9295194694242566,
            -0.9334528027575899,
            -0.9425594694242567,
            -0.8539261360909234,
            -0.5647928027575899,
            -0.27810613609092316,
            -0.09269280275758995,
            -0.08301946942425675,
            -0.06881280275759005,
            -0.16405946942425653,
            -0.16121946942425658,
            -0.3059861360909233,
            -0.36855946942425666,
            -0.3208794694242565,
            -0.5929661360909233,
            -0.8983794694242566,
            -0.9128861360909233,
            -0.93739280275759,
            -0.9429728027575901,
            -0.9707661360909232,
            -1.5781301360909232,
            -1.0126394694242564,
            -0.9420794694242567,
            -0.9359861360909234,
            -1.5009401360909234
           ],
           "z": [
            -9.89050039882495,
            -9.781967065491616,
            -9.717387065491616,
            -10.231047065491616,
            -11.064395532158283,
            -11.62703239882495,
            -11.72928039882495,
            -11.640749732158284,
            -11.71298039882495,
            -11.67711439882495,
            -11.655715065491616,
            -11.733913732158284,
            -11.667425732158282,
            -11.71280039882495,
            -11.671505065491615,
            -11.601569065491617,
            -11.708547065491617,
            -11.585561732158283,
            -11.510019732158284,
            -10.847421065491616,
            -10.372922398824949,
            -10.329247065491616,
            -11.276871065491616,
            -11.827567065491616,
            -12.03726039882495,
            -11.878647065491617,
            -11.89806039882495
           ]
          }
         ],
         "name": "frame28"
        },
        {
         "data": [
          {
           "line": {
            "color": "red",
            "width": 5
           },
           "marker": {
            "color": "blue",
            "size": 2
           },
           "text": [
            "RHip"
           ],
           "type": "scatter3d",
           "x": [
            -0.09739569149885541,
            -0.2786812314052989
           ],
           "y": [
            -0.11896057386837389,
            -0.95333280275759
           ],
           "z": [
            0.03717965981031135,
            -11.968067065491617
           ]
          },
          {
           "line": {
            "color": "red",
            "width": 5
           },
           "marker": {
            "color": "blue",
            "size": 2
           },
           "text": [
            "RKnee"
           ],
           "type": "scatter3d",
           "x": [
            -0.16204637825738594,
            -0.09739569149885541
           ],
           "y": [
            -0.5438194604760931,
            -0.11896057386837389
           ],
           "z": [
            0.284010523000509,
            0.03717965981031135
           ]
          },
          {
           "line": {
            "color": "red",
            "width": 5
           },
           "marker": {
            "color": "blue",
            "size": 2
           },
           "text": [
            "RAnkle"
           ],
           "type": "scatter3d",
           "x": [
            -0.14400338573377974,
            -0.16204637825738594
           ],
           "y": [
            -1.0080454661988347,
            -0.5438194604760931
           ],
           "z": [
            0.09753124847429717,
            0.284010523000509
           ]
          },
          {
           "line": {
            "color": "black",
            "width": 5
           },
           "marker": {
            "color": "blue",
            "size": 2
           },
           "text": [
            "LHip"
           ],
           "type": "scatter3d",
           "x": [
            0.07643880543539072,
            -0.2786812314052989
           ],
           "y": [
            -0.11929776852571816,
            -0.95333280275759
           ],
           "z": [
            0.07501642387737739,
            -11.968067065491617
           ]
          },
          {
           "line": {
            "color": "black",
            "width": 5
           },
           "marker": {
            "color": "blue",
            "size": 2
           },
           "text": [
            "LKnee"
           ],
           "type": "scatter3d",
           "x": [
            0.02032290986697155,
            0.07643880543539072
           ],
           "y": [
            -0.5710002269909171,
            -0.11929776852571816
           ],
           "z": [
            0.21827545530452497,
            0.07501642387737739
           ]
          },
          {
           "line": {
            "color": "black",
            "width": 5
           },
           "marker": {
            "color": "blue",
            "size": 2
           },
           "text": [
            "LAnkle"
           ],
           "type": "scatter3d",
           "x": [
            0.07229125792507568,
            0.02032290986697155
           ],
           "y": [
            -1.0461541198790925,
            -0.5710002269909171
           ],
           "z": [
            0.07352318465822094,
            0.21827545530452497
           ]
          },
          {
           "line": {
            "color": "black",
            "width": 5
           },
           "marker": {
            "color": "blue",
            "size": 2
           },
           "text": [
            "Spine1"
           ],
           "type": "scatter3d",
           "x": [
            -0.0194612593486429,
            -0.2786812314052989
           ],
           "y": [
            0.2525910305282917,
            -0.95333280275759
           ],
           "z": [
            0.1009304261909616,
            -11.968067065491617
           ]
          },
          {
           "line": {
            "color": "black",
            "width": 5
           },
           "marker": {
            "color": "blue",
            "size": 2
           },
           "text": [
            "Neck"
           ],
           "type": "scatter3d",
           "x": [
            -0.027679471116925813,
            -0.0194612593486429
           ],
           "y": [
            0.5013038617710259,
            0.2525910305282917
           ],
           "z": [
            0.15343474483226238,
            0.1009304261909616
           ]
          },
          {
           "line": {
            "color": "black",
            "width": 5
           },
           "marker": {
            "color": "blue",
            "size": 2
           },
           "text": [
            "Head"
           ],
           "type": "scatter3d",
           "x": [
            -0.019952879217436936,
            -0.027679471116925813
           ],
           "y": [
            0.6175016526339838,
            0.5013038617710259
           ],
           "z": [
            0.17196014332913379,
            0.15343474483226238
           ]
          },
          {
           "line": {
            "color": "black",
            "width": 5
           },
           "marker": {
            "color": "blue",
            "size": 2
           },
           "text": [
            "Site"
           ],
           "type": "scatter3d",
           "x": [
            -0.021370842825403358,
            -0.019952879217436936
           ],
           "y": [
            0.7317230955941663,
            0.6175016526339838
           ],
           "z": [
            0.2020572507168268,
            0.17196014332913379
           ]
          },
          {
           "line": {
            "color": "black",
            "width": 5
           },
           "marker": {
            "color": "blue",
            "size": 2
           },
           "text": [
            "LShoulder"
           ],
           "type": "scatter3d",
           "x": [
            0.1889822310191119,
            -0.027679471116925813
           ],
           "y": [
            0.4840140192887792,
            0.5013038617710259
           ],
           "z": [
            0.14731037397516644,
            0.15343474483226238
           ]
          },
          {
           "line": {
            "color": "black",
            "width": 5
           },
           "marker": {
            "color": "blue",
            "size": 2
           },
           "text": [
            "LElbow"
           ],
           "type": "scatter3d",
           "x": [
            0.23048786101412697,
            0.1889822310191119
           ],
           "y": [
            0.38969424072403425,
            0.4840140192887792
           ],
           "z": [
            0.5745923885248185,
            0.14731037397516644
           ]
          },
          {
           "line": {
            "color": "black",
            "width": 5
           },
           "marker": {
            "color": "blue",
            "size": 2
           },
           "text": [
            "LWrist"
           ],
           "type": "scatter3d",
           "x": [
            0.2045771249685641,
            0.23048786101412697
           ],
           "y": [
            0.44992726833370433,
            0.38969424072403425
           ],
           "z": [
            0.6704264163593727,
            0.5745923885248185
           ]
          },
          {
           "line": {
            "color": "red",
            "width": 5
           },
           "marker": {
            "color": "blue",
            "size": 2
           },
           "text": [
            "RShoulder"
           ],
           "type": "scatter3d",
           "x": [
            -0.24277298205695086,
            -0.027679471116925813
           ],
           "y": [
            0.46630215843383693,
            0.5013038617710259
           ],
           "z": [
            0.11315979724834868,
            0.15343474483226238
           ]
          },
          {
           "line": {
            "color": "red",
            "width": 5
           },
           "marker": {
            "color": "blue",
            "size": 2
           },
           "text": [
            "RElbow"
           ],
           "type": "scatter3d",
           "x": [
            -0.31678806406302296,
            -0.24277298205695086
           ],
           "y": [
            0.39004368771714204,
            0.46630215843383693
           ],
           "z": [
            0.565610449225737,
            0.11315979724834868
           ]
          },
          {
           "line": {
            "color": "red",
            "width": 5
           },
           "marker": {
            "color": "blue",
            "size": 2
           },
           "text": [
            "RWrist"
           ],
           "type": "scatter3d",
           "x": [
            -0.2941866974187648,
            -0.31678806406302296
           ],
           "y": [
            0.450565264127168,
            0.39004368771714204
           ],
           "z": [
            0.6605142671186819,
            0.565610449225737
           ]
          },
          {
           "line": {
            "color": "#1f77b4",
            "width": 1
           },
           "marker": {
            "color": "#1f77b4",
            "size": 1
           },
           "type": "scatter3d",
           "x": [
            -0.10456789807196559,
            0.07519876859470122,
            0.4937387685947011,
            1.127338768594701,
            1.5346987685947013,
            1.5842921019280345,
            1.3928254352613678,
            1.1768121019280344,
            0.7025454352613678,
            0.5634387685947011,
            0.8725321019280343,
            1.3347321019280343,
            1.3049254352613677,
            1.1927054352613675,
            0.9764121019280343,
            1.160118768594701,
            1.4533787685947008,
            1.725698768594701,
            1.726798768594701,
            1.3951387685947012,
            0.5218254352613677,
            -0.023674564738632144,
            -0.26836789807196554,
            -0.3035612314052989,
            -0.2385212314052989,
            -0.19296789807196552,
            -0.11495456473863222,
            -0.043434564738632275
           ],
           "y": [
            -0.9363594694242567,
            -0.9168994694242565,
            -0.9295194694242566,
            -0.9334528027575899,
            -0.9425594694242567,
            -0.8539261360909234,
            -0.5647928027575899,
            -0.27810613609092316,
            -0.09269280275758995,
            -0.08301946942425675,
            -0.06881280275759005,
            -0.16405946942425653,
            -0.16121946942425658,
            -0.3059861360909233,
            -0.36855946942425666,
            -0.3208794694242565,
            -0.5929661360909233,
            -0.8983794694242566,
            -0.9128861360909233,
            -0.93739280275759,
            -0.9429728027575901,
            -0.9707661360909232,
            -1.5781301360909232,
            -1.0126394694242564,
            -0.9420794694242567,
            -0.9359861360909234,
            -1.5009401360909234,
            -1.30883280275759
           ],
           "z": [
            -9.89050039882495,
            -9.781967065491616,
            -9.717387065491616,
            -10.231047065491616,
            -11.064395532158283,
            -11.62703239882495,
            -11.72928039882495,
            -11.640749732158284,
            -11.71298039882495,
            -11.67711439882495,
            -11.655715065491616,
            -11.733913732158284,
            -11.667425732158282,
            -11.71280039882495,
            -11.671505065491615,
            -11.601569065491617,
            -11.708547065491617,
            -11.585561732158283,
            -11.510019732158284,
            -10.847421065491616,
            -10.372922398824949,
            -10.329247065491616,
            -11.276871065491616,
            -11.827567065491616,
            -12.03726039882495,
            -11.878647065491617,
            -11.89806039882495,
            -12.074693732158282
           ]
          }
         ],
         "name": "frame29"
        },
        {
         "data": [
          {
           "line": {
            "color": "red",
            "width": 5
           },
           "marker": {
            "color": "blue",
            "size": 2
           },
           "text": [
            "RHip"
           ],
           "type": "scatter3d",
           "x": [
            -0.07367366751919313,
            -0.3800678980719656
           ],
           "y": [
            -0.018842591329222724,
            -1.6294674694242566
           ],
           "z": [
            0.13869756100059938,
            -11.184275732158284
           ]
          },
          {
           "line": {
            "color": "red",
            "width": 5
           },
           "marker": {
            "color": "blue",
            "size": 2
           },
           "text": [
            "RKnee"
           ],
           "type": "scatter3d",
           "x": [
            -0.07469157247067554,
            -0.07367366751919313
           ],
           "y": [
            0.12094729674337956,
            -0.018842591329222724
           ],
           "z": [
            0.614163659595734,
            0.13869756100059938
           ]
          },
          {
           "line": {
            "color": "red",
            "width": 5
           },
           "marker": {
            "color": "blue",
            "size": 2
           },
           "text": [
            "RAnkle"
           ],
           "type": "scatter3d",
           "x": [
            -0.03445180462758374,
            -0.07469157247067554
           ],
           "y": [
            -0.366363444045785,
            0.12094729674337956
           ],
           "z": [
            0.5068563588572932,
            0.614163659595734
           ]
          },
          {
           "line": {
            "color": "black",
            "width": 5
           },
           "marker": {
            "color": "blue",
            "size": 2
           },
           "text": [
            "LHip"
           ],
           "type": "scatter3d",
           "x": [
            0.10088964275489992,
            -0.3800678980719656
           ],
           "y": [
            -0.04480892879576159,
            -1.6294674694242566
           ],
           "z": [
            0.11625726767785594,
            -11.184275732158284
           ]
          },
          {
           "line": {
            "color": "black",
            "width": 5
           },
           "marker": {
            "color": "blue",
            "size": 2
           },
           "text": [
            "LKnee"
           ],
           "type": "scatter3d",
           "x": [
            0.48141466941546096,
            0.10088964275489992
           ],
           "y": [
            0.01339279059871834,
            -0.04480892879576159
           ],
           "z": [
            0.39825109517927615,
            0.11625726767785594
           ]
          },
          {
           "line": {
            "color": "black",
            "width": 5
           },
           "marker": {
            "color": "blue",
            "size": 2
           },
           "text": [
            "LAnkle"
           ],
           "type": "scatter3d",
           "x": [
            0.16286522559052455,
            0.48141466941546096
           ],
           "y": [
            -0.34423318255498536,
            0.01339279059871834
           ],
           "z": [
            0.25663518453140277,
            0.39825109517927615
           ]
          },
          {
           "line": {
            "color": "black",
            "width": 5
           },
           "marker": {
            "color": "blue",
            "size": 2
           },
           "text": [
            "Spine1"
           ],
           "type": "scatter3d",
           "x": [
            0.04596920306474461,
            -0.3800678980719656
           ],
           "y": [
            0.2571176616583357,
            -1.6294674694242566
           ],
           "z": [
            -0.07541613554459481,
            -11.184275732158284
           ]
          },
          {
           "line": {
            "color": "black",
            "width": 5
           },
           "marker": {
            "color": "blue",
            "size": 2
           },
           "text": [
            "Neck"
           ],
           "type": "scatter3d",
           "x": [
            0.08745954153449204,
            0.04596920306474461
           ],
           "y": [
            0.5002016016593307,
            0.2571176616583357
           ],
           "z": [
            -0.12258822235477851,
            -0.07541613554459481
           ]
          },
          {
           "line": {
            "color": "black",
            "width": 5
           },
           "marker": {
            "color": "blue",
            "size": 2
           },
           "text": [
            "Head"
           ],
           "type": "scatter3d",
           "x": [
            0.10154510735325967,
            0.08745954153449204
           ],
           "y": [
            0.6169998893323061,
            0.5002016016593307
           ],
           "z": [
            -0.13062402010651653,
            -0.12258822235477851
           ]
          },
          {
           "line": {
            "color": "black",
            "width": 5
           },
           "marker": {
            "color": "blue",
            "size": 2
           },
           "text": [
            "Site"
           ],
           "type": "scatter3d",
           "x": [
            0.09991328949079814,
            0.10154510735325967
           ],
           "y": [
            0.7349971508032376,
            0.6169998893323061
           ],
           "z": [
            -0.13595018022713212,
            -0.13062402010651653
           ]
          },
          {
           "line": {
            "color": "black",
            "width": 5
           },
           "marker": {
            "color": "blue",
            "size": 2
           },
           "text": [
            "LShoulder"
           ],
           "type": "scatter3d",
           "x": [
            0.28494134951661154,
            0.08745954153449204
           ],
           "y": [
            0.4246844093107096,
            0.5002016016593307
           ],
           "z": [
            -0.1936112549928506,
            -0.12258822235477851
           ]
          },
          {
           "line": {
            "color": "black",
            "width": 5
           },
           "marker": {
            "color": "blue",
            "size": 2
           },
           "text": [
            "LElbow"
           ],
           "type": "scatter3d",
           "x": [
            0.37770792659371455,
            0.28494134951661154
           ],
           "y": [
            0.8907217871797046,
            0.4246844093107096
           ],
           "z": [
            -0.010769329327166233,
            -0.1936112549928506
           ]
          },
          {
           "line": {
            "color": "black",
            "width": 5
           },
           "marker": {
            "color": "blue",
            "size": 2
           },
           "text": [
            "LWrist"
           ],
           "type": "scatter3d",
           "x": [
            0.34544962712837907,
            0.37770792659371455
           ],
           "y": [
            1.0017612673060103,
            0.8907217871797046
           ],
           "z": [
            -0.00013068668212312673,
            -0.010769329327166233
           ]
          },
          {
           "line": {
            "color": "red",
            "width": 5
           },
           "marker": {
            "color": "blue",
            "size": 2
           },
           "text": [
            "RShoulder"
           ],
           "type": "scatter3d",
           "x": [
            -0.14167101496587753,
            0.08745954153449204
           ],
           "y": [
            0.49026031959105754,
            0.5002016016593307
           ],
           "z": [
            -0.15368349039678186,
            -0.12258822235477851
           ]
          },
          {
           "line": {
            "color": "red",
            "width": 5
           },
           "marker": {
            "color": "blue",
            "size": 2
           },
           "text": [
            "RElbow"
           ],
           "type": "scatter3d",
           "x": [
            -0.2642680524896537,
            -0.14167101496587753
           ],
           "y": [
            0.9507400315432883,
            0.49026031959105754
           ],
           "z": [
            0.017078090512313793,
            -0.15368349039678186
           ]
          },
          {
           "line": {
            "color": "red",
            "width": 5
           },
           "marker": {
            "color": "blue",
            "size": 2
           },
           "text": [
            "RWrist"
           ],
           "type": "scatter3d",
           "x": [
            -0.23339862250369636,
            -0.2642680524896537
           ],
           "y": [
            1.0612913973656188,
            0.9507400315432883
           ],
           "z": [
            0.014650860988892234,
            0.017078090512313793
           ]
          },
          {
           "line": {
            "color": "#1f77b4",
            "width": 1
           },
           "marker": {
            "color": "#1f77b4",
            "size": 1
           },
           "type": "scatter3d",
           "x": [
            -0.10456789807196559,
            0.07519876859470122,
            0.4937387685947011,
            1.127338768594701,
            1.5346987685947013,
            1.5842921019280345,
            1.3928254352613678,
            1.1768121019280344,
            0.7025454352613678,
            0.5634387685947011,
            0.8725321019280343,
            1.3347321019280343,
            1.3049254352613677,
            1.1927054352613675,
            0.9764121019280343,
            1.160118768594701,
            1.4533787685947008,
            1.725698768594701,
            1.726798768594701,
            1.3951387685947012,
            0.5218254352613677,
            -0.023674564738632144,
            -0.26836789807196554,
            -0.3035612314052989,
            -0.2385212314052989,
            -0.19296789807196552,
            -0.11495456473863222,
            -0.043434564738632275,
            -0.2786812314052989
           ],
           "y": [
            -0.9363594694242567,
            -0.9168994694242565,
            -0.9295194694242566,
            -0.9334528027575899,
            -0.9425594694242567,
            -0.8539261360909234,
            -0.5647928027575899,
            -0.27810613609092316,
            -0.09269280275758995,
            -0.08301946942425675,
            -0.06881280275759005,
            -0.16405946942425653,
            -0.16121946942425658,
            -0.3059861360909233,
            -0.36855946942425666,
            -0.3208794694242565,
            -0.5929661360909233,
            -0.8983794694242566,
            -0.9128861360909233,
            -0.93739280275759,
            -0.9429728027575901,
            -0.9707661360909232,
            -1.5781301360909232,
            -1.0126394694242564,
            -0.9420794694242567,
            -0.9359861360909234,
            -1.5009401360909234,
            -1.30883280275759,
            -0.95333280275759
           ],
           "z": [
            -9.89050039882495,
            -9.781967065491616,
            -9.717387065491616,
            -10.231047065491616,
            -11.064395532158283,
            -11.62703239882495,
            -11.72928039882495,
            -11.640749732158284,
            -11.71298039882495,
            -11.67711439882495,
            -11.655715065491616,
            -11.733913732158284,
            -11.667425732158282,
            -11.71280039882495,
            -11.671505065491615,
            -11.601569065491617,
            -11.708547065491617,
            -11.585561732158283,
            -11.510019732158284,
            -10.847421065491616,
            -10.372922398824949,
            -10.329247065491616,
            -11.276871065491616,
            -11.827567065491616,
            -12.03726039882495,
            -11.878647065491617,
            -11.89806039882495,
            -12.074693732158282,
            -11.968067065491617
           ]
          }
         ],
         "name": "frame30"
        },
        {
         "data": [
          {
           "line": {
            "color": "red",
            "width": 5
           },
           "marker": {
            "color": "blue",
            "size": 2
           },
           "text": [
            "RHip"
           ],
           "type": "scatter3d",
           "x": [
            -0.022500924167051073,
            -0.32554123140529884
           ],
           "y": [
            -0.10966031245175967,
            -0.9849261360909234
           ],
           "z": [
            0.11175057156835777,
            -10.599509065491617
           ]
          },
          {
           "line": {
            "color": "red",
            "width": 5
           },
           "marker": {
            "color": "blue",
            "size": 2
           },
           "text": [
            "RKnee"
           ],
           "type": "scatter3d",
           "x": [
            0.05271484429022211,
            -0.022500924167051073
           ],
           "y": [
            -0.5879727485609378,
            -0.10966031245175967
           ],
           "z": [
            0.21743908319476013,
            0.11175057156835777
           ]
          },
          {
           "line": {
            "color": "red",
            "width": 5
           },
           "marker": {
            "color": "blue",
            "size": 2
           },
           "text": [
            "RAnkle"
           ],
           "type": "scatter3d",
           "x": [
            -0.08013655866056246,
            0.05271484429022211
           ],
           "y": [
            -0.9917325557679388,
            -0.5879727485609378
           ],
           "z": [
            -0.047012002290806265,
            0.21743908319476013
           ]
          },
          {
           "line": {
            "color": "black",
            "width": 5
           },
           "marker": {
            "color": "blue",
            "size": 2
           },
           "text": [
            "LHip"
           ],
           "type": "scatter3d",
           "x": [
            0.10490210504360864,
            -0.32554123140529884
           ],
           "y": [
            -0.12064589850429286,
            -0.9849261360909234
           ],
           "z": [
            -0.011934317511579806,
            -10.599509065491617
           ]
          },
          {
           "line": {
            "color": "black",
            "width": 5
           },
           "marker": {
            "color": "blue",
            "size": 2
           },
           "text": [
            "LKnee"
           ],
           "type": "scatter3d",
           "x": [
            0.2744683401300384,
            0.10490210504360864
           ],
           "y": [
            -0.5536090621231935,
            -0.12064589850429286
           ],
           "z": [
            0.09529182515951362,
            -0.011934317511579806
           ]
          },
          {
           "line": {
            "color": "black",
            "width": 5
           },
           "marker": {
            "color": "blue",
            "size": 2
           },
           "text": [
            "LAnkle"
           ],
           "type": "scatter3d",
           "x": [
            0.1339264868799365,
            0.2744683401300384
           ],
           "y": [
            -0.910750519380827,
            -0.5536090621231935
           ],
           "z": [
            -0.22427525383464264,
            0.09529182515951362
           ]
          },
          {
           "line": {
            "color": "black",
            "width": 5
           },
           "marker": {
            "color": "blue",
            "size": 2
           },
           "text": [
            "Spine1"
           ],
           "type": "scatter3d",
           "x": [
            0.0567661059736827,
            -0.32554123140529884
           ],
           "y": [
            0.2643803734152712,
            -0.9849261360909234
           ],
           "z": [
            0.03450449455002236,
            -10.599509065491617
           ]
          },
          {
           "line": {
            "color": "black",
            "width": 5
           },
           "marker": {
            "color": "blue",
            "size": 2
           },
           "text": [
            "Neck"
           ],
           "type": "scatter3d",
           "x": [
            0.13091172413698213,
            0.0567661059736827
           ],
           "y": [
            0.503311897641036,
            0.2643803734152712
           ],
           "z": [
            0.0662828390832022,
            0.03450449455002236
           ]
          },
          {
           "line": {
            "color": "black",
            "width": 5
           },
           "marker": {
            "color": "blue",
            "size": 2
           },
           "text": [
            "Head"
           ],
           "type": "scatter3d",
           "x": [
            0.1408584762148569,
            0.13091172413698213
           ],
           "y": [
            0.6207585556518169,
            0.503311897641036
           ],
           "z": [
            0.06977022470580962,
            0.0662828390832022
           ]
          },
          {
           "line": {
            "color": "black",
            "width": 5
           },
           "marker": {
            "color": "blue",
            "size": 2
           },
           "text": [
            "Site"
           ],
           "type": "scatter3d",
           "x": [
            0.13175037263734737,
            0.1408584762148569
           ],
           "y": [
            0.7381809785250695,
            0.6207585556518169
           ],
           "z": [
            0.07890267134416717,
            0.06977022470580962
           ]
          },
          {
           "line": {
            "color": "black",
            "width": 5
           },
           "marker": {
            "color": "blue",
            "size": 2
           },
           "text": [
            "LShoulder"
           ],
           "type": "scatter3d",
           "x": [
            0.18343388854522152,
            0.13091172413698213
           ],
           "y": [
            0.4813206159458425,
            0.503311897641036
           ],
           "z": [
            -0.15536017301395866,
            0.0662828390832022
           ]
          },
          {
           "line": {
            "color": "black",
            "width": 5
           },
           "marker": {
            "color": "blue",
            "size": 2
           },
           "text": [
            "LElbow"
           ],
           "type": "scatter3d",
           "x": [
            0.2574770657755592,
            0.18343388854522152
           ],
           "y": [
            0.15914474539941859,
            0.4813206159458425
           ],
           "z": [
            -0.4301347043188031,
            -0.15536017301395866
           ]
          },
          {
           "line": {
            "color": "black",
            "width": 5
           },
           "marker": {
            "color": "blue",
            "size": 2
           },
           "text": [
            "LWrist"
           ],
           "type": "scatter3d",
           "x": [
            0.3332656151777784,
            0.2574770657755592
           ],
           "y": [
            0.15172431881906356,
            0.15914474539941859
           ],
           "z": [
            -0.5177964279917813,
            -0.4301347043188031
           ]
          },
          {
           "line": {
            "color": "red",
            "width": 5
           },
           "marker": {
            "color": "blue",
            "size": 2
           },
           "text": [
            "RShoulder"
           ],
           "type": "scatter3d",
           "x": [
            -0.028357696175583424,
            0.13091172413698213
           ],
           "y": [
            0.4947336368363844,
            0.503311897641036
           ],
           "z": [
            0.22260404676896606,
            0.0662828390832022
           ]
          },
          {
           "line": {
            "color": "red",
            "width": 5
           },
           "marker": {
            "color": "blue",
            "size": 2
           },
           "text": [
            "RElbow"
           ],
           "type": "scatter3d",
           "x": [
            -0.014803536008707485,
            -0.028357696175583424
           ],
           "y": [
            -0.010317331516531913,
            0.4947336368363844
           ],
           "z": [
            0.38735266700030735,
            0.22260404676896606
           ]
          },
          {
           "line": {
            "color": "red",
            "width": 5
           },
           "marker": {
            "color": "blue",
            "size": 2
           },
           "text": [
            "RWrist"
           ],
           "type": "scatter3d",
           "x": [
            0.03559367545277087,
            -0.014803536008707485
           ],
           "y": [
            -0.0953540296074804,
            -0.010317331516531913
           ],
           "z": [
            0.4457418671206721,
            0.38735266700030735
           ]
          },
          {
           "line": {
            "color": "#1f77b4",
            "width": 1
           },
           "marker": {
            "color": "#1f77b4",
            "size": 1
           },
           "type": "scatter3d",
           "x": [
            -0.10456789807196559,
            0.07519876859470122,
            0.4937387685947011,
            1.127338768594701,
            1.5346987685947013,
            1.5842921019280345,
            1.3928254352613678,
            1.1768121019280344,
            0.7025454352613678,
            0.5634387685947011,
            0.8725321019280343,
            1.3347321019280343,
            1.3049254352613677,
            1.1927054352613675,
            0.9764121019280343,
            1.160118768594701,
            1.4533787685947008,
            1.725698768594701,
            1.726798768594701,
            1.3951387685947012,
            0.5218254352613677,
            -0.023674564738632144,
            -0.26836789807196554,
            -0.3035612314052989,
            -0.2385212314052989,
            -0.19296789807196552,
            -0.11495456473863222,
            -0.043434564738632275,
            -0.2786812314052989,
            -0.3800678980719656
           ],
           "y": [
            -0.9363594694242567,
            -0.9168994694242565,
            -0.9295194694242566,
            -0.9334528027575899,
            -0.9425594694242567,
            -0.8539261360909234,
            -0.5647928027575899,
            -0.27810613609092316,
            -0.09269280275758995,
            -0.08301946942425675,
            -0.06881280275759005,
            -0.16405946942425653,
            -0.16121946942425658,
            -0.3059861360909233,
            -0.36855946942425666,
            -0.3208794694242565,
            -0.5929661360909233,
            -0.8983794694242566,
            -0.9128861360909233,
            -0.93739280275759,
            -0.9429728027575901,
            -0.9707661360909232,
            -1.5781301360909232,
            -1.0126394694242564,
            -0.9420794694242567,
            -0.9359861360909234,
            -1.5009401360909234,
            -1.30883280275759,
            -0.95333280275759,
            -1.6294674694242566
           ],
           "z": [
            -9.89050039882495,
            -9.781967065491616,
            -9.717387065491616,
            -10.231047065491616,
            -11.064395532158283,
            -11.62703239882495,
            -11.72928039882495,
            -11.640749732158284,
            -11.71298039882495,
            -11.67711439882495,
            -11.655715065491616,
            -11.733913732158284,
            -11.667425732158282,
            -11.71280039882495,
            -11.671505065491615,
            -11.601569065491617,
            -11.708547065491617,
            -11.585561732158283,
            -11.510019732158284,
            -10.847421065491616,
            -10.372922398824949,
            -10.329247065491616,
            -11.276871065491616,
            -11.827567065491616,
            -12.03726039882495,
            -11.878647065491617,
            -11.89806039882495,
            -12.074693732158282,
            -11.968067065491617,
            -11.184275732158284
           ]
          }
         ],
         "name": "frame31"
        },
        {
         "data": [
          {
           "line": {
            "color": "red",
            "width": 5
           },
           "marker": {
            "color": "blue",
            "size": 2
           },
           "text": [
            "RHip"
           ],
           "type": "scatter3d",
           "x": [
            0.02073927526418587,
            0.17044543526136782
           ],
           "y": [
            -0.11487562722755928,
            -0.9405394694242566
           ],
           "z": [
            0.10673958352848523,
            -10.35916039882495
           ]
          },
          {
           "line": {
            "color": "red",
            "width": 5
           },
           "marker": {
            "color": "blue",
            "size": 2
           },
           "text": [
            "RKnee"
           ],
           "type": "scatter3d",
           "x": [
            0.2378876082971149,
            0.02073927526418587
           ],
           "y": [
            -0.5453722515171529,
            -0.11487562722755928
           ],
           "z": [
            0.2213236914466581,
            0.10673958352848523
           ]
          },
          {
           "line": {
            "color": "red",
            "width": 5
           },
           "marker": {
            "color": "blue",
            "size": 2
           },
           "text": [
            "RAnkle"
           ],
           "type": "scatter3d",
           "x": [
            0.08469135437424527,
            0.2378876082971149
           ],
           "y": [
            -1.0217712626964228,
            -0.5453722515171529
           ],
           "z": [
            0.2078795950570118,
            0.2213236914466581
           ]
          },
          {
           "line": {
            "color": "black",
            "width": 5
           },
           "marker": {
            "color": "blue",
            "size": 2
           },
           "text": [
            "LHip"
           ],
           "type": "scatter3d",
           "x": [
            0.09395923239468854,
            0.17044543526136782
           ],
           "y": [
            -0.11750428790534562,
            -0.9405394694242566
           ],
           "z": [
            -0.05537795025652592,
            -10.35916039882495
           ]
          },
          {
           "line": {
            "color": "black",
            "width": 5
           },
           "marker": {
            "color": "blue",
            "size": 2
           },
           "text": [
            "LKnee"
           ],
           "type": "scatter3d",
           "x": [
            0.08979812172761728,
            0.09395923239468854
           ],
           "y": [
            -0.591882464870408,
            -0.11750428790534562
           ],
           "z": [
            -0.0038484908986493593,
            -0.05537795025652592
           ]
          },
          {
           "line": {
            "color": "black",
            "width": 5
           },
           "marker": {
            "color": "blue",
            "size": 2
           },
           "text": [
            "LAnkle"
           ],
           "type": "scatter3d",
           "x": [
            -0.08847776029688674,
            0.08979812172761728
           ],
           "y": [
            -1.0578302689149213,
            -0.591882464870408
           ],
           "z": [
            -0.026989467075493323,
            -0.0038484908986493593
           ]
          },
          {
           "line": {
            "color": "black",
            "width": 5
           },
           "marker": {
            "color": "blue",
            "size": 2
           },
           "text": [
            "Spine1"
           ],
           "type": "scatter3d",
           "x": [
            0.03823727362921048,
            0.17044543526136782
           ],
           "y": [
            0.269781176751539,
            -0.9405394694242566
           ],
           "z": [
            -0.003319700173751272,
            -10.35916039882495
           ]
          },
          {
           "line": {
            "color": "black",
            "width": 5
           },
           "marker": {
            "color": "blue",
            "size": 2
           },
           "text": [
            "Neck"
           ],
           "type": "scatter3d",
           "x": [
            0.06594243154783588,
            0.03823727362921048
           ],
           "y": [
            0.5212459808487153,
            0.269781176751539
           ],
           "z": [
            0.02581574837407885,
            -0.003319700173751272
           ]
          },
          {
           "line": {
            "color": "black",
            "width": 5
           },
           "marker": {
            "color": "blue",
            "size": 2
           },
           "text": [
            "Head"
           ],
           "type": "scatter3d",
           "x": [
            0.10341807605712008,
            0.06594243154783588
           ],
           "y": [
            0.6330348734587241,
            0.5212459808487153
           ],
           "z": [
            0.02772278034090725,
            0.02581574837407885
           ]
          },
          {
           "line": {
            "color": "black",
            "width": 5
           },
           "marker": {
            "color": "blue",
            "size": 2
           },
           "text": [
            "Site"
           ],
           "type": "scatter3d",
           "x": [
            0.1574061340437183,
            0.10341807605712008
           ],
           "y": [
            0.7377994648725794,
            0.6330348734587241
           ],
           "z": [
            0.0357261862739886,
            0.02772278034090725
           ]
          },
          {
           "line": {
            "color": "black",
            "width": 5
           },
           "marker": {
            "color": "blue",
            "size": 2
           },
           "text": [
            "LShoulder"
           ],
           "type": "scatter3d",
           "x": [
            0.13665883017524458,
            0.06594243154783588
           ],
           "y": [
            0.5017571304562527,
            0.5212459808487153
           ],
           "z": [
            -0.19214962913057398,
            0.02581574837407885
           ]
          },
          {
           "line": {
            "color": "black",
            "width": 5
           },
           "marker": {
            "color": "blue",
            "size": 2
           },
           "text": [
            "LElbow"
           ],
           "type": "scatter3d",
           "x": [
            0.33069214995711016,
            0.13665883017524458
           ],
           "y": [
            0.05768223073598988,
            0.5017571304562527
           ],
           "z": [
            -0.24453313230156226,
            -0.19214962913057398
           ]
          },
          {
           "line": {
            "color": "black",
            "width": 5
           },
           "marker": {
            "color": "blue",
            "size": 2
           },
           "text": [
            "LWrist"
           ],
           "type": "scatter3d",
           "x": [
            0.428282805493038,
            0.33069214995711016
           ],
           "y": [
            -0.003436905726320827,
            0.05768223073598988
           ],
           "z": [
            -0.22956450315211185,
            -0.24453313230156226
           ]
          },
          {
           "line": {
            "color": "red",
            "width": 5
           },
           "marker": {
            "color": "blue",
            "size": 2
           },
           "text": [
            "RShoulder"
           ],
           "type": "scatter3d",
           "x": [
            -0.0507217609462387,
            0.06594243154783588
           ],
           "y": [
            0.486741671488093,
            0.5212459808487153
           ],
           "z": [
            0.19843401874400612,
            0.02581574837407885
           ]
          },
          {
           "line": {
            "color": "red",
            "width": 5
           },
           "marker": {
            "color": "blue",
            "size": 2
           },
           "text": [
            "RElbow"
           ],
           "type": "scatter3d",
           "x": [
            -0.07491109466130746,
            -0.0507217609462387
           ],
           "y": [
            -0.07789614778825893,
            0.486741671488093
           ],
           "z": [
            0.24581589163400608,
            0.19843401874400612
           ]
          },
          {
           "line": {
            "color": "red",
            "width": 5
           },
           "marker": {
            "color": "blue",
            "size": 2
           },
           "text": [
            "RWrist"
           ],
           "type": "scatter3d",
           "x": [
            -0.06079461994290607,
            -0.07491109466130746
           ],
           "y": [
            -0.18760630503580233,
            -0.07789614778825893
           ],
           "z": [
            0.2765538839927135,
            0.24581589163400608
           ]
          },
          {
           "line": {
            "color": "#1f77b4",
            "width": 1
           },
           "marker": {
            "color": "#1f77b4",
            "size": 1
           },
           "type": "scatter3d",
           "x": [
            -0.10456789807196559,
            0.07519876859470122,
            0.4937387685947011,
            1.127338768594701,
            1.5346987685947013,
            1.5842921019280345,
            1.3928254352613678,
            1.1768121019280344,
            0.7025454352613678,
            0.5634387685947011,
            0.8725321019280343,
            1.3347321019280343,
            1.3049254352613677,
            1.1927054352613675,
            0.9764121019280343,
            1.160118768594701,
            1.4533787685947008,
            1.725698768594701,
            1.726798768594701,
            1.3951387685947012,
            0.5218254352613677,
            -0.023674564738632144,
            -0.26836789807196554,
            -0.3035612314052989,
            -0.2385212314052989,
            -0.19296789807196552,
            -0.11495456473863222,
            -0.043434564738632275,
            -0.2786812314052989,
            -0.3800678980719656,
            -0.32554123140529884
           ],
           "y": [
            -0.9363594694242567,
            -0.9168994694242565,
            -0.9295194694242566,
            -0.9334528027575899,
            -0.9425594694242567,
            -0.8539261360909234,
            -0.5647928027575899,
            -0.27810613609092316,
            -0.09269280275758995,
            -0.08301946942425675,
            -0.06881280275759005,
            -0.16405946942425653,
            -0.16121946942425658,
            -0.3059861360909233,
            -0.36855946942425666,
            -0.3208794694242565,
            -0.5929661360909233,
            -0.8983794694242566,
            -0.9128861360909233,
            -0.93739280275759,
            -0.9429728027575901,
            -0.9707661360909232,
            -1.5781301360909232,
            -1.0126394694242564,
            -0.9420794694242567,
            -0.9359861360909234,
            -1.5009401360909234,
            -1.30883280275759,
            -0.95333280275759,
            -1.6294674694242566,
            -0.9849261360909234
           ],
           "z": [
            -9.89050039882495,
            -9.781967065491616,
            -9.717387065491616,
            -10.231047065491616,
            -11.064395532158283,
            -11.62703239882495,
            -11.72928039882495,
            -11.640749732158284,
            -11.71298039882495,
            -11.67711439882495,
            -11.655715065491616,
            -11.733913732158284,
            -11.667425732158282,
            -11.71280039882495,
            -11.671505065491615,
            -11.601569065491617,
            -11.708547065491617,
            -11.585561732158283,
            -11.510019732158284,
            -10.847421065491616,
            -10.372922398824949,
            -10.329247065491616,
            -11.276871065491616,
            -11.827567065491616,
            -12.03726039882495,
            -11.878647065491617,
            -11.89806039882495,
            -12.074693732158282,
            -11.968067065491617,
            -11.184275732158284,
            -10.599509065491617
           ]
          }
         ],
         "name": "frame32"
        },
        {
         "data": [
          {
           "line": {
            "color": "red",
            "width": 5
           },
           "marker": {
            "color": "blue",
            "size": 2
           },
           "text": [
            "RHip"
           ],
           "type": "scatter3d",
           "x": [
            0.0927402527378125,
            0.9227921019280345
           ],
           "y": [
            -0.09565354960373074,
            -0.9342794694242567
           ],
           "z": [
            0.0852614211210252,
            -10.34108039882495
           ]
          },
          {
           "line": {
            "color": "red",
            "width": 5
           },
           "marker": {
            "color": "blue",
            "size": 2
           },
           "text": [
            "RKnee"
           ],
           "type": "scatter3d",
           "x": [
            0.0004878228085690717,
            0.0927402527378125
           ],
           "y": [
            -0.5793937424526074,
            -0.09565354960373074
           ],
           "z": [
            0.1408957167110696,
            0.0852614211210252
           ]
          },
          {
           "line": {
            "color": "red",
            "width": 5
           },
           "marker": {
            "color": "blue",
            "size": 2
           },
           "text": [
            "RAnkle"
           ],
           "type": "scatter3d",
           "x": [
            -0.23763991737989276,
            0.0004878228085690717
           ],
           "y": [
            -1.0074181531427493,
            -0.5793937424526074
           ],
           "z": [
            0.24431784684971092,
            0.1408957167110696
           ]
          },
          {
           "line": {
            "color": "black",
            "width": 5
           },
           "marker": {
            "color": "blue",
            "size": 2
           },
           "text": [
            "LHip"
           ],
           "type": "scatter3d",
           "x": [
            0.02668081765028696,
            0.9227921019280345
           ],
           "y": [
            -0.1397281147329552,
            -0.9342794694242567
           ],
           "z": [
            -0.07393578514928834,
            -10.34108039882495
           ]
          },
          {
           "line": {
            "color": "black",
            "width": 5
           },
           "marker": {
            "color": "blue",
            "size": 2
           },
           "text": [
            "LKnee"
           ],
           "type": "scatter3d",
           "x": [
            0.2536658783844623,
            0.02668081765028696
           ],
           "y": [
            -0.5522669557710531,
            -0.1397281147329552
           ],
           "z": [
            -0.1513744166121498,
            -0.07393578514928834
           ]
          },
          {
           "line": {
            "color": "black",
            "width": 5
           },
           "marker": {
            "color": "blue",
            "size": 2
           },
           "text": [
            "LAnkle"
           ],
           "type": "scatter3d",
           "x": [
            0.2862996125780497,
            0.2536658783844623
           ],
           "y": [
            -1.0493971353639628,
            -0.5522669557710531
           ],
           "z": [
            -0.11642051962712152,
            -0.1513744166121498
           ]
          },
          {
           "line": {
            "color": "black",
            "width": 5
           },
           "marker": {
            "color": "blue",
            "size": 2
           },
           "text": [
            "Spine1"
           ],
           "type": "scatter3d",
           "x": [
            0.04868547362334752,
            0.9227921019280345
           ],
           "y": [
            0.26396221598522573,
            -0.9342794694242567
           ],
           "z": [
            -0.04587461655156311,
            -10.34108039882495
           ]
          },
          {
           "line": {
            "color": "black",
            "width": 5
           },
           "marker": {
            "color": "blue",
            "size": 2
           },
           "text": [
            "Neck"
           ],
           "type": "scatter3d",
           "x": [
            0.10563330805131921,
            0.04868547362334752
           ],
           "y": [
            0.5094479993498111,
            0.26396221598522573
           ],
           "z": [
            -0.08184951010910346,
            -0.04587461655156311
           ]
          },
          {
           "line": {
            "color": "black",
            "width": 5
           },
           "marker": {
            "color": "blue",
            "size": 2
           },
           "text": [
            "Head"
           ],
           "type": "scatter3d",
           "x": [
            0.1387505352586791,
            0.10563330805131921
           ],
           "y": [
            0.6139776106359496,
            0.5094479993498111
           ],
           "z": [
            -0.12522723296018867,
            -0.08184951010910346
           ]
          },
          {
           "line": {
            "color": "black",
            "width": 5
           },
           "marker": {
            "color": "blue",
            "size": 2
           },
           "text": [
            "Site"
           ],
           "type": "scatter3d",
           "x": [
            0.1870683943036653,
            0.1387505352586791
           ],
           "y": [
            0.7074675607116294,
            0.6139776106359496
           ],
           "z": [
            -0.1788872577268794,
            -0.12522723296018867
           ]
          },
          {
           "line": {
            "color": "black",
            "width": 5
           },
           "marker": {
            "color": "blue",
            "size": 2
           },
           "text": [
            "LShoulder"
           ],
           "type": "scatter3d",
           "x": [
            -0.05200168226885182,
            0.10563330805131921
           ],
           "y": [
            0.48271659922171684,
            0.5094479993498111
           ],
           "z": [
            -0.24876622409893656,
            -0.08184951010910346
           ]
          },
          {
           "line": {
            "color": "black",
            "width": 5
           },
           "marker": {
            "color": "blue",
            "size": 2
           },
           "text": [
            "LElbow"
           ],
           "type": "scatter3d",
           "x": [
            -0.17168188012222108,
            -0.05200168226885182
           ],
           "y": [
            -0.041600652578500874,
            0.48271659922171684
           ],
           "z": [
            -0.2607668046460301,
            -0.24876622409893656
           ]
          },
          {
           "line": {
            "color": "black",
            "width": 5
           },
           "marker": {
            "color": "blue",
            "size": 2
           },
           "text": [
            "LWrist"
           ],
           "type": "scatter3d",
           "x": [
            -0.1722859761185327,
            -0.17168188012222108
           ],
           "y": [
            -0.15169234831366385,
            -0.041600652578500874
           ],
           "z": [
            -0.2976856121379843,
            -0.2607668046460301
           ]
          },
          {
           "line": {
            "color": "red",
            "width": 5
           },
           "marker": {
            "color": "blue",
            "size": 2
           },
           "text": [
            "RShoulder"
           ],
           "type": "scatter3d",
           "x": [
            0.20361625264902528,
            0.10563330805131921
           ],
           "y": [
            0.4876451462269489,
            0.5094479993498111
           ],
           "z": [
            0.10127336894278294,
            -0.08184951010910346
           ]
          },
          {
           "line": {
            "color": "red",
            "width": 5
           },
           "marker": {
            "color": "blue",
            "size": 2
           },
           "text": [
            "RElbow"
           ],
           "type": "scatter3d",
           "x": [
            0.36684523805785285,
            0.20361625264902528
           ],
           "y": [
            -0.026862157493914962,
            0.4876451462269489
           ],
           "z": [
            0.19185222420476755,
            0.10127336894278294
           ]
          },
          {
           "line": {
            "color": "red",
            "width": 5
           },
           "marker": {
            "color": "blue",
            "size": 2
           },
           "text": [
            "RWrist"
           ],
           "type": "scatter3d",
           "x": [
            0.43931373461324386,
            0.36684523805785285
           ],
           "y": [
            -0.1158990712199175,
            -0.026862157493914962
           ],
           "z": [
            0.19077396767235477,
            0.19185222420476755
           ]
          },
          {
           "line": {
            "color": "#1f77b4",
            "width": 1
           },
           "marker": {
            "color": "#1f77b4",
            "size": 1
           },
           "type": "scatter3d",
           "x": [
            -0.10456789807196559,
            0.07519876859470122,
            0.4937387685947011,
            1.127338768594701,
            1.5346987685947013,
            1.5842921019280345,
            1.3928254352613678,
            1.1768121019280344,
            0.7025454352613678,
            0.5634387685947011,
            0.8725321019280343,
            1.3347321019280343,
            1.3049254352613677,
            1.1927054352613675,
            0.9764121019280343,
            1.160118768594701,
            1.4533787685947008,
            1.725698768594701,
            1.726798768594701,
            1.3951387685947012,
            0.5218254352613677,
            -0.023674564738632144,
            -0.26836789807196554,
            -0.3035612314052989,
            -0.2385212314052989,
            -0.19296789807196552,
            -0.11495456473863222,
            -0.043434564738632275,
            -0.2786812314052989,
            -0.3800678980719656,
            -0.32554123140529884,
            0.17044543526136782
           ],
           "y": [
            -0.9363594694242567,
            -0.9168994694242565,
            -0.9295194694242566,
            -0.9334528027575899,
            -0.9425594694242567,
            -0.8539261360909234,
            -0.5647928027575899,
            -0.27810613609092316,
            -0.09269280275758995,
            -0.08301946942425675,
            -0.06881280275759005,
            -0.16405946942425653,
            -0.16121946942425658,
            -0.3059861360909233,
            -0.36855946942425666,
            -0.3208794694242565,
            -0.5929661360909233,
            -0.8983794694242566,
            -0.9128861360909233,
            -0.93739280275759,
            -0.9429728027575901,
            -0.9707661360909232,
            -1.5781301360909232,
            -1.0126394694242564,
            -0.9420794694242567,
            -0.9359861360909234,
            -1.5009401360909234,
            -1.30883280275759,
            -0.95333280275759,
            -1.6294674694242566,
            -0.9849261360909234,
            -0.9405394694242566
           ],
           "z": [
            -9.89050039882495,
            -9.781967065491616,
            -9.717387065491616,
            -10.231047065491616,
            -11.064395532158283,
            -11.62703239882495,
            -11.72928039882495,
            -11.640749732158284,
            -11.71298039882495,
            -11.67711439882495,
            -11.655715065491616,
            -11.733913732158284,
            -11.667425732158282,
            -11.71280039882495,
            -11.671505065491615,
            -11.601569065491617,
            -11.708547065491617,
            -11.585561732158283,
            -11.510019732158284,
            -10.847421065491616,
            -10.372922398824949,
            -10.329247065491616,
            -11.276871065491616,
            -11.827567065491616,
            -12.03726039882495,
            -11.878647065491617,
            -11.89806039882495,
            -12.074693732158282,
            -11.968067065491617,
            -11.184275732158284,
            -10.599509065491617,
            -10.35916039882495
           ]
          }
         ],
         "name": "frame33"
        },
        {
         "data": [
          {
           "line": {
            "color": "red",
            "width": 5
           },
           "marker": {
            "color": "blue",
            "size": 2
           },
           "text": [
            "RHip"
           ],
           "type": "scatter3d",
           "x": [
            0.1027918821986058,
            1.4903321019280347
           ],
           "y": [
            -0.11168729711928216,
            -0.9100661360909232
           ],
           "z": [
            -0.04449317450464285,
            -10.99857139882495
           ]
          },
          {
           "line": {
            "color": "red",
            "width": 5
           },
           "marker": {
            "color": "blue",
            "size": 2
           },
           "text": [
            "RKnee"
           ],
           "type": "scatter3d",
           "x": [
            0.13535371162058185,
            0.1027918821986058
           ],
           "y": [
            -0.5677897006629193,
            -0.11168729711928216
           ],
           "z": [
            -0.23559677101064835,
            -0.04449317450464285
           ]
          },
          {
           "line": {
            "color": "red",
            "width": 5
           },
           "marker": {
            "color": "blue",
            "size": 2
           },
           "text": [
            "RAnkle"
           ],
           "type": "scatter3d",
           "x": [
            0.17252156226124749,
            0.13535371162058185
           ],
           "y": [
            -1.0669409660376654,
            -0.5677897006629193
           ],
           "z": [
            -0.2441067034347988,
            -0.23559677101064835
           ]
          },
          {
           "line": {
            "color": "black",
            "width": 5
           },
           "marker": {
            "color": "blue",
            "size": 2
           },
           "text": [
            "LHip"
           ],
           "type": "scatter3d",
           "x": [
            -0.07346146671713627,
            1.4903321019280347
           ],
           "y": [
            -0.13583101759932803,
            -0.9100661360909232
           ],
           "z": [
            -0.04307737188656979,
            -10.99857139882495
           ]
          },
          {
           "line": {
            "color": "black",
            "width": 5
           },
           "marker": {
            "color": "blue",
            "size": 2
           },
           "text": [
            "LKnee"
           ],
           "type": "scatter3d",
           "x": [
            -0.06712926261992136,
            -0.07346146671713627
           ],
           "y": [
            -0.6056161149105568,
            -0.13583101759932803
           ],
           "z": [
            -0.12655862930370176,
            -0.04307737188656979
           ]
          },
          {
           "line": {
            "color": "black",
            "width": 5
           },
           "marker": {
            "color": "blue",
            "size": 2
           },
           "text": [
            "LAnkle"
           ],
           "type": "scatter3d",
           "x": [
            -0.10874589170427074,
            -0.06712926261992136
           ],
           "y": [
            -0.8576713686219466,
            -0.6056161149105568
           ],
           "z": [
            0.30258162311277736,
            -0.12655862930370176
           ]
          },
          {
           "line": {
            "color": "black",
            "width": 5
           },
           "marker": {
            "color": "blue",
            "size": 2
           },
           "text": [
            "Spine1"
           ],
           "type": "scatter3d",
           "x": [
            -0.03846188099854131,
            1.4903321019280347
           ],
           "y": [
            0.2456983081398989,
            -0.9100661360909232
           ],
           "z": [
            -0.11017516156332086,
            -10.99857139882495
           ]
          },
          {
           "line": {
            "color": "black",
            "width": 5
           },
           "marker": {
            "color": "blue",
            "size": 2
           },
           "text": [
            "Neck"
           ],
           "type": "scatter3d",
           "x": [
            -0.04725853337919461,
            -0.03846188099854131
           ],
           "y": [
            0.47648558971686716,
            0.2456983081398989
           ],
           "z": [
            -0.21699616391376964,
            -0.11017516156332086
           ]
          },
          {
           "line": {
            "color": "black",
            "width": 5
           },
           "marker": {
            "color": "blue",
            "size": 2
           },
           "text": [
            "Head"
           ],
           "type": "scatter3d",
           "x": [
            -0.0667006024293757,
            -0.04725853337919461
           ],
           "y": [
            0.5842647074193339,
            0.47648558971686716
           ],
           "z": [
            -0.260705258523549,
            -0.21699616391376964
           ]
          },
          {
           "line": {
            "color": "black",
            "width": 5
           },
           "marker": {
            "color": "blue",
            "size": 2
           },
           "text": [
            "Site"
           ],
           "type": "scatter3d",
           "x": [
            -0.08657114627745566,
            -0.0667006024293757
           ],
           "y": [
            0.6860540256834402,
            0.5842647074193339
           ],
           "z": [
            -0.31726037058528966,
            -0.260705258523549
           ]
          },
          {
           "line": {
            "color": "black",
            "width": 5
           },
           "marker": {
            "color": "blue",
            "size": 2
           },
           "text": [
            "LShoulder"
           ],
           "type": "scatter3d",
           "x": [
            -0.27390260534857225,
            -0.04725853337919461
           ],
           "y": [
            0.44042096505829953,
            0.47648558971686716
           ],
           "z": [
            -0.18637975565164489,
            -0.21699616391376964
           ]
          },
          {
           "line": {
            "color": "black",
            "width": 5
           },
           "marker": {
            "color": "blue",
            "size": 2
           },
           "text": [
            "LElbow"
           ],
           "type": "scatter3d",
           "x": [
            -0.6325350641843364,
            -0.27390260534857225
           ],
           "y": [
            0.06743429638877774,
            0.44042096505829953
           ],
           "z": [
            -0.35140790709430014,
            -0.18637975565164489
           ]
          },
          {
           "line": {
            "color": "black",
            "width": 5
           },
           "marker": {
            "color": "blue",
            "size": 2
           },
           "text": [
            "LWrist"
           ],
           "type": "scatter3d",
           "x": [
            -0.7156222139204675,
            -0.6325350641843364
           ],
           "y": [
            0.014708009764629049,
            0.06743429638877774
           ],
           "z": [
            -0.41305212009112857,
            -0.35140790709430014
           ]
          },
          {
           "line": {
            "color": "red",
            "width": 5
           },
           "marker": {
            "color": "blue",
            "size": 2
           },
           "text": [
            "RShoulder"
           ],
           "type": "scatter3d",
           "x": [
            0.15844665811115588,
            -0.04725853337919461
           ],
           "y": [
            0.47150161894888365,
            0.47648558971686716
           ],
           "z": [
            -0.1871817928326962,
            -0.21699616391376964
           ]
          },
          {
           "line": {
            "color": "red",
            "width": 5
           },
           "marker": {
            "color": "blue",
            "size": 2
           },
           "text": [
            "RElbow"
           ],
           "type": "scatter3d",
           "x": [
            0.2963478372480559,
            0.15844665811115588
           ],
           "y": [
            -0.05918505949103703,
            0.47150161894888365
           ],
           "z": [
            -0.1612398853922432,
            -0.1871817928326962
           ]
          },
          {
           "line": {
            "color": "red",
            "width": 5
           },
           "marker": {
            "color": "blue",
            "size": 2
           },
           "text": [
            "RWrist"
           ],
           "type": "scatter3d",
           "x": [
            0.3231498018700405,
            0.2963478372480559
           ],
           "y": [
            -0.16342683246787026,
            -0.05918505949103703
           ],
           "z": [
            -0.20118641333959175,
            -0.1612398853922432
           ]
          },
          {
           "line": {
            "color": "#1f77b4",
            "width": 1
           },
           "marker": {
            "color": "#1f77b4",
            "size": 1
           },
           "type": "scatter3d",
           "x": [
            -0.10456789807196559,
            0.07519876859470122,
            0.4937387685947011,
            1.127338768594701,
            1.5346987685947013,
            1.5842921019280345,
            1.3928254352613678,
            1.1768121019280344,
            0.7025454352613678,
            0.5634387685947011,
            0.8725321019280343,
            1.3347321019280343,
            1.3049254352613677,
            1.1927054352613675,
            0.9764121019280343,
            1.160118768594701,
            1.4533787685947008,
            1.725698768594701,
            1.726798768594701,
            1.3951387685947012,
            0.5218254352613677,
            -0.023674564738632144,
            -0.26836789807196554,
            -0.3035612314052989,
            -0.2385212314052989,
            -0.19296789807196552,
            -0.11495456473863222,
            -0.043434564738632275,
            -0.2786812314052989,
            -0.3800678980719656,
            -0.32554123140529884,
            0.17044543526136782,
            0.9227921019280345
           ],
           "y": [
            -0.9363594694242567,
            -0.9168994694242565,
            -0.9295194694242566,
            -0.9334528027575899,
            -0.9425594694242567,
            -0.8539261360909234,
            -0.5647928027575899,
            -0.27810613609092316,
            -0.09269280275758995,
            -0.08301946942425675,
            -0.06881280275759005,
            -0.16405946942425653,
            -0.16121946942425658,
            -0.3059861360909233,
            -0.36855946942425666,
            -0.3208794694242565,
            -0.5929661360909233,
            -0.8983794694242566,
            -0.9128861360909233,
            -0.93739280275759,
            -0.9429728027575901,
            -0.9707661360909232,
            -1.5781301360909232,
            -1.0126394694242564,
            -0.9420794694242567,
            -0.9359861360909234,
            -1.5009401360909234,
            -1.30883280275759,
            -0.95333280275759,
            -1.6294674694242566,
            -0.9849261360909234,
            -0.9405394694242566,
            -0.9342794694242567
           ],
           "z": [
            -9.89050039882495,
            -9.781967065491616,
            -9.717387065491616,
            -10.231047065491616,
            -11.064395532158283,
            -11.62703239882495,
            -11.72928039882495,
            -11.640749732158284,
            -11.71298039882495,
            -11.67711439882495,
            -11.655715065491616,
            -11.733913732158284,
            -11.667425732158282,
            -11.71280039882495,
            -11.671505065491615,
            -11.601569065491617,
            -11.708547065491617,
            -11.585561732158283,
            -11.510019732158284,
            -10.847421065491616,
            -10.372922398824949,
            -10.329247065491616,
            -11.276871065491616,
            -11.827567065491616,
            -12.03726039882495,
            -11.878647065491617,
            -11.89806039882495,
            -12.074693732158282,
            -11.968067065491617,
            -11.184275732158284,
            -10.599509065491617,
            -10.35916039882495,
            -10.34108039882495
           ]
          }
         ],
         "name": "frame34"
        },
        {
         "data": [
          {
           "line": {
            "color": "red",
            "width": 5
           },
           "marker": {
            "color": "blue",
            "size": 2
           },
           "text": [
            "RHip"
           ],
           "type": "scatter3d",
           "x": [
            0.025073597754493804,
            1.495585435261368
           ],
           "y": [
            -0.11683027809140034,
            -0.7465061360909233
           ],
           "z": [
            -0.1036429774657961,
            -11.428777732158283
           ]
          },
          {
           "line": {
            "color": "red",
            "width": 5
           },
           "marker": {
            "color": "blue",
            "size": 2
           },
           "text": [
            "RKnee"
           ],
           "type": "scatter3d",
           "x": [
            0.026488042096849407,
            0.025073597754493804
           ],
           "y": [
            -0.6124145822765688,
            -0.11683027809140034
           ],
           "z": [
            -0.10575405387936598,
            -0.1036429774657961
           ]
          },
          {
           "line": {
            "color": "red",
            "width": 5
           },
           "marker": {
            "color": "blue",
            "size": 2
           },
           "text": [
            "RAnkle"
           ],
           "type": "scatter3d",
           "x": [
            0.20595152246715287,
            0.026488042096849407
           ],
           "y": [
            -1.053294226886762,
            -0.6124145822765688
           ],
           "z": [
            0.04924224277990241,
            -0.10575405387936598
           ]
          },
          {
           "line": {
            "color": "black",
            "width": 5
           },
           "marker": {
            "color": "blue",
            "size": 2
           },
           "text": [
            "LHip"
           ],
           "type": "scatter3d",
           "x": [
            -0.046631329917931064,
            1.495585435261368
           ],
           "y": [
            -0.14233928611830304,
            -0.7465061360909233
           ],
           "z": [
            0.05716081787704397,
            -11.428777732158283
           ]
          },
          {
           "line": {
            "color": "black",
            "width": 5
           },
           "marker": {
            "color": "blue",
            "size": 2
           },
           "text": [
            "LKnee"
           ],
           "type": "scatter3d",
           "x": [
            -0.3476507212979476,
            -0.046631329917931064
           ],
           "y": [
            -0.4973913190842796,
            -0.14233928611830304
           ],
           "z": [
            -0.0478755315660262,
            0.05716081787704397
           ]
          },
          {
           "line": {
            "color": "black",
            "width": 5
           },
           "marker": {
            "color": "blue",
            "size": 2
           },
           "text": [
            "LAnkle"
           ],
           "type": "scatter3d",
           "x": [
            -0.06731735905650571,
            -0.3476507212979476
           ],
           "y": [
            -0.9107069325031254,
            -0.4973913190842796
           ],
           "z": [
            -0.044949663737815726,
            -0.0478755315660262
           ]
          },
          {
           "line": {
            "color": "black",
            "width": 5
           },
           "marker": {
            "color": "blue",
            "size": 2
           },
           "text": [
            "Spine1"
           ],
           "type": "scatter3d",
           "x": [
            -0.1811581044840438,
            1.495585435261368
           ],
           "y": [
            0.19636326698097184,
            -0.7465061360909233
           ],
           "z": [
            -0.05207633152005009,
            -11.428777732158283
           ]
          },
          {
           "line": {
            "color": "black",
            "width": 5
           },
           "marker": {
            "color": "blue",
            "size": 2
           },
           "text": [
            "Neck"
           ],
           "type": "scatter3d",
           "x": [
            -0.3322935675525567,
            -0.1811581044840438
           ],
           "y": [
            0.39685183346074226,
            0.19636326698097184
           ],
           "z": [
            -0.09260401706256083,
            -0.05207633152005009
           ]
          },
          {
           "line": {
            "color": "black",
            "width": 5
           },
           "marker": {
            "color": "blue",
            "size": 2
           },
           "text": [
            "Head"
           ],
           "type": "scatter3d",
           "x": [
            -0.3484398227729637,
            -0.3322935675525567
           ],
           "y": [
            0.5135719529587659,
            0.39685183346074226
           ],
           "z": [
            -0.0971349507417667,
            -0.09260401706256083
           ]
          },
          {
           "line": {
            "color": "black",
            "width": 5
           },
           "marker": {
            "color": "blue",
            "size": 2
           },
           "text": [
            "Site"
           ],
           "type": "scatter3d",
           "x": [
            -0.35797830002272235,
            -0.3484398227729637
           ],
           "y": [
            0.630568750073794,
            0.5135719529587659
           ],
           "z": [
            -0.11036943004345368,
            -0.0971349507417667
           ]
          },
          {
           "line": {
            "color": "black",
            "width": 5
           },
           "marker": {
            "color": "blue",
            "size": 2
           },
           "text": [
            "LShoulder"
           ],
           "type": "scatter3d",
           "x": [
            -0.36096192646373315,
            -0.3322935675525567
           ],
           "y": [
            0.3816727910514155,
            0.39685183346074226
           ],
           "z": [
            0.1281661547318791,
            -0.09260401706256083
           ]
          },
          {
           "line": {
            "color": "black",
            "width": 5
           },
           "marker": {
            "color": "blue",
            "size": 2
           },
           "text": [
            "LElbow"
           ],
           "type": "scatter3d",
           "x": [
            -0.6084664904551732,
            -0.36096192646373315
           ],
           "y": [
            -0.08023198564050849,
            0.3816727910514155
           ],
           "z": [
            0.06012779017098957,
            0.1281661547318791
           ]
          },
          {
           "line": {
            "color": "black",
            "width": 5
           },
           "marker": {
            "color": "blue",
            "size": 2
           },
           "text": [
            "LWrist"
           ],
           "type": "scatter3d",
           "x": [
            -0.692266230542596,
            -0.6084664904551732
           ],
           "y": [
            -0.15006480365730468,
            -0.08023198564050849
           ],
           "z": [
            0.02032168715200733,
            0.06012779017098957
           ]
          },
          {
           "line": {
            "color": "red",
            "width": 5
           },
           "marker": {
            "color": "blue",
            "size": 2
           },
           "text": [
            "RShoulder"
           ],
           "type": "scatter3d",
           "x": [
            -0.24701108613659484,
            -0.3322935675525567
           ],
           "y": [
            0.38269883763960166,
            0.39685183346074226
           ],
           "z": [
            -0.29005231585641766,
            -0.09260401706256083
           ]
          },
          {
           "line": {
            "color": "red",
            "width": 5
           },
           "marker": {
            "color": "blue",
            "size": 2
           },
           "text": [
            "RElbow"
           ],
           "type": "scatter3d",
           "x": [
            -0.7257949475495478,
            -0.24701108613659484
           ],
           "y": [
            0.11417462098579856,
            0.38269883763960166
           ],
           "z": [
            -0.3651052533310857,
            -0.29005231585641766
           ]
          },
          {
           "line": {
            "color": "red",
            "width": 5
           },
           "marker": {
            "color": "blue",
            "size": 2
           },
           "text": [
            "RWrist"
           ],
           "type": "scatter3d",
           "x": [
            -0.8382137507739041,
            -0.7257949475495478
           ],
           "y": [
            0.09171434074698714,
            0.11417462098579856
           ],
           "z": [
            -0.35894358722543807,
            -0.3651052533310857
           ]
          },
          {
           "line": {
            "color": "#1f77b4",
            "width": 1
           },
           "marker": {
            "color": "#1f77b4",
            "size": 1
           },
           "type": "scatter3d",
           "x": [
            -0.10456789807196559,
            0.07519876859470122,
            0.4937387685947011,
            1.127338768594701,
            1.5346987685947013,
            1.5842921019280345,
            1.3928254352613678,
            1.1768121019280344,
            0.7025454352613678,
            0.5634387685947011,
            0.8725321019280343,
            1.3347321019280343,
            1.3049254352613677,
            1.1927054352613675,
            0.9764121019280343,
            1.160118768594701,
            1.4533787685947008,
            1.725698768594701,
            1.726798768594701,
            1.3951387685947012,
            0.5218254352613677,
            -0.023674564738632144,
            -0.26836789807196554,
            -0.3035612314052989,
            -0.2385212314052989,
            -0.19296789807196552,
            -0.11495456473863222,
            -0.043434564738632275,
            -0.2786812314052989,
            -0.3800678980719656,
            -0.32554123140529884,
            0.17044543526136782,
            0.9227921019280345,
            1.4903321019280347
           ],
           "y": [
            -0.9363594694242567,
            -0.9168994694242565,
            -0.9295194694242566,
            -0.9334528027575899,
            -0.9425594694242567,
            -0.8539261360909234,
            -0.5647928027575899,
            -0.27810613609092316,
            -0.09269280275758995,
            -0.08301946942425675,
            -0.06881280275759005,
            -0.16405946942425653,
            -0.16121946942425658,
            -0.3059861360909233,
            -0.36855946942425666,
            -0.3208794694242565,
            -0.5929661360909233,
            -0.8983794694242566,
            -0.9128861360909233,
            -0.93739280275759,
            -0.9429728027575901,
            -0.9707661360909232,
            -1.5781301360909232,
            -1.0126394694242564,
            -0.9420794694242567,
            -0.9359861360909234,
            -1.5009401360909234,
            -1.30883280275759,
            -0.95333280275759,
            -1.6294674694242566,
            -0.9849261360909234,
            -0.9405394694242566,
            -0.9342794694242567,
            -0.9100661360909232
           ],
           "z": [
            -9.89050039882495,
            -9.781967065491616,
            -9.717387065491616,
            -10.231047065491616,
            -11.064395532158283,
            -11.62703239882495,
            -11.72928039882495,
            -11.640749732158284,
            -11.71298039882495,
            -11.67711439882495,
            -11.655715065491616,
            -11.733913732158284,
            -11.667425732158282,
            -11.71280039882495,
            -11.671505065491615,
            -11.601569065491617,
            -11.708547065491617,
            -11.585561732158283,
            -11.510019732158284,
            -10.847421065491616,
            -10.372922398824949,
            -10.329247065491616,
            -11.276871065491616,
            -11.827567065491616,
            -12.03726039882495,
            -11.878647065491617,
            -11.89806039882495,
            -12.074693732158282,
            -11.968067065491617,
            -11.184275732158284,
            -10.599509065491617,
            -10.35916039882495,
            -10.34108039882495,
            -10.99857139882495
           ]
          }
         ],
         "name": "frame35"
        },
        {
         "data": [
          {
           "line": {
            "color": "red",
            "width": 5
           },
           "marker": {
            "color": "blue",
            "size": 2
           },
           "text": [
            "RHip"
           ],
           "type": "scatter3d",
           "x": [
            -0.021068038282746615,
            1.2752187685947012
           ],
           "y": [
            -0.12304855693213823,
            -0.41693946942425675
           ],
           "z": [
            -0.09713421828109148,
            -11.678293065491616
           ]
          },
          {
           "line": {
            "color": "red",
            "width": 5
           },
           "marker": {
            "color": "blue",
            "size": 2
           },
           "text": [
            "RKnee"
           ],
           "type": "scatter3d",
           "x": [
            -0.2869726724182695,
            -0.021068038282746615
           ],
           "y": [
            -0.5391065555434638,
            -0.12304855693213823
           ],
           "z": [
            -0.05469924228355971,
            -0.09713421828109148
           ]
          },
          {
           "line": {
            "color": "red",
            "width": 5
           },
           "marker": {
            "color": "blue",
            "size": 2
           },
           "text": [
            "RAnkle"
           ],
           "type": "scatter3d",
           "x": [
            -0.04503497521021327,
            -0.2869726724182695
           ],
           "y": [
            -0.9724214167794543,
            -0.5391065555434638
           ],
           "z": [
            0.01095314151183402,
            -0.05469924228355971
           ]
          },
          {
           "line": {
            "color": "black",
            "width": 5
           },
           "marker": {
            "color": "blue",
            "size": 2
           },
           "text": [
            "LHip"
           ],
           "type": "scatter3d",
           "x": [
            -0.005791859550685841,
            1.2752187685947012
           ],
           "y": [
            -0.1391679443700149,
            -0.41693946942425675
           ],
           "z": [
            0.07937915359667969,
            -11.678293065491616
           ]
          },
          {
           "line": {
            "color": "black",
            "width": 5
           },
           "marker": {
            "color": "blue",
            "size": 2
           },
           "text": [
            "LKnee"
           ],
           "type": "scatter3d",
           "x": [
            -0.18889273905238935,
            -0.005791859550685841
           ],
           "y": [
            -0.570182591566029,
            -0.1391679443700149
           ],
           "z": [
            0.17107264645518505,
            0.07937915359667969
           ]
          },
          {
           "line": {
            "color": "black",
            "width": 5
           },
           "marker": {
            "color": "blue",
            "size": 2
           },
           "text": [
            "LAnkle"
           ],
           "type": "scatter3d",
           "x": [
            0.08258088081143122,
            -0.18889273905238935
           ],
           "y": [
            -0.9892072698655421,
            -0.570182591566029
           ],
           "z": [
            0.18313679491084756,
            0.17107264645518505
           ]
          },
          {
           "line": {
            "color": "black",
            "width": 5
           },
           "marker": {
            "color": "blue",
            "size": 2
           },
           "text": [
            "Spine1"
           ],
           "type": "scatter3d",
           "x": [
            -0.2154746405054715,
            1.2752187685947012
           ],
           "y": [
            0.16183115885186927,
            -0.41693946942425675
           ],
           "z": [
            0.03401734112368615,
            -11.678293065491616
           ]
          },
          {
           "line": {
            "color": "black",
            "width": 5
           },
           "marker": {
            "color": "blue",
            "size": 2
           },
           "text": [
            "Neck"
           ],
           "type": "scatter3d",
           "x": [
            -0.4108705481316782,
            -0.2154746405054715
           ],
           "y": [
            0.3199935690879505,
            0.16183115885186927
           ],
           "z": [
            0.07301053321314654,
            0.03401734112368615
           ]
          },
          {
           "line": {
            "color": "black",
            "width": 5
           },
           "marker": {
            "color": "blue",
            "size": 2
           },
           "text": [
            "Head"
           ],
           "type": "scatter3d",
           "x": [
            -0.4340055164863673,
            -0.4108705481316782
           ],
           "y": [
            0.43452908977266413,
            0.3199935690879505
           ],
           "z": [
            0.08885997970158677,
            0.07301053321314654
           ]
          },
          {
           "line": {
            "color": "black",
            "width": 5
           },
           "marker": {
            "color": "blue",
            "size": 2
           },
           "text": [
            "Site"
           ],
           "type": "scatter3d",
           "x": [
            -0.44703263679927596,
            -0.4340055164863673
           ],
           "y": [
            0.5519032973311166,
            0.43452908977266413
           ],
           "z": [
            0.091683817902382,
            0.08885997970158677
           ]
          },
          {
           "line": {
            "color": "black",
            "width": 5
           },
           "marker": {
            "color": "blue",
            "size": 2
           },
           "text": [
            "LShoulder"
           ],
           "type": "scatter3d",
           "x": [
            -0.33913979171720876,
            -0.4108705481316782
           ],
           "y": [
            0.3201686821296603,
            0.3199935690879505
           ],
           "z": [
            0.276489085988997,
            0.07301053321314654
           ]
          },
          {
           "line": {
            "color": "black",
            "width": 5
           },
           "marker": {
            "color": "blue",
            "size": 2
           },
           "text": [
            "LElbow"
           ],
           "type": "scatter3d",
           "x": [
            -0.7345168355961792,
            -0.33913979171720876
           ],
           "y": [
            0.0396330462837553,
            0.3201686821296603
           ],
           "z": [
            0.3007961037831528,
            0.276489085988997
           ]
          },
          {
           "line": {
            "color": "black",
            "width": 5
           },
           "marker": {
            "color": "blue",
            "size": 2
           },
           "text": [
            "LWrist"
           ],
           "type": "scatter3d",
           "x": [
            -0.8472119149578856,
            -0.7345168355961792
           ],
           "y": [
            0.036366161061040625,
            0.0396330462837553
           ],
           "z": [
            0.2729987784254,
            0.3007961037831528
           ]
          },
          {
           "line": {
            "color": "red",
            "width": 5
           },
           "marker": {
            "color": "blue",
            "size": 2
           },
           "text": [
            "RShoulder"
           ],
           "type": "scatter3d",
           "x": [
            -0.41102829056461854,
            -0.4108705481316782
           ],
           "y": [
            0.3142848622806307,
            0.3199935690879505
           ],
           "z": [
            -0.15093337519142125,
            0.07301053321314654
           ]
          },
          {
           "line": {
            "color": "red",
            "width": 5
           },
           "marker": {
            "color": "blue",
            "size": 2
           },
           "text": [
            "RElbow"
           ],
           "type": "scatter3d",
           "x": [
            -0.5821729820985418,
            -0.41102829056461854
           ],
           "y": [
            -0.08151831171138979,
            0.3142848622806307
           ],
           "z": [
            -0.15383850872783,
            -0.15093337519142125
           ]
          },
          {
           "line": {
            "color": "red",
            "width": 5
           },
           "marker": {
            "color": "blue",
            "size": 2
           },
           "text": [
            "RWrist"
           ],
           "type": "scatter3d",
           "x": [
            -0.6754752170382965,
            -0.5821729820985418
           ],
           "y": [
            -0.11522022143991517,
            -0.08151831171138979
           ],
           "z": [
            -0.09605190239126493,
            -0.15383850872783
           ]
          },
          {
           "line": {
            "color": "#1f77b4",
            "width": 1
           },
           "marker": {
            "color": "#1f77b4",
            "size": 1
           },
           "type": "scatter3d",
           "x": [
            -0.10456789807196559,
            0.07519876859470122,
            0.4937387685947011,
            1.127338768594701,
            1.5346987685947013,
            1.5842921019280345,
            1.3928254352613678,
            1.1768121019280344,
            0.7025454352613678,
            0.5634387685947011,
            0.8725321019280343,
            1.3347321019280343,
            1.3049254352613677,
            1.1927054352613675,
            0.9764121019280343,
            1.160118768594701,
            1.4533787685947008,
            1.725698768594701,
            1.726798768594701,
            1.3951387685947012,
            0.5218254352613677,
            -0.023674564738632144,
            -0.26836789807196554,
            -0.3035612314052989,
            -0.2385212314052989,
            -0.19296789807196552,
            -0.11495456473863222,
            -0.043434564738632275,
            -0.2786812314052989,
            -0.3800678980719656,
            -0.32554123140529884,
            0.17044543526136782,
            0.9227921019280345,
            1.4903321019280347,
            1.495585435261368
           ],
           "y": [
            -0.9363594694242567,
            -0.9168994694242565,
            -0.9295194694242566,
            -0.9334528027575899,
            -0.9425594694242567,
            -0.8539261360909234,
            -0.5647928027575899,
            -0.27810613609092316,
            -0.09269280275758995,
            -0.08301946942425675,
            -0.06881280275759005,
            -0.16405946942425653,
            -0.16121946942425658,
            -0.3059861360909233,
            -0.36855946942425666,
            -0.3208794694242565,
            -0.5929661360909233,
            -0.8983794694242566,
            -0.9128861360909233,
            -0.93739280275759,
            -0.9429728027575901,
            -0.9707661360909232,
            -1.5781301360909232,
            -1.0126394694242564,
            -0.9420794694242567,
            -0.9359861360909234,
            -1.5009401360909234,
            -1.30883280275759,
            -0.95333280275759,
            -1.6294674694242566,
            -0.9849261360909234,
            -0.9405394694242566,
            -0.9342794694242567,
            -0.9100661360909232,
            -0.7465061360909233
           ],
           "z": [
            -9.89050039882495,
            -9.781967065491616,
            -9.717387065491616,
            -10.231047065491616,
            -11.064395532158283,
            -11.62703239882495,
            -11.72928039882495,
            -11.640749732158284,
            -11.71298039882495,
            -11.67711439882495,
            -11.655715065491616,
            -11.733913732158284,
            -11.667425732158282,
            -11.71280039882495,
            -11.671505065491615,
            -11.601569065491617,
            -11.708547065491617,
            -11.585561732158283,
            -11.510019732158284,
            -10.847421065491616,
            -10.372922398824949,
            -10.329247065491616,
            -11.276871065491616,
            -11.827567065491616,
            -12.03726039882495,
            -11.878647065491617,
            -11.89806039882495,
            -12.074693732158282,
            -11.968067065491617,
            -11.184275732158284,
            -10.599509065491617,
            -10.35916039882495,
            -10.34108039882495,
            -10.99857139882495,
            -11.428777732158283
           ]
          }
         ],
         "name": "frame36"
        },
        {
         "data": [
          {
           "line": {
            "color": "red",
            "width": 5
           },
           "marker": {
            "color": "blue",
            "size": 2
           },
           "text": [
            "RHip"
           ],
           "type": "scatter3d",
           "x": [
            0.013016551408233101,
            0.8086654352613678
           ],
           "y": [
            -0.12602116698159538,
            -0.11323280275758996
           ],
           "z": [
            -0.09470533682574178,
            -11.61573239882495
           ]
          },
          {
           "line": {
            "color": "red",
            "width": 5
           },
           "marker": {
            "color": "blue",
            "size": 2
           },
           "text": [
            "RKnee"
           ],
           "type": "scatter3d",
           "x": [
            0.00989353898129175,
            0.013016551408233101
           ],
           "y": [
            -0.6215183898102985,
            -0.12602116698159538
           ],
           "z": [
            -0.10381625409804585,
            -0.09470533682574178
           ]
          },
          {
           "line": {
            "color": "red",
            "width": 5
           },
           "marker": {
            "color": "blue",
            "size": 2
           },
           "text": [
            "RAnkle"
           ],
           "type": "scatter3d",
           "x": [
            0.37649239568304305,
            0.00989353898129175
           ],
           "y": [
            -0.9623515503825699,
            -0.6215183898102985
           ],
           "z": [
            -0.0971913982048509,
            -0.10381625409804585
           ]
          },
          {
           "line": {
            "color": "black",
            "width": 5
           },
           "marker": {
            "color": "blue",
            "size": 2
           },
           "text": [
            "LHip"
           ],
           "type": "scatter3d",
           "x": [
            0.026450571934418576,
            0.8086654352613678
           ],
           "y": [
            -0.13491330717250283,
            -0.11323280275758996
           ],
           "z": [
            0.08246865583405416,
            -11.61573239882495
           ]
          },
          {
           "line": {
            "color": "black",
            "width": 5
           },
           "marker": {
            "color": "blue",
            "size": 2
           },
           "text": [
            "LKnee"
           ],
           "type": "scatter3d",
           "x": [
            -0.08329641787638264,
            0.026450571934418576
           ],
           "y": [
            -0.599110918407521,
            -0.13491330717250283
           ],
           "z": [
            0.09601231691833334,
            0.08246865583405416
           ]
          },
          {
           "line": {
            "color": "black",
            "width": 5
           },
           "marker": {
            "color": "blue",
            "size": 2
           },
           "text": [
            "LAnkle"
           ],
           "type": "scatter3d",
           "x": [
            0.22710507876612152,
            -0.08329641787638264
           ],
           "y": [
            -0.9845049694441801,
            -0.599110918407521
           ],
           "z": [
            0.028577257108297616,
            0.09601231691833334
           ]
          },
          {
           "line": {
            "color": "black",
            "width": 5
           },
           "marker": {
            "color": "blue",
            "size": 2
           },
           "text": [
            "Spine1"
           ],
           "type": "scatter3d",
           "x": [
            -0.24891228145008215,
            0.8086654352613678
           ],
           "y": [
            0.10288717181365059,
            -0.11323280275758996
           ],
           "z": [
            0.026827513628752797,
            -11.61573239882495
           ]
          },
          {
           "line": {
            "color": "black",
            "width": 5
           },
           "marker": {
            "color": "blue",
            "size": 2
           },
           "text": [
            "Neck"
           ],
           "type": "scatter3d",
           "x": [
            -0.49570038152381574,
            -0.24891228145008215
           ],
           "y": [
            0.16060252509440986,
            0.10288717181365059
           ],
           "z": [
            0.04042046301063884,
            0.026827513628752797
           ]
          },
          {
           "line": {
            "color": "black",
            "width": 5
           },
           "marker": {
            "color": "blue",
            "size": 2
           },
           "text": [
            "Head"
           ],
           "type": "scatter3d",
           "x": [
            -0.5722602394938664,
            -0.49570038152381574
           ],
           "y": [
            0.24821744514900268,
            0.16060252509440986
           ],
           "z": [
            0.05957851992447871,
            0.04042046301063884
           ]
          },
          {
           "line": {
            "color": "black",
            "width": 5
           },
           "marker": {
            "color": "blue",
            "size": 2
           },
           "text": [
            "Site"
           ],
           "type": "scatter3d",
           "x": [
            -0.6314656383511696,
            -0.5722602394938664
           ],
           "y": [
            0.34992029150685044,
            0.24821744514900268
           ],
           "z": [
            0.06985647276858309,
            0.05957851992447871
           ]
          },
          {
           "line": {
            "color": "black",
            "width": 5
           },
           "marker": {
            "color": "blue",
            "size": 2
           },
           "text": [
            "LShoulder"
           ],
           "type": "scatter3d",
           "x": [
            -0.441241503016519,
            -0.49570038152381574
           ],
           "y": [
            0.18746081662880543,
            0.16060252509440986
           ],
           "z": [
            0.26137635096188205,
            0.04042046301063884
           ]
          },
          {
           "line": {
            "color": "black",
            "width": 5
           },
           "marker": {
            "color": "blue",
            "size": 2
           },
           "text": [
            "LElbow"
           ],
           "type": "scatter3d",
           "x": [
            -0.37586168031064704,
            -0.441241503016519
           ],
           "y": [
            -0.21583344060532395,
            0.18746081662880543
           ],
           "z": [
            0.23050603503223854,
            0.26137635096188205
           ]
          },
          {
           "line": {
            "color": "black",
            "width": 5
           },
           "marker": {
            "color": "blue",
            "size": 2
           },
           "text": [
            "LWrist"
           ],
           "type": "scatter3d",
           "x": [
            -0.4515334191436284,
            -0.37586168031064704
           ],
           "y": [
            -0.2940963545262463,
            -0.21583344060532395
           ],
           "z": [
            0.1901049336234415,
            0.23050603503223854
           ]
          },
          {
           "line": {
            "color": "red",
            "width": 5
           },
           "marker": {
            "color": "blue",
            "size": 2
           },
           "text": [
            "RShoulder"
           ],
           "type": "scatter3d",
           "x": [
            -0.46497049424124176,
            -0.49570038152381574
           ],
           "y": [
            0.2018520790935019,
            0.16060252509440986
           ],
           "z": [
            -0.17120007288043126,
            0.04042046301063884
           ]
          },
          {
           "line": {
            "color": "red",
            "width": 5
           },
           "marker": {
            "color": "blue",
            "size": 2
           },
           "text": [
            "RElbow"
           ],
           "type": "scatter3d",
           "x": [
            -0.3756315502103938,
            -0.46497049424124176
           ],
           "y": [
            -0.1977714783326101,
            0.2018520790935019
           ],
           "z": [
            -0.2620602147458371,
            -0.17120007288043126
           ]
          },
          {
           "line": {
            "color": "red",
            "width": 5
           },
           "marker": {
            "color": "blue",
            "size": 2
           },
           "text": [
            "RWrist"
           ],
           "type": "scatter3d",
           "x": [
            -0.44249445724137076,
            -0.3756315502103938
           ],
           "y": [
            -0.28617016765503456,
            -0.1977714783326101
           ],
           "z": [
            -0.23213629412295766,
            -0.2620602147458371
           ]
          },
          {
           "line": {
            "color": "#1f77b4",
            "width": 1
           },
           "marker": {
            "color": "#1f77b4",
            "size": 1
           },
           "type": "scatter3d",
           "x": [
            -0.10456789807196559,
            0.07519876859470122,
            0.4937387685947011,
            1.127338768594701,
            1.5346987685947013,
            1.5842921019280345,
            1.3928254352613678,
            1.1768121019280344,
            0.7025454352613678,
            0.5634387685947011,
            0.8725321019280343,
            1.3347321019280343,
            1.3049254352613677,
            1.1927054352613675,
            0.9764121019280343,
            1.160118768594701,
            1.4533787685947008,
            1.725698768594701,
            1.726798768594701,
            1.3951387685947012,
            0.5218254352613677,
            -0.023674564738632144,
            -0.26836789807196554,
            -0.3035612314052989,
            -0.2385212314052989,
            -0.19296789807196552,
            -0.11495456473863222,
            -0.043434564738632275,
            -0.2786812314052989,
            -0.3800678980719656,
            -0.32554123140529884,
            0.17044543526136782,
            0.9227921019280345,
            1.4903321019280347,
            1.495585435261368,
            1.2752187685947012
           ],
           "y": [
            -0.9363594694242567,
            -0.9168994694242565,
            -0.9295194694242566,
            -0.9334528027575899,
            -0.9425594694242567,
            -0.8539261360909234,
            -0.5647928027575899,
            -0.27810613609092316,
            -0.09269280275758995,
            -0.08301946942425675,
            -0.06881280275759005,
            -0.16405946942425653,
            -0.16121946942425658,
            -0.3059861360909233,
            -0.36855946942425666,
            -0.3208794694242565,
            -0.5929661360909233,
            -0.8983794694242566,
            -0.9128861360909233,
            -0.93739280275759,
            -0.9429728027575901,
            -0.9707661360909232,
            -1.5781301360909232,
            -1.0126394694242564,
            -0.9420794694242567,
            -0.9359861360909234,
            -1.5009401360909234,
            -1.30883280275759,
            -0.95333280275759,
            -1.6294674694242566,
            -0.9849261360909234,
            -0.9405394694242566,
            -0.9342794694242567,
            -0.9100661360909232,
            -0.7465061360909233,
            -0.41693946942425675
           ],
           "z": [
            -9.89050039882495,
            -9.781967065491616,
            -9.717387065491616,
            -10.231047065491616,
            -11.064395532158283,
            -11.62703239882495,
            -11.72928039882495,
            -11.640749732158284,
            -11.71298039882495,
            -11.67711439882495,
            -11.655715065491616,
            -11.733913732158284,
            -11.667425732158282,
            -11.71280039882495,
            -11.671505065491615,
            -11.601569065491617,
            -11.708547065491617,
            -11.585561732158283,
            -11.510019732158284,
            -10.847421065491616,
            -10.372922398824949,
            -10.329247065491616,
            -11.276871065491616,
            -11.827567065491616,
            -12.03726039882495,
            -11.878647065491617,
            -11.89806039882495,
            -12.074693732158282,
            -11.968067065491617,
            -11.184275732158284,
            -10.599509065491617,
            -10.35916039882495,
            -10.34108039882495,
            -10.99857139882495,
            -11.428777732158283,
            -11.678293065491616
           ]
          }
         ],
         "name": "frame37"
        },
        {
         "data": [
          {
           "line": {
            "color": "red",
            "width": 5
           },
           "marker": {
            "color": "blue",
            "size": 2
           },
           "text": [
            "RHip"
           ],
           "type": "scatter3d",
           "x": [
            0.012192785126913241,
            0.6152054352613677
           ],
           "y": [
            -0.12756991711335997,
            -0.10633280275758983
           ],
           "z": [
            -0.09272064602764196,
            -11.643024398824949
           ]
          },
          {
           "line": {
            "color": "red",
            "width": 5
           },
           "marker": {
            "color": "blue",
            "size": 2
           },
           "text": [
            "RKnee"
           ],
           "type": "scatter3d",
           "x": [
            0.10720832607345654,
            0.012192785126913241
           ],
           "y": [
            -0.6136509418545637,
            -0.12756991711335997
           ],
           "z": [
            -0.07518370740380931,
            -0.09272064602764196
           ]
          },
          {
           "line": {
            "color": "red",
            "width": 5
           },
           "marker": {
            "color": "blue",
            "size": 2
           },
           "text": [
            "RAnkle"
           ],
           "type": "scatter3d",
           "x": [
            0.4532293721617978,
            0.10720832607345654
           ],
           "y": [
            -0.9751777789676526,
            -0.6136509418545637
           ],
           "z": [
            -0.06200662475032814,
            -0.07518370740380931
           ]
          },
          {
           "line": {
            "color": "black",
            "width": 5
           },
           "marker": {
            "color": "blue",
            "size": 2
           },
           "text": [
            "LHip"
           ],
           "type": "scatter3d",
           "x": [
            0.016457964505132816,
            0.6152054352613677
           ],
           "y": [
            -0.13494372162240875,
            -0.10633280275758983
           ],
           "z": [
            0.08498023183068604,
            -11.643024398824949
           ]
          },
          {
           "line": {
            "color": "black",
            "width": 5
           },
           "marker": {
            "color": "blue",
            "size": 2
           },
           "text": [
            "LKnee"
           ],
           "type": "scatter3d",
           "x": [
            0.08758305546213829,
            0.016457964505132816
           ],
           "y": [
            -0.6052319942032083,
            -0.13494372162240875
           ],
           "z": [
            0.12341741322735089,
            0.08498023183068604
           ]
          },
          {
           "line": {
            "color": "black",
            "width": 5
           },
           "marker": {
            "color": "blue",
            "size": 2
           },
           "text": [
            "LAnkle"
           ],
           "type": "scatter3d",
           "x": [
            0.40874825417955585,
            0.08758305546213829
           ],
           "y": [
            -0.9835523694418957,
            -0.6052319942032083
           ],
           "z": [
            0.06727687710596086,
            0.12341741322735089
           ]
          },
          {
           "line": {
            "color": "black",
            "width": 5
           },
           "marker": {
            "color": "blue",
            "size": 2
           },
           "text": [
            "Spine1"
           ],
           "type": "scatter3d",
           "x": [
            -0.21871671369481216,
            0.6152054352613677
           ],
           "y": [
            0.15965543259100157,
            -0.10633280275758983
           ],
           "z": [
            0.019392587971145403,
            -11.643024398824949
           ]
          },
          {
           "line": {
            "color": "black",
            "width": 5
           },
           "marker": {
            "color": "blue",
            "size": 2
           },
           "text": [
            "Neck"
           ],
           "type": "scatter3d",
           "x": [
            -0.45114906216483186,
            -0.21871671369481216
           ],
           "y": [
            0.25407495705444383,
            0.15965543259100157
           ],
           "z": [
            0.027648276575476416,
            0.019392587971145403
           ]
          },
          {
           "line": {
            "color": "black",
            "width": 5
           },
           "marker": {
            "color": "blue",
            "size": 2
           },
           "text": [
            "Head"
           ],
           "type": "scatter3d",
           "x": [
            -0.5167985342837061,
            -0.45114906216483186
           ],
           "y": [
            0.35187869787510717,
            0.25407495705444383
           ],
           "z": [
            0.033069743653529216,
            0.027648276575476416
           ]
          },
          {
           "line": {
            "color": "black",
            "width": 5
           },
           "marker": {
            "color": "blue",
            "size": 2
           },
           "text": [
            "Site"
           ],
           "type": "scatter3d",
           "x": [
            -0.5623599209319756,
            -0.5167985342837061
           ],
           "y": [
            0.46083244689894887,
            0.35187869787510717
           ],
           "z": [
            0.035831110369962005,
            0.033069743653529216
           ]
          },
          {
           "line": {
            "color": "black",
            "width": 5
           },
           "marker": {
            "color": "blue",
            "size": 2
           },
           "text": [
            "LShoulder"
           ],
           "type": "scatter3d",
           "x": [
            -0.36871144252720806,
            -0.45114906216483186
           ],
           "y": [
            0.3190315145954785,
            0.25407495705444383
           ],
           "z": [
            0.24579319258030452,
            0.027648276575476416
           ]
          },
          {
           "line": {
            "color": "black",
            "width": 5
           },
           "marker": {
            "color": "blue",
            "size": 2
           },
           "text": [
            "LElbow"
           ],
           "type": "scatter3d",
           "x": [
            -0.21927899806702034,
            -0.36871144252720806
           ],
           "y": [
            -0.15322208938182835,
            0.3190315145954785
           ],
           "z": [
            0.24593615373737876,
            0.24579319258030452
           ]
          },
          {
           "line": {
            "color": "black",
            "width": 5
           },
           "marker": {
            "color": "blue",
            "size": 2
           },
           "text": [
            "LWrist"
           ],
           "type": "scatter3d",
           "x": [
            -0.24848606451515542,
            -0.21927899806702034
           ],
           "y": [
            -0.26248745611971813,
            -0.15322208938182835
           ],
           "z": [
            0.21963840384174915,
            0.24593615373737876
           ]
          },
          {
           "line": {
            "color": "red",
            "width": 5
           },
           "marker": {
            "color": "blue",
            "size": 2
           },
           "text": [
            "RShoulder"
           ],
           "type": "scatter3d",
           "x": [
            -0.4229881806118447,
            -0.45114906216483186
           ],
           "y": [
            0.2753656621580167,
            0.25407495705444383
           ],
           "z": [
            -0.18203839222600315,
            0.027648276575476416
           ]
          },
          {
           "line": {
            "color": "red",
            "width": 5
           },
           "marker": {
            "color": "blue",
            "size": 2
           },
           "text": [
            "RElbow"
           ],
           "type": "scatter3d",
           "x": [
            -0.2374547075180305,
            -0.4229881806118447
           ],
           "y": [
            -0.18616195256873858,
            0.2753656621580167
           ],
           "z": [
            -0.2219400999126897,
            -0.18203839222600315
           ]
          },
          {
           "line": {
            "color": "red",
            "width": 5
           },
           "marker": {
            "color": "blue",
            "size": 2
           },
           "text": [
            "RWrist"
           ],
           "type": "scatter3d",
           "x": [
            -0.26239061141538994,
            -0.2374547075180305
           ],
           "y": [
            -0.29557798170240157,
            -0.18616195256873858
           ],
           "z": [
            -0.19771715827788583,
            -0.2219400999126897
           ]
          },
          {
           "line": {
            "color": "#1f77b4",
            "width": 1
           },
           "marker": {
            "color": "#1f77b4",
            "size": 1
           },
           "type": "scatter3d",
           "x": [
            -0.10456789807196559,
            0.07519876859470122,
            0.4937387685947011,
            1.127338768594701,
            1.5346987685947013,
            1.5842921019280345,
            1.3928254352613678,
            1.1768121019280344,
            0.7025454352613678,
            0.5634387685947011,
            0.8725321019280343,
            1.3347321019280343,
            1.3049254352613677,
            1.1927054352613675,
            0.9764121019280343,
            1.160118768594701,
            1.4533787685947008,
            1.725698768594701,
            1.726798768594701,
            1.3951387685947012,
            0.5218254352613677,
            -0.023674564738632144,
            -0.26836789807196554,
            -0.3035612314052989,
            -0.2385212314052989,
            -0.19296789807196552,
            -0.11495456473863222,
            -0.043434564738632275,
            -0.2786812314052989,
            -0.3800678980719656,
            -0.32554123140529884,
            0.17044543526136782,
            0.9227921019280345,
            1.4903321019280347,
            1.495585435261368,
            1.2752187685947012,
            0.8086654352613678
           ],
           "y": [
            -0.9363594694242567,
            -0.9168994694242565,
            -0.9295194694242566,
            -0.9334528027575899,
            -0.9425594694242567,
            -0.8539261360909234,
            -0.5647928027575899,
            -0.27810613609092316,
            -0.09269280275758995,
            -0.08301946942425675,
            -0.06881280275759005,
            -0.16405946942425653,
            -0.16121946942425658,
            -0.3059861360909233,
            -0.36855946942425666,
            -0.3208794694242565,
            -0.5929661360909233,
            -0.8983794694242566,
            -0.9128861360909233,
            -0.93739280275759,
            -0.9429728027575901,
            -0.9707661360909232,
            -1.5781301360909232,
            -1.0126394694242564,
            -0.9420794694242567,
            -0.9359861360909234,
            -1.5009401360909234,
            -1.30883280275759,
            -0.95333280275759,
            -1.6294674694242566,
            -0.9849261360909234,
            -0.9405394694242566,
            -0.9342794694242567,
            -0.9100661360909232,
            -0.7465061360909233,
            -0.41693946942425675,
            -0.11323280275758996
           ],
           "z": [
            -9.89050039882495,
            -9.781967065491616,
            -9.717387065491616,
            -10.231047065491616,
            -11.064395532158283,
            -11.62703239882495,
            -11.72928039882495,
            -11.640749732158284,
            -11.71298039882495,
            -11.67711439882495,
            -11.655715065491616,
            -11.733913732158284,
            -11.667425732158282,
            -11.71280039882495,
            -11.671505065491615,
            -11.601569065491617,
            -11.708547065491617,
            -11.585561732158283,
            -11.510019732158284,
            -10.847421065491616,
            -10.372922398824949,
            -10.329247065491616,
            -11.276871065491616,
            -11.827567065491616,
            -12.03726039882495,
            -11.878647065491617,
            -11.89806039882495,
            -12.074693732158282,
            -11.968067065491617,
            -11.184275732158284,
            -10.599509065491617,
            -10.35916039882495,
            -10.34108039882495,
            -10.99857139882495,
            -11.428777732158283,
            -11.678293065491616,
            -11.61573239882495
           ]
          }
         ],
         "name": "frame38"
        },
        {
         "data": [
          {
           "line": {
            "color": "red",
            "width": 5
           },
           "marker": {
            "color": "blue",
            "size": 2
           },
           "text": [
            "RHip"
           ],
           "type": "scatter3d",
           "x": [
            0.01907512230452635,
            0.708898768594701
           ],
           "y": [
            -0.12624436777556824,
            -0.07197946942425659
           ],
           "z": [
            -0.0933721868398596,
            -11.634589065491618
           ]
          },
          {
           "line": {
            "color": "red",
            "width": 5
           },
           "marker": {
            "color": "blue",
            "size": 2
           },
           "text": [
            "RKnee"
           ],
           "type": "scatter3d",
           "x": [
            0.016144327052222796,
            0.01907512230452635
           ],
           "y": [
            -0.6216872017001704,
            -0.12624436777556824
           ],
           "z": [
            -0.08162192713775518,
            -0.0933721868398596
           ]
          },
          {
           "line": {
            "color": "red",
            "width": 5
           },
           "marker": {
            "color": "blue",
            "size": 2
           },
           "text": [
            "RAnkle"
           ],
           "type": "scatter3d",
           "x": [
            0.40794284681155224,
            0.016144327052222796
           ],
           "y": [
            -0.9329059743950388,
            -0.6216872017001704
           ],
           "z": [
            -0.06604472478884027,
            -0.08162192713775518
           ]
          },
          {
           "line": {
            "color": "black",
            "width": 5
           },
           "marker": {
            "color": "blue",
            "size": 2
           },
           "text": [
            "LHip"
           ],
           "type": "scatter3d",
           "x": [
            0.019104306539306504,
            0.708898768594701
           ],
           "y": [
            -0.13501128795709838,
            -0.07197946942425659
           ],
           "z": [
            0.08431660571188537,
            -11.634589065491618
           ]
          },
          {
           "line": {
            "color": "black",
            "width": 5
           },
           "marker": {
            "color": "blue",
            "size": 2
           },
           "text": [
            "LKnee"
           ],
           "type": "scatter3d",
           "x": [
            0.01312291411613753,
            0.019104306539306504
           ],
           "y": [
            -0.6110248799271607,
            -0.13501128795709838
           ],
           "z": [
            0.11721855107737866,
            0.08431660571188537
           ]
          },
          {
           "line": {
            "color": "black",
            "width": 5
           },
           "marker": {
            "color": "blue",
            "size": 2
           },
           "text": [
            "LAnkle"
           ],
           "type": "scatter3d",
           "x": [
            0.3136197135289065,
            0.01312291411613753
           ],
           "y": [
            -1.0057688058009102,
            -0.6110248799271607
           ],
           "z": [
            0.05973761934868804,
            0.11721855107737866
           ]
          },
          {
           "line": {
            "color": "black",
            "width": 5
           },
           "marker": {
            "color": "blue",
            "size": 2
           },
           "text": [
            "Spine1"
           ],
           "type": "scatter3d",
           "x": [
            -0.24159808478816153,
            0.708898768594701
           ],
           "y": [
            0.120530818119156,
            -0.07197946942425659
           ],
           "z": [
            0.024154531345489616,
            -11.634589065491618
           ]
          },
          {
           "line": {
            "color": "black",
            "width": 5
           },
           "marker": {
            "color": "blue",
            "size": 2
           },
           "text": [
            "Neck"
           ],
           "type": "scatter3d",
           "x": [
            -0.48233481171224046,
            -0.24159808478816153
           ],
           "y": [
            0.2012027098314686,
            0.120530818119156
           ],
           "z": [
            0.0217701757880846,
            0.024154531345489616
           ]
          },
          {
           "line": {
            "color": "black",
            "width": 5
           },
           "marker": {
            "color": "blue",
            "size": 2
           },
           "text": [
            "Head"
           ],
           "type": "scatter3d",
           "x": [
            -0.5816341606916448,
            -0.48233481171224046
           ],
           "y": [
            0.26467302148301597,
            0.2012027098314686
           ],
           "z": [
            0.025767180216748287,
            0.0217701757880846
           ]
          },
          {
           "line": {
            "color": "black",
            "width": 5
           },
           "marker": {
            "color": "blue",
            "size": 2
           },
           "text": [
            "Site"
           ],
           "type": "scatter3d",
           "x": [
            -0.6795566272113472,
            -0.5816341606916448
           ],
           "y": [
            0.33074176211518047,
            0.26467302148301597
           ],
           "z": [
            0.025062490367563584,
            0.025767180216748287
           ]
          },
          {
           "line": {
            "color": "black",
            "width": 5
           },
           "marker": {
            "color": "blue",
            "size": 2
           },
           "text": [
            "LShoulder"
           ],
           "type": "scatter3d",
           "x": [
            -0.4353607892038572,
            -0.48233481171224046
           ],
           "y": [
            0.22588695902964195,
            0.2012027098314686
           ],
           "z": [
            0.24890436095601487,
            0.0217701757880846
           ]
          },
          {
           "line": {
            "color": "black",
            "width": 5
           },
           "marker": {
            "color": "blue",
            "size": 2
           },
           "text": [
            "LElbow"
           ],
           "type": "scatter3d",
           "x": [
            -0.30283729457947167,
            -0.4353607892038572
           ],
           "y": [
            -0.20852811913839697,
            0.22588695902964195
           ],
           "z": [
            0.2595768864274408,
            0.24890436095601487
           ]
          },
          {
           "line": {
            "color": "black",
            "width": 5
           },
           "marker": {
            "color": "blue",
            "size": 2
           },
           "text": [
            "LWrist"
           ],
           "type": "scatter3d",
           "x": [
            -0.3496253081034782,
            -0.30283729457947167
           ],
           "y": [
            -0.30989173423434857,
            -0.20852811913839697
           ],
           "z": [
            0.22764188879785685,
            0.2595768864274408
           ]
          },
          {
           "line": {
            "color": "red",
            "width": 5
           },
           "marker": {
            "color": "blue",
            "size": 2
           },
           "text": [
            "RShoulder"
           ],
           "type": "scatter3d",
           "x": [
            -0.43991230759004524,
            -0.48233481171224046
           ],
           "y": [
            0.23384332356034587,
            0.2012027098314686
           ],
           "z": [
            -0.18446443795307843,
            0.0217701757880846
           ]
          },
          {
           "line": {
            "color": "red",
            "width": 5
           },
           "marker": {
            "color": "blue",
            "size": 2
           },
           "text": [
            "RElbow"
           ],
           "type": "scatter3d",
           "x": [
            -0.2909225757647104,
            -0.43991230759004524
           ],
           "y": [
            -0.19557672010481952,
            0.23384332356034587
           ],
           "z": [
            -0.22899981802228453,
            -0.18446443795307843
           ]
          },
          {
           "line": {
            "color": "red",
            "width": 5
           },
           "marker": {
            "color": "blue",
            "size": 2
           },
           "text": [
            "RWrist"
           ],
           "type": "scatter3d",
           "x": [
            -0.33989998973873525,
            -0.2909225757647104
           ],
           "y": [
            -0.2962400871544797,
            -0.19557672010481952
           ],
           "z": [
            -0.20353381930551784,
            -0.22899981802228453
           ]
          },
          {
           "line": {
            "color": "#1f77b4",
            "width": 1
           },
           "marker": {
            "color": "#1f77b4",
            "size": 1
           },
           "type": "scatter3d",
           "x": [
            -0.10456789807196559,
            0.07519876859470122,
            0.4937387685947011,
            1.127338768594701,
            1.5346987685947013,
            1.5842921019280345,
            1.3928254352613678,
            1.1768121019280344,
            0.7025454352613678,
            0.5634387685947011,
            0.8725321019280343,
            1.3347321019280343,
            1.3049254352613677,
            1.1927054352613675,
            0.9764121019280343,
            1.160118768594701,
            1.4533787685947008,
            1.725698768594701,
            1.726798768594701,
            1.3951387685947012,
            0.5218254352613677,
            -0.023674564738632144,
            -0.26836789807196554,
            -0.3035612314052989,
            -0.2385212314052989,
            -0.19296789807196552,
            -0.11495456473863222,
            -0.043434564738632275,
            -0.2786812314052989,
            -0.3800678980719656,
            -0.32554123140529884,
            0.17044543526136782,
            0.9227921019280345,
            1.4903321019280347,
            1.495585435261368,
            1.2752187685947012,
            0.8086654352613678,
            0.6152054352613677
           ],
           "y": [
            -0.9363594694242567,
            -0.9168994694242565,
            -0.9295194694242566,
            -0.9334528027575899,
            -0.9425594694242567,
            -0.8539261360909234,
            -0.5647928027575899,
            -0.27810613609092316,
            -0.09269280275758995,
            -0.08301946942425675,
            -0.06881280275759005,
            -0.16405946942425653,
            -0.16121946942425658,
            -0.3059861360909233,
            -0.36855946942425666,
            -0.3208794694242565,
            -0.5929661360909233,
            -0.8983794694242566,
            -0.9128861360909233,
            -0.93739280275759,
            -0.9429728027575901,
            -0.9707661360909232,
            -1.5781301360909232,
            -1.0126394694242564,
            -0.9420794694242567,
            -0.9359861360909234,
            -1.5009401360909234,
            -1.30883280275759,
            -0.95333280275759,
            -1.6294674694242566,
            -0.9849261360909234,
            -0.9405394694242566,
            -0.9342794694242567,
            -0.9100661360909232,
            -0.7465061360909233,
            -0.41693946942425675,
            -0.11323280275758996,
            -0.10633280275758983
           ],
           "z": [
            -9.89050039882495,
            -9.781967065491616,
            -9.717387065491616,
            -10.231047065491616,
            -11.064395532158283,
            -11.62703239882495,
            -11.72928039882495,
            -11.640749732158284,
            -11.71298039882495,
            -11.67711439882495,
            -11.655715065491616,
            -11.733913732158284,
            -11.667425732158282,
            -11.71280039882495,
            -11.671505065491615,
            -11.601569065491617,
            -11.708547065491617,
            -11.585561732158283,
            -11.510019732158284,
            -10.847421065491616,
            -10.372922398824949,
            -10.329247065491616,
            -11.276871065491616,
            -11.827567065491616,
            -12.03726039882495,
            -11.878647065491617,
            -11.89806039882495,
            -12.074693732158282,
            -11.968067065491617,
            -11.184275732158284,
            -10.599509065491617,
            -10.35916039882495,
            -10.34108039882495,
            -10.99857139882495,
            -11.428777732158283,
            -11.678293065491616,
            -11.61573239882495,
            -11.643024398824949
           ]
          }
         ],
         "name": "frame39"
        },
        {
         "data": [
          {
           "line": {
            "color": "red",
            "width": 5
           },
           "marker": {
            "color": "blue",
            "size": 2
           },
           "text": [
            "RHip"
           ],
           "type": "scatter3d",
           "x": [
            -0.03619834091030527,
            1.177538768594701
           ],
           "y": [
            -0.12594802920252657,
            -0.27613280275759
           ],
           "z": [
            -0.08858126222054175,
            -11.702753732158284
           ]
          },
          {
           "line": {
            "color": "red",
            "width": 5
           },
           "marker": {
            "color": "blue",
            "size": 2
           },
           "text": [
            "RKnee"
           ],
           "type": "scatter3d",
           "x": [
            -0.1381976149532278,
            -0.03619834091030527
           ],
           "y": [
            -0.6092554034574031,
            -0.12594802920252657
           ],
           "z": [
            -0.04832719488949522,
            -0.08858126222054175
           ]
          },
          {
           "line": {
            "color": "red",
            "width": 5
           },
           "marker": {
            "color": "blue",
            "size": 2
           },
           "text": [
            "RAnkle"
           ],
           "type": "scatter3d",
           "x": [
            0.03695154147460622,
            -0.1381976149532278
           ],
           "y": [
            -1.0774636916046127,
            -0.6092554034574031
           ],
           "z": [
            -0.021688394068174688,
            -0.04832719488949522
           ]
          },
          {
           "line": {
            "color": "black",
            "width": 5
           },
           "marker": {
            "color": "blue",
            "size": 2
           },
           "text": [
            "LHip"
           ],
           "type": "scatter3d",
           "x": [
            -0.009515159748034296,
            1.177538768594701
           ],
           "y": [
            -0.13424865935346886,
            -0.27613280275759
           ],
           "z": [
            0.08711527764819138,
            -11.702753732158284
           ]
          },
          {
           "line": {
            "color": "black",
            "width": 5
           },
           "marker": {
            "color": "blue",
            "size": 2
           },
           "text": [
            "LKnee"
           ],
           "type": "scatter3d",
           "x": [
            -0.30645720812156396,
            -0.009515159748034296
           ],
           "y": [
            -0.48223290138733765,
            -0.13424865935346886
           ],
           "z": [
            0.22290792107279422,
            0.08711527764819138
           ]
          },
          {
           "line": {
            "color": "black",
            "width": 5
           },
           "marker": {
            "color": "blue",
            "size": 2
           },
           "text": [
            "LAnkle"
           ],
           "type": "scatter3d",
           "x": [
            0.08623636306390003,
            -0.30645720812156396
           ],
           "y": [
            -0.7786481090667714,
            -0.48223290138733765
           ],
           "z": [
            0.13714700462537266,
            0.22290792107279422
           ]
          },
          {
           "line": {
            "color": "black",
            "width": 5
           },
           "marker": {
            "color": "blue",
            "size": 2
           },
           "text": [
            "Spine1"
           ],
           "type": "scatter3d",
           "x": [
            -0.21984362038759853,
            1.177538768594701
           ],
           "y": [
            0.15309031096233983,
            -0.27613280275759
           ],
           "z": [
            0.032291771587438234,
            -11.702753732158284
           ]
          },
          {
           "line": {
            "color": "black",
            "width": 5
           },
           "marker": {
            "color": "blue",
            "size": 2
           },
           "text": [
            "Neck"
           ],
           "type": "scatter3d",
           "x": [
            -0.44783550631770785,
            -0.21984362038759853
           ],
           "y": [
            0.26439332966959306,
            0.15309031096233983
           ],
           "z": [
            0.05011485874516097,
            0.032291771587438234
           ]
          },
          {
           "line": {
            "color": "black",
            "width": 5
           },
           "marker": {
            "color": "blue",
            "size": 2
           },
           "text": [
            "Head"
           ],
           "type": "scatter3d",
           "x": [
            -0.5632320311152107,
            -0.44783550631770785
           ],
           "y": [
            0.28732290957770235,
            0.26439332966959306
           ],
           "z": [
            0.058032790493903974,
            0.05011485874516097
           ]
          },
          {
           "line": {
            "color": "black",
            "width": 5
           },
           "marker": {
            "color": "blue",
            "size": 2
           },
           "text": [
            "Site"
           ],
           "type": "scatter3d",
           "x": [
            -0.6810914168017035,
            -0.5632320311152107
           ],
           "y": [
            0.2926261341331411,
            0.28732290957770235
           ],
           "z": [
            0.05208085461361023,
            0.058032790493903974
           ]
          },
          {
           "line": {
            "color": "black",
            "width": 5
           },
           "marker": {
            "color": "blue",
            "size": 2
           },
           "text": [
            "LShoulder"
           ],
           "type": "scatter3d",
           "x": [
            -0.400458680238295,
            -0.44783550631770785
           ],
           "y": [
            0.2727012885447324,
            0.26439332966959306
           ],
           "z": [
            0.26082580003158107,
            0.05011485874516097
           ]
          },
          {
           "line": {
            "color": "black",
            "width": 5
           },
           "marker": {
            "color": "blue",
            "size": 2
           },
           "text": [
            "LElbow"
           ],
           "type": "scatter3d",
           "x": [
            -0.49286740246107386,
            -0.400458680238295
           ],
           "y": [
            -0.1743511693648676,
            0.2727012885447324
           ],
           "z": [
            0.25117435352576756,
            0.26082580003158107
           ]
          },
          {
           "line": {
            "color": "black",
            "width": 5
           },
           "marker": {
            "color": "blue",
            "size": 2
           },
           "text": [
            "LWrist"
           ],
           "type": "scatter3d",
           "x": [
            -0.5789005482586913,
            -0.49286740246107386
           ],
           "y": [
            -0.24072147828837465,
            -0.1743511693648676
           ],
           "z": [
            0.21022530389078042,
            0.25117435352576756
           ]
          },
          {
           "line": {
            "color": "red",
            "width": 5
           },
           "marker": {
            "color": "blue",
            "size": 2
           },
           "text": [
            "RShoulder"
           ],
           "type": "scatter3d",
           "x": [
            -0.41096402429669465,
            -0.44783550631770785
           ],
           "y": [
            0.28456182184119316,
            0.26439332966959306
           ],
           "z": [
            -0.17235026281147903,
            0.05011485874516097
           ]
          },
          {
           "line": {
            "color": "red",
            "width": 5
           },
           "marker": {
            "color": "blue",
            "size": 2
           },
           "text": [
            "RElbow"
           ],
           "type": "scatter3d",
           "x": [
            -0.7058435607485345,
            -0.41096402429669465
           ],
           "y": [
            -0.08899406375245578,
            0.28456182184119316
           ],
           "z": [
            -0.20082909369450697,
            -0.17235026281147903
           ]
          },
          {
           "line": {
            "color": "red",
            "width": 5
           },
           "marker": {
            "color": "blue",
            "size": 2
           },
           "text": [
            "RWrist"
           ],
           "type": "scatter3d",
           "x": [
            -0.8105435668810588,
            -0.7058435607485345
           ],
           "y": [
            -0.11501756005479602,
            -0.08899406375245578
           ],
           "z": [
            -0.1615721963126262,
            -0.20082909369450697
           ]
          },
          {
           "line": {
            "color": "#1f77b4",
            "width": 1
           },
           "marker": {
            "color": "#1f77b4",
            "size": 1
           },
           "type": "scatter3d",
           "x": [
            -0.10456789807196559,
            0.07519876859470122,
            0.4937387685947011,
            1.127338768594701,
            1.5346987685947013,
            1.5842921019280345,
            1.3928254352613678,
            1.1768121019280344,
            0.7025454352613678,
            0.5634387685947011,
            0.8725321019280343,
            1.3347321019280343,
            1.3049254352613677,
            1.1927054352613675,
            0.9764121019280343,
            1.160118768594701,
            1.4533787685947008,
            1.725698768594701,
            1.726798768594701,
            1.3951387685947012,
            0.5218254352613677,
            -0.023674564738632144,
            -0.26836789807196554,
            -0.3035612314052989,
            -0.2385212314052989,
            -0.19296789807196552,
            -0.11495456473863222,
            -0.043434564738632275,
            -0.2786812314052989,
            -0.3800678980719656,
            -0.32554123140529884,
            0.17044543526136782,
            0.9227921019280345,
            1.4903321019280347,
            1.495585435261368,
            1.2752187685947012,
            0.8086654352613678,
            0.6152054352613677,
            0.708898768594701
           ],
           "y": [
            -0.9363594694242567,
            -0.9168994694242565,
            -0.9295194694242566,
            -0.9334528027575899,
            -0.9425594694242567,
            -0.8539261360909234,
            -0.5647928027575899,
            -0.27810613609092316,
            -0.09269280275758995,
            -0.08301946942425675,
            -0.06881280275759005,
            -0.16405946942425653,
            -0.16121946942425658,
            -0.3059861360909233,
            -0.36855946942425666,
            -0.3208794694242565,
            -0.5929661360909233,
            -0.8983794694242566,
            -0.9128861360909233,
            -0.93739280275759,
            -0.9429728027575901,
            -0.9707661360909232,
            -1.5781301360909232,
            -1.0126394694242564,
            -0.9420794694242567,
            -0.9359861360909234,
            -1.5009401360909234,
            -1.30883280275759,
            -0.95333280275759,
            -1.6294674694242566,
            -0.9849261360909234,
            -0.9405394694242566,
            -0.9342794694242567,
            -0.9100661360909232,
            -0.7465061360909233,
            -0.41693946942425675,
            -0.11323280275758996,
            -0.10633280275758983,
            -0.07197946942425659
           ],
           "z": [
            -9.89050039882495,
            -9.781967065491616,
            -9.717387065491616,
            -10.231047065491616,
            -11.064395532158283,
            -11.62703239882495,
            -11.72928039882495,
            -11.640749732158284,
            -11.71298039882495,
            -11.67711439882495,
            -11.655715065491616,
            -11.733913732158284,
            -11.667425732158282,
            -11.71280039882495,
            -11.671505065491615,
            -11.601569065491617,
            -11.708547065491617,
            -11.585561732158283,
            -11.510019732158284,
            -10.847421065491616,
            -10.372922398824949,
            -10.329247065491616,
            -11.276871065491616,
            -11.827567065491616,
            -12.03726039882495,
            -11.878647065491617,
            -11.89806039882495,
            -12.074693732158282,
            -11.968067065491617,
            -11.184275732158284,
            -10.599509065491617,
            -10.35916039882495,
            -10.34108039882495,
            -10.99857139882495,
            -11.428777732158283,
            -11.678293065491616,
            -11.61573239882495,
            -11.643024398824949,
            -11.634589065491618
           ]
          }
         ],
         "name": "frame40"
        },
        {
         "data": [
          {
           "line": {
            "color": "red",
            "width": 5
           },
           "marker": {
            "color": "blue",
            "size": 2
           },
           "text": [
            "RHip"
           ],
           "type": "scatter3d",
           "x": [
            -0.025827644193574528,
            1.408458768594701
           ],
           "y": [
            -0.11781714353617057,
            -0.5782594694242567
           ],
           "z": [
            -0.10233239685276097,
            -11.583415065491616
           ]
          },
          {
           "line": {
            "color": "red",
            "width": 5
           },
           "marker": {
            "color": "blue",
            "size": 2
           },
           "text": [
            "RKnee"
           ],
           "type": "scatter3d",
           "x": [
            -0.3151730711617031,
            -0.025827644193574528
           ],
           "y": [
            -0.519184557209901,
            -0.11781714353617057
           ],
           "z": [
            -0.1305047766707812,
            -0.10233239685276097
           ]
          },
          {
           "line": {
            "color": "red",
            "width": 5
           },
           "marker": {
            "color": "blue",
            "size": 2
           },
           "text": [
            "RAnkle"
           ],
           "type": "scatter3d",
           "x": [
            0.09657352073692671,
            -0.3151730711617031
           ],
           "y": [
            -0.8035497742041626,
            -0.519184557209901
           ],
           "z": [
            -0.11611654467410482,
            -0.1305047766707812
           ]
          },
          {
           "line": {
            "color": "black",
            "width": 5
           },
           "marker": {
            "color": "blue",
            "size": 2
           },
           "text": [
            "LHip"
           ],
           "type": "scatter3d",
           "x": [
            -0.030197031781747485,
            1.408458768594701
           ],
           "y": [
            -0.13883067421634165,
            -0.5782594694242567
           ],
           "z": [
            0.0742731147264184,
            -11.583415065491616
           ]
          },
          {
           "line": {
            "color": "black",
            "width": 5
           },
           "marker": {
            "color": "blue",
            "size": 2
           },
           "text": [
            "LKnee"
           ],
           "type": "scatter3d",
           "x": [
            -0.14269842787505627,
            -0.030197031781747485
           ],
           "y": [
            -0.6025294432971136,
            -0.13883067421634165
           ],
           "z": [
            0.06842997905896198,
            0.0742731147264184
           ]
          },
          {
           "line": {
            "color": "black",
            "width": 5
           },
           "marker": {
            "color": "blue",
            "size": 2
           },
           "text": [
            "LAnkle"
           ],
           "type": "scatter3d",
           "x": [
            -0.03419287838566132,
            -0.14269842787505627
           ],
           "y": [
            -1.0882439074546453,
            -0.6025294432971136
           ],
           "z": [
            0.026798788563098697,
            0.06842997905896198
           ]
          },
          {
           "line": {
            "color": "black",
            "width": 5
           },
           "marker": {
            "color": "blue",
            "size": 2
           },
           "text": [
            "Spine1"
           ],
           "type": "scatter3d",
           "x": [
            -0.20413492159286806,
            1.408458768594701
           ],
           "y": [
            0.17492727190850577,
            -0.5782594694242567
           ],
           "z": [
            0.03281072720735345,
            -11.583415065491616
           ]
          },
          {
           "line": {
            "color": "black",
            "width": 5
           },
           "marker": {
            "color": "blue",
            "size": 2
           },
           "text": [
            "Neck"
           ],
           "type": "scatter3d",
           "x": [
            -0.40403675716696075,
            -0.20413492159286806
           ],
           "y": [
            0.3306363011303506,
            0.17492727190850577
           ],
           "z": [
            0.05511955828930226,
            0.03281072720735345
           ]
          },
          {
           "line": {
            "color": "black",
            "width": 5
           },
           "marker": {
            "color": "blue",
            "size": 2
           },
           "text": [
            "Head"
           ],
           "type": "scatter3d",
           "x": [
            -0.5139537931054835,
            -0.40403675716696075
           ],
           "y": [
            0.3696017860418286,
            0.3306363011303506
           ],
           "z": [
            0.07257674618952414,
            0.05511955828930226
           ]
          },
          {
           "line": {
            "color": "black",
            "width": 5
           },
           "marker": {
            "color": "blue",
            "size": 2
           },
           "text": [
            "Site"
           ],
           "type": "scatter3d",
           "x": [
            -0.6307841391680271,
            -0.5139537931054835
           ],
           "y": [
            0.38635480011393586,
            0.3696017860418286
           ],
           "z": [
            0.07751549949497694,
            0.07257674618952414
           ]
          },
          {
           "line": {
            "color": "black",
            "width": 5
           },
           "marker": {
            "color": "blue",
            "size": 2
           },
           "text": [
            "LShoulder"
           ],
           "type": "scatter3d",
           "x": [
            -0.3680121624166348,
            -0.40403675716696075
           ],
           "y": [
            0.3096634095315589,
            0.3306363011303506
           ],
           "z": [
            0.2655054008000377,
            0.05511955828930226
           ]
          },
          {
           "line": {
            "color": "black",
            "width": 5
           },
           "marker": {
            "color": "blue",
            "size": 2
           },
           "text": [
            "LElbow"
           ],
           "type": "scatter3d",
           "x": [
            -0.7000716737699243,
            -0.3680121624166348
           ],
           "y": [
            -0.07056468088158474,
            0.3096634095315589
           ],
           "z": [
            0.13898224824765393,
            0.2655054008000377
           ]
          },
          {
           "line": {
            "color": "black",
            "width": 5
           },
           "marker": {
            "color": "blue",
            "size": 2
           },
           "text": [
            "LWrist"
           ],
           "type": "scatter3d",
           "x": [
            -0.8044981133315082,
            -0.7000716737699243
           ],
           "y": [
            -0.10950414825814181,
            -0.07056468088158474
           ],
           "z": [
            0.10638805629010761,
            0.13898224824765393
           ]
          },
          {
           "line": {
            "color": "red",
            "width": 5
           },
           "marker": {
            "color": "blue",
            "size": 2
           },
           "text": [
            "RShoulder"
           ],
           "type": "scatter3d",
           "x": [
            -0.36290712394387215,
            -0.40403675716696075
           ],
           "y": [
            0.35091160498528273,
            0.3306363011303506
           ],
           "z": [
            -0.16596309269407428,
            0.05511955828930226
           ]
          },
          {
           "line": {
            "color": "red",
            "width": 5
           },
           "marker": {
            "color": "blue",
            "size": 2
           },
           "text": [
            "RElbow"
           ],
           "type": "scatter3d",
           "x": [
            -0.5116857187629978,
            -0.36290712394387215
           ],
           "y": [
            -0.11073412978039943,
            0.35091160498528273
           ],
           "z": [
            -0.2024244286114687,
            -0.16596309269407428
           ]
          },
          {
           "line": {
            "color": "red",
            "width": 5
           },
           "marker": {
            "color": "blue",
            "size": 2
           },
           "text": [
            "RWrist"
           ],
           "type": "scatter3d",
           "x": [
            -0.5965367267567663,
            -0.5116857187629978
           ],
           "y": [
            -0.17706418425385317,
            -0.11073412978039943
           ],
           "z": [
            -0.16266203492107145,
            -0.2024244286114687
           ]
          },
          {
           "line": {
            "color": "#1f77b4",
            "width": 1
           },
           "marker": {
            "color": "#1f77b4",
            "size": 1
           },
           "type": "scatter3d",
           "x": [
            -0.10456789807196559,
            0.07519876859470122,
            0.4937387685947011,
            1.127338768594701,
            1.5346987685947013,
            1.5842921019280345,
            1.3928254352613678,
            1.1768121019280344,
            0.7025454352613678,
            0.5634387685947011,
            0.8725321019280343,
            1.3347321019280343,
            1.3049254352613677,
            1.1927054352613675,
            0.9764121019280343,
            1.160118768594701,
            1.4533787685947008,
            1.725698768594701,
            1.726798768594701,
            1.3951387685947012,
            0.5218254352613677,
            -0.023674564738632144,
            -0.26836789807196554,
            -0.3035612314052989,
            -0.2385212314052989,
            -0.19296789807196552,
            -0.11495456473863222,
            -0.043434564738632275,
            -0.2786812314052989,
            -0.3800678980719656,
            -0.32554123140529884,
            0.17044543526136782,
            0.9227921019280345,
            1.4903321019280347,
            1.495585435261368,
            1.2752187685947012,
            0.8086654352613678,
            0.6152054352613677,
            0.708898768594701,
            1.177538768594701
           ],
           "y": [
            -0.9363594694242567,
            -0.9168994694242565,
            -0.9295194694242566,
            -0.9334528027575899,
            -0.9425594694242567,
            -0.8539261360909234,
            -0.5647928027575899,
            -0.27810613609092316,
            -0.09269280275758995,
            -0.08301946942425675,
            -0.06881280275759005,
            -0.16405946942425653,
            -0.16121946942425658,
            -0.3059861360909233,
            -0.36855946942425666,
            -0.3208794694242565,
            -0.5929661360909233,
            -0.8983794694242566,
            -0.9128861360909233,
            -0.93739280275759,
            -0.9429728027575901,
            -0.9707661360909232,
            -1.5781301360909232,
            -1.0126394694242564,
            -0.9420794694242567,
            -0.9359861360909234,
            -1.5009401360909234,
            -1.30883280275759,
            -0.95333280275759,
            -1.6294674694242566,
            -0.9849261360909234,
            -0.9405394694242566,
            -0.9342794694242567,
            -0.9100661360909232,
            -0.7465061360909233,
            -0.41693946942425675,
            -0.11323280275758996,
            -0.10633280275758983,
            -0.07197946942425659,
            -0.27613280275759
           ],
           "z": [
            -9.89050039882495,
            -9.781967065491616,
            -9.717387065491616,
            -10.231047065491616,
            -11.064395532158283,
            -11.62703239882495,
            -11.72928039882495,
            -11.640749732158284,
            -11.71298039882495,
            -11.67711439882495,
            -11.655715065491616,
            -11.733913732158284,
            -11.667425732158282,
            -11.71280039882495,
            -11.671505065491615,
            -11.601569065491617,
            -11.708547065491617,
            -11.585561732158283,
            -11.510019732158284,
            -10.847421065491616,
            -10.372922398824949,
            -10.329247065491616,
            -11.276871065491616,
            -11.827567065491616,
            -12.03726039882495,
            -11.878647065491617,
            -11.89806039882495,
            -12.074693732158282,
            -11.968067065491617,
            -11.184275732158284,
            -10.599509065491617,
            -10.35916039882495,
            -10.34108039882495,
            -10.99857139882495,
            -11.428777732158283,
            -11.678293065491616,
            -11.61573239882495,
            -11.643024398824949,
            -11.634589065491618,
            -11.702753732158284
           ]
          }
         ],
         "name": "frame41"
        },
        {
         "data": [
          {
           "line": {
            "color": "red",
            "width": 5
           },
           "marker": {
            "color": "blue",
            "size": 2
           },
           "text": [
            "RHip"
           ],
           "type": "scatter3d",
           "x": [
            -0.09195693824331763,
            1.6501054352613678
           ],
           "y": [
            -0.10893527597471331,
            -0.8869594694242566
           ],
           "z": [
            -0.06853388299572138,
            -11.721647065491617
           ]
          },
          {
           "line": {
            "color": "red",
            "width": 5
           },
           "marker": {
            "color": "blue",
            "size": 2
           },
           "text": [
            "RKnee"
           ],
           "type": "scatter3d",
           "x": [
            -0.05235539996360217,
            -0.09195693824331763
           ],
           "y": [
            -0.602331478460256,
            -0.10893527597471331
           ],
           "z": [
            -0.0439948245409969,
            -0.06853388299572138
           ]
          },
          {
           "line": {
            "color": "red",
            "width": 5
           },
           "marker": {
            "color": "blue",
            "size": 2
           },
           "text": [
            "RAnkle"
           ],
           "type": "scatter3d",
           "x": [
            0.07589850700384115,
            -0.05235539996360217
           ],
           "y": [
            -1.0861817265787819,
            -0.602331478460256
           ],
           "z": [
            -0.05075696470131241,
            -0.0439948245409969
           ]
          },
          {
           "line": {
            "color": "black",
            "width": 5
           },
           "marker": {
            "color": "blue",
            "size": 2
           },
           "text": [
            "LHip"
           ],
           "type": "scatter3d",
           "x": [
            -0.018645929695879193,
            1.6501054352613678
           ],
           "y": [
            -0.12981241206065008,
            -0.8869594694242566
           ],
           "z": [
            0.09221377003315823,
            -11.721647065491617
           ]
          },
          {
           "line": {
            "color": "black",
            "width": 5
           },
           "marker": {
            "color": "blue",
            "size": 2
           },
           "text": [
            "LKnee"
           ],
           "type": "scatter3d",
           "x": [
            -0.2712353099304796,
            -0.018645929695879193
           ],
           "y": [
            -0.4469248536334427,
            -0.12981241206065008
           ],
           "z": [
            0.34389920703108423,
            0.09221377003315823
           ]
          },
          {
           "line": {
            "color": "black",
            "width": 5
           },
           "marker": {
            "color": "blue",
            "size": 2
           },
           "text": [
            "LAnkle"
           ],
           "type": "scatter3d",
           "x": [
            0.03528152454806843,
            -0.2712353099304796
           ],
           "y": [
            -0.7854902534140209,
            -0.4469248536334427
           ],
           "z": [
            0.14179514661515924,
            0.34389920703108423
           ]
          },
          {
           "line": {
            "color": "black",
            "width": 5
           },
           "marker": {
            "color": "blue",
            "size": 2
           },
           "text": [
            "Spine1"
           ],
           "type": "scatter3d",
           "x": [
            -0.09546355418010144,
            1.6501054352613678
           ],
           "y": [
            0.25372823923405985,
            -0.8869594694242566
           ],
           "z": [
            0.022440507917512065,
            -11.721647065491617
           ]
          },
          {
           "line": {
            "color": "black",
            "width": 5
           },
           "marker": {
            "color": "blue",
            "size": 2
           },
           "text": [
            "Neck"
           ],
           "type": "scatter3d",
           "x": [
            -0.18216288267890746,
            -0.09546355418010144
           ],
           "y": [
            0.4926421807853323,
            0.25372823923405985
           ],
           "z": [
            0.03484966874066231,
            0.022440507917512065
           ]
          },
          {
           "line": {
            "color": "black",
            "width": 5
           },
           "marker": {
            "color": "blue",
            "size": 2
           },
           "text": [
            "Head"
           ],
           "type": "scatter3d",
           "x": [
            -0.2245459290954721,
            -0.18216288267890746
           ],
           "y": [
            0.5945715648859062,
            0.4926421807853323
           ],
           "z": [
            0.07630923032312253,
            0.03484966874066231
           ]
          },
          {
           "line": {
            "color": "black",
            "width": 5
           },
           "marker": {
            "color": "blue",
            "size": 2
           },
           "text": [
            "Site"
           ],
           "type": "scatter3d",
           "x": [
            -0.28185717558946366,
            -0.2245459290954721
           ],
           "y": [
            0.6821865306126087,
            0.5945715648859062
           ],
           "z": [
            0.13102141664225542,
            0.07630923032312253
           ]
          },
          {
           "line": {
            "color": "black",
            "width": 5
           },
           "marker": {
            "color": "blue",
            "size": 2
           },
           "text": [
            "LShoulder"
           ],
           "type": "scatter3d",
           "x": [
            -0.023659408763292644,
            -0.18216288267890746
           ],
           "y": [
            0.5087634870233277,
            0.4926421807853323
           ],
           "z": [
            0.19260976203241853,
            0.03484966874066231
           ]
          },
          {
           "line": {
            "color": "black",
            "width": 5
           },
           "marker": {
            "color": "blue",
            "size": 2
           },
           "text": [
            "LElbow"
           ],
           "type": "scatter3d",
           "x": [
            0.1619963224444667,
            -0.023659408763292644
           ],
           "y": [
            0.02837856545655426,
            0.5087634870233277
           ],
           "z": [
            0.347662955835208,
            0.19260976203241853
           ]
          },
          {
           "line": {
            "color": "black",
            "width": 5
           },
           "marker": {
            "color": "blue",
            "size": 2
           },
           "text": [
            "LWrist"
           ],
           "type": "scatter3d",
           "x": [
            0.17754601634371037,
            0.1619963224444667
           ],
           "y": [
            -0.06516137922618692,
            0.02837856545655426
           ],
           "z": [
            0.41468556781679133,
            0.347662955835208
           ]
          },
          {
           "line": {
            "color": "red",
            "width": 5
           },
           "marker": {
            "color": "blue",
            "size": 2
           },
           "text": [
            "RShoulder"
           ],
           "type": "scatter3d",
           "x": [
            -0.2896620837628783,
            -0.18216288267890746
           ],
           "y": [
            0.4308620534132426,
            0.4926421807853323
           ],
           "z": [
            -0.14065661709790156,
            0.03484966874066231
           ]
          },
          {
           "line": {
            "color": "red",
            "width": 5
           },
           "marker": {
            "color": "blue",
            "size": 2
           },
           "text": [
            "RElbow"
           ],
           "type": "scatter3d",
           "x": [
            -0.6868869022745504,
            -0.2896620837628783
           ],
           "y": [
            0.03307831861842381,
            0.4308620534132426
           ],
           "z": [
            -0.05655095460631365,
            -0.14065661709790156
           ]
          },
          {
           "line": {
            "color": "red",
            "width": 5
           },
           "marker": {
            "color": "blue",
            "size": 2
           },
           "text": [
            "RWrist"
           ],
           "type": "scatter3d",
           "x": [
            -0.78179500164057,
            -0.6868869022745504
           ],
           "y": [
            -0.026123939552583852,
            0.03307831861842381
           ],
           "z": [
            -0.03070597563199229,
            -0.05655095460631365
           ]
          },
          {
           "line": {
            "color": "#1f77b4",
            "width": 1
           },
           "marker": {
            "color": "#1f77b4",
            "size": 1
           },
           "type": "scatter3d",
           "x": [
            -0.10456789807196559,
            0.07519876859470122,
            0.4937387685947011,
            1.127338768594701,
            1.5346987685947013,
            1.5842921019280345,
            1.3928254352613678,
            1.1768121019280344,
            0.7025454352613678,
            0.5634387685947011,
            0.8725321019280343,
            1.3347321019280343,
            1.3049254352613677,
            1.1927054352613675,
            0.9764121019280343,
            1.160118768594701,
            1.4533787685947008,
            1.725698768594701,
            1.726798768594701,
            1.3951387685947012,
            0.5218254352613677,
            -0.023674564738632144,
            -0.26836789807196554,
            -0.3035612314052989,
            -0.2385212314052989,
            -0.19296789807196552,
            -0.11495456473863222,
            -0.043434564738632275,
            -0.2786812314052989,
            -0.3800678980719656,
            -0.32554123140529884,
            0.17044543526136782,
            0.9227921019280345,
            1.4903321019280347,
            1.495585435261368,
            1.2752187685947012,
            0.8086654352613678,
            0.6152054352613677,
            0.708898768594701,
            1.177538768594701,
            1.408458768594701
           ],
           "y": [
            -0.9363594694242567,
            -0.9168994694242565,
            -0.9295194694242566,
            -0.9334528027575899,
            -0.9425594694242567,
            -0.8539261360909234,
            -0.5647928027575899,
            -0.27810613609092316,
            -0.09269280275758995,
            -0.08301946942425675,
            -0.06881280275759005,
            -0.16405946942425653,
            -0.16121946942425658,
            -0.3059861360909233,
            -0.36855946942425666,
            -0.3208794694242565,
            -0.5929661360909233,
            -0.8983794694242566,
            -0.9128861360909233,
            -0.93739280275759,
            -0.9429728027575901,
            -0.9707661360909232,
            -1.5781301360909232,
            -1.0126394694242564,
            -0.9420794694242567,
            -0.9359861360909234,
            -1.5009401360909234,
            -1.30883280275759,
            -0.95333280275759,
            -1.6294674694242566,
            -0.9849261360909234,
            -0.9405394694242566,
            -0.9342794694242567,
            -0.9100661360909232,
            -0.7465061360909233,
            -0.41693946942425675,
            -0.11323280275758996,
            -0.10633280275758983,
            -0.07197946942425659,
            -0.27613280275759,
            -0.5782594694242567
           ],
           "z": [
            -9.89050039882495,
            -9.781967065491616,
            -9.717387065491616,
            -10.231047065491616,
            -11.064395532158283,
            -11.62703239882495,
            -11.72928039882495,
            -11.640749732158284,
            -11.71298039882495,
            -11.67711439882495,
            -11.655715065491616,
            -11.733913732158284,
            -11.667425732158282,
            -11.71280039882495,
            -11.671505065491615,
            -11.601569065491617,
            -11.708547065491617,
            -11.585561732158283,
            -11.510019732158284,
            -10.847421065491616,
            -10.372922398824949,
            -10.329247065491616,
            -11.276871065491616,
            -11.827567065491616,
            -12.03726039882495,
            -11.878647065491617,
            -11.89806039882495,
            -12.074693732158282,
            -11.968067065491617,
            -11.184275732158284,
            -10.599509065491617,
            -10.35916039882495,
            -10.34108039882495,
            -10.99857139882495,
            -11.428777732158283,
            -11.678293065491616,
            -11.61573239882495,
            -11.643024398824949,
            -11.634589065491618,
            -11.702753732158284,
            -11.583415065491616
           ]
          }
         ],
         "name": "frame42"
        },
        {
         "data": [
          {
           "line": {
            "color": "red",
            "width": 5
           },
           "marker": {
            "color": "blue",
            "size": 2
           },
           "text": [
            "RHip"
           ],
           "type": "scatter3d",
           "x": [
            -0.0906785845430742,
            1.6142187685947011
           ],
           "y": [
            -0.12776401242794155,
            -0.8868861360909233
           ],
           "z": [
            0.021762752464265844,
            -11.21589039882495
           ]
          },
          {
           "line": {
            "color": "red",
            "width": 5
           },
           "marker": {
            "color": "blue",
            "size": 2
           },
           "text": [
            "RKnee"
           ],
           "type": "scatter3d",
           "x": [
            -0.17659025606891232,
            -0.0906785845430742
           ],
           "y": [
            -0.5716665205050633,
            -0.12776401242794155
           ],
           "z": [
            0.22469133071187564,
            0.021762752464265844
           ]
          },
          {
           "line": {
            "color": "red",
            "width": 5
           },
           "marker": {
            "color": "blue",
            "size": 2
           },
           "text": [
            "RAnkle"
           ],
           "type": "scatter3d",
           "x": [
            -0.010160003241666438,
            -0.17659025606891232
           ],
           "y": [
            -0.7572646305210042,
            -0.5716665205050633
           ],
           "z": [
            -0.209428659957398,
            0.22469133071187564
           ]
          },
          {
           "line": {
            "color": "black",
            "width": 5
           },
           "marker": {
            "color": "blue",
            "size": 2
           },
           "text": [
            "LHip"
           ],
           "type": "scatter3d",
           "x": [
            0.07191398585035813,
            1.6142187685947011
           ],
           "y": [
            -0.11004714073113453,
            -0.8868861360909233
           ],
           "z": [
            0.09176228996146563,
            -11.21589039882495
           ]
          },
          {
           "line": {
            "color": "black",
            "width": 5
           },
           "marker": {
            "color": "blue",
            "size": 2
           },
           "text": [
            "LKnee"
           ],
           "type": "scatter3d",
           "x": [
            0.09269087397324594,
            0.07191398585035813
           ],
           "y": [
            -0.5862996858940963,
            -0.11004714073113453
           ],
           "z": [
            0.07033592885826145,
            0.09176228996146563
           ]
          },
          {
           "line": {
            "color": "black",
            "width": 5
           },
           "marker": {
            "color": "blue",
            "size": 2
           },
           "text": [
            "LAnkle"
           ],
           "type": "scatter3d",
           "x": [
            0.11443601303513029,
            0.09269087397324594
           ],
           "y": [
            -1.0847466988390595,
            -0.5862996858940963
           ],
           "z": [
            0.047911049876210754,
            0.07033592885826145
           ]
          },
          {
           "line": {
            "color": "black",
            "width": 5
           },
           "marker": {
            "color": "blue",
            "size": 2
           },
           "text": [
            "Spine1"
           ],
           "type": "scatter3d",
           "x": [
            -0.011919812674173969,
            1.6142187685947011
           ],
           "y": [
            0.26520129789282487,
            -0.8868861360909233
           ],
           "z": [
            0.06165607694397046,
            -11.21589039882495
           ]
          },
          {
           "line": {
            "color": "black",
            "width": 5
           },
           "marker": {
            "color": "blue",
            "size": 2
           },
           "text": [
            "Neck"
           ],
           "type": "scatter3d",
           "x": [
            -0.02589355725792508,
            -0.011919812674173969
           ],
           "y": [
            0.5105560195268224,
            0.26520129789282487
           ],
           "z": [
            0.1253067245637851,
            0.06165607694397046
           ]
          },
          {
           "line": {
            "color": "black",
            "width": 5
           },
           "marker": {
            "color": "blue",
            "size": 2
           },
           "text": [
            "Head"
           ],
           "type": "scatter3d",
           "x": [
            -0.021907932690830023,
            -0.02589355725792508
           ],
           "y": [
            0.6273380689153087,
            0.5105560195268224
           ],
           "z": [
            0.1411460727421705,
            0.1253067245637851
           ]
          },
          {
           "line": {
            "color": "black",
            "width": 5
           },
           "marker": {
            "color": "blue",
            "size": 2
           },
           "text": [
            "Site"
           ],
           "type": "scatter3d",
           "x": [
            -0.03317687050731166,
            -0.021907932690830023
           ],
           "y": [
            0.7446026035096116,
            0.6273380689153087
           ],
           "z": [
            0.14988818305237572,
            0.1411460727421705
           ]
          },
          {
           "line": {
            "color": "black",
            "width": 5
           },
           "marker": {
            "color": "blue",
            "size": 2
           },
           "text": [
            "LShoulder"
           ],
           "type": "scatter3d",
           "x": [
            0.17219328165210568,
            -0.02589355725792508
           ],
           "y": [
            0.48721378518457215,
            0.5105560195268224
           ],
           "z": [
            0.18802542427206603,
            0.1253067245637851
           ]
          },
          {
           "line": {
            "color": "black",
            "width": 5
           },
           "marker": {
            "color": "blue",
            "size": 2
           },
           "text": [
            "LElbow"
           ],
           "type": "scatter3d",
           "x": [
            0.35418060452030553,
            0.17219328165210568
           ],
           "y": [
            -0.0320898923972861,
            0.48721378518457215
           ],
           "z": [
            0.26767504258147135,
            0.18802542427206603
           ]
          },
          {
           "line": {
            "color": "black",
            "width": 5
           },
           "marker": {
            "color": "blue",
            "size": 2
           },
           "text": [
            "LWrist"
           ],
           "type": "scatter3d",
           "x": [
            0.3965830895195219,
            0.35418060452030553
           ],
           "y": [
            -0.13291030030418294,
            -0.0320898923972861
           ],
           "z": [
            0.30667272666428147,
            0.26767504258147135
           ]
          },
          {
           "line": {
            "color": "red",
            "width": 5
           },
           "marker": {
            "color": "blue",
            "size": 2
           },
           "text": [
            "RShoulder"
           ],
           "type": "scatter3d",
           "x": [
            -0.2102953412687938,
            -0.02589355725792508
           ],
           "y": [
            0.48952424576514897,
            0.5105560195268224
           ],
           "z": [
            -0.015909984698655677,
            0.1253067245637851
           ]
          },
          {
           "line": {
            "color": "red",
            "width": 5
           },
           "marker": {
            "color": "blue",
            "size": 2
           },
           "text": [
            "RElbow"
           ],
           "type": "scatter3d",
           "x": [
            -0.26712066992948325,
            -0.2102953412687938
           ],
           "y": [
            -0.04325616525780185,
            0.48952424576514897
           ],
           "z": [
            -0.17750088004798315,
            -0.015909984698655677
           ]
          },
          {
           "line": {
            "color": "red",
            "width": 5
           },
           "marker": {
            "color": "blue",
            "size": 2
           },
           "text": [
            "RWrist"
           ],
           "type": "scatter3d",
           "x": [
            -0.30866170626832345,
            -0.26712066992948325
           ],
           "y": [
            -0.1496226576018156,
            -0.04325616525780185
           ],
           "z": [
            -0.18937224232558414,
            -0.17750088004798315
           ]
          },
          {
           "line": {
            "color": "#1f77b4",
            "width": 1
           },
           "marker": {
            "color": "#1f77b4",
            "size": 1
           },
           "type": "scatter3d",
           "x": [
            -0.10456789807196559,
            0.07519876859470122,
            0.4937387685947011,
            1.127338768594701,
            1.5346987685947013,
            1.5842921019280345,
            1.3928254352613678,
            1.1768121019280344,
            0.7025454352613678,
            0.5634387685947011,
            0.8725321019280343,
            1.3347321019280343,
            1.3049254352613677,
            1.1927054352613675,
            0.9764121019280343,
            1.160118768594701,
            1.4533787685947008,
            1.725698768594701,
            1.726798768594701,
            1.3951387685947012,
            0.5218254352613677,
            -0.023674564738632144,
            -0.26836789807196554,
            -0.3035612314052989,
            -0.2385212314052989,
            -0.19296789807196552,
            -0.11495456473863222,
            -0.043434564738632275,
            -0.2786812314052989,
            -0.3800678980719656,
            -0.32554123140529884,
            0.17044543526136782,
            0.9227921019280345,
            1.4903321019280347,
            1.495585435261368,
            1.2752187685947012,
            0.8086654352613678,
            0.6152054352613677,
            0.708898768594701,
            1.177538768594701,
            1.408458768594701,
            1.6501054352613678
           ],
           "y": [
            -0.9363594694242567,
            -0.9168994694242565,
            -0.9295194694242566,
            -0.9334528027575899,
            -0.9425594694242567,
            -0.8539261360909234,
            -0.5647928027575899,
            -0.27810613609092316,
            -0.09269280275758995,
            -0.08301946942425675,
            -0.06881280275759005,
            -0.16405946942425653,
            -0.16121946942425658,
            -0.3059861360909233,
            -0.36855946942425666,
            -0.3208794694242565,
            -0.5929661360909233,
            -0.8983794694242566,
            -0.9128861360909233,
            -0.93739280275759,
            -0.9429728027575901,
            -0.9707661360909232,
            -1.5781301360909232,
            -1.0126394694242564,
            -0.9420794694242567,
            -0.9359861360909234,
            -1.5009401360909234,
            -1.30883280275759,
            -0.95333280275759,
            -1.6294674694242566,
            -0.9849261360909234,
            -0.9405394694242566,
            -0.9342794694242567,
            -0.9100661360909232,
            -0.7465061360909233,
            -0.41693946942425675,
            -0.11323280275758996,
            -0.10633280275758983,
            -0.07197946942425659,
            -0.27613280275759,
            -0.5782594694242567,
            -0.8869594694242566
           ],
           "z": [
            -9.89050039882495,
            -9.781967065491616,
            -9.717387065491616,
            -10.231047065491616,
            -11.064395532158283,
            -11.62703239882495,
            -11.72928039882495,
            -11.640749732158284,
            -11.71298039882495,
            -11.67711439882495,
            -11.655715065491616,
            -11.733913732158284,
            -11.667425732158282,
            -11.71280039882495,
            -11.671505065491615,
            -11.601569065491617,
            -11.708547065491617,
            -11.585561732158283,
            -11.510019732158284,
            -10.847421065491616,
            -10.372922398824949,
            -10.329247065491616,
            -11.276871065491616,
            -11.827567065491616,
            -12.03726039882495,
            -11.878647065491617,
            -11.89806039882495,
            -12.074693732158282,
            -11.968067065491617,
            -11.184275732158284,
            -10.599509065491617,
            -10.35916039882495,
            -10.34108039882495,
            -10.99857139882495,
            -11.428777732158283,
            -11.678293065491616,
            -11.61573239882495,
            -11.643024398824949,
            -11.634589065491618,
            -11.702753732158284,
            -11.583415065491616,
            -11.721647065491617
           ]
          }
         ],
         "name": "frame43"
        },
        {
         "data": [
          {
           "line": {
            "color": "red",
            "width": 5
           },
           "marker": {
            "color": "blue",
            "size": 2
           },
           "text": [
            "RHip"
           ],
           "type": "scatter3d",
           "x": [
            -0.09474527155550327,
            1.0998054352613678
           ],
           "y": [
            -0.11170844193821394,
            -0.9211394694242567
           ],
           "z": [
            -0.059702792889899214,
            -10.44420839882495
           ]
          },
          {
           "line": {
            "color": "red",
            "width": 5
           },
           "marker": {
            "color": "blue",
            "size": 2
           },
           "text": [
            "RKnee"
           ],
           "type": "scatter3d",
           "x": [
            -0.04074962808520799,
            -0.09474527155550327
           ],
           "y": [
            -0.5971732678805146,
            -0.11170844193821394
           ],
           "z": [
            0.02407448989105454,
            -0.059702792889899214
           ]
          },
          {
           "line": {
            "color": "red",
            "width": 5
           },
           "marker": {
            "color": "blue",
            "size": 2
           },
           "text": [
            "RAnkle"
           ],
           "type": "scatter3d",
           "x": [
            0.15225280125117147,
            -0.04074962808520799
           ],
           "y": [
            -1.0590324293242568,
            -0.5971732678805146
           ],
           "z": [
            0.030557626250848458,
            0.02407448989105454
           ]
          },
          {
           "line": {
            "color": "black",
            "width": 5
           },
           "marker": {
            "color": "blue",
            "size": 2
           },
           "text": [
            "LHip"
           ],
           "type": "scatter3d",
           "x": [
            -0.013787489945241704,
            1.0998054352613678
           ],
           "y": [
            -0.1260802619613286,
            -0.9211394694242567
           ],
           "z": [
            0.09806112923951105,
            -10.44420839882495
           ]
          },
          {
           "line": {
            "color": "black",
            "width": 5
           },
           "marker": {
            "color": "blue",
            "size": 2
           },
           "text": [
            "LKnee"
           ],
           "type": "scatter3d",
           "x": [
            -0.14195746296370493,
            -0.013787489945241704
           ],
           "y": [
            -0.5566229568894661,
            -0.1260802619613286
           ],
           "z": [
            0.2590353528433482,
            0.09806112923951105
           ]
          },
          {
           "line": {
            "color": "black",
            "width": 5
           },
           "marker": {
            "color": "blue",
            "size": 2
           },
           "text": [
            "LAnkle"
           ],
           "type": "scatter3d",
           "x": [
            0.1604388599464448,
            -0.14195746296370493
           ],
           "y": [
            -0.9390927357958483,
            -0.5566229568894661
           ],
           "z": [
            0.15087582669026212,
            0.2590353528433482
           ]
          },
          {
           "line": {
            "color": "black",
            "width": 5
           },
           "marker": {
            "color": "blue",
            "size": 2
           },
           "text": [
            "Spine1"
           ],
           "type": "scatter3d",
           "x": [
            -0.03269951970018248,
            1.0998054352613678
           ],
           "y": [
            0.26986948230015884,
            -0.9211394694242567
           ],
           "z": [
            0.02171725566738658,
            -10.44420839882495
           ]
          },
          {
           "line": {
            "color": "black",
            "width": 5
           },
           "marker": {
            "color": "blue",
            "size": 2
           },
           "text": [
            "Neck"
           ],
           "type": "scatter3d",
           "x": [
            -0.05038360873164471,
            -0.03269951970018248
           ],
           "y": [
            0.5213177392831647,
            0.26986948230015884
           ],
           "z": [
            0.05528207394299223,
            0.02171725566738658
           ]
          },
          {
           "line": {
            "color": "black",
            "width": 5
           },
           "marker": {
            "color": "blue",
            "size": 2
           },
           "text": [
            "Head"
           ],
           "type": "scatter3d",
           "x": [
            -0.04253087883460149,
            -0.05038360873164471
           ],
           "y": [
            0.6389336495029077,
            0.5213177392831647
           ],
           "z": [
            0.058388439926954305,
            0.05528207394299223
           ]
          },
          {
           "line": {
            "color": "black",
            "width": 5
           },
           "marker": {
            "color": "blue",
            "size": 2
           },
           "text": [
            "Site"
           ],
           "type": "scatter3d",
           "x": [
            -0.04685696453894583,
            -0.04253087883460149
           ],
           "y": [
            0.7567606937509628,
            0.6389336495029077
           ],
           "z": [
            0.051145708946757296,
            0.058388439926954305
           ]
          },
          {
           "line": {
            "color": "black",
            "width": 5
           },
           "marker": {
            "color": "blue",
            "size": 2
           },
           "text": [
            "LShoulder"
           ],
           "type": "scatter3d",
           "x": [
            0.09731274831736791,
            -0.05038360873164471
           ],
           "y": [
            0.48987401014915477,
            0.5213177392831647
           ],
           "z": [
            0.20570422762699891,
            0.05528207394299223
           ]
          },
          {
           "line": {
            "color": "black",
            "width": 5
           },
           "marker": {
            "color": "blue",
            "size": 2
           },
           "text": [
            "LElbow"
           ],
           "type": "scatter3d",
           "x": [
            0.17879136130713924,
            0.09731274831736791
           ],
           "y": [
            -0.05578789410283891,
            0.48987401014915477
           ],
           "z": [
            0.20488183431402618,
            0.20570422762699891
           ]
          },
          {
           "line": {
            "color": "black",
            "width": 5
           },
           "marker": {
            "color": "blue",
            "size": 2
           },
           "text": [
            "LWrist"
           ],
           "type": "scatter3d",
           "x": [
            0.1829477730641591,
            0.17879136130713924
           ],
           "y": [
            -0.16881372403123995,
            -0.05578789410283891
           ],
           "z": [
            0.23117690531120516,
            0.20488183431402618
           ]
          },
          {
           "line": {
            "color": "red",
            "width": 5
           },
           "marker": {
            "color": "blue",
            "size": 2
           },
           "text": [
            "RShoulder"
           ],
           "type": "scatter3d",
           "x": [
            -0.16412198825295865,
            -0.05038360873164471
           ],
           "y": [
            0.49852948994628243,
            0.5213177392831647
           ],
           "z": [
            -0.1399393707629617,
            0.05528207394299223
           ]
          },
          {
           "line": {
            "color": "red",
            "width": 5
           },
           "marker": {
            "color": "blue",
            "size": 2
           },
           "text": [
            "RElbow"
           ],
           "type": "scatter3d",
           "x": [
            -0.31235278274877265,
            -0.16412198825295865
           ],
           "y": [
            -0.0062464368145107585,
            0.49852948994628243
           ],
           "z": [
            -0.10958772021332663,
            -0.1399393707629617
           ]
          },
          {
           "line": {
            "color": "red",
            "width": 5
           },
           "marker": {
            "color": "blue",
            "size": 2
           },
           "text": [
            "RWrist"
           ],
           "type": "scatter3d",
           "x": [
            -0.38741403997147705,
            -0.31235278274877265
           ],
           "y": [
            -0.0851843508445933,
            -0.0062464368145107585
           ],
           "z": [
            -0.0733243636570684,
            -0.10958772021332663
           ]
          },
          {
           "line": {
            "color": "#1f77b4",
            "width": 1
           },
           "marker": {
            "color": "#1f77b4",
            "size": 1
           },
           "type": "scatter3d",
           "x": [
            -0.10456789807196559,
            0.07519876859470122,
            0.4937387685947011,
            1.127338768594701,
            1.5346987685947013,
            1.5842921019280345,
            1.3928254352613678,
            1.1768121019280344,
            0.7025454352613678,
            0.5634387685947011,
            0.8725321019280343,
            1.3347321019280343,
            1.3049254352613677,
            1.1927054352613675,
            0.9764121019280343,
            1.160118768594701,
            1.4533787685947008,
            1.725698768594701,
            1.726798768594701,
            1.3951387685947012,
            0.5218254352613677,
            -0.023674564738632144,
            -0.26836789807196554,
            -0.3035612314052989,
            -0.2385212314052989,
            -0.19296789807196552,
            -0.11495456473863222,
            -0.043434564738632275,
            -0.2786812314052989,
            -0.3800678980719656,
            -0.32554123140529884,
            0.17044543526136782,
            0.9227921019280345,
            1.4903321019280347,
            1.495585435261368,
            1.2752187685947012,
            0.8086654352613678,
            0.6152054352613677,
            0.708898768594701,
            1.177538768594701,
            1.408458768594701,
            1.6501054352613678,
            1.6142187685947011
           ],
           "y": [
            -0.9363594694242567,
            -0.9168994694242565,
            -0.9295194694242566,
            -0.9334528027575899,
            -0.9425594694242567,
            -0.8539261360909234,
            -0.5647928027575899,
            -0.27810613609092316,
            -0.09269280275758995,
            -0.08301946942425675,
            -0.06881280275759005,
            -0.16405946942425653,
            -0.16121946942425658,
            -0.3059861360909233,
            -0.36855946942425666,
            -0.3208794694242565,
            -0.5929661360909233,
            -0.8983794694242566,
            -0.9128861360909233,
            -0.93739280275759,
            -0.9429728027575901,
            -0.9707661360909232,
            -1.5781301360909232,
            -1.0126394694242564,
            -0.9420794694242567,
            -0.9359861360909234,
            -1.5009401360909234,
            -1.30883280275759,
            -0.95333280275759,
            -1.6294674694242566,
            -0.9849261360909234,
            -0.9405394694242566,
            -0.9342794694242567,
            -0.9100661360909232,
            -0.7465061360909233,
            -0.41693946942425675,
            -0.11323280275758996,
            -0.10633280275758983,
            -0.07197946942425659,
            -0.27613280275759,
            -0.5782594694242567,
            -0.8869594694242566,
            -0.8868861360909233
           ],
           "z": [
            -9.89050039882495,
            -9.781967065491616,
            -9.717387065491616,
            -10.231047065491616,
            -11.064395532158283,
            -11.62703239882495,
            -11.72928039882495,
            -11.640749732158284,
            -11.71298039882495,
            -11.67711439882495,
            -11.655715065491616,
            -11.733913732158284,
            -11.667425732158282,
            -11.71280039882495,
            -11.671505065491615,
            -11.601569065491617,
            -11.708547065491617,
            -11.585561732158283,
            -11.510019732158284,
            -10.847421065491616,
            -10.372922398824949,
            -10.329247065491616,
            -11.276871065491616,
            -11.827567065491616,
            -12.03726039882495,
            -11.878647065491617,
            -11.89806039882495,
            -12.074693732158282,
            -11.968067065491617,
            -11.184275732158284,
            -10.599509065491617,
            -10.35916039882495,
            -10.34108039882495,
            -10.99857139882495,
            -11.428777732158283,
            -11.678293065491616,
            -11.61573239882495,
            -11.643024398824949,
            -11.634589065491618,
            -11.702753732158284,
            -11.583415065491616,
            -11.721647065491617,
            -11.21589039882495
           ]
          }
         ],
         "name": "frame44"
        }
       ],
       "layout": {
        "autosize": false,
        "height": 700,
        "scene": {
         "aspectratio": {
          "x": 0.4512263236874719,
          "y": 0.4405813839181434,
          "z": 2.108192292394385
         },
         "camera": {
          "eye": {
           "x": -1.7428,
           "y": 1.0707,
           "z": 0.71
          },
          "up": {
           "x": 0,
           "y": 1,
           "z": 0
          }
         },
         "xaxis": {
          "range": [
           -0.9944441311899532,
           1.7625254352613675
          ]
         },
         "yaxis": {
          "range": [
           -1.6306381360909232,
           1.0612913973656188
          ]
         },
         "zaxis": {
          "range": [
           -12.11144039882495,
           0.7695057810442503
          ]
         }
        },
        "sliders": [
         {
          "currentvalue": {
           "font": {
            "size": 12
           },
           "prefix": "slice: ",
           "visible": true,
           "xanchor": "center"
          },
          "len": 1,
          "steps": [
           {
            "args": [
             [
              "frame1"
             ],
             {
              "frame": {
               "duration": 70,
               "redraw": true
              },
              "mode": "immediate",
              "transition": {
               "duration": 0
              }
             }
            ],
            "label": "1",
            "method": "animate"
           },
           {
            "args": [
             [
              "frame2"
             ],
             {
              "frame": {
               "duration": 70,
               "redraw": true
              },
              "mode": "immediate",
              "transition": {
               "duration": 0
              }
             }
            ],
            "label": "2",
            "method": "animate"
           },
           {
            "args": [
             [
              "frame3"
             ],
             {
              "frame": {
               "duration": 70,
               "redraw": true
              },
              "mode": "immediate",
              "transition": {
               "duration": 0
              }
             }
            ],
            "label": "3",
            "method": "animate"
           },
           {
            "args": [
             [
              "frame4"
             ],
             {
              "frame": {
               "duration": 70,
               "redraw": true
              },
              "mode": "immediate",
              "transition": {
               "duration": 0
              }
             }
            ],
            "label": "4",
            "method": "animate"
           },
           {
            "args": [
             [
              "frame5"
             ],
             {
              "frame": {
               "duration": 70,
               "redraw": true
              },
              "mode": "immediate",
              "transition": {
               "duration": 0
              }
             }
            ],
            "label": "5",
            "method": "animate"
           },
           {
            "args": [
             [
              "frame6"
             ],
             {
              "frame": {
               "duration": 70,
               "redraw": true
              },
              "mode": "immediate",
              "transition": {
               "duration": 0
              }
             }
            ],
            "label": "6",
            "method": "animate"
           },
           {
            "args": [
             [
              "frame7"
             ],
             {
              "frame": {
               "duration": 70,
               "redraw": true
              },
              "mode": "immediate",
              "transition": {
               "duration": 0
              }
             }
            ],
            "label": "7",
            "method": "animate"
           },
           {
            "args": [
             [
              "frame8"
             ],
             {
              "frame": {
               "duration": 70,
               "redraw": true
              },
              "mode": "immediate",
              "transition": {
               "duration": 0
              }
             }
            ],
            "label": "8",
            "method": "animate"
           },
           {
            "args": [
             [
              "frame9"
             ],
             {
              "frame": {
               "duration": 70,
               "redraw": true
              },
              "mode": "immediate",
              "transition": {
               "duration": 0
              }
             }
            ],
            "label": "9",
            "method": "animate"
           },
           {
            "args": [
             [
              "frame10"
             ],
             {
              "frame": {
               "duration": 70,
               "redraw": true
              },
              "mode": "immediate",
              "transition": {
               "duration": 0
              }
             }
            ],
            "label": "10",
            "method": "animate"
           },
           {
            "args": [
             [
              "frame11"
             ],
             {
              "frame": {
               "duration": 70,
               "redraw": true
              },
              "mode": "immediate",
              "transition": {
               "duration": 0
              }
             }
            ],
            "label": "11",
            "method": "animate"
           },
           {
            "args": [
             [
              "frame12"
             ],
             {
              "frame": {
               "duration": 70,
               "redraw": true
              },
              "mode": "immediate",
              "transition": {
               "duration": 0
              }
             }
            ],
            "label": "12",
            "method": "animate"
           },
           {
            "args": [
             [
              "frame13"
             ],
             {
              "frame": {
               "duration": 70,
               "redraw": true
              },
              "mode": "immediate",
              "transition": {
               "duration": 0
              }
             }
            ],
            "label": "13",
            "method": "animate"
           },
           {
            "args": [
             [
              "frame14"
             ],
             {
              "frame": {
               "duration": 70,
               "redraw": true
              },
              "mode": "immediate",
              "transition": {
               "duration": 0
              }
             }
            ],
            "label": "14",
            "method": "animate"
           },
           {
            "args": [
             [
              "frame15"
             ],
             {
              "frame": {
               "duration": 70,
               "redraw": true
              },
              "mode": "immediate",
              "transition": {
               "duration": 0
              }
             }
            ],
            "label": "15",
            "method": "animate"
           },
           {
            "args": [
             [
              "frame16"
             ],
             {
              "frame": {
               "duration": 70,
               "redraw": true
              },
              "mode": "immediate",
              "transition": {
               "duration": 0
              }
             }
            ],
            "label": "16",
            "method": "animate"
           },
           {
            "args": [
             [
              "frame17"
             ],
             {
              "frame": {
               "duration": 70,
               "redraw": true
              },
              "mode": "immediate",
              "transition": {
               "duration": 0
              }
             }
            ],
            "label": "17",
            "method": "animate"
           },
           {
            "args": [
             [
              "frame18"
             ],
             {
              "frame": {
               "duration": 70,
               "redraw": true
              },
              "mode": "immediate",
              "transition": {
               "duration": 0
              }
             }
            ],
            "label": "18",
            "method": "animate"
           },
           {
            "args": [
             [
              "frame19"
             ],
             {
              "frame": {
               "duration": 70,
               "redraw": true
              },
              "mode": "immediate",
              "transition": {
               "duration": 0
              }
             }
            ],
            "label": "19",
            "method": "animate"
           },
           {
            "args": [
             [
              "frame20"
             ],
             {
              "frame": {
               "duration": 70,
               "redraw": true
              },
              "mode": "immediate",
              "transition": {
               "duration": 0
              }
             }
            ],
            "label": "20",
            "method": "animate"
           },
           {
            "args": [
             [
              "frame21"
             ],
             {
              "frame": {
               "duration": 70,
               "redraw": true
              },
              "mode": "immediate",
              "transition": {
               "duration": 0
              }
             }
            ],
            "label": "21",
            "method": "animate"
           },
           {
            "args": [
             [
              "frame22"
             ],
             {
              "frame": {
               "duration": 70,
               "redraw": true
              },
              "mode": "immediate",
              "transition": {
               "duration": 0
              }
             }
            ],
            "label": "22",
            "method": "animate"
           },
           {
            "args": [
             [
              "frame23"
             ],
             {
              "frame": {
               "duration": 70,
               "redraw": true
              },
              "mode": "immediate",
              "transition": {
               "duration": 0
              }
             }
            ],
            "label": "23",
            "method": "animate"
           },
           {
            "args": [
             [
              "frame24"
             ],
             {
              "frame": {
               "duration": 70,
               "redraw": true
              },
              "mode": "immediate",
              "transition": {
               "duration": 0
              }
             }
            ],
            "label": "24",
            "method": "animate"
           },
           {
            "args": [
             [
              "frame25"
             ],
             {
              "frame": {
               "duration": 70,
               "redraw": true
              },
              "mode": "immediate",
              "transition": {
               "duration": 0
              }
             }
            ],
            "label": "25",
            "method": "animate"
           },
           {
            "args": [
             [
              "frame26"
             ],
             {
              "frame": {
               "duration": 70,
               "redraw": true
              },
              "mode": "immediate",
              "transition": {
               "duration": 0
              }
             }
            ],
            "label": "26",
            "method": "animate"
           },
           {
            "args": [
             [
              "frame27"
             ],
             {
              "frame": {
               "duration": 70,
               "redraw": true
              },
              "mode": "immediate",
              "transition": {
               "duration": 0
              }
             }
            ],
            "label": "27",
            "method": "animate"
           },
           {
            "args": [
             [
              "frame28"
             ],
             {
              "frame": {
               "duration": 70,
               "redraw": true
              },
              "mode": "immediate",
              "transition": {
               "duration": 0
              }
             }
            ],
            "label": "28",
            "method": "animate"
           },
           {
            "args": [
             [
              "frame29"
             ],
             {
              "frame": {
               "duration": 70,
               "redraw": true
              },
              "mode": "immediate",
              "transition": {
               "duration": 0
              }
             }
            ],
            "label": "29",
            "method": "animate"
           },
           {
            "args": [
             [
              "frame30"
             ],
             {
              "frame": {
               "duration": 70,
               "redraw": true
              },
              "mode": "immediate",
              "transition": {
               "duration": 0
              }
             }
            ],
            "label": "30",
            "method": "animate"
           },
           {
            "args": [
             [
              "frame31"
             ],
             {
              "frame": {
               "duration": 70,
               "redraw": true
              },
              "mode": "immediate",
              "transition": {
               "duration": 0
              }
             }
            ],
            "label": "31",
            "method": "animate"
           },
           {
            "args": [
             [
              "frame32"
             ],
             {
              "frame": {
               "duration": 70,
               "redraw": true
              },
              "mode": "immediate",
              "transition": {
               "duration": 0
              }
             }
            ],
            "label": "32",
            "method": "animate"
           },
           {
            "args": [
             [
              "frame33"
             ],
             {
              "frame": {
               "duration": 70,
               "redraw": true
              },
              "mode": "immediate",
              "transition": {
               "duration": 0
              }
             }
            ],
            "label": "33",
            "method": "animate"
           },
           {
            "args": [
             [
              "frame34"
             ],
             {
              "frame": {
               "duration": 70,
               "redraw": true
              },
              "mode": "immediate",
              "transition": {
               "duration": 0
              }
             }
            ],
            "label": "34",
            "method": "animate"
           },
           {
            "args": [
             [
              "frame35"
             ],
             {
              "frame": {
               "duration": 70,
               "redraw": true
              },
              "mode": "immediate",
              "transition": {
               "duration": 0
              }
             }
            ],
            "label": "35",
            "method": "animate"
           },
           {
            "args": [
             [
              "frame36"
             ],
             {
              "frame": {
               "duration": 70,
               "redraw": true
              },
              "mode": "immediate",
              "transition": {
               "duration": 0
              }
             }
            ],
            "label": "36",
            "method": "animate"
           },
           {
            "args": [
             [
              "frame37"
             ],
             {
              "frame": {
               "duration": 70,
               "redraw": true
              },
              "mode": "immediate",
              "transition": {
               "duration": 0
              }
             }
            ],
            "label": "37",
            "method": "animate"
           },
           {
            "args": [
             [
              "frame38"
             ],
             {
              "frame": {
               "duration": 70,
               "redraw": true
              },
              "mode": "immediate",
              "transition": {
               "duration": 0
              }
             }
            ],
            "label": "38",
            "method": "animate"
           },
           {
            "args": [
             [
              "frame39"
             ],
             {
              "frame": {
               "duration": 70,
               "redraw": true
              },
              "mode": "immediate",
              "transition": {
               "duration": 0
              }
             }
            ],
            "label": "39",
            "method": "animate"
           },
           {
            "args": [
             [
              "frame40"
             ],
             {
              "frame": {
               "duration": 70,
               "redraw": true
              },
              "mode": "immediate",
              "transition": {
               "duration": 0
              }
             }
            ],
            "label": "40",
            "method": "animate"
           },
           {
            "args": [
             [
              "frame41"
             ],
             {
              "frame": {
               "duration": 70,
               "redraw": true
              },
              "mode": "immediate",
              "transition": {
               "duration": 0
              }
             }
            ],
            "label": "41",
            "method": "animate"
           },
           {
            "args": [
             [
              "frame42"
             ],
             {
              "frame": {
               "duration": 70,
               "redraw": true
              },
              "mode": "immediate",
              "transition": {
               "duration": 0
              }
             }
            ],
            "label": "42",
            "method": "animate"
           },
           {
            "args": [
             [
              "frame43"
             ],
             {
              "frame": {
               "duration": 70,
               "redraw": true
              },
              "mode": "immediate",
              "transition": {
               "duration": 0
              }
             }
            ],
            "label": "43",
            "method": "animate"
           },
           {
            "args": [
             [
              "frame44"
             ],
             {
              "frame": {
               "duration": 70,
               "redraw": true
              },
              "mode": "immediate",
              "transition": {
               "duration": 0
              }
             }
            ],
            "label": "44",
            "method": "animate"
           }
          ],
          "transition": {
           "duration": 0
          },
          "x": 0,
          "y": 0
         }
        ],
        "title": {
         "text": "action animation"
        },
        "updatemenus": [
         {
          "buttons": [
           {
            "args": [
             null
            ],
            "label": "Play",
            "method": "animate"
           }
          ],
          "pad": {
           "r": 10,
           "t": 0
          },
          "showactive": false,
          "type": "buttons",
          "x": 1.3,
          "xanchor": "right",
          "y": 1,
          "yanchor": "top"
         }
        ],
        "width": 800
       }
      },
      "text/html": [
       "<div>\n",
       "        \n",
       "        \n",
       "            <div id=\"51c4b48a-c2bc-4be1-85c7-39a6c1ad84f3\" class=\"plotly-graph-div\" style=\"height:700px; width:800px;\"></div>\n",
       "            <script type=\"text/javascript\">\n",
       "                require([\"plotly\"], function(Plotly) {\n",
       "                    window.PLOTLYENV=window.PLOTLYENV || {};\n",
       "                    window.PLOTLYENV.BASE_URL='https://plot.ly';\n",
       "                    \n",
       "                if (document.getElementById(\"51c4b48a-c2bc-4be1-85c7-39a6c1ad84f3\")) {\n",
       "                    Plotly.newPlot(\n",
       "                        '51c4b48a-c2bc-4be1-85c7-39a6c1ad84f3',\n",
       "                        [{\"line\": {\"color\": \"red\", \"width\": 5}, \"marker\": {\"color\": \"blue\", \"size\": 2}, \"text\": [\"RHip\"], \"type\": \"scatter3d\", \"uid\": \"61e55145-d516-4b89-9a33-3e286d54e0a7\", \"x\": [-0.04161335266424013, -0.10456789807196559], \"y\": [-0.1129214814534123, -0.9363594694242567], \"z\": [-0.10264956827796112, -9.89050039882495]}, {\"line\": {\"color\": \"red\", \"width\": 5}, \"marker\": {\"color\": \"blue\", \"size\": 2}, \"text\": [\"RKnee\"], \"type\": \"scatter3d\", \"uid\": \"65d5dcc6-e9c2-4687-bb0a-27eadd0cf1c9\", \"x\": [-0.09689602959736435, -0.04161335266424013], \"y\": [-0.6053635134977158, -0.1129214814534123], \"z\": [-0.11006108352815502, -0.10264956827796112]}, {\"line\": {\"color\": \"red\", \"width\": 5}, \"marker\": {\"color\": \"blue\", \"size\": 2}, \"text\": [\"RAnkle\"], \"type\": \"scatter3d\", \"uid\": \"aec4655c-56a6-4529-ae47-bf90d0baa5d4\", \"x\": [0.10456789807196559, -0.09689602959736435], \"y\": [-1.0636405305757433, -0.6053635134977158], \"z\": [-0.10949960117505064, -0.11006108352815502]}, {\"line\": {\"color\": \"black\", \"width\": 5}, \"marker\": {\"color\": \"blue\", \"size\": 2}, \"text\": [\"LHip\"], \"type\": \"scatter3d\", \"uid\": \"c96abb37-851e-41d4-91e6-ceceb7fbd353\", \"x\": [-0.06136136682368801, -0.10456789807196559], \"y\": [-0.12861168424323033, -0.9363594694242567], \"z\": [0.07345835378364995, -9.89050039882495]}, {\"line\": {\"color\": \"black\", \"width\": 5}, \"marker\": {\"color\": \"blue\", \"size\": 2}, \"text\": [\"LKnee\"], \"type\": \"scatter3d\", \"uid\": \"1875f988-6a11-49a2-891b-a6e2a61e34df\", \"x\": [-0.10442779232638297, -0.06136136682368801], \"y\": [-0.6037854784970356, -0.12861168424323033], \"z\": [0.06555879346310967, 0.07345835378364995]}, {\"line\": {\"color\": \"black\", \"width\": 5}, \"marker\": {\"color\": \"blue\", \"size\": 2}, \"text\": [\"LAnkle\"], \"type\": \"scatter3d\", \"uid\": \"f8213914-eaa3-4360-818d-752cd3ad5e44\", \"x\": [0.09944522952446312, -0.10442779232638297], \"y\": [-1.0595616405448778, -0.6037854784970356], \"z\": [0.07691802117805047, 0.06555879346310967]}, {\"line\": {\"color\": \"black\", \"width\": 5}, \"marker\": {\"color\": \"blue\", \"size\": 2}, \"text\": [\"Spine1\"], \"type\": \"scatter3d\", \"uid\": \"c4852613-c315-4bfe-9411-6269ff48db7b\", \"x\": [-0.011001247963074695, -0.10456789807196559], \"y\": [0.27185801889773575, -0.9363594694242567], \"z\": [0.020326688214982624, -9.89050039882495]}, {\"line\": {\"color\": \"black\", \"width\": 5}, \"marker\": {\"color\": \"blue\", \"size\": 2}, \"text\": [\"Neck\"], \"type\": \"scatter3d\", \"uid\": \"e7f450f0-0293-458a-bbb4-208e4ad5c418\", \"x\": [-0.019563723574876832, -0.011001247963074695], \"y\": [0.5259484896285249, 0.27185801889773575], \"z\": [0.03125325884929886, 0.020326688214982624]}, {\"line\": {\"color\": \"black\", \"width\": 5}, \"marker\": {\"color\": \"blue\", \"size\": 2}, \"text\": [\"Head\"], \"type\": \"scatter3d\", \"uid\": \"76ec6824-8a16-4bfd-b3c9-cef96ee54022\", \"x\": [-0.021511809274798677, -0.019563723574876832], \"y\": [0.6434687909414425, 0.5259484896285249], \"z\": [0.04074014214718247, 0.03125325884929886]}, {\"line\": {\"color\": \"black\", \"width\": 5}, \"marker\": {\"color\": \"blue\", \"size\": 2}, \"text\": [\"Site\"], \"type\": \"scatter3d\", \"uid\": \"a63ec745-8e55-41d6-b5c6-b4ca933997e7\", \"x\": [-0.03695434176832216, -0.021511809274798677], \"y\": [0.7605817573123892, 0.6434687909414425], \"z\": [0.04142265499688591, 0.04074014214718247]}, {\"line\": {\"color\": \"black\", \"width\": 5}, \"marker\": {\"color\": \"blue\", \"size\": 2}, \"text\": [\"LShoulder\"], \"type\": \"scatter3d\", \"uid\": \"5f0b7131-590d-475c-98d5-5950da8b6d19\", \"x\": [-0.005104091113605241, -0.019563723574876832], \"y\": [0.487061874984823, 0.5259484896285249], \"z\": [0.25012858513129643, 0.03125325884929886]}, {\"line\": {\"color\": \"black\", \"width\": 5}, \"marker\": {\"color\": \"blue\", \"size\": 2}, \"text\": [\"LElbow\"], \"type\": \"scatter3d\", \"uid\": \"4f1ff268-01f7-453a-99d2-96f33b001be1\", \"x\": [-0.06760370190261919, -0.005104091113605241], \"y\": [-0.05800151593010572, 0.487061874984823], \"z\": [0.2733394984701718, 0.25012858513129643]}, {\"line\": {\"color\": \"black\", \"width\": 5}, \"marker\": {\"color\": \"blue\", \"size\": 2}, \"text\": [\"LWrist\"], \"type\": \"scatter3d\", \"uid\": \"ab8d7923-71b2-4a75-9d10-3f24f7898d4c\", \"x\": [-0.11183880323530448, -0.06760370190261919], \"y\": [-0.16495700117926804, -0.05800151593010572], \"z\": [0.28268426886048736, 0.2733394984701718]}, {\"line\": {\"color\": \"red\", \"width\": 5}, \"marker\": {\"color\": \"blue\", \"size\": 2}, \"text\": [\"RShoulder\"], \"type\": \"scatter3d\", \"uid\": \"e0ba7fa4-b24c-4ff8-8492-a8a2f230a1b2\", \"x\": [0.0030008161448812076, -0.019563723574876832], \"y\": [0.5046480377376783, 0.5259484896285249], \"z\": [-0.182904408163715, 0.03125325884929886]}, {\"line\": {\"color\": \"red\", \"width\": 5}, \"marker\": {\"color\": \"blue\", \"size\": 2}, \"text\": [\"RElbow\"], \"type\": \"scatter3d\", \"uid\": \"c4908213-55ec-4445-bffc-268ff08bd90d\", \"x\": [-0.07045259016660002, 0.0030008161448812076], \"y\": [-0.05758789420182464, 0.5046480377376783], \"z\": [-0.22147052255055044, -0.182904408163715]}, {\"line\": {\"color\": \"red\", \"width\": 5}, \"marker\": {\"color\": \"blue\", \"size\": 2}, \"text\": [\"RWrist\"], \"type\": \"scatter3d\", \"uid\": \"68a895a5-1fb3-49be-b4ab-e0347505e4e9\", \"x\": [-0.11106804239743867, -0.07045259016660002], \"y\": [-0.1641143939893117, -0.05758789420182464], \"z\": [-0.23499485318503943, -0.22147052255055044]}, {\"line\": {\"color\": \"#1f77b4\", \"width\": 1}, \"marker\": {\"color\": \"#1f77b4\", \"size\": 1}, \"type\": \"scatter3d\", \"uid\": \"a19bca29-24bb-4005-be44-b18020de7e9e\", \"x\": [], \"y\": [], \"z\": []}],\n",
       "                        {\"autosize\": false, \"height\": 700, \"scene\": {\"aspectratio\": {\"x\": 0.4512263236874719, \"y\": 0.4405813839181434, \"z\": 2.108192292394385}, \"camera\": {\"eye\": {\"x\": -1.7428, \"y\": 1.0707, \"z\": 0.71}, \"up\": {\"x\": 0, \"y\": 1, \"z\": 0}}, \"xaxis\": {\"range\": [-0.9944441311899532, 1.7625254352613675]}, \"yaxis\": {\"range\": [-1.6306381360909232, 1.0612913973656188]}, \"zaxis\": {\"range\": [-12.11144039882495, 0.7695057810442503]}}, \"sliders\": [{\"currentvalue\": {\"font\": {\"size\": 12}, \"prefix\": \"slice: \", \"visible\": true, \"xanchor\": \"center\"}, \"len\": 1.0, \"steps\": [{\"args\": [[\"frame1\"], {\"frame\": {\"duration\": 70, \"redraw\": true}, \"mode\": \"immediate\", \"transition\": {\"duration\": 0}}], \"label\": \"1\", \"method\": \"animate\"}, {\"args\": [[\"frame2\"], {\"frame\": {\"duration\": 70, \"redraw\": true}, \"mode\": \"immediate\", \"transition\": {\"duration\": 0}}], \"label\": \"2\", \"method\": \"animate\"}, {\"args\": [[\"frame3\"], {\"frame\": {\"duration\": 70, \"redraw\": true}, \"mode\": \"immediate\", \"transition\": {\"duration\": 0}}], \"label\": \"3\", \"method\": \"animate\"}, {\"args\": [[\"frame4\"], {\"frame\": {\"duration\": 70, \"redraw\": true}, \"mode\": \"immediate\", \"transition\": {\"duration\": 0}}], \"label\": \"4\", \"method\": \"animate\"}, {\"args\": [[\"frame5\"], {\"frame\": {\"duration\": 70, \"redraw\": true}, \"mode\": \"immediate\", \"transition\": {\"duration\": 0}}], \"label\": \"5\", \"method\": \"animate\"}, {\"args\": [[\"frame6\"], {\"frame\": {\"duration\": 70, \"redraw\": true}, \"mode\": \"immediate\", \"transition\": {\"duration\": 0}}], \"label\": \"6\", \"method\": \"animate\"}, {\"args\": [[\"frame7\"], {\"frame\": {\"duration\": 70, \"redraw\": true}, \"mode\": \"immediate\", \"transition\": {\"duration\": 0}}], \"label\": \"7\", \"method\": \"animate\"}, {\"args\": [[\"frame8\"], {\"frame\": {\"duration\": 70, \"redraw\": true}, \"mode\": \"immediate\", \"transition\": {\"duration\": 0}}], \"label\": \"8\", \"method\": \"animate\"}, {\"args\": [[\"frame9\"], {\"frame\": {\"duration\": 70, \"redraw\": true}, \"mode\": \"immediate\", \"transition\": {\"duration\": 0}}], \"label\": \"9\", \"method\": \"animate\"}, {\"args\": [[\"frame10\"], {\"frame\": {\"duration\": 70, \"redraw\": true}, \"mode\": \"immediate\", \"transition\": {\"duration\": 0}}], \"label\": \"10\", \"method\": \"animate\"}, {\"args\": [[\"frame11\"], {\"frame\": {\"duration\": 70, \"redraw\": true}, \"mode\": \"immediate\", \"transition\": {\"duration\": 0}}], \"label\": \"11\", \"method\": \"animate\"}, {\"args\": [[\"frame12\"], {\"frame\": {\"duration\": 70, \"redraw\": true}, \"mode\": \"immediate\", \"transition\": {\"duration\": 0}}], \"label\": \"12\", \"method\": \"animate\"}, {\"args\": [[\"frame13\"], {\"frame\": {\"duration\": 70, \"redraw\": true}, \"mode\": \"immediate\", \"transition\": {\"duration\": 0}}], \"label\": \"13\", \"method\": \"animate\"}, {\"args\": [[\"frame14\"], {\"frame\": {\"duration\": 70, \"redraw\": true}, \"mode\": \"immediate\", \"transition\": {\"duration\": 0}}], \"label\": \"14\", \"method\": \"animate\"}, {\"args\": [[\"frame15\"], {\"frame\": {\"duration\": 70, \"redraw\": true}, \"mode\": \"immediate\", \"transition\": {\"duration\": 0}}], \"label\": \"15\", \"method\": \"animate\"}, {\"args\": [[\"frame16\"], {\"frame\": {\"duration\": 70, \"redraw\": true}, \"mode\": \"immediate\", \"transition\": {\"duration\": 0}}], \"label\": \"16\", \"method\": \"animate\"}, {\"args\": [[\"frame17\"], {\"frame\": {\"duration\": 70, \"redraw\": true}, \"mode\": \"immediate\", \"transition\": {\"duration\": 0}}], \"label\": \"17\", \"method\": \"animate\"}, {\"args\": [[\"frame18\"], {\"frame\": {\"duration\": 70, \"redraw\": true}, \"mode\": \"immediate\", \"transition\": {\"duration\": 0}}], \"label\": \"18\", \"method\": \"animate\"}, {\"args\": [[\"frame19\"], {\"frame\": {\"duration\": 70, \"redraw\": true}, \"mode\": \"immediate\", \"transition\": {\"duration\": 0}}], \"label\": \"19\", \"method\": \"animate\"}, {\"args\": [[\"frame20\"], {\"frame\": {\"duration\": 70, \"redraw\": true}, \"mode\": \"immediate\", \"transition\": {\"duration\": 0}}], \"label\": \"20\", \"method\": \"animate\"}, {\"args\": [[\"frame21\"], {\"frame\": {\"duration\": 70, \"redraw\": true}, \"mode\": \"immediate\", \"transition\": {\"duration\": 0}}], \"label\": \"21\", \"method\": \"animate\"}, {\"args\": [[\"frame22\"], {\"frame\": {\"duration\": 70, \"redraw\": true}, \"mode\": \"immediate\", \"transition\": {\"duration\": 0}}], \"label\": \"22\", \"method\": \"animate\"}, {\"args\": [[\"frame23\"], {\"frame\": {\"duration\": 70, \"redraw\": true}, \"mode\": \"immediate\", \"transition\": {\"duration\": 0}}], \"label\": \"23\", \"method\": \"animate\"}, {\"args\": [[\"frame24\"], {\"frame\": {\"duration\": 70, \"redraw\": true}, \"mode\": \"immediate\", \"transition\": {\"duration\": 0}}], \"label\": \"24\", \"method\": \"animate\"}, {\"args\": [[\"frame25\"], {\"frame\": {\"duration\": 70, \"redraw\": true}, \"mode\": \"immediate\", \"transition\": {\"duration\": 0}}], \"label\": \"25\", \"method\": \"animate\"}, {\"args\": [[\"frame26\"], {\"frame\": {\"duration\": 70, \"redraw\": true}, \"mode\": \"immediate\", \"transition\": {\"duration\": 0}}], \"label\": \"26\", \"method\": \"animate\"}, {\"args\": [[\"frame27\"], {\"frame\": {\"duration\": 70, \"redraw\": true}, \"mode\": \"immediate\", \"transition\": {\"duration\": 0}}], \"label\": \"27\", \"method\": \"animate\"}, {\"args\": [[\"frame28\"], {\"frame\": {\"duration\": 70, \"redraw\": true}, \"mode\": \"immediate\", \"transition\": {\"duration\": 0}}], \"label\": \"28\", \"method\": \"animate\"}, {\"args\": [[\"frame29\"], {\"frame\": {\"duration\": 70, \"redraw\": true}, \"mode\": \"immediate\", \"transition\": {\"duration\": 0}}], \"label\": \"29\", \"method\": \"animate\"}, {\"args\": [[\"frame30\"], {\"frame\": {\"duration\": 70, \"redraw\": true}, \"mode\": \"immediate\", \"transition\": {\"duration\": 0}}], \"label\": \"30\", \"method\": \"animate\"}, {\"args\": [[\"frame31\"], {\"frame\": {\"duration\": 70, \"redraw\": true}, \"mode\": \"immediate\", \"transition\": {\"duration\": 0}}], \"label\": \"31\", \"method\": \"animate\"}, {\"args\": [[\"frame32\"], {\"frame\": {\"duration\": 70, \"redraw\": true}, \"mode\": \"immediate\", \"transition\": {\"duration\": 0}}], \"label\": \"32\", \"method\": \"animate\"}, {\"args\": [[\"frame33\"], {\"frame\": {\"duration\": 70, \"redraw\": true}, \"mode\": \"immediate\", \"transition\": {\"duration\": 0}}], \"label\": \"33\", \"method\": \"animate\"}, {\"args\": [[\"frame34\"], {\"frame\": {\"duration\": 70, \"redraw\": true}, \"mode\": \"immediate\", \"transition\": {\"duration\": 0}}], \"label\": \"34\", \"method\": \"animate\"}, {\"args\": [[\"frame35\"], {\"frame\": {\"duration\": 70, \"redraw\": true}, \"mode\": \"immediate\", \"transition\": {\"duration\": 0}}], \"label\": \"35\", \"method\": \"animate\"}, {\"args\": [[\"frame36\"], {\"frame\": {\"duration\": 70, \"redraw\": true}, \"mode\": \"immediate\", \"transition\": {\"duration\": 0}}], \"label\": \"36\", \"method\": \"animate\"}, {\"args\": [[\"frame37\"], {\"frame\": {\"duration\": 70, \"redraw\": true}, \"mode\": \"immediate\", \"transition\": {\"duration\": 0}}], \"label\": \"37\", \"method\": \"animate\"}, {\"args\": [[\"frame38\"], {\"frame\": {\"duration\": 70, \"redraw\": true}, \"mode\": \"immediate\", \"transition\": {\"duration\": 0}}], \"label\": \"38\", \"method\": \"animate\"}, {\"args\": [[\"frame39\"], {\"frame\": {\"duration\": 70, \"redraw\": true}, \"mode\": \"immediate\", \"transition\": {\"duration\": 0}}], \"label\": \"39\", \"method\": \"animate\"}, {\"args\": [[\"frame40\"], {\"frame\": {\"duration\": 70, \"redraw\": true}, \"mode\": \"immediate\", \"transition\": {\"duration\": 0}}], \"label\": \"40\", \"method\": \"animate\"}, {\"args\": [[\"frame41\"], {\"frame\": {\"duration\": 70, \"redraw\": true}, \"mode\": \"immediate\", \"transition\": {\"duration\": 0}}], \"label\": \"41\", \"method\": \"animate\"}, {\"args\": [[\"frame42\"], {\"frame\": {\"duration\": 70, \"redraw\": true}, \"mode\": \"immediate\", \"transition\": {\"duration\": 0}}], \"label\": \"42\", \"method\": \"animate\"}, {\"args\": [[\"frame43\"], {\"frame\": {\"duration\": 70, \"redraw\": true}, \"mode\": \"immediate\", \"transition\": {\"duration\": 0}}], \"label\": \"43\", \"method\": \"animate\"}, {\"args\": [[\"frame44\"], {\"frame\": {\"duration\": 70, \"redraw\": true}, \"mode\": \"immediate\", \"transition\": {\"duration\": 0}}], \"label\": \"44\", \"method\": \"animate\"}], \"transition\": {\"duration\": 0}, \"x\": 0, \"y\": 0}], \"title\": {\"text\": \"action animation\"}, \"updatemenus\": [{\"buttons\": [{\"args\": [null], \"label\": \"Play\", \"method\": \"animate\"}], \"pad\": {\"r\": 10, \"t\": 0}, \"showactive\": false, \"type\": \"buttons\", \"x\": 1.3, \"xanchor\": \"right\", \"y\": 1, \"yanchor\": \"top\"}], \"width\": 800},\n",
       "                        {\"responsive\": true, \"plotlyServerURL\": \"https://plot.ly\", \"showLink\": false, \"linkText\": \"Export to plot.ly\"}\n",
       "                    ).then(function(){\n",
       "                            Plotly.addFrames('51c4b48a-c2bc-4be1-85c7-39a6c1ad84f3', [{\"data\": [{\"type\": \"scatter3d\", \"z\": [-0.10264956827796112, -9.89050039882495], \"line\": {\"width\": 5, \"color\": \"red\"}, \"y\": [-0.1129214814534123, -0.9363594694242567], \"x\": [-0.04161335266424013, -0.10456789807196559], \"marker\": {\"size\": 2, \"color\": \"blue\"}, \"text\": [\"RHip\"]}, {\"type\": \"scatter3d\", \"z\": [-0.11006108352815502, -0.10264956827796112], \"line\": {\"width\": 5, \"color\": \"red\"}, \"y\": [-0.6053635134977158, -0.1129214814534123], \"x\": [-0.09689602959736435, -0.04161335266424013], \"marker\": {\"size\": 2, \"color\": \"blue\"}, \"text\": [\"RKnee\"]}, {\"type\": \"scatter3d\", \"z\": [-0.10949960117505064, -0.11006108352815502], \"line\": {\"width\": 5, \"color\": \"red\"}, \"y\": [-1.0636405305757433, -0.6053635134977158], \"x\": [0.10456789807196559, -0.09689602959736435], \"marker\": {\"size\": 2, \"color\": \"blue\"}, \"text\": [\"RAnkle\"]}, {\"type\": \"scatter3d\", \"z\": [0.07345835378364995, -9.89050039882495], \"line\": {\"width\": 5, \"color\": \"black\"}, \"y\": [-0.12861168424323033, -0.9363594694242567], \"x\": [-0.06136136682368801, -0.10456789807196559], \"marker\": {\"size\": 2, \"color\": \"blue\"}, \"text\": [\"LHip\"]}, {\"type\": \"scatter3d\", \"z\": [0.06555879346310967, 0.07345835378364995], \"line\": {\"width\": 5, \"color\": \"black\"}, \"y\": [-0.6037854784970356, -0.12861168424323033], \"x\": [-0.10442779232638297, -0.06136136682368801], \"marker\": {\"size\": 2, \"color\": \"blue\"}, \"text\": [\"LKnee\"]}, {\"type\": \"scatter3d\", \"z\": [0.07691802117805047, 0.06555879346310967], \"line\": {\"width\": 5, \"color\": \"black\"}, \"y\": [-1.0595616405448778, -0.6037854784970356], \"x\": [0.09944522952446312, -0.10442779232638297], \"marker\": {\"size\": 2, \"color\": \"blue\"}, \"text\": [\"LAnkle\"]}, {\"type\": \"scatter3d\", \"z\": [0.020326688214982624, -9.89050039882495], \"line\": {\"width\": 5, \"color\": \"black\"}, \"y\": [0.27185801889773575, -0.9363594694242567], \"x\": [-0.011001247963074695, -0.10456789807196559], \"marker\": {\"size\": 2, \"color\": \"blue\"}, \"text\": [\"Spine1\"]}, {\"type\": \"scatter3d\", \"z\": [0.03125325884929886, 0.020326688214982624], \"line\": {\"width\": 5, \"color\": \"black\"}, \"y\": [0.5259484896285249, 0.27185801889773575], \"x\": [-0.019563723574876832, -0.011001247963074695], \"marker\": {\"size\": 2, \"color\": \"blue\"}, \"text\": [\"Neck\"]}, {\"type\": \"scatter3d\", \"z\": [0.04074014214718247, 0.03125325884929886], \"line\": {\"width\": 5, \"color\": \"black\"}, \"y\": [0.6434687909414425, 0.5259484896285249], \"x\": [-0.021511809274798677, -0.019563723574876832], \"marker\": {\"size\": 2, \"color\": \"blue\"}, \"text\": [\"Head\"]}, {\"type\": \"scatter3d\", \"z\": [0.04142265499688591, 0.04074014214718247], \"line\": {\"width\": 5, \"color\": \"black\"}, \"y\": [0.7605817573123892, 0.6434687909414425], \"x\": [-0.03695434176832216, -0.021511809274798677], \"marker\": {\"size\": 2, \"color\": \"blue\"}, \"text\": [\"Site\"]}, {\"type\": \"scatter3d\", \"z\": [0.25012858513129643, 0.03125325884929886], \"line\": {\"width\": 5, \"color\": \"black\"}, \"y\": [0.487061874984823, 0.5259484896285249], \"x\": [-0.005104091113605241, -0.019563723574876832], \"marker\": {\"size\": 2, \"color\": \"blue\"}, \"text\": [\"LShoulder\"]}, {\"type\": \"scatter3d\", \"z\": [0.2733394984701718, 0.25012858513129643], \"line\": {\"width\": 5, \"color\": \"black\"}, \"y\": [-0.05800151593010572, 0.487061874984823], \"x\": [-0.06760370190261919, -0.005104091113605241], \"marker\": {\"size\": 2, \"color\": \"blue\"}, \"text\": [\"LElbow\"]}, {\"type\": \"scatter3d\", \"z\": [0.28268426886048736, 0.2733394984701718], \"line\": {\"width\": 5, \"color\": \"black\"}, \"y\": [-0.16495700117926804, -0.05800151593010572], \"x\": [-0.11183880323530448, -0.06760370190261919], \"marker\": {\"size\": 2, \"color\": \"blue\"}, \"text\": [\"LWrist\"]}, {\"type\": \"scatter3d\", \"z\": [-0.182904408163715, 0.03125325884929886], \"line\": {\"width\": 5, \"color\": \"red\"}, \"y\": [0.5046480377376783, 0.5259484896285249], \"x\": [0.0030008161448812076, -0.019563723574876832], \"marker\": {\"size\": 2, \"color\": \"blue\"}, \"text\": [\"RShoulder\"]}, {\"type\": \"scatter3d\", \"z\": [-0.22147052255055044, -0.182904408163715], \"line\": {\"width\": 5, \"color\": \"red\"}, \"y\": [-0.05758789420182464, 0.5046480377376783], \"x\": [-0.07045259016660002, 0.0030008161448812076], \"marker\": {\"size\": 2, \"color\": \"blue\"}, \"text\": [\"RElbow\"]}, {\"type\": \"scatter3d\", \"z\": [-0.23499485318503943, -0.22147052255055044], \"line\": {\"width\": 5, \"color\": \"red\"}, \"y\": [-0.1641143939893117, -0.05758789420182464], \"x\": [-0.11106804239743867, -0.07045259016660002], \"marker\": {\"size\": 2, \"color\": \"blue\"}, \"text\": [\"RWrist\"]}, {\"type\": \"scatter3d\", \"z\": [], \"line\": {\"width\": 1, \"color\": \"#1f77b4\"}, \"y\": [], \"x\": [], \"marker\": {\"size\": 1, \"color\": \"#1f77b4\"}}], \"name\": \"frame1\"}, {\"data\": [{\"type\": \"scatter3d\", \"z\": [-0.1109680579387824, -9.781967065491616], \"line\": {\"width\": 5, \"color\": \"red\"}, \"y\": [-0.11006849744898739, -0.9168994694242565], \"x\": [0.024308063432961782, 0.07519876859470122], \"marker\": {\"size\": 2, \"color\": \"blue\"}, \"text\": [\"RHip\"]}, {\"type\": \"scatter3d\", \"z\": [-0.17912124307215116, -0.1109680579387824], \"line\": {\"width\": 5, \"color\": \"red\"}, \"y\": [-0.597676893744147, -0.11006849744898739], \"x\": [-0.03229100961384931, 0.024308063432961782], \"marker\": {\"size\": 2, \"color\": \"blue\"}, \"text\": [\"RKnee\"]}, {\"type\": \"scatter3d\", \"z\": [-0.016571655782065875, -0.17912124307215116], \"line\": {\"width\": 5, \"color\": \"red\"}, \"y\": [-1.0213248575039207, -0.597676893744147], \"x\": [0.17914666032777005, -0.03229100961384931], \"marker\": {\"size\": 2, \"color\": \"blue\"}, \"text\": [\"RAnkle\"]}, {\"type\": \"scatter3d\", \"z\": [0.030714825459069672, -9.781967065491616], \"line\": {\"width\": 5, \"color\": \"black\"}, \"y\": [-0.13533149199650585, -0.9168994694242565], \"x\": [-0.08027639238265655, 0.07519876859470122], \"marker\": {\"size\": 2, \"color\": \"blue\"}, \"text\": [\"LHip\"]}, {\"type\": \"scatter3d\", \"z\": [-0.04615311353774665, 0.030714825459069672], \"line\": {\"width\": 5, \"color\": \"black\"}, \"y\": [-0.5965674965421015, -0.13533149199650585], \"x\": [-0.17546001949148254, -0.08027639238265655], \"marker\": {\"size\": 2, \"color\": \"blue\"}, \"text\": [\"LKnee\"]}, {\"type\": \"scatter3d\", \"z\": [-0.024017713057681078, -0.04615311353774665], \"line\": {\"width\": 5, \"color\": \"black\"}, \"y\": [-1.0821334028480376, -0.5965674965421015], \"x\": [-0.06073894181689592, -0.17546001949148254], \"marker\": {\"size\": 2, \"color\": \"blue\"}, \"text\": [\"LAnkle\"]}, {\"type\": \"scatter3d\", \"z\": [0.004447105335234625, -9.781967065491616], \"line\": {\"width\": 5, \"color\": \"black\"}, \"y\": [0.2595035048112013, -0.9168994694242565], \"x\": [-0.08293097010070578, 0.07519876859470122], \"marker\": {\"size\": 2, \"color\": \"blue\"}, \"text\": [\"Spine1\"]}, {\"type\": \"scatter3d\", \"z\": [-0.01691839355690483, 0.004447105335234625], \"line\": {\"width\": 5, \"color\": \"black\"}, \"y\": [0.49431395306053516, 0.2595035048112013], \"x\": [-0.1759142874261343, -0.08293097010070578], \"marker\": {\"size\": 2, \"color\": \"blue\"}, \"text\": [\"Neck\"]}, {\"type\": \"scatter3d\", \"z\": [-0.04233206274935064, -0.01691839355690483], \"line\": {\"width\": 5, \"color\": \"black\"}, \"y\": [0.6073854501125178, 0.49431395306053516], \"x\": [-0.19768121614566947, -0.1759142874261343], \"marker\": {\"size\": 2, \"color\": \"blue\"}, \"text\": [\"Head\"]}, {\"type\": \"scatter3d\", \"z\": [-0.08541892836052511, -0.04233206274935064], \"line\": {\"width\": 5, \"color\": \"black\"}, \"y\": [0.7173601816041821, 0.6073854501125178], \"x\": [-0.19954265938866012, -0.19768121614566947], \"marker\": {\"size\": 2, \"color\": \"blue\"}, \"text\": [\"Site\"]}, {\"type\": \"scatter3d\", \"z\": [0.17139382254333668, -0.01691839355690483], \"line\": {\"width\": 5, \"color\": \"black\"}, \"y\": [0.45338251956583275, 0.49431395306053516], \"x\": [-0.26649597006313297, -0.1759142874261343], \"marker\": {\"size\": 2, \"color\": \"blue\"}, \"text\": [\"LShoulder\"]}, {\"type\": \"scatter3d\", \"z\": [0.207131405488866, 0.17139382254333668], \"line\": {\"width\": 5, \"color\": \"black\"}, \"y\": [-0.09822956725193133, 0.45338251956583275], \"x\": [-0.27689500558141994, -0.26649597006313297], \"marker\": {\"size\": 2, \"color\": \"blue\"}, \"text\": [\"LElbow\"]}, {\"type\": \"scatter3d\", \"z\": [0.20200485495048426, 0.207131405488866], \"line\": {\"width\": 5, \"color\": \"black\"}, \"y\": [-0.2110086764040091, -0.09822956725193133], \"x\": [-0.3040636597049789, -0.27689500558141994], \"marker\": {\"size\": 2, \"color\": \"blue\"}, \"text\": [\"LWrist\"]}, {\"type\": \"scatter3d\", \"z\": [-0.16174694164977055, -0.01691839355690483], \"line\": {\"width\": 5, \"color\": \"red\"}, \"y\": [0.5047708486568807, 0.49431395306053516], \"x\": [0.0060274358860397115, -0.1759142874261343], \"marker\": {\"size\": 2, \"color\": \"blue\"}, \"text\": [\"RShoulder\"]}, {\"type\": \"scatter3d\", \"z\": [-0.25215063897462464, -0.16174694164977055], \"line\": {\"width\": 5, \"color\": \"red\"}, \"y\": [-0.041484808924657335, 0.5047708486568807], \"x\": [0.030531456913149665, 0.0060274358860397115], \"marker\": {\"size\": 2, \"color\": \"blue\"}, \"text\": [\"RElbow\"]}, {\"type\": \"scatter3d\", \"z\": [-0.29797455610067836, -0.25215063897462464], \"line\": {\"width\": 5, \"color\": \"red\"}, \"y\": [-0.14382385935552056, -0.041484808924657335], \"x\": [0.0058878976707478076, 0.030531456913149665], \"marker\": {\"size\": 2, \"color\": \"blue\"}, \"text\": [\"RWrist\"]}, {\"type\": \"scatter3d\", \"z\": [-9.89050039882495], \"line\": {\"width\": 1, \"color\": \"#1f77b4\"}, \"y\": [-0.9363594694242567], \"x\": [-0.10456789807196559], \"marker\": {\"size\": 1, \"color\": \"#1f77b4\"}}], \"name\": \"frame2\"}, {\"data\": [{\"type\": \"scatter3d\", \"z\": [0.02961730022976461, -9.717387065491616], \"line\": {\"width\": 5, \"color\": \"red\"}, \"y\": [-0.1074135758837369, -0.9295194694242566], \"x\": [0.11227201434111789, 0.4937387685947011], \"marker\": {\"size\": 2, \"color\": \"blue\"}, \"text\": [\"RHip\"]}, {\"type\": \"scatter3d\", \"z\": [0.055706934054319035, 0.02961730022976461], \"line\": {\"width\": 5, \"color\": \"red\"}, \"y\": [-0.5991021235934006, -0.1074135758837369], \"x\": [0.055951832264163226, 0.11227201434111789], \"marker\": {\"size\": 2, \"color\": \"blue\"}, \"text\": [\"RKnee\"]}, {\"type\": \"scatter3d\", \"z\": [0.18472824464530113, 0.055706934054319035], \"line\": {\"width\": 5, \"color\": \"red\"}, \"y\": [-1.0622798548889807, -0.5991021235934006], \"x\": [-0.08342443702722424, 0.055951832264163226], \"marker\": {\"size\": 2, \"color\": \"blue\"}, \"text\": [\"RAnkle\"]}, {\"type\": \"scatter3d\", \"z\": [-0.08648890807296716, -9.717387065491616], \"line\": {\"width\": 5, \"color\": \"black\"}, \"y\": [-0.1335029704343198, -0.9295194694242566], \"x\": [-0.019973434069150642, 0.4937387685947011], \"marker\": {\"size\": 2, \"color\": \"blue\"}, \"text\": [\"LHip\"]}, {\"type\": \"scatter3d\", \"z\": [-0.2846701010091621, -0.08648890807296716], \"line\": {\"width\": 5, \"color\": \"black\"}, \"y\": [-0.5430478368179037, -0.1335029704343198], \"x\": [0.12391705202925063, -0.019973434069150642], \"marker\": {\"size\": 2, \"color\": \"blue\"}, \"text\": [\"LKnee\"]}, {\"type\": \"scatter3d\", \"z\": [-0.23603734031978973, -0.2846701010091621], \"line\": {\"width\": 5, \"color\": \"black\"}, \"y\": [-1.0399514604599984, -0.5430478368179037], \"x\": [0.11180117884476859, 0.12391705202925063], \"marker\": {\"size\": 2, \"color\": \"blue\"}, \"text\": [\"LAnkle\"]}, {\"type\": \"scatter3d\", \"z\": [-0.03821955551263656, -9.717387065491616], \"line\": {\"width\": 5, \"color\": \"black\"}, \"y\": [0.26862123923162273, -0.9295194694242566], \"x\": [0.023128883788001042, 0.4937387685947011], \"marker\": {\"size\": 2, \"color\": \"blue\"}, \"text\": [\"Spine1\"]}, {\"type\": \"scatter3d\", \"z\": [-0.0993636545672878, -0.03821955551263656], \"line\": {\"width\": 5, \"color\": \"black\"}, \"y\": [0.5131793876800017, 0.26862123923162273], \"x\": [0.05678156247661048, 0.023128883788001042], \"marker\": {\"size\": 2, \"color\": \"blue\"}, \"text\": [\"Neck\"]}, {\"type\": \"scatter3d\", \"z\": [-0.1420171496367253, -0.0993636545672878], \"line\": {\"width\": 5, \"color\": \"black\"}, \"y\": [0.6186155976297505, 0.5131793876800017], \"x\": [0.08790554363382785, 0.05678156247661048], \"marker\": {\"size\": 2, \"color\": \"blue\"}, \"text\": [\"Head\"]}, {\"type\": \"scatter3d\", \"z\": [-0.1857058591937477, -0.1420171496367253], \"line\": {\"width\": 5, \"color\": \"black\"}, \"y\": [0.7156919044557011, 0.6186155976297505], \"x\": [0.1391097606094055, 0.08790554363382785], \"marker\": {\"size\": 2, \"color\": \"blue\"}, \"text\": [\"Site\"]}, {\"type\": \"scatter3d\", \"z\": [-0.18521828025516918, -0.0993636545672878], \"line\": {\"width\": 5, \"color\": \"black\"}, \"y\": [0.4943591888601935, 0.5131793876800017], \"x\": [-0.1399359529535616, 0.05678156247661048], \"marker\": {\"size\": 2, \"color\": \"blue\"}, \"text\": [\"LShoulder\"]}, {\"type\": \"scatter3d\", \"z\": [-0.14515629285411435, -0.18521828025516918], \"line\": {\"width\": 5, \"color\": \"black\"}, \"y\": [-0.045988649449281827, 0.4943591888601935], \"x\": [-0.22307408440559395, -0.1399359529535616], \"marker\": {\"size\": 2, \"color\": \"blue\"}, \"text\": [\"LElbow\"]}, {\"type\": \"scatter3d\", \"z\": [-0.16955414352505294, -0.14515629285411435], \"line\": {\"width\": 5, \"color\": \"black\"}, \"y\": [-0.15889114673952398, -0.045988649449281827], \"x\": [-0.23496171397207494, -0.22307408440559395], \"marker\": {\"size\": 2, \"color\": \"blue\"}, \"text\": [\"LWrist\"]}, {\"type\": \"scatter3d\", \"z\": [0.05596425468631949, -0.0993636545672878], \"line\": {\"width\": 5, \"color\": \"red\"}, \"y\": [0.4876938467683387, 0.5131793876800017], \"x\": [0.22017388303828034, 0.05678156247661048], \"marker\": {\"size\": 2, \"color\": \"blue\"}, \"text\": [\"RShoulder\"]}, {\"type\": \"scatter3d\", \"z\": [0.07545626970801855, 0.05596425468631949], \"line\": {\"width\": 5, \"color\": \"red\"}, \"y\": [-0.06703222124485753, 0.4876938467683387], \"x\": [0.3203899543076143, 0.22017388303828034], \"marker\": {\"size\": 2, \"color\": \"blue\"}, \"text\": [\"RElbow\"]}, {\"type\": \"scatter3d\", \"z\": [0.057626365622059694, 0.07545626970801855], \"line\": {\"width\": 5, \"color\": \"red\"}, \"y\": [-0.17200450177459659, -0.06703222124485753], \"x\": [0.36332400229602657, 0.3203899543076143], \"marker\": {\"size\": 2, \"color\": \"blue\"}, \"text\": [\"RWrist\"]}, {\"type\": \"scatter3d\", \"z\": [-9.89050039882495, -9.781967065491616], \"line\": {\"width\": 1, \"color\": \"#1f77b4\"}, \"y\": [-0.9363594694242567, -0.9168994694242565], \"x\": [-0.10456789807196559, 0.07519876859470122], \"marker\": {\"size\": 1, \"color\": \"#1f77b4\"}}], \"name\": \"frame3\"}, {\"data\": [{\"type\": \"scatter3d\", \"z\": [0.024109006058463223, -10.231047065491616], \"line\": {\"width\": 5, \"color\": \"red\"}, \"y\": [-0.12287433980174112, -0.9334528027575899], \"x\": [0.09664635743990901, 1.127338768594701], \"marker\": {\"size\": 2, \"color\": \"blue\"}, \"text\": [\"RHip\"]}, {\"type\": \"scatter3d\", \"z\": [-0.1600439879081179, 0.024109006058463223], \"line\": {\"width\": 5, \"color\": \"red\"}, \"y\": [-0.5425863554833692, -0.12287433980174112], \"x\": [0.28516627298393904, 0.09664635743990901], \"marker\": {\"size\": 2, \"color\": \"blue\"}, \"text\": [\"RKnee\"]}, {\"type\": \"scatter3d\", \"z\": [-0.2117582734086767, -0.1600439879081179], \"line\": {\"width\": 5, \"color\": \"red\"}, \"y\": [-1.0345459665659862, -0.5425863554833692], \"x\": [0.3620247633082201, 0.28516627298393904], \"marker\": {\"size\": 2, \"color\": \"blue\"}, \"text\": [\"RAnkle\"]}, {\"type\": \"scatter3d\", \"z\": [-0.09724170234160034, -10.231047065491616], \"line\": {\"width\": 5, \"color\": \"black\"}, \"y\": [-0.12299468994454554, -0.9334528027575899], \"x\": [-0.03344652409606108, 1.127338768594701], \"marker\": {\"size\": 2, \"color\": \"blue\"}, \"text\": [\"LHip\"]}, {\"type\": \"scatter3d\", \"z\": [0.04548213891870567, -0.09724170234160034], \"line\": {\"width\": 5, \"color\": \"black\"}, \"y\": [-0.5741164508717842, -0.12299468994454554], \"x\": [-0.09530375292346016, -0.03344652409606108], \"marker\": {\"size\": 2, \"color\": \"blue\"}, \"text\": [\"LKnee\"]}, {\"type\": \"scatter3d\", \"z\": [0.22817554372093873, 0.04548213891870567], \"line\": {\"width\": 5, \"color\": \"black\"}, \"y\": [-1.0302912072814028, -0.5741164508717842], \"x\": [-0.18448257574776927, -0.09530375292346016], \"marker\": {\"size\": 2, \"color\": \"blue\"}, \"text\": [\"LAnkle\"]}, {\"type\": \"scatter3d\", \"z\": [-0.0697252872884988, -10.231047065491616], \"line\": {\"width\": 5, \"color\": \"black\"}, \"y\": [0.26353490591669804, -0.9334528027575899], \"x\": [-0.005963455470907819, 1.127338768594701], \"marker\": {\"size\": 2, \"color\": \"blue\"}, \"text\": [\"Spine1\"]}, {\"type\": \"scatter3d\", \"z\": [-0.1219015167697588, -0.0697252872884988], \"line\": {\"width\": 5, \"color\": \"black\"}, \"y\": [0.5125172791813686, 0.26353490591669804], \"x\": [0.004618308211971067, -0.005963455470907819], \"marker\": {\"size\": 2, \"color\": \"blue\"}, \"text\": [\"Neck\"]}, {\"type\": \"scatter3d\", \"z\": [-0.164668647299143, -0.1219015167697588], \"line\": {\"width\": 5, \"color\": \"black\"}, \"y\": [0.6212080223186167, 0.5125172791813686], \"x\": [0.020808185167530358, 0.004618308211971067], \"marker\": {\"size\": 2, \"color\": \"blue\"}, \"text\": [\"Head\"]}, {\"type\": \"scatter3d\", \"z\": [-0.2160608943597051, -0.164668647299143], \"line\": {\"width\": 5, \"color\": \"black\"}, \"y\": [0.7217138277024171, 0.6212080223186167], \"x\": [0.055619168377228245, 0.020808185167530358], \"marker\": {\"size\": 2, \"color\": \"blue\"}, \"text\": [\"Site\"]}, {\"type\": \"scatter3d\", \"z\": [-0.25024209270048914, -0.1219015167697588], \"line\": {\"width\": 5, \"color\": \"black\"}, \"y\": [0.46039872945897375, 0.5125172791813686], \"x\": [-0.17274086972163805, 0.004618308211971067], \"marker\": {\"size\": 2, \"color\": \"blue\"}, \"text\": [\"LShoulder\"]}, {\"type\": \"scatter3d\", \"z\": [-0.38268617223705625, -0.25024209270048914], \"line\": {\"width\": 5, \"color\": \"black\"}, \"y\": [0.00996803784283018, 0.46039872945897375], \"x\": [-0.0630048355379107, -0.17274086972163805], \"marker\": {\"size\": 2, \"color\": \"blue\"}, \"text\": [\"LElbow\"]}, {\"type\": \"scatter3d\", \"z\": [-0.4510663745884589, -0.38268617223705625], \"line\": {\"width\": 5, \"color\": \"black\"}, \"y\": [-0.050061813185156456, 0.00996803784283018], \"x\": [0.009134679711246374, -0.0630048355379107], \"marker\": {\"size\": 2, \"color\": \"blue\"}, \"text\": [\"LWrist\"]}, {\"type\": \"scatter3d\", \"z\": [0.04168295343231421, -0.1219015167697588], \"line\": {\"width\": 5, \"color\": \"red\"}, \"y\": [0.5102188331094213, 0.5125172791813686], \"x\": [0.1437875818221297, 0.004618308211971067], \"marker\": {\"size\": 2, \"color\": \"blue\"}, \"text\": [\"RShoulder\"]}, {\"type\": \"scatter3d\", \"z\": [0.13291317223690413, 0.04168295343231421], \"line\": {\"width\": 5, \"color\": \"red\"}, \"y\": [-0.04108669497196238, 0.5102188331094213], \"x\": [0.21641263905808428, 0.1437875818221297], \"marker\": {\"size\": 2, \"color\": \"blue\"}, \"text\": [\"RElbow\"]}, {\"type\": \"scatter3d\", \"z\": [0.1342811588919517, 0.13291317223690413], \"line\": {\"width\": 5, \"color\": \"red\"}, \"y\": [-0.14781071874271912, -0.04108669497196238], \"x\": [0.2587036428140914, 0.21641263905808428], \"marker\": {\"size\": 2, \"color\": \"blue\"}, \"text\": [\"RWrist\"]}, {\"type\": \"scatter3d\", \"z\": [-9.89050039882495, -9.781967065491616, -9.717387065491616], \"line\": {\"width\": 1, \"color\": \"#1f77b4\"}, \"y\": [-0.9363594694242567, -0.9168994694242565, -0.9295194694242566], \"x\": [-0.10456789807196559, 0.07519876859470122, 0.4937387685947011], \"marker\": {\"size\": 1, \"color\": \"#1f77b4\"}}], \"name\": \"frame4\"}, {\"data\": [{\"type\": \"scatter3d\", \"z\": [-0.01944176142641041, -11.064395532158283], \"line\": {\"width\": 5, \"color\": \"red\"}, \"y\": [-0.09711645321092877, -0.9425594694242567], \"x\": [0.12332995738915797, 1.5346987685947013], \"marker\": {\"size\": 2, \"color\": \"blue\"}, \"text\": [\"RHip\"]}, {\"type\": \"scatter3d\", \"z\": [0.08450124816955018, -0.01944176142641041], \"line\": {\"width\": 5, \"color\": \"red\"}, \"y\": [-0.5815570364074072, -0.09711645321092877], \"x\": [0.13443995106643647, 0.12332995738915797], \"marker\": {\"size\": 2, \"color\": \"blue\"}, \"text\": [\"RKnee\"]}, {\"type\": \"scatter3d\", \"z\": [0.4325080734508582, 0.08450124816955018], \"line\": {\"width\": 5, \"color\": \"red\"}, \"y\": [-0.9259764435773872, -0.5815570364074072], \"x\": [0.0301692681367427, 0.13443995106643647], \"marker\": {\"size\": 2, \"color\": \"blue\"}, \"text\": [\"RAnkle\"]}, {\"type\": \"scatter3d\", \"z\": [-0.06678648205934401, -11.064395532158283], \"line\": {\"width\": 5, \"color\": \"black\"}, \"y\": [-0.13929145557317013, -0.9425594694242567], \"x\": [-0.04289252407355093, 1.5346987685947013], \"marker\": {\"size\": 2, \"color\": \"blue\"}, \"text\": [\"LHip\"]}, {\"type\": \"scatter3d\", \"z\": [-0.3343639038964117, -0.06678648205934401], \"line\": {\"width\": 5, \"color\": \"black\"}, \"y\": [-0.5296671361898333, -0.13929145557317013], \"x\": [0.018069809465280695, -0.04289252407355093], \"marker\": {\"size\": 2, \"color\": \"blue\"}, \"text\": [\"LKnee\"]}, {\"type\": \"scatter3d\", \"z\": [-0.34006388231639306, -0.3343639038964117], \"line\": {\"width\": 5, \"color\": \"black\"}, \"y\": [-1.0203190523912546, -0.5296671361898333], \"x\": [0.11109323854538733, 0.018069809465280695], \"marker\": {\"size\": 2, \"color\": \"blue\"}, \"text\": [\"LAnkle\"]}, {\"type\": \"scatter3d\", \"z\": [-0.05811619512797961, -11.064395532158283], \"line\": {\"width\": 5, \"color\": \"black\"}, \"y\": [0.2651003496119728, -0.9425594694242567], \"x\": [-0.026541117256681845, 1.5346987685947013], \"marker\": {\"size\": 2, \"color\": \"blue\"}, \"text\": [\"Spine1\"]}, {\"type\": \"scatter3d\", \"z\": [-0.11291525616415932, -0.05811619512797961], \"line\": {\"width\": 5, \"color\": \"black\"}, \"y\": [0.511938392203265, 0.2651003496119728], \"x\": [-0.05673242739143225, -0.026541117256681845], \"marker\": {\"size\": 2, \"color\": \"blue\"}, \"text\": [\"Neck\"]}, {\"type\": \"scatter3d\", \"z\": [-0.14362360580448374, -0.11291525616415932], \"line\": {\"width\": 5, \"color\": \"black\"}, \"y\": [0.6221250085445356, 0.511938392203265], \"x\": [-0.08538070927551855, -0.05673242739143225], \"marker\": {\"size\": 2, \"color\": \"blue\"}, \"text\": [\"Head\"]}, {\"type\": \"scatter3d\", \"z\": [-0.18974721718730692, -0.14362360580448374], \"line\": {\"width\": 5, \"color\": \"black\"}, \"y\": [0.7274579863649688, 0.6221250085445356], \"x\": [-0.11243548301865802, -0.08538070927551855], \"marker\": {\"size\": 2, \"color\": \"blue\"}, \"text\": [\"Site\"]}, {\"type\": \"scatter3d\", \"z\": [-0.08945855965285787, -0.11291525616415932], \"line\": {\"width\": 5, \"color\": \"black\"}, \"y\": [0.4540431151905331, 0.511938392203265], \"x\": [-0.27649046308801095, -0.05673242739143225], \"marker\": {\"size\": 2, \"color\": \"blue\"}, \"text\": [\"LShoulder\"]}, {\"type\": \"scatter3d\", \"z\": [-0.12159578706308238, -0.08945855965285787], \"line\": {\"width\": 5, \"color\": \"black\"}, \"y\": [-0.040627360479110086, 0.4540431151905331], \"x\": [-0.3666643159414045, -0.27649046308801095], \"marker\": {\"size\": 2, \"color\": \"blue\"}, \"text\": [\"LElbow\"]}, {\"type\": \"scatter3d\", \"z\": [-0.18503852787298491, -0.12159578706308238], \"line\": {\"width\": 5, \"color\": \"black\"}, \"y\": [-0.12881403166976724, -0.040627360479110086], \"x\": [-0.40767253964449623, -0.3666643159414045], \"marker\": {\"size\": 2, \"color\": \"blue\"}, \"text\": [\"LWrist\"]}, {\"type\": \"scatter3d\", \"z\": [-0.07905304445721129, -0.11291525616415932], \"line\": {\"width\": 5, \"color\": \"red\"}, \"y\": [0.5166255951390977, 0.511938392203265], \"x\": [0.15230750143733096, -0.05673242739143225], \"marker\": {\"size\": 2, \"color\": \"blue\"}, \"text\": [\"RShoulder\"]}, {\"type\": \"scatter3d\", \"z\": [-0.20712271607394506, -0.07905304445721129], \"line\": {\"width\": 5, \"color\": \"red\"}, \"y\": [-0.0067147657528476845, 0.5166255951390977], \"x\": [0.23369359526150935, 0.15230750143733096], \"marker\": {\"size\": 2, \"color\": \"blue\"}, \"text\": [\"RElbow\"]}, {\"type\": \"scatter3d\", \"z\": [-0.2781151892663498, -0.20712271607394506], \"line\": {\"width\": 5, \"color\": \"red\"}, \"y\": [-0.09590063018246542, -0.0067147657528476845], \"x\": [0.24734526079973396, 0.23369359526150935], \"marker\": {\"size\": 2, \"color\": \"blue\"}, \"text\": [\"RWrist\"]}, {\"type\": \"scatter3d\", \"z\": [-9.89050039882495, -9.781967065491616, -9.717387065491616, -10.231047065491616], \"line\": {\"width\": 1, \"color\": \"#1f77b4\"}, \"y\": [-0.9363594694242567, -0.9168994694242565, -0.9295194694242566, -0.9334528027575899], \"x\": [-0.10456789807196559, 0.07519876859470122, 0.4937387685947011, 1.127338768594701], \"marker\": {\"size\": 1, \"color\": \"#1f77b4\"}}], \"name\": \"frame5\"}, {\"data\": [{\"type\": \"scatter3d\", \"z\": [-0.10002699459562692, -11.62703239882495], \"line\": {\"width\": 5, \"color\": \"red\"}, \"y\": [-0.12233813451966036, -0.8539261360909234], \"x\": [-0.00691716384507024, 1.5842921019280345], \"marker\": {\"size\": 2, \"color\": \"blue\"}, \"text\": [\"RHip\"]}, {\"type\": \"scatter3d\", \"z\": [-0.17143246447943028, -0.10002699459562692], \"line\": {\"width\": 5, \"color\": \"red\"}, \"y\": [-0.38437436829817884, -0.12233813451966036], \"x\": [-0.4214633384854376, -0.00691716384507024], \"marker\": {\"size\": 2, \"color\": \"blue\"}, \"text\": [\"RKnee\"]}, {\"type\": \"scatter3d\", \"z\": [-0.09510150274611462, -0.17143246447943028], \"line\": {\"width\": 5, \"color\": \"red\"}, \"y\": [-0.8031077295046085, -0.38437436829817884], \"x\": [-0.1579451981422093, -0.4214633384854376], \"marker\": {\"size\": 2, \"color\": \"blue\"}, \"text\": [\"RAnkle\"]}, {\"type\": \"scatter3d\", \"z\": [0.07175884163000923, -11.62703239882495], \"line\": {\"width\": 5, \"color\": \"black\"}, \"y\": [-0.13369336469717163, -0.8539261360909234], \"x\": [-0.0517596878547788, 1.5842921019280345], \"marker\": {\"size\": 2, \"color\": \"blue\"}, \"text\": [\"LHip\"]}, {\"type\": \"scatter3d\", \"z\": [0.06438239396522327, 0.07175884163000923], \"line\": {\"width\": 5, \"color\": \"black\"}, \"y\": [-0.6104924447388209, -0.13369336469717163], \"x\": [-0.06952144721810027, -0.0517596878547788], \"marker\": {\"size\": 2, \"color\": \"blue\"}, \"text\": [\"LKnee\"]}, {\"type\": \"scatter3d\", \"z\": [0.1400026316997991, 0.06438239396522327], \"line\": {\"width\": 5, \"color\": \"black\"}, \"y\": [-1.0930668103224304, -0.6104924447388209], \"x\": [0.03453965171170981, -0.06952144721810027], \"marker\": {\"size\": 2, \"color\": \"blue\"}, \"text\": [\"LAnkle\"]}, {\"type\": \"scatter3d\", \"z\": [0.010587711630876129, -11.62703239882495], \"line\": {\"width\": 5, \"color\": \"black\"}, \"y\": [0.1932262772064972, -0.8539261360909234], \"x\": [-0.19098184534515128, 1.5842921019280345], \"marker\": {\"size\": 2, \"color\": \"blue\"}, \"text\": [\"Spine1\"]}, {\"type\": \"scatter3d\", \"z\": [0.009005000885514036, 0.010587711630876129], \"line\": {\"width\": 5, \"color\": \"black\"}, \"y\": [0.3879612597356321, 0.1932262772064972], \"x\": [-0.35446108258419806, -0.19098184534515128], \"marker\": {\"size\": 2, \"color\": \"blue\"}, \"text\": [\"Neck\"]}, {\"type\": \"scatter3d\", \"z\": [0.01367522097931051, 0.009005000885514036], \"line\": {\"width\": 5, \"color\": \"black\"}, \"y\": [0.4985331522238703, 0.3879612597356321], \"x\": [-0.3951656627825719, -0.35446108258419806], \"marker\": {\"size\": 2, \"color\": \"blue\"}, \"text\": [\"Head\"]}, {\"type\": \"scatter3d\", \"z\": [0.004947959092676868, 0.01367522097931051], \"line\": {\"width\": 5, \"color\": \"black\"}, \"y\": [0.6092688248160374, 0.4985331522238703], \"x\": [-0.43536305375920725, -0.3951656627825719], \"marker\": {\"size\": 2, \"color\": \"blue\"}, \"text\": [\"Site\"]}, {\"type\": \"scatter3d\", \"z\": [0.22199997837043206, 0.009005000885514036], \"line\": {\"width\": 5, \"color\": \"black\"}, \"y\": [0.3735910647015668, 0.3879612597356321], \"x\": [-0.3390689307506525, -0.35446108258419806], \"marker\": {\"size\": 2, \"color\": \"blue\"}, \"text\": [\"LShoulder\"]}, {\"type\": \"scatter3d\", \"z\": [0.261717230480361, 0.22199997837043206], \"line\": {\"width\": 5, \"color\": \"black\"}, \"y\": [-0.03727710831226361, 0.3735910647015668], \"x\": [-0.6680895652238709, -0.3390689307506525], \"marker\": {\"size\": 2, \"color\": \"blue\"}, \"text\": [\"LElbow\"]}, {\"type\": \"scatter3d\", \"z\": [0.24706300846306384, 0.261717230480361], \"line\": {\"width\": 5, \"color\": \"black\"}, \"y\": [-0.09331709076400796, -0.03727710831226361], \"x\": [-0.7687291145686509, -0.6680895652238709], \"marker\": {\"size\": 2, \"color\": \"blue\"}, \"text\": [\"LWrist\"]}, {\"type\": \"scatter3d\", \"z\": [-0.20967932670892075, 0.009005000885514036], \"line\": {\"width\": 5, \"color\": \"red\"}, \"y\": [0.38082739189615933, 0.3879612597356321], \"x\": [-0.3004276437765332, -0.35446108258419806], \"marker\": {\"size\": 2, \"color\": \"blue\"}, \"text\": [\"RShoulder\"]}, {\"type\": \"scatter3d\", \"z\": [-0.20174540372646632, -0.20967932670892075], \"line\": {\"width\": 5, \"color\": \"red\"}, \"y\": [0.018482701122753298, 0.38082739189615933], \"x\": [-0.688377048858789, -0.3004276437765332], \"marker\": {\"size\": 2, \"color\": \"blue\"}, \"text\": [\"RElbow\"]}, {\"type\": \"scatter3d\", \"z\": [-0.1742564286661441, -0.20174540372646632], \"line\": {\"width\": 5, \"color\": \"red\"}, \"y\": [-0.01302779381251118, 0.018482701122753298], \"x\": [-0.7952969375374986, -0.688377048858789], \"marker\": {\"size\": 2, \"color\": \"blue\"}, \"text\": [\"RWrist\"]}, {\"type\": \"scatter3d\", \"z\": [-9.89050039882495, -9.781967065491616, -9.717387065491616, -10.231047065491616, -11.064395532158283], \"line\": {\"width\": 1, \"color\": \"#1f77b4\"}, \"y\": [-0.9363594694242567, -0.9168994694242565, -0.9295194694242566, -0.9334528027575899, -0.9425594694242567], \"x\": [-0.10456789807196559, 0.07519876859470122, 0.4937387685947011, 1.127338768594701, 1.5346987685947013], \"marker\": {\"size\": 1, \"color\": \"#1f77b4\"}}], \"name\": \"frame6\"}, {\"data\": [{\"type\": \"scatter3d\", \"z\": [-0.09034042182384816, -11.72928039882495], \"line\": {\"width\": 5, \"color\": \"red\"}, \"y\": [-0.12340842413097874, -0.5647928027575899], \"x\": [-0.04035882802363311, 1.3928254352613678], \"marker\": {\"size\": 2, \"color\": \"blue\"}, \"text\": [\"RHip\"]}, {\"type\": \"scatter3d\", \"z\": [-0.050490437309456127, -0.09034042182384816], \"line\": {\"width\": 5, \"color\": \"red\"}, \"y\": [-0.6114570278241427, -0.12340842413097874], \"x\": [-0.11671849681858215, -0.04035882802363311], \"marker\": {\"size\": 2, \"color\": \"blue\"}, \"text\": [\"RKnee\"]}, {\"type\": \"scatter3d\", \"z\": [-0.006127006033112892, -0.050490437309456127], \"line\": {\"width\": 5, \"color\": \"red\"}, \"y\": [-1.0855262832489116, -0.6114570278241427], \"x\": [0.03786507547393203, -0.11671849681858215], \"marker\": {\"size\": 2, \"color\": \"blue\"}, \"text\": [\"RAnkle\"]}, {\"type\": \"scatter3d\", \"z\": [0.0847825744894628, -11.72928039882495], \"line\": {\"width\": 5, \"color\": \"black\"}, \"y\": [-0.13558173876780288, -0.5647928027575899], \"x\": [-0.011481270774327479, 1.3928254352613678], \"marker\": {\"size\": 2, \"color\": \"blue\"}, \"text\": [\"LHip\"]}, {\"type\": \"scatter3d\", \"z\": [0.19193571969034728, 0.0847825744894628], \"line\": {\"width\": 5, \"color\": \"black\"}, \"y\": [-0.38559882748355667, -0.13558173876780288], \"x\": [-0.40354875683769886, -0.011481270774327479], \"marker\": {\"size\": 2, \"color\": \"blue\"}, \"text\": [\"LKnee\"]}, {\"type\": \"scatter3d\", \"z\": [0.11539921314541957, 0.19193571969034728], \"line\": {\"width\": 5, \"color\": \"black\"}, \"y\": [-0.8078183716621832, -0.38559882748355667], \"x\": [-0.14801408078877643, -0.40354875683769886], \"marker\": {\"size\": 2, \"color\": \"blue\"}, \"text\": [\"LAnkle\"]}, {\"type\": \"scatter3d\", \"z\": [0.03122505929871089, -11.72928039882495], \"line\": {\"width\": 5, \"color\": \"black\"}, \"y\": [0.14828889094537678, -0.5647928027575899], \"x\": [-0.22501375358375286, 1.3928254352613678], \"marker\": {\"size\": 2, \"color\": \"blue\"}, \"text\": [\"Spine1\"]}, {\"type\": \"scatter3d\", \"z\": [0.06110218121009581, 0.03122505929871089], \"line\": {\"width\": 5, \"color\": \"black\"}, \"y\": [0.3037688639215592, 0.14828889094537678], \"x\": [-0.42323338473372096, -0.22501375358375286], \"marker\": {\"size\": 2, \"color\": \"blue\"}, \"text\": [\"Neck\"]}, {\"type\": \"scatter3d\", \"z\": [0.06976464247155612, 0.06110218121009581], \"line\": {\"width\": 5, \"color\": \"black\"}, \"y\": [0.41558579726587075, 0.3037688639215592], \"x\": [-0.45965799723197953, -0.42323338473372096], \"marker\": {\"size\": 2, \"color\": \"blue\"}, \"text\": [\"Head\"]}, {\"type\": \"scatter3d\", \"z\": [0.06359250873762612, 0.06976464247155612], \"line\": {\"width\": 5, \"color\": \"black\"}, \"y\": [0.5289233361629251, 0.41558579726587075], \"x\": [-0.49238247687238335, -0.45965799723197953], \"marker\": {\"size\": 2, \"color\": \"blue\"}, \"text\": [\"Site\"]}, {\"type\": \"scatter3d\", \"z\": [0.2588327951822933, 0.06110218121009581], \"line\": {\"width\": 5, \"color\": \"black\"}, \"y\": [0.31899403674894833, 0.3037688639215592], \"x\": [-0.35996137202189304, -0.42323338473372096], \"marker\": {\"size\": 2, \"color\": \"blue\"}, \"text\": [\"LShoulder\"]}, {\"type\": \"scatter3d\", \"z\": [0.287593926350981, 0.2588327951822933], \"line\": {\"width\": 5, \"color\": \"black\"}, \"y\": [0.1291542176843299, 0.31899403674894833], \"x\": [-0.8191266715853599, -0.35996137202189304], \"marker\": {\"size\": 2, \"color\": \"blue\"}, \"text\": [\"LElbow\"]}, {\"type\": \"scatter3d\", \"z\": [0.25909638618253616, 0.287593926350981], \"line\": {\"width\": 5, \"color\": \"black\"}, \"y\": [0.14311085605644314, 0.1291542176843299], \"x\": [-0.9308255847320075, -0.8191266715853599], \"marker\": {\"size\": 2, \"color\": \"blue\"}, \"text\": [\"LWrist\"]}, {\"type\": \"scatter3d\", \"z\": [-0.16732368712653134, 0.06110218121009581], \"line\": {\"width\": 5, \"color\": \"red\"}, \"y\": [0.27472833728078183, 0.3037688639215592], \"x\": [-0.425716496239234, -0.42323338473372096], \"marker\": {\"size\": 2, \"color\": \"blue\"}, \"text\": [\"RShoulder\"]}, {\"type\": \"scatter3d\", \"z\": [-0.11688047699915494, -0.16732368712653134], \"line\": {\"width\": 5, \"color\": \"red\"}, \"y\": [-0.23717982342052024, 0.27472833728078183], \"x\": [-0.5281890528482465, -0.425716496239234], \"marker\": {\"size\": 2, \"color\": \"blue\"}, \"text\": [\"RElbow\"]}, {\"type\": \"scatter3d\", \"z\": [-0.08120999455569766, -0.11688047699915494], \"line\": {\"width\": 5, \"color\": \"red\"}, \"y\": [-0.3198645789258172, -0.23717982342052024], \"x\": [-0.5994018713943493, -0.5281890528482465], \"marker\": {\"size\": 2, \"color\": \"blue\"}, \"text\": [\"RWrist\"]}, {\"type\": \"scatter3d\", \"z\": [-9.89050039882495, -9.781967065491616, -9.717387065491616, -10.231047065491616, -11.064395532158283, -11.62703239882495], \"line\": {\"width\": 1, \"color\": \"#1f77b4\"}, \"y\": [-0.9363594694242567, -0.9168994694242565, -0.9295194694242566, -0.9334528027575899, -0.9425594694242567, -0.8539261360909234], \"x\": [-0.10456789807196559, 0.07519876859470122, 0.4937387685947011, 1.127338768594701, 1.5346987685947013, 1.5842921019280345], \"marker\": {\"size\": 1, \"color\": \"#1f77b4\"}}], \"name\": \"frame7\"}, {\"data\": [{\"type\": \"scatter3d\", \"z\": [-0.09735135509946424, -11.640749732158284], \"line\": {\"width\": 5, \"color\": \"red\"}, \"y\": [-0.12459482000024469, -0.27810613609092316], \"x\": [-0.004325557842400185, 1.1768121019280344], \"marker\": {\"size\": 2, \"color\": \"blue\"}, \"text\": [\"RHip\"]}, {\"type\": \"scatter3d\", \"z\": [-0.10416479375845356, -0.09735135509946424], \"line\": {\"width\": 5, \"color\": \"red\"}, \"y\": [-0.40135610717082204, -0.12459482000024469], \"x\": [-0.41538154773726144, -0.004325557842400185], \"marker\": {\"size\": 2, \"color\": \"blue\"}, \"text\": [\"RKnee\"]}, {\"type\": \"scatter3d\", \"z\": [-0.05687093572226587, -0.10416479375845356], \"line\": {\"width\": 5, \"color\": \"red\"}, \"y\": [-0.8119313568273836, -0.40135610717082204], \"x\": [-0.13289772668227529, -0.41538154773726144], \"marker\": {\"size\": 2, \"color\": \"blue\"}, \"text\": [\"RAnkle\"]}, {\"type\": \"scatter3d\", \"z\": [0.07974663186175235, -11.640749732158284], \"line\": {\"width\": 5, \"color\": \"black\"}, \"y\": [-0.13835324547051853, -0.27810613609092316], \"x\": [-0.014183320395322108, 1.1768121019280344], \"marker\": {\"size\": 2, \"color\": \"blue\"}, \"text\": [\"LHip\"]}, {\"type\": \"scatter3d\", \"z\": [0.07665492503390325, 0.07974663186175235], \"line\": {\"width\": 5, \"color\": \"black\"}, \"y\": [-0.6064416825907222, -0.13835324547051853], \"x\": [-0.10687048880417271, -0.014183320395322108], \"marker\": {\"size\": 2, \"color\": \"blue\"}, \"text\": [\"LKnee\"]}, {\"type\": \"scatter3d\", \"z\": [0.05329989082485653, 0.07665492503390325], \"line\": {\"width\": 5, \"color\": \"black\"}, \"y\": [-1.0731401152926656, -0.6064416825907222], \"x\": [0.0694027827788446, -0.10687048880417271], \"marker\": {\"size\": 2, \"color\": \"blue\"}, \"text\": [\"LAnkle\"]}, {\"type\": \"scatter3d\", \"z\": [0.01372331915047198, -11.640749732158284], \"line\": {\"width\": 5, \"color\": \"black\"}, \"y\": [0.10272480522169247, -0.27810613609092316], \"x\": [-0.2505033389033827, 1.1768121019280344], \"marker\": {\"size\": 2, \"color\": \"blue\"}, \"text\": [\"Spine1\"]}, {\"type\": \"scatter3d\", \"z\": [0.01758413100082379, 0.01372331915047198], \"line\": {\"width\": 5, \"color\": \"black\"}, \"y\": [0.18778122488478655, 0.10272480522169247], \"x\": [-0.48952085601310036, -0.2505033389033827], \"marker\": {\"size\": 2, \"color\": \"blue\"}, \"text\": [\"Neck\"]}, {\"type\": \"scatter3d\", \"z\": [0.0447132731375266, 0.01758413100082379], \"line\": {\"width\": 5, \"color\": \"black\"}, \"y\": [0.2855278026583732, 0.18778122488478655], \"x\": [-0.549641013978292, -0.48952085601310036], \"marker\": {\"size\": 2, \"color\": \"blue\"}, \"text\": [\"Head\"]}, {\"type\": \"scatter3d\", \"z\": [0.06122748208910345, 0.0447132731375266], \"line\": {\"width\": 5, \"color\": \"black\"}, \"y\": [0.39723309231081716, 0.2855278026583732], \"x\": [-0.5843338618316062, -0.549641013978292], \"marker\": {\"size\": 2, \"color\": \"blue\"}, \"text\": [\"Site\"]}, {\"type\": \"scatter3d\", \"z\": [0.23414408018452448, 0.01758413100082379], \"line\": {\"width\": 5, \"color\": \"black\"}, \"y\": [0.18518156073508107, 0.18778122488478655], \"x\": [-0.45972083228137095, -0.48952085601310036], \"marker\": {\"size\": 2, \"color\": \"blue\"}, \"text\": [\"LShoulder\"]}, {\"type\": \"scatter3d\", \"z\": [0.20791455521244018, 0.23414408018452448], \"line\": {\"width\": 5, \"color\": \"black\"}, \"y\": [-0.14146952754825826, 0.18518156073508107], \"x\": [-0.6684827413126774, -0.45972083228137095], \"marker\": {\"size\": 2, \"color\": \"blue\"}, \"text\": [\"LElbow\"]}, {\"type\": \"scatter3d\", \"z\": [0.16721176024736906, 0.20791455521244018], \"line\": {\"width\": 5, \"color\": \"black\"}, \"y\": [-0.14106047549450662, -0.14146952754825826], \"x\": [-0.7772331891595403, -0.6684827413126774], \"marker\": {\"size\": 2, \"color\": \"blue\"}, \"text\": [\"LWrist\"]}, {\"type\": \"scatter3d\", \"z\": [-0.19392863105532854, 0.01758413100082379], \"line\": {\"width\": 5, \"color\": \"red\"}, \"y\": [0.2462033601048872, 0.18778122488478655], \"x\": [-0.4293460101830012, -0.48952085601310036], \"marker\": {\"size\": 2, \"color\": \"blue\"}, \"text\": [\"RShoulder\"]}, {\"type\": \"scatter3d\", \"z\": [-0.22890917956126344, -0.19392863105532854], \"line\": {\"width\": 5, \"color\": \"red\"}, \"y\": [-0.08285151436750793, 0.2462033601048872], \"x\": [-0.6722168380871675, -0.4293460101830012], \"marker\": {\"size\": 2, \"color\": \"blue\"}, \"text\": [\"RElbow\"]}, {\"type\": \"scatter3d\", \"z\": [-0.19522016411376697, -0.22890917956126344], \"line\": {\"width\": 5, \"color\": \"red\"}, \"y\": [-0.08072281093895217, -0.08285151436750793], \"x\": [-0.7819480391919196, -0.6722168380871675], \"marker\": {\"size\": 2, \"color\": \"blue\"}, \"text\": [\"RWrist\"]}, {\"type\": \"scatter3d\", \"z\": [-9.89050039882495, -9.781967065491616, -9.717387065491616, -10.231047065491616, -11.064395532158283, -11.62703239882495, -11.72928039882495], \"line\": {\"width\": 1, \"color\": \"#1f77b4\"}, \"y\": [-0.9363594694242567, -0.9168994694242565, -0.9295194694242566, -0.9334528027575899, -0.9425594694242567, -0.8539261360909234, -0.5647928027575899], \"x\": [-0.10456789807196559, 0.07519876859470122, 0.4937387685947011, 1.127338768594701, 1.5346987685947013, 1.5842921019280345, 1.3928254352613678], \"marker\": {\"size\": 1, \"color\": \"#1f77b4\"}}], \"name\": \"frame8\"}, {\"data\": [{\"type\": \"scatter3d\", \"z\": [-0.09575577690143966, -11.71298039882495], \"line\": {\"width\": 5, \"color\": \"red\"}, \"y\": [-0.12400073093409181, -0.09269280275758995], \"x\": [0.02178338539015745, 0.7025454352613678], \"marker\": {\"size\": 2, \"color\": \"blue\"}, \"text\": [\"RHip\"]}, {\"type\": \"scatter3d\", \"z\": [-0.04586355285559307, -0.09575577690143966], \"line\": {\"width\": 5, \"color\": \"red\"}, \"y\": [-0.6170600415190155, -0.12400073093409181], \"x\": [0.025463341422182872, 0.02178338539015745], \"marker\": {\"size\": 2, \"color\": \"blue\"}, \"text\": [\"RKnee\"]}, {\"type\": \"scatter3d\", \"z\": [0.009348362158114298, -0.04586355285559307], \"line\": {\"width\": 5, \"color\": \"red\"}, \"y\": [-0.9991516616468952, -0.6170600415190155], \"x\": [0.34415361749739004, 0.025463341422182872], \"marker\": {\"size\": 2, \"color\": \"blue\"}, \"text\": [\"RAnkle\"]}, {\"type\": \"scatter3d\", \"z\": [0.08167148296499427, -11.71298039882495], \"line\": {\"width\": 5, \"color\": \"black\"}, \"y\": [-0.1348871639570326, -0.09269280275758995], \"x\": [0.02894018439614665, 0.7025454352613678], \"marker\": {\"size\": 2, \"color\": \"blue\"}, \"text\": [\"LHip\"]}, {\"type\": \"scatter3d\", \"z\": [0.13595037624160433, 0.08167148296499427], \"line\": {\"width\": 5, \"color\": \"black\"}, \"y\": [-0.6028983369393481, -0.1348871639570326], \"x\": [-0.04673410788847521, 0.02894018439614665], \"marker\": {\"size\": 2, \"color\": \"blue\"}, \"text\": [\"LKnee\"]}, {\"type\": \"scatter3d\", \"z\": [0.1274284906298071, 0.13595037624160433], \"line\": {\"width\": 5, \"color\": \"black\"}, \"y\": [-0.967977863735461, -0.6028983369393481], \"x\": [0.2939555860617269, -0.04673410788847521], \"marker\": {\"size\": 2, \"color\": \"blue\"}, \"text\": [\"LAnkle\"]}, {\"type\": \"scatter3d\", \"z\": [0.03620076461686672, -11.71298039882495], \"line\": {\"width\": 5, \"color\": \"black\"}, \"y\": [0.1032877059937729, -0.09269280275758995], \"x\": [-0.2483328474910031, 0.7025454352613678], \"marker\": {\"size\": 2, \"color\": \"blue\"}, \"text\": [\"Spine1\"]}, {\"type\": \"scatter3d\", \"z\": [0.06218822390167844, 0.03620076461686672], \"line\": {\"width\": 5, \"color\": \"black\"}, \"y\": [0.17188713839697312, 0.1032877059937729], \"x\": [-0.490732581744659, -0.2483328474910031], \"marker\": {\"size\": 2, \"color\": \"blue\"}, \"text\": [\"Neck\"]}, {\"type\": \"scatter3d\", \"z\": [0.091835631052545, 0.06218822390167844], \"line\": {\"width\": 5, \"color\": \"black\"}, \"y\": [0.2559972351072799, 0.17188713839697312], \"x\": [-0.5678775108968355, -0.490732581744659], \"marker\": {\"size\": 2, \"color\": \"blue\"}, \"text\": [\"Head\"]}, {\"type\": \"scatter3d\", \"z\": [0.10889304945668954, 0.091835631052545], \"line\": {\"width\": 5, \"color\": \"black\"}, \"y\": [0.35668157094420594, 0.2559972351072799], \"x\": [-0.6272584297198804, -0.5678775108968355], \"marker\": {\"size\": 2, \"color\": \"blue\"}, \"text\": [\"Site\"]}, {\"type\": \"scatter3d\", \"z\": [0.27564870153579335, 0.06218822390167844], \"line\": {\"width\": 5, \"color\": \"black\"}, \"y\": [0.18468824479061907, 0.17188713839697312], \"x\": [-0.43593622099171603, -0.490732581744659], \"marker\": {\"size\": 2, \"color\": \"blue\"}, \"text\": [\"LShoulder\"]}, {\"type\": \"scatter3d\", \"z\": [0.2576328282191529, 0.27564870153579335], \"line\": {\"width\": 5, \"color\": \"black\"}, \"y\": [-0.2006032688755326, 0.18468824479061907], \"x\": [-0.278146431371798, -0.43593622099171603], \"marker\": {\"size\": 2, \"color\": \"blue\"}, \"text\": [\"LElbow\"]}, {\"type\": \"scatter3d\", \"z\": [0.23025397896477173, 0.2576328282191529], \"line\": {\"width\": 5, \"color\": \"black\"}, \"y\": [-0.2984339680200345, -0.2006032688755326], \"x\": [-0.3343878544232135, -0.278146431371798], \"marker\": {\"size\": 2, \"color\": \"blue\"}, \"text\": [\"LWrist\"]}, {\"type\": \"scatter3d\", \"z\": [-0.15499906473662506, 0.06218822390167844], \"line\": {\"width\": 5, \"color\": \"red\"}, \"y\": [0.22975804643562747, 0.17188713839697312], \"x\": [-0.4560297599615267, -0.490732581744659], \"marker\": {\"size\": 2, \"color\": \"blue\"}, \"text\": [\"RShoulder\"]}, {\"type\": \"scatter3d\", \"z\": [-0.14259516746160195, -0.15499906473662506], \"line\": {\"width\": 5, \"color\": \"red\"}, \"y\": [-0.1686154096773802, 0.22975804643562747], \"x\": [-0.2764029005377305, -0.4560297599615267], \"marker\": {\"size\": 2, \"color\": \"blue\"}, \"text\": [\"RElbow\"]}, {\"type\": \"scatter3d\", \"z\": [-0.10742820248094276, -0.14259516746160195], \"line\": {\"width\": 5, \"color\": \"red\"}, \"y\": [-0.2661429992060791, -0.1686154096773802], \"x\": [-0.32571893738955754, -0.2764029005377305], \"marker\": {\"size\": 2, \"color\": \"blue\"}, \"text\": [\"RWrist\"]}, {\"type\": \"scatter3d\", \"z\": [-9.89050039882495, -9.781967065491616, -9.717387065491616, -10.231047065491616, -11.064395532158283, -11.62703239882495, -11.72928039882495, -11.640749732158284], \"line\": {\"width\": 1, \"color\": \"#1f77b4\"}, \"y\": [-0.9363594694242567, -0.9168994694242565, -0.9295194694242566, -0.9334528027575899, -0.9425594694242567, -0.8539261360909234, -0.5647928027575899, -0.27810613609092316], \"x\": [-0.10456789807196559, 0.07519876859470122, 0.4937387685947011, 1.127338768594701, 1.5346987685947013, 1.5842921019280345, 1.3928254352613678, 1.1768121019280344], \"marker\": {\"size\": 1, \"color\": \"#1f77b4\"}}], \"name\": \"frame9\"}, {\"data\": [{\"type\": \"scatter3d\", \"z\": [-0.09275957813650848, -11.67711439882495], \"line\": {\"width\": 5, \"color\": \"red\"}, \"y\": [-0.12684886023217978, -0.08301946942425675], \"x\": [0.018024796336642224, 0.5634387685947011], \"marker\": {\"size\": 2, \"color\": \"blue\"}, \"text\": [\"RHip\"]}, {\"type\": \"scatter3d\", \"z\": [-0.05881085526391239, -0.09275957813650848], \"line\": {\"width\": 5, \"color\": \"red\"}, \"y\": [-0.6093904315357188, -0.12684886023217978], \"x\": [0.12578089143269722, 0.018024796336642224], \"marker\": {\"size\": 2, \"color\": \"blue\"}, \"text\": [\"RKnee\"]}, {\"type\": \"scatter3d\", \"z\": [-0.03149402456132222, -0.05881085526391239], \"line\": {\"width\": 5, \"color\": \"red\"}, \"y\": [-0.9784256448172481, -0.6093904315357188], \"x\": [0.4629346485153414, 0.12578089143269722], \"marker\": {\"size\": 2, \"color\": \"blue\"}, \"text\": [\"RAnkle\"]}, {\"type\": \"scatter3d\", \"z\": [0.08470359381223425, -11.67711439882495], \"line\": {\"width\": 5, \"color\": \"black\"}, \"y\": [-0.13300454394390826, -0.08301946942425675], \"x\": [0.02893794893424062, 0.5634387685947011], \"marker\": {\"size\": 2, \"color\": \"blue\"}, \"text\": [\"LHip\"]}, {\"type\": \"scatter3d\", \"z\": [0.04469333153580024, 0.08470359381223425], \"line\": {\"width\": 5, \"color\": \"black\"}, \"y\": [-0.5972422221288021, -0.13300454394390826], \"x\": [0.13184476051862892, 0.02893794893424062], \"marker\": {\"size\": 2, \"color\": \"blue\"}, \"text\": [\"LKnee\"]}, {\"type\": \"scatter3d\", \"z\": [0.10014092476525605, 0.04469333153580024], \"line\": {\"width\": 5, \"color\": \"black\"}, \"y\": [-0.9688467074404989, -0.5972422221288021], \"x\": [0.46087488358523565, 0.13184476051862892], \"marker\": {\"size\": 2, \"color\": \"blue\"}, \"text\": [\"LAnkle\"]}, {\"type\": \"scatter3d\", \"z\": [0.022771127825476967, -11.67711439882495], \"line\": {\"width\": 5, \"color\": \"black\"}, \"y\": [0.16390710402253084, -0.08301946942425675], \"x\": [-0.21587942598740045, 0.5634387685947011], \"marker\": {\"size\": 2, \"color\": \"blue\"}, \"text\": [\"Spine1\"]}, {\"type\": \"scatter3d\", \"z\": [0.03913227490959592, 0.022771127825476967], \"line\": {\"width\": 5, \"color\": \"black\"}, \"y\": [0.2513984394371789, 0.16390710402253084], \"x\": [-0.4456057115068581, -0.21587942598740045], \"marker\": {\"size\": 2, \"color\": \"blue\"}, \"text\": [\"Neck\"]}, {\"type\": \"scatter3d\", \"z\": [0.05516671191225342, 0.03913227490959592], \"line\": {\"width\": 5, \"color\": \"black\"}, \"y\": [0.3473939204648422, 0.2513984394371789], \"x\": [-0.5121833478839193, -0.4456057115068581], \"marker\": {\"size\": 2, \"color\": \"blue\"}, \"text\": [\"Head\"]}, {\"type\": \"scatter3d\", \"z\": [0.05679699176497088, 0.05516671191225342], \"line\": {\"width\": 5, \"color\": \"black\"}, \"y\": [0.4603409684571107, 0.3473939204648422], \"x\": [-0.5467476511929684, -0.5121833478839193], \"marker\": {\"size\": 2, \"color\": \"blue\"}, \"text\": [\"Site\"]}, {\"type\": \"scatter3d\", \"z\": [0.24688164018410852, 0.03913227490959592], \"line\": {\"width\": 5, \"color\": \"black\"}, \"y\": [0.3143477167734565, 0.2513984394371789], \"x\": [-0.37804751238380796, -0.4456057115068581], \"marker\": {\"size\": 2, \"color\": \"blue\"}, \"text\": [\"LShoulder\"]}, {\"type\": \"scatter3d\", \"z\": [0.2084221888383908, 0.24688164018410852], \"line\": {\"width\": 5, \"color\": \"black\"}, \"y\": [-0.14920567647141514, 0.3143477167734565], \"x\": [-0.16564280514527918, -0.37804751238380796], \"marker\": {\"size\": 2, \"color\": \"blue\"}, \"text\": [\"LElbow\"]}, {\"type\": \"scatter3d\", \"z\": [0.18059115289411132, 0.2084221888383908], \"line\": {\"width\": 5, \"color\": \"black\"}, \"y\": [-0.26158420928679593, -0.14920567647141514], \"x\": [-0.17458951118577554, -0.16564280514527918], \"marker\": {\"size\": 2, \"color\": \"blue\"}, \"text\": [\"LWrist\"]}, {\"type\": \"scatter3d\", \"z\": [-0.18621794090322652, 0.03913227490959592], \"line\": {\"width\": 5, \"color\": \"red\"}, \"y\": [0.30637094074799376, 0.2513984394371789], \"x\": [-0.3939742141858241, -0.4456057115068581], \"marker\": {\"size\": 2, \"color\": \"blue\"}, \"text\": [\"RShoulder\"]}, {\"type\": \"scatter3d\", \"z\": [-0.18033955578781224, -0.18621794090322652], \"line\": {\"width\": 5, \"color\": \"red\"}, \"y\": [-0.1698611528415206, 0.30637094074799376], \"x\": [-0.16629522442066852, -0.3939742141858241], \"marker\": {\"size\": 2, \"color\": \"blue\"}, \"text\": [\"RElbow\"]}, {\"type\": \"scatter3d\", \"z\": [-0.15616898082090636, -0.18033955578781224], \"line\": {\"width\": 5, \"color\": \"red\"}, \"y\": [-0.2819673422756448, -0.1698611528415206], \"x\": [-0.17162469271773823, -0.16629522442066852], \"marker\": {\"size\": 2, \"color\": \"blue\"}, \"text\": [\"RWrist\"]}, {\"type\": \"scatter3d\", \"z\": [-9.89050039882495, -9.781967065491616, -9.717387065491616, -10.231047065491616, -11.064395532158283, -11.62703239882495, -11.72928039882495, -11.640749732158284, -11.71298039882495], \"line\": {\"width\": 1, \"color\": \"#1f77b4\"}, \"y\": [-0.9363594694242567, -0.9168994694242565, -0.9295194694242566, -0.9334528027575899, -0.9425594694242567, -0.8539261360909234, -0.5647928027575899, -0.27810613609092316, -0.09269280275758995], \"x\": [-0.10456789807196559, 0.07519876859470122, 0.4937387685947011, 1.127338768594701, 1.5346987685947013, 1.5842921019280345, 1.3928254352613678, 1.1768121019280344, 0.7025454352613678], \"marker\": {\"size\": 1, \"color\": \"#1f77b4\"}}], \"name\": \"frame10\"}, {\"data\": [{\"type\": \"scatter3d\", \"z\": [-0.09867920972899213, -11.655715065491616], \"line\": {\"width\": 5, \"color\": \"red\"}, \"y\": [-0.12119352154840612, -0.06881280275759005], \"x\": [0.02438052220935949, 0.8725321019280343], \"marker\": {\"size\": 2, \"color\": \"blue\"}, \"text\": [\"RHip\"]}, {\"type\": \"scatter3d\", \"z\": [-0.06960475664548404, -0.09867920972899213], \"line\": {\"width\": 5, \"color\": \"red\"}, \"y\": [-0.6096898184030834, -0.12119352154840612], \"x\": [-0.05395404224517075, 0.02438052220935949], \"marker\": {\"size\": 2, \"color\": \"blue\"}, \"text\": [\"RKnee\"]}, {\"type\": \"scatter3d\", \"z\": [-0.04847201576666471, -0.06960475664548404], \"line\": {\"width\": 5, \"color\": \"red\"}, \"y\": [-1.0427990957866249, -0.6096898184030834], \"x\": [0.1961971418487205, -0.05395404224517075], \"marker\": {\"size\": 2, \"color\": \"blue\"}, \"text\": [\"RAnkle\"]}, {\"type\": \"scatter3d\", \"z\": [0.07843239845822936, -11.655715065491616], \"line\": {\"width\": 5, \"color\": \"black\"}, \"y\": [-0.1379189751426919, -0.06881280275759005], \"x\": [0.023000599353810713, 0.8725321019280343], \"marker\": {\"size\": 2, \"color\": \"blue\"}, \"text\": [\"LHip\"]}, {\"type\": \"scatter3d\", \"z\": [0.12062749699764197, 0.07843239845822936], \"line\": {\"width\": 5, \"color\": \"black\"}, \"y\": [-0.6002647589838348, -0.1379189751426919], \"x\": [-0.08728632021493721, 0.023000599353810713], \"marker\": {\"size\": 2, \"color\": \"blue\"}, \"text\": [\"LKnee\"]}, {\"type\": \"scatter3d\", \"z\": [0.07748603416404265, 0.12062749699764197], \"line\": {\"width\": 5, \"color\": \"black\"}, \"y\": [-1.0334867882939334, -0.6002647589838348], \"x\": [0.15742297361950985, -0.08728632021493721], \"marker\": {\"size\": 2, \"color\": \"blue\"}, \"text\": [\"LAnkle\"]}, {\"type\": \"scatter3d\", \"z\": [0.014018505306854223, -11.655715065491616], \"line\": {\"width\": 5, \"color\": \"black\"}, \"y\": [0.04141974464543674, -0.06881280275759005], \"x\": [-0.26648390065578365, 0.8725321019280343], \"marker\": {\"size\": 2, \"color\": \"blue\"}, \"text\": [\"Spine1\"]}, {\"type\": \"scatter3d\", \"z\": [0.02709824816357198, 0.014018505306854223], \"line\": {\"width\": 5, \"color\": \"black\"}, \"y\": [0.05118045333988719, 0.04141974464543674], \"x\": [-0.5199477626263889, -0.26648390065578365], \"marker\": {\"size\": 2, \"color\": \"blue\"}, \"text\": [\"Neck\"]}, {\"type\": \"scatter3d\", \"z\": [0.036072387168472275, 0.02709824816357198], \"line\": {\"width\": 5, \"color\": \"black\"}, \"y\": [0.13435519064821788, 0.05118045333988719], \"x\": [-0.6030515839349893, -0.5199477626263889], \"marker\": {\"size\": 2, \"color\": \"blue\"}, \"text\": [\"Head\"]}, {\"type\": \"scatter3d\", \"z\": [0.03559550414511037, 0.036072387168472275], \"line\": {\"width\": 5, \"color\": \"black\"}, \"y\": [0.2284895618889271, 0.13435519064821788], \"x\": [-0.674415981637936, -0.6030515839349893], \"marker\": {\"size\": 2, \"color\": \"blue\"}, \"text\": [\"Site\"]}, {\"type\": \"scatter3d\", \"z\": [0.22714333714779045, 0.02709824816357198], \"line\": {\"width\": 5, \"color\": \"black\"}, \"y\": [0.11729381618307544, 0.05118045333988719], \"x\": [-0.48552115611948066, -0.5199477626263889], \"marker\": {\"size\": 2, \"color\": \"blue\"}, \"text\": [\"LShoulder\"]}, {\"type\": \"scatter3d\", \"z\": [0.19313405944564366, 0.22714333714779045], \"line\": {\"width\": 5, \"color\": \"black\"}, \"y\": [-0.2538412964585759, 0.11729381618307544], \"x\": [-0.4393901003281778, -0.48552115611948066], \"marker\": {\"size\": 2, \"color\": \"blue\"}, \"text\": [\"LElbow\"]}, {\"type\": \"scatter3d\", \"z\": [0.15309163575123108, 0.19313405944564366], \"line\": {\"width\": 5, \"color\": \"black\"}, \"y\": [-0.3181042312288276, -0.2538412964585759], \"x\": [-0.5274265942828783, -0.4393901003281778], \"marker\": {\"size\": 2, \"color\": \"blue\"}, \"text\": [\"LWrist\"]}, {\"type\": \"scatter3d\", \"z\": [-0.20092413105216167, 0.02709824816357198], \"line\": {\"width\": 5, \"color\": \"red\"}, \"y\": [0.04917662805644207, 0.05118045333988719], \"x\": [-0.4888116385583129, -0.5199477626263889], \"marker\": {\"size\": 2, \"color\": \"blue\"}, \"text\": [\"RShoulder\"]}, {\"type\": \"scatter3d\", \"z\": [-0.23395564310915873, -0.20092413105216167], \"line\": {\"width\": 5, \"color\": \"red\"}, \"y\": [-0.31610604416994037, 0.04917662805644207], \"x\": [-0.4133920812382231, -0.4888116385583129], \"marker\": {\"size\": 2, \"color\": \"blue\"}, \"text\": [\"RElbow\"]}, {\"type\": \"scatter3d\", \"z\": [-0.19490649190110076, -0.23395564310915873], \"line\": {\"width\": 5, \"color\": \"red\"}, \"y\": [-0.3852232783259919, -0.31610604416994037], \"x\": [-0.49632813714003154, -0.4133920812382231], \"marker\": {\"size\": 2, \"color\": \"blue\"}, \"text\": [\"RWrist\"]}, {\"type\": \"scatter3d\", \"z\": [-9.89050039882495, -9.781967065491616, -9.717387065491616, -10.231047065491616, -11.064395532158283, -11.62703239882495, -11.72928039882495, -11.640749732158284, -11.71298039882495, -11.67711439882495], \"line\": {\"width\": 1, \"color\": \"#1f77b4\"}, \"y\": [-0.9363594694242567, -0.9168994694242565, -0.9295194694242566, -0.9334528027575899, -0.9425594694242567, -0.8539261360909234, -0.5647928027575899, -0.27810613609092316, -0.09269280275758995, -0.08301946942425675], \"x\": [-0.10456789807196559, 0.07519876859470122, 0.4937387685947011, 1.127338768594701, 1.5346987685947013, 1.5842921019280345, 1.3928254352613678, 1.1768121019280344, 0.7025454352613678, 0.5634387685947011], \"marker\": {\"size\": 1, \"color\": \"#1f77b4\"}}], \"name\": \"frame11\"}, {\"data\": [{\"type\": \"scatter3d\", \"z\": [-0.09285261700269665, -11.733913732158284], \"line\": {\"width\": 5, \"color\": \"red\"}, \"y\": [-0.11789468458660379, -0.16405946942425653], \"x\": [-0.0499910074235288, 1.3347321019280343], \"marker\": {\"size\": 2, \"color\": \"blue\"}, \"text\": [\"RHip\"]}, {\"type\": \"scatter3d\", \"z\": [-0.009908608600712299, -0.09285261700269665], \"line\": {\"width\": 5, \"color\": \"red\"}, \"y\": [-0.5150016740646217, -0.11789468458660379], \"x\": [-0.3346602720606435, -0.0499910074235288], \"marker\": {\"size\": 2, \"color\": \"blue\"}, \"text\": [\"RKnee\"]}, {\"type\": \"scatter3d\", \"z\": [0.028640790529978588, -0.009908608600712299], \"line\": {\"width\": 5, \"color\": \"red\"}, \"y\": [-1.0052283876724928, -0.5150016740646217], \"x\": [-0.24086492629013256, -0.3346602720606435], \"marker\": {\"size\": 2, \"color\": \"blue\"}, \"text\": [\"RAnkle\"]}, {\"type\": \"scatter3d\", \"z\": [0.08027143692952876, -11.733913732158284], \"line\": {\"width\": 5, \"color\": \"black\"}, \"y\": [-0.1380355327255265, -0.16405946942425653], \"x\": [-0.014317839271498656, 1.3347321019280343], \"marker\": {\"size\": 2, \"color\": \"blue\"}, \"text\": [\"LHip\"]}, {\"type\": \"scatter3d\", \"z\": [0.15306120315289462, 0.08027143692952876], \"line\": {\"width\": 5, \"color\": \"black\"}, \"y\": [-0.5104711734901031, -0.1380355327255265], \"x\": [-0.30362839598490576, -0.014317839271498656], \"marker\": {\"size\": 2, \"color\": \"blue\"}, \"text\": [\"LKnee\"]}, {\"type\": \"scatter3d\", \"z\": [0.15088831508977307, 0.15306120315289462], \"line\": {\"width\": 5, \"color\": \"black\"}, \"y\": [-1.0083440445098677, -0.5104711734901031], \"x\": [-0.26434692651215763, -0.30362839598490576], \"marker\": {\"size\": 2, \"color\": \"blue\"}, \"text\": [\"LAnkle\"]}, {\"type\": \"scatter3d\", \"z\": [0.07763981988514068, -11.733913732158284], \"line\": {\"width\": 5, \"color\": \"black\"}, \"y\": [0.12902188574361917, -0.16405946942425653], \"x\": [-0.22648880358980183, 1.3347321019280343], \"marker\": {\"size\": 2, \"color\": \"blue\"}, \"text\": [\"Spine1\"]}, {\"type\": \"scatter3d\", \"z\": [0.14397556471794104, 0.07763981988514068], \"line\": {\"width\": 5, \"color\": \"black\"}, \"y\": [0.2829937212080387, 0.12902188574361917], \"x\": [-0.41793673354550276, -0.22648880358980183], \"marker\": {\"size\": 2, \"color\": \"blue\"}, \"text\": [\"Neck\"]}, {\"type\": \"scatter3d\", \"z\": [0.15897553624810357, 0.14397556471794104], \"line\": {\"width\": 5, \"color\": \"black\"}, \"y\": [0.3976224207448158, 0.2829937212080387], \"x\": [-0.4411763400370585, -0.41793673354550276], \"marker\": {\"size\": 2, \"color\": \"blue\"}, \"text\": [\"Head\"]}, {\"type\": \"scatter3d\", \"z\": [0.1661998524238033, 0.15897553624810357], \"line\": {\"width\": 5, \"color\": \"black\"}, \"y\": [0.5142688400035855, 0.3976224207448158], \"x\": [-0.45837537069889756, -0.4411763400370585], \"marker\": {\"size\": 2, \"color\": \"blue\"}, \"text\": [\"Site\"]}, {\"type\": \"scatter3d\", \"z\": [0.3465907255962968, 0.14397556471794104], \"line\": {\"width\": 5, \"color\": \"black\"}, \"y\": [0.2582165356822148, 0.2829937212080387], \"x\": [-0.3271393907931912, -0.41793673354550276], \"marker\": {\"size\": 2, \"color\": \"blue\"}, \"text\": [\"LShoulder\"]}, {\"type\": \"scatter3d\", \"z\": [0.2778513194416323, 0.3465907255962968], \"line\": {\"width\": 5, \"color\": \"black\"}, \"y\": [-0.09154225551027317, 0.2582165356822148], \"x\": [-0.7512737228661921, -0.3271393907931912], \"marker\": {\"size\": 2, \"color\": \"blue\"}, \"text\": [\"LElbow\"]}, {\"type\": \"scatter3d\", \"z\": [0.2576566629927708, 0.2778513194416323], \"line\": {\"width\": 5, \"color\": \"black\"}, \"y\": [-0.14251728879730963, -0.09154225551027317], \"x\": [-0.8536322426910821, -0.7512737228661921], \"marker\": {\"size\": 2, \"color\": \"blue\"}, \"text\": [\"LWrist\"]}, {\"type\": \"scatter3d\", \"z\": [-0.07022125472201246, 0.14397556471794104], \"line\": {\"width\": 5, \"color\": \"red\"}, \"y\": [0.2979444497318038, 0.2829937212080387], \"x\": [-0.439308913536553, -0.41793673354550276], \"marker\": {\"size\": 2, \"color\": \"blue\"}, \"text\": [\"RShoulder\"]}, {\"type\": \"scatter3d\", \"z\": [-0.08636259402556057, -0.07022125472201246], \"line\": {\"width\": 5, \"color\": \"red\"}, \"y\": [-0.11920897521935392, 0.2979444497318038], \"x\": [-0.8088356531954679, -0.439308913536553], \"marker\": {\"size\": 2, \"color\": \"blue\"}, \"text\": [\"RElbow\"]}, {\"type\": \"scatter3d\", \"z\": [-0.0766964748303014, -0.08636259402556057], \"line\": {\"width\": 5, \"color\": \"red\"}, \"y\": [-0.17661627330097174, -0.11920897521935392], \"x\": [-0.907787085234986, -0.8088356531954679], \"marker\": {\"size\": 2, \"color\": \"blue\"}, \"text\": [\"RWrist\"]}, {\"type\": \"scatter3d\", \"z\": [-9.89050039882495, -9.781967065491616, -9.717387065491616, -10.231047065491616, -11.064395532158283, -11.62703239882495, -11.72928039882495, -11.640749732158284, -11.71298039882495, -11.67711439882495, -11.655715065491616], \"line\": {\"width\": 1, \"color\": \"#1f77b4\"}, \"y\": [-0.9363594694242567, -0.9168994694242565, -0.9295194694242566, -0.9334528027575899, -0.9425594694242567, -0.8539261360909234, -0.5647928027575899, -0.27810613609092316, -0.09269280275758995, -0.08301946942425675, -0.06881280275759005], \"x\": [-0.10456789807196559, 0.07519876859470122, 0.4937387685947011, 1.127338768594701, 1.5346987685947013, 1.5842921019280345, 1.3928254352613678, 1.1768121019280344, 0.7025454352613678, 0.5634387685947011, 0.8725321019280343], \"marker\": {\"size\": 1, \"color\": \"#1f77b4\"}}], \"name\": \"frame12\"}, {\"data\": [{\"type\": \"scatter3d\", \"z\": [-0.09446842202028449, -11.667425732158282], \"line\": {\"width\": 5, \"color\": \"red\"}, \"y\": [-0.11891988586154856, -0.16121946942425658], \"x\": [-0.04420004467098737, 1.3049254352613677], \"marker\": {\"size\": 2, \"color\": \"blue\"}, \"text\": [\"RHip\"]}, {\"type\": \"scatter3d\", \"z\": [-0.05840480642603296, -0.09446842202028449], \"line\": {\"width\": 5, \"color\": \"red\"}, \"y\": [-0.5228947546123697, -0.11891988586154856], \"x\": [-0.3290052077195983, -0.04420004467098737], \"marker\": {\"size\": 2, \"color\": \"blue\"}, \"text\": [\"RKnee\"]}, {\"type\": \"scatter3d\", \"z\": [-0.031583679667834375, -0.05840480642603296], \"line\": {\"width\": 5, \"color\": \"red\"}, \"y\": [-1.0091661006638495, -0.5228947546123697], \"x\": [-0.21313174671569524, -0.3290052077195983], \"marker\": {\"size\": 2, \"color\": \"blue\"}, \"text\": [\"RAnkle\"]}, {\"type\": \"scatter3d\", \"z\": [0.08281317792912013, -11.667425732158282], \"line\": {\"width\": 5, \"color\": \"black\"}, \"y\": [-0.13210736359864717, -0.16121946942425658], \"x\": [-0.03730863770295412, 1.3049254352613677], \"marker\": {\"size\": 2, \"color\": \"blue\"}, \"text\": [\"LHip\"]}, {\"type\": \"scatter3d\", \"z\": [0.10513562295319367, 0.08281317792912013], \"line\": {\"width\": 5, \"color\": \"black\"}, \"y\": [-0.5159231292989439, -0.13210736359864717], \"x\": [-0.31996464993767926, -0.03730863770295412], \"marker\": {\"size\": 2, \"color\": \"blue\"}, \"text\": [\"LKnee\"]}, {\"type\": \"scatter3d\", \"z\": [0.08593016455195013, 0.10513562295319367], \"line\": {\"width\": 5, \"color\": \"black\"}, \"y\": [-1.0074730395175833, -0.5159231292989439], \"x\": [-0.23373827859119367, -0.31996464993767926], \"marker\": {\"size\": 2, \"color\": \"blue\"}, \"text\": [\"LAnkle\"]}, {\"type\": \"scatter3d\", \"z\": [0.025135001199632967, -11.667425732158282], \"line\": {\"width\": 5, \"color\": \"black\"}, \"y\": [0.17525767187570618, -0.16121946942425658], \"x\": [-0.20609517505027153, 1.3049254352613677], \"marker\": {\"size\": 2, \"color\": \"blue\"}, \"text\": [\"Spine1\"]}, {\"type\": \"scatter3d\", \"z\": [0.03739475410909954, 0.025135001199632967], \"line\": {\"width\": 5, \"color\": \"black\"}, \"y\": [0.352669018466367, 0.17525767187570618], \"x\": [-0.3883766272140138, -0.20609517505027153], \"marker\": {\"size\": 2, \"color\": \"blue\"}, \"text\": [\"Neck\"]}, {\"type\": \"scatter3d\", \"z\": [0.04838968870623006, 0.03739475410909954], \"line\": {\"width\": 5, \"color\": \"black\"}, \"y\": [0.4692655369665506, 0.352669018466367], \"x\": [-0.40213091745822516, -0.3883766272140138], \"marker\": {\"size\": 2, \"color\": \"blue\"}, \"text\": [\"Head\"]}, {\"type\": \"scatter3d\", \"z\": [0.04960624601459429, 0.04838968870623006], \"line\": {\"width\": 5, \"color\": \"black\"}, \"y\": [0.5872959969177833, 0.4692655369665506], \"x\": [-0.3974709777781491, -0.40213091745822516], \"marker\": {\"size\": 2, \"color\": \"blue\"}, \"text\": [\"Site\"]}, {\"type\": \"scatter3d\", \"z\": [0.2614027404049519, 0.03739475410909954], \"line\": {\"width\": 5, \"color\": \"black\"}, \"y\": [0.332057904644701, 0.352669018466367], \"x\": [-0.3430171615038409, -0.3883766272140138], \"marker\": {\"size\": 2, \"color\": \"blue\"}, \"text\": [\"LShoulder\"]}, {\"type\": \"scatter3d\", \"z\": [0.20208155966560426, 0.2614027404049519], \"line\": {\"width\": 5, \"color\": \"black\"}, \"y\": [-0.06518463381022621, 0.332057904644701], \"x\": [-0.7262754605432713, -0.3430171615038409], \"marker\": {\"size\": 2, \"color\": \"blue\"}, \"text\": [\"LElbow\"]}, {\"type\": \"scatter3d\", \"z\": [0.18114695673721748, 0.20208155966560426], \"line\": {\"width\": 5, \"color\": \"black\"}, \"y\": [-0.129361769393036, -0.06518463381022621], \"x\": [-0.8207560533497352, -0.7262754605432713], \"marker\": {\"size\": 2, \"color\": \"blue\"}, \"text\": [\"LWrist\"]}, {\"type\": \"scatter3d\", \"z\": [-0.17057302453358503, 0.03739475410909954], \"line\": {\"width\": 5, \"color\": \"red\"}, \"y\": [0.36744749085527384, 0.352669018466367], \"x\": [-0.3491041655028929, -0.3883766272140138], \"marker\": {\"size\": 2, \"color\": \"blue\"}, \"text\": [\"RShoulder\"]}, {\"type\": \"scatter3d\", \"z\": [-0.19300352221524975, -0.17057302453358503], \"line\": {\"width\": 5, \"color\": \"red\"}, \"y\": [0.5209575441691363, 0.36744749085527384], \"x\": [-0.8250489734399402, -0.3491041655028929], \"marker\": {\"size\": 2, \"color\": \"blue\"}, \"text\": [\"RElbow\"]}, {\"type\": \"scatter3d\", \"z\": [-0.16381197549621263, -0.19300352221524975], \"line\": {\"width\": 5, \"color\": \"red\"}, \"y\": [0.608482403731424, 0.5209575441691363], \"x\": [-0.8933693232249936, -0.8250489734399402], \"marker\": {\"size\": 2, \"color\": \"blue\"}, \"text\": [\"RWrist\"]}, {\"type\": \"scatter3d\", \"z\": [-9.89050039882495, -9.781967065491616, -9.717387065491616, -10.231047065491616, -11.064395532158283, -11.62703239882495, -11.72928039882495, -11.640749732158284, -11.71298039882495, -11.67711439882495, -11.655715065491616, -11.733913732158284], \"line\": {\"width\": 1, \"color\": \"#1f77b4\"}, \"y\": [-0.9363594694242567, -0.9168994694242565, -0.9295194694242566, -0.9334528027575899, -0.9425594694242567, -0.8539261360909234, -0.5647928027575899, -0.27810613609092316, -0.09269280275758995, -0.08301946942425675, -0.06881280275759005, -0.16405946942425653], \"x\": [-0.10456789807196559, 0.07519876859470122, 0.4937387685947011, 1.127338768594701, 1.5346987685947013, 1.5842921019280345, 1.3928254352613678, 1.1768121019280344, 0.7025454352613678, 0.5634387685947011, 0.8725321019280343, 1.3347321019280343], \"marker\": {\"size\": 1, \"color\": \"#1f77b4\"}}], \"name\": \"frame13\"}, {\"data\": [{\"type\": \"scatter3d\", \"z\": [-0.09626050028999877, -11.71280039882495], \"line\": {\"width\": 5, \"color\": \"red\"}, \"y\": [-0.10654403301037862, -0.3059861360909233], \"x\": [-0.06634870816410743, 1.1927054352613675], \"marker\": {\"size\": 2, \"color\": \"blue\"}, \"text\": [\"RHip\"]}, {\"type\": \"scatter3d\", \"z\": [-0.03937409307683559, -0.09626050028999877], \"line\": {\"width\": 5, \"color\": \"red\"}, \"y\": [-0.5937905119353004, -0.10654403301037862], \"x\": [0.004114511324946557, -0.06634870816410743], \"marker\": {\"size\": 2, \"color\": \"blue\"}, \"text\": [\"RKnee\"]}, {\"type\": \"scatter3d\", \"z\": [0.018087922978917703, -0.03937409307683559], \"line\": {\"width\": 5, \"color\": \"red\"}, \"y\": [-1.0859672263159255, -0.5937905119353004], \"x\": [0.07529071752211314, 0.004114511324946557], \"marker\": {\"size\": 2, \"color\": \"blue\"}, \"text\": [\"RAnkle\"]}, {\"type\": \"scatter3d\", \"z\": [0.08009815078895066, -11.71280039882495], \"line\": {\"width\": 5, \"color\": \"black\"}, \"y\": [-0.12729446316748705, -0.3059861360909233], \"x\": [-0.05552223239430654, 1.1927054352613675], \"marker\": {\"size\": 2, \"color\": \"blue\"}, \"text\": [\"LHip\"]}, {\"type\": \"scatter3d\", \"z\": [0.2294705360248237, 0.08009815078895066], \"line\": {\"width\": 5, \"color\": \"black\"}, \"y\": [-0.35199460742674904, -0.12729446316748705], \"x\": [-0.4491019454172307, -0.05552223239430654], \"marker\": {\"size\": 2, \"color\": \"blue\"}, \"text\": [\"LKnee\"]}, {\"type\": \"scatter3d\", \"z\": [0.15046500019474962, 0.2294705360248237], \"line\": {\"width\": 5, \"color\": \"black\"}, \"y\": [-0.7399537441472843, -0.35199460742674904], \"x\": [-0.14468285185180352, -0.4491019454172307], \"marker\": {\"size\": 2, \"color\": \"blue\"}, \"text\": [\"LAnkle\"]}, {\"type\": \"scatter3d\", \"z\": [0.017334515994956945, -11.71280039882495], \"line\": {\"width\": 5, \"color\": \"black\"}, \"y\": [0.25051823348028535, -0.3059861360909233], \"x\": [-0.10521198120154529, 1.1927054352613675], \"marker\": {\"size\": 2, \"color\": \"blue\"}, \"text\": [\"Spine1\"]}, {\"type\": \"scatter3d\", \"z\": [0.021517458264764144, 0.017334515994956945], \"line\": {\"width\": 5, \"color\": \"black\"}, \"y\": [0.4816197497922583, 0.25051823348028535], \"x\": [-0.20946976007991858, -0.10521198120154529], \"marker\": {\"size\": 2, \"color\": \"blue\"}, \"text\": [\"Neck\"]}, {\"type\": \"scatter3d\", \"z\": [0.021380951211410704, 0.021517458264764144], \"line\": {\"width\": 5, \"color\": \"black\"}, \"y\": [0.5988353917721474, 0.4816197497922583], \"x\": [-0.22232634805448126, -0.20946976007991858], \"marker\": {\"size\": 2, \"color\": \"blue\"}, \"text\": [\"Head\"]}, {\"type\": \"scatter3d\", \"z\": [0.010431521986564718, 0.021380951211410704], \"line\": {\"width\": 5, \"color\": \"black\"}, \"y\": [0.7164554463057118, 0.5988353917721474], \"x\": [-0.22245786602810302, -0.22232634805448126], \"marker\": {\"size\": 2, \"color\": \"blue\"}, \"text\": [\"Site\"]}, {\"type\": \"scatter3d\", \"z\": [0.2437080029621601, 0.021517458264764144], \"line\": {\"width\": 5, \"color\": \"black\"}, \"y\": [0.468529909046, 0.4816197497922583], \"x\": [-0.12476554034901466, -0.20946976007991858], \"marker\": {\"size\": 2, \"color\": \"blue\"}, \"text\": [\"LShoulder\"]}, {\"type\": \"scatter3d\", \"z\": [0.30196896138000895, 0.2437080029621601], \"line\": {\"width\": 5, \"color\": \"black\"}, \"y\": [0.6676073553133457, 0.468529909046], \"x\": [-0.6278640311240198, -0.12476554034901466], \"marker\": {\"size\": 2, \"color\": \"blue\"}, \"text\": [\"LElbow\"]}, {\"type\": \"scatter3d\", \"z\": [0.28824121722725593, 0.30196896138000895], \"line\": {\"width\": 5, \"color\": \"black\"}, \"y\": [0.7334606136010904, 0.6676073553133457], \"x\": [-0.7225130784610565, -0.6278640311240198], \"marker\": {\"size\": 2, \"color\": \"blue\"}, \"text\": [\"LWrist\"]}, {\"type\": \"scatter3d\", \"z\": [-0.18556178295218118, 0.021517458264764144], \"line\": {\"width\": 5, \"color\": \"red\"}, \"y\": [0.46999673324355573, 0.4816197497922583], \"x\": [-0.18491398381935586, -0.20946976007991858], \"marker\": {\"size\": 2, \"color\": \"blue\"}, \"text\": [\"RShoulder\"]}, {\"type\": \"scatter3d\", \"z\": [-0.125246745073893, -0.18556178295218118], \"line\": {\"width\": 5, \"color\": \"red\"}, \"y\": [0.6823796361199932, 0.46999673324355573], \"x\": [-0.6952110412449677, -0.18491398381935586], \"marker\": {\"size\": 2, \"color\": \"blue\"}, \"text\": [\"RElbow\"]}, {\"type\": \"scatter3d\", \"z\": [-0.10403785949216982, -0.125246745073893], \"line\": {\"width\": 5, \"color\": \"red\"}, \"y\": [0.7585348043089994, 0.6823796361199932], \"x\": [-0.7784636157786455, -0.6952110412449677], \"marker\": {\"size\": 2, \"color\": \"blue\"}, \"text\": [\"RWrist\"]}, {\"type\": \"scatter3d\", \"z\": [-9.89050039882495, -9.781967065491616, -9.717387065491616, -10.231047065491616, -11.064395532158283, -11.62703239882495, -11.72928039882495, -11.640749732158284, -11.71298039882495, -11.67711439882495, -11.655715065491616, -11.733913732158284, -11.667425732158282], \"line\": {\"width\": 1, \"color\": \"#1f77b4\"}, \"y\": [-0.9363594694242567, -0.9168994694242565, -0.9295194694242566, -0.9334528027575899, -0.9425594694242567, -0.8539261360909234, -0.5647928027575899, -0.27810613609092316, -0.09269280275758995, -0.08301946942425675, -0.06881280275759005, -0.16405946942425653, -0.16121946942425658], \"x\": [-0.10456789807196559, 0.07519876859470122, 0.4937387685947011, 1.127338768594701, 1.5346987685947013, 1.5842921019280345, 1.3928254352613678, 1.1768121019280344, 0.7025454352613678, 0.5634387685947011, 0.8725321019280343, 1.3347321019280343, 1.3049254352613677], \"marker\": {\"size\": 1, \"color\": \"#1f77b4\"}}], \"name\": \"frame14\"}, {\"data\": [{\"type\": \"scatter3d\", \"z\": [-0.09227967436910589, -11.671505065491615], \"line\": {\"width\": 5, \"color\": \"red\"}, \"y\": [-0.11961988922780753, -0.36855946942425666], \"x\": [-0.04685519993237264, 0.9764121019280343], \"marker\": {\"size\": 2, \"color\": \"blue\"}, \"text\": [\"RHip\"]}, {\"type\": \"scatter3d\", \"z\": [-0.04335409515561217, -0.09227967436910589], \"line\": {\"width\": 5, \"color\": \"red\"}, \"y\": [-0.6109220537108342, -0.11961988922780753], \"x\": [-0.003974776379936595, -0.04685519993237264], \"marker\": {\"size\": 2, \"color\": \"blue\"}, \"text\": [\"RKnee\"]}, {\"type\": \"scatter3d\", \"z\": [-0.020501625539772306, -0.04335409515561217], \"line\": {\"width\": 5, \"color\": \"red\"}, \"y\": [-1.0202920744284478, -0.6109220537108342], \"x\": [0.28325301574060036, -0.003974776379936595], \"marker\": {\"size\": 2, \"color\": \"blue\"}, \"text\": [\"RAnkle\"]}, {\"type\": \"scatter3d\", \"z\": [0.08475473555429325, -11.671505065491615], \"line\": {\"width\": 5, \"color\": \"black\"}, \"y\": [-0.1317372070191547, -0.36855946942425666], \"x\": [-0.03412118829803079, 0.9764121019280343], \"marker\": {\"size\": 2, \"color\": \"blue\"}, \"text\": [\"LHip\"]}, {\"type\": \"scatter3d\", \"z\": [0.13021475925663673, 0.08475473555429325], \"line\": {\"width\": 5, \"color\": \"black\"}, \"y\": [-0.6066746278835398, -0.1317372070191547], \"x\": [-0.042786481833933965, -0.03412118829803079], \"marker\": {\"size\": 2, \"color\": \"blue\"}, \"text\": [\"LKnee\"]}, {\"type\": \"scatter3d\", \"z\": [0.14276558255806648, 0.13021475925663673], \"line\": {\"width\": 5, \"color\": \"black\"}, \"y\": [-1.0048392078134702, -0.6066746278835398], \"x\": [0.2584320353717895, -0.042786481833933965], \"marker\": {\"size\": 2, \"color\": \"blue\"}, \"text\": [\"LAnkle\"]}, {\"type\": \"scatter3d\", \"z\": [0.007091752598419987, -11.671505065491615], \"line\": {\"width\": 5, \"color\": \"black\"}, \"y\": [0.2574281258885329, -0.36855946942425666], \"x\": [-0.08860379302736088, 0.9764121019280343], \"marker\": {\"size\": 2, \"color\": \"blue\"}, \"text\": [\"Spine1\"]}, {\"type\": \"scatter3d\", \"z\": [0.01556483305837908, 0.007091752598419987], \"line\": {\"width\": 5, \"color\": \"black\"}, \"y\": [0.49231882858212916, 0.2574281258885329], \"x\": [-0.18564349248922007, -0.08860379302736088], \"marker\": {\"size\": 2, \"color\": \"blue\"}, \"text\": [\"Neck\"]}, {\"type\": \"scatter3d\", \"z\": [0.0189367840700001, 0.01556483305837908], \"line\": {\"width\": 5, \"color\": \"black\"}, \"y\": [0.6058671938754476, 0.49231882858212916], \"x\": [-0.2172696825675584, -0.18564349248922007], \"marker\": {\"size\": 2, \"color\": \"blue\"}, \"text\": [\"Head\"]}, {\"type\": \"scatter3d\", \"z\": [0.014082897078626644, 0.0189367840700001], \"line\": {\"width\": 5, \"color\": \"black\"}, \"y\": [0.7167174532905789, 0.6058671938754476], \"x\": [-0.2578041653504817, -0.2172696825675584], \"marker\": {\"size\": 2, \"color\": \"blue\"}, \"text\": [\"Site\"]}, {\"type\": \"scatter3d\", \"z\": [0.2192163219063623, 0.01556483305837908], \"line\": {\"width\": 5, \"color\": \"black\"}, \"y\": [0.48821777080475615, 0.49231882858212916], \"x\": [-0.11853195460401644, -0.18564349248922007], \"marker\": {\"size\": 2, \"color\": \"blue\"}, \"text\": [\"LShoulder\"]}, {\"type\": \"scatter3d\", \"z\": [0.2714479269252674, 0.2192163219063623], \"line\": {\"width\": 5, \"color\": \"black\"}, \"y\": [0.6759046905136104, 0.48821777080475615], \"x\": [-0.5484849716257355, -0.11853195460401644], \"marker\": {\"size\": 2, \"color\": \"blue\"}, \"text\": [\"LElbow\"]}, {\"type\": \"scatter3d\", \"z\": [0.23999681557487662, 0.2714479269252674], \"line\": {\"width\": 5, \"color\": \"black\"}, \"y\": [0.7707348485256191, 0.6759046905136104], \"x\": [-0.6076594042354969, -0.5484849716257355], \"marker\": {\"size\": 2, \"color\": \"blue\"}, \"text\": [\"LWrist\"]}, {\"type\": \"scatter3d\", \"z\": [-0.2096233905486944, 0.01556483305837908], \"line\": {\"width\": 5, \"color\": \"red\"}, \"y\": [0.46044515888693294, 0.49231882858212916], \"x\": [-0.17525689596847582, -0.18564349248922007], \"marker\": {\"size\": 2, \"color\": \"blue\"}, \"text\": [\"RShoulder\"]}, {\"type\": \"scatter3d\", \"z\": [-0.19909350847152218, -0.2096233905486944], \"line\": {\"width\": 5, \"color\": \"red\"}, \"y\": [0.6598397319447167, 0.46044515888693294], \"x\": [-0.5739951851040401, -0.17525689596847582], \"marker\": {\"size\": 2, \"color\": \"blue\"}, \"text\": [\"RElbow\"]}, {\"type\": \"scatter3d\", \"z\": [-0.16123998938911654, -0.19909350847152218], \"line\": {\"width\": 5, \"color\": \"red\"}, \"y\": [0.764605200550962, 0.6598397319447167], \"x\": [-0.6017751296106745, -0.5739951851040401], \"marker\": {\"size\": 2, \"color\": \"blue\"}, \"text\": [\"RWrist\"]}, {\"type\": \"scatter3d\", \"z\": [-9.89050039882495, -9.781967065491616, -9.717387065491616, -10.231047065491616, -11.064395532158283, -11.62703239882495, -11.72928039882495, -11.640749732158284, -11.71298039882495, -11.67711439882495, -11.655715065491616, -11.733913732158284, -11.667425732158282, -11.71280039882495], \"line\": {\"width\": 1, \"color\": \"#1f77b4\"}, \"y\": [-0.9363594694242567, -0.9168994694242565, -0.9295194694242566, -0.9334528027575899, -0.9425594694242567, -0.8539261360909234, -0.5647928027575899, -0.27810613609092316, -0.09269280275758995, -0.08301946942425675, -0.06881280275759005, -0.16405946942425653, -0.16121946942425658, -0.3059861360909233], \"x\": [-0.10456789807196559, 0.07519876859470122, 0.4937387685947011, 1.127338768594701, 1.5346987685947013, 1.5842921019280345, 1.3928254352613678, 1.1768121019280344, 0.7025454352613678, 0.5634387685947011, 0.8725321019280343, 1.3347321019280343, 1.3049254352613677, 1.1927054352613675], \"marker\": {\"size\": 1, \"color\": \"#1f77b4\"}}], \"name\": \"frame15\"}, {\"data\": [{\"type\": \"scatter3d\", \"z\": [-0.10097532535302456, -11.601569065491617], \"line\": {\"width\": 5, \"color\": \"red\"}, \"y\": [-0.11720059653887538, -0.3208794694242565], \"x\": [-0.032982871342954745, 1.160118768594701], \"marker\": {\"size\": 2, \"color\": \"blue\"}, \"text\": [\"RHip\"]}, {\"type\": \"scatter3d\", \"z\": [-0.10901140139391963, -0.10097532535302456], \"line\": {\"width\": 5, \"color\": \"red\"}, \"y\": [-0.6035931690396903, -0.11720059653887538], \"x\": [-0.12768211499898174, -0.032982871342954745], \"marker\": {\"size\": 2, \"color\": \"blue\"}, \"text\": [\"RKnee\"]}, {\"type\": \"scatter3d\", \"z\": [-0.10212701191916906, -0.10901140139391963], \"line\": {\"width\": 5, \"color\": \"red\"}, \"y\": [-1.0014628418197862, -0.6035931690396903], \"x\": [0.17605820576818254, -0.12768211499898174], \"marker\": {\"size\": 2, \"color\": \"blue\"}, \"text\": [\"RAnkle\"]}, {\"type\": \"scatter3d\", \"z\": [0.07549799079766828, -11.601569065491617], \"line\": {\"width\": 5, \"color\": \"black\"}, \"y\": [-0.1388641425733912, -0.3208794694242565], \"x\": [-0.026816332631959483, 1.160118768594701], \"marker\": {\"size\": 2, \"color\": \"blue\"}, \"text\": [\"LHip\"]}, {\"type\": \"scatter3d\", \"z\": [0.09847613973588842, 0.07549799079766828], \"line\": {\"width\": 5, \"color\": \"black\"}, \"y\": [-0.6026057993192944, -0.1388641425733912], \"x\": [-0.1369205345242248, -0.026816332631959483], \"marker\": {\"size\": 2, \"color\": \"blue\"}, \"text\": [\"LKnee\"]}, {\"type\": \"scatter3d\", \"z\": [0.08379858996292455, 0.09847613973588842], \"line\": {\"width\": 5, \"color\": \"black\"}, \"y\": [-1.054062606815998, -0.6026057993192944], \"x\": [0.076143942762541, -0.1369205345242248], \"marker\": {\"size\": 2, \"color\": \"blue\"}, \"text\": [\"LAnkle\"]}, {\"type\": \"scatter3d\", \"z\": [0.042904517230113015, -11.601569065491617], \"line\": {\"width\": 5, \"color\": \"black\"}, \"y\": [0.2274678119138409, -0.3208794694242565], \"x\": [-0.14243420317015043, 1.160118768594701], \"marker\": {\"size\": 2, \"color\": \"blue\"}, \"text\": [\"Spine1\"]}, {\"type\": \"scatter3d\", \"z\": [0.08104814171611885, 0.042904517230113015], \"line\": {\"width\": 5, \"color\": \"black\"}, \"y\": [0.4300259470469414, 0.2274678119138409], \"x\": [-0.2913699834066391, -0.14243420317015043], \"marker\": {\"size\": 2, \"color\": \"blue\"}, \"text\": [\"Neck\"]}, {\"type\": \"scatter3d\", \"z\": [0.10696108376917479, 0.08104814171611885], \"line\": {\"width\": 5, \"color\": \"black\"}, \"y\": [0.4922817079308923, 0.4300259470469414], \"x\": [-0.3881044492613497, -0.2913699834066391], \"marker\": {\"size\": 2, \"color\": \"blue\"}, \"text\": [\"Head\"]}, {\"type\": \"scatter3d\", \"z\": [0.12085759625579229, 0.10696108376917479], \"line\": {\"width\": 5, \"color\": \"black\"}, \"y\": [0.5340943489326828, 0.4922817079308923], \"x\": [-0.49770816506957716, -0.3881044492613497], \"marker\": {\"size\": 2, \"color\": \"blue\"}, \"text\": [\"Site\"]}, {\"type\": \"scatter3d\", \"z\": [0.28196739400535087, 0.08104814171611885], \"line\": {\"width\": 5, \"color\": \"black\"}, \"y\": [0.4174107222774488, 0.4300259470469414], \"x\": [-0.21942134307380134, -0.2913699834066391], \"marker\": {\"size\": 2, \"color\": \"blue\"}, \"text\": [\"LShoulder\"]}, {\"type\": \"scatter3d\", \"z\": [0.2486771117245663, 0.28196739400535087], \"line\": {\"width\": 5, \"color\": \"black\"}, \"y\": [0.6089431550888484, 0.4174107222774488], \"x\": [-0.6827274208144571, -0.21942134307380134], \"marker\": {\"size\": 2, \"color\": \"blue\"}, \"text\": [\"LElbow\"]}, {\"type\": \"scatter3d\", \"z\": [0.20196843400984932, 0.2486771117245663], \"line\": {\"width\": 5, \"color\": \"black\"}, \"y\": [0.68984038980707, 0.6089431550888484], \"x\": [-0.7517019203743098, -0.6827274208144571], \"marker\": {\"size\": 2, \"color\": \"blue\"}, \"text\": [\"LWrist\"]}, {\"type\": \"scatter3d\", \"z\": [-0.1466301460845525, 0.08104814171611885], \"line\": {\"width\": 5, \"color\": \"red\"}, \"y\": [0.4271599533075352, 0.4300259470469414], \"x\": [-0.2834653673639891, -0.2913699834066391], \"marker\": {\"size\": 2, \"color\": \"blue\"}, \"text\": [\"RShoulder\"]}, {\"type\": \"scatter3d\", \"z\": [-0.17660742450799738, -0.1466301460845525], \"line\": {\"width\": 5, \"color\": \"red\"}, \"y\": [-0.06853633449970253, 0.4271599533075352], \"x\": [-0.4784649161293745, -0.2834653673639891], \"marker\": {\"size\": 2, \"color\": \"blue\"}, \"text\": [\"RElbow\"]}, {\"type\": \"scatter3d\", \"z\": [-0.151460314303133, -0.17660742450799738], \"line\": {\"width\": 5, \"color\": \"red\"}, \"y\": [-0.14726209080278507, -0.06853633449970253], \"x\": [-0.558153659241887, -0.4784649161293745], \"marker\": {\"size\": 2, \"color\": \"blue\"}, \"text\": [\"RWrist\"]}, {\"type\": \"scatter3d\", \"z\": [-9.89050039882495, -9.781967065491616, -9.717387065491616, -10.231047065491616, -11.064395532158283, -11.62703239882495, -11.72928039882495, -11.640749732158284, -11.71298039882495, -11.67711439882495, -11.655715065491616, -11.733913732158284, -11.667425732158282, -11.71280039882495, -11.671505065491615], \"line\": {\"width\": 1, \"color\": \"#1f77b4\"}, \"y\": [-0.9363594694242567, -0.9168994694242565, -0.9295194694242566, -0.9334528027575899, -0.9425594694242567, -0.8539261360909234, -0.5647928027575899, -0.27810613609092316, -0.09269280275758995, -0.08301946942425675, -0.06881280275759005, -0.16405946942425653, -0.16121946942425658, -0.3059861360909233, -0.36855946942425666], \"x\": [-0.10456789807196559, 0.07519876859470122, 0.4937387685947011, 1.127338768594701, 1.5346987685947013, 1.5842921019280345, 1.3928254352613678, 1.1768121019280344, 0.7025454352613678, 0.5634387685947011, 0.8725321019280343, 1.3347321019280343, 1.3049254352613677, 1.1927054352613675, 0.9764121019280343], \"marker\": {\"size\": 1, \"color\": \"#1f77b4\"}}], \"name\": \"frame16\"}, {\"data\": [{\"type\": \"scatter3d\", \"z\": [-0.08907188710366754, -11.708547065491617], \"line\": {\"width\": 5, \"color\": \"red\"}, \"y\": [-0.12704890654605006, -0.5929661360909233], \"x\": [-0.03073500015435293, 1.4533787685947008], \"marker\": {\"size\": 2, \"color\": \"blue\"}, \"text\": [\"RHip\"]}, {\"type\": \"scatter3d\", \"z\": [-0.0730018028978563, -0.08907188710366754], \"line\": {\"width\": 5, \"color\": \"red\"}, \"y\": [-0.5938532882123115, -0.12704890654605006], \"x\": [-0.1964023822846812, -0.03073500015435293], \"marker\": {\"size\": 2, \"color\": \"blue\"}, \"text\": [\"RKnee\"]}, {\"type\": \"scatter3d\", \"z\": [-0.05085837735219023, -0.0730018028978563], \"line\": {\"width\": 5, \"color\": \"red\"}, \"y\": [-1.0689773757280507, -0.5938532882123115], \"x\": [-0.04028504191609694, -0.1964023822846812], \"marker\": {\"size\": 2, \"color\": \"blue\"}, \"text\": [\"RAnkle\"]}, {\"type\": \"scatter3d\", \"z\": [0.08866281859729597, -11.708547065491617], \"line\": {\"width\": 5, \"color\": \"black\"}, \"y\": [-0.13135095463814994, -0.5929661360909233], \"x\": [-0.024251674519203403, 1.4533787685947008], \"marker\": {\"size\": 2, \"color\": \"blue\"}, \"text\": [\"LHip\"]}, {\"type\": \"scatter3d\", \"z\": [0.18828683095311227, 0.08866281859729597], \"line\": {\"width\": 5, \"color\": \"black\"}, \"y\": [-0.5334871752759771, -0.13135095463814994], \"x\": [-0.26104012655529374, -0.024251674519203403], \"marker\": {\"size\": 2, \"color\": \"blue\"}, \"text\": [\"LKnee\"]}, {\"type\": \"scatter3d\", \"z\": [0.18486291651551667, 0.18828683095311227], \"line\": {\"width\": 5, \"color\": \"black\"}, \"y\": [-0.8833878849614358, -0.5334871752759771], \"x\": [0.09530650406645513, -0.26104012655529374], \"marker\": {\"size\": 2, \"color\": \"blue\"}, \"text\": [\"LAnkle\"]}, {\"type\": \"scatter3d\", \"z\": [0.0010151624338163856, -11.708547065491617], \"line\": {\"width\": 5, \"color\": \"black\"}, \"y\": [0.18222694226911185, -0.5929661360909233], \"x\": [-0.19943777271052499, 1.4533787685947008], \"marker\": {\"size\": 2, \"color\": \"blue\"}, \"text\": [\"Spine1\"]}, {\"type\": \"scatter3d\", \"z\": [-0.015350647460758537, 0.0010151624338163856], \"line\": {\"width\": 5, \"color\": \"black\"}, \"y\": [0.3300242509097724, 0.18222694226911185], \"x\": [-0.4059867685692822, -0.19943777271052499], \"marker\": {\"size\": 2, \"color\": \"blue\"}, \"text\": [\"Neck\"]}, {\"type\": \"scatter3d\", \"z\": [-0.018487402770917427, -0.015350647460758537], \"line\": {\"width\": 5, \"color\": \"black\"}, \"y\": [0.36439597531805834, 0.3300242509097724], \"x\": [-0.5187412032519404, -0.4059867685692822], \"marker\": {\"size\": 2, \"color\": \"blue\"}, \"text\": [\"Head\"]}, {\"type\": \"scatter3d\", \"z\": [-0.032705894243550304, -0.018487402770917427], \"line\": {\"width\": 5, \"color\": \"black\"}, \"y\": [0.37534005080537813, 0.36439597531805834], \"x\": [-0.6354992703727029, -0.5187412032519404], \"marker\": {\"size\": 2, \"color\": \"blue\"}, \"text\": [\"Site\"]}, {\"type\": \"scatter3d\", \"z\": [0.20016620873699864, -0.015350647460758537], \"line\": {\"width\": 5, \"color\": \"black\"}, \"y\": [0.3434036460324261, 0.3300242509097724], \"x\": [-0.38251513035022566, -0.4059867685692822], \"marker\": {\"size\": 2, \"color\": \"blue\"}, \"text\": [\"LShoulder\"]}, {\"type\": \"scatter3d\", \"z\": [0.1813217380885206, 0.20016620873699864], \"line\": {\"width\": 5, \"color\": \"black\"}, \"y\": [-0.160248422807582, 0.3434036460324261], \"x\": [-0.5876721204733598, -0.38251513035022566], \"marker\": {\"size\": 2, \"color\": \"blue\"}, \"text\": [\"LElbow\"]}, {\"type\": \"scatter3d\", \"z\": [0.15493970423685433, 0.1813217380885206], \"line\": {\"width\": 5, \"color\": \"black\"}, \"y\": [-0.2504619983437262, -0.160248422807582], \"x\": [-0.6558560175992824, -0.5876721204733598], \"marker\": {\"size\": 2, \"color\": \"blue\"}, \"text\": [\"LWrist\"]}, {\"type\": \"scatter3d\", \"z\": [-0.23143050422246247, -0.015350647460758537], \"line\": {\"width\": 5, \"color\": \"red\"}, \"y\": [0.32093255578945645, 0.3300242509097724], \"x\": [-0.34917051474356997, -0.4059867685692822], \"marker\": {\"size\": 2, \"color\": \"blue\"}, \"text\": [\"RShoulder\"]}, {\"type\": \"scatter3d\", \"z\": [-0.16004877499046088, -0.23143050422246247], \"line\": {\"width\": 5, \"color\": \"red\"}, \"y\": [-0.04828232639625751, 0.32093255578945645], \"x\": [-0.7278377165548332, -0.34917051474356997], \"marker\": {\"size\": 2, \"color\": \"blue\"}, \"text\": [\"RElbow\"]}, {\"type\": \"scatter3d\", \"z\": [-0.12864255956801962, -0.16004877499046088], \"line\": {\"width\": 5, \"color\": \"red\"}, \"y\": [-0.07939813666973716, -0.04828232639625751], \"x\": [-0.8337899398437478, -0.7278377165548332], \"marker\": {\"size\": 2, \"color\": \"blue\"}, \"text\": [\"RWrist\"]}, {\"type\": \"scatter3d\", \"z\": [-9.89050039882495, -9.781967065491616, -9.717387065491616, -10.231047065491616, -11.064395532158283, -11.62703239882495, -11.72928039882495, -11.640749732158284, -11.71298039882495, -11.67711439882495, -11.655715065491616, -11.733913732158284, -11.667425732158282, -11.71280039882495, -11.671505065491615, -11.601569065491617], \"line\": {\"width\": 1, \"color\": \"#1f77b4\"}, \"y\": [-0.9363594694242567, -0.9168994694242565, -0.9295194694242566, -0.9334528027575899, -0.9425594694242567, -0.8539261360909234, -0.5647928027575899, -0.27810613609092316, -0.09269280275758995, -0.08301946942425675, -0.06881280275759005, -0.16405946942425653, -0.16121946942425658, -0.3059861360909233, -0.36855946942425666, -0.3208794694242565], \"x\": [-0.10456789807196559, 0.07519876859470122, 0.4937387685947011, 1.127338768594701, 1.5346987685947013, 1.5842921019280345, 1.3928254352613678, 1.1768121019280344, 0.7025454352613678, 0.5634387685947011, 0.8725321019280343, 1.3347321019280343, 1.3049254352613677, 1.1927054352613675, 0.9764121019280343, 1.160118768594701], \"marker\": {\"size\": 1, \"color\": \"#1f77b4\"}}], \"name\": \"frame17\"}, {\"data\": [{\"type\": \"scatter3d\", \"z\": [-0.09021135087737164, -11.585561732158283], \"line\": {\"width\": 5, \"color\": \"red\"}, \"y\": [-0.11582070160265179, -0.8983794694242566], \"x\": [-0.05888415079113063, 1.725698768594701], \"marker\": {\"size\": 2, \"color\": \"blue\"}, \"text\": [\"RHip\"]}, {\"type\": \"scatter3d\", \"z\": [-0.1281382838481253, -0.09021135087737164], \"line\": {\"width\": 5, \"color\": \"red\"}, \"y\": [-0.5072028437929332, -0.11582070160265179], \"x\": [-0.36053266542546014, -0.05888415079113063], \"marker\": {\"size\": 2, \"color\": \"blue\"}, \"text\": [\"RKnee\"]}, {\"type\": \"scatter3d\", \"z\": [-0.1269787457779934, -0.1281382838481253], \"line\": {\"width\": 5, \"color\": \"red\"}, \"y\": [-0.8587079481479032, -0.5072028437929332], \"x\": [-0.0040937914509928675, -0.36053266542546014], \"marker\": {\"size\": 2, \"color\": \"blue\"}, \"text\": [\"RAnkle\"]}, {\"type\": \"scatter3d\", \"z\": [0.08760287142034784, -11.585561732158283], \"line\": {\"width\": 5, \"color\": \"black\"}, \"y\": [-0.12133123445112126, -0.8983794694242566], \"x\": [-0.05750461606195256, 1.725698768594701], \"marker\": {\"size\": 2, \"color\": \"blue\"}, \"text\": [\"LHip\"]}, {\"type\": \"scatter3d\", \"z\": [0.07676064258982507, 0.08760287142034784], \"line\": {\"width\": 5, \"color\": \"black\"}, \"y\": [-0.5959095485043462, -0.12133123445112126], \"x\": [-0.10613716389547956, -0.05750461606195256], \"marker\": {\"size\": 2, \"color\": \"blue\"}, \"text\": [\"LKnee\"]}, {\"type\": \"scatter3d\", \"z\": [0.04616211020032246, 0.07676064258982507], \"line\": {\"width\": 5, \"color\": \"black\"}, \"y\": [-1.075693093270943, -0.5959095485043462], \"x\": [0.029127875825595728, -0.10613716389547956], \"marker\": {\"size\": 2, \"color\": \"blue\"}, \"text\": [\"LAnkle\"]}, {\"type\": \"scatter3d\", \"z\": [0.037459729844371736, -11.585561732158283], \"line\": {\"width\": 5, \"color\": \"black\"}, \"y\": [0.26090056876106327, -0.8983794694242566], \"x\": [-0.06852166296441031, 1.725698768594701], \"marker\": {\"size\": 2, \"color\": \"blue\"}, \"text\": [\"Spine1\"]}, {\"type\": \"scatter3d\", \"z\": [0.04487818055297055, 0.037459729844371736], \"line\": {\"width\": 5, \"color\": \"black\"}, \"y\": [0.5074809408062761, 0.26090056876106327], \"x\": [-0.13151371429880343, -0.06852166296441031], \"marker\": {\"size\": 2, \"color\": \"blue\"}, \"text\": [\"Neck\"]}, {\"type\": \"scatter3d\", \"z\": [0.0574342231232734, 0.04487818055297055], \"line\": {\"width\": 5, \"color\": \"black\"}, \"y\": [0.6228764521038235, 0.5074809408062761], \"x\": [-0.15227519258507272, -0.13151371429880343], \"marker\": {\"size\": 2, \"color\": \"blue\"}, \"text\": [\"Head\"]}, {\"type\": \"scatter3d\", \"z\": [0.06456283998921108, 0.0574342231232734], \"line\": {\"width\": 5, \"color\": \"black\"}, \"y\": [0.7365091688106631, 0.6228764521038235], \"x\": [-0.18375809336006155, -0.15227519258507272], \"marker\": {\"size\": 2, \"color\": \"blue\"}, \"text\": [\"Site\"]}, {\"type\": \"scatter3d\", \"z\": [0.2694199127247998, 0.04487818055297055], \"line\": {\"width\": 5, \"color\": \"black\"}, \"y\": [0.4697046435080867, 0.5074809408062761], \"x\": [-0.11037521582569054, -0.13151371429880343], \"marker\": {\"size\": 2, \"color\": \"blue\"}, \"text\": [\"LShoulder\"]}, {\"type\": \"scatter3d\", \"z\": [0.30663781143888613, 0.2694199127247998], \"line\": {\"width\": 5, \"color\": \"black\"}, \"y\": [-0.062481498684962, 0.4697046435080867], \"x\": [-0.10743645459632445, -0.11037521582569054], \"marker\": {\"size\": 2, \"color\": \"blue\"}, \"text\": [\"LElbow\"]}, {\"type\": \"scatter3d\", \"z\": [0.3035592399062619, 0.30663781143888613], \"line\": {\"width\": 5, \"color\": \"black\"}, \"y\": [-0.17013271928481055, -0.062481498684962], \"x\": [-0.15085628703641674, -0.10743645459632445], \"marker\": {\"size\": 2, \"color\": \"blue\"}, \"text\": [\"LWrist\"]}, {\"type\": \"scatter3d\", \"z\": [-0.16309906477131975, 0.04487818055297055], \"line\": {\"width\": 5, \"color\": \"red\"}, \"y\": [0.49474668256432386, 0.5074809408062761], \"x\": [-0.09649118508198162, -0.13151371429880343], \"marker\": {\"size\": 2, \"color\": \"blue\"}, \"text\": [\"RShoulder\"]}, {\"type\": \"scatter3d\", \"z\": [-0.2924130937727174, -0.16309906477131975], \"line\": {\"width\": 5, \"color\": \"red\"}, \"y\": [-0.04198681773577495, 0.49474668256432386], \"x\": [-0.024658706431455846, -0.09649118508198162], \"marker\": {\"size\": 2, \"color\": \"blue\"}, \"text\": [\"RElbow\"]}, {\"type\": \"scatter3d\", \"z\": [-0.3297512464676231, -0.2924130937727174], \"line\": {\"width\": 5, \"color\": \"red\"}, \"y\": [-0.14810712895412248, -0.04198681773577495], \"x\": [-0.0475663369560857, -0.024658706431455846], \"marker\": {\"size\": 2, \"color\": \"blue\"}, \"text\": [\"RWrist\"]}, {\"type\": \"scatter3d\", \"z\": [-9.89050039882495, -9.781967065491616, -9.717387065491616, -10.231047065491616, -11.064395532158283, -11.62703239882495, -11.72928039882495, -11.640749732158284, -11.71298039882495, -11.67711439882495, -11.655715065491616, -11.733913732158284, -11.667425732158282, -11.71280039882495, -11.671505065491615, -11.601569065491617, -11.708547065491617], \"line\": {\"width\": 1, \"color\": \"#1f77b4\"}, \"y\": [-0.9363594694242567, -0.9168994694242565, -0.9295194694242566, -0.9334528027575899, -0.9425594694242567, -0.8539261360909234, -0.5647928027575899, -0.27810613609092316, -0.09269280275758995, -0.08301946942425675, -0.06881280275759005, -0.16405946942425653, -0.16121946942425658, -0.3059861360909233, -0.36855946942425666, -0.3208794694242565, -0.5929661360909233], \"x\": [-0.10456789807196559, 0.07519876859470122, 0.4937387685947011, 1.127338768594701, 1.5346987685947013, 1.5842921019280345, 1.3928254352613678, 1.1768121019280344, 0.7025454352613678, 0.5634387685947011, 0.8725321019280343, 1.3347321019280343, 1.3049254352613677, 1.1927054352613675, 0.9764121019280343, 1.160118768594701, 1.4533787685947008], \"marker\": {\"size\": 1, \"color\": \"#1f77b4\"}}], \"name\": \"frame18\"}, {\"data\": [{\"type\": \"scatter3d\", \"z\": [-0.04598554283510303, -11.510019732158284], \"line\": {\"width\": 5, \"color\": \"red\"}, \"y\": [-0.11309491846376085, -0.9128861360909233], \"x\": [-0.10057203999660946, 1.726798768594701], \"marker\": {\"size\": 2, \"color\": \"blue\"}, \"text\": [\"RHip\"]}, {\"type\": \"scatter3d\", \"z\": [-0.08480258897983362, -0.04598554283510303], \"line\": {\"width\": 5, \"color\": \"red\"}, \"y\": [-0.6045650416740769, -0.11309491846376085], \"x\": [-0.04996952255573839, -0.10057203999660946], \"marker\": {\"size\": 2, \"color\": \"blue\"}, \"text\": [\"RKnee\"]}, {\"type\": \"scatter3d\", \"z\": [-0.20342793054288855, -0.08480258897983362], \"line\": {\"width\": 5, \"color\": \"red\"}, \"y\": [-1.0598718289375761, -0.6045650416740769], \"x\": [0.12099717480710881, -0.04996952255573839], \"marker\": {\"size\": 2, \"color\": \"blue\"}, \"text\": [\"RAnkle\"]}, {\"type\": \"scatter3d\", \"z\": [0.09305145421931904, -11.510019732158284], \"line\": {\"width\": 5, \"color\": \"black\"}, \"y\": [-0.13023504300009492, -0.9128861360909233], \"x\": [0.00908696018419497, 1.726798768594701], \"marker\": {\"size\": 2, \"color\": \"blue\"}, \"text\": [\"LHip\"]}, {\"type\": \"scatter3d\", \"z\": [0.3043205173632284, 0.09305145421931904], \"line\": {\"width\": 5, \"color\": \"black\"}, \"y\": [-0.5546599765234361, -0.13023504300009492], \"x\": [-0.045098956495303266, 0.00908696018419497], \"marker\": {\"size\": 2, \"color\": \"blue\"}, \"text\": [\"LKnee\"]}, {\"type\": \"scatter3d\", \"z\": [0.37280152359071295, 0.3043205173632284], \"line\": {\"width\": 5, \"color\": \"black\"}, \"y\": [-1.0336811794836558, -0.5546599765234361], \"x\": [0.07848983702802403, -0.045098956495303266], \"marker\": {\"size\": 2, \"color\": \"blue\"}, \"text\": [\"LAnkle\"]}, {\"type\": \"scatter3d\", \"z\": [0.051327826634167906, -11.510019732158284], \"line\": {\"width\": 5, \"color\": \"black\"}, \"y\": [0.26517710406404693, -0.9128861360909233], \"x\": [-0.037023476459947746, 1.726798768594701], \"marker\": {\"size\": 2, \"color\": \"blue\"}, \"text\": [\"Spine1\"]}, {\"type\": \"scatter3d\", \"z\": [0.09720972487450474, 0.051327826634167906], \"line\": {\"width\": 5, \"color\": \"black\"}, \"y\": [0.5141895710687407, 0.26517710406404693], \"x\": [-0.06010692731152867, -0.037023476459947746], \"marker\": {\"size\": 2, \"color\": \"blue\"}, \"text\": [\"Neck\"]}, {\"type\": \"scatter3d\", \"z\": [0.137780411054079, 0.09720972487450474], \"line\": {\"width\": 5, \"color\": \"black\"}, \"y\": [0.6241560839258722, 0.5141895710687407], \"x\": [-0.07299888939035015, -0.06010692731152867], \"marker\": {\"size\": 2, \"color\": \"blue\"}, \"text\": [\"Head\"]}, {\"type\": \"scatter3d\", \"z\": [0.1850182969979315, 0.137780411054079], \"line\": {\"width\": 5, \"color\": \"black\"}, \"y\": [0.7275370126000162, 0.6241560839258722], \"x\": [-0.10517574821518139, -0.07299888939035015], \"marker\": {\"size\": 2, \"color\": \"blue\"}, \"text\": [\"Site\"]}, {\"type\": \"scatter3d\", \"z\": [0.23473727788304544, 0.09720972487450474], \"line\": {\"width\": 5, \"color\": \"black\"}, \"y\": [0.47847275551922497, 0.5141895710687407], \"x\": [0.1044767928786352, -0.06010692731152867], \"marker\": {\"size\": 2, \"color\": \"blue\"}, \"text\": [\"LShoulder\"]}, {\"type\": \"scatter3d\", \"z\": [0.29236212030726527, 0.23473727788304544], \"line\": {\"width\": 5, \"color\": \"black\"}, \"y\": [-0.03814618883213483, 0.47847275551922497], \"x\": [0.16877600441041385, 0.1044767928786352], \"marker\": {\"size\": 2, \"color\": \"blue\"}, \"text\": [\"LElbow\"]}, {\"type\": \"scatter3d\", \"z\": [0.34891215227487216, 0.29236212030726527], \"line\": {\"width\": 5, \"color\": \"black\"}, \"y\": [-0.13882171859926906, -0.03814618883213483], \"x\": [0.15652543956572296, 0.16877600441041385], \"marker\": {\"size\": 2, \"color\": \"blue\"}, \"text\": [\"LWrist\"]}, {\"type\": \"scatter3d\", \"z\": [-0.07464266917273932, 0.09720972487450474], \"line\": {\"width\": 5, \"color\": \"red\"}, \"y\": [0.49696525841858374, 0.5141895710687407], \"x\": [-0.19856546757418236, -0.06010692731152867], \"marker\": {\"size\": 2, \"color\": \"blue\"}, \"text\": [\"RShoulder\"]}, {\"type\": \"scatter3d\", \"z\": [-0.07633735777321249, -0.07464266917273932], \"line\": {\"width\": 5, \"color\": \"red\"}, \"y\": [0.034044711571108, 0.49696525841858374], \"x\": [-0.4200301080908564, -0.19856546757418236], \"marker\": {\"size\": 2, \"color\": \"blue\"}, \"text\": [\"RElbow\"]}, {\"type\": \"scatter3d\", \"z\": [-0.04076141063115912, -0.07633735777321249], \"line\": {\"width\": 5, \"color\": \"red\"}, \"y\": [-0.027792668842990365, 0.034044711571108], \"x\": [-0.5099795828223297, -0.4200301080908564], \"marker\": {\"size\": 2, \"color\": \"blue\"}, \"text\": [\"RWrist\"]}, {\"type\": \"scatter3d\", \"z\": [-9.89050039882495, -9.781967065491616, -9.717387065491616, -10.231047065491616, -11.064395532158283, -11.62703239882495, -11.72928039882495, -11.640749732158284, -11.71298039882495, -11.67711439882495, -11.655715065491616, -11.733913732158284, -11.667425732158282, -11.71280039882495, -11.671505065491615, -11.601569065491617, -11.708547065491617, -11.585561732158283], \"line\": {\"width\": 1, \"color\": \"#1f77b4\"}, \"y\": [-0.9363594694242567, -0.9168994694242565, -0.9295194694242566, -0.9334528027575899, -0.9425594694242567, -0.8539261360909234, -0.5647928027575899, -0.27810613609092316, -0.09269280275758995, -0.08301946942425675, -0.06881280275759005, -0.16405946942425653, -0.16121946942425658, -0.3059861360909233, -0.36855946942425666, -0.3208794694242565, -0.5929661360909233, -0.8983794694242566], \"x\": [-0.10456789807196559, 0.07519876859470122, 0.4937387685947011, 1.127338768594701, 1.5346987685947013, 1.5842921019280345, 1.3928254352613678, 1.1768121019280344, 0.7025454352613678, 0.5634387685947011, 0.8725321019280343, 1.3347321019280343, 1.3049254352613677, 1.1927054352613675, 0.9764121019280343, 1.160118768594701, 1.4533787685947008, 1.725698768594701], \"marker\": {\"size\": 1, \"color\": \"#1f77b4\"}}], \"name\": \"frame19\"}, {\"data\": [{\"type\": \"scatter3d\", \"z\": [-0.006722609183148265, -10.847421065491616], \"line\": {\"width\": 5, \"color\": \"red\"}, \"y\": [-0.1328220449472326, -0.93739280275759], \"x\": [-0.08563280249442662, 1.3951387685947012], \"marker\": {\"size\": 2, \"color\": \"blue\"}, \"text\": [\"RHip\"]}, {\"type\": \"scatter3d\", \"z\": [0.19385352754407847, -0.006722609183148265], \"line\": {\"width\": 5, \"color\": \"red\"}, \"y\": [-0.5420496707374385, -0.1328220449472326], \"x\": [-0.28034341729703693, -0.08563280249442662], \"marker\": {\"size\": 2, \"color\": \"blue\"}, \"text\": [\"RKnee\"]}, {\"type\": \"scatter3d\", \"z\": [0.262966143116369, 0.19385352754407847], \"line\": {\"width\": 5, \"color\": \"red\"}, \"y\": [-1.0303615814899023, -0.5420496707374385], \"x\": [-0.3662548716110883, -0.28034341729703693], \"marker\": {\"size\": 2, \"color\": \"blue\"}, \"text\": [\"RAnkle\"]}, {\"type\": \"scatter3d\", \"z\": [0.10995611293354557, -10.847421065491616], \"line\": {\"width\": 5, \"color\": \"black\"}, \"y\": [-0.10713858705534718, -0.93739280275759], \"x\": [0.046187539394134, 1.3951387685947012], \"marker\": {\"size\": 2, \"color\": \"blue\"}, \"text\": [\"LHip\"]}, {\"type\": \"scatter3d\", \"z\": [-0.003383487881979619, 0.10995611293354557], \"line\": {\"width\": 5, \"color\": \"black\"}, \"y\": [-0.5517510860254913, -0.10713858705534718], \"x\": [0.1772642934388362, 0.046187539394134], \"marker\": {\"size\": 2, \"color\": \"blue\"}, \"text\": [\"LKnee\"]}, {\"type\": \"scatter3d\", \"z\": [-0.12200497568010427, -0.003383487881979619], \"line\": {\"width\": 5, \"color\": \"black\"}, \"y\": [-1.01708355360072, -0.5517510860254913], \"x\": [0.3144495267434635, 0.1772642934388362], \"marker\": {\"size\": 2, \"color\": \"blue\"}, \"text\": [\"LAnkle\"]}, {\"type\": \"scatter3d\", \"z\": [0.048247996647754476, -10.847421065491616], \"line\": {\"width\": 5, \"color\": \"black\"}, \"y\": [0.2636823274668201, -0.93739280275759], \"x\": [-0.0481770014425531, 1.3951387685947012], \"marker\": {\"size\": 2, \"color\": \"blue\"}, \"text\": [\"Spine1\"]}, {\"type\": \"scatter3d\", \"z\": [0.10724523873607339, 0.048247996647754476], \"line\": {\"width\": 5, \"color\": \"black\"}, \"y\": [0.4994852299209942, 0.2636823274668201], \"x\": [-0.11998764684227492, -0.0481770014425531], \"marker\": {\"size\": 2, \"color\": \"blue\"}, \"text\": [\"Neck\"]}, {\"type\": \"scatter3d\", \"z\": [0.12334393866928117, 0.10724523873607339], \"line\": {\"width\": 5, \"color\": \"black\"}, \"y\": [0.6156868615368347, 0.4994852299209942], \"x\": [-0.13193879254291274, -0.11998764684227492], \"marker\": {\"size\": 2, \"color\": \"blue\"}, \"text\": [\"Head\"]}, {\"type\": \"scatter3d\", \"z\": [0.1237327815157876, 0.12334393866928117], \"line\": {\"width\": 5, \"color\": \"black\"}, \"y\": [0.7324678537477991, 0.6156868615368347], \"x\": [-0.14972736149236576, -0.13193879254291274], \"marker\": {\"size\": 2, \"color\": \"blue\"}, \"text\": [\"Site\"]}, {\"type\": \"scatter3d\", \"z\": [0.22868368272463613, 0.10724523873607339], \"line\": {\"width\": 5, \"color\": \"black\"}, \"y\": [0.4997237418281968, 0.4994852299209942], \"x\": [0.056148459765345216, -0.11998764684227492], \"marker\": {\"size\": 2, \"color\": \"blue\"}, \"text\": [\"LShoulder\"]}, {\"type\": \"scatter3d\", \"z\": [0.37891571774392396, 0.22868368272463613], \"line\": {\"width\": 5, \"color\": \"black\"}, \"y\": [0.02324717420097877, 0.4997237418281968], \"x\": [0.08876413579691533, 0.056148459765345216], \"marker\": {\"size\": 2, \"color\": \"blue\"}, \"text\": [\"LElbow\"]}, {\"type\": \"scatter3d\", \"z\": [0.4486142620915725, 0.37891571774392396], \"line\": {\"width\": 5, \"color\": \"black\"}, \"y\": [-0.05956961464473287, 0.02324717420097877], \"x\": [0.04672799480433354, 0.08876413579691533], \"marker\": {\"size\": 2, \"color\": \"blue\"}, \"text\": [\"LWrist\"]}, {\"type\": \"scatter3d\", \"z\": [-0.09347292169573151, 0.10724523873607339], \"line\": {\"width\": 5, \"color\": \"red\"}, \"y\": [0.4680510766548247, 0.4994852299209942], \"x\": [-0.23213005215191407, -0.11998764684227492], \"marker\": {\"size\": 2, \"color\": \"blue\"}, \"text\": [\"RShoulder\"]}, {\"type\": \"scatter3d\", \"z\": [-0.15362135509542085, -0.09347292169573151], \"line\": {\"width\": 5, \"color\": \"red\"}, \"y\": [-0.07433538239471882, 0.4680510766548247], \"x\": [-0.24171942587811035, -0.23213005215191407], \"marker\": {\"size\": 2, \"color\": \"blue\"}, \"text\": [\"RElbow\"]}, {\"type\": \"scatter3d\", \"z\": [-0.14394951066931405, -0.15362135509542085], \"line\": {\"width\": 5, \"color\": \"red\"}, \"y\": [-0.17994887240690227, -0.07433538239471882], \"x\": [-0.2856814980408686, -0.24171942587811035], \"marker\": {\"size\": 2, \"color\": \"blue\"}, \"text\": [\"RWrist\"]}, {\"type\": \"scatter3d\", \"z\": [-9.89050039882495, -9.781967065491616, -9.717387065491616, -10.231047065491616, -11.064395532158283, -11.62703239882495, -11.72928039882495, -11.640749732158284, -11.71298039882495, -11.67711439882495, -11.655715065491616, -11.733913732158284, -11.667425732158282, -11.71280039882495, -11.671505065491615, -11.601569065491617, -11.708547065491617, -11.585561732158283, -11.510019732158284], \"line\": {\"width\": 1, \"color\": \"#1f77b4\"}, \"y\": [-0.9363594694242567, -0.9168994694242565, -0.9295194694242566, -0.9334528027575899, -0.9425594694242567, -0.8539261360909234, -0.5647928027575899, -0.27810613609092316, -0.09269280275758995, -0.08301946942425675, -0.06881280275759005, -0.16405946942425653, -0.16121946942425658, -0.3059861360909233, -0.36855946942425666, -0.3208794694242565, -0.5929661360909233, -0.8983794694242566, -0.9128861360909233], \"x\": [-0.10456789807196559, 0.07519876859470122, 0.4937387685947011, 1.127338768594701, 1.5346987685947013, 1.5842921019280345, 1.3928254352613678, 1.1768121019280344, 0.7025454352613678, 0.5634387685947011, 0.8725321019280343, 1.3347321019280343, 1.3049254352613677, 1.1927054352613675, 0.9764121019280343, 1.160118768594701, 1.4533787685947008, 1.725698768594701, 1.726798768594701], \"marker\": {\"size\": 1, \"color\": \"#1f77b4\"}}], \"name\": \"frame20\"}, {\"data\": [{\"type\": \"scatter3d\", \"z\": [-0.10241238231791883, -10.372922398824949], \"line\": {\"width\": 5, \"color\": \"red\"}, \"y\": [-0.11047084068185842, -0.9429728027575901], \"x\": [-0.048246899053260295, 0.5218254352613677], \"marker\": {\"size\": 2, \"color\": \"blue\"}, \"text\": [\"RHip\"]}, {\"type\": \"scatter3d\", \"z\": [-0.07755133387893309, -0.10241238231791883], \"line\": {\"width\": 5, \"color\": \"red\"}, \"y\": [-0.6054311078043606, -0.11047084068185842], \"x\": [-0.0456930604415251, -0.048246899053260295], \"marker\": {\"size\": 2, \"color\": \"blue\"}, \"text\": [\"RKnee\"]}, {\"type\": \"scatter3d\", \"z\": [-0.098392253618659, -0.07755133387893309], \"line\": {\"width\": 5, \"color\": \"red\"}, \"y\": [-0.9523963247178553, -0.6054311078043606], \"x\": [0.3145660797796419, -0.0456930604415251], \"marker\": {\"size\": 2, \"color\": \"blue\"}, \"text\": [\"RAnkle\"]}, {\"type\": \"scatter3d\", \"z\": [0.07349382405945981, -10.372922398824949], \"line\": {\"width\": 5, \"color\": \"black\"}, \"y\": [-0.12318136244571298, -0.9429728027575901], \"x\": [-0.07160532224695759, 0.5218254352613677], \"marker\": {\"size\": 2, \"color\": \"blue\"}, \"text\": [\"LHip\"]}, {\"type\": \"scatter3d\", \"z\": [0.15240956784716175, 0.07349382405945981], \"line\": {\"width\": 5, \"color\": \"black\"}, \"y\": [-0.5679008821861111, -0.12318136244571298], \"x\": [-0.225566710096958, -0.07160532224695759], \"marker\": {\"size\": 2, \"color\": \"blue\"}, \"text\": [\"LKnee\"]}, {\"type\": \"scatter3d\", \"z\": [0.24184005992557722, 0.15240956784716175], \"line\": {\"width\": 5, \"color\": \"black\"}, \"y\": [-1.0578662471346354, -0.5679008821861111], \"x\": [-0.18867119246393432, -0.225566710096958], \"marker\": {\"size\": 2, \"color\": \"blue\"}, \"text\": [\"LAnkle\"]}, {\"type\": \"scatter3d\", \"z\": [0.02865668064847604, -10.372922398824949], \"line\": {\"width\": 5, \"color\": \"black\"}, \"y\": [0.26873584522691574, -0.9429728027575901], \"x\": [-0.036054048903868596, 0.5218254352613677], \"marker\": {\"size\": 2, \"color\": \"blue\"}, \"text\": [\"Spine1\"]}, {\"type\": \"scatter3d\", \"z\": [0.05170080014500478, 0.02865668064847604], \"line\": {\"width\": 5, \"color\": \"black\"}, \"y\": [0.5193449962688725, 0.26873584522691574], \"x\": [-0.07114150569025174, -0.036054048903868596], \"marker\": {\"size\": 2, \"color\": \"blue\"}, \"text\": [\"Neck\"]}, {\"type\": \"scatter3d\", \"z\": [0.05502158280432923, 0.05170080014500478], \"line\": {\"width\": 5, \"color\": \"black\"}, \"y\": [0.6371566574149352, 0.5193449962688725], \"x\": [-0.06737293649018433, -0.07114150569025174], \"marker\": {\"size\": 2, \"color\": \"blue\"}, \"text\": [\"Head\"]}, {\"type\": \"scatter3d\", \"z\": [0.03789268949609159, 0.05502158280432923], \"line\": {\"width\": 5, \"color\": \"black\"}, \"y\": [0.7539326538694906, 0.6371566574149352], \"x\": [-0.06243814248367724, -0.06737293649018433], \"marker\": {\"size\": 2, \"color\": \"blue\"}, \"text\": [\"Site\"]}, {\"type\": \"scatter3d\", \"z\": [0.2586127272278187, 0.05170080014500478], \"line\": {\"width\": 5, \"color\": \"black\"}, \"y\": [0.481271061110504, 0.5193449962688725], \"x\": [-0.06930140384993921, -0.07114150569025174], \"marker\": {\"size\": 2, \"color\": \"blue\"}, \"text\": [\"LShoulder\"]}, {\"type\": \"scatter3d\", \"z\": [0.33965621097300236, 0.2586127272278187], \"line\": {\"width\": 5, \"color\": \"black\"}, \"y\": [0.000984798290206923, 0.481271061110504], \"x\": [-0.23526381793447276, -0.06930140384993921], \"marker\": {\"size\": 2, \"color\": \"blue\"}, \"text\": [\"LElbow\"]}, {\"type\": \"scatter3d\", \"z\": [0.35721283429291795, 0.33965621097300236], \"line\": {\"width\": 5, \"color\": \"black\"}, \"y\": [-0.07468722201777189, 0.000984798290206923], \"x\": [-0.321571726428167, -0.23526381793447276], \"marker\": {\"size\": 2, \"color\": \"blue\"}, \"text\": [\"LWrist\"]}, {\"type\": \"scatter3d\", \"z\": [-0.17011996192347567, 0.05170080014500478], \"line\": {\"width\": 5, \"color\": \"red\"}, \"y\": [0.5042862079733899, 0.5193449962688725], \"x\": [-0.009710127709432026, -0.07114150569025174], \"marker\": {\"size\": 2, \"color\": \"blue\"}, \"text\": [\"RShoulder\"]}, {\"type\": \"scatter3d\", \"z\": [-0.39186217427616477, -0.17011996192347567], \"line\": {\"width\": 5, \"color\": \"red\"}, \"y\": [0.18326052955423777, 0.5042862079733899], \"x\": [-0.24112210891770497, -0.009710127709432026], \"marker\": {\"size\": 2, \"color\": \"blue\"}, \"text\": [\"RElbow\"]}, {\"type\": \"scatter3d\", \"z\": [-0.4325327015129705, -0.39186217427616477], \"line\": {\"width\": 5, \"color\": \"red\"}, \"y\": [0.18253738054236712, 0.18326052955423777], \"x\": [-0.3484804011255589, -0.24112210891770497], \"marker\": {\"size\": 2, \"color\": \"blue\"}, \"text\": [\"RWrist\"]}, {\"type\": \"scatter3d\", \"z\": [-9.89050039882495, -9.781967065491616, -9.717387065491616, -10.231047065491616, -11.064395532158283, -11.62703239882495, -11.72928039882495, -11.640749732158284, -11.71298039882495, -11.67711439882495, -11.655715065491616, -11.733913732158284, -11.667425732158282, -11.71280039882495, -11.671505065491615, -11.601569065491617, -11.708547065491617, -11.585561732158283, -11.510019732158284, -10.847421065491616], \"line\": {\"width\": 1, \"color\": \"#1f77b4\"}, \"y\": [-0.9363594694242567, -0.9168994694242565, -0.9295194694242566, -0.9334528027575899, -0.9425594694242567, -0.8539261360909234, -0.5647928027575899, -0.27810613609092316, -0.09269280275758995, -0.08301946942425675, -0.06881280275759005, -0.16405946942425653, -0.16121946942425658, -0.3059861360909233, -0.36855946942425666, -0.3208794694242565, -0.5929661360909233, -0.8983794694242566, -0.9128861360909233, -0.93739280275759], \"x\": [-0.10456789807196559, 0.07519876859470122, 0.4937387685947011, 1.127338768594701, 1.5346987685947013, 1.5842921019280345, 1.3928254352613678, 1.1768121019280344, 0.7025454352613678, 0.5634387685947011, 0.8725321019280343, 1.3347321019280343, 1.3049254352613677, 1.1927054352613675, 0.9764121019280343, 1.160118768594701, 1.4533787685947008, 1.725698768594701, 1.726798768594701, 1.3951387685947012], \"marker\": {\"size\": 1, \"color\": \"#1f77b4\"}}], \"name\": \"frame21\"}, {\"data\": [{\"type\": \"scatter3d\", \"z\": [-0.07982407096750421, -10.329247065491616], \"line\": {\"width\": 5, \"color\": \"red\"}, \"y\": [-0.11508568924915785, -0.9707661360909232], \"x\": [0.0735069233845664, -0.023674564738632144], \"marker\": {\"size\": 2, \"color\": \"blue\"}, \"text\": [\"RHip\"]}, {\"type\": \"scatter3d\", \"z\": [-0.27372579115554707, -0.07982407096750421], \"line\": {\"width\": 5, \"color\": \"red\"}, \"y\": [-0.5547428310688074, -0.11508568924915785], \"x\": [-0.04779427366729246, 0.0735069233845664], \"marker\": {\"size\": 2, \"color\": \"blue\"}, \"text\": [\"RKnee\"]}, {\"type\": \"scatter3d\", \"z\": [-0.11109497091174525, -0.27372579115554707], \"line\": {\"width\": 5, \"color\": \"red\"}, \"y\": [-1.0276338043887945, -0.5547428310688074], \"x\": [-0.07084199493478871, -0.04779427366729246], \"marker\": {\"size\": 2, \"color\": \"blue\"}, \"text\": [\"RAnkle\"]}, {\"type\": \"scatter3d\", \"z\": [-0.022632917589749724, -10.329247065491616], \"line\": {\"width\": 5, \"color\": \"black\"}, \"y\": [-0.12751735663521657, -0.9707661360909232], \"x\": [-0.09449543481617628, -0.023674564738632144], \"marker\": {\"size\": 2, \"color\": \"blue\"}, \"text\": [\"LHip\"]}, {\"type\": \"scatter3d\", \"z\": [-0.27242043060431165, -0.022632917589749724], \"line\": {\"width\": 5, \"color\": \"black\"}, \"y\": [-0.5040348615767294, -0.12751735663521657], \"x\": [-0.2479490812994475, -0.09449543481617628], \"marker\": {\"size\": 2, \"color\": \"blue\"}, \"text\": [\"LKnee\"]}, {\"type\": \"scatter3d\", \"z\": [-0.09138715326214175, -0.27242043060431165], \"line\": {\"width\": 5, \"color\": \"black\"}, \"y\": [-0.9684932995801887, -0.5040348615767294], \"x\": [-0.21744559221908422, -0.2479490812994475], \"marker\": {\"size\": 2, \"color\": \"blue\"}, \"text\": [\"LAnkle\"]}, {\"type\": \"scatter3d\", \"z\": [-0.11083329949927467, -10.329247065491616], \"line\": {\"width\": 5, \"color\": \"black\"}, \"y\": [0.23667619668686246, -0.9707661360909232], \"x\": [-0.07394729784862394, -0.023674564738632144], \"marker\": {\"size\": 2, \"color\": \"blue\"}, \"text\": [\"Spine1\"]}, {\"type\": \"scatter3d\", \"z\": [-0.223128077384402, -0.11083329949927467], \"line\": {\"width\": 5, \"color\": \"black\"}, \"y\": [0.4554759950969267, 0.23667619668686246], \"x\": [-0.1400001118751516, -0.07394729784862394], \"marker\": {\"size\": 2, \"color\": \"blue\"}, \"text\": [\"Neck\"]}, {\"type\": \"scatter3d\", \"z\": [-0.2887789245585708, -0.223128077384402], \"line\": {\"width\": 5, \"color\": \"black\"}, \"y\": [0.5515660789282153, 0.4554759950969267], \"x\": [-0.15901272000477462, -0.1400001118751516], \"marker\": {\"size\": 2, \"color\": \"blue\"}, \"text\": [\"Head\"]}, {\"type\": \"scatter3d\", \"z\": [-0.3687873519431015, -0.2887789245585708], \"line\": {\"width\": 5, \"color\": \"black\"}, \"y\": [0.6382598928050354, 0.5515660789282153], \"x\": [-0.16511343379512766, -0.15901272000477462], \"marker\": {\"size\": 2, \"color\": \"blue\"}, \"text\": [\"Site\"]}, {\"type\": \"scatter3d\", \"z\": [-0.12895836719278542, -0.223128077384402], \"line\": {\"width\": 5, \"color\": \"black\"}, \"y\": [0.4105295982134436, 0.4554759950969267], \"x\": [-0.33586878352465155, -0.1400001118751516], \"marker\": {\"size\": 2, \"color\": \"blue\"}, \"text\": [\"LShoulder\"]}, {\"type\": \"scatter3d\", \"z\": [-0.5678296330012245, -0.12895836719278542], \"line\": {\"width\": 5, \"color\": \"black\"}, \"y\": [0.36413857578135045, 0.4105295982134436], \"x\": [-0.4669979321346479, -0.33586878352465155], \"marker\": {\"size\": 2, \"color\": \"blue\"}, \"text\": [\"LElbow\"]}, {\"type\": \"scatter3d\", \"z\": [-0.6637118348073994, -0.5678296330012245], \"line\": {\"width\": 5, \"color\": \"black\"}, \"y\": [0.42962660042693157, 0.36413857578135045], \"x\": [-0.4657868362407878, -0.4669979321346479], \"marker\": {\"size\": 2, \"color\": \"blue\"}, \"text\": [\"LWrist\"]}, {\"type\": \"scatter3d\", \"z\": [-0.24669751140857699, -0.223128077384402], \"line\": {\"width\": 5, \"color\": \"red\"}, \"y\": [0.4699858590716679, 0.4554759950969267], \"x\": [0.07704159765771526, -0.1400001118751516], \"marker\": {\"size\": 2, \"color\": \"blue\"}, \"text\": [\"RShoulder\"]}, {\"type\": \"scatter3d\", \"z\": [-0.6338499123715469, -0.24669751140857699], \"line\": {\"width\": 5, \"color\": \"red\"}, \"y\": [0.4017290497626407, 0.4699858590716679], \"x\": [0.0069486955142700445, 0.07704159765771526], \"marker\": {\"size\": 2, \"color\": \"blue\"}, \"text\": [\"RElbow\"]}, {\"type\": \"scatter3d\", \"z\": [-0.6978730611345991, -0.6338499123715469], \"line\": {\"width\": 5, \"color\": \"red\"}, \"y\": [0.48414617686431205, 0.4017290497626407], \"x\": [-0.04089345346307963, 0.0069486955142700445], \"marker\": {\"size\": 2, \"color\": \"blue\"}, \"text\": [\"RWrist\"]}, {\"type\": \"scatter3d\", \"z\": [-9.89050039882495, -9.781967065491616, -9.717387065491616, -10.231047065491616, -11.064395532158283, -11.62703239882495, -11.72928039882495, -11.640749732158284, -11.71298039882495, -11.67711439882495, -11.655715065491616, -11.733913732158284, -11.667425732158282, -11.71280039882495, -11.671505065491615, -11.601569065491617, -11.708547065491617, -11.585561732158283, -11.510019732158284, -10.847421065491616, -10.372922398824949], \"line\": {\"width\": 1, \"color\": \"#1f77b4\"}, \"y\": [-0.9363594694242567, -0.9168994694242565, -0.9295194694242566, -0.9334528027575899, -0.9425594694242567, -0.8539261360909234, -0.5647928027575899, -0.27810613609092316, -0.09269280275758995, -0.08301946942425675, -0.06881280275759005, -0.16405946942425653, -0.16121946942425658, -0.3059861360909233, -0.36855946942425666, -0.3208794694242565, -0.5929661360909233, -0.8983794694242566, -0.9128861360909233, -0.93739280275759, -0.9429728027575901], \"x\": [-0.10456789807196559, 0.07519876859470122, 0.4937387685947011, 1.127338768594701, 1.5346987685947013, 1.5842921019280345, 1.3928254352613678, 1.1768121019280344, 0.7025454352613678, 0.5634387685947011, 0.8725321019280343, 1.3347321019280343, 1.3049254352613677, 1.1927054352613675, 0.9764121019280343, 1.160118768594701, 1.4533787685947008, 1.725698768594701, 1.726798768594701, 1.3951387685947012, 0.5218254352613677], \"marker\": {\"size\": 1, \"color\": \"#1f77b4\"}}], \"name\": \"frame22\"}, {\"data\": [{\"type\": \"scatter3d\", \"z\": [-0.14358479455082573, -11.276871065491616], \"line\": {\"width\": 5, \"color\": \"red\"}, \"y\": [-0.006172590985316528, -1.5781301360909232], \"x\": [0.06606944721706909, -0.26836789807196554], \"marker\": {\"size\": 2, \"color\": \"blue\"}, \"text\": [\"RHip\"]}, {\"type\": \"scatter3d\", \"z\": [-0.6056905815935956, -0.14358479455082573], \"line\": {\"width\": 5, \"color\": \"red\"}, \"y\": [-0.023819630408614678, -0.006172590985316528], \"x\": [0.24427461951095497, 0.06606944721706909], \"marker\": {\"size\": 2, \"color\": \"blue\"}, \"text\": [\"RKnee\"]}, {\"type\": \"scatter3d\", \"z\": [-0.3013522976181555, -0.6056905815935956], \"line\": {\"width\": 5, \"color\": \"red\"}, \"y\": [-0.37485610772508804, -0.023819630408614678], \"x\": [0.05784110777970261, 0.24427461951095497], \"marker\": {\"size\": 2, \"color\": \"blue\"}, \"text\": [\"RAnkle\"]}, {\"type\": \"scatter3d\", \"z\": [-0.11592672340680821, -11.276871065491616], \"line\": {\"width\": 5, \"color\": \"black\"}, \"y\": [-0.017929775199970077, -1.5781301360909232], \"x\": [-0.10927868211319047, -0.26836789807196554], \"marker\": {\"size\": 2, \"color\": \"blue\"}, \"text\": [\"LHip\"]}, {\"type\": \"scatter3d\", \"z\": [-0.46350906169500483, -0.11592672340680821], \"line\": {\"width\": 5, \"color\": \"black\"}, \"y\": [0.013597935602221334, -0.017929775199970077], \"x\": [-0.4347011404132864, -0.10927868211319047], \"marker\": {\"size\": 2, \"color\": \"blue\"}, \"text\": [\"LKnee\"]}, {\"type\": \"scatter3d\", \"z\": [-0.29326800507763373, -0.46350906169500483], \"line\": {\"width\": 5, \"color\": \"black\"}, \"y\": [-0.38266354463837016, 0.013597935602221334], \"x\": [-0.18286791603001984, -0.4347011404132864], \"marker\": {\"size\": 2, \"color\": \"blue\"}, \"text\": [\"LAnkle\"]}, {\"type\": \"scatter3d\", \"z\": [0.13037355757223956, -11.276871065491616], \"line\": {\"width\": 5, \"color\": \"black\"}, \"y\": [0.23840676524838877, -1.5781301360909232], \"x\": [-0.007263831734731219, -0.26836789807196554], \"marker\": {\"size\": 2, \"color\": \"blue\"}, \"text\": [\"Spine1\"]}, {\"type\": \"scatter3d\", \"z\": [0.2256705803006529, 0.13037355757223956], \"line\": {\"width\": 5, \"color\": \"black\"}, \"y\": [0.47148562021640483, 0.23840676524838877], \"x\": [-0.0021137220459381267, -0.007263831734731219], \"marker\": {\"size\": 2, \"color\": \"blue\"}, \"text\": [\"Neck\"]}, {\"type\": \"scatter3d\", \"z\": [0.24759118950877657, 0.2256705803006529], \"line\": {\"width\": 5, \"color\": \"black\"}, \"y\": [0.5873448255289306, 0.47148562021640483], \"x\": [-0.0030877084809178834, -0.0021137220459381267], \"marker\": {\"size\": 2, \"color\": \"blue\"}, \"text\": [\"Head\"]}, {\"type\": \"scatter3d\", \"z\": [0.2602536591996074, 0.24759118950877657], \"line\": {\"width\": 5, \"color\": \"black\"}, \"y\": [0.7043230672550025, 0.5873448255289306], \"x\": [0.007406925853423951, -0.0030877084809178834], \"marker\": {\"size\": 2, \"color\": \"blue\"}, \"text\": [\"Site\"]}, {\"type\": \"scatter3d\", \"z\": [0.29979374564722683, 0.2256705803006529], \"line\": {\"width\": 5, \"color\": \"black\"}, \"y\": [0.41449408826415346, 0.47148562021640483], \"x\": [-0.20587511667537228, -0.0021137220459381267], \"marker\": {\"size\": 2, \"color\": \"blue\"}, \"text\": [\"LShoulder\"]}, {\"type\": \"scatter3d\", \"z\": [0.15943208150291, 0.29979374564722683], \"line\": {\"width\": 5, \"color\": \"black\"}, \"y\": [0.8975298502285927, 0.41449408826415346], \"x\": [-0.29979663421819297, -0.20587511667537228], \"marker\": {\"size\": 2, \"color\": \"blue\"}, \"text\": [\"LElbow\"]}, {\"type\": \"scatter3d\", \"z\": [0.15676354166304485, 0.15943208150291], \"line\": {\"width\": 5, \"color\": \"black\"}, \"y\": [1.009224443568157, 0.8975298502285927], \"x\": [-0.2681621362408762, -0.29979663421819297], \"marker\": {\"size\": 2, \"color\": \"blue\"}, \"text\": [\"LWrist\"]}, {\"type\": \"scatter3d\", \"z\": [0.22643569704875333, 0.2256705803006529], \"line\": {\"width\": 5, \"color\": \"red\"}, \"y\": [0.423464612601562, 0.47148562021640483], \"x\": [0.22124390926823004, -0.0021137220459381267], \"marker\": {\"size\": 2, \"color\": \"blue\"}, \"text\": [\"RShoulder\"]}, {\"type\": \"scatter3d\", \"z\": [0.12113158220232378, 0.22643569704875333], \"line\": {\"width\": 5, \"color\": \"red\"}, \"y\": [0.9341552865553784, 0.423464612601562], \"x\": [0.26135997950254647, 0.22124390926823004], \"marker\": {\"size\": 2, \"color\": \"blue\"}, \"text\": [\"RElbow\"]}, {\"type\": \"scatter3d\", \"z\": [0.1516739509830085, 0.12113158220232378], \"line\": {\"width\": 5, \"color\": \"red\"}, \"y\": [1.0422369471737907, 0.9341552865553784], \"x\": [0.23757057044660215, 0.26135997950254647], \"marker\": {\"size\": 2, \"color\": \"blue\"}, \"text\": [\"RWrist\"]}, {\"type\": \"scatter3d\", \"z\": [-9.89050039882495, -9.781967065491616, -9.717387065491616, -10.231047065491616, -11.064395532158283, -11.62703239882495, -11.72928039882495, -11.640749732158284, -11.71298039882495, -11.67711439882495, -11.655715065491616, -11.733913732158284, -11.667425732158282, -11.71280039882495, -11.671505065491615, -11.601569065491617, -11.708547065491617, -11.585561732158283, -11.510019732158284, -10.847421065491616, -10.372922398824949, -10.329247065491616], \"line\": {\"width\": 1, \"color\": \"#1f77b4\"}, \"y\": [-0.9363594694242567, -0.9168994694242565, -0.9295194694242566, -0.9334528027575899, -0.9425594694242567, -0.8539261360909234, -0.5647928027575899, -0.27810613609092316, -0.09269280275758995, -0.08301946942425675, -0.06881280275759005, -0.16405946942425653, -0.16121946942425658, -0.3059861360909233, -0.36855946942425666, -0.3208794694242565, -0.5929661360909233, -0.8983794694242566, -0.9128861360909233, -0.93739280275759, -0.9429728027575901, -0.9707661360909232], \"x\": [-0.10456789807196559, 0.07519876859470122, 0.4937387685947011, 1.127338768594701, 1.5346987685947013, 1.5842921019280345, 1.3928254352613678, 1.1768121019280344, 0.7025454352613678, 0.5634387685947011, 0.8725321019280343, 1.3347321019280343, 1.3049254352613677, 1.1927054352613675, 0.9764121019280343, 1.160118768594701, 1.4533787685947008, 1.725698768594701, 1.726798768594701, 1.3951387685947012, 0.5218254352613677, -0.023674564738632144], \"marker\": {\"size\": 1, \"color\": \"#1f77b4\"}}], \"name\": \"frame23\"}, {\"data\": [{\"type\": \"scatter3d\", \"z\": [-0.11939512917738426, -11.827567065491616], \"line\": {\"width\": 5, \"color\": \"red\"}, \"y\": [-0.10346833678899436, -1.0126394694242564], \"x\": [-0.007679347112772128, -0.3035612314052989], \"marker\": {\"size\": 2, \"color\": \"blue\"}, \"text\": [\"RHip\"]}, {\"type\": \"scatter3d\", \"z\": [-0.3360579578856342, -0.11939512917738426], \"line\": {\"width\": 5, \"color\": \"red\"}, \"y\": [-0.5339892339595698, -0.10346833678899436], \"x\": [-0.12308833985901396, -0.007679347112772128], \"marker\": {\"size\": 2, \"color\": \"blue\"}, \"text\": [\"RKnee\"]}, {\"type\": \"scatter3d\", \"z\": [-0.03948370339020357, -0.3360579578856342], \"line\": {\"width\": 5, \"color\": \"red\"}, \"y\": [-0.8329111597733374, -0.5339892339595698], \"x\": [0.14764261078126528, -0.12308833985901396], \"marker\": {\"size\": 2, \"color\": \"blue\"}, \"text\": [\"RAnkle\"]}, {\"type\": \"scatter3d\", \"z\": [0.02757842615790196, -11.827567065491616], \"line\": {\"width\": 5, \"color\": \"black\"}, \"y\": [-0.11603574120849203, -1.0126394694242564], \"x\": [-0.10713285945873269, -0.3035612314052989], \"marker\": {\"size\": 2, \"color\": \"blue\"}, \"text\": [\"LHip\"]}, {\"type\": \"scatter3d\", \"z\": [-0.044228758353890285, 0.02757842615790196], \"line\": {\"width\": 5, \"color\": \"black\"}, \"y\": [-0.5588450437591821, -0.11603574120849203], \"x\": [-0.26983167516264606, -0.10713285945873269], \"marker\": {\"size\": 2, \"color\": \"blue\"}, \"text\": [\"LKnee\"]}, {\"type\": \"scatter3d\", \"z\": [0.17342983048389016, -0.044228758353890285], \"line\": {\"width\": 5, \"color\": \"black\"}, \"y\": [-0.9573372600629129, -0.5588450437591821], \"x\": [-0.06185609189763108, -0.26983167516264606], \"marker\": {\"size\": 2, \"color\": \"blue\"}, \"text\": [\"LAnkle\"]}, {\"type\": \"scatter3d\", \"z\": [-0.020313084006412296, -11.827567065491616], \"line\": {\"width\": 5, \"color\": \"black\"}, \"y\": [0.2670733292908565, -1.0126394694242564], \"x\": [-0.05098390818525378, -0.3035612314052989], \"marker\": {\"size\": 2, \"color\": \"blue\"}, \"text\": [\"Spine1\"]}, {\"type\": \"scatter3d\", \"z\": [-0.027421453409955276, -0.020313084006412296], \"line\": {\"width\": 5, \"color\": \"black\"}, \"y\": [0.5075576948916745, 0.2670733292908565], \"x\": [-0.12205742910700973, -0.05098390818525378], \"marker\": {\"size\": 2, \"color\": \"blue\"}, \"text\": [\"Neck\"]}, {\"type\": \"scatter3d\", \"z\": [-0.017403149389304318, -0.027421453409955276], \"line\": {\"width\": 5, \"color\": \"black\"}, \"y\": [0.6248407948863481, 0.5075576948916745], \"x\": [-0.12906637007337313, -0.12205742910700973], \"marker\": {\"size\": 2, \"color\": \"blue\"}, \"text\": [\"Head\"]}, {\"type\": \"scatter3d\", \"z\": [-0.013521591678818723, -0.017403149389304318], \"line\": {\"width\": 5, \"color\": \"black\"}, \"y\": [0.7420601128400419, 0.6248407948863481], \"x\": [-0.11496142292646688, -0.12906637007337313], \"marker\": {\"size\": 2, \"color\": \"blue\"}, \"text\": [\"Site\"]}, {\"type\": \"scatter3d\", \"z\": [0.20407515055734926, -0.027421453409955276], \"line\": {\"width\": 5, \"color\": \"black\"}, \"y\": [0.47864025877970695, 0.5075576948916745], \"x\": [-0.11459005958598073, -0.12205742910700973], \"marker\": {\"size\": 2, \"color\": \"blue\"}, \"text\": [\"LShoulder\"]}, {\"type\": \"scatter3d\", \"z\": [0.5679682541317526, 0.20407515055734926], \"line\": {\"width\": 5, \"color\": \"black\"}, \"y\": [0.28509587790831303, 0.47864025877970695], \"x\": [-0.12805505322232652, -0.11459005958598073], \"marker\": {\"size\": 2, \"color\": \"blue\"}, \"text\": [\"LElbow\"]}, {\"type\": \"scatter3d\", \"z\": [0.6689554462215366, 0.5679682541317526], \"line\": {\"width\": 5, \"color\": \"black\"}, \"y\": [0.3306078708468998, 0.28509587790831303], \"x\": [-0.1628945463446968, -0.12805505322232652], \"marker\": {\"size\": 2, \"color\": \"blue\"}, \"text\": [\"LWrist\"]}, {\"type\": \"scatter3d\", \"z\": [-0.21326787773960376, -0.027421453409955276], \"line\": {\"width\": 5, \"color\": \"red\"}, \"y\": [0.5034460361861905, 0.5075576948916745], \"x\": [-0.00012606497080358547, -0.12205742910700973], \"marker\": {\"size\": 2, \"color\": \"blue\"}, \"text\": [\"RShoulder\"]}, {\"type\": \"scatter3d\", \"z\": [-0.6626336095869529, -0.21326787773960376], \"line\": {\"width\": 5, \"color\": \"red\"}, \"y\": [0.3744239178697577, 0.5034460361861905], \"x\": [0.0318781097688261, -0.00012606497080358547], \"marker\": {\"size\": 2, \"color\": \"blue\"}, \"text\": [\"RElbow\"]}, {\"type\": \"scatter3d\", \"z\": [-0.7621007646758979, -0.6626336095869529], \"line\": {\"width\": 5, \"color\": \"red\"}, \"y\": [0.4218165553239135, 0.3744239178697577], \"x\": [-0.0003808519263461818, 0.0318781097688261], \"marker\": {\"size\": 2, \"color\": \"blue\"}, \"text\": [\"RWrist\"]}, {\"type\": \"scatter3d\", \"z\": [-9.89050039882495, -9.781967065491616, -9.717387065491616, -10.231047065491616, -11.064395532158283, -11.62703239882495, -11.72928039882495, -11.640749732158284, -11.71298039882495, -11.67711439882495, -11.655715065491616, -11.733913732158284, -11.667425732158282, -11.71280039882495, -11.671505065491615, -11.601569065491617, -11.708547065491617, -11.585561732158283, -11.510019732158284, -10.847421065491616, -10.372922398824949, -10.329247065491616, -11.276871065491616], \"line\": {\"width\": 1, \"color\": \"#1f77b4\"}, \"y\": [-0.9363594694242567, -0.9168994694242565, -0.9295194694242566, -0.9334528027575899, -0.9425594694242567, -0.8539261360909234, -0.5647928027575899, -0.27810613609092316, -0.09269280275758995, -0.08301946942425675, -0.06881280275759005, -0.16405946942425653, -0.16121946942425658, -0.3059861360909233, -0.36855946942425666, -0.3208794694242565, -0.5929661360909233, -0.8983794694242566, -0.9128861360909233, -0.93739280275759, -0.9429728027575901, -0.9707661360909232, -1.5781301360909232], \"x\": [-0.10456789807196559, 0.07519876859470122, 0.4937387685947011, 1.127338768594701, 1.5346987685947013, 1.5842921019280345, 1.3928254352613678, 1.1768121019280344, 0.7025454352613678, 0.5634387685947011, 0.8725321019280343, 1.3347321019280343, 1.3049254352613677, 1.1927054352613675, 0.9764121019280343, 1.160118768594701, 1.4533787685947008, 1.725698768594701, 1.726798768594701, 1.3951387685947012, 0.5218254352613677, -0.023674564738632144, -0.26836789807196554], \"marker\": {\"size\": 1, \"color\": \"#1f77b4\"}}], \"name\": \"frame24\"}, {\"data\": [{\"type\": \"scatter3d\", \"z\": [-0.09568387007652213, -12.03726039882495], \"line\": {\"width\": 5, \"color\": \"red\"}, \"y\": [-0.11346471880033815, -0.9420794694242567], \"x\": [-0.054682909176295424, -0.2385212314052989], \"marker\": {\"size\": 2, \"color\": \"blue\"}, \"text\": [\"RHip\"]}, {\"type\": \"scatter3d\", \"z\": [-0.10910208107412878, -0.09568387007652213], \"line\": {\"width\": 5, \"color\": \"red\"}, \"y\": [-0.6070180797328057, -0.11346471880033815], \"x\": [-0.09752321002733938, -0.054682909176295424], \"marker\": {\"size\": 2, \"color\": \"blue\"}, \"text\": [\"RKnee\"]}, {\"type\": \"scatter3d\", \"z\": [-0.05670291941608063, -0.10910208107412878], \"line\": {\"width\": 5, \"color\": \"red\"}, \"y\": [-1.0588110354023306, -0.6070180797328057], \"x\": [0.11162579633235883, -0.09752321002733938], \"marker\": {\"size\": 2, \"color\": \"blue\"}, \"text\": [\"RAnkle\"]}, {\"type\": \"scatter3d\", \"z\": [0.0817754363486074, -12.03726039882495], \"line\": {\"width\": 5, \"color\": \"black\"}, \"y\": [-0.12236130855756788, -0.9420794694242567], \"x\": [-0.063583021169415, -0.2385212314052989], \"marker\": {\"size\": 2, \"color\": \"blue\"}, \"text\": [\"LHip\"]}, {\"type\": \"scatter3d\", \"z\": [0.15109354458232538, 0.0817754363486074], \"line\": {\"width\": 5, \"color\": \"black\"}, \"y\": [-0.5878454490772329, -0.12236130855756788], \"x\": [-0.14249290394693642, -0.063583021169415], \"marker\": {\"size\": 2, \"color\": \"blue\"}, \"text\": [\"LKnee\"]}, {\"type\": \"scatter3d\", \"z\": [0.20911719875227774, 0.15109354458232538], \"line\": {\"width\": 5, \"color\": \"black\"}, \"y\": [-1.0559943316396097, -0.5878454490772329], \"x\": [0.021504139612696344, -0.14249290394693642], \"marker\": {\"size\": 2, \"color\": \"blue\"}, \"text\": [\"LAnkle\"]}, {\"type\": \"scatter3d\", \"z\": [-0.0004798334556053163, -12.03726039882495], \"line\": {\"width\": 5, \"color\": \"black\"}, \"y\": [0.2701995028174855, -0.9420794694242567], \"x\": [-0.034855220640785944, -0.2385212314052989], \"marker\": {\"size\": 2, \"color\": \"blue\"}, \"text\": [\"Spine1\"]}, {\"type\": \"scatter3d\", \"z\": [-0.029287839224142687, -0.0004798334556053163], \"line\": {\"width\": 5, \"color\": \"black\"}, \"y\": [0.5188924620618058, 0.2701995028174855], \"x\": [-0.08090962638502253, -0.034855220640785944], \"marker\": {\"size\": 2, \"color\": \"blue\"}, \"text\": [\"Neck\"]}, {\"type\": \"scatter3d\", \"z\": [-0.039215781517008, -0.029287839224142687], \"line\": {\"width\": 5, \"color\": \"black\"}, \"y\": [0.6363651262035239, 0.5188924620618058], \"x\": [-0.08344465193863354, -0.08090962638502253], \"marker\": {\"size\": 2, \"color\": \"blue\"}, \"text\": [\"Head\"]}, {\"type\": \"scatter3d\", \"z\": [-0.04881457294104585, -0.039215781517008], \"line\": {\"width\": 5, \"color\": \"black\"}, \"y\": [0.7536883322498504, 0.6363651262035239], \"x\": [-0.09331952166005297, -0.08344465193863354], \"marker\": {\"size\": 2, \"color\": \"blue\"}, \"text\": [\"Site\"]}, {\"type\": \"scatter3d\", \"z\": [0.19842318954304972, -0.029287839224142687], \"line\": {\"width\": 5, \"color\": \"black\"}, \"y\": [0.5142975799335419, 0.5188924620618058], \"x\": [-0.031676518038360135, -0.08090962638502253], \"marker\": {\"size\": 2, \"color\": \"blue\"}, \"text\": [\"LShoulder\"]}, {\"type\": \"scatter3d\", \"z\": [0.6579723947515337, 0.19842318954304972], \"line\": {\"width\": 5, \"color\": \"black\"}, \"y\": [0.35665389881145515, 0.5142975799335419], \"x\": [-0.12952420446956658, -0.031676518038360135], \"marker\": {\"size\": 2, \"color\": \"blue\"}, \"text\": [\"LElbow\"]}, {\"type\": \"scatter3d\", \"z\": [0.7570763654588077, 0.6579723947515337], \"line\": {\"width\": 5, \"color\": \"black\"}, \"y\": [0.38014303765299773, 0.35665389881145515], \"x\": [-0.1852934441539934, -0.12952420446956658], \"marker\": {\"size\": 2, \"color\": \"blue\"}, \"text\": [\"LWrist\"]}, {\"type\": \"scatter3d\", \"z\": [-0.23224424563463053, -0.029287839224142687], \"line\": {\"width\": 5, \"color\": \"red\"}, \"y\": [0.4736150079439574, 0.5188924620618058], \"x\": [-0.059299416833845486, -0.08090962638502253], \"marker\": {\"size\": 2, \"color\": \"blue\"}, \"text\": [\"RShoulder\"]}, {\"type\": \"scatter3d\", \"z\": [-0.5234336491773437, -0.23224424563463053], \"line\": {\"width\": 5, \"color\": \"red\"}, \"y\": [0.31599670945155545, 0.4736150079439574], \"x\": [-0.0725806942900416, -0.059299416833845486], \"marker\": {\"size\": 2, \"color\": \"blue\"}, \"text\": [\"RElbow\"]}, {\"type\": \"scatter3d\", \"z\": [-0.589075046027622, -0.5234336491773437], \"line\": {\"width\": 5, \"color\": \"red\"}, \"y\": [0.37906434701086655, 0.31599670945155545], \"x\": [-0.1425385226456432, -0.0725806942900416], \"marker\": {\"size\": 2, \"color\": \"blue\"}, \"text\": [\"RWrist\"]}, {\"type\": \"scatter3d\", \"z\": [-9.89050039882495, -9.781967065491616, -9.717387065491616, -10.231047065491616, -11.064395532158283, -11.62703239882495, -11.72928039882495, -11.640749732158284, -11.71298039882495, -11.67711439882495, -11.655715065491616, -11.733913732158284, -11.667425732158282, -11.71280039882495, -11.671505065491615, -11.601569065491617, -11.708547065491617, -11.585561732158283, -11.510019732158284, -10.847421065491616, -10.372922398824949, -10.329247065491616, -11.276871065491616, -11.827567065491616], \"line\": {\"width\": 1, \"color\": \"#1f77b4\"}, \"y\": [-0.9363594694242567, -0.9168994694242565, -0.9295194694242566, -0.9334528027575899, -0.9425594694242567, -0.8539261360909234, -0.5647928027575899, -0.27810613609092316, -0.09269280275758995, -0.08301946942425675, -0.06881280275759005, -0.16405946942425653, -0.16121946942425658, -0.3059861360909233, -0.36855946942425666, -0.3208794694242565, -0.5929661360909233, -0.8983794694242566, -0.9128861360909233, -0.93739280275759, -0.9429728027575901, -0.9707661360909232, -1.5781301360909232, -1.0126394694242564], \"x\": [-0.10456789807196559, 0.07519876859470122, 0.4937387685947011, 1.127338768594701, 1.5346987685947013, 1.5842921019280345, 1.3928254352613678, 1.1768121019280344, 0.7025454352613678, 0.5634387685947011, 0.8725321019280343, 1.3347321019280343, 1.3049254352613677, 1.1927054352613675, 0.9764121019280343, 1.160118768594701, 1.4533787685947008, 1.725698768594701, 1.726798768594701, 1.3951387685947012, 0.5218254352613677, -0.023674564738632144, -0.26836789807196554, -0.3035612314052989], \"marker\": {\"size\": 1, \"color\": \"#1f77b4\"}}], \"name\": \"frame25\"}, {\"data\": [{\"type\": \"scatter3d\", \"z\": [-0.10732141138419138, -11.878647065491617], \"line\": {\"width\": 5, \"color\": \"red\"}, \"y\": [-0.1160415136911428, -0.9359861360909234], \"x\": [-0.006028907033360759, -0.19296789807196552], \"marker\": {\"size\": 2, \"color\": \"blue\"}, \"text\": [\"RHip\"]}, {\"type\": \"scatter3d\", \"z\": [-0.25394471651966555, -0.10732141138419138], \"line\": {\"width\": 5, \"color\": \"red\"}, \"y\": [-0.5853663949994377, -0.1160415136911428], \"x\": [-0.06804521156066806, -0.006028907033360759], \"marker\": {\"size\": 2, \"color\": \"blue\"}, \"text\": [\"RKnee\"]}, {\"type\": \"scatter3d\", \"z\": [-0.2032762539625832, -0.25394471651966555], \"line\": {\"width\": 5, \"color\": \"red\"}, \"y\": [-1.0580306598276565, -0.5853663949994377], \"x\": [0.08888487941241958, -0.06804521156066806], \"marker\": {\"size\": 2, \"color\": \"blue\"}, \"text\": [\"RAnkle\"]}, {\"type\": \"scatter3d\", \"z\": [0.0557220196560273, -11.878647065491617], \"line\": {\"width\": 5, \"color\": \"black\"}, \"y\": [-0.1297701614025415, -0.9359861360909234], \"x\": [-0.0758753855869434, -0.19296789807196552], \"marker\": {\"size\": 2, \"color\": \"blue\"}, \"text\": [\"LHip\"]}, {\"type\": \"scatter3d\", \"z\": [0.04799649629826597, 0.0557220196560273], \"line\": {\"width\": 5, \"color\": \"black\"}, \"y\": [-0.5937721401068052, -0.1297701614025415], \"x\": [-0.18700474647672616, -0.0758753855869434], \"marker\": {\"size\": 2, \"color\": \"blue\"}, \"text\": [\"LKnee\"]}, {\"type\": \"scatter3d\", \"z\": [0.05645217319010598, 0.04799649629826597], \"line\": {\"width\": 5, \"color\": \"black\"}, \"y\": [-1.0643253643174948, -0.5937721401068052], \"x\": [-0.01987211741476902, -0.18700474647672616], \"marker\": {\"size\": 2, \"color\": \"blue\"}, \"text\": [\"LAnkle\"]}, {\"type\": \"scatter3d\", \"z\": [-0.010752089459680647, -11.878647065491617], \"line\": {\"width\": 5, \"color\": \"black\"}, \"y\": [0.2537481537757942, -0.9359861360909234], \"x\": [-0.09742569939438456, -0.19296789807196552], \"marker\": {\"size\": 2, \"color\": \"blue\"}, \"text\": [\"Spine1\"]}, {\"type\": \"scatter3d\", \"z\": [-0.0547296748804218, -0.010752089459680647], \"line\": {\"width\": 5, \"color\": \"black\"}, \"y\": [0.4776775150639816, 0.2537481537757942], \"x\": [-0.20740798501550078, -0.09742569939438456], \"marker\": {\"size\": 2, \"color\": \"blue\"}, \"text\": [\"Neck\"]}, {\"type\": \"scatter3d\", \"z\": [-0.09135644417616717, -0.0547296748804218], \"line\": {\"width\": 5, \"color\": \"black\"}, \"y\": [0.5823070040542422, 0.4776775150639816], \"x\": [-0.24760707726736558, -0.20740798501550078], \"marker\": {\"size\": 2, \"color\": \"blue\"}, \"text\": [\"Head\"]}, {\"type\": \"scatter3d\", \"z\": [-0.14571913645302637, -0.09135644417616717], \"line\": {\"width\": 5, \"color\": \"black\"}, \"y\": [0.6840220575469791, 0.5823070040542422], \"x\": [-0.2731634875627739, -0.24760707726736558], \"marker\": {\"size\": 2, \"color\": \"blue\"}, \"text\": [\"Site\"]}, {\"type\": \"scatter3d\", \"z\": [0.15063778621965263, -0.0547296748804218], \"line\": {\"width\": 5, \"color\": \"black\"}, \"y\": [0.45945646425731024, 0.4776775150639816], \"x\": [-0.27290728528602165, -0.20740798501550078], \"marker\": {\"size\": 2, \"color\": \"blue\"}, \"text\": [\"LShoulder\"]}, {\"type\": \"scatter3d\", \"z\": [0.08532130563700946, 0.15063778621965263], \"line\": {\"width\": 5, \"color\": \"black\"}, \"y\": [0.20309725950829516, 0.45945646425731024], \"x\": [-0.49752517152430537, -0.27290728528602165], \"marker\": {\"size\": 2, \"color\": \"blue\"}, \"text\": [\"LElbow\"]}, {\"type\": \"scatter3d\", \"z\": [0.01502394954715669, 0.08532130563700946], \"line\": {\"width\": 5, \"color\": \"black\"}, \"y\": [0.2346822583041681, 0.20309725950829516], \"x\": [-0.5843826083175097, -0.49752517152430537], \"marker\": {\"size\": 2, \"color\": \"blue\"}, \"text\": [\"LWrist\"]}, {\"type\": \"scatter3d\", \"z\": [-0.21584781904012473, -0.0547296748804218], \"line\": {\"width\": 5, \"color\": \"red\"}, \"y\": [0.47864628040709434, 0.4776775150639816], \"x\": [-0.04222874701774729, -0.20740798501550078], \"marker\": {\"size\": 2, \"color\": \"blue\"}, \"text\": [\"RShoulder\"]}, {\"type\": \"scatter3d\", \"z\": [-0.5937812768182518, -0.21584781904012473], \"line\": {\"width\": 5, \"color\": \"red\"}, \"y\": [0.3601431641392625, 0.47864628040709434], \"x\": [0.07509786333340181, -0.04222874701774729], \"marker\": {\"size\": 2, \"color\": \"blue\"}, \"text\": [\"RElbow\"]}, {\"type\": \"scatter3d\", \"z\": [-0.6877189748593384, -0.5937812768182518], \"line\": {\"width\": 5, \"color\": \"red\"}, \"y\": [0.4211050742778868, 0.3601431641392625], \"x\": [0.04980414800741867, 0.07509786333340181], \"marker\": {\"size\": 2, \"color\": \"blue\"}, \"text\": [\"RWrist\"]}, {\"type\": \"scatter3d\", \"z\": [-9.89050039882495, -9.781967065491616, -9.717387065491616, -10.231047065491616, -11.064395532158283, -11.62703239882495, -11.72928039882495, -11.640749732158284, -11.71298039882495, -11.67711439882495, -11.655715065491616, -11.733913732158284, -11.667425732158282, -11.71280039882495, -11.671505065491615, -11.601569065491617, -11.708547065491617, -11.585561732158283, -11.510019732158284, -10.847421065491616, -10.372922398824949, -10.329247065491616, -11.276871065491616, -11.827567065491616, -12.03726039882495], \"line\": {\"width\": 1, \"color\": \"#1f77b4\"}, \"y\": [-0.9363594694242567, -0.9168994694242565, -0.9295194694242566, -0.9334528027575899, -0.9425594694242567, -0.8539261360909234, -0.5647928027575899, -0.27810613609092316, -0.09269280275758995, -0.08301946942425675, -0.06881280275759005, -0.16405946942425653, -0.16121946942425658, -0.3059861360909233, -0.36855946942425666, -0.3208794694242565, -0.5929661360909233, -0.8983794694242566, -0.9128861360909233, -0.93739280275759, -0.9429728027575901, -0.9707661360909232, -1.5781301360909232, -1.0126394694242564, -0.9420794694242567], \"x\": [-0.10456789807196559, 0.07519876859470122, 0.4937387685947011, 1.127338768594701, 1.5346987685947013, 1.5842921019280345, 1.3928254352613678, 1.1768121019280344, 0.7025454352613678, 0.5634387685947011, 0.8725321019280343, 1.3347321019280343, 1.3049254352613677, 1.1927054352613675, 0.9764121019280343, 1.160118768594701, 1.4533787685947008, 1.725698768594701, 1.726798768594701, 1.3951387685947012, 0.5218254352613677, -0.023674564738632144, -0.26836789807196554, -0.3035612314052989, -0.2385212314052989], \"marker\": {\"size\": 1, \"color\": \"#1f77b4\"}}], \"name\": \"frame26\"}, {\"data\": [{\"type\": \"scatter3d\", \"z\": [-0.10215055965336894, -11.89806039882495], \"line\": {\"width\": 5, \"color\": \"red\"}, \"y\": [-0.10840911899219763, -1.5009401360909234], \"x\": [0.05322210107730167, -0.11495456473863222], \"marker\": {\"size\": 2, \"color\": \"blue\"}, \"text\": [\"RHip\"]}, {\"type\": \"scatter3d\", \"z\": [-0.5904936840188526, -0.10215055965336894], \"line\": {\"width\": 5, \"color\": \"red\"}, \"y\": [-0.13664244348742316, -0.10840911899219763], \"x\": [-0.026365159988923997, 0.05322210107730167], \"marker\": {\"size\": 2, \"color\": \"blue\"}, \"text\": [\"RKnee\"]}, {\"type\": \"scatter3d\", \"z\": [-0.23111483469333827, -0.5904936840188526], \"line\": {\"width\": 5, \"color\": \"red\"}, \"y\": [-0.4839244755065024, -0.13664244348742316], \"x\": [0.002753333970905686, -0.026365159988923997], \"marker\": {\"size\": 2, \"color\": \"blue\"}, \"text\": [\"RAnkle\"]}, {\"type\": \"scatter3d\", \"z\": [-0.03878877544633319, -11.89806039882495], \"line\": {\"width\": 5, \"color\": \"black\"}, \"y\": [-0.10689458390510742, -1.5009401360909234], \"x\": [-0.11301013774915786, -0.11495456473863222], \"marker\": {\"size\": 2, \"color\": \"blue\"}, \"text\": [\"LHip\"]}, {\"type\": \"scatter3d\", \"z\": [-0.05889193112456326, -0.03878877544633319], \"line\": {\"width\": 5, \"color\": \"black\"}, \"y\": [-0.18360863734455468, -0.10689458390510742], \"x\": [-0.583560955346005, -0.11301013774915786], \"marker\": {\"size\": 2, \"color\": \"blue\"}, \"text\": [\"LKnee\"]}, {\"type\": \"scatter3d\", \"z\": [0.00026065499275063075, -0.05889193112456326], \"line\": {\"width\": 5, \"color\": \"black\"}, \"y\": [-0.42994973543728743, -0.18360863734455468], \"x\": [-0.15316324864900502, -0.583560955346005], \"marker\": {\"size\": 2, \"color\": \"blue\"}, \"text\": [\"LAnkle\"]}, {\"type\": \"scatter3d\", \"z\": [-0.13893820015845648, -11.89806039882495], \"line\": {\"width\": 5, \"color\": \"black\"}, \"y\": [0.22266225463008138, -1.5009401360909234], \"x\": [-0.06670337739948332, -0.11495456473863222], \"marker\": {\"size\": 2, \"color\": \"blue\"}, \"text\": [\"Spine1\"]}, {\"type\": \"scatter3d\", \"z\": [-0.2963834813797739, -0.13893820015845648], \"line\": {\"width\": 5, \"color\": \"black\"}, \"y\": [0.4072593443925814, 0.22266225463008138], \"x\": [-0.13542374401085247, -0.06670337739948332], \"marker\": {\"size\": 2, \"color\": \"blue\"}, \"text\": [\"Neck\"]}, {\"type\": \"scatter3d\", \"z\": [-0.33027321475452176, -0.2963834813797739], \"line\": {\"width\": 5, \"color\": \"black\"}, \"y\": [0.5160032967108061, 0.4072593443925814], \"x\": [-0.16593695458071853, -0.13542374401085247], \"marker\": {\"size\": 2, \"color\": \"blue\"}, \"text\": [\"Head\"]}, {\"type\": \"scatter3d\", \"z\": [-0.3514865677926853, -0.33027321475452176], \"line\": {\"width\": 5, \"color\": \"black\"}, \"y\": [0.6315255790321879, 0.5160032967108061], \"x\": [-0.17854570019411195, -0.16593695458071853], \"marker\": {\"size\": 2, \"color\": \"blue\"}, \"text\": [\"Site\"]}, {\"type\": \"scatter3d\", \"z\": [-0.1769956117228535, -0.2963834813797739], \"line\": {\"width\": 5, \"color\": \"black\"}, \"y\": [0.40311465688323667, 0.4072593443925814], \"x\": [-0.3219384688467174, -0.13542374401085247], \"marker\": {\"size\": 2, \"color\": \"blue\"}, \"text\": [\"LShoulder\"]}, {\"type\": \"scatter3d\", \"z\": [-0.5666062763242721, -0.1769956117228535], \"line\": {\"width\": 5, \"color\": \"black\"}, \"y\": [0.7258846795110985, 0.40311465688323667], \"x\": [-0.43080423175237137, -0.3219384688467174], \"marker\": {\"size\": 2, \"color\": \"blue\"}, \"text\": [\"LElbow\"]}, {\"type\": \"scatter3d\", \"z\": [-0.623261491136681, -0.5666062763242721], \"line\": {\"width\": 5, \"color\": \"black\"}, \"y\": [0.8261804116306548, 0.7258846795110985], \"x\": [-0.4161584985304875, -0.43080423175237137], \"marker\": {\"size\": 2, \"color\": \"blue\"}, \"text\": [\"LWrist\"]}, {\"type\": \"scatter3d\", \"z\": [-0.298539078489636, -0.2963834813797739], \"line\": {\"width\": 5, \"color\": \"red\"}, \"y\": [0.4341303341462375, 0.4072593443925814], \"x\": [0.09298049839183295, -0.13542374401085247], \"marker\": {\"size\": 2, \"color\": \"blue\"}, \"text\": [\"RShoulder\"]}, {\"type\": \"scatter3d\", \"z\": [-0.6427525317830298, -0.298539078489636], \"line\": {\"width\": 5, \"color\": \"red\"}, \"y\": [0.8343358815766453, 0.4341303341462375], \"x\": [0.08224716330863197, 0.09298049839183295], \"marker\": {\"size\": 2, \"color\": \"blue\"}, \"text\": [\"RElbow\"]}, {\"type\": \"scatter3d\", \"z\": [-0.6742409863380807, -0.6427525317830298], \"line\": {\"width\": 5, \"color\": \"red\"}, \"y\": [0.9369442886822552, 0.8343358815766453], \"x\": [0.04149903872621781, 0.08224716330863197], \"marker\": {\"size\": 2, \"color\": \"blue\"}, \"text\": [\"RWrist\"]}, {\"type\": \"scatter3d\", \"z\": [-9.89050039882495, -9.781967065491616, -9.717387065491616, -10.231047065491616, -11.064395532158283, -11.62703239882495, -11.72928039882495, -11.640749732158284, -11.71298039882495, -11.67711439882495, -11.655715065491616, -11.733913732158284, -11.667425732158282, -11.71280039882495, -11.671505065491615, -11.601569065491617, -11.708547065491617, -11.585561732158283, -11.510019732158284, -10.847421065491616, -10.372922398824949, -10.329247065491616, -11.276871065491616, -11.827567065491616, -12.03726039882495, -11.878647065491617], \"line\": {\"width\": 1, \"color\": \"#1f77b4\"}, \"y\": [-0.9363594694242567, -0.9168994694242565, -0.9295194694242566, -0.9334528027575899, -0.9425594694242567, -0.8539261360909234, -0.5647928027575899, -0.27810613609092316, -0.09269280275758995, -0.08301946942425675, -0.06881280275759005, -0.16405946942425653, -0.16121946942425658, -0.3059861360909233, -0.36855946942425666, -0.3208794694242565, -0.5929661360909233, -0.8983794694242566, -0.9128861360909233, -0.93739280275759, -0.9429728027575901, -0.9707661360909232, -1.5781301360909232, -1.0126394694242564, -0.9420794694242567, -0.9359861360909234], \"x\": [-0.10456789807196559, 0.07519876859470122, 0.4937387685947011, 1.127338768594701, 1.5346987685947013, 1.5842921019280345, 1.3928254352613678, 1.1768121019280344, 0.7025454352613678, 0.5634387685947011, 0.8725321019280343, 1.3347321019280343, 1.3049254352613677, 1.1927054352613675, 0.9764121019280343, 1.160118768594701, 1.4533787685947008, 1.725698768594701, 1.726798768594701, 1.3951387685947012, 0.5218254352613677, -0.023674564738632144, -0.26836789807196554, -0.3035612314052989, -0.2385212314052989, -0.19296789807196552], \"marker\": {\"size\": 1, \"color\": \"#1f77b4\"}}], \"name\": \"frame27\"}, {\"data\": [{\"type\": \"scatter3d\", \"z\": [-0.10553210639563382, -12.074693732158282], \"line\": {\"width\": 5, \"color\": \"red\"}, \"y\": [-0.10762101571256055, -1.30883280275759], \"x\": [-0.047964126781804714, -0.043434564738632275], \"marker\": {\"size\": 2, \"color\": \"blue\"}, \"text\": [\"RHip\"]}, {\"type\": \"scatter3d\", \"z\": [-0.29008574048459046, -0.10553210639563382], \"line\": {\"width\": 5, \"color\": \"red\"}, \"y\": [-0.4085199970136757, -0.10762101571256055], \"x\": [-0.3958290704706306, -0.047964126781804714], \"marker\": {\"size\": 2, \"color\": \"blue\"}, \"text\": [\"RKnee\"]}, {\"type\": \"scatter3d\", \"z\": [-0.1593649068317582, -0.29008574048459046], \"line\": {\"width\": 5, \"color\": \"red\"}, \"y\": [-0.6449580333214335, -0.4085199970136757], \"x\": [0.02561484327396286, -0.3958290704706306], \"marker\": {\"size\": 2, \"color\": \"blue\"}, \"text\": [\"RAnkle\"]}, {\"type\": \"scatter3d\", \"z\": [0.06724522616069173, -12.074693732158282], \"line\": {\"width\": 5, \"color\": \"black\"}, \"y\": [-0.11452414452817683, -1.30883280275759], \"x\": [-0.08980318636686752, -0.043434564738632275], \"marker\": {\"size\": 2, \"color\": \"blue\"}, \"text\": [\"LHip\"]}, {\"type\": \"scatter3d\", \"z\": [0.15998339522486305, 0.06724522616069173], \"line\": {\"width\": 5, \"color\": \"black\"}, \"y\": [-0.3077205363827227, -0.11452414452817683], \"x\": [-0.5161622380796286, -0.08980318636686752], \"marker\": {\"size\": 2, \"color\": \"blue\"}, \"text\": [\"LKnee\"]}, {\"type\": \"scatter3d\", \"z\": [0.16679282091429393, 0.15998339522486305], \"line\": {\"width\": 5, \"color\": \"black\"}, \"y\": [-0.6780189006178254, -0.3077205363827227], \"x\": [-0.18111313100646573, -0.5161622380796286], \"marker\": {\"size\": 2, \"color\": \"blue\"}, \"text\": [\"LAnkle\"]}, {\"type\": \"scatter3d\", \"z\": [-0.02204562013284317, -12.074693732158282], \"line\": {\"width\": 5, \"color\": \"black\"}, \"y\": [0.24499532689000914, -1.30883280275759], \"x\": [-0.11460105481466887, -0.043434564738632275], \"marker\": {\"size\": 2, \"color\": \"blue\"}, \"text\": [\"Spine1\"]}, {\"type\": \"scatter3d\", \"z\": [-0.0835946822239908, -0.02204562013284317], \"line\": {\"width\": 5, \"color\": \"black\"}, \"y\": [0.47530037421028015, 0.24499532689000914], \"x\": [-0.20271953721194766, -0.11460105481466887], \"marker\": {\"size\": 2, \"color\": \"blue\"}, \"text\": [\"Neck\"]}, {\"type\": \"scatter3d\", \"z\": [-0.10667284061637794, -0.0835946822239908], \"line\": {\"width\": 5, \"color\": \"black\"}, \"y\": [0.5899920215083791, 0.47530037421028015], \"x\": [-0.2174857777133466, -0.20271953721194766], \"marker\": {\"size\": 2, \"color\": \"blue\"}, \"text\": [\"Head\"]}, {\"type\": \"scatter3d\", \"z\": [-0.13456710211392497, -0.10667284061637794], \"line\": {\"width\": 5, \"color\": \"black\"}, \"y\": [0.7028172417367424, 0.5899920215083791], \"x\": [-0.23862257930994168, -0.2174857777133466], \"marker\": {\"size\": 2, \"color\": \"blue\"}, \"text\": [\"Site\"]}, {\"type\": \"scatter3d\", \"z\": [0.14376529704920316, -0.0835946822239908], \"line\": {\"width\": 5, \"color\": \"black\"}, \"y\": [0.45937664569431513, 0.47530037421028015], \"x\": [-0.2749250325939456, -0.20271953721194766], \"marker\": {\"size\": 2, \"color\": \"blue\"}, \"text\": [\"LShoulder\"]}, {\"type\": \"scatter3d\", \"z\": [-0.1499274003128761, 0.14376529704920316], \"line\": {\"width\": 5, \"color\": \"black\"}, \"y\": [0.4019629617512466, 0.45937664569431513], \"x\": [-0.5768686491409731, -0.2749250325939456], \"marker\": {\"size\": 2, \"color\": \"blue\"}, \"text\": [\"LElbow\"]}, {\"type\": \"scatter3d\", \"z\": [-0.25370145887023554, -0.1499274003128761], \"line\": {\"width\": 5, \"color\": \"black\"}, \"y\": [0.45274817228498754, 0.4019629617512466], \"x\": [-0.5885027331196023, -0.5768686491409731], \"marker\": {\"size\": 2, \"color\": \"blue\"}, \"text\": [\"LWrist\"]}, {\"type\": \"scatter3d\", \"z\": [-0.2487093744791693, -0.0835946822239908], \"line\": {\"width\": 5, \"color\": \"red\"}, \"y\": [0.45417604185468496, 0.47530037421028015], \"x\": [-0.09099808554029801, -0.20271953721194766], \"marker\": {\"size\": 2, \"color\": \"blue\"}, \"text\": [\"RShoulder\"]}, {\"type\": \"scatter3d\", \"z\": [-0.5615269221404855, -0.2487093744791693], \"line\": {\"width\": 5, \"color\": \"red\"}, \"y\": [0.6855591198198483, 0.45417604185468496], \"x\": [-0.05590384225698261, -0.09099808554029801], \"marker\": {\"size\": 2, \"color\": \"blue\"}, \"text\": [\"RElbow\"]}, {\"type\": \"scatter3d\", \"z\": [-0.5563854487419491, -0.5615269221404855], \"line\": {\"width\": 5, \"color\": \"red\"}, \"y\": [0.789713330692239, 0.6855591198198483], \"x\": [-0.10392345538372172, -0.05590384225698261], \"marker\": {\"size\": 2, \"color\": \"blue\"}, \"text\": [\"RWrist\"]}, {\"type\": \"scatter3d\", \"z\": [-9.89050039882495, -9.781967065491616, -9.717387065491616, -10.231047065491616, -11.064395532158283, -11.62703239882495, -11.72928039882495, -11.640749732158284, -11.71298039882495, -11.67711439882495, -11.655715065491616, -11.733913732158284, -11.667425732158282, -11.71280039882495, -11.671505065491615, -11.601569065491617, -11.708547065491617, -11.585561732158283, -11.510019732158284, -10.847421065491616, -10.372922398824949, -10.329247065491616, -11.276871065491616, -11.827567065491616, -12.03726039882495, -11.878647065491617, -11.89806039882495], \"line\": {\"width\": 1, \"color\": \"#1f77b4\"}, \"y\": [-0.9363594694242567, -0.9168994694242565, -0.9295194694242566, -0.9334528027575899, -0.9425594694242567, -0.8539261360909234, -0.5647928027575899, -0.27810613609092316, -0.09269280275758995, -0.08301946942425675, -0.06881280275759005, -0.16405946942425653, -0.16121946942425658, -0.3059861360909233, -0.36855946942425666, -0.3208794694242565, -0.5929661360909233, -0.8983794694242566, -0.9128861360909233, -0.93739280275759, -0.9429728027575901, -0.9707661360909232, -1.5781301360909232, -1.0126394694242564, -0.9420794694242567, -0.9359861360909234, -1.5009401360909234], \"x\": [-0.10456789807196559, 0.07519876859470122, 0.4937387685947011, 1.127338768594701, 1.5346987685947013, 1.5842921019280345, 1.3928254352613678, 1.1768121019280344, 0.7025454352613678, 0.5634387685947011, 0.8725321019280343, 1.3347321019280343, 1.3049254352613677, 1.1927054352613675, 0.9764121019280343, 1.160118768594701, 1.4533787685947008, 1.725698768594701, 1.726798768594701, 1.3951387685947012, 0.5218254352613677, -0.023674564738632144, -0.26836789807196554, -0.3035612314052989, -0.2385212314052989, -0.19296789807196552, -0.11495456473863222], \"marker\": {\"size\": 1, \"color\": \"#1f77b4\"}}], \"name\": \"frame28\"}, {\"data\": [{\"type\": \"scatter3d\", \"z\": [0.03717965981031135, -11.968067065491617], \"line\": {\"width\": 5, \"color\": \"red\"}, \"y\": [-0.11896057386837389, -0.95333280275759], \"x\": [-0.09739569149885541, -0.2786812314052989], \"marker\": {\"size\": 2, \"color\": \"blue\"}, \"text\": [\"RHip\"]}, {\"type\": \"scatter3d\", \"z\": [0.284010523000509, 0.03717965981031135], \"line\": {\"width\": 5, \"color\": \"red\"}, \"y\": [-0.5438194604760931, -0.11896057386837389], \"x\": [-0.16204637825738594, -0.09739569149885541], \"marker\": {\"size\": 2, \"color\": \"blue\"}, \"text\": [\"RKnee\"]}, {\"type\": \"scatter3d\", \"z\": [0.09753124847429717, 0.284010523000509], \"line\": {\"width\": 5, \"color\": \"red\"}, \"y\": [-1.0080454661988347, -0.5438194604760931], \"x\": [-0.14400338573377974, -0.16204637825738594], \"marker\": {\"size\": 2, \"color\": \"blue\"}, \"text\": [\"RAnkle\"]}, {\"type\": \"scatter3d\", \"z\": [0.07501642387737739, -11.968067065491617], \"line\": {\"width\": 5, \"color\": \"black\"}, \"y\": [-0.11929776852571816, -0.95333280275759], \"x\": [0.07643880543539072, -0.2786812314052989], \"marker\": {\"size\": 2, \"color\": \"blue\"}, \"text\": [\"LHip\"]}, {\"type\": \"scatter3d\", \"z\": [0.21827545530452497, 0.07501642387737739], \"line\": {\"width\": 5, \"color\": \"black\"}, \"y\": [-0.5710002269909171, -0.11929776852571816], \"x\": [0.02032290986697155, 0.07643880543539072], \"marker\": {\"size\": 2, \"color\": \"blue\"}, \"text\": [\"LKnee\"]}, {\"type\": \"scatter3d\", \"z\": [0.07352318465822094, 0.21827545530452497], \"line\": {\"width\": 5, \"color\": \"black\"}, \"y\": [-1.0461541198790925, -0.5710002269909171], \"x\": [0.07229125792507568, 0.02032290986697155], \"marker\": {\"size\": 2, \"color\": \"blue\"}, \"text\": [\"LAnkle\"]}, {\"type\": \"scatter3d\", \"z\": [0.1009304261909616, -11.968067065491617], \"line\": {\"width\": 5, \"color\": \"black\"}, \"y\": [0.2525910305282917, -0.95333280275759], \"x\": [-0.0194612593486429, -0.2786812314052989], \"marker\": {\"size\": 2, \"color\": \"blue\"}, \"text\": [\"Spine1\"]}, {\"type\": \"scatter3d\", \"z\": [0.15343474483226238, 0.1009304261909616], \"line\": {\"width\": 5, \"color\": \"black\"}, \"y\": [0.5013038617710259, 0.2525910305282917], \"x\": [-0.027679471116925813, -0.0194612593486429], \"marker\": {\"size\": 2, \"color\": \"blue\"}, \"text\": [\"Neck\"]}, {\"type\": \"scatter3d\", \"z\": [0.17196014332913379, 0.15343474483226238], \"line\": {\"width\": 5, \"color\": \"black\"}, \"y\": [0.6175016526339838, 0.5013038617710259], \"x\": [-0.019952879217436936, -0.027679471116925813], \"marker\": {\"size\": 2, \"color\": \"blue\"}, \"text\": [\"Head\"]}, {\"type\": \"scatter3d\", \"z\": [0.2020572507168268, 0.17196014332913379], \"line\": {\"width\": 5, \"color\": \"black\"}, \"y\": [0.7317230955941663, 0.6175016526339838], \"x\": [-0.021370842825403358, -0.019952879217436936], \"marker\": {\"size\": 2, \"color\": \"blue\"}, \"text\": [\"Site\"]}, {\"type\": \"scatter3d\", \"z\": [0.14731037397516644, 0.15343474483226238], \"line\": {\"width\": 5, \"color\": \"black\"}, \"y\": [0.4840140192887792, 0.5013038617710259], \"x\": [0.1889822310191119, -0.027679471116925813], \"marker\": {\"size\": 2, \"color\": \"blue\"}, \"text\": [\"LShoulder\"]}, {\"type\": \"scatter3d\", \"z\": [0.5745923885248185, 0.14731037397516644], \"line\": {\"width\": 5, \"color\": \"black\"}, \"y\": [0.38969424072403425, 0.4840140192887792], \"x\": [0.23048786101412697, 0.1889822310191119], \"marker\": {\"size\": 2, \"color\": \"blue\"}, \"text\": [\"LElbow\"]}, {\"type\": \"scatter3d\", \"z\": [0.6704264163593727, 0.5745923885248185], \"line\": {\"width\": 5, \"color\": \"black\"}, \"y\": [0.44992726833370433, 0.38969424072403425], \"x\": [0.2045771249685641, 0.23048786101412697], \"marker\": {\"size\": 2, \"color\": \"blue\"}, \"text\": [\"LWrist\"]}, {\"type\": \"scatter3d\", \"z\": [0.11315979724834868, 0.15343474483226238], \"line\": {\"width\": 5, \"color\": \"red\"}, \"y\": [0.46630215843383693, 0.5013038617710259], \"x\": [-0.24277298205695086, -0.027679471116925813], \"marker\": {\"size\": 2, \"color\": \"blue\"}, \"text\": [\"RShoulder\"]}, {\"type\": \"scatter3d\", \"z\": [0.565610449225737, 0.11315979724834868], \"line\": {\"width\": 5, \"color\": \"red\"}, \"y\": [0.39004368771714204, 0.46630215843383693], \"x\": [-0.31678806406302296, -0.24277298205695086], \"marker\": {\"size\": 2, \"color\": \"blue\"}, \"text\": [\"RElbow\"]}, {\"type\": \"scatter3d\", \"z\": [0.6605142671186819, 0.565610449225737], \"line\": {\"width\": 5, \"color\": \"red\"}, \"y\": [0.450565264127168, 0.39004368771714204], \"x\": [-0.2941866974187648, -0.31678806406302296], \"marker\": {\"size\": 2, \"color\": \"blue\"}, \"text\": [\"RWrist\"]}, {\"type\": \"scatter3d\", \"z\": [-9.89050039882495, -9.781967065491616, -9.717387065491616, -10.231047065491616, -11.064395532158283, -11.62703239882495, -11.72928039882495, -11.640749732158284, -11.71298039882495, -11.67711439882495, -11.655715065491616, -11.733913732158284, -11.667425732158282, -11.71280039882495, -11.671505065491615, -11.601569065491617, -11.708547065491617, -11.585561732158283, -11.510019732158284, -10.847421065491616, -10.372922398824949, -10.329247065491616, -11.276871065491616, -11.827567065491616, -12.03726039882495, -11.878647065491617, -11.89806039882495, -12.074693732158282], \"line\": {\"width\": 1, \"color\": \"#1f77b4\"}, \"y\": [-0.9363594694242567, -0.9168994694242565, -0.9295194694242566, -0.9334528027575899, -0.9425594694242567, -0.8539261360909234, -0.5647928027575899, -0.27810613609092316, -0.09269280275758995, -0.08301946942425675, -0.06881280275759005, -0.16405946942425653, -0.16121946942425658, -0.3059861360909233, -0.36855946942425666, -0.3208794694242565, -0.5929661360909233, -0.8983794694242566, -0.9128861360909233, -0.93739280275759, -0.9429728027575901, -0.9707661360909232, -1.5781301360909232, -1.0126394694242564, -0.9420794694242567, -0.9359861360909234, -1.5009401360909234, -1.30883280275759], \"x\": [-0.10456789807196559, 0.07519876859470122, 0.4937387685947011, 1.127338768594701, 1.5346987685947013, 1.5842921019280345, 1.3928254352613678, 1.1768121019280344, 0.7025454352613678, 0.5634387685947011, 0.8725321019280343, 1.3347321019280343, 1.3049254352613677, 1.1927054352613675, 0.9764121019280343, 1.160118768594701, 1.4533787685947008, 1.725698768594701, 1.726798768594701, 1.3951387685947012, 0.5218254352613677, -0.023674564738632144, -0.26836789807196554, -0.3035612314052989, -0.2385212314052989, -0.19296789807196552, -0.11495456473863222, -0.043434564738632275], \"marker\": {\"size\": 1, \"color\": \"#1f77b4\"}}], \"name\": \"frame29\"}, {\"data\": [{\"type\": \"scatter3d\", \"z\": [0.13869756100059938, -11.184275732158284], \"line\": {\"width\": 5, \"color\": \"red\"}, \"y\": [-0.018842591329222724, -1.6294674694242566], \"x\": [-0.07367366751919313, -0.3800678980719656], \"marker\": {\"size\": 2, \"color\": \"blue\"}, \"text\": [\"RHip\"]}, {\"type\": \"scatter3d\", \"z\": [0.614163659595734, 0.13869756100059938], \"line\": {\"width\": 5, \"color\": \"red\"}, \"y\": [0.12094729674337956, -0.018842591329222724], \"x\": [-0.07469157247067554, -0.07367366751919313], \"marker\": {\"size\": 2, \"color\": \"blue\"}, \"text\": [\"RKnee\"]}, {\"type\": \"scatter3d\", \"z\": [0.5068563588572932, 0.614163659595734], \"line\": {\"width\": 5, \"color\": \"red\"}, \"y\": [-0.366363444045785, 0.12094729674337956], \"x\": [-0.03445180462758374, -0.07469157247067554], \"marker\": {\"size\": 2, \"color\": \"blue\"}, \"text\": [\"RAnkle\"]}, {\"type\": \"scatter3d\", \"z\": [0.11625726767785594, -11.184275732158284], \"line\": {\"width\": 5, \"color\": \"black\"}, \"y\": [-0.04480892879576159, -1.6294674694242566], \"x\": [0.10088964275489992, -0.3800678980719656], \"marker\": {\"size\": 2, \"color\": \"blue\"}, \"text\": [\"LHip\"]}, {\"type\": \"scatter3d\", \"z\": [0.39825109517927615, 0.11625726767785594], \"line\": {\"width\": 5, \"color\": \"black\"}, \"y\": [0.01339279059871834, -0.04480892879576159], \"x\": [0.48141466941546096, 0.10088964275489992], \"marker\": {\"size\": 2, \"color\": \"blue\"}, \"text\": [\"LKnee\"]}, {\"type\": \"scatter3d\", \"z\": [0.25663518453140277, 0.39825109517927615], \"line\": {\"width\": 5, \"color\": \"black\"}, \"y\": [-0.34423318255498536, 0.01339279059871834], \"x\": [0.16286522559052455, 0.48141466941546096], \"marker\": {\"size\": 2, \"color\": \"blue\"}, \"text\": [\"LAnkle\"]}, {\"type\": \"scatter3d\", \"z\": [-0.07541613554459481, -11.184275732158284], \"line\": {\"width\": 5, \"color\": \"black\"}, \"y\": [0.2571176616583357, -1.6294674694242566], \"x\": [0.04596920306474461, -0.3800678980719656], \"marker\": {\"size\": 2, \"color\": \"blue\"}, \"text\": [\"Spine1\"]}, {\"type\": \"scatter3d\", \"z\": [-0.12258822235477851, -0.07541613554459481], \"line\": {\"width\": 5, \"color\": \"black\"}, \"y\": [0.5002016016593307, 0.2571176616583357], \"x\": [0.08745954153449204, 0.04596920306474461], \"marker\": {\"size\": 2, \"color\": \"blue\"}, \"text\": [\"Neck\"]}, {\"type\": \"scatter3d\", \"z\": [-0.13062402010651653, -0.12258822235477851], \"line\": {\"width\": 5, \"color\": \"black\"}, \"y\": [0.6169998893323061, 0.5002016016593307], \"x\": [0.10154510735325967, 0.08745954153449204], \"marker\": {\"size\": 2, \"color\": \"blue\"}, \"text\": [\"Head\"]}, {\"type\": \"scatter3d\", \"z\": [-0.13595018022713212, -0.13062402010651653], \"line\": {\"width\": 5, \"color\": \"black\"}, \"y\": [0.7349971508032376, 0.6169998893323061], \"x\": [0.09991328949079814, 0.10154510735325967], \"marker\": {\"size\": 2, \"color\": \"blue\"}, \"text\": [\"Site\"]}, {\"type\": \"scatter3d\", \"z\": [-0.1936112549928506, -0.12258822235477851], \"line\": {\"width\": 5, \"color\": \"black\"}, \"y\": [0.4246844093107096, 0.5002016016593307], \"x\": [0.28494134951661154, 0.08745954153449204], \"marker\": {\"size\": 2, \"color\": \"blue\"}, \"text\": [\"LShoulder\"]}, {\"type\": \"scatter3d\", \"z\": [-0.010769329327166233, -0.1936112549928506], \"line\": {\"width\": 5, \"color\": \"black\"}, \"y\": [0.8907217871797046, 0.4246844093107096], \"x\": [0.37770792659371455, 0.28494134951661154], \"marker\": {\"size\": 2, \"color\": \"blue\"}, \"text\": [\"LElbow\"]}, {\"type\": \"scatter3d\", \"z\": [-0.00013068668212312673, -0.010769329327166233], \"line\": {\"width\": 5, \"color\": \"black\"}, \"y\": [1.0017612673060103, 0.8907217871797046], \"x\": [0.34544962712837907, 0.37770792659371455], \"marker\": {\"size\": 2, \"color\": \"blue\"}, \"text\": [\"LWrist\"]}, {\"type\": \"scatter3d\", \"z\": [-0.15368349039678186, -0.12258822235477851], \"line\": {\"width\": 5, \"color\": \"red\"}, \"y\": [0.49026031959105754, 0.5002016016593307], \"x\": [-0.14167101496587753, 0.08745954153449204], \"marker\": {\"size\": 2, \"color\": \"blue\"}, \"text\": [\"RShoulder\"]}, {\"type\": \"scatter3d\", \"z\": [0.017078090512313793, -0.15368349039678186], \"line\": {\"width\": 5, \"color\": \"red\"}, \"y\": [0.9507400315432883, 0.49026031959105754], \"x\": [-0.2642680524896537, -0.14167101496587753], \"marker\": {\"size\": 2, \"color\": \"blue\"}, \"text\": [\"RElbow\"]}, {\"type\": \"scatter3d\", \"z\": [0.014650860988892234, 0.017078090512313793], \"line\": {\"width\": 5, \"color\": \"red\"}, \"y\": [1.0612913973656188, 0.9507400315432883], \"x\": [-0.23339862250369636, -0.2642680524896537], \"marker\": {\"size\": 2, \"color\": \"blue\"}, \"text\": [\"RWrist\"]}, {\"type\": \"scatter3d\", \"z\": [-9.89050039882495, -9.781967065491616, -9.717387065491616, -10.231047065491616, -11.064395532158283, -11.62703239882495, -11.72928039882495, -11.640749732158284, -11.71298039882495, -11.67711439882495, -11.655715065491616, -11.733913732158284, -11.667425732158282, -11.71280039882495, -11.671505065491615, -11.601569065491617, -11.708547065491617, -11.585561732158283, -11.510019732158284, -10.847421065491616, -10.372922398824949, -10.329247065491616, -11.276871065491616, -11.827567065491616, -12.03726039882495, -11.878647065491617, -11.89806039882495, -12.074693732158282, -11.968067065491617], \"line\": {\"width\": 1, \"color\": \"#1f77b4\"}, \"y\": [-0.9363594694242567, -0.9168994694242565, -0.9295194694242566, -0.9334528027575899, -0.9425594694242567, -0.8539261360909234, -0.5647928027575899, -0.27810613609092316, -0.09269280275758995, -0.08301946942425675, -0.06881280275759005, -0.16405946942425653, -0.16121946942425658, -0.3059861360909233, -0.36855946942425666, -0.3208794694242565, -0.5929661360909233, -0.8983794694242566, -0.9128861360909233, -0.93739280275759, -0.9429728027575901, -0.9707661360909232, -1.5781301360909232, -1.0126394694242564, -0.9420794694242567, -0.9359861360909234, -1.5009401360909234, -1.30883280275759, -0.95333280275759], \"x\": [-0.10456789807196559, 0.07519876859470122, 0.4937387685947011, 1.127338768594701, 1.5346987685947013, 1.5842921019280345, 1.3928254352613678, 1.1768121019280344, 0.7025454352613678, 0.5634387685947011, 0.8725321019280343, 1.3347321019280343, 1.3049254352613677, 1.1927054352613675, 0.9764121019280343, 1.160118768594701, 1.4533787685947008, 1.725698768594701, 1.726798768594701, 1.3951387685947012, 0.5218254352613677, -0.023674564738632144, -0.26836789807196554, -0.3035612314052989, -0.2385212314052989, -0.19296789807196552, -0.11495456473863222, -0.043434564738632275, -0.2786812314052989], \"marker\": {\"size\": 1, \"color\": \"#1f77b4\"}}], \"name\": \"frame30\"}, {\"data\": [{\"type\": \"scatter3d\", \"z\": [0.11175057156835777, -10.599509065491617], \"line\": {\"width\": 5, \"color\": \"red\"}, \"y\": [-0.10966031245175967, -0.9849261360909234], \"x\": [-0.022500924167051073, -0.32554123140529884], \"marker\": {\"size\": 2, \"color\": \"blue\"}, \"text\": [\"RHip\"]}, {\"type\": \"scatter3d\", \"z\": [0.21743908319476013, 0.11175057156835777], \"line\": {\"width\": 5, \"color\": \"red\"}, \"y\": [-0.5879727485609378, -0.10966031245175967], \"x\": [0.05271484429022211, -0.022500924167051073], \"marker\": {\"size\": 2, \"color\": \"blue\"}, \"text\": [\"RKnee\"]}, {\"type\": \"scatter3d\", \"z\": [-0.047012002290806265, 0.21743908319476013], \"line\": {\"width\": 5, \"color\": \"red\"}, \"y\": [-0.9917325557679388, -0.5879727485609378], \"x\": [-0.08013655866056246, 0.05271484429022211], \"marker\": {\"size\": 2, \"color\": \"blue\"}, \"text\": [\"RAnkle\"]}, {\"type\": \"scatter3d\", \"z\": [-0.011934317511579806, -10.599509065491617], \"line\": {\"width\": 5, \"color\": \"black\"}, \"y\": [-0.12064589850429286, -0.9849261360909234], \"x\": [0.10490210504360864, -0.32554123140529884], \"marker\": {\"size\": 2, \"color\": \"blue\"}, \"text\": [\"LHip\"]}, {\"type\": \"scatter3d\", \"z\": [0.09529182515951362, -0.011934317511579806], \"line\": {\"width\": 5, \"color\": \"black\"}, \"y\": [-0.5536090621231935, -0.12064589850429286], \"x\": [0.2744683401300384, 0.10490210504360864], \"marker\": {\"size\": 2, \"color\": \"blue\"}, \"text\": [\"LKnee\"]}, {\"type\": \"scatter3d\", \"z\": [-0.22427525383464264, 0.09529182515951362], \"line\": {\"width\": 5, \"color\": \"black\"}, \"y\": [-0.910750519380827, -0.5536090621231935], \"x\": [0.1339264868799365, 0.2744683401300384], \"marker\": {\"size\": 2, \"color\": \"blue\"}, \"text\": [\"LAnkle\"]}, {\"type\": \"scatter3d\", \"z\": [0.03450449455002236, -10.599509065491617], \"line\": {\"width\": 5, \"color\": \"black\"}, \"y\": [0.2643803734152712, -0.9849261360909234], \"x\": [0.0567661059736827, -0.32554123140529884], \"marker\": {\"size\": 2, \"color\": \"blue\"}, \"text\": [\"Spine1\"]}, {\"type\": \"scatter3d\", \"z\": [0.0662828390832022, 0.03450449455002236], \"line\": {\"width\": 5, \"color\": \"black\"}, \"y\": [0.503311897641036, 0.2643803734152712], \"x\": [0.13091172413698213, 0.0567661059736827], \"marker\": {\"size\": 2, \"color\": \"blue\"}, \"text\": [\"Neck\"]}, {\"type\": \"scatter3d\", \"z\": [0.06977022470580962, 0.0662828390832022], \"line\": {\"width\": 5, \"color\": \"black\"}, \"y\": [0.6207585556518169, 0.503311897641036], \"x\": [0.1408584762148569, 0.13091172413698213], \"marker\": {\"size\": 2, \"color\": \"blue\"}, \"text\": [\"Head\"]}, {\"type\": \"scatter3d\", \"z\": [0.07890267134416717, 0.06977022470580962], \"line\": {\"width\": 5, \"color\": \"black\"}, \"y\": [0.7381809785250695, 0.6207585556518169], \"x\": [0.13175037263734737, 0.1408584762148569], \"marker\": {\"size\": 2, \"color\": \"blue\"}, \"text\": [\"Site\"]}, {\"type\": \"scatter3d\", \"z\": [-0.15536017301395866, 0.0662828390832022], \"line\": {\"width\": 5, \"color\": \"black\"}, \"y\": [0.4813206159458425, 0.503311897641036], \"x\": [0.18343388854522152, 0.13091172413698213], \"marker\": {\"size\": 2, \"color\": \"blue\"}, \"text\": [\"LShoulder\"]}, {\"type\": \"scatter3d\", \"z\": [-0.4301347043188031, -0.15536017301395866], \"line\": {\"width\": 5, \"color\": \"black\"}, \"y\": [0.15914474539941859, 0.4813206159458425], \"x\": [0.2574770657755592, 0.18343388854522152], \"marker\": {\"size\": 2, \"color\": \"blue\"}, \"text\": [\"LElbow\"]}, {\"type\": \"scatter3d\", \"z\": [-0.5177964279917813, -0.4301347043188031], \"line\": {\"width\": 5, \"color\": \"black\"}, \"y\": [0.15172431881906356, 0.15914474539941859], \"x\": [0.3332656151777784, 0.2574770657755592], \"marker\": {\"size\": 2, \"color\": \"blue\"}, \"text\": [\"LWrist\"]}, {\"type\": \"scatter3d\", \"z\": [0.22260404676896606, 0.0662828390832022], \"line\": {\"width\": 5, \"color\": \"red\"}, \"y\": [0.4947336368363844, 0.503311897641036], \"x\": [-0.028357696175583424, 0.13091172413698213], \"marker\": {\"size\": 2, \"color\": \"blue\"}, \"text\": [\"RShoulder\"]}, {\"type\": \"scatter3d\", \"z\": [0.38735266700030735, 0.22260404676896606], \"line\": {\"width\": 5, \"color\": \"red\"}, \"y\": [-0.010317331516531913, 0.4947336368363844], \"x\": [-0.014803536008707485, -0.028357696175583424], \"marker\": {\"size\": 2, \"color\": \"blue\"}, \"text\": [\"RElbow\"]}, {\"type\": \"scatter3d\", \"z\": [0.4457418671206721, 0.38735266700030735], \"line\": {\"width\": 5, \"color\": \"red\"}, \"y\": [-0.0953540296074804, -0.010317331516531913], \"x\": [0.03559367545277087, -0.014803536008707485], \"marker\": {\"size\": 2, \"color\": \"blue\"}, \"text\": [\"RWrist\"]}, {\"type\": \"scatter3d\", \"z\": [-9.89050039882495, -9.781967065491616, -9.717387065491616, -10.231047065491616, -11.064395532158283, -11.62703239882495, -11.72928039882495, -11.640749732158284, -11.71298039882495, -11.67711439882495, -11.655715065491616, -11.733913732158284, -11.667425732158282, -11.71280039882495, -11.671505065491615, -11.601569065491617, -11.708547065491617, -11.585561732158283, -11.510019732158284, -10.847421065491616, -10.372922398824949, -10.329247065491616, -11.276871065491616, -11.827567065491616, -12.03726039882495, -11.878647065491617, -11.89806039882495, -12.074693732158282, -11.968067065491617, -11.184275732158284], \"line\": {\"width\": 1, \"color\": \"#1f77b4\"}, \"y\": [-0.9363594694242567, -0.9168994694242565, -0.9295194694242566, -0.9334528027575899, -0.9425594694242567, -0.8539261360909234, -0.5647928027575899, -0.27810613609092316, -0.09269280275758995, -0.08301946942425675, -0.06881280275759005, -0.16405946942425653, -0.16121946942425658, -0.3059861360909233, -0.36855946942425666, -0.3208794694242565, -0.5929661360909233, -0.8983794694242566, -0.9128861360909233, -0.93739280275759, -0.9429728027575901, -0.9707661360909232, -1.5781301360909232, -1.0126394694242564, -0.9420794694242567, -0.9359861360909234, -1.5009401360909234, -1.30883280275759, -0.95333280275759, -1.6294674694242566], \"x\": [-0.10456789807196559, 0.07519876859470122, 0.4937387685947011, 1.127338768594701, 1.5346987685947013, 1.5842921019280345, 1.3928254352613678, 1.1768121019280344, 0.7025454352613678, 0.5634387685947011, 0.8725321019280343, 1.3347321019280343, 1.3049254352613677, 1.1927054352613675, 0.9764121019280343, 1.160118768594701, 1.4533787685947008, 1.725698768594701, 1.726798768594701, 1.3951387685947012, 0.5218254352613677, -0.023674564738632144, -0.26836789807196554, -0.3035612314052989, -0.2385212314052989, -0.19296789807196552, -0.11495456473863222, -0.043434564738632275, -0.2786812314052989, -0.3800678980719656], \"marker\": {\"size\": 1, \"color\": \"#1f77b4\"}}], \"name\": \"frame31\"}, {\"data\": [{\"type\": \"scatter3d\", \"z\": [0.10673958352848523, -10.35916039882495], \"line\": {\"width\": 5, \"color\": \"red\"}, \"y\": [-0.11487562722755928, -0.9405394694242566], \"x\": [0.02073927526418587, 0.17044543526136782], \"marker\": {\"size\": 2, \"color\": \"blue\"}, \"text\": [\"RHip\"]}, {\"type\": \"scatter3d\", \"z\": [0.2213236914466581, 0.10673958352848523], \"line\": {\"width\": 5, \"color\": \"red\"}, \"y\": [-0.5453722515171529, -0.11487562722755928], \"x\": [0.2378876082971149, 0.02073927526418587], \"marker\": {\"size\": 2, \"color\": \"blue\"}, \"text\": [\"RKnee\"]}, {\"type\": \"scatter3d\", \"z\": [0.2078795950570118, 0.2213236914466581], \"line\": {\"width\": 5, \"color\": \"red\"}, \"y\": [-1.0217712626964228, -0.5453722515171529], \"x\": [0.08469135437424527, 0.2378876082971149], \"marker\": {\"size\": 2, \"color\": \"blue\"}, \"text\": [\"RAnkle\"]}, {\"type\": \"scatter3d\", \"z\": [-0.05537795025652592, -10.35916039882495], \"line\": {\"width\": 5, \"color\": \"black\"}, \"y\": [-0.11750428790534562, -0.9405394694242566], \"x\": [0.09395923239468854, 0.17044543526136782], \"marker\": {\"size\": 2, \"color\": \"blue\"}, \"text\": [\"LHip\"]}, {\"type\": \"scatter3d\", \"z\": [-0.0038484908986493593, -0.05537795025652592], \"line\": {\"width\": 5, \"color\": \"black\"}, \"y\": [-0.591882464870408, -0.11750428790534562], \"x\": [0.08979812172761728, 0.09395923239468854], \"marker\": {\"size\": 2, \"color\": \"blue\"}, \"text\": [\"LKnee\"]}, {\"type\": \"scatter3d\", \"z\": [-0.026989467075493323, -0.0038484908986493593], \"line\": {\"width\": 5, \"color\": \"black\"}, \"y\": [-1.0578302689149213, -0.591882464870408], \"x\": [-0.08847776029688674, 0.08979812172761728], \"marker\": {\"size\": 2, \"color\": \"blue\"}, \"text\": [\"LAnkle\"]}, {\"type\": \"scatter3d\", \"z\": [-0.003319700173751272, -10.35916039882495], \"line\": {\"width\": 5, \"color\": \"black\"}, \"y\": [0.269781176751539, -0.9405394694242566], \"x\": [0.03823727362921048, 0.17044543526136782], \"marker\": {\"size\": 2, \"color\": \"blue\"}, \"text\": [\"Spine1\"]}, {\"type\": \"scatter3d\", \"z\": [0.02581574837407885, -0.003319700173751272], \"line\": {\"width\": 5, \"color\": \"black\"}, \"y\": [0.5212459808487153, 0.269781176751539], \"x\": [0.06594243154783588, 0.03823727362921048], \"marker\": {\"size\": 2, \"color\": \"blue\"}, \"text\": [\"Neck\"]}, {\"type\": \"scatter3d\", \"z\": [0.02772278034090725, 0.02581574837407885], \"line\": {\"width\": 5, \"color\": \"black\"}, \"y\": [0.6330348734587241, 0.5212459808487153], \"x\": [0.10341807605712008, 0.06594243154783588], \"marker\": {\"size\": 2, \"color\": \"blue\"}, \"text\": [\"Head\"]}, {\"type\": \"scatter3d\", \"z\": [0.0357261862739886, 0.02772278034090725], \"line\": {\"width\": 5, \"color\": \"black\"}, \"y\": [0.7377994648725794, 0.6330348734587241], \"x\": [0.1574061340437183, 0.10341807605712008], \"marker\": {\"size\": 2, \"color\": \"blue\"}, \"text\": [\"Site\"]}, {\"type\": \"scatter3d\", \"z\": [-0.19214962913057398, 0.02581574837407885], \"line\": {\"width\": 5, \"color\": \"black\"}, \"y\": [0.5017571304562527, 0.5212459808487153], \"x\": [0.13665883017524458, 0.06594243154783588], \"marker\": {\"size\": 2, \"color\": \"blue\"}, \"text\": [\"LShoulder\"]}, {\"type\": \"scatter3d\", \"z\": [-0.24453313230156226, -0.19214962913057398], \"line\": {\"width\": 5, \"color\": \"black\"}, \"y\": [0.05768223073598988, 0.5017571304562527], \"x\": [0.33069214995711016, 0.13665883017524458], \"marker\": {\"size\": 2, \"color\": \"blue\"}, \"text\": [\"LElbow\"]}, {\"type\": \"scatter3d\", \"z\": [-0.22956450315211185, -0.24453313230156226], \"line\": {\"width\": 5, \"color\": \"black\"}, \"y\": [-0.003436905726320827, 0.05768223073598988], \"x\": [0.428282805493038, 0.33069214995711016], \"marker\": {\"size\": 2, \"color\": \"blue\"}, \"text\": [\"LWrist\"]}, {\"type\": \"scatter3d\", \"z\": [0.19843401874400612, 0.02581574837407885], \"line\": {\"width\": 5, \"color\": \"red\"}, \"y\": [0.486741671488093, 0.5212459808487153], \"x\": [-0.0507217609462387, 0.06594243154783588], \"marker\": {\"size\": 2, \"color\": \"blue\"}, \"text\": [\"RShoulder\"]}, {\"type\": \"scatter3d\", \"z\": [0.24581589163400608, 0.19843401874400612], \"line\": {\"width\": 5, \"color\": \"red\"}, \"y\": [-0.07789614778825893, 0.486741671488093], \"x\": [-0.07491109466130746, -0.0507217609462387], \"marker\": {\"size\": 2, \"color\": \"blue\"}, \"text\": [\"RElbow\"]}, {\"type\": \"scatter3d\", \"z\": [0.2765538839927135, 0.24581589163400608], \"line\": {\"width\": 5, \"color\": \"red\"}, \"y\": [-0.18760630503580233, -0.07789614778825893], \"x\": [-0.06079461994290607, -0.07491109466130746], \"marker\": {\"size\": 2, \"color\": \"blue\"}, \"text\": [\"RWrist\"]}, {\"type\": \"scatter3d\", \"z\": [-9.89050039882495, -9.781967065491616, -9.717387065491616, -10.231047065491616, -11.064395532158283, -11.62703239882495, -11.72928039882495, -11.640749732158284, -11.71298039882495, -11.67711439882495, -11.655715065491616, -11.733913732158284, -11.667425732158282, -11.71280039882495, -11.671505065491615, -11.601569065491617, -11.708547065491617, -11.585561732158283, -11.510019732158284, -10.847421065491616, -10.372922398824949, -10.329247065491616, -11.276871065491616, -11.827567065491616, -12.03726039882495, -11.878647065491617, -11.89806039882495, -12.074693732158282, -11.968067065491617, -11.184275732158284, -10.599509065491617], \"line\": {\"width\": 1, \"color\": \"#1f77b4\"}, \"y\": [-0.9363594694242567, -0.9168994694242565, -0.9295194694242566, -0.9334528027575899, -0.9425594694242567, -0.8539261360909234, -0.5647928027575899, -0.27810613609092316, -0.09269280275758995, -0.08301946942425675, -0.06881280275759005, -0.16405946942425653, -0.16121946942425658, -0.3059861360909233, -0.36855946942425666, -0.3208794694242565, -0.5929661360909233, -0.8983794694242566, -0.9128861360909233, -0.93739280275759, -0.9429728027575901, -0.9707661360909232, -1.5781301360909232, -1.0126394694242564, -0.9420794694242567, -0.9359861360909234, -1.5009401360909234, -1.30883280275759, -0.95333280275759, -1.6294674694242566, -0.9849261360909234], \"x\": [-0.10456789807196559, 0.07519876859470122, 0.4937387685947011, 1.127338768594701, 1.5346987685947013, 1.5842921019280345, 1.3928254352613678, 1.1768121019280344, 0.7025454352613678, 0.5634387685947011, 0.8725321019280343, 1.3347321019280343, 1.3049254352613677, 1.1927054352613675, 0.9764121019280343, 1.160118768594701, 1.4533787685947008, 1.725698768594701, 1.726798768594701, 1.3951387685947012, 0.5218254352613677, -0.023674564738632144, -0.26836789807196554, -0.3035612314052989, -0.2385212314052989, -0.19296789807196552, -0.11495456473863222, -0.043434564738632275, -0.2786812314052989, -0.3800678980719656, -0.32554123140529884], \"marker\": {\"size\": 1, \"color\": \"#1f77b4\"}}], \"name\": \"frame32\"}, {\"data\": [{\"type\": \"scatter3d\", \"z\": [0.0852614211210252, -10.34108039882495], \"line\": {\"width\": 5, \"color\": \"red\"}, \"y\": [-0.09565354960373074, -0.9342794694242567], \"x\": [0.0927402527378125, 0.9227921019280345], \"marker\": {\"size\": 2, \"color\": \"blue\"}, \"text\": [\"RHip\"]}, {\"type\": \"scatter3d\", \"z\": [0.1408957167110696, 0.0852614211210252], \"line\": {\"width\": 5, \"color\": \"red\"}, \"y\": [-0.5793937424526074, -0.09565354960373074], \"x\": [0.0004878228085690717, 0.0927402527378125], \"marker\": {\"size\": 2, \"color\": \"blue\"}, \"text\": [\"RKnee\"]}, {\"type\": \"scatter3d\", \"z\": [0.24431784684971092, 0.1408957167110696], \"line\": {\"width\": 5, \"color\": \"red\"}, \"y\": [-1.0074181531427493, -0.5793937424526074], \"x\": [-0.23763991737989276, 0.0004878228085690717], \"marker\": {\"size\": 2, \"color\": \"blue\"}, \"text\": [\"RAnkle\"]}, {\"type\": \"scatter3d\", \"z\": [-0.07393578514928834, -10.34108039882495], \"line\": {\"width\": 5, \"color\": \"black\"}, \"y\": [-0.1397281147329552, -0.9342794694242567], \"x\": [0.02668081765028696, 0.9227921019280345], \"marker\": {\"size\": 2, \"color\": \"blue\"}, \"text\": [\"LHip\"]}, {\"type\": \"scatter3d\", \"z\": [-0.1513744166121498, -0.07393578514928834], \"line\": {\"width\": 5, \"color\": \"black\"}, \"y\": [-0.5522669557710531, -0.1397281147329552], \"x\": [0.2536658783844623, 0.02668081765028696], \"marker\": {\"size\": 2, \"color\": \"blue\"}, \"text\": [\"LKnee\"]}, {\"type\": \"scatter3d\", \"z\": [-0.11642051962712152, -0.1513744166121498], \"line\": {\"width\": 5, \"color\": \"black\"}, \"y\": [-1.0493971353639628, -0.5522669557710531], \"x\": [0.2862996125780497, 0.2536658783844623], \"marker\": {\"size\": 2, \"color\": \"blue\"}, \"text\": [\"LAnkle\"]}, {\"type\": \"scatter3d\", \"z\": [-0.04587461655156311, -10.34108039882495], \"line\": {\"width\": 5, \"color\": \"black\"}, \"y\": [0.26396221598522573, -0.9342794694242567], \"x\": [0.04868547362334752, 0.9227921019280345], \"marker\": {\"size\": 2, \"color\": \"blue\"}, \"text\": [\"Spine1\"]}, {\"type\": \"scatter3d\", \"z\": [-0.08184951010910346, -0.04587461655156311], \"line\": {\"width\": 5, \"color\": \"black\"}, \"y\": [0.5094479993498111, 0.26396221598522573], \"x\": [0.10563330805131921, 0.04868547362334752], \"marker\": {\"size\": 2, \"color\": \"blue\"}, \"text\": [\"Neck\"]}, {\"type\": \"scatter3d\", \"z\": [-0.12522723296018867, -0.08184951010910346], \"line\": {\"width\": 5, \"color\": \"black\"}, \"y\": [0.6139776106359496, 0.5094479993498111], \"x\": [0.1387505352586791, 0.10563330805131921], \"marker\": {\"size\": 2, \"color\": \"blue\"}, \"text\": [\"Head\"]}, {\"type\": \"scatter3d\", \"z\": [-0.1788872577268794, -0.12522723296018867], \"line\": {\"width\": 5, \"color\": \"black\"}, \"y\": [0.7074675607116294, 0.6139776106359496], \"x\": [0.1870683943036653, 0.1387505352586791], \"marker\": {\"size\": 2, \"color\": \"blue\"}, \"text\": [\"Site\"]}, {\"type\": \"scatter3d\", \"z\": [-0.24876622409893656, -0.08184951010910346], \"line\": {\"width\": 5, \"color\": \"black\"}, \"y\": [0.48271659922171684, 0.5094479993498111], \"x\": [-0.05200168226885182, 0.10563330805131921], \"marker\": {\"size\": 2, \"color\": \"blue\"}, \"text\": [\"LShoulder\"]}, {\"type\": \"scatter3d\", \"z\": [-0.2607668046460301, -0.24876622409893656], \"line\": {\"width\": 5, \"color\": \"black\"}, \"y\": [-0.041600652578500874, 0.48271659922171684], \"x\": [-0.17168188012222108, -0.05200168226885182], \"marker\": {\"size\": 2, \"color\": \"blue\"}, \"text\": [\"LElbow\"]}, {\"type\": \"scatter3d\", \"z\": [-0.2976856121379843, -0.2607668046460301], \"line\": {\"width\": 5, \"color\": \"black\"}, \"y\": [-0.15169234831366385, -0.041600652578500874], \"x\": [-0.1722859761185327, -0.17168188012222108], \"marker\": {\"size\": 2, \"color\": \"blue\"}, \"text\": [\"LWrist\"]}, {\"type\": \"scatter3d\", \"z\": [0.10127336894278294, -0.08184951010910346], \"line\": {\"width\": 5, \"color\": \"red\"}, \"y\": [0.4876451462269489, 0.5094479993498111], \"x\": [0.20361625264902528, 0.10563330805131921], \"marker\": {\"size\": 2, \"color\": \"blue\"}, \"text\": [\"RShoulder\"]}, {\"type\": \"scatter3d\", \"z\": [0.19185222420476755, 0.10127336894278294], \"line\": {\"width\": 5, \"color\": \"red\"}, \"y\": [-0.026862157493914962, 0.4876451462269489], \"x\": [0.36684523805785285, 0.20361625264902528], \"marker\": {\"size\": 2, \"color\": \"blue\"}, \"text\": [\"RElbow\"]}, {\"type\": \"scatter3d\", \"z\": [0.19077396767235477, 0.19185222420476755], \"line\": {\"width\": 5, \"color\": \"red\"}, \"y\": [-0.1158990712199175, -0.026862157493914962], \"x\": [0.43931373461324386, 0.36684523805785285], \"marker\": {\"size\": 2, \"color\": \"blue\"}, \"text\": [\"RWrist\"]}, {\"type\": \"scatter3d\", \"z\": [-9.89050039882495, -9.781967065491616, -9.717387065491616, -10.231047065491616, -11.064395532158283, -11.62703239882495, -11.72928039882495, -11.640749732158284, -11.71298039882495, -11.67711439882495, -11.655715065491616, -11.733913732158284, -11.667425732158282, -11.71280039882495, -11.671505065491615, -11.601569065491617, -11.708547065491617, -11.585561732158283, -11.510019732158284, -10.847421065491616, -10.372922398824949, -10.329247065491616, -11.276871065491616, -11.827567065491616, -12.03726039882495, -11.878647065491617, -11.89806039882495, -12.074693732158282, -11.968067065491617, -11.184275732158284, -10.599509065491617, -10.35916039882495], \"line\": {\"width\": 1, \"color\": \"#1f77b4\"}, \"y\": [-0.9363594694242567, -0.9168994694242565, -0.9295194694242566, -0.9334528027575899, -0.9425594694242567, -0.8539261360909234, -0.5647928027575899, -0.27810613609092316, -0.09269280275758995, -0.08301946942425675, -0.06881280275759005, -0.16405946942425653, -0.16121946942425658, -0.3059861360909233, -0.36855946942425666, -0.3208794694242565, -0.5929661360909233, -0.8983794694242566, -0.9128861360909233, -0.93739280275759, -0.9429728027575901, -0.9707661360909232, -1.5781301360909232, -1.0126394694242564, -0.9420794694242567, -0.9359861360909234, -1.5009401360909234, -1.30883280275759, -0.95333280275759, -1.6294674694242566, -0.9849261360909234, -0.9405394694242566], \"x\": [-0.10456789807196559, 0.07519876859470122, 0.4937387685947011, 1.127338768594701, 1.5346987685947013, 1.5842921019280345, 1.3928254352613678, 1.1768121019280344, 0.7025454352613678, 0.5634387685947011, 0.8725321019280343, 1.3347321019280343, 1.3049254352613677, 1.1927054352613675, 0.9764121019280343, 1.160118768594701, 1.4533787685947008, 1.725698768594701, 1.726798768594701, 1.3951387685947012, 0.5218254352613677, -0.023674564738632144, -0.26836789807196554, -0.3035612314052989, -0.2385212314052989, -0.19296789807196552, -0.11495456473863222, -0.043434564738632275, -0.2786812314052989, -0.3800678980719656, -0.32554123140529884, 0.17044543526136782], \"marker\": {\"size\": 1, \"color\": \"#1f77b4\"}}], \"name\": \"frame33\"}, {\"data\": [{\"type\": \"scatter3d\", \"z\": [-0.04449317450464285, -10.99857139882495], \"line\": {\"width\": 5, \"color\": \"red\"}, \"y\": [-0.11168729711928216, -0.9100661360909232], \"x\": [0.1027918821986058, 1.4903321019280347], \"marker\": {\"size\": 2, \"color\": \"blue\"}, \"text\": [\"RHip\"]}, {\"type\": \"scatter3d\", \"z\": [-0.23559677101064835, -0.04449317450464285], \"line\": {\"width\": 5, \"color\": \"red\"}, \"y\": [-0.5677897006629193, -0.11168729711928216], \"x\": [0.13535371162058185, 0.1027918821986058], \"marker\": {\"size\": 2, \"color\": \"blue\"}, \"text\": [\"RKnee\"]}, {\"type\": \"scatter3d\", \"z\": [-0.2441067034347988, -0.23559677101064835], \"line\": {\"width\": 5, \"color\": \"red\"}, \"y\": [-1.0669409660376654, -0.5677897006629193], \"x\": [0.17252156226124749, 0.13535371162058185], \"marker\": {\"size\": 2, \"color\": \"blue\"}, \"text\": [\"RAnkle\"]}, {\"type\": \"scatter3d\", \"z\": [-0.04307737188656979, -10.99857139882495], \"line\": {\"width\": 5, \"color\": \"black\"}, \"y\": [-0.13583101759932803, -0.9100661360909232], \"x\": [-0.07346146671713627, 1.4903321019280347], \"marker\": {\"size\": 2, \"color\": \"blue\"}, \"text\": [\"LHip\"]}, {\"type\": \"scatter3d\", \"z\": [-0.12655862930370176, -0.04307737188656979], \"line\": {\"width\": 5, \"color\": \"black\"}, \"y\": [-0.6056161149105568, -0.13583101759932803], \"x\": [-0.06712926261992136, -0.07346146671713627], \"marker\": {\"size\": 2, \"color\": \"blue\"}, \"text\": [\"LKnee\"]}, {\"type\": \"scatter3d\", \"z\": [0.30258162311277736, -0.12655862930370176], \"line\": {\"width\": 5, \"color\": \"black\"}, \"y\": [-0.8576713686219466, -0.6056161149105568], \"x\": [-0.10874589170427074, -0.06712926261992136], \"marker\": {\"size\": 2, \"color\": \"blue\"}, \"text\": [\"LAnkle\"]}, {\"type\": \"scatter3d\", \"z\": [-0.11017516156332086, -10.99857139882495], \"line\": {\"width\": 5, \"color\": \"black\"}, \"y\": [0.2456983081398989, -0.9100661360909232], \"x\": [-0.03846188099854131, 1.4903321019280347], \"marker\": {\"size\": 2, \"color\": \"blue\"}, \"text\": [\"Spine1\"]}, {\"type\": \"scatter3d\", \"z\": [-0.21699616391376964, -0.11017516156332086], \"line\": {\"width\": 5, \"color\": \"black\"}, \"y\": [0.47648558971686716, 0.2456983081398989], \"x\": [-0.04725853337919461, -0.03846188099854131], \"marker\": {\"size\": 2, \"color\": \"blue\"}, \"text\": [\"Neck\"]}, {\"type\": \"scatter3d\", \"z\": [-0.260705258523549, -0.21699616391376964], \"line\": {\"width\": 5, \"color\": \"black\"}, \"y\": [0.5842647074193339, 0.47648558971686716], \"x\": [-0.0667006024293757, -0.04725853337919461], \"marker\": {\"size\": 2, \"color\": \"blue\"}, \"text\": [\"Head\"]}, {\"type\": \"scatter3d\", \"z\": [-0.31726037058528966, -0.260705258523549], \"line\": {\"width\": 5, \"color\": \"black\"}, \"y\": [0.6860540256834402, 0.5842647074193339], \"x\": [-0.08657114627745566, -0.0667006024293757], \"marker\": {\"size\": 2, \"color\": \"blue\"}, \"text\": [\"Site\"]}, {\"type\": \"scatter3d\", \"z\": [-0.18637975565164489, -0.21699616391376964], \"line\": {\"width\": 5, \"color\": \"black\"}, \"y\": [0.44042096505829953, 0.47648558971686716], \"x\": [-0.27390260534857225, -0.04725853337919461], \"marker\": {\"size\": 2, \"color\": \"blue\"}, \"text\": [\"LShoulder\"]}, {\"type\": \"scatter3d\", \"z\": [-0.35140790709430014, -0.18637975565164489], \"line\": {\"width\": 5, \"color\": \"black\"}, \"y\": [0.06743429638877774, 0.44042096505829953], \"x\": [-0.6325350641843364, -0.27390260534857225], \"marker\": {\"size\": 2, \"color\": \"blue\"}, \"text\": [\"LElbow\"]}, {\"type\": \"scatter3d\", \"z\": [-0.41305212009112857, -0.35140790709430014], \"line\": {\"width\": 5, \"color\": \"black\"}, \"y\": [0.014708009764629049, 0.06743429638877774], \"x\": [-0.7156222139204675, -0.6325350641843364], \"marker\": {\"size\": 2, \"color\": \"blue\"}, \"text\": [\"LWrist\"]}, {\"type\": \"scatter3d\", \"z\": [-0.1871817928326962, -0.21699616391376964], \"line\": {\"width\": 5, \"color\": \"red\"}, \"y\": [0.47150161894888365, 0.47648558971686716], \"x\": [0.15844665811115588, -0.04725853337919461], \"marker\": {\"size\": 2, \"color\": \"blue\"}, \"text\": [\"RShoulder\"]}, {\"type\": \"scatter3d\", \"z\": [-0.1612398853922432, -0.1871817928326962], \"line\": {\"width\": 5, \"color\": \"red\"}, \"y\": [-0.05918505949103703, 0.47150161894888365], \"x\": [0.2963478372480559, 0.15844665811115588], \"marker\": {\"size\": 2, \"color\": \"blue\"}, \"text\": [\"RElbow\"]}, {\"type\": \"scatter3d\", \"z\": [-0.20118641333959175, -0.1612398853922432], \"line\": {\"width\": 5, \"color\": \"red\"}, \"y\": [-0.16342683246787026, -0.05918505949103703], \"x\": [0.3231498018700405, 0.2963478372480559], \"marker\": {\"size\": 2, \"color\": \"blue\"}, \"text\": [\"RWrist\"]}, {\"type\": \"scatter3d\", \"z\": [-9.89050039882495, -9.781967065491616, -9.717387065491616, -10.231047065491616, -11.064395532158283, -11.62703239882495, -11.72928039882495, -11.640749732158284, -11.71298039882495, -11.67711439882495, -11.655715065491616, -11.733913732158284, -11.667425732158282, -11.71280039882495, -11.671505065491615, -11.601569065491617, -11.708547065491617, -11.585561732158283, -11.510019732158284, -10.847421065491616, -10.372922398824949, -10.329247065491616, -11.276871065491616, -11.827567065491616, -12.03726039882495, -11.878647065491617, -11.89806039882495, -12.074693732158282, -11.968067065491617, -11.184275732158284, -10.599509065491617, -10.35916039882495, -10.34108039882495], \"line\": {\"width\": 1, \"color\": \"#1f77b4\"}, \"y\": [-0.9363594694242567, -0.9168994694242565, -0.9295194694242566, -0.9334528027575899, -0.9425594694242567, -0.8539261360909234, -0.5647928027575899, -0.27810613609092316, -0.09269280275758995, -0.08301946942425675, -0.06881280275759005, -0.16405946942425653, -0.16121946942425658, -0.3059861360909233, -0.36855946942425666, -0.3208794694242565, -0.5929661360909233, -0.8983794694242566, -0.9128861360909233, -0.93739280275759, -0.9429728027575901, -0.9707661360909232, -1.5781301360909232, -1.0126394694242564, -0.9420794694242567, -0.9359861360909234, -1.5009401360909234, -1.30883280275759, -0.95333280275759, -1.6294674694242566, -0.9849261360909234, -0.9405394694242566, -0.9342794694242567], \"x\": [-0.10456789807196559, 0.07519876859470122, 0.4937387685947011, 1.127338768594701, 1.5346987685947013, 1.5842921019280345, 1.3928254352613678, 1.1768121019280344, 0.7025454352613678, 0.5634387685947011, 0.8725321019280343, 1.3347321019280343, 1.3049254352613677, 1.1927054352613675, 0.9764121019280343, 1.160118768594701, 1.4533787685947008, 1.725698768594701, 1.726798768594701, 1.3951387685947012, 0.5218254352613677, -0.023674564738632144, -0.26836789807196554, -0.3035612314052989, -0.2385212314052989, -0.19296789807196552, -0.11495456473863222, -0.043434564738632275, -0.2786812314052989, -0.3800678980719656, -0.32554123140529884, 0.17044543526136782, 0.9227921019280345], \"marker\": {\"size\": 1, \"color\": \"#1f77b4\"}}], \"name\": \"frame34\"}, {\"data\": [{\"type\": \"scatter3d\", \"z\": [-0.1036429774657961, -11.428777732158283], \"line\": {\"width\": 5, \"color\": \"red\"}, \"y\": [-0.11683027809140034, -0.7465061360909233], \"x\": [0.025073597754493804, 1.495585435261368], \"marker\": {\"size\": 2, \"color\": \"blue\"}, \"text\": [\"RHip\"]}, {\"type\": \"scatter3d\", \"z\": [-0.10575405387936598, -0.1036429774657961], \"line\": {\"width\": 5, \"color\": \"red\"}, \"y\": [-0.6124145822765688, -0.11683027809140034], \"x\": [0.026488042096849407, 0.025073597754493804], \"marker\": {\"size\": 2, \"color\": \"blue\"}, \"text\": [\"RKnee\"]}, {\"type\": \"scatter3d\", \"z\": [0.04924224277990241, -0.10575405387936598], \"line\": {\"width\": 5, \"color\": \"red\"}, \"y\": [-1.053294226886762, -0.6124145822765688], \"x\": [0.20595152246715287, 0.026488042096849407], \"marker\": {\"size\": 2, \"color\": \"blue\"}, \"text\": [\"RAnkle\"]}, {\"type\": \"scatter3d\", \"z\": [0.05716081787704397, -11.428777732158283], \"line\": {\"width\": 5, \"color\": \"black\"}, \"y\": [-0.14233928611830304, -0.7465061360909233], \"x\": [-0.046631329917931064, 1.495585435261368], \"marker\": {\"size\": 2, \"color\": \"blue\"}, \"text\": [\"LHip\"]}, {\"type\": \"scatter3d\", \"z\": [-0.0478755315660262, 0.05716081787704397], \"line\": {\"width\": 5, \"color\": \"black\"}, \"y\": [-0.4973913190842796, -0.14233928611830304], \"x\": [-0.3476507212979476, -0.046631329917931064], \"marker\": {\"size\": 2, \"color\": \"blue\"}, \"text\": [\"LKnee\"]}, {\"type\": \"scatter3d\", \"z\": [-0.044949663737815726, -0.0478755315660262], \"line\": {\"width\": 5, \"color\": \"black\"}, \"y\": [-0.9107069325031254, -0.4973913190842796], \"x\": [-0.06731735905650571, -0.3476507212979476], \"marker\": {\"size\": 2, \"color\": \"blue\"}, \"text\": [\"LAnkle\"]}, {\"type\": \"scatter3d\", \"z\": [-0.05207633152005009, -11.428777732158283], \"line\": {\"width\": 5, \"color\": \"black\"}, \"y\": [0.19636326698097184, -0.7465061360909233], \"x\": [-0.1811581044840438, 1.495585435261368], \"marker\": {\"size\": 2, \"color\": \"blue\"}, \"text\": [\"Spine1\"]}, {\"type\": \"scatter3d\", \"z\": [-0.09260401706256083, -0.05207633152005009], \"line\": {\"width\": 5, \"color\": \"black\"}, \"y\": [0.39685183346074226, 0.19636326698097184], \"x\": [-0.3322935675525567, -0.1811581044840438], \"marker\": {\"size\": 2, \"color\": \"blue\"}, \"text\": [\"Neck\"]}, {\"type\": \"scatter3d\", \"z\": [-0.0971349507417667, -0.09260401706256083], \"line\": {\"width\": 5, \"color\": \"black\"}, \"y\": [0.5135719529587659, 0.39685183346074226], \"x\": [-0.3484398227729637, -0.3322935675525567], \"marker\": {\"size\": 2, \"color\": \"blue\"}, \"text\": [\"Head\"]}, {\"type\": \"scatter3d\", \"z\": [-0.11036943004345368, -0.0971349507417667], \"line\": {\"width\": 5, \"color\": \"black\"}, \"y\": [0.630568750073794, 0.5135719529587659], \"x\": [-0.35797830002272235, -0.3484398227729637], \"marker\": {\"size\": 2, \"color\": \"blue\"}, \"text\": [\"Site\"]}, {\"type\": \"scatter3d\", \"z\": [0.1281661547318791, -0.09260401706256083], \"line\": {\"width\": 5, \"color\": \"black\"}, \"y\": [0.3816727910514155, 0.39685183346074226], \"x\": [-0.36096192646373315, -0.3322935675525567], \"marker\": {\"size\": 2, \"color\": \"blue\"}, \"text\": [\"LShoulder\"]}, {\"type\": \"scatter3d\", \"z\": [0.06012779017098957, 0.1281661547318791], \"line\": {\"width\": 5, \"color\": \"black\"}, \"y\": [-0.08023198564050849, 0.3816727910514155], \"x\": [-0.6084664904551732, -0.36096192646373315], \"marker\": {\"size\": 2, \"color\": \"blue\"}, \"text\": [\"LElbow\"]}, {\"type\": \"scatter3d\", \"z\": [0.02032168715200733, 0.06012779017098957], \"line\": {\"width\": 5, \"color\": \"black\"}, \"y\": [-0.15006480365730468, -0.08023198564050849], \"x\": [-0.692266230542596, -0.6084664904551732], \"marker\": {\"size\": 2, \"color\": \"blue\"}, \"text\": [\"LWrist\"]}, {\"type\": \"scatter3d\", \"z\": [-0.29005231585641766, -0.09260401706256083], \"line\": {\"width\": 5, \"color\": \"red\"}, \"y\": [0.38269883763960166, 0.39685183346074226], \"x\": [-0.24701108613659484, -0.3322935675525567], \"marker\": {\"size\": 2, \"color\": \"blue\"}, \"text\": [\"RShoulder\"]}, {\"type\": \"scatter3d\", \"z\": [-0.3651052533310857, -0.29005231585641766], \"line\": {\"width\": 5, \"color\": \"red\"}, \"y\": [0.11417462098579856, 0.38269883763960166], \"x\": [-0.7257949475495478, -0.24701108613659484], \"marker\": {\"size\": 2, \"color\": \"blue\"}, \"text\": [\"RElbow\"]}, {\"type\": \"scatter3d\", \"z\": [-0.35894358722543807, -0.3651052533310857], \"line\": {\"width\": 5, \"color\": \"red\"}, \"y\": [0.09171434074698714, 0.11417462098579856], \"x\": [-0.8382137507739041, -0.7257949475495478], \"marker\": {\"size\": 2, \"color\": \"blue\"}, \"text\": [\"RWrist\"]}, {\"type\": \"scatter3d\", \"z\": [-9.89050039882495, -9.781967065491616, -9.717387065491616, -10.231047065491616, -11.064395532158283, -11.62703239882495, -11.72928039882495, -11.640749732158284, -11.71298039882495, -11.67711439882495, -11.655715065491616, -11.733913732158284, -11.667425732158282, -11.71280039882495, -11.671505065491615, -11.601569065491617, -11.708547065491617, -11.585561732158283, -11.510019732158284, -10.847421065491616, -10.372922398824949, -10.329247065491616, -11.276871065491616, -11.827567065491616, -12.03726039882495, -11.878647065491617, -11.89806039882495, -12.074693732158282, -11.968067065491617, -11.184275732158284, -10.599509065491617, -10.35916039882495, -10.34108039882495, -10.99857139882495], \"line\": {\"width\": 1, \"color\": \"#1f77b4\"}, \"y\": [-0.9363594694242567, -0.9168994694242565, -0.9295194694242566, -0.9334528027575899, -0.9425594694242567, -0.8539261360909234, -0.5647928027575899, -0.27810613609092316, -0.09269280275758995, -0.08301946942425675, -0.06881280275759005, -0.16405946942425653, -0.16121946942425658, -0.3059861360909233, -0.36855946942425666, -0.3208794694242565, -0.5929661360909233, -0.8983794694242566, -0.9128861360909233, -0.93739280275759, -0.9429728027575901, -0.9707661360909232, -1.5781301360909232, -1.0126394694242564, -0.9420794694242567, -0.9359861360909234, -1.5009401360909234, -1.30883280275759, -0.95333280275759, -1.6294674694242566, -0.9849261360909234, -0.9405394694242566, -0.9342794694242567, -0.9100661360909232], \"x\": [-0.10456789807196559, 0.07519876859470122, 0.4937387685947011, 1.127338768594701, 1.5346987685947013, 1.5842921019280345, 1.3928254352613678, 1.1768121019280344, 0.7025454352613678, 0.5634387685947011, 0.8725321019280343, 1.3347321019280343, 1.3049254352613677, 1.1927054352613675, 0.9764121019280343, 1.160118768594701, 1.4533787685947008, 1.725698768594701, 1.726798768594701, 1.3951387685947012, 0.5218254352613677, -0.023674564738632144, -0.26836789807196554, -0.3035612314052989, -0.2385212314052989, -0.19296789807196552, -0.11495456473863222, -0.043434564738632275, -0.2786812314052989, -0.3800678980719656, -0.32554123140529884, 0.17044543526136782, 0.9227921019280345, 1.4903321019280347], \"marker\": {\"size\": 1, \"color\": \"#1f77b4\"}}], \"name\": \"frame35\"}, {\"data\": [{\"type\": \"scatter3d\", \"z\": [-0.09713421828109148, -11.678293065491616], \"line\": {\"width\": 5, \"color\": \"red\"}, \"y\": [-0.12304855693213823, -0.41693946942425675], \"x\": [-0.021068038282746615, 1.2752187685947012], \"marker\": {\"size\": 2, \"color\": \"blue\"}, \"text\": [\"RHip\"]}, {\"type\": \"scatter3d\", \"z\": [-0.05469924228355971, -0.09713421828109148], \"line\": {\"width\": 5, \"color\": \"red\"}, \"y\": [-0.5391065555434638, -0.12304855693213823], \"x\": [-0.2869726724182695, -0.021068038282746615], \"marker\": {\"size\": 2, \"color\": \"blue\"}, \"text\": [\"RKnee\"]}, {\"type\": \"scatter3d\", \"z\": [0.01095314151183402, -0.05469924228355971], \"line\": {\"width\": 5, \"color\": \"red\"}, \"y\": [-0.9724214167794543, -0.5391065555434638], \"x\": [-0.04503497521021327, -0.2869726724182695], \"marker\": {\"size\": 2, \"color\": \"blue\"}, \"text\": [\"RAnkle\"]}, {\"type\": \"scatter3d\", \"z\": [0.07937915359667969, -11.678293065491616], \"line\": {\"width\": 5, \"color\": \"black\"}, \"y\": [-0.1391679443700149, -0.41693946942425675], \"x\": [-0.005791859550685841, 1.2752187685947012], \"marker\": {\"size\": 2, \"color\": \"blue\"}, \"text\": [\"LHip\"]}, {\"type\": \"scatter3d\", \"z\": [0.17107264645518505, 0.07937915359667969], \"line\": {\"width\": 5, \"color\": \"black\"}, \"y\": [-0.570182591566029, -0.1391679443700149], \"x\": [-0.18889273905238935, -0.005791859550685841], \"marker\": {\"size\": 2, \"color\": \"blue\"}, \"text\": [\"LKnee\"]}, {\"type\": \"scatter3d\", \"z\": [0.18313679491084756, 0.17107264645518505], \"line\": {\"width\": 5, \"color\": \"black\"}, \"y\": [-0.9892072698655421, -0.570182591566029], \"x\": [0.08258088081143122, -0.18889273905238935], \"marker\": {\"size\": 2, \"color\": \"blue\"}, \"text\": [\"LAnkle\"]}, {\"type\": \"scatter3d\", \"z\": [0.03401734112368615, -11.678293065491616], \"line\": {\"width\": 5, \"color\": \"black\"}, \"y\": [0.16183115885186927, -0.41693946942425675], \"x\": [-0.2154746405054715, 1.2752187685947012], \"marker\": {\"size\": 2, \"color\": \"blue\"}, \"text\": [\"Spine1\"]}, {\"type\": \"scatter3d\", \"z\": [0.07301053321314654, 0.03401734112368615], \"line\": {\"width\": 5, \"color\": \"black\"}, \"y\": [0.3199935690879505, 0.16183115885186927], \"x\": [-0.4108705481316782, -0.2154746405054715], \"marker\": {\"size\": 2, \"color\": \"blue\"}, \"text\": [\"Neck\"]}, {\"type\": \"scatter3d\", \"z\": [0.08885997970158677, 0.07301053321314654], \"line\": {\"width\": 5, \"color\": \"black\"}, \"y\": [0.43452908977266413, 0.3199935690879505], \"x\": [-0.4340055164863673, -0.4108705481316782], \"marker\": {\"size\": 2, \"color\": \"blue\"}, \"text\": [\"Head\"]}, {\"type\": \"scatter3d\", \"z\": [0.091683817902382, 0.08885997970158677], \"line\": {\"width\": 5, \"color\": \"black\"}, \"y\": [0.5519032973311166, 0.43452908977266413], \"x\": [-0.44703263679927596, -0.4340055164863673], \"marker\": {\"size\": 2, \"color\": \"blue\"}, \"text\": [\"Site\"]}, {\"type\": \"scatter3d\", \"z\": [0.276489085988997, 0.07301053321314654], \"line\": {\"width\": 5, \"color\": \"black\"}, \"y\": [0.3201686821296603, 0.3199935690879505], \"x\": [-0.33913979171720876, -0.4108705481316782], \"marker\": {\"size\": 2, \"color\": \"blue\"}, \"text\": [\"LShoulder\"]}, {\"type\": \"scatter3d\", \"z\": [0.3007961037831528, 0.276489085988997], \"line\": {\"width\": 5, \"color\": \"black\"}, \"y\": [0.0396330462837553, 0.3201686821296603], \"x\": [-0.7345168355961792, -0.33913979171720876], \"marker\": {\"size\": 2, \"color\": \"blue\"}, \"text\": [\"LElbow\"]}, {\"type\": \"scatter3d\", \"z\": [0.2729987784254, 0.3007961037831528], \"line\": {\"width\": 5, \"color\": \"black\"}, \"y\": [0.036366161061040625, 0.0396330462837553], \"x\": [-0.8472119149578856, -0.7345168355961792], \"marker\": {\"size\": 2, \"color\": \"blue\"}, \"text\": [\"LWrist\"]}, {\"type\": \"scatter3d\", \"z\": [-0.15093337519142125, 0.07301053321314654], \"line\": {\"width\": 5, \"color\": \"red\"}, \"y\": [0.3142848622806307, 0.3199935690879505], \"x\": [-0.41102829056461854, -0.4108705481316782], \"marker\": {\"size\": 2, \"color\": \"blue\"}, \"text\": [\"RShoulder\"]}, {\"type\": \"scatter3d\", \"z\": [-0.15383850872783, -0.15093337519142125], \"line\": {\"width\": 5, \"color\": \"red\"}, \"y\": [-0.08151831171138979, 0.3142848622806307], \"x\": [-0.5821729820985418, -0.41102829056461854], \"marker\": {\"size\": 2, \"color\": \"blue\"}, \"text\": [\"RElbow\"]}, {\"type\": \"scatter3d\", \"z\": [-0.09605190239126493, -0.15383850872783], \"line\": {\"width\": 5, \"color\": \"red\"}, \"y\": [-0.11522022143991517, -0.08151831171138979], \"x\": [-0.6754752170382965, -0.5821729820985418], \"marker\": {\"size\": 2, \"color\": \"blue\"}, \"text\": [\"RWrist\"]}, {\"type\": \"scatter3d\", \"z\": [-9.89050039882495, -9.781967065491616, -9.717387065491616, -10.231047065491616, -11.064395532158283, -11.62703239882495, -11.72928039882495, -11.640749732158284, -11.71298039882495, -11.67711439882495, -11.655715065491616, -11.733913732158284, -11.667425732158282, -11.71280039882495, -11.671505065491615, -11.601569065491617, -11.708547065491617, -11.585561732158283, -11.510019732158284, -10.847421065491616, -10.372922398824949, -10.329247065491616, -11.276871065491616, -11.827567065491616, -12.03726039882495, -11.878647065491617, -11.89806039882495, -12.074693732158282, -11.968067065491617, -11.184275732158284, -10.599509065491617, -10.35916039882495, -10.34108039882495, -10.99857139882495, -11.428777732158283], \"line\": {\"width\": 1, \"color\": \"#1f77b4\"}, \"y\": [-0.9363594694242567, -0.9168994694242565, -0.9295194694242566, -0.9334528027575899, -0.9425594694242567, -0.8539261360909234, -0.5647928027575899, -0.27810613609092316, -0.09269280275758995, -0.08301946942425675, -0.06881280275759005, -0.16405946942425653, -0.16121946942425658, -0.3059861360909233, -0.36855946942425666, -0.3208794694242565, -0.5929661360909233, -0.8983794694242566, -0.9128861360909233, -0.93739280275759, -0.9429728027575901, -0.9707661360909232, -1.5781301360909232, -1.0126394694242564, -0.9420794694242567, -0.9359861360909234, -1.5009401360909234, -1.30883280275759, -0.95333280275759, -1.6294674694242566, -0.9849261360909234, -0.9405394694242566, -0.9342794694242567, -0.9100661360909232, -0.7465061360909233], \"x\": [-0.10456789807196559, 0.07519876859470122, 0.4937387685947011, 1.127338768594701, 1.5346987685947013, 1.5842921019280345, 1.3928254352613678, 1.1768121019280344, 0.7025454352613678, 0.5634387685947011, 0.8725321019280343, 1.3347321019280343, 1.3049254352613677, 1.1927054352613675, 0.9764121019280343, 1.160118768594701, 1.4533787685947008, 1.725698768594701, 1.726798768594701, 1.3951387685947012, 0.5218254352613677, -0.023674564738632144, -0.26836789807196554, -0.3035612314052989, -0.2385212314052989, -0.19296789807196552, -0.11495456473863222, -0.043434564738632275, -0.2786812314052989, -0.3800678980719656, -0.32554123140529884, 0.17044543526136782, 0.9227921019280345, 1.4903321019280347, 1.495585435261368], \"marker\": {\"size\": 1, \"color\": \"#1f77b4\"}}], \"name\": \"frame36\"}, {\"data\": [{\"type\": \"scatter3d\", \"z\": [-0.09470533682574178, -11.61573239882495], \"line\": {\"width\": 5, \"color\": \"red\"}, \"y\": [-0.12602116698159538, -0.11323280275758996], \"x\": [0.013016551408233101, 0.8086654352613678], \"marker\": {\"size\": 2, \"color\": \"blue\"}, \"text\": [\"RHip\"]}, {\"type\": \"scatter3d\", \"z\": [-0.10381625409804585, -0.09470533682574178], \"line\": {\"width\": 5, \"color\": \"red\"}, \"y\": [-0.6215183898102985, -0.12602116698159538], \"x\": [0.00989353898129175, 0.013016551408233101], \"marker\": {\"size\": 2, \"color\": \"blue\"}, \"text\": [\"RKnee\"]}, {\"type\": \"scatter3d\", \"z\": [-0.0971913982048509, -0.10381625409804585], \"line\": {\"width\": 5, \"color\": \"red\"}, \"y\": [-0.9623515503825699, -0.6215183898102985], \"x\": [0.37649239568304305, 0.00989353898129175], \"marker\": {\"size\": 2, \"color\": \"blue\"}, \"text\": [\"RAnkle\"]}, {\"type\": \"scatter3d\", \"z\": [0.08246865583405416, -11.61573239882495], \"line\": {\"width\": 5, \"color\": \"black\"}, \"y\": [-0.13491330717250283, -0.11323280275758996], \"x\": [0.026450571934418576, 0.8086654352613678], \"marker\": {\"size\": 2, \"color\": \"blue\"}, \"text\": [\"LHip\"]}, {\"type\": \"scatter3d\", \"z\": [0.09601231691833334, 0.08246865583405416], \"line\": {\"width\": 5, \"color\": \"black\"}, \"y\": [-0.599110918407521, -0.13491330717250283], \"x\": [-0.08329641787638264, 0.026450571934418576], \"marker\": {\"size\": 2, \"color\": \"blue\"}, \"text\": [\"LKnee\"]}, {\"type\": \"scatter3d\", \"z\": [0.028577257108297616, 0.09601231691833334], \"line\": {\"width\": 5, \"color\": \"black\"}, \"y\": [-0.9845049694441801, -0.599110918407521], \"x\": [0.22710507876612152, -0.08329641787638264], \"marker\": {\"size\": 2, \"color\": \"blue\"}, \"text\": [\"LAnkle\"]}, {\"type\": \"scatter3d\", \"z\": [0.026827513628752797, -11.61573239882495], \"line\": {\"width\": 5, \"color\": \"black\"}, \"y\": [0.10288717181365059, -0.11323280275758996], \"x\": [-0.24891228145008215, 0.8086654352613678], \"marker\": {\"size\": 2, \"color\": \"blue\"}, \"text\": [\"Spine1\"]}, {\"type\": \"scatter3d\", \"z\": [0.04042046301063884, 0.026827513628752797], \"line\": {\"width\": 5, \"color\": \"black\"}, \"y\": [0.16060252509440986, 0.10288717181365059], \"x\": [-0.49570038152381574, -0.24891228145008215], \"marker\": {\"size\": 2, \"color\": \"blue\"}, \"text\": [\"Neck\"]}, {\"type\": \"scatter3d\", \"z\": [0.05957851992447871, 0.04042046301063884], \"line\": {\"width\": 5, \"color\": \"black\"}, \"y\": [0.24821744514900268, 0.16060252509440986], \"x\": [-0.5722602394938664, -0.49570038152381574], \"marker\": {\"size\": 2, \"color\": \"blue\"}, \"text\": [\"Head\"]}, {\"type\": \"scatter3d\", \"z\": [0.06985647276858309, 0.05957851992447871], \"line\": {\"width\": 5, \"color\": \"black\"}, \"y\": [0.34992029150685044, 0.24821744514900268], \"x\": [-0.6314656383511696, -0.5722602394938664], \"marker\": {\"size\": 2, \"color\": \"blue\"}, \"text\": [\"Site\"]}, {\"type\": \"scatter3d\", \"z\": [0.26137635096188205, 0.04042046301063884], \"line\": {\"width\": 5, \"color\": \"black\"}, \"y\": [0.18746081662880543, 0.16060252509440986], \"x\": [-0.441241503016519, -0.49570038152381574], \"marker\": {\"size\": 2, \"color\": \"blue\"}, \"text\": [\"LShoulder\"]}, {\"type\": \"scatter3d\", \"z\": [0.23050603503223854, 0.26137635096188205], \"line\": {\"width\": 5, \"color\": \"black\"}, \"y\": [-0.21583344060532395, 0.18746081662880543], \"x\": [-0.37586168031064704, -0.441241503016519], \"marker\": {\"size\": 2, \"color\": \"blue\"}, \"text\": [\"LElbow\"]}, {\"type\": \"scatter3d\", \"z\": [0.1901049336234415, 0.23050603503223854], \"line\": {\"width\": 5, \"color\": \"black\"}, \"y\": [-0.2940963545262463, -0.21583344060532395], \"x\": [-0.4515334191436284, -0.37586168031064704], \"marker\": {\"size\": 2, \"color\": \"blue\"}, \"text\": [\"LWrist\"]}, {\"type\": \"scatter3d\", \"z\": [-0.17120007288043126, 0.04042046301063884], \"line\": {\"width\": 5, \"color\": \"red\"}, \"y\": [0.2018520790935019, 0.16060252509440986], \"x\": [-0.46497049424124176, -0.49570038152381574], \"marker\": {\"size\": 2, \"color\": \"blue\"}, \"text\": [\"RShoulder\"]}, {\"type\": \"scatter3d\", \"z\": [-0.2620602147458371, -0.17120007288043126], \"line\": {\"width\": 5, \"color\": \"red\"}, \"y\": [-0.1977714783326101, 0.2018520790935019], \"x\": [-0.3756315502103938, -0.46497049424124176], \"marker\": {\"size\": 2, \"color\": \"blue\"}, \"text\": [\"RElbow\"]}, {\"type\": \"scatter3d\", \"z\": [-0.23213629412295766, -0.2620602147458371], \"line\": {\"width\": 5, \"color\": \"red\"}, \"y\": [-0.28617016765503456, -0.1977714783326101], \"x\": [-0.44249445724137076, -0.3756315502103938], \"marker\": {\"size\": 2, \"color\": \"blue\"}, \"text\": [\"RWrist\"]}, {\"type\": \"scatter3d\", \"z\": [-9.89050039882495, -9.781967065491616, -9.717387065491616, -10.231047065491616, -11.064395532158283, -11.62703239882495, -11.72928039882495, -11.640749732158284, -11.71298039882495, -11.67711439882495, -11.655715065491616, -11.733913732158284, -11.667425732158282, -11.71280039882495, -11.671505065491615, -11.601569065491617, -11.708547065491617, -11.585561732158283, -11.510019732158284, -10.847421065491616, -10.372922398824949, -10.329247065491616, -11.276871065491616, -11.827567065491616, -12.03726039882495, -11.878647065491617, -11.89806039882495, -12.074693732158282, -11.968067065491617, -11.184275732158284, -10.599509065491617, -10.35916039882495, -10.34108039882495, -10.99857139882495, -11.428777732158283, -11.678293065491616], \"line\": {\"width\": 1, \"color\": \"#1f77b4\"}, \"y\": [-0.9363594694242567, -0.9168994694242565, -0.9295194694242566, -0.9334528027575899, -0.9425594694242567, -0.8539261360909234, -0.5647928027575899, -0.27810613609092316, -0.09269280275758995, -0.08301946942425675, -0.06881280275759005, -0.16405946942425653, -0.16121946942425658, -0.3059861360909233, -0.36855946942425666, -0.3208794694242565, -0.5929661360909233, -0.8983794694242566, -0.9128861360909233, -0.93739280275759, -0.9429728027575901, -0.9707661360909232, -1.5781301360909232, -1.0126394694242564, -0.9420794694242567, -0.9359861360909234, -1.5009401360909234, -1.30883280275759, -0.95333280275759, -1.6294674694242566, -0.9849261360909234, -0.9405394694242566, -0.9342794694242567, -0.9100661360909232, -0.7465061360909233, -0.41693946942425675], \"x\": [-0.10456789807196559, 0.07519876859470122, 0.4937387685947011, 1.127338768594701, 1.5346987685947013, 1.5842921019280345, 1.3928254352613678, 1.1768121019280344, 0.7025454352613678, 0.5634387685947011, 0.8725321019280343, 1.3347321019280343, 1.3049254352613677, 1.1927054352613675, 0.9764121019280343, 1.160118768594701, 1.4533787685947008, 1.725698768594701, 1.726798768594701, 1.3951387685947012, 0.5218254352613677, -0.023674564738632144, -0.26836789807196554, -0.3035612314052989, -0.2385212314052989, -0.19296789807196552, -0.11495456473863222, -0.043434564738632275, -0.2786812314052989, -0.3800678980719656, -0.32554123140529884, 0.17044543526136782, 0.9227921019280345, 1.4903321019280347, 1.495585435261368, 1.2752187685947012], \"marker\": {\"size\": 1, \"color\": \"#1f77b4\"}}], \"name\": \"frame37\"}, {\"data\": [{\"type\": \"scatter3d\", \"z\": [-0.09272064602764196, -11.643024398824949], \"line\": {\"width\": 5, \"color\": \"red\"}, \"y\": [-0.12756991711335997, -0.10633280275758983], \"x\": [0.012192785126913241, 0.6152054352613677], \"marker\": {\"size\": 2, \"color\": \"blue\"}, \"text\": [\"RHip\"]}, {\"type\": \"scatter3d\", \"z\": [-0.07518370740380931, -0.09272064602764196], \"line\": {\"width\": 5, \"color\": \"red\"}, \"y\": [-0.6136509418545637, -0.12756991711335997], \"x\": [0.10720832607345654, 0.012192785126913241], \"marker\": {\"size\": 2, \"color\": \"blue\"}, \"text\": [\"RKnee\"]}, {\"type\": \"scatter3d\", \"z\": [-0.06200662475032814, -0.07518370740380931], \"line\": {\"width\": 5, \"color\": \"red\"}, \"y\": [-0.9751777789676526, -0.6136509418545637], \"x\": [0.4532293721617978, 0.10720832607345654], \"marker\": {\"size\": 2, \"color\": \"blue\"}, \"text\": [\"RAnkle\"]}, {\"type\": \"scatter3d\", \"z\": [0.08498023183068604, -11.643024398824949], \"line\": {\"width\": 5, \"color\": \"black\"}, \"y\": [-0.13494372162240875, -0.10633280275758983], \"x\": [0.016457964505132816, 0.6152054352613677], \"marker\": {\"size\": 2, \"color\": \"blue\"}, \"text\": [\"LHip\"]}, {\"type\": \"scatter3d\", \"z\": [0.12341741322735089, 0.08498023183068604], \"line\": {\"width\": 5, \"color\": \"black\"}, \"y\": [-0.6052319942032083, -0.13494372162240875], \"x\": [0.08758305546213829, 0.016457964505132816], \"marker\": {\"size\": 2, \"color\": \"blue\"}, \"text\": [\"LKnee\"]}, {\"type\": \"scatter3d\", \"z\": [0.06727687710596086, 0.12341741322735089], \"line\": {\"width\": 5, \"color\": \"black\"}, \"y\": [-0.9835523694418957, -0.6052319942032083], \"x\": [0.40874825417955585, 0.08758305546213829], \"marker\": {\"size\": 2, \"color\": \"blue\"}, \"text\": [\"LAnkle\"]}, {\"type\": \"scatter3d\", \"z\": [0.019392587971145403, -11.643024398824949], \"line\": {\"width\": 5, \"color\": \"black\"}, \"y\": [0.15965543259100157, -0.10633280275758983], \"x\": [-0.21871671369481216, 0.6152054352613677], \"marker\": {\"size\": 2, \"color\": \"blue\"}, \"text\": [\"Spine1\"]}, {\"type\": \"scatter3d\", \"z\": [0.027648276575476416, 0.019392587971145403], \"line\": {\"width\": 5, \"color\": \"black\"}, \"y\": [0.25407495705444383, 0.15965543259100157], \"x\": [-0.45114906216483186, -0.21871671369481216], \"marker\": {\"size\": 2, \"color\": \"blue\"}, \"text\": [\"Neck\"]}, {\"type\": \"scatter3d\", \"z\": [0.033069743653529216, 0.027648276575476416], \"line\": {\"width\": 5, \"color\": \"black\"}, \"y\": [0.35187869787510717, 0.25407495705444383], \"x\": [-0.5167985342837061, -0.45114906216483186], \"marker\": {\"size\": 2, \"color\": \"blue\"}, \"text\": [\"Head\"]}, {\"type\": \"scatter3d\", \"z\": [0.035831110369962005, 0.033069743653529216], \"line\": {\"width\": 5, \"color\": \"black\"}, \"y\": [0.46083244689894887, 0.35187869787510717], \"x\": [-0.5623599209319756, -0.5167985342837061], \"marker\": {\"size\": 2, \"color\": \"blue\"}, \"text\": [\"Site\"]}, {\"type\": \"scatter3d\", \"z\": [0.24579319258030452, 0.027648276575476416], \"line\": {\"width\": 5, \"color\": \"black\"}, \"y\": [0.3190315145954785, 0.25407495705444383], \"x\": [-0.36871144252720806, -0.45114906216483186], \"marker\": {\"size\": 2, \"color\": \"blue\"}, \"text\": [\"LShoulder\"]}, {\"type\": \"scatter3d\", \"z\": [0.24593615373737876, 0.24579319258030452], \"line\": {\"width\": 5, \"color\": \"black\"}, \"y\": [-0.15322208938182835, 0.3190315145954785], \"x\": [-0.21927899806702034, -0.36871144252720806], \"marker\": {\"size\": 2, \"color\": \"blue\"}, \"text\": [\"LElbow\"]}, {\"type\": \"scatter3d\", \"z\": [0.21963840384174915, 0.24593615373737876], \"line\": {\"width\": 5, \"color\": \"black\"}, \"y\": [-0.26248745611971813, -0.15322208938182835], \"x\": [-0.24848606451515542, -0.21927899806702034], \"marker\": {\"size\": 2, \"color\": \"blue\"}, \"text\": [\"LWrist\"]}, {\"type\": \"scatter3d\", \"z\": [-0.18203839222600315, 0.027648276575476416], \"line\": {\"width\": 5, \"color\": \"red\"}, \"y\": [0.2753656621580167, 0.25407495705444383], \"x\": [-0.4229881806118447, -0.45114906216483186], \"marker\": {\"size\": 2, \"color\": \"blue\"}, \"text\": [\"RShoulder\"]}, {\"type\": \"scatter3d\", \"z\": [-0.2219400999126897, -0.18203839222600315], \"line\": {\"width\": 5, \"color\": \"red\"}, \"y\": [-0.18616195256873858, 0.2753656621580167], \"x\": [-0.2374547075180305, -0.4229881806118447], \"marker\": {\"size\": 2, \"color\": \"blue\"}, \"text\": [\"RElbow\"]}, {\"type\": \"scatter3d\", \"z\": [-0.19771715827788583, -0.2219400999126897], \"line\": {\"width\": 5, \"color\": \"red\"}, \"y\": [-0.29557798170240157, -0.18616195256873858], \"x\": [-0.26239061141538994, -0.2374547075180305], \"marker\": {\"size\": 2, \"color\": \"blue\"}, \"text\": [\"RWrist\"]}, {\"type\": \"scatter3d\", \"z\": [-9.89050039882495, -9.781967065491616, -9.717387065491616, -10.231047065491616, -11.064395532158283, -11.62703239882495, -11.72928039882495, -11.640749732158284, -11.71298039882495, -11.67711439882495, -11.655715065491616, -11.733913732158284, -11.667425732158282, -11.71280039882495, -11.671505065491615, -11.601569065491617, -11.708547065491617, -11.585561732158283, -11.510019732158284, -10.847421065491616, -10.372922398824949, -10.329247065491616, -11.276871065491616, -11.827567065491616, -12.03726039882495, -11.878647065491617, -11.89806039882495, -12.074693732158282, -11.968067065491617, -11.184275732158284, -10.599509065491617, -10.35916039882495, -10.34108039882495, -10.99857139882495, -11.428777732158283, -11.678293065491616, -11.61573239882495], \"line\": {\"width\": 1, \"color\": \"#1f77b4\"}, \"y\": [-0.9363594694242567, -0.9168994694242565, -0.9295194694242566, -0.9334528027575899, -0.9425594694242567, -0.8539261360909234, -0.5647928027575899, -0.27810613609092316, -0.09269280275758995, -0.08301946942425675, -0.06881280275759005, -0.16405946942425653, -0.16121946942425658, -0.3059861360909233, -0.36855946942425666, -0.3208794694242565, -0.5929661360909233, -0.8983794694242566, -0.9128861360909233, -0.93739280275759, -0.9429728027575901, -0.9707661360909232, -1.5781301360909232, -1.0126394694242564, -0.9420794694242567, -0.9359861360909234, -1.5009401360909234, -1.30883280275759, -0.95333280275759, -1.6294674694242566, -0.9849261360909234, -0.9405394694242566, -0.9342794694242567, -0.9100661360909232, -0.7465061360909233, -0.41693946942425675, -0.11323280275758996], \"x\": [-0.10456789807196559, 0.07519876859470122, 0.4937387685947011, 1.127338768594701, 1.5346987685947013, 1.5842921019280345, 1.3928254352613678, 1.1768121019280344, 0.7025454352613678, 0.5634387685947011, 0.8725321019280343, 1.3347321019280343, 1.3049254352613677, 1.1927054352613675, 0.9764121019280343, 1.160118768594701, 1.4533787685947008, 1.725698768594701, 1.726798768594701, 1.3951387685947012, 0.5218254352613677, -0.023674564738632144, -0.26836789807196554, -0.3035612314052989, -0.2385212314052989, -0.19296789807196552, -0.11495456473863222, -0.043434564738632275, -0.2786812314052989, -0.3800678980719656, -0.32554123140529884, 0.17044543526136782, 0.9227921019280345, 1.4903321019280347, 1.495585435261368, 1.2752187685947012, 0.8086654352613678], \"marker\": {\"size\": 1, \"color\": \"#1f77b4\"}}], \"name\": \"frame38\"}, {\"data\": [{\"type\": \"scatter3d\", \"z\": [-0.0933721868398596, -11.634589065491618], \"line\": {\"width\": 5, \"color\": \"red\"}, \"y\": [-0.12624436777556824, -0.07197946942425659], \"x\": [0.01907512230452635, 0.708898768594701], \"marker\": {\"size\": 2, \"color\": \"blue\"}, \"text\": [\"RHip\"]}, {\"type\": \"scatter3d\", \"z\": [-0.08162192713775518, -0.0933721868398596], \"line\": {\"width\": 5, \"color\": \"red\"}, \"y\": [-0.6216872017001704, -0.12624436777556824], \"x\": [0.016144327052222796, 0.01907512230452635], \"marker\": {\"size\": 2, \"color\": \"blue\"}, \"text\": [\"RKnee\"]}, {\"type\": \"scatter3d\", \"z\": [-0.06604472478884027, -0.08162192713775518], \"line\": {\"width\": 5, \"color\": \"red\"}, \"y\": [-0.9329059743950388, -0.6216872017001704], \"x\": [0.40794284681155224, 0.016144327052222796], \"marker\": {\"size\": 2, \"color\": \"blue\"}, \"text\": [\"RAnkle\"]}, {\"type\": \"scatter3d\", \"z\": [0.08431660571188537, -11.634589065491618], \"line\": {\"width\": 5, \"color\": \"black\"}, \"y\": [-0.13501128795709838, -0.07197946942425659], \"x\": [0.019104306539306504, 0.708898768594701], \"marker\": {\"size\": 2, \"color\": \"blue\"}, \"text\": [\"LHip\"]}, {\"type\": \"scatter3d\", \"z\": [0.11721855107737866, 0.08431660571188537], \"line\": {\"width\": 5, \"color\": \"black\"}, \"y\": [-0.6110248799271607, -0.13501128795709838], \"x\": [0.01312291411613753, 0.019104306539306504], \"marker\": {\"size\": 2, \"color\": \"blue\"}, \"text\": [\"LKnee\"]}, {\"type\": \"scatter3d\", \"z\": [0.05973761934868804, 0.11721855107737866], \"line\": {\"width\": 5, \"color\": \"black\"}, \"y\": [-1.0057688058009102, -0.6110248799271607], \"x\": [0.3136197135289065, 0.01312291411613753], \"marker\": {\"size\": 2, \"color\": \"blue\"}, \"text\": [\"LAnkle\"]}, {\"type\": \"scatter3d\", \"z\": [0.024154531345489616, -11.634589065491618], \"line\": {\"width\": 5, \"color\": \"black\"}, \"y\": [0.120530818119156, -0.07197946942425659], \"x\": [-0.24159808478816153, 0.708898768594701], \"marker\": {\"size\": 2, \"color\": \"blue\"}, \"text\": [\"Spine1\"]}, {\"type\": \"scatter3d\", \"z\": [0.0217701757880846, 0.024154531345489616], \"line\": {\"width\": 5, \"color\": \"black\"}, \"y\": [0.2012027098314686, 0.120530818119156], \"x\": [-0.48233481171224046, -0.24159808478816153], \"marker\": {\"size\": 2, \"color\": \"blue\"}, \"text\": [\"Neck\"]}, {\"type\": \"scatter3d\", \"z\": [0.025767180216748287, 0.0217701757880846], \"line\": {\"width\": 5, \"color\": \"black\"}, \"y\": [0.26467302148301597, 0.2012027098314686], \"x\": [-0.5816341606916448, -0.48233481171224046], \"marker\": {\"size\": 2, \"color\": \"blue\"}, \"text\": [\"Head\"]}, {\"type\": \"scatter3d\", \"z\": [0.025062490367563584, 0.025767180216748287], \"line\": {\"width\": 5, \"color\": \"black\"}, \"y\": [0.33074176211518047, 0.26467302148301597], \"x\": [-0.6795566272113472, -0.5816341606916448], \"marker\": {\"size\": 2, \"color\": \"blue\"}, \"text\": [\"Site\"]}, {\"type\": \"scatter3d\", \"z\": [0.24890436095601487, 0.0217701757880846], \"line\": {\"width\": 5, \"color\": \"black\"}, \"y\": [0.22588695902964195, 0.2012027098314686], \"x\": [-0.4353607892038572, -0.48233481171224046], \"marker\": {\"size\": 2, \"color\": \"blue\"}, \"text\": [\"LShoulder\"]}, {\"type\": \"scatter3d\", \"z\": [0.2595768864274408, 0.24890436095601487], \"line\": {\"width\": 5, \"color\": \"black\"}, \"y\": [-0.20852811913839697, 0.22588695902964195], \"x\": [-0.30283729457947167, -0.4353607892038572], \"marker\": {\"size\": 2, \"color\": \"blue\"}, \"text\": [\"LElbow\"]}, {\"type\": \"scatter3d\", \"z\": [0.22764188879785685, 0.2595768864274408], \"line\": {\"width\": 5, \"color\": \"black\"}, \"y\": [-0.30989173423434857, -0.20852811913839697], \"x\": [-0.3496253081034782, -0.30283729457947167], \"marker\": {\"size\": 2, \"color\": \"blue\"}, \"text\": [\"LWrist\"]}, {\"type\": \"scatter3d\", \"z\": [-0.18446443795307843, 0.0217701757880846], \"line\": {\"width\": 5, \"color\": \"red\"}, \"y\": [0.23384332356034587, 0.2012027098314686], \"x\": [-0.43991230759004524, -0.48233481171224046], \"marker\": {\"size\": 2, \"color\": \"blue\"}, \"text\": [\"RShoulder\"]}, {\"type\": \"scatter3d\", \"z\": [-0.22899981802228453, -0.18446443795307843], \"line\": {\"width\": 5, \"color\": \"red\"}, \"y\": [-0.19557672010481952, 0.23384332356034587], \"x\": [-0.2909225757647104, -0.43991230759004524], \"marker\": {\"size\": 2, \"color\": \"blue\"}, \"text\": [\"RElbow\"]}, {\"type\": \"scatter3d\", \"z\": [-0.20353381930551784, -0.22899981802228453], \"line\": {\"width\": 5, \"color\": \"red\"}, \"y\": [-0.2962400871544797, -0.19557672010481952], \"x\": [-0.33989998973873525, -0.2909225757647104], \"marker\": {\"size\": 2, \"color\": \"blue\"}, \"text\": [\"RWrist\"]}, {\"type\": \"scatter3d\", \"z\": [-9.89050039882495, -9.781967065491616, -9.717387065491616, -10.231047065491616, -11.064395532158283, -11.62703239882495, -11.72928039882495, -11.640749732158284, -11.71298039882495, -11.67711439882495, -11.655715065491616, -11.733913732158284, -11.667425732158282, -11.71280039882495, -11.671505065491615, -11.601569065491617, -11.708547065491617, -11.585561732158283, -11.510019732158284, -10.847421065491616, -10.372922398824949, -10.329247065491616, -11.276871065491616, -11.827567065491616, -12.03726039882495, -11.878647065491617, -11.89806039882495, -12.074693732158282, -11.968067065491617, -11.184275732158284, -10.599509065491617, -10.35916039882495, -10.34108039882495, -10.99857139882495, -11.428777732158283, -11.678293065491616, -11.61573239882495, -11.643024398824949], \"line\": {\"width\": 1, \"color\": \"#1f77b4\"}, \"y\": [-0.9363594694242567, -0.9168994694242565, -0.9295194694242566, -0.9334528027575899, -0.9425594694242567, -0.8539261360909234, -0.5647928027575899, -0.27810613609092316, -0.09269280275758995, -0.08301946942425675, -0.06881280275759005, -0.16405946942425653, -0.16121946942425658, -0.3059861360909233, -0.36855946942425666, -0.3208794694242565, -0.5929661360909233, -0.8983794694242566, -0.9128861360909233, -0.93739280275759, -0.9429728027575901, -0.9707661360909232, -1.5781301360909232, -1.0126394694242564, -0.9420794694242567, -0.9359861360909234, -1.5009401360909234, -1.30883280275759, -0.95333280275759, -1.6294674694242566, -0.9849261360909234, -0.9405394694242566, -0.9342794694242567, -0.9100661360909232, -0.7465061360909233, -0.41693946942425675, -0.11323280275758996, -0.10633280275758983], \"x\": [-0.10456789807196559, 0.07519876859470122, 0.4937387685947011, 1.127338768594701, 1.5346987685947013, 1.5842921019280345, 1.3928254352613678, 1.1768121019280344, 0.7025454352613678, 0.5634387685947011, 0.8725321019280343, 1.3347321019280343, 1.3049254352613677, 1.1927054352613675, 0.9764121019280343, 1.160118768594701, 1.4533787685947008, 1.725698768594701, 1.726798768594701, 1.3951387685947012, 0.5218254352613677, -0.023674564738632144, -0.26836789807196554, -0.3035612314052989, -0.2385212314052989, -0.19296789807196552, -0.11495456473863222, -0.043434564738632275, -0.2786812314052989, -0.3800678980719656, -0.32554123140529884, 0.17044543526136782, 0.9227921019280345, 1.4903321019280347, 1.495585435261368, 1.2752187685947012, 0.8086654352613678, 0.6152054352613677], \"marker\": {\"size\": 1, \"color\": \"#1f77b4\"}}], \"name\": \"frame39\"}, {\"data\": [{\"type\": \"scatter3d\", \"z\": [-0.08858126222054175, -11.702753732158284], \"line\": {\"width\": 5, \"color\": \"red\"}, \"y\": [-0.12594802920252657, -0.27613280275759], \"x\": [-0.03619834091030527, 1.177538768594701], \"marker\": {\"size\": 2, \"color\": \"blue\"}, \"text\": [\"RHip\"]}, {\"type\": \"scatter3d\", \"z\": [-0.04832719488949522, -0.08858126222054175], \"line\": {\"width\": 5, \"color\": \"red\"}, \"y\": [-0.6092554034574031, -0.12594802920252657], \"x\": [-0.1381976149532278, -0.03619834091030527], \"marker\": {\"size\": 2, \"color\": \"blue\"}, \"text\": [\"RKnee\"]}, {\"type\": \"scatter3d\", \"z\": [-0.021688394068174688, -0.04832719488949522], \"line\": {\"width\": 5, \"color\": \"red\"}, \"y\": [-1.0774636916046127, -0.6092554034574031], \"x\": [0.03695154147460622, -0.1381976149532278], \"marker\": {\"size\": 2, \"color\": \"blue\"}, \"text\": [\"RAnkle\"]}, {\"type\": \"scatter3d\", \"z\": [0.08711527764819138, -11.702753732158284], \"line\": {\"width\": 5, \"color\": \"black\"}, \"y\": [-0.13424865935346886, -0.27613280275759], \"x\": [-0.009515159748034296, 1.177538768594701], \"marker\": {\"size\": 2, \"color\": \"blue\"}, \"text\": [\"LHip\"]}, {\"type\": \"scatter3d\", \"z\": [0.22290792107279422, 0.08711527764819138], \"line\": {\"width\": 5, \"color\": \"black\"}, \"y\": [-0.48223290138733765, -0.13424865935346886], \"x\": [-0.30645720812156396, -0.009515159748034296], \"marker\": {\"size\": 2, \"color\": \"blue\"}, \"text\": [\"LKnee\"]}, {\"type\": \"scatter3d\", \"z\": [0.13714700462537266, 0.22290792107279422], \"line\": {\"width\": 5, \"color\": \"black\"}, \"y\": [-0.7786481090667714, -0.48223290138733765], \"x\": [0.08623636306390003, -0.30645720812156396], \"marker\": {\"size\": 2, \"color\": \"blue\"}, \"text\": [\"LAnkle\"]}, {\"type\": \"scatter3d\", \"z\": [0.032291771587438234, -11.702753732158284], \"line\": {\"width\": 5, \"color\": \"black\"}, \"y\": [0.15309031096233983, -0.27613280275759], \"x\": [-0.21984362038759853, 1.177538768594701], \"marker\": {\"size\": 2, \"color\": \"blue\"}, \"text\": [\"Spine1\"]}, {\"type\": \"scatter3d\", \"z\": [0.05011485874516097, 0.032291771587438234], \"line\": {\"width\": 5, \"color\": \"black\"}, \"y\": [0.26439332966959306, 0.15309031096233983], \"x\": [-0.44783550631770785, -0.21984362038759853], \"marker\": {\"size\": 2, \"color\": \"blue\"}, \"text\": [\"Neck\"]}, {\"type\": \"scatter3d\", \"z\": [0.058032790493903974, 0.05011485874516097], \"line\": {\"width\": 5, \"color\": \"black\"}, \"y\": [0.28732290957770235, 0.26439332966959306], \"x\": [-0.5632320311152107, -0.44783550631770785], \"marker\": {\"size\": 2, \"color\": \"blue\"}, \"text\": [\"Head\"]}, {\"type\": \"scatter3d\", \"z\": [0.05208085461361023, 0.058032790493903974], \"line\": {\"width\": 5, \"color\": \"black\"}, \"y\": [0.2926261341331411, 0.28732290957770235], \"x\": [-0.6810914168017035, -0.5632320311152107], \"marker\": {\"size\": 2, \"color\": \"blue\"}, \"text\": [\"Site\"]}, {\"type\": \"scatter3d\", \"z\": [0.26082580003158107, 0.05011485874516097], \"line\": {\"width\": 5, \"color\": \"black\"}, \"y\": [0.2727012885447324, 0.26439332966959306], \"x\": [-0.400458680238295, -0.44783550631770785], \"marker\": {\"size\": 2, \"color\": \"blue\"}, \"text\": [\"LShoulder\"]}, {\"type\": \"scatter3d\", \"z\": [0.25117435352576756, 0.26082580003158107], \"line\": {\"width\": 5, \"color\": \"black\"}, \"y\": [-0.1743511693648676, 0.2727012885447324], \"x\": [-0.49286740246107386, -0.400458680238295], \"marker\": {\"size\": 2, \"color\": \"blue\"}, \"text\": [\"LElbow\"]}, {\"type\": \"scatter3d\", \"z\": [0.21022530389078042, 0.25117435352576756], \"line\": {\"width\": 5, \"color\": \"black\"}, \"y\": [-0.24072147828837465, -0.1743511693648676], \"x\": [-0.5789005482586913, -0.49286740246107386], \"marker\": {\"size\": 2, \"color\": \"blue\"}, \"text\": [\"LWrist\"]}, {\"type\": \"scatter3d\", \"z\": [-0.17235026281147903, 0.05011485874516097], \"line\": {\"width\": 5, \"color\": \"red\"}, \"y\": [0.28456182184119316, 0.26439332966959306], \"x\": [-0.41096402429669465, -0.44783550631770785], \"marker\": {\"size\": 2, \"color\": \"blue\"}, \"text\": [\"RShoulder\"]}, {\"type\": \"scatter3d\", \"z\": [-0.20082909369450697, -0.17235026281147903], \"line\": {\"width\": 5, \"color\": \"red\"}, \"y\": [-0.08899406375245578, 0.28456182184119316], \"x\": [-0.7058435607485345, -0.41096402429669465], \"marker\": {\"size\": 2, \"color\": \"blue\"}, \"text\": [\"RElbow\"]}, {\"type\": \"scatter3d\", \"z\": [-0.1615721963126262, -0.20082909369450697], \"line\": {\"width\": 5, \"color\": \"red\"}, \"y\": [-0.11501756005479602, -0.08899406375245578], \"x\": [-0.8105435668810588, -0.7058435607485345], \"marker\": {\"size\": 2, \"color\": \"blue\"}, \"text\": [\"RWrist\"]}, {\"type\": \"scatter3d\", \"z\": [-9.89050039882495, -9.781967065491616, -9.717387065491616, -10.231047065491616, -11.064395532158283, -11.62703239882495, -11.72928039882495, -11.640749732158284, -11.71298039882495, -11.67711439882495, -11.655715065491616, -11.733913732158284, -11.667425732158282, -11.71280039882495, -11.671505065491615, -11.601569065491617, -11.708547065491617, -11.585561732158283, -11.510019732158284, -10.847421065491616, -10.372922398824949, -10.329247065491616, -11.276871065491616, -11.827567065491616, -12.03726039882495, -11.878647065491617, -11.89806039882495, -12.074693732158282, -11.968067065491617, -11.184275732158284, -10.599509065491617, -10.35916039882495, -10.34108039882495, -10.99857139882495, -11.428777732158283, -11.678293065491616, -11.61573239882495, -11.643024398824949, -11.634589065491618], \"line\": {\"width\": 1, \"color\": \"#1f77b4\"}, \"y\": [-0.9363594694242567, -0.9168994694242565, -0.9295194694242566, -0.9334528027575899, -0.9425594694242567, -0.8539261360909234, -0.5647928027575899, -0.27810613609092316, -0.09269280275758995, -0.08301946942425675, -0.06881280275759005, -0.16405946942425653, -0.16121946942425658, -0.3059861360909233, -0.36855946942425666, -0.3208794694242565, -0.5929661360909233, -0.8983794694242566, -0.9128861360909233, -0.93739280275759, -0.9429728027575901, -0.9707661360909232, -1.5781301360909232, -1.0126394694242564, -0.9420794694242567, -0.9359861360909234, -1.5009401360909234, -1.30883280275759, -0.95333280275759, -1.6294674694242566, -0.9849261360909234, -0.9405394694242566, -0.9342794694242567, -0.9100661360909232, -0.7465061360909233, -0.41693946942425675, -0.11323280275758996, -0.10633280275758983, -0.07197946942425659], \"x\": [-0.10456789807196559, 0.07519876859470122, 0.4937387685947011, 1.127338768594701, 1.5346987685947013, 1.5842921019280345, 1.3928254352613678, 1.1768121019280344, 0.7025454352613678, 0.5634387685947011, 0.8725321019280343, 1.3347321019280343, 1.3049254352613677, 1.1927054352613675, 0.9764121019280343, 1.160118768594701, 1.4533787685947008, 1.725698768594701, 1.726798768594701, 1.3951387685947012, 0.5218254352613677, -0.023674564738632144, -0.26836789807196554, -0.3035612314052989, -0.2385212314052989, -0.19296789807196552, -0.11495456473863222, -0.043434564738632275, -0.2786812314052989, -0.3800678980719656, -0.32554123140529884, 0.17044543526136782, 0.9227921019280345, 1.4903321019280347, 1.495585435261368, 1.2752187685947012, 0.8086654352613678, 0.6152054352613677, 0.708898768594701], \"marker\": {\"size\": 1, \"color\": \"#1f77b4\"}}], \"name\": \"frame40\"}, {\"data\": [{\"type\": \"scatter3d\", \"z\": [-0.10233239685276097, -11.583415065491616], \"line\": {\"width\": 5, \"color\": \"red\"}, \"y\": [-0.11781714353617057, -0.5782594694242567], \"x\": [-0.025827644193574528, 1.408458768594701], \"marker\": {\"size\": 2, \"color\": \"blue\"}, \"text\": [\"RHip\"]}, {\"type\": \"scatter3d\", \"z\": [-0.1305047766707812, -0.10233239685276097], \"line\": {\"width\": 5, \"color\": \"red\"}, \"y\": [-0.519184557209901, -0.11781714353617057], \"x\": [-0.3151730711617031, -0.025827644193574528], \"marker\": {\"size\": 2, \"color\": \"blue\"}, \"text\": [\"RKnee\"]}, {\"type\": \"scatter3d\", \"z\": [-0.11611654467410482, -0.1305047766707812], \"line\": {\"width\": 5, \"color\": \"red\"}, \"y\": [-0.8035497742041626, -0.519184557209901], \"x\": [0.09657352073692671, -0.3151730711617031], \"marker\": {\"size\": 2, \"color\": \"blue\"}, \"text\": [\"RAnkle\"]}, {\"type\": \"scatter3d\", \"z\": [0.0742731147264184, -11.583415065491616], \"line\": {\"width\": 5, \"color\": \"black\"}, \"y\": [-0.13883067421634165, -0.5782594694242567], \"x\": [-0.030197031781747485, 1.408458768594701], \"marker\": {\"size\": 2, \"color\": \"blue\"}, \"text\": [\"LHip\"]}, {\"type\": \"scatter3d\", \"z\": [0.06842997905896198, 0.0742731147264184], \"line\": {\"width\": 5, \"color\": \"black\"}, \"y\": [-0.6025294432971136, -0.13883067421634165], \"x\": [-0.14269842787505627, -0.030197031781747485], \"marker\": {\"size\": 2, \"color\": \"blue\"}, \"text\": [\"LKnee\"]}, {\"type\": \"scatter3d\", \"z\": [0.026798788563098697, 0.06842997905896198], \"line\": {\"width\": 5, \"color\": \"black\"}, \"y\": [-1.0882439074546453, -0.6025294432971136], \"x\": [-0.03419287838566132, -0.14269842787505627], \"marker\": {\"size\": 2, \"color\": \"blue\"}, \"text\": [\"LAnkle\"]}, {\"type\": \"scatter3d\", \"z\": [0.03281072720735345, -11.583415065491616], \"line\": {\"width\": 5, \"color\": \"black\"}, \"y\": [0.17492727190850577, -0.5782594694242567], \"x\": [-0.20413492159286806, 1.408458768594701], \"marker\": {\"size\": 2, \"color\": \"blue\"}, \"text\": [\"Spine1\"]}, {\"type\": \"scatter3d\", \"z\": [0.05511955828930226, 0.03281072720735345], \"line\": {\"width\": 5, \"color\": \"black\"}, \"y\": [0.3306363011303506, 0.17492727190850577], \"x\": [-0.40403675716696075, -0.20413492159286806], \"marker\": {\"size\": 2, \"color\": \"blue\"}, \"text\": [\"Neck\"]}, {\"type\": \"scatter3d\", \"z\": [0.07257674618952414, 0.05511955828930226], \"line\": {\"width\": 5, \"color\": \"black\"}, \"y\": [0.3696017860418286, 0.3306363011303506], \"x\": [-0.5139537931054835, -0.40403675716696075], \"marker\": {\"size\": 2, \"color\": \"blue\"}, \"text\": [\"Head\"]}, {\"type\": \"scatter3d\", \"z\": [0.07751549949497694, 0.07257674618952414], \"line\": {\"width\": 5, \"color\": \"black\"}, \"y\": [0.38635480011393586, 0.3696017860418286], \"x\": [-0.6307841391680271, -0.5139537931054835], \"marker\": {\"size\": 2, \"color\": \"blue\"}, \"text\": [\"Site\"]}, {\"type\": \"scatter3d\", \"z\": [0.2655054008000377, 0.05511955828930226], \"line\": {\"width\": 5, \"color\": \"black\"}, \"y\": [0.3096634095315589, 0.3306363011303506], \"x\": [-0.3680121624166348, -0.40403675716696075], \"marker\": {\"size\": 2, \"color\": \"blue\"}, \"text\": [\"LShoulder\"]}, {\"type\": \"scatter3d\", \"z\": [0.13898224824765393, 0.2655054008000377], \"line\": {\"width\": 5, \"color\": \"black\"}, \"y\": [-0.07056468088158474, 0.3096634095315589], \"x\": [-0.7000716737699243, -0.3680121624166348], \"marker\": {\"size\": 2, \"color\": \"blue\"}, \"text\": [\"LElbow\"]}, {\"type\": \"scatter3d\", \"z\": [0.10638805629010761, 0.13898224824765393], \"line\": {\"width\": 5, \"color\": \"black\"}, \"y\": [-0.10950414825814181, -0.07056468088158474], \"x\": [-0.8044981133315082, -0.7000716737699243], \"marker\": {\"size\": 2, \"color\": \"blue\"}, \"text\": [\"LWrist\"]}, {\"type\": \"scatter3d\", \"z\": [-0.16596309269407428, 0.05511955828930226], \"line\": {\"width\": 5, \"color\": \"red\"}, \"y\": [0.35091160498528273, 0.3306363011303506], \"x\": [-0.36290712394387215, -0.40403675716696075], \"marker\": {\"size\": 2, \"color\": \"blue\"}, \"text\": [\"RShoulder\"]}, {\"type\": \"scatter3d\", \"z\": [-0.2024244286114687, -0.16596309269407428], \"line\": {\"width\": 5, \"color\": \"red\"}, \"y\": [-0.11073412978039943, 0.35091160498528273], \"x\": [-0.5116857187629978, -0.36290712394387215], \"marker\": {\"size\": 2, \"color\": \"blue\"}, \"text\": [\"RElbow\"]}, {\"type\": \"scatter3d\", \"z\": [-0.16266203492107145, -0.2024244286114687], \"line\": {\"width\": 5, \"color\": \"red\"}, \"y\": [-0.17706418425385317, -0.11073412978039943], \"x\": [-0.5965367267567663, -0.5116857187629978], \"marker\": {\"size\": 2, \"color\": \"blue\"}, \"text\": [\"RWrist\"]}, {\"type\": \"scatter3d\", \"z\": [-9.89050039882495, -9.781967065491616, -9.717387065491616, -10.231047065491616, -11.064395532158283, -11.62703239882495, -11.72928039882495, -11.640749732158284, -11.71298039882495, -11.67711439882495, -11.655715065491616, -11.733913732158284, -11.667425732158282, -11.71280039882495, -11.671505065491615, -11.601569065491617, -11.708547065491617, -11.585561732158283, -11.510019732158284, -10.847421065491616, -10.372922398824949, -10.329247065491616, -11.276871065491616, -11.827567065491616, -12.03726039882495, -11.878647065491617, -11.89806039882495, -12.074693732158282, -11.968067065491617, -11.184275732158284, -10.599509065491617, -10.35916039882495, -10.34108039882495, -10.99857139882495, -11.428777732158283, -11.678293065491616, -11.61573239882495, -11.643024398824949, -11.634589065491618, -11.702753732158284], \"line\": {\"width\": 1, \"color\": \"#1f77b4\"}, \"y\": [-0.9363594694242567, -0.9168994694242565, -0.9295194694242566, -0.9334528027575899, -0.9425594694242567, -0.8539261360909234, -0.5647928027575899, -0.27810613609092316, -0.09269280275758995, -0.08301946942425675, -0.06881280275759005, -0.16405946942425653, -0.16121946942425658, -0.3059861360909233, -0.36855946942425666, -0.3208794694242565, -0.5929661360909233, -0.8983794694242566, -0.9128861360909233, -0.93739280275759, -0.9429728027575901, -0.9707661360909232, -1.5781301360909232, -1.0126394694242564, -0.9420794694242567, -0.9359861360909234, -1.5009401360909234, -1.30883280275759, -0.95333280275759, -1.6294674694242566, -0.9849261360909234, -0.9405394694242566, -0.9342794694242567, -0.9100661360909232, -0.7465061360909233, -0.41693946942425675, -0.11323280275758996, -0.10633280275758983, -0.07197946942425659, -0.27613280275759], \"x\": [-0.10456789807196559, 0.07519876859470122, 0.4937387685947011, 1.127338768594701, 1.5346987685947013, 1.5842921019280345, 1.3928254352613678, 1.1768121019280344, 0.7025454352613678, 0.5634387685947011, 0.8725321019280343, 1.3347321019280343, 1.3049254352613677, 1.1927054352613675, 0.9764121019280343, 1.160118768594701, 1.4533787685947008, 1.725698768594701, 1.726798768594701, 1.3951387685947012, 0.5218254352613677, -0.023674564738632144, -0.26836789807196554, -0.3035612314052989, -0.2385212314052989, -0.19296789807196552, -0.11495456473863222, -0.043434564738632275, -0.2786812314052989, -0.3800678980719656, -0.32554123140529884, 0.17044543526136782, 0.9227921019280345, 1.4903321019280347, 1.495585435261368, 1.2752187685947012, 0.8086654352613678, 0.6152054352613677, 0.708898768594701, 1.177538768594701], \"marker\": {\"size\": 1, \"color\": \"#1f77b4\"}}], \"name\": \"frame41\"}, {\"data\": [{\"type\": \"scatter3d\", \"z\": [-0.06853388299572138, -11.721647065491617], \"line\": {\"width\": 5, \"color\": \"red\"}, \"y\": [-0.10893527597471331, -0.8869594694242566], \"x\": [-0.09195693824331763, 1.6501054352613678], \"marker\": {\"size\": 2, \"color\": \"blue\"}, \"text\": [\"RHip\"]}, {\"type\": \"scatter3d\", \"z\": [-0.0439948245409969, -0.06853388299572138], \"line\": {\"width\": 5, \"color\": \"red\"}, \"y\": [-0.602331478460256, -0.10893527597471331], \"x\": [-0.05235539996360217, -0.09195693824331763], \"marker\": {\"size\": 2, \"color\": \"blue\"}, \"text\": [\"RKnee\"]}, {\"type\": \"scatter3d\", \"z\": [-0.05075696470131241, -0.0439948245409969], \"line\": {\"width\": 5, \"color\": \"red\"}, \"y\": [-1.0861817265787819, -0.602331478460256], \"x\": [0.07589850700384115, -0.05235539996360217], \"marker\": {\"size\": 2, \"color\": \"blue\"}, \"text\": [\"RAnkle\"]}, {\"type\": \"scatter3d\", \"z\": [0.09221377003315823, -11.721647065491617], \"line\": {\"width\": 5, \"color\": \"black\"}, \"y\": [-0.12981241206065008, -0.8869594694242566], \"x\": [-0.018645929695879193, 1.6501054352613678], \"marker\": {\"size\": 2, \"color\": \"blue\"}, \"text\": [\"LHip\"]}, {\"type\": \"scatter3d\", \"z\": [0.34389920703108423, 0.09221377003315823], \"line\": {\"width\": 5, \"color\": \"black\"}, \"y\": [-0.4469248536334427, -0.12981241206065008], \"x\": [-0.2712353099304796, -0.018645929695879193], \"marker\": {\"size\": 2, \"color\": \"blue\"}, \"text\": [\"LKnee\"]}, {\"type\": \"scatter3d\", \"z\": [0.14179514661515924, 0.34389920703108423], \"line\": {\"width\": 5, \"color\": \"black\"}, \"y\": [-0.7854902534140209, -0.4469248536334427], \"x\": [0.03528152454806843, -0.2712353099304796], \"marker\": {\"size\": 2, \"color\": \"blue\"}, \"text\": [\"LAnkle\"]}, {\"type\": \"scatter3d\", \"z\": [0.022440507917512065, -11.721647065491617], \"line\": {\"width\": 5, \"color\": \"black\"}, \"y\": [0.25372823923405985, -0.8869594694242566], \"x\": [-0.09546355418010144, 1.6501054352613678], \"marker\": {\"size\": 2, \"color\": \"blue\"}, \"text\": [\"Spine1\"]}, {\"type\": \"scatter3d\", \"z\": [0.03484966874066231, 0.022440507917512065], \"line\": {\"width\": 5, \"color\": \"black\"}, \"y\": [0.4926421807853323, 0.25372823923405985], \"x\": [-0.18216288267890746, -0.09546355418010144], \"marker\": {\"size\": 2, \"color\": \"blue\"}, \"text\": [\"Neck\"]}, {\"type\": \"scatter3d\", \"z\": [0.07630923032312253, 0.03484966874066231], \"line\": {\"width\": 5, \"color\": \"black\"}, \"y\": [0.5945715648859062, 0.4926421807853323], \"x\": [-0.2245459290954721, -0.18216288267890746], \"marker\": {\"size\": 2, \"color\": \"blue\"}, \"text\": [\"Head\"]}, {\"type\": \"scatter3d\", \"z\": [0.13102141664225542, 0.07630923032312253], \"line\": {\"width\": 5, \"color\": \"black\"}, \"y\": [0.6821865306126087, 0.5945715648859062], \"x\": [-0.28185717558946366, -0.2245459290954721], \"marker\": {\"size\": 2, \"color\": \"blue\"}, \"text\": [\"Site\"]}, {\"type\": \"scatter3d\", \"z\": [0.19260976203241853, 0.03484966874066231], \"line\": {\"width\": 5, \"color\": \"black\"}, \"y\": [0.5087634870233277, 0.4926421807853323], \"x\": [-0.023659408763292644, -0.18216288267890746], \"marker\": {\"size\": 2, \"color\": \"blue\"}, \"text\": [\"LShoulder\"]}, {\"type\": \"scatter3d\", \"z\": [0.347662955835208, 0.19260976203241853], \"line\": {\"width\": 5, \"color\": \"black\"}, \"y\": [0.02837856545655426, 0.5087634870233277], \"x\": [0.1619963224444667, -0.023659408763292644], \"marker\": {\"size\": 2, \"color\": \"blue\"}, \"text\": [\"LElbow\"]}, {\"type\": \"scatter3d\", \"z\": [0.41468556781679133, 0.347662955835208], \"line\": {\"width\": 5, \"color\": \"black\"}, \"y\": [-0.06516137922618692, 0.02837856545655426], \"x\": [0.17754601634371037, 0.1619963224444667], \"marker\": {\"size\": 2, \"color\": \"blue\"}, \"text\": [\"LWrist\"]}, {\"type\": \"scatter3d\", \"z\": [-0.14065661709790156, 0.03484966874066231], \"line\": {\"width\": 5, \"color\": \"red\"}, \"y\": [0.4308620534132426, 0.4926421807853323], \"x\": [-0.2896620837628783, -0.18216288267890746], \"marker\": {\"size\": 2, \"color\": \"blue\"}, \"text\": [\"RShoulder\"]}, {\"type\": \"scatter3d\", \"z\": [-0.05655095460631365, -0.14065661709790156], \"line\": {\"width\": 5, \"color\": \"red\"}, \"y\": [0.03307831861842381, 0.4308620534132426], \"x\": [-0.6868869022745504, -0.2896620837628783], \"marker\": {\"size\": 2, \"color\": \"blue\"}, \"text\": [\"RElbow\"]}, {\"type\": \"scatter3d\", \"z\": [-0.03070597563199229, -0.05655095460631365], \"line\": {\"width\": 5, \"color\": \"red\"}, \"y\": [-0.026123939552583852, 0.03307831861842381], \"x\": [-0.78179500164057, -0.6868869022745504], \"marker\": {\"size\": 2, \"color\": \"blue\"}, \"text\": [\"RWrist\"]}, {\"type\": \"scatter3d\", \"z\": [-9.89050039882495, -9.781967065491616, -9.717387065491616, -10.231047065491616, -11.064395532158283, -11.62703239882495, -11.72928039882495, -11.640749732158284, -11.71298039882495, -11.67711439882495, -11.655715065491616, -11.733913732158284, -11.667425732158282, -11.71280039882495, -11.671505065491615, -11.601569065491617, -11.708547065491617, -11.585561732158283, -11.510019732158284, -10.847421065491616, -10.372922398824949, -10.329247065491616, -11.276871065491616, -11.827567065491616, -12.03726039882495, -11.878647065491617, -11.89806039882495, -12.074693732158282, -11.968067065491617, -11.184275732158284, -10.599509065491617, -10.35916039882495, -10.34108039882495, -10.99857139882495, -11.428777732158283, -11.678293065491616, -11.61573239882495, -11.643024398824949, -11.634589065491618, -11.702753732158284, -11.583415065491616], \"line\": {\"width\": 1, \"color\": \"#1f77b4\"}, \"y\": [-0.9363594694242567, -0.9168994694242565, -0.9295194694242566, -0.9334528027575899, -0.9425594694242567, -0.8539261360909234, -0.5647928027575899, -0.27810613609092316, -0.09269280275758995, -0.08301946942425675, -0.06881280275759005, -0.16405946942425653, -0.16121946942425658, -0.3059861360909233, -0.36855946942425666, -0.3208794694242565, -0.5929661360909233, -0.8983794694242566, -0.9128861360909233, -0.93739280275759, -0.9429728027575901, -0.9707661360909232, -1.5781301360909232, -1.0126394694242564, -0.9420794694242567, -0.9359861360909234, -1.5009401360909234, -1.30883280275759, -0.95333280275759, -1.6294674694242566, -0.9849261360909234, -0.9405394694242566, -0.9342794694242567, -0.9100661360909232, -0.7465061360909233, -0.41693946942425675, -0.11323280275758996, -0.10633280275758983, -0.07197946942425659, -0.27613280275759, -0.5782594694242567], \"x\": [-0.10456789807196559, 0.07519876859470122, 0.4937387685947011, 1.127338768594701, 1.5346987685947013, 1.5842921019280345, 1.3928254352613678, 1.1768121019280344, 0.7025454352613678, 0.5634387685947011, 0.8725321019280343, 1.3347321019280343, 1.3049254352613677, 1.1927054352613675, 0.9764121019280343, 1.160118768594701, 1.4533787685947008, 1.725698768594701, 1.726798768594701, 1.3951387685947012, 0.5218254352613677, -0.023674564738632144, -0.26836789807196554, -0.3035612314052989, -0.2385212314052989, -0.19296789807196552, -0.11495456473863222, -0.043434564738632275, -0.2786812314052989, -0.3800678980719656, -0.32554123140529884, 0.17044543526136782, 0.9227921019280345, 1.4903321019280347, 1.495585435261368, 1.2752187685947012, 0.8086654352613678, 0.6152054352613677, 0.708898768594701, 1.177538768594701, 1.408458768594701], \"marker\": {\"size\": 1, \"color\": \"#1f77b4\"}}], \"name\": \"frame42\"}, {\"data\": [{\"type\": \"scatter3d\", \"z\": [0.021762752464265844, -11.21589039882495], \"line\": {\"width\": 5, \"color\": \"red\"}, \"y\": [-0.12776401242794155, -0.8868861360909233], \"x\": [-0.0906785845430742, 1.6142187685947011], \"marker\": {\"size\": 2, \"color\": \"blue\"}, \"text\": [\"RHip\"]}, {\"type\": \"scatter3d\", \"z\": [0.22469133071187564, 0.021762752464265844], \"line\": {\"width\": 5, \"color\": \"red\"}, \"y\": [-0.5716665205050633, -0.12776401242794155], \"x\": [-0.17659025606891232, -0.0906785845430742], \"marker\": {\"size\": 2, \"color\": \"blue\"}, \"text\": [\"RKnee\"]}, {\"type\": \"scatter3d\", \"z\": [-0.209428659957398, 0.22469133071187564], \"line\": {\"width\": 5, \"color\": \"red\"}, \"y\": [-0.7572646305210042, -0.5716665205050633], \"x\": [-0.010160003241666438, -0.17659025606891232], \"marker\": {\"size\": 2, \"color\": \"blue\"}, \"text\": [\"RAnkle\"]}, {\"type\": \"scatter3d\", \"z\": [0.09176228996146563, -11.21589039882495], \"line\": {\"width\": 5, \"color\": \"black\"}, \"y\": [-0.11004714073113453, -0.8868861360909233], \"x\": [0.07191398585035813, 1.6142187685947011], \"marker\": {\"size\": 2, \"color\": \"blue\"}, \"text\": [\"LHip\"]}, {\"type\": \"scatter3d\", \"z\": [0.07033592885826145, 0.09176228996146563], \"line\": {\"width\": 5, \"color\": \"black\"}, \"y\": [-0.5862996858940963, -0.11004714073113453], \"x\": [0.09269087397324594, 0.07191398585035813], \"marker\": {\"size\": 2, \"color\": \"blue\"}, \"text\": [\"LKnee\"]}, {\"type\": \"scatter3d\", \"z\": [0.047911049876210754, 0.07033592885826145], \"line\": {\"width\": 5, \"color\": \"black\"}, \"y\": [-1.0847466988390595, -0.5862996858940963], \"x\": [0.11443601303513029, 0.09269087397324594], \"marker\": {\"size\": 2, \"color\": \"blue\"}, \"text\": [\"LAnkle\"]}, {\"type\": \"scatter3d\", \"z\": [0.06165607694397046, -11.21589039882495], \"line\": {\"width\": 5, \"color\": \"black\"}, \"y\": [0.26520129789282487, -0.8868861360909233], \"x\": [-0.011919812674173969, 1.6142187685947011], \"marker\": {\"size\": 2, \"color\": \"blue\"}, \"text\": [\"Spine1\"]}, {\"type\": \"scatter3d\", \"z\": [0.1253067245637851, 0.06165607694397046], \"line\": {\"width\": 5, \"color\": \"black\"}, \"y\": [0.5105560195268224, 0.26520129789282487], \"x\": [-0.02589355725792508, -0.011919812674173969], \"marker\": {\"size\": 2, \"color\": \"blue\"}, \"text\": [\"Neck\"]}, {\"type\": \"scatter3d\", \"z\": [0.1411460727421705, 0.1253067245637851], \"line\": {\"width\": 5, \"color\": \"black\"}, \"y\": [0.6273380689153087, 0.5105560195268224], \"x\": [-0.021907932690830023, -0.02589355725792508], \"marker\": {\"size\": 2, \"color\": \"blue\"}, \"text\": [\"Head\"]}, {\"type\": \"scatter3d\", \"z\": [0.14988818305237572, 0.1411460727421705], \"line\": {\"width\": 5, \"color\": \"black\"}, \"y\": [0.7446026035096116, 0.6273380689153087], \"x\": [-0.03317687050731166, -0.021907932690830023], \"marker\": {\"size\": 2, \"color\": \"blue\"}, \"text\": [\"Site\"]}, {\"type\": \"scatter3d\", \"z\": [0.18802542427206603, 0.1253067245637851], \"line\": {\"width\": 5, \"color\": \"black\"}, \"y\": [0.48721378518457215, 0.5105560195268224], \"x\": [0.17219328165210568, -0.02589355725792508], \"marker\": {\"size\": 2, \"color\": \"blue\"}, \"text\": [\"LShoulder\"]}, {\"type\": \"scatter3d\", \"z\": [0.26767504258147135, 0.18802542427206603], \"line\": {\"width\": 5, \"color\": \"black\"}, \"y\": [-0.0320898923972861, 0.48721378518457215], \"x\": [0.35418060452030553, 0.17219328165210568], \"marker\": {\"size\": 2, \"color\": \"blue\"}, \"text\": [\"LElbow\"]}, {\"type\": \"scatter3d\", \"z\": [0.30667272666428147, 0.26767504258147135], \"line\": {\"width\": 5, \"color\": \"black\"}, \"y\": [-0.13291030030418294, -0.0320898923972861], \"x\": [0.3965830895195219, 0.35418060452030553], \"marker\": {\"size\": 2, \"color\": \"blue\"}, \"text\": [\"LWrist\"]}, {\"type\": \"scatter3d\", \"z\": [-0.015909984698655677, 0.1253067245637851], \"line\": {\"width\": 5, \"color\": \"red\"}, \"y\": [0.48952424576514897, 0.5105560195268224], \"x\": [-0.2102953412687938, -0.02589355725792508], \"marker\": {\"size\": 2, \"color\": \"blue\"}, \"text\": [\"RShoulder\"]}, {\"type\": \"scatter3d\", \"z\": [-0.17750088004798315, -0.015909984698655677], \"line\": {\"width\": 5, \"color\": \"red\"}, \"y\": [-0.04325616525780185, 0.48952424576514897], \"x\": [-0.26712066992948325, -0.2102953412687938], \"marker\": {\"size\": 2, \"color\": \"blue\"}, \"text\": [\"RElbow\"]}, {\"type\": \"scatter3d\", \"z\": [-0.18937224232558414, -0.17750088004798315], \"line\": {\"width\": 5, \"color\": \"red\"}, \"y\": [-0.1496226576018156, -0.04325616525780185], \"x\": [-0.30866170626832345, -0.26712066992948325], \"marker\": {\"size\": 2, \"color\": \"blue\"}, \"text\": [\"RWrist\"]}, {\"type\": \"scatter3d\", \"z\": [-9.89050039882495, -9.781967065491616, -9.717387065491616, -10.231047065491616, -11.064395532158283, -11.62703239882495, -11.72928039882495, -11.640749732158284, -11.71298039882495, -11.67711439882495, -11.655715065491616, -11.733913732158284, -11.667425732158282, -11.71280039882495, -11.671505065491615, -11.601569065491617, -11.708547065491617, -11.585561732158283, -11.510019732158284, -10.847421065491616, -10.372922398824949, -10.329247065491616, -11.276871065491616, -11.827567065491616, -12.03726039882495, -11.878647065491617, -11.89806039882495, -12.074693732158282, -11.968067065491617, -11.184275732158284, -10.599509065491617, -10.35916039882495, -10.34108039882495, -10.99857139882495, -11.428777732158283, -11.678293065491616, -11.61573239882495, -11.643024398824949, -11.634589065491618, -11.702753732158284, -11.583415065491616, -11.721647065491617], \"line\": {\"width\": 1, \"color\": \"#1f77b4\"}, \"y\": [-0.9363594694242567, -0.9168994694242565, -0.9295194694242566, -0.9334528027575899, -0.9425594694242567, -0.8539261360909234, -0.5647928027575899, -0.27810613609092316, -0.09269280275758995, -0.08301946942425675, -0.06881280275759005, -0.16405946942425653, -0.16121946942425658, -0.3059861360909233, -0.36855946942425666, -0.3208794694242565, -0.5929661360909233, -0.8983794694242566, -0.9128861360909233, -0.93739280275759, -0.9429728027575901, -0.9707661360909232, -1.5781301360909232, -1.0126394694242564, -0.9420794694242567, -0.9359861360909234, -1.5009401360909234, -1.30883280275759, -0.95333280275759, -1.6294674694242566, -0.9849261360909234, -0.9405394694242566, -0.9342794694242567, -0.9100661360909232, -0.7465061360909233, -0.41693946942425675, -0.11323280275758996, -0.10633280275758983, -0.07197946942425659, -0.27613280275759, -0.5782594694242567, -0.8869594694242566], \"x\": [-0.10456789807196559, 0.07519876859470122, 0.4937387685947011, 1.127338768594701, 1.5346987685947013, 1.5842921019280345, 1.3928254352613678, 1.1768121019280344, 0.7025454352613678, 0.5634387685947011, 0.8725321019280343, 1.3347321019280343, 1.3049254352613677, 1.1927054352613675, 0.9764121019280343, 1.160118768594701, 1.4533787685947008, 1.725698768594701, 1.726798768594701, 1.3951387685947012, 0.5218254352613677, -0.023674564738632144, -0.26836789807196554, -0.3035612314052989, -0.2385212314052989, -0.19296789807196552, -0.11495456473863222, -0.043434564738632275, -0.2786812314052989, -0.3800678980719656, -0.32554123140529884, 0.17044543526136782, 0.9227921019280345, 1.4903321019280347, 1.495585435261368, 1.2752187685947012, 0.8086654352613678, 0.6152054352613677, 0.708898768594701, 1.177538768594701, 1.408458768594701, 1.6501054352613678], \"marker\": {\"size\": 1, \"color\": \"#1f77b4\"}}], \"name\": \"frame43\"}, {\"data\": [{\"type\": \"scatter3d\", \"z\": [-0.059702792889899214, -10.44420839882495], \"line\": {\"width\": 5, \"color\": \"red\"}, \"y\": [-0.11170844193821394, -0.9211394694242567], \"x\": [-0.09474527155550327, 1.0998054352613678], \"marker\": {\"size\": 2, \"color\": \"blue\"}, \"text\": [\"RHip\"]}, {\"type\": \"scatter3d\", \"z\": [0.02407448989105454, -0.059702792889899214], \"line\": {\"width\": 5, \"color\": \"red\"}, \"y\": [-0.5971732678805146, -0.11170844193821394], \"x\": [-0.04074962808520799, -0.09474527155550327], \"marker\": {\"size\": 2, \"color\": \"blue\"}, \"text\": [\"RKnee\"]}, {\"type\": \"scatter3d\", \"z\": [0.030557626250848458, 0.02407448989105454], \"line\": {\"width\": 5, \"color\": \"red\"}, \"y\": [-1.0590324293242568, -0.5971732678805146], \"x\": [0.15225280125117147, -0.04074962808520799], \"marker\": {\"size\": 2, \"color\": \"blue\"}, \"text\": [\"RAnkle\"]}, {\"type\": \"scatter3d\", \"z\": [0.09806112923951105, -10.44420839882495], \"line\": {\"width\": 5, \"color\": \"black\"}, \"y\": [-0.1260802619613286, -0.9211394694242567], \"x\": [-0.013787489945241704, 1.0998054352613678], \"marker\": {\"size\": 2, \"color\": \"blue\"}, \"text\": [\"LHip\"]}, {\"type\": \"scatter3d\", \"z\": [0.2590353528433482, 0.09806112923951105], \"line\": {\"width\": 5, \"color\": \"black\"}, \"y\": [-0.5566229568894661, -0.1260802619613286], \"x\": [-0.14195746296370493, -0.013787489945241704], \"marker\": {\"size\": 2, \"color\": \"blue\"}, \"text\": [\"LKnee\"]}, {\"type\": \"scatter3d\", \"z\": [0.15087582669026212, 0.2590353528433482], \"line\": {\"width\": 5, \"color\": \"black\"}, \"y\": [-0.9390927357958483, -0.5566229568894661], \"x\": [0.1604388599464448, -0.14195746296370493], \"marker\": {\"size\": 2, \"color\": \"blue\"}, \"text\": [\"LAnkle\"]}, {\"type\": \"scatter3d\", \"z\": [0.02171725566738658, -10.44420839882495], \"line\": {\"width\": 5, \"color\": \"black\"}, \"y\": [0.26986948230015884, -0.9211394694242567], \"x\": [-0.03269951970018248, 1.0998054352613678], \"marker\": {\"size\": 2, \"color\": \"blue\"}, \"text\": [\"Spine1\"]}, {\"type\": \"scatter3d\", \"z\": [0.05528207394299223, 0.02171725566738658], \"line\": {\"width\": 5, \"color\": \"black\"}, \"y\": [0.5213177392831647, 0.26986948230015884], \"x\": [-0.05038360873164471, -0.03269951970018248], \"marker\": {\"size\": 2, \"color\": \"blue\"}, \"text\": [\"Neck\"]}, {\"type\": \"scatter3d\", \"z\": [0.058388439926954305, 0.05528207394299223], \"line\": {\"width\": 5, \"color\": \"black\"}, \"y\": [0.6389336495029077, 0.5213177392831647], \"x\": [-0.04253087883460149, -0.05038360873164471], \"marker\": {\"size\": 2, \"color\": \"blue\"}, \"text\": [\"Head\"]}, {\"type\": \"scatter3d\", \"z\": [0.051145708946757296, 0.058388439926954305], \"line\": {\"width\": 5, \"color\": \"black\"}, \"y\": [0.7567606937509628, 0.6389336495029077], \"x\": [-0.04685696453894583, -0.04253087883460149], \"marker\": {\"size\": 2, \"color\": \"blue\"}, \"text\": [\"Site\"]}, {\"type\": \"scatter3d\", \"z\": [0.20570422762699891, 0.05528207394299223], \"line\": {\"width\": 5, \"color\": \"black\"}, \"y\": [0.48987401014915477, 0.5213177392831647], \"x\": [0.09731274831736791, -0.05038360873164471], \"marker\": {\"size\": 2, \"color\": \"blue\"}, \"text\": [\"LShoulder\"]}, {\"type\": \"scatter3d\", \"z\": [0.20488183431402618, 0.20570422762699891], \"line\": {\"width\": 5, \"color\": \"black\"}, \"y\": [-0.05578789410283891, 0.48987401014915477], \"x\": [0.17879136130713924, 0.09731274831736791], \"marker\": {\"size\": 2, \"color\": \"blue\"}, \"text\": [\"LElbow\"]}, {\"type\": \"scatter3d\", \"z\": [0.23117690531120516, 0.20488183431402618], \"line\": {\"width\": 5, \"color\": \"black\"}, \"y\": [-0.16881372403123995, -0.05578789410283891], \"x\": [0.1829477730641591, 0.17879136130713924], \"marker\": {\"size\": 2, \"color\": \"blue\"}, \"text\": [\"LWrist\"]}, {\"type\": \"scatter3d\", \"z\": [-0.1399393707629617, 0.05528207394299223], \"line\": {\"width\": 5, \"color\": \"red\"}, \"y\": [0.49852948994628243, 0.5213177392831647], \"x\": [-0.16412198825295865, -0.05038360873164471], \"marker\": {\"size\": 2, \"color\": \"blue\"}, \"text\": [\"RShoulder\"]}, {\"type\": \"scatter3d\", \"z\": [-0.10958772021332663, -0.1399393707629617], \"line\": {\"width\": 5, \"color\": \"red\"}, \"y\": [-0.0062464368145107585, 0.49852948994628243], \"x\": [-0.31235278274877265, -0.16412198825295865], \"marker\": {\"size\": 2, \"color\": \"blue\"}, \"text\": [\"RElbow\"]}, {\"type\": \"scatter3d\", \"z\": [-0.0733243636570684, -0.10958772021332663], \"line\": {\"width\": 5, \"color\": \"red\"}, \"y\": [-0.0851843508445933, -0.0062464368145107585], \"x\": [-0.38741403997147705, -0.31235278274877265], \"marker\": {\"size\": 2, \"color\": \"blue\"}, \"text\": [\"RWrist\"]}, {\"type\": \"scatter3d\", \"z\": [-9.89050039882495, -9.781967065491616, -9.717387065491616, -10.231047065491616, -11.064395532158283, -11.62703239882495, -11.72928039882495, -11.640749732158284, -11.71298039882495, -11.67711439882495, -11.655715065491616, -11.733913732158284, -11.667425732158282, -11.71280039882495, -11.671505065491615, -11.601569065491617, -11.708547065491617, -11.585561732158283, -11.510019732158284, -10.847421065491616, -10.372922398824949, -10.329247065491616, -11.276871065491616, -11.827567065491616, -12.03726039882495, -11.878647065491617, -11.89806039882495, -12.074693732158282, -11.968067065491617, -11.184275732158284, -10.599509065491617, -10.35916039882495, -10.34108039882495, -10.99857139882495, -11.428777732158283, -11.678293065491616, -11.61573239882495, -11.643024398824949, -11.634589065491618, -11.702753732158284, -11.583415065491616, -11.721647065491617, -11.21589039882495], \"line\": {\"width\": 1, \"color\": \"#1f77b4\"}, \"y\": [-0.9363594694242567, -0.9168994694242565, -0.9295194694242566, -0.9334528027575899, -0.9425594694242567, -0.8539261360909234, -0.5647928027575899, -0.27810613609092316, -0.09269280275758995, -0.08301946942425675, -0.06881280275759005, -0.16405946942425653, -0.16121946942425658, -0.3059861360909233, -0.36855946942425666, -0.3208794694242565, -0.5929661360909233, -0.8983794694242566, -0.9128861360909233, -0.93739280275759, -0.9429728027575901, -0.9707661360909232, -1.5781301360909232, -1.0126394694242564, -0.9420794694242567, -0.9359861360909234, -1.5009401360909234, -1.30883280275759, -0.95333280275759, -1.6294674694242566, -0.9849261360909234, -0.9405394694242566, -0.9342794694242567, -0.9100661360909232, -0.7465061360909233, -0.41693946942425675, -0.11323280275758996, -0.10633280275758983, -0.07197946942425659, -0.27613280275759, -0.5782594694242567, -0.8869594694242566, -0.8868861360909233], \"x\": [-0.10456789807196559, 0.07519876859470122, 0.4937387685947011, 1.127338768594701, 1.5346987685947013, 1.5842921019280345, 1.3928254352613678, 1.1768121019280344, 0.7025454352613678, 0.5634387685947011, 0.8725321019280343, 1.3347321019280343, 1.3049254352613677, 1.1927054352613675, 0.9764121019280343, 1.160118768594701, 1.4533787685947008, 1.725698768594701, 1.726798768594701, 1.3951387685947012, 0.5218254352613677, -0.023674564738632144, -0.26836789807196554, -0.3035612314052989, -0.2385212314052989, -0.19296789807196552, -0.11495456473863222, -0.043434564738632275, -0.2786812314052989, -0.3800678980719656, -0.32554123140529884, 0.17044543526136782, 0.9227921019280345, 1.4903321019280347, 1.495585435261368, 1.2752187685947012, 0.8086654352613678, 0.6152054352613677, 0.708898768594701, 1.177538768594701, 1.408458768594701, 1.6501054352613678, 1.6142187685947011], \"marker\": {\"size\": 1, \"color\": \"#1f77b4\"}}], \"name\": \"frame44\"}]);\n",
       "                        }).then(function(){\n",
       "                            Plotly.animate('51c4b48a-c2bc-4be1-85c7-39a6c1ad84f3', null);\n",
       "                        }).then(function(){\n",
       "                            \n",
       "var gd = document.getElementById('51c4b48a-c2bc-4be1-85c7-39a6c1ad84f3');\n",
       "var x = new MutationObserver(function (mutations, observer) {{\n",
       "        var display = window.getComputedStyle(gd).display;\n",
       "        if (!display || display === 'none') {{\n",
       "            console.log([gd, 'removed!']);\n",
       "            Plotly.purge(gd);\n",
       "            observer.disconnect();\n",
       "        }}\n",
       "}});\n",
       "\n",
       "// Listen for the removal of the full notebook cells\n",
       "var notebookContainer = gd.closest('#notebook-container');\n",
       "if (notebookContainer) {{\n",
       "    x.observe(notebookContainer, {childList: true});\n",
       "}}\n",
       "\n",
       "// Listen for the clearing of the current output cell\n",
       "var outputEl = gd.closest('.output');\n",
       "if (outputEl) {{\n",
       "    x.observe(outputEl, {childList: true});\n",
       "}}\n",
       "\n",
       "                        })\n",
       "                };\n",
       "                });\n",
       "            </script>\n",
       "        </div>"
      ]
     },
     "metadata": {},
     "output_type": "display_data"
    }
   ],
   "source": [
    "# prediction 3d\n",
    "frames, layout = generate_frames_layout(batch[0][::100], dataset.skeleton(), human36m_kpts_name, [xmin, xmax], [ymin, ymax], [zmin, zmax])\n",
    "fig = dict(data=get_line_3d_segs(batch[0], 0, dataset.skeleton(), human36m_kpts_name), layout=layout, frames=frames)\n",
    "plotly.offline.iplot(fig)"
   ]
  },
  {
   "cell_type": "code",
   "execution_count": 18,
   "metadata": {},
   "outputs": [
    {
     "data": {
      "text/plain": [
       "[<matplotlib.lines.Line2D at 0x7face932f2b0>]"
      ]
     },
     "execution_count": 18,
     "metadata": {},
     "output_type": "execute_result"
    },
    {
     "data": {
      "image/png": "[encoded data removed]",
      "text/plain": [
       "<Figure size 432x288 with 1 Axes>"
      ]
     },
     "metadata": {
      "needs_background": "light"
     },
     "output_type": "display_data"
    }
   ],
   "source": [
    "plt.plot(dists[0])"
   ]
  },
  {
   "cell_type": "code",
   "execution_count": null,
   "metadata": {},
   "outputs": [],
   "source": []
  }
 ],
 "metadata": {
  "kernelspec": {
   "display_name": "Python 3",
   "language": "python",
   "name": "python3"
  },
  "language_info": {
   "codemirror_mode": {
    "name": "ipython",
    "version": 3
   },
   "file_extension": ".py",
   "mimetype": "text/x-python",
   "name": "python",
   "nbconvert_exporter": "python",
   "pygments_lexer": "ipython3",
   "version": "3.5.2"
  }
 },
 "nbformat": 4,
 "nbformat_minor": 2
}
