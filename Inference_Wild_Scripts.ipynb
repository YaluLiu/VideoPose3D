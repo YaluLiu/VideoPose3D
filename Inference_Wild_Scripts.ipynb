{
 "cells": [
  {
   "cell_type": "code",
   "execution_count": 1,
   "metadata": {},
   "outputs": [
    {
     "data": {
      "text/html": [
       "        <script type=\"text/javascript\">\n",
       "        window.PlotlyConfig = {MathJaxConfig: 'local'};\n",
       "        if (window.MathJax) {MathJax.Hub.Config({SVG: {font: \"STIX-Web\"}});}\n",
       "        if (typeof require !== 'undefined') {\n",
       "        require.undef(\"plotly\");\n",
       "        requirejs.config({\n",
       "            paths: {\n",
       "                'plotly': ['https://cdn.plot.ly/plotly-latest.min']\n",
       "            }\n",
       "        });\n",
       "        require(['plotly'], function(Plotly) {\n",
       "            window._Plotly = Plotly;\n",
       "        });\n",
       "        }\n",
       "        </script>\n",
       "        "
      ]
     },
     "metadata": {},
     "output_type": "display_data"
    }
   ],
   "source": [
    "import time\n",
    "\n",
    "import torch\n",
    "\n",
    "import torch.nn as nn\n",
    "import torch.nn.functional as F\n",
    "import torch.optim as optim\n",
    "import os\n",
    "import sys\n",
    "import errno\n",
    "\n",
    "from common.camera import *\n",
    "from common.model import *\n",
    "from common.loss import *\n",
    "from common.utils import *\n",
    "from common.visualization import *\n",
    "from common.generators import ChunkedGenerator, UnchunkedGenerator\n",
    "from common.utils import deterministic_random\n",
    "\n",
    "from scripts.data_preprocessing_human36 import *\n",
    "from scripts.data_preprocessing_cmu_mocap import *\n",
    "from scripts.build_model import *\n",
    "from scripts.train import *\n",
    "from scripts.eval import *\n",
    "\n",
    "import plotly\n",
    "plotly.offline.init_notebook_mode(connected=True)"
   ]
  },
  {
   "cell_type": "markdown",
   "metadata": {},
   "source": [
    "## Load and Preprocess Data"
   ]
  },
  {
   "cell_type": "code",
   "execution_count": 2,
   "metadata": {},
   "outputs": [],
   "source": [
    "data_root_path = \"../wild_data_cmu/output_human/\" "
   ]
  },
  {
   "cell_type": "code",
   "execution_count": 3,
   "metadata": {},
   "outputs": [
    {
     "name": "stdout",
     "output_type": "stream",
     "text": [
      " load 3d data \n",
      " processing 3d data \n",
      " load 2d keypoints \n",
      " processing 2d keypoints \n"
     ]
    }
   ],
   "source": [
    "dataset, keypoints = load_and_preprocess_cmu_mocap(data_root_path)"
   ]
  },
  {
   "cell_type": "markdown",
   "metadata": {},
   "source": [
    "## Generate Subsets"
   ]
  },
  {
   "cell_type": "code",
   "execution_count": 4,
   "metadata": {},
   "outputs": [],
   "source": [
    "subjects_test = ['01']"
   ]
  },
  {
   "cell_type": "code",
   "execution_count": 5,
   "metadata": {},
   "outputs": [],
   "source": [
    "cameras_valid, poses_valid, poses_valid_2d = fetch(dataset = dataset, \n",
    "                                                   keypoints = keypoints, \n",
    "                                                   subjects = subjects_test, \n",
    "                                                   stride = 1)"
   ]
  },
  {
   "cell_type": "markdown",
   "metadata": {},
   "source": [
    "## Load Model"
   ]
  },
  {
   "cell_type": "code",
   "execution_count": 6,
   "metadata": {},
   "outputs": [
    {
     "name": "stdout",
     "output_type": "stream",
     "text": [
      "Loading checkpoint checkpoints/cmu_epoch_100.bin\n",
      "This model was trained for 100 epochs\n"
     ]
    },
    {
     "data": {
      "text/plain": [
       "IncompatibleKeys(missing_keys=[], unexpected_keys=[])"
      ]
     },
     "execution_count": 6,
     "metadata": {},
     "output_type": "execute_result"
    }
   ],
   "source": [
    "resume = True\n",
    "filter_widths = [3,3,3,3,3]\n",
    "model_pos_train, model_pos, model_traj, model_traj_train = build_models(17, 2, 17, filter_widths)\n",
    "\n",
    "# chk_filename = \"../checkpoint/pretrained_h36m_cpn.bin\"\n",
    "chk_filename = \"checkpoints/cmu_epoch_100.bin\"\n",
    "print('Loading checkpoint', chk_filename)\n",
    "checkpoint = torch.load(chk_filename, map_location=lambda storage, loc: storage)\n",
    "print('This model was trained for {} epochs'.format(checkpoint['epoch']))\n",
    "model_pos_train.load_state_dict(checkpoint['model_pos'])\n",
    "model_pos.load_state_dict(checkpoint['model_pos'])\n",
    "model_traj_train.load_state_dict(checkpoint['model_traj'])\n",
    "model_traj.load_state_dict(checkpoint['model_traj'])"
   ]
  },
  {
   "cell_type": "markdown",
   "metadata": {},
   "source": [
    "## Test Data Generator"
   ]
  },
  {
   "cell_type": "code",
   "execution_count": 7,
   "metadata": {},
   "outputs": [
    {
     "name": "stdout",
     "output_type": "stream",
     "text": [
      "INFO: Receptive field: 243 frames\n"
     ]
    }
   ],
   "source": [
    "receptive_field = model_pos.receptive_field()\n",
    "print('INFO: Receptive field: {} frames'.format(receptive_field))\n",
    "pad = (receptive_field - 1) // 2 # Padding on each side"
   ]
  },
  {
   "cell_type": "code",
   "execution_count": 8,
   "metadata": {},
   "outputs": [],
   "source": [
    "test_generator = UnchunkedGenerator([dataset.cameras()[\"05\"][0][\"intrinsics\"]], \n",
    "                                    [dataset[\"05\"][\"01\"][\"positions_3d\"][0]], \n",
    "                                    [keypoints[\"05\"][\"01\"][0]], \n",
    "                                    pad=pad, \n",
    "                                    causal_shift=0, \n",
    "                                    augment=False)"
   ]
  },
  {
   "cell_type": "markdown",
   "metadata": {},
   "source": [
    "## Inference"
   ]
  },
  {
   "cell_type": "code",
   "execution_count": 9,
   "metadata": {},
   "outputs": [],
   "source": [
    "with torch.no_grad():\n",
    "    model_pos.eval()\n",
    "    N = 0\n",
    "    for cam, batch, batch_2d in test_generator.next_epoch():\n",
    "        inputs_2d = torch.from_numpy(batch_2d.astype('float32'))\n",
    "        inputs_3d = torch.from_numpy(batch.astype('float32'))\n",
    "        cam = torch.from_numpy(cam.astype('float32'))\n",
    "        # Positional model\n",
    "        predicted_3d_pos = model_pos(inputs_2d)  \n",
    "        pred_traj = model_pos(inputs_2d).numpy()\n",
    "        prediction = predicted_3d_pos.numpy()\n",
    "        gt_cam = inputs_3d.numpy()\n",
    "        gt_2d = inputs_2d.numpy()"
   ]
  },
  {
   "cell_type": "code",
   "execution_count": 10,
   "metadata": {},
   "outputs": [],
   "source": [
    "prediction = prediction[0]\n",
    "gt_cam = gt_cam[0]\n",
    "gt_2d = gt_2d[0]"
   ]
  },
  {
   "cell_type": "markdown",
   "metadata": {},
   "source": [
    "## Post Processing"
   ]
  },
  {
   "cell_type": "code",
   "execution_count": 11,
   "metadata": {},
   "outputs": [],
   "source": [
    "trajectory = gt_cam[:, :1]\n",
    "gt_cam[:, 1:] += trajectory\n",
    "prediction += pred_traj[0]"
   ]
  },
  {
   "cell_type": "code",
   "execution_count": 12,
   "metadata": {},
   "outputs": [],
   "source": [
    "# camera to world\n",
    "gt_3d_world = camera2world_cv(gt_cam,\n",
    "                              dataset.cameras()[\"05\"][0][\"rvec\"], \n",
    "                              dataset.cameras()[\"05\"][0][\"tvec\"])"
   ]
  },
  {
   "cell_type": "code",
   "execution_count": 13,
   "metadata": {},
   "outputs": [
    {
     "data": {
      "text/plain": [
       "7.953271035710611e-10"
      ]
     },
     "execution_count": 13,
     "metadata": {},
     "output_type": "execute_result"
    }
   ],
   "source": [
    "np.sum(np.power(gt_3d_world - dataset[\"05\"][\"01\"][\"positions\"], 2))"
   ]
  },
  {
   "cell_type": "code",
   "execution_count": 14,
   "metadata": {},
   "outputs": [],
   "source": [
    "# camera to world\n",
    "pred_3d_world = camera2world_cv(prediction,\n",
    "                              dataset.cameras()[\"01\"][0][\"rvec\"], \n",
    "                              dataset.cameras()[\"01\"][0][\"tvec\"])"
   ]
  },
  {
   "cell_type": "code",
   "execution_count": 15,
   "metadata": {},
   "outputs": [],
   "source": [
    "human36m_kpts_name = ['Pelvis', 'RHip', 'RKnee', 'RAnkle','LHip','LKnee',\n",
    "                      'LAnkle','Spine1','Neck', 'Head','Site','LShoulder',\n",
    "                      'LElbow','LWrist','RShoulder', 'RElbow','RWrist']"
   ]
  },
  {
   "cell_type": "code",
   "execution_count": 16,
   "metadata": {},
   "outputs": [
    {
     "data": {
      "application/vnd.plotly.v1+json": {
       "config": {
        "linkText": "Export to plot.ly",
        "plotlyServerURL": "https://plot.ly",
        "responsive": true,
        "showLink": false
       },
       "data": [
        {
         "line": {
          "color": "red",
          "width": 5
         },
         "marker": {
          "color": "blue",
          "size": 2
         },
         "text": [
          "RHip"
         ],
         "type": "scatter3d",
         "uid": "46c5e3e3-4d2a-48d2-ac29-37d5523794fd",
         "x": [
          -0.017764799296855927,
          0.08945285528898239
         ],
         "y": [
          0.814637303352356,
          0.9362757205963135
         ],
         "z": [
          0.19206619262695312,
          0.1592569351196289
         ]
        },
        {
         "line": {
          "color": "red",
          "width": 5
         },
         "marker": {
          "color": "blue",
          "size": 2
         },
         "text": [
          "RKnee"
         ],
         "type": "scatter3d",
         "uid": "6d2432ce-4f18-461a-8f3f-396f2a6934f8",
         "x": [
          -0.006675504148006439,
          -0.017764799296855927
         ],
         "y": [
          0.4040107727050781,
          0.814637303352356
         ],
         "z": [
          0.3457489013671875,
          0.19206619262695312
         ]
        },
        {
         "line": {
          "color": "red",
          "width": 5
         },
         "marker": {
          "color": "blue",
          "size": 2
         },
         "text": [
          "RAnkle"
         ],
         "type": "scatter3d",
         "uid": "1088860d-5f42-4aeb-b532-b413a2deafda",
         "x": [
          0,
          -0.006675504148006439
         ],
         "y": [
          0,
          0.4040107727050781
         ],
         "z": [
          0,
          0.3457489013671875
         ]
        },
        {
         "line": {
          "color": "black",
          "width": 5
         },
         "marker": {
          "color": "blue",
          "size": 2
         },
         "text": [
          "LHip"
         ],
         "type": "scatter3d",
         "uid": "66924a6d-13c0-4bb3-bc66-006dc50e033a",
         "x": [
          0.19774223864078522,
          0.08945285528898239
         ],
         "y": [
          0.8110958337783813,
          0.9362757205963135
         ],
         "z": [
          0.1874237060546875,
          0.1592569351196289
         ]
        },
        {
         "line": {
          "color": "black",
          "width": 5
         },
         "marker": {
          "color": "blue",
          "size": 2
         },
         "text": [
          "LKnee"
         ],
         "type": "scatter3d",
         "uid": "5c8aa542-e549-4ebc-ae04-364d5105c14a",
         "x": [
          0.1460893601179123,
          0.19774223864078522
         ],
         "y": [
          0.38343143463134766,
          0.8110958337783813
         ],
         "z": [
          0.2693805694580078,
          0.1874237060546875
         ]
        },
        {
         "line": {
          "color": "black",
          "width": 5
         },
         "marker": {
          "color": "blue",
          "size": 2
         },
         "text": [
          "LAnkle"
         ],
         "type": "scatter3d",
         "uid": "5c9cabde-3281-4480-a046-9e9b2db4409a",
         "x": [
          0.12191274762153625,
          0.1460893601179123
         ],
         "y": [
          -0.11676311492919922,
          0.38343143463134766
         ],
         "z": [
          0.09660530090332031,
          0.2693805694580078
         ]
        },
        {
         "line": {
          "color": "black",
          "width": 5
         },
         "marker": {
          "color": "blue",
          "size": 2
         },
         "text": [
          "Spine1"
         ],
         "type": "scatter3d",
         "uid": "3b185220-78c7-4e15-821d-38f2f1c533d6",
         "x": [
          0.10621404647827148,
          0.08945285528898239
         ],
         "y": [
          1.2162137031555176,
          0.9362757205963135
         ],
         "z": [
          0.17953014373779297,
          0.1592569351196289
         ]
        },
        {
         "line": {
          "color": "black",
          "width": 5
         },
         "marker": {
          "color": "blue",
          "size": 2
         },
         "text": [
          "Neck"
         ],
         "type": "scatter3d",
         "uid": "10399e7e-2f7c-4799-9ada-76b22529a1e1",
         "x": [
          0.12682980298995972,
          0.10621404647827148
         ],
         "y": [
          1.4692847728729248,
          1.2162137031555176
         ],
         "z": [
          0.1666431427001953,
          0.17953014373779297
         ]
        },
        {
         "line": {
          "color": "black",
          "width": 5
         },
         "marker": {
          "color": "blue",
          "size": 2
         },
         "text": [
          "Head"
         ],
         "type": "scatter3d",
         "uid": "d7d8693e-a499-47de-9bf2-9c3e1223d1db",
         "x": [
          0.12022276967763901,
          0.12682980298995972
         ],
         "y": [
          1.5794822573661804,
          1.4692847728729248
         ],
         "z": [
          0.17938232421875,
          0.1666431427001953
         ]
        },
        {
         "line": {
          "color": "black",
          "width": 5
         },
         "marker": {
          "color": "blue",
          "size": 2
         },
         "text": [
          "Site"
         ],
         "type": "scatter3d",
         "uid": "bf6cf876-dfda-468e-8592-c193819500da",
         "x": [
          0.10800205171108246,
          0.12022276967763901
         ],
         "y": [
          1.6692928671836853,
          1.5794822573661804
         ],
         "z": [
          0.25044822692871094,
          0.17938232421875
         ]
        },
        {
         "line": {
          "color": "black",
          "width": 5
         },
         "marker": {
          "color": "blue",
          "size": 2
         },
         "text": [
          "LShoulder"
         ],
         "type": "scatter3d",
         "uid": "e59912c3-69ac-479c-b550-ae885d2979aa",
         "x": [
          0.34809496998786926,
          0.12682980298995972
         ],
         "y": [
          1.3704676628112793,
          1.4692847728729248
         ],
         "z": [
          0.184783935546875,
          0.1666431427001953
         ]
        },
        {
         "line": {
          "color": "black",
          "width": 5
         },
         "marker": {
          "color": "blue",
          "size": 2
         },
         "text": [
          "LElbow"
         ],
         "type": "scatter3d",
         "uid": "d243e654-6fc8-458d-8110-0be07fca7ee6",
         "x": [
          0.42403727769851685,
          0.34809496998786926
         ],
         "y": [
          0.8978193998336792,
          1.3704676628112793
         ],
         "z": [
          0.20572662353515625,
          0.184783935546875
         ]
        },
        {
         "line": {
          "color": "black",
          "width": 5
         },
         "marker": {
          "color": "blue",
          "size": 2
         },
         "text": [
          "LWrist"
         ],
         "type": "scatter3d",
         "uid": "ae00127f-833f-4b5e-ab5c-393aae203a9d",
         "x": [
          0.46358123421669006,
          0.42403727769851685
         ],
         "y": [
          0.8395411968231201,
          0.8978193998336792
         ],
         "z": [
          0.2466564178466797,
          0.20572662353515625
         ]
        },
        {
         "line": {
          "color": "red",
          "width": 5
         },
         "marker": {
          "color": "blue",
          "size": 2
         },
         "text": [
          "RShoulder"
         ],
         "type": "scatter3d",
         "uid": "3ee63b88-fd0a-4de8-a3d1-5e5387a2771e",
         "x": [
          -0.09328984469175339,
          0.12682980298995972
         ],
         "y": [
          1.4087406396865845,
          1.4692847728729248
         ],
         "z": [
          0.22990131378173828,
          0.1666431427001953
         ]
        },
        {
         "line": {
          "color": "red",
          "width": 5
         },
         "marker": {
          "color": "blue",
          "size": 2
         },
         "text": [
          "RElbow"
         ],
         "type": "scatter3d",
         "uid": "c0251c5d-8c8e-4f88-9154-e98c71119dd2",
         "x": [
          -0.2025776505470276,
          -0.09328984469175339
         ],
         "y": [
          0.9030660390853882,
          1.4087406396865845
         ],
         "z": [
          0.18494510650634766,
          0.22990131378173828
         ]
        },
        {
         "line": {
          "color": "red",
          "width": 5
         },
         "marker": {
          "color": "blue",
          "size": 2
         },
         "text": [
          "RWrist"
         ],
         "type": "scatter3d",
         "uid": "0742b461-e47b-4c55-a74a-a55b56c25a2d",
         "x": [
          -0.22086840867996216,
          -0.2025776505470276
         ],
         "y": [
          0.8265640735626221,
          0.9030660390853882
         ],
         "z": [
          0.21044063568115234,
          0.18494510650634766
         ]
        },
        {
         "line": {
          "color": "#1f77b4",
          "width": 1
         },
         "marker": {
          "color": "#1f77b4",
          "size": 1
         },
         "type": "scatter3d",
         "uid": "130d92e9-7579-470b-a277-9be96fa7fe36",
         "x": [],
         "y": [],
         "z": []
        }
       ],
       "frames": [
        {
         "data": [
          {
           "line": {
            "color": "red",
            "width": 5
           },
           "marker": {
            "color": "blue",
            "size": 2
           },
           "text": [
            "RHip"
           ],
           "type": "scatter3d",
           "x": [
            -0.017764799296855927,
            0.08945285528898239
           ],
           "y": [
            0.814637303352356,
            0.9362757205963135
           ],
           "z": [
            0.19206619262695312,
            0.1592569351196289
           ]
          },
          {
           "line": {
            "color": "red",
            "width": 5
           },
           "marker": {
            "color": "blue",
            "size": 2
           },
           "text": [
            "RKnee"
           ],
           "type": "scatter3d",
           "x": [
            -0.006675504148006439,
            -0.017764799296855927
           ],
           "y": [
            0.4040107727050781,
            0.814637303352356
           ],
           "z": [
            0.3457489013671875,
            0.19206619262695312
           ]
          },
          {
           "line": {
            "color": "red",
            "width": 5
           },
           "marker": {
            "color": "blue",
            "size": 2
           },
           "text": [
            "RAnkle"
           ],
           "type": "scatter3d",
           "x": [
            0,
            -0.006675504148006439
           ],
           "y": [
            0,
            0.4040107727050781
           ],
           "z": [
            0,
            0.3457489013671875
           ]
          },
          {
           "line": {
            "color": "black",
            "width": 5
           },
           "marker": {
            "color": "blue",
            "size": 2
           },
           "text": [
            "LHip"
           ],
           "type": "scatter3d",
           "x": [
            0.19774223864078522,
            0.08945285528898239
           ],
           "y": [
            0.8110958337783813,
            0.9362757205963135
           ],
           "z": [
            0.1874237060546875,
            0.1592569351196289
           ]
          },
          {
           "line": {
            "color": "black",
            "width": 5
           },
           "marker": {
            "color": "blue",
            "size": 2
           },
           "text": [
            "LKnee"
           ],
           "type": "scatter3d",
           "x": [
            0.1460893601179123,
            0.19774223864078522
           ],
           "y": [
            0.38343143463134766,
            0.8110958337783813
           ],
           "z": [
            0.2693805694580078,
            0.1874237060546875
           ]
          },
          {
           "line": {
            "color": "black",
            "width": 5
           },
           "marker": {
            "color": "blue",
            "size": 2
           },
           "text": [
            "LAnkle"
           ],
           "type": "scatter3d",
           "x": [
            0.12191274762153625,
            0.1460893601179123
           ],
           "y": [
            -0.11676311492919922,
            0.38343143463134766
           ],
           "z": [
            0.09660530090332031,
            0.2693805694580078
           ]
          },
          {
           "line": {
            "color": "black",
            "width": 5
           },
           "marker": {
            "color": "blue",
            "size": 2
           },
           "text": [
            "Spine1"
           ],
           "type": "scatter3d",
           "x": [
            0.10621404647827148,
            0.08945285528898239
           ],
           "y": [
            1.2162137031555176,
            0.9362757205963135
           ],
           "z": [
            0.17953014373779297,
            0.1592569351196289
           ]
          },
          {
           "line": {
            "color": "black",
            "width": 5
           },
           "marker": {
            "color": "blue",
            "size": 2
           },
           "text": [
            "Neck"
           ],
           "type": "scatter3d",
           "x": [
            0.12682980298995972,
            0.10621404647827148
           ],
           "y": [
            1.4692847728729248,
            1.2162137031555176
           ],
           "z": [
            0.1666431427001953,
            0.17953014373779297
           ]
          },
          {
           "line": {
            "color": "black",
            "width": 5
           },
           "marker": {
            "color": "blue",
            "size": 2
           },
           "text": [
            "Head"
           ],
           "type": "scatter3d",
           "x": [
            0.12022276967763901,
            0.12682980298995972
           ],
           "y": [
            1.5794822573661804,
            1.4692847728729248
           ],
           "z": [
            0.17938232421875,
            0.1666431427001953
           ]
          },
          {
           "line": {
            "color": "black",
            "width": 5
           },
           "marker": {
            "color": "blue",
            "size": 2
           },
           "text": [
            "Site"
           ],
           "type": "scatter3d",
           "x": [
            0.10800205171108246,
            0.12022276967763901
           ],
           "y": [
            1.6692928671836853,
            1.5794822573661804
           ],
           "z": [
            0.25044822692871094,
            0.17938232421875
           ]
          },
          {
           "line": {
            "color": "black",
            "width": 5
           },
           "marker": {
            "color": "blue",
            "size": 2
           },
           "text": [
            "LShoulder"
           ],
           "type": "scatter3d",
           "x": [
            0.34809496998786926,
            0.12682980298995972
           ],
           "y": [
            1.3704676628112793,
            1.4692847728729248
           ],
           "z": [
            0.184783935546875,
            0.1666431427001953
           ]
          },
          {
           "line": {
            "color": "black",
            "width": 5
           },
           "marker": {
            "color": "blue",
            "size": 2
           },
           "text": [
            "LElbow"
           ],
           "type": "scatter3d",
           "x": [
            0.42403727769851685,
            0.34809496998786926
           ],
           "y": [
            0.8978193998336792,
            1.3704676628112793
           ],
           "z": [
            0.20572662353515625,
            0.184783935546875
           ]
          },
          {
           "line": {
            "color": "black",
            "width": 5
           },
           "marker": {
            "color": "blue",
            "size": 2
           },
           "text": [
            "LWrist"
           ],
           "type": "scatter3d",
           "x": [
            0.46358123421669006,
            0.42403727769851685
           ],
           "y": [
            0.8395411968231201,
            0.8978193998336792
           ],
           "z": [
            0.2466564178466797,
            0.20572662353515625
           ]
          },
          {
           "line": {
            "color": "red",
            "width": 5
           },
           "marker": {
            "color": "blue",
            "size": 2
           },
           "text": [
            "RShoulder"
           ],
           "type": "scatter3d",
           "x": [
            -0.09328984469175339,
            0.12682980298995972
           ],
           "y": [
            1.4087406396865845,
            1.4692847728729248
           ],
           "z": [
            0.22990131378173828,
            0.1666431427001953
           ]
          },
          {
           "line": {
            "color": "red",
            "width": 5
           },
           "marker": {
            "color": "blue",
            "size": 2
           },
           "text": [
            "RElbow"
           ],
           "type": "scatter3d",
           "x": [
            -0.2025776505470276,
            -0.09328984469175339
           ],
           "y": [
            0.9030660390853882,
            1.4087406396865845
           ],
           "z": [
            0.18494510650634766,
            0.22990131378173828
           ]
          },
          {
           "line": {
            "color": "red",
            "width": 5
           },
           "marker": {
            "color": "blue",
            "size": 2
           },
           "text": [
            "RWrist"
           ],
           "type": "scatter3d",
           "x": [
            -0.22086840867996216,
            -0.2025776505470276
           ],
           "y": [
            0.8265640735626221,
            0.9030660390853882
           ],
           "z": [
            0.21044063568115234,
            0.18494510650634766
           ]
          },
          {
           "line": {
            "color": "#1f77b4",
            "width": 1
           },
           "marker": {
            "color": "#1f77b4",
            "size": 1
           },
           "type": "scatter3d",
           "x": [],
           "y": [],
           "z": []
          }
         ],
         "name": "frame1"
        },
        {
         "data": [
          {
           "line": {
            "color": "red",
            "width": 5
           },
           "marker": {
            "color": "blue",
            "size": 2
           },
           "text": [
            "RHip"
           ],
           "type": "scatter3d",
           "x": [
            -0.05751851946115494,
            0.05494445562362671
           ],
           "y": [
            0.808623194694519,
            0.9238623380661011
           ],
           "z": [
            0.6269035339355469,
            0.5889568328857422
           ]
          },
          {
           "line": {
            "color": "red",
            "width": 5
           },
           "marker": {
            "color": "blue",
            "size": 2
           },
           "text": [
            "RKnee"
           ],
           "type": "scatter3d",
           "x": [
            -0.015006214380264282,
            -0.05751851946115494
           ],
           "y": [
            0.40982067584991455,
            0.808623194694519
           ],
           "z": [
            0.8043994903564453,
            0.6269035339355469
           ]
          },
          {
           "line": {
            "color": "red",
            "width": 5
           },
           "marker": {
            "color": "blue",
            "size": 2
           },
           "text": [
            "RAnkle"
           ],
           "type": "scatter3d",
           "x": [
            -0.018548473715782166,
            -0.015006214380264282
           ],
           "y": [
            -0.12081718444824219,
            0.40982067584991455
           ],
           "z": [
            0.7694406509399414,
            0.8043994903564453
           ]
          },
          {
           "line": {
            "color": "black",
            "width": 5
           },
           "marker": {
            "color": "blue",
            "size": 2
           },
           "text": [
            "LHip"
           ],
           "type": "scatter3d",
           "x": [
            0.15727877616882324,
            0.05494445562362671
           ],
           "y": [
            0.7935845851898193,
            0.9238623380661011
           ],
           "z": [
            0.6162576675415039,
            0.5889568328857422
           ]
          },
          {
           "line": {
            "color": "black",
            "width": 5
           },
           "marker": {
            "color": "blue",
            "size": 2
           },
           "text": [
            "LKnee"
           ],
           "type": "scatter3d",
           "x": [
            0.12888862192630768,
            0.15727877616882324
           ],
           "y": [
            0.37063097953796387,
            0.7935845851898193
           ],
           "z": [
            0.5040702819824219,
            0.6162576675415039
           ]
          },
          {
           "line": {
            "color": "black",
            "width": 5
           },
           "marker": {
            "color": "blue",
            "size": 2
           },
           "text": [
            "LAnkle"
           ],
           "type": "scatter3d",
           "x": [
            0.12242358177900314,
            0.12888862192630768
           ],
           "y": [
            -0.032044410705566406,
            0.37063097953796387
           ],
           "z": [
            0.15991783142089844,
            0.5040702819824219
           ]
          },
          {
           "line": {
            "color": "black",
            "width": 5
           },
           "marker": {
            "color": "blue",
            "size": 2
           },
           "text": [
            "Spine1"
           ],
           "type": "scatter3d",
           "x": [
            0.05692664533853531,
            0.05494445562362671
           ],
           "y": [
            1.2047806978225708,
            0.9238623380661011
           ],
           "z": [
            0.5951528549194336,
            0.5889568328857422
           ]
          },
          {
           "line": {
            "color": "black",
            "width": 5
           },
           "marker": {
            "color": "blue",
            "size": 2
           },
           "text": [
            "Neck"
           ],
           "type": "scatter3d",
           "x": [
            0.054351989179849625,
            0.05692664533853531
           ],
           "y": [
            1.4551589488983154,
            1.2047806978225708
           ],
           "z": [
            0.5659198760986328,
            0.5951528549194336
           ]
          },
          {
           "line": {
            "color": "black",
            "width": 5
           },
           "marker": {
            "color": "blue",
            "size": 2
           },
           "text": [
            "Head"
           ],
           "type": "scatter3d",
           "x": [
            0.05413974076509476,
            0.054351989179849625
           ],
           "y": [
            1.565288782119751,
            1.4551589488983154
           ],
           "z": [
            0.5510597229003906,
            0.5659198760986328
           ]
          },
          {
           "line": {
            "color": "black",
            "width": 5
           },
           "marker": {
            "color": "blue",
            "size": 2
           },
           "text": [
            "Site"
           ],
           "type": "scatter3d",
           "x": [
            0.04661114513874054,
            0.05413974076509476
           ],
           "y": [
            1.672288954257965,
            1.565288782119751
           ],
           "z": [
            0.5930118560791016,
            0.5510597229003906
           ]
          },
          {
           "line": {
            "color": "black",
            "width": 5
           },
           "marker": {
            "color": "blue",
            "size": 2
           },
           "text": [
            "LShoulder"
           ],
           "type": "scatter3d",
           "x": [
            0.27577483654022217,
            0.054351989179849625
           ],
           "y": [
            1.3882680535316467,
            1.4551589488983154
           ],
           "z": [
            0.6228322982788086,
            0.5659198760986328
           ]
          },
          {
           "line": {
            "color": "black",
            "width": 5
           },
           "marker": {
            "color": "blue",
            "size": 2
           },
           "text": [
            "LElbow"
           ],
           "type": "scatter3d",
           "x": [
            0.3804469406604767,
            0.27577483654022217
           ],
           "y": [
            0.9143146276473999,
            1.3882680535316467
           ],
           "z": [
            0.6273288726806641,
            0.6228322982788086
           ]
          },
          {
           "line": {
            "color": "black",
            "width": 5
           },
           "marker": {
            "color": "blue",
            "size": 2
           },
           "text": [
            "LWrist"
           ],
           "type": "scatter3d",
           "x": [
            0.4156246483325958,
            0.3804469406604767
           ],
           "y": [
            0.8530375957489014,
            0.9143146276473999
           ],
           "z": [
            0.6678619384765625,
            0.6273288726806641
           ]
          },
          {
           "line": {
            "color": "red",
            "width": 5
           },
           "marker": {
            "color": "blue",
            "size": 2
           },
           "text": [
            "RShoulder"
           ],
           "type": "scatter3d",
           "x": [
            -0.16920246183872223,
            0.054351989179849625
           ],
           "y": [
            1.3715118765830994,
            1.4551589488983154
           ],
           "z": [
            0.6168813705444336,
            0.5659198760986328
           ]
          },
          {
           "line": {
            "color": "red",
            "width": 5
           },
           "marker": {
            "color": "blue",
            "size": 2
           },
           "text": [
            "RElbow"
           ],
           "type": "scatter3d",
           "x": [
            -0.20763036608695984,
            -0.16920246183872223
           ],
           "y": [
            0.8496273756027222,
            1.3715118765830994
           ],
           "z": [
            0.5325736999511719,
            0.6168813705444336
           ]
          },
          {
           "line": {
            "color": "red",
            "width": 5
           },
           "marker": {
            "color": "blue",
            "size": 2
           },
           "text": [
            "RWrist"
           ],
           "type": "scatter3d",
           "x": [
            -0.22008457779884338,
            -0.20763036608695984
           ],
           "y": [
            0.7682080268859863,
            0.8496273756027222
           ],
           "z": [
            0.5398454666137695,
            0.5325736999511719
           ]
          },
          {
           "line": {
            "color": "#1f77b4",
            "width": 1
           },
           "marker": {
            "color": "#1f77b4",
            "size": 1
           },
           "type": "scatter3d",
           "x": [
            0.08945285528898239
           ],
           "y": [
            0.9362757205963135
           ],
           "z": [
            0.1592569351196289
           ]
          }
         ],
         "name": "frame2"
        },
        {
         "data": [
          {
           "line": {
            "color": "red",
            "width": 5
           },
           "marker": {
            "color": "blue",
            "size": 2
           },
           "text": [
            "RHip"
           ],
           "type": "scatter3d",
           "x": [
            -0.0863649994134903,
            0.029142921790480614
           ],
           "y": [
            0.8210949897766113,
            0.93375563621521
           ],
           "z": [
            1.0202131271362305,
            0.9836969375610352
           ]
          },
          {
           "line": {
            "color": "red",
            "width": 5
           },
           "marker": {
            "color": "blue",
            "size": 2
           },
           "text": [
            "RKnee"
           ],
           "type": "scatter3d",
           "x": [
            -0.03017488680779934,
            -0.0863649994134903
           ],
           "y": [
            0.3882167339324951,
            0.8210949897766113
           ],
           "z": [
            0.9776163101196289,
            1.0202131271362305
           ]
          },
          {
           "line": {
            "color": "red",
            "width": 5
           },
           "marker": {
            "color": "blue",
            "size": 2
           },
           "text": [
            "RAnkle"
           ],
           "type": "scatter3d",
           "x": [
            -0.002962922677397728,
            -0.03017488680779934
           ],
           "y": [
            -0.10386800765991211,
            0.3882167339324951
           ],
           "z": [
            0.7778072357177734,
            0.9776163101196289
           ]
          },
          {
           "line": {
            "color": "black",
            "width": 5
           },
           "marker": {
            "color": "blue",
            "size": 2
           },
           "text": [
            "LHip"
           ],
           "type": "scatter3d",
           "x": [
            0.12841135263442993,
            0.029142921790480614
           ],
           "y": [
            0.8026282787322998,
            0.93375563621521
           ],
           "z": [
            1.0174808502197266,
            0.9836969375610352
           ]
          },
          {
           "line": {
            "color": "black",
            "width": 5
           },
           "marker": {
            "color": "blue",
            "size": 2
           },
           "text": [
            "LKnee"
           ],
           "type": "scatter3d",
           "x": [
            0.10411337018013,
            0.12841135263442993
           ],
           "y": [
            0.4312152862548828,
            0.8026282787322998
           ],
           "z": [
            1.249307632446289,
            1.0174808502197266
           ]
          },
          {
           "line": {
            "color": "black",
            "width": 5
           },
           "marker": {
            "color": "blue",
            "size": 2
           },
           "text": [
            "LAnkle"
           ],
           "type": "scatter3d",
           "x": [
            0.08717090636491776,
            0.10411337018013
           ],
           "y": [
            -0.09688901901245117,
            0.4312152862548828
           ],
           "z": [
            1.2873754501342773,
            1.249307632446289
           ]
          },
          {
           "line": {
            "color": "black",
            "width": 5
           },
           "marker": {
            "color": "blue",
            "size": 2
           },
           "text": [
            "Spine1"
           ],
           "type": "scatter3d",
           "x": [
            0.014028757810592651,
            0.029142921790480614
           ],
           "y": [
            1.2130988836288452,
            0.93375563621521
           ],
           "z": [
            1.0119342803955078,
            0.9836969375610352
           ]
          },
          {
           "line": {
            "color": "black",
            "width": 5
           },
           "marker": {
            "color": "blue",
            "size": 2
           },
           "text": [
            "Neck"
           ],
           "type": "scatter3d",
           "x": [
            0.010744165629148483,
            0.014028757810592651
           ],
           "y": [
            1.4651546478271484,
            1.2130988836288452
           ],
           "z": [
            0.9990835189819336,
            1.0119342803955078
           ]
          },
          {
           "line": {
            "color": "black",
            "width": 5
           },
           "marker": {
            "color": "blue",
            "size": 2
           },
           "text": [
            "Head"
           ],
           "type": "scatter3d",
           "x": [
            0.01373702846467495,
            0.010744165629148483
           ],
           "y": [
            1.5761247277259827,
            1.4651546478271484
           ],
           "z": [
            0.9939708709716797,
            0.9990835189819336
           ]
          },
          {
           "line": {
            "color": "black",
            "width": 5
           },
           "marker": {
            "color": "blue",
            "size": 2
           },
           "text": [
            "Site"
           ],
           "type": "scatter3d",
           "x": [
            0.024150250479578972,
            0.01373702846467495
           ],
           "y": [
            1.6783040165901184,
            1.5761247277259827
           ],
           "z": [
            1.0460920333862305,
            0.9939708709716797
           ]
          },
          {
           "line": {
            "color": "black",
            "width": 5
           },
           "marker": {
            "color": "blue",
            "size": 2
           },
           "text": [
            "LShoulder"
           ],
           "type": "scatter3d",
           "x": [
            0.2428005039691925,
            0.010744165629148483
           ],
           "y": [
            1.385355830192566,
            1.4651546478271484
           ],
           "z": [
            1.0298042297363281,
            0.9990835189819336
           ]
          },
          {
           "line": {
            "color": "black",
            "width": 5
           },
           "marker": {
            "color": "blue",
            "size": 2
           },
           "text": [
            "LElbow"
           ],
           "type": "scatter3d",
           "x": [
            0.27990299463272095,
            0.2428005039691925
           ],
           "y": [
            0.8988479375839233,
            1.385355830192566
           ],
           "z": [
            0.866511344909668,
            1.0298042297363281
           ]
          },
          {
           "line": {
            "color": "black",
            "width": 5
           },
           "marker": {
            "color": "blue",
            "size": 2
           },
           "text": [
            "LWrist"
           ],
           "type": "scatter3d",
           "x": [
            0.30447638034820557,
            0.27990299463272095
           ],
           "y": [
            0.8220945596694946,
            0.8988479375839233
           ],
           "z": [
            0.8546638488769531,
            0.866511344909668
           ]
          },
          {
           "line": {
            "color": "red",
            "width": 5
           },
           "marker": {
            "color": "blue",
            "size": 2
           },
           "text": [
            "RShoulder"
           ],
           "type": "scatter3d",
           "x": [
            -0.20109307765960693,
            0.010744165629148483
           ],
           "y": [
            1.387039840221405,
            1.4651546478271484
           ],
           "z": [
            1.0655345916748047,
            0.9990835189819336
           ]
          },
          {
           "line": {
            "color": "red",
            "width": 5
           },
           "marker": {
            "color": "blue",
            "size": 2
           },
           "text": [
            "RElbow"
           ],
           "type": "scatter3d",
           "x": [
            -0.2908673882484436,
            -0.20109307765960693
           ],
           "y": [
            0.8837281465530396,
            1.387039840221405
           ],
           "z": [
            1.1290159225463867,
            1.0655345916748047
           ]
          },
          {
           "line": {
            "color": "red",
            "width": 5
           },
           "marker": {
            "color": "blue",
            "size": 2
           },
           "text": [
            "RWrist"
           ],
           "type": "scatter3d",
           "x": [
            -0.3044931888580322,
            -0.2908673882484436
           ],
           "y": [
            0.8153194189071655,
            0.8837281465530396
           ],
           "z": [
            1.1734199523925781,
            1.1290159225463867
           ]
          },
          {
           "line": {
            "color": "#1f77b4",
            "width": 1
           },
           "marker": {
            "color": "#1f77b4",
            "size": 1
           },
           "type": "scatter3d",
           "x": [
            0.08945285528898239,
            0.05494445562362671
           ],
           "y": [
            0.9362757205963135,
            0.9238623380661011
           ],
           "z": [
            0.1592569351196289,
            0.5889568328857422
           ]
          }
         ],
         "name": "frame3"
        },
        {
         "data": [
          {
           "line": {
            "color": "red",
            "width": 5
           },
           "marker": {
            "color": "blue",
            "size": 2
           },
           "text": [
            "RHip"
           ],
           "type": "scatter3d",
           "x": [
            -0.021183818578720093,
            0.08420485258102417
           ],
           "y": [
            0.8263452053070068,
            0.9504156112670898
           ],
           "z": [
            1.517247200012207,
            1.4877901077270508
           ]
          },
          {
           "line": {
            "color": "red",
            "width": 5
           },
           "marker": {
            "color": "blue",
            "size": 2
           },
           "text": [
            "RKnee"
           ],
           "type": "scatter3d",
           "x": [
            -0.006965942680835724,
            -0.021183818578720093
           ],
           "y": [
            0.4096120595932007,
            0.8263452053070068
           ],
           "z": [
            1.6532135009765625,
            1.517247200012207
           ]
          },
          {
           "line": {
            "color": "red",
            "width": 5
           },
           "marker": {
            "color": "blue",
            "size": 2
           },
           "text": [
            "RAnkle"
           ],
           "type": "scatter3d",
           "x": [
            0.01992255449295044,
            -0.006965942680835724
           ],
           "y": [
            0.011557579040527344,
            0.4096120595932007
           ],
           "z": [
            1.3015871047973633,
            1.6532135009765625
           ]
          },
          {
           "line": {
            "color": "black",
            "width": 5
           },
           "marker": {
            "color": "blue",
            "size": 2
           },
           "text": [
            "LHip"
           ],
           "type": "scatter3d",
           "x": [
            0.19436782598495483,
            0.08420485258102417
           ],
           "y": [
            0.8280595541000366,
            0.9504156112670898
           ],
           "z": [
            1.520700454711914,
            1.4877901077270508
           ]
          },
          {
           "line": {
            "color": "black",
            "width": 5
           },
           "marker": {
            "color": "blue",
            "size": 2
           },
           "text": [
            "LKnee"
           ],
           "type": "scatter3d",
           "x": [
            0.13964562118053436,
            0.19436782598495483
           ],
           "y": [
            0.40446484088897705,
            0.8280595541000366
           ],
           "z": [
            1.6199712753295898,
            1.520700454711914
           ]
          },
          {
           "line": {
            "color": "black",
            "width": 5
           },
           "marker": {
            "color": "blue",
            "size": 2
           },
           "text": [
            "LAnkle"
           ],
           "type": "scatter3d",
           "x": [
            0.12345191836357117,
            0.13964562118053436
           ],
           "y": [
            -0.10056948661804199,
            0.40446484088897705
           ],
           "z": [
            1.460886001586914,
            1.6199712753295898
           ]
          },
          {
           "line": {
            "color": "black",
            "width": 5
           },
           "marker": {
            "color": "blue",
            "size": 2
           },
           "text": [
            "Spine1"
           ],
           "type": "scatter3d",
           "x": [
            0.09751395881175995,
            0.08420485258102417
           ],
           "y": [
            1.2309666872024536,
            0.9504156112670898
           ],
           "z": [
            1.5000553131103516,
            1.4877901077270508
           ]
          },
          {
           "line": {
            "color": "black",
            "width": 5
           },
           "marker": {
            "color": "blue",
            "size": 2
           },
           "text": [
            "Neck"
           ],
           "type": "scatter3d",
           "x": [
            0.10533054172992706,
            0.09751395881175995
           ],
           "y": [
            1.4834908843040466,
            1.2309666872024536
           ],
           "z": [
            1.4754571914672852,
            1.5000553131103516
           ]
          },
          {
           "line": {
            "color": "black",
            "width": 5
           },
           "marker": {
            "color": "blue",
            "size": 2
           },
           "text": [
            "Head"
           ],
           "type": "scatter3d",
           "x": [
            0.11033333092927933,
            0.10533054172992706
           ],
           "y": [
            1.5944556593894958,
            1.4834908843040466
           ],
           "z": [
            1.4788084030151367,
            1.4754571914672852
           ]
          },
          {
           "line": {
            "color": "black",
            "width": 5
           },
           "marker": {
            "color": "blue",
            "size": 2
           },
           "text": [
            "Site"
           ],
           "type": "scatter3d",
           "x": [
            0.12005330622196198,
            0.11033333092927933
           ],
           "y": [
            1.6910406351089478,
            1.5944556593894958
           ],
           "z": [
            1.5407962799072266,
            1.4788084030151367
           ]
          },
          {
           "line": {
            "color": "black",
            "width": 5
           },
           "marker": {
            "color": "blue",
            "size": 2
           },
           "text": [
            "LShoulder"
           ],
           "type": "scatter3d",
           "x": [
            0.33218592405319214,
            0.10533054172992706
           ],
           "y": [
            1.3960096836090088,
            1.4834908843040466
           ],
           "z": [
            1.495793342590332,
            1.4754571914672852
           ]
          },
          {
           "line": {
            "color": "black",
            "width": 5
           },
           "marker": {
            "color": "blue",
            "size": 2
           },
           "text": [
            "LElbow"
           ],
           "type": "scatter3d",
           "x": [
            0.4086776673793793,
            0.33218592405319214
           ],
           "y": [
            0.9077967405319214,
            1.3960096836090088
           ],
           "z": [
            1.5362329483032227,
            1.495793342590332
           ]
          },
          {
           "line": {
            "color": "black",
            "width": 5
           },
           "marker": {
            "color": "blue",
            "size": 2
           },
           "text": [
            "LWrist"
           ],
           "type": "scatter3d",
           "x": [
            0.44258278608322144,
            0.4086776673793793
           ],
           "y": [
            0.8435153961181641,
            0.9077967405319214
           ],
           "z": [
            1.5730247497558594,
            1.5362329483032227
           ]
          },
          {
           "line": {
            "color": "red",
            "width": 5
           },
           "marker": {
            "color": "blue",
            "size": 2
           },
           "text": [
            "RShoulder"
           ],
           "type": "scatter3d",
           "x": [
            -0.10969239473342896,
            0.10533054172992706
           ],
           "y": [
            1.415972650051117,
            1.4834908843040466
           ],
           "z": [
            1.5474271774291992,
            1.4754571914672852
           ]
          },
          {
           "line": {
            "color": "red",
            "width": 5
           },
           "marker": {
            "color": "blue",
            "size": 2
           },
           "text": [
            "RElbow"
           ],
           "type": "scatter3d",
           "x": [
            -0.18938174843788147,
            -0.10969239473342896
           ],
           "y": [
            0.89984130859375,
            1.415972650051117
           ],
           "z": [
            1.4910354614257812,
            1.5474271774291992
           ]
          },
          {
           "line": {
            "color": "red",
            "width": 5
           },
           "marker": {
            "color": "blue",
            "size": 2
           },
           "text": [
            "RWrist"
           ],
           "type": "scatter3d",
           "x": [
            -0.20626461505889893,
            -0.18938174843788147
           ],
           "y": [
            0.8208736181259155,
            0.89984130859375
           ],
           "z": [
            1.5088157653808594,
            1.4910354614257812
           ]
          },
          {
           "line": {
            "color": "#1f77b4",
            "width": 1
           },
           "marker": {
            "color": "#1f77b4",
            "size": 1
           },
           "type": "scatter3d",
           "x": [
            0.08945285528898239,
            0.05494445562362671,
            0.029142921790480614
           ],
           "y": [
            0.9362757205963135,
            0.9238623380661011,
            0.93375563621521
           ],
           "z": [
            0.1592569351196289,
            0.5889568328857422,
            0.9836969375610352
           ]
          }
         ],
         "name": "frame4"
        },
        {
         "data": [
          {
           "line": {
            "color": "red",
            "width": 5
           },
           "marker": {
            "color": "blue",
            "size": 2
           },
           "text": [
            "RHip"
           ],
           "type": "scatter3d",
           "x": [
            -0.06299198418855667,
            0.049391523003578186
           ],
           "y": [
            0.8262137174606323,
            0.9415889978408813
           ],
           "z": [
            2.0196895599365234,
            1.9819211959838867
           ]
          },
          {
           "line": {
            "color": "red",
            "width": 5
           },
           "marker": {
            "color": "blue",
            "size": 2
           },
           "text": [
            "RKnee"
           ],
           "type": "scatter3d",
           "x": [
            -0.010059721767902374,
            -0.06299198418855667
           ],
           "y": [
            0.4294404983520508,
            0.8262137174606323
           ],
           "z": [
            2.198923110961914,
            2.0196895599365234
           ]
          },
          {
           "line": {
            "color": "red",
            "width": 5
           },
           "marker": {
            "color": "blue",
            "size": 2
           },
           "text": [
            "RAnkle"
           ],
           "type": "scatter3d",
           "x": [
            -0.015476353466510773,
            -0.010059721767902374
           ],
           "y": [
            -0.09833240509033203,
            0.4294404983520508
           ],
           "z": [
            2.1338233947753906,
            2.198923110961914
           ]
          },
          {
           "line": {
            "color": "black",
            "width": 5
           },
           "marker": {
            "color": "blue",
            "size": 2
           },
           "text": [
            "LHip"
           ],
           "type": "scatter3d",
           "x": [
            0.15229859948158264,
            0.049391523003578186
           ],
           "y": [
            0.8157215118408203,
            0.9415889978408813
           ],
           "z": [
            2.023843288421631,
            1.9819211959838867
           ]
          },
          {
           "line": {
            "color": "black",
            "width": 5
           },
           "marker": {
            "color": "blue",
            "size": 2
           },
           "text": [
            "LKnee"
           ],
           "type": "scatter3d",
           "x": [
            0.12247196584939957,
            0.15229859948158264
           ],
           "y": [
            0.38234376907348633,
            0.8157215118408203
           ],
           "z": [
            1.9640445709228516,
            2.023843288421631
           ]
          },
          {
           "line": {
            "color": "black",
            "width": 5
           },
           "marker": {
            "color": "blue",
            "size": 2
           },
           "text": [
            "LAnkle"
           ],
           "type": "scatter3d",
           "x": [
            0.11608230322599411,
            0.12247196584939957
           ],
           "y": [
            0.017541885375976562,
            0.38234376907348633
           ],
           "z": [
            1.5799760818481445,
            1.9640445709228516
           ]
          },
          {
           "line": {
            "color": "black",
            "width": 5
           },
           "marker": {
            "color": "blue",
            "size": 2
           },
           "text": [
            "Spine1"
           ],
           "type": "scatter3d",
           "x": [
            0.04463638365268707,
            0.049391523003578186
           ],
           "y": [
            1.2224278450012207,
            0.9415889978408813
           ],
           "z": [
            1.992875099182129,
            1.9819211959838867
           ]
          },
          {
           "line": {
            "color": "black",
            "width": 5
           },
           "marker": {
            "color": "blue",
            "size": 2
           },
           "text": [
            "Neck"
           ],
           "type": "scatter3d",
           "x": [
            0.0294790081679821,
            0.04463638365268707
           ],
           "y": [
            1.4752124547958374,
            1.2224278450012207
           ],
           "z": [
            1.975113868713379,
            1.992875099182129
           ]
          },
          {
           "line": {
            "color": "black",
            "width": 5
           },
           "marker": {
            "color": "blue",
            "size": 2
           },
           "text": [
            "Head"
           ],
           "type": "scatter3d",
           "x": [
            0.02844029851257801,
            0.0294790081679821
           ],
           "y": [
            1.5853979587554932,
            1.4752124547958374
           ],
           "z": [
            1.9895191192626953,
            1.975113868713379
           ]
          },
          {
           "line": {
            "color": "black",
            "width": 5
           },
           "marker": {
            "color": "blue",
            "size": 2
           },
           "text": [
            "Site"
           ],
           "type": "scatter3d",
           "x": [
            0.03557218611240387,
            0.02844029851257801
           ],
           "y": [
            1.6726118922233582,
            1.5853979587554932
           ],
           "z": [
            2.0644097328186035,
            1.9895191192626953
           ]
          },
          {
           "line": {
            "color": "black",
            "width": 5
           },
           "marker": {
            "color": "blue",
            "size": 2
           },
           "text": [
            "LShoulder"
           ],
           "type": "scatter3d",
           "x": [
            0.26455166935920715,
            0.0294790081679821
           ],
           "y": [
            1.4062297940254211,
            1.4752124547958374
           ],
           "z": [
            2.006380081176758,
            1.975113868713379
           ]
          },
          {
           "line": {
            "color": "black",
            "width": 5
           },
           "marker": {
            "color": "blue",
            "size": 2
           },
           "text": [
            "LElbow"
           ],
           "type": "scatter3d",
           "x": [
            0.4071531295776367,
            0.26455166935920715
           ],
           "y": [
            0.9371953010559082,
            1.4062297940254211
           ],
           "z": [
            1.9811410903930664,
            2.006380081176758
           ]
          },
          {
           "line": {
            "color": "black",
            "width": 5
           },
           "marker": {
            "color": "blue",
            "size": 2
           },
           "text": [
            "LWrist"
           ],
           "type": "scatter3d",
           "x": [
            0.4515851140022278,
            0.4071531295776367
           ],
           "y": [
            0.8760550022125244,
            0.9371953010559082
           ],
           "z": [
            2.011521339416504,
            1.9811410903930664
           ]
          },
          {
           "line": {
            "color": "red",
            "width": 5
           },
           "marker": {
            "color": "blue",
            "size": 2
           },
           "text": [
            "RShoulder"
           ],
           "type": "scatter3d",
           "x": [
            -0.17962969839572906,
            0.0294790081679821
           ],
           "y": [
            1.388290286064148,
            1.4752124547958374
           ],
           "z": [
            2.032876491546631,
            1.975113868713379
           ]
          },
          {
           "line": {
            "color": "red",
            "width": 5
           },
           "marker": {
            "color": "blue",
            "size": 2
           },
           "text": [
            "RElbow"
           ],
           "type": "scatter3d",
           "x": [
            -0.23967112600803375,
            -0.17962969839572906
           ],
           "y": [
            0.8670960664749146,
            1.388290286064148
           ],
           "z": [
            1.965043067932129,
            2.032876491546631
           ]
          },
          {
           "line": {
            "color": "red",
            "width": 5
           },
           "marker": {
            "color": "blue",
            "size": 2
           },
           "text": [
            "RWrist"
           ],
           "type": "scatter3d",
           "x": [
            -0.25648999214172363,
            -0.23967112600803375
           ],
           "y": [
            0.7868738174438477,
            0.8670960664749146
           ],
           "z": [
            1.9759330749511719,
            1.965043067932129
           ]
          },
          {
           "line": {
            "color": "#1f77b4",
            "width": 1
           },
           "marker": {
            "color": "#1f77b4",
            "size": 1
           },
           "type": "scatter3d",
           "x": [
            0.08945285528898239,
            0.05494445562362671,
            0.029142921790480614,
            0.08420485258102417
           ],
           "y": [
            0.9362757205963135,
            0.9238623380661011,
            0.93375563621521,
            0.9504156112670898
           ],
           "z": [
            0.1592569351196289,
            0.5889568328857422,
            0.9836969375610352,
            1.4877901077270508
           ]
          }
         ],
         "name": "frame5"
        },
        {
         "data": [
          {
           "line": {
            "color": "red",
            "width": 5
           },
           "marker": {
            "color": "blue",
            "size": 2
           },
           "text": [
            "RHip"
           ],
           "type": "scatter3d",
           "x": [
            -0.08316461741924286,
            0.03476512059569359
           ],
           "y": [
            0.847511887550354,
            0.9601356983184814
           ],
           "z": [
            2.484895706176758,
            2.457031726837158
           ]
          },
          {
           "line": {
            "color": "red",
            "width": 5
           },
           "marker": {
            "color": "blue",
            "size": 2
           },
           "text": [
            "RKnee"
           ],
           "type": "scatter3d",
           "x": [
            -0.05016836151480675,
            -0.08316461741924286
           ],
           "y": [
            0.4375647306442261,
            0.847511887550354
           ],
           "z": [
            2.332547187805176,
            2.484895706176758
           ]
          },
          {
           "line": {
            "color": "red",
            "width": 5
           },
           "marker": {
            "color": "blue",
            "size": 2
           },
           "text": [
            "RAnkle"
           ],
           "type": "scatter3d",
           "x": [
            -0.010159071534872055,
            -0.05016836151480675
           ],
           "y": [
            -0.05951261520385742,
            0.4375647306442261
           ],
           "z": [
            2.1478185653686523,
            2.332547187805176
           ]
          },
          {
           "line": {
            "color": "black",
            "width": 5
           },
           "marker": {
            "color": "blue",
            "size": 2
           },
           "text": [
            "LHip"
           ],
           "type": "scatter3d",
           "x": [
            0.13127709925174713,
            0.03476512059569359
           ],
           "y": [
            0.8284749984741211,
            0.9601356983184814
           ],
           "z": [
            2.4962854385375977,
            2.457031726837158
           ]
          },
          {
           "line": {
            "color": "black",
            "width": 5
           },
           "marker": {
            "color": "blue",
            "size": 2
           },
           "text": [
            "LKnee"
           ],
           "type": "scatter3d",
           "x": [
            0.1007755696773529,
            0.13127709925174713
           ],
           "y": [
            0.4422595500946045,
            0.8284749984741211
           ],
           "z": [
            2.7016854286193848,
            2.4962854385375977
           ]
          },
          {
           "line": {
            "color": "black",
            "width": 5
           },
           "marker": {
            "color": "blue",
            "size": 2
           },
           "text": [
            "LAnkle"
           ],
           "type": "scatter3d",
           "x": [
            0.11299289762973785,
            0.1007755696773529
           ],
           "y": [
            -0.08334779739379883,
            0.4422595500946045
           ],
           "z": [
            2.7666306495666504,
            2.7016854286193848
           ]
          },
          {
           "line": {
            "color": "black",
            "width": 5
           },
           "marker": {
            "color": "blue",
            "size": 2
           },
           "text": [
            "Spine1"
           ],
           "type": "scatter3d",
           "x": [
            0.02114972285926342,
            0.03476512059569359
           ],
           "y": [
            1.2405831813812256,
            0.9601356983184814
           ],
           "z": [
            2.471609592437744,
            2.457031726837158
           ]
          },
          {
           "line": {
            "color": "black",
            "width": 5
           },
           "marker": {
            "color": "blue",
            "size": 2
           },
           "text": [
            "Neck"
           ],
           "type": "scatter3d",
           "x": [
            0.02052152529358864,
            0.02114972285926342
           ],
           "y": [
            1.4931406378746033,
            1.2405831813812256
           ],
           "z": [
            2.4513750076293945,
            2.471609592437744
           ]
          },
          {
           "line": {
            "color": "black",
            "width": 5
           },
           "marker": {
            "color": "blue",
            "size": 2
           },
           "text": [
            "Head"
           ],
           "type": "scatter3d",
           "x": [
            0.024399448186159134,
            0.02052152529358864
           ],
           "y": [
            1.6040124893188477,
            1.4931406378746033
           ],
           "z": [
            2.457843780517578,
            2.4513750076293945
           ]
          },
          {
           "line": {
            "color": "black",
            "width": 5
           },
           "marker": {
            "color": "blue",
            "size": 2
           },
           "text": [
            "Site"
           ],
           "type": "scatter3d",
           "x": [
            0.035534050315618515,
            0.024399448186159134
           ],
           "y": [
            1.6974294185638428,
            1.6040124893188477
           ],
           "z": [
            2.524289131164551,
            2.457843780517578
           ]
          },
          {
           "line": {
            "color": "black",
            "width": 5
           },
           "marker": {
            "color": "blue",
            "size": 2
           },
           "text": [
            "LShoulder"
           ],
           "type": "scatter3d",
           "x": [
            0.25099867582321167,
            0.02052152529358864
           ],
           "y": [
            1.411643624305725,
            1.4931406378746033
           ],
           "z": [
            2.486973285675049,
            2.4513750076293945
           ]
          },
          {
           "line": {
            "color": "black",
            "width": 5
           },
           "marker": {
            "color": "blue",
            "size": 2
           },
           "text": [
            "LElbow"
           ],
           "type": "scatter3d",
           "x": [
            0.2887393832206726,
            0.25099867582321167
           ],
           "y": [
            0.9231274127960205,
            1.411643624305725
           ],
           "z": [
            2.3256545066833496,
            2.486973285675049
           ]
          },
          {
           "line": {
            "color": "black",
            "width": 5
           },
           "marker": {
            "color": "blue",
            "size": 2
           },
           "text": [
            "LWrist"
           ],
           "type": "scatter3d",
           "x": [
            0.3131208121776581,
            0.2887393832206726
           ],
           "y": [
            0.8466818332672119,
            0.9231274127960205
           ],
           "z": [
            2.31162166595459,
            2.3256545066833496
           ]
          },
          {
           "line": {
            "color": "red",
            "width": 5
           },
           "marker": {
            "color": "blue",
            "size": 2
           },
           "text": [
            "RShoulder"
           ],
           "type": "scatter3d",
           "x": [
            -0.1936454176902771,
            0.02052152529358864
           ],
           "y": [
            1.4187461733818054,
            1.4931406378746033
           ],
           "z": [
            2.510683536529541,
            2.4513750076293945
           ]
          },
          {
           "line": {
            "color": "red",
            "width": 5
           },
           "marker": {
            "color": "blue",
            "size": 2
           },
           "text": [
            "RElbow"
           ],
           "type": "scatter3d",
           "x": [
            -0.28370919823646545,
            -0.1936454176902771
           ],
           "y": [
            0.9119606018066406,
            1.4187461733818054
           ],
           "z": [
            2.5471529960632324,
            2.510683536529541
           ]
          },
          {
           "line": {
            "color": "red",
            "width": 5
           },
           "marker": {
            "color": "blue",
            "size": 2
           },
           "text": [
            "RWrist"
           ],
           "type": "scatter3d",
           "x": [
            -0.30186742544174194,
            -0.28370919823646545
           ],
           "y": [
            0.8416991233825684,
            0.9119606018066406
           ],
           "z": [
            2.586784839630127,
            2.5471529960632324
           ]
          },
          {
           "line": {
            "color": "#1f77b4",
            "width": 1
           },
           "marker": {
            "color": "#1f77b4",
            "size": 1
           },
           "type": "scatter3d",
           "x": [
            0.08945285528898239,
            0.05494445562362671,
            0.029142921790480614,
            0.08420485258102417,
            0.049391523003578186
           ],
           "y": [
            0.9362757205963135,
            0.9238623380661011,
            0.93375563621521,
            0.9504156112670898,
            0.9415889978408813
           ],
           "z": [
            0.1592569351196289,
            0.5889568328857422,
            0.9836969375610352,
            1.4877901077270508,
            1.9819211959838867
           ]
          }
         ],
         "name": "frame6"
        },
        {
         "data": [
          {
           "line": {
            "color": "red",
            "width": 5
           },
           "marker": {
            "color": "blue",
            "size": 2
           },
           "text": [
            "RHip"
           ],
           "type": "scatter3d",
           "x": [
            -0.04289428889751434,
            0.06587638705968857
           ],
           "y": [
            0.8388708829879761,
            0.9597556591033936
           ],
           "z": [
            2.965010643005371,
            2.9346165657043457
           ]
          },
          {
           "line": {
            "color": "red",
            "width": 5
           },
           "marker": {
            "color": "blue",
            "size": 2
           },
           "text": [
            "RKnee"
           ],
           "type": "scatter3d",
           "x": [
            -0.03317931294441223,
            -0.04289428889751434
           ],
           "y": [
            0.4428828954696655,
            0.8388708829879761
           ],
           "z": [
            3.153304100036621,
            2.965010643005371
           ]
          },
          {
           "line": {
            "color": "red",
            "width": 5
           },
           "marker": {
            "color": "blue",
            "size": 2
           },
           "text": [
            "RAnkle"
           ],
           "type": "scatter3d",
           "x": [
            -0.0028927773237228394,
            -0.03317931294441223
           ],
           "y": [
            -0.03918862342834473,
            0.4428828954696655
           ],
           "z": [
            2.9308156967163086,
            3.153304100036621
           ]
          },
          {
           "line": {
            "color": "black",
            "width": 5
           },
           "marker": {
            "color": "blue",
            "size": 2
           },
           "text": [
            "LHip"
           ],
           "type": "scatter3d",
           "x": [
            0.17226527631282806,
            0.06587638705968857
           ],
           "y": [
            0.8375020027160645,
            0.9597556591033936
           ],
           "z": [
            2.9784960746765137,
            2.9346165657043457
           ]
          },
          {
           "line": {
            "color": "black",
            "width": 5
           },
           "marker": {
            "color": "blue",
            "size": 2
           },
           "text": [
            "LKnee"
           ],
           "type": "scatter3d",
           "x": [
            0.10667262226343155,
            0.17226527631282806
           ],
           "y": [
            0.4074748754501343,
            0.8375020027160645
           ],
           "z": [
            3.033778190612793,
            2.9784960746765137
           ]
          },
          {
           "line": {
            "color": "black",
            "width": 5
           },
           "marker": {
            "color": "blue",
            "size": 2
           },
           "text": [
            "LAnkle"
           ],
           "type": "scatter3d",
           "x": [
            0.10189137607812881,
            0.10667262226343155
           ],
           "y": [
            -0.08213615417480469,
            0.4074748754501343
           ],
           "z": [
            2.831568717956543,
            3.033778190612793
           ]
          },
          {
           "line": {
            "color": "black",
            "width": 5
           },
           "marker": {
            "color": "blue",
            "size": 2
           },
           "text": [
            "Spine1"
           ],
           "type": "scatter3d",
           "x": [
            0.0672781690955162,
            0.06587638705968857
           ],
           "y": [
            1.2408314943313599,
            0.9597556591033936
           ],
           "z": [
            2.9394307136535645,
            2.9346165657043457
           ]
          },
          {
           "line": {
            "color": "black",
            "width": 5
           },
           "marker": {
            "color": "blue",
            "size": 2
           },
           "text": [
            "Neck"
           ],
           "type": "scatter3d",
           "x": [
            0.07299232482910156,
            0.0672781690955162
           ],
           "y": [
            1.4925071597099304,
            1.2408314943313599
           ],
           "z": [
            2.904966354370117,
            2.9394307136535645
           ]
          },
          {
           "line": {
            "color": "black",
            "width": 5
           },
           "marker": {
            "color": "blue",
            "size": 2
           },
           "text": [
            "Head"
           ],
           "type": "scatter3d",
           "x": [
            0.07275280356407166,
            0.07299232482910156
           ],
           "y": [
            1.6033715605735779,
            1.4925071597099304
           ],
           "z": [
            2.9126133918762207,
            2.904966354370117
           ]
          },
          {
           "line": {
            "color": "black",
            "width": 5
           },
           "marker": {
            "color": "blue",
            "size": 2
           },
           "text": [
            "Site"
           ],
           "type": "scatter3d",
           "x": [
            0.07468537986278534,
            0.07275280356407166
           ],
           "y": [
            1.695471704006195,
            1.6033715605735779
           ],
           "z": [
            2.9817471504211426,
            2.9126133918762207
           ]
          },
          {
           "line": {
            "color": "black",
            "width": 5
           },
           "marker": {
            "color": "blue",
            "size": 2
           },
           "text": [
            "LShoulder"
           ],
           "type": "scatter3d",
           "x": [
            0.3008609712123871,
            0.07299232482910156
           ],
           "y": [
            1.4072664976119995,
            1.4925071597099304
           ],
           "z": [
            2.947601318359375,
            2.904966354370117
           ]
          },
          {
           "line": {
            "color": "black",
            "width": 5
           },
           "marker": {
            "color": "blue",
            "size": 2
           },
           "text": [
            "LElbow"
           ],
           "type": "scatter3d",
           "x": [
            0.42251455783843994,
            0.3008609712123871
           ],
           "y": [
            0.9515084028244019,
            1.4072664976119995
           ],
           "z": [
            3.0475196838378906,
            2.947601318359375
           ]
          },
          {
           "line": {
            "color": "black",
            "width": 5
           },
           "marker": {
            "color": "blue",
            "size": 2
           },
           "text": [
            "LWrist"
           ],
           "type": "scatter3d",
           "x": [
            0.4608496427536011,
            0.42251455783843994
           ],
           "y": [
            0.9028388261795044,
            0.9515084028244019
           ],
           "z": [
            3.1004061698913574,
            3.0475196838378906
           ]
          },
          {
           "line": {
            "color": "red",
            "width": 5
           },
           "marker": {
            "color": "blue",
            "size": 2
           },
           "text": [
            "RShoulder"
           ],
           "type": "scatter3d",
           "x": [
            -0.14389482140541077,
            0.07299232482910156
           ],
           "y": [
            1.4262825846672058,
            1.4925071597099304
           ],
           "z": [
            2.959916114807129,
            2.904966354370117
           ]
          },
          {
           "line": {
            "color": "red",
            "width": 5
           },
           "marker": {
            "color": "blue",
            "size": 2
           },
           "text": [
            "RElbow"
           ],
           "type": "scatter3d",
           "x": [
            -0.21751073002815247,
            -0.14389482140541077
           ],
           "y": [
            0.9071131944656372,
            1.4262825846672058
           ],
           "z": [
            2.9234189987182617,
            2.959916114807129
           ]
          },
          {
           "line": {
            "color": "red",
            "width": 5
           },
           "marker": {
            "color": "blue",
            "size": 2
           },
           "text": [
            "RWrist"
           ],
           "type": "scatter3d",
           "x": [
            -0.2370697259902954,
            -0.21751073002815247
           ],
           "y": [
            0.8291739225387573,
            0.9071131944656372
           ],
           "z": [
            2.942913055419922,
            2.9234189987182617
           ]
          },
          {
           "line": {
            "color": "#1f77b4",
            "width": 1
           },
           "marker": {
            "color": "#1f77b4",
            "size": 1
           },
           "type": "scatter3d",
           "x": [
            0.08945285528898239,
            0.05494445562362671,
            0.029142921790480614,
            0.08420485258102417,
            0.049391523003578186,
            0.03476512059569359
           ],
           "y": [
            0.9362757205963135,
            0.9238623380661011,
            0.93375563621521,
            0.9504156112670898,
            0.9415889978408813,
            0.9601356983184814
           ],
           "z": [
            0.1592569351196289,
            0.5889568328857422,
            0.9836969375610352,
            1.4877901077270508,
            1.9819211959838867,
            2.457031726837158
           ]
          }
         ],
         "name": "frame7"
        },
        {
         "data": [
          {
           "line": {
            "color": "red",
            "width": 5
           },
           "marker": {
            "color": "blue",
            "size": 2
           },
           "text": [
            "RHip"
           ],
           "type": "scatter3d",
           "x": [
            -0.13028958439826965,
            -0.012351144105196
           ],
           "y": [
            0.8489894866943359,
            0.960822343826294
           ],
           "z": [
            3.4185166358947754,
            3.3876633644104004
           ]
          },
          {
           "line": {
            "color": "red",
            "width": 5
           },
           "marker": {
            "color": "blue",
            "size": 2
           },
           "text": [
            "RKnee"
           ],
           "type": "scatter3d",
           "x": [
            -0.09035149216651917,
            -0.13028958439826965
           ],
           "y": [
            0.4279007911682129,
            0.8489894866943359
           ],
           "z": [
            3.5344676971435547,
            3.4185166358947754
           ]
          },
          {
           "line": {
            "color": "red",
            "width": 5
           },
           "marker": {
            "color": "blue",
            "size": 2
           },
           "text": [
            "RAnkle"
           ],
           "type": "scatter3d",
           "x": [
            -0.08793927729129791,
            -0.09035149216651917
           ],
           "y": [
            -0.09468841552734375,
            0.4279007911682129
           ],
           "z": [
            3.435947895050049,
            3.5344676971435547
           ]
          },
          {
           "line": {
            "color": "black",
            "width": 5
           },
           "marker": {
            "color": "blue",
            "size": 2
           },
           "text": [
            "LHip"
           ],
           "type": "scatter3d",
           "x": [
            0.08422833681106567,
            -0.012351144105196
           ],
           "y": [
            0.8278343677520752,
            0.960822343826294
           ],
           "z": [
            3.421964168548584,
            3.3876633644104004
           ]
          },
          {
           "line": {
            "color": "black",
            "width": 5
           },
           "marker": {
            "color": "blue",
            "size": 2
           },
           "text": [
            "LKnee"
           ],
           "type": "scatter3d",
           "x": [
            0.05751361325383186,
            0.08422833681106567
           ],
           "y": [
            0.3919248580932617,
            0.8278343677520752
           ],
           "z": [
            3.461348533630371,
            3.421964168548584
           ]
          },
          {
           "line": {
            "color": "black",
            "width": 5
           },
           "marker": {
            "color": "blue",
            "size": 2
           },
           "text": [
            "LAnkle"
           ],
           "type": "scatter3d",
           "x": [
            0.054001662880182266,
            0.05751361325383186
           ],
           "y": [
            0.059747934341430664,
            0.3919248580932617
           ],
           "z": [
            3.0487027168273926,
            3.461348533630371
           ]
          },
          {
           "line": {
            "color": "black",
            "width": 5
           },
           "marker": {
            "color": "blue",
            "size": 2
           },
           "text": [
            "Spine1"
           ],
           "type": "scatter3d",
           "x": [
            -0.019696887582540512,
            -0.012351144105196
           ],
           "y": [
            1.241554617881775,
            0.960822343826294
           ],
           "z": [
            3.3900747299194336,
            3.3876633644104004
           ]
          },
          {
           "line": {
            "color": "black",
            "width": 5
           },
           "marker": {
            "color": "blue",
            "size": 2
           },
           "text": [
            "Neck"
           ],
           "type": "scatter3d",
           "x": [
            -0.04464786872267723,
            -0.019696887582540512
           ],
           "y": [
            1.4915239214897156,
            1.241554617881775
           ],
           "z": [
            3.3538341522216797,
            3.3900747299194336
           ]
          },
          {
           "line": {
            "color": "black",
            "width": 5
           },
           "marker": {
            "color": "blue",
            "size": 2
           },
           "text": [
            "Head"
           ],
           "type": "scatter3d",
           "x": [
            -0.049968425184488297,
            -0.04464786872267723
           ],
           "y": [
            1.6023505926132202,
            1.4915239214897156
           ],
           "z": [
            3.3600454330444336,
            3.3538341522216797
           ]
          },
          {
           "line": {
            "color": "black",
            "width": 5
           },
           "marker": {
            "color": "blue",
            "size": 2
           },
           "text": [
            "Site"
           ],
           "type": "scatter3d",
           "x": [
            -0.04428541287779808,
            -0.049968425184488297
           ],
           "y": [
            1.6949570178985596,
            1.6023505926132202
           ],
           "z": [
            3.428290843963623,
            3.3600454330444336
           ]
          },
          {
           "line": {
            "color": "black",
            "width": 5
           },
           "marker": {
            "color": "blue",
            "size": 2
           },
           "text": [
            "LShoulder"
           ],
           "type": "scatter3d",
           "x": [
            0.19597086310386658,
            -0.04464786872267723
           ],
           "y": [
            1.430741786956787,
            1.4915239214897156
           ],
           "z": [
            3.394965648651123,
            3.3538341522216797
           ]
          },
          {
           "line": {
            "color": "black",
            "width": 5
           },
           "marker": {
            "color": "blue",
            "size": 2
           },
           "text": [
            "LElbow"
           ],
           "type": "scatter3d",
           "x": [
            0.27203983068466187,
            0.19597086310386658
           ],
           "y": [
            0.9301016330718994,
            1.430741786956787
           ],
           "z": [
            3.34767484664917,
            3.394965648651123
           ]
          },
          {
           "line": {
            "color": "black",
            "width": 5
           },
           "marker": {
            "color": "blue",
            "size": 2
           },
           "text": [
            "LWrist"
           ],
           "type": "scatter3d",
           "x": [
            0.3024039566516876,
            0.27203983068466187
           ],
           "y": [
            0.8560440540313721,
            0.9301016330718994
           ],
           "z": [
            3.3628010749816895,
            3.34767484664917
           ]
          },
          {
           "line": {
            "color": "red",
            "width": 5
           },
           "marker": {
            "color": "blue",
            "size": 2
           },
           "text": [
            "RShoulder"
           ],
           "type": "scatter3d",
           "x": [
            -0.24822212755680084,
            -0.04464786872267723
           ],
           "y": [
            1.4047690629959106,
            1.4915239214897156
           ],
           "z": [
            3.4133777618408203,
            3.3538341522216797
           ]
          },
          {
           "line": {
            "color": "red",
            "width": 5
           },
           "marker": {
            "color": "blue",
            "size": 2
           },
           "text": [
            "RElbow"
           ],
           "type": "scatter3d",
           "x": [
            -0.28878360986709595,
            -0.24822212755680084
           ],
           "y": [
            0.8770227432250977,
            1.4047690629959106
           ],
           "z": [
            3.3777122497558594,
            3.4133777618408203
           ]
          },
          {
           "line": {
            "color": "red",
            "width": 5
           },
           "marker": {
            "color": "blue",
            "size": 2
           },
           "text": [
            "RWrist"
           ],
           "type": "scatter3d",
           "x": [
            -0.3045669496059418,
            -0.28878360986709595
           ],
           "y": [
            0.7968782186508179,
            0.8770227432250977
           ],
           "z": [
            3.3905506134033203,
            3.3777122497558594
           ]
          },
          {
           "line": {
            "color": "#1f77b4",
            "width": 1
           },
           "marker": {
            "color": "#1f77b4",
            "size": 1
           },
           "type": "scatter3d",
           "x": [
            0.08945285528898239,
            0.05494445562362671,
            0.029142921790480614,
            0.08420485258102417,
            0.049391523003578186,
            0.03476512059569359,
            0.06587638705968857
           ],
           "y": [
            0.9362757205963135,
            0.9238623380661011,
            0.93375563621521,
            0.9504156112670898,
            0.9415889978408813,
            0.9601356983184814,
            0.9597556591033936
           ],
           "z": [
            0.1592569351196289,
            0.5889568328857422,
            0.9836969375610352,
            1.4877901077270508,
            1.9819211959838867,
            2.457031726837158,
            2.9346165657043457
           ]
          }
         ],
         "name": "frame8"
        },
        {
         "data": [
          {
           "line": {
            "color": "red",
            "width": 5
           },
           "marker": {
            "color": "blue",
            "size": 2
           },
           "text": [
            "RHip"
           ],
           "type": "scatter3d",
           "x": [
            -0.12042176723480225,
            -0.004486811347305775
           ],
           "y": [
            0.8402409553527832,
            0.9513022899627686
           ],
           "z": [
            3.8596487045288086,
            3.8197436332702637
           ]
          },
          {
           "line": {
            "color": "red",
            "width": 5
           },
           "marker": {
            "color": "blue",
            "size": 2
           },
           "text": [
            "RKnee"
           ],
           "type": "scatter3d",
           "x": [
            -0.09585832804441452,
            -0.12042176723480225
           ],
           "y": [
            0.42754828929901123,
            0.8402409553527832
           ],
           "z": [
            3.713235378265381,
            3.8596487045288086
           ]
          },
          {
           "line": {
            "color": "red",
            "width": 5
           },
           "marker": {
            "color": "blue",
            "size": 2
           },
           "text": [
            "RAnkle"
           ],
           "type": "scatter3d",
           "x": [
            -0.0832175463438034,
            -0.09585832804441452
           ],
           "y": [
            -0.04364013671875,
            0.42754828929901123
           ],
           "z": [
            3.4669976234436035,
            3.713235378265381
           ]
          },
          {
           "line": {
            "color": "black",
            "width": 5
           },
           "marker": {
            "color": "blue",
            "size": 2
           },
           "text": [
            "LHip"
           ],
           "type": "scatter3d",
           "x": [
            0.094283826649189,
            -0.004486811347305775
           ],
           "y": [
            0.8208920955657959,
            0.9513022899627686
           ],
           "z": [
            3.8575263023376465,
            3.8197436332702637
           ]
          },
          {
           "line": {
            "color": "black",
            "width": 5
           },
           "marker": {
            "color": "blue",
            "size": 2
           },
           "text": [
            "LKnee"
           ],
           "type": "scatter3d",
           "x": [
            0.0639910027384758,
            0.094283826649189
           ],
           "y": [
            0.4388563632965088,
            0.8208920955657959
           ],
           "z": [
            4.070629119873047,
            3.8575263023376465
           ]
          },
          {
           "line": {
            "color": "black",
            "width": 5
           },
           "marker": {
            "color": "blue",
            "size": 2
           },
           "text": [
            "LAnkle"
           ],
           "type": "scatter3d",
           "x": [
            0.07600249350070953,
            0.0639910027384758
           ],
           "y": [
            -0.08995532989501953,
            0.4388563632965088
           ],
           "z": [
            4.0996880531311035,
            4.070629119873047
           ]
          },
          {
           "line": {
            "color": "black",
            "width": 5
           },
           "marker": {
            "color": "blue",
            "size": 2
           },
           "text": [
            "Spine1"
           ],
           "type": "scatter3d",
           "x": [
            -0.005867302417755127,
            -0.004486811347305775
           ],
           "y": [
            1.232364296913147,
            0.9513022899627686
           ],
           "z": [
            3.8223042488098145,
            3.8197436332702637
           ]
          },
          {
           "line": {
            "color": "black",
            "width": 5
           },
           "marker": {
            "color": "blue",
            "size": 2
           },
           "text": [
            "Neck"
           ],
           "type": "scatter3d",
           "x": [
            -0.021369390189647675,
            -0.005867302417755127
           ],
           "y": [
            1.4836264252662659,
            1.232364296913147
           ],
           "z": [
            3.793762683868408,
            3.8223042488098145
           ]
          },
          {
           "line": {
            "color": "black",
            "width": 5
           },
           "marker": {
            "color": "blue",
            "size": 2
           },
           "text": [
            "Head"
           ],
           "type": "scatter3d",
           "x": [
            -0.021179135888814926,
            -0.021369390189647675
           ],
           "y": [
            1.5945549011230469,
            1.4836264252662659
           ],
           "z": [
            3.800417423248291,
            3.793762683868408
           ]
          },
          {
           "line": {
            "color": "black",
            "width": 5
           },
           "marker": {
            "color": "blue",
            "size": 2
           },
           "text": [
            "Site"
           ],
           "type": "scatter3d",
           "x": [
            -0.003883720375597477,
            -0.021179135888814926
           ],
           "y": [
            1.6863999366760254,
            1.5945549011230469
           ],
           "z": [
            3.8677306175231934,
            3.800417423248291
           ]
          },
          {
           "line": {
            "color": "black",
            "width": 5
           },
           "marker": {
            "color": "blue",
            "size": 2
           },
           "text": [
            "LShoulder"
           ],
           "type": "scatter3d",
           "x": [
            0.21860656142234802,
            -0.021369390189647675
           ],
           "y": [
            1.4100044965744019,
            1.4836264252662659
           ],
           "z": [
            3.8027148246765137,
            3.793762683868408
           ]
          },
          {
           "line": {
            "color": "black",
            "width": 5
           },
           "marker": {
            "color": "blue",
            "size": 2
           },
           "text": [
            "LElbow"
           ],
           "type": "scatter3d",
           "x": [
            0.2647847533226013,
            0.21860656142234802
           ],
           "y": [
            0.9065045118331909,
            1.4100044965744019
           ],
           "z": [
            3.7163543701171875,
            3.8027148246765137
           ]
          },
          {
           "line": {
            "color": "black",
            "width": 5
           },
           "marker": {
            "color": "blue",
            "size": 2
           },
           "text": [
            "LWrist"
           ],
           "type": "scatter3d",
           "x": [
            0.293163925409317,
            0.2647847533226013
           ],
           "y": [
            0.8301512002944946,
            0.9065045118331909
           ],
           "z": [
            3.716052532196045,
            3.7163543701171875
           ]
          },
          {
           "line": {
            "color": "red",
            "width": 5
           },
           "marker": {
            "color": "blue",
            "size": 2
           },
           "text": [
            "RShoulder"
           ],
           "type": "scatter3d",
           "x": [
            -0.21972492337226868,
            -0.021369390189647675
           ],
           "y": [
            1.4061265587806702,
            1.4836264252662659
           ],
           "z": [
            3.8812737464904785,
            3.793762683868408
           ]
          },
          {
           "line": {
            "color": "red",
            "width": 5
           },
           "marker": {
            "color": "blue",
            "size": 2
           },
           "text": [
            "RElbow"
           ],
           "type": "scatter3d",
           "x": [
            -0.3105892837047577,
            -0.21972492337226868
           ],
           "y": [
            0.8911173343658447,
            1.4061265587806702
           ],
           "z": [
            3.922358989715576,
            3.8812737464904785
           ]
          },
          {
           "line": {
            "color": "red",
            "width": 5
           },
           "marker": {
            "color": "blue",
            "size": 2
           },
           "text": [
            "RWrist"
           ],
           "type": "scatter3d",
           "x": [
            -0.3304537236690521,
            -0.3105892837047577
           ],
           "y": [
            0.8177797794342041,
            0.8911173343658447
           ],
           "z": [
            3.954979419708252,
            3.922358989715576
           ]
          },
          {
           "line": {
            "color": "#1f77b4",
            "width": 1
           },
           "marker": {
            "color": "#1f77b4",
            "size": 1
           },
           "type": "scatter3d",
           "x": [
            0.08945285528898239,
            0.05494445562362671,
            0.029142921790480614,
            0.08420485258102417,
            0.049391523003578186,
            0.03476512059569359,
            0.06587638705968857,
            -0.012351144105196
           ],
           "y": [
            0.9362757205963135,
            0.9238623380661011,
            0.93375563621521,
            0.9504156112670898,
            0.9415889978408813,
            0.9601356983184814,
            0.9597556591033936,
            0.960822343826294
           ],
           "z": [
            0.1592569351196289,
            0.5889568328857422,
            0.9836969375610352,
            1.4877901077270508,
            1.9819211959838867,
            2.457031726837158,
            2.9346165657043457,
            3.3876633644104004
           ]
          }
         ],
         "name": "frame9"
        },
        {
         "data": [
          {
           "line": {
            "color": "red",
            "width": 5
           },
           "marker": {
            "color": "blue",
            "size": 2
           },
           "text": [
            "RHip"
           ],
           "type": "scatter3d",
           "x": [
            -0.04195689409971237,
            0.06341798603534698
           ],
           "y": [
            0.8433690071105957,
            0.9644689559936523
           ],
           "z": [
            4.304196357727051,
            4.264210224151611
           ]
          },
          {
           "line": {
            "color": "red",
            "width": 5
           },
           "marker": {
            "color": "blue",
            "size": 2
           },
           "text": [
            "RKnee"
           ],
           "type": "scatter3d",
           "x": [
            -0.0048661306500434875,
            -0.04195689409971237
           ],
           "y": [
            0.4508838653564453,
            0.8433690071105957
           ],
           "z": [
            4.4963812828063965,
            4.304196357727051
           ]
          },
          {
           "line": {
            "color": "red",
            "width": 5
           },
           "marker": {
            "color": "blue",
            "size": 2
           },
           "text": [
            "RAnkle"
           ],
           "type": "scatter3d",
           "x": [
            -0.0077224597334861755,
            -0.0048661306500434875
           ],
           "y": [
            -0.07056188583374023,
            0.4508838653564453
           ],
           "z": [
            4.391989707946777,
            4.4963812828063965
           ]
          },
          {
           "line": {
            "color": "black",
            "width": 5
           },
           "marker": {
            "color": "blue",
            "size": 2
           },
           "text": [
            "LHip"
           ],
           "type": "scatter3d",
           "x": [
            0.17362657189369202,
            0.06341798603534698
           ],
           "y": [
            0.8443890810012817,
            0.9644689559936523
           ],
           "z": [
            4.3045196533203125,
            4.264210224151611
           ]
          },
          {
           "line": {
            "color": "black",
            "width": 5
           },
           "marker": {
            "color": "blue",
            "size": 2
           },
           "text": [
            "LKnee"
           ],
           "type": "scatter3d",
           "x": [
            0.10869801044464111,
            0.17362657189369202
           ],
           "y": [
            0.41218578815460205,
            0.8443890810012817
           ],
           "z": [
            4.340106010437012,
            4.3045196533203125
           ]
          },
          {
           "line": {
            "color": "black",
            "width": 5
           },
           "marker": {
            "color": "blue",
            "size": 2
           },
           "text": [
            "LAnkle"
           ],
           "type": "scatter3d",
           "x": [
            0.07369149476289749,
            0.10869801044464111
           ],
           "y": [
            -0.07468962669372559,
            0.41218578815460205
           ],
           "z": [
            4.1342973709106445,
            4.340106010437012
           ]
          },
          {
           "line": {
            "color": "black",
            "width": 5
           },
           "marker": {
            "color": "blue",
            "size": 2
           },
           "text": [
            "Spine1"
           ],
           "type": "scatter3d",
           "x": [
            0.07152023166418076,
            0.06341798603534698
           ],
           "y": [
            1.2454546093940735,
            0.9644689559936523
           ],
           "z": [
            4.270683765411377,
            4.264210224151611
           ]
          },
          {
           "line": {
            "color": "black",
            "width": 5
           },
           "marker": {
            "color": "blue",
            "size": 2
           },
           "text": [
            "Neck"
           ],
           "type": "scatter3d",
           "x": [
            0.06835129112005234,
            0.07152023166418076
           ],
           "y": [
            1.498121440410614,
            1.2454546093940735
           ],
           "z": [
            4.2446441650390625,
            4.270683765411377
           ]
          },
          {
           "line": {
            "color": "black",
            "width": 5
           },
           "marker": {
            "color": "blue",
            "size": 2
           },
           "text": [
            "Head"
           ],
           "type": "scatter3d",
           "x": [
            0.06921132653951645,
            0.06835129112005234
           ],
           "y": [
            1.6085869669914246,
            1.498121440410614
           ],
           "z": [
            4.256729602813721,
            4.2446441650390625
           ]
          },
          {
           "line": {
            "color": "black",
            "width": 5
           },
           "marker": {
            "color": "blue",
            "size": 2
           },
           "text": [
            "Site"
           ],
           "type": "scatter3d",
           "x": [
            0.07927095890045166,
            0.06921132653951645
           ],
           "y": [
            1.6972646117210388,
            1.6085869669914246
           ],
           "z": [
            4.329535961151123,
            4.256729602813721
           ]
          },
          {
           "line": {
            "color": "black",
            "width": 5
           },
           "marker": {
            "color": "blue",
            "size": 2
           },
           "text": [
            "LShoulder"
           ],
           "type": "scatter3d",
           "x": [
            0.30151182413101196,
            0.06835129112005234
           ],
           "y": [
            1.4169768691062927,
            1.498121440410614
           ],
           "z": [
            4.267181873321533,
            4.2446441650390625
           ]
          },
          {
           "line": {
            "color": "black",
            "width": 5
           },
           "marker": {
            "color": "blue",
            "size": 2
           },
           "text": [
            "LElbow"
           ],
           "type": "scatter3d",
           "x": [
            0.38246363401412964,
            0.30151182413101196
           ],
           "y": [
            0.9654209613800049,
            1.4169768691062927
           ],
           "z": [
            4.3966875076293945,
            4.267181873321533
           ]
          },
          {
           "line": {
            "color": "black",
            "width": 5
           },
           "marker": {
            "color": "blue",
            "size": 2
           },
           "text": [
            "LWrist"
           ],
           "type": "scatter3d",
           "x": [
            0.4147062301635742,
            0.38246363401412964
           ],
           "y": [
            0.9200165271759033,
            0.9654209613800049
           ],
           "z": [
            4.456136226654053,
            4.3966875076293945
           ]
          },
          {
           "line": {
            "color": "red",
            "width": 5
           },
           "marker": {
            "color": "blue",
            "size": 2
           },
           "text": [
            "RShoulder"
           ],
           "type": "scatter3d",
           "x": [
            -0.1412999927997589,
            0.06835129112005234
           ],
           "y": [
            1.4250487685203552,
            1.498121440410614
           ],
           "z": [
            4.313802719116211,
            4.2446441650390625
           ]
          },
          {
           "line": {
            "color": "red",
            "width": 5
           },
           "marker": {
            "color": "blue",
            "size": 2
           },
           "text": [
            "RElbow"
           ],
           "type": "scatter3d",
           "x": [
            -0.19441024959087372,
            -0.1412999927997589
           ],
           "y": [
            0.9025135040283203,
            1.4250487685203552
           ],
           "z": [
            4.293667316436768,
            4.313802719116211
           ]
          },
          {
           "line": {
            "color": "red",
            "width": 5
           },
           "marker": {
            "color": "blue",
            "size": 2
           },
           "text": [
            "RWrist"
           ],
           "type": "scatter3d",
           "x": [
            -0.20982880890369415,
            -0.19441024959087372
           ],
           "y": [
            0.8243991136550903,
            0.9025135040283203
           ],
           "z": [
            4.315972328186035,
            4.293667316436768
           ]
          },
          {
           "line": {
            "color": "#1f77b4",
            "width": 1
           },
           "marker": {
            "color": "#1f77b4",
            "size": 1
           },
           "type": "scatter3d",
           "x": [
            0.08945285528898239,
            0.05494445562362671,
            0.029142921790480614,
            0.08420485258102417,
            0.049391523003578186,
            0.03476512059569359,
            0.06587638705968857,
            -0.012351144105196,
            -0.004486811347305775
           ],
           "y": [
            0.9362757205963135,
            0.9238623380661011,
            0.93375563621521,
            0.9504156112670898,
            0.9415889978408813,
            0.9601356983184814,
            0.9597556591033936,
            0.960822343826294,
            0.9513022899627686
           ],
           "z": [
            0.1592569351196289,
            0.5889568328857422,
            0.9836969375610352,
            1.4877901077270508,
            1.9819211959838867,
            2.457031726837158,
            2.9346165657043457,
            3.3876633644104004,
            3.8197436332702637
           ]
          }
         ],
         "name": "frame10"
        },
        {
         "data": [
          {
           "line": {
            "color": "red",
            "width": 5
           },
           "marker": {
            "color": "blue",
            "size": 2
           },
           "text": [
            "RHip"
           ],
           "type": "scatter3d",
           "x": [
            -0.08144300431013107,
            0.02993558906018734
           ],
           "y": [
            0.850977897644043,
            0.9645756483078003
           ],
           "z": [
            4.791258811950684,
            4.745890140533447
           ]
          },
          {
           "line": {
            "color": "red",
            "width": 5
           },
           "marker": {
            "color": "blue",
            "size": 2
           },
           "text": [
            "RKnee"
           ],
           "type": "scatter3d",
           "x": [
            -0.0024642590433359146,
            -0.08144300431013107
           ],
           "y": [
            0.43745625019073486,
            0.850977897644043
           ],
           "z": [
            4.914212703704834,
            4.791258811950684
           ]
          },
          {
           "line": {
            "color": "red",
            "width": 5
           },
           "marker": {
            "color": "blue",
            "size": 2
           },
           "text": [
            "RAnkle"
           ],
           "type": "scatter3d",
           "x": [
            0.0023795291781425476,
            -0.0024642590433359146
           ],
           "y": [
            -0.07965421676635742,
            0.43745625019073486
           ],
           "z": [
            4.790178298950195,
            4.914212703704834
           ]
          },
          {
           "line": {
            "color": "black",
            "width": 5
           },
           "marker": {
            "color": "blue",
            "size": 2
           },
           "text": [
            "LHip"
           ],
           "type": "scatter3d",
           "x": [
            0.13358643651008606,
            0.02993558906018734
           ],
           "y": [
            0.8378334045410156,
            0.9645756483078003
           ],
           "z": [
            4.783077239990234,
            4.745890140533447
           ]
          },
          {
           "line": {
            "color": "black",
            "width": 5
           },
           "marker": {
            "color": "blue",
            "size": 2
           },
           "text": [
            "LKnee"
           ],
           "type": "scatter3d",
           "x": [
            0.13765951991081238,
            0.13358643651008606
           ],
           "y": [
            0.40154099464416504,
            0.8378334045410156
           ],
           "z": [
            4.8268280029296875,
            4.783077239990234
           ]
          },
          {
           "line": {
            "color": "black",
            "width": 5
           },
           "marker": {
            "color": "blue",
            "size": 2
           },
           "text": [
            "LAnkle"
           ],
           "type": "scatter3d",
           "x": [
            0.10951694846153259,
            0.13765951991081238
           ],
           "y": [
            0.08670556545257568,
            0.40154099464416504
           ],
           "z": [
            4.40172004699707,
            4.8268280029296875
           ]
          },
          {
           "line": {
            "color": "black",
            "width": 5
           },
           "marker": {
            "color": "blue",
            "size": 2
           },
           "text": [
            "Spine1"
           ],
           "type": "scatter3d",
           "x": [
            0.026246309280395508,
            0.02993558906018734
           ],
           "y": [
            1.2449203729629517,
            0.9645756483078003
           ],
           "z": [
            4.7276787757873535,
            4.745890140533447
           ]
          },
          {
           "line": {
            "color": "black",
            "width": 5
           },
           "marker": {
            "color": "blue",
            "size": 2
           },
           "text": [
            "Neck"
           ],
           "type": "scatter3d",
           "x": [
            0.0036483220756053925,
            0.026246309280395508
           ],
           "y": [
            1.4937291145324707,
            1.2449203729629517
           ],
           "z": [
            4.681256294250488,
            4.7276787757873535
           ]
          },
          {
           "line": {
            "color": "black",
            "width": 5
           },
           "marker": {
            "color": "blue",
            "size": 2
           },
           "text": [
            "Head"
           ],
           "type": "scatter3d",
           "x": [
            -0.0012208987027406693,
            0.0036483220756053925
           ],
           "y": [
            1.6041311621665955,
            1.4937291145324707
           ],
           "z": [
            4.692966461181641,
            4.681256294250488
           ]
          },
          {
           "line": {
            "color": "black",
            "width": 5
           },
           "marker": {
            "color": "blue",
            "size": 2
           },
           "text": [
            "Site"
           ],
           "type": "scatter3d",
           "x": [
            0.00647050142288208,
            -0.0012208987027406693
           ],
           "y": [
            1.6895371079444885,
            1.6041311621665955
           ],
           "z": [
            4.769857883453369,
            4.692966461181641
           ]
          },
          {
           "line": {
            "color": "black",
            "width": 5
           },
           "marker": {
            "color": "blue",
            "size": 2
           },
           "text": [
            "LShoulder"
           ],
           "type": "scatter3d",
           "x": [
            0.24400590360164642,
            0.0036483220756053925
           ],
           "y": [
            1.4312663078308105,
            1.4937291145324707
           ],
           "z": [
            4.71410608291626,
            4.681256294250488
           ]
          },
          {
           "line": {
            "color": "black",
            "width": 5
           },
           "marker": {
            "color": "blue",
            "size": 2
           },
           "text": [
            "LElbow"
           ],
           "type": "scatter3d",
           "x": [
            0.28894802927970886,
            0.24400590360164642
           ],
           "y": [
            0.9174158573150635,
            1.4312663078308105
           ],
           "z": [
            4.662553787231445,
            4.71410608291626
           ]
          },
          {
           "line": {
            "color": "black",
            "width": 5
           },
           "marker": {
            "color": "blue",
            "size": 2
           },
           "text": [
            "LWrist"
           ],
           "type": "scatter3d",
           "x": [
            0.3117891252040863,
            0.28894802927970886
           ],
           "y": [
            0.8392273187637329,
            0.9174158573150635
           ],
           "z": [
            4.662923812866211,
            4.662553787231445
           ]
          },
          {
           "line": {
            "color": "red",
            "width": 5
           },
           "marker": {
            "color": "blue",
            "size": 2
           },
           "text": [
            "RShoulder"
           ],
           "type": "scatter3d",
           "x": [
            -0.19933821260929108,
            0.0036483220756053925
           ],
           "y": [
            1.4121001958847046,
            1.4937291145324707
           ],
           "z": [
            4.7515177726745605,
            4.681256294250488
           ]
          },
          {
           "line": {
            "color": "red",
            "width": 5
           },
           "marker": {
            "color": "blue",
            "size": 2
           },
           "text": [
            "RElbow"
           ],
           "type": "scatter3d",
           "x": [
            -0.25560104846954346,
            -0.19933821260929108
           ],
           "y": [
            0.8849697113037109,
            1.4121001958847046
           ],
           "z": [
            4.736396789550781,
            4.7515177726745605
           ]
          },
          {
           "line": {
            "color": "red",
            "width": 5
           },
           "marker": {
            "color": "blue",
            "size": 2
           },
           "text": [
            "RWrist"
           ],
           "type": "scatter3d",
           "x": [
            -0.27315589785575867,
            -0.25560104846954346
           ],
           "y": [
            0.8058682680130005,
            0.8849697113037109
           ],
           "z": [
            4.752885341644287,
            4.736396789550781
           ]
          },
          {
           "line": {
            "color": "#1f77b4",
            "width": 1
           },
           "marker": {
            "color": "#1f77b4",
            "size": 1
           },
           "type": "scatter3d",
           "x": [
            0.08945285528898239,
            0.05494445562362671,
            0.029142921790480614,
            0.08420485258102417,
            0.049391523003578186,
            0.03476512059569359,
            0.06587638705968857,
            -0.012351144105196,
            -0.004486811347305775,
            0.06341798603534698
           ],
           "y": [
            0.9362757205963135,
            0.9238623380661011,
            0.93375563621521,
            0.9504156112670898,
            0.9415889978408813,
            0.9601356983184814,
            0.9597556591033936,
            0.960822343826294,
            0.9513022899627686,
            0.9644689559936523
           ],
           "z": [
            0.1592569351196289,
            0.5889568328857422,
            0.9836969375610352,
            1.4877901077270508,
            1.9819211959838867,
            2.457031726837158,
            2.9346165657043457,
            3.3876633644104004,
            3.8197436332702637,
            4.264210224151611
           ]
          }
         ],
         "name": "frame11"
        },
        {
         "data": [
          {
           "line": {
            "color": "red",
            "width": 5
           },
           "marker": {
            "color": "blue",
            "size": 2
           },
           "text": [
            "RHip"
           ],
           "type": "scatter3d",
           "x": [
            -0.06693156063556671,
            0.0564938560128212
           ],
           "y": [
            0.8612799644470215,
            0.9712756872177124
           ],
           "z": [
            5.091198444366455,
            5.0852766036987305
           ]
          },
          {
           "line": {
            "color": "red",
            "width": 5
           },
           "marker": {
            "color": "blue",
            "size": 2
           },
           "text": [
            "RKnee"
           ],
           "type": "scatter3d",
           "x": [
            -0.024666301906108856,
            -0.06693156063556671
           ],
           "y": [
            0.42895352840423584,
            0.8612799644470215
           ],
           "z": [
            5.030675888061523,
            5.091198444366455
           ]
          },
          {
           "line": {
            "color": "red",
            "width": 5
           },
           "marker": {
            "color": "blue",
            "size": 2
           },
           "text": [
            "RAnkle"
           ],
           "type": "scatter3d",
           "x": [
            0.006100684404373169,
            -0.024666301906108856
           ],
           "y": [
            -0.054529666900634766,
            0.42895352840423584
           ],
           "z": [
            4.811338901519775,
            5.030675888061523
           ]
          },
          {
           "line": {
            "color": "black",
            "width": 5
           },
           "marker": {
            "color": "blue",
            "size": 2
           },
           "text": [
            "LHip"
           ],
           "type": "scatter3d",
           "x": [
            0.1405816674232483,
            0.0564938560128212
           ],
           "y": [
            0.8388692140579224,
            0.9712756872177124
           ],
           "z": [
            5.145174026489258,
            5.0852766036987305
           ]
          },
          {
           "line": {
            "color": "black",
            "width": 5
           },
           "marker": {
            "color": "blue",
            "size": 2
           },
           "text": [
            "LKnee"
           ],
           "type": "scatter3d",
           "x": [
            0.10312262922525406,
            0.1405816674232483
           ],
           "y": [
            0.4378042221069336,
            0.8388692140579224
           ],
           "z": [
            5.318452835083008,
            5.145174026489258
           ]
          },
          {
           "line": {
            "color": "black",
            "width": 5
           },
           "marker": {
            "color": "blue",
            "size": 2
           },
           "text": [
            "LAnkle"
           ],
           "type": "scatter3d",
           "x": [
            0.18551117181777954,
            0.10312262922525406
           ],
           "y": [
            -0.08251571655273438,
            0.4378042221069336
           ],
           "z": [
            5.374216556549072,
            5.318452835083008
           ]
          },
          {
           "line": {
            "color": "black",
            "width": 5
           },
           "marker": {
            "color": "blue",
            "size": 2
           },
           "text": [
            "Spine1"
           ],
           "type": "scatter3d",
           "x": [
            0.05754285305738449,
            0.0564938560128212
           ],
           "y": [
            1.2518582940101624,
            0.9712756872177124
           ],
           "z": [
            5.072057247161865,
            5.0852766036987305
           ]
          },
          {
           "line": {
            "color": "black",
            "width": 5
           },
           "marker": {
            "color": "blue",
            "size": 2
           },
           "text": [
            "Neck"
           ],
           "type": "scatter3d",
           "x": [
            0.05526450276374817,
            0.05754285305738449
           ],
           "y": [
            1.5020941495895386,
            1.2518582940101624
           ],
           "z": [
            5.02544641494751,
            5.072057247161865
           ]
          },
          {
           "line": {
            "color": "black",
            "width": 5
           },
           "marker": {
            "color": "blue",
            "size": 2
           },
           "text": [
            "Head"
           ],
           "type": "scatter3d",
           "x": [
            0.04620442911982536,
            0.05526450276374817
           ],
           "y": [
            1.6127229928970337,
            1.5020941495895386
           ],
           "z": [
            5.030795574188232,
            5.02544641494751
           ]
          },
          {
           "line": {
            "color": "black",
            "width": 5
           },
           "marker": {
            "color": "blue",
            "size": 2
           },
           "text": [
            "Site"
           ],
           "type": "scatter3d",
           "x": [
            0.031052162870764732,
            0.04620442911982536
           ],
           "y": [
            1.7050338983535767,
            1.6127229928970337
           ],
           "z": [
            5.097987651824951,
            5.030795574188232
           ]
          },
          {
           "line": {
            "color": "black",
            "width": 5
           },
           "marker": {
            "color": "blue",
            "size": 2
           },
           "text": [
            "LShoulder"
           ],
           "type": "scatter3d",
           "x": [
            0.2808414697647095,
            0.05526450276374817
           ],
           "y": [
            1.4301888942718506,
            1.5020941495895386
           ],
           "z": [
            5.097829341888428,
            5.02544641494751
           ]
          },
          {
           "line": {
            "color": "black",
            "width": 5
           },
           "marker": {
            "color": "blue",
            "size": 2
           },
           "text": [
            "LElbow"
           ],
           "type": "scatter3d",
           "x": [
            0.3529258966445923,
            0.2808414697647095
           ],
           "y": [
            0.925298810005188,
            1.4301888942718506
           ],
           "z": [
            5.06556510925293,
            5.097829341888428
           ]
          },
          {
           "line": {
            "color": "black",
            "width": 5
           },
           "marker": {
            "color": "blue",
            "size": 2
           },
           "text": [
            "LWrist"
           ],
           "type": "scatter3d",
           "x": [
            0.38063791394233704,
            0.3529258966445923
           ],
           "y": [
            0.8504046201705933,
            0.925298810005188
           ],
           "z": [
            5.081633567810059,
            5.06556510925293
           ]
          },
          {
           "line": {
            "color": "red",
            "width": 5
           },
           "marker": {
            "color": "blue",
            "size": 2
           },
           "text": [
            "RShoulder"
           ],
           "type": "scatter3d",
           "x": [
            -0.16237875819206238,
            0.05526450276374817
           ],
           "y": [
            1.4271749258041382,
            1.5020941495895386
           ],
           "z": [
            5.054611682891846,
            5.02544641494751
           ]
          },
          {
           "line": {
            "color": "red",
            "width": 5
           },
           "marker": {
            "color": "blue",
            "size": 2
           },
           "text": [
            "RElbow"
           ],
           "type": "scatter3d",
           "x": [
            -0.2530665695667267,
            -0.16237875819206238
           ],
           "y": [
            0.9316087961196899,
            1.4271749258041382
           ],
           "z": [
            5.115074634552002,
            5.054611682891846
           ]
          },
          {
           "line": {
            "color": "red",
            "width": 5
           },
           "marker": {
            "color": "blue",
            "size": 2
           },
           "text": [
            "RWrist"
           ],
           "type": "scatter3d",
           "x": [
            -0.27633151412010193,
            -0.2530665695667267
           ],
           "y": [
            0.8680329322814941,
            0.9316087961196899
           ],
           "z": [
            5.162550449371338,
            5.115074634552002
           ]
          },
          {
           "line": {
            "color": "#1f77b4",
            "width": 1
           },
           "marker": {
            "color": "#1f77b4",
            "size": 1
           },
           "type": "scatter3d",
           "x": [
            0.08945285528898239,
            0.05494445562362671,
            0.029142921790480614,
            0.08420485258102417,
            0.049391523003578186,
            0.03476512059569359,
            0.06587638705968857,
            -0.012351144105196,
            -0.004486811347305775,
            0.06341798603534698,
            0.02993558906018734
           ],
           "y": [
            0.9362757205963135,
            0.9238623380661011,
            0.93375563621521,
            0.9504156112670898,
            0.9415889978408813,
            0.9601356983184814,
            0.9597556591033936,
            0.960822343826294,
            0.9513022899627686,
            0.9644689559936523,
            0.9645756483078003
           ],
           "z": [
            0.1592569351196289,
            0.5889568328857422,
            0.9836969375610352,
            1.4877901077270508,
            1.9819211959838867,
            2.457031726837158,
            2.9346165657043457,
            3.3876633644104004,
            3.8197436332702637,
            4.264210224151611,
            4.745890140533447
           ]
          }
         ],
         "name": "frame12"
        }
       ],
       "layout": {
        "autosize": false,
        "height": 700,
        "scene": {
         "aspectratio": {
          "x": 0.31287356696429747,
          "y": 0.6688809761606699,
          "z": 2.0182454568750328
         },
         "camera": {
          "eye": {
           "x": -1.7428,
           "y": 1.0707,
           "z": 0.71
          },
          "up": {
           "x": 0,
           "y": 1,
           "z": 0
          }
         },
         "xaxis": {
          "range": [
           -0.34879979491233826,
           0.5227108001708984
          ]
         },
         "yaxis": {
          "range": [
           -0.12094688415527344,
           1.7422237992286682
          ]
         },
         "zaxis": {
          "range": [
           0,
           5.621830940246582
          ]
         }
        },
        "sliders": [
         {
          "currentvalue": {
           "font": {
            "size": 12
           },
           "prefix": "slice: ",
           "visible": true,
           "xanchor": "center"
          },
          "len": 1,
          "steps": [
           {
            "args": [
             [
              "frame1"
             ],
             {
              "frame": {
               "duration": 70,
               "redraw": true
              },
              "mode": "immediate",
              "transition": {
               "duration": 0
              }
             }
            ],
            "label": "1",
            "method": "animate"
           },
           {
            "args": [
             [
              "frame2"
             ],
             {
              "frame": {
               "duration": 70,
               "redraw": true
              },
              "mode": "immediate",
              "transition": {
               "duration": 0
              }
             }
            ],
            "label": "2",
            "method": "animate"
           },
           {
            "args": [
             [
              "frame3"
             ],
             {
              "frame": {
               "duration": 70,
               "redraw": true
              },
              "mode": "immediate",
              "transition": {
               "duration": 0
              }
             }
            ],
            "label": "3",
            "method": "animate"
           },
           {
            "args": [
             [
              "frame4"
             ],
             {
              "frame": {
               "duration": 70,
               "redraw": true
              },
              "mode": "immediate",
              "transition": {
               "duration": 0
              }
             }
            ],
            "label": "4",
            "method": "animate"
           },
           {
            "args": [
             [
              "frame5"
             ],
             {
              "frame": {
               "duration": 70,
               "redraw": true
              },
              "mode": "immediate",
              "transition": {
               "duration": 0
              }
             }
            ],
            "label": "5",
            "method": "animate"
           },
           {
            "args": [
             [
              "frame6"
             ],
             {
              "frame": {
               "duration": 70,
               "redraw": true
              },
              "mode": "immediate",
              "transition": {
               "duration": 0
              }
             }
            ],
            "label": "6",
            "method": "animate"
           },
           {
            "args": [
             [
              "frame7"
             ],
             {
              "frame": {
               "duration": 70,
               "redraw": true
              },
              "mode": "immediate",
              "transition": {
               "duration": 0
              }
             }
            ],
            "label": "7",
            "method": "animate"
           },
           {
            "args": [
             [
              "frame8"
             ],
             {
              "frame": {
               "duration": 70,
               "redraw": true
              },
              "mode": "immediate",
              "transition": {
               "duration": 0
              }
             }
            ],
            "label": "8",
            "method": "animate"
           },
           {
            "args": [
             [
              "frame9"
             ],
             {
              "frame": {
               "duration": 70,
               "redraw": true
              },
              "mode": "immediate",
              "transition": {
               "duration": 0
              }
             }
            ],
            "label": "9",
            "method": "animate"
           },
           {
            "args": [
             [
              "frame10"
             ],
             {
              "frame": {
               "duration": 70,
               "redraw": true
              },
              "mode": "immediate",
              "transition": {
               "duration": 0
              }
             }
            ],
            "label": "10",
            "method": "animate"
           },
           {
            "args": [
             [
              "frame11"
             ],
             {
              "frame": {
               "duration": 70,
               "redraw": true
              },
              "mode": "immediate",
              "transition": {
               "duration": 0
              }
             }
            ],
            "label": "11",
            "method": "animate"
           },
           {
            "args": [
             [
              "frame12"
             ],
             {
              "frame": {
               "duration": 70,
               "redraw": true
              },
              "mode": "immediate",
              "transition": {
               "duration": 0
              }
             }
            ],
            "label": "12",
            "method": "animate"
           }
          ],
          "transition": {
           "duration": 0
          },
          "x": 0,
          "y": 0
         }
        ],
        "title": {
         "text": "action animation"
        },
        "updatemenus": [
         {
          "buttons": [
           {
            "args": [
             null
            ],
            "label": "Play",
            "method": "animate"
           }
          ],
          "pad": {
           "r": 10,
           "t": 0
          },
          "showactive": false,
          "type": "buttons",
          "x": 1.3,
          "xanchor": "right",
          "y": 1,
          "yanchor": "top"
         }
        ],
        "width": 800
       }
      },
      "text/html": [
       "<div>\n",
       "        \n",
       "        \n",
       "            <div id=\"88ef92bc-cc6f-4c19-b1c0-332a913fa5c5\" class=\"plotly-graph-div\" style=\"height:700px; width:800px;\"></div>\n",
       "            <script type=\"text/javascript\">\n",
       "                require([\"plotly\"], function(Plotly) {\n",
       "                    window.PLOTLYENV=window.PLOTLYENV || {};\n",
       "                    window.PLOTLYENV.BASE_URL='https://plot.ly';\n",
       "                    \n",
       "                if (document.getElementById(\"88ef92bc-cc6f-4c19-b1c0-332a913fa5c5\")) {\n",
       "                    Plotly.newPlot(\n",
       "                        '88ef92bc-cc6f-4c19-b1c0-332a913fa5c5',\n",
       "                        [{\"line\": {\"color\": \"red\", \"width\": 5}, \"marker\": {\"color\": \"blue\", \"size\": 2}, \"text\": [\"RHip\"], \"type\": \"scatter3d\", \"uid\": \"63ea73fe-4059-49aa-bcd9-6d127d451ec0\", \"x\": [-0.017764799296855927, 0.08945285528898239], \"y\": [0.814637303352356, 0.9362757205963135], \"z\": [0.19206619262695312, 0.1592569351196289]}, {\"line\": {\"color\": \"red\", \"width\": 5}, \"marker\": {\"color\": \"blue\", \"size\": 2}, \"text\": [\"RKnee\"], \"type\": \"scatter3d\", \"uid\": \"8fa4962c-93f5-4eaf-8811-4f69fd8a0b13\", \"x\": [-0.006675504148006439, -0.017764799296855927], \"y\": [0.4040107727050781, 0.814637303352356], \"z\": [0.3457489013671875, 0.19206619262695312]}, {\"line\": {\"color\": \"red\", \"width\": 5}, \"marker\": {\"color\": \"blue\", \"size\": 2}, \"text\": [\"RAnkle\"], \"type\": \"scatter3d\", \"uid\": \"079efe6e-9f9b-428a-9ac9-a47974a4f70d\", \"x\": [0.0, -0.006675504148006439], \"y\": [0.0, 0.4040107727050781], \"z\": [0.0, 0.3457489013671875]}, {\"line\": {\"color\": \"black\", \"width\": 5}, \"marker\": {\"color\": \"blue\", \"size\": 2}, \"text\": [\"LHip\"], \"type\": \"scatter3d\", \"uid\": \"d2a662a8-44c0-4ade-9b68-07002e7d8f5b\", \"x\": [0.19774223864078522, 0.08945285528898239], \"y\": [0.8110958337783813, 0.9362757205963135], \"z\": [0.1874237060546875, 0.1592569351196289]}, {\"line\": {\"color\": \"black\", \"width\": 5}, \"marker\": {\"color\": \"blue\", \"size\": 2}, \"text\": [\"LKnee\"], \"type\": \"scatter3d\", \"uid\": \"652dd205-1688-4837-a63d-3fc35dbbf6df\", \"x\": [0.1460893601179123, 0.19774223864078522], \"y\": [0.38343143463134766, 0.8110958337783813], \"z\": [0.2693805694580078, 0.1874237060546875]}, {\"line\": {\"color\": \"black\", \"width\": 5}, \"marker\": {\"color\": \"blue\", \"size\": 2}, \"text\": [\"LAnkle\"], \"type\": \"scatter3d\", \"uid\": \"2466d7e6-77a5-47ad-9646-eec942ca3adf\", \"x\": [0.12191274762153625, 0.1460893601179123], \"y\": [-0.11676311492919922, 0.38343143463134766], \"z\": [0.09660530090332031, 0.2693805694580078]}, {\"line\": {\"color\": \"black\", \"width\": 5}, \"marker\": {\"color\": \"blue\", \"size\": 2}, \"text\": [\"Spine1\"], \"type\": \"scatter3d\", \"uid\": \"9efa3a8b-c3de-4735-a5b9-f246ca318121\", \"x\": [0.10621404647827148, 0.08945285528898239], \"y\": [1.2162137031555176, 0.9362757205963135], \"z\": [0.17953014373779297, 0.1592569351196289]}, {\"line\": {\"color\": \"black\", \"width\": 5}, \"marker\": {\"color\": \"blue\", \"size\": 2}, \"text\": [\"Neck\"], \"type\": \"scatter3d\", \"uid\": \"b5c6ea52-7e7b-4cc6-bddc-bc2edf6aa01a\", \"x\": [0.12682980298995972, 0.10621404647827148], \"y\": [1.4692847728729248, 1.2162137031555176], \"z\": [0.1666431427001953, 0.17953014373779297]}, {\"line\": {\"color\": \"black\", \"width\": 5}, \"marker\": {\"color\": \"blue\", \"size\": 2}, \"text\": [\"Head\"], \"type\": \"scatter3d\", \"uid\": \"ce4bf215-f51a-4769-9ff8-9580d783aac8\", \"x\": [0.12022276967763901, 0.12682980298995972], \"y\": [1.5794822573661804, 1.4692847728729248], \"z\": [0.17938232421875, 0.1666431427001953]}, {\"line\": {\"color\": \"black\", \"width\": 5}, \"marker\": {\"color\": \"blue\", \"size\": 2}, \"text\": [\"Site\"], \"type\": \"scatter3d\", \"uid\": \"145d9edb-3ffb-445c-8dd2-71e44eac56ef\", \"x\": [0.10800205171108246, 0.12022276967763901], \"y\": [1.6692928671836853, 1.5794822573661804], \"z\": [0.25044822692871094, 0.17938232421875]}, {\"line\": {\"color\": \"black\", \"width\": 5}, \"marker\": {\"color\": \"blue\", \"size\": 2}, \"text\": [\"LShoulder\"], \"type\": \"scatter3d\", \"uid\": \"73e16f46-d096-49ea-b41a-117ddacbd91f\", \"x\": [0.34809496998786926, 0.12682980298995972], \"y\": [1.3704676628112793, 1.4692847728729248], \"z\": [0.184783935546875, 0.1666431427001953]}, {\"line\": {\"color\": \"black\", \"width\": 5}, \"marker\": {\"color\": \"blue\", \"size\": 2}, \"text\": [\"LElbow\"], \"type\": \"scatter3d\", \"uid\": \"7f7dc5c5-85ab-4c4f-be50-ffd506c92c5b\", \"x\": [0.42403727769851685, 0.34809496998786926], \"y\": [0.8978193998336792, 1.3704676628112793], \"z\": [0.20572662353515625, 0.184783935546875]}, {\"line\": {\"color\": \"black\", \"width\": 5}, \"marker\": {\"color\": \"blue\", \"size\": 2}, \"text\": [\"LWrist\"], \"type\": \"scatter3d\", \"uid\": \"ff5ae2b5-8b0e-4d7d-a1f2-5d2c8b312249\", \"x\": [0.46358123421669006, 0.42403727769851685], \"y\": [0.8395411968231201, 0.8978193998336792], \"z\": [0.2466564178466797, 0.20572662353515625]}, {\"line\": {\"color\": \"red\", \"width\": 5}, \"marker\": {\"color\": \"blue\", \"size\": 2}, \"text\": [\"RShoulder\"], \"type\": \"scatter3d\", \"uid\": \"f2525607-6d66-4d0a-8f95-1135a9e12291\", \"x\": [-0.09328984469175339, 0.12682980298995972], \"y\": [1.4087406396865845, 1.4692847728729248], \"z\": [0.22990131378173828, 0.1666431427001953]}, {\"line\": {\"color\": \"red\", \"width\": 5}, \"marker\": {\"color\": \"blue\", \"size\": 2}, \"text\": [\"RElbow\"], \"type\": \"scatter3d\", \"uid\": \"7fd09084-65fa-4532-b20f-6ffde8265062\", \"x\": [-0.2025776505470276, -0.09328984469175339], \"y\": [0.9030660390853882, 1.4087406396865845], \"z\": [0.18494510650634766, 0.22990131378173828]}, {\"line\": {\"color\": \"red\", \"width\": 5}, \"marker\": {\"color\": \"blue\", \"size\": 2}, \"text\": [\"RWrist\"], \"type\": \"scatter3d\", \"uid\": \"4601e86f-bc93-41b9-be61-afbd516d6a9a\", \"x\": [-0.22086840867996216, -0.2025776505470276], \"y\": [0.8265640735626221, 0.9030660390853882], \"z\": [0.21044063568115234, 0.18494510650634766]}, {\"line\": {\"color\": \"#1f77b4\", \"width\": 1}, \"marker\": {\"color\": \"#1f77b4\", \"size\": 1}, \"type\": \"scatter3d\", \"uid\": \"bc981af7-73bf-4743-bf15-78c4db1115dc\", \"x\": [], \"y\": [], \"z\": []}],\n",
       "                        {\"autosize\": false, \"height\": 700, \"scene\": {\"aspectratio\": {\"x\": 0.31287356696429747, \"y\": 0.6688809761606699, \"z\": 2.0182454568750328}, \"camera\": {\"eye\": {\"x\": -1.7428, \"y\": 1.0707, \"z\": 0.71}, \"up\": {\"x\": 0, \"y\": 1, \"z\": 0}}, \"xaxis\": {\"range\": [-0.34879979491233826, 0.5227108001708984]}, \"yaxis\": {\"range\": [-0.12094688415527344, 1.7422237992286682]}, \"zaxis\": {\"range\": [0.0, 5.621830940246582]}}, \"sliders\": [{\"currentvalue\": {\"font\": {\"size\": 12}, \"prefix\": \"slice: \", \"visible\": true, \"xanchor\": \"center\"}, \"len\": 1.0, \"steps\": [{\"args\": [[\"frame1\"], {\"frame\": {\"duration\": 70, \"redraw\": true}, \"mode\": \"immediate\", \"transition\": {\"duration\": 0}}], \"label\": \"1\", \"method\": \"animate\"}, {\"args\": [[\"frame2\"], {\"frame\": {\"duration\": 70, \"redraw\": true}, \"mode\": \"immediate\", \"transition\": {\"duration\": 0}}], \"label\": \"2\", \"method\": \"animate\"}, {\"args\": [[\"frame3\"], {\"frame\": {\"duration\": 70, \"redraw\": true}, \"mode\": \"immediate\", \"transition\": {\"duration\": 0}}], \"label\": \"3\", \"method\": \"animate\"}, {\"args\": [[\"frame4\"], {\"frame\": {\"duration\": 70, \"redraw\": true}, \"mode\": \"immediate\", \"transition\": {\"duration\": 0}}], \"label\": \"4\", \"method\": \"animate\"}, {\"args\": [[\"frame5\"], {\"frame\": {\"duration\": 70, \"redraw\": true}, \"mode\": \"immediate\", \"transition\": {\"duration\": 0}}], \"label\": \"5\", \"method\": \"animate\"}, {\"args\": [[\"frame6\"], {\"frame\": {\"duration\": 70, \"redraw\": true}, \"mode\": \"immediate\", \"transition\": {\"duration\": 0}}], \"label\": \"6\", \"method\": \"animate\"}, {\"args\": [[\"frame7\"], {\"frame\": {\"duration\": 70, \"redraw\": true}, \"mode\": \"immediate\", \"transition\": {\"duration\": 0}}], \"label\": \"7\", \"method\": \"animate\"}, {\"args\": [[\"frame8\"], {\"frame\": {\"duration\": 70, \"redraw\": true}, \"mode\": \"immediate\", \"transition\": {\"duration\": 0}}], \"label\": \"8\", \"method\": \"animate\"}, {\"args\": [[\"frame9\"], {\"frame\": {\"duration\": 70, \"redraw\": true}, \"mode\": \"immediate\", \"transition\": {\"duration\": 0}}], \"label\": \"9\", \"method\": \"animate\"}, {\"args\": [[\"frame10\"], {\"frame\": {\"duration\": 70, \"redraw\": true}, \"mode\": \"immediate\", \"transition\": {\"duration\": 0}}], \"label\": \"10\", \"method\": \"animate\"}, {\"args\": [[\"frame11\"], {\"frame\": {\"duration\": 70, \"redraw\": true}, \"mode\": \"immediate\", \"transition\": {\"duration\": 0}}], \"label\": \"11\", \"method\": \"animate\"}, {\"args\": [[\"frame12\"], {\"frame\": {\"duration\": 70, \"redraw\": true}, \"mode\": \"immediate\", \"transition\": {\"duration\": 0}}], \"label\": \"12\", \"method\": \"animate\"}], \"transition\": {\"duration\": 0}, \"x\": 0, \"y\": 0}], \"title\": {\"text\": \"action animation\"}, \"updatemenus\": [{\"buttons\": [{\"args\": [null], \"label\": \"Play\", \"method\": \"animate\"}], \"pad\": {\"r\": 10, \"t\": 0}, \"showactive\": false, \"type\": \"buttons\", \"x\": 1.3, \"xanchor\": \"right\", \"y\": 1, \"yanchor\": \"top\"}], \"width\": 800},\n",
       "                        {\"linkText\": \"Export to plot.ly\", \"showLink\": false, \"plotlyServerURL\": \"https://plot.ly\", \"responsive\": true}\n",
       "                    ).then(function(){\n",
       "                            Plotly.addFrames('88ef92bc-cc6f-4c19-b1c0-332a913fa5c5', [{\"data\": [{\"y\": [0.814637303352356, 0.9362757205963135], \"z\": [0.19206619262695312, 0.1592569351196289], \"type\": \"scatter3d\", \"x\": [-0.017764799296855927, 0.08945285528898239], \"text\": [\"RHip\"], \"marker\": {\"color\": \"blue\", \"size\": 2}, \"line\": {\"color\": \"red\", \"width\": 5}}, {\"y\": [0.4040107727050781, 0.814637303352356], \"z\": [0.3457489013671875, 0.19206619262695312], \"type\": \"scatter3d\", \"x\": [-0.006675504148006439, -0.017764799296855927], \"text\": [\"RKnee\"], \"marker\": {\"color\": \"blue\", \"size\": 2}, \"line\": {\"color\": \"red\", \"width\": 5}}, {\"y\": [0.0, 0.4040107727050781], \"z\": [0.0, 0.3457489013671875], \"type\": \"scatter3d\", \"x\": [0.0, -0.006675504148006439], \"text\": [\"RAnkle\"], \"marker\": {\"color\": \"blue\", \"size\": 2}, \"line\": {\"color\": \"red\", \"width\": 5}}, {\"y\": [0.8110958337783813, 0.9362757205963135], \"z\": [0.1874237060546875, 0.1592569351196289], \"type\": \"scatter3d\", \"x\": [0.19774223864078522, 0.08945285528898239], \"text\": [\"LHip\"], \"marker\": {\"color\": \"blue\", \"size\": 2}, \"line\": {\"color\": \"black\", \"width\": 5}}, {\"y\": [0.38343143463134766, 0.8110958337783813], \"z\": [0.2693805694580078, 0.1874237060546875], \"type\": \"scatter3d\", \"x\": [0.1460893601179123, 0.19774223864078522], \"text\": [\"LKnee\"], \"marker\": {\"color\": \"blue\", \"size\": 2}, \"line\": {\"color\": \"black\", \"width\": 5}}, {\"y\": [-0.11676311492919922, 0.38343143463134766], \"z\": [0.09660530090332031, 0.2693805694580078], \"type\": \"scatter3d\", \"x\": [0.12191274762153625, 0.1460893601179123], \"text\": [\"LAnkle\"], \"marker\": {\"color\": \"blue\", \"size\": 2}, \"line\": {\"color\": \"black\", \"width\": 5}}, {\"y\": [1.2162137031555176, 0.9362757205963135], \"z\": [0.17953014373779297, 0.1592569351196289], \"type\": \"scatter3d\", \"x\": [0.10621404647827148, 0.08945285528898239], \"text\": [\"Spine1\"], \"marker\": {\"color\": \"blue\", \"size\": 2}, \"line\": {\"color\": \"black\", \"width\": 5}}, {\"y\": [1.4692847728729248, 1.2162137031555176], \"z\": [0.1666431427001953, 0.17953014373779297], \"type\": \"scatter3d\", \"x\": [0.12682980298995972, 0.10621404647827148], \"text\": [\"Neck\"], \"marker\": {\"color\": \"blue\", \"size\": 2}, \"line\": {\"color\": \"black\", \"width\": 5}}, {\"y\": [1.5794822573661804, 1.4692847728729248], \"z\": [0.17938232421875, 0.1666431427001953], \"type\": \"scatter3d\", \"x\": [0.12022276967763901, 0.12682980298995972], \"text\": [\"Head\"], \"marker\": {\"color\": \"blue\", \"size\": 2}, \"line\": {\"color\": \"black\", \"width\": 5}}, {\"y\": [1.6692928671836853, 1.5794822573661804], \"z\": [0.25044822692871094, 0.17938232421875], \"type\": \"scatter3d\", \"x\": [0.10800205171108246, 0.12022276967763901], \"text\": [\"Site\"], \"marker\": {\"color\": \"blue\", \"size\": 2}, \"line\": {\"color\": \"black\", \"width\": 5}}, {\"y\": [1.3704676628112793, 1.4692847728729248], \"z\": [0.184783935546875, 0.1666431427001953], \"type\": \"scatter3d\", \"x\": [0.34809496998786926, 0.12682980298995972], \"text\": [\"LShoulder\"], \"marker\": {\"color\": \"blue\", \"size\": 2}, \"line\": {\"color\": \"black\", \"width\": 5}}, {\"y\": [0.8978193998336792, 1.3704676628112793], \"z\": [0.20572662353515625, 0.184783935546875], \"type\": \"scatter3d\", \"x\": [0.42403727769851685, 0.34809496998786926], \"text\": [\"LElbow\"], \"marker\": {\"color\": \"blue\", \"size\": 2}, \"line\": {\"color\": \"black\", \"width\": 5}}, {\"y\": [0.8395411968231201, 0.8978193998336792], \"z\": [0.2466564178466797, 0.20572662353515625], \"type\": \"scatter3d\", \"x\": [0.46358123421669006, 0.42403727769851685], \"text\": [\"LWrist\"], \"marker\": {\"color\": \"blue\", \"size\": 2}, \"line\": {\"color\": \"black\", \"width\": 5}}, {\"y\": [1.4087406396865845, 1.4692847728729248], \"z\": [0.22990131378173828, 0.1666431427001953], \"type\": \"scatter3d\", \"x\": [-0.09328984469175339, 0.12682980298995972], \"text\": [\"RShoulder\"], \"marker\": {\"color\": \"blue\", \"size\": 2}, \"line\": {\"color\": \"red\", \"width\": 5}}, {\"y\": [0.9030660390853882, 1.4087406396865845], \"z\": [0.18494510650634766, 0.22990131378173828], \"type\": \"scatter3d\", \"x\": [-0.2025776505470276, -0.09328984469175339], \"text\": [\"RElbow\"], \"marker\": {\"color\": \"blue\", \"size\": 2}, \"line\": {\"color\": \"red\", \"width\": 5}}, {\"y\": [0.8265640735626221, 0.9030660390853882], \"z\": [0.21044063568115234, 0.18494510650634766], \"type\": \"scatter3d\", \"x\": [-0.22086840867996216, -0.2025776505470276], \"text\": [\"RWrist\"], \"marker\": {\"color\": \"blue\", \"size\": 2}, \"line\": {\"color\": \"red\", \"width\": 5}}, {\"y\": [], \"z\": [], \"type\": \"scatter3d\", \"x\": [], \"marker\": {\"color\": \"#1f77b4\", \"size\": 1}, \"line\": {\"color\": \"#1f77b4\", \"width\": 1}}], \"name\": \"frame1\"}, {\"data\": [{\"y\": [0.808623194694519, 0.9238623380661011], \"z\": [0.6269035339355469, 0.5889568328857422], \"type\": \"scatter3d\", \"x\": [-0.05751851946115494, 0.05494445562362671], \"text\": [\"RHip\"], \"marker\": {\"color\": \"blue\", \"size\": 2}, \"line\": {\"color\": \"red\", \"width\": 5}}, {\"y\": [0.40982067584991455, 0.808623194694519], \"z\": [0.8043994903564453, 0.6269035339355469], \"type\": \"scatter3d\", \"x\": [-0.015006214380264282, -0.05751851946115494], \"text\": [\"RKnee\"], \"marker\": {\"color\": \"blue\", \"size\": 2}, \"line\": {\"color\": \"red\", \"width\": 5}}, {\"y\": [-0.12081718444824219, 0.40982067584991455], \"z\": [0.7694406509399414, 0.8043994903564453], \"type\": \"scatter3d\", \"x\": [-0.018548473715782166, -0.015006214380264282], \"text\": [\"RAnkle\"], \"marker\": {\"color\": \"blue\", \"size\": 2}, \"line\": {\"color\": \"red\", \"width\": 5}}, {\"y\": [0.7935845851898193, 0.9238623380661011], \"z\": [0.6162576675415039, 0.5889568328857422], \"type\": \"scatter3d\", \"x\": [0.15727877616882324, 0.05494445562362671], \"text\": [\"LHip\"], \"marker\": {\"color\": \"blue\", \"size\": 2}, \"line\": {\"color\": \"black\", \"width\": 5}}, {\"y\": [0.37063097953796387, 0.7935845851898193], \"z\": [0.5040702819824219, 0.6162576675415039], \"type\": \"scatter3d\", \"x\": [0.12888862192630768, 0.15727877616882324], \"text\": [\"LKnee\"], \"marker\": {\"color\": \"blue\", \"size\": 2}, \"line\": {\"color\": \"black\", \"width\": 5}}, {\"y\": [-0.032044410705566406, 0.37063097953796387], \"z\": [0.15991783142089844, 0.5040702819824219], \"type\": \"scatter3d\", \"x\": [0.12242358177900314, 0.12888862192630768], \"text\": [\"LAnkle\"], \"marker\": {\"color\": \"blue\", \"size\": 2}, \"line\": {\"color\": \"black\", \"width\": 5}}, {\"y\": [1.2047806978225708, 0.9238623380661011], \"z\": [0.5951528549194336, 0.5889568328857422], \"type\": \"scatter3d\", \"x\": [0.05692664533853531, 0.05494445562362671], \"text\": [\"Spine1\"], \"marker\": {\"color\": \"blue\", \"size\": 2}, \"line\": {\"color\": \"black\", \"width\": 5}}, {\"y\": [1.4551589488983154, 1.2047806978225708], \"z\": [0.5659198760986328, 0.5951528549194336], \"type\": \"scatter3d\", \"x\": [0.054351989179849625, 0.05692664533853531], \"text\": [\"Neck\"], \"marker\": {\"color\": \"blue\", \"size\": 2}, \"line\": {\"color\": \"black\", \"width\": 5}}, {\"y\": [1.565288782119751, 1.4551589488983154], \"z\": [0.5510597229003906, 0.5659198760986328], \"type\": \"scatter3d\", \"x\": [0.05413974076509476, 0.054351989179849625], \"text\": [\"Head\"], \"marker\": {\"color\": \"blue\", \"size\": 2}, \"line\": {\"color\": \"black\", \"width\": 5}}, {\"y\": [1.672288954257965, 1.565288782119751], \"z\": [0.5930118560791016, 0.5510597229003906], \"type\": \"scatter3d\", \"x\": [0.04661114513874054, 0.05413974076509476], \"text\": [\"Site\"], \"marker\": {\"color\": \"blue\", \"size\": 2}, \"line\": {\"color\": \"black\", \"width\": 5}}, {\"y\": [1.3882680535316467, 1.4551589488983154], \"z\": [0.6228322982788086, 0.5659198760986328], \"type\": \"scatter3d\", \"x\": [0.27577483654022217, 0.054351989179849625], \"text\": [\"LShoulder\"], \"marker\": {\"color\": \"blue\", \"size\": 2}, \"line\": {\"color\": \"black\", \"width\": 5}}, {\"y\": [0.9143146276473999, 1.3882680535316467], \"z\": [0.6273288726806641, 0.6228322982788086], \"type\": \"scatter3d\", \"x\": [0.3804469406604767, 0.27577483654022217], \"text\": [\"LElbow\"], \"marker\": {\"color\": \"blue\", \"size\": 2}, \"line\": {\"color\": \"black\", \"width\": 5}}, {\"y\": [0.8530375957489014, 0.9143146276473999], \"z\": [0.6678619384765625, 0.6273288726806641], \"type\": \"scatter3d\", \"x\": [0.4156246483325958, 0.3804469406604767], \"text\": [\"LWrist\"], \"marker\": {\"color\": \"blue\", \"size\": 2}, \"line\": {\"color\": \"black\", \"width\": 5}}, {\"y\": [1.3715118765830994, 1.4551589488983154], \"z\": [0.6168813705444336, 0.5659198760986328], \"type\": \"scatter3d\", \"x\": [-0.16920246183872223, 0.054351989179849625], \"text\": [\"RShoulder\"], \"marker\": {\"color\": \"blue\", \"size\": 2}, \"line\": {\"color\": \"red\", \"width\": 5}}, {\"y\": [0.8496273756027222, 1.3715118765830994], \"z\": [0.5325736999511719, 0.6168813705444336], \"type\": \"scatter3d\", \"x\": [-0.20763036608695984, -0.16920246183872223], \"text\": [\"RElbow\"], \"marker\": {\"color\": \"blue\", \"size\": 2}, \"line\": {\"color\": \"red\", \"width\": 5}}, {\"y\": [0.7682080268859863, 0.8496273756027222], \"z\": [0.5398454666137695, 0.5325736999511719], \"type\": \"scatter3d\", \"x\": [-0.22008457779884338, -0.20763036608695984], \"text\": [\"RWrist\"], \"marker\": {\"color\": \"blue\", \"size\": 2}, \"line\": {\"color\": \"red\", \"width\": 5}}, {\"y\": [0.9362757205963135], \"z\": [0.1592569351196289], \"type\": \"scatter3d\", \"x\": [0.08945285528898239], \"marker\": {\"color\": \"#1f77b4\", \"size\": 1}, \"line\": {\"color\": \"#1f77b4\", \"width\": 1}}], \"name\": \"frame2\"}, {\"data\": [{\"y\": [0.8210949897766113, 0.93375563621521], \"z\": [1.0202131271362305, 0.9836969375610352], \"type\": \"scatter3d\", \"x\": [-0.0863649994134903, 0.029142921790480614], \"text\": [\"RHip\"], \"marker\": {\"color\": \"blue\", \"size\": 2}, \"line\": {\"color\": \"red\", \"width\": 5}}, {\"y\": [0.3882167339324951, 0.8210949897766113], \"z\": [0.9776163101196289, 1.0202131271362305], \"type\": \"scatter3d\", \"x\": [-0.03017488680779934, -0.0863649994134903], \"text\": [\"RKnee\"], \"marker\": {\"color\": \"blue\", \"size\": 2}, \"line\": {\"color\": \"red\", \"width\": 5}}, {\"y\": [-0.10386800765991211, 0.3882167339324951], \"z\": [0.7778072357177734, 0.9776163101196289], \"type\": \"scatter3d\", \"x\": [-0.002962922677397728, -0.03017488680779934], \"text\": [\"RAnkle\"], \"marker\": {\"color\": \"blue\", \"size\": 2}, \"line\": {\"color\": \"red\", \"width\": 5}}, {\"y\": [0.8026282787322998, 0.93375563621521], \"z\": [1.0174808502197266, 0.9836969375610352], \"type\": \"scatter3d\", \"x\": [0.12841135263442993, 0.029142921790480614], \"text\": [\"LHip\"], \"marker\": {\"color\": \"blue\", \"size\": 2}, \"line\": {\"color\": \"black\", \"width\": 5}}, {\"y\": [0.4312152862548828, 0.8026282787322998], \"z\": [1.249307632446289, 1.0174808502197266], \"type\": \"scatter3d\", \"x\": [0.10411337018013, 0.12841135263442993], \"text\": [\"LKnee\"], \"marker\": {\"color\": \"blue\", \"size\": 2}, \"line\": {\"color\": \"black\", \"width\": 5}}, {\"y\": [-0.09688901901245117, 0.4312152862548828], \"z\": [1.2873754501342773, 1.249307632446289], \"type\": \"scatter3d\", \"x\": [0.08717090636491776, 0.10411337018013], \"text\": [\"LAnkle\"], \"marker\": {\"color\": \"blue\", \"size\": 2}, \"line\": {\"color\": \"black\", \"width\": 5}}, {\"y\": [1.2130988836288452, 0.93375563621521], \"z\": [1.0119342803955078, 0.9836969375610352], \"type\": \"scatter3d\", \"x\": [0.014028757810592651, 0.029142921790480614], \"text\": [\"Spine1\"], \"marker\": {\"color\": \"blue\", \"size\": 2}, \"line\": {\"color\": \"black\", \"width\": 5}}, {\"y\": [1.4651546478271484, 1.2130988836288452], \"z\": [0.9990835189819336, 1.0119342803955078], \"type\": \"scatter3d\", \"x\": [0.010744165629148483, 0.014028757810592651], \"text\": [\"Neck\"], \"marker\": {\"color\": \"blue\", \"size\": 2}, \"line\": {\"color\": \"black\", \"width\": 5}}, {\"y\": [1.5761247277259827, 1.4651546478271484], \"z\": [0.9939708709716797, 0.9990835189819336], \"type\": \"scatter3d\", \"x\": [0.01373702846467495, 0.010744165629148483], \"text\": [\"Head\"], \"marker\": {\"color\": \"blue\", \"size\": 2}, \"line\": {\"color\": \"black\", \"width\": 5}}, {\"y\": [1.6783040165901184, 1.5761247277259827], \"z\": [1.0460920333862305, 0.9939708709716797], \"type\": \"scatter3d\", \"x\": [0.024150250479578972, 0.01373702846467495], \"text\": [\"Site\"], \"marker\": {\"color\": \"blue\", \"size\": 2}, \"line\": {\"color\": \"black\", \"width\": 5}}, {\"y\": [1.385355830192566, 1.4651546478271484], \"z\": [1.0298042297363281, 0.9990835189819336], \"type\": \"scatter3d\", \"x\": [0.2428005039691925, 0.010744165629148483], \"text\": [\"LShoulder\"], \"marker\": {\"color\": \"blue\", \"size\": 2}, \"line\": {\"color\": \"black\", \"width\": 5}}, {\"y\": [0.8988479375839233, 1.385355830192566], \"z\": [0.866511344909668, 1.0298042297363281], \"type\": \"scatter3d\", \"x\": [0.27990299463272095, 0.2428005039691925], \"text\": [\"LElbow\"], \"marker\": {\"color\": \"blue\", \"size\": 2}, \"line\": {\"color\": \"black\", \"width\": 5}}, {\"y\": [0.8220945596694946, 0.8988479375839233], \"z\": [0.8546638488769531, 0.866511344909668], \"type\": \"scatter3d\", \"x\": [0.30447638034820557, 0.27990299463272095], \"text\": [\"LWrist\"], \"marker\": {\"color\": \"blue\", \"size\": 2}, \"line\": {\"color\": \"black\", \"width\": 5}}, {\"y\": [1.387039840221405, 1.4651546478271484], \"z\": [1.0655345916748047, 0.9990835189819336], \"type\": \"scatter3d\", \"x\": [-0.20109307765960693, 0.010744165629148483], \"text\": [\"RShoulder\"], \"marker\": {\"color\": \"blue\", \"size\": 2}, \"line\": {\"color\": \"red\", \"width\": 5}}, {\"y\": [0.8837281465530396, 1.387039840221405], \"z\": [1.1290159225463867, 1.0655345916748047], \"type\": \"scatter3d\", \"x\": [-0.2908673882484436, -0.20109307765960693], \"text\": [\"RElbow\"], \"marker\": {\"color\": \"blue\", \"size\": 2}, \"line\": {\"color\": \"red\", \"width\": 5}}, {\"y\": [0.8153194189071655, 0.8837281465530396], \"z\": [1.1734199523925781, 1.1290159225463867], \"type\": \"scatter3d\", \"x\": [-0.3044931888580322, -0.2908673882484436], \"text\": [\"RWrist\"], \"marker\": {\"color\": \"blue\", \"size\": 2}, \"line\": {\"color\": \"red\", \"width\": 5}}, {\"y\": [0.9362757205963135, 0.9238623380661011], \"z\": [0.1592569351196289, 0.5889568328857422], \"type\": \"scatter3d\", \"x\": [0.08945285528898239, 0.05494445562362671], \"marker\": {\"color\": \"#1f77b4\", \"size\": 1}, \"line\": {\"color\": \"#1f77b4\", \"width\": 1}}], \"name\": \"frame3\"}, {\"data\": [{\"y\": [0.8263452053070068, 0.9504156112670898], \"z\": [1.517247200012207, 1.4877901077270508], \"type\": \"scatter3d\", \"x\": [-0.021183818578720093, 0.08420485258102417], \"text\": [\"RHip\"], \"marker\": {\"color\": \"blue\", \"size\": 2}, \"line\": {\"color\": \"red\", \"width\": 5}}, {\"y\": [0.4096120595932007, 0.8263452053070068], \"z\": [1.6532135009765625, 1.517247200012207], \"type\": \"scatter3d\", \"x\": [-0.006965942680835724, -0.021183818578720093], \"text\": [\"RKnee\"], \"marker\": {\"color\": \"blue\", \"size\": 2}, \"line\": {\"color\": \"red\", \"width\": 5}}, {\"y\": [0.011557579040527344, 0.4096120595932007], \"z\": [1.3015871047973633, 1.6532135009765625], \"type\": \"scatter3d\", \"x\": [0.01992255449295044, -0.006965942680835724], \"text\": [\"RAnkle\"], \"marker\": {\"color\": \"blue\", \"size\": 2}, \"line\": {\"color\": \"red\", \"width\": 5}}, {\"y\": [0.8280595541000366, 0.9504156112670898], \"z\": [1.520700454711914, 1.4877901077270508], \"type\": \"scatter3d\", \"x\": [0.19436782598495483, 0.08420485258102417], \"text\": [\"LHip\"], \"marker\": {\"color\": \"blue\", \"size\": 2}, \"line\": {\"color\": \"black\", \"width\": 5}}, {\"y\": [0.40446484088897705, 0.8280595541000366], \"z\": [1.6199712753295898, 1.520700454711914], \"type\": \"scatter3d\", \"x\": [0.13964562118053436, 0.19436782598495483], \"text\": [\"LKnee\"], \"marker\": {\"color\": \"blue\", \"size\": 2}, \"line\": {\"color\": \"black\", \"width\": 5}}, {\"y\": [-0.10056948661804199, 0.40446484088897705], \"z\": [1.460886001586914, 1.6199712753295898], \"type\": \"scatter3d\", \"x\": [0.12345191836357117, 0.13964562118053436], \"text\": [\"LAnkle\"], \"marker\": {\"color\": \"blue\", \"size\": 2}, \"line\": {\"color\": \"black\", \"width\": 5}}, {\"y\": [1.2309666872024536, 0.9504156112670898], \"z\": [1.5000553131103516, 1.4877901077270508], \"type\": \"scatter3d\", \"x\": [0.09751395881175995, 0.08420485258102417], \"text\": [\"Spine1\"], \"marker\": {\"color\": \"blue\", \"size\": 2}, \"line\": {\"color\": \"black\", \"width\": 5}}, {\"y\": [1.4834908843040466, 1.2309666872024536], \"z\": [1.4754571914672852, 1.5000553131103516], \"type\": \"scatter3d\", \"x\": [0.10533054172992706, 0.09751395881175995], \"text\": [\"Neck\"], \"marker\": {\"color\": \"blue\", \"size\": 2}, \"line\": {\"color\": \"black\", \"width\": 5}}, {\"y\": [1.5944556593894958, 1.4834908843040466], \"z\": [1.4788084030151367, 1.4754571914672852], \"type\": \"scatter3d\", \"x\": [0.11033333092927933, 0.10533054172992706], \"text\": [\"Head\"], \"marker\": {\"color\": \"blue\", \"size\": 2}, \"line\": {\"color\": \"black\", \"width\": 5}}, {\"y\": [1.6910406351089478, 1.5944556593894958], \"z\": [1.5407962799072266, 1.4788084030151367], \"type\": \"scatter3d\", \"x\": [0.12005330622196198, 0.11033333092927933], \"text\": [\"Site\"], \"marker\": {\"color\": \"blue\", \"size\": 2}, \"line\": {\"color\": \"black\", \"width\": 5}}, {\"y\": [1.3960096836090088, 1.4834908843040466], \"z\": [1.495793342590332, 1.4754571914672852], \"type\": \"scatter3d\", \"x\": [0.33218592405319214, 0.10533054172992706], \"text\": [\"LShoulder\"], \"marker\": {\"color\": \"blue\", \"size\": 2}, \"line\": {\"color\": \"black\", \"width\": 5}}, {\"y\": [0.9077967405319214, 1.3960096836090088], \"z\": [1.5362329483032227, 1.495793342590332], \"type\": \"scatter3d\", \"x\": [0.4086776673793793, 0.33218592405319214], \"text\": [\"LElbow\"], \"marker\": {\"color\": \"blue\", \"size\": 2}, \"line\": {\"color\": \"black\", \"width\": 5}}, {\"y\": [0.8435153961181641, 0.9077967405319214], \"z\": [1.5730247497558594, 1.5362329483032227], \"type\": \"scatter3d\", \"x\": [0.44258278608322144, 0.4086776673793793], \"text\": [\"LWrist\"], \"marker\": {\"color\": \"blue\", \"size\": 2}, \"line\": {\"color\": \"black\", \"width\": 5}}, {\"y\": [1.415972650051117, 1.4834908843040466], \"z\": [1.5474271774291992, 1.4754571914672852], \"type\": \"scatter3d\", \"x\": [-0.10969239473342896, 0.10533054172992706], \"text\": [\"RShoulder\"], \"marker\": {\"color\": \"blue\", \"size\": 2}, \"line\": {\"color\": \"red\", \"width\": 5}}, {\"y\": [0.89984130859375, 1.415972650051117], \"z\": [1.4910354614257812, 1.5474271774291992], \"type\": \"scatter3d\", \"x\": [-0.18938174843788147, -0.10969239473342896], \"text\": [\"RElbow\"], \"marker\": {\"color\": \"blue\", \"size\": 2}, \"line\": {\"color\": \"red\", \"width\": 5}}, {\"y\": [0.8208736181259155, 0.89984130859375], \"z\": [1.5088157653808594, 1.4910354614257812], \"type\": \"scatter3d\", \"x\": [-0.20626461505889893, -0.18938174843788147], \"text\": [\"RWrist\"], \"marker\": {\"color\": \"blue\", \"size\": 2}, \"line\": {\"color\": \"red\", \"width\": 5}}, {\"y\": [0.9362757205963135, 0.9238623380661011, 0.93375563621521], \"z\": [0.1592569351196289, 0.5889568328857422, 0.9836969375610352], \"type\": \"scatter3d\", \"x\": [0.08945285528898239, 0.05494445562362671, 0.029142921790480614], \"marker\": {\"color\": \"#1f77b4\", \"size\": 1}, \"line\": {\"color\": \"#1f77b4\", \"width\": 1}}], \"name\": \"frame4\"}, {\"data\": [{\"y\": [0.8262137174606323, 0.9415889978408813], \"z\": [2.0196895599365234, 1.9819211959838867], \"type\": \"scatter3d\", \"x\": [-0.06299198418855667, 0.049391523003578186], \"text\": [\"RHip\"], \"marker\": {\"color\": \"blue\", \"size\": 2}, \"line\": {\"color\": \"red\", \"width\": 5}}, {\"y\": [0.4294404983520508, 0.8262137174606323], \"z\": [2.198923110961914, 2.0196895599365234], \"type\": \"scatter3d\", \"x\": [-0.010059721767902374, -0.06299198418855667], \"text\": [\"RKnee\"], \"marker\": {\"color\": \"blue\", \"size\": 2}, \"line\": {\"color\": \"red\", \"width\": 5}}, {\"y\": [-0.09833240509033203, 0.4294404983520508], \"z\": [2.1338233947753906, 2.198923110961914], \"type\": \"scatter3d\", \"x\": [-0.015476353466510773, -0.010059721767902374], \"text\": [\"RAnkle\"], \"marker\": {\"color\": \"blue\", \"size\": 2}, \"line\": {\"color\": \"red\", \"width\": 5}}, {\"y\": [0.8157215118408203, 0.9415889978408813], \"z\": [2.023843288421631, 1.9819211959838867], \"type\": \"scatter3d\", \"x\": [0.15229859948158264, 0.049391523003578186], \"text\": [\"LHip\"], \"marker\": {\"color\": \"blue\", \"size\": 2}, \"line\": {\"color\": \"black\", \"width\": 5}}, {\"y\": [0.38234376907348633, 0.8157215118408203], \"z\": [1.9640445709228516, 2.023843288421631], \"type\": \"scatter3d\", \"x\": [0.12247196584939957, 0.15229859948158264], \"text\": [\"LKnee\"], \"marker\": {\"color\": \"blue\", \"size\": 2}, \"line\": {\"color\": \"black\", \"width\": 5}}, {\"y\": [0.017541885375976562, 0.38234376907348633], \"z\": [1.5799760818481445, 1.9640445709228516], \"type\": \"scatter3d\", \"x\": [0.11608230322599411, 0.12247196584939957], \"text\": [\"LAnkle\"], \"marker\": {\"color\": \"blue\", \"size\": 2}, \"line\": {\"color\": \"black\", \"width\": 5}}, {\"y\": [1.2224278450012207, 0.9415889978408813], \"z\": [1.992875099182129, 1.9819211959838867], \"type\": \"scatter3d\", \"x\": [0.04463638365268707, 0.049391523003578186], \"text\": [\"Spine1\"], \"marker\": {\"color\": \"blue\", \"size\": 2}, \"line\": {\"color\": \"black\", \"width\": 5}}, {\"y\": [1.4752124547958374, 1.2224278450012207], \"z\": [1.975113868713379, 1.992875099182129], \"type\": \"scatter3d\", \"x\": [0.0294790081679821, 0.04463638365268707], \"text\": [\"Neck\"], \"marker\": {\"color\": \"blue\", \"size\": 2}, \"line\": {\"color\": \"black\", \"width\": 5}}, {\"y\": [1.5853979587554932, 1.4752124547958374], \"z\": [1.9895191192626953, 1.975113868713379], \"type\": \"scatter3d\", \"x\": [0.02844029851257801, 0.0294790081679821], \"text\": [\"Head\"], \"marker\": {\"color\": \"blue\", \"size\": 2}, \"line\": {\"color\": \"black\", \"width\": 5}}, {\"y\": [1.6726118922233582, 1.5853979587554932], \"z\": [2.0644097328186035, 1.9895191192626953], \"type\": \"scatter3d\", \"x\": [0.03557218611240387, 0.02844029851257801], \"text\": [\"Site\"], \"marker\": {\"color\": \"blue\", \"size\": 2}, \"line\": {\"color\": \"black\", \"width\": 5}}, {\"y\": [1.4062297940254211, 1.4752124547958374], \"z\": [2.006380081176758, 1.975113868713379], \"type\": \"scatter3d\", \"x\": [0.26455166935920715, 0.0294790081679821], \"text\": [\"LShoulder\"], \"marker\": {\"color\": \"blue\", \"size\": 2}, \"line\": {\"color\": \"black\", \"width\": 5}}, {\"y\": [0.9371953010559082, 1.4062297940254211], \"z\": [1.9811410903930664, 2.006380081176758], \"type\": \"scatter3d\", \"x\": [0.4071531295776367, 0.26455166935920715], \"text\": [\"LElbow\"], \"marker\": {\"color\": \"blue\", \"size\": 2}, \"line\": {\"color\": \"black\", \"width\": 5}}, {\"y\": [0.8760550022125244, 0.9371953010559082], \"z\": [2.011521339416504, 1.9811410903930664], \"type\": \"scatter3d\", \"x\": [0.4515851140022278, 0.4071531295776367], \"text\": [\"LWrist\"], \"marker\": {\"color\": \"blue\", \"size\": 2}, \"line\": {\"color\": \"black\", \"width\": 5}}, {\"y\": [1.388290286064148, 1.4752124547958374], \"z\": [2.032876491546631, 1.975113868713379], \"type\": \"scatter3d\", \"x\": [-0.17962969839572906, 0.0294790081679821], \"text\": [\"RShoulder\"], \"marker\": {\"color\": \"blue\", \"size\": 2}, \"line\": {\"color\": \"red\", \"width\": 5}}, {\"y\": [0.8670960664749146, 1.388290286064148], \"z\": [1.965043067932129, 2.032876491546631], \"type\": \"scatter3d\", \"x\": [-0.23967112600803375, -0.17962969839572906], \"text\": [\"RElbow\"], \"marker\": {\"color\": \"blue\", \"size\": 2}, \"line\": {\"color\": \"red\", \"width\": 5}}, {\"y\": [0.7868738174438477, 0.8670960664749146], \"z\": [1.9759330749511719, 1.965043067932129], \"type\": \"scatter3d\", \"x\": [-0.25648999214172363, -0.23967112600803375], \"text\": [\"RWrist\"], \"marker\": {\"color\": \"blue\", \"size\": 2}, \"line\": {\"color\": \"red\", \"width\": 5}}, {\"y\": [0.9362757205963135, 0.9238623380661011, 0.93375563621521, 0.9504156112670898], \"z\": [0.1592569351196289, 0.5889568328857422, 0.9836969375610352, 1.4877901077270508], \"type\": \"scatter3d\", \"x\": [0.08945285528898239, 0.05494445562362671, 0.029142921790480614, 0.08420485258102417], \"marker\": {\"color\": \"#1f77b4\", \"size\": 1}, \"line\": {\"color\": \"#1f77b4\", \"width\": 1}}], \"name\": \"frame5\"}, {\"data\": [{\"y\": [0.847511887550354, 0.9601356983184814], \"z\": [2.484895706176758, 2.457031726837158], \"type\": \"scatter3d\", \"x\": [-0.08316461741924286, 0.03476512059569359], \"text\": [\"RHip\"], \"marker\": {\"color\": \"blue\", \"size\": 2}, \"line\": {\"color\": \"red\", \"width\": 5}}, {\"y\": [0.4375647306442261, 0.847511887550354], \"z\": [2.332547187805176, 2.484895706176758], \"type\": \"scatter3d\", \"x\": [-0.05016836151480675, -0.08316461741924286], \"text\": [\"RKnee\"], \"marker\": {\"color\": \"blue\", \"size\": 2}, \"line\": {\"color\": \"red\", \"width\": 5}}, {\"y\": [-0.05951261520385742, 0.4375647306442261], \"z\": [2.1478185653686523, 2.332547187805176], \"type\": \"scatter3d\", \"x\": [-0.010159071534872055, -0.05016836151480675], \"text\": [\"RAnkle\"], \"marker\": {\"color\": \"blue\", \"size\": 2}, \"line\": {\"color\": \"red\", \"width\": 5}}, {\"y\": [0.8284749984741211, 0.9601356983184814], \"z\": [2.4962854385375977, 2.457031726837158], \"type\": \"scatter3d\", \"x\": [0.13127709925174713, 0.03476512059569359], \"text\": [\"LHip\"], \"marker\": {\"color\": \"blue\", \"size\": 2}, \"line\": {\"color\": \"black\", \"width\": 5}}, {\"y\": [0.4422595500946045, 0.8284749984741211], \"z\": [2.7016854286193848, 2.4962854385375977], \"type\": \"scatter3d\", \"x\": [0.1007755696773529, 0.13127709925174713], \"text\": [\"LKnee\"], \"marker\": {\"color\": \"blue\", \"size\": 2}, \"line\": {\"color\": \"black\", \"width\": 5}}, {\"y\": [-0.08334779739379883, 0.4422595500946045], \"z\": [2.7666306495666504, 2.7016854286193848], \"type\": \"scatter3d\", \"x\": [0.11299289762973785, 0.1007755696773529], \"text\": [\"LAnkle\"], \"marker\": {\"color\": \"blue\", \"size\": 2}, \"line\": {\"color\": \"black\", \"width\": 5}}, {\"y\": [1.2405831813812256, 0.9601356983184814], \"z\": [2.471609592437744, 2.457031726837158], \"type\": \"scatter3d\", \"x\": [0.02114972285926342, 0.03476512059569359], \"text\": [\"Spine1\"], \"marker\": {\"color\": \"blue\", \"size\": 2}, \"line\": {\"color\": \"black\", \"width\": 5}}, {\"y\": [1.4931406378746033, 1.2405831813812256], \"z\": [2.4513750076293945, 2.471609592437744], \"type\": \"scatter3d\", \"x\": [0.02052152529358864, 0.02114972285926342], \"text\": [\"Neck\"], \"marker\": {\"color\": \"blue\", \"size\": 2}, \"line\": {\"color\": \"black\", \"width\": 5}}, {\"y\": [1.6040124893188477, 1.4931406378746033], \"z\": [2.457843780517578, 2.4513750076293945], \"type\": \"scatter3d\", \"x\": [0.024399448186159134, 0.02052152529358864], \"text\": [\"Head\"], \"marker\": {\"color\": \"blue\", \"size\": 2}, \"line\": {\"color\": \"black\", \"width\": 5}}, {\"y\": [1.6974294185638428, 1.6040124893188477], \"z\": [2.524289131164551, 2.457843780517578], \"type\": \"scatter3d\", \"x\": [0.035534050315618515, 0.024399448186159134], \"text\": [\"Site\"], \"marker\": {\"color\": \"blue\", \"size\": 2}, \"line\": {\"color\": \"black\", \"width\": 5}}, {\"y\": [1.411643624305725, 1.4931406378746033], \"z\": [2.486973285675049, 2.4513750076293945], \"type\": \"scatter3d\", \"x\": [0.25099867582321167, 0.02052152529358864], \"text\": [\"LShoulder\"], \"marker\": {\"color\": \"blue\", \"size\": 2}, \"line\": {\"color\": \"black\", \"width\": 5}}, {\"y\": [0.9231274127960205, 1.411643624305725], \"z\": [2.3256545066833496, 2.486973285675049], \"type\": \"scatter3d\", \"x\": [0.2887393832206726, 0.25099867582321167], \"text\": [\"LElbow\"], \"marker\": {\"color\": \"blue\", \"size\": 2}, \"line\": {\"color\": \"black\", \"width\": 5}}, {\"y\": [0.8466818332672119, 0.9231274127960205], \"z\": [2.31162166595459, 2.3256545066833496], \"type\": \"scatter3d\", \"x\": [0.3131208121776581, 0.2887393832206726], \"text\": [\"LWrist\"], \"marker\": {\"color\": \"blue\", \"size\": 2}, \"line\": {\"color\": \"black\", \"width\": 5}}, {\"y\": [1.4187461733818054, 1.4931406378746033], \"z\": [2.510683536529541, 2.4513750076293945], \"type\": \"scatter3d\", \"x\": [-0.1936454176902771, 0.02052152529358864], \"text\": [\"RShoulder\"], \"marker\": {\"color\": \"blue\", \"size\": 2}, \"line\": {\"color\": \"red\", \"width\": 5}}, {\"y\": [0.9119606018066406, 1.4187461733818054], \"z\": [2.5471529960632324, 2.510683536529541], \"type\": \"scatter3d\", \"x\": [-0.28370919823646545, -0.1936454176902771], \"text\": [\"RElbow\"], \"marker\": {\"color\": \"blue\", \"size\": 2}, \"line\": {\"color\": \"red\", \"width\": 5}}, {\"y\": [0.8416991233825684, 0.9119606018066406], \"z\": [2.586784839630127, 2.5471529960632324], \"type\": \"scatter3d\", \"x\": [-0.30186742544174194, -0.28370919823646545], \"text\": [\"RWrist\"], \"marker\": {\"color\": \"blue\", \"size\": 2}, \"line\": {\"color\": \"red\", \"width\": 5}}, {\"y\": [0.9362757205963135, 0.9238623380661011, 0.93375563621521, 0.9504156112670898, 0.9415889978408813], \"z\": [0.1592569351196289, 0.5889568328857422, 0.9836969375610352, 1.4877901077270508, 1.9819211959838867], \"type\": \"scatter3d\", \"x\": [0.08945285528898239, 0.05494445562362671, 0.029142921790480614, 0.08420485258102417, 0.049391523003578186], \"marker\": {\"color\": \"#1f77b4\", \"size\": 1}, \"line\": {\"color\": \"#1f77b4\", \"width\": 1}}], \"name\": \"frame6\"}, {\"data\": [{\"y\": [0.8388708829879761, 0.9597556591033936], \"z\": [2.965010643005371, 2.9346165657043457], \"type\": \"scatter3d\", \"x\": [-0.04289428889751434, 0.06587638705968857], \"text\": [\"RHip\"], \"marker\": {\"color\": \"blue\", \"size\": 2}, \"line\": {\"color\": \"red\", \"width\": 5}}, {\"y\": [0.4428828954696655, 0.8388708829879761], \"z\": [3.153304100036621, 2.965010643005371], \"type\": \"scatter3d\", \"x\": [-0.03317931294441223, -0.04289428889751434], \"text\": [\"RKnee\"], \"marker\": {\"color\": \"blue\", \"size\": 2}, \"line\": {\"color\": \"red\", \"width\": 5}}, {\"y\": [-0.03918862342834473, 0.4428828954696655], \"z\": [2.9308156967163086, 3.153304100036621], \"type\": \"scatter3d\", \"x\": [-0.0028927773237228394, -0.03317931294441223], \"text\": [\"RAnkle\"], \"marker\": {\"color\": \"blue\", \"size\": 2}, \"line\": {\"color\": \"red\", \"width\": 5}}, {\"y\": [0.8375020027160645, 0.9597556591033936], \"z\": [2.9784960746765137, 2.9346165657043457], \"type\": \"scatter3d\", \"x\": [0.17226527631282806, 0.06587638705968857], \"text\": [\"LHip\"], \"marker\": {\"color\": \"blue\", \"size\": 2}, \"line\": {\"color\": \"black\", \"width\": 5}}, {\"y\": [0.4074748754501343, 0.8375020027160645], \"z\": [3.033778190612793, 2.9784960746765137], \"type\": \"scatter3d\", \"x\": [0.10667262226343155, 0.17226527631282806], \"text\": [\"LKnee\"], \"marker\": {\"color\": \"blue\", \"size\": 2}, \"line\": {\"color\": \"black\", \"width\": 5}}, {\"y\": [-0.08213615417480469, 0.4074748754501343], \"z\": [2.831568717956543, 3.033778190612793], \"type\": \"scatter3d\", \"x\": [0.10189137607812881, 0.10667262226343155], \"text\": [\"LAnkle\"], \"marker\": {\"color\": \"blue\", \"size\": 2}, \"line\": {\"color\": \"black\", \"width\": 5}}, {\"y\": [1.2408314943313599, 0.9597556591033936], \"z\": [2.9394307136535645, 2.9346165657043457], \"type\": \"scatter3d\", \"x\": [0.0672781690955162, 0.06587638705968857], \"text\": [\"Spine1\"], \"marker\": {\"color\": \"blue\", \"size\": 2}, \"line\": {\"color\": \"black\", \"width\": 5}}, {\"y\": [1.4925071597099304, 1.2408314943313599], \"z\": [2.904966354370117, 2.9394307136535645], \"type\": \"scatter3d\", \"x\": [0.07299232482910156, 0.0672781690955162], \"text\": [\"Neck\"], \"marker\": {\"color\": \"blue\", \"size\": 2}, \"line\": {\"color\": \"black\", \"width\": 5}}, {\"y\": [1.6033715605735779, 1.4925071597099304], \"z\": [2.9126133918762207, 2.904966354370117], \"type\": \"scatter3d\", \"x\": [0.07275280356407166, 0.07299232482910156], \"text\": [\"Head\"], \"marker\": {\"color\": \"blue\", \"size\": 2}, \"line\": {\"color\": \"black\", \"width\": 5}}, {\"y\": [1.695471704006195, 1.6033715605735779], \"z\": [2.9817471504211426, 2.9126133918762207], \"type\": \"scatter3d\", \"x\": [0.07468537986278534, 0.07275280356407166], \"text\": [\"Site\"], \"marker\": {\"color\": \"blue\", \"size\": 2}, \"line\": {\"color\": \"black\", \"width\": 5}}, {\"y\": [1.4072664976119995, 1.4925071597099304], \"z\": [2.947601318359375, 2.904966354370117], \"type\": \"scatter3d\", \"x\": [0.3008609712123871, 0.07299232482910156], \"text\": [\"LShoulder\"], \"marker\": {\"color\": \"blue\", \"size\": 2}, \"line\": {\"color\": \"black\", \"width\": 5}}, {\"y\": [0.9515084028244019, 1.4072664976119995], \"z\": [3.0475196838378906, 2.947601318359375], \"type\": \"scatter3d\", \"x\": [0.42251455783843994, 0.3008609712123871], \"text\": [\"LElbow\"], \"marker\": {\"color\": \"blue\", \"size\": 2}, \"line\": {\"color\": \"black\", \"width\": 5}}, {\"y\": [0.9028388261795044, 0.9515084028244019], \"z\": [3.1004061698913574, 3.0475196838378906], \"type\": \"scatter3d\", \"x\": [0.4608496427536011, 0.42251455783843994], \"text\": [\"LWrist\"], \"marker\": {\"color\": \"blue\", \"size\": 2}, \"line\": {\"color\": \"black\", \"width\": 5}}, {\"y\": [1.4262825846672058, 1.4925071597099304], \"z\": [2.959916114807129, 2.904966354370117], \"type\": \"scatter3d\", \"x\": [-0.14389482140541077, 0.07299232482910156], \"text\": [\"RShoulder\"], \"marker\": {\"color\": \"blue\", \"size\": 2}, \"line\": {\"color\": \"red\", \"width\": 5}}, {\"y\": [0.9071131944656372, 1.4262825846672058], \"z\": [2.9234189987182617, 2.959916114807129], \"type\": \"scatter3d\", \"x\": [-0.21751073002815247, -0.14389482140541077], \"text\": [\"RElbow\"], \"marker\": {\"color\": \"blue\", \"size\": 2}, \"line\": {\"color\": \"red\", \"width\": 5}}, {\"y\": [0.8291739225387573, 0.9071131944656372], \"z\": [2.942913055419922, 2.9234189987182617], \"type\": \"scatter3d\", \"x\": [-0.2370697259902954, -0.21751073002815247], \"text\": [\"RWrist\"], \"marker\": {\"color\": \"blue\", \"size\": 2}, \"line\": {\"color\": \"red\", \"width\": 5}}, {\"y\": [0.9362757205963135, 0.9238623380661011, 0.93375563621521, 0.9504156112670898, 0.9415889978408813, 0.9601356983184814], \"z\": [0.1592569351196289, 0.5889568328857422, 0.9836969375610352, 1.4877901077270508, 1.9819211959838867, 2.457031726837158], \"type\": \"scatter3d\", \"x\": [0.08945285528898239, 0.05494445562362671, 0.029142921790480614, 0.08420485258102417, 0.049391523003578186, 0.03476512059569359], \"marker\": {\"color\": \"#1f77b4\", \"size\": 1}, \"line\": {\"color\": \"#1f77b4\", \"width\": 1}}], \"name\": \"frame7\"}, {\"data\": [{\"y\": [0.8489894866943359, 0.960822343826294], \"z\": [3.4185166358947754, 3.3876633644104004], \"type\": \"scatter3d\", \"x\": [-0.13028958439826965, -0.012351144105196], \"text\": [\"RHip\"], \"marker\": {\"color\": \"blue\", \"size\": 2}, \"line\": {\"color\": \"red\", \"width\": 5}}, {\"y\": [0.4279007911682129, 0.8489894866943359], \"z\": [3.5344676971435547, 3.4185166358947754], \"type\": \"scatter3d\", \"x\": [-0.09035149216651917, -0.13028958439826965], \"text\": [\"RKnee\"], \"marker\": {\"color\": \"blue\", \"size\": 2}, \"line\": {\"color\": \"red\", \"width\": 5}}, {\"y\": [-0.09468841552734375, 0.4279007911682129], \"z\": [3.435947895050049, 3.5344676971435547], \"type\": \"scatter3d\", \"x\": [-0.08793927729129791, -0.09035149216651917], \"text\": [\"RAnkle\"], \"marker\": {\"color\": \"blue\", \"size\": 2}, \"line\": {\"color\": \"red\", \"width\": 5}}, {\"y\": [0.8278343677520752, 0.960822343826294], \"z\": [3.421964168548584, 3.3876633644104004], \"type\": \"scatter3d\", \"x\": [0.08422833681106567, -0.012351144105196], \"text\": [\"LHip\"], \"marker\": {\"color\": \"blue\", \"size\": 2}, \"line\": {\"color\": \"black\", \"width\": 5}}, {\"y\": [0.3919248580932617, 0.8278343677520752], \"z\": [3.461348533630371, 3.421964168548584], \"type\": \"scatter3d\", \"x\": [0.05751361325383186, 0.08422833681106567], \"text\": [\"LKnee\"], \"marker\": {\"color\": \"blue\", \"size\": 2}, \"line\": {\"color\": \"black\", \"width\": 5}}, {\"y\": [0.059747934341430664, 0.3919248580932617], \"z\": [3.0487027168273926, 3.461348533630371], \"type\": \"scatter3d\", \"x\": [0.054001662880182266, 0.05751361325383186], \"text\": [\"LAnkle\"], \"marker\": {\"color\": \"blue\", \"size\": 2}, \"line\": {\"color\": \"black\", \"width\": 5}}, {\"y\": [1.241554617881775, 0.960822343826294], \"z\": [3.3900747299194336, 3.3876633644104004], \"type\": \"scatter3d\", \"x\": [-0.019696887582540512, -0.012351144105196], \"text\": [\"Spine1\"], \"marker\": {\"color\": \"blue\", \"size\": 2}, \"line\": {\"color\": \"black\", \"width\": 5}}, {\"y\": [1.4915239214897156, 1.241554617881775], \"z\": [3.3538341522216797, 3.3900747299194336], \"type\": \"scatter3d\", \"x\": [-0.04464786872267723, -0.019696887582540512], \"text\": [\"Neck\"], \"marker\": {\"color\": \"blue\", \"size\": 2}, \"line\": {\"color\": \"black\", \"width\": 5}}, {\"y\": [1.6023505926132202, 1.4915239214897156], \"z\": [3.3600454330444336, 3.3538341522216797], \"type\": \"scatter3d\", \"x\": [-0.049968425184488297, -0.04464786872267723], \"text\": [\"Head\"], \"marker\": {\"color\": \"blue\", \"size\": 2}, \"line\": {\"color\": \"black\", \"width\": 5}}, {\"y\": [1.6949570178985596, 1.6023505926132202], \"z\": [3.428290843963623, 3.3600454330444336], \"type\": \"scatter3d\", \"x\": [-0.04428541287779808, -0.049968425184488297], \"text\": [\"Site\"], \"marker\": {\"color\": \"blue\", \"size\": 2}, \"line\": {\"color\": \"black\", \"width\": 5}}, {\"y\": [1.430741786956787, 1.4915239214897156], \"z\": [3.394965648651123, 3.3538341522216797], \"type\": \"scatter3d\", \"x\": [0.19597086310386658, -0.04464786872267723], \"text\": [\"LShoulder\"], \"marker\": {\"color\": \"blue\", \"size\": 2}, \"line\": {\"color\": \"black\", \"width\": 5}}, {\"y\": [0.9301016330718994, 1.430741786956787], \"z\": [3.34767484664917, 3.394965648651123], \"type\": \"scatter3d\", \"x\": [0.27203983068466187, 0.19597086310386658], \"text\": [\"LElbow\"], \"marker\": {\"color\": \"blue\", \"size\": 2}, \"line\": {\"color\": \"black\", \"width\": 5}}, {\"y\": [0.8560440540313721, 0.9301016330718994], \"z\": [3.3628010749816895, 3.34767484664917], \"type\": \"scatter3d\", \"x\": [0.3024039566516876, 0.27203983068466187], \"text\": [\"LWrist\"], \"marker\": {\"color\": \"blue\", \"size\": 2}, \"line\": {\"color\": \"black\", \"width\": 5}}, {\"y\": [1.4047690629959106, 1.4915239214897156], \"z\": [3.4133777618408203, 3.3538341522216797], \"type\": \"scatter3d\", \"x\": [-0.24822212755680084, -0.04464786872267723], \"text\": [\"RShoulder\"], \"marker\": {\"color\": \"blue\", \"size\": 2}, \"line\": {\"color\": \"red\", \"width\": 5}}, {\"y\": [0.8770227432250977, 1.4047690629959106], \"z\": [3.3777122497558594, 3.4133777618408203], \"type\": \"scatter3d\", \"x\": [-0.28878360986709595, -0.24822212755680084], \"text\": [\"RElbow\"], \"marker\": {\"color\": \"blue\", \"size\": 2}, \"line\": {\"color\": \"red\", \"width\": 5}}, {\"y\": [0.7968782186508179, 0.8770227432250977], \"z\": [3.3905506134033203, 3.3777122497558594], \"type\": \"scatter3d\", \"x\": [-0.3045669496059418, -0.28878360986709595], \"text\": [\"RWrist\"], \"marker\": {\"color\": \"blue\", \"size\": 2}, \"line\": {\"color\": \"red\", \"width\": 5}}, {\"y\": [0.9362757205963135, 0.9238623380661011, 0.93375563621521, 0.9504156112670898, 0.9415889978408813, 0.9601356983184814, 0.9597556591033936], \"z\": [0.1592569351196289, 0.5889568328857422, 0.9836969375610352, 1.4877901077270508, 1.9819211959838867, 2.457031726837158, 2.9346165657043457], \"type\": \"scatter3d\", \"x\": [0.08945285528898239, 0.05494445562362671, 0.029142921790480614, 0.08420485258102417, 0.049391523003578186, 0.03476512059569359, 0.06587638705968857], \"marker\": {\"color\": \"#1f77b4\", \"size\": 1}, \"line\": {\"color\": \"#1f77b4\", \"width\": 1}}], \"name\": \"frame8\"}, {\"data\": [{\"y\": [0.8402409553527832, 0.9513022899627686], \"z\": [3.8596487045288086, 3.8197436332702637], \"type\": \"scatter3d\", \"x\": [-0.12042176723480225, -0.004486811347305775], \"text\": [\"RHip\"], \"marker\": {\"color\": \"blue\", \"size\": 2}, \"line\": {\"color\": \"red\", \"width\": 5}}, {\"y\": [0.42754828929901123, 0.8402409553527832], \"z\": [3.713235378265381, 3.8596487045288086], \"type\": \"scatter3d\", \"x\": [-0.09585832804441452, -0.12042176723480225], \"text\": [\"RKnee\"], \"marker\": {\"color\": \"blue\", \"size\": 2}, \"line\": {\"color\": \"red\", \"width\": 5}}, {\"y\": [-0.04364013671875, 0.42754828929901123], \"z\": [3.4669976234436035, 3.713235378265381], \"type\": \"scatter3d\", \"x\": [-0.0832175463438034, -0.09585832804441452], \"text\": [\"RAnkle\"], \"marker\": {\"color\": \"blue\", \"size\": 2}, \"line\": {\"color\": \"red\", \"width\": 5}}, {\"y\": [0.8208920955657959, 0.9513022899627686], \"z\": [3.8575263023376465, 3.8197436332702637], \"type\": \"scatter3d\", \"x\": [0.094283826649189, -0.004486811347305775], \"text\": [\"LHip\"], \"marker\": {\"color\": \"blue\", \"size\": 2}, \"line\": {\"color\": \"black\", \"width\": 5}}, {\"y\": [0.4388563632965088, 0.8208920955657959], \"z\": [4.070629119873047, 3.8575263023376465], \"type\": \"scatter3d\", \"x\": [0.0639910027384758, 0.094283826649189], \"text\": [\"LKnee\"], \"marker\": {\"color\": \"blue\", \"size\": 2}, \"line\": {\"color\": \"black\", \"width\": 5}}, {\"y\": [-0.08995532989501953, 0.4388563632965088], \"z\": [4.0996880531311035, 4.070629119873047], \"type\": \"scatter3d\", \"x\": [0.07600249350070953, 0.0639910027384758], \"text\": [\"LAnkle\"], \"marker\": {\"color\": \"blue\", \"size\": 2}, \"line\": {\"color\": \"black\", \"width\": 5}}, {\"y\": [1.232364296913147, 0.9513022899627686], \"z\": [3.8223042488098145, 3.8197436332702637], \"type\": \"scatter3d\", \"x\": [-0.005867302417755127, -0.004486811347305775], \"text\": [\"Spine1\"], \"marker\": {\"color\": \"blue\", \"size\": 2}, \"line\": {\"color\": \"black\", \"width\": 5}}, {\"y\": [1.4836264252662659, 1.232364296913147], \"z\": [3.793762683868408, 3.8223042488098145], \"type\": \"scatter3d\", \"x\": [-0.021369390189647675, -0.005867302417755127], \"text\": [\"Neck\"], \"marker\": {\"color\": \"blue\", \"size\": 2}, \"line\": {\"color\": \"black\", \"width\": 5}}, {\"y\": [1.5945549011230469, 1.4836264252662659], \"z\": [3.800417423248291, 3.793762683868408], \"type\": \"scatter3d\", \"x\": [-0.021179135888814926, -0.021369390189647675], \"text\": [\"Head\"], \"marker\": {\"color\": \"blue\", \"size\": 2}, \"line\": {\"color\": \"black\", \"width\": 5}}, {\"y\": [1.6863999366760254, 1.5945549011230469], \"z\": [3.8677306175231934, 3.800417423248291], \"type\": \"scatter3d\", \"x\": [-0.003883720375597477, -0.021179135888814926], \"text\": [\"Site\"], \"marker\": {\"color\": \"blue\", \"size\": 2}, \"line\": {\"color\": \"black\", \"width\": 5}}, {\"y\": [1.4100044965744019, 1.4836264252662659], \"z\": [3.8027148246765137, 3.793762683868408], \"type\": \"scatter3d\", \"x\": [0.21860656142234802, -0.021369390189647675], \"text\": [\"LShoulder\"], \"marker\": {\"color\": \"blue\", \"size\": 2}, \"line\": {\"color\": \"black\", \"width\": 5}}, {\"y\": [0.9065045118331909, 1.4100044965744019], \"z\": [3.7163543701171875, 3.8027148246765137], \"type\": \"scatter3d\", \"x\": [0.2647847533226013, 0.21860656142234802], \"text\": [\"LElbow\"], \"marker\": {\"color\": \"blue\", \"size\": 2}, \"line\": {\"color\": \"black\", \"width\": 5}}, {\"y\": [0.8301512002944946, 0.9065045118331909], \"z\": [3.716052532196045, 3.7163543701171875], \"type\": \"scatter3d\", \"x\": [0.293163925409317, 0.2647847533226013], \"text\": [\"LWrist\"], \"marker\": {\"color\": \"blue\", \"size\": 2}, \"line\": {\"color\": \"black\", \"width\": 5}}, {\"y\": [1.4061265587806702, 1.4836264252662659], \"z\": [3.8812737464904785, 3.793762683868408], \"type\": \"scatter3d\", \"x\": [-0.21972492337226868, -0.021369390189647675], \"text\": [\"RShoulder\"], \"marker\": {\"color\": \"blue\", \"size\": 2}, \"line\": {\"color\": \"red\", \"width\": 5}}, {\"y\": [0.8911173343658447, 1.4061265587806702], \"z\": [3.922358989715576, 3.8812737464904785], \"type\": \"scatter3d\", \"x\": [-0.3105892837047577, -0.21972492337226868], \"text\": [\"RElbow\"], \"marker\": {\"color\": \"blue\", \"size\": 2}, \"line\": {\"color\": \"red\", \"width\": 5}}, {\"y\": [0.8177797794342041, 0.8911173343658447], \"z\": [3.954979419708252, 3.922358989715576], \"type\": \"scatter3d\", \"x\": [-0.3304537236690521, -0.3105892837047577], \"text\": [\"RWrist\"], \"marker\": {\"color\": \"blue\", \"size\": 2}, \"line\": {\"color\": \"red\", \"width\": 5}}, {\"y\": [0.9362757205963135, 0.9238623380661011, 0.93375563621521, 0.9504156112670898, 0.9415889978408813, 0.9601356983184814, 0.9597556591033936, 0.960822343826294], \"z\": [0.1592569351196289, 0.5889568328857422, 0.9836969375610352, 1.4877901077270508, 1.9819211959838867, 2.457031726837158, 2.9346165657043457, 3.3876633644104004], \"type\": \"scatter3d\", \"x\": [0.08945285528898239, 0.05494445562362671, 0.029142921790480614, 0.08420485258102417, 0.049391523003578186, 0.03476512059569359, 0.06587638705968857, -0.012351144105196], \"marker\": {\"color\": \"#1f77b4\", \"size\": 1}, \"line\": {\"color\": \"#1f77b4\", \"width\": 1}}], \"name\": \"frame9\"}, {\"data\": [{\"y\": [0.8433690071105957, 0.9644689559936523], \"z\": [4.304196357727051, 4.264210224151611], \"type\": \"scatter3d\", \"x\": [-0.04195689409971237, 0.06341798603534698], \"text\": [\"RHip\"], \"marker\": {\"color\": \"blue\", \"size\": 2}, \"line\": {\"color\": \"red\", \"width\": 5}}, {\"y\": [0.4508838653564453, 0.8433690071105957], \"z\": [4.4963812828063965, 4.304196357727051], \"type\": \"scatter3d\", \"x\": [-0.0048661306500434875, -0.04195689409971237], \"text\": [\"RKnee\"], \"marker\": {\"color\": \"blue\", \"size\": 2}, \"line\": {\"color\": \"red\", \"width\": 5}}, {\"y\": [-0.07056188583374023, 0.4508838653564453], \"z\": [4.391989707946777, 4.4963812828063965], \"type\": \"scatter3d\", \"x\": [-0.0077224597334861755, -0.0048661306500434875], \"text\": [\"RAnkle\"], \"marker\": {\"color\": \"blue\", \"size\": 2}, \"line\": {\"color\": \"red\", \"width\": 5}}, {\"y\": [0.8443890810012817, 0.9644689559936523], \"z\": [4.3045196533203125, 4.264210224151611], \"type\": \"scatter3d\", \"x\": [0.17362657189369202, 0.06341798603534698], \"text\": [\"LHip\"], \"marker\": {\"color\": \"blue\", \"size\": 2}, \"line\": {\"color\": \"black\", \"width\": 5}}, {\"y\": [0.41218578815460205, 0.8443890810012817], \"z\": [4.340106010437012, 4.3045196533203125], \"type\": \"scatter3d\", \"x\": [0.10869801044464111, 0.17362657189369202], \"text\": [\"LKnee\"], \"marker\": {\"color\": \"blue\", \"size\": 2}, \"line\": {\"color\": \"black\", \"width\": 5}}, {\"y\": [-0.07468962669372559, 0.41218578815460205], \"z\": [4.1342973709106445, 4.340106010437012], \"type\": \"scatter3d\", \"x\": [0.07369149476289749, 0.10869801044464111], \"text\": [\"LAnkle\"], \"marker\": {\"color\": \"blue\", \"size\": 2}, \"line\": {\"color\": \"black\", \"width\": 5}}, {\"y\": [1.2454546093940735, 0.9644689559936523], \"z\": [4.270683765411377, 4.264210224151611], \"type\": \"scatter3d\", \"x\": [0.07152023166418076, 0.06341798603534698], \"text\": [\"Spine1\"], \"marker\": {\"color\": \"blue\", \"size\": 2}, \"line\": {\"color\": \"black\", \"width\": 5}}, {\"y\": [1.498121440410614, 1.2454546093940735], \"z\": [4.2446441650390625, 4.270683765411377], \"type\": \"scatter3d\", \"x\": [0.06835129112005234, 0.07152023166418076], \"text\": [\"Neck\"], \"marker\": {\"color\": \"blue\", \"size\": 2}, \"line\": {\"color\": \"black\", \"width\": 5}}, {\"y\": [1.6085869669914246, 1.498121440410614], \"z\": [4.256729602813721, 4.2446441650390625], \"type\": \"scatter3d\", \"x\": [0.06921132653951645, 0.06835129112005234], \"text\": [\"Head\"], \"marker\": {\"color\": \"blue\", \"size\": 2}, \"line\": {\"color\": \"black\", \"width\": 5}}, {\"y\": [1.6972646117210388, 1.6085869669914246], \"z\": [4.329535961151123, 4.256729602813721], \"type\": \"scatter3d\", \"x\": [0.07927095890045166, 0.06921132653951645], \"text\": [\"Site\"], \"marker\": {\"color\": \"blue\", \"size\": 2}, \"line\": {\"color\": \"black\", \"width\": 5}}, {\"y\": [1.4169768691062927, 1.498121440410614], \"z\": [4.267181873321533, 4.2446441650390625], \"type\": \"scatter3d\", \"x\": [0.30151182413101196, 0.06835129112005234], \"text\": [\"LShoulder\"], \"marker\": {\"color\": \"blue\", \"size\": 2}, \"line\": {\"color\": \"black\", \"width\": 5}}, {\"y\": [0.9654209613800049, 1.4169768691062927], \"z\": [4.3966875076293945, 4.267181873321533], \"type\": \"scatter3d\", \"x\": [0.38246363401412964, 0.30151182413101196], \"text\": [\"LElbow\"], \"marker\": {\"color\": \"blue\", \"size\": 2}, \"line\": {\"color\": \"black\", \"width\": 5}}, {\"y\": [0.9200165271759033, 0.9654209613800049], \"z\": [4.456136226654053, 4.3966875076293945], \"type\": \"scatter3d\", \"x\": [0.4147062301635742, 0.38246363401412964], \"text\": [\"LWrist\"], \"marker\": {\"color\": \"blue\", \"size\": 2}, \"line\": {\"color\": \"black\", \"width\": 5}}, {\"y\": [1.4250487685203552, 1.498121440410614], \"z\": [4.313802719116211, 4.2446441650390625], \"type\": \"scatter3d\", \"x\": [-0.1412999927997589, 0.06835129112005234], \"text\": [\"RShoulder\"], \"marker\": {\"color\": \"blue\", \"size\": 2}, \"line\": {\"color\": \"red\", \"width\": 5}}, {\"y\": [0.9025135040283203, 1.4250487685203552], \"z\": [4.293667316436768, 4.313802719116211], \"type\": \"scatter3d\", \"x\": [-0.19441024959087372, -0.1412999927997589], \"text\": [\"RElbow\"], \"marker\": {\"color\": \"blue\", \"size\": 2}, \"line\": {\"color\": \"red\", \"width\": 5}}, {\"y\": [0.8243991136550903, 0.9025135040283203], \"z\": [4.315972328186035, 4.293667316436768], \"type\": \"scatter3d\", \"x\": [-0.20982880890369415, -0.19441024959087372], \"text\": [\"RWrist\"], \"marker\": {\"color\": \"blue\", \"size\": 2}, \"line\": {\"color\": \"red\", \"width\": 5}}, {\"y\": [0.9362757205963135, 0.9238623380661011, 0.93375563621521, 0.9504156112670898, 0.9415889978408813, 0.9601356983184814, 0.9597556591033936, 0.960822343826294, 0.9513022899627686], \"z\": [0.1592569351196289, 0.5889568328857422, 0.9836969375610352, 1.4877901077270508, 1.9819211959838867, 2.457031726837158, 2.9346165657043457, 3.3876633644104004, 3.8197436332702637], \"type\": \"scatter3d\", \"x\": [0.08945285528898239, 0.05494445562362671, 0.029142921790480614, 0.08420485258102417, 0.049391523003578186, 0.03476512059569359, 0.06587638705968857, -0.012351144105196, -0.004486811347305775], \"marker\": {\"color\": \"#1f77b4\", \"size\": 1}, \"line\": {\"color\": \"#1f77b4\", \"width\": 1}}], \"name\": \"frame10\"}, {\"data\": [{\"y\": [0.850977897644043, 0.9645756483078003], \"z\": [4.791258811950684, 4.745890140533447], \"type\": \"scatter3d\", \"x\": [-0.08144300431013107, 0.02993558906018734], \"text\": [\"RHip\"], \"marker\": {\"color\": \"blue\", \"size\": 2}, \"line\": {\"color\": \"red\", \"width\": 5}}, {\"y\": [0.43745625019073486, 0.850977897644043], \"z\": [4.914212703704834, 4.791258811950684], \"type\": \"scatter3d\", \"x\": [-0.0024642590433359146, -0.08144300431013107], \"text\": [\"RKnee\"], \"marker\": {\"color\": \"blue\", \"size\": 2}, \"line\": {\"color\": \"red\", \"width\": 5}}, {\"y\": [-0.07965421676635742, 0.43745625019073486], \"z\": [4.790178298950195, 4.914212703704834], \"type\": \"scatter3d\", \"x\": [0.0023795291781425476, -0.0024642590433359146], \"text\": [\"RAnkle\"], \"marker\": {\"color\": \"blue\", \"size\": 2}, \"line\": {\"color\": \"red\", \"width\": 5}}, {\"y\": [0.8378334045410156, 0.9645756483078003], \"z\": [4.783077239990234, 4.745890140533447], \"type\": \"scatter3d\", \"x\": [0.13358643651008606, 0.02993558906018734], \"text\": [\"LHip\"], \"marker\": {\"color\": \"blue\", \"size\": 2}, \"line\": {\"color\": \"black\", \"width\": 5}}, {\"y\": [0.40154099464416504, 0.8378334045410156], \"z\": [4.8268280029296875, 4.783077239990234], \"type\": \"scatter3d\", \"x\": [0.13765951991081238, 0.13358643651008606], \"text\": [\"LKnee\"], \"marker\": {\"color\": \"blue\", \"size\": 2}, \"line\": {\"color\": \"black\", \"width\": 5}}, {\"y\": [0.08670556545257568, 0.40154099464416504], \"z\": [4.40172004699707, 4.8268280029296875], \"type\": \"scatter3d\", \"x\": [0.10951694846153259, 0.13765951991081238], \"text\": [\"LAnkle\"], \"marker\": {\"color\": \"blue\", \"size\": 2}, \"line\": {\"color\": \"black\", \"width\": 5}}, {\"y\": [1.2449203729629517, 0.9645756483078003], \"z\": [4.7276787757873535, 4.745890140533447], \"type\": \"scatter3d\", \"x\": [0.026246309280395508, 0.02993558906018734], \"text\": [\"Spine1\"], \"marker\": {\"color\": \"blue\", \"size\": 2}, \"line\": {\"color\": \"black\", \"width\": 5}}, {\"y\": [1.4937291145324707, 1.2449203729629517], \"z\": [4.681256294250488, 4.7276787757873535], \"type\": \"scatter3d\", \"x\": [0.0036483220756053925, 0.026246309280395508], \"text\": [\"Neck\"], \"marker\": {\"color\": \"blue\", \"size\": 2}, \"line\": {\"color\": \"black\", \"width\": 5}}, {\"y\": [1.6041311621665955, 1.4937291145324707], \"z\": [4.692966461181641, 4.681256294250488], \"type\": \"scatter3d\", \"x\": [-0.0012208987027406693, 0.0036483220756053925], \"text\": [\"Head\"], \"marker\": {\"color\": \"blue\", \"size\": 2}, \"line\": {\"color\": \"black\", \"width\": 5}}, {\"y\": [1.6895371079444885, 1.6041311621665955], \"z\": [4.769857883453369, 4.692966461181641], \"type\": \"scatter3d\", \"x\": [0.00647050142288208, -0.0012208987027406693], \"text\": [\"Site\"], \"marker\": {\"color\": \"blue\", \"size\": 2}, \"line\": {\"color\": \"black\", \"width\": 5}}, {\"y\": [1.4312663078308105, 1.4937291145324707], \"z\": [4.71410608291626, 4.681256294250488], \"type\": \"scatter3d\", \"x\": [0.24400590360164642, 0.0036483220756053925], \"text\": [\"LShoulder\"], \"marker\": {\"color\": \"blue\", \"size\": 2}, \"line\": {\"color\": \"black\", \"width\": 5}}, {\"y\": [0.9174158573150635, 1.4312663078308105], \"z\": [4.662553787231445, 4.71410608291626], \"type\": \"scatter3d\", \"x\": [0.28894802927970886, 0.24400590360164642], \"text\": [\"LElbow\"], \"marker\": {\"color\": \"blue\", \"size\": 2}, \"line\": {\"color\": \"black\", \"width\": 5}}, {\"y\": [0.8392273187637329, 0.9174158573150635], \"z\": [4.662923812866211, 4.662553787231445], \"type\": \"scatter3d\", \"x\": [0.3117891252040863, 0.28894802927970886], \"text\": [\"LWrist\"], \"marker\": {\"color\": \"blue\", \"size\": 2}, \"line\": {\"color\": \"black\", \"width\": 5}}, {\"y\": [1.4121001958847046, 1.4937291145324707], \"z\": [4.7515177726745605, 4.681256294250488], \"type\": \"scatter3d\", \"x\": [-0.19933821260929108, 0.0036483220756053925], \"text\": [\"RShoulder\"], \"marker\": {\"color\": \"blue\", \"size\": 2}, \"line\": {\"color\": \"red\", \"width\": 5}}, {\"y\": [0.8849697113037109, 1.4121001958847046], \"z\": [4.736396789550781, 4.7515177726745605], \"type\": \"scatter3d\", \"x\": [-0.25560104846954346, -0.19933821260929108], \"text\": [\"RElbow\"], \"marker\": {\"color\": \"blue\", \"size\": 2}, \"line\": {\"color\": \"red\", \"width\": 5}}, {\"y\": [0.8058682680130005, 0.8849697113037109], \"z\": [4.752885341644287, 4.736396789550781], \"type\": \"scatter3d\", \"x\": [-0.27315589785575867, -0.25560104846954346], \"text\": [\"RWrist\"], \"marker\": {\"color\": \"blue\", \"size\": 2}, \"line\": {\"color\": \"red\", \"width\": 5}}, {\"y\": [0.9362757205963135, 0.9238623380661011, 0.93375563621521, 0.9504156112670898, 0.9415889978408813, 0.9601356983184814, 0.9597556591033936, 0.960822343826294, 0.9513022899627686, 0.9644689559936523], \"z\": [0.1592569351196289, 0.5889568328857422, 0.9836969375610352, 1.4877901077270508, 1.9819211959838867, 2.457031726837158, 2.9346165657043457, 3.3876633644104004, 3.8197436332702637, 4.264210224151611], \"type\": \"scatter3d\", \"x\": [0.08945285528898239, 0.05494445562362671, 0.029142921790480614, 0.08420485258102417, 0.049391523003578186, 0.03476512059569359, 0.06587638705968857, -0.012351144105196, -0.004486811347305775, 0.06341798603534698], \"marker\": {\"color\": \"#1f77b4\", \"size\": 1}, \"line\": {\"color\": \"#1f77b4\", \"width\": 1}}], \"name\": \"frame11\"}, {\"data\": [{\"y\": [0.8612799644470215, 0.9712756872177124], \"z\": [5.091198444366455, 5.0852766036987305], \"type\": \"scatter3d\", \"x\": [-0.06693156063556671, 0.0564938560128212], \"text\": [\"RHip\"], \"marker\": {\"color\": \"blue\", \"size\": 2}, \"line\": {\"color\": \"red\", \"width\": 5}}, {\"y\": [0.42895352840423584, 0.8612799644470215], \"z\": [5.030675888061523, 5.091198444366455], \"type\": \"scatter3d\", \"x\": [-0.024666301906108856, -0.06693156063556671], \"text\": [\"RKnee\"], \"marker\": {\"color\": \"blue\", \"size\": 2}, \"line\": {\"color\": \"red\", \"width\": 5}}, {\"y\": [-0.054529666900634766, 0.42895352840423584], \"z\": [4.811338901519775, 5.030675888061523], \"type\": \"scatter3d\", \"x\": [0.006100684404373169, -0.024666301906108856], \"text\": [\"RAnkle\"], \"marker\": {\"color\": \"blue\", \"size\": 2}, \"line\": {\"color\": \"red\", \"width\": 5}}, {\"y\": [0.8388692140579224, 0.9712756872177124], \"z\": [5.145174026489258, 5.0852766036987305], \"type\": \"scatter3d\", \"x\": [0.1405816674232483, 0.0564938560128212], \"text\": [\"LHip\"], \"marker\": {\"color\": \"blue\", \"size\": 2}, \"line\": {\"color\": \"black\", \"width\": 5}}, {\"y\": [0.4378042221069336, 0.8388692140579224], \"z\": [5.318452835083008, 5.145174026489258], \"type\": \"scatter3d\", \"x\": [0.10312262922525406, 0.1405816674232483], \"text\": [\"LKnee\"], \"marker\": {\"color\": \"blue\", \"size\": 2}, \"line\": {\"color\": \"black\", \"width\": 5}}, {\"y\": [-0.08251571655273438, 0.4378042221069336], \"z\": [5.374216556549072, 5.318452835083008], \"type\": \"scatter3d\", \"x\": [0.18551117181777954, 0.10312262922525406], \"text\": [\"LAnkle\"], \"marker\": {\"color\": \"blue\", \"size\": 2}, \"line\": {\"color\": \"black\", \"width\": 5}}, {\"y\": [1.2518582940101624, 0.9712756872177124], \"z\": [5.072057247161865, 5.0852766036987305], \"type\": \"scatter3d\", \"x\": [0.05754285305738449, 0.0564938560128212], \"text\": [\"Spine1\"], \"marker\": {\"color\": \"blue\", \"size\": 2}, \"line\": {\"color\": \"black\", \"width\": 5}}, {\"y\": [1.5020941495895386, 1.2518582940101624], \"z\": [5.02544641494751, 5.072057247161865], \"type\": \"scatter3d\", \"x\": [0.05526450276374817, 0.05754285305738449], \"text\": [\"Neck\"], \"marker\": {\"color\": \"blue\", \"size\": 2}, \"line\": {\"color\": \"black\", \"width\": 5}}, {\"y\": [1.6127229928970337, 1.5020941495895386], \"z\": [5.030795574188232, 5.02544641494751], \"type\": \"scatter3d\", \"x\": [0.04620442911982536, 0.05526450276374817], \"text\": [\"Head\"], \"marker\": {\"color\": \"blue\", \"size\": 2}, \"line\": {\"color\": \"black\", \"width\": 5}}, {\"y\": [1.7050338983535767, 1.6127229928970337], \"z\": [5.097987651824951, 5.030795574188232], \"type\": \"scatter3d\", \"x\": [0.031052162870764732, 0.04620442911982536], \"text\": [\"Site\"], \"marker\": {\"color\": \"blue\", \"size\": 2}, \"line\": {\"color\": \"black\", \"width\": 5}}, {\"y\": [1.4301888942718506, 1.5020941495895386], \"z\": [5.097829341888428, 5.02544641494751], \"type\": \"scatter3d\", \"x\": [0.2808414697647095, 0.05526450276374817], \"text\": [\"LShoulder\"], \"marker\": {\"color\": \"blue\", \"size\": 2}, \"line\": {\"color\": \"black\", \"width\": 5}}, {\"y\": [0.925298810005188, 1.4301888942718506], \"z\": [5.06556510925293, 5.097829341888428], \"type\": \"scatter3d\", \"x\": [0.3529258966445923, 0.2808414697647095], \"text\": [\"LElbow\"], \"marker\": {\"color\": \"blue\", \"size\": 2}, \"line\": {\"color\": \"black\", \"width\": 5}}, {\"y\": [0.8504046201705933, 0.925298810005188], \"z\": [5.081633567810059, 5.06556510925293], \"type\": \"scatter3d\", \"x\": [0.38063791394233704, 0.3529258966445923], \"text\": [\"LWrist\"], \"marker\": {\"color\": \"blue\", \"size\": 2}, \"line\": {\"color\": \"black\", \"width\": 5}}, {\"y\": [1.4271749258041382, 1.5020941495895386], \"z\": [5.054611682891846, 5.02544641494751], \"type\": \"scatter3d\", \"x\": [-0.16237875819206238, 0.05526450276374817], \"text\": [\"RShoulder\"], \"marker\": {\"color\": \"blue\", \"size\": 2}, \"line\": {\"color\": \"red\", \"width\": 5}}, {\"y\": [0.9316087961196899, 1.4271749258041382], \"z\": [5.115074634552002, 5.054611682891846], \"type\": \"scatter3d\", \"x\": [-0.2530665695667267, -0.16237875819206238], \"text\": [\"RElbow\"], \"marker\": {\"color\": \"blue\", \"size\": 2}, \"line\": {\"color\": \"red\", \"width\": 5}}, {\"y\": [0.8680329322814941, 0.9316087961196899], \"z\": [5.162550449371338, 5.115074634552002], \"type\": \"scatter3d\", \"x\": [-0.27633151412010193, -0.2530665695667267], \"text\": [\"RWrist\"], \"marker\": {\"color\": \"blue\", \"size\": 2}, \"line\": {\"color\": \"red\", \"width\": 5}}, {\"y\": [0.9362757205963135, 0.9238623380661011, 0.93375563621521, 0.9504156112670898, 0.9415889978408813, 0.9601356983184814, 0.9597556591033936, 0.960822343826294, 0.9513022899627686, 0.9644689559936523, 0.9645756483078003], \"z\": [0.1592569351196289, 0.5889568328857422, 0.9836969375610352, 1.4877901077270508, 1.9819211959838867, 2.457031726837158, 2.9346165657043457, 3.3876633644104004, 3.8197436332702637, 4.264210224151611, 4.745890140533447], \"type\": \"scatter3d\", \"x\": [0.08945285528898239, 0.05494445562362671, 0.029142921790480614, 0.08420485258102417, 0.049391523003578186, 0.03476512059569359, 0.06587638705968857, -0.012351144105196, -0.004486811347305775, 0.06341798603534698, 0.02993558906018734], \"marker\": {\"color\": \"#1f77b4\", \"size\": 1}, \"line\": {\"color\": \"#1f77b4\", \"width\": 1}}], \"name\": \"frame12\"}]);\n",
       "                        }).then(function(){\n",
       "                            Plotly.animate('88ef92bc-cc6f-4c19-b1c0-332a913fa5c5', null);\n",
       "                        }).then(function(){\n",
       "                            \n",
       "var gd = document.getElementById('88ef92bc-cc6f-4c19-b1c0-332a913fa5c5');\n",
       "var x = new MutationObserver(function (mutations, observer) {{\n",
       "        var display = window.getComputedStyle(gd).display;\n",
       "        if (!display || display === 'none') {{\n",
       "            console.log([gd, 'removed!']);\n",
       "            Plotly.purge(gd);\n",
       "            observer.disconnect();\n",
       "        }}\n",
       "}});\n",
       "\n",
       "// Listen for the removal of the full notebook cells\n",
       "var notebookContainer = gd.closest('#notebook-container');\n",
       "if (notebookContainer) {{\n",
       "    x.observe(notebookContainer, {childList: true});\n",
       "}}\n",
       "\n",
       "// Listen for the clearing of the current output cell\n",
       "var outputEl = gd.closest('.output');\n",
       "if (outputEl) {{\n",
       "    x.observe(outputEl, {childList: true});\n",
       "}}\n",
       "\n",
       "                        })\n",
       "                };\n",
       "                });\n",
       "            </script>\n",
       "        </div>"
      ]
     },
     "metadata": {},
     "output_type": "display_data"
    }
   ],
   "source": [
    "obj_pts = gt_3d_world.reshape(-1, 3)\n",
    "xmin = obj_pts[:,0].min(); xmax = obj_pts[:,0].max()\n",
    "ymin = obj_pts[:,1].min(); ymax = obj_pts[:,1].max()\n",
    "zmin = obj_pts[:,2].min(); zmax = obj_pts[:,2].max()\n",
    "\n",
    "frames, layout = generate_frames_layout(gt_3d_world[::50], \n",
    "                                        dataset.skeleton(), \n",
    "                                        human36m_kpts_name, \n",
    "                                        x_range = [xmin, xmax], \n",
    "                                        y_range = [ymin, ymax], \n",
    "                                        z_range = [zmin, zmax])\n",
    "\n",
    "fig = dict(data=get_line_3d_segs(gt_3d_world, 0, dataset.skeleton(), human36m_kpts_name), \n",
    "           layout=layout, frames=frames)\n",
    "plotly.offline.iplot(fig)"
   ]
  },
  {
   "cell_type": "code",
   "execution_count": 20,
   "metadata": {},
   "outputs": [
    {
     "data": {
      "text/plain": [
       "(598, 17, 3)"
      ]
     },
     "execution_count": 20,
     "metadata": {},
     "output_type": "execute_result"
    }
   ],
   "source": [
    "pred_3d_world.shape"
   ]
  },
  {
   "cell_type": "code",
   "execution_count": 21,
   "metadata": {},
   "outputs": [
    {
     "data": {
      "application/vnd.plotly.v1+json": {
       "config": {
        "linkText": "Export to plot.ly",
        "plotlyServerURL": "https://plot.ly",
        "responsive": true,
        "showLink": false
       },
       "data": [
        {
         "line": {
          "color": "red",
          "width": 5
         },
         "marker": {
          "color": "blue",
          "size": 2
         },
         "text": [
          "RHip"
         ],
         "type": "scatter3d",
         "uid": "2606fd90-7bb5-410a-85b3-7b09e89a414b",
         "x": [
          0.16994065046310425,
          -0.0027418718673288822
         ],
         "y": [
          2.1984085589647293,
          2.011849765665829
         ],
         "z": [
          10.131139770150185,
          9.999753076350316
         ]
        },
        {
         "line": {
          "color": "red",
          "width": 5
         },
         "marker": {
          "color": "blue",
          "size": 2
         },
         "text": [
          "RKnee"
         ],
         "type": "scatter3d",
         "uid": "fcee5d27-8569-45a6-be5d-7d72c6a72412",
         "x": [
          0.21524392068386078,
          0.16994065046310425
         ],
         "y": [
          3.0064395666122437,
          2.1984085589647293
         ],
         "z": [
          10.59465777873993,
          10.131139770150185
         ]
        },
        {
         "line": {
          "color": "red",
          "width": 5
         },
         "marker": {
          "color": "blue",
          "size": 2
         },
         "text": [
          "RAnkle"
         ],
         "type": "scatter3d",
         "uid": "b7f459a1-e0f4-4ac0-b87d-c063ec53dbe9",
         "x": [
          0.190170556306839,
          0.21524392068386078
         ],
         "y": [
          3.659814953804016,
          3.0064395666122437
         ],
         "z": [
          10.070103488862514,
          10.59465777873993
         ]
        },
        {
         "line": {
          "color": "black",
          "width": 5
         },
         "marker": {
          "color": "blue",
          "size": 2
         },
         "text": [
          "LHip"
         ],
         "type": "scatter3d",
         "uid": "b5055fc6-4ce6-4040-a52c-bff4cb609344",
         "x": [
          -0.13013646006584167,
          -0.0027418718673288822
         ],
         "y": [
          2.2111804634332657,
          2.011849765665829
         ],
         "z": [
          10.127653047442436,
          9.999753076350316
         ]
        },
        {
         "line": {
          "color": "black",
          "width": 5
         },
         "marker": {
          "color": "blue",
          "size": 2
         },
         "text": [
          "LKnee"
         ],
         "type": "scatter3d",
         "uid": "87fc433a-6b89-4c40-9c50-108fdff8faf1",
         "x": [
          -0.10012688487768173,
          -0.13013646006584167
         ],
         "y": [
          3.021841526031494,
          2.2111804634332657
         ],
         "z": [
          10.294957429170609,
          10.127653047442436
         ]
        },
        {
         "line": {
          "color": "black",
          "width": 5
         },
         "marker": {
          "color": "blue",
          "size": 2
         },
         "text": [
          "LAnkle"
         ],
         "type": "scatter3d",
         "uid": "dac60e28-b50e-40dc-a59c-763130610fba",
         "x": [
          -0.042567379772663116,
          -0.10012688487768173
         ],
         "y": [
          3.7000309228897095,
          3.021841526031494
         ],
         "z": [
          9.75118088722229,
          10.294957429170609
         ]
        },
        {
         "line": {
          "color": "black",
          "width": 5
         },
         "marker": {
          "color": "blue",
          "size": 2
         },
         "text": [
          "Spine1"
         ],
         "type": "scatter3d",
         "uid": "e55bafc6-2733-42c4-99dd-0456b6f533fa",
         "x": [
          -0.03959568962454796,
          -0.0027418718673288822
         ],
         "y": [
          1.5809186697006226,
          2.011849765665829
         ],
         "z": [
          10.126129537820816,
          9.999753076350316
         ]
        },
        {
         "line": {
          "color": "black",
          "width": 5
         },
         "marker": {
          "color": "blue",
          "size": 2
         },
         "text": [
          "Neck"
         ],
         "type": "scatter3d",
         "uid": "ea00d47f-345f-475d-9135-5c20f9166ae2",
         "x": [
          -0.03610718995332718,
          -0.03959568962454796
         ],
         "y": [
          1.1796957850456238,
          1.5809186697006226
         ],
         "z": [
          10.25620585680008,
          10.126129537820816
         ]
        },
        {
         "line": {
          "color": "black",
          "width": 5
         },
         "marker": {
          "color": "blue",
          "size": 2
         },
         "text": [
          "Head"
         ],
         "type": "scatter3d",
         "uid": "a85796e0-93a8-40a0-bcd3-52c5c4e44a5f",
         "x": [
          -0.034108929336071014,
          -0.03610718995332718
         ],
         "y": [
          0.9804559946060181,
          1.1796957850456238
         ],
         "z": [
          10.294046849012375,
          10.25620585680008
         ]
        },
        {
         "line": {
          "color": "black",
          "width": 5
         },
         "marker": {
          "color": "blue",
          "size": 2
         },
         "text": [
          "Site"
         ],
         "type": "scatter3d",
         "uid": "05e32b33-53ee-4c8e-9778-84f8254c1e88",
         "x": [
          -0.022280320525169373,
          -0.034108929336071014
         ],
         "y": [
          0.7854218482971191,
          0.9804559946060181
         ],
         "z": [
          10.348779559135437,
          10.294046849012375
         ]
        },
        {
         "line": {
          "color": "black",
          "width": 5
         },
         "marker": {
          "color": "blue",
          "size": 2
         },
         "text": [
          "LShoulder"
         ],
         "type": "scatter3d",
         "uid": "1aa595e8-122b-4e2d-bbee-2167cf990f0a",
         "x": [
          -0.41524064540863037,
          -0.03610718995332718
         ],
         "y": [
          1.2213638424873352,
          1.1796957850456238
         ],
         "z": [
          10.156338185071945,
          10.25620585680008
         ]
        },
        {
         "line": {
          "color": "black",
          "width": 5
         },
         "marker": {
          "color": "blue",
          "size": 2
         },
         "text": [
          "LElbow"
         ],
         "type": "scatter3d",
         "uid": "c20822ba-0615-4e9f-bad4-65fbd8b8571e",
         "x": [
          -0.5634458661079407,
          -0.41524064540863037
         ],
         "y": [
          2.075349599123001,
          1.2213638424873352
         ],
         "z": [
          10.174479246139526,
          10.156338185071945
         ]
        },
        {
         "line": {
          "color": "black",
          "width": 5
         },
         "marker": {
          "color": "blue",
          "size": 2
         },
         "text": [
          "LWrist"
         ],
         "type": "scatter3d",
         "uid": "70029337-1929-4aba-82b3-77e7e7a14fbf",
         "x": [
          -0.6102854013442993,
          -0.5634458661079407
         ],
         "y": [
          2.2415172904729843,
          2.075349599123001
         ],
         "z": [
          10.30929321050644,
          10.174479246139526
         ]
        },
        {
         "line": {
          "color": "red",
          "width": 5
         },
         "marker": {
          "color": "blue",
          "size": 2
         },
         "text": [
          "RShoulder"
         ],
         "type": "scatter3d",
         "uid": "41fe0d7c-8dea-4905-9b0e-32d59bf1b687",
         "x": [
          0.3097112476825714,
          -0.03610718995332718
         ],
         "y": [
          1.2071815133094788,
          1.1796957850456238
         ],
         "z": [
          10.207605540752411,
          10.25620585680008
         ]
        },
        {
         "line": {
          "color": "red",
          "width": 5
         },
         "marker": {
          "color": "blue",
          "size": 2
         },
         "text": [
          "RElbow"
         ],
         "type": "scatter3d",
         "uid": "391b72db-e316-4558-8748-fc2bce12df73",
         "x": [
          0.4542078375816345,
          0.3097112476825714
         ],
         "y": [
          2.0959878340363503,
          1.2071815133094788
         ],
         "z": [
          10.231924414634705,
          10.207605540752411
         ]
        },
        {
         "line": {
          "color": "red",
          "width": 5
         },
         "marker": {
          "color": "blue",
          "size": 2
         },
         "text": [
          "RWrist"
         ],
         "type": "scatter3d",
         "uid": "684bd17c-3c6c-4485-8043-31d1fb19863c",
         "x": [
          0.49016711115837097,
          0.4542078375816345
         ],
         "y": [
          2.2651628851890564,
          2.0959878340363503
         ],
         "z": [
          10.347127944231033,
          10.231924414634705
         ]
        },
        {
         "line": {
          "color": "#1f77b4",
          "width": 1
         },
         "marker": {
          "color": "#1f77b4",
          "size": 1
         },
         "type": "scatter3d",
         "uid": "25822791-8f5a-4e12-91d8-c56ef74e80bb",
         "x": [],
         "y": [],
         "z": []
        }
       ],
       "frames": [
        {
         "data": [
          {
           "line": {
            "color": "red",
            "width": 5
           },
           "marker": {
            "color": "blue",
            "size": 2
           },
           "text": [
            "RHip"
           ],
           "type": "scatter3d",
           "x": [
            0.16994065046310425,
            -0.0027418718673288822
           ],
           "y": [
            2.1984085589647293,
            2.011849765665829
           ],
           "z": [
            10.131139770150185,
            9.999753076350316
           ]
          },
          {
           "line": {
            "color": "red",
            "width": 5
           },
           "marker": {
            "color": "blue",
            "size": 2
           },
           "text": [
            "RKnee"
           ],
           "type": "scatter3d",
           "x": [
            0.21524392068386078,
            0.16994065046310425
           ],
           "y": [
            3.0064395666122437,
            2.1984085589647293
           ],
           "z": [
            10.59465777873993,
            10.131139770150185
           ]
          },
          {
           "line": {
            "color": "red",
            "width": 5
           },
           "marker": {
            "color": "blue",
            "size": 2
           },
           "text": [
            "RAnkle"
           ],
           "type": "scatter3d",
           "x": [
            0.190170556306839,
            0.21524392068386078
           ],
           "y": [
            3.659814953804016,
            3.0064395666122437
           ],
           "z": [
            10.070103488862514,
            10.59465777873993
           ]
          },
          {
           "line": {
            "color": "black",
            "width": 5
           },
           "marker": {
            "color": "blue",
            "size": 2
           },
           "text": [
            "LHip"
           ],
           "type": "scatter3d",
           "x": [
            -0.13013646006584167,
            -0.0027418718673288822
           ],
           "y": [
            2.2111804634332657,
            2.011849765665829
           ],
           "z": [
            10.127653047442436,
            9.999753076350316
           ]
          },
          {
           "line": {
            "color": "black",
            "width": 5
           },
           "marker": {
            "color": "blue",
            "size": 2
           },
           "text": [
            "LKnee"
           ],
           "type": "scatter3d",
           "x": [
            -0.10012688487768173,
            -0.13013646006584167
           ],
           "y": [
            3.021841526031494,
            2.2111804634332657
           ],
           "z": [
            10.294957429170609,
            10.127653047442436
           ]
          },
          {
           "line": {
            "color": "black",
            "width": 5
           },
           "marker": {
            "color": "blue",
            "size": 2
           },
           "text": [
            "LAnkle"
           ],
           "type": "scatter3d",
           "x": [
            -0.042567379772663116,
            -0.10012688487768173
           ],
           "y": [
            3.7000309228897095,
            3.021841526031494
           ],
           "z": [
            9.75118088722229,
            10.294957429170609
           ]
          },
          {
           "line": {
            "color": "black",
            "width": 5
           },
           "marker": {
            "color": "blue",
            "size": 2
           },
           "text": [
            "Spine1"
           ],
           "type": "scatter3d",
           "x": [
            -0.03959568962454796,
            -0.0027418718673288822
           ],
           "y": [
            1.5809186697006226,
            2.011849765665829
           ],
           "z": [
            10.126129537820816,
            9.999753076350316
           ]
          },
          {
           "line": {
            "color": "black",
            "width": 5
           },
           "marker": {
            "color": "blue",
            "size": 2
           },
           "text": [
            "Neck"
           ],
           "type": "scatter3d",
           "x": [
            -0.03610718995332718,
            -0.03959568962454796
           ],
           "y": [
            1.1796957850456238,
            1.5809186697006226
           ],
           "z": [
            10.25620585680008,
            10.126129537820816
           ]
          },
          {
           "line": {
            "color": "black",
            "width": 5
           },
           "marker": {
            "color": "blue",
            "size": 2
           },
           "text": [
            "Head"
           ],
           "type": "scatter3d",
           "x": [
            -0.034108929336071014,
            -0.03610718995332718
           ],
           "y": [
            0.9804559946060181,
            1.1796957850456238
           ],
           "z": [
            10.294046849012375,
            10.25620585680008
           ]
          },
          {
           "line": {
            "color": "black",
            "width": 5
           },
           "marker": {
            "color": "blue",
            "size": 2
           },
           "text": [
            "Site"
           ],
           "type": "scatter3d",
           "x": [
            -0.022280320525169373,
            -0.034108929336071014
           ],
           "y": [
            0.7854218482971191,
            0.9804559946060181
           ],
           "z": [
            10.348779559135437,
            10.294046849012375
           ]
          },
          {
           "line": {
            "color": "black",
            "width": 5
           },
           "marker": {
            "color": "blue",
            "size": 2
           },
           "text": [
            "LShoulder"
           ],
           "type": "scatter3d",
           "x": [
            -0.41524064540863037,
            -0.03610718995332718
           ],
           "y": [
            1.2213638424873352,
            1.1796957850456238
           ],
           "z": [
            10.156338185071945,
            10.25620585680008
           ]
          },
          {
           "line": {
            "color": "black",
            "width": 5
           },
           "marker": {
            "color": "blue",
            "size": 2
           },
           "text": [
            "LElbow"
           ],
           "type": "scatter3d",
           "x": [
            -0.5634458661079407,
            -0.41524064540863037
           ],
           "y": [
            2.075349599123001,
            1.2213638424873352
           ],
           "z": [
            10.174479246139526,
            10.156338185071945
           ]
          },
          {
           "line": {
            "color": "black",
            "width": 5
           },
           "marker": {
            "color": "blue",
            "size": 2
           },
           "text": [
            "LWrist"
           ],
           "type": "scatter3d",
           "x": [
            -0.6102854013442993,
            -0.5634458661079407
           ],
           "y": [
            2.2415172904729843,
            2.075349599123001
           ],
           "z": [
            10.30929321050644,
            10.174479246139526
           ]
          },
          {
           "line": {
            "color": "red",
            "width": 5
           },
           "marker": {
            "color": "blue",
            "size": 2
           },
           "text": [
            "RShoulder"
           ],
           "type": "scatter3d",
           "x": [
            0.3097112476825714,
            -0.03610718995332718
           ],
           "y": [
            1.2071815133094788,
            1.1796957850456238
           ],
           "z": [
            10.207605540752411,
            10.25620585680008
           ]
          },
          {
           "line": {
            "color": "red",
            "width": 5
           },
           "marker": {
            "color": "blue",
            "size": 2
           },
           "text": [
            "RElbow"
           ],
           "type": "scatter3d",
           "x": [
            0.4542078375816345,
            0.3097112476825714
           ],
           "y": [
            2.0959878340363503,
            1.2071815133094788
           ],
           "z": [
            10.231924414634705,
            10.207605540752411
           ]
          },
          {
           "line": {
            "color": "red",
            "width": 5
           },
           "marker": {
            "color": "blue",
            "size": 2
           },
           "text": [
            "RWrist"
           ],
           "type": "scatter3d",
           "x": [
            0.49016711115837097,
            0.4542078375816345
           ],
           "y": [
            2.2651628851890564,
            2.0959878340363503
           ],
           "z": [
            10.347127944231033,
            10.231924414634705
           ]
          },
          {
           "line": {
            "color": "#1f77b4",
            "width": 1
           },
           "marker": {
            "color": "#1f77b4",
            "size": 1
           },
           "type": "scatter3d",
           "x": [],
           "y": [],
           "z": []
          }
         ],
         "name": "frame1"
        },
        {
         "data": [
          {
           "line": {
            "color": "red",
            "width": 5
           },
           "marker": {
            "color": "blue",
            "size": 2
           },
           "text": [
            "RHip"
           ],
           "type": "scatter3d",
           "x": [
            0.1653643250465393,
            -0.0030006198212504387
           ],
           "y": [
            2.179888978600502,
            2.0113775432109833
           ],
           "z": [
            10.131361529231071,
            9.999828980944585
           ]
          },
          {
           "line": {
            "color": "red",
            "width": 5
           },
           "marker": {
            "color": "blue",
            "size": 2
           },
           "text": [
            "RKnee"
           ],
           "type": "scatter3d",
           "x": [
            0.18022026121616364,
            0.1653643250465393
           ],
           "y": [
            2.952127456665039,
            2.179888978600502
           ],
           "z": [
            10.617323696613312,
            10.131361529231071
           ]
          },
          {
           "line": {
            "color": "red",
            "width": 5
           },
           "marker": {
            "color": "blue",
            "size": 2
           },
           "text": [
            "RAnkle"
           ],
           "type": "scatter3d",
           "x": [
            0.20754340291023254,
            0.18022026121616364
           ],
           "y": [
            3.7253414392471313,
            2.952127456665039
           ],
           "z": [
            10.522871494293213,
            10.617323696613312
           ]
          },
          {
           "line": {
            "color": "black",
            "width": 5
           },
           "marker": {
            "color": "blue",
            "size": 2
           },
           "text": [
            "LHip"
           ],
           "type": "scatter3d",
           "x": [
            -0.11099357903003693,
            -0.0030006198212504387
           ],
           "y": [
            2.2013017535209656,
            2.0113775432109833
           ],
           "z": [
            10.121952265501022,
            9.999828980944585
           ]
          },
          {
           "line": {
            "color": "black",
            "width": 5
           },
           "marker": {
            "color": "blue",
            "size": 2
           },
           "text": [
            "LKnee"
           ],
           "type": "scatter3d",
           "x": [
            -0.10831566900014877,
            -0.11099357903003693
           ],
           "y": [
            2.87979918718338,
            2.2013017535209656
           ],
           "z": [
            10.215764090418816,
            10.121952265501022
           ]
          },
          {
           "line": {
            "color": "black",
            "width": 5
           },
           "marker": {
            "color": "blue",
            "size": 2
           },
           "text": [
            "LAnkle"
           ],
           "type": "scatter3d",
           "x": [
            -0.09628159552812576,
            -0.10831566900014877
           ],
           "y": [
            3.5359137058258057,
            2.87979918718338
           ],
           "z": [
            9.710226893424988,
            10.215764090418816
           ]
          },
          {
           "line": {
            "color": "black",
            "width": 5
           },
           "marker": {
            "color": "blue",
            "size": 2
           },
           "text": [
            "Spine1"
           ],
           "type": "scatter3d",
           "x": [
            -0.023997224867343903,
            -0.0030006198212504387
           ],
           "y": [
            1.6105754673480988,
            2.0113775432109833
           ],
           "z": [
            10.118930391967297,
            9.999828980944585
           ]
          },
          {
           "line": {
            "color": "black",
            "width": 5
           },
           "marker": {
            "color": "blue",
            "size": 2
           },
           "text": [
            "Neck"
           ],
           "type": "scatter3d",
           "x": [
            -0.022904997691512108,
            -0.023997224867343903
           ],
           "y": [
            1.2438017129898071,
            1.6105754673480988
           ],
           "z": [
            10.240732312202454,
            10.118930391967297
           ]
          },
          {
           "line": {
            "color": "black",
            "width": 5
           },
           "marker": {
            "color": "blue",
            "size": 2
           },
           "text": [
            "Head"
           ],
           "type": "scatter3d",
           "x": [
            -0.025614693760871887,
            -0.022904997691512108
           ],
           "y": [
            1.0575979351997375,
            1.2438017129898071
           ],
           "z": [
            10.26886761188507,
            10.240732312202454
           ]
          },
          {
           "line": {
            "color": "black",
            "width": 5
           },
           "marker": {
            "color": "blue",
            "size": 2
           },
           "text": [
            "Site"
           ],
           "type": "scatter3d",
           "x": [
            -0.016635462641716003,
            -0.025614693760871887
           ],
           "y": [
            0.8758041858673096,
            1.0575979351997375
           ],
           "z": [
            10.31031209230423,
            10.26886761188507
           ]
          },
          {
           "line": {
            "color": "black",
            "width": 5
           },
           "marker": {
            "color": "blue",
            "size": 2
           },
           "text": [
            "LShoulder"
           ],
           "type": "scatter3d",
           "x": [
            -0.36186307668685913,
            -0.022904997691512108
           ],
           "y": [
            1.2669281959533691,
            1.2438017129898071
           ],
           "z": [
            10.147469878196716,
            10.240732312202454
           ]
          },
          {
           "line": {
            "color": "black",
            "width": 5
           },
           "marker": {
            "color": "blue",
            "size": 2
           },
           "text": [
            "LElbow"
           ],
           "type": "scatter3d",
           "x": [
            -0.5265530943870544,
            -0.36186307668685913
           ],
           "y": [
            2.029304465278983,
            1.2669281959533691
           ],
           "z": [
            10.162030220031738,
            10.147469878196716
           ]
          },
          {
           "line": {
            "color": "black",
            "width": 5
           },
           "marker": {
            "color": "blue",
            "size": 2
           },
           "text": [
            "LWrist"
           ],
           "type": "scatter3d",
           "x": [
            -0.5879854559898376,
            -0.5265530943870544
           ],
           "y": [
            2.177996903657913,
            2.029304465278983
           ],
           "z": [
            10.287453830242157,
            10.162030220031738
           ]
          },
          {
           "line": {
            "color": "red",
            "width": 5
           },
           "marker": {
            "color": "blue",
            "size": 2
           },
           "text": [
            "RShoulder"
           ],
           "type": "scatter3d",
           "x": [
            0.29265454411506653,
            -0.022904997691512108
           ],
           "y": [
            1.2780835032463074,
            1.2438017129898071
           ],
           "z": [
            10.193633005023003,
            10.240732312202454
           ]
          },
          {
           "line": {
            "color": "red",
            "width": 5
           },
           "marker": {
            "color": "blue",
            "size": 2
           },
           "text": [
            "RElbow"
           ],
           "type": "scatter3d",
           "x": [
            0.3941355347633362,
            0.29265454411506653
           ],
           "y": [
            2.0962408781051636,
            1.2780835032463074
           ],
           "z": [
            10.159806296229362,
            10.193633005023003
           ]
          },
          {
           "line": {
            "color": "red",
            "width": 5
           },
           "marker": {
            "color": "blue",
            "size": 2
           },
           "text": [
            "RWrist"
           ],
           "type": "scatter3d",
           "x": [
            0.40672793984413147,
            0.3941355347633362
           ],
           "y": [
            2.2388133257627487,
            2.0962408781051636
           ],
           "z": [
            10.237946808338165,
            10.159806296229362
           ]
          },
          {
           "line": {
            "color": "#1f77b4",
            "width": 1
           },
           "marker": {
            "color": "#1f77b4",
            "size": 1
           },
           "type": "scatter3d",
           "x": [
            -0.0027418718673288822
           ],
           "y": [
            2.011849765665829
           ],
           "z": [
            9.999753076350316
           ]
          }
         ],
         "name": "frame2"
        },
        {
         "data": [
          {
           "line": {
            "color": "red",
            "width": 5
           },
           "marker": {
            "color": "blue",
            "size": 2
           },
           "text": [
            "RHip"
           ],
           "type": "scatter3d",
           "x": [
            0.10089073330163956,
            -0.0030568535439670086
           ],
           "y": [
            2.1251494139432907,
            2.0116708986461163
           ],
           "z": [
            10.121422626078129,
            9.999864725163206
           ]
          },
          {
           "line": {
            "color": "red",
            "width": 5
           },
           "marker": {
            "color": "blue",
            "size": 2
           },
           "text": [
            "RKnee"
           ],
           "type": "scatter3d",
           "x": [
            0.10596418380737305,
            0.10089073330163956
           ],
           "y": [
            2.733714461326599,
            2.1251494139432907
           ],
           "z": [
            10.642839789390564,
            10.121422626078129
           ]
          },
          {
           "line": {
            "color": "red",
            "width": 5
           },
           "marker": {
            "color": "blue",
            "size": 2
           },
           "text": [
            "RAnkle"
           ],
           "type": "scatter3d",
           "x": [
            0.1319717913866043,
            0.10596418380737305
           ],
           "y": [
            3.3542248010635376,
            2.733714461326599
           ],
           "z": [
            10.597746133804321,
            10.642839789390564
           ]
          },
          {
           "line": {
            "color": "black",
            "width": 5
           },
           "marker": {
            "color": "blue",
            "size": 2
           },
           "text": [
            "LHip"
           ],
           "type": "scatter3d",
           "x": [
            -0.05691145360469818,
            -0.0030568535439670086
           ],
           "y": [
            2.151673138141632,
            2.0116708986461163
           ],
           "z": [
            10.135338842868805,
            9.999864725163206
           ]
          },
          {
           "line": {
            "color": "black",
            "width": 5
           },
           "marker": {
            "color": "blue",
            "size": 2
           },
           "text": [
            "LKnee"
           ],
           "type": "scatter3d",
           "x": [
            -0.11029006540775299,
            -0.05691145360469818
           ],
           "y": [
            2.609785795211792,
            2.151673138141632
           ],
           "z": [
            10.141029596328735,
            10.135338842868805
           ]
          },
          {
           "line": {
            "color": "black",
            "width": 5
           },
           "marker": {
            "color": "blue",
            "size": 2
           },
           "text": [
            "LAnkle"
           ],
           "type": "scatter3d",
           "x": [
            -0.13693898916244507,
            -0.11029006540775299
           ],
           "y": [
            3.1069798469543457,
            2.609785795211792
           ],
           "z": [
            9.65750914812088,
            10.141029596328735
           ]
          },
          {
           "line": {
            "color": "black",
            "width": 5
           },
           "marker": {
            "color": "blue",
            "size": 2
           },
           "text": [
            "Spine1"
           ],
           "type": "scatter3d",
           "x": [
            -0.007115915417671204,
            -0.0030568535439670086
           ],
           "y": [
            1.6911471784114838,
            2.0116708986461163
           ],
           "z": [
            10.105900257825851,
            9.999864725163206
           ]
          },
          {
           "line": {
            "color": "black",
            "width": 5
           },
           "marker": {
            "color": "blue",
            "size": 2
           },
           "text": [
            "Neck"
           ],
           "type": "scatter3d",
           "x": [
            -0.003396114334464073,
            -0.007115915417671204
           ],
           "y": [
            1.4004012942314148,
            1.6911471784114838
           ],
           "z": [
            10.21757385134697,
            10.105900257825851
           ]
          },
          {
           "line": {
            "color": "black",
            "width": 5
           },
           "marker": {
            "color": "blue",
            "size": 2
           },
           "text": [
            "Head"
           ],
           "type": "scatter3d",
           "x": [
            -0.0004576967330649495,
            -0.003396114334464073
           ],
           "y": [
            1.250045359134674,
            1.4004012942314148
           ],
           "z": [
            10.249027281999588,
            10.21757385134697
           ]
          },
          {
           "line": {
            "color": "black",
            "width": 5
           },
           "marker": {
            "color": "blue",
            "size": 2
           },
           "text": [
            "Site"
           ],
           "type": "scatter3d",
           "x": [
            0.009561276063323021,
            -0.0004576967330649495
           ],
           "y": [
            1.1027339696884155,
            1.250045359134674
           ],
           "z": [
            10.294571340084076,
            10.249027281999588
           ]
          },
          {
           "line": {
            "color": "black",
            "width": 5
           },
           "marker": {
            "color": "blue",
            "size": 2
           },
           "text": [
            "LShoulder"
           ],
           "type": "scatter3d",
           "x": [
            -0.19786064326763153,
            -0.003396114334464073
           ],
           "y": [
            1.4199681878089905,
            1.4004012942314148
           ],
           "z": [
            10.159939348697662,
            10.21757385134697
           ]
          },
          {
           "line": {
            "color": "black",
            "width": 5
           },
           "marker": {
            "color": "blue",
            "size": 2
           },
           "text": [
            "LElbow"
           ],
           "type": "scatter3d",
           "x": [
            -0.32653170824050903,
            -0.19786064326763153
           ],
           "y": [
            1.9909762721508741,
            1.4199681878089905
           ],
           "z": [
            10.21793931722641,
            10.159939348697662
           ]
          },
          {
           "line": {
            "color": "black",
            "width": 5
           },
           "marker": {
            "color": "blue",
            "size": 2
           },
           "text": [
            "LWrist"
           ],
           "type": "scatter3d",
           "x": [
            -0.37258538603782654,
            -0.32653170824050903
           ],
           "y": [
            2.105913981795311,
            1.9909762721508741
           ],
           "z": [
            10.350225538015366,
            10.21793931722641
           ]
          },
          {
           "line": {
            "color": "red",
            "width": 5
           },
           "marker": {
            "color": "blue",
            "size": 2
           },
           "text": [
            "RShoulder"
           ],
           "type": "scatter3d",
           "x": [
            0.17653225362300873,
            -0.003396114334464073
           ],
           "y": [
            1.4302394390106201,
            1.4004012942314148
           ],
           "z": [
            10.135837033390999,
            10.21757385134697
           ]
          },
          {
           "line": {
            "color": "red",
            "width": 5
           },
           "marker": {
            "color": "blue",
            "size": 2
           },
           "text": [
            "RElbow"
           ],
           "type": "scatter3d",
           "x": [
            0.17046432197093964,
            0.17653225362300873
           ],
           "y": [
            2.008803367614746,
            1.4302394390106201
           ],
           "z": [
            10.088096551597118,
            10.135837033390999
           ]
          },
          {
           "line": {
            "color": "red",
            "width": 5
           },
           "marker": {
            "color": "blue",
            "size": 2
           },
           "text": [
            "RWrist"
           ],
           "type": "scatter3d",
           "x": [
            0.1601983606815338,
            0.17046432197093964
           ],
           "y": [
            2.1023294180631638,
            2.008803367614746
           ],
           "z": [
            10.16452057659626,
            10.088096551597118
           ]
          },
          {
           "line": {
            "color": "#1f77b4",
            "width": 1
           },
           "marker": {
            "color": "#1f77b4",
            "size": 1
           },
           "type": "scatter3d",
           "x": [
            -0.0027418718673288822,
            -0.0030006198212504387
           ],
           "y": [
            2.011849765665829,
            2.0113775432109833
           ],
           "z": [
            9.999753076350316,
            9.999828980944585
           ]
          }
         ],
         "name": "frame3"
        },
        {
         "data": [
          {
           "line": {
            "color": "red",
            "width": 5
           },
           "marker": {
            "color": "blue",
            "size": 2
           },
           "text": [
            "RHip"
           ],
           "type": "scatter3d",
           "x": [
            0.01223792601376772,
            -0.0032310402020812035
           ],
           "y": [
            2.060304533690214,
            2.0116401202976704
           ],
           "z": [
            10.09893624484539,
            9.99974051915342
           ]
          },
          {
           "line": {
            "color": "red",
            "width": 5
           },
           "marker": {
            "color": "blue",
            "size": 2
           },
           "text": [
            "RKnee"
           ],
           "type": "scatter3d",
           "x": [
            0.06576168537139893,
            0.01223792601376772
           ],
           "y": [
            2.3594137132167816,
            2.060304533690214
           ],
           "z": [
            10.524821877479553,
            10.09893624484539
           ]
          },
          {
           "line": {
            "color": "red",
            "width": 5
           },
           "marker": {
            "color": "blue",
            "size": 2
           },
           "text": [
            "RAnkle"
           ],
           "type": "scatter3d",
           "x": [
            0.07316749542951584,
            0.06576168537139893
           ],
           "y": [
            2.45626699924469,
            2.3594137132167816
           ],
           "z": [
            10.332918792963028,
            10.524821877479553
           ]
          },
          {
           "line": {
            "color": "black",
            "width": 5
           },
           "marker": {
            "color": "blue",
            "size": 2
           },
           "text": [
            "LHip"
           ],
           "type": "scatter3d",
           "x": [
            0.004514333792030811,
            -0.0032310402020812035
           ],
           "y": [
            2.0557171925902367,
            2.0116401202976704
           ],
           "z": [
            10.152326136827469,
            9.99974051915342
           ]
          },
          {
           "line": {
            "color": "black",
            "width": 5
           },
           "marker": {
            "color": "blue",
            "size": 2
           },
           "text": [
            "LKnee"
           ],
           "type": "scatter3d",
           "x": [
            3.69315966963768e-05,
            0.004514333792030811
           ],
           "y": [
            2.2128200829029083,
            2.0557171925902367
           ],
           "z": [
            10.340285062789917,
            10.152326136827469
           ]
          },
          {
           "line": {
            "color": "black",
            "width": 5
           },
           "marker": {
            "color": "blue",
            "size": 2
           },
           "text": [
            "LAnkle"
           ],
           "type": "scatter3d",
           "x": [
            -0.05078566074371338,
            3.69315966963768e-05
           ],
           "y": [
            2.4445234537124634,
            2.2128200829029083
           ],
           "z": [
            9.655945718288422,
            10.340285062789917
           ]
          },
          {
           "line": {
            "color": "black",
            "width": 5
           },
           "marker": {
            "color": "blue",
            "size": 2
           },
           "text": [
            "Spine1"
           ],
           "type": "scatter3d",
           "x": [
            0.0028183022513985634,
            -0.0032310402020812035
           ],
           "y": [
            1.8841914311051369,
            2.0116401202976704
           ],
           "z": [
            10.099634639918804,
            9.99974051915342
           ]
          },
          {
           "line": {
            "color": "black",
            "width": 5
           },
           "marker": {
            "color": "blue",
            "size": 2
           },
           "text": [
            "Neck"
           ],
           "type": "scatter3d",
           "x": [
            -0.006909306161105633,
            0.0028183022513985634
           ],
           "y": [
            1.767916351556778,
            1.8841914311051369
           ],
           "z": [
            10.201812669634819,
            10.099634639918804
           ]
          },
          {
           "line": {
            "color": "black",
            "width": 5
           },
           "marker": {
            "color": "blue",
            "size": 2
           },
           "text": [
            "Head"
           ],
           "type": "scatter3d",
           "x": [
            0.00038109347224235535,
            -0.006909306161105633
           ],
           "y": [
            1.7182031571865082,
            1.767916351556778
           ],
           "z": [
            10.234266549348831,
            10.201812669634819
           ]
          },
          {
           "line": {
            "color": "black",
            "width": 5
           },
           "marker": {
            "color": "blue",
            "size": 2
           },
           "text": [
            "Site"
           ],
           "type": "scatter3d",
           "x": [
            0.00952225923538208,
            0.00038109347224235535
           ],
           "y": [
            1.6734681725502014,
            1.7182031571865082
           ],
           "z": [
            10.285906314849854,
            10.234266549348831
           ]
          },
          {
           "line": {
            "color": "black",
            "width": 5
           },
           "marker": {
            "color": "blue",
            "size": 2
           },
           "text": [
            "LShoulder"
           ],
           "type": "scatter3d",
           "x": [
            -0.02003037929534912,
            -0.006909306161105633
           ],
           "y": [
            1.7722180485725403,
            1.767916351556778
           ],
           "z": [
            10.186076298356056,
            10.201812669634819
           ]
          },
          {
           "line": {
            "color": "black",
            "width": 5
           },
           "marker": {
            "color": "blue",
            "size": 2
           },
           "text": [
            "LElbow"
           ],
           "type": "scatter3d",
           "x": [
            -0.056035831570625305,
            -0.02003037929534912
           ],
           "y": [
            1.9804486688226461,
            1.7722180485725403
           ],
           "z": [
            10.290302723646164,
            10.186076298356056
           ]
          },
          {
           "line": {
            "color": "black",
            "width": 5
           },
           "marker": {
            "color": "blue",
            "size": 2
           },
           "text": [
            "LWrist"
           ],
           "type": "scatter3d",
           "x": [
            -0.0710127055644989,
            -0.056035831570625305
           ],
           "y": [
            2.037509061396122,
            1.9804486688226461
           ],
           "z": [
            10.434300929307938,
            10.290302723646164
           ]
          },
          {
           "line": {
            "color": "red",
            "width": 5
           },
           "marker": {
            "color": "blue",
            "size": 2
           },
           "text": [
            "RShoulder"
           ],
           "type": "scatter3d",
           "x": [
            0.01441554818302393,
            -0.006909306161105633
           ],
           "y": [
            1.7825275659561157,
            1.767916351556778
           ],
           "z": [
            10.09826847910881,
            10.201812669634819
           ]
          },
          {
           "line": {
            "color": "red",
            "width": 5
           },
           "marker": {
            "color": "blue",
            "size": 2
           },
           "text": [
            "RElbow"
           ],
           "type": "scatter3d",
           "x": [
            -0.025289393961429596,
            0.01441554818302393
           ],
           "y": [
            1.980215858668089,
            1.7825275659561157
           ],
           "z": [
            10.086591266095638,
            10.09826847910881
           ]
          },
          {
           "line": {
            "color": "red",
            "width": 5
           },
           "marker": {
            "color": "blue",
            "size": 2
           },
           "text": [
            "RWrist"
           ],
           "type": "scatter3d",
           "x": [
            -0.04597480222582817,
            -0.025289393961429596
           ],
           "y": [
            2.02207013964653,
            1.980215858668089
           ],
           "z": [
            10.158337011933327,
            10.086591266095638
           ]
          },
          {
           "line": {
            "color": "#1f77b4",
            "width": 1
           },
           "marker": {
            "color": "#1f77b4",
            "size": 1
           },
           "type": "scatter3d",
           "x": [
            -0.0027418718673288822,
            -0.0030006198212504387,
            -0.0030568535439670086
           ],
           "y": [
            2.011849765665829,
            2.0113775432109833,
            2.0116708986461163
           ],
           "z": [
            9.999753076350316,
            9.999828980944585,
            9.999864725163206
           ]
          }
         ],
         "name": "frame4"
        },
        {
         "data": [
          {
           "line": {
            "color": "red",
            "width": 5
           },
           "marker": {
            "color": "blue",
            "size": 2
           },
           "text": [
            "RHip"
           ],
           "type": "scatter3d",
           "x": [
            -0.024165883660316467,
            -0.0022897955495864153
           ],
           "y": [
            2.02887068875134,
            2.0106278993189335
           ],
           "z": [
            10.102747097611427,
            10.000227494572755
           ]
          },
          {
           "line": {
            "color": "red",
            "width": 5
           },
           "marker": {
            "color": "blue",
            "size": 2
           },
           "text": [
            "RKnee"
           ],
           "type": "scatter3d",
           "x": [
            -0.025153499096632004,
            -0.024165883660316467
           ],
           "y": [
            2.10668882727623,
            2.02887068875134
           ],
           "z": [
            10.468882024288177,
            10.102747097611427
           ]
          },
          {
           "line": {
            "color": "red",
            "width": 5
           },
           "marker": {
            "color": "blue",
            "size": 2
           },
           "text": [
            "RAnkle"
           ],
           "type": "scatter3d",
           "x": [
            -0.011681664735078812,
            -0.025153499096632004
           ],
           "y": [
            2.0708599910140038,
            2.10668882727623
           ],
           "z": [
            10.195827230811119,
            10.468882024288177
           ]
          },
          {
           "line": {
            "color": "black",
            "width": 5
           },
           "marker": {
            "color": "blue",
            "size": 2
           },
           "text": [
            "LHip"
           ],
           "type": "scatter3d",
           "x": [
            0.013783298432826996,
            -0.0022897955495864153
           ],
           "y": [
            2.012822582386434,
            2.0106278993189335
           ],
           "z": [
            10.14218856394291,
            10.000227494572755
           ]
          },
          {
           "line": {
            "color": "black",
            "width": 5
           },
           "marker": {
            "color": "blue",
            "size": 2
           },
           "text": [
            "LKnee"
           ],
           "type": "scatter3d",
           "x": [
            0.0035392760764807463,
            0.013783298432826996
           ],
           "y": [
            2.0906640142202377,
            2.012822582386434
           ],
           "z": [
            10.553406298160553,
            10.14218856394291
           ]
          },
          {
           "line": {
            "color": "black",
            "width": 5
           },
           "marker": {
            "color": "blue",
            "size": 2
           },
           "text": [
            "LAnkle"
           ],
           "type": "scatter3d",
           "x": [
            -0.02118537575006485,
            0.0035392760764807463
           ],
           "y": [
            2.129846543073654,
            2.0906640142202377
           ],
           "z": [
            9.998956181108952,
            10.553406298160553
           ]
          },
          {
           "line": {
            "color": "black",
            "width": 5
           },
           "marker": {
            "color": "blue",
            "size": 2
           },
           "text": [
            "Spine1"
           ],
           "type": "scatter3d",
           "x": [
            0.007386248558759689,
            -0.0022897955495864153
           ],
           "y": [
            1.9829212930053473,
            2.0106278993189335
           ],
           "z": [
            10.12402592599392,
            10.000227494572755
           ]
          },
          {
           "line": {
            "color": "black",
            "width": 5
           },
           "marker": {
            "color": "blue",
            "size": 2
           },
           "text": [
            "Neck"
           ],
           "type": "scatter3d",
           "x": [
            0.000887751579284668,
            0.007386248558759689
           ],
           "y": [
            1.9624392464756966,
            1.9829212930053473
           ],
           "z": [
            10.244868949055672,
            10.12402592599392
           ]
          },
          {
           "line": {
            "color": "black",
            "width": 5
           },
           "marker": {
            "color": "blue",
            "size": 2
           },
           "text": [
            "Head"
           ],
           "type": "scatter3d",
           "x": [
            0.0017025740817189217,
            0.000887751579284668
           ],
           "y": [
            1.950768955051899,
            1.9624392464756966
           ],
           "z": [
            10.27609246969223,
            10.244868949055672
           ]
          },
          {
           "line": {
            "color": "black",
            "width": 5
           },
           "marker": {
            "color": "blue",
            "size": 2
           },
           "text": [
            "Site"
           ],
           "type": "scatter3d",
           "x": [
            0.003936441615223885,
            0.0017025740817189217
           ],
           "y": [
            1.943641234189272,
            1.950768955051899
           ],
           "z": [
            10.324818730354309,
            10.27609246969223
           ]
          },
          {
           "line": {
            "color": "black",
            "width": 5
           },
           "marker": {
            "color": "blue",
            "size": 2
           },
           "text": [
            "LShoulder"
           ],
           "type": "scatter3d",
           "x": [
            0.04831671342253685,
            0.000887751579284668
           ],
           "y": [
            1.9634515419602394,
            1.9624392464756966
           ],
           "z": [
            10.194635033607483,
            10.244868949055672
           ]
          },
          {
           "line": {
            "color": "black",
            "width": 5
           },
           "marker": {
            "color": "blue",
            "size": 2
           },
           "text": [
            "LElbow"
           ],
           "type": "scatter3d",
           "x": [
            0.030066292732954025,
            0.04831671342253685
           ],
           "y": [
            2.003472223877907,
            1.9634515419602394
           ],
           "z": [
            10.28049722313881,
            10.194635033607483
           ]
          },
          {
           "line": {
            "color": "black",
            "width": 5
           },
           "marker": {
            "color": "blue",
            "size": 2
           },
           "text": [
            "LWrist"
           ],
           "type": "scatter3d",
           "x": [
            0.01430082693696022,
            0.030066292732954025
           ],
           "y": [
            2.0245416034013033,
            2.003472223877907
           ],
           "z": [
            10.40501818060875,
            10.28049722313881
           ]
          },
          {
           "line": {
            "color": "red",
            "width": 5
           },
           "marker": {
            "color": "blue",
            "size": 2
           },
           "text": [
            "RShoulder"
           ],
           "type": "scatter3d",
           "x": [
            -0.04536591097712517,
            0.000887751579284668
           ],
           "y": [
            1.9500630423426628,
            1.9624392464756966
           ],
           "z": [
            10.172698244452477,
            10.244868949055672
           ]
          },
          {
           "line": {
            "color": "red",
            "width": 5
           },
           "marker": {
            "color": "blue",
            "size": 2
           },
           "text": [
            "RElbow"
           ],
           "type": "scatter3d",
           "x": [
            -0.11432744562625885,
            -0.04536591097712517
           ],
           "y": [
            1.9786397069692612,
            1.9500630423426628
           ],
           "z": [
            10.210061892867088,
            10.172698244452477
           ]
          },
          {
           "line": {
            "color": "red",
            "width": 5
           },
           "marker": {
            "color": "blue",
            "size": 2
           },
           "text": [
            "RWrist"
           ],
           "type": "scatter3d",
           "x": [
            -0.12551744282245636,
            -0.11432744562625885
           ],
           "y": [
            1.9848309829831123,
            1.9786397069692612
           ],
           "z": [
            10.318847119808197,
            10.210061892867088
           ]
          },
          {
           "line": {
            "color": "#1f77b4",
            "width": 1
           },
           "marker": {
            "color": "#1f77b4",
            "size": 1
           },
           "type": "scatter3d",
           "x": [
            -0.0027418718673288822,
            -0.0030006198212504387,
            -0.0030568535439670086,
            -0.0032310402020812035
           ],
           "y": [
            2.011849765665829,
            2.0113775432109833,
            2.0116708986461163,
            2.0116401202976704
           ],
           "z": [
            9.999753076350316,
            9.999828980944585,
            9.999864725163206,
            9.99974051915342
           ]
          }
         ],
         "name": "frame5"
        },
        {
         "data": [
          {
           "line": {
            "color": "red",
            "width": 5
           },
           "marker": {
            "color": "blue",
            "size": 2
           },
           "text": [
            "RHip"
           ],
           "type": "scatter3d",
           "x": [
            -0.06372283399105072,
            -0.003721669316291809
           ],
           "y": [
            1.9922129046171904,
            2.01270847953856
           ],
           "z": [
            10.112805426120758,
            9.998863602988422
           ]
          },
          {
           "line": {
            "color": "red",
            "width": 5
           },
           "marker": {
            "color": "blue",
            "size": 2
           },
           "text": [
            "RKnee"
           ],
           "type": "scatter3d",
           "x": [
            -0.07594319432973862,
            -0.06372283399105072
           ],
           "y": [
            1.878350868821144,
            1.9922129046171904
           ],
           "z": [
            10.327573955059052,
            10.112805426120758
           ]
          },
          {
           "line": {
            "color": "red",
            "width": 5
           },
           "marker": {
            "color": "blue",
            "size": 2
           },
           "text": [
            "RAnkle"
           ],
           "type": "scatter3d",
           "x": [
            -0.015273083001375198,
            -0.07594319432973862
           ],
           "y": [
            1.7085314393043518,
            1.878350868821144
           ],
           "z": [
            10.066915646195412,
            10.327573955059052
           ]
          },
          {
           "line": {
            "color": "black",
            "width": 5
           },
           "marker": {
            "color": "blue",
            "size": 2
           },
           "text": [
            "LHip"
           ],
           "type": "scatter3d",
           "x": [
            0.0061605144292116165,
            -0.003721669316291809
           ],
           "y": [
            1.9705085847526789,
            2.01270847953856
           ],
           "z": [
            10.123915761709213,
            9.998863602988422
           ]
          },
          {
           "line": {
            "color": "black",
            "width": 5
           },
           "marker": {
            "color": "blue",
            "size": 2
           },
           "text": [
            "LKnee"
           ],
           "type": "scatter3d",
           "x": [
            -0.0019789072684943676,
            0.0061605144292116165
           ],
           "y": [
            1.990755908191204,
            1.9705085847526789
           ],
           "z": [
            10.600190162658691,
            10.123915761709213
           ]
          },
          {
           "line": {
            "color": "black",
            "width": 5
           },
           "marker": {
            "color": "blue",
            "size": 2
           },
           "text": [
            "LAnkle"
           ],
           "type": "scatter3d",
           "x": [
            0.022924859076738358,
            -0.0019789072684943676
           ],
           "y": [
            1.8283587098121643,
            1.990755908191204
           ],
           "z": [
            10.49188295006752,
            10.600190162658691
           ]
          },
          {
           "line": {
            "color": "black",
            "width": 5
           },
           "marker": {
            "color": "blue",
            "size": 2
           },
           "text": [
            "Spine1"
           ],
           "type": "scatter3d",
           "x": [
            -0.018212269991636276,
            -0.003721669316291809
           ],
           "y": [
            2.074470564723015,
            2.01270847953856
           ],
           "z": [
            10.147754073143005,
            9.998863602988422
           ]
          },
          {
           "line": {
            "color": "black",
            "width": 5
           },
           "marker": {
            "color": "blue",
            "size": 2
           },
           "text": [
            "Neck"
           ],
           "type": "scatter3d",
           "x": [
            -0.01814556121826172,
            -0.018212269991636276
           ],
           "y": [
            2.1318534165620804,
            2.074470564723015
           ],
           "z": [
            10.275534987449646,
            10.147754073143005
           ]
          },
          {
           "line": {
            "color": "black",
            "width": 5
           },
           "marker": {
            "color": "blue",
            "size": 2
           },
           "text": [
            "Head"
           ],
           "type": "scatter3d",
           "x": [
            -0.005663697607815266,
            -0.01814556121826172
           ],
           "y": [
            2.1615391820669174,
            2.1318534165620804
           ],
           "z": [
            10.313204407691956,
            10.275534987449646
           ]
          },
          {
           "line": {
            "color": "black",
            "width": 5
           },
           "marker": {
            "color": "blue",
            "size": 2
           },
           "text": [
            "Site"
           ],
           "type": "scatter3d",
           "x": [
            -0.0021834783256053925,
            -0.005663697607815266
           ],
           "y": [
            2.1881549656391144,
            2.1615391820669174
           ],
           "z": [
            10.365261614322662,
            10.313204407691956
           ]
          },
          {
           "line": {
            "color": "black",
            "width": 5
           },
           "marker": {
            "color": "blue",
            "size": 2
           },
           "text": [
            "LShoulder"
           ],
           "type": "scatter3d",
           "x": [
            0.08555442839860916,
            -0.01814556121826172
           ],
           "y": [
            2.1431930661201477,
            2.1318534165620804
           ],
           "z": [
            10.180716842412949,
            10.275534987449646
           ]
          },
          {
           "line": {
            "color": "black",
            "width": 5
           },
           "marker": {
            "color": "blue",
            "size": 2
           },
           "text": [
            "LElbow"
           ],
           "type": "scatter3d",
           "x": [
            0.05991745367646217,
            0.08555442839860916
           ],
           "y": [
            2.0381985157728195,
            2.1431930661201477
           ],
           "z": [
            10.181335881352425,
            10.180716842412949
           ]
          },
          {
           "line": {
            "color": "black",
            "width": 5
           },
           "marker": {
            "color": "blue",
            "size": 2
           },
           "text": [
            "LWrist"
           ],
           "type": "scatter3d",
           "x": [
            0.05870075896382332,
            0.05991745367646217
           ],
           "y": [
            2.0264060832560062,
            2.0381985157728195
           ],
           "z": [
            10.287789165973663,
            10.181335881352425
           ]
          },
          {
           "line": {
            "color": "red",
            "width": 5
           },
           "marker": {
            "color": "blue",
            "size": 2
           },
           "text": [
            "RShoulder"
           ],
           "type": "scatter3d",
           "x": [
            -0.1127130538225174,
            -0.01814556121826172
           ],
           "y": [
            2.1035851538181305,
            2.1318534165620804
           ],
           "z": [
            10.25368270277977,
            10.275534987449646
           ]
          },
          {
           "line": {
            "color": "red",
            "width": 5
           },
           "marker": {
            "color": "blue",
            "size": 2
           },
           "text": [
            "RElbow"
           ],
           "type": "scatter3d",
           "x": [
            -0.1776881217956543,
            -0.1127130538225174
           ],
           "y": [
            1.9668144285678864,
            2.1035851538181305
           ],
           "z": [
            10.389411896467209,
            10.25368270277977
           ]
          },
          {
           "line": {
            "color": "red",
            "width": 5
           },
           "marker": {
            "color": "blue",
            "size": 2
           },
           "text": [
            "RWrist"
           ],
           "type": "scatter3d",
           "x": [
            -0.1729227602481842,
            -0.1776881217956543
           ],
           "y": [
            1.9568234533071518,
            1.9668144285678864
           ],
           "z": [
            10.507554173469543,
            10.389411896467209
           ]
          },
          {
           "line": {
            "color": "#1f77b4",
            "width": 1
           },
           "marker": {
            "color": "#1f77b4",
            "size": 1
           },
           "type": "scatter3d",
           "x": [
            -0.0027418718673288822,
            -0.0030006198212504387,
            -0.0030568535439670086,
            -0.0032310402020812035,
            -0.0022897955495864153
           ],
           "y": [
            2.011849765665829,
            2.0113775432109833,
            2.0116708986461163,
            2.0116401202976704,
            2.0106278993189335
           ],
           "z": [
            9.999753076350316,
            9.999828980944585,
            9.999864725163206,
            9.99974051915342,
            10.000227494572755
           ]
          }
         ],
         "name": "frame6"
        },
        {
         "data": [
          {
           "line": {
            "color": "red",
            "width": 5
           },
           "marker": {
            "color": "blue",
            "size": 2
           },
           "text": [
            "RHip"
           ],
           "type": "scatter3d",
           "x": [
            -0.07503778487443924,
            -0.0030518618877977133
           ],
           "y": [
            1.9819263685494661,
            2.0126416264101863
           ],
           "z": [
            10.115598373115063,
            9.999546820123214
           ]
          },
          {
           "line": {
            "color": "red",
            "width": 5
           },
           "marker": {
            "color": "blue",
            "size": 2
           },
           "text": [
            "RKnee"
           ],
           "type": "scatter3d",
           "x": [
            -0.10411850363016129,
            -0.07503778487443924
           ],
           "y": [
            1.8295725882053375,
            1.9819263685494661
           ],
           "z": [
            10.288371860980988,
            10.115598373115063
           ]
          },
          {
           "line": {
            "color": "red",
            "width": 5
           },
           "marker": {
            "color": "blue",
            "size": 2
           },
           "text": [
            "RAnkle"
           ],
           "type": "scatter3d",
           "x": [
            -0.03908270224928856,
            -0.10411850363016129
           ],
           "y": [
            1.637970209121704,
            1.8295725882053375
           ],
           "z": [
            9.884313836693764,
            10.288371860980988
           ]
          },
          {
           "line": {
            "color": "black",
            "width": 5
           },
           "marker": {
            "color": "blue",
            "size": 2
           },
           "text": [
            "LHip"
           ],
           "type": "scatter3d",
           "x": [
            0.015832822769880295,
            -0.0030518618877977133
           ],
           "y": [
            1.9597014337778091,
            2.0126416264101863
           ],
           "z": [
            10.128691151738167,
            9.999546820123214
           ]
          },
          {
           "line": {
            "color": "black",
            "width": 5
           },
           "marker": {
            "color": "blue",
            "size": 2
           },
           "text": [
            "LKnee"
           ],
           "type": "scatter3d",
           "x": [
            0.005082827992737293,
            0.015832822769880295
           ],
           "y": [
            1.9308178424835205,
            1.9597014337778091
           ],
           "z": [
            10.565897524356842,
            10.128691151738167
           ]
          },
          {
           "line": {
            "color": "black",
            "width": 5
           },
           "marker": {
            "color": "blue",
            "size": 2
           },
           "text": [
            "LAnkle"
           ],
           "type": "scatter3d",
           "x": [
            0.01262750569730997,
            0.005082827992737293
           ],
           "y": [
            1.7474236190319061,
            1.9308178424835205
           ],
           "z": [
            10.493810296058655,
            10.565897524356842
           ]
          },
          {
           "line": {
            "color": "black",
            "width": 5
           },
           "marker": {
            "color": "blue",
            "size": 2
           },
           "text": [
            "Spine1"
           ],
           "type": "scatter3d",
           "x": [
            -0.0035848687402904034,
            -0.0030518618877977133
           ],
           "y": [
            2.0981504917144775,
            2.0126416264101863
           ],
           "z": [
            10.127225548028946,
            9.999546820123214
           ]
          },
          {
           "line": {
            "color": "black",
            "width": 5
           },
           "marker": {
            "color": "blue",
            "size": 2
           },
           "text": [
            "Neck"
           ],
           "type": "scatter3d",
           "x": [
            -0.0041395677253603935,
            -0.0035848687402904034
           ],
           "y": [
            2.180710420012474,
            2.0981504917144775
           ],
           "z": [
            10.255239516496658,
            10.127225548028946
           ]
          },
          {
           "line": {
            "color": "black",
            "width": 5
           },
           "marker": {
            "color": "blue",
            "size": 2
           },
           "text": [
            "Head"
           ],
           "type": "scatter3d",
           "x": [
            0.009592131711542606,
            -0.0041395677253603935
           ],
           "y": [
            2.208806961774826,
            2.180710420012474
           ],
           "z": [
            10.294087439775467,
            10.255239516496658
           ]
          },
          {
           "line": {
            "color": "black",
            "width": 5
           },
           "marker": {
            "color": "blue",
            "size": 2
           },
           "text": [
            "Site"
           ],
           "type": "scatter3d",
           "x": [
            0.020898379385471344,
            0.009592131711542606
           ],
           "y": [
            2.233459994196892,
            2.208806961774826
           ],
           "z": [
            10.347418189048767,
            10.294087439775467
           ]
          },
          {
           "line": {
            "color": "black",
            "width": 5
           },
           "marker": {
            "color": "blue",
            "size": 2
           },
           "text": [
            "LShoulder"
           ],
           "type": "scatter3d",
           "x": [
            0.1277868002653122,
            -0.0041395677253603935
           ],
           "y": [
            2.1760114431381226,
            2.180710420012474
           ],
           "z": [
            10.144854247570038,
            10.255239516496658
           ]
          },
          {
           "line": {
            "color": "black",
            "width": 5
           },
           "marker": {
            "color": "blue",
            "size": 2
           },
           "text": [
            "LElbow"
           ],
           "type": "scatter3d",
           "x": [
            0.10288434475660324,
            0.1277868002653122
           ],
           "y": [
            2.0127670615911484,
            2.1760114431381226
           ],
           "z": [
            10.119639128446579,
            10.144854247570038
           ]
          },
          {
           "line": {
            "color": "black",
            "width": 5
           },
           "marker": {
            "color": "blue",
            "size": 2
           },
           "text": [
            "LWrist"
           ],
           "type": "scatter3d",
           "x": [
            0.1003938764333725,
            0.10288434475660324
           ],
           "y": [
            1.993961613625288,
            2.0127670615911484
           ],
           "z": [
            10.209857076406479,
            10.119639128446579
           ]
          },
          {
           "line": {
            "color": "red",
            "width": 5
           },
           "marker": {
            "color": "blue",
            "size": 2
           },
           "text": [
            "RShoulder"
           ],
           "type": "scatter3d",
           "x": [
            -0.12213373184204102,
            -0.0041395677253603935
           ],
           "y": [
            2.1539712101221085,
            2.180710420012474
           ],
           "z": [
            10.233909323811531,
            10.255239516496658
           ]
          },
          {
           "line": {
            "color": "red",
            "width": 5
           },
           "marker": {
            "color": "blue",
            "size": 2
           },
           "text": [
            "RElbow"
           ],
           "type": "scatter3d",
           "x": [
            -0.18080493807792664,
            -0.12213373184204102
           ],
           "y": [
            1.9849587846547365,
            2.1539712101221085
           ],
           "z": [
            10.42836543917656,
            10.233909323811531
           ]
          },
          {
           "line": {
            "color": "red",
            "width": 5
           },
           "marker": {
            "color": "blue",
            "size": 2
           },
           "text": [
            "RWrist"
           ],
           "type": "scatter3d",
           "x": [
            -0.17110957205295563,
            -0.18080493807792664
           ],
           "y": [
            1.9759585559368134,
            1.9849587846547365
           ],
           "z": [
            10.56432831287384,
            10.42836543917656
           ]
          },
          {
           "line": {
            "color": "#1f77b4",
            "width": 1
           },
           "marker": {
            "color": "#1f77b4",
            "size": 1
           },
           "type": "scatter3d",
           "x": [
            -0.0027418718673288822,
            -0.0030006198212504387,
            -0.0030568535439670086,
            -0.0032310402020812035,
            -0.0022897955495864153,
            -0.003721669316291809
           ],
           "y": [
            2.011849765665829,
            2.0113775432109833,
            2.0116708986461163,
            2.0116401202976704,
            2.0106278993189335,
            2.01270847953856
           ],
           "z": [
            9.999753076350316,
            9.999828980944585,
            9.999864725163206,
            9.99974051915342,
            10.000227494572755,
            9.998863602988422
           ]
          }
         ],
         "name": "frame7"
        },
        {
         "data": [
          {
           "line": {
            "color": "red",
            "width": 5
           },
           "marker": {
            "color": "blue",
            "size": 2
           },
           "text": [
            "RHip"
           ],
           "type": "scatter3d",
           "x": [
            -0.08238610625267029,
            -0.0027361256070435047
           ],
           "y": [
            1.9251805543899536,
            2.0127374595031142
           ],
           "z": [
            10.131514847278595,
            9.99953450699104
           ]
          },
          {
           "line": {
            "color": "red",
            "width": 5
           },
           "marker": {
            "color": "blue",
            "size": 2
           },
           "text": [
            "RKnee"
           ],
           "type": "scatter3d",
           "x": [
            -0.08086659014225006,
            -0.08238610625267029
           ],
           "y": [
            1.5452943742275238,
            1.9251805543899536
           ],
           "z": [
            10.497556626796722,
            10.131514847278595
           ]
          },
          {
           "line": {
            "color": "red",
            "width": 5
           },
           "marker": {
            "color": "blue",
            "size": 2
           },
           "text": [
            "RAnkle"
           ],
           "type": "scatter3d",
           "x": [
            -0.0825832262635231,
            -0.08086659014225006
           ],
           "y": [
            1.24961656332016,
            1.5452943742275238
           ],
           "z": [
            9.875822246074677,
            10.497556626796722
           ]
          },
          {
           "line": {
            "color": "black",
            "width": 5
           },
           "marker": {
            "color": "blue",
            "size": 2
           },
           "text": [
            "LHip"
           ],
           "type": "scatter3d",
           "x": [
            0.06477072089910507,
            -0.0027361256070435047
           ],
           "y": [
            1.9073072522878647,
            2.0127374595031142
           ],
           "z": [
            10.145097583532333,
            9.99953450699104
           ]
          },
          {
           "line": {
            "color": "black",
            "width": 5
           },
           "marker": {
            "color": "blue",
            "size": 2
           },
           "text": [
            "LKnee"
           ],
           "type": "scatter3d",
           "x": [
            0.07583959400653839,
            0.06477072089910507
           ],
           "y": [
            1.5886723399162292,
            1.9073072522878647
           ],
           "z": [
            10.441311776638031,
            10.145097583532333
           ]
          },
          {
           "line": {
            "color": "black",
            "width": 5
           },
           "marker": {
            "color": "blue",
            "size": 2
           },
           "text": [
            "LAnkle"
           ],
           "type": "scatter3d",
           "x": [
            0.061450935900211334,
            0.07583959400653839
           ],
           "y": [
            1.1119850873947144,
            1.5886723399162292
           ],
           "z": [
            10.221505254507065,
            10.441311776638031
           ]
          },
          {
           "line": {
            "color": "black",
            "width": 5
           },
           "marker": {
            "color": "blue",
            "size": 2
           },
           "text": [
            "Spine1"
           ],
           "type": "scatter3d",
           "x": [
            0.009026799350976944,
            -0.0027361256070435047
           ],
           "y": [
            2.246455743908882,
            2.0127374595031142
           ],
           "z": [
            10.073896139860153,
            9.99953450699104
           ]
          },
          {
           "line": {
            "color": "black",
            "width": 5
           },
           "marker": {
            "color": "blue",
            "size": 2
           },
           "text": [
            "Neck"
           ],
           "type": "scatter3d",
           "x": [
            0.027653666213154793,
            0.009026799350976944
           ],
           "y": [
            2.4698230922222137,
            2.246455743908882
           ],
           "z": [
            10.163881853222847,
            10.073896139860153
           ]
          },
          {
           "line": {
            "color": "black",
            "width": 5
           },
           "marker": {
            "color": "blue",
            "size": 2
           },
           "text": [
            "Head"
           ],
           "type": "scatter3d",
           "x": [
            0.04768650606274605,
            0.027653666213154793
           ],
           "y": [
            2.5670841932296753,
            2.4698230922222137
           ],
           "z": [
            10.190682142972946,
            10.163881853222847
           ]
          },
          {
           "line": {
            "color": "black",
            "width": 5
           },
           "marker": {
            "color": "blue",
            "size": 2
           },
           "text": [
            "Site"
           ],
           "type": "scatter3d",
           "x": [
            0.05998997390270233,
            0.04768650606274605
           ],
           "y": [
            2.661255717277527,
            2.5670841932296753
           ],
           "z": [
            10.23836724460125,
            10.190682142972946
           ]
          },
          {
           "line": {
            "color": "black",
            "width": 5
           },
           "marker": {
            "color": "blue",
            "size": 2
           },
           "text": [
            "LShoulder"
           ],
           "type": "scatter3d",
           "x": [
            0.2026471048593521,
            0.027653666213154793
           ],
           "y": [
            2.432311624288559,
            2.4698230922222137
           ],
           "z": [
            10.078472286462784,
            10.163881853222847
           ]
          },
          {
           "line": {
            "color": "black",
            "width": 5
           },
           "marker": {
            "color": "blue",
            "size": 2
           },
           "text": [
            "LElbow"
           ],
           "type": "scatter3d",
           "x": [
            0.1950896978378296,
            0.2026471048593521
           ],
           "y": [
            1.9958615116775036,
            2.432311624288559
           ],
           "z": [
            10.068639159202576,
            10.078472286462784
           ]
          },
          {
           "line": {
            "color": "black",
            "width": 5
           },
           "marker": {
            "color": "blue",
            "size": 2
           },
           "text": [
            "LWrist"
           ],
           "type": "scatter3d",
           "x": [
            0.1936032474040985,
            0.1950896978378296
           ],
           "y": [
            1.9240171760320663,
            1.9958615116775036
           ],
           "z": [
            10.172081381082535,
            10.068639159202576
           ]
          },
          {
           "line": {
            "color": "red",
            "width": 5
           },
           "marker": {
            "color": "blue",
            "size": 2
           },
           "text": [
            "RShoulder"
           ],
           "type": "scatter3d",
           "x": [
            -0.1604800969362259,
            0.027653666213154793
           ],
           "y": [
            2.4464051127433777,
            2.4698230922222137
           ],
           "z": [
            10.129408314824104,
            10.163881853222847
           ]
          },
          {
           "line": {
            "color": "red",
            "width": 5
           },
           "marker": {
            "color": "blue",
            "size": 2
           },
           "text": [
            "RElbow"
           ],
           "type": "scatter3d",
           "x": [
            -0.250162273645401,
            -0.1604800969362259
           ],
           "y": [
            2.0428872667253017,
            2.4464051127433777
           ],
           "z": [
            10.314339458942413,
            10.129408314824104
           ]
          },
          {
           "line": {
            "color": "red",
            "width": 5
           },
           "marker": {
            "color": "blue",
            "size": 2
           },
           "text": [
            "RWrist"
           ],
           "type": "scatter3d",
           "x": [
            -0.23993992805480957,
            -0.250162273645401
           ],
           "y": [
            2.002048149704933,
            2.0428872667253017
           ],
           "z": [
            10.437534749507904,
            10.314339458942413
           ]
          },
          {
           "line": {
            "color": "#1f77b4",
            "width": 1
           },
           "marker": {
            "color": "#1f77b4",
            "size": 1
           },
           "type": "scatter3d",
           "x": [
            -0.0027418718673288822,
            -0.0030006198212504387,
            -0.0030568535439670086,
            -0.0032310402020812035,
            -0.0022897955495864153,
            -0.003721669316291809,
            -0.0030518618877977133
           ],
           "y": [
            2.011849765665829,
            2.0113775432109833,
            2.0116708986461163,
            2.0116401202976704,
            2.0106278993189335,
            2.01270847953856,
            2.0126416264101863
           ],
           "z": [
            9.999753076350316,
            9.999828980944585,
            9.999864725163206,
            9.99974051915342,
            10.000227494572755,
            9.998863602988422,
            9.999546820123214
           ]
          }
         ],
         "name": "frame8"
        },
        {
         "data": [
          {
           "line": {
            "color": "red",
            "width": 5
           },
           "marker": {
            "color": "blue",
            "size": 2
           },
           "text": [
            "RHip"
           ],
           "type": "scatter3d",
           "x": [
            -0.12630780041217804,
            -0.002260821172967553
           ],
           "y": [
            1.837117850780487,
            2.009408425539732
           ],
           "z": [
            10.141272902488708,
            10.000100269797258
           ]
          },
          {
           "line": {
            "color": "red",
            "width": 5
           },
           "marker": {
            "color": "blue",
            "size": 2
           },
           "text": [
            "RKnee"
           ],
           "type": "scatter3d",
           "x": [
            -0.10986015200614929,
            -0.12630780041217804
           ],
           "y": [
            1.2093019485473633,
            1.837117850780487
           ],
           "z": [
            10.707087874412537,
            10.141272902488708
           ]
          },
          {
           "line": {
            "color": "red",
            "width": 5
           },
           "marker": {
            "color": "blue",
            "size": 2
           },
           "text": [
            "RAnkle"
           ],
           "type": "scatter3d",
           "x": [
            -0.13207484781742096,
            -0.10986015200614929
           ],
           "y": [
            0.4449141025543213,
            1.2093019485473633
           ],
           "z": [
            10.477318674325943,
            10.707087874412537
           ]
          },
          {
           "line": {
            "color": "black",
            "width": 5
           },
           "marker": {
            "color": "blue",
            "size": 2
           },
           "text": [
            "LHip"
           ],
           "type": "scatter3d",
           "x": [
            0.1337428241968155,
            -0.002260821172967553
           ],
           "y": [
            1.825991004705429,
            2.009408425539732
           ],
           "z": [
            10.134827390313148,
            10.000100269797258
           ]
          },
          {
           "line": {
            "color": "black",
            "width": 5
           },
           "marker": {
            "color": "blue",
            "size": 2
           },
           "text": [
            "LKnee"
           ],
           "type": "scatter3d",
           "x": [
            0.08969135582447052,
            0.1337428241968155
           ],
           "y": [
            1.1487258672714233,
            1.825991004705429
           ],
           "z": [
            10.31673464179039,
            10.134827390313148
           ]
          },
          {
           "line": {
            "color": "black",
            "width": 5
           },
           "marker": {
            "color": "blue",
            "size": 2
           },
           "text": [
            "LAnkle"
           ],
           "type": "scatter3d",
           "x": [
            0.05646754056215286,
            0.08969135582447052
           ],
           "y": [
            0.39139580726623535,
            1.1487258672714233
           ],
           "z": [
            10.050531927496195,
            10.31673464179039
           ]
          },
          {
           "line": {
            "color": "black",
            "width": 5
           },
           "marker": {
            "color": "blue",
            "size": 2
           },
           "text": [
            "Spine1"
           ],
           "type": "scatter3d",
           "x": [
            0.03150280937552452,
            -0.002260821172967553
           ],
           "y": [
            2.4200868010520935,
            2.009408425539732
           ],
           "z": [
            10.07996977865696,
            10.000100269797258
           ]
          },
          {
           "line": {
            "color": "black",
            "width": 5
           },
           "marker": {
            "color": "blue",
            "size": 2
           },
           "text": [
            "Neck"
           ],
           "type": "scatter3d",
           "x": [
            0.04064110666513443,
            0.03150280937552452
           ],
           "y": [
            2.809955894947052,
            2.4200868010520935
           ],
           "z": [
            10.178697675466537,
            10.07996977865696
           ]
          },
          {
           "line": {
            "color": "black",
            "width": 5
           },
           "marker": {
            "color": "blue",
            "size": 2
           },
           "text": [
            "Head"
           ],
           "type": "scatter3d",
           "x": [
            0.060040831565856934,
            0.04064110666513443
           ],
           "y": [
            2.98016893863678,
            2.809955894947052
           ],
           "z": [
            10.203396499156952,
            10.178697675466537
           ]
          },
          {
           "line": {
            "color": "black",
            "width": 5
           },
           "marker": {
            "color": "blue",
            "size": 2
           },
           "text": [
            "Site"
           ],
           "type": "scatter3d",
           "x": [
            0.07062605023384094,
            0.060040831565856934
           ],
           "y": [
            3.1477781534194946,
            2.98016893863678
           ],
           "z": [
            10.244246482849121,
            10.203396499156952
           ]
          },
          {
           "line": {
            "color": "black",
            "width": 5
           },
           "marker": {
            "color": "blue",
            "size": 2
           },
           "text": [
            "LShoulder"
           ],
           "type": "scatter3d",
           "x": [
            0.3627799153327942,
            0.04064110666513443
           ],
           "y": [
            2.769818961620331,
            2.809955894947052
           ],
           "z": [
            10.077013246715069,
            10.178697675466537
           ]
          },
          {
           "line": {
            "color": "black",
            "width": 5
           },
           "marker": {
            "color": "blue",
            "size": 2
           },
           "text": [
            "LElbow"
           ],
           "type": "scatter3d",
           "x": [
            0.484455943107605,
            0.3627799153327942
           ],
           "y": [
            1.9919441035017371,
            2.769818961620331
           ],
           "z": [
            10.213379353284836,
            10.077013246715069
           ]
          },
          {
           "line": {
            "color": "black",
            "width": 5
           },
           "marker": {
            "color": "blue",
            "size": 2
           },
           "text": [
            "LWrist"
           ],
           "type": "scatter3d",
           "x": [
            0.5081419944763184,
            0.484455943107605
           ],
           "y": [
            1.8801667839288712,
            1.9919441035017371
           ],
           "z": [
            10.338591426610947,
            10.213379353284836
           ]
          },
          {
           "line": {
            "color": "red",
            "width": 5
           },
           "marker": {
            "color": "blue",
            "size": 2
           },
           "text": [
            "RShoulder"
           ],
           "type": "scatter3d",
           "x": [
            -0.2906823456287384,
            0.04064110666513443
           ],
           "y": [
            2.7576637268066406,
            2.809955894947052
           ],
           "z": [
            10.143282741308212,
            10.178697675466537
           ]
          },
          {
           "line": {
            "color": "red",
            "width": 5
           },
           "marker": {
            "color": "blue",
            "size": 2
           },
           "text": [
            "RElbow"
           ],
           "type": "scatter3d",
           "x": [
            -0.40605711936950684,
            -0.2906823456287384
           ],
           "y": [
            1.927311971783638,
            2.7576637268066406
           ],
           "z": [
            10.257561028003693,
            10.143282741308212
           ]
          },
          {
           "line": {
            "color": "red",
            "width": 5
           },
           "marker": {
            "color": "blue",
            "size": 2
           },
           "text": [
            "RWrist"
           ],
           "type": "scatter3d",
           "x": [
            -0.41539567708969116,
            -0.40605711936950684
           ],
           "y": [
            1.7984342724084854,
            1.927311971783638
           ],
           "z": [
            10.36233901977539,
            10.257561028003693
           ]
          },
          {
           "line": {
            "color": "#1f77b4",
            "width": 1
           },
           "marker": {
            "color": "#1f77b4",
            "size": 1
           },
           "type": "scatter3d",
           "x": [
            -0.0027418718673288822,
            -0.0030006198212504387,
            -0.0030568535439670086,
            -0.0032310402020812035,
            -0.0022897955495864153,
            -0.003721669316291809,
            -0.0030518618877977133,
            -0.0027361256070435047
           ],
           "y": [
            2.011849765665829,
            2.0113775432109833,
            2.0116708986461163,
            2.0116401202976704,
            2.0106278993189335,
            2.01270847953856,
            2.0126416264101863,
            2.0127374595031142
           ],
           "z": [
            9.999753076350316,
            9.999828980944585,
            9.999864725163206,
            9.99974051915342,
            10.000227494572755,
            9.998863602988422,
            9.999546820123214,
            9.99953450699104
           ]
          }
         ],
         "name": "frame9"
        },
        {
         "data": [
          {
           "line": {
            "color": "red",
            "width": 5
           },
           "marker": {
            "color": "blue",
            "size": 2
           },
           "text": [
            "RHip"
           ],
           "type": "scatter3d",
           "x": [
            -0.11896083503961563,
            -0.0042311521247029305
           ],
           "y": [
            1.8366488069295883,
            2.01162894628942
           ],
           "z": [
            10.139654994010925,
            9.99863485316746
           ]
          },
          {
           "line": {
            "color": "red",
            "width": 5
           },
           "marker": {
            "color": "blue",
            "size": 2
           },
           "text": [
            "RKnee"
           ],
           "type": "scatter3d",
           "x": [
            -0.11795353889465332,
            -0.11896083503961563
           ],
           "y": [
            1.2800975441932678,
            1.8366488069295883
           ],
           "z": [
            10.728829503059387,
            10.139654994010925
           ]
          },
          {
           "line": {
            "color": "red",
            "width": 5
           },
           "marker": {
            "color": "blue",
            "size": 2
           },
           "text": [
            "RAnkle"
           ],
           "type": "scatter3d",
           "x": [
            -0.09922473132610321,
            -0.11795353889465332
           ],
           "y": [
            0.5365278720855713,
            1.2800975441932678
           ],
           "z": [
            10.856469988822937,
            10.728829503059387
           ]
          },
          {
           "line": {
            "color": "black",
            "width": 5
           },
           "marker": {
            "color": "blue",
            "size": 2
           },
           "text": [
            "LHip"
           ],
           "type": "scatter3d",
           "x": [
            0.13506321609020233,
            -0.0042311521247029305
           ],
           "y": [
            1.8442934900522232,
            2.01162894628942
           ],
           "z": [
            10.132165491580963,
            9.99863485316746
           ]
          },
          {
           "line": {
            "color": "black",
            "width": 5
           },
           "marker": {
            "color": "blue",
            "size": 2
           },
           "text": [
            "LKnee"
           ],
           "type": "scatter3d",
           "x": [
            0.09479086101055145,
            0.13506321609020233
           ],
           "y": [
            1.1962379813194275,
            1.8442934900522232
           ],
           "z": [
            10.06503290683031,
            10.132165491580963
           ]
          },
          {
           "line": {
            "color": "black",
            "width": 5
           },
           "marker": {
            "color": "blue",
            "size": 2
           },
           "text": [
            "LAnkle"
           ],
           "type": "scatter3d",
           "x": [
            0.04668223485350609,
            0.09479086101055145
           ],
           "y": [
            0.497275710105896,
            1.1962379813194275
           ],
           "z": [
            9.769239142537117,
            10.06503290683031
           ]
          },
          {
           "line": {
            "color": "black",
            "width": 5
           },
           "marker": {
            "color": "blue",
            "size": 2
           },
           "text": [
            "Spine1"
           ],
           "type": "scatter3d",
           "x": [
            0.026096779853105545,
            -0.0042311521247029305
           ],
           "y": [
            2.389481633901596,
            2.01162894628942
           ],
           "z": [
            10.107837237417698,
            9.99863485316746
           ]
          },
          {
           "line": {
            "color": "black",
            "width": 5
           },
           "marker": {
            "color": "blue",
            "size": 2
           },
           "text": [
            "Neck"
           ],
           "type": "scatter3d",
           "x": [
            0.03277257829904556,
            0.026096779853105545
           ],
           "y": [
            2.743433654308319,
            2.389481633901596
           ],
           "z": [
            10.226630553603172,
            10.107837237417698
           ]
          },
          {
           "line": {
            "color": "black",
            "width": 5
           },
           "marker": {
            "color": "blue",
            "size": 2
           },
           "text": [
            "Head"
           ],
           "type": "scatter3d",
           "x": [
            0.050263408571481705,
            0.03277257829904556
           ],
           "y": [
            2.903995931148529,
            2.743433654308319
           ],
           "z": [
            10.259206414222717,
            10.226630553603172
           ]
          },
          {
           "line": {
            "color": "black",
            "width": 5
           },
           "marker": {
            "color": "blue",
            "size": 2
           },
           "text": [
            "Site"
           ],
           "type": "scatter3d",
           "x": [
            0.05027589946985245,
            0.050263408571481705
           ],
           "y": [
            3.056274652481079,
            2.903995931148529
           ],
           "z": [
            10.303726077079773,
            10.259206414222717
           ]
          },
          {
           "line": {
            "color": "black",
            "width": 5
           },
           "marker": {
            "color": "blue",
            "size": 2
           },
           "text": [
            "LShoulder"
           ],
           "type": "scatter3d",
           "x": [
            0.35392266511917114,
            0.03277257829904556
           ],
           "y": [
            2.7101569175720215,
            2.743433654308319
           ],
           "z": [
            10.147153109312057,
            10.226630553603172
           ]
          },
          {
           "line": {
            "color": "black",
            "width": 5
           },
           "marker": {
            "color": "blue",
            "size": 2
           },
           "text": [
            "LElbow"
           ],
           "type": "scatter3d",
           "x": [
            0.4871284067630768,
            0.35392266511917114
           ],
           "y": [
            2.0029145814478397,
            2.7101569175720215
           ],
           "z": [
            10.261821210384369,
            10.147153109312057
           ]
          },
          {
           "line": {
            "color": "black",
            "width": 5
           },
           "marker": {
            "color": "blue",
            "size": 2
           },
           "text": [
            "LWrist"
           ],
           "type": "scatter3d",
           "x": [
            0.5046485066413879,
            0.4871284067630768
           ],
           "y": [
            1.9063530787825584,
            2.0029145814478397
           ],
           "z": [
            10.39735198020935,
            10.261821210384369
           ]
          },
          {
           "line": {
            "color": "red",
            "width": 5
           },
           "marker": {
            "color": "blue",
            "size": 2
           },
           "text": [
            "RShoulder"
           ],
           "type": "scatter3d",
           "x": [
            -0.28418636322021484,
            0.03277257829904556
           ],
           "y": [
            2.698512315750122,
            2.743433654308319
           ],
           "z": [
            10.164928779006004,
            10.226630553603172
           ]
          },
          {
           "line": {
            "color": "red",
            "width": 5
           },
           "marker": {
            "color": "blue",
            "size": 2
           },
           "text": [
            "RElbow"
           ],
           "type": "scatter3d",
           "x": [
            -0.3712851107120514,
            -0.28418636322021484
           ],
           "y": [
            1.8910609483718872,
            2.698512315750122
           ],
           "z": [
            10.163341283798218,
            10.164928779006004
           ]
          },
          {
           "line": {
            "color": "red",
            "width": 5
           },
           "marker": {
            "color": "blue",
            "size": 2
           },
           "text": [
            "RWrist"
           ],
           "type": "scatter3d",
           "x": [
            -0.37650948762893677,
            -0.3712851107120514
           ],
           "y": [
            1.7690084278583527,
            1.8910609483718872
           ],
           "z": [
            10.231131806969643,
            10.163341283798218
           ]
          },
          {
           "line": {
            "color": "#1f77b4",
            "width": 1
           },
           "marker": {
            "color": "#1f77b4",
            "size": 1
           },
           "type": "scatter3d",
           "x": [
            -0.0027418718673288822,
            -0.0030006198212504387,
            -0.0030568535439670086,
            -0.0032310402020812035,
            -0.0022897955495864153,
            -0.003721669316291809,
            -0.0030518618877977133,
            -0.0027361256070435047,
            -0.002260821172967553
           ],
           "y": [
            2.011849765665829,
            2.0113775432109833,
            2.0116708986461163,
            2.0116401202976704,
            2.0106278993189335,
            2.01270847953856,
            2.0126416264101863,
            2.0127374595031142,
            2.009408425539732
           ],
           "z": [
            9.999753076350316,
            9.999828980944585,
            9.999864725163206,
            9.99974051915342,
            10.000227494572755,
            9.998863602988422,
            9.999546820123214,
            9.99953450699104,
            10.000100269797258
           ]
          }
         ],
         "name": "frame10"
        },
        {
         "data": [
          {
           "line": {
            "color": "red",
            "width": 5
           },
           "marker": {
            "color": "blue",
            "size": 2
           },
           "text": [
            "RHip"
           ],
           "type": "scatter3d",
           "x": [
            -0.1256943792104721,
            -0.003010640386492014
           ],
           "y": [
            1.83131605386734,
            2.0095556722953916
           ],
           "z": [
            10.128116860985756,
            9.999725522182416
           ]
          },
          {
           "line": {
            "color": "red",
            "width": 5
           },
           "marker": {
            "color": "blue",
            "size": 2
           },
           "text": [
            "RKnee"
           ],
           "type": "scatter3d",
           "x": [
            -0.10220057517290115,
            -0.1256943792104721
           ],
           "y": [
            1.1740354895591736,
            1.83131605386734
           ],
           "z": [
            10.64805555343628,
            10.128116860985756
           ]
          },
          {
           "line": {
            "color": "red",
            "width": 5
           },
           "marker": {
            "color": "blue",
            "size": 2
           },
           "text": [
            "RAnkle"
           ],
           "type": "scatter3d",
           "x": [
            -0.07275393605232239,
            -0.10220057517290115
           ],
           "y": [
            0.34728240966796875,
            1.1740354895591736
           ],
           "z": [
            10.625508308410645,
            10.64805555343628
           ]
          },
          {
           "line": {
            "color": "black",
            "width": 5
           },
           "marker": {
            "color": "blue",
            "size": 2
           },
           "text": [
            "LHip"
           ],
           "type": "scatter3d",
           "x": [
            0.14683665335178375,
            -0.003010640386492014
           ],
           "y": [
            1.810801237821579,
            2.0095556722953916
           ],
           "z": [
            10.129514917731285,
            9.999725522182416
           ]
          },
          {
           "line": {
            "color": "black",
            "width": 5
           },
           "marker": {
            "color": "blue",
            "size": 2
           },
           "text": [
            "LKnee"
           ],
           "type": "scatter3d",
           "x": [
            0.16527701914310455,
            0.14683665335178375
           ],
           "y": [
            1.0853288769721985,
            1.810801237821579
           ],
           "z": [
            10.21557331085205,
            10.129514917731285
           ]
          },
          {
           "line": {
            "color": "black",
            "width": 5
           },
           "marker": {
            "color": "blue",
            "size": 2
           },
           "text": [
            "LAnkle"
           ],
           "type": "scatter3d",
           "x": [
            0.10857968777418137,
            0.16527701914310455
           ],
           "y": [
            0.4681699275970459,
            1.0853288769721985
           ],
           "z": [
            9.618955492973328,
            10.21557331085205
           ]
          },
          {
           "line": {
            "color": "black",
            "width": 5
           },
           "marker": {
            "color": "blue",
            "size": 2
           },
           "text": [
            "Spine1"
           ],
           "type": "scatter3d",
           "x": [
            0.0171307735145092,
            -0.003010640386492014
           ],
           "y": [
            2.428288012742996,
            2.0095556722953916
           ],
           "z": [
            10.078941762447357,
            9.999725522182416
           ]
          },
          {
           "line": {
            "color": "black",
            "width": 5
           },
           "marker": {
            "color": "blue",
            "size": 2
           },
           "text": [
            "Neck"
           ],
           "type": "scatter3d",
           "x": [
            0.003965217620134354,
            0.0171307735145092
           ],
           "y": [
            2.8304121494293213,
            2.428288012742996
           ],
           "z": [
            10.181099638342857,
            10.078941762447357
           ]
          },
          {
           "line": {
            "color": "black",
            "width": 5
           },
           "marker": {
            "color": "blue",
            "size": 2
           },
           "text": [
            "Head"
           ],
           "type": "scatter3d",
           "x": [
            0.016212837770581245,
            0.003965217620134354
           ],
           "y": [
            3.0162696838378906,
            2.8304121494293213
           ],
           "z": [
            10.218821167945862,
            10.181099638342857
           ]
          },
          {
           "line": {
            "color": "black",
            "width": 5
           },
           "marker": {
            "color": "blue",
            "size": 2
           },
           "text": [
            "Site"
           ],
           "type": "scatter3d",
           "x": [
            0.01570240780711174,
            0.016212837770581245
           ],
           "y": [
            3.1984260082244873,
            3.0162696838378906
           ],
           "z": [
            10.274556547403336,
            10.218821167945862
           ]
          },
          {
           "line": {
            "color": "black",
            "width": 5
           },
           "marker": {
            "color": "blue",
            "size": 2
           },
           "text": [
            "LShoulder"
           ],
           "type": "scatter3d",
           "x": [
            0.3382742404937744,
            0.003965217620134354
           ],
           "y": [
            2.800160765647888,
            2.8304121494293213
           ],
           "z": [
            10.107189148664474,
            10.181099638342857
           ]
          },
          {
           "line": {
            "color": "black",
            "width": 5
           },
           "marker": {
            "color": "blue",
            "size": 2
           },
           "text": [
            "LElbow"
           ],
           "type": "scatter3d",
           "x": [
            0.5086261034011841,
            0.3382742404937744
           ],
           "y": [
            2.0228490196168423,
            2.800160765647888
           ],
           "z": [
            10.258969902992249,
            10.107189148664474
           ]
          },
          {
           "line": {
            "color": "black",
            "width": 5
           },
           "marker": {
            "color": "blue",
            "size": 2
           },
           "text": [
            "LWrist"
           ],
           "type": "scatter3d",
           "x": [
            0.5352926850318909,
            0.5086261034011841
           ],
           "y": [
            1.904361441731453,
            2.0228490196168423
           ],
           "z": [
            10.397941708564758,
            10.258969902992249
           ]
          },
          {
           "line": {
            "color": "red",
            "width": 5
           },
           "marker": {
            "color": "blue",
            "size": 2
           },
           "text": [
            "RShoulder"
           ],
           "type": "scatter3d",
           "x": [
            -0.33256953954696655,
            0.003965217620134354
           ],
           "y": [
            2.764817953109741,
            2.8304121494293213
           ],
           "z": [
            10.125440031290054,
            10.181099638342857
           ]
          },
          {
           "line": {
            "color": "red",
            "width": 5
           },
           "marker": {
            "color": "blue",
            "size": 2
           },
           "text": [
            "RElbow"
           ],
           "type": "scatter3d",
           "x": [
            -0.433586984872818,
            -0.33256953954696655
           ],
           "y": [
            1.9022530391812325,
            2.764817953109741
           ],
           "z": [
            10.146623015403748,
            10.125440031290054
           ]
          },
          {
           "line": {
            "color": "red",
            "width": 5
           },
           "marker": {
            "color": "blue",
            "size": 2
           },
           "text": [
            "RWrist"
           ],
           "type": "scatter3d",
           "x": [
            -0.44950056076049805,
            -0.433586984872818
           ],
           "y": [
            1.76039420068264,
            1.9022530391812325
           ],
           "z": [
            10.221709966659546,
            10.146623015403748
           ]
          },
          {
           "line": {
            "color": "#1f77b4",
            "width": 1
           },
           "marker": {
            "color": "#1f77b4",
            "size": 1
           },
           "type": "scatter3d",
           "x": [
            -0.0027418718673288822,
            -0.0030006198212504387,
            -0.0030568535439670086,
            -0.0032310402020812035,
            -0.0022897955495864153,
            -0.003721669316291809,
            -0.0030518618877977133,
            -0.0027361256070435047,
            -0.002260821172967553,
            -0.0042311521247029305
           ],
           "y": [
            2.011849765665829,
            2.0113775432109833,
            2.0116708986461163,
            2.0116401202976704,
            2.0106278993189335,
            2.01270847953856,
            2.0126416264101863,
            2.0127374595031142,
            2.009408425539732,
            2.01162894628942
           ],
           "z": [
            9.999753076350316,
            9.999828980944585,
            9.999864725163206,
            9.99974051915342,
            10.000227494572755,
            9.998863602988422,
            9.999546820123214,
            9.99953450699104,
            10.000100269797258,
            9.99863485316746
           ]
          }
         ],
         "name": "frame11"
        },
        {
         "data": [
          {
           "line": {
            "color": "red",
            "width": 5
           },
           "marker": {
            "color": "blue",
            "size": 2
           },
           "text": [
            "RHip"
           ],
           "type": "scatter3d",
           "x": [
            -0.16998818516731262,
            -0.002232754835858941
           ],
           "y": [
            1.8126656860113144,
            2.0089589040726423
           ],
           "z": [
            10.131235182285309,
            10.000196298409719
           ]
          },
          {
           "line": {
            "color": "red",
            "width": 5
           },
           "marker": {
            "color": "blue",
            "size": 2
           },
           "text": [
            "RKnee"
           ],
           "type": "scatter3d",
           "x": [
            -0.10312710702419281,
            -0.16998818516731262
           ],
           "y": [
            0.9784833192825317,
            1.8126656860113144
           ],
           "z": [
            10.51737755537033,
            10.131235182285309
           ]
          },
          {
           "line": {
            "color": "red",
            "width": 5
           },
           "marker": {
            "color": "blue",
            "size": 2
           },
           "text": [
            "RAnkle"
           ],
           "type": "scatter3d",
           "x": [
            -0.0701863169670105,
            -0.10312710702419281
           ],
           "y": [
            0.04952096939086914,
            0.9784833192825317
           ],
           "z": [
            10.329954832792282,
            10.51737755537033
           ]
          },
          {
           "line": {
            "color": "black",
            "width": 5
           },
           "marker": {
            "color": "blue",
            "size": 2
           },
           "text": [
            "LHip"
           ],
           "type": "scatter3d",
           "x": [
            0.15974391996860504,
            -0.002232754835858941
           ],
           "y": [
            1.7709032446146011,
            2.0089589040726423
           ],
           "z": [
            10.127890884876251,
            10.000196298409719
           ]
          },
          {
           "line": {
            "color": "black",
            "width": 5
           },
           "marker": {
            "color": "blue",
            "size": 2
           },
           "text": [
            "LKnee"
           ],
           "type": "scatter3d",
           "x": [
            0.22451086342334747,
            0.15974391996860504
           ],
           "y": [
            0.9745053052902222,
            1.7709032446146011
           ],
           "z": [
            10.512080609798431,
            10.127890884876251
           ]
          },
          {
           "line": {
            "color": "black",
            "width": 5
           },
           "marker": {
            "color": "blue",
            "size": 2
           },
           "text": [
            "LAnkle"
           ],
           "type": "scatter3d",
           "x": [
            0.14394985139369965,
            0.22451086342334747
           ],
           "y": [
            0.2506558895111084,
            0.9745053052902222
           ],
           "z": [
            9.913642913103104,
            10.512080609798431
           ]
          },
          {
           "line": {
            "color": "black",
            "width": 5
           },
           "marker": {
            "color": "blue",
            "size": 2
           },
           "text": [
            "Spine1"
           ],
           "type": "scatter3d",
           "x": [
            0.00961244385689497,
            -0.002232754835858941
           ],
           "y": [
            2.5009469389915466,
            2.0089589040726423
           ],
           "z": [
            10.0866224989295,
            10.000196298409719
           ]
          },
          {
           "line": {
            "color": "black",
            "width": 5
           },
           "marker": {
            "color": "blue",
            "size": 2
           },
           "text": [
            "Neck"
           ],
           "type": "scatter3d",
           "x": [
            -0.009195453487336636,
            0.00961244385689497
           ],
           "y": [
            2.9685624837875366,
            2.5009469389915466
           ],
           "z": [
            10.182056471705437,
            10.0866224989295
           ]
          },
          {
           "line": {
            "color": "black",
            "width": 5
           },
           "marker": {
            "color": "blue",
            "size": 2
           },
           "text": [
            "Head"
           ],
           "type": "scatter3d",
           "x": [
            0.0015262216329574585,
            -0.009195453487336636
           ],
           "y": [
            3.18466317653656,
            2.9685624837875366
           ],
           "z": [
            10.211158692836761,
            10.182056471705437
           ]
          },
          {
           "line": {
            "color": "black",
            "width": 5
           },
           "marker": {
            "color": "blue",
            "size": 2
           },
           "text": [
            "Site"
           ],
           "type": "scatter3d",
           "x": [
            0.0006241500377655029,
            0.0015262216329574585
           ],
           "y": [
            3.399843692779541,
            3.18466317653656
           ],
           "z": [
            10.259423643350601,
            10.211158692836761
           ]
          },
          {
           "line": {
            "color": "black",
            "width": 5
           },
           "marker": {
            "color": "blue",
            "size": 2
           },
           "text": [
            "LShoulder"
           ],
           "type": "scatter3d",
           "x": [
            0.3954777121543884,
            -0.009195453487336636
           ],
           "y": [
            2.9348385334014893,
            2.9685624837875366
           ],
           "z": [
            10.085858024656773,
            10.182056471705437
           ]
          },
          {
           "line": {
            "color": "black",
            "width": 5
           },
           "marker": {
            "color": "blue",
            "size": 2
           },
           "text": [
            "LElbow"
           ],
           "type": "scatter3d",
           "x": [
            0.5020427703857422,
            0.3954777121543884
           ],
           "y": [
            1.9593016803264618,
            2.9348385334014893
           ],
           "z": [
            10.212869554758072,
            10.085858024656773
           ]
          },
          {
           "line": {
            "color": "black",
            "width": 5
           },
           "marker": {
            "color": "blue",
            "size": 2
           },
           "text": [
            "LWrist"
           ],
           "type": "scatter3d",
           "x": [
            0.5184575915336609,
            0.5020427703857422
           ],
           "y": [
            1.8030815571546555,
            1.9593016803264618
           ],
           "z": [
            10.33048552274704,
            10.212869554758072
           ]
          },
          {
           "line": {
            "color": "red",
            "width": 5
           },
           "marker": {
            "color": "blue",
            "size": 2
           },
           "text": [
            "RShoulder"
           ],
           "type": "scatter3d",
           "x": [
            -0.41131359338760376,
            -0.009195453487336636
           ],
           "y": [
            2.893631160259247,
            2.9685624837875366
           ],
           "z": [
            10.149611681699753,
            10.182056471705437
           ]
          },
          {
           "line": {
            "color": "red",
            "width": 5
           },
           "marker": {
            "color": "blue",
            "size": 2
           },
           "text": [
            "RElbow"
           ],
           "type": "scatter3d",
           "x": [
            -0.5394064784049988,
            -0.41131359338760376
           ],
           "y": [
            1.8666050732135773,
            2.893631160259247
           ],
           "z": [
            10.271189093589783,
            10.149611681699753
           ]
          },
          {
           "line": {
            "color": "red",
            "width": 5
           },
           "marker": {
            "color": "blue",
            "size": 2
           },
           "text": [
            "RWrist"
           ],
           "type": "scatter3d",
           "x": [
            -0.5709809064865112,
            -0.5394064784049988
           ],
           "y": [
            1.7027675807476044,
            1.8666050732135773
           ],
           "z": [
            10.377148002386093,
            10.271189093589783
           ]
          },
          {
           "line": {
            "color": "#1f77b4",
            "width": 1
           },
           "marker": {
            "color": "#1f77b4",
            "size": 1
           },
           "type": "scatter3d",
           "x": [
            -0.0027418718673288822,
            -0.0030006198212504387,
            -0.0030568535439670086,
            -0.0032310402020812035,
            -0.0022897955495864153,
            -0.003721669316291809,
            -0.0030518618877977133,
            -0.0027361256070435047,
            -0.002260821172967553,
            -0.0042311521247029305,
            -0.003010640386492014
           ],
           "y": [
            2.011849765665829,
            2.0113775432109833,
            2.0116708986461163,
            2.0116401202976704,
            2.0106278993189335,
            2.01270847953856,
            2.0126416264101863,
            2.0127374595031142,
            2.009408425539732,
            2.01162894628942,
            2.0095556722953916
           ],
           "z": [
            9.999753076350316,
            9.999828980944585,
            9.999864725163206,
            9.99974051915342,
            10.000227494572755,
            9.998863602988422,
            9.999546820123214,
            9.99953450699104,
            10.000100269797258,
            9.99863485316746,
            9.999725522182416
           ]
          }
         ],
         "name": "frame12"
        },
        {
         "data": [
          {
           "line": {
            "color": "red",
            "width": 5
           },
           "marker": {
            "color": "blue",
            "size": 2
           },
           "text": [
            "RHip"
           ],
           "type": "scatter3d",
           "x": [
            -0.18924479186534882,
            -0.00275089661590755
           ],
           "y": [
            1.8029119074344635,
            2.0117098232731223
           ],
           "z": [
            10.121960252523422,
            9.999859963892959
           ]
          },
          {
           "line": {
            "color": "red",
            "width": 5
           },
           "marker": {
            "color": "blue",
            "size": 2
           },
           "text": [
            "RKnee"
           ],
           "type": "scatter3d",
           "x": [
            -0.1208980530500412,
            -0.18924479186534882
           ],
           "y": [
            0.9325618743896484,
            1.8029119074344635
           ],
           "z": [
            10.358027249574661,
            10.121960252523422
           ]
          },
          {
           "line": {
            "color": "red",
            "width": 5
           },
           "marker": {
            "color": "blue",
            "size": 2
           },
           "text": [
            "RAnkle"
           ],
           "type": "scatter3d",
           "x": [
            -0.08374354243278503,
            -0.1208980530500412
           ],
           "y": [
            -0.01568317413330078,
            0.9325618743896484
           ],
           "z": [
            10.11445951461792,
            10.358027249574661
           ]
          },
          {
           "line": {
            "color": "black",
            "width": 5
           },
           "marker": {
            "color": "blue",
            "size": 2
           },
           "text": [
            "LHip"
           ],
           "type": "scatter3d",
           "x": [
            0.13778969645500183,
            -0.00275089661590755
           ],
           "y": [
            1.7565115839242935,
            2.0117098232731223
           ],
           "z": [
            10.142538994550705,
            9.999859963892959
           ]
          },
          {
           "line": {
            "color": "black",
            "width": 5
           },
           "marker": {
            "color": "blue",
            "size": 2
           },
           "text": [
            "LKnee"
           ],
           "type": "scatter3d",
           "x": [
            0.17966772615909576,
            0.13778969645500183
           ],
           "y": [
            0.9660134315490723,
            1.7565115839242935
           ],
           "z": [
            10.62221086025238,
            10.142538994550705
           ]
          },
          {
           "line": {
            "color": "black",
            "width": 5
           },
           "marker": {
            "color": "blue",
            "size": 2
           },
           "text": [
            "LAnkle"
           ],
           "type": "scatter3d",
           "x": [
            0.18546231091022491,
            0.17966772615909576
           ],
           "y": [
            -0.030221939086914062,
            0.9660134315490723
           ],
           "z": [
            10.539370954036713,
            10.62221086025238
           ]
          },
          {
           "line": {
            "color": "black",
            "width": 5
           },
           "marker": {
            "color": "blue",
            "size": 2
           },
           "text": [
            "Spine1"
           ],
           "type": "scatter3d",
           "x": [
            0.001719919964671135,
            -0.00275089661590755
           ],
           "y": [
            2.5281718373298645,
            2.0117098232731223
           ],
           "z": [
            10.09790039807558,
            9.999859963892959
           ]
          },
          {
           "line": {
            "color": "black",
            "width": 5
           },
           "marker": {
            "color": "blue",
            "size": 2
           },
           "text": [
            "Neck"
           ],
           "type": "scatter3d",
           "x": [
            -0.006895793601870537,
            0.001719919964671135
           ],
           "y": [
            3.012821674346924,
            2.5281718373298645
           ],
           "z": [
            10.198222264647484,
            10.09790039807558
           ]
          },
          {
           "line": {
            "color": "black",
            "width": 5
           },
           "marker": {
            "color": "blue",
            "size": 2
           },
           "text": [
            "Head"
           ],
           "type": "scatter3d",
           "x": [
            0.013292616233229637,
            -0.006895793601870537
           ],
           "y": [
            3.2357531785964966,
            3.012821674346924
           ],
           "z": [
            10.235429674386978,
            10.198222264647484
           ]
          },
          {
           "line": {
            "color": "black",
            "width": 5
           },
           "marker": {
            "color": "blue",
            "size": 2
           },
           "text": [
            "Site"
           ],
           "type": "scatter3d",
           "x": [
            0.02245022915303707,
            0.013292616233229637
           ],
           "y": [
            3.456148386001587,
            3.2357531785964966
           ],
           "z": [
            10.292313814163208,
            10.235429674386978
           ]
          },
          {
           "line": {
            "color": "black",
            "width": 5
           },
           "marker": {
            "color": "blue",
            "size": 2
           },
           "text": [
            "LShoulder"
           ],
           "type": "scatter3d",
           "x": [
            0.4195253849029541,
            -0.006895793601870537
           ],
           "y": [
            2.9817614555358887,
            3.012821674346924
           ],
           "z": [
            10.104818262159824,
            10.198222264647484
           ]
          },
          {
           "line": {
            "color": "black",
            "width": 5
           },
           "marker": {
            "color": "blue",
            "size": 2
           },
           "text": [
            "LElbow"
           ],
           "type": "scatter3d",
           "x": [
            0.44527101516723633,
            0.4195253849029541
           ],
           "y": [
            1.9872704986482859,
            2.9817614555358887
           ],
           "z": [
            10.198110803961754,
            10.104818262159824
           ]
          },
          {
           "line": {
            "color": "black",
            "width": 5
           },
           "marker": {
            "color": "blue",
            "size": 2
           },
           "text": [
            "LWrist"
           ],
           "type": "scatter3d",
           "x": [
            0.44780975580215454,
            0.44527101516723633
           ],
           "y": [
            1.8237810879945755,
            1.9872704986482859
           ],
           "z": [
            10.303896635770798,
            10.198110803961754
           ]
          },
          {
           "line": {
            "color": "red",
            "width": 5
           },
           "marker": {
            "color": "blue",
            "size": 2
           },
           "text": [
            "RShoulder"
           ],
           "type": "scatter3d",
           "x": [
            -0.4225158095359802,
            -0.006895793601870537
           ],
           "y": [
            2.942774772644043,
            3.012821674346924
           ],
           "z": [
            10.165487140417099,
            10.198222264647484
           ]
          },
          {
           "line": {
            "color": "red",
            "width": 5
           },
           "marker": {
            "color": "blue",
            "size": 2
           },
           "text": [
            "RElbow"
           ],
           "type": "scatter3d",
           "x": [
            -0.5570098161697388,
            -0.4225158095359802
           ],
           "y": [
            1.8912229239940643,
            2.942774772644043
           ],
           "z": [
            10.41743928194046,
            10.165487140417099
           ]
          },
          {
           "line": {
            "color": "red",
            "width": 5
           },
           "marker": {
            "color": "blue",
            "size": 2
           },
           "text": [
            "RWrist"
           ],
           "type": "scatter3d",
           "x": [
            -0.5670840740203857,
            -0.5570098161697388
           ],
           "y": [
            1.735685646533966,
            1.8912229239940643
           ],
           "z": [
            10.552966475486755,
            10.41743928194046
           ]
          },
          {
           "line": {
            "color": "#1f77b4",
            "width": 1
           },
           "marker": {
            "color": "#1f77b4",
            "size": 1
           },
           "type": "scatter3d",
           "x": [
            -0.0027418718673288822,
            -0.0030006198212504387,
            -0.0030568535439670086,
            -0.0032310402020812035,
            -0.0022897955495864153,
            -0.003721669316291809,
            -0.0030518618877977133,
            -0.0027361256070435047,
            -0.002260821172967553,
            -0.0042311521247029305,
            -0.003010640386492014,
            -0.002232754835858941
           ],
           "y": [
            2.011849765665829,
            2.0113775432109833,
            2.0116708986461163,
            2.0116401202976704,
            2.0106278993189335,
            2.01270847953856,
            2.0126416264101863,
            2.0127374595031142,
            2.009408425539732,
            2.01162894628942,
            2.0095556722953916,
            2.0089589040726423
           ],
           "z": [
            9.999753076350316,
            9.999828980944585,
            9.999864725163206,
            9.99974051915342,
            10.000227494572755,
            9.998863602988422,
            9.999546820123214,
            9.99953450699104,
            10.000100269797258,
            9.99863485316746,
            9.999725522182416,
            10.000196298409719
           ]
          }
         ],
         "name": "frame13"
        },
        {
         "data": [
          {
           "line": {
            "color": "red",
            "width": 5
           },
           "marker": {
            "color": "blue",
            "size": 2
           },
           "text": [
            "RHip"
           ],
           "type": "scatter3d",
           "x": [
            -0.19349142909049988,
            -0.0029642798472195864
           ],
           "y": [
            1.8090543150901794,
            2.0129758697003126
           ],
           "z": [
            10.113247781991959,
            9.999895909975749
           ]
          },
          {
           "line": {
            "color": "red",
            "width": 5
           },
           "marker": {
            "color": "blue",
            "size": 2
           },
           "text": [
            "RKnee"
           ],
           "type": "scatter3d",
           "x": [
            -0.1857147514820099,
            -0.19349142909049988
           ],
           "y": [
            0.9960473775863647,
            1.8090543150901794
           ],
           "z": [
            10.252896964550018,
            10.113247781991959
           ]
          },
          {
           "line": {
            "color": "red",
            "width": 5
           },
           "marker": {
            "color": "blue",
            "size": 2
           },
           "text": [
            "RAnkle"
           ],
           "type": "scatter3d",
           "x": [
            -0.14173534512519836,
            -0.1857147514820099
           ],
           "y": [
            0.15580153465270996,
            0.9960473775863647
           ],
           "z": [
            9.874932050704956,
            10.252896964550018
           ]
          },
          {
           "line": {
            "color": "black",
            "width": 5
           },
           "marker": {
            "color": "blue",
            "size": 2
           },
           "text": [
            "LHip"
           ],
           "type": "scatter3d",
           "x": [
            0.12489131838083267,
            -0.0029642798472195864
           ],
           "y": [
            1.762014701962471,
            2.0129758697003126
           ],
           "z": [
            10.145670741796494,
            9.999895909975749
           ]
          },
          {
           "line": {
            "color": "black",
            "width": 5
           },
           "marker": {
            "color": "blue",
            "size": 2
           },
           "text": [
            "LKnee"
           ],
           "type": "scatter3d",
           "x": [
            0.12738953530788422,
            0.12489131838083267
           ],
           "y": [
            0.9955928325653076,
            1.762014701962471
           ],
           "z": [
            10.589950442314148,
            10.145670741796494
           ]
          },
          {
           "line": {
            "color": "black",
            "width": 5
           },
           "marker": {
            "color": "blue",
            "size": 2
           },
           "text": [
            "LAnkle"
           ],
           "type": "scatter3d",
           "x": [
            0.1494174301624298,
            0.12738953530788422
           ],
           "y": [
            0.02145099639892578,
            0.9955928325653076
           ],
           "z": [
            10.580086410045624,
            10.589950442314148
           ]
          },
          {
           "line": {
            "color": "black",
            "width": 5
           },
           "marker": {
            "color": "blue",
            "size": 2
           },
           "text": [
            "Spine1"
           ],
           "type": "scatter3d",
           "x": [
            0.011231722310185432,
            -0.0029642798472195864
           ],
           "y": [
            2.5159037113189697,
            2.0129758697003126
           ],
           "z": [
            10.085463494062424,
            9.999895909975749
           ]
          },
          {
           "line": {
            "color": "black",
            "width": 5
           },
           "marker": {
            "color": "blue",
            "size": 2
           },
           "text": [
            "Neck"
           ],
           "type": "scatter3d",
           "x": [
            0.015224553644657135,
            0.011231722310185432
           ],
           "y": [
            2.9918357729911804,
            2.5159037113189697
           ],
           "z": [
            10.178737461566925,
            10.085463494062424
           ]
          },
          {
           "line": {
            "color": "black",
            "width": 5
           },
           "marker": {
            "color": "blue",
            "size": 2
           },
           "text": [
            "Head"
           ],
           "type": "scatter3d",
           "x": [
            0.03484002500772476,
            0.015224553644657135
           ],
           "y": [
            3.2032623291015625,
            2.9918357729911804
           ],
           "z": [
            10.213855415582657,
            10.178737461566925
           ]
          },
          {
           "line": {
            "color": "black",
            "width": 5
           },
           "marker": {
            "color": "blue",
            "size": 2
           },
           "text": [
            "Site"
           ],
           "type": "scatter3d",
           "x": [
            0.0428207665681839,
            0.03484002500772476
           ],
           "y": [
            3.409395933151245,
            3.2032623291015625
           ],
           "z": [
            10.270397007465363,
            10.213855415582657
           ]
          },
          {
           "line": {
            "color": "black",
            "width": 5
           },
           "marker": {
            "color": "blue",
            "size": 2
           },
           "text": [
            "LShoulder"
           ],
           "type": "scatter3d",
           "x": [
            0.4462272524833679,
            0.015224553644657135
           ],
           "y": [
            2.946056365966797,
            2.9918357729911804
           ],
           "z": [
            10.087729528546333,
            10.178737461566925
           ]
          },
          {
           "line": {
            "color": "black",
            "width": 5
           },
           "marker": {
            "color": "blue",
            "size": 2
           },
           "text": [
            "LElbow"
           ],
           "type": "scatter3d",
           "x": [
            0.5125201344490051,
            0.4462272524833679
           ],
           "y": [
            1.9467749297618866,
            2.946056365966797
           ],
           "z": [
            10.151309788227081,
            10.087729528546333
           ]
          },
          {
           "line": {
            "color": "black",
            "width": 5
           },
           "marker": {
            "color": "blue",
            "size": 2
           },
           "text": [
            "LWrist"
           ],
           "type": "scatter3d",
           "x": [
            0.5181933641433716,
            0.5125201344490051
           ],
           "y": [
            1.78125362098217,
            1.9467749297618866
           ],
           "z": [
            10.252189964056015,
            10.151309788227081
           ]
          },
          {
           "line": {
            "color": "red",
            "width": 5
           },
           "marker": {
            "color": "blue",
            "size": 2
           },
           "text": [
            "RShoulder"
           ],
           "type": "scatter3d",
           "x": [
            -0.4022926986217499,
            0.015224553644657135
           ],
           "y": [
            2.926608681678772,
            2.9918357729911804
           ],
           "z": [
            10.144208192825317,
            10.178737461566925
           ]
          },
          {
           "line": {
            "color": "red",
            "width": 5
           },
           "marker": {
            "color": "blue",
            "size": 2
           },
           "text": [
            "RElbow"
           ],
           "type": "scatter3d",
           "x": [
            -0.5502545833587646,
            -0.4022926986217499
           ],
           "y": [
            1.913013756275177,
            2.926608681678772
           ],
           "z": [
            10.446798115968704,
            10.144208192825317
           ]
          },
          {
           "line": {
            "color": "red",
            "width": 5
           },
           "marker": {
            "color": "blue",
            "size": 2
           },
           "text": [
            "RWrist"
           ],
           "type": "scatter3d",
           "x": [
            -0.5728096961975098,
            -0.5502545833587646
           ],
           "y": [
            1.7720235586166382,
            1.913013756275177
           ],
           "z": [
            10.592641949653625,
            10.446798115968704
           ]
          },
          {
           "line": {
            "color": "#1f77b4",
            "width": 1
           },
           "marker": {
            "color": "#1f77b4",
            "size": 1
           },
           "type": "scatter3d",
           "x": [
            -0.0027418718673288822,
            -0.0030006198212504387,
            -0.0030568535439670086,
            -0.0032310402020812035,
            -0.0022897955495864153,
            -0.003721669316291809,
            -0.0030518618877977133,
            -0.0027361256070435047,
            -0.002260821172967553,
            -0.0042311521247029305,
            -0.003010640386492014,
            -0.002232754835858941,
            -0.00275089661590755
           ],
           "y": [
            2.011849765665829,
            2.0113775432109833,
            2.0116708986461163,
            2.0116401202976704,
            2.0106278993189335,
            2.01270847953856,
            2.0126416264101863,
            2.0127374595031142,
            2.009408425539732,
            2.01162894628942,
            2.0095556722953916,
            2.0089589040726423,
            2.0117098232731223
           ],
           "z": [
            9.999753076350316,
            9.999828980944585,
            9.999864725163206,
            9.99974051915342,
            10.000227494572755,
            9.998863602988422,
            9.999546820123214,
            9.99953450699104,
            10.000100269797258,
            9.99863485316746,
            9.999725522182416,
            10.000196298409719,
            9.999859963892959
           ]
          }
         ],
         "name": "frame14"
        },
        {
         "data": [
          {
           "line": {
            "color": "red",
            "width": 5
           },
           "marker": {
            "color": "blue",
            "size": 2
           },
           "text": [
            "RHip"
           ],
           "type": "scatter3d",
           "x": [
            -0.1888754516839981,
            -0.0027666178066283464
           ],
           "y": [
            1.7934096455574036,
            2.0117938835173845
           ],
           "z": [
            10.123188272118568,
            10.000027928908821
           ]
          },
          {
           "line": {
            "color": "red",
            "width": 5
           },
           "marker": {
            "color": "blue",
            "size": 2
           },
           "text": [
            "RKnee"
           ],
           "type": "scatter3d",
           "x": [
            -0.18365417420864105,
            -0.1888754516839981
           ],
           "y": [
            0.9390428066253662,
            1.7934096455574036
           ],
           "z": [
            10.494491428136826,
            10.123188272118568
           ]
          },
          {
           "line": {
            "color": "red",
            "width": 5
           },
           "marker": {
            "color": "blue",
            "size": 2
           },
           "text": [
            "RAnkle"
           ],
           "type": "scatter3d",
           "x": [
            -0.13758645951747894,
            -0.18365417420864105
           ],
           "y": [
            0.2761058807373047,
            0.9390428066253662
           ],
           "z": [
            9.846436589956284,
            10.494491428136826
           ]
          },
          {
           "line": {
            "color": "black",
            "width": 5
           },
           "marker": {
            "color": "blue",
            "size": 2
           },
           "text": [
            "LHip"
           ],
           "type": "scatter3d",
           "x": [
            0.1668243706226349,
            -0.0027666178066283464
           ],
           "y": [
            1.772739827632904,
            2.0117938835173845
           ],
           "z": [
            10.146551057696342,
            10.000027928908821
           ]
          },
          {
           "line": {
            "color": "black",
            "width": 5
           },
           "marker": {
            "color": "blue",
            "size": 2
           },
           "text": [
            "LKnee"
           ],
           "type": "scatter3d",
           "x": [
            0.13264483213424683,
            0.1668243706226349
           ],
           "y": [
            0.9202786684036255,
            1.772739827632904
           ],
           "z": [
            10.459989964962006,
            10.146551057696342
           ]
          },
          {
           "line": {
            "color": "black",
            "width": 5
           },
           "marker": {
            "color": "blue",
            "size": 2
           },
           "text": [
            "LAnkle"
           ],
           "type": "scatter3d",
           "x": [
            0.1023787260055542,
            0.13264483213424683
           ],
           "y": [
            -0.056761741638183594,
            0.9202786684036255
           ],
           "z": [
            10.29739373922348,
            10.459989964962006
           ]
          },
          {
           "line": {
            "color": "black",
            "width": 5
           },
           "marker": {
            "color": "blue",
            "size": 2
           },
           "text": [
            "Spine1"
           ],
           "type": "scatter3d",
           "x": [
            0.022697411477565765,
            -0.0027666178066283464
           ],
           "y": [
            2.541214883327484,
            2.0117938835173845
           ],
           "z": [
            10.056659683585167,
            10.000027928908821
           ]
          },
          {
           "line": {
            "color": "black",
            "width": 5
           },
           "marker": {
            "color": "blue",
            "size": 2
           },
           "text": [
            "Neck"
           ],
           "type": "scatter3d",
           "x": [
            0.03489670902490616,
            0.022697411477565765
           ],
           "y": [
            3.0473556518554688,
            2.541214883327484
           ],
           "z": [
            10.130004867911339,
            10.056659683585167
           ]
          },
          {
           "line": {
            "color": "black",
            "width": 5
           },
           "marker": {
            "color": "blue",
            "size": 2
           },
           "text": [
            "Head"
           ],
           "type": "scatter3d",
           "x": [
            0.05787847936153412,
            0.03489670902490616
           ],
           "y": [
            3.2713096141815186,
            3.0473556518554688
           ],
           "z": [
            10.158397257328033,
            10.130004867911339
           ]
          },
          {
           "line": {
            "color": "black",
            "width": 5
           },
           "marker": {
            "color": "blue",
            "size": 2
           },
           "text": [
            "Site"
           ],
           "type": "scatter3d",
           "x": [
            0.06815660744905472,
            0.05787847936153412
           ],
           "y": [
            3.4900037050247192,
            3.2713096141815186
           ],
           "z": [
            10.206849783658981,
            10.158397257328033
           ]
          },
          {
           "line": {
            "color": "black",
            "width": 5
           },
           "marker": {
            "color": "blue",
            "size": 2
           },
           "text": [
            "LShoulder"
           ],
           "type": "scatter3d",
           "x": [
            0.47337281703948975,
            0.03489670902490616
           ],
           "y": [
            2.9747931361198425,
            3.0473556518554688
           ],
           "z": [
            10.055121343582869,
            10.130004867911339
           ]
          },
          {
           "line": {
            "color": "black",
            "width": 5
           },
           "marker": {
            "color": "blue",
            "size": 2
           },
           "text": [
            "LElbow"
           ],
           "type": "scatter3d",
           "x": [
            0.6327617168426514,
            0.47337281703948975
           ],
           "y": [
            1.919658601284027,
            2.9747931361198425
           ],
           "z": [
            10.12927894294262,
            10.055121343582869
           ]
          },
          {
           "line": {
            "color": "black",
            "width": 5
           },
           "marker": {
            "color": "blue",
            "size": 2
           },
           "text": [
            "LWrist"
           ],
           "type": "scatter3d",
           "x": [
            0.6727905869483948,
            0.6327617168426514
           ],
           "y": [
            1.7393067479133606,
            1.919658601284027
           ],
           "z": [
            10.239932730793953,
            10.12927894294262
           ]
          },
          {
           "line": {
            "color": "red",
            "width": 5
           },
           "marker": {
            "color": "blue",
            "size": 2
           },
           "text": [
            "RShoulder"
           ],
           "type": "scatter3d",
           "x": [
            -0.41407477855682373,
            0.03489670902490616
           ],
           "y": [
            2.994446039199829,
            3.0473556518554688
           ],
           "z": [
            10.079851277172565,
            10.130004867911339
           ]
          },
          {
           "line": {
            "color": "red",
            "width": 5
           },
           "marker": {
            "color": "blue",
            "size": 2
           },
           "text": [
            "RElbow"
           ],
           "type": "scatter3d",
           "x": [
            -0.5512242317199707,
            -0.41407477855682373
           ],
           "y": [
            1.9662435688078403,
            2.994446039199829
           ],
           "z": [
            10.318994700908661,
            10.079851277172565
           ]
          },
          {
           "line": {
            "color": "red",
            "width": 5
           },
           "marker": {
            "color": "blue",
            "size": 2
           },
           "text": [
            "RWrist"
           ],
           "type": "scatter3d",
           "x": [
            -0.5835046768188477,
            -0.5512242317199707
           ],
           "y": [
            1.8166810274124146,
            1.9662435688078403
           ],
           "z": [
            10.451236724853516,
            10.318994700908661
           ]
          },
          {
           "line": {
            "color": "#1f77b4",
            "width": 1
           },
           "marker": {
            "color": "#1f77b4",
            "size": 1
           },
           "type": "scatter3d",
           "x": [
            -0.0027418718673288822,
            -0.0030006198212504387,
            -0.0030568535439670086,
            -0.0032310402020812035,
            -0.0022897955495864153,
            -0.003721669316291809,
            -0.0030518618877977133,
            -0.0027361256070435047,
            -0.002260821172967553,
            -0.0042311521247029305,
            -0.003010640386492014,
            -0.002232754835858941,
            -0.00275089661590755,
            -0.0029642798472195864
           ],
           "y": [
            2.011849765665829,
            2.0113775432109833,
            2.0116708986461163,
            2.0116401202976704,
            2.0106278993189335,
            2.01270847953856,
            2.0126416264101863,
            2.0127374595031142,
            2.009408425539732,
            2.01162894628942,
            2.0095556722953916,
            2.0089589040726423,
            2.0117098232731223,
            2.0129758697003126
           ],
           "z": [
            9.999753076350316,
            9.999828980944585,
            9.999864725163206,
            9.99974051915342,
            10.000227494572755,
            9.998863602988422,
            9.999546820123214,
            9.99953450699104,
            10.000100269797258,
            9.99863485316746,
            9.999725522182416,
            10.000196298409719,
            9.999859963892959,
            9.999895909975749
           ]
          }
         ],
         "name": "frame15"
        },
        {
         "data": [
          {
           "line": {
            "color": "red",
            "width": 5
           },
           "marker": {
            "color": "blue",
            "size": 2
           },
           "text": [
            "RHip"
           ],
           "type": "scatter3d",
           "x": [
            -0.17726512253284454,
            -0.003079262562096119
           ],
           "y": [
            1.7874808311462402,
            2.010299876332283
           ],
           "z": [
            10.138730585575104,
            9.999898228386883
           ]
          },
          {
           "line": {
            "color": "red",
            "width": 5
           },
           "marker": {
            "color": "blue",
            "size": 2
           },
           "text": [
            "RKnee"
           ],
           "type": "scatter3d",
           "x": [
            -0.16257306933403015,
            -0.17726512253284454
           ],
           "y": [
            0.9691966772079468,
            1.7874808311462402
           ],
           "z": [
            10.692699074745178,
            10.138730585575104
           ]
          },
          {
           "line": {
            "color": "red",
            "width": 5
           },
           "marker": {
            "color": "blue",
            "size": 2
           },
           "text": [
            "RAnkle"
           ],
           "type": "scatter3d",
           "x": [
            -0.1686466932296753,
            -0.16257306933403015
           ],
           "y": [
            0.0019347667694091797,
            0.9691966772079468
           ],
           "z": [
            10.440780967473984,
            10.692699074745178
           ]
          },
          {
           "line": {
            "color": "black",
            "width": 5
           },
           "marker": {
            "color": "blue",
            "size": 2
           },
           "text": [
            "LHip"
           ],
           "type": "scatter3d",
           "x": [
            0.18703334033489227,
            -0.003079262562096119
           ],
           "y": [
            1.7777748852968216,
            2.010299876332283
           ],
           "z": [
            10.15033107995987,
            9.999898228386883
           ]
          },
          {
           "line": {
            "color": "black",
            "width": 5
           },
           "marker": {
            "color": "blue",
            "size": 2
           },
           "text": [
            "LKnee"
           ],
           "type": "scatter3d",
           "x": [
            0.137277752161026,
            0.18703334033489227
           ],
           "y": [
            0.895315408706665,
            1.7777748852968216
           ],
           "z": [
            10.317237973213196,
            10.15033107995987
           ]
          },
          {
           "line": {
            "color": "black",
            "width": 5
           },
           "marker": {
            "color": "blue",
            "size": 2
           },
           "text": [
            "LAnkle"
           ],
           "type": "scatter3d",
           "x": [
            0.10428790748119354,
            0.137277752161026
           ],
           "y": [
            -0.08702969551086426,
            0.895315408706665
           ],
           "z": [
            10.063067235052586,
            10.317237973213196
           ]
          },
          {
           "line": {
            "color": "black",
            "width": 5
           },
           "marker": {
            "color": "blue",
            "size": 2
           },
           "text": [
            "Spine1"
           ],
           "type": "scatter3d",
           "x": [
            0.03510255366563797,
            -0.003079262562096119
           ],
           "y": [
            2.5454187393188477,
            2.010299876332283
           ],
           "z": [
            10.06447859853506,
            9.999898228386883
           ]
          },
          {
           "line": {
            "color": "black",
            "width": 5
           },
           "marker": {
            "color": "blue",
            "size": 2
           },
           "text": [
            "Neck"
           ],
           "type": "scatter3d",
           "x": [
            0.04162193834781647,
            0.03510255366563797
           ],
           "y": [
            3.053005576133728,
            2.5454187393188477
           ],
           "z": [
            10.143615543842316,
            10.06447859853506
           ]
          },
          {
           "line": {
            "color": "black",
            "width": 5
           },
           "marker": {
            "color": "blue",
            "size": 2
           },
           "text": [
            "Head"
           ],
           "type": "scatter3d",
           "x": [
            0.05957263708114624,
            0.04162193834781647
           ],
           "y": [
            3.2841070890426636,
            3.053005576133728
           ],
           "z": [
            10.16739635169506,
            10.143615543842316
           ]
          },
          {
           "line": {
            "color": "black",
            "width": 5
           },
           "marker": {
            "color": "blue",
            "size": 2
           },
           "text": [
            "Site"
           ],
           "type": "scatter3d",
           "x": [
            0.06441691517829895,
            0.05957263708114624
           ],
           "y": [
            3.513957142829895,
            3.2841070890426636
           ],
           "z": [
            10.209325984120369,
            10.16739635169506
           ]
          },
          {
           "line": {
            "color": "black",
            "width": 5
           },
           "marker": {
            "color": "blue",
            "size": 2
           },
           "text": [
            "LShoulder"
           ],
           "type": "scatter3d",
           "x": [
            0.5030678510665894,
            0.04162193834781647
           ],
           "y": [
            2.995289385318756,
            3.053005576133728
           ],
           "z": [
            10.07104990631342,
            10.143615543842316
           ]
          },
          {
           "line": {
            "color": "black",
            "width": 5
           },
           "marker": {
            "color": "blue",
            "size": 2
           },
           "text": [
            "LElbow"
           ],
           "type": "scatter3d",
           "x": [
            0.7462750673294067,
            0.5030678510665894
           ],
           "y": [
            1.9968640888109803,
            2.995289385318756
           ],
           "z": [
            10.293758988380432,
            10.07104990631342
           ]
          },
          {
           "line": {
            "color": "black",
            "width": 5
           },
           "marker": {
            "color": "blue",
            "size": 2
           },
           "text": [
            "LWrist"
           ],
           "type": "scatter3d",
           "x": [
            0.7976398468017578,
            0.7462750673294067
           ],
           "y": [
            1.8568682968616486,
            1.9968640888109803
           ],
           "z": [
            10.440836995840073,
            10.293758988380432
           ]
          },
          {
           "line": {
            "color": "red",
            "width": 5
           },
           "marker": {
            "color": "blue",
            "size": 2
           },
           "text": [
            "RShoulder"
           ],
           "type": "scatter3d",
           "x": [
            -0.419167697429657,
            0.04162193834781647
           ],
           "y": [
            2.992420792579651,
            3.053005576133728
           ],
           "z": [
            10.08151824772358,
            10.143615543842316
           ]
          },
          {
           "line": {
            "color": "red",
            "width": 5
           },
           "marker": {
            "color": "blue",
            "size": 2
           },
           "text": [
            "RElbow"
           ],
           "type": "scatter3d",
           "x": [
            -0.5577996969223022,
            -0.419167697429657
           ],
           "y": [
            1.9182888939976692,
            2.992420792579651
           ],
           "z": [
            10.228220477700233,
            10.08151824772358
           ]
          },
          {
           "line": {
            "color": "red",
            "width": 5
           },
           "marker": {
            "color": "blue",
            "size": 2
           },
           "text": [
            "RWrist"
           ],
           "type": "scatter3d",
           "x": [
            -0.5795736908912659,
            -0.5577996969223022
           ],
           "y": [
            1.7648335993289948,
            1.9182888939976692
           ],
           "z": [
            10.333311319351196,
            10.228220477700233
           ]
          },
          {
           "line": {
            "color": "#1f77b4",
            "width": 1
           },
           "marker": {
            "color": "#1f77b4",
            "size": 1
           },
           "type": "scatter3d",
           "x": [
            -0.0027418718673288822,
            -0.0030006198212504387,
            -0.0030568535439670086,
            -0.0032310402020812035,
            -0.0022897955495864153,
            -0.003721669316291809,
            -0.0030518618877977133,
            -0.0027361256070435047,
            -0.002260821172967553,
            -0.0042311521247029305,
            -0.003010640386492014,
            -0.002232754835858941,
            -0.00275089661590755,
            -0.0029642798472195864,
            -0.0027666178066283464
           ],
           "y": [
            2.011849765665829,
            2.0113775432109833,
            2.0116708986461163,
            2.0116401202976704,
            2.0106278993189335,
            2.01270847953856,
            2.0126416264101863,
            2.0127374595031142,
            2.009408425539732,
            2.01162894628942,
            2.0095556722953916,
            2.0089589040726423,
            2.0117098232731223,
            2.0129758697003126,
            2.0117938835173845
           ],
           "z": [
            9.999753076350316,
            9.999828980944585,
            9.999864725163206,
            9.99974051915342,
            10.000227494572755,
            9.998863602988422,
            9.999546820123214,
            9.99953450699104,
            10.000100269797258,
            9.99863485316746,
            9.999725522182416,
            10.000196298409719,
            9.999859963892959,
            9.999895909975749,
            10.000027928908821
           ]
          }
         ],
         "name": "frame16"
        },
        {
         "data": [
          {
           "line": {
            "color": "red",
            "width": 5
           },
           "marker": {
            "color": "blue",
            "size": 2
           },
           "text": [
            "RHip"
           ],
           "type": "scatter3d",
           "x": [
            -0.15574371814727783,
            -0.0035347763914614916
           ],
           "y": [
            1.7816579341888428,
            2.0117486901581287
           ],
           "z": [
            10.131061851978302,
            9.999798106902745
           ]
          },
          {
           "line": {
            "color": "red",
            "width": 5
           },
           "marker": {
            "color": "blue",
            "size": 2
           },
           "text": [
            "RKnee"
           ],
           "type": "scatter3d",
           "x": [
            -0.1371476650238037,
            -0.15574371814727783
           ],
           "y": [
            0.9688594341278076,
            1.7816579341888428
           ],
           "z": [
            10.692727386951447,
            10.131061851978302
           ]
          },
          {
           "line": {
            "color": "red",
            "width": 5
           },
           "marker": {
            "color": "blue",
            "size": 2
           },
           "text": [
            "RAnkle"
           ],
           "type": "scatter3d",
           "x": [
            -0.19324429333209991,
            -0.1371476650238037
           ],
           "y": [
            -0.0641469955444336,
            0.9688594341278076
           ],
           "z": [
            10.830434799194336,
            10.692727386951447
           ]
          },
          {
           "line": {
            "color": "black",
            "width": 5
           },
           "marker": {
            "color": "blue",
            "size": 2
           },
           "text": [
            "LHip"
           ],
           "type": "scatter3d",
           "x": [
            0.1887352466583252,
            -0.0035347763914614916
           ],
           "y": [
            1.779586061835289,
            2.0117486901581287
           ],
           "z": [
            10.14037537574768,
            9.999798106902745
           ]
          },
          {
           "line": {
            "color": "black",
            "width": 5
           },
           "marker": {
            "color": "blue",
            "size": 2
           },
           "text": [
            "LKnee"
           ],
           "type": "scatter3d",
           "x": [
            0.17827217280864716,
            0.1887352466583252
           ],
           "y": [
            0.9114857912063599,
            1.779586061835289
           ],
           "z": [
            10.05804768949747,
            10.14037537574768
           ]
          },
          {
           "line": {
            "color": "black",
            "width": 5
           },
           "marker": {
            "color": "blue",
            "size": 2
           },
           "text": [
            "LAnkle"
           ],
           "type": "scatter3d",
           "x": [
            0.14347417652606964,
            0.17827217280864716
           ],
           "y": [
            -0.038349151611328125,
            0.9114857912063599
           ],
           "z": [
            9.737327933311462,
            10.05804768949747
           ]
          },
          {
           "line": {
            "color": "black",
            "width": 5
           },
           "marker": {
            "color": "blue",
            "size": 2
           },
           "text": [
            "Spine1"
           ],
           "type": "scatter3d",
           "x": [
            0.03616948425769806,
            -0.0035347763914614916
           ],
           "y": [
            2.5280447602272034,
            2.0117486901581287
           ],
           "z": [
            10.079186752438545,
            9.999798106902745
           ]
          },
          {
           "line": {
            "color": "black",
            "width": 5
           },
           "marker": {
            "color": "blue",
            "size": 2
           },
           "text": [
            "Neck"
           ],
           "type": "scatter3d",
           "x": [
            0.028980091214179993,
            0.03616948425769806
           ],
           "y": [
            3.0182576179504395,
            2.5280447602272034
           ],
           "z": [
            10.178380876779556,
            10.079186752438545
           ]
          },
          {
           "line": {
            "color": "black",
            "width": 5
           },
           "marker": {
            "color": "blue",
            "size": 2
           },
           "text": [
            "Head"
           ],
           "type": "scatter3d",
           "x": [
            0.039057862013578415,
            0.028980091214179993
           ],
           "y": [
            3.241376042366028,
            3.0182576179504395
           ],
           "z": [
            10.216015994548798,
            10.178380876779556
           ]
          },
          {
           "line": {
            "color": "black",
            "width": 5
           },
           "marker": {
            "color": "blue",
            "size": 2
           },
           "text": [
            "Site"
           ],
           "type": "scatter3d",
           "x": [
            0.03543411195278168,
            0.039057862013578415
           ],
           "y": [
            3.462446093559265,
            3.241376042366028
           ],
           "z": [
            10.270783632993698,
            10.216015994548798
           ]
          },
          {
           "line": {
            "color": "black",
            "width": 5
           },
           "marker": {
            "color": "blue",
            "size": 2
           },
           "text": [
            "LShoulder"
           ],
           "type": "scatter3d",
           "x": [
            0.47973692417144775,
            0.028980091214179993
           ],
           "y": [
            2.9675827622413635,
            3.0182576179504395
           ],
           "z": [
            10.108754955232143,
            10.178380876779556
           ]
          },
          {
           "line": {
            "color": "black",
            "width": 5
           },
           "marker": {
            "color": "blue",
            "size": 2
           },
           "text": [
            "LElbow"
           ],
           "type": "scatter3d",
           "x": [
            0.7430997490882874,
            0.47973692417144775
           ],
           "y": [
            2.0216102972626686,
            2.9675827622413635
           ],
           "z": [
            10.312605738639832,
            10.108754955232143
           ]
          },
          {
           "line": {
            "color": "black",
            "width": 5
           },
           "marker": {
            "color": "blue",
            "size": 2
           },
           "text": [
            "LWrist"
           ],
           "type": "scatter3d",
           "x": [
            0.7856343388557434,
            0.7430997490882874
           ],
           "y": [
            1.8974347114562988,
            2.0216102972626686
           ],
           "z": [
            10.458651900291443,
            10.312605738639832
           ]
          },
          {
           "line": {
            "color": "red",
            "width": 5
           },
           "marker": {
            "color": "blue",
            "size": 2
           },
           "text": [
            "RShoulder"
           ],
           "type": "scatter3d",
           "x": [
            -0.41125646233558655,
            0.028980091214179993
           ],
           "y": [
            2.9503180980682373,
            3.0182576179504395
           ],
           "z": [
            10.103755168616772,
            10.178380876779556
           ]
          },
          {
           "line": {
            "color": "red",
            "width": 5
           },
           "marker": {
            "color": "blue",
            "size": 2
           },
           "text": [
            "RElbow"
           ],
           "type": "scatter3d",
           "x": [
            -0.5193487405776978,
            -0.41125646233558655
           ],
           "y": [
            1.882779873907566,
            2.9503180980682373
           ],
           "z": [
            10.128059163689613,
            10.103755168616772
           ]
          },
          {
           "line": {
            "color": "red",
            "width": 5
           },
           "marker": {
            "color": "blue",
            "size": 2
           },
           "text": [
            "RWrist"
           ],
           "type": "scatter3d",
           "x": [
            -0.5374462008476257,
            -0.5193487405776978
           ],
           "y": [
            1.7248136103153229,
            1.882779873907566
           ],
           "z": [
            10.20099014043808,
            10.128059163689613
           ]
          },
          {
           "line": {
            "color": "#1f77b4",
            "width": 1
           },
           "marker": {
            "color": "#1f77b4",
            "size": 1
           },
           "type": "scatter3d",
           "x": [
            -0.0027418718673288822,
            -0.0030006198212504387,
            -0.0030568535439670086,
            -0.0032310402020812035,
            -0.0022897955495864153,
            -0.003721669316291809,
            -0.0030518618877977133,
            -0.0027361256070435047,
            -0.002260821172967553,
            -0.0042311521247029305,
            -0.003010640386492014,
            -0.002232754835858941,
            -0.00275089661590755,
            -0.0029642798472195864,
            -0.0027666178066283464,
            -0.003079262562096119
           ],
           "y": [
            2.011849765665829,
            2.0113775432109833,
            2.0116708986461163,
            2.0116401202976704,
            2.0106278993189335,
            2.01270847953856,
            2.0126416264101863,
            2.0127374595031142,
            2.009408425539732,
            2.01162894628942,
            2.0095556722953916,
            2.0089589040726423,
            2.0117098232731223,
            2.0129758697003126,
            2.0117938835173845,
            2.010299876332283
           ],
           "z": [
            9.999753076350316,
            9.999828980944585,
            9.999864725163206,
            9.99974051915342,
            10.000227494572755,
            9.998863602988422,
            9.999546820123214,
            9.99953450699104,
            10.000100269797258,
            9.99863485316746,
            9.999725522182416,
            10.000196298409719,
            9.999859963892959,
            9.999895909975749,
            10.000027928908821,
            9.999898228386883
           ]
          }
         ],
         "name": "frame17"
        },
        {
         "data": [
          {
           "line": {
            "color": "red",
            "width": 5
           },
           "marker": {
            "color": "blue",
            "size": 2
           },
           "text": [
            "RHip"
           ],
           "type": "scatter3d",
           "x": [
            -0.17599359154701233,
            -0.0034277590457350016
           ],
           "y": [
            1.7896497249603271,
            2.0099654560908675
           ],
           "z": [
            10.129503071308136,
            9.999948241515085
           ]
          },
          {
           "line": {
            "color": "red",
            "width": 5
           },
           "marker": {
            "color": "blue",
            "size": 2
           },
           "text": [
            "RKnee"
           ],
           "type": "scatter3d",
           "x": [
            -0.15140491724014282,
            -0.17599359154701233
           ],
           "y": [
            0.9384356737136841,
            1.7896497249603271
           ],
           "z": [
            10.612668991088867,
            10.129503071308136
           ]
          },
          {
           "line": {
            "color": "red",
            "width": 5
           },
           "marker": {
            "color": "blue",
            "size": 2
           },
           "text": [
            "RAnkle"
           ],
           "type": "scatter3d",
           "x": [
            -0.12432471662759781,
            -0.15140491724014282
           ],
           "y": [
            -0.09222698211669922,
            0.9384356737136841
           ],
           "z": [
            10.594050168991089,
            10.612668991088867
           ]
          },
          {
           "line": {
            "color": "black",
            "width": 5
           },
           "marker": {
            "color": "blue",
            "size": 2
           },
           "text": [
            "LHip"
           ],
           "type": "scatter3d",
           "x": [
            0.1855795979499817,
            -0.0034277590457350016
           ],
           "y": [
            1.768582820892334,
            2.0099654560908675
           ],
           "z": [
            10.147985279560089,
            9.999948241515085
           ]
          },
          {
           "line": {
            "color": "black",
            "width": 5
           },
           "marker": {
            "color": "blue",
            "size": 2
           },
           "text": [
            "LKnee"
           ],
           "type": "scatter3d",
           "x": [
            0.18198610842227936,
            0.1855795979499817
           ],
           "y": [
            0.9071900844573975,
            1.768582820892334
           ],
           "z": [
            10.243731886148453,
            10.147985279560089
           ]
          },
          {
           "line": {
            "color": "black",
            "width": 5
           },
           "marker": {
            "color": "blue",
            "size": 2
           },
           "text": [
            "LAnkle"
           ],
           "type": "scatter3d",
           "x": [
            0.17633576691150665,
            0.18198610842227936
           ],
           "y": [
            0.1504662036895752,
            0.9071900844573975
           ],
           "z": [
            9.609556168317795,
            10.243731886148453
           ]
          },
          {
           "line": {
            "color": "black",
            "width": 5
           },
           "marker": {
            "color": "blue",
            "size": 2
           },
           "text": [
            "Spine1"
           ],
           "type": "scatter3d",
           "x": [
            0.014953948557376862,
            -0.0034277590457350016
           ],
           "y": [
            2.5275861620903015,
            2.0099654560908675
           ],
           "z": [
            10.074390150606632,
            9.999948241515085
           ]
          },
          {
           "line": {
            "color": "black",
            "width": 5
           },
           "marker": {
            "color": "blue",
            "size": 2
           },
           "text": [
            "Neck"
           ],
           "type": "scatter3d",
           "x": [
            -0.020341314375400543,
            0.014953948557376862
           ],
           "y": [
            3.023845076560974,
            2.5275861620903015
           ],
           "z": [
            10.165260821580887,
            10.074390150606632
           ]
          },
          {
           "line": {
            "color": "black",
            "width": 5
           },
           "marker": {
            "color": "blue",
            "size": 2
           },
           "text": [
            "Head"
           ],
           "type": "scatter3d",
           "x": [
            -0.018046174198389053,
            -0.020341314375400543
           ],
           "y": [
            3.2504273653030396,
            3.023845076560974
           ],
           "z": [
            10.201159879565239,
            10.165260821580887
           ]
          },
          {
           "line": {
            "color": "black",
            "width": 5
           },
           "marker": {
            "color": "blue",
            "size": 2
           },
           "text": [
            "Site"
           ],
           "type": "scatter3d",
           "x": [
            -0.028253968805074692,
            -0.018046174198389053
           ],
           "y": [
            3.474902391433716,
            3.2504273653030396
           ],
           "z": [
            10.256091594696045,
            10.201159879565239
           ]
          },
          {
           "line": {
            "color": "black",
            "width": 5
           },
           "marker": {
            "color": "blue",
            "size": 2
           },
           "text": [
            "LShoulder"
           ],
           "type": "scatter3d",
           "x": [
            0.43745312094688416,
            -0.020341314375400543
           ],
           "y": [
            2.989730715751648,
            3.023845076560974
           ],
           "z": [
            10.099906131625175,
            10.165260821580887
           ]
          },
          {
           "line": {
            "color": "black",
            "width": 5
           },
           "marker": {
            "color": "blue",
            "size": 2
           },
           "text": [
            "LElbow"
           ],
           "type": "scatter3d",
           "x": [
            0.6534626483917236,
            0.43745312094688416
           ],
           "y": [
            1.9692400004714727,
            2.989730715751648
           ],
           "z": [
            10.296234250068665,
            10.099906131625175
           ]
          },
          {
           "line": {
            "color": "black",
            "width": 5
           },
           "marker": {
            "color": "blue",
            "size": 2
           },
           "text": [
            "LWrist"
           ],
           "type": "scatter3d",
           "x": [
            0.6930545568466187,
            0.6534626483917236
           ],
           "y": [
            1.8111630380153656,
            1.9692400004714727
           ],
           "z": [
            10.446779429912567,
            10.296234250068665
           ]
          },
          {
           "line": {
            "color": "red",
            "width": 5
           },
           "marker": {
            "color": "blue",
            "size": 2
           },
           "text": [
            "RShoulder"
           ],
           "type": "scatter3d",
           "x": [
            -0.4588584899902344,
            -0.020341314375400543
           ],
           "y": [
            2.9404075145721436,
            3.023845076560974
           ],
           "z": [
            10.089401885867119,
            10.165260821580887
           ]
          },
          {
           "line": {
            "color": "red",
            "width": 5
           },
           "marker": {
            "color": "blue",
            "size": 2
           },
           "text": [
            "RElbow"
           ],
           "type": "scatter3d",
           "x": [
            -0.5408048629760742,
            -0.4588584899902344
           ],
           "y": [
            1.8189232647418976,
            2.9404075145721436
           ],
           "z": [
            10.144971907138824,
            10.089401885867119
           ]
          },
          {
           "line": {
            "color": "red",
            "width": 5
           },
           "marker": {
            "color": "blue",
            "size": 2
           },
           "text": [
            "RWrist"
           ],
           "type": "scatter3d",
           "x": [
            -0.5659354329109192,
            -0.5408048629760742
           ],
           "y": [
            1.6413230299949646,
            1.8189232647418976
           ],
           "z": [
            10.215718179941177,
            10.144971907138824
           ]
          },
          {
           "line": {
            "color": "#1f77b4",
            "width": 1
           },
           "marker": {
            "color": "#1f77b4",
            "size": 1
           },
           "type": "scatter3d",
           "x": [
            -0.0027418718673288822,
            -0.0030006198212504387,
            -0.0030568535439670086,
            -0.0032310402020812035,
            -0.0022897955495864153,
            -0.003721669316291809,
            -0.0030518618877977133,
            -0.0027361256070435047,
            -0.002260821172967553,
            -0.0042311521247029305,
            -0.003010640386492014,
            -0.002232754835858941,
            -0.00275089661590755,
            -0.0029642798472195864,
            -0.0027666178066283464,
            -0.003079262562096119,
            -0.0035347763914614916
           ],
           "y": [
            2.011849765665829,
            2.0113775432109833,
            2.0116708986461163,
            2.0116401202976704,
            2.0106278993189335,
            2.01270847953856,
            2.0126416264101863,
            2.0127374595031142,
            2.009408425539732,
            2.01162894628942,
            2.0095556722953916,
            2.0089589040726423,
            2.0117098232731223,
            2.0129758697003126,
            2.0117938835173845,
            2.010299876332283,
            2.0117486901581287
           ],
           "z": [
            9.999753076350316,
            9.999828980944585,
            9.999864725163206,
            9.99974051915342,
            10.000227494572755,
            9.998863602988422,
            9.999546820123214,
            9.99953450699104,
            10.000100269797258,
            9.99863485316746,
            9.999725522182416,
            10.000196298409719,
            9.999859963892959,
            9.999895909975749,
            10.000027928908821,
            9.999898228386883,
            9.999798106902745
           ]
          }
         ],
         "name": "frame18"
        },
        {
         "data": [
          {
           "line": {
            "color": "red",
            "width": 5
           },
           "marker": {
            "color": "blue",
            "size": 2
           },
           "text": [
            "RHip"
           ],
           "type": "scatter3d",
           "x": [
            -0.19051770865917206,
            -0.002994382521137595
           ],
           "y": [
            1.8031911253929138,
            2.010773878544569
           ],
           "z": [
            10.133389070630074,
            10.000051599054132
           ]
          },
          {
           "line": {
            "color": "red",
            "width": 5
           },
           "marker": {
            "color": "blue",
            "size": 2
           },
           "text": [
            "RKnee"
           ],
           "type": "scatter3d",
           "x": [
            -0.12304162234067917,
            -0.19051770865917206
           ],
           "y": [
            0.9098385572433472,
            1.8031911253929138
           ],
           "z": [
            10.492413818836212,
            10.133389070630074
           ]
          },
          {
           "line": {
            "color": "red",
            "width": 5
           },
           "marker": {
            "color": "blue",
            "size": 2
           },
           "text": [
            "RAnkle"
           ],
           "type": "scatter3d",
           "x": [
            -0.08593005686998367,
            -0.12304162234067917
           ],
           "y": [
            -0.07736968994140625,
            0.9098385572433472
           ],
           "z": [
            10.31560081243515,
            10.492413818836212
           ]
          },
          {
           "line": {
            "color": "black",
            "width": 5
           },
           "marker": {
            "color": "blue",
            "size": 2
           },
           "text": [
            "LHip"
           ],
           "type": "scatter3d",
           "x": [
            0.17204245924949646,
            -0.002994382521137595
           ],
           "y": [
            1.7594158798456192,
            2.010773878544569
           ],
           "z": [
            10.150808051228523,
            10.000051599054132
           ]
          },
          {
           "line": {
            "color": "black",
            "width": 5
           },
           "marker": {
            "color": "blue",
            "size": 2
           },
           "text": [
            "LKnee"
           ],
           "type": "scatter3d",
           "x": [
            0.20530857145786285,
            0.17204245924949646
           ],
           "y": [
            0.9257304668426514,
            1.7594158798456192
           ],
           "z": [
            10.551606237888336,
            10.150808051228523
           ]
          },
          {
           "line": {
            "color": "black",
            "width": 5
           },
           "marker": {
            "color": "blue",
            "size": 2
           },
           "text": [
            "LAnkle"
           ],
           "type": "scatter3d",
           "x": [
            0.14213719964027405,
            0.20530857145786285
           ],
           "y": [
            0.19153261184692383,
            0.9257304668426514
           ],
           "z": [
            9.896582499146461,
            10.551606237888336
           ]
          },
          {
           "line": {
            "color": "black",
            "width": 5
           },
           "marker": {
            "color": "blue",
            "size": 2
           },
           "text": [
            "Spine1"
           ],
           "type": "scatter3d",
           "x": [
            -0.0012075500562787056,
            -0.002994382521137595
           ],
           "y": [
            2.5336177945137024,
            2.010773878544569
           ],
           "z": [
            10.074716411530972,
            10.000051599054132
           ]
          },
          {
           "line": {
            "color": "black",
            "width": 5
           },
           "marker": {
            "color": "blue",
            "size": 2
           },
           "text": [
            "Neck"
           ],
           "type": "scatter3d",
           "x": [
            -0.04000253230333328,
            -0.0012075500562787056
           ],
           "y": [
            3.0313706398010254,
            2.5336177945137024
           ],
           "z": [
            10.152241840958595,
            10.074716411530972
           ]
          },
          {
           "line": {
            "color": "black",
            "width": 5
           },
           "marker": {
            "color": "blue",
            "size": 2
           },
           "text": [
            "Head"
           ],
           "type": "scatter3d",
           "x": [
            -0.035838041454553604,
            -0.04000253230333328
           ],
           "y": [
            3.2577191591262817,
            3.0313706398010254
           ],
           "z": [
            10.175650373101234,
            10.152241840958595
           ]
          },
          {
           "line": {
            "color": "black",
            "width": 5
           },
           "marker": {
            "color": "blue",
            "size": 2
           },
           "text": [
            "Site"
           ],
           "type": "scatter3d",
           "x": [
            -0.04277371987700462,
            -0.035838041454553604
           ],
           "y": [
            3.482501745223999,
            3.2577191591262817
           ],
           "z": [
            10.219645351171494,
            10.175650373101234
           ]
          },
          {
           "line": {
            "color": "black",
            "width": 5
           },
           "marker": {
            "color": "blue",
            "size": 2
           },
           "text": [
            "LShoulder"
           ],
           "type": "scatter3d",
           "x": [
            0.41651132702827454,
            -0.04000253230333328
           ],
           "y": [
            3.002171516418457,
            3.0313706398010254
           ],
           "z": [
            10.078524082899094,
            10.152241840958595
           ]
          },
          {
           "line": {
            "color": "black",
            "width": 5
           },
           "marker": {
            "color": "blue",
            "size": 2
           },
           "text": [
            "LElbow"
           ],
           "type": "scatter3d",
           "x": [
            0.5027319192886353,
            0.41651132702827454
           ],
           "y": [
            1.970303151756525,
            3.002171516418457
           ],
           "z": [
            10.240362137556076,
            10.078524082899094
           ]
          },
          {
           "line": {
            "color": "black",
            "width": 5
           },
           "marker": {
            "color": "blue",
            "size": 2
           },
           "text": [
            "LWrist"
           ],
           "type": "scatter3d",
           "x": [
            0.5134224891662598,
            0.5027319192886353
           ],
           "y": [
            1.796220675110817,
            1.970303151756525
           ],
           "z": [
            10.376655280590057,
            10.240362137556076
           ]
          },
          {
           "line": {
            "color": "red",
            "width": 5
           },
           "marker": {
            "color": "blue",
            "size": 2
           },
           "text": [
            "RShoulder"
           ],
           "type": "scatter3d",
           "x": [
            -0.4747687876224518,
            -0.04000253230333328
           ],
           "y": [
            2.941310226917267,
            3.0313706398010254
           ],
           "z": [
            10.09538396447897,
            10.152241840958595
           ]
          },
          {
           "line": {
            "color": "red",
            "width": 5
           },
           "marker": {
            "color": "blue",
            "size": 2
           },
           "text": [
            "RElbow"
           ],
           "type": "scatter3d",
           "x": [
            -0.5471033453941345,
            -0.4747687876224518
           ],
           "y": [
            1.8380083590745926,
            2.941310226917267
           ],
           "z": [
            10.246636673808098,
            10.09538396447897
           ]
          },
          {
           "line": {
            "color": "red",
            "width": 5
           },
           "marker": {
            "color": "blue",
            "size": 2
           },
           "text": [
            "RWrist"
           ],
           "type": "scatter3d",
           "x": [
            -0.5773240923881531,
            -0.5471033453941345
           ],
           "y": [
            1.6552529335021973,
            1.8380083590745926
           ],
           "z": [
            10.348496109247208,
            10.246636673808098
           ]
          },
          {
           "line": {
            "color": "#1f77b4",
            "width": 1
           },
           "marker": {
            "color": "#1f77b4",
            "size": 1
           },
           "type": "scatter3d",
           "x": [
            -0.0027418718673288822,
            -0.0030006198212504387,
            -0.0030568535439670086,
            -0.0032310402020812035,
            -0.0022897955495864153,
            -0.003721669316291809,
            -0.0030518618877977133,
            -0.0027361256070435047,
            -0.002260821172967553,
            -0.0042311521247029305,
            -0.003010640386492014,
            -0.002232754835858941,
            -0.00275089661590755,
            -0.0029642798472195864,
            -0.0027666178066283464,
            -0.003079262562096119,
            -0.0035347763914614916,
            -0.0034277590457350016
           ],
           "y": [
            2.011849765665829,
            2.0113775432109833,
            2.0116708986461163,
            2.0116401202976704,
            2.0106278993189335,
            2.01270847953856,
            2.0126416264101863,
            2.0127374595031142,
            2.009408425539732,
            2.01162894628942,
            2.0095556722953916,
            2.0089589040726423,
            2.0117098232731223,
            2.0129758697003126,
            2.0117938835173845,
            2.010299876332283,
            2.0117486901581287,
            2.0099654560908675
           ],
           "z": [
            9.999753076350316,
            9.999828980944585,
            9.999864725163206,
            9.99974051915342,
            10.000227494572755,
            9.998863602988422,
            9.999546820123214,
            9.99953450699104,
            10.000100269797258,
            9.99863485316746,
            9.999725522182416,
            10.000196298409719,
            9.999859963892959,
            9.999895909975749,
            10.000027928908821,
            9.999898228386883,
            9.999798106902745,
            9.999948241515085
           ]
          }
         ],
         "name": "frame19"
        },
        {
         "data": [
          {
           "line": {
            "color": "red",
            "width": 5
           },
           "marker": {
            "color": "blue",
            "size": 2
           },
           "text": [
            "RHip"
           ],
           "type": "scatter3d",
           "x": [
            -0.1792881190776825,
            -0.0030490162316709757
           ],
           "y": [
            1.8202287554740906,
            2.0130298733711243
           ],
           "z": [
            10.115206725895405,
            10.000278516672552
           ]
          },
          {
           "line": {
            "color": "red",
            "width": 5
           },
           "marker": {
            "color": "blue",
            "size": 2
           },
           "text": [
            "RKnee"
           ],
           "type": "scatter3d",
           "x": [
            -0.10411510616540909,
            -0.1792881190776825
           ],
           "y": [
            0.9969096183776855,
            1.8202287554740906
           ],
           "z": [
            10.344664931297302,
            10.115206725895405
           ]
          },
          {
           "line": {
            "color": "red",
            "width": 5
           },
           "marker": {
            "color": "blue",
            "size": 2
           },
           "text": [
            "RAnkle"
           ],
           "type": "scatter3d",
           "x": [
            -0.06927362829446793,
            -0.10411510616540909
           ],
           "y": [
            0.09230268001556396,
            0.9969096183776855
           ],
           "z": [
            10.10187715291977,
            10.344664931297302
           ]
          },
          {
           "line": {
            "color": "black",
            "width": 5
           },
           "marker": {
            "color": "blue",
            "size": 2
           },
           "text": [
            "LHip"
           ],
           "type": "scatter3d",
           "x": [
            0.14487001299858093,
            -0.0030490162316709757
           ],
           "y": [
            1.7760981917381287,
            2.0130298733711243
           ],
           "z": [
            10.150037407875061,
            10.000278516672552
           ]
          },
          {
           "line": {
            "color": "black",
            "width": 5
           },
           "marker": {
            "color": "blue",
            "size": 2
           },
           "text": [
            "LKnee"
           ],
           "type": "scatter3d",
           "x": [
            0.1822129189968109,
            0.14487001299858093
           ],
           "y": [
            1.0153440833091736,
            1.7760981917381287
           ],
           "z": [
            10.579765141010284,
            10.150037407875061
           ]
          },
          {
           "line": {
            "color": "black",
            "width": 5
           },
           "marker": {
            "color": "blue",
            "size": 2
           },
           "text": [
            "LAnkle"
           ],
           "type": "scatter3d",
           "x": [
            0.16343526542186737,
            0.1822129189968109
           ],
           "y": [
            0.058258652687072754,
            1.0153440833091736
           ],
           "z": [
            10.487602978944778,
            10.579765141010284
           ]
          },
          {
           "line": {
            "color": "black",
            "width": 5
           },
           "marker": {
            "color": "blue",
            "size": 2
           },
           "text": [
            "Spine1"
           ],
           "type": "scatter3d",
           "x": [
            0.007847540080547333,
            -0.0030490162316709757
           ],
           "y": [
            2.500409245491028,
            2.0130298733711243
           ],
           "z": [
            10.080986067652702,
            10.000278516672552
           ]
          },
          {
           "line": {
            "color": "black",
            "width": 5
           },
           "marker": {
            "color": "blue",
            "size": 2
           },
           "text": [
            "Neck"
           ],
           "type": "scatter3d",
           "x": [
            -0.0033969953656196594,
            0.007847540080547333
           ],
           "y": [
            2.964006245136261,
            2.500409245491028
           ],
           "z": [
            10.164316713809967,
            10.080986067652702
           ]
          },
          {
           "line": {
            "color": "black",
            "width": 5
           },
           "marker": {
            "color": "blue",
            "size": 2
           },
           "text": [
            "Head"
           ],
           "type": "scatter3d",
           "x": [
            0.006248725578188896,
            -0.0033969953656196594
           ],
           "y": [
            3.175101637840271,
            2.964006245136261
           ],
           "z": [
            10.190696150064468,
            10.164316713809967
           ]
          },
          {
           "line": {
            "color": "black",
            "width": 5
           },
           "marker": {
            "color": "blue",
            "size": 2
           },
           "text": [
            "Site"
           ],
           "type": "scatter3d",
           "x": [
            0.004210676997900009,
            0.006248725578188896
           ],
           "y": [
            3.3889695405960083,
            3.175101637840271
           ],
           "z": [
            10.235333696007729,
            10.190696150064468
           ]
          },
          {
           "line": {
            "color": "black",
            "width": 5
           },
           "marker": {
            "color": "blue",
            "size": 2
           },
           "text": [
            "LShoulder"
           ],
           "type": "scatter3d",
           "x": [
            0.4166322350502014,
            -0.0033969953656196594
           ],
           "y": [
            2.9409766793251038,
            2.964006245136261
           ],
           "z": [
            10.097412660717964,
            10.164316713809967
           ]
          },
          {
           "line": {
            "color": "black",
            "width": 5
           },
           "marker": {
            "color": "blue",
            "size": 2
           },
           "text": [
            "LElbow"
           ],
           "type": "scatter3d",
           "x": [
            0.44050678610801697,
            0.4166322350502014
           ],
           "y": [
            2.0125343147665262,
            2.9409766793251038
           ],
           "z": [
            10.237089186906815,
            10.097412660717964
           ]
          },
          {
           "line": {
            "color": "black",
            "width": 5
           },
           "marker": {
            "color": "blue",
            "size": 2
           },
           "text": [
            "LWrist"
           ],
           "type": "scatter3d",
           "x": [
            0.44165581464767456,
            0.44050678610801697
           ],
           "y": [
            1.86772620677948,
            2.0125343147665262
           ],
           "z": [
            10.343409597873688,
            10.237089186906815
           ]
          },
          {
           "line": {
            "color": "red",
            "width": 5
           },
           "marker": {
            "color": "blue",
            "size": 2
           },
           "text": [
            "RShoulder"
           ],
           "type": "scatter3d",
           "x": [
            -0.41986945271492004,
            -0.0033969953656196594
           ],
           "y": [
            2.8766167759895325,
            2.964006245136261
           ],
           "z": [
            10.10612703114748,
            10.164316713809967
           ]
          },
          {
           "line": {
            "color": "red",
            "width": 5
           },
           "marker": {
            "color": "blue",
            "size": 2
           },
           "text": [
            "RElbow"
           ],
           "type": "scatter3d",
           "x": [
            -0.5258917808532715,
            -0.41986945271492004
           ],
           "y": [
            1.8894785642623901,
            2.8766167759895325
           ],
           "z": [
            10.342921048402786,
            10.10612703114748
           ]
          },
          {
           "line": {
            "color": "red",
            "width": 5
           },
           "marker": {
            "color": "blue",
            "size": 2
           },
           "text": [
            "RWrist"
           ],
           "type": "scatter3d",
           "x": [
            -0.5459286570549011,
            -0.5258917808532715
           ],
           "y": [
            1.7407523393630981,
            1.8894785642623901
           ],
           "z": [
            10.468878149986267,
            10.342921048402786
           ]
          },
          {
           "line": {
            "color": "#1f77b4",
            "width": 1
           },
           "marker": {
            "color": "#1f77b4",
            "size": 1
           },
           "type": "scatter3d",
           "x": [
            -0.0027418718673288822,
            -0.0030006198212504387,
            -0.0030568535439670086,
            -0.0032310402020812035,
            -0.0022897955495864153,
            -0.003721669316291809,
            -0.0030518618877977133,
            -0.0027361256070435047,
            -0.002260821172967553,
            -0.0042311521247029305,
            -0.003010640386492014,
            -0.002232754835858941,
            -0.00275089661590755,
            -0.0029642798472195864,
            -0.0027666178066283464,
            -0.003079262562096119,
            -0.0035347763914614916,
            -0.0034277590457350016,
            -0.002994382521137595
           ],
           "y": [
            2.011849765665829,
            2.0113775432109833,
            2.0116708986461163,
            2.0116401202976704,
            2.0106278993189335,
            2.01270847953856,
            2.0126416264101863,
            2.0127374595031142,
            2.009408425539732,
            2.01162894628942,
            2.0095556722953916,
            2.0089589040726423,
            2.0117098232731223,
            2.0129758697003126,
            2.0117938835173845,
            2.010299876332283,
            2.0117486901581287,
            2.0099654560908675,
            2.010773878544569
           ],
           "z": [
            9.999753076350316,
            9.999828980944585,
            9.999864725163206,
            9.99974051915342,
            10.000227494572755,
            9.998863602988422,
            9.999546820123214,
            9.99953450699104,
            10.000100269797258,
            9.99863485316746,
            9.999725522182416,
            10.000196298409719,
            9.999859963892959,
            9.999895909975749,
            10.000027928908821,
            9.999898228386883,
            9.999798106902745,
            9.999948241515085,
            10.000051599054132
           ]
          }
         ],
         "name": "frame20"
        },
        {
         "data": [
          {
           "line": {
            "color": "red",
            "width": 5
           },
           "marker": {
            "color": "blue",
            "size": 2
           },
           "text": [
            "RHip"
           ],
           "type": "scatter3d",
           "x": [
            -0.17113330960273743,
            -0.0032166503369808197
           ],
           "y": [
            1.8335872292518616,
            2.014864937402308
           ],
           "z": [
            10.109093509614468,
            10.000469715305371
           ]
          },
          {
           "line": {
            "color": "red",
            "width": 5
           },
           "marker": {
            "color": "blue",
            "size": 2
           },
           "text": [
            "RKnee"
           ],
           "type": "scatter3d",
           "x": [
            -0.16020697355270386,
            -0.17113330960273743
           ],
           "y": [
            1.0947690606117249,
            1.8335872292518616
           ],
           "z": [
            10.245072484016418,
            10.109093509614468
           ]
          },
          {
           "line": {
            "color": "red",
            "width": 5
           },
           "marker": {
            "color": "blue",
            "size": 2
           },
           "text": [
            "RAnkle"
           ],
           "type": "scatter3d",
           "x": [
            -0.13145293295383453,
            -0.16020697355270386
           ],
           "y": [
            0.29644668102264404,
            1.0947690606117249
           ],
           "z": [
            9.91337925195694,
            10.245072484016418
           ]
          },
          {
           "line": {
            "color": "black",
            "width": 5
           },
           "marker": {
            "color": "blue",
            "size": 2
           },
           "text": [
            "LHip"
           ],
           "type": "scatter3d",
           "x": [
            0.12769955396652222,
            -0.0032166503369808197
           ],
           "y": [
            1.7831966280937195,
            2.014864937402308
           ],
           "z": [
            10.15736798942089,
            10.000469715305371
           ]
          },
          {
           "line": {
            "color": "black",
            "width": 5
           },
           "marker": {
            "color": "blue",
            "size": 2
           },
           "text": [
            "LKnee"
           ],
           "type": "scatter3d",
           "x": [
            0.14334164559841156,
            0.12769955396652222
           ],
           "y": [
            1.0660638809204102,
            1.7831966280937195
           ],
           "z": [
            10.564156651496887,
            10.15736798942089
           ]
          },
          {
           "line": {
            "color": "black",
            "width": 5
           },
           "marker": {
            "color": "blue",
            "size": 2
           },
           "text": [
            "LAnkle"
           ],
           "type": "scatter3d",
           "x": [
            0.1900925636291504,
            0.14334164559841156
           ],
           "y": [
            0.14304840564727783,
            1.0660638809204102
           ],
           "z": [
            10.55606722831726,
            10.564156651496887
           ]
          },
          {
           "line": {
            "color": "black",
            "width": 5
           },
           "marker": {
            "color": "blue",
            "size": 2
           },
           "text": [
            "Spine1"
           ],
           "type": "scatter3d",
           "x": [
            0.010281194932758808,
            -0.0032166503369808197
           ],
           "y": [
            2.4685222506523132,
            2.014864937402308
           ],
           "z": [
            10.075412474572659,
            10.000469715305371
           ]
          },
          {
           "line": {
            "color": "black",
            "width": 5
           },
           "marker": {
            "color": "blue",
            "size": 2
           },
           "text": [
            "Neck"
           ],
           "type": "scatter3d",
           "x": [
            0.008879290893673897,
            0.010281194932758808
           ],
           "y": [
            2.9038962721824646,
            2.4685222506523132
           ],
           "z": [
            10.166160359978676,
            10.075412474572659
           ]
          },
          {
           "line": {
            "color": "black",
            "width": 5
           },
           "marker": {
            "color": "blue",
            "size": 2
           },
           "text": [
            "Head"
           ],
           "type": "scatter3d",
           "x": [
            0.014336353167891502,
            0.008879290893673897
           ],
           "y": [
            3.0945814847946167,
            2.9038962721824646
           ],
           "z": [
            10.197122007608414,
            10.166160359978676
           ]
          },
          {
           "line": {
            "color": "black",
            "width": 5
           },
           "marker": {
            "color": "blue",
            "size": 2
           },
           "text": [
            "Site"
           ],
           "type": "scatter3d",
           "x": [
            0.009411096572875977,
            0.014336353167891502
           ],
           "y": [
            3.2859184741973877,
            3.0945814847946167
           ],
           "z": [
            10.245585560798645,
            10.197122007608414
           ]
          },
          {
           "line": {
            "color": "black",
            "width": 5
           },
           "marker": {
            "color": "blue",
            "size": 2
           },
           "text": [
            "LShoulder"
           ],
           "type": "scatter3d",
           "x": [
            0.41553422808647156,
            0.008879290893673897
           ],
           "y": [
            2.8705273866653442,
            2.9038962721824646
           ],
           "z": [
            10.106065444648266,
            10.166160359978676
           ]
          },
          {
           "line": {
            "color": "black",
            "width": 5
           },
           "marker": {
            "color": "blue",
            "size": 2
           },
           "text": [
            "LElbow"
           ],
           "type": "scatter3d",
           "x": [
            0.4861717224121094,
            0.41553422808647156
           ],
           "y": [
            1.9520134218037128,
            2.8705273866653442
           ],
           "z": [
            10.196111112833023,
            10.106065444648266
           ]
          },
          {
           "line": {
            "color": "black",
            "width": 5
           },
           "marker": {
            "color": "blue",
            "size": 2
           },
           "text": [
            "LWrist"
           ],
           "type": "scatter3d",
           "x": [
            0.4975772202014923,
            0.4861717224121094
           ],
           "y": [
            1.8122451156377792,
            1.9520134218037128
           ],
           "z": [
            10.29966551065445,
            10.196111112833023
           ]
          },
          {
           "line": {
            "color": "red",
            "width": 5
           },
           "marker": {
            "color": "blue",
            "size": 2
           },
           "text": [
            "RShoulder"
           ],
           "type": "scatter3d",
           "x": [
            -0.3947114646434784,
            0.008879290893673897
           ],
           "y": [
            2.8245667815208435,
            2.9038962721824646
           ],
           "z": [
            10.092627987265587,
            10.166160359978676
           ]
          },
          {
           "line": {
            "color": "red",
            "width": 5
           },
           "marker": {
            "color": "blue",
            "size": 2
           },
           "text": [
            "RElbow"
           ],
           "type": "scatter3d",
           "x": [
            -0.520780622959137,
            -0.3947114646434784
           ],
           "y": [
            1.8716630190610886,
            2.8245667815208435
           ],
           "z": [
            10.321637600660324,
            10.092627987265587
           ]
          },
          {
           "line": {
            "color": "red",
            "width": 5
           },
           "marker": {
            "color": "blue",
            "size": 2
           },
           "text": [
            "RWrist"
           ],
           "type": "scatter3d",
           "x": [
            -0.555061936378479,
            -0.520780622959137
           ],
           "y": [
            1.7332933247089386,
            1.8716630190610886
           ],
           "z": [
            10.449198603630066,
            10.321637600660324
           ]
          },
          {
           "line": {
            "color": "#1f77b4",
            "width": 1
           },
           "marker": {
            "color": "#1f77b4",
            "size": 1
           },
           "type": "scatter3d",
           "x": [
            -0.0027418718673288822,
            -0.0030006198212504387,
            -0.0030568535439670086,
            -0.0032310402020812035,
            -0.0022897955495864153,
            -0.003721669316291809,
            -0.0030518618877977133,
            -0.0027361256070435047,
            -0.002260821172967553,
            -0.0042311521247029305,
            -0.003010640386492014,
            -0.002232754835858941,
            -0.00275089661590755,
            -0.0029642798472195864,
            -0.0027666178066283464,
            -0.003079262562096119,
            -0.0035347763914614916,
            -0.0034277590457350016,
            -0.002994382521137595,
            -0.0030490162316709757
           ],
           "y": [
            2.011849765665829,
            2.0113775432109833,
            2.0116708986461163,
            2.0116401202976704,
            2.0106278993189335,
            2.01270847953856,
            2.0126416264101863,
            2.0127374595031142,
            2.009408425539732,
            2.01162894628942,
            2.0095556722953916,
            2.0089589040726423,
            2.0117098232731223,
            2.0129758697003126,
            2.0117938835173845,
            2.010299876332283,
            2.0117486901581287,
            2.0099654560908675,
            2.010773878544569,
            2.0130298733711243
           ],
           "z": [
            9.999753076350316,
            9.999828980944585,
            9.999864725163206,
            9.99974051915342,
            10.000227494572755,
            9.998863602988422,
            9.999546820123214,
            9.99953450699104,
            10.000100269797258,
            9.99863485316746,
            9.999725522182416,
            10.000196298409719,
            9.999859963892959,
            9.999895909975749,
            10.000027928908821,
            9.999898228386883,
            9.999798106902745,
            9.999948241515085,
            10.000051599054132,
            10.000278516672552
           ]
          }
         ],
         "name": "frame21"
        },
        {
         "data": [
          {
           "line": {
            "color": "red",
            "width": 5
           },
           "marker": {
            "color": "blue",
            "size": 2
           },
           "text": [
            "RHip"
           ],
           "type": "scatter3d",
           "x": [
            -0.16779868304729462,
            -0.0032722055912017822
           ],
           "y": [
            1.8104017823934555,
            2.0138240698724985
           ],
           "z": [
            10.123357236385345,
            10.00022966240067
           ]
          },
          {
           "line": {
            "color": "red",
            "width": 5
           },
           "marker": {
            "color": "blue",
            "size": 2
           },
           "text": [
            "RKnee"
           ],
           "type": "scatter3d",
           "x": [
            -0.1685137301683426,
            -0.16779868304729462
           ],
           "y": [
            1.039260983467102,
            1.8104017823934555
           ],
           "z": [
            10.418589740991592,
            10.123357236385345
           ]
          },
          {
           "line": {
            "color": "red",
            "width": 5
           },
           "marker": {
            "color": "blue",
            "size": 2
           },
           "text": [
            "RAnkle"
           ],
           "type": "scatter3d",
           "x": [
            -0.20274081826210022,
            -0.1685137301683426
           ],
           "y": [
            0.4619044065475464,
            1.039260983467102
           ],
           "z": [
            9.799476325511932,
            10.418589740991592
           ]
          },
          {
           "line": {
            "color": "black",
            "width": 5
           },
           "marker": {
            "color": "blue",
            "size": 2
           },
           "text": [
            "LHip"
           ],
           "type": "scatter3d",
           "x": [
            0.16338267922401428,
            -0.0032722055912017822
           ],
           "y": [
            1.7932317703962326,
            2.0138240698724985
           ],
           "z": [
            10.14117805659771,
            10.00022966240067
           ]
          },
          {
           "line": {
            "color": "black",
            "width": 5
           },
           "marker": {
            "color": "blue",
            "size": 2
           },
           "text": [
            "LKnee"
           ],
           "type": "scatter3d",
           "x": [
            0.15023192763328552,
            0.16338267922401428
           ],
           "y": [
            1.0173767805099487,
            1.7932317703962326
           ],
           "z": [
            10.421472489833832,
            10.14117805659771
           ]
          },
          {
           "line": {
            "color": "black",
            "width": 5
           },
           "marker": {
            "color": "blue",
            "size": 2
           },
           "text": [
            "LAnkle"
           ],
           "type": "scatter3d",
           "x": [
            0.11736507713794708,
            0.15023192763328552
           ],
           "y": [
            0.12554430961608887,
            1.0173767805099487
           ],
           "z": [
            10.270900666713715,
            10.421472489833832
           ]
          },
          {
           "line": {
            "color": "black",
            "width": 5
           },
           "marker": {
            "color": "blue",
            "size": 2
           },
           "text": [
            "Spine1"
           ],
           "type": "scatter3d",
           "x": [
            0.009293099865317345,
            -0.0032722055912017822
           ],
           "y": [
            2.4913470447063446,
            2.0138240698724985
           ],
           "z": [
            10.06143619120121,
            10.00022966240067
           ]
          },
          {
           "line": {
            "color": "black",
            "width": 5
           },
           "marker": {
            "color": "blue",
            "size": 2
           },
           "text": [
            "Neck"
           ],
           "type": "scatter3d",
           "x": [
            0.009456463158130646,
            0.009293099865317345
           ],
           "y": [
            2.953720211982727,
            2.4913470447063446
           ],
           "z": [
            10.140817895531654,
            10.06143619120121
           ]
          },
          {
           "line": {
            "color": "black",
            "width": 5
           },
           "marker": {
            "color": "blue",
            "size": 2
           },
           "text": [
            "Head"
           ],
           "type": "scatter3d",
           "x": [
            0.025616202503442764,
            0.009456463158130646
           ],
           "y": [
            3.15098774433136,
            2.953720211982727
           ],
           "z": [
            10.174767777323723,
            10.140817895531654
           ]
          },
          {
           "line": {
            "color": "black",
            "width": 5
           },
           "marker": {
            "color": "blue",
            "size": 2
           },
           "text": [
            "Site"
           ],
           "type": "scatter3d",
           "x": [
            0.035383645445108414,
            0.025616202503442764
           ],
           "y": [
            3.3455052375793457,
            3.15098774433136
           ],
           "z": [
            10.228614866733551,
            10.174767777323723
           ]
          },
          {
           "line": {
            "color": "black",
            "width": 5
           },
           "marker": {
            "color": "blue",
            "size": 2
           },
           "text": [
            "LShoulder"
           ],
           "type": "scatter3d",
           "x": [
            0.42139124870300293,
            0.009456463158130646
           ],
           "y": [
            2.9015124440193176,
            2.953720211982727
           ],
           "z": [
            10.07214631140232,
            10.140817895531654
           ]
          },
          {
           "line": {
            "color": "black",
            "width": 5
           },
           "marker": {
            "color": "blue",
            "size": 2
           },
           "text": [
            "LElbow"
           ],
           "type": "scatter3d",
           "x": [
            0.5046356320381165,
            0.42139124870300293
           ],
           "y": [
            1.9108686223626137,
            2.9015124440193176
           ],
           "z": [
            10.131641894578934,
            10.07214631140232
           ]
          },
          {
           "line": {
            "color": "black",
            "width": 5
           },
           "marker": {
            "color": "blue",
            "size": 2
           },
           "text": [
            "LWrist"
           ],
           "type": "scatter3d",
           "x": [
            0.533747673034668,
            0.5046356320381165
           ],
           "y": [
            1.7461251020431519,
            1.9108686223626137
           ],
           "z": [
            10.239033713936806,
            10.131641894578934
           ]
          },
          {
           "line": {
            "color": "red",
            "width": 5
           },
           "marker": {
            "color": "blue",
            "size": 2
           },
           "text": [
            "RShoulder"
           ],
           "type": "scatter3d",
           "x": [
            -0.4076756238937378,
            0.009456463158130646
           ],
           "y": [
            2.884663760662079,
            2.953720211982727
           ],
           "z": [
            10.08176625519991,
            10.140817895531654
           ]
          },
          {
           "line": {
            "color": "red",
            "width": 5
           },
           "marker": {
            "color": "blue",
            "size": 2
           },
           "text": [
            "RElbow"
           ],
           "type": "scatter3d",
           "x": [
            -0.5132232904434204,
            -0.4076756238937378
           ],
           "y": [
            1.9371969550848007,
            2.884663760662079
           ],
           "z": [
            10.274777978658676,
            10.08176625519991
           ]
          },
          {
           "line": {
            "color": "red",
            "width": 5
           },
           "marker": {
            "color": "blue",
            "size": 2
           },
           "text": [
            "RWrist"
           ],
           "type": "scatter3d",
           "x": [
            -0.5462275147438049,
            -0.5132232904434204
           ],
           "y": [
            1.7938880622386932,
            1.9371969550848007
           ],
           "z": [
            10.40447986125946,
            10.274777978658676
           ]
          },
          {
           "line": {
            "color": "#1f77b4",
            "width": 1
           },
           "marker": {
            "color": "#1f77b4",
            "size": 1
           },
           "type": "scatter3d",
           "x": [
            -0.0027418718673288822,
            -0.0030006198212504387,
            -0.0030568535439670086,
            -0.0032310402020812035,
            -0.0022897955495864153,
            -0.003721669316291809,
            -0.0030518618877977133,
            -0.0027361256070435047,
            -0.002260821172967553,
            -0.0042311521247029305,
            -0.003010640386492014,
            -0.002232754835858941,
            -0.00275089661590755,
            -0.0029642798472195864,
            -0.0027666178066283464,
            -0.003079262562096119,
            -0.0035347763914614916,
            -0.0034277590457350016,
            -0.002994382521137595,
            -0.0030490162316709757,
            -0.0032166503369808197
           ],
           "y": [
            2.011849765665829,
            2.0113775432109833,
            2.0116708986461163,
            2.0116401202976704,
            2.0106278993189335,
            2.01270847953856,
            2.0126416264101863,
            2.0127374595031142,
            2.009408425539732,
            2.01162894628942,
            2.0095556722953916,
            2.0089589040726423,
            2.0117098232731223,
            2.0129758697003126,
            2.0117938835173845,
            2.010299876332283,
            2.0117486901581287,
            2.0099654560908675,
            2.010773878544569,
            2.0130298733711243,
            2.014864937402308
           ],
           "z": [
            9.999753076350316,
            9.999828980944585,
            9.999864725163206,
            9.99974051915342,
            10.000227494572755,
            9.998863602988422,
            9.999546820123214,
            9.99953450699104,
            10.000100269797258,
            9.99863485316746,
            9.999725522182416,
            10.000196298409719,
            9.999859963892959,
            9.999895909975749,
            10.000027928908821,
            9.999898228386883,
            9.999798106902745,
            9.999948241515085,
            10.000051599054132,
            10.000278516672552,
            10.000469715305371
           ]
          }
         ],
         "name": "frame22"
        },
        {
         "data": [
          {
           "line": {
            "color": "red",
            "width": 5
           },
           "marker": {
            "color": "blue",
            "size": 2
           },
           "text": [
            "RHip"
           ],
           "type": "scatter3d",
           "x": [
            -0.12263742089271545,
            -0.0027839543763548136
           ],
           "y": [
            1.8361856043338776,
            2.0131459198892117
           ],
           "z": [
            10.11376791447401,
            10.000806567142718
           ]
          },
          {
           "line": {
            "color": "red",
            "width": 5
           },
           "marker": {
            "color": "blue",
            "size": 2
           },
           "text": [
            "RKnee"
           ],
           "type": "scatter3d",
           "x": [
            -0.06882583349943161,
            -0.12263742089271545
           ],
           "y": [
            1.150452971458435,
            1.8361856043338776
           ],
           "z": [
            10.456170082092285,
            10.11376791447401
           ]
          },
          {
           "line": {
            "color": "red",
            "width": 5
           },
           "marker": {
            "color": "blue",
            "size": 2
           },
           "text": [
            "RAnkle"
           ],
           "type": "scatter3d",
           "x": [
            -0.12491098046302795,
            -0.06882583349943161
           ],
           "y": [
            0.45084965229034424,
            1.150452971458435
           ],
           "z": [
            10.052677296102047,
            10.456170082092285
           ]
          },
          {
           "line": {
            "color": "black",
            "width": 5
           },
           "marker": {
            "color": "blue",
            "size": 2
           },
           "text": [
            "LHip"
           ],
           "type": "scatter3d",
           "x": [
            0.15635062754154205,
            -0.0027839543763548136
           ],
           "y": [
            1.812034785747528,
            2.0131459198892117
           ],
           "z": [
            10.11743876338005,
            10.000806567142718
           ]
          },
          {
           "line": {
            "color": "black",
            "width": 5
           },
           "marker": {
            "color": "blue",
            "size": 2
           },
           "text": [
            "LKnee"
           ],
           "type": "scatter3d",
           "x": [
            0.1264209747314453,
            0.15635062754154205
           ],
           "y": [
            1.1009735465049744,
            1.812034785747528
           ],
           "z": [
            10.230996370315552,
            10.11743876338005
           ]
          },
          {
           "line": {
            "color": "black",
            "width": 5
           },
           "marker": {
            "color": "blue",
            "size": 2
           },
           "text": [
            "LAnkle"
           ],
           "type": "scatter3d",
           "x": [
            0.05400592088699341,
            0.1264209747314453
           ],
           "y": [
            0.34062492847442627,
            1.1009735465049744
           ],
           "z": [
            9.957377422600985,
            10.230996370315552
           ]
          },
          {
           "line": {
            "color": "black",
            "width": 5
           },
           "marker": {
            "color": "blue",
            "size": 2
           },
           "text": [
            "Spine1"
           ],
           "type": "scatter3d",
           "x": [
            0.025055496022105217,
            -0.0027839543763548136
           ],
           "y": [
            2.4282470047473907,
            2.0131459198892117
           ],
           "z": [
            10.095409855246544,
            10.000806567142718
           ]
          },
          {
           "line": {
            "color": "black",
            "width": 5
           },
           "marker": {
            "color": "blue",
            "size": 2
           },
           "text": [
            "Neck"
           ],
           "type": "scatter3d",
           "x": [
            0.02770122140645981,
            0.025055496022105217
           ],
           "y": [
            2.8329110741615295,
            2.4282470047473907
           ],
           "z": [
            10.198140516877174,
            10.095409855246544
           ]
          },
          {
           "line": {
            "color": "black",
            "width": 5
           },
           "marker": {
            "color": "blue",
            "size": 2
           },
           "text": [
            "Head"
           ],
           "type": "scatter3d",
           "x": [
            0.04411449655890465,
            0.02770122140645981
           ],
           "y": [
            3.005957245826721,
            2.8329110741615295
           ],
           "z": [
            10.226180747151375,
            10.198140516877174
           ]
          },
          {
           "line": {
            "color": "black",
            "width": 5
           },
           "marker": {
            "color": "blue",
            "size": 2
           },
           "text": [
            "Site"
           ],
           "type": "scatter3d",
           "x": [
            0.05549115687608719,
            0.04411449655890465
           ],
           "y": [
            3.184026837348938,
            3.005957245826721
           ],
           "z": [
            10.26949542760849,
            10.226180747151375
           ]
          },
          {
           "line": {
            "color": "black",
            "width": 5
           },
           "marker": {
            "color": "blue",
            "size": 2
           },
           "text": [
            "LShoulder"
           ],
           "type": "scatter3d",
           "x": [
            0.3666177988052368,
            0.02770122140645981
           ],
           "y": [
            2.784798324108124,
            2.8329110741615295
           ],
           "z": [
            10.123563341796398,
            10.198140516877174
           ]
          },
          {
           "line": {
            "color": "black",
            "width": 5
           },
           "marker": {
            "color": "blue",
            "size": 2
           },
           "text": [
            "LElbow"
           ],
           "type": "scatter3d",
           "x": [
            0.46749553084373474,
            0.3666177988052368
           ],
           "y": [
            1.9852625746279955,
            2.784798324108124
           ],
           "z": [
            10.305332005023956,
            10.123563341796398
           ]
          },
          {
           "line": {
            "color": "black",
            "width": 5
           },
           "marker": {
            "color": "blue",
            "size": 2
           },
           "text": [
            "LWrist"
           ],
           "type": "scatter3d",
           "x": [
            0.494769424200058,
            0.46749553084373474
           ],
           "y": [
            1.8734821677207947,
            1.9852625746279955
           ],
           "z": [
            10.424860686063766,
            10.305332005023956
           ]
          },
          {
           "line": {
            "color": "red",
            "width": 5
           },
           "marker": {
            "color": "blue",
            "size": 2
           },
           "text": [
            "RShoulder"
           ],
           "type": "scatter3d",
           "x": [
            -0.3375580310821533,
            0.02770122140645981
           ],
           "y": [
            2.7780149579048157,
            2.8329110741615295
           ],
           "z": [
            10.131214335560799,
            10.198140516877174
           ]
          },
          {
           "line": {
            "color": "red",
            "width": 5
           },
           "marker": {
            "color": "blue",
            "size": 2
           },
           "text": [
            "RElbow"
           ],
           "type": "scatter3d",
           "x": [
            -0.3919592797756195,
            -0.3375580310821533
           ],
           "y": [
            1.924858719110489,
            2.7780149579048157
           ],
           "z": [
            10.272694438695908,
            10.131214335560799
           ]
          },
          {
           "line": {
            "color": "red",
            "width": 5
           },
           "marker": {
            "color": "blue",
            "size": 2
           },
           "text": [
            "RWrist"
           ],
           "type": "scatter3d",
           "x": [
            -0.394128680229187,
            -0.3919592797756195
           ],
           "y": [
            1.7961344718933105,
            1.924858719110489
           ],
           "z": [
            10.386794626712799,
            10.272694438695908
           ]
          },
          {
           "line": {
            "color": "#1f77b4",
            "width": 1
           },
           "marker": {
            "color": "#1f77b4",
            "size": 1
           },
           "type": "scatter3d",
           "x": [
            -0.0027418718673288822,
            -0.0030006198212504387,
            -0.0030568535439670086,
            -0.0032310402020812035,
            -0.0022897955495864153,
            -0.003721669316291809,
            -0.0030518618877977133,
            -0.0027361256070435047,
            -0.002260821172967553,
            -0.0042311521247029305,
            -0.003010640386492014,
            -0.002232754835858941,
            -0.00275089661590755,
            -0.0029642798472195864,
            -0.0027666178066283464,
            -0.003079262562096119,
            -0.0035347763914614916,
            -0.0034277590457350016,
            -0.002994382521137595,
            -0.0030490162316709757,
            -0.0032166503369808197,
            -0.0032722055912017822
           ],
           "y": [
            2.011849765665829,
            2.0113775432109833,
            2.0116708986461163,
            2.0116401202976704,
            2.0106278993189335,
            2.01270847953856,
            2.0126416264101863,
            2.0127374595031142,
            2.009408425539732,
            2.01162894628942,
            2.0095556722953916,
            2.0089589040726423,
            2.0117098232731223,
            2.0129758697003126,
            2.0117938835173845,
            2.010299876332283,
            2.0117486901581287,
            2.0099654560908675,
            2.010773878544569,
            2.0130298733711243,
            2.014864937402308,
            2.0138240698724985
           ],
           "z": [
            9.999753076350316,
            9.999828980944585,
            9.999864725163206,
            9.99974051915342,
            10.000227494572755,
            9.998863602988422,
            9.999546820123214,
            9.99953450699104,
            10.000100269797258,
            9.99863485316746,
            9.999725522182416,
            10.000196298409719,
            9.999859963892959,
            9.999895909975749,
            10.000027928908821,
            9.999898228386883,
            9.999798106902745,
            9.999948241515085,
            10.000051599054132,
            10.000278516672552,
            10.000469715305371,
            10.00022966240067
           ]
          }
         ],
         "name": "frame23"
        },
        {
         "data": [
          {
           "line": {
            "color": "red",
            "width": 5
           },
           "marker": {
            "color": "blue",
            "size": 2
           },
           "text": [
            "RHip"
           ],
           "type": "scatter3d",
           "x": [
            -0.05465889722108841,
            -0.0036888110917061567
           ],
           "y": [
            1.9064637124538422,
            2.02232351526618
           ],
           "z": [
            10.095717385411263,
            10.001839361386374
           ]
          },
          {
           "line": {
            "color": "red",
            "width": 5
           },
           "marker": {
            "color": "blue",
            "size": 2
           },
           "text": [
            "RKnee"
           ],
           "type": "scatter3d",
           "x": [
            0.017161615192890167,
            -0.05465889722108841
           ],
           "y": [
            1.465737760066986,
            1.9064637124538422
           ],
           "z": [
            10.468389093875885,
            10.095717385411263
           ]
          },
          {
           "line": {
            "color": "red",
            "width": 5
           },
           "marker": {
            "color": "blue",
            "size": 2
           },
           "text": [
            "RAnkle"
           ],
           "type": "scatter3d",
           "x": [
            -0.024728666990995407,
            0.017161615192890167
           ],
           "y": [
            0.8579345941543579,
            1.465737760066986
           ],
           "z": [
            10.370662778615952,
            10.468389093875885
           ]
          },
          {
           "line": {
            "color": "black",
            "width": 5
           },
           "marker": {
            "color": "blue",
            "size": 2
           },
           "text": [
            "LHip"
           ],
           "type": "scatter3d",
           "x": [
            0.09745928645133972,
            -0.0036888110917061567
           ],
           "y": [
            1.8931013867259026,
            2.02232351526618
           ],
           "z": [
            10.118326134979725,
            10.001839361386374
           ]
          },
          {
           "line": {
            "color": "black",
            "width": 5
           },
           "marker": {
            "color": "blue",
            "size": 2
           },
           "text": [
            "LKnee"
           ],
           "type": "scatter3d",
           "x": [
            0.11032368242740631,
            0.09745928645133972
           ],
           "y": [
            1.416899025440216,
            1.8931013867259026
           ],
           "z": [
            10.141782015562057,
            10.118326134979725
           ]
          },
          {
           "line": {
            "color": "black",
            "width": 5
           },
           "marker": {
            "color": "blue",
            "size": 2
           },
           "text": [
            "LAnkle"
           ],
           "type": "scatter3d",
           "x": [
            0.04224038124084473,
            0.11032368242740631
           ],
           "y": [
            0.9164103269577026,
            1.416899025440216
           ],
           "z": [
            9.773645713925362,
            10.141782015562057
           ]
          },
          {
           "line": {
            "color": "black",
            "width": 5
           },
           "marker": {
            "color": "blue",
            "size": 2
           },
           "text": [
            "Spine1"
           ],
           "type": "scatter3d",
           "x": [
            0.04736790433526039,
            -0.0036888110917061567
           ],
           "y": [
            2.2860429883003235,
            2.02232351526618
           ],
           "z": [
            10.128409519791603,
            10.001839361386374
           ]
          },
          {
           "line": {
            "color": "black",
            "width": 5
           },
           "marker": {
            "color": "blue",
            "size": 2
           },
           "text": [
            "Neck"
           ],
           "type": "scatter3d",
           "x": [
            0.03501091152429581,
            0.04736790433526039
           ],
           "y": [
            2.538464665412903,
            2.2860429883003235
           ],
           "z": [
            10.28692701458931,
            10.128409519791603
           ]
          },
          {
           "line": {
            "color": "black",
            "width": 5
           },
           "marker": {
            "color": "blue",
            "size": 2
           },
           "text": [
            "Head"
           ],
           "type": "scatter3d",
           "x": [
            0.041635192930698395,
            0.03501091152429581
           ],
           "y": [
            2.6341663599014282,
            2.538464665412903
           ],
           "z": [
            10.333892494440079,
            10.28692701458931
           ]
          },
          {
           "line": {
            "color": "black",
            "width": 5
           },
           "marker": {
            "color": "blue",
            "size": 2
           },
           "text": [
            "Site"
           ],
           "type": "scatter3d",
           "x": [
            0.05757938697934151,
            0.041635192930698395
           ],
           "y": [
            2.743195414543152,
            2.6341663599014282
           ],
           "z": [
            10.38661441206932,
            10.333892494440079
           ]
          },
          {
           "line": {
            "color": "black",
            "width": 5
           },
           "marker": {
            "color": "blue",
            "size": 2
           },
           "text": [
            "LShoulder"
           ],
           "type": "scatter3d",
           "x": [
            0.2399955838918686,
            0.03501091152429581
           ],
           "y": [
            2.5097692608833313,
            2.538464665412903
           ],
           "z": [
            10.145373687148094,
            10.28692701458931
           ]
          },
          {
           "line": {
            "color": "black",
            "width": 5
           },
           "marker": {
            "color": "blue",
            "size": 2
           },
           "text": [
            "LElbow"
           ],
           "type": "scatter3d",
           "x": [
            0.3555419147014618,
            0.2399955838918686
           ],
           "y": [
            2.0342090986669064,
            2.5097692608833313
           ],
           "z": [
            10.324132025241852,
            10.145373687148094
           ]
          },
          {
           "line": {
            "color": "black",
            "width": 5
           },
           "marker": {
            "color": "blue",
            "size": 2
           },
           "text": [
            "LWrist"
           ],
           "type": "scatter3d",
           "x": [
            0.38044628500938416,
            0.3555419147014618
           ],
           "y": [
            1.9818761926144361,
            2.0342090986669064
           ],
           "z": [
            10.452433347702026,
            10.324132025241852
           ]
          },
          {
           "line": {
            "color": "red",
            "width": 5
           },
           "marker": {
            "color": "blue",
            "size": 2
           },
           "text": [
            "RShoulder"
           ],
           "type": "scatter3d",
           "x": [
            -0.19946327805519104,
            0.03501091152429581
           ],
           "y": [
            2.480586290359497,
            2.538464665412903
           ],
           "z": [
            10.225537419319153,
            10.28692701458931
           ]
          },
          {
           "line": {
            "color": "red",
            "width": 5
           },
           "marker": {
            "color": "blue",
            "size": 2
           },
           "text": [
            "RElbow"
           ],
           "type": "scatter3d",
           "x": [
            -0.2235880196094513,
            -0.19946327805519104
           ],
           "y": [
            1.9060442373156548,
            2.480586290359497
           ],
           "z": [
            10.195510804653168,
            10.225537419319153
           ]
          },
          {
           "line": {
            "color": "red",
            "width": 5
           },
           "marker": {
            "color": "blue",
            "size": 2
           },
           "text": [
            "RWrist"
           ],
           "type": "scatter3d",
           "x": [
            -0.20783212780952454,
            -0.2235880196094513
           ],
           "y": [
            1.799362689256668,
            1.9060442373156548
           ],
           "z": [
            10.231729418039322,
            10.195510804653168
           ]
          },
          {
           "line": {
            "color": "#1f77b4",
            "width": 1
           },
           "marker": {
            "color": "#1f77b4",
            "size": 1
           },
           "type": "scatter3d",
           "x": [
            -0.0027418718673288822,
            -0.0030006198212504387,
            -0.0030568535439670086,
            -0.0032310402020812035,
            -0.0022897955495864153,
            -0.003721669316291809,
            -0.0030518618877977133,
            -0.0027361256070435047,
            -0.002260821172967553,
            -0.0042311521247029305,
            -0.003010640386492014,
            -0.002232754835858941,
            -0.00275089661590755,
            -0.0029642798472195864,
            -0.0027666178066283464,
            -0.003079262562096119,
            -0.0035347763914614916,
            -0.0034277590457350016,
            -0.002994382521137595,
            -0.0030490162316709757,
            -0.0032166503369808197,
            -0.0032722055912017822,
            -0.0027839543763548136
           ],
           "y": [
            2.011849765665829,
            2.0113775432109833,
            2.0116708986461163,
            2.0116401202976704,
            2.0106278993189335,
            2.01270847953856,
            2.0126416264101863,
            2.0127374595031142,
            2.009408425539732,
            2.01162894628942,
            2.0095556722953916,
            2.0089589040726423,
            2.0117098232731223,
            2.0129758697003126,
            2.0117938835173845,
            2.010299876332283,
            2.0117486901581287,
            2.0099654560908675,
            2.010773878544569,
            2.0130298733711243,
            2.014864937402308,
            2.0138240698724985,
            2.0131459198892117
           ],
           "z": [
            9.999753076350316,
            9.999828980944585,
            9.999864725163206,
            9.99974051915342,
            10.000227494572755,
            9.998863602988422,
            9.999546820123214,
            9.99953450699104,
            10.000100269797258,
            9.99863485316746,
            9.999725522182416,
            10.000196298409719,
            9.999859963892959,
            9.999895909975749,
            10.000027928908821,
            9.999898228386883,
            9.999798106902745,
            9.999948241515085,
            10.000051599054132,
            10.000278516672552,
            10.000469715305371,
            10.00022966240067,
            10.000806567142718
           ]
          }
         ],
         "name": "frame24"
        },
        {
         "data": [
          {
           "line": {
            "color": "red",
            "width": 5
           },
           "marker": {
            "color": "blue",
            "size": 2
           },
           "text": [
            "RHip"
           ],
           "type": "scatter3d",
           "x": [
            -0.05012669786810875,
            -0.004391905851662159
           ],
           "y": [
            1.9392871484160423,
            2.034904159605503
           ],
           "z": [
            10.088190898299217,
            10.001958452630788
           ]
          },
          {
           "line": {
            "color": "red",
            "width": 5
           },
           "marker": {
            "color": "blue",
            "size": 2
           },
           "text": [
            "RKnee"
           ],
           "type": "scatter3d",
           "x": [
            0.03737146779894829,
            -0.05012669786810875
           ],
           "y": [
            1.6064379215240479,
            1.9392871484160423
           ],
           "z": [
            10.42729115486145,
            10.088190898299217
           ]
          },
          {
           "line": {
            "color": "red",
            "width": 5
           },
           "marker": {
            "color": "blue",
            "size": 2
           },
           "text": [
            "RAnkle"
           ],
           "type": "scatter3d",
           "x": [
            -0.013812563382089138,
            0.03737146779894829
           ],
           "y": [
            1.0903709530830383,
            1.6064379215240479
           ],
           "z": [
            10.221315026283264,
            10.42729115486145
           ]
          },
          {
           "line": {
            "color": "black",
            "width": 5
           },
           "marker": {
            "color": "blue",
            "size": 2
           },
           "text": [
            "LHip"
           ],
           "type": "scatter3d",
           "x": [
            0.09661991894245148,
            -0.004391905851662159
           ],
           "y": [
            1.9282691925764084,
            2.034904159605503
           ],
           "z": [
            10.142729103565216,
            10.001958452630788
           ]
          },
          {
           "line": {
            "color": "black",
            "width": 5
           },
           "marker": {
            "color": "blue",
            "size": 2
           },
           "text": [
            "LKnee"
           ],
           "type": "scatter3d",
           "x": [
            0.13077732920646667,
            0.09661991894245148
           ],
           "y": [
            1.4847424030303955,
            1.9282691925764084
           ],
           "z": [
            10.186596602201462,
            10.142729103565216
           ]
          },
          {
           "line": {
            "color": "black",
            "width": 5
           },
           "marker": {
            "color": "blue",
            "size": 2
           },
           "text": [
            "LAnkle"
           ],
           "type": "scatter3d",
           "x": [
            0.013743310235440731,
            0.13077732920646667
           ],
           "y": [
            1.223160982131958,
            1.4847424030303955
           ],
           "z": [
            9.652049601078033,
            10.186596602201462
           ]
          },
          {
           "line": {
            "color": "black",
            "width": 5
           },
           "marker": {
            "color": "blue",
            "size": 2
           },
           "text": [
            "Spine1"
           ],
           "type": "scatter3d",
           "x": [
            0.03223409876227379,
            -0.004391905851662159
           ],
           "y": [
            2.2293937653303146,
            2.034904159605503
           ],
           "z": [
            10.150075227022171,
            10.001958452630788
           ]
          },
          {
           "line": {
            "color": "black",
            "width": 5
           },
           "marker": {
            "color": "blue",
            "size": 2
           },
           "text": [
            "Neck"
           ],
           "type": "scatter3d",
           "x": [
            0.0008458029478788376,
            0.03223409876227379
           ],
           "y": [
            2.422552078962326,
            2.2293937653303146
           ],
           "z": [
            10.339704900979996,
            10.150075227022171
           ]
          },
          {
           "line": {
            "color": "black",
            "width": 5
           },
           "marker": {
            "color": "blue",
            "size": 2
           },
           "text": [
            "Head"
           ],
           "type": "scatter3d",
           "x": [
            0.011852575466036797,
            0.0008458029478788376
           ],
           "y": [
            2.4845109283924103,
            2.422552078962326
           ],
           "z": [
            10.392681539058685,
            10.339704900979996
           ]
          },
          {
           "line": {
            "color": "black",
            "width": 5
           },
           "marker": {
            "color": "blue",
            "size": 2
           },
           "text": [
            "Site"
           ],
           "type": "scatter3d",
           "x": [
            0.03426876664161682,
            0.011852575466036797
           ],
           "y": [
            2.5591635704040527,
            2.4845109283924103
           ],
           "z": [
            10.450562804937363,
            10.392681539058685
           ]
          },
          {
           "line": {
            "color": "black",
            "width": 5
           },
           "marker": {
            "color": "blue",
            "size": 2
           },
           "text": [
            "LShoulder"
           ],
           "type": "scatter3d",
           "x": [
            0.16378092765808105,
            0.0008458029478788376
           ],
           "y": [
            2.398522824048996,
            2.422552078962326
           ],
           "z": [
            10.199174344539642,
            10.339704900979996
           ]
          },
          {
           "line": {
            "color": "black",
            "width": 5
           },
           "marker": {
            "color": "blue",
            "size": 2
           },
           "text": [
            "LElbow"
           ],
           "type": "scatter3d",
           "x": [
            0.25460511445999146,
            0.16378092765808105
           ],
           "y": [
            2.009429045021534,
            2.398522824048996
           ],
           "z": [
            10.352916240692139,
            10.199174344539642
           ]
          },
          {
           "line": {
            "color": "black",
            "width": 5
           },
           "marker": {
            "color": "blue",
            "size": 2
           },
           "text": [
            "LWrist"
           ],
           "type": "scatter3d",
           "x": [
            0.27007827162742615,
            0.25460511445999146
           ],
           "y": [
            1.9659108631312847,
            2.009429045021534
           ],
           "z": [
            10.478692382574081,
            10.352916240692139
           ]
          },
          {
           "line": {
            "color": "red",
            "width": 5
           },
           "marker": {
            "color": "blue",
            "size": 2
           },
           "text": [
            "RShoulder"
           ],
           "type": "scatter3d",
           "x": [
            -0.20113898813724518,
            0.0008458029478788376
           ],
           "y": [
            2.3522722125053406,
            2.422552078962326
           ],
           "z": [
            10.243960782885551,
            10.339704900979996
           ]
          },
          {
           "line": {
            "color": "red",
            "width": 5
           },
           "marker": {
            "color": "blue",
            "size": 2
           },
           "text": [
            "RElbow"
           ],
           "type": "scatter3d",
           "x": [
            -0.19207420945167542,
            -0.20113898813724518
           ],
           "y": [
            1.9021361619234085,
            2.3522722125053406
           ],
           "z": [
            10.179304644465446,
            10.243960782885551
           ]
          },
          {
           "line": {
            "color": "red",
            "width": 5
           },
           "marker": {
            "color": "blue",
            "size": 2
           },
           "text": [
            "RWrist"
           ],
           "type": "scatter3d",
           "x": [
            -0.17631055414676666,
            -0.19207420945167542
           ],
           "y": [
            1.8104564994573593,
            1.9021361619234085
           ],
           "z": [
            10.191311746835709,
            10.179304644465446
           ]
          },
          {
           "line": {
            "color": "#1f77b4",
            "width": 1
           },
           "marker": {
            "color": "#1f77b4",
            "size": 1
           },
           "type": "scatter3d",
           "x": [
            -0.0027418718673288822,
            -0.0030006198212504387,
            -0.0030568535439670086,
            -0.0032310402020812035,
            -0.0022897955495864153,
            -0.003721669316291809,
            -0.0030518618877977133,
            -0.0027361256070435047,
            -0.002260821172967553,
            -0.0042311521247029305,
            -0.003010640386492014,
            -0.002232754835858941,
            -0.00275089661590755,
            -0.0029642798472195864,
            -0.0027666178066283464,
            -0.003079262562096119,
            -0.0035347763914614916,
            -0.0034277590457350016,
            -0.002994382521137595,
            -0.0030490162316709757,
            -0.0032166503369808197,
            -0.0032722055912017822,
            -0.0027839543763548136,
            -0.0036888110917061567
           ],
           "y": [
            2.011849765665829,
            2.0113775432109833,
            2.0116708986461163,
            2.0116401202976704,
            2.0106278993189335,
            2.01270847953856,
            2.0126416264101863,
            2.0127374595031142,
            2.009408425539732,
            2.01162894628942,
            2.0095556722953916,
            2.0089589040726423,
            2.0117098232731223,
            2.0129758697003126,
            2.0117938835173845,
            2.010299876332283,
            2.0117486901581287,
            2.0099654560908675,
            2.010773878544569,
            2.0130298733711243,
            2.014864937402308,
            2.0138240698724985,
            2.0131459198892117,
            2.02232351526618
           ],
           "z": [
            9.999753076350316,
            9.999828980944585,
            9.999864725163206,
            9.99974051915342,
            10.000227494572755,
            9.998863602988422,
            9.999546820123214,
            9.99953450699104,
            10.000100269797258,
            9.99863485316746,
            9.999725522182416,
            10.000196298409719,
            9.999859963892959,
            9.999895909975749,
            10.000027928908821,
            9.999898228386883,
            9.999798106902745,
            9.999948241515085,
            10.000051599054132,
            10.000278516672552,
            10.000469715305371,
            10.00022966240067,
            10.000806567142718,
            10.001839361386374
           ]
          }
         ],
         "name": "frame25"
        },
        {
         "data": [
          {
           "line": {
            "color": "red",
            "width": 5
           },
           "marker": {
            "color": "blue",
            "size": 2
           },
           "text": [
            "RHip"
           ],
           "type": "scatter3d",
           "x": [
            -0.08477194607257843,
            -0.00478758430108428
           ],
           "y": [
            1.9392212145030499,
            2.0213879719376564
           ],
           "z": [
            10.102708034217358,
            10.001630772370845
           ]
          },
          {
           "line": {
            "color": "red",
            "width": 5
           },
           "marker": {
            "color": "blue",
            "size": 2
           },
           "text": [
            "RKnee"
           ],
           "type": "scatter3d",
           "x": [
            -0.021963346749544144,
            -0.08477194607257843
           ],
           "y": [
            1.663555234670639,
            1.9392212145030499
           ],
           "z": [
            10.350248247385025,
            10.102708034217358
           ]
          },
          {
           "line": {
            "color": "red",
            "width": 5
           },
           "marker": {
            "color": "blue",
            "size": 2
           },
           "text": [
            "RAnkle"
           ],
           "type": "scatter3d",
           "x": [
            -0.05947241559624672,
            -0.021963346749544144
           ],
           "y": [
            1.2465431690216064,
            1.663555234670639
           ],
           "z": [
            10.057943742722273,
            10.350248247385025
           ]
          },
          {
           "line": {
            "color": "black",
            "width": 5
           },
           "marker": {
            "color": "blue",
            "size": 2
           },
           "text": [
            "LHip"
           ],
           "type": "scatter3d",
           "x": [
            0.10119420289993286,
            -0.00478758430108428
           ],
           "y": [
            1.9327755272388458,
            2.0213879719376564
           ],
           "z": [
            10.131366148591042,
            10.001630772370845
           ]
          },
          {
           "line": {
            "color": "black",
            "width": 5
           },
           "marker": {
            "color": "blue",
            "size": 2
           },
           "text": [
            "LKnee"
           ],
           "type": "scatter3d",
           "x": [
            0.17099732160568237,
            0.10119420289993286
           ],
           "y": [
            1.5539705157279968,
            1.9327755272388458
           ],
           "z": [
            10.288814008235931,
            10.131366148591042
           ]
          },
          {
           "line": {
            "color": "black",
            "width": 5
           },
           "marker": {
            "color": "blue",
            "size": 2
           },
           "text": [
            "LAnkle"
           ],
           "type": "scatter3d",
           "x": [
            0.05947317183017731,
            0.17099732160568237
           ],
           "y": [
            1.4584944248199463,
            1.5539705157279968
           ],
           "z": [
            9.53675365447998,
            10.288814008235931
           ]
          },
          {
           "line": {
            "color": "black",
            "width": 5
           },
           "marker": {
            "color": "blue",
            "size": 2
           },
           "text": [
            "Spine1"
           ],
           "type": "scatter3d",
           "x": [
            0.018034279346466064,
            -0.00478758430108428
           ],
           "y": [
            2.204100877046585,
            2.0213879719376564
           ],
           "z": [
            10.135949701070786,
            10.001630772370845
           ]
          },
          {
           "line": {
            "color": "black",
            "width": 5
           },
           "marker": {
            "color": "blue",
            "size": 2
           },
           "text": [
            "Neck"
           ],
           "type": "scatter3d",
           "x": [
            -0.00890813022851944,
            0.018034279346466064
           ],
           "y": [
            2.3622295558452606,
            2.204100877046585
           ],
           "z": [
            10.283051401376724,
            10.135949701070786
           ]
          },
          {
           "line": {
            "color": "black",
            "width": 5
           },
           "marker": {
            "color": "blue",
            "size": 2
           },
           "text": [
            "Head"
           ],
           "type": "scatter3d",
           "x": [
            -0.022023484110832214,
            -0.00890813022851944
           ],
           "y": [
            2.4229674339294434,
            2.3622295558452606
           ],
           "z": [
            10.324994325637817,
            10.283051401376724
           ]
          },
          {
           "line": {
            "color": "black",
            "width": 5
           },
           "marker": {
            "color": "blue",
            "size": 2
           },
           "text": [
            "Site"
           ],
           "type": "scatter3d",
           "x": [
            -0.030336610972881317,
            -0.022023484110832214
           ],
           "y": [
            2.495175987482071,
            2.4229674339294434
           ],
           "z": [
            10.375465333461761,
            10.324994325637817
           ]
          },
          {
           "line": {
            "color": "black",
            "width": 5
           },
           "marker": {
            "color": "blue",
            "size": 2
           },
           "text": [
            "LShoulder"
           ],
           "type": "scatter3d",
           "x": [
            0.197150319814682,
            -0.00890813022851944
           ],
           "y": [
            2.3687000274658203,
            2.3622295558452606
           ],
           "z": [
            10.176085293293,
            10.283051401376724
           ]
          },
          {
           "line": {
            "color": "black",
            "width": 5
           },
           "marker": {
            "color": "blue",
            "size": 2
           },
           "text": [
            "LElbow"
           ],
           "type": "scatter3d",
           "x": [
            0.20874080061912537,
            0.197150319814682
           ],
           "y": [
            1.9418143704533577,
            2.3687000274658203
           ],
           "z": [
            10.416342556476593,
            10.176085293293
           ]
          },
          {
           "line": {
            "color": "black",
            "width": 5
           },
           "marker": {
            "color": "blue",
            "size": 2
           },
           "text": [
            "LWrist"
           ],
           "type": "scatter3d",
           "x": [
            0.237222820520401,
            0.20874080061912537
           ],
           "y": [
            1.839002013206482,
            1.9418143704533577
           ],
           "z": [
            10.56838858127594,
            10.416342556476593
           ]
          },
          {
           "line": {
            "color": "red",
            "width": 5
           },
           "marker": {
            "color": "blue",
            "size": 2
           },
           "text": [
            "RShoulder"
           ],
           "type": "scatter3d",
           "x": [
            -0.22084443271160126,
            -0.00890813022851944
           ],
           "y": [
            2.2862529158592224,
            2.3622295558452606
           ],
           "z": [
            10.196734577417374,
            10.283051401376724
           ]
          },
          {
           "line": {
            "color": "red",
            "width": 5
           },
           "marker": {
            "color": "blue",
            "size": 2
           },
           "text": [
            "RElbow"
           ],
           "type": "scatter3d",
           "x": [
            -0.269657164812088,
            -0.22084443271160126
           ],
           "y": [
            1.8389770090579987,
            2.2862529158592224
           ],
           "z": [
            10.202306151390076,
            10.196734577417374
           ]
          },
          {
           "line": {
            "color": "red",
            "width": 5
           },
           "marker": {
            "color": "blue",
            "size": 2
           },
           "text": [
            "RWrist"
           ],
           "type": "scatter3d",
           "x": [
            -0.24610742926597595,
            -0.269657164812088
           ],
           "y": [
            1.7208750545978546,
            1.8389770090579987
           ],
           "z": [
            10.277134627103806,
            10.202306151390076
           ]
          },
          {
           "line": {
            "color": "#1f77b4",
            "width": 1
           },
           "marker": {
            "color": "#1f77b4",
            "size": 1
           },
           "type": "scatter3d",
           "x": [
            -0.0027418718673288822,
            -0.0030006198212504387,
            -0.0030568535439670086,
            -0.0032310402020812035,
            -0.0022897955495864153,
            -0.003721669316291809,
            -0.0030518618877977133,
            -0.0027361256070435047,
            -0.002260821172967553,
            -0.0042311521247029305,
            -0.003010640386492014,
            -0.002232754835858941,
            -0.00275089661590755,
            -0.0029642798472195864,
            -0.0027666178066283464,
            -0.003079262562096119,
            -0.0035347763914614916,
            -0.0034277590457350016,
            -0.002994382521137595,
            -0.0030490162316709757,
            -0.0032166503369808197,
            -0.0032722055912017822,
            -0.0027839543763548136,
            -0.0036888110917061567,
            -0.004391905851662159
           ],
           "y": [
            2.011849765665829,
            2.0113775432109833,
            2.0116708986461163,
            2.0116401202976704,
            2.0106278993189335,
            2.01270847953856,
            2.0126416264101863,
            2.0127374595031142,
            2.009408425539732,
            2.01162894628942,
            2.0095556722953916,
            2.0089589040726423,
            2.0117098232731223,
            2.0129758697003126,
            2.0117938835173845,
            2.010299876332283,
            2.0117486901581287,
            2.0099654560908675,
            2.010773878544569,
            2.0130298733711243,
            2.014864937402308,
            2.0138240698724985,
            2.0131459198892117,
            2.02232351526618,
            2.034904159605503
           ],
           "z": [
            9.999753076350316,
            9.999828980944585,
            9.999864725163206,
            9.99974051915342,
            10.000227494572755,
            9.998863602988422,
            9.999546820123214,
            9.99953450699104,
            10.000100269797258,
            9.99863485316746,
            9.999725522182416,
            10.000196298409719,
            9.999859963892959,
            9.999895909975749,
            10.000027928908821,
            9.999898228386883,
            9.999798106902745,
            9.999948241515085,
            10.000051599054132,
            10.000278516672552,
            10.000469715305371,
            10.00022966240067,
            10.000806567142718,
            10.001839361386374,
            10.001958452630788
           ]
          }
         ],
         "name": "frame26"
        },
        {
         "data": [
          {
           "line": {
            "color": "red",
            "width": 5
           },
           "marker": {
            "color": "blue",
            "size": 2
           },
           "text": [
            "RHip"
           ],
           "type": "scatter3d",
           "x": [
            -0.07210123538970947,
            -0.004476655274629593
           ],
           "y": [
            1.938847478479147,
            2.0244327913969755
           ],
           "z": [
            10.08731696754694,
            10.001845440361649
           ]
          },
          {
           "line": {
            "color": "red",
            "width": 5
           },
           "marker": {
            "color": "blue",
            "size": 2
           },
           "text": [
            "RKnee"
           ],
           "type": "scatter3d",
           "x": [
            -0.007054224610328674,
            -0.07210123538970947
           ],
           "y": [
            1.7004743814468384,
            1.938847478479147
           ],
           "z": [
            10.299708038568497,
            10.08731696754694
           ]
          },
          {
           "line": {
            "color": "red",
            "width": 5
           },
           "marker": {
            "color": "blue",
            "size": 2
           },
           "text": [
            "RAnkle"
           ],
           "type": "scatter3d",
           "x": [
            -0.026142863556742668,
            -0.007054224610328674
           ],
           "y": [
            1.3409377932548523,
            1.7004743814468384
           ],
           "z": [
            9.935138173401356,
            10.299708038568497
           ]
          },
          {
           "line": {
            "color": "black",
            "width": 5
           },
           "marker": {
            "color": "blue",
            "size": 2
           },
           "text": [
            "LHip"
           ],
           "type": "scatter3d",
           "x": [
            0.06035084277391434,
            -0.004476655274629593
           ],
           "y": [
            1.943236205726862,
            2.0244327913969755
           ],
           "z": [
            10.132614493370056,
            10.001845440361649
           ]
          },
          {
           "line": {
            "color": "black",
            "width": 5
           },
           "marker": {
            "color": "blue",
            "size": 2
           },
           "text": [
            "LKnee"
           ],
           "type": "scatter3d",
           "x": [
            0.0956999734044075,
            0.06035084277391434
           ],
           "y": [
            1.7349488139152527,
            1.943236205726862
           ],
           "z": [
            10.31130176782608,
            10.132614493370056
           ]
          },
          {
           "line": {
            "color": "black",
            "width": 5
           },
           "marker": {
            "color": "blue",
            "size": 2
           },
           "text": [
            "LAnkle"
           ],
           "type": "scatter3d",
           "x": [
            0.12473947554826736,
            0.0956999734044075
           ],
           "y": [
            1.4126697182655334,
            1.7349488139152527
           ],
           "z": [
            9.903462022542953,
            10.31130176782608
           ]
          },
          {
           "line": {
            "color": "black",
            "width": 5
           },
           "marker": {
            "color": "blue",
            "size": 2
           },
           "text": [
            "Spine1"
           ],
           "type": "scatter3d",
           "x": [
            0.0025305391754955053,
            -0.004476655274629593
           ],
           "y": [
            2.1809126436710358,
            2.0244327913969755
           ],
           "z": [
            10.127249076962471,
            10.001845440361649
           ]
          },
          {
           "line": {
            "color": "black",
            "width": 5
           },
           "marker": {
            "color": "blue",
            "size": 2
           },
           "text": [
            "Neck"
           ],
           "type": "scatter3d",
           "x": [
            -0.024244612082839012,
            0.0025305391754955053
           ],
           "y": [
            2.314389556646347,
            2.1809126436710358
           ],
           "z": [
            10.265856295824051,
            10.127249076962471
           ]
          },
          {
           "line": {
            "color": "black",
            "width": 5
           },
           "marker": {
            "color": "blue",
            "size": 2
           },
           "text": [
            "Head"
           ],
           "type": "scatter3d",
           "x": [
            -0.044811658561229706,
            -0.024244612082839012
           ],
           "y": [
            2.3635595440864563,
            2.314389556646347
           ],
           "z": [
            10.312085539102554,
            10.265856295824051
           ]
          },
          {
           "line": {
            "color": "black",
            "width": 5
           },
           "marker": {
            "color": "blue",
            "size": 2
           },
           "text": [
            "Site"
           ],
           "type": "scatter3d",
           "x": [
            -0.06548596173524857,
            -0.044811658561229706
           ],
           "y": [
            2.4275103211402893,
            2.3635595440864563
           ],
           "z": [
            10.370860785245895,
            10.312085539102554
           ]
          },
          {
           "line": {
            "color": "black",
            "width": 5
           },
           "marker": {
            "color": "blue",
            "size": 2
           },
           "text": [
            "LShoulder"
           ],
           "type": "scatter3d",
           "x": [
            0.14484438300132751,
            -0.024244612082839012
           ],
           "y": [
            2.3482920825481415,
            2.314389556646347
           ],
           "z": [
            10.196482464671135,
            10.265856295824051
           ]
          },
          {
           "line": {
            "color": "black",
            "width": 5
           },
           "marker": {
            "color": "blue",
            "size": 2
           },
           "text": [
            "LElbow"
           ],
           "type": "scatter3d",
           "x": [
            0.09148163348436356,
            0.14484438300132751
           ],
           "y": [
            1.975136686116457,
            2.3482920825481415
           ],
           "z": [
            10.447357833385468,
            10.196482464671135
           ]
          },
          {
           "line": {
            "color": "black",
            "width": 5
           },
           "marker": {
            "color": "blue",
            "size": 2
           },
           "text": [
            "LWrist"
           ],
           "type": "scatter3d",
           "x": [
            0.08640637993812561,
            0.09148163348436356
           ],
           "y": [
            1.891411453485489,
            1.975136686116457
           ],
           "z": [
            10.563617587089539,
            10.447357833385468
           ]
          },
          {
           "line": {
            "color": "red",
            "width": 5
           },
           "marker": {
            "color": "blue",
            "size": 2
           },
           "text": [
            "RShoulder"
           ],
           "type": "scatter3d",
           "x": [
            -0.209013432264328,
            -0.024244612082839012
           ],
           "y": [
            2.2379552721977234,
            2.314389556646347
           ],
           "z": [
            10.159018397331238,
            10.265856295824051
           ]
          },
          {
           "line": {
            "color": "red",
            "width": 5
           },
           "marker": {
            "color": "blue",
            "size": 2
           },
           "text": [
            "RElbow"
           ],
           "type": "scatter3d",
           "x": [
            -0.22367867827415466,
            -0.209013432264328
           ],
           "y": [
            1.8796266466379166,
            2.2379552721977234
           ],
           "z": [
            10.221164509654045,
            10.159018397331238
           ]
          },
          {
           "line": {
            "color": "red",
            "width": 5
           },
           "marker": {
            "color": "blue",
            "size": 2
           },
           "text": [
            "RWrist"
           ],
           "type": "scatter3d",
           "x": [
            -0.20050963759422302,
            -0.22367867827415466
           ],
           "y": [
            1.7943387031555176,
            1.8796266466379166
           ],
           "z": [
            10.308988809585571,
            10.221164509654045
           ]
          },
          {
           "line": {
            "color": "#1f77b4",
            "width": 1
           },
           "marker": {
            "color": "#1f77b4",
            "size": 1
           },
           "type": "scatter3d",
           "x": [
            -0.0027418718673288822,
            -0.0030006198212504387,
            -0.0030568535439670086,
            -0.0032310402020812035,
            -0.0022897955495864153,
            -0.003721669316291809,
            -0.0030518618877977133,
            -0.0027361256070435047,
            -0.002260821172967553,
            -0.0042311521247029305,
            -0.003010640386492014,
            -0.002232754835858941,
            -0.00275089661590755,
            -0.0029642798472195864,
            -0.0027666178066283464,
            -0.003079262562096119,
            -0.0035347763914614916,
            -0.0034277590457350016,
            -0.002994382521137595,
            -0.0030490162316709757,
            -0.0032166503369808197,
            -0.0032722055912017822,
            -0.0027839543763548136,
            -0.0036888110917061567,
            -0.004391905851662159,
            -0.00478758430108428
           ],
           "y": [
            2.011849765665829,
            2.0113775432109833,
            2.0116708986461163,
            2.0116401202976704,
            2.0106278993189335,
            2.01270847953856,
            2.0126416264101863,
            2.0127374595031142,
            2.009408425539732,
            2.01162894628942,
            2.0095556722953916,
            2.0089589040726423,
            2.0117098232731223,
            2.0129758697003126,
            2.0117938835173845,
            2.010299876332283,
            2.0117486901581287,
            2.0099654560908675,
            2.010773878544569,
            2.0130298733711243,
            2.014864937402308,
            2.0138240698724985,
            2.0131459198892117,
            2.02232351526618,
            2.034904159605503,
            2.0213879719376564
           ],
           "z": [
            9.999753076350316,
            9.999828980944585,
            9.999864725163206,
            9.99974051915342,
            10.000227494572755,
            9.998863602988422,
            9.999546820123214,
            9.99953450699104,
            10.000100269797258,
            9.99863485316746,
            9.999725522182416,
            10.000196298409719,
            9.999859963892959,
            9.999895909975749,
            10.000027928908821,
            9.999898228386883,
            9.999798106902745,
            9.999948241515085,
            10.000051599054132,
            10.000278516672552,
            10.000469715305371,
            10.00022966240067,
            10.000806567142718,
            10.001839361386374,
            10.001958452630788,
            10.001630772370845
           ]
          }
         ],
         "name": "frame27"
        },
        {
         "data": [
          {
           "line": {
            "color": "red",
            "width": 5
           },
           "marker": {
            "color": "blue",
            "size": 2
           },
           "text": [
            "RHip"
           ],
           "type": "scatter3d",
           "x": [
            -0.03773719072341919,
            -0.005220502149313688
           ],
           "y": [
            1.996857412159443,
            2.044565089046955
           ],
           "z": [
            10.08391772210598,
            10.001452907221392
           ]
          },
          {
           "line": {
            "color": "red",
            "width": 5
           },
           "marker": {
            "color": "blue",
            "size": 2
           },
           "text": [
            "RKnee"
           ],
           "type": "scatter3d",
           "x": [
            -0.05280465632677078,
            -0.03773719072341919
           ],
           "y": [
            1.9054975509643555,
            1.996857412159443
           ],
           "z": [
            10.3576600253582,
            10.08391772210598
           ]
          },
          {
           "line": {
            "color": "red",
            "width": 5
           },
           "marker": {
            "color": "blue",
            "size": 2
           },
           "text": [
            "RAnkle"
           ],
           "type": "scatter3d",
           "x": [
            -0.09648219496011734,
            -0.05280465632677078
           ],
           "y": [
            1.648507833480835,
            1.9054975509643555
           ],
           "z": [
            9.887085802853107,
            10.3576600253582
           ]
          },
          {
           "line": {
            "color": "black",
            "width": 5
           },
           "marker": {
            "color": "blue",
            "size": 2
           },
           "text": [
            "LHip"
           ],
           "type": "scatter3d",
           "x": [
            -0.013569267466664314,
            -0.005220502149313688
           ],
           "y": [
            2.004935346543789,
            2.044565089046955
           ],
           "z": [
            10.18769283592701,
            10.001452907221392
           ]
          },
          {
           "line": {
            "color": "black",
            "width": 5
           },
           "marker": {
            "color": "blue",
            "size": 2
           },
           "text": [
            "LKnee"
           ],
           "type": "scatter3d",
           "x": [
            -0.023701302707195282,
            -0.013569267466664314
           ],
           "y": [
            1.99222794175148,
            2.004935346543789
           ],
           "z": [
            10.429416596889496,
            10.18769283592701
           ]
          },
          {
           "line": {
            "color": "black",
            "width": 5
           },
           "marker": {
            "color": "blue",
            "size": 2
           },
           "text": [
            "LAnkle"
           ],
           "type": "scatter3d",
           "x": [
            0.08522802591323853,
            -0.023701302707195282
           ],
           "y": [
            1.8405722975730896,
            1.99222794175148
           ],
           "z": [
            10.22433415055275,
            10.429416596889496
           ]
          },
          {
           "line": {
            "color": "black",
            "width": 5
           },
           "marker": {
            "color": "blue",
            "size": 2
           },
           "text": [
            "Spine1"
           ],
           "type": "scatter3d",
           "x": [
            -0.021112971007823944,
            -0.005220502149313688
           ],
           "y": [
            2.08002732694149,
            2.044565089046955
           ],
           "z": [
            10.139323949813843,
            10.001452907221392
           ]
          },
          {
           "line": {
            "color": "black",
            "width": 5
           },
           "marker": {
            "color": "blue",
            "size": 2
           },
           "text": [
            "Neck"
           ],
           "type": "scatter3d",
           "x": [
            -0.062231581658124924,
            -0.021112971007823944
           ],
           "y": [
            2.1067306846380234,
            2.08002732694149
           ],
           "z": [
            10.315521508455276,
            10.139323949813843
           ]
          },
          {
           "line": {
            "color": "black",
            "width": 5
           },
           "marker": {
            "color": "blue",
            "size": 2
           },
           "text": [
            "Head"
           ],
           "type": "scatter3d",
           "x": [
            -0.09169304370880127,
            -0.062231581658124924
           ],
           "y": [
            2.0918298214673996,
            2.1067306846380234
           ],
           "z": [
            10.387829750776291,
            10.315521508455276
           ]
          },
          {
           "line": {
            "color": "black",
            "width": 5
           },
           "marker": {
            "color": "blue",
            "size": 2
           },
           "text": [
            "Site"
           ],
           "type": "scatter3d",
           "x": [
            -0.12612764537334442,
            -0.09169304370880127
           ],
           "y": [
            2.0920505672693253,
            2.0918298214673996
           ],
           "z": [
            10.4691361784935,
            10.387829750776291
           ]
          },
          {
           "line": {
            "color": "black",
            "width": 5
           },
           "marker": {
            "color": "blue",
            "size": 2
           },
           "text": [
            "LShoulder"
           ],
           "type": "scatter3d",
           "x": [
            -0.022977784276008606,
            -0.062231581658124924
           ],
           "y": [
            2.1577647775411606,
            2.1067306846380234
           ],
           "z": [
            10.248491913080215,
            10.315521508455276
           ]
          },
          {
           "line": {
            "color": "black",
            "width": 5
           },
           "marker": {
            "color": "blue",
            "size": 2
           },
           "text": [
            "LElbow"
           ],
           "type": "scatter3d",
           "x": [
            -0.12571895122528076,
            -0.022977784276008606
           ],
           "y": [
            1.980387469753623,
            2.1577647775411606
           ],
           "z": [
            10.46158105134964,
            10.248491913080215
           ]
          },
          {
           "line": {
            "color": "black",
            "width": 5
           },
           "marker": {
            "color": "blue",
            "size": 2
           },
           "text": [
            "LWrist"
           ],
           "type": "scatter3d",
           "x": [
            -0.1430998146533966,
            -0.12571895122528076
           ],
           "y": [
            1.967374224215746,
            1.980387469753623
           ],
           "z": [
            10.549279570579529,
            10.46158105134964
           ]
          },
          {
           "line": {
            "color": "red",
            "width": 5
           },
           "marker": {
            "color": "blue",
            "size": 2
           },
           "text": [
            "RShoulder"
           ],
           "type": "scatter3d",
           "x": [
            -0.12109468877315521,
            -0.062231581658124924
           ],
           "y": [
            2.0168524086475372,
            2.1067306846380234
           ],
           "z": [
            10.141598135232925,
            10.315521508455276
           ]
          },
          {
           "line": {
            "color": "red",
            "width": 5
           },
           "marker": {
            "color": "blue",
            "size": 2
           },
           "text": [
            "RElbow"
           ],
           "type": "scatter3d",
           "x": [
            -0.010015629231929779,
            -0.12109468877315521
           ],
           "y": [
            1.8620606362819672,
            2.0168524086475372
           ],
           "z": [
            10.174282521009445,
            10.141598135232925
           ]
          },
          {
           "line": {
            "color": "red",
            "width": 5
           },
           "marker": {
            "color": "blue",
            "size": 2
           },
           "text": [
            "RWrist"
           ],
           "type": "scatter3d",
           "x": [
            0.008256696164608002,
            -0.010015629231929779
           ],
           "y": [
            1.8473647832870483,
            1.8620606362819672
           ],
           "z": [
            10.234014436602592,
            10.174282521009445
           ]
          },
          {
           "line": {
            "color": "#1f77b4",
            "width": 1
           },
           "marker": {
            "color": "#1f77b4",
            "size": 1
           },
           "type": "scatter3d",
           "x": [
            -0.0027418718673288822,
            -0.0030006198212504387,
            -0.0030568535439670086,
            -0.0032310402020812035,
            -0.0022897955495864153,
            -0.003721669316291809,
            -0.0030518618877977133,
            -0.0027361256070435047,
            -0.002260821172967553,
            -0.0042311521247029305,
            -0.003010640386492014,
            -0.002232754835858941,
            -0.00275089661590755,
            -0.0029642798472195864,
            -0.0027666178066283464,
            -0.003079262562096119,
            -0.0035347763914614916,
            -0.0034277590457350016,
            -0.002994382521137595,
            -0.0030490162316709757,
            -0.0032166503369808197,
            -0.0032722055912017822,
            -0.0027839543763548136,
            -0.0036888110917061567,
            -0.004391905851662159,
            -0.00478758430108428,
            -0.004476655274629593
           ],
           "y": [
            2.011849765665829,
            2.0113775432109833,
            2.0116708986461163,
            2.0116401202976704,
            2.0106278993189335,
            2.01270847953856,
            2.0126416264101863,
            2.0127374595031142,
            2.009408425539732,
            2.01162894628942,
            2.0095556722953916,
            2.0089589040726423,
            2.0117098232731223,
            2.0129758697003126,
            2.0117938835173845,
            2.010299876332283,
            2.0117486901581287,
            2.0099654560908675,
            2.010773878544569,
            2.0130298733711243,
            2.014864937402308,
            2.0138240698724985,
            2.0131459198892117,
            2.02232351526618,
            2.034904159605503,
            2.0213879719376564,
            2.0244327913969755
           ],
           "z": [
            9.999753076350316,
            9.999828980944585,
            9.999864725163206,
            9.99974051915342,
            10.000227494572755,
            9.998863602988422,
            9.999546820123214,
            9.99953450699104,
            10.000100269797258,
            9.99863485316746,
            9.999725522182416,
            10.000196298409719,
            9.999859963892959,
            9.999895909975749,
            10.000027928908821,
            9.999898228386883,
            9.999798106902745,
            9.999948241515085,
            10.000051599054132,
            10.000278516672552,
            10.000469715305371,
            10.00022966240067,
            10.000806567142718,
            10.001839361386374,
            10.001958452630788,
            10.001630772370845,
            10.001845440361649
           ]
          }
         ],
         "name": "frame28"
        },
        {
         "data": [
          {
           "line": {
            "color": "red",
            "width": 5
           },
           "marker": {
            "color": "blue",
            "size": 2
           },
           "text": [
            "RHip"
           ],
           "type": "scatter3d",
           "x": [
            -0.01943437196314335,
            -0.0045675598084926605
           ],
           "y": [
            2.0155727192759514,
            2.048278246074915
           ],
           "z": [
            10.090417802333832,
            10.001919337082654
           ]
          },
          {
           "line": {
            "color": "red",
            "width": 5
           },
           "marker": {
            "color": "blue",
            "size": 2
           },
           "text": [
            "RKnee"
           ],
           "type": "scatter3d",
           "x": [
            -0.03500043600797653,
            -0.01943437196314335
           ],
           "y": [
            2.016355574131012,
            2.0155727192759514
           ],
           "z": [
            10.428890943527222,
            10.090417802333832
           ]
          },
          {
           "line": {
            "color": "red",
            "width": 5
           },
           "marker": {
            "color": "blue",
            "size": 2
           },
           "text": [
            "RAnkle"
           ],
           "type": "scatter3d",
           "x": [
            -0.04520752280950546,
            -0.03500043600797653
           ],
           "y": [
            1.8939249515533447,
            2.016355574131012
           ],
           "z": [
            9.860514059662819,
            10.428890943527222
           ]
          },
          {
           "line": {
            "color": "black",
            "width": 5
           },
           "marker": {
            "color": "blue",
            "size": 2
           },
           "text": [
            "LHip"
           ],
           "type": "scatter3d",
           "x": [
            -0.03377095237374306,
            -0.0045675598084926605
           ],
           "y": [
            2.035391889512539,
            2.048278246074915
           ],
           "z": [
            10.197348147630692,
            10.001919337082654
           ]
          },
          {
           "line": {
            "color": "black",
            "width": 5
           },
           "marker": {
            "color": "blue",
            "size": 2
           },
           "text": [
            "LKnee"
           ],
           "type": "scatter3d",
           "x": [
            -0.04819096252322197,
            -0.03377095237374306
           ],
           "y": [
            2.096031039953232,
            2.035391889512539
           ],
           "z": [
            10.416630357503891,
            10.197348147630692
           ]
          },
          {
           "line": {
            "color": "black",
            "width": 5
           },
           "marker": {
            "color": "blue",
            "size": 2
           },
           "text": [
            "LAnkle"
           ],
           "type": "scatter3d",
           "x": [
            0.07879626750946045,
            -0.04819096252322197
           ],
           "y": [
            2.0778655409812927,
            2.096031039953232
           ],
           "z": [
            10.155594810843468,
            10.416630357503891
           ]
          },
          {
           "line": {
            "color": "black",
            "width": 5
           },
           "marker": {
            "color": "blue",
            "size": 2
           },
           "text": [
            "Spine1"
           ],
           "type": "scatter3d",
           "x": [
            -0.041502006351947784,
            -0.0045675598084926605
           ],
           "y": [
            2.02203955501318,
            2.048278246074915
           ],
           "z": [
            10.127950757741928,
            10.001919337082654
           ]
          },
          {
           "line": {
            "color": "black",
            "width": 5
           },
           "marker": {
            "color": "blue",
            "size": 2
           },
           "text": [
            "Neck"
           ],
           "type": "scatter3d",
           "x": [
            -0.10304493457078934,
            -0.041502006351947784
           ],
           "y": [
            1.9972389489412308,
            2.02203955501318
           ],
           "z": [
            10.326090693473816,
            10.127950757741928
           ]
          },
          {
           "line": {
            "color": "black",
            "width": 5
           },
           "marker": {
            "color": "blue",
            "size": 2
           },
           "text": [
            "Head"
           ],
           "type": "scatter3d",
           "x": [
            -0.13740947842597961,
            -0.10304493457078934
           ],
           "y": [
            1.9548702016472816,
            1.9972389489412308
           ],
           "z": [
            10.404289096593857,
            10.326090693473816
           ]
          },
          {
           "line": {
            "color": "black",
            "width": 5
           },
           "marker": {
            "color": "blue",
            "size": 2
           },
           "text": [
            "Site"
           ],
           "type": "scatter3d",
           "x": [
            -0.1727093756198883,
            -0.13740947842597961
           ],
           "y": [
            1.9289449602365494,
            1.9548702016472816
           ],
           "z": [
            10.491591542959213,
            10.404289096593857
           ]
          },
          {
           "line": {
            "color": "black",
            "width": 5
           },
           "marker": {
            "color": "blue",
            "size": 2
           },
           "text": [
            "LShoulder"
           ],
           "type": "scatter3d",
           "x": [
            -0.112410768866539,
            -0.10304493457078934
           ],
           "y": [
            2.0546621903777122,
            1.9972389489412308
           ],
           "z": [
            10.25548580288887,
            10.326090693473816
           ]
          },
          {
           "line": {
            "color": "black",
            "width": 5
           },
           "marker": {
            "color": "blue",
            "size": 2
           },
           "text": [
            "LElbow"
           ],
           "type": "scatter3d",
           "x": [
            -0.20324960350990295,
            -0.112410768866539
           ],
           "y": [
            1.9495777040719986,
            2.0546621903777122
           ],
           "z": [
            10.47883415222168,
            10.25548580288887
           ]
          },
          {
           "line": {
            "color": "black",
            "width": 5
           },
           "marker": {
            "color": "blue",
            "size": 2
           },
           "text": [
            "LWrist"
           ],
           "type": "scatter3d",
           "x": [
            -0.21927779912948608,
            -0.20324960350990295
           ],
           "y": [
            1.9506912529468536,
            1.9495777040719986
           ],
           "z": [
            10.577261567115784,
            10.47883415222168
           ]
          },
          {
           "line": {
            "color": "red",
            "width": 5
           },
           "marker": {
            "color": "blue",
            "size": 2
           },
           "text": [
            "RShoulder"
           ],
           "type": "scatter3d",
           "x": [
            -0.11043016612529755,
            -0.10304493457078934
           ],
           "y": [
            1.9040803387761116,
            1.9972389489412308
           ],
           "z": [
            10.134357318282127,
            10.326090693473816
           ]
          },
          {
           "line": {
            "color": "red",
            "width": 5
           },
           "marker": {
            "color": "blue",
            "size": 2
           },
           "text": [
            "RElbow"
           ],
           "type": "scatter3d",
           "x": [
            0.004634149372577667,
            -0.11043016612529755
           ],
           "y": [
            1.85575433075428,
            1.9040803387761116
           ],
           "z": [
            10.116498827934265,
            10.134357318282127
           ]
          },
          {
           "line": {
            "color": "red",
            "width": 5
           },
           "marker": {
            "color": "blue",
            "size": 2
           },
           "text": [
            "RWrist"
           ],
           "type": "scatter3d",
           "x": [
            -0.0023037679493427277,
            0.004634149372577667
           ],
           "y": [
            1.8548443466424942,
            1.85575433075428
           ],
           "z": [
            10.172798037528992,
            10.116498827934265
           ]
          },
          {
           "line": {
            "color": "#1f77b4",
            "width": 1
           },
           "marker": {
            "color": "#1f77b4",
            "size": 1
           },
           "type": "scatter3d",
           "x": [
            -0.0027418718673288822,
            -0.0030006198212504387,
            -0.0030568535439670086,
            -0.0032310402020812035,
            -0.0022897955495864153,
            -0.003721669316291809,
            -0.0030518618877977133,
            -0.0027361256070435047,
            -0.002260821172967553,
            -0.0042311521247029305,
            -0.003010640386492014,
            -0.002232754835858941,
            -0.00275089661590755,
            -0.0029642798472195864,
            -0.0027666178066283464,
            -0.003079262562096119,
            -0.0035347763914614916,
            -0.0034277590457350016,
            -0.002994382521137595,
            -0.0030490162316709757,
            -0.0032166503369808197,
            -0.0032722055912017822,
            -0.0027839543763548136,
            -0.0036888110917061567,
            -0.004391905851662159,
            -0.00478758430108428,
            -0.004476655274629593,
            -0.005220502149313688
           ],
           "y": [
            2.011849765665829,
            2.0113775432109833,
            2.0116708986461163,
            2.0116401202976704,
            2.0106278993189335,
            2.01270847953856,
            2.0126416264101863,
            2.0127374595031142,
            2.009408425539732,
            2.01162894628942,
            2.0095556722953916,
            2.0089589040726423,
            2.0117098232731223,
            2.0129758697003126,
            2.0117938835173845,
            2.010299876332283,
            2.0117486901581287,
            2.0099654560908675,
            2.010773878544569,
            2.0130298733711243,
            2.014864937402308,
            2.0138240698724985,
            2.0131459198892117,
            2.02232351526618,
            2.034904159605503,
            2.0213879719376564,
            2.0244327913969755,
            2.044565089046955
           ],
           "z": [
            9.999753076350316,
            9.999828980944585,
            9.999864725163206,
            9.99974051915342,
            10.000227494572755,
            9.998863602988422,
            9.999546820123214,
            9.99953450699104,
            10.000100269797258,
            9.99863485316746,
            9.999725522182416,
            10.000196298409719,
            9.999859963892959,
            9.999895909975749,
            10.000027928908821,
            9.999898228386883,
            9.999798106902745,
            9.999948241515085,
            10.000051599054132,
            10.000278516672552,
            10.000469715305371,
            10.00022966240067,
            10.000806567142718,
            10.001839361386374,
            10.001958452630788,
            10.001630772370845,
            10.001845440361649,
            10.001452907221392
           ]
          }
         ],
         "name": "frame29"
        },
        {
         "data": [
          {
           "line": {
            "color": "red",
            "width": 5
           },
           "marker": {
            "color": "blue",
            "size": 2
           },
           "text": [
            "RHip"
           ],
           "type": "scatter3d",
           "x": [
            -0.010728457942605019,
            -0.004934833385050297
           ],
           "y": [
            2.006487973034382,
            2.0344774648547173
           ],
           "z": [
            10.078686080873013,
            10.00160095631145
           ]
          },
          {
           "line": {
            "color": "red",
            "width": 5
           },
           "marker": {
            "color": "blue",
            "size": 2
           },
           "text": [
            "RKnee"
           ],
           "type": "scatter3d",
           "x": [
            -0.10163231939077377,
            -0.010728457942605019
           ],
           "y": [
            2.0830326080322266,
            2.006487973034382
           ],
           "z": [
            10.42807137966156,
            10.078686080873013
           ]
          },
          {
           "line": {
            "color": "red",
            "width": 5
           },
           "marker": {
            "color": "blue",
            "size": 2
           },
           "text": [
            "RAnkle"
           ],
           "type": "scatter3d",
           "x": [
            -0.026482030749320984,
            -0.10163231939077377
           ],
           "y": [
            2.0416210293769836,
            2.0830326080322266
           ],
           "z": [
            9.875629022717476,
            10.42807137966156
           ]
          },
          {
           "line": {
            "color": "black",
            "width": 5
           },
           "marker": {
            "color": "blue",
            "size": 2
           },
           "text": [
            "LHip"
           ],
           "type": "scatter3d",
           "x": [
            -0.04121696203947067,
            -0.004934833385050297
           ],
           "y": [
            2.054391086101532,
            2.0344774648547173
           ],
           "z": [
            10.177472710609436,
            10.00160095631145
           ]
          },
          {
           "line": {
            "color": "black",
            "width": 5
           },
           "marker": {
            "color": "blue",
            "size": 2
           },
           "text": [
            "LKnee"
           ],
           "type": "scatter3d",
           "x": [
            -0.05255930870771408,
            -0.04121696203947067
           ],
           "y": [
            2.189564064145088,
            2.054391086101532
           ],
           "z": [
            10.3389992415905,
            10.177472710609436
           ]
          },
          {
           "line": {
            "color": "black",
            "width": 5
           },
           "marker": {
            "color": "blue",
            "size": 2
           },
           "text": [
            "LAnkle"
           ],
           "type": "scatter3d",
           "x": [
            0.11199602484703064,
            -0.05255930870771408
           ],
           "y": [
            2.155012786388397,
            2.189564064145088
           ],
           "z": [
            10.042007878422737,
            10.3389992415905
           ]
          },
          {
           "line": {
            "color": "black",
            "width": 5
           },
           "marker": {
            "color": "blue",
            "size": 2
           },
           "text": [
            "Spine1"
           ],
           "type": "scatter3d",
           "x": [
            -0.050129134207963943,
            -0.004934833385050297
           ],
           "y": [
            1.9916673935949802,
            2.0344774648547173
           ],
           "z": [
            10.11375267803669,
            10.00160095631145
           ]
          },
          {
           "line": {
            "color": "black",
            "width": 5
           },
           "marker": {
            "color": "blue",
            "size": 2
           },
           "text": [
            "Neck"
           ],
           "type": "scatter3d",
           "x": [
            -0.11169897764921188,
            -0.050129134207963943
           ],
           "y": [
            1.9413082376122475,
            1.9916673935949802
           ],
           "z": [
            10.304514110088348,
            10.11375267803669
           ]
          },
          {
           "line": {
            "color": "black",
            "width": 5
           },
           "marker": {
            "color": "blue",
            "size": 2
           },
           "text": [
            "Head"
           ],
           "type": "scatter3d",
           "x": [
            -0.15931463241577148,
            -0.11169897764921188
           ],
           "y": [
            1.9036299139261246,
            1.9413082376122475
           ],
           "z": [
            10.382249385118484,
            10.304514110088348
           ]
          },
          {
           "line": {
            "color": "black",
            "width": 5
           },
           "marker": {
            "color": "blue",
            "size": 2
           },
           "text": [
            "Site"
           ],
           "type": "scatter3d",
           "x": [
            -0.20406442880630493,
            -0.15931463241577148
           ],
           "y": [
            1.8817317113280296,
            1.9036299139261246
           ],
           "z": [
            10.4628387093544,
            10.382249385118484
           ]
          },
          {
           "line": {
            "color": "black",
            "width": 5
           },
           "marker": {
            "color": "blue",
            "size": 2
           },
           "text": [
            "LShoulder"
           ],
           "type": "scatter3d",
           "x": [
            -0.1143702045083046,
            -0.11169897764921188
           ],
           "y": [
            1.995610311627388,
            1.9413082376122475
           ],
           "z": [
            10.259895086288452,
            10.304514110088348
           ]
          },
          {
           "line": {
            "color": "black",
            "width": 5
           },
           "marker": {
            "color": "blue",
            "size": 2
           },
           "text": [
            "LElbow"
           ],
           "type": "scatter3d",
           "x": [
            -0.20450158417224884,
            -0.1143702045083046
           ],
           "y": [
            1.952478464692831,
            1.995610311627388
           ],
           "z": [
            10.493460059165955,
            10.259895086288452
           ]
          },
          {
           "line": {
            "color": "black",
            "width": 5
           },
           "marker": {
            "color": "blue",
            "size": 2
           },
           "text": [
            "LWrist"
           ],
           "type": "scatter3d",
           "x": [
            -0.220421701669693,
            -0.20450158417224884
           ],
           "y": [
            1.9552556611597538,
            1.952478464692831
           ],
           "z": [
            10.613776564598083,
            10.493460059165955
           ]
          },
          {
           "line": {
            "color": "red",
            "width": 5
           },
           "marker": {
            "color": "blue",
            "size": 2
           },
           "text": [
            "RShoulder"
           ],
           "type": "scatter3d",
           "x": [
            -0.09251973032951355,
            -0.11169897764921188
           ],
           "y": [
            1.8595339357852936,
            1.9413082376122475
           ],
           "z": [
            10.102897927165031,
            10.304514110088348
           ]
          },
          {
           "line": {
            "color": "red",
            "width": 5
           },
           "marker": {
            "color": "blue",
            "size": 2
           },
           "text": [
            "RElbow"
           ],
           "type": "scatter3d",
           "x": [
            -0.0359458401799202,
            -0.09251973032951355
           ],
           "y": [
            1.8407069444656372,
            1.8595339357852936
           ],
           "z": [
            10.05430155992508,
            10.102897927165031
           ]
          },
          {
           "line": {
            "color": "red",
            "width": 5
           },
           "marker": {
            "color": "blue",
            "size": 2
           },
           "text": [
            "RWrist"
           ],
           "type": "scatter3d",
           "x": [
            -0.05267585813999176,
            -0.0359458401799202
           ],
           "y": [
            1.8321387767791748,
            1.8407069444656372
           ],
           "z": [
            10.1021468937397,
            10.05430155992508
           ]
          },
          {
           "line": {
            "color": "#1f77b4",
            "width": 1
           },
           "marker": {
            "color": "#1f77b4",
            "size": 1
           },
           "type": "scatter3d",
           "x": [
            -0.0027418718673288822,
            -0.0030006198212504387,
            -0.0030568535439670086,
            -0.0032310402020812035,
            -0.0022897955495864153,
            -0.003721669316291809,
            -0.0030518618877977133,
            -0.0027361256070435047,
            -0.002260821172967553,
            -0.0042311521247029305,
            -0.003010640386492014,
            -0.002232754835858941,
            -0.00275089661590755,
            -0.0029642798472195864,
            -0.0027666178066283464,
            -0.003079262562096119,
            -0.0035347763914614916,
            -0.0034277590457350016,
            -0.002994382521137595,
            -0.0030490162316709757,
            -0.0032166503369808197,
            -0.0032722055912017822,
            -0.0027839543763548136,
            -0.0036888110917061567,
            -0.004391905851662159,
            -0.00478758430108428,
            -0.004476655274629593,
            -0.005220502149313688,
            -0.0045675598084926605
           ],
           "y": [
            2.011849765665829,
            2.0113775432109833,
            2.0116708986461163,
            2.0116401202976704,
            2.0106278993189335,
            2.01270847953856,
            2.0126416264101863,
            2.0127374595031142,
            2.009408425539732,
            2.01162894628942,
            2.0095556722953916,
            2.0089589040726423,
            2.0117098232731223,
            2.0129758697003126,
            2.0117938835173845,
            2.010299876332283,
            2.0117486901581287,
            2.0099654560908675,
            2.010773878544569,
            2.0130298733711243,
            2.014864937402308,
            2.0138240698724985,
            2.0131459198892117,
            2.02232351526618,
            2.034904159605503,
            2.0213879719376564,
            2.0244327913969755,
            2.044565089046955,
            2.048278246074915
           ],
           "z": [
            9.999753076350316,
            9.999828980944585,
            9.999864725163206,
            9.99974051915342,
            10.000227494572755,
            9.998863602988422,
            9.999546820123214,
            9.99953450699104,
            10.000100269797258,
            9.99863485316746,
            9.999725522182416,
            10.000196298409719,
            9.999859963892959,
            9.999895909975749,
            10.000027928908821,
            9.999898228386883,
            9.999798106902745,
            9.999948241515085,
            10.000051599054132,
            10.000278516672552,
            10.000469715305371,
            10.00022966240067,
            10.000806567142718,
            10.001839361386374,
            10.001958452630788,
            10.001630772370845,
            10.001845440361649,
            10.001452907221392,
            10.001919337082654
           ]
          }
         ],
         "name": "frame30"
        }
       ],
       "layout": {
        "autosize": false,
        "height": 700,
        "scene": {
         "aspectratio": {
          "x": 0.6493383898800478,
          "y": 1.7480368902550962,
          "z": 0.6026247198648559
         },
         "camera": {
          "eye": {
           "x": -1.7428,
           "y": 1.0707,
           "z": 0.71
          },
          "up": {
           "x": 0,
           "y": 1,
           "z": 0
          }
         },
         "xaxis": {
          "range": [
           -0.6396206617355347,
           0.7977051734924316
          ]
         },
         "yaxis": {
          "range": [
           -0.09743833541870117,
           3.7718825340270996
          ]
         },
         "zaxis": {
          "range": [
           9.523814886808395,
           10.85773891210556
          ]
         }
        },
        "sliders": [
         {
          "currentvalue": {
           "font": {
            "size": 12
           },
           "prefix": "slice: ",
           "visible": true,
           "xanchor": "center"
          },
          "len": 1,
          "steps": [
           {
            "args": [
             [
              "frame1"
             ],
             {
              "frame": {
               "duration": 70,
               "redraw": true
              },
              "mode": "immediate",
              "transition": {
               "duration": 0
              }
             }
            ],
            "label": "1",
            "method": "animate"
           },
           {
            "args": [
             [
              "frame2"
             ],
             {
              "frame": {
               "duration": 70,
               "redraw": true
              },
              "mode": "immediate",
              "transition": {
               "duration": 0
              }
             }
            ],
            "label": "2",
            "method": "animate"
           },
           {
            "args": [
             [
              "frame3"
             ],
             {
              "frame": {
               "duration": 70,
               "redraw": true
              },
              "mode": "immediate",
              "transition": {
               "duration": 0
              }
             }
            ],
            "label": "3",
            "method": "animate"
           },
           {
            "args": [
             [
              "frame4"
             ],
             {
              "frame": {
               "duration": 70,
               "redraw": true
              },
              "mode": "immediate",
              "transition": {
               "duration": 0
              }
             }
            ],
            "label": "4",
            "method": "animate"
           },
           {
            "args": [
             [
              "frame5"
             ],
             {
              "frame": {
               "duration": 70,
               "redraw": true
              },
              "mode": "immediate",
              "transition": {
               "duration": 0
              }
             }
            ],
            "label": "5",
            "method": "animate"
           },
           {
            "args": [
             [
              "frame6"
             ],
             {
              "frame": {
               "duration": 70,
               "redraw": true
              },
              "mode": "immediate",
              "transition": {
               "duration": 0
              }
             }
            ],
            "label": "6",
            "method": "animate"
           },
           {
            "args": [
             [
              "frame7"
             ],
             {
              "frame": {
               "duration": 70,
               "redraw": true
              },
              "mode": "immediate",
              "transition": {
               "duration": 0
              }
             }
            ],
            "label": "7",
            "method": "animate"
           },
           {
            "args": [
             [
              "frame8"
             ],
             {
              "frame": {
               "duration": 70,
               "redraw": true
              },
              "mode": "immediate",
              "transition": {
               "duration": 0
              }
             }
            ],
            "label": "8",
            "method": "animate"
           },
           {
            "args": [
             [
              "frame9"
             ],
             {
              "frame": {
               "duration": 70,
               "redraw": true
              },
              "mode": "immediate",
              "transition": {
               "duration": 0
              }
             }
            ],
            "label": "9",
            "method": "animate"
           },
           {
            "args": [
             [
              "frame10"
             ],
             {
              "frame": {
               "duration": 70,
               "redraw": true
              },
              "mode": "immediate",
              "transition": {
               "duration": 0
              }
             }
            ],
            "label": "10",
            "method": "animate"
           },
           {
            "args": [
             [
              "frame11"
             ],
             {
              "frame": {
               "duration": 70,
               "redraw": true
              },
              "mode": "immediate",
              "transition": {
               "duration": 0
              }
             }
            ],
            "label": "11",
            "method": "animate"
           },
           {
            "args": [
             [
              "frame12"
             ],
             {
              "frame": {
               "duration": 70,
               "redraw": true
              },
              "mode": "immediate",
              "transition": {
               "duration": 0
              }
             }
            ],
            "label": "12",
            "method": "animate"
           },
           {
            "args": [
             [
              "frame13"
             ],
             {
              "frame": {
               "duration": 70,
               "redraw": true
              },
              "mode": "immediate",
              "transition": {
               "duration": 0
              }
             }
            ],
            "label": "13",
            "method": "animate"
           },
           {
            "args": [
             [
              "frame14"
             ],
             {
              "frame": {
               "duration": 70,
               "redraw": true
              },
              "mode": "immediate",
              "transition": {
               "duration": 0
              }
             }
            ],
            "label": "14",
            "method": "animate"
           },
           {
            "args": [
             [
              "frame15"
             ],
             {
              "frame": {
               "duration": 70,
               "redraw": true
              },
              "mode": "immediate",
              "transition": {
               "duration": 0
              }
             }
            ],
            "label": "15",
            "method": "animate"
           },
           {
            "args": [
             [
              "frame16"
             ],
             {
              "frame": {
               "duration": 70,
               "redraw": true
              },
              "mode": "immediate",
              "transition": {
               "duration": 0
              }
             }
            ],
            "label": "16",
            "method": "animate"
           },
           {
            "args": [
             [
              "frame17"
             ],
             {
              "frame": {
               "duration": 70,
               "redraw": true
              },
              "mode": "immediate",
              "transition": {
               "duration": 0
              }
             }
            ],
            "label": "17",
            "method": "animate"
           },
           {
            "args": [
             [
              "frame18"
             ],
             {
              "frame": {
               "duration": 70,
               "redraw": true
              },
              "mode": "immediate",
              "transition": {
               "duration": 0
              }
             }
            ],
            "label": "18",
            "method": "animate"
           },
           {
            "args": [
             [
              "frame19"
             ],
             {
              "frame": {
               "duration": 70,
               "redraw": true
              },
              "mode": "immediate",
              "transition": {
               "duration": 0
              }
             }
            ],
            "label": "19",
            "method": "animate"
           },
           {
            "args": [
             [
              "frame20"
             ],
             {
              "frame": {
               "duration": 70,
               "redraw": true
              },
              "mode": "immediate",
              "transition": {
               "duration": 0
              }
             }
            ],
            "label": "20",
            "method": "animate"
           },
           {
            "args": [
             [
              "frame21"
             ],
             {
              "frame": {
               "duration": 70,
               "redraw": true
              },
              "mode": "immediate",
              "transition": {
               "duration": 0
              }
             }
            ],
            "label": "21",
            "method": "animate"
           },
           {
            "args": [
             [
              "frame22"
             ],
             {
              "frame": {
               "duration": 70,
               "redraw": true
              },
              "mode": "immediate",
              "transition": {
               "duration": 0
              }
             }
            ],
            "label": "22",
            "method": "animate"
           },
           {
            "args": [
             [
              "frame23"
             ],
             {
              "frame": {
               "duration": 70,
               "redraw": true
              },
              "mode": "immediate",
              "transition": {
               "duration": 0
              }
             }
            ],
            "label": "23",
            "method": "animate"
           },
           {
            "args": [
             [
              "frame24"
             ],
             {
              "frame": {
               "duration": 70,
               "redraw": true
              },
              "mode": "immediate",
              "transition": {
               "duration": 0
              }
             }
            ],
            "label": "24",
            "method": "animate"
           },
           {
            "args": [
             [
              "frame25"
             ],
             {
              "frame": {
               "duration": 70,
               "redraw": true
              },
              "mode": "immediate",
              "transition": {
               "duration": 0
              }
             }
            ],
            "label": "25",
            "method": "animate"
           },
           {
            "args": [
             [
              "frame26"
             ],
             {
              "frame": {
               "duration": 70,
               "redraw": true
              },
              "mode": "immediate",
              "transition": {
               "duration": 0
              }
             }
            ],
            "label": "26",
            "method": "animate"
           },
           {
            "args": [
             [
              "frame27"
             ],
             {
              "frame": {
               "duration": 70,
               "redraw": true
              },
              "mode": "immediate",
              "transition": {
               "duration": 0
              }
             }
            ],
            "label": "27",
            "method": "animate"
           },
           {
            "args": [
             [
              "frame28"
             ],
             {
              "frame": {
               "duration": 70,
               "redraw": true
              },
              "mode": "immediate",
              "transition": {
               "duration": 0
              }
             }
            ],
            "label": "28",
            "method": "animate"
           },
           {
            "args": [
             [
              "frame29"
             ],
             {
              "frame": {
               "duration": 70,
               "redraw": true
              },
              "mode": "immediate",
              "transition": {
               "duration": 0
              }
             }
            ],
            "label": "29",
            "method": "animate"
           },
           {
            "args": [
             [
              "frame30"
             ],
             {
              "frame": {
               "duration": 70,
               "redraw": true
              },
              "mode": "immediate",
              "transition": {
               "duration": 0
              }
             }
            ],
            "label": "30",
            "method": "animate"
           }
          ],
          "transition": {
           "duration": 0
          },
          "x": 0,
          "y": 0
         }
        ],
        "title": {
         "text": "action animation"
        },
        "updatemenus": [
         {
          "buttons": [
           {
            "args": [
             null
            ],
            "label": "Play",
            "method": "animate"
           }
          ],
          "pad": {
           "r": 10,
           "t": 0
          },
          "showactive": false,
          "type": "buttons",
          "x": 1.3,
          "xanchor": "right",
          "y": 1,
          "yanchor": "top"
         }
        ],
        "width": 800
       }
      },
      "text/html": [
       "<div>\n",
       "        \n",
       "        \n",
       "            <div id=\"c43fe93f-1a40-45c9-8945-fee53ae37561\" class=\"plotly-graph-div\" style=\"height:700px; width:800px;\"></div>\n",
       "            <script type=\"text/javascript\">\n",
       "                require([\"plotly\"], function(Plotly) {\n",
       "                    window.PLOTLYENV=window.PLOTLYENV || {};\n",
       "                    window.PLOTLYENV.BASE_URL='https://plot.ly';\n",
       "                    \n",
       "                if (document.getElementById(\"c43fe93f-1a40-45c9-8945-fee53ae37561\")) {\n",
       "                    Plotly.newPlot(\n",
       "                        'c43fe93f-1a40-45c9-8945-fee53ae37561',\n",
       "                        [{\"line\": {\"color\": \"red\", \"width\": 5}, \"marker\": {\"color\": \"blue\", \"size\": 2}, \"text\": [\"RHip\"], \"type\": \"scatter3d\", \"uid\": \"ea67ff93-8cbe-4bd8-8a8c-cdfcbac9ddf5\", \"x\": [0.16994065046310425, -0.0027418718673288822], \"y\": [2.1984085589647293, 2.011849765665829], \"z\": [10.131139770150185, 9.999753076350316]}, {\"line\": {\"color\": \"red\", \"width\": 5}, \"marker\": {\"color\": \"blue\", \"size\": 2}, \"text\": [\"RKnee\"], \"type\": \"scatter3d\", \"uid\": \"369ec5cc-fe04-456c-b107-4ee089a74d7e\", \"x\": [0.21524392068386078, 0.16994065046310425], \"y\": [3.0064395666122437, 2.1984085589647293], \"z\": [10.59465777873993, 10.131139770150185]}, {\"line\": {\"color\": \"red\", \"width\": 5}, \"marker\": {\"color\": \"blue\", \"size\": 2}, \"text\": [\"RAnkle\"], \"type\": \"scatter3d\", \"uid\": \"d4688003-fda2-4c21-8276-11cee6e5d187\", \"x\": [0.190170556306839, 0.21524392068386078], \"y\": [3.659814953804016, 3.0064395666122437], \"z\": [10.070103488862514, 10.59465777873993]}, {\"line\": {\"color\": \"black\", \"width\": 5}, \"marker\": {\"color\": \"blue\", \"size\": 2}, \"text\": [\"LHip\"], \"type\": \"scatter3d\", \"uid\": \"cd51645a-4c97-4669-a462-b074cfb8c2f3\", \"x\": [-0.13013646006584167, -0.0027418718673288822], \"y\": [2.2111804634332657, 2.011849765665829], \"z\": [10.127653047442436, 9.999753076350316]}, {\"line\": {\"color\": \"black\", \"width\": 5}, \"marker\": {\"color\": \"blue\", \"size\": 2}, \"text\": [\"LKnee\"], \"type\": \"scatter3d\", \"uid\": \"a9d94216-328f-46c5-9baf-06a4935ca163\", \"x\": [-0.10012688487768173, -0.13013646006584167], \"y\": [3.021841526031494, 2.2111804634332657], \"z\": [10.294957429170609, 10.127653047442436]}, {\"line\": {\"color\": \"black\", \"width\": 5}, \"marker\": {\"color\": \"blue\", \"size\": 2}, \"text\": [\"LAnkle\"], \"type\": \"scatter3d\", \"uid\": \"8be67bb2-2903-414c-995b-610ab6ba1889\", \"x\": [-0.042567379772663116, -0.10012688487768173], \"y\": [3.7000309228897095, 3.021841526031494], \"z\": [9.75118088722229, 10.294957429170609]}, {\"line\": {\"color\": \"black\", \"width\": 5}, \"marker\": {\"color\": \"blue\", \"size\": 2}, \"text\": [\"Spine1\"], \"type\": \"scatter3d\", \"uid\": \"53c30853-62c3-447e-bb0a-00e45b6fadf5\", \"x\": [-0.03959568962454796, -0.0027418718673288822], \"y\": [1.5809186697006226, 2.011849765665829], \"z\": [10.126129537820816, 9.999753076350316]}, {\"line\": {\"color\": \"black\", \"width\": 5}, \"marker\": {\"color\": \"blue\", \"size\": 2}, \"text\": [\"Neck\"], \"type\": \"scatter3d\", \"uid\": \"4f1692ed-dcb7-4085-804f-7f4c5cf2d4d1\", \"x\": [-0.03610718995332718, -0.03959568962454796], \"y\": [1.1796957850456238, 1.5809186697006226], \"z\": [10.25620585680008, 10.126129537820816]}, {\"line\": {\"color\": \"black\", \"width\": 5}, \"marker\": {\"color\": \"blue\", \"size\": 2}, \"text\": [\"Head\"], \"type\": \"scatter3d\", \"uid\": \"244569d2-ac6b-4385-a9dc-75a24d9e7af5\", \"x\": [-0.034108929336071014, -0.03610718995332718], \"y\": [0.9804559946060181, 1.1796957850456238], \"z\": [10.294046849012375, 10.25620585680008]}, {\"line\": {\"color\": \"black\", \"width\": 5}, \"marker\": {\"color\": \"blue\", \"size\": 2}, \"text\": [\"Site\"], \"type\": \"scatter3d\", \"uid\": \"d9c50f20-cc6e-48ac-990d-fb2e4d9e246b\", \"x\": [-0.022280320525169373, -0.034108929336071014], \"y\": [0.7854218482971191, 0.9804559946060181], \"z\": [10.348779559135437, 10.294046849012375]}, {\"line\": {\"color\": \"black\", \"width\": 5}, \"marker\": {\"color\": \"blue\", \"size\": 2}, \"text\": [\"LShoulder\"], \"type\": \"scatter3d\", \"uid\": \"e2b6fa18-6d79-4e56-8f06-40a3096ba8bb\", \"x\": [-0.41524064540863037, -0.03610718995332718], \"y\": [1.2213638424873352, 1.1796957850456238], \"z\": [10.156338185071945, 10.25620585680008]}, {\"line\": {\"color\": \"black\", \"width\": 5}, \"marker\": {\"color\": \"blue\", \"size\": 2}, \"text\": [\"LElbow\"], \"type\": \"scatter3d\", \"uid\": \"ad959f2d-e341-4062-bea1-1788c276a316\", \"x\": [-0.5634458661079407, -0.41524064540863037], \"y\": [2.075349599123001, 1.2213638424873352], \"z\": [10.174479246139526, 10.156338185071945]}, {\"line\": {\"color\": \"black\", \"width\": 5}, \"marker\": {\"color\": \"blue\", \"size\": 2}, \"text\": [\"LWrist\"], \"type\": \"scatter3d\", \"uid\": \"ea0b29af-e8af-4122-93f6-f8bd25a7bc3e\", \"x\": [-0.6102854013442993, -0.5634458661079407], \"y\": [2.2415172904729843, 2.075349599123001], \"z\": [10.30929321050644, 10.174479246139526]}, {\"line\": {\"color\": \"red\", \"width\": 5}, \"marker\": {\"color\": \"blue\", \"size\": 2}, \"text\": [\"RShoulder\"], \"type\": \"scatter3d\", \"uid\": \"a34e1fd6-990d-43ee-807b-0a6c0d6e4bf1\", \"x\": [0.3097112476825714, -0.03610718995332718], \"y\": [1.2071815133094788, 1.1796957850456238], \"z\": [10.207605540752411, 10.25620585680008]}, {\"line\": {\"color\": \"red\", \"width\": 5}, \"marker\": {\"color\": \"blue\", \"size\": 2}, \"text\": [\"RElbow\"], \"type\": \"scatter3d\", \"uid\": \"a36219d8-b39c-408c-b45b-81cb410d57e5\", \"x\": [0.4542078375816345, 0.3097112476825714], \"y\": [2.0959878340363503, 1.2071815133094788], \"z\": [10.231924414634705, 10.207605540752411]}, {\"line\": {\"color\": \"red\", \"width\": 5}, \"marker\": {\"color\": \"blue\", \"size\": 2}, \"text\": [\"RWrist\"], \"type\": \"scatter3d\", \"uid\": \"c74cdff2-7463-4253-860b-1ef38aeb8dcd\", \"x\": [0.49016711115837097, 0.4542078375816345], \"y\": [2.2651628851890564, 2.0959878340363503], \"z\": [10.347127944231033, 10.231924414634705]}, {\"line\": {\"color\": \"#1f77b4\", \"width\": 1}, \"marker\": {\"color\": \"#1f77b4\", \"size\": 1}, \"type\": \"scatter3d\", \"uid\": \"a3075fa8-ead6-47ea-b9f4-bff97f935beb\", \"x\": [], \"y\": [], \"z\": []}],\n",
       "                        {\"autosize\": false, \"height\": 700, \"scene\": {\"aspectratio\": {\"x\": 0.6493383898800478, \"y\": 1.7480368902550962, \"z\": 0.6026247198648559}, \"camera\": {\"eye\": {\"x\": -1.7428, \"y\": 1.0707, \"z\": 0.71}, \"up\": {\"x\": 0, \"y\": 1, \"z\": 0}}, \"xaxis\": {\"range\": [-0.6396206617355347, 0.7977051734924316]}, \"yaxis\": {\"range\": [-0.09743833541870117, 3.7718825340270996]}, \"zaxis\": {\"range\": [9.523814886808395, 10.85773891210556]}}, \"sliders\": [{\"currentvalue\": {\"font\": {\"size\": 12}, \"prefix\": \"slice: \", \"visible\": true, \"xanchor\": \"center\"}, \"len\": 1.0, \"steps\": [{\"args\": [[\"frame1\"], {\"frame\": {\"duration\": 70, \"redraw\": true}, \"mode\": \"immediate\", \"transition\": {\"duration\": 0}}], \"label\": \"1\", \"method\": \"animate\"}, {\"args\": [[\"frame2\"], {\"frame\": {\"duration\": 70, \"redraw\": true}, \"mode\": \"immediate\", \"transition\": {\"duration\": 0}}], \"label\": \"2\", \"method\": \"animate\"}, {\"args\": [[\"frame3\"], {\"frame\": {\"duration\": 70, \"redraw\": true}, \"mode\": \"immediate\", \"transition\": {\"duration\": 0}}], \"label\": \"3\", \"method\": \"animate\"}, {\"args\": [[\"frame4\"], {\"frame\": {\"duration\": 70, \"redraw\": true}, \"mode\": \"immediate\", \"transition\": {\"duration\": 0}}], \"label\": \"4\", \"method\": \"animate\"}, {\"args\": [[\"frame5\"], {\"frame\": {\"duration\": 70, \"redraw\": true}, \"mode\": \"immediate\", \"transition\": {\"duration\": 0}}], \"label\": \"5\", \"method\": \"animate\"}, {\"args\": [[\"frame6\"], {\"frame\": {\"duration\": 70, \"redraw\": true}, \"mode\": \"immediate\", \"transition\": {\"duration\": 0}}], \"label\": \"6\", \"method\": \"animate\"}, {\"args\": [[\"frame7\"], {\"frame\": {\"duration\": 70, \"redraw\": true}, \"mode\": \"immediate\", \"transition\": {\"duration\": 0}}], \"label\": \"7\", \"method\": \"animate\"}, {\"args\": [[\"frame8\"], {\"frame\": {\"duration\": 70, \"redraw\": true}, \"mode\": \"immediate\", \"transition\": {\"duration\": 0}}], \"label\": \"8\", \"method\": \"animate\"}, {\"args\": [[\"frame9\"], {\"frame\": {\"duration\": 70, \"redraw\": true}, \"mode\": \"immediate\", \"transition\": {\"duration\": 0}}], \"label\": \"9\", \"method\": \"animate\"}, {\"args\": [[\"frame10\"], {\"frame\": {\"duration\": 70, \"redraw\": true}, \"mode\": \"immediate\", \"transition\": {\"duration\": 0}}], \"label\": \"10\", \"method\": \"animate\"}, {\"args\": [[\"frame11\"], {\"frame\": {\"duration\": 70, \"redraw\": true}, \"mode\": \"immediate\", \"transition\": {\"duration\": 0}}], \"label\": \"11\", \"method\": \"animate\"}, {\"args\": [[\"frame12\"], {\"frame\": {\"duration\": 70, \"redraw\": true}, \"mode\": \"immediate\", \"transition\": {\"duration\": 0}}], \"label\": \"12\", \"method\": \"animate\"}, {\"args\": [[\"frame13\"], {\"frame\": {\"duration\": 70, \"redraw\": true}, \"mode\": \"immediate\", \"transition\": {\"duration\": 0}}], \"label\": \"13\", \"method\": \"animate\"}, {\"args\": [[\"frame14\"], {\"frame\": {\"duration\": 70, \"redraw\": true}, \"mode\": \"immediate\", \"transition\": {\"duration\": 0}}], \"label\": \"14\", \"method\": \"animate\"}, {\"args\": [[\"frame15\"], {\"frame\": {\"duration\": 70, \"redraw\": true}, \"mode\": \"immediate\", \"transition\": {\"duration\": 0}}], \"label\": \"15\", \"method\": \"animate\"}, {\"args\": [[\"frame16\"], {\"frame\": {\"duration\": 70, \"redraw\": true}, \"mode\": \"immediate\", \"transition\": {\"duration\": 0}}], \"label\": \"16\", \"method\": \"animate\"}, {\"args\": [[\"frame17\"], {\"frame\": {\"duration\": 70, \"redraw\": true}, \"mode\": \"immediate\", \"transition\": {\"duration\": 0}}], \"label\": \"17\", \"method\": \"animate\"}, {\"args\": [[\"frame18\"], {\"frame\": {\"duration\": 70, \"redraw\": true}, \"mode\": \"immediate\", \"transition\": {\"duration\": 0}}], \"label\": \"18\", \"method\": \"animate\"}, {\"args\": [[\"frame19\"], {\"frame\": {\"duration\": 70, \"redraw\": true}, \"mode\": \"immediate\", \"transition\": {\"duration\": 0}}], \"label\": \"19\", \"method\": \"animate\"}, {\"args\": [[\"frame20\"], {\"frame\": {\"duration\": 70, \"redraw\": true}, \"mode\": \"immediate\", \"transition\": {\"duration\": 0}}], \"label\": \"20\", \"method\": \"animate\"}, {\"args\": [[\"frame21\"], {\"frame\": {\"duration\": 70, \"redraw\": true}, \"mode\": \"immediate\", \"transition\": {\"duration\": 0}}], \"label\": \"21\", \"method\": \"animate\"}, {\"args\": [[\"frame22\"], {\"frame\": {\"duration\": 70, \"redraw\": true}, \"mode\": \"immediate\", \"transition\": {\"duration\": 0}}], \"label\": \"22\", \"method\": \"animate\"}, {\"args\": [[\"frame23\"], {\"frame\": {\"duration\": 70, \"redraw\": true}, \"mode\": \"immediate\", \"transition\": {\"duration\": 0}}], \"label\": \"23\", \"method\": \"animate\"}, {\"args\": [[\"frame24\"], {\"frame\": {\"duration\": 70, \"redraw\": true}, \"mode\": \"immediate\", \"transition\": {\"duration\": 0}}], \"label\": \"24\", \"method\": \"animate\"}, {\"args\": [[\"frame25\"], {\"frame\": {\"duration\": 70, \"redraw\": true}, \"mode\": \"immediate\", \"transition\": {\"duration\": 0}}], \"label\": \"25\", \"method\": \"animate\"}, {\"args\": [[\"frame26\"], {\"frame\": {\"duration\": 70, \"redraw\": true}, \"mode\": \"immediate\", \"transition\": {\"duration\": 0}}], \"label\": \"26\", \"method\": \"animate\"}, {\"args\": [[\"frame27\"], {\"frame\": {\"duration\": 70, \"redraw\": true}, \"mode\": \"immediate\", \"transition\": {\"duration\": 0}}], \"label\": \"27\", \"method\": \"animate\"}, {\"args\": [[\"frame28\"], {\"frame\": {\"duration\": 70, \"redraw\": true}, \"mode\": \"immediate\", \"transition\": {\"duration\": 0}}], \"label\": \"28\", \"method\": \"animate\"}, {\"args\": [[\"frame29\"], {\"frame\": {\"duration\": 70, \"redraw\": true}, \"mode\": \"immediate\", \"transition\": {\"duration\": 0}}], \"label\": \"29\", \"method\": \"animate\"}, {\"args\": [[\"frame30\"], {\"frame\": {\"duration\": 70, \"redraw\": true}, \"mode\": \"immediate\", \"transition\": {\"duration\": 0}}], \"label\": \"30\", \"method\": \"animate\"}], \"transition\": {\"duration\": 0}, \"x\": 0, \"y\": 0}], \"title\": {\"text\": \"action animation\"}, \"updatemenus\": [{\"buttons\": [{\"args\": [null], \"label\": \"Play\", \"method\": \"animate\"}], \"pad\": {\"r\": 10, \"t\": 0}, \"showactive\": false, \"type\": \"buttons\", \"x\": 1.3, \"xanchor\": \"right\", \"y\": 1, \"yanchor\": \"top\"}], \"width\": 800},\n",
       "                        {\"linkText\": \"Export to plot.ly\", \"showLink\": false, \"plotlyServerURL\": \"https://plot.ly\", \"responsive\": true}\n",
       "                    ).then(function(){\n",
       "                            Plotly.addFrames('c43fe93f-1a40-45c9-8945-fee53ae37561', [{\"data\": [{\"y\": [2.1984085589647293, 2.011849765665829], \"z\": [10.131139770150185, 9.999753076350316], \"type\": \"scatter3d\", \"x\": [0.16994065046310425, -0.0027418718673288822], \"text\": [\"RHip\"], \"marker\": {\"color\": \"blue\", \"size\": 2}, \"line\": {\"color\": \"red\", \"width\": 5}}, {\"y\": [3.0064395666122437, 2.1984085589647293], \"z\": [10.59465777873993, 10.131139770150185], \"type\": \"scatter3d\", \"x\": [0.21524392068386078, 0.16994065046310425], \"text\": [\"RKnee\"], \"marker\": {\"color\": \"blue\", \"size\": 2}, \"line\": {\"color\": \"red\", \"width\": 5}}, {\"y\": [3.659814953804016, 3.0064395666122437], \"z\": [10.070103488862514, 10.59465777873993], \"type\": \"scatter3d\", \"x\": [0.190170556306839, 0.21524392068386078], \"text\": [\"RAnkle\"], \"marker\": {\"color\": \"blue\", \"size\": 2}, \"line\": {\"color\": \"red\", \"width\": 5}}, {\"y\": [2.2111804634332657, 2.011849765665829], \"z\": [10.127653047442436, 9.999753076350316], \"type\": \"scatter3d\", \"x\": [-0.13013646006584167, -0.0027418718673288822], \"text\": [\"LHip\"], \"marker\": {\"color\": \"blue\", \"size\": 2}, \"line\": {\"color\": \"black\", \"width\": 5}}, {\"y\": [3.021841526031494, 2.2111804634332657], \"z\": [10.294957429170609, 10.127653047442436], \"type\": \"scatter3d\", \"x\": [-0.10012688487768173, -0.13013646006584167], \"text\": [\"LKnee\"], \"marker\": {\"color\": \"blue\", \"size\": 2}, \"line\": {\"color\": \"black\", \"width\": 5}}, {\"y\": [3.7000309228897095, 3.021841526031494], \"z\": [9.75118088722229, 10.294957429170609], \"type\": \"scatter3d\", \"x\": [-0.042567379772663116, -0.10012688487768173], \"text\": [\"LAnkle\"], \"marker\": {\"color\": \"blue\", \"size\": 2}, \"line\": {\"color\": \"black\", \"width\": 5}}, {\"y\": [1.5809186697006226, 2.011849765665829], \"z\": [10.126129537820816, 9.999753076350316], \"type\": \"scatter3d\", \"x\": [-0.03959568962454796, -0.0027418718673288822], \"text\": [\"Spine1\"], \"marker\": {\"color\": \"blue\", \"size\": 2}, \"line\": {\"color\": \"black\", \"width\": 5}}, {\"y\": [1.1796957850456238, 1.5809186697006226], \"z\": [10.25620585680008, 10.126129537820816], \"type\": \"scatter3d\", \"x\": [-0.03610718995332718, -0.03959568962454796], \"text\": [\"Neck\"], \"marker\": {\"color\": \"blue\", \"size\": 2}, \"line\": {\"color\": \"black\", \"width\": 5}}, {\"y\": [0.9804559946060181, 1.1796957850456238], \"z\": [10.294046849012375, 10.25620585680008], \"type\": \"scatter3d\", \"x\": [-0.034108929336071014, -0.03610718995332718], \"text\": [\"Head\"], \"marker\": {\"color\": \"blue\", \"size\": 2}, \"line\": {\"color\": \"black\", \"width\": 5}}, {\"y\": [0.7854218482971191, 0.9804559946060181], \"z\": [10.348779559135437, 10.294046849012375], \"type\": \"scatter3d\", \"x\": [-0.022280320525169373, -0.034108929336071014], \"text\": [\"Site\"], \"marker\": {\"color\": \"blue\", \"size\": 2}, \"line\": {\"color\": \"black\", \"width\": 5}}, {\"y\": [1.2213638424873352, 1.1796957850456238], \"z\": [10.156338185071945, 10.25620585680008], \"type\": \"scatter3d\", \"x\": [-0.41524064540863037, -0.03610718995332718], \"text\": [\"LShoulder\"], \"marker\": {\"color\": \"blue\", \"size\": 2}, \"line\": {\"color\": \"black\", \"width\": 5}}, {\"y\": [2.075349599123001, 1.2213638424873352], \"z\": [10.174479246139526, 10.156338185071945], \"type\": \"scatter3d\", \"x\": [-0.5634458661079407, -0.41524064540863037], \"text\": [\"LElbow\"], \"marker\": {\"color\": \"blue\", \"size\": 2}, \"line\": {\"color\": \"black\", \"width\": 5}}, {\"y\": [2.2415172904729843, 2.075349599123001], \"z\": [10.30929321050644, 10.174479246139526], \"type\": \"scatter3d\", \"x\": [-0.6102854013442993, -0.5634458661079407], \"text\": [\"LWrist\"], \"marker\": {\"color\": \"blue\", \"size\": 2}, \"line\": {\"color\": \"black\", \"width\": 5}}, {\"y\": [1.2071815133094788, 1.1796957850456238], \"z\": [10.207605540752411, 10.25620585680008], \"type\": \"scatter3d\", \"x\": [0.3097112476825714, -0.03610718995332718], \"text\": [\"RShoulder\"], \"marker\": {\"color\": \"blue\", \"size\": 2}, \"line\": {\"color\": \"red\", \"width\": 5}}, {\"y\": [2.0959878340363503, 1.2071815133094788], \"z\": [10.231924414634705, 10.207605540752411], \"type\": \"scatter3d\", \"x\": [0.4542078375816345, 0.3097112476825714], \"text\": [\"RElbow\"], \"marker\": {\"color\": \"blue\", \"size\": 2}, \"line\": {\"color\": \"red\", \"width\": 5}}, {\"y\": [2.2651628851890564, 2.0959878340363503], \"z\": [10.347127944231033, 10.231924414634705], \"type\": \"scatter3d\", \"x\": [0.49016711115837097, 0.4542078375816345], \"text\": [\"RWrist\"], \"marker\": {\"color\": \"blue\", \"size\": 2}, \"line\": {\"color\": \"red\", \"width\": 5}}, {\"y\": [], \"z\": [], \"type\": \"scatter3d\", \"x\": [], \"marker\": {\"color\": \"#1f77b4\", \"size\": 1}, \"line\": {\"color\": \"#1f77b4\", \"width\": 1}}], \"name\": \"frame1\"}, {\"data\": [{\"y\": [2.179888978600502, 2.0113775432109833], \"z\": [10.131361529231071, 9.999828980944585], \"type\": \"scatter3d\", \"x\": [0.1653643250465393, -0.0030006198212504387], \"text\": [\"RHip\"], \"marker\": {\"color\": \"blue\", \"size\": 2}, \"line\": {\"color\": \"red\", \"width\": 5}}, {\"y\": [2.952127456665039, 2.179888978600502], \"z\": [10.617323696613312, 10.131361529231071], \"type\": \"scatter3d\", \"x\": [0.18022026121616364, 0.1653643250465393], \"text\": [\"RKnee\"], \"marker\": {\"color\": \"blue\", \"size\": 2}, \"line\": {\"color\": \"red\", \"width\": 5}}, {\"y\": [3.7253414392471313, 2.952127456665039], \"z\": [10.522871494293213, 10.617323696613312], \"type\": \"scatter3d\", \"x\": [0.20754340291023254, 0.18022026121616364], \"text\": [\"RAnkle\"], \"marker\": {\"color\": \"blue\", \"size\": 2}, \"line\": {\"color\": \"red\", \"width\": 5}}, {\"y\": [2.2013017535209656, 2.0113775432109833], \"z\": [10.121952265501022, 9.999828980944585], \"type\": \"scatter3d\", \"x\": [-0.11099357903003693, -0.0030006198212504387], \"text\": [\"LHip\"], \"marker\": {\"color\": \"blue\", \"size\": 2}, \"line\": {\"color\": \"black\", \"width\": 5}}, {\"y\": [2.87979918718338, 2.2013017535209656], \"z\": [10.215764090418816, 10.121952265501022], \"type\": \"scatter3d\", \"x\": [-0.10831566900014877, -0.11099357903003693], \"text\": [\"LKnee\"], \"marker\": {\"color\": \"blue\", \"size\": 2}, \"line\": {\"color\": \"black\", \"width\": 5}}, {\"y\": [3.5359137058258057, 2.87979918718338], \"z\": [9.710226893424988, 10.215764090418816], \"type\": \"scatter3d\", \"x\": [-0.09628159552812576, -0.10831566900014877], \"text\": [\"LAnkle\"], \"marker\": {\"color\": \"blue\", \"size\": 2}, \"line\": {\"color\": \"black\", \"width\": 5}}, {\"y\": [1.6105754673480988, 2.0113775432109833], \"z\": [10.118930391967297, 9.999828980944585], \"type\": \"scatter3d\", \"x\": [-0.023997224867343903, -0.0030006198212504387], \"text\": [\"Spine1\"], \"marker\": {\"color\": \"blue\", \"size\": 2}, \"line\": {\"color\": \"black\", \"width\": 5}}, {\"y\": [1.2438017129898071, 1.6105754673480988], \"z\": [10.240732312202454, 10.118930391967297], \"type\": \"scatter3d\", \"x\": [-0.022904997691512108, -0.023997224867343903], \"text\": [\"Neck\"], \"marker\": {\"color\": \"blue\", \"size\": 2}, \"line\": {\"color\": \"black\", \"width\": 5}}, {\"y\": [1.0575979351997375, 1.2438017129898071], \"z\": [10.26886761188507, 10.240732312202454], \"type\": \"scatter3d\", \"x\": [-0.025614693760871887, -0.022904997691512108], \"text\": [\"Head\"], \"marker\": {\"color\": \"blue\", \"size\": 2}, \"line\": {\"color\": \"black\", \"width\": 5}}, {\"y\": [0.8758041858673096, 1.0575979351997375], \"z\": [10.31031209230423, 10.26886761188507], \"type\": \"scatter3d\", \"x\": [-0.016635462641716003, -0.025614693760871887], \"text\": [\"Site\"], \"marker\": {\"color\": \"blue\", \"size\": 2}, \"line\": {\"color\": \"black\", \"width\": 5}}, {\"y\": [1.2669281959533691, 1.2438017129898071], \"z\": [10.147469878196716, 10.240732312202454], \"type\": \"scatter3d\", \"x\": [-0.36186307668685913, -0.022904997691512108], \"text\": [\"LShoulder\"], \"marker\": {\"color\": \"blue\", \"size\": 2}, \"line\": {\"color\": \"black\", \"width\": 5}}, {\"y\": [2.029304465278983, 1.2669281959533691], \"z\": [10.162030220031738, 10.147469878196716], \"type\": \"scatter3d\", \"x\": [-0.5265530943870544, -0.36186307668685913], \"text\": [\"LElbow\"], \"marker\": {\"color\": \"blue\", \"size\": 2}, \"line\": {\"color\": \"black\", \"width\": 5}}, {\"y\": [2.177996903657913, 2.029304465278983], \"z\": [10.287453830242157, 10.162030220031738], \"type\": \"scatter3d\", \"x\": [-0.5879854559898376, -0.5265530943870544], \"text\": [\"LWrist\"], \"marker\": {\"color\": \"blue\", \"size\": 2}, \"line\": {\"color\": \"black\", \"width\": 5}}, {\"y\": [1.2780835032463074, 1.2438017129898071], \"z\": [10.193633005023003, 10.240732312202454], \"type\": \"scatter3d\", \"x\": [0.29265454411506653, -0.022904997691512108], \"text\": [\"RShoulder\"], \"marker\": {\"color\": \"blue\", \"size\": 2}, \"line\": {\"color\": \"red\", \"width\": 5}}, {\"y\": [2.0962408781051636, 1.2780835032463074], \"z\": [10.159806296229362, 10.193633005023003], \"type\": \"scatter3d\", \"x\": [0.3941355347633362, 0.29265454411506653], \"text\": [\"RElbow\"], \"marker\": {\"color\": \"blue\", \"size\": 2}, \"line\": {\"color\": \"red\", \"width\": 5}}, {\"y\": [2.2388133257627487, 2.0962408781051636], \"z\": [10.237946808338165, 10.159806296229362], \"type\": \"scatter3d\", \"x\": [0.40672793984413147, 0.3941355347633362], \"text\": [\"RWrist\"], \"marker\": {\"color\": \"blue\", \"size\": 2}, \"line\": {\"color\": \"red\", \"width\": 5}}, {\"y\": [2.011849765665829], \"z\": [9.999753076350316], \"type\": \"scatter3d\", \"x\": [-0.0027418718673288822], \"marker\": {\"color\": \"#1f77b4\", \"size\": 1}, \"line\": {\"color\": \"#1f77b4\", \"width\": 1}}], \"name\": \"frame2\"}, {\"data\": [{\"y\": [2.1251494139432907, 2.0116708986461163], \"z\": [10.121422626078129, 9.999864725163206], \"type\": \"scatter3d\", \"x\": [0.10089073330163956, -0.0030568535439670086], \"text\": [\"RHip\"], \"marker\": {\"color\": \"blue\", \"size\": 2}, \"line\": {\"color\": \"red\", \"width\": 5}}, {\"y\": [2.733714461326599, 2.1251494139432907], \"z\": [10.642839789390564, 10.121422626078129], \"type\": \"scatter3d\", \"x\": [0.10596418380737305, 0.10089073330163956], \"text\": [\"RKnee\"], \"marker\": {\"color\": \"blue\", \"size\": 2}, \"line\": {\"color\": \"red\", \"width\": 5}}, {\"y\": [3.3542248010635376, 2.733714461326599], \"z\": [10.597746133804321, 10.642839789390564], \"type\": \"scatter3d\", \"x\": [0.1319717913866043, 0.10596418380737305], \"text\": [\"RAnkle\"], \"marker\": {\"color\": \"blue\", \"size\": 2}, \"line\": {\"color\": \"red\", \"width\": 5}}, {\"y\": [2.151673138141632, 2.0116708986461163], \"z\": [10.135338842868805, 9.999864725163206], \"type\": \"scatter3d\", \"x\": [-0.05691145360469818, -0.0030568535439670086], \"text\": [\"LHip\"], \"marker\": {\"color\": \"blue\", \"size\": 2}, \"line\": {\"color\": \"black\", \"width\": 5}}, {\"y\": [2.609785795211792, 2.151673138141632], \"z\": [10.141029596328735, 10.135338842868805], \"type\": \"scatter3d\", \"x\": [-0.11029006540775299, -0.05691145360469818], \"text\": [\"LKnee\"], \"marker\": {\"color\": \"blue\", \"size\": 2}, \"line\": {\"color\": \"black\", \"width\": 5}}, {\"y\": [3.1069798469543457, 2.609785795211792], \"z\": [9.65750914812088, 10.141029596328735], \"type\": \"scatter3d\", \"x\": [-0.13693898916244507, -0.11029006540775299], \"text\": [\"LAnkle\"], \"marker\": {\"color\": \"blue\", \"size\": 2}, \"line\": {\"color\": \"black\", \"width\": 5}}, {\"y\": [1.6911471784114838, 2.0116708986461163], \"z\": [10.105900257825851, 9.999864725163206], \"type\": \"scatter3d\", \"x\": [-0.007115915417671204, -0.0030568535439670086], \"text\": [\"Spine1\"], \"marker\": {\"color\": \"blue\", \"size\": 2}, \"line\": {\"color\": \"black\", \"width\": 5}}, {\"y\": [1.4004012942314148, 1.6911471784114838], \"z\": [10.21757385134697, 10.105900257825851], \"type\": \"scatter3d\", \"x\": [-0.003396114334464073, -0.007115915417671204], \"text\": [\"Neck\"], \"marker\": {\"color\": \"blue\", \"size\": 2}, \"line\": {\"color\": \"black\", \"width\": 5}}, {\"y\": [1.250045359134674, 1.4004012942314148], \"z\": [10.249027281999588, 10.21757385134697], \"type\": \"scatter3d\", \"x\": [-0.0004576967330649495, -0.003396114334464073], \"text\": [\"Head\"], \"marker\": {\"color\": \"blue\", \"size\": 2}, \"line\": {\"color\": \"black\", \"width\": 5}}, {\"y\": [1.1027339696884155, 1.250045359134674], \"z\": [10.294571340084076, 10.249027281999588], \"type\": \"scatter3d\", \"x\": [0.009561276063323021, -0.0004576967330649495], \"text\": [\"Site\"], \"marker\": {\"color\": \"blue\", \"size\": 2}, \"line\": {\"color\": \"black\", \"width\": 5}}, {\"y\": [1.4199681878089905, 1.4004012942314148], \"z\": [10.159939348697662, 10.21757385134697], \"type\": \"scatter3d\", \"x\": [-0.19786064326763153, -0.003396114334464073], \"text\": [\"LShoulder\"], \"marker\": {\"color\": \"blue\", \"size\": 2}, \"line\": {\"color\": \"black\", \"width\": 5}}, {\"y\": [1.9909762721508741, 1.4199681878089905], \"z\": [10.21793931722641, 10.159939348697662], \"type\": \"scatter3d\", \"x\": [-0.32653170824050903, -0.19786064326763153], \"text\": [\"LElbow\"], \"marker\": {\"color\": \"blue\", \"size\": 2}, \"line\": {\"color\": \"black\", \"width\": 5}}, {\"y\": [2.105913981795311, 1.9909762721508741], \"z\": [10.350225538015366, 10.21793931722641], \"type\": \"scatter3d\", \"x\": [-0.37258538603782654, -0.32653170824050903], \"text\": [\"LWrist\"], \"marker\": {\"color\": \"blue\", \"size\": 2}, \"line\": {\"color\": \"black\", \"width\": 5}}, {\"y\": [1.4302394390106201, 1.4004012942314148], \"z\": [10.135837033390999, 10.21757385134697], \"type\": \"scatter3d\", \"x\": [0.17653225362300873, -0.003396114334464073], \"text\": [\"RShoulder\"], \"marker\": {\"color\": \"blue\", \"size\": 2}, \"line\": {\"color\": \"red\", \"width\": 5}}, {\"y\": [2.008803367614746, 1.4302394390106201], \"z\": [10.088096551597118, 10.135837033390999], \"type\": \"scatter3d\", \"x\": [0.17046432197093964, 0.17653225362300873], \"text\": [\"RElbow\"], \"marker\": {\"color\": \"blue\", \"size\": 2}, \"line\": {\"color\": \"red\", \"width\": 5}}, {\"y\": [2.1023294180631638, 2.008803367614746], \"z\": [10.16452057659626, 10.088096551597118], \"type\": \"scatter3d\", \"x\": [0.1601983606815338, 0.17046432197093964], \"text\": [\"RWrist\"], \"marker\": {\"color\": \"blue\", \"size\": 2}, \"line\": {\"color\": \"red\", \"width\": 5}}, {\"y\": [2.011849765665829, 2.0113775432109833], \"z\": [9.999753076350316, 9.999828980944585], \"type\": \"scatter3d\", \"x\": [-0.0027418718673288822, -0.0030006198212504387], \"marker\": {\"color\": \"#1f77b4\", \"size\": 1}, \"line\": {\"color\": \"#1f77b4\", \"width\": 1}}], \"name\": \"frame3\"}, {\"data\": [{\"y\": [2.060304533690214, 2.0116401202976704], \"z\": [10.09893624484539, 9.99974051915342], \"type\": \"scatter3d\", \"x\": [0.01223792601376772, -0.0032310402020812035], \"text\": [\"RHip\"], \"marker\": {\"color\": \"blue\", \"size\": 2}, \"line\": {\"color\": \"red\", \"width\": 5}}, {\"y\": [2.3594137132167816, 2.060304533690214], \"z\": [10.524821877479553, 10.09893624484539], \"type\": \"scatter3d\", \"x\": [0.06576168537139893, 0.01223792601376772], \"text\": [\"RKnee\"], \"marker\": {\"color\": \"blue\", \"size\": 2}, \"line\": {\"color\": \"red\", \"width\": 5}}, {\"y\": [2.45626699924469, 2.3594137132167816], \"z\": [10.332918792963028, 10.524821877479553], \"type\": \"scatter3d\", \"x\": [0.07316749542951584, 0.06576168537139893], \"text\": [\"RAnkle\"], \"marker\": {\"color\": \"blue\", \"size\": 2}, \"line\": {\"color\": \"red\", \"width\": 5}}, {\"y\": [2.0557171925902367, 2.0116401202976704], \"z\": [10.152326136827469, 9.99974051915342], \"type\": \"scatter3d\", \"x\": [0.004514333792030811, -0.0032310402020812035], \"text\": [\"LHip\"], \"marker\": {\"color\": \"blue\", \"size\": 2}, \"line\": {\"color\": \"black\", \"width\": 5}}, {\"y\": [2.2128200829029083, 2.0557171925902367], \"z\": [10.340285062789917, 10.152326136827469], \"type\": \"scatter3d\", \"x\": [3.69315966963768e-05, 0.004514333792030811], \"text\": [\"LKnee\"], \"marker\": {\"color\": \"blue\", \"size\": 2}, \"line\": {\"color\": \"black\", \"width\": 5}}, {\"y\": [2.4445234537124634, 2.2128200829029083], \"z\": [9.655945718288422, 10.340285062789917], \"type\": \"scatter3d\", \"x\": [-0.05078566074371338, 3.69315966963768e-05], \"text\": [\"LAnkle\"], \"marker\": {\"color\": \"blue\", \"size\": 2}, \"line\": {\"color\": \"black\", \"width\": 5}}, {\"y\": [1.8841914311051369, 2.0116401202976704], \"z\": [10.099634639918804, 9.99974051915342], \"type\": \"scatter3d\", \"x\": [0.0028183022513985634, -0.0032310402020812035], \"text\": [\"Spine1\"], \"marker\": {\"color\": \"blue\", \"size\": 2}, \"line\": {\"color\": \"black\", \"width\": 5}}, {\"y\": [1.767916351556778, 1.8841914311051369], \"z\": [10.201812669634819, 10.099634639918804], \"type\": \"scatter3d\", \"x\": [-0.006909306161105633, 0.0028183022513985634], \"text\": [\"Neck\"], \"marker\": {\"color\": \"blue\", \"size\": 2}, \"line\": {\"color\": \"black\", \"width\": 5}}, {\"y\": [1.7182031571865082, 1.767916351556778], \"z\": [10.234266549348831, 10.201812669634819], \"type\": \"scatter3d\", \"x\": [0.00038109347224235535, -0.006909306161105633], \"text\": [\"Head\"], \"marker\": {\"color\": \"blue\", \"size\": 2}, \"line\": {\"color\": \"black\", \"width\": 5}}, {\"y\": [1.6734681725502014, 1.7182031571865082], \"z\": [10.285906314849854, 10.234266549348831], \"type\": \"scatter3d\", \"x\": [0.00952225923538208, 0.00038109347224235535], \"text\": [\"Site\"], \"marker\": {\"color\": \"blue\", \"size\": 2}, \"line\": {\"color\": \"black\", \"width\": 5}}, {\"y\": [1.7722180485725403, 1.767916351556778], \"z\": [10.186076298356056, 10.201812669634819], \"type\": \"scatter3d\", \"x\": [-0.02003037929534912, -0.006909306161105633], \"text\": [\"LShoulder\"], \"marker\": {\"color\": \"blue\", \"size\": 2}, \"line\": {\"color\": \"black\", \"width\": 5}}, {\"y\": [1.9804486688226461, 1.7722180485725403], \"z\": [10.290302723646164, 10.186076298356056], \"type\": \"scatter3d\", \"x\": [-0.056035831570625305, -0.02003037929534912], \"text\": [\"LElbow\"], \"marker\": {\"color\": \"blue\", \"size\": 2}, \"line\": {\"color\": \"black\", \"width\": 5}}, {\"y\": [2.037509061396122, 1.9804486688226461], \"z\": [10.434300929307938, 10.290302723646164], \"type\": \"scatter3d\", \"x\": [-0.0710127055644989, -0.056035831570625305], \"text\": [\"LWrist\"], \"marker\": {\"color\": \"blue\", \"size\": 2}, \"line\": {\"color\": \"black\", \"width\": 5}}, {\"y\": [1.7825275659561157, 1.767916351556778], \"z\": [10.09826847910881, 10.201812669634819], \"type\": \"scatter3d\", \"x\": [0.01441554818302393, -0.006909306161105633], \"text\": [\"RShoulder\"], \"marker\": {\"color\": \"blue\", \"size\": 2}, \"line\": {\"color\": \"red\", \"width\": 5}}, {\"y\": [1.980215858668089, 1.7825275659561157], \"z\": [10.086591266095638, 10.09826847910881], \"type\": \"scatter3d\", \"x\": [-0.025289393961429596, 0.01441554818302393], \"text\": [\"RElbow\"], \"marker\": {\"color\": \"blue\", \"size\": 2}, \"line\": {\"color\": \"red\", \"width\": 5}}, {\"y\": [2.02207013964653, 1.980215858668089], \"z\": [10.158337011933327, 10.086591266095638], \"type\": \"scatter3d\", \"x\": [-0.04597480222582817, -0.025289393961429596], \"text\": [\"RWrist\"], \"marker\": {\"color\": \"blue\", \"size\": 2}, \"line\": {\"color\": \"red\", \"width\": 5}}, {\"y\": [2.011849765665829, 2.0113775432109833, 2.0116708986461163], \"z\": [9.999753076350316, 9.999828980944585, 9.999864725163206], \"type\": \"scatter3d\", \"x\": [-0.0027418718673288822, -0.0030006198212504387, -0.0030568535439670086], \"marker\": {\"color\": \"#1f77b4\", \"size\": 1}, \"line\": {\"color\": \"#1f77b4\", \"width\": 1}}], \"name\": \"frame4\"}, {\"data\": [{\"y\": [2.02887068875134, 2.0106278993189335], \"z\": [10.102747097611427, 10.000227494572755], \"type\": \"scatter3d\", \"x\": [-0.024165883660316467, -0.0022897955495864153], \"text\": [\"RHip\"], \"marker\": {\"color\": \"blue\", \"size\": 2}, \"line\": {\"color\": \"red\", \"width\": 5}}, {\"y\": [2.10668882727623, 2.02887068875134], \"z\": [10.468882024288177, 10.102747097611427], \"type\": \"scatter3d\", \"x\": [-0.025153499096632004, -0.024165883660316467], \"text\": [\"RKnee\"], \"marker\": {\"color\": \"blue\", \"size\": 2}, \"line\": {\"color\": \"red\", \"width\": 5}}, {\"y\": [2.0708599910140038, 2.10668882727623], \"z\": [10.195827230811119, 10.468882024288177], \"type\": \"scatter3d\", \"x\": [-0.011681664735078812, -0.025153499096632004], \"text\": [\"RAnkle\"], \"marker\": {\"color\": \"blue\", \"size\": 2}, \"line\": {\"color\": \"red\", \"width\": 5}}, {\"y\": [2.012822582386434, 2.0106278993189335], \"z\": [10.14218856394291, 10.000227494572755], \"type\": \"scatter3d\", \"x\": [0.013783298432826996, -0.0022897955495864153], \"text\": [\"LHip\"], \"marker\": {\"color\": \"blue\", \"size\": 2}, \"line\": {\"color\": \"black\", \"width\": 5}}, {\"y\": [2.0906640142202377, 2.012822582386434], \"z\": [10.553406298160553, 10.14218856394291], \"type\": \"scatter3d\", \"x\": [0.0035392760764807463, 0.013783298432826996], \"text\": [\"LKnee\"], \"marker\": {\"color\": \"blue\", \"size\": 2}, \"line\": {\"color\": \"black\", \"width\": 5}}, {\"y\": [2.129846543073654, 2.0906640142202377], \"z\": [9.998956181108952, 10.553406298160553], \"type\": \"scatter3d\", \"x\": [-0.02118537575006485, 0.0035392760764807463], \"text\": [\"LAnkle\"], \"marker\": {\"color\": \"blue\", \"size\": 2}, \"line\": {\"color\": \"black\", \"width\": 5}}, {\"y\": [1.9829212930053473, 2.0106278993189335], \"z\": [10.12402592599392, 10.000227494572755], \"type\": \"scatter3d\", \"x\": [0.007386248558759689, -0.0022897955495864153], \"text\": [\"Spine1\"], \"marker\": {\"color\": \"blue\", \"size\": 2}, \"line\": {\"color\": \"black\", \"width\": 5}}, {\"y\": [1.9624392464756966, 1.9829212930053473], \"z\": [10.244868949055672, 10.12402592599392], \"type\": \"scatter3d\", \"x\": [0.000887751579284668, 0.007386248558759689], \"text\": [\"Neck\"], \"marker\": {\"color\": \"blue\", \"size\": 2}, \"line\": {\"color\": \"black\", \"width\": 5}}, {\"y\": [1.950768955051899, 1.9624392464756966], \"z\": [10.27609246969223, 10.244868949055672], \"type\": \"scatter3d\", \"x\": [0.0017025740817189217, 0.000887751579284668], \"text\": [\"Head\"], \"marker\": {\"color\": \"blue\", \"size\": 2}, \"line\": {\"color\": \"black\", \"width\": 5}}, {\"y\": [1.943641234189272, 1.950768955051899], \"z\": [10.324818730354309, 10.27609246969223], \"type\": \"scatter3d\", \"x\": [0.003936441615223885, 0.0017025740817189217], \"text\": [\"Site\"], \"marker\": {\"color\": \"blue\", \"size\": 2}, \"line\": {\"color\": \"black\", \"width\": 5}}, {\"y\": [1.9634515419602394, 1.9624392464756966], \"z\": [10.194635033607483, 10.244868949055672], \"type\": \"scatter3d\", \"x\": [0.04831671342253685, 0.000887751579284668], \"text\": [\"LShoulder\"], \"marker\": {\"color\": \"blue\", \"size\": 2}, \"line\": {\"color\": \"black\", \"width\": 5}}, {\"y\": [2.003472223877907, 1.9634515419602394], \"z\": [10.28049722313881, 10.194635033607483], \"type\": \"scatter3d\", \"x\": [0.030066292732954025, 0.04831671342253685], \"text\": [\"LElbow\"], \"marker\": {\"color\": \"blue\", \"size\": 2}, \"line\": {\"color\": \"black\", \"width\": 5}}, {\"y\": [2.0245416034013033, 2.003472223877907], \"z\": [10.40501818060875, 10.28049722313881], \"type\": \"scatter3d\", \"x\": [0.01430082693696022, 0.030066292732954025], \"text\": [\"LWrist\"], \"marker\": {\"color\": \"blue\", \"size\": 2}, \"line\": {\"color\": \"black\", \"width\": 5}}, {\"y\": [1.9500630423426628, 1.9624392464756966], \"z\": [10.172698244452477, 10.244868949055672], \"type\": \"scatter3d\", \"x\": [-0.04536591097712517, 0.000887751579284668], \"text\": [\"RShoulder\"], \"marker\": {\"color\": \"blue\", \"size\": 2}, \"line\": {\"color\": \"red\", \"width\": 5}}, {\"y\": [1.9786397069692612, 1.9500630423426628], \"z\": [10.210061892867088, 10.172698244452477], \"type\": \"scatter3d\", \"x\": [-0.11432744562625885, -0.04536591097712517], \"text\": [\"RElbow\"], \"marker\": {\"color\": \"blue\", \"size\": 2}, \"line\": {\"color\": \"red\", \"width\": 5}}, {\"y\": [1.9848309829831123, 1.9786397069692612], \"z\": [10.318847119808197, 10.210061892867088], \"type\": \"scatter3d\", \"x\": [-0.12551744282245636, -0.11432744562625885], \"text\": [\"RWrist\"], \"marker\": {\"color\": \"blue\", \"size\": 2}, \"line\": {\"color\": \"red\", \"width\": 5}}, {\"y\": [2.011849765665829, 2.0113775432109833, 2.0116708986461163, 2.0116401202976704], \"z\": [9.999753076350316, 9.999828980944585, 9.999864725163206, 9.99974051915342], \"type\": \"scatter3d\", \"x\": [-0.0027418718673288822, -0.0030006198212504387, -0.0030568535439670086, -0.0032310402020812035], \"marker\": {\"color\": \"#1f77b4\", \"size\": 1}, \"line\": {\"color\": \"#1f77b4\", \"width\": 1}}], \"name\": \"frame5\"}, {\"data\": [{\"y\": [1.9922129046171904, 2.01270847953856], \"z\": [10.112805426120758, 9.998863602988422], \"type\": \"scatter3d\", \"x\": [-0.06372283399105072, -0.003721669316291809], \"text\": [\"RHip\"], \"marker\": {\"color\": \"blue\", \"size\": 2}, \"line\": {\"color\": \"red\", \"width\": 5}}, {\"y\": [1.878350868821144, 1.9922129046171904], \"z\": [10.327573955059052, 10.112805426120758], \"type\": \"scatter3d\", \"x\": [-0.07594319432973862, -0.06372283399105072], \"text\": [\"RKnee\"], \"marker\": {\"color\": \"blue\", \"size\": 2}, \"line\": {\"color\": \"red\", \"width\": 5}}, {\"y\": [1.7085314393043518, 1.878350868821144], \"z\": [10.066915646195412, 10.327573955059052], \"type\": \"scatter3d\", \"x\": [-0.015273083001375198, -0.07594319432973862], \"text\": [\"RAnkle\"], \"marker\": {\"color\": \"blue\", \"size\": 2}, \"line\": {\"color\": \"red\", \"width\": 5}}, {\"y\": [1.9705085847526789, 2.01270847953856], \"z\": [10.123915761709213, 9.998863602988422], \"type\": \"scatter3d\", \"x\": [0.0061605144292116165, -0.003721669316291809], \"text\": [\"LHip\"], \"marker\": {\"color\": \"blue\", \"size\": 2}, \"line\": {\"color\": \"black\", \"width\": 5}}, {\"y\": [1.990755908191204, 1.9705085847526789], \"z\": [10.600190162658691, 10.123915761709213], \"type\": \"scatter3d\", \"x\": [-0.0019789072684943676, 0.0061605144292116165], \"text\": [\"LKnee\"], \"marker\": {\"color\": \"blue\", \"size\": 2}, \"line\": {\"color\": \"black\", \"width\": 5}}, {\"y\": [1.8283587098121643, 1.990755908191204], \"z\": [10.49188295006752, 10.600190162658691], \"type\": \"scatter3d\", \"x\": [0.022924859076738358, -0.0019789072684943676], \"text\": [\"LAnkle\"], \"marker\": {\"color\": \"blue\", \"size\": 2}, \"line\": {\"color\": \"black\", \"width\": 5}}, {\"y\": [2.074470564723015, 2.01270847953856], \"z\": [10.147754073143005, 9.998863602988422], \"type\": \"scatter3d\", \"x\": [-0.018212269991636276, -0.003721669316291809], \"text\": [\"Spine1\"], \"marker\": {\"color\": \"blue\", \"size\": 2}, \"line\": {\"color\": \"black\", \"width\": 5}}, {\"y\": [2.1318534165620804, 2.074470564723015], \"z\": [10.275534987449646, 10.147754073143005], \"type\": \"scatter3d\", \"x\": [-0.01814556121826172, -0.018212269991636276], \"text\": [\"Neck\"], \"marker\": {\"color\": \"blue\", \"size\": 2}, \"line\": {\"color\": \"black\", \"width\": 5}}, {\"y\": [2.1615391820669174, 2.1318534165620804], \"z\": [10.313204407691956, 10.275534987449646], \"type\": \"scatter3d\", \"x\": [-0.005663697607815266, -0.01814556121826172], \"text\": [\"Head\"], \"marker\": {\"color\": \"blue\", \"size\": 2}, \"line\": {\"color\": \"black\", \"width\": 5}}, {\"y\": [2.1881549656391144, 2.1615391820669174], \"z\": [10.365261614322662, 10.313204407691956], \"type\": \"scatter3d\", \"x\": [-0.0021834783256053925, -0.005663697607815266], \"text\": [\"Site\"], \"marker\": {\"color\": \"blue\", \"size\": 2}, \"line\": {\"color\": \"black\", \"width\": 5}}, {\"y\": [2.1431930661201477, 2.1318534165620804], \"z\": [10.180716842412949, 10.275534987449646], \"type\": \"scatter3d\", \"x\": [0.08555442839860916, -0.01814556121826172], \"text\": [\"LShoulder\"], \"marker\": {\"color\": \"blue\", \"size\": 2}, \"line\": {\"color\": \"black\", \"width\": 5}}, {\"y\": [2.0381985157728195, 2.1431930661201477], \"z\": [10.181335881352425, 10.180716842412949], \"type\": \"scatter3d\", \"x\": [0.05991745367646217, 0.08555442839860916], \"text\": [\"LElbow\"], \"marker\": {\"color\": \"blue\", \"size\": 2}, \"line\": {\"color\": \"black\", \"width\": 5}}, {\"y\": [2.0264060832560062, 2.0381985157728195], \"z\": [10.287789165973663, 10.181335881352425], \"type\": \"scatter3d\", \"x\": [0.05870075896382332, 0.05991745367646217], \"text\": [\"LWrist\"], \"marker\": {\"color\": \"blue\", \"size\": 2}, \"line\": {\"color\": \"black\", \"width\": 5}}, {\"y\": [2.1035851538181305, 2.1318534165620804], \"z\": [10.25368270277977, 10.275534987449646], \"type\": \"scatter3d\", \"x\": [-0.1127130538225174, -0.01814556121826172], \"text\": [\"RShoulder\"], \"marker\": {\"color\": \"blue\", \"size\": 2}, \"line\": {\"color\": \"red\", \"width\": 5}}, {\"y\": [1.9668144285678864, 2.1035851538181305], \"z\": [10.389411896467209, 10.25368270277977], \"type\": \"scatter3d\", \"x\": [-0.1776881217956543, -0.1127130538225174], \"text\": [\"RElbow\"], \"marker\": {\"color\": \"blue\", \"size\": 2}, \"line\": {\"color\": \"red\", \"width\": 5}}, {\"y\": [1.9568234533071518, 1.9668144285678864], \"z\": [10.507554173469543, 10.389411896467209], \"type\": \"scatter3d\", \"x\": [-0.1729227602481842, -0.1776881217956543], \"text\": [\"RWrist\"], \"marker\": {\"color\": \"blue\", \"size\": 2}, \"line\": {\"color\": \"red\", \"width\": 5}}, {\"y\": [2.011849765665829, 2.0113775432109833, 2.0116708986461163, 2.0116401202976704, 2.0106278993189335], \"z\": [9.999753076350316, 9.999828980944585, 9.999864725163206, 9.99974051915342, 10.000227494572755], \"type\": \"scatter3d\", \"x\": [-0.0027418718673288822, -0.0030006198212504387, -0.0030568535439670086, -0.0032310402020812035, -0.0022897955495864153], \"marker\": {\"color\": \"#1f77b4\", \"size\": 1}, \"line\": {\"color\": \"#1f77b4\", \"width\": 1}}], \"name\": \"frame6\"}, {\"data\": [{\"y\": [1.9819263685494661, 2.0126416264101863], \"z\": [10.115598373115063, 9.999546820123214], \"type\": \"scatter3d\", \"x\": [-0.07503778487443924, -0.0030518618877977133], \"text\": [\"RHip\"], \"marker\": {\"color\": \"blue\", \"size\": 2}, \"line\": {\"color\": \"red\", \"width\": 5}}, {\"y\": [1.8295725882053375, 1.9819263685494661], \"z\": [10.288371860980988, 10.115598373115063], \"type\": \"scatter3d\", \"x\": [-0.10411850363016129, -0.07503778487443924], \"text\": [\"RKnee\"], \"marker\": {\"color\": \"blue\", \"size\": 2}, \"line\": {\"color\": \"red\", \"width\": 5}}, {\"y\": [1.637970209121704, 1.8295725882053375], \"z\": [9.884313836693764, 10.288371860980988], \"type\": \"scatter3d\", \"x\": [-0.03908270224928856, -0.10411850363016129], \"text\": [\"RAnkle\"], \"marker\": {\"color\": \"blue\", \"size\": 2}, \"line\": {\"color\": \"red\", \"width\": 5}}, {\"y\": [1.9597014337778091, 2.0126416264101863], \"z\": [10.128691151738167, 9.999546820123214], \"type\": \"scatter3d\", \"x\": [0.015832822769880295, -0.0030518618877977133], \"text\": [\"LHip\"], \"marker\": {\"color\": \"blue\", \"size\": 2}, \"line\": {\"color\": \"black\", \"width\": 5}}, {\"y\": [1.9308178424835205, 1.9597014337778091], \"z\": [10.565897524356842, 10.128691151738167], \"type\": \"scatter3d\", \"x\": [0.005082827992737293, 0.015832822769880295], \"text\": [\"LKnee\"], \"marker\": {\"color\": \"blue\", \"size\": 2}, \"line\": {\"color\": \"black\", \"width\": 5}}, {\"y\": [1.7474236190319061, 1.9308178424835205], \"z\": [10.493810296058655, 10.565897524356842], \"type\": \"scatter3d\", \"x\": [0.01262750569730997, 0.005082827992737293], \"text\": [\"LAnkle\"], \"marker\": {\"color\": \"blue\", \"size\": 2}, \"line\": {\"color\": \"black\", \"width\": 5}}, {\"y\": [2.0981504917144775, 2.0126416264101863], \"z\": [10.127225548028946, 9.999546820123214], \"type\": \"scatter3d\", \"x\": [-0.0035848687402904034, -0.0030518618877977133], \"text\": [\"Spine1\"], \"marker\": {\"color\": \"blue\", \"size\": 2}, \"line\": {\"color\": \"black\", \"width\": 5}}, {\"y\": [2.180710420012474, 2.0981504917144775], \"z\": [10.255239516496658, 10.127225548028946], \"type\": \"scatter3d\", \"x\": [-0.0041395677253603935, -0.0035848687402904034], \"text\": [\"Neck\"], \"marker\": {\"color\": \"blue\", \"size\": 2}, \"line\": {\"color\": \"black\", \"width\": 5}}, {\"y\": [2.208806961774826, 2.180710420012474], \"z\": [10.294087439775467, 10.255239516496658], \"type\": \"scatter3d\", \"x\": [0.009592131711542606, -0.0041395677253603935], \"text\": [\"Head\"], \"marker\": {\"color\": \"blue\", \"size\": 2}, \"line\": {\"color\": \"black\", \"width\": 5}}, {\"y\": [2.233459994196892, 2.208806961774826], \"z\": [10.347418189048767, 10.294087439775467], \"type\": \"scatter3d\", \"x\": [0.020898379385471344, 0.009592131711542606], \"text\": [\"Site\"], \"marker\": {\"color\": \"blue\", \"size\": 2}, \"line\": {\"color\": \"black\", \"width\": 5}}, {\"y\": [2.1760114431381226, 2.180710420012474], \"z\": [10.144854247570038, 10.255239516496658], \"type\": \"scatter3d\", \"x\": [0.1277868002653122, -0.0041395677253603935], \"text\": [\"LShoulder\"], \"marker\": {\"color\": \"blue\", \"size\": 2}, \"line\": {\"color\": \"black\", \"width\": 5}}, {\"y\": [2.0127670615911484, 2.1760114431381226], \"z\": [10.119639128446579, 10.144854247570038], \"type\": \"scatter3d\", \"x\": [0.10288434475660324, 0.1277868002653122], \"text\": [\"LElbow\"], \"marker\": {\"color\": \"blue\", \"size\": 2}, \"line\": {\"color\": \"black\", \"width\": 5}}, {\"y\": [1.993961613625288, 2.0127670615911484], \"z\": [10.209857076406479, 10.119639128446579], \"type\": \"scatter3d\", \"x\": [0.1003938764333725, 0.10288434475660324], \"text\": [\"LWrist\"], \"marker\": {\"color\": \"blue\", \"size\": 2}, \"line\": {\"color\": \"black\", \"width\": 5}}, {\"y\": [2.1539712101221085, 2.180710420012474], \"z\": [10.233909323811531, 10.255239516496658], \"type\": \"scatter3d\", \"x\": [-0.12213373184204102, -0.0041395677253603935], \"text\": [\"RShoulder\"], \"marker\": {\"color\": \"blue\", \"size\": 2}, \"line\": {\"color\": \"red\", \"width\": 5}}, {\"y\": [1.9849587846547365, 2.1539712101221085], \"z\": [10.42836543917656, 10.233909323811531], \"type\": \"scatter3d\", \"x\": [-0.18080493807792664, -0.12213373184204102], \"text\": [\"RElbow\"], \"marker\": {\"color\": \"blue\", \"size\": 2}, \"line\": {\"color\": \"red\", \"width\": 5}}, {\"y\": [1.9759585559368134, 1.9849587846547365], \"z\": [10.56432831287384, 10.42836543917656], \"type\": \"scatter3d\", \"x\": [-0.17110957205295563, -0.18080493807792664], \"text\": [\"RWrist\"], \"marker\": {\"color\": \"blue\", \"size\": 2}, \"line\": {\"color\": \"red\", \"width\": 5}}, {\"y\": [2.011849765665829, 2.0113775432109833, 2.0116708986461163, 2.0116401202976704, 2.0106278993189335, 2.01270847953856], \"z\": [9.999753076350316, 9.999828980944585, 9.999864725163206, 9.99974051915342, 10.000227494572755, 9.998863602988422], \"type\": \"scatter3d\", \"x\": [-0.0027418718673288822, -0.0030006198212504387, -0.0030568535439670086, -0.0032310402020812035, -0.0022897955495864153, -0.003721669316291809], \"marker\": {\"color\": \"#1f77b4\", \"size\": 1}, \"line\": {\"color\": \"#1f77b4\", \"width\": 1}}], \"name\": \"frame7\"}, {\"data\": [{\"y\": [1.9251805543899536, 2.0127374595031142], \"z\": [10.131514847278595, 9.99953450699104], \"type\": \"scatter3d\", \"x\": [-0.08238610625267029, -0.0027361256070435047], \"text\": [\"RHip\"], \"marker\": {\"color\": \"blue\", \"size\": 2}, \"line\": {\"color\": \"red\", \"width\": 5}}, {\"y\": [1.5452943742275238, 1.9251805543899536], \"z\": [10.497556626796722, 10.131514847278595], \"type\": \"scatter3d\", \"x\": [-0.08086659014225006, -0.08238610625267029], \"text\": [\"RKnee\"], \"marker\": {\"color\": \"blue\", \"size\": 2}, \"line\": {\"color\": \"red\", \"width\": 5}}, {\"y\": [1.24961656332016, 1.5452943742275238], \"z\": [9.875822246074677, 10.497556626796722], \"type\": \"scatter3d\", \"x\": [-0.0825832262635231, -0.08086659014225006], \"text\": [\"RAnkle\"], \"marker\": {\"color\": \"blue\", \"size\": 2}, \"line\": {\"color\": \"red\", \"width\": 5}}, {\"y\": [1.9073072522878647, 2.0127374595031142], \"z\": [10.145097583532333, 9.99953450699104], \"type\": \"scatter3d\", \"x\": [0.06477072089910507, -0.0027361256070435047], \"text\": [\"LHip\"], \"marker\": {\"color\": \"blue\", \"size\": 2}, \"line\": {\"color\": \"black\", \"width\": 5}}, {\"y\": [1.5886723399162292, 1.9073072522878647], \"z\": [10.441311776638031, 10.145097583532333], \"type\": \"scatter3d\", \"x\": [0.07583959400653839, 0.06477072089910507], \"text\": [\"LKnee\"], \"marker\": {\"color\": \"blue\", \"size\": 2}, \"line\": {\"color\": \"black\", \"width\": 5}}, {\"y\": [1.1119850873947144, 1.5886723399162292], \"z\": [10.221505254507065, 10.441311776638031], \"type\": \"scatter3d\", \"x\": [0.061450935900211334, 0.07583959400653839], \"text\": [\"LAnkle\"], \"marker\": {\"color\": \"blue\", \"size\": 2}, \"line\": {\"color\": \"black\", \"width\": 5}}, {\"y\": [2.246455743908882, 2.0127374595031142], \"z\": [10.073896139860153, 9.99953450699104], \"type\": \"scatter3d\", \"x\": [0.009026799350976944, -0.0027361256070435047], \"text\": [\"Spine1\"], \"marker\": {\"color\": \"blue\", \"size\": 2}, \"line\": {\"color\": \"black\", \"width\": 5}}, {\"y\": [2.4698230922222137, 2.246455743908882], \"z\": [10.163881853222847, 10.073896139860153], \"type\": \"scatter3d\", \"x\": [0.027653666213154793, 0.009026799350976944], \"text\": [\"Neck\"], \"marker\": {\"color\": \"blue\", \"size\": 2}, \"line\": {\"color\": \"black\", \"width\": 5}}, {\"y\": [2.5670841932296753, 2.4698230922222137], \"z\": [10.190682142972946, 10.163881853222847], \"type\": \"scatter3d\", \"x\": [0.04768650606274605, 0.027653666213154793], \"text\": [\"Head\"], \"marker\": {\"color\": \"blue\", \"size\": 2}, \"line\": {\"color\": \"black\", \"width\": 5}}, {\"y\": [2.661255717277527, 2.5670841932296753], \"z\": [10.23836724460125, 10.190682142972946], \"type\": \"scatter3d\", \"x\": [0.05998997390270233, 0.04768650606274605], \"text\": [\"Site\"], \"marker\": {\"color\": \"blue\", \"size\": 2}, \"line\": {\"color\": \"black\", \"width\": 5}}, {\"y\": [2.432311624288559, 2.4698230922222137], \"z\": [10.078472286462784, 10.163881853222847], \"type\": \"scatter3d\", \"x\": [0.2026471048593521, 0.027653666213154793], \"text\": [\"LShoulder\"], \"marker\": {\"color\": \"blue\", \"size\": 2}, \"line\": {\"color\": \"black\", \"width\": 5}}, {\"y\": [1.9958615116775036, 2.432311624288559], \"z\": [10.068639159202576, 10.078472286462784], \"type\": \"scatter3d\", \"x\": [0.1950896978378296, 0.2026471048593521], \"text\": [\"LElbow\"], \"marker\": {\"color\": \"blue\", \"size\": 2}, \"line\": {\"color\": \"black\", \"width\": 5}}, {\"y\": [1.9240171760320663, 1.9958615116775036], \"z\": [10.172081381082535, 10.068639159202576], \"type\": \"scatter3d\", \"x\": [0.1936032474040985, 0.1950896978378296], \"text\": [\"LWrist\"], \"marker\": {\"color\": \"blue\", \"size\": 2}, \"line\": {\"color\": \"black\", \"width\": 5}}, {\"y\": [2.4464051127433777, 2.4698230922222137], \"z\": [10.129408314824104, 10.163881853222847], \"type\": \"scatter3d\", \"x\": [-0.1604800969362259, 0.027653666213154793], \"text\": [\"RShoulder\"], \"marker\": {\"color\": \"blue\", \"size\": 2}, \"line\": {\"color\": \"red\", \"width\": 5}}, {\"y\": [2.0428872667253017, 2.4464051127433777], \"z\": [10.314339458942413, 10.129408314824104], \"type\": \"scatter3d\", \"x\": [-0.250162273645401, -0.1604800969362259], \"text\": [\"RElbow\"], \"marker\": {\"color\": \"blue\", \"size\": 2}, \"line\": {\"color\": \"red\", \"width\": 5}}, {\"y\": [2.002048149704933, 2.0428872667253017], \"z\": [10.437534749507904, 10.314339458942413], \"type\": \"scatter3d\", \"x\": [-0.23993992805480957, -0.250162273645401], \"text\": [\"RWrist\"], \"marker\": {\"color\": \"blue\", \"size\": 2}, \"line\": {\"color\": \"red\", \"width\": 5}}, {\"y\": [2.011849765665829, 2.0113775432109833, 2.0116708986461163, 2.0116401202976704, 2.0106278993189335, 2.01270847953856, 2.0126416264101863], \"z\": [9.999753076350316, 9.999828980944585, 9.999864725163206, 9.99974051915342, 10.000227494572755, 9.998863602988422, 9.999546820123214], \"type\": \"scatter3d\", \"x\": [-0.0027418718673288822, -0.0030006198212504387, -0.0030568535439670086, -0.0032310402020812035, -0.0022897955495864153, -0.003721669316291809, -0.0030518618877977133], \"marker\": {\"color\": \"#1f77b4\", \"size\": 1}, \"line\": {\"color\": \"#1f77b4\", \"width\": 1}}], \"name\": \"frame8\"}, {\"data\": [{\"y\": [1.837117850780487, 2.009408425539732], \"z\": [10.141272902488708, 10.000100269797258], \"type\": \"scatter3d\", \"x\": [-0.12630780041217804, -0.002260821172967553], \"text\": [\"RHip\"], \"marker\": {\"color\": \"blue\", \"size\": 2}, \"line\": {\"color\": \"red\", \"width\": 5}}, {\"y\": [1.2093019485473633, 1.837117850780487], \"z\": [10.707087874412537, 10.141272902488708], \"type\": \"scatter3d\", \"x\": [-0.10986015200614929, -0.12630780041217804], \"text\": [\"RKnee\"], \"marker\": {\"color\": \"blue\", \"size\": 2}, \"line\": {\"color\": \"red\", \"width\": 5}}, {\"y\": [0.4449141025543213, 1.2093019485473633], \"z\": [10.477318674325943, 10.707087874412537], \"type\": \"scatter3d\", \"x\": [-0.13207484781742096, -0.10986015200614929], \"text\": [\"RAnkle\"], \"marker\": {\"color\": \"blue\", \"size\": 2}, \"line\": {\"color\": \"red\", \"width\": 5}}, {\"y\": [1.825991004705429, 2.009408425539732], \"z\": [10.134827390313148, 10.000100269797258], \"type\": \"scatter3d\", \"x\": [0.1337428241968155, -0.002260821172967553], \"text\": [\"LHip\"], \"marker\": {\"color\": \"blue\", \"size\": 2}, \"line\": {\"color\": \"black\", \"width\": 5}}, {\"y\": [1.1487258672714233, 1.825991004705429], \"z\": [10.31673464179039, 10.134827390313148], \"type\": \"scatter3d\", \"x\": [0.08969135582447052, 0.1337428241968155], \"text\": [\"LKnee\"], \"marker\": {\"color\": \"blue\", \"size\": 2}, \"line\": {\"color\": \"black\", \"width\": 5}}, {\"y\": [0.39139580726623535, 1.1487258672714233], \"z\": [10.050531927496195, 10.31673464179039], \"type\": \"scatter3d\", \"x\": [0.05646754056215286, 0.08969135582447052], \"text\": [\"LAnkle\"], \"marker\": {\"color\": \"blue\", \"size\": 2}, \"line\": {\"color\": \"black\", \"width\": 5}}, {\"y\": [2.4200868010520935, 2.009408425539732], \"z\": [10.07996977865696, 10.000100269797258], \"type\": \"scatter3d\", \"x\": [0.03150280937552452, -0.002260821172967553], \"text\": [\"Spine1\"], \"marker\": {\"color\": \"blue\", \"size\": 2}, \"line\": {\"color\": \"black\", \"width\": 5}}, {\"y\": [2.809955894947052, 2.4200868010520935], \"z\": [10.178697675466537, 10.07996977865696], \"type\": \"scatter3d\", \"x\": [0.04064110666513443, 0.03150280937552452], \"text\": [\"Neck\"], \"marker\": {\"color\": \"blue\", \"size\": 2}, \"line\": {\"color\": \"black\", \"width\": 5}}, {\"y\": [2.98016893863678, 2.809955894947052], \"z\": [10.203396499156952, 10.178697675466537], \"type\": \"scatter3d\", \"x\": [0.060040831565856934, 0.04064110666513443], \"text\": [\"Head\"], \"marker\": {\"color\": \"blue\", \"size\": 2}, \"line\": {\"color\": \"black\", \"width\": 5}}, {\"y\": [3.1477781534194946, 2.98016893863678], \"z\": [10.244246482849121, 10.203396499156952], \"type\": \"scatter3d\", \"x\": [0.07062605023384094, 0.060040831565856934], \"text\": [\"Site\"], \"marker\": {\"color\": \"blue\", \"size\": 2}, \"line\": {\"color\": \"black\", \"width\": 5}}, {\"y\": [2.769818961620331, 2.809955894947052], \"z\": [10.077013246715069, 10.178697675466537], \"type\": \"scatter3d\", \"x\": [0.3627799153327942, 0.04064110666513443], \"text\": [\"LShoulder\"], \"marker\": {\"color\": \"blue\", \"size\": 2}, \"line\": {\"color\": \"black\", \"width\": 5}}, {\"y\": [1.9919441035017371, 2.769818961620331], \"z\": [10.213379353284836, 10.077013246715069], \"type\": \"scatter3d\", \"x\": [0.484455943107605, 0.3627799153327942], \"text\": [\"LElbow\"], \"marker\": {\"color\": \"blue\", \"size\": 2}, \"line\": {\"color\": \"black\", \"width\": 5}}, {\"y\": [1.8801667839288712, 1.9919441035017371], \"z\": [10.338591426610947, 10.213379353284836], \"type\": \"scatter3d\", \"x\": [0.5081419944763184, 0.484455943107605], \"text\": [\"LWrist\"], \"marker\": {\"color\": \"blue\", \"size\": 2}, \"line\": {\"color\": \"black\", \"width\": 5}}, {\"y\": [2.7576637268066406, 2.809955894947052], \"z\": [10.143282741308212, 10.178697675466537], \"type\": \"scatter3d\", \"x\": [-0.2906823456287384, 0.04064110666513443], \"text\": [\"RShoulder\"], \"marker\": {\"color\": \"blue\", \"size\": 2}, \"line\": {\"color\": \"red\", \"width\": 5}}, {\"y\": [1.927311971783638, 2.7576637268066406], \"z\": [10.257561028003693, 10.143282741308212], \"type\": \"scatter3d\", \"x\": [-0.40605711936950684, -0.2906823456287384], \"text\": [\"RElbow\"], \"marker\": {\"color\": \"blue\", \"size\": 2}, \"line\": {\"color\": \"red\", \"width\": 5}}, {\"y\": [1.7984342724084854, 1.927311971783638], \"z\": [10.36233901977539, 10.257561028003693], \"type\": \"scatter3d\", \"x\": [-0.41539567708969116, -0.40605711936950684], \"text\": [\"RWrist\"], \"marker\": {\"color\": \"blue\", \"size\": 2}, \"line\": {\"color\": \"red\", \"width\": 5}}, {\"y\": [2.011849765665829, 2.0113775432109833, 2.0116708986461163, 2.0116401202976704, 2.0106278993189335, 2.01270847953856, 2.0126416264101863, 2.0127374595031142], \"z\": [9.999753076350316, 9.999828980944585, 9.999864725163206, 9.99974051915342, 10.000227494572755, 9.998863602988422, 9.999546820123214, 9.99953450699104], \"type\": \"scatter3d\", \"x\": [-0.0027418718673288822, -0.0030006198212504387, -0.0030568535439670086, -0.0032310402020812035, -0.0022897955495864153, -0.003721669316291809, -0.0030518618877977133, -0.0027361256070435047], \"marker\": {\"color\": \"#1f77b4\", \"size\": 1}, \"line\": {\"color\": \"#1f77b4\", \"width\": 1}}], \"name\": \"frame9\"}, {\"data\": [{\"y\": [1.8366488069295883, 2.01162894628942], \"z\": [10.139654994010925, 9.99863485316746], \"type\": \"scatter3d\", \"x\": [-0.11896083503961563, -0.0042311521247029305], \"text\": [\"RHip\"], \"marker\": {\"color\": \"blue\", \"size\": 2}, \"line\": {\"color\": \"red\", \"width\": 5}}, {\"y\": [1.2800975441932678, 1.8366488069295883], \"z\": [10.728829503059387, 10.139654994010925], \"type\": \"scatter3d\", \"x\": [-0.11795353889465332, -0.11896083503961563], \"text\": [\"RKnee\"], \"marker\": {\"color\": \"blue\", \"size\": 2}, \"line\": {\"color\": \"red\", \"width\": 5}}, {\"y\": [0.5365278720855713, 1.2800975441932678], \"z\": [10.856469988822937, 10.728829503059387], \"type\": \"scatter3d\", \"x\": [-0.09922473132610321, -0.11795353889465332], \"text\": [\"RAnkle\"], \"marker\": {\"color\": \"blue\", \"size\": 2}, \"line\": {\"color\": \"red\", \"width\": 5}}, {\"y\": [1.8442934900522232, 2.01162894628942], \"z\": [10.132165491580963, 9.99863485316746], \"type\": \"scatter3d\", \"x\": [0.13506321609020233, -0.0042311521247029305], \"text\": [\"LHip\"], \"marker\": {\"color\": \"blue\", \"size\": 2}, \"line\": {\"color\": \"black\", \"width\": 5}}, {\"y\": [1.1962379813194275, 1.8442934900522232], \"z\": [10.06503290683031, 10.132165491580963], \"type\": \"scatter3d\", \"x\": [0.09479086101055145, 0.13506321609020233], \"text\": [\"LKnee\"], \"marker\": {\"color\": \"blue\", \"size\": 2}, \"line\": {\"color\": \"black\", \"width\": 5}}, {\"y\": [0.497275710105896, 1.1962379813194275], \"z\": [9.769239142537117, 10.06503290683031], \"type\": \"scatter3d\", \"x\": [0.04668223485350609, 0.09479086101055145], \"text\": [\"LAnkle\"], \"marker\": {\"color\": \"blue\", \"size\": 2}, \"line\": {\"color\": \"black\", \"width\": 5}}, {\"y\": [2.389481633901596, 2.01162894628942], \"z\": [10.107837237417698, 9.99863485316746], \"type\": \"scatter3d\", \"x\": [0.026096779853105545, -0.0042311521247029305], \"text\": [\"Spine1\"], \"marker\": {\"color\": \"blue\", \"size\": 2}, \"line\": {\"color\": \"black\", \"width\": 5}}, {\"y\": [2.743433654308319, 2.389481633901596], \"z\": [10.226630553603172, 10.107837237417698], \"type\": \"scatter3d\", \"x\": [0.03277257829904556, 0.026096779853105545], \"text\": [\"Neck\"], \"marker\": {\"color\": \"blue\", \"size\": 2}, \"line\": {\"color\": \"black\", \"width\": 5}}, {\"y\": [2.903995931148529, 2.743433654308319], \"z\": [10.259206414222717, 10.226630553603172], \"type\": \"scatter3d\", \"x\": [0.050263408571481705, 0.03277257829904556], \"text\": [\"Head\"], \"marker\": {\"color\": \"blue\", \"size\": 2}, \"line\": {\"color\": \"black\", \"width\": 5}}, {\"y\": [3.056274652481079, 2.903995931148529], \"z\": [10.303726077079773, 10.259206414222717], \"type\": \"scatter3d\", \"x\": [0.05027589946985245, 0.050263408571481705], \"text\": [\"Site\"], \"marker\": {\"color\": \"blue\", \"size\": 2}, \"line\": {\"color\": \"black\", \"width\": 5}}, {\"y\": [2.7101569175720215, 2.743433654308319], \"z\": [10.147153109312057, 10.226630553603172], \"type\": \"scatter3d\", \"x\": [0.35392266511917114, 0.03277257829904556], \"text\": [\"LShoulder\"], \"marker\": {\"color\": \"blue\", \"size\": 2}, \"line\": {\"color\": \"black\", \"width\": 5}}, {\"y\": [2.0029145814478397, 2.7101569175720215], \"z\": [10.261821210384369, 10.147153109312057], \"type\": \"scatter3d\", \"x\": [0.4871284067630768, 0.35392266511917114], \"text\": [\"LElbow\"], \"marker\": {\"color\": \"blue\", \"size\": 2}, \"line\": {\"color\": \"black\", \"width\": 5}}, {\"y\": [1.9063530787825584, 2.0029145814478397], \"z\": [10.39735198020935, 10.261821210384369], \"type\": \"scatter3d\", \"x\": [0.5046485066413879, 0.4871284067630768], \"text\": [\"LWrist\"], \"marker\": {\"color\": \"blue\", \"size\": 2}, \"line\": {\"color\": \"black\", \"width\": 5}}, {\"y\": [2.698512315750122, 2.743433654308319], \"z\": [10.164928779006004, 10.226630553603172], \"type\": \"scatter3d\", \"x\": [-0.28418636322021484, 0.03277257829904556], \"text\": [\"RShoulder\"], \"marker\": {\"color\": \"blue\", \"size\": 2}, \"line\": {\"color\": \"red\", \"width\": 5}}, {\"y\": [1.8910609483718872, 2.698512315750122], \"z\": [10.163341283798218, 10.164928779006004], \"type\": \"scatter3d\", \"x\": [-0.3712851107120514, -0.28418636322021484], \"text\": [\"RElbow\"], \"marker\": {\"color\": \"blue\", \"size\": 2}, \"line\": {\"color\": \"red\", \"width\": 5}}, {\"y\": [1.7690084278583527, 1.8910609483718872], \"z\": [10.231131806969643, 10.163341283798218], \"type\": \"scatter3d\", \"x\": [-0.37650948762893677, -0.3712851107120514], \"text\": [\"RWrist\"], \"marker\": {\"color\": \"blue\", \"size\": 2}, \"line\": {\"color\": \"red\", \"width\": 5}}, {\"y\": [2.011849765665829, 2.0113775432109833, 2.0116708986461163, 2.0116401202976704, 2.0106278993189335, 2.01270847953856, 2.0126416264101863, 2.0127374595031142, 2.009408425539732], \"z\": [9.999753076350316, 9.999828980944585, 9.999864725163206, 9.99974051915342, 10.000227494572755, 9.998863602988422, 9.999546820123214, 9.99953450699104, 10.000100269797258], \"type\": \"scatter3d\", \"x\": [-0.0027418718673288822, -0.0030006198212504387, -0.0030568535439670086, -0.0032310402020812035, -0.0022897955495864153, -0.003721669316291809, -0.0030518618877977133, -0.0027361256070435047, -0.002260821172967553], \"marker\": {\"color\": \"#1f77b4\", \"size\": 1}, \"line\": {\"color\": \"#1f77b4\", \"width\": 1}}], \"name\": \"frame10\"}, {\"data\": [{\"y\": [1.83131605386734, 2.0095556722953916], \"z\": [10.128116860985756, 9.999725522182416], \"type\": \"scatter3d\", \"x\": [-0.1256943792104721, -0.003010640386492014], \"text\": [\"RHip\"], \"marker\": {\"color\": \"blue\", \"size\": 2}, \"line\": {\"color\": \"red\", \"width\": 5}}, {\"y\": [1.1740354895591736, 1.83131605386734], \"z\": [10.64805555343628, 10.128116860985756], \"type\": \"scatter3d\", \"x\": [-0.10220057517290115, -0.1256943792104721], \"text\": [\"RKnee\"], \"marker\": {\"color\": \"blue\", \"size\": 2}, \"line\": {\"color\": \"red\", \"width\": 5}}, {\"y\": [0.34728240966796875, 1.1740354895591736], \"z\": [10.625508308410645, 10.64805555343628], \"type\": \"scatter3d\", \"x\": [-0.07275393605232239, -0.10220057517290115], \"text\": [\"RAnkle\"], \"marker\": {\"color\": \"blue\", \"size\": 2}, \"line\": {\"color\": \"red\", \"width\": 5}}, {\"y\": [1.810801237821579, 2.0095556722953916], \"z\": [10.129514917731285, 9.999725522182416], \"type\": \"scatter3d\", \"x\": [0.14683665335178375, -0.003010640386492014], \"text\": [\"LHip\"], \"marker\": {\"color\": \"blue\", \"size\": 2}, \"line\": {\"color\": \"black\", \"width\": 5}}, {\"y\": [1.0853288769721985, 1.810801237821579], \"z\": [10.21557331085205, 10.129514917731285], \"type\": \"scatter3d\", \"x\": [0.16527701914310455, 0.14683665335178375], \"text\": [\"LKnee\"], \"marker\": {\"color\": \"blue\", \"size\": 2}, \"line\": {\"color\": \"black\", \"width\": 5}}, {\"y\": [0.4681699275970459, 1.0853288769721985], \"z\": [9.618955492973328, 10.21557331085205], \"type\": \"scatter3d\", \"x\": [0.10857968777418137, 0.16527701914310455], \"text\": [\"LAnkle\"], \"marker\": {\"color\": \"blue\", \"size\": 2}, \"line\": {\"color\": \"black\", \"width\": 5}}, {\"y\": [2.428288012742996, 2.0095556722953916], \"z\": [10.078941762447357, 9.999725522182416], \"type\": \"scatter3d\", \"x\": [0.0171307735145092, -0.003010640386492014], \"text\": [\"Spine1\"], \"marker\": {\"color\": \"blue\", \"size\": 2}, \"line\": {\"color\": \"black\", \"width\": 5}}, {\"y\": [2.8304121494293213, 2.428288012742996], \"z\": [10.181099638342857, 10.078941762447357], \"type\": \"scatter3d\", \"x\": [0.003965217620134354, 0.0171307735145092], \"text\": [\"Neck\"], \"marker\": {\"color\": \"blue\", \"size\": 2}, \"line\": {\"color\": \"black\", \"width\": 5}}, {\"y\": [3.0162696838378906, 2.8304121494293213], \"z\": [10.218821167945862, 10.181099638342857], \"type\": \"scatter3d\", \"x\": [0.016212837770581245, 0.003965217620134354], \"text\": [\"Head\"], \"marker\": {\"color\": \"blue\", \"size\": 2}, \"line\": {\"color\": \"black\", \"width\": 5}}, {\"y\": [3.1984260082244873, 3.0162696838378906], \"z\": [10.274556547403336, 10.218821167945862], \"type\": \"scatter3d\", \"x\": [0.01570240780711174, 0.016212837770581245], \"text\": [\"Site\"], \"marker\": {\"color\": \"blue\", \"size\": 2}, \"line\": {\"color\": \"black\", \"width\": 5}}, {\"y\": [2.800160765647888, 2.8304121494293213], \"z\": [10.107189148664474, 10.181099638342857], \"type\": \"scatter3d\", \"x\": [0.3382742404937744, 0.003965217620134354], \"text\": [\"LShoulder\"], \"marker\": {\"color\": \"blue\", \"size\": 2}, \"line\": {\"color\": \"black\", \"width\": 5}}, {\"y\": [2.0228490196168423, 2.800160765647888], \"z\": [10.258969902992249, 10.107189148664474], \"type\": \"scatter3d\", \"x\": [0.5086261034011841, 0.3382742404937744], \"text\": [\"LElbow\"], \"marker\": {\"color\": \"blue\", \"size\": 2}, \"line\": {\"color\": \"black\", \"width\": 5}}, {\"y\": [1.904361441731453, 2.0228490196168423], \"z\": [10.397941708564758, 10.258969902992249], \"type\": \"scatter3d\", \"x\": [0.5352926850318909, 0.5086261034011841], \"text\": [\"LWrist\"], \"marker\": {\"color\": \"blue\", \"size\": 2}, \"line\": {\"color\": \"black\", \"width\": 5}}, {\"y\": [2.764817953109741, 2.8304121494293213], \"z\": [10.125440031290054, 10.181099638342857], \"type\": \"scatter3d\", \"x\": [-0.33256953954696655, 0.003965217620134354], \"text\": [\"RShoulder\"], \"marker\": {\"color\": \"blue\", \"size\": 2}, \"line\": {\"color\": \"red\", \"width\": 5}}, {\"y\": [1.9022530391812325, 2.764817953109741], \"z\": [10.146623015403748, 10.125440031290054], \"type\": \"scatter3d\", \"x\": [-0.433586984872818, -0.33256953954696655], \"text\": [\"RElbow\"], \"marker\": {\"color\": \"blue\", \"size\": 2}, \"line\": {\"color\": \"red\", \"width\": 5}}, {\"y\": [1.76039420068264, 1.9022530391812325], \"z\": [10.221709966659546, 10.146623015403748], \"type\": \"scatter3d\", \"x\": [-0.44950056076049805, -0.433586984872818], \"text\": [\"RWrist\"], \"marker\": {\"color\": \"blue\", \"size\": 2}, \"line\": {\"color\": \"red\", \"width\": 5}}, {\"y\": [2.011849765665829, 2.0113775432109833, 2.0116708986461163, 2.0116401202976704, 2.0106278993189335, 2.01270847953856, 2.0126416264101863, 2.0127374595031142, 2.009408425539732, 2.01162894628942], \"z\": [9.999753076350316, 9.999828980944585, 9.999864725163206, 9.99974051915342, 10.000227494572755, 9.998863602988422, 9.999546820123214, 9.99953450699104, 10.000100269797258, 9.99863485316746], \"type\": \"scatter3d\", \"x\": [-0.0027418718673288822, -0.0030006198212504387, -0.0030568535439670086, -0.0032310402020812035, -0.0022897955495864153, -0.003721669316291809, -0.0030518618877977133, -0.0027361256070435047, -0.002260821172967553, -0.0042311521247029305], \"marker\": {\"color\": \"#1f77b4\", \"size\": 1}, \"line\": {\"color\": \"#1f77b4\", \"width\": 1}}], \"name\": \"frame11\"}, {\"data\": [{\"y\": [1.8126656860113144, 2.0089589040726423], \"z\": [10.131235182285309, 10.000196298409719], \"type\": \"scatter3d\", \"x\": [-0.16998818516731262, -0.002232754835858941], \"text\": [\"RHip\"], \"marker\": {\"color\": \"blue\", \"size\": 2}, \"line\": {\"color\": \"red\", \"width\": 5}}, {\"y\": [0.9784833192825317, 1.8126656860113144], \"z\": [10.51737755537033, 10.131235182285309], \"type\": \"scatter3d\", \"x\": [-0.10312710702419281, -0.16998818516731262], \"text\": [\"RKnee\"], \"marker\": {\"color\": \"blue\", \"size\": 2}, \"line\": {\"color\": \"red\", \"width\": 5}}, {\"y\": [0.04952096939086914, 0.9784833192825317], \"z\": [10.329954832792282, 10.51737755537033], \"type\": \"scatter3d\", \"x\": [-0.0701863169670105, -0.10312710702419281], \"text\": [\"RAnkle\"], \"marker\": {\"color\": \"blue\", \"size\": 2}, \"line\": {\"color\": \"red\", \"width\": 5}}, {\"y\": [1.7709032446146011, 2.0089589040726423], \"z\": [10.127890884876251, 10.000196298409719], \"type\": \"scatter3d\", \"x\": [0.15974391996860504, -0.002232754835858941], \"text\": [\"LHip\"], \"marker\": {\"color\": \"blue\", \"size\": 2}, \"line\": {\"color\": \"black\", \"width\": 5}}, {\"y\": [0.9745053052902222, 1.7709032446146011], \"z\": [10.512080609798431, 10.127890884876251], \"type\": \"scatter3d\", \"x\": [0.22451086342334747, 0.15974391996860504], \"text\": [\"LKnee\"], \"marker\": {\"color\": \"blue\", \"size\": 2}, \"line\": {\"color\": \"black\", \"width\": 5}}, {\"y\": [0.2506558895111084, 0.9745053052902222], \"z\": [9.913642913103104, 10.512080609798431], \"type\": \"scatter3d\", \"x\": [0.14394985139369965, 0.22451086342334747], \"text\": [\"LAnkle\"], \"marker\": {\"color\": \"blue\", \"size\": 2}, \"line\": {\"color\": \"black\", \"width\": 5}}, {\"y\": [2.5009469389915466, 2.0089589040726423], \"z\": [10.0866224989295, 10.000196298409719], \"type\": \"scatter3d\", \"x\": [0.00961244385689497, -0.002232754835858941], \"text\": [\"Spine1\"], \"marker\": {\"color\": \"blue\", \"size\": 2}, \"line\": {\"color\": \"black\", \"width\": 5}}, {\"y\": [2.9685624837875366, 2.5009469389915466], \"z\": [10.182056471705437, 10.0866224989295], \"type\": \"scatter3d\", \"x\": [-0.009195453487336636, 0.00961244385689497], \"text\": [\"Neck\"], \"marker\": {\"color\": \"blue\", \"size\": 2}, \"line\": {\"color\": \"black\", \"width\": 5}}, {\"y\": [3.18466317653656, 2.9685624837875366], \"z\": [10.211158692836761, 10.182056471705437], \"type\": \"scatter3d\", \"x\": [0.0015262216329574585, -0.009195453487336636], \"text\": [\"Head\"], \"marker\": {\"color\": \"blue\", \"size\": 2}, \"line\": {\"color\": \"black\", \"width\": 5}}, {\"y\": [3.399843692779541, 3.18466317653656], \"z\": [10.259423643350601, 10.211158692836761], \"type\": \"scatter3d\", \"x\": [0.0006241500377655029, 0.0015262216329574585], \"text\": [\"Site\"], \"marker\": {\"color\": \"blue\", \"size\": 2}, \"line\": {\"color\": \"black\", \"width\": 5}}, {\"y\": [2.9348385334014893, 2.9685624837875366], \"z\": [10.085858024656773, 10.182056471705437], \"type\": \"scatter3d\", \"x\": [0.3954777121543884, -0.009195453487336636], \"text\": [\"LShoulder\"], \"marker\": {\"color\": \"blue\", \"size\": 2}, \"line\": {\"color\": \"black\", \"width\": 5}}, {\"y\": [1.9593016803264618, 2.9348385334014893], \"z\": [10.212869554758072, 10.085858024656773], \"type\": \"scatter3d\", \"x\": [0.5020427703857422, 0.3954777121543884], \"text\": [\"LElbow\"], \"marker\": {\"color\": \"blue\", \"size\": 2}, \"line\": {\"color\": \"black\", \"width\": 5}}, {\"y\": [1.8030815571546555, 1.9593016803264618], \"z\": [10.33048552274704, 10.212869554758072], \"type\": \"scatter3d\", \"x\": [0.5184575915336609, 0.5020427703857422], \"text\": [\"LWrist\"], \"marker\": {\"color\": \"blue\", \"size\": 2}, \"line\": {\"color\": \"black\", \"width\": 5}}, {\"y\": [2.893631160259247, 2.9685624837875366], \"z\": [10.149611681699753, 10.182056471705437], \"type\": \"scatter3d\", \"x\": [-0.41131359338760376, -0.009195453487336636], \"text\": [\"RShoulder\"], \"marker\": {\"color\": \"blue\", \"size\": 2}, \"line\": {\"color\": \"red\", \"width\": 5}}, {\"y\": [1.8666050732135773, 2.893631160259247], \"z\": [10.271189093589783, 10.149611681699753], \"type\": \"scatter3d\", \"x\": [-0.5394064784049988, -0.41131359338760376], \"text\": [\"RElbow\"], \"marker\": {\"color\": \"blue\", \"size\": 2}, \"line\": {\"color\": \"red\", \"width\": 5}}, {\"y\": [1.7027675807476044, 1.8666050732135773], \"z\": [10.377148002386093, 10.271189093589783], \"type\": \"scatter3d\", \"x\": [-0.5709809064865112, -0.5394064784049988], \"text\": [\"RWrist\"], \"marker\": {\"color\": \"blue\", \"size\": 2}, \"line\": {\"color\": \"red\", \"width\": 5}}, {\"y\": [2.011849765665829, 2.0113775432109833, 2.0116708986461163, 2.0116401202976704, 2.0106278993189335, 2.01270847953856, 2.0126416264101863, 2.0127374595031142, 2.009408425539732, 2.01162894628942, 2.0095556722953916], \"z\": [9.999753076350316, 9.999828980944585, 9.999864725163206, 9.99974051915342, 10.000227494572755, 9.998863602988422, 9.999546820123214, 9.99953450699104, 10.000100269797258, 9.99863485316746, 9.999725522182416], \"type\": \"scatter3d\", \"x\": [-0.0027418718673288822, -0.0030006198212504387, -0.0030568535439670086, -0.0032310402020812035, -0.0022897955495864153, -0.003721669316291809, -0.0030518618877977133, -0.0027361256070435047, -0.002260821172967553, -0.0042311521247029305, -0.003010640386492014], \"marker\": {\"color\": \"#1f77b4\", \"size\": 1}, \"line\": {\"color\": \"#1f77b4\", \"width\": 1}}], \"name\": \"frame12\"}, {\"data\": [{\"y\": [1.8029119074344635, 2.0117098232731223], \"z\": [10.121960252523422, 9.999859963892959], \"type\": \"scatter3d\", \"x\": [-0.18924479186534882, -0.00275089661590755], \"text\": [\"RHip\"], \"marker\": {\"color\": \"blue\", \"size\": 2}, \"line\": {\"color\": \"red\", \"width\": 5}}, {\"y\": [0.9325618743896484, 1.8029119074344635], \"z\": [10.358027249574661, 10.121960252523422], \"type\": \"scatter3d\", \"x\": [-0.1208980530500412, -0.18924479186534882], \"text\": [\"RKnee\"], \"marker\": {\"color\": \"blue\", \"size\": 2}, \"line\": {\"color\": \"red\", \"width\": 5}}, {\"y\": [-0.01568317413330078, 0.9325618743896484], \"z\": [10.11445951461792, 10.358027249574661], \"type\": \"scatter3d\", \"x\": [-0.08374354243278503, -0.1208980530500412], \"text\": [\"RAnkle\"], \"marker\": {\"color\": \"blue\", \"size\": 2}, \"line\": {\"color\": \"red\", \"width\": 5}}, {\"y\": [1.7565115839242935, 2.0117098232731223], \"z\": [10.142538994550705, 9.999859963892959], \"type\": \"scatter3d\", \"x\": [0.13778969645500183, -0.00275089661590755], \"text\": [\"LHip\"], \"marker\": {\"color\": \"blue\", \"size\": 2}, \"line\": {\"color\": \"black\", \"width\": 5}}, {\"y\": [0.9660134315490723, 1.7565115839242935], \"z\": [10.62221086025238, 10.142538994550705], \"type\": \"scatter3d\", \"x\": [0.17966772615909576, 0.13778969645500183], \"text\": [\"LKnee\"], \"marker\": {\"color\": \"blue\", \"size\": 2}, \"line\": {\"color\": \"black\", \"width\": 5}}, {\"y\": [-0.030221939086914062, 0.9660134315490723], \"z\": [10.539370954036713, 10.62221086025238], \"type\": \"scatter3d\", \"x\": [0.18546231091022491, 0.17966772615909576], \"text\": [\"LAnkle\"], \"marker\": {\"color\": \"blue\", \"size\": 2}, \"line\": {\"color\": \"black\", \"width\": 5}}, {\"y\": [2.5281718373298645, 2.0117098232731223], \"z\": [10.09790039807558, 9.999859963892959], \"type\": \"scatter3d\", \"x\": [0.001719919964671135, -0.00275089661590755], \"text\": [\"Spine1\"], \"marker\": {\"color\": \"blue\", \"size\": 2}, \"line\": {\"color\": \"black\", \"width\": 5}}, {\"y\": [3.012821674346924, 2.5281718373298645], \"z\": [10.198222264647484, 10.09790039807558], \"type\": \"scatter3d\", \"x\": [-0.006895793601870537, 0.001719919964671135], \"text\": [\"Neck\"], \"marker\": {\"color\": \"blue\", \"size\": 2}, \"line\": {\"color\": \"black\", \"width\": 5}}, {\"y\": [3.2357531785964966, 3.012821674346924], \"z\": [10.235429674386978, 10.198222264647484], \"type\": \"scatter3d\", \"x\": [0.013292616233229637, -0.006895793601870537], \"text\": [\"Head\"], \"marker\": {\"color\": \"blue\", \"size\": 2}, \"line\": {\"color\": \"black\", \"width\": 5}}, {\"y\": [3.456148386001587, 3.2357531785964966], \"z\": [10.292313814163208, 10.235429674386978], \"type\": \"scatter3d\", \"x\": [0.02245022915303707, 0.013292616233229637], \"text\": [\"Site\"], \"marker\": {\"color\": \"blue\", \"size\": 2}, \"line\": {\"color\": \"black\", \"width\": 5}}, {\"y\": [2.9817614555358887, 3.012821674346924], \"z\": [10.104818262159824, 10.198222264647484], \"type\": \"scatter3d\", \"x\": [0.4195253849029541, -0.006895793601870537], \"text\": [\"LShoulder\"], \"marker\": {\"color\": \"blue\", \"size\": 2}, \"line\": {\"color\": \"black\", \"width\": 5}}, {\"y\": [1.9872704986482859, 2.9817614555358887], \"z\": [10.198110803961754, 10.104818262159824], \"type\": \"scatter3d\", \"x\": [0.44527101516723633, 0.4195253849029541], \"text\": [\"LElbow\"], \"marker\": {\"color\": \"blue\", \"size\": 2}, \"line\": {\"color\": \"black\", \"width\": 5}}, {\"y\": [1.8237810879945755, 1.9872704986482859], \"z\": [10.303896635770798, 10.198110803961754], \"type\": \"scatter3d\", \"x\": [0.44780975580215454, 0.44527101516723633], \"text\": [\"LWrist\"], \"marker\": {\"color\": \"blue\", \"size\": 2}, \"line\": {\"color\": \"black\", \"width\": 5}}, {\"y\": [2.942774772644043, 3.012821674346924], \"z\": [10.165487140417099, 10.198222264647484], \"type\": \"scatter3d\", \"x\": [-0.4225158095359802, -0.006895793601870537], \"text\": [\"RShoulder\"], \"marker\": {\"color\": \"blue\", \"size\": 2}, \"line\": {\"color\": \"red\", \"width\": 5}}, {\"y\": [1.8912229239940643, 2.942774772644043], \"z\": [10.41743928194046, 10.165487140417099], \"type\": \"scatter3d\", \"x\": [-0.5570098161697388, -0.4225158095359802], \"text\": [\"RElbow\"], \"marker\": {\"color\": \"blue\", \"size\": 2}, \"line\": {\"color\": \"red\", \"width\": 5}}, {\"y\": [1.735685646533966, 1.8912229239940643], \"z\": [10.552966475486755, 10.41743928194046], \"type\": \"scatter3d\", \"x\": [-0.5670840740203857, -0.5570098161697388], \"text\": [\"RWrist\"], \"marker\": {\"color\": \"blue\", \"size\": 2}, \"line\": {\"color\": \"red\", \"width\": 5}}, {\"y\": [2.011849765665829, 2.0113775432109833, 2.0116708986461163, 2.0116401202976704, 2.0106278993189335, 2.01270847953856, 2.0126416264101863, 2.0127374595031142, 2.009408425539732, 2.01162894628942, 2.0095556722953916, 2.0089589040726423], \"z\": [9.999753076350316, 9.999828980944585, 9.999864725163206, 9.99974051915342, 10.000227494572755, 9.998863602988422, 9.999546820123214, 9.99953450699104, 10.000100269797258, 9.99863485316746, 9.999725522182416, 10.000196298409719], \"type\": \"scatter3d\", \"x\": [-0.0027418718673288822, -0.0030006198212504387, -0.0030568535439670086, -0.0032310402020812035, -0.0022897955495864153, -0.003721669316291809, -0.0030518618877977133, -0.0027361256070435047, -0.002260821172967553, -0.0042311521247029305, -0.003010640386492014, -0.002232754835858941], \"marker\": {\"color\": \"#1f77b4\", \"size\": 1}, \"line\": {\"color\": \"#1f77b4\", \"width\": 1}}], \"name\": \"frame13\"}, {\"data\": [{\"y\": [1.8090543150901794, 2.0129758697003126], \"z\": [10.113247781991959, 9.999895909975749], \"type\": \"scatter3d\", \"x\": [-0.19349142909049988, -0.0029642798472195864], \"text\": [\"RHip\"], \"marker\": {\"color\": \"blue\", \"size\": 2}, \"line\": {\"color\": \"red\", \"width\": 5}}, {\"y\": [0.9960473775863647, 1.8090543150901794], \"z\": [10.252896964550018, 10.113247781991959], \"type\": \"scatter3d\", \"x\": [-0.1857147514820099, -0.19349142909049988], \"text\": [\"RKnee\"], \"marker\": {\"color\": \"blue\", \"size\": 2}, \"line\": {\"color\": \"red\", \"width\": 5}}, {\"y\": [0.15580153465270996, 0.9960473775863647], \"z\": [9.874932050704956, 10.252896964550018], \"type\": \"scatter3d\", \"x\": [-0.14173534512519836, -0.1857147514820099], \"text\": [\"RAnkle\"], \"marker\": {\"color\": \"blue\", \"size\": 2}, \"line\": {\"color\": \"red\", \"width\": 5}}, {\"y\": [1.762014701962471, 2.0129758697003126], \"z\": [10.145670741796494, 9.999895909975749], \"type\": \"scatter3d\", \"x\": [0.12489131838083267, -0.0029642798472195864], \"text\": [\"LHip\"], \"marker\": {\"color\": \"blue\", \"size\": 2}, \"line\": {\"color\": \"black\", \"width\": 5}}, {\"y\": [0.9955928325653076, 1.762014701962471], \"z\": [10.589950442314148, 10.145670741796494], \"type\": \"scatter3d\", \"x\": [0.12738953530788422, 0.12489131838083267], \"text\": [\"LKnee\"], \"marker\": {\"color\": \"blue\", \"size\": 2}, \"line\": {\"color\": \"black\", \"width\": 5}}, {\"y\": [0.02145099639892578, 0.9955928325653076], \"z\": [10.580086410045624, 10.589950442314148], \"type\": \"scatter3d\", \"x\": [0.1494174301624298, 0.12738953530788422], \"text\": [\"LAnkle\"], \"marker\": {\"color\": \"blue\", \"size\": 2}, \"line\": {\"color\": \"black\", \"width\": 5}}, {\"y\": [2.5159037113189697, 2.0129758697003126], \"z\": [10.085463494062424, 9.999895909975749], \"type\": \"scatter3d\", \"x\": [0.011231722310185432, -0.0029642798472195864], \"text\": [\"Spine1\"], \"marker\": {\"color\": \"blue\", \"size\": 2}, \"line\": {\"color\": \"black\", \"width\": 5}}, {\"y\": [2.9918357729911804, 2.5159037113189697], \"z\": [10.178737461566925, 10.085463494062424], \"type\": \"scatter3d\", \"x\": [0.015224553644657135, 0.011231722310185432], \"text\": [\"Neck\"], \"marker\": {\"color\": \"blue\", \"size\": 2}, \"line\": {\"color\": \"black\", \"width\": 5}}, {\"y\": [3.2032623291015625, 2.9918357729911804], \"z\": [10.213855415582657, 10.178737461566925], \"type\": \"scatter3d\", \"x\": [0.03484002500772476, 0.015224553644657135], \"text\": [\"Head\"], \"marker\": {\"color\": \"blue\", \"size\": 2}, \"line\": {\"color\": \"black\", \"width\": 5}}, {\"y\": [3.409395933151245, 3.2032623291015625], \"z\": [10.270397007465363, 10.213855415582657], \"type\": \"scatter3d\", \"x\": [0.0428207665681839, 0.03484002500772476], \"text\": [\"Site\"], \"marker\": {\"color\": \"blue\", \"size\": 2}, \"line\": {\"color\": \"black\", \"width\": 5}}, {\"y\": [2.946056365966797, 2.9918357729911804], \"z\": [10.087729528546333, 10.178737461566925], \"type\": \"scatter3d\", \"x\": [0.4462272524833679, 0.015224553644657135], \"text\": [\"LShoulder\"], \"marker\": {\"color\": \"blue\", \"size\": 2}, \"line\": {\"color\": \"black\", \"width\": 5}}, {\"y\": [1.9467749297618866, 2.946056365966797], \"z\": [10.151309788227081, 10.087729528546333], \"type\": \"scatter3d\", \"x\": [0.5125201344490051, 0.4462272524833679], \"text\": [\"LElbow\"], \"marker\": {\"color\": \"blue\", \"size\": 2}, \"line\": {\"color\": \"black\", \"width\": 5}}, {\"y\": [1.78125362098217, 1.9467749297618866], \"z\": [10.252189964056015, 10.151309788227081], \"type\": \"scatter3d\", \"x\": [0.5181933641433716, 0.5125201344490051], \"text\": [\"LWrist\"], \"marker\": {\"color\": \"blue\", \"size\": 2}, \"line\": {\"color\": \"black\", \"width\": 5}}, {\"y\": [2.926608681678772, 2.9918357729911804], \"z\": [10.144208192825317, 10.178737461566925], \"type\": \"scatter3d\", \"x\": [-0.4022926986217499, 0.015224553644657135], \"text\": [\"RShoulder\"], \"marker\": {\"color\": \"blue\", \"size\": 2}, \"line\": {\"color\": \"red\", \"width\": 5}}, {\"y\": [1.913013756275177, 2.926608681678772], \"z\": [10.446798115968704, 10.144208192825317], \"type\": \"scatter3d\", \"x\": [-0.5502545833587646, -0.4022926986217499], \"text\": [\"RElbow\"], \"marker\": {\"color\": \"blue\", \"size\": 2}, \"line\": {\"color\": \"red\", \"width\": 5}}, {\"y\": [1.7720235586166382, 1.913013756275177], \"z\": [10.592641949653625, 10.446798115968704], \"type\": \"scatter3d\", \"x\": [-0.5728096961975098, -0.5502545833587646], \"text\": [\"RWrist\"], \"marker\": {\"color\": \"blue\", \"size\": 2}, \"line\": {\"color\": \"red\", \"width\": 5}}, {\"y\": [2.011849765665829, 2.0113775432109833, 2.0116708986461163, 2.0116401202976704, 2.0106278993189335, 2.01270847953856, 2.0126416264101863, 2.0127374595031142, 2.009408425539732, 2.01162894628942, 2.0095556722953916, 2.0089589040726423, 2.0117098232731223], \"z\": [9.999753076350316, 9.999828980944585, 9.999864725163206, 9.99974051915342, 10.000227494572755, 9.998863602988422, 9.999546820123214, 9.99953450699104, 10.000100269797258, 9.99863485316746, 9.999725522182416, 10.000196298409719, 9.999859963892959], \"type\": \"scatter3d\", \"x\": [-0.0027418718673288822, -0.0030006198212504387, -0.0030568535439670086, -0.0032310402020812035, -0.0022897955495864153, -0.003721669316291809, -0.0030518618877977133, -0.0027361256070435047, -0.002260821172967553, -0.0042311521247029305, -0.003010640386492014, -0.002232754835858941, -0.00275089661590755], \"marker\": {\"color\": \"#1f77b4\", \"size\": 1}, \"line\": {\"color\": \"#1f77b4\", \"width\": 1}}], \"name\": \"frame14\"}, {\"data\": [{\"y\": [1.7934096455574036, 2.0117938835173845], \"z\": [10.123188272118568, 10.000027928908821], \"type\": \"scatter3d\", \"x\": [-0.1888754516839981, -0.0027666178066283464], \"text\": [\"RHip\"], \"marker\": {\"color\": \"blue\", \"size\": 2}, \"line\": {\"color\": \"red\", \"width\": 5}}, {\"y\": [0.9390428066253662, 1.7934096455574036], \"z\": [10.494491428136826, 10.123188272118568], \"type\": \"scatter3d\", \"x\": [-0.18365417420864105, -0.1888754516839981], \"text\": [\"RKnee\"], \"marker\": {\"color\": \"blue\", \"size\": 2}, \"line\": {\"color\": \"red\", \"width\": 5}}, {\"y\": [0.2761058807373047, 0.9390428066253662], \"z\": [9.846436589956284, 10.494491428136826], \"type\": \"scatter3d\", \"x\": [-0.13758645951747894, -0.18365417420864105], \"text\": [\"RAnkle\"], \"marker\": {\"color\": \"blue\", \"size\": 2}, \"line\": {\"color\": \"red\", \"width\": 5}}, {\"y\": [1.772739827632904, 2.0117938835173845], \"z\": [10.146551057696342, 10.000027928908821], \"type\": \"scatter3d\", \"x\": [0.1668243706226349, -0.0027666178066283464], \"text\": [\"LHip\"], \"marker\": {\"color\": \"blue\", \"size\": 2}, \"line\": {\"color\": \"black\", \"width\": 5}}, {\"y\": [0.9202786684036255, 1.772739827632904], \"z\": [10.459989964962006, 10.146551057696342], \"type\": \"scatter3d\", \"x\": [0.13264483213424683, 0.1668243706226349], \"text\": [\"LKnee\"], \"marker\": {\"color\": \"blue\", \"size\": 2}, \"line\": {\"color\": \"black\", \"width\": 5}}, {\"y\": [-0.056761741638183594, 0.9202786684036255], \"z\": [10.29739373922348, 10.459989964962006], \"type\": \"scatter3d\", \"x\": [0.1023787260055542, 0.13264483213424683], \"text\": [\"LAnkle\"], \"marker\": {\"color\": \"blue\", \"size\": 2}, \"line\": {\"color\": \"black\", \"width\": 5}}, {\"y\": [2.541214883327484, 2.0117938835173845], \"z\": [10.056659683585167, 10.000027928908821], \"type\": \"scatter3d\", \"x\": [0.022697411477565765, -0.0027666178066283464], \"text\": [\"Spine1\"], \"marker\": {\"color\": \"blue\", \"size\": 2}, \"line\": {\"color\": \"black\", \"width\": 5}}, {\"y\": [3.0473556518554688, 2.541214883327484], \"z\": [10.130004867911339, 10.056659683585167], \"type\": \"scatter3d\", \"x\": [0.03489670902490616, 0.022697411477565765], \"text\": [\"Neck\"], \"marker\": {\"color\": \"blue\", \"size\": 2}, \"line\": {\"color\": \"black\", \"width\": 5}}, {\"y\": [3.2713096141815186, 3.0473556518554688], \"z\": [10.158397257328033, 10.130004867911339], \"type\": \"scatter3d\", \"x\": [0.05787847936153412, 0.03489670902490616], \"text\": [\"Head\"], \"marker\": {\"color\": \"blue\", \"size\": 2}, \"line\": {\"color\": \"black\", \"width\": 5}}, {\"y\": [3.4900037050247192, 3.2713096141815186], \"z\": [10.206849783658981, 10.158397257328033], \"type\": \"scatter3d\", \"x\": [0.06815660744905472, 0.05787847936153412], \"text\": [\"Site\"], \"marker\": {\"color\": \"blue\", \"size\": 2}, \"line\": {\"color\": \"black\", \"width\": 5}}, {\"y\": [2.9747931361198425, 3.0473556518554688], \"z\": [10.055121343582869, 10.130004867911339], \"type\": \"scatter3d\", \"x\": [0.47337281703948975, 0.03489670902490616], \"text\": [\"LShoulder\"], \"marker\": {\"color\": \"blue\", \"size\": 2}, \"line\": {\"color\": \"black\", \"width\": 5}}, {\"y\": [1.919658601284027, 2.9747931361198425], \"z\": [10.12927894294262, 10.055121343582869], \"type\": \"scatter3d\", \"x\": [0.6327617168426514, 0.47337281703948975], \"text\": [\"LElbow\"], \"marker\": {\"color\": \"blue\", \"size\": 2}, \"line\": {\"color\": \"black\", \"width\": 5}}, {\"y\": [1.7393067479133606, 1.919658601284027], \"z\": [10.239932730793953, 10.12927894294262], \"type\": \"scatter3d\", \"x\": [0.6727905869483948, 0.6327617168426514], \"text\": [\"LWrist\"], \"marker\": {\"color\": \"blue\", \"size\": 2}, \"line\": {\"color\": \"black\", \"width\": 5}}, {\"y\": [2.994446039199829, 3.0473556518554688], \"z\": [10.079851277172565, 10.130004867911339], \"type\": \"scatter3d\", \"x\": [-0.41407477855682373, 0.03489670902490616], \"text\": [\"RShoulder\"], \"marker\": {\"color\": \"blue\", \"size\": 2}, \"line\": {\"color\": \"red\", \"width\": 5}}, {\"y\": [1.9662435688078403, 2.994446039199829], \"z\": [10.318994700908661, 10.079851277172565], \"type\": \"scatter3d\", \"x\": [-0.5512242317199707, -0.41407477855682373], \"text\": [\"RElbow\"], \"marker\": {\"color\": \"blue\", \"size\": 2}, \"line\": {\"color\": \"red\", \"width\": 5}}, {\"y\": [1.8166810274124146, 1.9662435688078403], \"z\": [10.451236724853516, 10.318994700908661], \"type\": \"scatter3d\", \"x\": [-0.5835046768188477, -0.5512242317199707], \"text\": [\"RWrist\"], \"marker\": {\"color\": \"blue\", \"size\": 2}, \"line\": {\"color\": \"red\", \"width\": 5}}, {\"y\": [2.011849765665829, 2.0113775432109833, 2.0116708986461163, 2.0116401202976704, 2.0106278993189335, 2.01270847953856, 2.0126416264101863, 2.0127374595031142, 2.009408425539732, 2.01162894628942, 2.0095556722953916, 2.0089589040726423, 2.0117098232731223, 2.0129758697003126], \"z\": [9.999753076350316, 9.999828980944585, 9.999864725163206, 9.99974051915342, 10.000227494572755, 9.998863602988422, 9.999546820123214, 9.99953450699104, 10.000100269797258, 9.99863485316746, 9.999725522182416, 10.000196298409719, 9.999859963892959, 9.999895909975749], \"type\": \"scatter3d\", \"x\": [-0.0027418718673288822, -0.0030006198212504387, -0.0030568535439670086, -0.0032310402020812035, -0.0022897955495864153, -0.003721669316291809, -0.0030518618877977133, -0.0027361256070435047, -0.002260821172967553, -0.0042311521247029305, -0.003010640386492014, -0.002232754835858941, -0.00275089661590755, -0.0029642798472195864], \"marker\": {\"color\": \"#1f77b4\", \"size\": 1}, \"line\": {\"color\": \"#1f77b4\", \"width\": 1}}], \"name\": \"frame15\"}, {\"data\": [{\"y\": [1.7874808311462402, 2.010299876332283], \"z\": [10.138730585575104, 9.999898228386883], \"type\": \"scatter3d\", \"x\": [-0.17726512253284454, -0.003079262562096119], \"text\": [\"RHip\"], \"marker\": {\"color\": \"blue\", \"size\": 2}, \"line\": {\"color\": \"red\", \"width\": 5}}, {\"y\": [0.9691966772079468, 1.7874808311462402], \"z\": [10.692699074745178, 10.138730585575104], \"type\": \"scatter3d\", \"x\": [-0.16257306933403015, -0.17726512253284454], \"text\": [\"RKnee\"], \"marker\": {\"color\": \"blue\", \"size\": 2}, \"line\": {\"color\": \"red\", \"width\": 5}}, {\"y\": [0.0019347667694091797, 0.9691966772079468], \"z\": [10.440780967473984, 10.692699074745178], \"type\": \"scatter3d\", \"x\": [-0.1686466932296753, -0.16257306933403015], \"text\": [\"RAnkle\"], \"marker\": {\"color\": \"blue\", \"size\": 2}, \"line\": {\"color\": \"red\", \"width\": 5}}, {\"y\": [1.7777748852968216, 2.010299876332283], \"z\": [10.15033107995987, 9.999898228386883], \"type\": \"scatter3d\", \"x\": [0.18703334033489227, -0.003079262562096119], \"text\": [\"LHip\"], \"marker\": {\"color\": \"blue\", \"size\": 2}, \"line\": {\"color\": \"black\", \"width\": 5}}, {\"y\": [0.895315408706665, 1.7777748852968216], \"z\": [10.317237973213196, 10.15033107995987], \"type\": \"scatter3d\", \"x\": [0.137277752161026, 0.18703334033489227], \"text\": [\"LKnee\"], \"marker\": {\"color\": \"blue\", \"size\": 2}, \"line\": {\"color\": \"black\", \"width\": 5}}, {\"y\": [-0.08702969551086426, 0.895315408706665], \"z\": [10.063067235052586, 10.317237973213196], \"type\": \"scatter3d\", \"x\": [0.10428790748119354, 0.137277752161026], \"text\": [\"LAnkle\"], \"marker\": {\"color\": \"blue\", \"size\": 2}, \"line\": {\"color\": \"black\", \"width\": 5}}, {\"y\": [2.5454187393188477, 2.010299876332283], \"z\": [10.06447859853506, 9.999898228386883], \"type\": \"scatter3d\", \"x\": [0.03510255366563797, -0.003079262562096119], \"text\": [\"Spine1\"], \"marker\": {\"color\": \"blue\", \"size\": 2}, \"line\": {\"color\": \"black\", \"width\": 5}}, {\"y\": [3.053005576133728, 2.5454187393188477], \"z\": [10.143615543842316, 10.06447859853506], \"type\": \"scatter3d\", \"x\": [0.04162193834781647, 0.03510255366563797], \"text\": [\"Neck\"], \"marker\": {\"color\": \"blue\", \"size\": 2}, \"line\": {\"color\": \"black\", \"width\": 5}}, {\"y\": [3.2841070890426636, 3.053005576133728], \"z\": [10.16739635169506, 10.143615543842316], \"type\": \"scatter3d\", \"x\": [0.05957263708114624, 0.04162193834781647], \"text\": [\"Head\"], \"marker\": {\"color\": \"blue\", \"size\": 2}, \"line\": {\"color\": \"black\", \"width\": 5}}, {\"y\": [3.513957142829895, 3.2841070890426636], \"z\": [10.209325984120369, 10.16739635169506], \"type\": \"scatter3d\", \"x\": [0.06441691517829895, 0.05957263708114624], \"text\": [\"Site\"], \"marker\": {\"color\": \"blue\", \"size\": 2}, \"line\": {\"color\": \"black\", \"width\": 5}}, {\"y\": [2.995289385318756, 3.053005576133728], \"z\": [10.07104990631342, 10.143615543842316], \"type\": \"scatter3d\", \"x\": [0.5030678510665894, 0.04162193834781647], \"text\": [\"LShoulder\"], \"marker\": {\"color\": \"blue\", \"size\": 2}, \"line\": {\"color\": \"black\", \"width\": 5}}, {\"y\": [1.9968640888109803, 2.995289385318756], \"z\": [10.293758988380432, 10.07104990631342], \"type\": \"scatter3d\", \"x\": [0.7462750673294067, 0.5030678510665894], \"text\": [\"LElbow\"], \"marker\": {\"color\": \"blue\", \"size\": 2}, \"line\": {\"color\": \"black\", \"width\": 5}}, {\"y\": [1.8568682968616486, 1.9968640888109803], \"z\": [10.440836995840073, 10.293758988380432], \"type\": \"scatter3d\", \"x\": [0.7976398468017578, 0.7462750673294067], \"text\": [\"LWrist\"], \"marker\": {\"color\": \"blue\", \"size\": 2}, \"line\": {\"color\": \"black\", \"width\": 5}}, {\"y\": [2.992420792579651, 3.053005576133728], \"z\": [10.08151824772358, 10.143615543842316], \"type\": \"scatter3d\", \"x\": [-0.419167697429657, 0.04162193834781647], \"text\": [\"RShoulder\"], \"marker\": {\"color\": \"blue\", \"size\": 2}, \"line\": {\"color\": \"red\", \"width\": 5}}, {\"y\": [1.9182888939976692, 2.992420792579651], \"z\": [10.228220477700233, 10.08151824772358], \"type\": \"scatter3d\", \"x\": [-0.5577996969223022, -0.419167697429657], \"text\": [\"RElbow\"], \"marker\": {\"color\": \"blue\", \"size\": 2}, \"line\": {\"color\": \"red\", \"width\": 5}}, {\"y\": [1.7648335993289948, 1.9182888939976692], \"z\": [10.333311319351196, 10.228220477700233], \"type\": \"scatter3d\", \"x\": [-0.5795736908912659, -0.5577996969223022], \"text\": [\"RWrist\"], \"marker\": {\"color\": \"blue\", \"size\": 2}, \"line\": {\"color\": \"red\", \"width\": 5}}, {\"y\": [2.011849765665829, 2.0113775432109833, 2.0116708986461163, 2.0116401202976704, 2.0106278993189335, 2.01270847953856, 2.0126416264101863, 2.0127374595031142, 2.009408425539732, 2.01162894628942, 2.0095556722953916, 2.0089589040726423, 2.0117098232731223, 2.0129758697003126, 2.0117938835173845], \"z\": [9.999753076350316, 9.999828980944585, 9.999864725163206, 9.99974051915342, 10.000227494572755, 9.998863602988422, 9.999546820123214, 9.99953450699104, 10.000100269797258, 9.99863485316746, 9.999725522182416, 10.000196298409719, 9.999859963892959, 9.999895909975749, 10.000027928908821], \"type\": \"scatter3d\", \"x\": [-0.0027418718673288822, -0.0030006198212504387, -0.0030568535439670086, -0.0032310402020812035, -0.0022897955495864153, -0.003721669316291809, -0.0030518618877977133, -0.0027361256070435047, -0.002260821172967553, -0.0042311521247029305, -0.003010640386492014, -0.002232754835858941, -0.00275089661590755, -0.0029642798472195864, -0.0027666178066283464], \"marker\": {\"color\": \"#1f77b4\", \"size\": 1}, \"line\": {\"color\": \"#1f77b4\", \"width\": 1}}], \"name\": \"frame16\"}, {\"data\": [{\"y\": [1.7816579341888428, 2.0117486901581287], \"z\": [10.131061851978302, 9.999798106902745], \"type\": \"scatter3d\", \"x\": [-0.15574371814727783, -0.0035347763914614916], \"text\": [\"RHip\"], \"marker\": {\"color\": \"blue\", \"size\": 2}, \"line\": {\"color\": \"red\", \"width\": 5}}, {\"y\": [0.9688594341278076, 1.7816579341888428], \"z\": [10.692727386951447, 10.131061851978302], \"type\": \"scatter3d\", \"x\": [-0.1371476650238037, -0.15574371814727783], \"text\": [\"RKnee\"], \"marker\": {\"color\": \"blue\", \"size\": 2}, \"line\": {\"color\": \"red\", \"width\": 5}}, {\"y\": [-0.0641469955444336, 0.9688594341278076], \"z\": [10.830434799194336, 10.692727386951447], \"type\": \"scatter3d\", \"x\": [-0.19324429333209991, -0.1371476650238037], \"text\": [\"RAnkle\"], \"marker\": {\"color\": \"blue\", \"size\": 2}, \"line\": {\"color\": \"red\", \"width\": 5}}, {\"y\": [1.779586061835289, 2.0117486901581287], \"z\": [10.14037537574768, 9.999798106902745], \"type\": \"scatter3d\", \"x\": [0.1887352466583252, -0.0035347763914614916], \"text\": [\"LHip\"], \"marker\": {\"color\": \"blue\", \"size\": 2}, \"line\": {\"color\": \"black\", \"width\": 5}}, {\"y\": [0.9114857912063599, 1.779586061835289], \"z\": [10.05804768949747, 10.14037537574768], \"type\": \"scatter3d\", \"x\": [0.17827217280864716, 0.1887352466583252], \"text\": [\"LKnee\"], \"marker\": {\"color\": \"blue\", \"size\": 2}, \"line\": {\"color\": \"black\", \"width\": 5}}, {\"y\": [-0.038349151611328125, 0.9114857912063599], \"z\": [9.737327933311462, 10.05804768949747], \"type\": \"scatter3d\", \"x\": [0.14347417652606964, 0.17827217280864716], \"text\": [\"LAnkle\"], \"marker\": {\"color\": \"blue\", \"size\": 2}, \"line\": {\"color\": \"black\", \"width\": 5}}, {\"y\": [2.5280447602272034, 2.0117486901581287], \"z\": [10.079186752438545, 9.999798106902745], \"type\": \"scatter3d\", \"x\": [0.03616948425769806, -0.0035347763914614916], \"text\": [\"Spine1\"], \"marker\": {\"color\": \"blue\", \"size\": 2}, \"line\": {\"color\": \"black\", \"width\": 5}}, {\"y\": [3.0182576179504395, 2.5280447602272034], \"z\": [10.178380876779556, 10.079186752438545], \"type\": \"scatter3d\", \"x\": [0.028980091214179993, 0.03616948425769806], \"text\": [\"Neck\"], \"marker\": {\"color\": \"blue\", \"size\": 2}, \"line\": {\"color\": \"black\", \"width\": 5}}, {\"y\": [3.241376042366028, 3.0182576179504395], \"z\": [10.216015994548798, 10.178380876779556], \"type\": \"scatter3d\", \"x\": [0.039057862013578415, 0.028980091214179993], \"text\": [\"Head\"], \"marker\": {\"color\": \"blue\", \"size\": 2}, \"line\": {\"color\": \"black\", \"width\": 5}}, {\"y\": [3.462446093559265, 3.241376042366028], \"z\": [10.270783632993698, 10.216015994548798], \"type\": \"scatter3d\", \"x\": [0.03543411195278168, 0.039057862013578415], \"text\": [\"Site\"], \"marker\": {\"color\": \"blue\", \"size\": 2}, \"line\": {\"color\": \"black\", \"width\": 5}}, {\"y\": [2.9675827622413635, 3.0182576179504395], \"z\": [10.108754955232143, 10.178380876779556], \"type\": \"scatter3d\", \"x\": [0.47973692417144775, 0.028980091214179993], \"text\": [\"LShoulder\"], \"marker\": {\"color\": \"blue\", \"size\": 2}, \"line\": {\"color\": \"black\", \"width\": 5}}, {\"y\": [2.0216102972626686, 2.9675827622413635], \"z\": [10.312605738639832, 10.108754955232143], \"type\": \"scatter3d\", \"x\": [0.7430997490882874, 0.47973692417144775], \"text\": [\"LElbow\"], \"marker\": {\"color\": \"blue\", \"size\": 2}, \"line\": {\"color\": \"black\", \"width\": 5}}, {\"y\": [1.8974347114562988, 2.0216102972626686], \"z\": [10.458651900291443, 10.312605738639832], \"type\": \"scatter3d\", \"x\": [0.7856343388557434, 0.7430997490882874], \"text\": [\"LWrist\"], \"marker\": {\"color\": \"blue\", \"size\": 2}, \"line\": {\"color\": \"black\", \"width\": 5}}, {\"y\": [2.9503180980682373, 3.0182576179504395], \"z\": [10.103755168616772, 10.178380876779556], \"type\": \"scatter3d\", \"x\": [-0.41125646233558655, 0.028980091214179993], \"text\": [\"RShoulder\"], \"marker\": {\"color\": \"blue\", \"size\": 2}, \"line\": {\"color\": \"red\", \"width\": 5}}, {\"y\": [1.882779873907566, 2.9503180980682373], \"z\": [10.128059163689613, 10.103755168616772], \"type\": \"scatter3d\", \"x\": [-0.5193487405776978, -0.41125646233558655], \"text\": [\"RElbow\"], \"marker\": {\"color\": \"blue\", \"size\": 2}, \"line\": {\"color\": \"red\", \"width\": 5}}, {\"y\": [1.7248136103153229, 1.882779873907566], \"z\": [10.20099014043808, 10.128059163689613], \"type\": \"scatter3d\", \"x\": [-0.5374462008476257, -0.5193487405776978], \"text\": [\"RWrist\"], \"marker\": {\"color\": \"blue\", \"size\": 2}, \"line\": {\"color\": \"red\", \"width\": 5}}, {\"y\": [2.011849765665829, 2.0113775432109833, 2.0116708986461163, 2.0116401202976704, 2.0106278993189335, 2.01270847953856, 2.0126416264101863, 2.0127374595031142, 2.009408425539732, 2.01162894628942, 2.0095556722953916, 2.0089589040726423, 2.0117098232731223, 2.0129758697003126, 2.0117938835173845, 2.010299876332283], \"z\": [9.999753076350316, 9.999828980944585, 9.999864725163206, 9.99974051915342, 10.000227494572755, 9.998863602988422, 9.999546820123214, 9.99953450699104, 10.000100269797258, 9.99863485316746, 9.999725522182416, 10.000196298409719, 9.999859963892959, 9.999895909975749, 10.000027928908821, 9.999898228386883], \"type\": \"scatter3d\", \"x\": [-0.0027418718673288822, -0.0030006198212504387, -0.0030568535439670086, -0.0032310402020812035, -0.0022897955495864153, -0.003721669316291809, -0.0030518618877977133, -0.0027361256070435047, -0.002260821172967553, -0.0042311521247029305, -0.003010640386492014, -0.002232754835858941, -0.00275089661590755, -0.0029642798472195864, -0.0027666178066283464, -0.003079262562096119], \"marker\": {\"color\": \"#1f77b4\", \"size\": 1}, \"line\": {\"color\": \"#1f77b4\", \"width\": 1}}], \"name\": \"frame17\"}, {\"data\": [{\"y\": [1.7896497249603271, 2.0099654560908675], \"z\": [10.129503071308136, 9.999948241515085], \"type\": \"scatter3d\", \"x\": [-0.17599359154701233, -0.0034277590457350016], \"text\": [\"RHip\"], \"marker\": {\"color\": \"blue\", \"size\": 2}, \"line\": {\"color\": \"red\", \"width\": 5}}, {\"y\": [0.9384356737136841, 1.7896497249603271], \"z\": [10.612668991088867, 10.129503071308136], \"type\": \"scatter3d\", \"x\": [-0.15140491724014282, -0.17599359154701233], \"text\": [\"RKnee\"], \"marker\": {\"color\": \"blue\", \"size\": 2}, \"line\": {\"color\": \"red\", \"width\": 5}}, {\"y\": [-0.09222698211669922, 0.9384356737136841], \"z\": [10.594050168991089, 10.612668991088867], \"type\": \"scatter3d\", \"x\": [-0.12432471662759781, -0.15140491724014282], \"text\": [\"RAnkle\"], \"marker\": {\"color\": \"blue\", \"size\": 2}, \"line\": {\"color\": \"red\", \"width\": 5}}, {\"y\": [1.768582820892334, 2.0099654560908675], \"z\": [10.147985279560089, 9.999948241515085], \"type\": \"scatter3d\", \"x\": [0.1855795979499817, -0.0034277590457350016], \"text\": [\"LHip\"], \"marker\": {\"color\": \"blue\", \"size\": 2}, \"line\": {\"color\": \"black\", \"width\": 5}}, {\"y\": [0.9071900844573975, 1.768582820892334], \"z\": [10.243731886148453, 10.147985279560089], \"type\": \"scatter3d\", \"x\": [0.18198610842227936, 0.1855795979499817], \"text\": [\"LKnee\"], \"marker\": {\"color\": \"blue\", \"size\": 2}, \"line\": {\"color\": \"black\", \"width\": 5}}, {\"y\": [0.1504662036895752, 0.9071900844573975], \"z\": [9.609556168317795, 10.243731886148453], \"type\": \"scatter3d\", \"x\": [0.17633576691150665, 0.18198610842227936], \"text\": [\"LAnkle\"], \"marker\": {\"color\": \"blue\", \"size\": 2}, \"line\": {\"color\": \"black\", \"width\": 5}}, {\"y\": [2.5275861620903015, 2.0099654560908675], \"z\": [10.074390150606632, 9.999948241515085], \"type\": \"scatter3d\", \"x\": [0.014953948557376862, -0.0034277590457350016], \"text\": [\"Spine1\"], \"marker\": {\"color\": \"blue\", \"size\": 2}, \"line\": {\"color\": \"black\", \"width\": 5}}, {\"y\": [3.023845076560974, 2.5275861620903015], \"z\": [10.165260821580887, 10.074390150606632], \"type\": \"scatter3d\", \"x\": [-0.020341314375400543, 0.014953948557376862], \"text\": [\"Neck\"], \"marker\": {\"color\": \"blue\", \"size\": 2}, \"line\": {\"color\": \"black\", \"width\": 5}}, {\"y\": [3.2504273653030396, 3.023845076560974], \"z\": [10.201159879565239, 10.165260821580887], \"type\": \"scatter3d\", \"x\": [-0.018046174198389053, -0.020341314375400543], \"text\": [\"Head\"], \"marker\": {\"color\": \"blue\", \"size\": 2}, \"line\": {\"color\": \"black\", \"width\": 5}}, {\"y\": [3.474902391433716, 3.2504273653030396], \"z\": [10.256091594696045, 10.201159879565239], \"type\": \"scatter3d\", \"x\": [-0.028253968805074692, -0.018046174198389053], \"text\": [\"Site\"], \"marker\": {\"color\": \"blue\", \"size\": 2}, \"line\": {\"color\": \"black\", \"width\": 5}}, {\"y\": [2.989730715751648, 3.023845076560974], \"z\": [10.099906131625175, 10.165260821580887], \"type\": \"scatter3d\", \"x\": [0.43745312094688416, -0.020341314375400543], \"text\": [\"LShoulder\"], \"marker\": {\"color\": \"blue\", \"size\": 2}, \"line\": {\"color\": \"black\", \"width\": 5}}, {\"y\": [1.9692400004714727, 2.989730715751648], \"z\": [10.296234250068665, 10.099906131625175], \"type\": \"scatter3d\", \"x\": [0.6534626483917236, 0.43745312094688416], \"text\": [\"LElbow\"], \"marker\": {\"color\": \"blue\", \"size\": 2}, \"line\": {\"color\": \"black\", \"width\": 5}}, {\"y\": [1.8111630380153656, 1.9692400004714727], \"z\": [10.446779429912567, 10.296234250068665], \"type\": \"scatter3d\", \"x\": [0.6930545568466187, 0.6534626483917236], \"text\": [\"LWrist\"], \"marker\": {\"color\": \"blue\", \"size\": 2}, \"line\": {\"color\": \"black\", \"width\": 5}}, {\"y\": [2.9404075145721436, 3.023845076560974], \"z\": [10.089401885867119, 10.165260821580887], \"type\": \"scatter3d\", \"x\": [-0.4588584899902344, -0.020341314375400543], \"text\": [\"RShoulder\"], \"marker\": {\"color\": \"blue\", \"size\": 2}, \"line\": {\"color\": \"red\", \"width\": 5}}, {\"y\": [1.8189232647418976, 2.9404075145721436], \"z\": [10.144971907138824, 10.089401885867119], \"type\": \"scatter3d\", \"x\": [-0.5408048629760742, -0.4588584899902344], \"text\": [\"RElbow\"], \"marker\": {\"color\": \"blue\", \"size\": 2}, \"line\": {\"color\": \"red\", \"width\": 5}}, {\"y\": [1.6413230299949646, 1.8189232647418976], \"z\": [10.215718179941177, 10.144971907138824], \"type\": \"scatter3d\", \"x\": [-0.5659354329109192, -0.5408048629760742], \"text\": [\"RWrist\"], \"marker\": {\"color\": \"blue\", \"size\": 2}, \"line\": {\"color\": \"red\", \"width\": 5}}, {\"y\": [2.011849765665829, 2.0113775432109833, 2.0116708986461163, 2.0116401202976704, 2.0106278993189335, 2.01270847953856, 2.0126416264101863, 2.0127374595031142, 2.009408425539732, 2.01162894628942, 2.0095556722953916, 2.0089589040726423, 2.0117098232731223, 2.0129758697003126, 2.0117938835173845, 2.010299876332283, 2.0117486901581287], \"z\": [9.999753076350316, 9.999828980944585, 9.999864725163206, 9.99974051915342, 10.000227494572755, 9.998863602988422, 9.999546820123214, 9.99953450699104, 10.000100269797258, 9.99863485316746, 9.999725522182416, 10.000196298409719, 9.999859963892959, 9.999895909975749, 10.000027928908821, 9.999898228386883, 9.999798106902745], \"type\": \"scatter3d\", \"x\": [-0.0027418718673288822, -0.0030006198212504387, -0.0030568535439670086, -0.0032310402020812035, -0.0022897955495864153, -0.003721669316291809, -0.0030518618877977133, -0.0027361256070435047, -0.002260821172967553, -0.0042311521247029305, -0.003010640386492014, -0.002232754835858941, -0.00275089661590755, -0.0029642798472195864, -0.0027666178066283464, -0.003079262562096119, -0.0035347763914614916], \"marker\": {\"color\": \"#1f77b4\", \"size\": 1}, \"line\": {\"color\": \"#1f77b4\", \"width\": 1}}], \"name\": \"frame18\"}, {\"data\": [{\"y\": [1.8031911253929138, 2.010773878544569], \"z\": [10.133389070630074, 10.000051599054132], \"type\": \"scatter3d\", \"x\": [-0.19051770865917206, -0.002994382521137595], \"text\": [\"RHip\"], \"marker\": {\"color\": \"blue\", \"size\": 2}, \"line\": {\"color\": \"red\", \"width\": 5}}, {\"y\": [0.9098385572433472, 1.8031911253929138], \"z\": [10.492413818836212, 10.133389070630074], \"type\": \"scatter3d\", \"x\": [-0.12304162234067917, -0.19051770865917206], \"text\": [\"RKnee\"], \"marker\": {\"color\": \"blue\", \"size\": 2}, \"line\": {\"color\": \"red\", \"width\": 5}}, {\"y\": [-0.07736968994140625, 0.9098385572433472], \"z\": [10.31560081243515, 10.492413818836212], \"type\": \"scatter3d\", \"x\": [-0.08593005686998367, -0.12304162234067917], \"text\": [\"RAnkle\"], \"marker\": {\"color\": \"blue\", \"size\": 2}, \"line\": {\"color\": \"red\", \"width\": 5}}, {\"y\": [1.7594158798456192, 2.010773878544569], \"z\": [10.150808051228523, 10.000051599054132], \"type\": \"scatter3d\", \"x\": [0.17204245924949646, -0.002994382521137595], \"text\": [\"LHip\"], \"marker\": {\"color\": \"blue\", \"size\": 2}, \"line\": {\"color\": \"black\", \"width\": 5}}, {\"y\": [0.9257304668426514, 1.7594158798456192], \"z\": [10.551606237888336, 10.150808051228523], \"type\": \"scatter3d\", \"x\": [0.20530857145786285, 0.17204245924949646], \"text\": [\"LKnee\"], \"marker\": {\"color\": \"blue\", \"size\": 2}, \"line\": {\"color\": \"black\", \"width\": 5}}, {\"y\": [0.19153261184692383, 0.9257304668426514], \"z\": [9.896582499146461, 10.551606237888336], \"type\": \"scatter3d\", \"x\": [0.14213719964027405, 0.20530857145786285], \"text\": [\"LAnkle\"], \"marker\": {\"color\": \"blue\", \"size\": 2}, \"line\": {\"color\": \"black\", \"width\": 5}}, {\"y\": [2.5336177945137024, 2.010773878544569], \"z\": [10.074716411530972, 10.000051599054132], \"type\": \"scatter3d\", \"x\": [-0.0012075500562787056, -0.002994382521137595], \"text\": [\"Spine1\"], \"marker\": {\"color\": \"blue\", \"size\": 2}, \"line\": {\"color\": \"black\", \"width\": 5}}, {\"y\": [3.0313706398010254, 2.5336177945137024], \"z\": [10.152241840958595, 10.074716411530972], \"type\": \"scatter3d\", \"x\": [-0.04000253230333328, -0.0012075500562787056], \"text\": [\"Neck\"], \"marker\": {\"color\": \"blue\", \"size\": 2}, \"line\": {\"color\": \"black\", \"width\": 5}}, {\"y\": [3.2577191591262817, 3.0313706398010254], \"z\": [10.175650373101234, 10.152241840958595], \"type\": \"scatter3d\", \"x\": [-0.035838041454553604, -0.04000253230333328], \"text\": [\"Head\"], \"marker\": {\"color\": \"blue\", \"size\": 2}, \"line\": {\"color\": \"black\", \"width\": 5}}, {\"y\": [3.482501745223999, 3.2577191591262817], \"z\": [10.219645351171494, 10.175650373101234], \"type\": \"scatter3d\", \"x\": [-0.04277371987700462, -0.035838041454553604], \"text\": [\"Site\"], \"marker\": {\"color\": \"blue\", \"size\": 2}, \"line\": {\"color\": \"black\", \"width\": 5}}, {\"y\": [3.002171516418457, 3.0313706398010254], \"z\": [10.078524082899094, 10.152241840958595], \"type\": \"scatter3d\", \"x\": [0.41651132702827454, -0.04000253230333328], \"text\": [\"LShoulder\"], \"marker\": {\"color\": \"blue\", \"size\": 2}, \"line\": {\"color\": \"black\", \"width\": 5}}, {\"y\": [1.970303151756525, 3.002171516418457], \"z\": [10.240362137556076, 10.078524082899094], \"type\": \"scatter3d\", \"x\": [0.5027319192886353, 0.41651132702827454], \"text\": [\"LElbow\"], \"marker\": {\"color\": \"blue\", \"size\": 2}, \"line\": {\"color\": \"black\", \"width\": 5}}, {\"y\": [1.796220675110817, 1.970303151756525], \"z\": [10.376655280590057, 10.240362137556076], \"type\": \"scatter3d\", \"x\": [0.5134224891662598, 0.5027319192886353], \"text\": [\"LWrist\"], \"marker\": {\"color\": \"blue\", \"size\": 2}, \"line\": {\"color\": \"black\", \"width\": 5}}, {\"y\": [2.941310226917267, 3.0313706398010254], \"z\": [10.09538396447897, 10.152241840958595], \"type\": \"scatter3d\", \"x\": [-0.4747687876224518, -0.04000253230333328], \"text\": [\"RShoulder\"], \"marker\": {\"color\": \"blue\", \"size\": 2}, \"line\": {\"color\": \"red\", \"width\": 5}}, {\"y\": [1.8380083590745926, 2.941310226917267], \"z\": [10.246636673808098, 10.09538396447897], \"type\": \"scatter3d\", \"x\": [-0.5471033453941345, -0.4747687876224518], \"text\": [\"RElbow\"], \"marker\": {\"color\": \"blue\", \"size\": 2}, \"line\": {\"color\": \"red\", \"width\": 5}}, {\"y\": [1.6552529335021973, 1.8380083590745926], \"z\": [10.348496109247208, 10.246636673808098], \"type\": \"scatter3d\", \"x\": [-0.5773240923881531, -0.5471033453941345], \"text\": [\"RWrist\"], \"marker\": {\"color\": \"blue\", \"size\": 2}, \"line\": {\"color\": \"red\", \"width\": 5}}, {\"y\": [2.011849765665829, 2.0113775432109833, 2.0116708986461163, 2.0116401202976704, 2.0106278993189335, 2.01270847953856, 2.0126416264101863, 2.0127374595031142, 2.009408425539732, 2.01162894628942, 2.0095556722953916, 2.0089589040726423, 2.0117098232731223, 2.0129758697003126, 2.0117938835173845, 2.010299876332283, 2.0117486901581287, 2.0099654560908675], \"z\": [9.999753076350316, 9.999828980944585, 9.999864725163206, 9.99974051915342, 10.000227494572755, 9.998863602988422, 9.999546820123214, 9.99953450699104, 10.000100269797258, 9.99863485316746, 9.999725522182416, 10.000196298409719, 9.999859963892959, 9.999895909975749, 10.000027928908821, 9.999898228386883, 9.999798106902745, 9.999948241515085], \"type\": \"scatter3d\", \"x\": [-0.0027418718673288822, -0.0030006198212504387, -0.0030568535439670086, -0.0032310402020812035, -0.0022897955495864153, -0.003721669316291809, -0.0030518618877977133, -0.0027361256070435047, -0.002260821172967553, -0.0042311521247029305, -0.003010640386492014, -0.002232754835858941, -0.00275089661590755, -0.0029642798472195864, -0.0027666178066283464, -0.003079262562096119, -0.0035347763914614916, -0.0034277590457350016], \"marker\": {\"color\": \"#1f77b4\", \"size\": 1}, \"line\": {\"color\": \"#1f77b4\", \"width\": 1}}], \"name\": \"frame19\"}, {\"data\": [{\"y\": [1.8202287554740906, 2.0130298733711243], \"z\": [10.115206725895405, 10.000278516672552], \"type\": \"scatter3d\", \"x\": [-0.1792881190776825, -0.0030490162316709757], \"text\": [\"RHip\"], \"marker\": {\"color\": \"blue\", \"size\": 2}, \"line\": {\"color\": \"red\", \"width\": 5}}, {\"y\": [0.9969096183776855, 1.8202287554740906], \"z\": [10.344664931297302, 10.115206725895405], \"type\": \"scatter3d\", \"x\": [-0.10411510616540909, -0.1792881190776825], \"text\": [\"RKnee\"], \"marker\": {\"color\": \"blue\", \"size\": 2}, \"line\": {\"color\": \"red\", \"width\": 5}}, {\"y\": [0.09230268001556396, 0.9969096183776855], \"z\": [10.10187715291977, 10.344664931297302], \"type\": \"scatter3d\", \"x\": [-0.06927362829446793, -0.10411510616540909], \"text\": [\"RAnkle\"], \"marker\": {\"color\": \"blue\", \"size\": 2}, \"line\": {\"color\": \"red\", \"width\": 5}}, {\"y\": [1.7760981917381287, 2.0130298733711243], \"z\": [10.150037407875061, 10.000278516672552], \"type\": \"scatter3d\", \"x\": [0.14487001299858093, -0.0030490162316709757], \"text\": [\"LHip\"], \"marker\": {\"color\": \"blue\", \"size\": 2}, \"line\": {\"color\": \"black\", \"width\": 5}}, {\"y\": [1.0153440833091736, 1.7760981917381287], \"z\": [10.579765141010284, 10.150037407875061], \"type\": \"scatter3d\", \"x\": [0.1822129189968109, 0.14487001299858093], \"text\": [\"LKnee\"], \"marker\": {\"color\": \"blue\", \"size\": 2}, \"line\": {\"color\": \"black\", \"width\": 5}}, {\"y\": [0.058258652687072754, 1.0153440833091736], \"z\": [10.487602978944778, 10.579765141010284], \"type\": \"scatter3d\", \"x\": [0.16343526542186737, 0.1822129189968109], \"text\": [\"LAnkle\"], \"marker\": {\"color\": \"blue\", \"size\": 2}, \"line\": {\"color\": \"black\", \"width\": 5}}, {\"y\": [2.500409245491028, 2.0130298733711243], \"z\": [10.080986067652702, 10.000278516672552], \"type\": \"scatter3d\", \"x\": [0.007847540080547333, -0.0030490162316709757], \"text\": [\"Spine1\"], \"marker\": {\"color\": \"blue\", \"size\": 2}, \"line\": {\"color\": \"black\", \"width\": 5}}, {\"y\": [2.964006245136261, 2.500409245491028], \"z\": [10.164316713809967, 10.080986067652702], \"type\": \"scatter3d\", \"x\": [-0.0033969953656196594, 0.007847540080547333], \"text\": [\"Neck\"], \"marker\": {\"color\": \"blue\", \"size\": 2}, \"line\": {\"color\": \"black\", \"width\": 5}}, {\"y\": [3.175101637840271, 2.964006245136261], \"z\": [10.190696150064468, 10.164316713809967], \"type\": \"scatter3d\", \"x\": [0.006248725578188896, -0.0033969953656196594], \"text\": [\"Head\"], \"marker\": {\"color\": \"blue\", \"size\": 2}, \"line\": {\"color\": \"black\", \"width\": 5}}, {\"y\": [3.3889695405960083, 3.175101637840271], \"z\": [10.235333696007729, 10.190696150064468], \"type\": \"scatter3d\", \"x\": [0.004210676997900009, 0.006248725578188896], \"text\": [\"Site\"], \"marker\": {\"color\": \"blue\", \"size\": 2}, \"line\": {\"color\": \"black\", \"width\": 5}}, {\"y\": [2.9409766793251038, 2.964006245136261], \"z\": [10.097412660717964, 10.164316713809967], \"type\": \"scatter3d\", \"x\": [0.4166322350502014, -0.0033969953656196594], \"text\": [\"LShoulder\"], \"marker\": {\"color\": \"blue\", \"size\": 2}, \"line\": {\"color\": \"black\", \"width\": 5}}, {\"y\": [2.0125343147665262, 2.9409766793251038], \"z\": [10.237089186906815, 10.097412660717964], \"type\": \"scatter3d\", \"x\": [0.44050678610801697, 0.4166322350502014], \"text\": [\"LElbow\"], \"marker\": {\"color\": \"blue\", \"size\": 2}, \"line\": {\"color\": \"black\", \"width\": 5}}, {\"y\": [1.86772620677948, 2.0125343147665262], \"z\": [10.343409597873688, 10.237089186906815], \"type\": \"scatter3d\", \"x\": [0.44165581464767456, 0.44050678610801697], \"text\": [\"LWrist\"], \"marker\": {\"color\": \"blue\", \"size\": 2}, \"line\": {\"color\": \"black\", \"width\": 5}}, {\"y\": [2.8766167759895325, 2.964006245136261], \"z\": [10.10612703114748, 10.164316713809967], \"type\": \"scatter3d\", \"x\": [-0.41986945271492004, -0.0033969953656196594], \"text\": [\"RShoulder\"], \"marker\": {\"color\": \"blue\", \"size\": 2}, \"line\": {\"color\": \"red\", \"width\": 5}}, {\"y\": [1.8894785642623901, 2.8766167759895325], \"z\": [10.342921048402786, 10.10612703114748], \"type\": \"scatter3d\", \"x\": [-0.5258917808532715, -0.41986945271492004], \"text\": [\"RElbow\"], \"marker\": {\"color\": \"blue\", \"size\": 2}, \"line\": {\"color\": \"red\", \"width\": 5}}, {\"y\": [1.7407523393630981, 1.8894785642623901], \"z\": [10.468878149986267, 10.342921048402786], \"type\": \"scatter3d\", \"x\": [-0.5459286570549011, -0.5258917808532715], \"text\": [\"RWrist\"], \"marker\": {\"color\": \"blue\", \"size\": 2}, \"line\": {\"color\": \"red\", \"width\": 5}}, {\"y\": [2.011849765665829, 2.0113775432109833, 2.0116708986461163, 2.0116401202976704, 2.0106278993189335, 2.01270847953856, 2.0126416264101863, 2.0127374595031142, 2.009408425539732, 2.01162894628942, 2.0095556722953916, 2.0089589040726423, 2.0117098232731223, 2.0129758697003126, 2.0117938835173845, 2.010299876332283, 2.0117486901581287, 2.0099654560908675, 2.010773878544569], \"z\": [9.999753076350316, 9.999828980944585, 9.999864725163206, 9.99974051915342, 10.000227494572755, 9.998863602988422, 9.999546820123214, 9.99953450699104, 10.000100269797258, 9.99863485316746, 9.999725522182416, 10.000196298409719, 9.999859963892959, 9.999895909975749, 10.000027928908821, 9.999898228386883, 9.999798106902745, 9.999948241515085, 10.000051599054132], \"type\": \"scatter3d\", \"x\": [-0.0027418718673288822, -0.0030006198212504387, -0.0030568535439670086, -0.0032310402020812035, -0.0022897955495864153, -0.003721669316291809, -0.0030518618877977133, -0.0027361256070435047, -0.002260821172967553, -0.0042311521247029305, -0.003010640386492014, -0.002232754835858941, -0.00275089661590755, -0.0029642798472195864, -0.0027666178066283464, -0.003079262562096119, -0.0035347763914614916, -0.0034277590457350016, -0.002994382521137595], \"marker\": {\"color\": \"#1f77b4\", \"size\": 1}, \"line\": {\"color\": \"#1f77b4\", \"width\": 1}}], \"name\": \"frame20\"}, {\"data\": [{\"y\": [1.8335872292518616, 2.014864937402308], \"z\": [10.109093509614468, 10.000469715305371], \"type\": \"scatter3d\", \"x\": [-0.17113330960273743, -0.0032166503369808197], \"text\": [\"RHip\"], \"marker\": {\"color\": \"blue\", \"size\": 2}, \"line\": {\"color\": \"red\", \"width\": 5}}, {\"y\": [1.0947690606117249, 1.8335872292518616], \"z\": [10.245072484016418, 10.109093509614468], \"type\": \"scatter3d\", \"x\": [-0.16020697355270386, -0.17113330960273743], \"text\": [\"RKnee\"], \"marker\": {\"color\": \"blue\", \"size\": 2}, \"line\": {\"color\": \"red\", \"width\": 5}}, {\"y\": [0.29644668102264404, 1.0947690606117249], \"z\": [9.91337925195694, 10.245072484016418], \"type\": \"scatter3d\", \"x\": [-0.13145293295383453, -0.16020697355270386], \"text\": [\"RAnkle\"], \"marker\": {\"color\": \"blue\", \"size\": 2}, \"line\": {\"color\": \"red\", \"width\": 5}}, {\"y\": [1.7831966280937195, 2.014864937402308], \"z\": [10.15736798942089, 10.000469715305371], \"type\": \"scatter3d\", \"x\": [0.12769955396652222, -0.0032166503369808197], \"text\": [\"LHip\"], \"marker\": {\"color\": \"blue\", \"size\": 2}, \"line\": {\"color\": \"black\", \"width\": 5}}, {\"y\": [1.0660638809204102, 1.7831966280937195], \"z\": [10.564156651496887, 10.15736798942089], \"type\": \"scatter3d\", \"x\": [0.14334164559841156, 0.12769955396652222], \"text\": [\"LKnee\"], \"marker\": {\"color\": \"blue\", \"size\": 2}, \"line\": {\"color\": \"black\", \"width\": 5}}, {\"y\": [0.14304840564727783, 1.0660638809204102], \"z\": [10.55606722831726, 10.564156651496887], \"type\": \"scatter3d\", \"x\": [0.1900925636291504, 0.14334164559841156], \"text\": [\"LAnkle\"], \"marker\": {\"color\": \"blue\", \"size\": 2}, \"line\": {\"color\": \"black\", \"width\": 5}}, {\"y\": [2.4685222506523132, 2.014864937402308], \"z\": [10.075412474572659, 10.000469715305371], \"type\": \"scatter3d\", \"x\": [0.010281194932758808, -0.0032166503369808197], \"text\": [\"Spine1\"], \"marker\": {\"color\": \"blue\", \"size\": 2}, \"line\": {\"color\": \"black\", \"width\": 5}}, {\"y\": [2.9038962721824646, 2.4685222506523132], \"z\": [10.166160359978676, 10.075412474572659], \"type\": \"scatter3d\", \"x\": [0.008879290893673897, 0.010281194932758808], \"text\": [\"Neck\"], \"marker\": {\"color\": \"blue\", \"size\": 2}, \"line\": {\"color\": \"black\", \"width\": 5}}, {\"y\": [3.0945814847946167, 2.9038962721824646], \"z\": [10.197122007608414, 10.166160359978676], \"type\": \"scatter3d\", \"x\": [0.014336353167891502, 0.008879290893673897], \"text\": [\"Head\"], \"marker\": {\"color\": \"blue\", \"size\": 2}, \"line\": {\"color\": \"black\", \"width\": 5}}, {\"y\": [3.2859184741973877, 3.0945814847946167], \"z\": [10.245585560798645, 10.197122007608414], \"type\": \"scatter3d\", \"x\": [0.009411096572875977, 0.014336353167891502], \"text\": [\"Site\"], \"marker\": {\"color\": \"blue\", \"size\": 2}, \"line\": {\"color\": \"black\", \"width\": 5}}, {\"y\": [2.8705273866653442, 2.9038962721824646], \"z\": [10.106065444648266, 10.166160359978676], \"type\": \"scatter3d\", \"x\": [0.41553422808647156, 0.008879290893673897], \"text\": [\"LShoulder\"], \"marker\": {\"color\": \"blue\", \"size\": 2}, \"line\": {\"color\": \"black\", \"width\": 5}}, {\"y\": [1.9520134218037128, 2.8705273866653442], \"z\": [10.196111112833023, 10.106065444648266], \"type\": \"scatter3d\", \"x\": [0.4861717224121094, 0.41553422808647156], \"text\": [\"LElbow\"], \"marker\": {\"color\": \"blue\", \"size\": 2}, \"line\": {\"color\": \"black\", \"width\": 5}}, {\"y\": [1.8122451156377792, 1.9520134218037128], \"z\": [10.29966551065445, 10.196111112833023], \"type\": \"scatter3d\", \"x\": [0.4975772202014923, 0.4861717224121094], \"text\": [\"LWrist\"], \"marker\": {\"color\": \"blue\", \"size\": 2}, \"line\": {\"color\": \"black\", \"width\": 5}}, {\"y\": [2.8245667815208435, 2.9038962721824646], \"z\": [10.092627987265587, 10.166160359978676], \"type\": \"scatter3d\", \"x\": [-0.3947114646434784, 0.008879290893673897], \"text\": [\"RShoulder\"], \"marker\": {\"color\": \"blue\", \"size\": 2}, \"line\": {\"color\": \"red\", \"width\": 5}}, {\"y\": [1.8716630190610886, 2.8245667815208435], \"z\": [10.321637600660324, 10.092627987265587], \"type\": \"scatter3d\", \"x\": [-0.520780622959137, -0.3947114646434784], \"text\": [\"RElbow\"], \"marker\": {\"color\": \"blue\", \"size\": 2}, \"line\": {\"color\": \"red\", \"width\": 5}}, {\"y\": [1.7332933247089386, 1.8716630190610886], \"z\": [10.449198603630066, 10.321637600660324], \"type\": \"scatter3d\", \"x\": [-0.555061936378479, -0.520780622959137], \"text\": [\"RWrist\"], \"marker\": {\"color\": \"blue\", \"size\": 2}, \"line\": {\"color\": \"red\", \"width\": 5}}, {\"y\": [2.011849765665829, 2.0113775432109833, 2.0116708986461163, 2.0116401202976704, 2.0106278993189335, 2.01270847953856, 2.0126416264101863, 2.0127374595031142, 2.009408425539732, 2.01162894628942, 2.0095556722953916, 2.0089589040726423, 2.0117098232731223, 2.0129758697003126, 2.0117938835173845, 2.010299876332283, 2.0117486901581287, 2.0099654560908675, 2.010773878544569, 2.0130298733711243], \"z\": [9.999753076350316, 9.999828980944585, 9.999864725163206, 9.99974051915342, 10.000227494572755, 9.998863602988422, 9.999546820123214, 9.99953450699104, 10.000100269797258, 9.99863485316746, 9.999725522182416, 10.000196298409719, 9.999859963892959, 9.999895909975749, 10.000027928908821, 9.999898228386883, 9.999798106902745, 9.999948241515085, 10.000051599054132, 10.000278516672552], \"type\": \"scatter3d\", \"x\": [-0.0027418718673288822, -0.0030006198212504387, -0.0030568535439670086, -0.0032310402020812035, -0.0022897955495864153, -0.003721669316291809, -0.0030518618877977133, -0.0027361256070435047, -0.002260821172967553, -0.0042311521247029305, -0.003010640386492014, -0.002232754835858941, -0.00275089661590755, -0.0029642798472195864, -0.0027666178066283464, -0.003079262562096119, -0.0035347763914614916, -0.0034277590457350016, -0.002994382521137595, -0.0030490162316709757], \"marker\": {\"color\": \"#1f77b4\", \"size\": 1}, \"line\": {\"color\": \"#1f77b4\", \"width\": 1}}], \"name\": \"frame21\"}, {\"data\": [{\"y\": [1.8104017823934555, 2.0138240698724985], \"z\": [10.123357236385345, 10.00022966240067], \"type\": \"scatter3d\", \"x\": [-0.16779868304729462, -0.0032722055912017822], \"text\": [\"RHip\"], \"marker\": {\"color\": \"blue\", \"size\": 2}, \"line\": {\"color\": \"red\", \"width\": 5}}, {\"y\": [1.039260983467102, 1.8104017823934555], \"z\": [10.418589740991592, 10.123357236385345], \"type\": \"scatter3d\", \"x\": [-0.1685137301683426, -0.16779868304729462], \"text\": [\"RKnee\"], \"marker\": {\"color\": \"blue\", \"size\": 2}, \"line\": {\"color\": \"red\", \"width\": 5}}, {\"y\": [0.4619044065475464, 1.039260983467102], \"z\": [9.799476325511932, 10.418589740991592], \"type\": \"scatter3d\", \"x\": [-0.20274081826210022, -0.1685137301683426], \"text\": [\"RAnkle\"], \"marker\": {\"color\": \"blue\", \"size\": 2}, \"line\": {\"color\": \"red\", \"width\": 5}}, {\"y\": [1.7932317703962326, 2.0138240698724985], \"z\": [10.14117805659771, 10.00022966240067], \"type\": \"scatter3d\", \"x\": [0.16338267922401428, -0.0032722055912017822], \"text\": [\"LHip\"], \"marker\": {\"color\": \"blue\", \"size\": 2}, \"line\": {\"color\": \"black\", \"width\": 5}}, {\"y\": [1.0173767805099487, 1.7932317703962326], \"z\": [10.421472489833832, 10.14117805659771], \"type\": \"scatter3d\", \"x\": [0.15023192763328552, 0.16338267922401428], \"text\": [\"LKnee\"], \"marker\": {\"color\": \"blue\", \"size\": 2}, \"line\": {\"color\": \"black\", \"width\": 5}}, {\"y\": [0.12554430961608887, 1.0173767805099487], \"z\": [10.270900666713715, 10.421472489833832], \"type\": \"scatter3d\", \"x\": [0.11736507713794708, 0.15023192763328552], \"text\": [\"LAnkle\"], \"marker\": {\"color\": \"blue\", \"size\": 2}, \"line\": {\"color\": \"black\", \"width\": 5}}, {\"y\": [2.4913470447063446, 2.0138240698724985], \"z\": [10.06143619120121, 10.00022966240067], \"type\": \"scatter3d\", \"x\": [0.009293099865317345, -0.0032722055912017822], \"text\": [\"Spine1\"], \"marker\": {\"color\": \"blue\", \"size\": 2}, \"line\": {\"color\": \"black\", \"width\": 5}}, {\"y\": [2.953720211982727, 2.4913470447063446], \"z\": [10.140817895531654, 10.06143619120121], \"type\": \"scatter3d\", \"x\": [0.009456463158130646, 0.009293099865317345], \"text\": [\"Neck\"], \"marker\": {\"color\": \"blue\", \"size\": 2}, \"line\": {\"color\": \"black\", \"width\": 5}}, {\"y\": [3.15098774433136, 2.953720211982727], \"z\": [10.174767777323723, 10.140817895531654], \"type\": \"scatter3d\", \"x\": [0.025616202503442764, 0.009456463158130646], \"text\": [\"Head\"], \"marker\": {\"color\": \"blue\", \"size\": 2}, \"line\": {\"color\": \"black\", \"width\": 5}}, {\"y\": [3.3455052375793457, 3.15098774433136], \"z\": [10.228614866733551, 10.174767777323723], \"type\": \"scatter3d\", \"x\": [0.035383645445108414, 0.025616202503442764], \"text\": [\"Site\"], \"marker\": {\"color\": \"blue\", \"size\": 2}, \"line\": {\"color\": \"black\", \"width\": 5}}, {\"y\": [2.9015124440193176, 2.953720211982727], \"z\": [10.07214631140232, 10.140817895531654], \"type\": \"scatter3d\", \"x\": [0.42139124870300293, 0.009456463158130646], \"text\": [\"LShoulder\"], \"marker\": {\"color\": \"blue\", \"size\": 2}, \"line\": {\"color\": \"black\", \"width\": 5}}, {\"y\": [1.9108686223626137, 2.9015124440193176], \"z\": [10.131641894578934, 10.07214631140232], \"type\": \"scatter3d\", \"x\": [0.5046356320381165, 0.42139124870300293], \"text\": [\"LElbow\"], \"marker\": {\"color\": \"blue\", \"size\": 2}, \"line\": {\"color\": \"black\", \"width\": 5}}, {\"y\": [1.7461251020431519, 1.9108686223626137], \"z\": [10.239033713936806, 10.131641894578934], \"type\": \"scatter3d\", \"x\": [0.533747673034668, 0.5046356320381165], \"text\": [\"LWrist\"], \"marker\": {\"color\": \"blue\", \"size\": 2}, \"line\": {\"color\": \"black\", \"width\": 5}}, {\"y\": [2.884663760662079, 2.953720211982727], \"z\": [10.08176625519991, 10.140817895531654], \"type\": \"scatter3d\", \"x\": [-0.4076756238937378, 0.009456463158130646], \"text\": [\"RShoulder\"], \"marker\": {\"color\": \"blue\", \"size\": 2}, \"line\": {\"color\": \"red\", \"width\": 5}}, {\"y\": [1.9371969550848007, 2.884663760662079], \"z\": [10.274777978658676, 10.08176625519991], \"type\": \"scatter3d\", \"x\": [-0.5132232904434204, -0.4076756238937378], \"text\": [\"RElbow\"], \"marker\": {\"color\": \"blue\", \"size\": 2}, \"line\": {\"color\": \"red\", \"width\": 5}}, {\"y\": [1.7938880622386932, 1.9371969550848007], \"z\": [10.40447986125946, 10.274777978658676], \"type\": \"scatter3d\", \"x\": [-0.5462275147438049, -0.5132232904434204], \"text\": [\"RWrist\"], \"marker\": {\"color\": \"blue\", \"size\": 2}, \"line\": {\"color\": \"red\", \"width\": 5}}, {\"y\": [2.011849765665829, 2.0113775432109833, 2.0116708986461163, 2.0116401202976704, 2.0106278993189335, 2.01270847953856, 2.0126416264101863, 2.0127374595031142, 2.009408425539732, 2.01162894628942, 2.0095556722953916, 2.0089589040726423, 2.0117098232731223, 2.0129758697003126, 2.0117938835173845, 2.010299876332283, 2.0117486901581287, 2.0099654560908675, 2.010773878544569, 2.0130298733711243, 2.014864937402308], \"z\": [9.999753076350316, 9.999828980944585, 9.999864725163206, 9.99974051915342, 10.000227494572755, 9.998863602988422, 9.999546820123214, 9.99953450699104, 10.000100269797258, 9.99863485316746, 9.999725522182416, 10.000196298409719, 9.999859963892959, 9.999895909975749, 10.000027928908821, 9.999898228386883, 9.999798106902745, 9.999948241515085, 10.000051599054132, 10.000278516672552, 10.000469715305371], \"type\": \"scatter3d\", \"x\": [-0.0027418718673288822, -0.0030006198212504387, -0.0030568535439670086, -0.0032310402020812035, -0.0022897955495864153, -0.003721669316291809, -0.0030518618877977133, -0.0027361256070435047, -0.002260821172967553, -0.0042311521247029305, -0.003010640386492014, -0.002232754835858941, -0.00275089661590755, -0.0029642798472195864, -0.0027666178066283464, -0.003079262562096119, -0.0035347763914614916, -0.0034277590457350016, -0.002994382521137595, -0.0030490162316709757, -0.0032166503369808197], \"marker\": {\"color\": \"#1f77b4\", \"size\": 1}, \"line\": {\"color\": \"#1f77b4\", \"width\": 1}}], \"name\": \"frame22\"}, {\"data\": [{\"y\": [1.8361856043338776, 2.0131459198892117], \"z\": [10.11376791447401, 10.000806567142718], \"type\": \"scatter3d\", \"x\": [-0.12263742089271545, -0.0027839543763548136], \"text\": [\"RHip\"], \"marker\": {\"color\": \"blue\", \"size\": 2}, \"line\": {\"color\": \"red\", \"width\": 5}}, {\"y\": [1.150452971458435, 1.8361856043338776], \"z\": [10.456170082092285, 10.11376791447401], \"type\": \"scatter3d\", \"x\": [-0.06882583349943161, -0.12263742089271545], \"text\": [\"RKnee\"], \"marker\": {\"color\": \"blue\", \"size\": 2}, \"line\": {\"color\": \"red\", \"width\": 5}}, {\"y\": [0.45084965229034424, 1.150452971458435], \"z\": [10.052677296102047, 10.456170082092285], \"type\": \"scatter3d\", \"x\": [-0.12491098046302795, -0.06882583349943161], \"text\": [\"RAnkle\"], \"marker\": {\"color\": \"blue\", \"size\": 2}, \"line\": {\"color\": \"red\", \"width\": 5}}, {\"y\": [1.812034785747528, 2.0131459198892117], \"z\": [10.11743876338005, 10.000806567142718], \"type\": \"scatter3d\", \"x\": [0.15635062754154205, -0.0027839543763548136], \"text\": [\"LHip\"], \"marker\": {\"color\": \"blue\", \"size\": 2}, \"line\": {\"color\": \"black\", \"width\": 5}}, {\"y\": [1.1009735465049744, 1.812034785747528], \"z\": [10.230996370315552, 10.11743876338005], \"type\": \"scatter3d\", \"x\": [0.1264209747314453, 0.15635062754154205], \"text\": [\"LKnee\"], \"marker\": {\"color\": \"blue\", \"size\": 2}, \"line\": {\"color\": \"black\", \"width\": 5}}, {\"y\": [0.34062492847442627, 1.1009735465049744], \"z\": [9.957377422600985, 10.230996370315552], \"type\": \"scatter3d\", \"x\": [0.05400592088699341, 0.1264209747314453], \"text\": [\"LAnkle\"], \"marker\": {\"color\": \"blue\", \"size\": 2}, \"line\": {\"color\": \"black\", \"width\": 5}}, {\"y\": [2.4282470047473907, 2.0131459198892117], \"z\": [10.095409855246544, 10.000806567142718], \"type\": \"scatter3d\", \"x\": [0.025055496022105217, -0.0027839543763548136], \"text\": [\"Spine1\"], \"marker\": {\"color\": \"blue\", \"size\": 2}, \"line\": {\"color\": \"black\", \"width\": 5}}, {\"y\": [2.8329110741615295, 2.4282470047473907], \"z\": [10.198140516877174, 10.095409855246544], \"type\": \"scatter3d\", \"x\": [0.02770122140645981, 0.025055496022105217], \"text\": [\"Neck\"], \"marker\": {\"color\": \"blue\", \"size\": 2}, \"line\": {\"color\": \"black\", \"width\": 5}}, {\"y\": [3.005957245826721, 2.8329110741615295], \"z\": [10.226180747151375, 10.198140516877174], \"type\": \"scatter3d\", \"x\": [0.04411449655890465, 0.02770122140645981], \"text\": [\"Head\"], \"marker\": {\"color\": \"blue\", \"size\": 2}, \"line\": {\"color\": \"black\", \"width\": 5}}, {\"y\": [3.184026837348938, 3.005957245826721], \"z\": [10.26949542760849, 10.226180747151375], \"type\": \"scatter3d\", \"x\": [0.05549115687608719, 0.04411449655890465], \"text\": [\"Site\"], \"marker\": {\"color\": \"blue\", \"size\": 2}, \"line\": {\"color\": \"black\", \"width\": 5}}, {\"y\": [2.784798324108124, 2.8329110741615295], \"z\": [10.123563341796398, 10.198140516877174], \"type\": \"scatter3d\", \"x\": [0.3666177988052368, 0.02770122140645981], \"text\": [\"LShoulder\"], \"marker\": {\"color\": \"blue\", \"size\": 2}, \"line\": {\"color\": \"black\", \"width\": 5}}, {\"y\": [1.9852625746279955, 2.784798324108124], \"z\": [10.305332005023956, 10.123563341796398], \"type\": \"scatter3d\", \"x\": [0.46749553084373474, 0.3666177988052368], \"text\": [\"LElbow\"], \"marker\": {\"color\": \"blue\", \"size\": 2}, \"line\": {\"color\": \"black\", \"width\": 5}}, {\"y\": [1.8734821677207947, 1.9852625746279955], \"z\": [10.424860686063766, 10.305332005023956], \"type\": \"scatter3d\", \"x\": [0.494769424200058, 0.46749553084373474], \"text\": [\"LWrist\"], \"marker\": {\"color\": \"blue\", \"size\": 2}, \"line\": {\"color\": \"black\", \"width\": 5}}, {\"y\": [2.7780149579048157, 2.8329110741615295], \"z\": [10.131214335560799, 10.198140516877174], \"type\": \"scatter3d\", \"x\": [-0.3375580310821533, 0.02770122140645981], \"text\": [\"RShoulder\"], \"marker\": {\"color\": \"blue\", \"size\": 2}, \"line\": {\"color\": \"red\", \"width\": 5}}, {\"y\": [1.924858719110489, 2.7780149579048157], \"z\": [10.272694438695908, 10.131214335560799], \"type\": \"scatter3d\", \"x\": [-0.3919592797756195, -0.3375580310821533], \"text\": [\"RElbow\"], \"marker\": {\"color\": \"blue\", \"size\": 2}, \"line\": {\"color\": \"red\", \"width\": 5}}, {\"y\": [1.7961344718933105, 1.924858719110489], \"z\": [10.386794626712799, 10.272694438695908], \"type\": \"scatter3d\", \"x\": [-0.394128680229187, -0.3919592797756195], \"text\": [\"RWrist\"], \"marker\": {\"color\": \"blue\", \"size\": 2}, \"line\": {\"color\": \"red\", \"width\": 5}}, {\"y\": [2.011849765665829, 2.0113775432109833, 2.0116708986461163, 2.0116401202976704, 2.0106278993189335, 2.01270847953856, 2.0126416264101863, 2.0127374595031142, 2.009408425539732, 2.01162894628942, 2.0095556722953916, 2.0089589040726423, 2.0117098232731223, 2.0129758697003126, 2.0117938835173845, 2.010299876332283, 2.0117486901581287, 2.0099654560908675, 2.010773878544569, 2.0130298733711243, 2.014864937402308, 2.0138240698724985], \"z\": [9.999753076350316, 9.999828980944585, 9.999864725163206, 9.99974051915342, 10.000227494572755, 9.998863602988422, 9.999546820123214, 9.99953450699104, 10.000100269797258, 9.99863485316746, 9.999725522182416, 10.000196298409719, 9.999859963892959, 9.999895909975749, 10.000027928908821, 9.999898228386883, 9.999798106902745, 9.999948241515085, 10.000051599054132, 10.000278516672552, 10.000469715305371, 10.00022966240067], \"type\": \"scatter3d\", \"x\": [-0.0027418718673288822, -0.0030006198212504387, -0.0030568535439670086, -0.0032310402020812035, -0.0022897955495864153, -0.003721669316291809, -0.0030518618877977133, -0.0027361256070435047, -0.002260821172967553, -0.0042311521247029305, -0.003010640386492014, -0.002232754835858941, -0.00275089661590755, -0.0029642798472195864, -0.0027666178066283464, -0.003079262562096119, -0.0035347763914614916, -0.0034277590457350016, -0.002994382521137595, -0.0030490162316709757, -0.0032166503369808197, -0.0032722055912017822], \"marker\": {\"color\": \"#1f77b4\", \"size\": 1}, \"line\": {\"color\": \"#1f77b4\", \"width\": 1}}], \"name\": \"frame23\"}, {\"data\": [{\"y\": [1.9064637124538422, 2.02232351526618], \"z\": [10.095717385411263, 10.001839361386374], \"type\": \"scatter3d\", \"x\": [-0.05465889722108841, -0.0036888110917061567], \"text\": [\"RHip\"], \"marker\": {\"color\": \"blue\", \"size\": 2}, \"line\": {\"color\": \"red\", \"width\": 5}}, {\"y\": [1.465737760066986, 1.9064637124538422], \"z\": [10.468389093875885, 10.095717385411263], \"type\": \"scatter3d\", \"x\": [0.017161615192890167, -0.05465889722108841], \"text\": [\"RKnee\"], \"marker\": {\"color\": \"blue\", \"size\": 2}, \"line\": {\"color\": \"red\", \"width\": 5}}, {\"y\": [0.8579345941543579, 1.465737760066986], \"z\": [10.370662778615952, 10.468389093875885], \"type\": \"scatter3d\", \"x\": [-0.024728666990995407, 0.017161615192890167], \"text\": [\"RAnkle\"], \"marker\": {\"color\": \"blue\", \"size\": 2}, \"line\": {\"color\": \"red\", \"width\": 5}}, {\"y\": [1.8931013867259026, 2.02232351526618], \"z\": [10.118326134979725, 10.001839361386374], \"type\": \"scatter3d\", \"x\": [0.09745928645133972, -0.0036888110917061567], \"text\": [\"LHip\"], \"marker\": {\"color\": \"blue\", \"size\": 2}, \"line\": {\"color\": \"black\", \"width\": 5}}, {\"y\": [1.416899025440216, 1.8931013867259026], \"z\": [10.141782015562057, 10.118326134979725], \"type\": \"scatter3d\", \"x\": [0.11032368242740631, 0.09745928645133972], \"text\": [\"LKnee\"], \"marker\": {\"color\": \"blue\", \"size\": 2}, \"line\": {\"color\": \"black\", \"width\": 5}}, {\"y\": [0.9164103269577026, 1.416899025440216], \"z\": [9.773645713925362, 10.141782015562057], \"type\": \"scatter3d\", \"x\": [0.04224038124084473, 0.11032368242740631], \"text\": [\"LAnkle\"], \"marker\": {\"color\": \"blue\", \"size\": 2}, \"line\": {\"color\": \"black\", \"width\": 5}}, {\"y\": [2.2860429883003235, 2.02232351526618], \"z\": [10.128409519791603, 10.001839361386374], \"type\": \"scatter3d\", \"x\": [0.04736790433526039, -0.0036888110917061567], \"text\": [\"Spine1\"], \"marker\": {\"color\": \"blue\", \"size\": 2}, \"line\": {\"color\": \"black\", \"width\": 5}}, {\"y\": [2.538464665412903, 2.2860429883003235], \"z\": [10.28692701458931, 10.128409519791603], \"type\": \"scatter3d\", \"x\": [0.03501091152429581, 0.04736790433526039], \"text\": [\"Neck\"], \"marker\": {\"color\": \"blue\", \"size\": 2}, \"line\": {\"color\": \"black\", \"width\": 5}}, {\"y\": [2.6341663599014282, 2.538464665412903], \"z\": [10.333892494440079, 10.28692701458931], \"type\": \"scatter3d\", \"x\": [0.041635192930698395, 0.03501091152429581], \"text\": [\"Head\"], \"marker\": {\"color\": \"blue\", \"size\": 2}, \"line\": {\"color\": \"black\", \"width\": 5}}, {\"y\": [2.743195414543152, 2.6341663599014282], \"z\": [10.38661441206932, 10.333892494440079], \"type\": \"scatter3d\", \"x\": [0.05757938697934151, 0.041635192930698395], \"text\": [\"Site\"], \"marker\": {\"color\": \"blue\", \"size\": 2}, \"line\": {\"color\": \"black\", \"width\": 5}}, {\"y\": [2.5097692608833313, 2.538464665412903], \"z\": [10.145373687148094, 10.28692701458931], \"type\": \"scatter3d\", \"x\": [0.2399955838918686, 0.03501091152429581], \"text\": [\"LShoulder\"], \"marker\": {\"color\": \"blue\", \"size\": 2}, \"line\": {\"color\": \"black\", \"width\": 5}}, {\"y\": [2.0342090986669064, 2.5097692608833313], \"z\": [10.324132025241852, 10.145373687148094], \"type\": \"scatter3d\", \"x\": [0.3555419147014618, 0.2399955838918686], \"text\": [\"LElbow\"], \"marker\": {\"color\": \"blue\", \"size\": 2}, \"line\": {\"color\": \"black\", \"width\": 5}}, {\"y\": [1.9818761926144361, 2.0342090986669064], \"z\": [10.452433347702026, 10.324132025241852], \"type\": \"scatter3d\", \"x\": [0.38044628500938416, 0.3555419147014618], \"text\": [\"LWrist\"], \"marker\": {\"color\": \"blue\", \"size\": 2}, \"line\": {\"color\": \"black\", \"width\": 5}}, {\"y\": [2.480586290359497, 2.538464665412903], \"z\": [10.225537419319153, 10.28692701458931], \"type\": \"scatter3d\", \"x\": [-0.19946327805519104, 0.03501091152429581], \"text\": [\"RShoulder\"], \"marker\": {\"color\": \"blue\", \"size\": 2}, \"line\": {\"color\": \"red\", \"width\": 5}}, {\"y\": [1.9060442373156548, 2.480586290359497], \"z\": [10.195510804653168, 10.225537419319153], \"type\": \"scatter3d\", \"x\": [-0.2235880196094513, -0.19946327805519104], \"text\": [\"RElbow\"], \"marker\": {\"color\": \"blue\", \"size\": 2}, \"line\": {\"color\": \"red\", \"width\": 5}}, {\"y\": [1.799362689256668, 1.9060442373156548], \"z\": [10.231729418039322, 10.195510804653168], \"type\": \"scatter3d\", \"x\": [-0.20783212780952454, -0.2235880196094513], \"text\": [\"RWrist\"], \"marker\": {\"color\": \"blue\", \"size\": 2}, \"line\": {\"color\": \"red\", \"width\": 5}}, {\"y\": [2.011849765665829, 2.0113775432109833, 2.0116708986461163, 2.0116401202976704, 2.0106278993189335, 2.01270847953856, 2.0126416264101863, 2.0127374595031142, 2.009408425539732, 2.01162894628942, 2.0095556722953916, 2.0089589040726423, 2.0117098232731223, 2.0129758697003126, 2.0117938835173845, 2.010299876332283, 2.0117486901581287, 2.0099654560908675, 2.010773878544569, 2.0130298733711243, 2.014864937402308, 2.0138240698724985, 2.0131459198892117], \"z\": [9.999753076350316, 9.999828980944585, 9.999864725163206, 9.99974051915342, 10.000227494572755, 9.998863602988422, 9.999546820123214, 9.99953450699104, 10.000100269797258, 9.99863485316746, 9.999725522182416, 10.000196298409719, 9.999859963892959, 9.999895909975749, 10.000027928908821, 9.999898228386883, 9.999798106902745, 9.999948241515085, 10.000051599054132, 10.000278516672552, 10.000469715305371, 10.00022966240067, 10.000806567142718], \"type\": \"scatter3d\", \"x\": [-0.0027418718673288822, -0.0030006198212504387, -0.0030568535439670086, -0.0032310402020812035, -0.0022897955495864153, -0.003721669316291809, -0.0030518618877977133, -0.0027361256070435047, -0.002260821172967553, -0.0042311521247029305, -0.003010640386492014, -0.002232754835858941, -0.00275089661590755, -0.0029642798472195864, -0.0027666178066283464, -0.003079262562096119, -0.0035347763914614916, -0.0034277590457350016, -0.002994382521137595, -0.0030490162316709757, -0.0032166503369808197, -0.0032722055912017822, -0.0027839543763548136], \"marker\": {\"color\": \"#1f77b4\", \"size\": 1}, \"line\": {\"color\": \"#1f77b4\", \"width\": 1}}], \"name\": \"frame24\"}, {\"data\": [{\"y\": [1.9392871484160423, 2.034904159605503], \"z\": [10.088190898299217, 10.001958452630788], \"type\": \"scatter3d\", \"x\": [-0.05012669786810875, -0.004391905851662159], \"text\": [\"RHip\"], \"marker\": {\"color\": \"blue\", \"size\": 2}, \"line\": {\"color\": \"red\", \"width\": 5}}, {\"y\": [1.6064379215240479, 1.9392871484160423], \"z\": [10.42729115486145, 10.088190898299217], \"type\": \"scatter3d\", \"x\": [0.03737146779894829, -0.05012669786810875], \"text\": [\"RKnee\"], \"marker\": {\"color\": \"blue\", \"size\": 2}, \"line\": {\"color\": \"red\", \"width\": 5}}, {\"y\": [1.0903709530830383, 1.6064379215240479], \"z\": [10.221315026283264, 10.42729115486145], \"type\": \"scatter3d\", \"x\": [-0.013812563382089138, 0.03737146779894829], \"text\": [\"RAnkle\"], \"marker\": {\"color\": \"blue\", \"size\": 2}, \"line\": {\"color\": \"red\", \"width\": 5}}, {\"y\": [1.9282691925764084, 2.034904159605503], \"z\": [10.142729103565216, 10.001958452630788], \"type\": \"scatter3d\", \"x\": [0.09661991894245148, -0.004391905851662159], \"text\": [\"LHip\"], \"marker\": {\"color\": \"blue\", \"size\": 2}, \"line\": {\"color\": \"black\", \"width\": 5}}, {\"y\": [1.4847424030303955, 1.9282691925764084], \"z\": [10.186596602201462, 10.142729103565216], \"type\": \"scatter3d\", \"x\": [0.13077732920646667, 0.09661991894245148], \"text\": [\"LKnee\"], \"marker\": {\"color\": \"blue\", \"size\": 2}, \"line\": {\"color\": \"black\", \"width\": 5}}, {\"y\": [1.223160982131958, 1.4847424030303955], \"z\": [9.652049601078033, 10.186596602201462], \"type\": \"scatter3d\", \"x\": [0.013743310235440731, 0.13077732920646667], \"text\": [\"LAnkle\"], \"marker\": {\"color\": \"blue\", \"size\": 2}, \"line\": {\"color\": \"black\", \"width\": 5}}, {\"y\": [2.2293937653303146, 2.034904159605503], \"z\": [10.150075227022171, 10.001958452630788], \"type\": \"scatter3d\", \"x\": [0.03223409876227379, -0.004391905851662159], \"text\": [\"Spine1\"], \"marker\": {\"color\": \"blue\", \"size\": 2}, \"line\": {\"color\": \"black\", \"width\": 5}}, {\"y\": [2.422552078962326, 2.2293937653303146], \"z\": [10.339704900979996, 10.150075227022171], \"type\": \"scatter3d\", \"x\": [0.0008458029478788376, 0.03223409876227379], \"text\": [\"Neck\"], \"marker\": {\"color\": \"blue\", \"size\": 2}, \"line\": {\"color\": \"black\", \"width\": 5}}, {\"y\": [2.4845109283924103, 2.422552078962326], \"z\": [10.392681539058685, 10.339704900979996], \"type\": \"scatter3d\", \"x\": [0.011852575466036797, 0.0008458029478788376], \"text\": [\"Head\"], \"marker\": {\"color\": \"blue\", \"size\": 2}, \"line\": {\"color\": \"black\", \"width\": 5}}, {\"y\": [2.5591635704040527, 2.4845109283924103], \"z\": [10.450562804937363, 10.392681539058685], \"type\": \"scatter3d\", \"x\": [0.03426876664161682, 0.011852575466036797], \"text\": [\"Site\"], \"marker\": {\"color\": \"blue\", \"size\": 2}, \"line\": {\"color\": \"black\", \"width\": 5}}, {\"y\": [2.398522824048996, 2.422552078962326], \"z\": [10.199174344539642, 10.339704900979996], \"type\": \"scatter3d\", \"x\": [0.16378092765808105, 0.0008458029478788376], \"text\": [\"LShoulder\"], \"marker\": {\"color\": \"blue\", \"size\": 2}, \"line\": {\"color\": \"black\", \"width\": 5}}, {\"y\": [2.009429045021534, 2.398522824048996], \"z\": [10.352916240692139, 10.199174344539642], \"type\": \"scatter3d\", \"x\": [0.25460511445999146, 0.16378092765808105], \"text\": [\"LElbow\"], \"marker\": {\"color\": \"blue\", \"size\": 2}, \"line\": {\"color\": \"black\", \"width\": 5}}, {\"y\": [1.9659108631312847, 2.009429045021534], \"z\": [10.478692382574081, 10.352916240692139], \"type\": \"scatter3d\", \"x\": [0.27007827162742615, 0.25460511445999146], \"text\": [\"LWrist\"], \"marker\": {\"color\": \"blue\", \"size\": 2}, \"line\": {\"color\": \"black\", \"width\": 5}}, {\"y\": [2.3522722125053406, 2.422552078962326], \"z\": [10.243960782885551, 10.339704900979996], \"type\": \"scatter3d\", \"x\": [-0.20113898813724518, 0.0008458029478788376], \"text\": [\"RShoulder\"], \"marker\": {\"color\": \"blue\", \"size\": 2}, \"line\": {\"color\": \"red\", \"width\": 5}}, {\"y\": [1.9021361619234085, 2.3522722125053406], \"z\": [10.179304644465446, 10.243960782885551], \"type\": \"scatter3d\", \"x\": [-0.19207420945167542, -0.20113898813724518], \"text\": [\"RElbow\"], \"marker\": {\"color\": \"blue\", \"size\": 2}, \"line\": {\"color\": \"red\", \"width\": 5}}, {\"y\": [1.8104564994573593, 1.9021361619234085], \"z\": [10.191311746835709, 10.179304644465446], \"type\": \"scatter3d\", \"x\": [-0.17631055414676666, -0.19207420945167542], \"text\": [\"RWrist\"], \"marker\": {\"color\": \"blue\", \"size\": 2}, \"line\": {\"color\": \"red\", \"width\": 5}}, {\"y\": [2.011849765665829, 2.0113775432109833, 2.0116708986461163, 2.0116401202976704, 2.0106278993189335, 2.01270847953856, 2.0126416264101863, 2.0127374595031142, 2.009408425539732, 2.01162894628942, 2.0095556722953916, 2.0089589040726423, 2.0117098232731223, 2.0129758697003126, 2.0117938835173845, 2.010299876332283, 2.0117486901581287, 2.0099654560908675, 2.010773878544569, 2.0130298733711243, 2.014864937402308, 2.0138240698724985, 2.0131459198892117, 2.02232351526618], \"z\": [9.999753076350316, 9.999828980944585, 9.999864725163206, 9.99974051915342, 10.000227494572755, 9.998863602988422, 9.999546820123214, 9.99953450699104, 10.000100269797258, 9.99863485316746, 9.999725522182416, 10.000196298409719, 9.999859963892959, 9.999895909975749, 10.000027928908821, 9.999898228386883, 9.999798106902745, 9.999948241515085, 10.000051599054132, 10.000278516672552, 10.000469715305371, 10.00022966240067, 10.000806567142718, 10.001839361386374], \"type\": \"scatter3d\", \"x\": [-0.0027418718673288822, -0.0030006198212504387, -0.0030568535439670086, -0.0032310402020812035, -0.0022897955495864153, -0.003721669316291809, -0.0030518618877977133, -0.0027361256070435047, -0.002260821172967553, -0.0042311521247029305, -0.003010640386492014, -0.002232754835858941, -0.00275089661590755, -0.0029642798472195864, -0.0027666178066283464, -0.003079262562096119, -0.0035347763914614916, -0.0034277590457350016, -0.002994382521137595, -0.0030490162316709757, -0.0032166503369808197, -0.0032722055912017822, -0.0027839543763548136, -0.0036888110917061567], \"marker\": {\"color\": \"#1f77b4\", \"size\": 1}, \"line\": {\"color\": \"#1f77b4\", \"width\": 1}}], \"name\": \"frame25\"}, {\"data\": [{\"y\": [1.9392212145030499, 2.0213879719376564], \"z\": [10.102708034217358, 10.001630772370845], \"type\": \"scatter3d\", \"x\": [-0.08477194607257843, -0.00478758430108428], \"text\": [\"RHip\"], \"marker\": {\"color\": \"blue\", \"size\": 2}, \"line\": {\"color\": \"red\", \"width\": 5}}, {\"y\": [1.663555234670639, 1.9392212145030499], \"z\": [10.350248247385025, 10.102708034217358], \"type\": \"scatter3d\", \"x\": [-0.021963346749544144, -0.08477194607257843], \"text\": [\"RKnee\"], \"marker\": {\"color\": \"blue\", \"size\": 2}, \"line\": {\"color\": \"red\", \"width\": 5}}, {\"y\": [1.2465431690216064, 1.663555234670639], \"z\": [10.057943742722273, 10.350248247385025], \"type\": \"scatter3d\", \"x\": [-0.05947241559624672, -0.021963346749544144], \"text\": [\"RAnkle\"], \"marker\": {\"color\": \"blue\", \"size\": 2}, \"line\": {\"color\": \"red\", \"width\": 5}}, {\"y\": [1.9327755272388458, 2.0213879719376564], \"z\": [10.131366148591042, 10.001630772370845], \"type\": \"scatter3d\", \"x\": [0.10119420289993286, -0.00478758430108428], \"text\": [\"LHip\"], \"marker\": {\"color\": \"blue\", \"size\": 2}, \"line\": {\"color\": \"black\", \"width\": 5}}, {\"y\": [1.5539705157279968, 1.9327755272388458], \"z\": [10.288814008235931, 10.131366148591042], \"type\": \"scatter3d\", \"x\": [0.17099732160568237, 0.10119420289993286], \"text\": [\"LKnee\"], \"marker\": {\"color\": \"blue\", \"size\": 2}, \"line\": {\"color\": \"black\", \"width\": 5}}, {\"y\": [1.4584944248199463, 1.5539705157279968], \"z\": [9.53675365447998, 10.288814008235931], \"type\": \"scatter3d\", \"x\": [0.05947317183017731, 0.17099732160568237], \"text\": [\"LAnkle\"], \"marker\": {\"color\": \"blue\", \"size\": 2}, \"line\": {\"color\": \"black\", \"width\": 5}}, {\"y\": [2.204100877046585, 2.0213879719376564], \"z\": [10.135949701070786, 10.001630772370845], \"type\": \"scatter3d\", \"x\": [0.018034279346466064, -0.00478758430108428], \"text\": [\"Spine1\"], \"marker\": {\"color\": \"blue\", \"size\": 2}, \"line\": {\"color\": \"black\", \"width\": 5}}, {\"y\": [2.3622295558452606, 2.204100877046585], \"z\": [10.283051401376724, 10.135949701070786], \"type\": \"scatter3d\", \"x\": [-0.00890813022851944, 0.018034279346466064], \"text\": [\"Neck\"], \"marker\": {\"color\": \"blue\", \"size\": 2}, \"line\": {\"color\": \"black\", \"width\": 5}}, {\"y\": [2.4229674339294434, 2.3622295558452606], \"z\": [10.324994325637817, 10.283051401376724], \"type\": \"scatter3d\", \"x\": [-0.022023484110832214, -0.00890813022851944], \"text\": [\"Head\"], \"marker\": {\"color\": \"blue\", \"size\": 2}, \"line\": {\"color\": \"black\", \"width\": 5}}, {\"y\": [2.495175987482071, 2.4229674339294434], \"z\": [10.375465333461761, 10.324994325637817], \"type\": \"scatter3d\", \"x\": [-0.030336610972881317, -0.022023484110832214], \"text\": [\"Site\"], \"marker\": {\"color\": \"blue\", \"size\": 2}, \"line\": {\"color\": \"black\", \"width\": 5}}, {\"y\": [2.3687000274658203, 2.3622295558452606], \"z\": [10.176085293293, 10.283051401376724], \"type\": \"scatter3d\", \"x\": [0.197150319814682, -0.00890813022851944], \"text\": [\"LShoulder\"], \"marker\": {\"color\": \"blue\", \"size\": 2}, \"line\": {\"color\": \"black\", \"width\": 5}}, {\"y\": [1.9418143704533577, 2.3687000274658203], \"z\": [10.416342556476593, 10.176085293293], \"type\": \"scatter3d\", \"x\": [0.20874080061912537, 0.197150319814682], \"text\": [\"LElbow\"], \"marker\": {\"color\": \"blue\", \"size\": 2}, \"line\": {\"color\": \"black\", \"width\": 5}}, {\"y\": [1.839002013206482, 1.9418143704533577], \"z\": [10.56838858127594, 10.416342556476593], \"type\": \"scatter3d\", \"x\": [0.237222820520401, 0.20874080061912537], \"text\": [\"LWrist\"], \"marker\": {\"color\": \"blue\", \"size\": 2}, \"line\": {\"color\": \"black\", \"width\": 5}}, {\"y\": [2.2862529158592224, 2.3622295558452606], \"z\": [10.196734577417374, 10.283051401376724], \"type\": \"scatter3d\", \"x\": [-0.22084443271160126, -0.00890813022851944], \"text\": [\"RShoulder\"], \"marker\": {\"color\": \"blue\", \"size\": 2}, \"line\": {\"color\": \"red\", \"width\": 5}}, {\"y\": [1.8389770090579987, 2.2862529158592224], \"z\": [10.202306151390076, 10.196734577417374], \"type\": \"scatter3d\", \"x\": [-0.269657164812088, -0.22084443271160126], \"text\": [\"RElbow\"], \"marker\": {\"color\": \"blue\", \"size\": 2}, \"line\": {\"color\": \"red\", \"width\": 5}}, {\"y\": [1.7208750545978546, 1.8389770090579987], \"z\": [10.277134627103806, 10.202306151390076], \"type\": \"scatter3d\", \"x\": [-0.24610742926597595, -0.269657164812088], \"text\": [\"RWrist\"], \"marker\": {\"color\": \"blue\", \"size\": 2}, \"line\": {\"color\": \"red\", \"width\": 5}}, {\"y\": [2.011849765665829, 2.0113775432109833, 2.0116708986461163, 2.0116401202976704, 2.0106278993189335, 2.01270847953856, 2.0126416264101863, 2.0127374595031142, 2.009408425539732, 2.01162894628942, 2.0095556722953916, 2.0089589040726423, 2.0117098232731223, 2.0129758697003126, 2.0117938835173845, 2.010299876332283, 2.0117486901581287, 2.0099654560908675, 2.010773878544569, 2.0130298733711243, 2.014864937402308, 2.0138240698724985, 2.0131459198892117, 2.02232351526618, 2.034904159605503], \"z\": [9.999753076350316, 9.999828980944585, 9.999864725163206, 9.99974051915342, 10.000227494572755, 9.998863602988422, 9.999546820123214, 9.99953450699104, 10.000100269797258, 9.99863485316746, 9.999725522182416, 10.000196298409719, 9.999859963892959, 9.999895909975749, 10.000027928908821, 9.999898228386883, 9.999798106902745, 9.999948241515085, 10.000051599054132, 10.000278516672552, 10.000469715305371, 10.00022966240067, 10.000806567142718, 10.001839361386374, 10.001958452630788], \"type\": \"scatter3d\", \"x\": [-0.0027418718673288822, -0.0030006198212504387, -0.0030568535439670086, -0.0032310402020812035, -0.0022897955495864153, -0.003721669316291809, -0.0030518618877977133, -0.0027361256070435047, -0.002260821172967553, -0.0042311521247029305, -0.003010640386492014, -0.002232754835858941, -0.00275089661590755, -0.0029642798472195864, -0.0027666178066283464, -0.003079262562096119, -0.0035347763914614916, -0.0034277590457350016, -0.002994382521137595, -0.0030490162316709757, -0.0032166503369808197, -0.0032722055912017822, -0.0027839543763548136, -0.0036888110917061567, -0.004391905851662159], \"marker\": {\"color\": \"#1f77b4\", \"size\": 1}, \"line\": {\"color\": \"#1f77b4\", \"width\": 1}}], \"name\": \"frame26\"}, {\"data\": [{\"y\": [1.938847478479147, 2.0244327913969755], \"z\": [10.08731696754694, 10.001845440361649], \"type\": \"scatter3d\", \"x\": [-0.07210123538970947, -0.004476655274629593], \"text\": [\"RHip\"], \"marker\": {\"color\": \"blue\", \"size\": 2}, \"line\": {\"color\": \"red\", \"width\": 5}}, {\"y\": [1.7004743814468384, 1.938847478479147], \"z\": [10.299708038568497, 10.08731696754694], \"type\": \"scatter3d\", \"x\": [-0.007054224610328674, -0.07210123538970947], \"text\": [\"RKnee\"], \"marker\": {\"color\": \"blue\", \"size\": 2}, \"line\": {\"color\": \"red\", \"width\": 5}}, {\"y\": [1.3409377932548523, 1.7004743814468384], \"z\": [9.935138173401356, 10.299708038568497], \"type\": \"scatter3d\", \"x\": [-0.026142863556742668, -0.007054224610328674], \"text\": [\"RAnkle\"], \"marker\": {\"color\": \"blue\", \"size\": 2}, \"line\": {\"color\": \"red\", \"width\": 5}}, {\"y\": [1.943236205726862, 2.0244327913969755], \"z\": [10.132614493370056, 10.001845440361649], \"type\": \"scatter3d\", \"x\": [0.06035084277391434, -0.004476655274629593], \"text\": [\"LHip\"], \"marker\": {\"color\": \"blue\", \"size\": 2}, \"line\": {\"color\": \"black\", \"width\": 5}}, {\"y\": [1.7349488139152527, 1.943236205726862], \"z\": [10.31130176782608, 10.132614493370056], \"type\": \"scatter3d\", \"x\": [0.0956999734044075, 0.06035084277391434], \"text\": [\"LKnee\"], \"marker\": {\"color\": \"blue\", \"size\": 2}, \"line\": {\"color\": \"black\", \"width\": 5}}, {\"y\": [1.4126697182655334, 1.7349488139152527], \"z\": [9.903462022542953, 10.31130176782608], \"type\": \"scatter3d\", \"x\": [0.12473947554826736, 0.0956999734044075], \"text\": [\"LAnkle\"], \"marker\": {\"color\": \"blue\", \"size\": 2}, \"line\": {\"color\": \"black\", \"width\": 5}}, {\"y\": [2.1809126436710358, 2.0244327913969755], \"z\": [10.127249076962471, 10.001845440361649], \"type\": \"scatter3d\", \"x\": [0.0025305391754955053, -0.004476655274629593], \"text\": [\"Spine1\"], \"marker\": {\"color\": \"blue\", \"size\": 2}, \"line\": {\"color\": \"black\", \"width\": 5}}, {\"y\": [2.314389556646347, 2.1809126436710358], \"z\": [10.265856295824051, 10.127249076962471], \"type\": \"scatter3d\", \"x\": [-0.024244612082839012, 0.0025305391754955053], \"text\": [\"Neck\"], \"marker\": {\"color\": \"blue\", \"size\": 2}, \"line\": {\"color\": \"black\", \"width\": 5}}, {\"y\": [2.3635595440864563, 2.314389556646347], \"z\": [10.312085539102554, 10.265856295824051], \"type\": \"scatter3d\", \"x\": [-0.044811658561229706, -0.024244612082839012], \"text\": [\"Head\"], \"marker\": {\"color\": \"blue\", \"size\": 2}, \"line\": {\"color\": \"black\", \"width\": 5}}, {\"y\": [2.4275103211402893, 2.3635595440864563], \"z\": [10.370860785245895, 10.312085539102554], \"type\": \"scatter3d\", \"x\": [-0.06548596173524857, -0.044811658561229706], \"text\": [\"Site\"], \"marker\": {\"color\": \"blue\", \"size\": 2}, \"line\": {\"color\": \"black\", \"width\": 5}}, {\"y\": [2.3482920825481415, 2.314389556646347], \"z\": [10.196482464671135, 10.265856295824051], \"type\": \"scatter3d\", \"x\": [0.14484438300132751, -0.024244612082839012], \"text\": [\"LShoulder\"], \"marker\": {\"color\": \"blue\", \"size\": 2}, \"line\": {\"color\": \"black\", \"width\": 5}}, {\"y\": [1.975136686116457, 2.3482920825481415], \"z\": [10.447357833385468, 10.196482464671135], \"type\": \"scatter3d\", \"x\": [0.09148163348436356, 0.14484438300132751], \"text\": [\"LElbow\"], \"marker\": {\"color\": \"blue\", \"size\": 2}, \"line\": {\"color\": \"black\", \"width\": 5}}, {\"y\": [1.891411453485489, 1.975136686116457], \"z\": [10.563617587089539, 10.447357833385468], \"type\": \"scatter3d\", \"x\": [0.08640637993812561, 0.09148163348436356], \"text\": [\"LWrist\"], \"marker\": {\"color\": \"blue\", \"size\": 2}, \"line\": {\"color\": \"black\", \"width\": 5}}, {\"y\": [2.2379552721977234, 2.314389556646347], \"z\": [10.159018397331238, 10.265856295824051], \"type\": \"scatter3d\", \"x\": [-0.209013432264328, -0.024244612082839012], \"text\": [\"RShoulder\"], \"marker\": {\"color\": \"blue\", \"size\": 2}, \"line\": {\"color\": \"red\", \"width\": 5}}, {\"y\": [1.8796266466379166, 2.2379552721977234], \"z\": [10.221164509654045, 10.159018397331238], \"type\": \"scatter3d\", \"x\": [-0.22367867827415466, -0.209013432264328], \"text\": [\"RElbow\"], \"marker\": {\"color\": \"blue\", \"size\": 2}, \"line\": {\"color\": \"red\", \"width\": 5}}, {\"y\": [1.7943387031555176, 1.8796266466379166], \"z\": [10.308988809585571, 10.221164509654045], \"type\": \"scatter3d\", \"x\": [-0.20050963759422302, -0.22367867827415466], \"text\": [\"RWrist\"], \"marker\": {\"color\": \"blue\", \"size\": 2}, \"line\": {\"color\": \"red\", \"width\": 5}}, {\"y\": [2.011849765665829, 2.0113775432109833, 2.0116708986461163, 2.0116401202976704, 2.0106278993189335, 2.01270847953856, 2.0126416264101863, 2.0127374595031142, 2.009408425539732, 2.01162894628942, 2.0095556722953916, 2.0089589040726423, 2.0117098232731223, 2.0129758697003126, 2.0117938835173845, 2.010299876332283, 2.0117486901581287, 2.0099654560908675, 2.010773878544569, 2.0130298733711243, 2.014864937402308, 2.0138240698724985, 2.0131459198892117, 2.02232351526618, 2.034904159605503, 2.0213879719376564], \"z\": [9.999753076350316, 9.999828980944585, 9.999864725163206, 9.99974051915342, 10.000227494572755, 9.998863602988422, 9.999546820123214, 9.99953450699104, 10.000100269797258, 9.99863485316746, 9.999725522182416, 10.000196298409719, 9.999859963892959, 9.999895909975749, 10.000027928908821, 9.999898228386883, 9.999798106902745, 9.999948241515085, 10.000051599054132, 10.000278516672552, 10.000469715305371, 10.00022966240067, 10.000806567142718, 10.001839361386374, 10.001958452630788, 10.001630772370845], \"type\": \"scatter3d\", \"x\": [-0.0027418718673288822, -0.0030006198212504387, -0.0030568535439670086, -0.0032310402020812035, -0.0022897955495864153, -0.003721669316291809, -0.0030518618877977133, -0.0027361256070435047, -0.002260821172967553, -0.0042311521247029305, -0.003010640386492014, -0.002232754835858941, -0.00275089661590755, -0.0029642798472195864, -0.0027666178066283464, -0.003079262562096119, -0.0035347763914614916, -0.0034277590457350016, -0.002994382521137595, -0.0030490162316709757, -0.0032166503369808197, -0.0032722055912017822, -0.0027839543763548136, -0.0036888110917061567, -0.004391905851662159, -0.00478758430108428], \"marker\": {\"color\": \"#1f77b4\", \"size\": 1}, \"line\": {\"color\": \"#1f77b4\", \"width\": 1}}], \"name\": \"frame27\"}, {\"data\": [{\"y\": [1.996857412159443, 2.044565089046955], \"z\": [10.08391772210598, 10.001452907221392], \"type\": \"scatter3d\", \"x\": [-0.03773719072341919, -0.005220502149313688], \"text\": [\"RHip\"], \"marker\": {\"color\": \"blue\", \"size\": 2}, \"line\": {\"color\": \"red\", \"width\": 5}}, {\"y\": [1.9054975509643555, 1.996857412159443], \"z\": [10.3576600253582, 10.08391772210598], \"type\": \"scatter3d\", \"x\": [-0.05280465632677078, -0.03773719072341919], \"text\": [\"RKnee\"], \"marker\": {\"color\": \"blue\", \"size\": 2}, \"line\": {\"color\": \"red\", \"width\": 5}}, {\"y\": [1.648507833480835, 1.9054975509643555], \"z\": [9.887085802853107, 10.3576600253582], \"type\": \"scatter3d\", \"x\": [-0.09648219496011734, -0.05280465632677078], \"text\": [\"RAnkle\"], \"marker\": {\"color\": \"blue\", \"size\": 2}, \"line\": {\"color\": \"red\", \"width\": 5}}, {\"y\": [2.004935346543789, 2.044565089046955], \"z\": [10.18769283592701, 10.001452907221392], \"type\": \"scatter3d\", \"x\": [-0.013569267466664314, -0.005220502149313688], \"text\": [\"LHip\"], \"marker\": {\"color\": \"blue\", \"size\": 2}, \"line\": {\"color\": \"black\", \"width\": 5}}, {\"y\": [1.99222794175148, 2.004935346543789], \"z\": [10.429416596889496, 10.18769283592701], \"type\": \"scatter3d\", \"x\": [-0.023701302707195282, -0.013569267466664314], \"text\": [\"LKnee\"], \"marker\": {\"color\": \"blue\", \"size\": 2}, \"line\": {\"color\": \"black\", \"width\": 5}}, {\"y\": [1.8405722975730896, 1.99222794175148], \"z\": [10.22433415055275, 10.429416596889496], \"type\": \"scatter3d\", \"x\": [0.08522802591323853, -0.023701302707195282], \"text\": [\"LAnkle\"], \"marker\": {\"color\": \"blue\", \"size\": 2}, \"line\": {\"color\": \"black\", \"width\": 5}}, {\"y\": [2.08002732694149, 2.044565089046955], \"z\": [10.139323949813843, 10.001452907221392], \"type\": \"scatter3d\", \"x\": [-0.021112971007823944, -0.005220502149313688], \"text\": [\"Spine1\"], \"marker\": {\"color\": \"blue\", \"size\": 2}, \"line\": {\"color\": \"black\", \"width\": 5}}, {\"y\": [2.1067306846380234, 2.08002732694149], \"z\": [10.315521508455276, 10.139323949813843], \"type\": \"scatter3d\", \"x\": [-0.062231581658124924, -0.021112971007823944], \"text\": [\"Neck\"], \"marker\": {\"color\": \"blue\", \"size\": 2}, \"line\": {\"color\": \"black\", \"width\": 5}}, {\"y\": [2.0918298214673996, 2.1067306846380234], \"z\": [10.387829750776291, 10.315521508455276], \"type\": \"scatter3d\", \"x\": [-0.09169304370880127, -0.062231581658124924], \"text\": [\"Head\"], \"marker\": {\"color\": \"blue\", \"size\": 2}, \"line\": {\"color\": \"black\", \"width\": 5}}, {\"y\": [2.0920505672693253, 2.0918298214673996], \"z\": [10.4691361784935, 10.387829750776291], \"type\": \"scatter3d\", \"x\": [-0.12612764537334442, -0.09169304370880127], \"text\": [\"Site\"], \"marker\": {\"color\": \"blue\", \"size\": 2}, \"line\": {\"color\": \"black\", \"width\": 5}}, {\"y\": [2.1577647775411606, 2.1067306846380234], \"z\": [10.248491913080215, 10.315521508455276], \"type\": \"scatter3d\", \"x\": [-0.022977784276008606, -0.062231581658124924], \"text\": [\"LShoulder\"], \"marker\": {\"color\": \"blue\", \"size\": 2}, \"line\": {\"color\": \"black\", \"width\": 5}}, {\"y\": [1.980387469753623, 2.1577647775411606], \"z\": [10.46158105134964, 10.248491913080215], \"type\": \"scatter3d\", \"x\": [-0.12571895122528076, -0.022977784276008606], \"text\": [\"LElbow\"], \"marker\": {\"color\": \"blue\", \"size\": 2}, \"line\": {\"color\": \"black\", \"width\": 5}}, {\"y\": [1.967374224215746, 1.980387469753623], \"z\": [10.549279570579529, 10.46158105134964], \"type\": \"scatter3d\", \"x\": [-0.1430998146533966, -0.12571895122528076], \"text\": [\"LWrist\"], \"marker\": {\"color\": \"blue\", \"size\": 2}, \"line\": {\"color\": \"black\", \"width\": 5}}, {\"y\": [2.0168524086475372, 2.1067306846380234], \"z\": [10.141598135232925, 10.315521508455276], \"type\": \"scatter3d\", \"x\": [-0.12109468877315521, -0.062231581658124924], \"text\": [\"RShoulder\"], \"marker\": {\"color\": \"blue\", \"size\": 2}, \"line\": {\"color\": \"red\", \"width\": 5}}, {\"y\": [1.8620606362819672, 2.0168524086475372], \"z\": [10.174282521009445, 10.141598135232925], \"type\": \"scatter3d\", \"x\": [-0.010015629231929779, -0.12109468877315521], \"text\": [\"RElbow\"], \"marker\": {\"color\": \"blue\", \"size\": 2}, \"line\": {\"color\": \"red\", \"width\": 5}}, {\"y\": [1.8473647832870483, 1.8620606362819672], \"z\": [10.234014436602592, 10.174282521009445], \"type\": \"scatter3d\", \"x\": [0.008256696164608002, -0.010015629231929779], \"text\": [\"RWrist\"], \"marker\": {\"color\": \"blue\", \"size\": 2}, \"line\": {\"color\": \"red\", \"width\": 5}}, {\"y\": [2.011849765665829, 2.0113775432109833, 2.0116708986461163, 2.0116401202976704, 2.0106278993189335, 2.01270847953856, 2.0126416264101863, 2.0127374595031142, 2.009408425539732, 2.01162894628942, 2.0095556722953916, 2.0089589040726423, 2.0117098232731223, 2.0129758697003126, 2.0117938835173845, 2.010299876332283, 2.0117486901581287, 2.0099654560908675, 2.010773878544569, 2.0130298733711243, 2.014864937402308, 2.0138240698724985, 2.0131459198892117, 2.02232351526618, 2.034904159605503, 2.0213879719376564, 2.0244327913969755], \"z\": [9.999753076350316, 9.999828980944585, 9.999864725163206, 9.99974051915342, 10.000227494572755, 9.998863602988422, 9.999546820123214, 9.99953450699104, 10.000100269797258, 9.99863485316746, 9.999725522182416, 10.000196298409719, 9.999859963892959, 9.999895909975749, 10.000027928908821, 9.999898228386883, 9.999798106902745, 9.999948241515085, 10.000051599054132, 10.000278516672552, 10.000469715305371, 10.00022966240067, 10.000806567142718, 10.001839361386374, 10.001958452630788, 10.001630772370845, 10.001845440361649], \"type\": \"scatter3d\", \"x\": [-0.0027418718673288822, -0.0030006198212504387, -0.0030568535439670086, -0.0032310402020812035, -0.0022897955495864153, -0.003721669316291809, -0.0030518618877977133, -0.0027361256070435047, -0.002260821172967553, -0.0042311521247029305, -0.003010640386492014, -0.002232754835858941, -0.00275089661590755, -0.0029642798472195864, -0.0027666178066283464, -0.003079262562096119, -0.0035347763914614916, -0.0034277590457350016, -0.002994382521137595, -0.0030490162316709757, -0.0032166503369808197, -0.0032722055912017822, -0.0027839543763548136, -0.0036888110917061567, -0.004391905851662159, -0.00478758430108428, -0.004476655274629593], \"marker\": {\"color\": \"#1f77b4\", \"size\": 1}, \"line\": {\"color\": \"#1f77b4\", \"width\": 1}}], \"name\": \"frame28\"}, {\"data\": [{\"y\": [2.0155727192759514, 2.048278246074915], \"z\": [10.090417802333832, 10.001919337082654], \"type\": \"scatter3d\", \"x\": [-0.01943437196314335, -0.0045675598084926605], \"text\": [\"RHip\"], \"marker\": {\"color\": \"blue\", \"size\": 2}, \"line\": {\"color\": \"red\", \"width\": 5}}, {\"y\": [2.016355574131012, 2.0155727192759514], \"z\": [10.428890943527222, 10.090417802333832], \"type\": \"scatter3d\", \"x\": [-0.03500043600797653, -0.01943437196314335], \"text\": [\"RKnee\"], \"marker\": {\"color\": \"blue\", \"size\": 2}, \"line\": {\"color\": \"red\", \"width\": 5}}, {\"y\": [1.8939249515533447, 2.016355574131012], \"z\": [9.860514059662819, 10.428890943527222], \"type\": \"scatter3d\", \"x\": [-0.04520752280950546, -0.03500043600797653], \"text\": [\"RAnkle\"], \"marker\": {\"color\": \"blue\", \"size\": 2}, \"line\": {\"color\": \"red\", \"width\": 5}}, {\"y\": [2.035391889512539, 2.048278246074915], \"z\": [10.197348147630692, 10.001919337082654], \"type\": \"scatter3d\", \"x\": [-0.03377095237374306, -0.0045675598084926605], \"text\": [\"LHip\"], \"marker\": {\"color\": \"blue\", \"size\": 2}, \"line\": {\"color\": \"black\", \"width\": 5}}, {\"y\": [2.096031039953232, 2.035391889512539], \"z\": [10.416630357503891, 10.197348147630692], \"type\": \"scatter3d\", \"x\": [-0.04819096252322197, -0.03377095237374306], \"text\": [\"LKnee\"], \"marker\": {\"color\": \"blue\", \"size\": 2}, \"line\": {\"color\": \"black\", \"width\": 5}}, {\"y\": [2.0778655409812927, 2.096031039953232], \"z\": [10.155594810843468, 10.416630357503891], \"type\": \"scatter3d\", \"x\": [0.07879626750946045, -0.04819096252322197], \"text\": [\"LAnkle\"], \"marker\": {\"color\": \"blue\", \"size\": 2}, \"line\": {\"color\": \"black\", \"width\": 5}}, {\"y\": [2.02203955501318, 2.048278246074915], \"z\": [10.127950757741928, 10.001919337082654], \"type\": \"scatter3d\", \"x\": [-0.041502006351947784, -0.0045675598084926605], \"text\": [\"Spine1\"], \"marker\": {\"color\": \"blue\", \"size\": 2}, \"line\": {\"color\": \"black\", \"width\": 5}}, {\"y\": [1.9972389489412308, 2.02203955501318], \"z\": [10.326090693473816, 10.127950757741928], \"type\": \"scatter3d\", \"x\": [-0.10304493457078934, -0.041502006351947784], \"text\": [\"Neck\"], \"marker\": {\"color\": \"blue\", \"size\": 2}, \"line\": {\"color\": \"black\", \"width\": 5}}, {\"y\": [1.9548702016472816, 1.9972389489412308], \"z\": [10.404289096593857, 10.326090693473816], \"type\": \"scatter3d\", \"x\": [-0.13740947842597961, -0.10304493457078934], \"text\": [\"Head\"], \"marker\": {\"color\": \"blue\", \"size\": 2}, \"line\": {\"color\": \"black\", \"width\": 5}}, {\"y\": [1.9289449602365494, 1.9548702016472816], \"z\": [10.491591542959213, 10.404289096593857], \"type\": \"scatter3d\", \"x\": [-0.1727093756198883, -0.13740947842597961], \"text\": [\"Site\"], \"marker\": {\"color\": \"blue\", \"size\": 2}, \"line\": {\"color\": \"black\", \"width\": 5}}, {\"y\": [2.0546621903777122, 1.9972389489412308], \"z\": [10.25548580288887, 10.326090693473816], \"type\": \"scatter3d\", \"x\": [-0.112410768866539, -0.10304493457078934], \"text\": [\"LShoulder\"], \"marker\": {\"color\": \"blue\", \"size\": 2}, \"line\": {\"color\": \"black\", \"width\": 5}}, {\"y\": [1.9495777040719986, 2.0546621903777122], \"z\": [10.47883415222168, 10.25548580288887], \"type\": \"scatter3d\", \"x\": [-0.20324960350990295, -0.112410768866539], \"text\": [\"LElbow\"], \"marker\": {\"color\": \"blue\", \"size\": 2}, \"line\": {\"color\": \"black\", \"width\": 5}}, {\"y\": [1.9506912529468536, 1.9495777040719986], \"z\": [10.577261567115784, 10.47883415222168], \"type\": \"scatter3d\", \"x\": [-0.21927779912948608, -0.20324960350990295], \"text\": [\"LWrist\"], \"marker\": {\"color\": \"blue\", \"size\": 2}, \"line\": {\"color\": \"black\", \"width\": 5}}, {\"y\": [1.9040803387761116, 1.9972389489412308], \"z\": [10.134357318282127, 10.326090693473816], \"type\": \"scatter3d\", \"x\": [-0.11043016612529755, -0.10304493457078934], \"text\": [\"RShoulder\"], \"marker\": {\"color\": \"blue\", \"size\": 2}, \"line\": {\"color\": \"red\", \"width\": 5}}, {\"y\": [1.85575433075428, 1.9040803387761116], \"z\": [10.116498827934265, 10.134357318282127], \"type\": \"scatter3d\", \"x\": [0.004634149372577667, -0.11043016612529755], \"text\": [\"RElbow\"], \"marker\": {\"color\": \"blue\", \"size\": 2}, \"line\": {\"color\": \"red\", \"width\": 5}}, {\"y\": [1.8548443466424942, 1.85575433075428], \"z\": [10.172798037528992, 10.116498827934265], \"type\": \"scatter3d\", \"x\": [-0.0023037679493427277, 0.004634149372577667], \"text\": [\"RWrist\"], \"marker\": {\"color\": \"blue\", \"size\": 2}, \"line\": {\"color\": \"red\", \"width\": 5}}, {\"y\": [2.011849765665829, 2.0113775432109833, 2.0116708986461163, 2.0116401202976704, 2.0106278993189335, 2.01270847953856, 2.0126416264101863, 2.0127374595031142, 2.009408425539732, 2.01162894628942, 2.0095556722953916, 2.0089589040726423, 2.0117098232731223, 2.0129758697003126, 2.0117938835173845, 2.010299876332283, 2.0117486901581287, 2.0099654560908675, 2.010773878544569, 2.0130298733711243, 2.014864937402308, 2.0138240698724985, 2.0131459198892117, 2.02232351526618, 2.034904159605503, 2.0213879719376564, 2.0244327913969755, 2.044565089046955], \"z\": [9.999753076350316, 9.999828980944585, 9.999864725163206, 9.99974051915342, 10.000227494572755, 9.998863602988422, 9.999546820123214, 9.99953450699104, 10.000100269797258, 9.99863485316746, 9.999725522182416, 10.000196298409719, 9.999859963892959, 9.999895909975749, 10.000027928908821, 9.999898228386883, 9.999798106902745, 9.999948241515085, 10.000051599054132, 10.000278516672552, 10.000469715305371, 10.00022966240067, 10.000806567142718, 10.001839361386374, 10.001958452630788, 10.001630772370845, 10.001845440361649, 10.001452907221392], \"type\": \"scatter3d\", \"x\": [-0.0027418718673288822, -0.0030006198212504387, -0.0030568535439670086, -0.0032310402020812035, -0.0022897955495864153, -0.003721669316291809, -0.0030518618877977133, -0.0027361256070435047, -0.002260821172967553, -0.0042311521247029305, -0.003010640386492014, -0.002232754835858941, -0.00275089661590755, -0.0029642798472195864, -0.0027666178066283464, -0.003079262562096119, -0.0035347763914614916, -0.0034277590457350016, -0.002994382521137595, -0.0030490162316709757, -0.0032166503369808197, -0.0032722055912017822, -0.0027839543763548136, -0.0036888110917061567, -0.004391905851662159, -0.00478758430108428, -0.004476655274629593, -0.005220502149313688], \"marker\": {\"color\": \"#1f77b4\", \"size\": 1}, \"line\": {\"color\": \"#1f77b4\", \"width\": 1}}], \"name\": \"frame29\"}, {\"data\": [{\"y\": [2.006487973034382, 2.0344774648547173], \"z\": [10.078686080873013, 10.00160095631145], \"type\": \"scatter3d\", \"x\": [-0.010728457942605019, -0.004934833385050297], \"text\": [\"RHip\"], \"marker\": {\"color\": \"blue\", \"size\": 2}, \"line\": {\"color\": \"red\", \"width\": 5}}, {\"y\": [2.0830326080322266, 2.006487973034382], \"z\": [10.42807137966156, 10.078686080873013], \"type\": \"scatter3d\", \"x\": [-0.10163231939077377, -0.010728457942605019], \"text\": [\"RKnee\"], \"marker\": {\"color\": \"blue\", \"size\": 2}, \"line\": {\"color\": \"red\", \"width\": 5}}, {\"y\": [2.0416210293769836, 2.0830326080322266], \"z\": [9.875629022717476, 10.42807137966156], \"type\": \"scatter3d\", \"x\": [-0.026482030749320984, -0.10163231939077377], \"text\": [\"RAnkle\"], \"marker\": {\"color\": \"blue\", \"size\": 2}, \"line\": {\"color\": \"red\", \"width\": 5}}, {\"y\": [2.054391086101532, 2.0344774648547173], \"z\": [10.177472710609436, 10.00160095631145], \"type\": \"scatter3d\", \"x\": [-0.04121696203947067, -0.004934833385050297], \"text\": [\"LHip\"], \"marker\": {\"color\": \"blue\", \"size\": 2}, \"line\": {\"color\": \"black\", \"width\": 5}}, {\"y\": [2.189564064145088, 2.054391086101532], \"z\": [10.3389992415905, 10.177472710609436], \"type\": \"scatter3d\", \"x\": [-0.05255930870771408, -0.04121696203947067], \"text\": [\"LKnee\"], \"marker\": {\"color\": \"blue\", \"size\": 2}, \"line\": {\"color\": \"black\", \"width\": 5}}, {\"y\": [2.155012786388397, 2.189564064145088], \"z\": [10.042007878422737, 10.3389992415905], \"type\": \"scatter3d\", \"x\": [0.11199602484703064, -0.05255930870771408], \"text\": [\"LAnkle\"], \"marker\": {\"color\": \"blue\", \"size\": 2}, \"line\": {\"color\": \"black\", \"width\": 5}}, {\"y\": [1.9916673935949802, 2.0344774648547173], \"z\": [10.11375267803669, 10.00160095631145], \"type\": \"scatter3d\", \"x\": [-0.050129134207963943, -0.004934833385050297], \"text\": [\"Spine1\"], \"marker\": {\"color\": \"blue\", \"size\": 2}, \"line\": {\"color\": \"black\", \"width\": 5}}, {\"y\": [1.9413082376122475, 1.9916673935949802], \"z\": [10.304514110088348, 10.11375267803669], \"type\": \"scatter3d\", \"x\": [-0.11169897764921188, -0.050129134207963943], \"text\": [\"Neck\"], \"marker\": {\"color\": \"blue\", \"size\": 2}, \"line\": {\"color\": \"black\", \"width\": 5}}, {\"y\": [1.9036299139261246, 1.9413082376122475], \"z\": [10.382249385118484, 10.304514110088348], \"type\": \"scatter3d\", \"x\": [-0.15931463241577148, -0.11169897764921188], \"text\": [\"Head\"], \"marker\": {\"color\": \"blue\", \"size\": 2}, \"line\": {\"color\": \"black\", \"width\": 5}}, {\"y\": [1.8817317113280296, 1.9036299139261246], \"z\": [10.4628387093544, 10.382249385118484], \"type\": \"scatter3d\", \"x\": [-0.20406442880630493, -0.15931463241577148], \"text\": [\"Site\"], \"marker\": {\"color\": \"blue\", \"size\": 2}, \"line\": {\"color\": \"black\", \"width\": 5}}, {\"y\": [1.995610311627388, 1.9413082376122475], \"z\": [10.259895086288452, 10.304514110088348], \"type\": \"scatter3d\", \"x\": [-0.1143702045083046, -0.11169897764921188], \"text\": [\"LShoulder\"], \"marker\": {\"color\": \"blue\", \"size\": 2}, \"line\": {\"color\": \"black\", \"width\": 5}}, {\"y\": [1.952478464692831, 1.995610311627388], \"z\": [10.493460059165955, 10.259895086288452], \"type\": \"scatter3d\", \"x\": [-0.20450158417224884, -0.1143702045083046], \"text\": [\"LElbow\"], \"marker\": {\"color\": \"blue\", \"size\": 2}, \"line\": {\"color\": \"black\", \"width\": 5}}, {\"y\": [1.9552556611597538, 1.952478464692831], \"z\": [10.613776564598083, 10.493460059165955], \"type\": \"scatter3d\", \"x\": [-0.220421701669693, -0.20450158417224884], \"text\": [\"LWrist\"], \"marker\": {\"color\": \"blue\", \"size\": 2}, \"line\": {\"color\": \"black\", \"width\": 5}}, {\"y\": [1.8595339357852936, 1.9413082376122475], \"z\": [10.102897927165031, 10.304514110088348], \"type\": \"scatter3d\", \"x\": [-0.09251973032951355, -0.11169897764921188], \"text\": [\"RShoulder\"], \"marker\": {\"color\": \"blue\", \"size\": 2}, \"line\": {\"color\": \"red\", \"width\": 5}}, {\"y\": [1.8407069444656372, 1.8595339357852936], \"z\": [10.05430155992508, 10.102897927165031], \"type\": \"scatter3d\", \"x\": [-0.0359458401799202, -0.09251973032951355], \"text\": [\"RElbow\"], \"marker\": {\"color\": \"blue\", \"size\": 2}, \"line\": {\"color\": \"red\", \"width\": 5}}, {\"y\": [1.8321387767791748, 1.8407069444656372], \"z\": [10.1021468937397, 10.05430155992508], \"type\": \"scatter3d\", \"x\": [-0.05267585813999176, -0.0359458401799202], \"text\": [\"RWrist\"], \"marker\": {\"color\": \"blue\", \"size\": 2}, \"line\": {\"color\": \"red\", \"width\": 5}}, {\"y\": [2.011849765665829, 2.0113775432109833, 2.0116708986461163, 2.0116401202976704, 2.0106278993189335, 2.01270847953856, 2.0126416264101863, 2.0127374595031142, 2.009408425539732, 2.01162894628942, 2.0095556722953916, 2.0089589040726423, 2.0117098232731223, 2.0129758697003126, 2.0117938835173845, 2.010299876332283, 2.0117486901581287, 2.0099654560908675, 2.010773878544569, 2.0130298733711243, 2.014864937402308, 2.0138240698724985, 2.0131459198892117, 2.02232351526618, 2.034904159605503, 2.0213879719376564, 2.0244327913969755, 2.044565089046955, 2.048278246074915], \"z\": [9.999753076350316, 9.999828980944585, 9.999864725163206, 9.99974051915342, 10.000227494572755, 9.998863602988422, 9.999546820123214, 9.99953450699104, 10.000100269797258, 9.99863485316746, 9.999725522182416, 10.000196298409719, 9.999859963892959, 9.999895909975749, 10.000027928908821, 9.999898228386883, 9.999798106902745, 9.999948241515085, 10.000051599054132, 10.000278516672552, 10.000469715305371, 10.00022966240067, 10.000806567142718, 10.001839361386374, 10.001958452630788, 10.001630772370845, 10.001845440361649, 10.001452907221392, 10.001919337082654], \"type\": \"scatter3d\", \"x\": [-0.0027418718673288822, -0.0030006198212504387, -0.0030568535439670086, -0.0032310402020812035, -0.0022897955495864153, -0.003721669316291809, -0.0030518618877977133, -0.0027361256070435047, -0.002260821172967553, -0.0042311521247029305, -0.003010640386492014, -0.002232754835858941, -0.00275089661590755, -0.0029642798472195864, -0.0027666178066283464, -0.003079262562096119, -0.0035347763914614916, -0.0034277590457350016, -0.002994382521137595, -0.0030490162316709757, -0.0032166503369808197, -0.0032722055912017822, -0.0027839543763548136, -0.0036888110917061567, -0.004391905851662159, -0.00478758430108428, -0.004476655274629593, -0.005220502149313688, -0.0045675598084926605], \"marker\": {\"color\": \"#1f77b4\", \"size\": 1}, \"line\": {\"color\": \"#1f77b4\", \"width\": 1}}], \"name\": \"frame30\"}]);\n",
       "                        }).then(function(){\n",
       "                            Plotly.animate('c43fe93f-1a40-45c9-8945-fee53ae37561', null);\n",
       "                        }).then(function(){\n",
       "                            \n",
       "var gd = document.getElementById('c43fe93f-1a40-45c9-8945-fee53ae37561');\n",
       "var x = new MutationObserver(function (mutations, observer) {{\n",
       "        var display = window.getComputedStyle(gd).display;\n",
       "        if (!display || display === 'none') {{\n",
       "            console.log([gd, 'removed!']);\n",
       "            Plotly.purge(gd);\n",
       "            observer.disconnect();\n",
       "        }}\n",
       "}});\n",
       "\n",
       "// Listen for the removal of the full notebook cells\n",
       "var notebookContainer = gd.closest('#notebook-container');\n",
       "if (notebookContainer) {{\n",
       "    x.observe(notebookContainer, {childList: true});\n",
       "}}\n",
       "\n",
       "// Listen for the clearing of the current output cell\n",
       "var outputEl = gd.closest('.output');\n",
       "if (outputEl) {{\n",
       "    x.observe(outputEl, {childList: true});\n",
       "}}\n",
       "\n",
       "                        })\n",
       "                };\n",
       "                });\n",
       "            </script>\n",
       "        </div>"
      ]
     },
     "metadata": {},
     "output_type": "display_data"
    }
   ],
   "source": [
    "obj_pts = pred_3d_world.reshape(-1, 3)\n",
    "xmin = obj_pts[:,0].min(); xmax = obj_pts[:,0].max()\n",
    "ymin = obj_pts[:,1].min(); ymax = obj_pts[:,1].max()\n",
    "zmin = obj_pts[:,2].min(); zmax = obj_pts[:,2].max()\n",
    "\n",
    "frames, layout = generate_frames_layout(pred_3d_world[::20], \n",
    "                                        dataset.skeleton(), \n",
    "                                        human36m_kpts_name, \n",
    "                                        x_range = [xmin, xmax], \n",
    "                                        y_range = [ymin, ymax], \n",
    "                                        z_range = [zmin, zmax])\n",
    "\n",
    "fig = dict(data=get_line_3d_segs(pred_3d_world, 0, dataset.skeleton(), human36m_kpts_name), \n",
    "           layout=layout, frames=frames)\n",
    "plotly.offline.iplot(fig)"
   ]
  },
  {
   "cell_type": "code",
   "execution_count": 19,
   "metadata": {},
   "outputs": [
    {
     "data": {
      "application/vnd.plotly.v1+json": {
       "config": {
        "linkText": "Export to plot.ly",
        "plotlyServerURL": "https://plot.ly",
        "responsive": true,
        "showLink": false
       },
       "data": [
        {
         "line": {
          "color": "red",
          "width": 5
         },
         "marker": {
          "color": "blue",
          "size": 5
         },
         "text": [
          "RHip"
         ],
         "type": "scatter",
         "uid": "6a5b153c-6880-4b98-a740-cca5806f98d2",
         "x": [
          0.002830106391929599,
          -0.01420320428666244
         ],
         "y": [
          0.18883989517940003,
          0.168896721361546
         ]
        },
        {
         "line": {
          "color": "red",
          "width": 5
         },
         "marker": {
          "color": "blue",
          "size": 5
         },
         "text": [
          "RKnee"
         ],
         "type": "scatter",
         "uid": "1319479c-6f5a-426f-aaea-6c5be65fe38c",
         "x": [
          0.0010804021263099983,
          0.002830106391929599
         ],
         "y": [
          0.2583041451913992,
          0.18883989517940003
         ]
        },
        {
         "line": {
          "color": "red",
          "width": 5
         },
         "marker": {
          "color": "blue",
          "size": 5
         },
         "text": [
          "RAnkle"
         ],
         "type": "scatter",
         "uid": "9d7c0332-64be-4919-b85e-4b8ae685cb49",
         "x": [
          0,
          0.0010804021263099983
         ],
         "y": [
          0.3125,
          0.2583041451913992
         ]
        },
        {
         "line": {
          "color": "black",
          "width": 5
         },
         "marker": {
          "color": "blue",
          "size": 5
         },
         "text": [
          "LHip"
         ],
         "type": "scatter",
         "uid": "1bb491ac-bb1e-44ed-bc0e-f944720b0bfa",
         "x": [
          -0.03148737256136669,
          -0.01420320428666244
         ],
         "y": [
          0.18931448330765233,
          0.168896721361546
         ]
        },
        {
         "line": {
          "color": "black",
          "width": 5
         },
         "marker": {
          "color": "blue",
          "size": 5
         },
         "text": [
          "LKnee"
         ],
         "type": "scatter",
         "uid": "972735b2-9668-47b2-8a98-93a609747e7d",
         "x": [
          -0.023458384088579698,
          -0.03148737256136669
         ],
         "y": [
          0.25958146572657714,
          0.18931448330765233
         ]
        },
        {
         "line": {
          "color": "black",
          "width": 5
         },
         "marker": {
          "color": "blue",
          "size": 5
         },
         "text": [
          "LAnkle"
         ],
         "type": "scatter",
         "uid": "6c82b9b2-fa51-4174-95eb-07429a856c50",
         "x": [
          -0.01923468387448568,
          -0.023458384088579698
         ],
         "y": [
          0.33397060681200275,
          0.25958146572657714
         ]
        },
        {
         "line": {
          "color": "black",
          "width": 5
         },
         "marker": {
          "color": "blue",
          "size": 5
         },
         "text": [
          "Spine1"
         ],
         "type": "scatter",
         "uid": "9aaf35fe-b60a-4303-bf2e-3bdae25c01af",
         "x": [
          -0.01689933795305476,
          -0.01420320428666244
         ],
         "y": [
          0.12470545583085857,
          0.168896721361546
         ]
        },
        {
         "line": {
          "color": "black",
          "width": 5
         },
         "marker": {
          "color": "blue",
          "size": 5
         },
         "text": [
          "Neck"
         ],
         "type": "scatter",
         "uid": "f2c3f06d-4dc8-4dee-ab82-cb886ace6c96",
         "x": [
          -0.020152992155446747,
          -0.01689933795305476
         ],
         "y": [
          0.08432955045287538,
          0.12470545583085857
         ]
        },
        {
         "line": {
          "color": "black",
          "width": 5
         },
         "marker": {
          "color": "blue",
          "size": 5
         },
         "text": [
          "Head"
         ],
         "type": "scatter",
         "uid": "abb7c4d1-04bc-40f8-8bbd-6a5e16e7e89d",
         "x": [
          -0.019127928789310134,
          -0.020152992155446747
         ],
         "y": [
          0.06690607686210226,
          0.08432955045287538
         ]
        },
        {
         "line": {
          "color": "black",
          "width": 5
         },
         "marker": {
          "color": "blue",
          "size": 5
         },
         "text": [
          "Site"
         ],
         "type": "scatter",
         "uid": "18149820-cefb-4740-b35a-46c7a7c4c174",
         "x": [
          -0.01730881749873081,
          -0.019127928789310134
         ],
         "y": [
          0.053000383017145936,
          0.06690607686210226
         ]
        },
        {
         "line": {
          "color": "black",
          "width": 5
         },
         "marker": {
          "color": "blue",
          "size": 5
         },
         "text": [
          "LShoulder"
         ],
         "type": "scatter",
         "uid": "e5ea851c-6a13-47ac-8546-a002e46ad335",
         "x": [
          -0.05541379343738306,
          -0.020152992155446747
         ],
         "y": [
          0.10021626581148735,
          0.08432955045287538
         ]
        },
        {
         "line": {
          "color": "black",
          "width": 5
         },
         "marker": {
          "color": "blue",
          "size": 5
         },
         "text": [
          "LElbow"
         ],
         "type": "scatter",
         "uid": "027a68e8-e36b-440b-a89b-f68d40c3688f",
         "x": [
          -0.0676475134671849,
          -0.05541379343738306
         ],
         "y": [
          0.1758330876039429,
          0.10021626581148735
         ]
        },
        {
         "line": {
          "color": "black",
          "width": 5
         },
         "marker": {
          "color": "blue",
          "size": 5
         },
         "text": [
          "LWrist"
         ],
         "type": "scatter",
         "uid": "e5f1af4e-7b46-46d1-8365-c452e4c9f09a",
         "x": [
          -0.07426639515756217,
          -0.0676475134671849
         ],
         "y": [
          0.18590721545295796,
          0.1758330876039429
         ]
        },
        {
         "line": {
          "color": "red",
          "width": 5
         },
         "marker": {
          "color": "blue",
          "size": 5
         },
         "text": [
          "RShoulder"
         ],
         "type": "scatter",
         "uid": "bd5007f7-d1b1-40ce-8f27-741b5026134d",
         "x": [
          0.014919541451528628,
          -0.020152992155446747
         ],
         "y": [
          0.0945581882993558,
          0.08432955045287538
         ]
        },
        {
         "line": {
          "color": "red",
          "width": 5
         },
         "marker": {
          "color": "blue",
          "size": 5
         },
         "text": [
          "RElbow"
         ],
         "type": "scatter",
         "uid": "8bf3c66e-4fef-4ad6-899a-03a28d961eee",
         "x": [
          0.03224919168069218,
          0.014919541451528628
         ],
         "y": [
          0.17462556531073292,
          0.0945581882993558
         ]
        },
        {
         "line": {
          "color": "red",
          "width": 5
         },
         "marker": {
          "color": "blue",
          "size": 5
         },
         "text": [
          "RWrist"
         ],
         "type": "scatter",
         "uid": "257d7d76-bef0-410c-b9ba-f1e02cd03206",
         "x": [
          0.03525254323163707,
          0.03224919168069218
         ],
         "y": [
          0.18729072311954442,
          0.17462556531073292
         ]
        },
        {
         "line": {
          "color": "#1f77b4",
          "width": 1
         },
         "marker": {
          "color": "#1f77b4",
          "size": 1
         },
         "type": "scatter",
         "uid": "341f5ed3-3df0-4809-bb9a-51309bd8760c",
         "x": [],
         "y": []
        }
       ],
       "frames": [
        {
         "data": [
          {
           "line": {
            "color": "red",
            "width": 5
           },
           "marker": {
            "color": "blue",
            "size": 5
           },
           "text": [
            "RHip"
           ],
           "type": "scatter",
           "x": [
            0.002830106391929599,
            -0.01420320428666244
           ],
           "y": [
            0.18883989517940003,
            0.168896721361546
           ]
          },
          {
           "line": {
            "color": "red",
            "width": 5
           },
           "marker": {
            "color": "blue",
            "size": 5
           },
           "text": [
            "RKnee"
           ],
           "type": "scatter",
           "x": [
            0.0010804021263099983,
            0.002830106391929599
           ],
           "y": [
            0.2583041451913992,
            0.18883989517940003
           ]
          },
          {
           "line": {
            "color": "red",
            "width": 5
           },
           "marker": {
            "color": "blue",
            "size": 5
           },
           "text": [
            "RAnkle"
           ],
           "type": "scatter",
           "x": [
            0,
            0.0010804021263099983
           ],
           "y": [
            0.3125,
            0.2583041451913992
           ]
          },
          {
           "line": {
            "color": "black",
            "width": 5
           },
           "marker": {
            "color": "blue",
            "size": 5
           },
           "text": [
            "LHip"
           ],
           "type": "scatter",
           "x": [
            -0.03148737256136669,
            -0.01420320428666244
           ],
           "y": [
            0.18931448330765233,
            0.168896721361546
           ]
          },
          {
           "line": {
            "color": "black",
            "width": 5
           },
           "marker": {
            "color": "blue",
            "size": 5
           },
           "text": [
            "LKnee"
           ],
           "type": "scatter",
           "x": [
            -0.023458384088579698,
            -0.03148737256136669
           ],
           "y": [
            0.25958146572657714,
            0.18931448330765233
           ]
          },
          {
           "line": {
            "color": "black",
            "width": 5
           },
           "marker": {
            "color": "blue",
            "size": 5
           },
           "text": [
            "LAnkle"
           ],
           "type": "scatter",
           "x": [
            -0.01923468387448568,
            -0.023458384088579698
           ],
           "y": [
            0.33397060681200275,
            0.25958146572657714
           ]
          },
          {
           "line": {
            "color": "black",
            "width": 5
           },
           "marker": {
            "color": "blue",
            "size": 5
           },
           "text": [
            "Spine1"
           ],
           "type": "scatter",
           "x": [
            -0.01689933795305476,
            -0.01420320428666244
           ],
           "y": [
            0.12470545583085857,
            0.168896721361546
           ]
          },
          {
           "line": {
            "color": "black",
            "width": 5
           },
           "marker": {
            "color": "blue",
            "size": 5
           },
           "text": [
            "Neck"
           ],
           "type": "scatter",
           "x": [
            -0.020152992155446747,
            -0.01689933795305476
           ],
           "y": [
            0.08432955045287538,
            0.12470545583085857
           ]
          },
          {
           "line": {
            "color": "black",
            "width": 5
           },
           "marker": {
            "color": "blue",
            "size": 5
           },
           "text": [
            "Head"
           ],
           "type": "scatter",
           "x": [
            -0.019127928789310134,
            -0.020152992155446747
           ],
           "y": [
            0.06690607686210226,
            0.08432955045287538
           ]
          },
          {
           "line": {
            "color": "black",
            "width": 5
           },
           "marker": {
            "color": "blue",
            "size": 5
           },
           "text": [
            "Site"
           ],
           "type": "scatter",
           "x": [
            -0.01730881749873081,
            -0.019127928789310134
           ],
           "y": [
            0.053000383017145936,
            0.06690607686210226
           ]
          },
          {
           "line": {
            "color": "black",
            "width": 5
           },
           "marker": {
            "color": "blue",
            "size": 5
           },
           "text": [
            "LShoulder"
           ],
           "type": "scatter",
           "x": [
            -0.05541379343738306,
            -0.020152992155446747
           ],
           "y": [
            0.10021626581148735,
            0.08432955045287538
           ]
          },
          {
           "line": {
            "color": "black",
            "width": 5
           },
           "marker": {
            "color": "blue",
            "size": 5
           },
           "text": [
            "LElbow"
           ],
           "type": "scatter",
           "x": [
            -0.0676475134671849,
            -0.05541379343738306
           ],
           "y": [
            0.1758330876039429,
            0.10021626581148735
           ]
          },
          {
           "line": {
            "color": "black",
            "width": 5
           },
           "marker": {
            "color": "blue",
            "size": 5
           },
           "text": [
            "LWrist"
           ],
           "type": "scatter",
           "x": [
            -0.07426639515756217,
            -0.0676475134671849
           ],
           "y": [
            0.18590721545295796,
            0.1758330876039429
           ]
          },
          {
           "line": {
            "color": "red",
            "width": 5
           },
           "marker": {
            "color": "blue",
            "size": 5
           },
           "text": [
            "RShoulder"
           ],
           "type": "scatter",
           "x": [
            0.014919541451528628,
            -0.020152992155446747
           ],
           "y": [
            0.0945581882993558,
            0.08432955045287538
           ]
          },
          {
           "line": {
            "color": "red",
            "width": 5
           },
           "marker": {
            "color": "blue",
            "size": 5
           },
           "text": [
            "RElbow"
           ],
           "type": "scatter",
           "x": [
            0.03224919168069218,
            0.014919541451528628
           ],
           "y": [
            0.17462556531073292,
            0.0945581882993558
           ]
          },
          {
           "line": {
            "color": "red",
            "width": 5
           },
           "marker": {
            "color": "blue",
            "size": 5
           },
           "text": [
            "RWrist"
           ],
           "type": "scatter",
           "x": [
            0.03525254323163707,
            0.03224919168069218
           ],
           "y": [
            0.18729072311954442,
            0.17462556531073292
           ]
          },
          {
           "line": {
            "color": "#1f77b4",
            "width": 1
           },
           "marker": {
            "color": "#1f77b4",
            "size": 1
           },
           "type": "scatter",
           "x": [],
           "y": []
          }
         ],
         "name": "frame1"
        },
        {
         "data": [
          {
           "line": {
            "color": "red",
            "width": 5
           },
           "marker": {
            "color": "blue",
            "size": 5
           },
           "text": [
            "RHip"
           ],
           "type": "scatter",
           "x": [
            0.009588367526442987,
            -0.009122337390714996
           ],
           "y": [
            0.1986031330977669,
            0.1786693631436178
           ]
          },
          {
           "line": {
            "color": "red",
            "width": 5
           },
           "marker": {
            "color": "blue",
            "size": 5
           },
           "text": [
            "RKnee"
           ],
           "type": "scatter",
           "x": [
            0.002549829404408399,
            0.009588367526442987
           ],
           "y": [
            0.2702004298242928,
            0.1986031330977669
           ]
          },
          {
           "line": {
            "color": "red",
            "width": 5
           },
           "marker": {
            "color": "blue",
            "size": 5
           },
           "text": [
            "RAnkle"
           ],
           "type": "scatter",
           "x": [
            0.003139787363527713,
            0.002549829404408399
           ],
           "y": [
            0.3590006751579282,
            0.2702004298242928
           ]
          },
          {
           "line": {
            "color": "black",
            "width": 5
           },
           "marker": {
            "color": "blue",
            "size": 5
           },
           "text": [
            "LHip"
           ],
           "type": "scatter",
           "x": [
            -0.026188707262453703,
            -0.009122337390714996
           ],
           "y": [
            0.20088192266878369,
            0.1786693631436178
           ]
          },
          {
           "line": {
            "color": "black",
            "width": 5
           },
           "marker": {
            "color": "blue",
            "size": 5
           },
           "text": [
            "LKnee"
           ],
           "type": "scatter",
           "x": [
            -0.021207873204577843,
            -0.026188707262453703
           ],
           "y": [
            0.26810321918971436,
            0.20088192266878369
           ]
          },
          {
           "line": {
            "color": "black",
            "width": 5
           },
           "marker": {
            "color": "blue",
            "size": 5
           },
           "text": [
            "LAnkle"
           ],
           "type": "scatter",
           "x": [
            -0.019439557679078234,
            -0.021207873204577843
           ],
           "y": [
            0.322666952266101,
            0.26810321918971436
           ]
          },
          {
           "line": {
            "color": "black",
            "width": 5
           },
           "marker": {
            "color": "blue",
            "size": 5
           },
           "text": [
            "Spine1"
           ],
           "type": "scatter",
           "x": [
            -0.009457664285109635,
            -0.009122337390714996
           ],
           "y": [
            0.13211593875013272,
            0.1786693631436178
           ]
          },
          {
           "line": {
            "color": "black",
            "width": 5
           },
           "marker": {
            "color": "blue",
            "size": 5
           },
           "text": [
            "Neck"
           ],
           "type": "scatter",
           "x": [
            -0.00900193617947398,
            -0.009457664285109635
           ],
           "y": [
            0.0902381740096031,
            0.13211593875013272
           ]
          },
          {
           "line": {
            "color": "black",
            "width": 5
           },
           "marker": {
            "color": "blue",
            "size": 5
           },
           "text": [
            "Head"
           ],
           "type": "scatter",
           "x": [
            -0.00895268066995547,
            -0.00900193617947398
           ],
           "y": [
            0.07188492146855574,
            0.0902381740096031
           ]
          },
          {
           "line": {
            "color": "black",
            "width": 5
           },
           "marker": {
            "color": "blue",
            "size": 5
           },
           "text": [
            "Site"
           ],
           "type": "scatter",
           "x": [
            -0.007742107572898171,
            -0.00895268066995547
           ],
           "y": [
            0.0544327828915534,
            0.07188492146855574
           ]
          },
          {
           "line": {
            "color": "black",
            "width": 5
           },
           "marker": {
            "color": "blue",
            "size": 5
           },
           "text": [
            "LShoulder"
           ],
           "type": "scatter",
           "x": [
            -0.04595185104496535,
            -0.00900193617947398
           ],
           "y": [
            0.1019317595114193,
            0.0902381740096031
           ]
          },
          {
           "line": {
            "color": "black",
            "width": 5
           },
           "marker": {
            "color": "blue",
            "size": 5
           },
           "text": [
            "LElbow"
           ],
           "type": "scatter",
           "x": [
            -0.06342357318508474,
            -0.04595185104496535
           ],
           "y": [
            0.1809925078635939,
            0.1019317595114193
           ]
          },
          {
           "line": {
            "color": "black",
            "width": 5
           },
           "marker": {
            "color": "blue",
            "size": 5
           },
           "text": [
            "LWrist"
           ],
           "type": "scatter",
           "x": [
            -0.06958892638942482,
            -0.06342357318508474
           ],
           "y": [
            0.19203838470525358,
            0.1809925078635939
           ]
          },
          {
           "line": {
            "color": "red",
            "width": 5
           },
           "marker": {
            "color": "blue",
            "size": 5
           },
           "text": [
            "RShoulder"
           ],
           "type": "scatter",
           "x": [
            0.028176011514393418,
            -0.00900193617947398
           ],
           "y": [
            0.10465738787432832,
            0.0902381740096031
           ]
          },
          {
           "line": {
            "color": "red",
            "width": 5
           },
           "marker": {
            "color": "blue",
            "size": 5
           },
           "text": [
            "RElbow"
           ],
           "type": "scatter",
           "x": [
            0.03426722625728851,
            0.028176011514393418
           ],
           "y": [
            0.18985700973834907,
            0.10465738787432832
           ]
          },
          {
           "line": {
            "color": "red",
            "width": 5
           },
           "marker": {
            "color": "blue",
            "size": 5
           },
           "text": [
            "RWrist"
           ],
           "type": "scatter",
           "x": [
            0.0363505849545529,
            0.03426722625728851
           ],
           "y": [
            0.2034506800220347,
            0.18985700973834907
           ]
          },
          {
           "line": {
            "color": "#1f77b4",
            "width": 1
           },
           "marker": {
            "color": "#1f77b4",
            "size": 1
           },
           "type": "scatter",
           "x": [
            -0.01420320428666244
           ],
           "y": [
            0.168896721361546
           ]
          }
         ],
         "name": "frame2"
        },
        {
         "data": [
          {
           "line": {
            "color": "red",
            "width": 5
           },
           "marker": {
            "color": "blue",
            "size": 5
           },
           "text": [
            "RHip"
           ],
           "type": "scatter",
           "x": [
            0.015027674788469003,
            -0.005050386465429546
           ],
           "y": [
            0.20513171412859665,
            0.18477714474009765
           ]
          },
          {
           "line": {
            "color": "red",
            "width": 5
           },
           "marker": {
            "color": "blue",
            "size": 5
           },
           "text": [
            "RKnee"
           ],
           "type": "scatter",
           "x": [
            0.005225698711891713,
            0.015027674788469003
           ],
           "y": [
            0.27912924947804685,
            0.20513171412859665
           ]
          },
          {
           "line": {
            "color": "red",
            "width": 5
           },
           "marker": {
            "color": "blue",
            "size": 5
           },
           "text": [
            "RAnkle"
           ],
           "type": "scatter",
           "x": [
            0.0005020024535533629,
            0.005225698711891713
           ],
           "y": [
            0.3564546640598987,
            0.27912924947804685
           ]
          },
          {
           "line": {
            "color": "black",
            "width": 5
           },
           "marker": {
            "color": "blue",
            "size": 5
           },
           "text": [
            "LHip"
           ],
           "type": "scatter",
           "x": [
            -0.022337024234013292,
            -0.005050386465429546
           ],
           "y": [
            0.2082815792688475,
            0.18477714474009765
           ]
          },
          {
           "line": {
            "color": "black",
            "width": 5
           },
           "marker": {
            "color": "blue",
            "size": 5
           },
           "text": [
            "LKnee"
           ],
           "type": "scatter",
           "x": [
            -0.01859020263941713,
            -0.022337024234013292
           ],
           "y": [
            0.28011795726580924,
            0.2082815792688475
           ]
          },
          {
           "line": {
            "color": "black",
            "width": 5
           },
           "marker": {
            "color": "blue",
            "size": 5
           },
           "text": [
            "LAnkle"
           ],
           "type": "scatter",
           "x": [
            -0.015633009220501926,
            -0.01859020263941713
           ],
           "y": [
            0.3760507476602244,
            0.28011795726580924
           ]
          },
          {
           "line": {
            "color": "black",
            "width": 5
           },
           "marker": {
            "color": "blue",
            "size": 5
           },
           "text": [
            "Spine1"
           ],
           "type": "scatter",
           "x": [
            -0.0024387822483014077,
            -0.005050386465429546
           ],
           "y": [
            0.13679616091479807,
            0.18477714474009765
           ]
          },
          {
           "line": {
            "color": "black",
            "width": 5
           },
           "marker": {
            "color": "blue",
            "size": 5
           },
           "text": [
            "Neck"
           ],
           "type": "scatter",
           "x": [
            -0.0018651167259617907,
            -0.0024387822483014077
           ],
           "y": [
            0.09284562851210032,
            0.13679616091479807
           ]
          },
          {
           "line": {
            "color": "black",
            "width": 5
           },
           "marker": {
            "color": "blue",
            "size": 5
           },
           "text": [
            "Head"
           ],
           "type": "scatter",
           "x": [
            -0.0023833042635104107,
            -0.0018651167259617907
           ],
           "y": [
            0.07354019035002257,
            0.09284562851210032
           ]
          },
          {
           "line": {
            "color": "black",
            "width": 5
           },
           "marker": {
            "color": "blue",
            "size": 5
           },
           "text": [
            "Site"
           ],
           "type": "scatter",
           "x": [
            -0.00421433494240131,
            -0.0023833042635104107
           ],
           "y": [
            0.05613748739718272,
            0.07354019035002257
           ]
          },
          {
           "line": {
            "color": "black",
            "width": 5
           },
           "marker": {
            "color": "blue",
            "size": 5
           },
           "text": [
            "LShoulder"
           ],
           "type": "scatter",
           "x": [
            -0.04229292151421249,
            -0.0018651167259617907
           ],
           "y": [
            0.10706359420836853,
            0.09284562851210032
           ]
          },
          {
           "line": {
            "color": "black",
            "width": 5
           },
           "marker": {
            "color": "blue",
            "size": 5
           },
           "text": [
            "LElbow"
           ],
           "type": "scatter",
           "x": [
            -0.04788405161909848,
            -0.04229292151421249
           ],
           "y": [
            0.18837819017110868,
            0.10706359420836853
           ]
          },
          {
           "line": {
            "color": "black",
            "width": 5
           },
           "marker": {
            "color": "blue",
            "size": 5
           },
           "text": [
            "LWrist"
           ],
           "type": "scatter",
           "x": [
            -0.05202043368127285,
            -0.04788405161909848
           ],
           "y": [
            0.20124763242912314,
            0.18837819017110868
           ]
          },
          {
           "line": {
            "color": "red",
            "width": 5
           },
           "marker": {
            "color": "blue",
            "size": 5
           },
           "text": [
            "RShoulder"
           ],
           "type": "scatter",
           "x": [
            0.03516806949041995,
            -0.0018651167259617907
           ],
           "y": [
            0.10719725101811495,
            0.09284562851210032
           ]
          },
          {
           "line": {
            "color": "red",
            "width": 5
           },
           "marker": {
            "color": "blue",
            "size": 5
           },
           "text": [
            "RElbow"
           ],
           "type": "scatter",
           "x": [
            0.051232230629386866,
            0.03516806949041995
           ],
           "y": [
            0.1966156996029227,
            0.10719725101811495
           ]
          },
          {
           "line": {
            "color": "red",
            "width": 5
           },
           "marker": {
            "color": "blue",
            "size": 5
           },
           "text": [
            "RWrist"
           ],
           "type": "scatter",
           "x": [
            0.05390202736283656,
            0.051232230629386866
           ],
           "y": [
            0.2097146592555953,
            0.1966156996029227
           ]
          },
          {
           "line": {
            "color": "#1f77b4",
            "width": 1
           },
           "marker": {
            "color": "#1f77b4",
            "size": 1
           },
           "type": "scatter",
           "x": [
            -0.01420320428666244,
            -0.009122337390714996
           ],
           "y": [
            0.168896721361546,
            0.1786693631436178
           ]
          }
         ],
         "name": "frame3"
        },
        {
         "data": [
          {
           "line": {
            "color": "red",
            "width": 5
           },
           "marker": {
            "color": "blue",
            "size": 5
           },
           "text": [
            "RHip"
           ],
           "type": "scatter",
           "x": [
            0.003902001924620313,
            -0.015456630886367728
           ],
           "y": [
            0.2161840155568331,
            0.19266154578907035
           ]
          },
          {
           "line": {
            "color": "red",
            "width": 5
           },
           "marker": {
            "color": "blue",
            "size": 5
           },
           "text": [
            "RKnee"
           ],
           "type": "scatter",
           "x": [
            0.00130400852229684,
            0.003902001924620313
           ],
           "y": [
            0.29771709924847767,
            0.2161840155568331
           ]
          },
          {
           "line": {
            "color": "red",
            "width": 5
           },
           "marker": {
            "color": "blue",
            "size": 5
           },
           "text": [
            "RAnkle"
           ],
           "type": "scatter",
           "x": [
            -0.0035786989183990148,
            0.00130400852229684
           ],
           "y": [
            0.35718482041829214,
            0.29771709924847767
           ]
          },
          {
           "line": {
            "color": "black",
            "width": 5
           },
           "marker": {
            "color": "blue",
            "size": 5
           },
           "text": [
            "LHip"
           ],
           "type": "scatter",
           "x": [
            -0.0358166048072347,
            -0.015456630886367728
           ],
           "y": [
            0.21595614319141299,
            0.19266154578907035
           ]
          },
          {
           "line": {
            "color": "black",
            "width": 5
           },
           "marker": {
            "color": "blue",
            "size": 5
           },
           "text": [
            "LKnee"
           ],
           "type": "scatter",
           "x": [
            -0.026037653954211537,
            -0.0358166048072347
           ],
           "y": [
            0.29749584029769705,
            0.21595614319141299
           ]
          },
          {
           "line": {
            "color": "black",
            "width": 5
           },
           "marker": {
            "color": "blue",
            "size": 5
           },
           "text": [
            "LAnkle"
           ],
           "type": "scatter",
           "x": [
            -0.022589417317086857,
            -0.026037653954211537
           ],
           "y": [
            0.3843653612758138,
            0.29749584029769705
           ]
          },
          {
           "line": {
            "color": "black",
            "width": 5
           },
           "marker": {
            "color": "blue",
            "size": 5
           },
           "text": [
            "Spine1"
           ],
           "type": "scatter",
           "x": [
            -0.017925475651942024,
            -0.015456630886367728
           ],
           "y": [
            0.1413673209748303,
            0.19266154578907035
           ]
          },
          {
           "line": {
            "color": "black",
            "width": 5
           },
           "marker": {
            "color": "blue",
            "size": 5
           },
           "text": [
            "Neck"
           ],
           "type": "scatter",
           "x": [
            -0.019306486793163935,
            -0.017925475651942024
           ],
           "y": [
            0.09467316746667476,
            0.1413673209748303
           ]
          },
          {
           "line": {
            "color": "black",
            "width": 5
           },
           "marker": {
            "color": "blue",
            "size": 5
           },
           "text": [
            "Head"
           ],
           "type": "scatter",
           "x": [
            -0.02023142328467764,
            -0.019306486793163935
           ],
           "y": [
            0.0743631847377213,
            0.09467316746667476
           ]
          },
          {
           "line": {
            "color": "black",
            "width": 5
           },
           "marker": {
            "color": "blue",
            "size": 5
           },
           "text": [
            "Site"
           ],
           "type": "scatter",
           "x": [
            -0.022175053027856828,
            -0.02023142328467764
           ],
           "y": [
            0.05706789755307384,
            0.0743631847377213
           ]
          },
          {
           "line": {
            "color": "black",
            "width": 5
           },
           "marker": {
            "color": "blue",
            "size": 5
           },
           "text": [
            "LShoulder"
           ],
           "type": "scatter",
           "x": [
            -0.061033376888241286,
            -0.019306486793163935
           ],
           "y": [
            0.11097269353666372,
            0.09467316746667476
           ]
          },
          {
           "line": {
            "color": "black",
            "width": 5
           },
           "marker": {
            "color": "blue",
            "size": 5
           },
           "text": [
            "LElbow"
           ],
           "type": "scatter",
           "x": [
            -0.07544617367443007,
            -0.061033376888241286
           ],
           "y": [
            0.2016321334526131,
            0.11097269353666372
           ]
          },
          {
           "line": {
            "color": "black",
            "width": 5
           },
           "marker": {
            "color": "blue",
            "size": 5
           },
           "text": [
            "LWrist"
           ],
           "type": "scatter",
           "x": [
            -0.08206213279364027,
            -0.07544617367443007
           ],
           "y": [
            0.21443128027535197,
            0.2016321334526131
           ]
          },
          {
           "line": {
            "color": "red",
            "width": 5
           },
           "marker": {
            "color": "blue",
            "size": 5
           },
           "text": [
            "RShoulder"
           ],
           "type": "scatter",
           "x": [
            0.02027718033306436,
            -0.019306486793163935
           ],
           "y": [
            0.10796033426279616,
            0.09467316746667476
           ]
          },
          {
           "line": {
            "color": "red",
            "width": 5
           },
           "marker": {
            "color": "blue",
            "size": 5
           },
           "text": [
            "RElbow"
           ],
           "type": "scatter",
           "x": [
            0.03477613961997883,
            0.02027718033306436
           ],
           "y": [
            0.20202196079667123,
            0.10796033426279616
           ]
          },
          {
           "line": {
            "color": "red",
            "width": 5
           },
           "marker": {
            "color": "blue",
            "size": 5
           },
           "text": [
            "RWrist"
           ],
           "type": "scatter",
           "x": [
            0.03795565568374726,
            0.03477613961997883
           ],
           "y": [
            0.21697619591512995,
            0.20202196079667123
           ]
          },
          {
           "line": {
            "color": "#1f77b4",
            "width": 1
           },
           "marker": {
            "color": "#1f77b4",
            "size": 1
           },
           "type": "scatter",
           "x": [
            -0.01420320428666244,
            -0.009122337390714996,
            -0.005050386465429546
           ],
           "y": [
            0.168896721361546,
            0.1786693631436178,
            0.18477714474009765
           ]
          }
         ],
         "name": "frame4"
        },
        {
         "data": [
          {
           "line": {
            "color": "red",
            "width": 5
           },
           "marker": {
            "color": "blue",
            "size": 5
           },
           "text": [
            "RHip"
           ],
           "type": "scatter",
           "x": [
            0.012333477386820668,
            -0.009625030808619428
           ],
           "y": [
            0.22982077637999743,
            0.20625479908567446
           ]
          },
          {
           "line": {
            "color": "red",
            "width": 5
           },
           "marker": {
            "color": "blue",
            "size": 5
           },
           "text": [
            "RKnee"
           ],
           "type": "scatter",
           "x": [
            0.0020148903437386956,
            0.012333477386820668
           ],
           "y": [
            0.3145718666674169,
            0.22982077637999743
           ]
          },
          {
           "line": {
            "color": "red",
            "width": 5
           },
           "marker": {
            "color": "blue",
            "size": 5
           },
           "text": [
            "RAnkle"
           ],
           "type": "scatter",
           "x": [
            0.003074149990412778,
            0.0020148903437386956
           ],
           "y": [
            0.4168027783148598,
            0.3145718666674169
           ]
          },
          {
           "line": {
            "color": "black",
            "width": 5
           },
           "marker": {
            "color": "blue",
            "size": 5
           },
           "text": [
            "LHip"
           ],
           "type": "scatter",
           "x": [
            -0.02983474077421777,
            -0.009625030808619428
           ],
           "y": [
            0.231995847856718,
            0.20625479908567446
           ]
          },
          {
           "line": {
            "color": "black",
            "width": 5
           },
           "marker": {
            "color": "blue",
            "size": 5
           },
           "text": [
            "LKnee"
           ],
           "type": "scatter",
           "x": [
            -0.023813280038863738,
            -0.02983474077421777
           ],
           "y": [
            0.3145348493422184,
            0.231995847856718
           ]
          },
          {
           "line": {
            "color": "black",
            "width": 5
           },
           "marker": {
            "color": "blue",
            "size": 5
           },
           "text": [
            "LAnkle"
           ],
           "type": "scatter",
           "x": [
            -0.02154133921349788,
            -0.023813280038863738
           ],
           "y": [
            0.36788382920051155,
            0.3145348493422184
           ]
          },
          {
           "line": {
            "color": "black",
            "width": 5
           },
           "marker": {
            "color": "blue",
            "size": 5
           },
           "text": [
            "Spine1"
           ],
           "type": "scatter",
           "x": [
            -0.008710285592113065,
            -0.009625030808619428
           ],
           "y": [
            0.15173442166392948,
            0.20625479908567446
           ]
          },
          {
           "line": {
            "color": "black",
            "width": 5
           },
           "marker": {
            "color": "blue",
            "size": 5
           },
           "text": [
            "Neck"
           ],
           "type": "scatter",
           "x": [
            -0.005739763976915335,
            -0.008710285592113065
           ],
           "y": [
            0.10217972046230339,
            0.15173442166392948
           ]
          },
          {
           "line": {
            "color": "black",
            "width": 5
           },
           "marker": {
            "color": "blue",
            "size": 5
           },
           "text": [
            "Head"
           ],
           "type": "scatter",
           "x": [
            -0.005547478296244579,
            -0.005739763976915335
           ],
           "y": [
            0.08087101077076542,
            0.10217972046230339
           ]
          },
          {
           "line": {
            "color": "black",
            "width": 5
           },
           "marker": {
            "color": "blue",
            "size": 5
           },
           "text": [
            "Site"
           ],
           "type": "scatter",
           "x": [
            -0.007004083629394087,
            -0.005547478296244579
           ],
           "y": [
            0.06446199009856313,
            0.08087101077076542
           ]
          },
          {
           "line": {
            "color": "black",
            "width": 5
           },
           "marker": {
            "color": "blue",
            "size": 5
           },
           "text": [
            "LShoulder"
           ],
           "type": "scatter",
           "x": [
            -0.05171148942214765,
            -0.005739763976915335
           ],
           "y": [
            0.11606330380946961,
            0.10217972046230339
           ]
          },
          {
           "line": {
            "color": "black",
            "width": 5
           },
           "marker": {
            "color": "blue",
            "size": 5
           },
           "text": [
            "LElbow"
           ],
           "type": "scatter",
           "x": [
            -0.07933507187285205,
            -0.05171148942214765
           ],
           "y": [
            0.20709086078719885,
            0.11606330380946961
           ]
          },
          {
           "line": {
            "color": "black",
            "width": 5
           },
           "marker": {
            "color": "blue",
            "size": 5
           },
           "text": [
            "LWrist"
           ],
           "type": "scatter",
           "x": [
            -0.08832742259105086,
            -0.07933507187285205
           ],
           "y": [
            0.2198371048016703,
            0.20709086078719885
           ]
          },
          {
           "line": {
            "color": "red",
            "width": 5
           },
           "marker": {
            "color": "blue",
            "size": 5
           },
           "text": [
            "RShoulder"
           ],
           "type": "scatter",
           "x": [
            0.03522870250443644,
            -0.005739763976915335
           ],
           "y": [
            0.11996757143252812,
            0.10217972046230339
           ]
          },
          {
           "line": {
            "color": "red",
            "width": 5
           },
           "marker": {
            "color": "blue",
            "size": 5
           },
           "text": [
            "RElbow"
           ],
           "type": "scatter",
           "x": [
            0.046607111882977836,
            0.03522870250443644
           ],
           "y": [
            0.22030764361580812,
            0.11996757143252812
           ]
          },
          {
           "line": {
            "color": "red",
            "width": 5
           },
           "marker": {
            "color": "blue",
            "size": 5
           },
           "text": [
            "RWrist"
           ],
           "type": "scatter",
           "x": [
            0.04994544964166936,
            0.046607111882977836
           ],
           "y": [
            0.23622806453154666,
            0.22030764361580812
           ]
          },
          {
           "line": {
            "color": "#1f77b4",
            "width": 1
           },
           "marker": {
            "color": "#1f77b4",
            "size": 1
           },
           "type": "scatter",
           "x": [
            -0.01420320428666244,
            -0.009122337390714996,
            -0.005050386465429546,
            -0.015456630886367728
           ],
           "y": [
            0.168896721361546,
            0.1786693631436178,
            0.18477714474009765,
            0.19266154578907035
           ]
          }
         ],
         "name": "frame5"
        },
        {
         "data": [
          {
           "line": {
            "color": "red",
            "width": 5
           },
           "marker": {
            "color": "blue",
            "size": 5
           },
           "text": [
            "RHip"
           ],
           "type": "scatter",
           "x": [
            0.017291138201791956,
            -0.0072014758747925844
           ],
           "y": [
            0.23961914347810187,
            0.21540433170048134
           ]
          },
          {
           "line": {
            "color": "red",
            "width": 5
           },
           "marker": {
            "color": "blue",
            "size": 5
           },
           "text": [
            "RKnee"
           ],
           "type": "scatter",
           "x": [
            0.010223481297902737,
            0.017291138201791956
           ],
           "y": [
            0.3183984680735581,
            0.23961914347810187
           ]
          },
          {
           "line": {
            "color": "red",
            "width": 5
           },
           "marker": {
            "color": "blue",
            "size": 5
           },
           "text": [
            "RAnkle"
           ],
           "type": "scatter",
           "x": [
            0.0020215458745265202,
            0.010223481297902737
           ],
           "y": [
            0.4098209779400972,
            0.3183984680735581
           ]
          },
          {
           "line": {
            "color": "black",
            "width": 5
           },
           "marker": {
            "color": "blue",
            "size": 5
           },
           "text": [
            "LHip"
           ],
           "type": "scatter",
           "x": [
            -0.027335858638810828,
            -0.0072014758747925844
           ],
           "y": [
            0.24394690233435534,
            0.21540433170048134
           ]
          },
          {
           "line": {
            "color": "black",
            "width": 5
           },
           "marker": {
            "color": "blue",
            "size": 5
           },
           "text": [
            "LKnee"
           ],
           "type": "scatter",
           "x": [
            -0.021575094426708352,
            -0.027335858638810828
           ],
           "y": [
            0.3334974847732779,
            0.24394690233435534
           ]
          },
          {
           "line": {
            "color": "black",
            "width": 5
           },
           "marker": {
            "color": "blue",
            "size": 5
           },
           "text": [
            "LAnkle"
           ],
           "type": "scatter",
           "x": [
            -0.024407907423017905,
            -0.021575094426708352
           ],
           "y": [
            0.4500297218401079,
            0.3334974847732779
           ]
          },
          {
           "line": {
            "color": "black",
            "width": 5
           },
           "marker": {
            "color": "blue",
            "size": 5
           },
           "text": [
            "Spine1"
           ],
           "type": "scatter",
           "x": [
            -0.004389576335269263,
            -0.0072014758747925844
           ],
           "y": [
            0.15761520249923033,
            0.21540433170048134
           ]
          },
          {
           "line": {
            "color": "black",
            "width": 5
           },
           "marker": {
            "color": "blue",
            "size": 5
           },
           "text": [
            "Neck"
           ],
           "type": "scatter",
           "x": [
            -0.004247778273601233,
            -0.004389576335269263
           ],
           "y": [
            0.10491550275522832,
            0.15761520249923033
           ]
          },
          {
           "line": {
            "color": "black",
            "width": 5
           },
           "marker": {
            "color": "blue",
            "size": 5
           },
           "text": [
            "Head"
           ],
           "type": "scatter",
           "x": [
            -0.005054806940452794,
            -0.004247778273601233
           ],
           "y": [
            0.08203629786279265,
            0.10491550275522832
           ]
          },
          {
           "line": {
            "color": "black",
            "width": 5
           },
           "marker": {
            "color": "blue",
            "size": 5
           },
           "text": [
            "Site"
           ],
           "type": "scatter",
           "x": [
            -0.007426980547988515,
            -0.005054806940452794
           ],
           "y": [
            0.06324035027234931,
            0.08203629786279265
           ]
          },
          {
           "line": {
            "color": "black",
            "width": 5
           },
           "marker": {
            "color": "blue",
            "size": 5
           },
           "text": [
            "LShoulder"
           ],
           "type": "scatter",
           "x": [
            -0.05220072931886466,
            -0.004247778273601233
           ],
           "y": [
            0.12236171926377948,
            0.10491550275522832
           ]
          },
          {
           "line": {
            "color": "black",
            "width": 5
           },
           "marker": {
            "color": "blue",
            "size": 5
           },
           "text": [
            "LElbow"
           ],
           "type": "scatter",
           "x": [
            -0.05878746119461964,
            -0.05220072931886466
           ],
           "y": [
            0.21925172125132586,
            0.12236171926377948
           ]
          },
          {
           "line": {
            "color": "black",
            "width": 5
           },
           "marker": {
            "color": "blue",
            "size": 5
           },
           "text": [
            "LWrist"
           ],
           "type": "scatter",
           "x": [
            -0.06363516937467217,
            -0.05878746119461964
           ],
           "y": [
            0.23438748926148567,
            0.21925172125132586
           ]
          },
          {
           "line": {
            "color": "red",
            "width": 5
           },
           "marker": {
            "color": "blue",
            "size": 5
           },
           "text": [
            "RShoulder"
           ],
           "type": "scatter",
           "x": [
            0.040400345637179313,
            -0.004247778273601233
           ],
           "y": [
            0.12126729994283869,
            0.10491550275522832
           ]
          },
          {
           "line": {
            "color": "red",
            "width": 5
           },
           "marker": {
            "color": "blue",
            "size": 5
           },
           "text": [
            "RElbow"
           ],
           "type": "scatter",
           "x": [
            0.05948003940618518,
            0.040400345637179313
           ],
           "y": [
            0.22810902350584672,
            0.12126729994283869
           ]
          },
          {
           "line": {
            "color": "red",
            "width": 5
           },
           "marker": {
            "color": "blue",
            "size": 5
           },
           "text": [
            "RWrist"
           ],
           "type": "scatter",
           "x": [
            0.06362527645545502,
            0.05948003940618518
           ],
           "y": [
            0.2441376874794592,
            0.22810902350584672
           ]
          },
          {
           "line": {
            "color": "#1f77b4",
            "width": 1
           },
           "marker": {
            "color": "#1f77b4",
            "size": 1
           },
           "type": "scatter",
           "x": [
            -0.01420320428666244,
            -0.009122337390714996,
            -0.005050386465429546,
            -0.015456630886367728,
            -0.009625030808619428
           ],
           "y": [
            0.168896721361546,
            0.1786693631436178,
            0.18477714474009765,
            0.19266154578907035,
            0.20625479908567446
           ]
          }
         ],
         "name": "frame6"
        },
        {
         "data": [
          {
           "line": {
            "color": "red",
            "width": 5
           },
           "marker": {
            "color": "blue",
            "size": 5
           },
           "text": [
            "RHip"
           ],
           "type": "scatter",
           "x": [
            0.009526996861750847,
            -0.014568474759633299
           ],
           "y": [
            0.2578915289999728,
            0.2300486347335957
           ]
          },
          {
           "line": {
            "color": "red",
            "width": 5
           },
           "marker": {
            "color": "blue",
            "size": 5
           },
           "text": [
            "RKnee"
           ],
           "type": "scatter",
           "x": [
            0.007571925713879324,
            0.009526996861750847
           ],
           "y": [
            0.3553532431462496,
            0.2578915289999728
           ]
          },
          {
           "line": {
            "color": "red",
            "width": 5
           },
           "marker": {
            "color": "blue",
            "size": 5
           },
           "text": [
            "RAnkle"
           ],
           "type": "scatter",
           "x": [
            0.0006393896684251388,
            0.007571925713879324
           ],
           "y": [
            0.45072135010323566,
            0.3553532431462496
           ]
          },
          {
           "line": {
            "color": "black",
            "width": 5
           },
           "marker": {
            "color": "blue",
            "size": 5
           },
           "text": [
            "LHip"
           ],
           "type": "scatter",
           "x": [
            -0.038334309748559114,
            -0.014568474759633299
           ],
           "y": [
            0.2586914744220239,
            0.2300486347335957
           ]
          },
          {
           "line": {
            "color": "black",
            "width": 5
           },
           "marker": {
            "color": "blue",
            "size": 5
           },
           "text": [
            "LKnee"
           ],
           "type": "scatter",
           "x": [
            -0.023926308744348646,
            -0.038334309748559114
           ],
           "y": [
            0.35719799758580084,
            0.2586914744220239
           ]
          },
          {
           "line": {
            "color": "black",
            "width": 5
           },
           "marker": {
            "color": "blue",
            "size": 5
           },
           "text": [
            "LAnkle"
           ],
           "type": "scatter",
           "x": [
            -0.022209222412380214,
            -0.023926308744348646
           ],
           "y": [
            0.4538423393709561,
            0.35719799758580084
           ]
          },
          {
           "line": {
            "color": "black",
            "width": 5
           },
           "marker": {
            "color": "blue",
            "size": 5
           },
           "text": [
            "Spine1"
           ],
           "type": "scatter",
           "x": [
            -0.014888622025170384,
            -0.014568474759633299
           ],
           "y": [
            0.1680035560164823,
            0.2300486347335957
           ]
          },
          {
           "line": {
            "color": "black",
            "width": 5
           },
           "marker": {
            "color": "blue",
            "size": 5
           },
           "text": [
            "Neck"
           ],
           "type": "scatter",
           "x": [
            -0.01607469624872715,
            -0.014888622025170384
           ],
           "y": [
            0.11176234271502972,
            0.1680035560164823
           ]
          },
          {
           "line": {
            "color": "black",
            "width": 5
           },
           "marker": {
            "color": "blue",
            "size": 5
           },
           "text": [
            "Head"
           ],
           "type": "scatter",
           "x": [
            -0.016039234730524043,
            -0.01607469624872715
           ],
           "y": [
            0.08744153137669153,
            0.11176234271502972
           ]
          },
          {
           "line": {
            "color": "black",
            "width": 5
           },
           "marker": {
            "color": "blue",
            "size": 5
           },
           "text": [
            "Site"
           ],
           "type": "scatter",
           "x": [
            -0.01662748733427899,
            -0.016039234730524043
           ],
           "y": [
            0.06779827386732329,
            0.08744153137669153
           ]
          },
          {
           "line": {
            "color": "black",
            "width": 5
           },
           "marker": {
            "color": "blue",
            "size": 5
           },
           "text": [
            "LShoulder"
           ],
           "type": "scatter",
           "x": [
            -0.06665750501654044,
            -0.01607469624872715
           ],
           "y": [
            0.13132356442619242,
            0.11176234271502972
           ]
          },
          {
           "line": {
            "color": "black",
            "width": 5
           },
           "marker": {
            "color": "blue",
            "size": 5
           },
           "text": [
            "LElbow"
           ],
           "type": "scatter",
           "x": [
            -0.09495589454067,
            -0.06665750501654044
           ],
           "y": [
            0.23563795085406514,
            0.13132356442619242
           ]
          },
          {
           "line": {
            "color": "black",
            "width": 5
           },
           "marker": {
            "color": "blue",
            "size": 5
           },
           "text": [
            "LWrist"
           ],
           "type": "scatter",
           "x": [
            -0.1043652142385939,
            -0.09495589454067
           ],
           "y": [
            0.24846597580556207,
            0.23563795085406514
           ]
          },
          {
           "line": {
            "color": "red",
            "width": 5
           },
           "marker": {
            "color": "blue",
            "size": 5
           },
           "text": [
            "RShoulder"
           ],
           "type": "scatter",
           "x": [
            0.031936504434527446,
            -0.01607469624872715
           ],
           "y": [
            0.12733277915336072,
            0.11176234271502972
           ]
          },
          {
           "line": {
            "color": "red",
            "width": 5
           },
           "marker": {
            "color": "blue",
            "size": 5
           },
           "text": [
            "RElbow"
           ],
           "type": "scatter",
           "x": [
            0.04802609110962597,
            0.031936504434527446
           ],
           "y": [
            0.2413080154399021,
            0.12733277915336072
           ]
          },
          {
           "line": {
            "color": "red",
            "width": 5
           },
           "marker": {
            "color": "blue",
            "size": 5
           },
           "text": [
            "RWrist"
           ],
           "type": "scatter",
           "x": [
            0.0524892867839859,
            0.04802609110962597
           ],
           "y": [
            0.2592309935271495,
            0.2413080154399021
           ]
          },
          {
           "line": {
            "color": "#1f77b4",
            "width": 1
           },
           "marker": {
            "color": "#1f77b4",
            "size": 1
           },
           "type": "scatter",
           "x": [
            -0.01420320428666244,
            -0.009122337390714996,
            -0.005050386465429546,
            -0.015456630886367728,
            -0.009625030808619428,
            -0.0072014758747925844
           ],
           "y": [
            0.168896721361546,
            0.1786693631436178,
            0.18477714474009765,
            0.19266154578907035,
            0.20625479908567446,
            0.21540433170048134
           ]
          }
         ],
         "name": "frame7"
        },
        {
         "data": [
          {
           "line": {
            "color": "red",
            "width": 5
           },
           "marker": {
            "color": "blue",
            "size": 5
           },
           "text": [
            "RHip"
           ],
           "type": "scatter",
           "x": [
            0.030931853383081576,
            0.002918584527786816
           ],
           "y": [
            0.27325964759794186,
            0.24555844720898212
           ]
          },
          {
           "line": {
            "color": "red",
            "width": 5
           },
           "marker": {
            "color": "blue",
            "size": 5
           },
           "text": [
            "RKnee"
           ],
           "type": "scatter",
           "x": [
            0.021834892948206175,
            0.030931853383081576
           ],
           "y": [
            0.37992309245443034,
            0.27325964759794186
           ]
          },
          {
           "line": {
            "color": "red",
            "width": 5
           },
           "marker": {
            "color": "blue",
            "size": 5
           },
           "text": [
            "RAnkle"
           ],
           "type": "scatter",
           "x": [
            0.020932971295796188,
            0.021834892948206175
           ],
           "y": [
            0.4986174441064186,
            0.37992309245443034
           ]
          },
          {
           "line": {
            "color": "black",
            "width": 5
           },
           "marker": {
            "color": "blue",
            "size": 5
           },
           "text": [
            "LHip"
           ],
           "type": "scatter",
           "x": [
            -0.020007004505677495,
            0.002918584527786816
           ],
           "y": [
            0.27842793573399294,
            0.24555844720898212
           ]
          },
          {
           "line": {
            "color": "black",
            "width": 5
           },
           "marker": {
            "color": "blue",
            "size": 5
           },
           "text": [
            "LKnee"
           ],
           "type": "scatter",
           "x": [
            -0.013743662314884775,
            -0.020007004505677495
           ],
           "y": [
            0.3842714808357488,
            0.27842793573399294
           ]
          },
          {
           "line": {
            "color": "black",
            "width": 5
           },
           "marker": {
            "color": "blue",
            "size": 5
           },
           "text": [
            "LAnkle"
           ],
           "type": "scatter",
           "x": [
            -0.012138395448965,
            -0.013743662314884775
           ],
           "y": [
            0.4361263432551561,
            0.3842714808357488
           ]
          },
          {
           "line": {
            "color": "black",
            "width": 5
           },
           "marker": {
            "color": "blue",
            "size": 5
           },
           "text": [
            "Spine1"
           ],
           "type": "scatter",
           "x": [
            0.004656086827890871,
            0.002918584527786816
           ],
           "y": [
            0.17928658645089401,
            0.24555844720898212
           ]
          },
          {
           "line": {
            "color": "black",
            "width": 5
           },
           "marker": {
            "color": "blue",
            "size": 5
           },
           "text": [
            "Neck"
           ],
           "type": "scatter",
           "x": [
            0.010496622454331916,
            0.004656086827890871
           ],
           "y": [
            0.11954168949626154,
            0.17928658645089401
           ]
          },
          {
           "line": {
            "color": "black",
            "width": 5
           },
           "marker": {
            "color": "blue",
            "size": 5
           },
           "text": [
            "Head"
           ],
           "type": "scatter",
           "x": [
            0.011758464089104859,
            0.010496622454331916
           ],
           "y": [
            0.0935740225014211,
            0.11954168949626154
           ]
          },
          {
           "line": {
            "color": "black",
            "width": 5
           },
           "marker": {
            "color": "blue",
            "size": 5
           },
           "text": [
            "Site"
           ],
           "type": "scatter",
           "x": [
            0.010529370218315348,
            0.011758464089104859
           ],
           "y": [
            0.07252750347313275,
            0.0935740225014211
           ]
          },
          {
           "line": {
            "color": "black",
            "width": 5
           },
           "marker": {
            "color": "blue",
            "size": 5
           },
           "text": [
            "LShoulder"
           ],
           "type": "scatter",
           "x": [
            -0.04635925299633625,
            0.010496622454331916
           ],
           "y": [
            0.13466485409717366,
            0.11954168949626154
           ]
          },
          {
           "line": {
            "color": "black",
            "width": 5
           },
           "marker": {
            "color": "blue",
            "size": 5
           },
           "text": [
            "LElbow"
           ],
           "type": "scatter",
           "x": [
            -0.06389679234468315,
            -0.04635925299633625
           ],
           "y": [
            0.2512980349856129,
            0.13466485409717366
           ]
          },
          {
           "line": {
            "color": "black",
            "width": 5
           },
           "marker": {
            "color": "blue",
            "size": 5
           },
           "text": [
            "LWrist"
           ],
           "type": "scatter",
           "x": [
            -0.07119060267210098,
            -0.06389679234468315
           ],
           "y": [
            0.26930503541098516,
            0.2512980349856129
           ]
          },
          {
           "line": {
            "color": "red",
            "width": 5
           },
           "marker": {
            "color": "blue",
            "size": 5
           },
           "text": [
            "RShoulder"
           ],
           "type": "scatter",
           "x": [
            0.0588840619233888,
            0.010496622454331916
           ],
           "y": [
            0.1412026239747446,
            0.11954168949626154
           ]
          },
          {
           "line": {
            "color": "red",
            "width": 5
           },
           "marker": {
            "color": "blue",
            "size": 5
           },
           "text": [
            "RElbow"
           ],
           "type": "scatter",
           "x": [
            0.06813723875263222,
            0.0588840619233888
           ],
           "y": [
            0.26496159843848455,
            0.1412026239747446
           ]
          },
          {
           "line": {
            "color": "red",
            "width": 5
           },
           "marker": {
            "color": "blue",
            "size": 5
           },
           "text": [
            "RWrist"
           ],
           "type": "scatter",
           "x": [
            0.07200082786599471,
            0.06813723875263222
           ],
           "y": [
            0.28442275490375524,
            0.26496159843848455
           ]
          },
          {
           "line": {
            "color": "#1f77b4",
            "width": 1
           },
           "marker": {
            "color": "#1f77b4",
            "size": 1
           },
           "type": "scatter",
           "x": [
            -0.01420320428666244,
            -0.009122337390714996,
            -0.005050386465429546,
            -0.015456630886367728,
            -0.009625030808619428,
            -0.0072014758747925844,
            -0.014568474759633299
           ],
           "y": [
            0.168896721361546,
            0.1786693631436178,
            0.18477714474009765,
            0.19266154578907035,
            0.20625479908567446,
            0.21540433170048134,
            0.2300486347335957
           ]
          }
         ],
         "name": "frame8"
        },
        {
         "data": [
          {
           "line": {
            "color": "red",
            "width": 5
           },
           "marker": {
            "color": "blue",
            "size": 5
           },
           "text": [
            "RHip"
           ],
           "type": "scatter",
           "x": [
            0.03064303533322832,
            0.001134361061107203
           ],
           "y": [
            0.2951172289367898,
            0.2651330218548176
           ]
          },
          {
           "line": {
            "color": "red",
            "width": 5
           },
           "marker": {
            "color": "blue",
            "size": 5
           },
           "text": [
            "RKnee"
           ],
           "type": "scatter",
           "x": [
            0.023824438107612478,
            0.03064303533322832
           ],
           "y": [
            0.3908140209176101,
            0.2951172289367898
           ]
          },
          {
           "line": {
            "color": "red",
            "width": 5
           },
           "marker": {
            "color": "blue",
            "size": 5
           },
           "text": [
            "RAnkle"
           ],
           "type": "scatter",
           "x": [
            0.01990316180367513,
            0.023824438107612478
           ],
           "y": [
            0.48877796802363105,
            0.3908140209176101
           ]
          },
          {
           "line": {
            "color": "black",
            "width": 5
           },
           "marker": {
            "color": "blue",
            "size": 5
           },
           "text": [
            "LHip"
           ],
           "type": "scatter",
           "x": [
            -0.023983575133921797,
            0.001134361061107203
           ],
           "y": [
            0.29993711854727434,
            0.2651330218548176
           ]
          },
          {
           "line": {
            "color": "black",
            "width": 5
           },
           "marker": {
            "color": "blue",
            "size": 5
           },
           "text": [
            "LKnee"
           ],
           "type": "scatter",
           "x": [
            -0.016862823690219075,
            -0.023983575133921797
           ],
           "y": [
            0.4113904789806999,
            0.29993711854727434
           ]
          },
          {
           "line": {
            "color": "black",
            "width": 5
           },
           "marker": {
            "color": "blue",
            "size": 5
           },
           "text": [
            "LAnkle"
           ],
           "type": "scatter",
           "x": [
            -0.020126713581579248,
            -0.016862823690219075
           ],
           "y": [
            0.5534545783070484,
            0.4113904789806999
           ]
          },
          {
           "line": {
            "color": "black",
            "width": 5
           },
           "marker": {
            "color": "blue",
            "size": 5
           },
           "text": [
            "Spine1"
           ],
           "type": "scatter",
           "x": [
            0.0014839932877095396,
            0.001134361061107203
           ],
           "y": [
            0.19415502230094062,
            0.2651330218548176
           ]
          },
          {
           "line": {
            "color": "black",
            "width": 5
           },
           "marker": {
            "color": "blue",
            "size": 5
           },
           "text": [
            "Neck"
           ],
           "type": "scatter",
           "x": [
            0.005380018316597512,
            0.0014839932877095396
           ],
           "y": [
            0.13000366130900787,
            0.19415502230094062
           ]
          },
          {
           "line": {
            "color": "black",
            "width": 5
           },
           "marker": {
            "color": "blue",
            "size": 5
           },
           "text": [
            "Head"
           ],
           "type": "scatter",
           "x": [
            0.005337842757109135,
            0.005380018316597512
           ],
           "y": [
            0.10218557559437991,
            0.13000366130900787
           ]
          },
          {
           "line": {
            "color": "black",
            "width": 5
           },
           "marker": {
            "color": "blue",
            "size": 5
           },
           "text": [
            "Site"
           ],
           "type": "scatter",
           "x": [
            0.0009895704458344756,
            0.005337842757109135
           ],
           "y": [
            0.07990516272771386,
            0.10218557559437991
           ]
          },
          {
           "line": {
            "color": "black",
            "width": 5
           },
           "marker": {
            "color": "blue",
            "size": 5
           },
           "text": [
            "LShoulder"
           ],
           "type": "scatter",
           "x": [
            -0.05511651304849219,
            0.005380018316597512
           ],
           "y": [
            0.14875351214235744,
            0.13000366130900787
           ]
          },
          {
           "line": {
            "color": "black",
            "width": 5
           },
           "marker": {
            "color": "blue",
            "size": 5
           },
           "text": [
            "LElbow"
           ],
           "type": "scatter",
           "x": [
            -0.06584173226560652,
            -0.05511651304849219
           ],
           "y": [
            0.27191008452207743,
            0.14875351214235744
           ]
          },
          {
           "line": {
            "color": "black",
            "width": 5
           },
           "marker": {
            "color": "blue",
            "size": 5
           },
           "text": [
            "LWrist"
           ],
           "type": "scatter",
           "x": [
            -0.07289503874583514,
            -0.06584173226560652
           ],
           "y": [
            0.2908822306135064,
            0.27191008452207743
           ]
          },
          {
           "line": {
            "color": "red",
            "width": 5
           },
           "marker": {
            "color": "blue",
            "size": 5
           },
           "text": [
            "RShoulder"
           ],
           "type": "scatter",
           "x": [
            0.05610974533375512,
            0.005380018316597512
           ],
           "y": [
            0.15165364228983658,
            0.13000366130900787
           ]
          },
          {
           "line": {
            "color": "red",
            "width": 5
           },
           "marker": {
            "color": "blue",
            "size": 5
           },
           "text": [
            "RElbow"
           ],
           "type": "scatter",
           "x": [
            0.07984936430337775,
            0.05610974533375512
           ],
           "y": [
            0.28508249994570467,
            0.15165364228983658
           ]
          },
          {
           "line": {
            "color": "red",
            "width": 5
           },
           "marker": {
            "color": "blue",
            "size": 5
           },
           "text": [
            "RWrist"
           ],
           "type": "scatter",
           "x": [
            0.08541475712244173,
            0.07984936430337775
           ],
           "y": [
            0.3055769496946825,
            0.28508249994570467
           ]
          },
          {
           "line": {
            "color": "#1f77b4",
            "width": 1
           },
           "marker": {
            "color": "#1f77b4",
            "size": 1
           },
           "type": "scatter",
           "x": [
            -0.01420320428666244,
            -0.009122337390714996,
            -0.005050386465429546,
            -0.015456630886367728,
            -0.009625030808619428,
            -0.0072014758747925844,
            -0.014568474759633299,
            0.002918584527786816
           ],
           "y": [
            0.168896721361546,
            0.1786693631436178,
            0.18477714474009765,
            0.19266154578907035,
            0.20625479908567446,
            0.21540433170048134,
            0.2300486347335957,
            0.24555844720898212
           ]
          }
         ],
         "name": "frame9"
        },
        {
         "data": [
          {
           "line": {
            "color": "red",
            "width": 5
           },
           "marker": {
            "color": "blue",
            "size": 5
           },
           "text": [
            "RHip"
           ],
           "type": "scatter",
           "x": [
            0.011509814146343667,
            -0.01727584325395648
           ],
           "y": [
            0.3172925175976302,
            0.28209143127200265
           ]
          },
          {
           "line": {
            "color": "red",
            "width": 5
           },
           "marker": {
            "color": "blue",
            "size": 5
           },
           "text": [
            "RKnee"
           ],
           "type": "scatter",
           "x": [
            0.0013815147844620235,
            0.011509814146343667
           ],
           "y": [
            0.43980046217465896,
            0.3172925175976302
           ]
          },
          {
           "line": {
            "color": "red",
            "width": 5
           },
           "marker": {
            "color": "blue",
            "size": 5
           },
           "text": [
            "RAnkle"
           ],
           "type": "scatter",
           "x": [
            0.0021516263135972213,
            0.0013815147844620235
           ],
           "y": [
            0.5768985073749473,
            0.43980046217465896
           ]
          },
          {
           "line": {
            "color": "black",
            "width": 5
           },
           "marker": {
            "color": "blue",
            "size": 5
           },
           "text": [
            "LHip"
           ],
           "type": "scatter",
           "x": [
            -0.04763277207014016,
            -0.01727584325395648
           ],
           "y": [
            0.3170306747688678,
            0.28209143127200265
           ]
          },
          {
           "line": {
            "color": "black",
            "width": 5
           },
           "marker": {
            "color": "blue",
            "size": 5
           },
           "text": [
            "LKnee"
           ],
           "type": "scatter",
           "x": [
            -0.030007741825264,
            -0.04763277207014016
           ],
           "y": [
            0.43834027831809164,
            0.3170306747688678
           ]
          },
          {
           "line": {
            "color": "black",
            "width": 5
           },
           "marker": {
            "color": "blue",
            "size": 5
           },
           "text": [
            "LAnkle"
           ],
           "type": "scatter",
           "x": [
            -0.01962986599129868,
            -0.030007741825264
           ],
           "y": [
            0.5526537076887736,
            0.43834027831809164
           ]
          },
          {
           "line": {
            "color": "black",
            "width": 5
           },
           "marker": {
            "color": "blue",
            "size": 5
           },
           "text": [
            "Spine1"
           ],
           "type": "scatter",
           "x": [
            -0.01950500776117603,
            -0.01727584325395648
           ],
           "y": [
            0.205779712050578,
            0.28209143127200265
           ]
          },
          {
           "line": {
            "color": "black",
            "width": 5
           },
           "marker": {
            "color": "blue",
            "size": 5
           },
           "text": [
            "Neck"
           ],
           "type": "scatter",
           "x": [
            -0.018556435491941636,
            -0.01950500776117603
           ],
           "y": [
            0.13625311309538835,
            0.205779712050578
           ]
          },
          {
           "line": {
            "color": "black",
            "width": 5
           },
           "marker": {
            "color": "blue",
            "size": 5
           },
           "text": [
            "Head"
           ],
           "type": "scatter",
           "x": [
            -0.01882946352034731,
            -0.018556435491941636
           ],
           "y": [
            0.10648685734665142,
            0.13625311309538835
           ]
          },
          {
           "line": {
            "color": "black",
            "width": 5
           },
           "marker": {
            "color": "blue",
            "size": 5
           },
           "text": [
            "Site"
           ],
           "type": "scatter",
           "x": [
            -0.021843162891006962,
            -0.01882946352034731
           ],
           "y": [
            0.08341891471264429,
            0.10648685734665142
           ]
          },
          {
           "line": {
            "color": "black",
            "width": 5
           },
           "marker": {
            "color": "blue",
            "size": 5
           },
           "text": [
            "LShoulder"
           ],
           "type": "scatter",
           "x": [
            -0.08217811869373326,
            -0.018556435491941636
           ],
           "y": [
            0.15890501169952498,
            0.13625311309538835
           ]
          },
          {
           "line": {
            "color": "black",
            "width": 5
           },
           "marker": {
            "color": "blue",
            "size": 5
           },
           "text": [
            "LElbow"
           ],
           "type": "scatter",
           "x": [
            -0.1066510859607479,
            -0.08217811869373326
           ],
           "y": [
            0.28849534218867934,
            0.15890501169952498
           ]
          },
          {
           "line": {
            "color": "black",
            "width": 5
           },
           "marker": {
            "color": "blue",
            "size": 5
           },
           "text": [
            "LWrist"
           ],
           "type": "scatter",
           "x": [
            -0.11688210983925595,
            -0.1066510859607479
           ],
           "y": [
            0.3043859004892029,
            0.28849534218867934
           ]
          },
          {
           "line": {
            "color": "red",
            "width": 5
           },
           "marker": {
            "color": "blue",
            "size": 5
           },
           "text": [
            "RShoulder"
           ],
           "type": "scatter",
           "x": [
            0.03882757170952811,
            -0.018556435491941636
           ],
           "y": [
            0.1579898094719191,
            0.13625311309538835
           ]
          },
          {
           "line": {
            "color": "red",
            "width": 5
           },
           "marker": {
            "color": "blue",
            "size": 5
           },
           "text": [
            "RElbow"
           ],
           "type": "scatter",
           "x": [
            0.05323313920913719,
            0.03882757170952811
           ],
           "y": [
            0.30051221508454184,
            0.1579898094719191
           ]
          },
          {
           "line": {
            "color": "red",
            "width": 5
           },
           "marker": {
            "color": "blue",
            "size": 5
           },
           "text": [
            "RWrist"
           ],
           "type": "scatter",
           "x": [
            0.05768048705154216,
            0.05323313920913719
           ],
           "y": [
            0.3231645522427864,
            0.30051221508454184
           ]
          },
          {
           "line": {
            "color": "#1f77b4",
            "width": 1
           },
           "marker": {
            "color": "#1f77b4",
            "size": 1
           },
           "type": "scatter",
           "x": [
            -0.01420320428666244,
            -0.009122337390714996,
            -0.005050386465429546,
            -0.015456630886367728,
            -0.009625030808619428,
            -0.0072014758747925844,
            -0.014568474759633299,
            0.002918584527786816,
            0.001134361061107203
           ],
           "y": [
            0.168896721361546,
            0.1786693631436178,
            0.18477714474009765,
            0.19266154578907035,
            0.20625479908567446,
            0.21540433170048134,
            0.2300486347335957,
            0.24555844720898212,
            0.2651330218548176
           ]
          }
         ],
         "name": "frame10"
        },
        {
         "data": [
          {
           "line": {
            "color": "red",
            "width": 5
           },
           "marker": {
            "color": "blue",
            "size": 5
           },
           "text": [
            "RHip"
           ],
           "type": "scatter",
           "x": [
            0.0244309896951449,
            -0.008902432248442893
           ],
           "y": [
            0.344679639511261,
            0.30792095064559644
           ]
          },
          {
           "line": {
            "color": "red",
            "width": 5
           },
           "marker": {
            "color": "blue",
            "size": 5
           },
           "text": [
            "RKnee"
           ],
           "type": "scatter",
           "x": [
            0.000757091276621491,
            0.0244309896951449
           ],
           "y": [
            0.4800583407661059,
            0.344679639511261
           ]
          },
          {
           "line": {
            "color": "red",
            "width": 5
           },
           "marker": {
            "color": "blue",
            "size": 5
           },
           "text": [
            "RAnkle"
           ],
           "type": "scatter",
           "x": [
            -0.0007136546402998212,
            0.000757091276621491
           ],
           "y": [
            0.6237180366898525,
            0.4800583407661059
           ]
          },
          {
           "line": {
            "color": "black",
            "width": 5
           },
           "marker": {
            "color": "blue",
            "size": 5
           },
           "text": [
            "LHip"
           ],
           "type": "scatter",
           "x": [
            -0.04000994660660362,
            -0.008902432248442893
           ],
           "y": [
            0.34807592359804684,
            0.30792095064559644
           ]
          },
          {
           "line": {
            "color": "black",
            "width": 5
           },
           "marker": {
            "color": "blue",
            "size": 5
           },
           "text": [
            "LKnee"
           ],
           "type": "scatter",
           "x": [
            -0.041578551089659355,
            -0.04000994660660362
           ],
           "y": [
            0.48279703975488,
            0.34807592359804684
           ]
          },
          {
           "line": {
            "color": "black",
            "width": 5
           },
           "marker": {
            "color": "blue",
            "size": 5
           },
           "text": [
            "LAnkle"
           ],
           "type": "scatter",
           "x": [
            -0.03056657200024593,
            -0.041578551089659355
           ],
           "y": [
            0.5340073168743864,
            0.48279703975488
           ]
          },
          {
           "line": {
            "color": "black",
            "width": 5
           },
           "marker": {
            "color": "blue",
            "size": 5
           },
           "text": [
            "Spine1"
           ],
           "type": "scatter",
           "x": [
            -0.00777833032981301,
            -0.008902432248442893
           ],
           "y": [
            0.22377466457986106,
            0.30792095064559644
           ]
          },
          {
           "line": {
            "color": "black",
            "width": 5
           },
           "marker": {
            "color": "blue",
            "size": 5
           },
           "text": [
            "Neck"
           ],
           "type": "scatter",
           "x": [
            -0.0010717760361226292,
            -0.00777833032981301
           ],
           "y": [
            0.1487284058721695,
            0.22377466457986106
           ]
          },
          {
           "line": {
            "color": "black",
            "width": 5
           },
           "marker": {
            "color": "blue",
            "size": 5
           },
           "text": [
            "Head"
           ],
           "type": "scatter",
           "x": [
            0.0003594579635390893,
            -0.0010717760361226292
           ],
           "y": [
            0.11655193541659459,
            0.1487284058721695
           ]
          },
          {
           "line": {
            "color": "black",
            "width": 5
           },
           "marker": {
            "color": "blue",
            "size": 5
           },
           "text": [
            "Site"
           ],
           "type": "scatter",
           "x": [
            -0.001933056293922819,
            0.0003594579635390893
           ],
           "y": [
            0.0927504850813321,
            0.11655193541659459
           ]
          },
          {
           "line": {
            "color": "black",
            "width": 5
           },
           "marker": {
            "color": "blue",
            "size": 5
           },
           "text": [
            "LShoulder"
           ],
           "type": "scatter",
           "x": [
            -0.07212767234375672,
            -0.0010717760361226292
           ],
           "y": [
            0.16811656584457335,
            0.1487284058721695
           ]
          },
          {
           "line": {
            "color": "black",
            "width": 5
           },
           "marker": {
            "color": "blue",
            "size": 5
           },
           "text": [
            "LElbow"
           ],
           "type": "scatter",
           "x": [
            -0.08458751356664163,
            -0.07212767234375672
           ],
           "y": [
            0.31691892420443035,
            0.16811656584457335
           ]
          },
          {
           "line": {
            "color": "black",
            "width": 5
           },
           "marker": {
            "color": "blue",
            "size": 5
           },
           "text": [
            "LWrist"
           ],
           "type": "scatter",
           "x": [
            -0.09128040962075379,
            -0.08458751356664163
           ],
           "y": [
            0.3398316226164375,
            0.31691892420443035
           ]
          },
          {
           "line": {
            "color": "red",
            "width": 5
           },
           "marker": {
            "color": "blue",
            "size": 5
           },
           "text": [
            "RShoulder"
           ],
           "type": "scatter",
           "x": [
            0.05934400276685459,
            -0.0010717760361226292
           ],
           "y": [
            0.17502077094070023,
            0.1487284058721695
           ]
          },
          {
           "line": {
            "color": "red",
            "width": 5
           },
           "marker": {
            "color": "blue",
            "size": 5
           },
           "text": [
            "RElbow"
           ],
           "type": "scatter",
           "x": [
            0.07587514112038951,
            0.05934400276685459
           ],
           "y": [
            0.3309965952081515,
            0.17502077094070023
           ]
          },
          {
           "line": {
            "color": "red",
            "width": 5
           },
           "marker": {
            "color": "blue",
            "size": 5
           },
           "text": [
            "RWrist"
           ],
           "type": "scatter",
           "x": [
            0.08134110200465172,
            0.07587514112038951
           ],
           "y": [
            0.35559176440023177,
            0.3309965952081515
           ]
          },
          {
           "line": {
            "color": "#1f77b4",
            "width": 1
           },
           "marker": {
            "color": "#1f77b4",
            "size": 1
           },
           "type": "scatter",
           "x": [
            -0.01420320428666244,
            -0.009122337390714996,
            -0.005050386465429546,
            -0.015456630886367728,
            -0.009625030808619428,
            -0.0072014758747925844,
            -0.014568474759633299,
            0.002918584527786816,
            0.001134361061107203,
            -0.01727584325395648
           ],
           "y": [
            0.168896721361546,
            0.1786693631436178,
            0.18477714474009765,
            0.19266154578907035,
            0.20625479908567446,
            0.21540433170048134,
            0.2300486347335957,
            0.24555844720898212,
            0.2651330218548176,
            0.28209143127200265
           ]
          }
         ],
         "name": "frame11"
        },
        {
         "data": [
          {
           "line": {
            "color": "red",
            "width": 5
           },
           "marker": {
            "color": "blue",
            "size": 5
           },
           "text": [
            "RHip"
           ],
           "type": "scatter",
           "x": [
            0.0213047049057713,
            -0.017960655099532596
           ],
           "y": [
            0.3624612125361464,
            0.32705438099457207
           ]
          },
          {
           "line": {
            "color": "red",
            "width": 5
           },
           "marker": {
            "color": "blue",
            "size": 5
           },
           "text": [
            "RKnee"
           ],
           "type": "scatter",
           "x": [
            0.007755801627151726,
            0.0213047049057713
           ],
           "y": [
            0.49398269356975244,
            0.3624612125361464
           ]
          },
          {
           "line": {
            "color": "red",
            "width": 5
           },
           "marker": {
            "color": "blue",
            "size": 5
           },
           "text": [
            "RAnkle"
           ],
           "type": "scatter",
           "x": [
            -0.0018371440546157691,
            0.007755801627151726
           ],
           "y": [
            0.6186957773832222,
            0.49398269356975244
           ]
          },
          {
           "line": {
            "color": "black",
            "width": 5
           },
           "marker": {
            "color": "blue",
            "size": 5
           },
           "text": [
            "LHip"
           ],
           "type": "scatter",
           "x": [
            -0.04524546942660179,
            -0.017960655099532596
           ],
           "y": [
            0.37370382861625195,
            0.32705438099457207
           ]
          },
          {
           "line": {
            "color": "black",
            "width": 5
           },
           "marker": {
            "color": "blue",
            "size": 5
           },
           "text": [
            "LKnee"
           ],
           "type": "scatter",
           "x": [
            -0.03441792077000905,
            -0.04524546942660179
           ],
           "y": [
            0.5213940918046116,
            0.37370382861625195
           ]
          },
          {
           "line": {
            "color": "black",
            "width": 5
           },
           "marker": {
            "color": "blue",
            "size": 5
           },
           "text": [
            "LAnkle"
           ],
           "type": "scatter",
           "x": [
            -0.06266207864899687,
            -0.03441792077000905
           ],
           "y": [
            0.7034334804469613,
            0.5213940918046116
           ]
          },
          {
           "line": {
            "color": "black",
            "width": 5
           },
           "marker": {
            "color": "blue",
            "size": 5
           },
           "text": [
            "Spine1"
           ],
           "type": "scatter",
           "x": [
            -0.01824508015807713,
            -0.017960655099532596
           ],
           "y": [
            0.23721287820967163,
            0.32705438099457207
           ]
          },
          {
           "line": {
            "color": "black",
            "width": 5
           },
           "marker": {
            "color": "blue",
            "size": 5
           },
           "text": [
            "Neck"
           ],
           "type": "scatter",
           "x": [
            -0.017358499936427352,
            -0.01824508015807713
           ],
           "y": [
            0.15639151357855885,
            0.23721287820967163
           ]
          },
          {
           "line": {
            "color": "black",
            "width": 5
           },
           "marker": {
            "color": "blue",
            "size": 5
           },
           "text": [
            "Head"
           ],
           "type": "scatter",
           "x": [
            -0.014528367276317566,
            -0.017358499936427352
           ],
           "y": [
            0.12177409338151646,
            0.15639151357855885
           ]
          },
          {
           "line": {
            "color": "black",
            "width": 5
           },
           "marker": {
            "color": "blue",
            "size": 5
           },
           "text": [
            "Site"
           ],
           "type": "scatter",
           "x": [
            -0.00989777341743514,
            -0.014528367276317566
           ],
           "y": [
            0.09401947237288866,
            0.12177409338151646
           ]
          },
          {
           "line": {
            "color": "black",
            "width": 5
           },
           "marker": {
            "color": "blue",
            "size": 5
           },
           "text": [
            "LShoulder"
           ],
           "type": "scatter",
           "x": [
            -0.08951438768364872,
            -0.017358499936427352
           ],
           "y": [
            0.18161951237130702,
            0.15639151357855885
           ]
          },
          {
           "line": {
            "color": "black",
            "width": 5
           },
           "marker": {
            "color": "blue",
            "size": 5
           },
           "text": [
            "LElbow"
           ],
           "type": "scatter",
           "x": [
            -0.11175478461661403,
            -0.08951438768364872
           ],
           "y": [
            0.3403065575448436,
            0.18161951237130702
           ]
          },
          {
           "line": {
            "color": "black",
            "width": 5
           },
           "marker": {
            "color": "blue",
            "size": 5
           },
           "text": [
            "LWrist"
           ],
           "type": "scatter",
           "x": [
            -0.120923632745081,
            -0.11175478461661403
           ],
           "y": [
            0.36521125721960446,
            0.3403065575448436
           ]
          },
          {
           "line": {
            "color": "red",
            "width": 5
           },
           "marker": {
            "color": "blue",
            "size": 5
           },
           "text": [
            "RShoulder"
           ],
           "type": "scatter",
           "x": [
            0.051303725439962644,
            -0.017358499936427352
           ],
           "y": [
            0.1809846317215602,
            0.15639151357855885
           ]
          },
          {
           "line": {
            "color": "red",
            "width": 5
           },
           "marker": {
            "color": "blue",
            "size": 5
           },
           "text": [
            "RElbow"
           ],
           "type": "scatter",
           "x": [
            0.08094627801243015,
            0.051303725439962644
           ],
           "y": [
            0.3417373354033646,
            0.1809846317215602
           ]
          },
          {
           "line": {
            "color": "red",
            "width": 5
           },
           "marker": {
            "color": "blue",
            "size": 5
           },
           "text": [
            "RWrist"
           ],
           "type": "scatter",
           "x": [
            0.08925529782029429,
            0.08094627801243015
           ],
           "y": [
            0.3656262690447425,
            0.3417373354033646
           ]
          },
          {
           "line": {
            "color": "#1f77b4",
            "width": 1
           },
           "marker": {
            "color": "#1f77b4",
            "size": 1
           },
           "type": "scatter",
           "x": [
            -0.01420320428666244,
            -0.009122337390714996,
            -0.005050386465429546,
            -0.015456630886367728,
            -0.009625030808619428,
            -0.0072014758747925844,
            -0.014568474759633299,
            0.002918584527786816,
            0.001134361061107203,
            -0.01727584325395648,
            -0.008902432248442893
           ],
           "y": [
            0.168896721361546,
            0.1786693631436178,
            0.18477714474009765,
            0.19266154578907035,
            0.20625479908567446,
            0.21540433170048134,
            0.2300486347335957,
            0.24555844720898212,
            0.2651330218548176,
            0.28209143127200265,
            0.30792095064559644
           ]
          }
         ],
         "name": "frame12"
        }
       ],
       "layout": {
        "autosize": false,
        "height": 700,
        "sliders": [
         {
          "currentvalue": {
           "font": {
            "size": 12
           },
           "prefix": "slice: ",
           "visible": true,
           "xanchor": "center"
          },
          "len": 1,
          "steps": [
           {
            "args": [
             [
              "frame1"
             ],
             {
              "frame": {
               "duration": 70,
               "redraw": true
              },
              "mode": "immediate",
              "transition": {
               "duration": 0
              }
             }
            ],
            "label": "1",
            "method": "animate"
           },
           {
            "args": [
             [
              "frame2"
             ],
             {
              "frame": {
               "duration": 70,
               "redraw": true
              },
              "mode": "immediate",
              "transition": {
               "duration": 0
              }
             }
            ],
            "label": "2",
            "method": "animate"
           },
           {
            "args": [
             [
              "frame3"
             ],
             {
              "frame": {
               "duration": 70,
               "redraw": true
              },
              "mode": "immediate",
              "transition": {
               "duration": 0
              }
             }
            ],
            "label": "3",
            "method": "animate"
           },
           {
            "args": [
             [
              "frame4"
             ],
             {
              "frame": {
               "duration": 70,
               "redraw": true
              },
              "mode": "immediate",
              "transition": {
               "duration": 0
              }
             }
            ],
            "label": "4",
            "method": "animate"
           },
           {
            "args": [
             [
              "frame5"
             ],
             {
              "frame": {
               "duration": 70,
               "redraw": true
              },
              "mode": "immediate",
              "transition": {
               "duration": 0
              }
             }
            ],
            "label": "5",
            "method": "animate"
           },
           {
            "args": [
             [
              "frame6"
             ],
             {
              "frame": {
               "duration": 70,
               "redraw": true
              },
              "mode": "immediate",
              "transition": {
               "duration": 0
              }
             }
            ],
            "label": "6",
            "method": "animate"
           },
           {
            "args": [
             [
              "frame7"
             ],
             {
              "frame": {
               "duration": 70,
               "redraw": true
              },
              "mode": "immediate",
              "transition": {
               "duration": 0
              }
             }
            ],
            "label": "7",
            "method": "animate"
           },
           {
            "args": [
             [
              "frame8"
             ],
             {
              "frame": {
               "duration": 70,
               "redraw": true
              },
              "mode": "immediate",
              "transition": {
               "duration": 0
              }
             }
            ],
            "label": "8",
            "method": "animate"
           },
           {
            "args": [
             [
              "frame9"
             ],
             {
              "frame": {
               "duration": 70,
               "redraw": true
              },
              "mode": "immediate",
              "transition": {
               "duration": 0
              }
             }
            ],
            "label": "9",
            "method": "animate"
           },
           {
            "args": [
             [
              "frame10"
             ],
             {
              "frame": {
               "duration": 70,
               "redraw": true
              },
              "mode": "immediate",
              "transition": {
               "duration": 0
              }
             }
            ],
            "label": "10",
            "method": "animate"
           },
           {
            "args": [
             [
              "frame11"
             ],
             {
              "frame": {
               "duration": 70,
               "redraw": true
              },
              "mode": "immediate",
              "transition": {
               "duration": 0
              }
             }
            ],
            "label": "11",
            "method": "animate"
           },
           {
            "args": [
             [
              "frame12"
             ],
             {
              "frame": {
               "duration": 70,
               "redraw": true
              },
              "mode": "immediate",
              "transition": {
               "duration": 0
              }
             }
            ],
            "label": "12",
            "method": "animate"
           }
          ],
          "transition": {
           "duration": 0
          },
          "x": 0,
          "y": 0
         }
        ],
        "title": {
         "text": "action animation"
        },
        "updatemenus": [
         {
          "buttons": [
           {
            "args": [
             null
            ],
            "label": "Play",
            "method": "animate"
           }
          ],
          "pad": {
           "r": 10,
           "t": 0
          },
          "showactive": false,
          "type": "buttons",
          "x": 1.3,
          "xanchor": "right",
          "y": 1,
          "yanchor": "top"
         }
        ],
        "width": 800,
        "xaxis": {
         "autorange": false,
         "range": [
          -1,
          1
         ]
        },
        "yaxis": {
         "autorange": false,
         "range": [
          1,
          -1
         ]
        }
       }
      },
      "text/html": [
       "<div>\n",
       "        \n",
       "        \n",
       "            <div id=\"780e75bf-faf0-40d5-bad5-291e666f48c5\" class=\"plotly-graph-div\" style=\"height:700px; width:800px;\"></div>\n",
       "            <script type=\"text/javascript\">\n",
       "                require([\"plotly\"], function(Plotly) {\n",
       "                    window.PLOTLYENV=window.PLOTLYENV || {};\n",
       "                    window.PLOTLYENV.BASE_URL='https://plot.ly';\n",
       "                    \n",
       "                if (document.getElementById(\"780e75bf-faf0-40d5-bad5-291e666f48c5\")) {\n",
       "                    Plotly.newPlot(\n",
       "                        '780e75bf-faf0-40d5-bad5-291e666f48c5',\n",
       "                        [{\"line\": {\"color\": \"red\", \"width\": 5}, \"marker\": {\"color\": \"blue\", \"size\": 5}, \"text\": [\"RHip\"], \"type\": \"scatter\", \"uid\": \"7daa22fd-93c1-4e8e-86b6-c7d57404c1f2\", \"x\": [0.002830106391929599, -0.01420320428666244], \"y\": [0.18883989517940003, 0.168896721361546]}, {\"line\": {\"color\": \"red\", \"width\": 5}, \"marker\": {\"color\": \"blue\", \"size\": 5}, \"text\": [\"RKnee\"], \"type\": \"scatter\", \"uid\": \"edf3b6d8-f1ab-4926-9c06-54dd4d2a6b05\", \"x\": [0.0010804021263099983, 0.002830106391929599], \"y\": [0.2583041451913992, 0.18883989517940003]}, {\"line\": {\"color\": \"red\", \"width\": 5}, \"marker\": {\"color\": \"blue\", \"size\": 5}, \"text\": [\"RAnkle\"], \"type\": \"scatter\", \"uid\": \"d915b18b-309b-4975-8117-81091cb38d12\", \"x\": [0.0, 0.0010804021263099983], \"y\": [0.3125, 0.2583041451913992]}, {\"line\": {\"color\": \"black\", \"width\": 5}, \"marker\": {\"color\": \"blue\", \"size\": 5}, \"text\": [\"LHip\"], \"type\": \"scatter\", \"uid\": \"4e14ad59-0f57-4410-b16d-6cea7b59be5b\", \"x\": [-0.03148737256136669, -0.01420320428666244], \"y\": [0.18931448330765233, 0.168896721361546]}, {\"line\": {\"color\": \"black\", \"width\": 5}, \"marker\": {\"color\": \"blue\", \"size\": 5}, \"text\": [\"LKnee\"], \"type\": \"scatter\", \"uid\": \"31239d89-9c7e-4091-bf9a-90fed6bd7ae8\", \"x\": [-0.023458384088579698, -0.03148737256136669], \"y\": [0.25958146572657714, 0.18931448330765233]}, {\"line\": {\"color\": \"black\", \"width\": 5}, \"marker\": {\"color\": \"blue\", \"size\": 5}, \"text\": [\"LAnkle\"], \"type\": \"scatter\", \"uid\": \"3be5fd11-2045-4f84-a5c8-18b77b24639b\", \"x\": [-0.01923468387448568, -0.023458384088579698], \"y\": [0.33397060681200275, 0.25958146572657714]}, {\"line\": {\"color\": \"black\", \"width\": 5}, \"marker\": {\"color\": \"blue\", \"size\": 5}, \"text\": [\"Spine1\"], \"type\": \"scatter\", \"uid\": \"94158fd8-e46b-4f4b-90d1-5bf5e206d2d8\", \"x\": [-0.01689933795305476, -0.01420320428666244], \"y\": [0.12470545583085857, 0.168896721361546]}, {\"line\": {\"color\": \"black\", \"width\": 5}, \"marker\": {\"color\": \"blue\", \"size\": 5}, \"text\": [\"Neck\"], \"type\": \"scatter\", \"uid\": \"51ed6d36-4ab7-4131-8e01-a63e51bc14e4\", \"x\": [-0.020152992155446747, -0.01689933795305476], \"y\": [0.08432955045287538, 0.12470545583085857]}, {\"line\": {\"color\": \"black\", \"width\": 5}, \"marker\": {\"color\": \"blue\", \"size\": 5}, \"text\": [\"Head\"], \"type\": \"scatter\", \"uid\": \"f3a19ea2-0bd6-41cf-a232-4438fed57811\", \"x\": [-0.019127928789310134, -0.020152992155446747], \"y\": [0.06690607686210226, 0.08432955045287538]}, {\"line\": {\"color\": \"black\", \"width\": 5}, \"marker\": {\"color\": \"blue\", \"size\": 5}, \"text\": [\"Site\"], \"type\": \"scatter\", \"uid\": \"ba83974d-26aa-40a0-82db-fba2a631b192\", \"x\": [-0.01730881749873081, -0.019127928789310134], \"y\": [0.053000383017145936, 0.06690607686210226]}, {\"line\": {\"color\": \"black\", \"width\": 5}, \"marker\": {\"color\": \"blue\", \"size\": 5}, \"text\": [\"LShoulder\"], \"type\": \"scatter\", \"uid\": \"0d888b8c-d57e-4160-ae1e-d741f229fe4c\", \"x\": [-0.05541379343738306, -0.020152992155446747], \"y\": [0.10021626581148735, 0.08432955045287538]}, {\"line\": {\"color\": \"black\", \"width\": 5}, \"marker\": {\"color\": \"blue\", \"size\": 5}, \"text\": [\"LElbow\"], \"type\": \"scatter\", \"uid\": \"0ece16b7-5fef-4196-bcd3-21c4518069f6\", \"x\": [-0.0676475134671849, -0.05541379343738306], \"y\": [0.1758330876039429, 0.10021626581148735]}, {\"line\": {\"color\": \"black\", \"width\": 5}, \"marker\": {\"color\": \"blue\", \"size\": 5}, \"text\": [\"LWrist\"], \"type\": \"scatter\", \"uid\": \"67644baa-938d-40ad-96e5-18c879374f06\", \"x\": [-0.07426639515756217, -0.0676475134671849], \"y\": [0.18590721545295796, 0.1758330876039429]}, {\"line\": {\"color\": \"red\", \"width\": 5}, \"marker\": {\"color\": \"blue\", \"size\": 5}, \"text\": [\"RShoulder\"], \"type\": \"scatter\", \"uid\": \"c87e0a34-5067-4d5d-9591-6b19a6d38513\", \"x\": [0.014919541451528628, -0.020152992155446747], \"y\": [0.0945581882993558, 0.08432955045287538]}, {\"line\": {\"color\": \"red\", \"width\": 5}, \"marker\": {\"color\": \"blue\", \"size\": 5}, \"text\": [\"RElbow\"], \"type\": \"scatter\", \"uid\": \"f10eeb77-32a0-4d14-9ecf-95a55c1ed76a\", \"x\": [0.03224919168069218, 0.014919541451528628], \"y\": [0.17462556531073292, 0.0945581882993558]}, {\"line\": {\"color\": \"red\", \"width\": 5}, \"marker\": {\"color\": \"blue\", \"size\": 5}, \"text\": [\"RWrist\"], \"type\": \"scatter\", \"uid\": \"12233083-80b5-463f-8cd9-70bafdb588b5\", \"x\": [0.03525254323163707, 0.03224919168069218], \"y\": [0.18729072311954442, 0.17462556531073292]}, {\"line\": {\"color\": \"#1f77b4\", \"width\": 1}, \"marker\": {\"color\": \"#1f77b4\", \"size\": 1}, \"type\": \"scatter\", \"uid\": \"2fba2c35-7f61-49b7-925f-ebb7b5c5aae5\", \"x\": [], \"y\": []}],\n",
       "                        {\"autosize\": false, \"height\": 700, \"sliders\": [{\"currentvalue\": {\"font\": {\"size\": 12}, \"prefix\": \"slice: \", \"visible\": true, \"xanchor\": \"center\"}, \"len\": 1.0, \"steps\": [{\"args\": [[\"frame1\"], {\"frame\": {\"duration\": 70, \"redraw\": true}, \"mode\": \"immediate\", \"transition\": {\"duration\": 0}}], \"label\": \"1\", \"method\": \"animate\"}, {\"args\": [[\"frame2\"], {\"frame\": {\"duration\": 70, \"redraw\": true}, \"mode\": \"immediate\", \"transition\": {\"duration\": 0}}], \"label\": \"2\", \"method\": \"animate\"}, {\"args\": [[\"frame3\"], {\"frame\": {\"duration\": 70, \"redraw\": true}, \"mode\": \"immediate\", \"transition\": {\"duration\": 0}}], \"label\": \"3\", \"method\": \"animate\"}, {\"args\": [[\"frame4\"], {\"frame\": {\"duration\": 70, \"redraw\": true}, \"mode\": \"immediate\", \"transition\": {\"duration\": 0}}], \"label\": \"4\", \"method\": \"animate\"}, {\"args\": [[\"frame5\"], {\"frame\": {\"duration\": 70, \"redraw\": true}, \"mode\": \"immediate\", \"transition\": {\"duration\": 0}}], \"label\": \"5\", \"method\": \"animate\"}, {\"args\": [[\"frame6\"], {\"frame\": {\"duration\": 70, \"redraw\": true}, \"mode\": \"immediate\", \"transition\": {\"duration\": 0}}], \"label\": \"6\", \"method\": \"animate\"}, {\"args\": [[\"frame7\"], {\"frame\": {\"duration\": 70, \"redraw\": true}, \"mode\": \"immediate\", \"transition\": {\"duration\": 0}}], \"label\": \"7\", \"method\": \"animate\"}, {\"args\": [[\"frame8\"], {\"frame\": {\"duration\": 70, \"redraw\": true}, \"mode\": \"immediate\", \"transition\": {\"duration\": 0}}], \"label\": \"8\", \"method\": \"animate\"}, {\"args\": [[\"frame9\"], {\"frame\": {\"duration\": 70, \"redraw\": true}, \"mode\": \"immediate\", \"transition\": {\"duration\": 0}}], \"label\": \"9\", \"method\": \"animate\"}, {\"args\": [[\"frame10\"], {\"frame\": {\"duration\": 70, \"redraw\": true}, \"mode\": \"immediate\", \"transition\": {\"duration\": 0}}], \"label\": \"10\", \"method\": \"animate\"}, {\"args\": [[\"frame11\"], {\"frame\": {\"duration\": 70, \"redraw\": true}, \"mode\": \"immediate\", \"transition\": {\"duration\": 0}}], \"label\": \"11\", \"method\": \"animate\"}, {\"args\": [[\"frame12\"], {\"frame\": {\"duration\": 70, \"redraw\": true}, \"mode\": \"immediate\", \"transition\": {\"duration\": 0}}], \"label\": \"12\", \"method\": \"animate\"}], \"transition\": {\"duration\": 0}, \"x\": 0, \"y\": 0}], \"title\": {\"text\": \"action animation\"}, \"updatemenus\": [{\"buttons\": [{\"args\": [null], \"label\": \"Play\", \"method\": \"animate\"}], \"pad\": {\"r\": 10, \"t\": 0}, \"showactive\": false, \"type\": \"buttons\", \"x\": 1.3, \"xanchor\": \"right\", \"y\": 1, \"yanchor\": \"top\"}], \"width\": 800, \"xaxis\": {\"autorange\": false, \"range\": [-1, 1]}, \"yaxis\": {\"autorange\": false, \"range\": [1, -1]}},\n",
       "                        {\"linkText\": \"Export to plot.ly\", \"showLink\": false, \"plotlyServerURL\": \"https://plot.ly\", \"responsive\": true}\n",
       "                    ).then(function(){\n",
       "                            Plotly.addFrames('780e75bf-faf0-40d5-bad5-291e666f48c5', [{\"data\": [{\"text\": [\"RHip\"], \"x\": [0.002830106391929599, -0.01420320428666244], \"type\": \"scatter\", \"y\": [0.18883989517940003, 0.168896721361546], \"marker\": {\"color\": \"blue\", \"size\": 5}, \"line\": {\"color\": \"red\", \"width\": 5}}, {\"text\": [\"RKnee\"], \"x\": [0.0010804021263099983, 0.002830106391929599], \"type\": \"scatter\", \"y\": [0.2583041451913992, 0.18883989517940003], \"marker\": {\"color\": \"blue\", \"size\": 5}, \"line\": {\"color\": \"red\", \"width\": 5}}, {\"text\": [\"RAnkle\"], \"x\": [0.0, 0.0010804021263099983], \"type\": \"scatter\", \"y\": [0.3125, 0.2583041451913992], \"marker\": {\"color\": \"blue\", \"size\": 5}, \"line\": {\"color\": \"red\", \"width\": 5}}, {\"text\": [\"LHip\"], \"x\": [-0.03148737256136669, -0.01420320428666244], \"type\": \"scatter\", \"y\": [0.18931448330765233, 0.168896721361546], \"marker\": {\"color\": \"blue\", \"size\": 5}, \"line\": {\"color\": \"black\", \"width\": 5}}, {\"text\": [\"LKnee\"], \"x\": [-0.023458384088579698, -0.03148737256136669], \"type\": \"scatter\", \"y\": [0.25958146572657714, 0.18931448330765233], \"marker\": {\"color\": \"blue\", \"size\": 5}, \"line\": {\"color\": \"black\", \"width\": 5}}, {\"text\": [\"LAnkle\"], \"x\": [-0.01923468387448568, -0.023458384088579698], \"type\": \"scatter\", \"y\": [0.33397060681200275, 0.25958146572657714], \"marker\": {\"color\": \"blue\", \"size\": 5}, \"line\": {\"color\": \"black\", \"width\": 5}}, {\"text\": [\"Spine1\"], \"x\": [-0.01689933795305476, -0.01420320428666244], \"type\": \"scatter\", \"y\": [0.12470545583085857, 0.168896721361546], \"marker\": {\"color\": \"blue\", \"size\": 5}, \"line\": {\"color\": \"black\", \"width\": 5}}, {\"text\": [\"Neck\"], \"x\": [-0.020152992155446747, -0.01689933795305476], \"type\": \"scatter\", \"y\": [0.08432955045287538, 0.12470545583085857], \"marker\": {\"color\": \"blue\", \"size\": 5}, \"line\": {\"color\": \"black\", \"width\": 5}}, {\"text\": [\"Head\"], \"x\": [-0.019127928789310134, -0.020152992155446747], \"type\": \"scatter\", \"y\": [0.06690607686210226, 0.08432955045287538], \"marker\": {\"color\": \"blue\", \"size\": 5}, \"line\": {\"color\": \"black\", \"width\": 5}}, {\"text\": [\"Site\"], \"x\": [-0.01730881749873081, -0.019127928789310134], \"type\": \"scatter\", \"y\": [0.053000383017145936, 0.06690607686210226], \"marker\": {\"color\": \"blue\", \"size\": 5}, \"line\": {\"color\": \"black\", \"width\": 5}}, {\"text\": [\"LShoulder\"], \"x\": [-0.05541379343738306, -0.020152992155446747], \"type\": \"scatter\", \"y\": [0.10021626581148735, 0.08432955045287538], \"marker\": {\"color\": \"blue\", \"size\": 5}, \"line\": {\"color\": \"black\", \"width\": 5}}, {\"text\": [\"LElbow\"], \"x\": [-0.0676475134671849, -0.05541379343738306], \"type\": \"scatter\", \"y\": [0.1758330876039429, 0.10021626581148735], \"marker\": {\"color\": \"blue\", \"size\": 5}, \"line\": {\"color\": \"black\", \"width\": 5}}, {\"text\": [\"LWrist\"], \"x\": [-0.07426639515756217, -0.0676475134671849], \"type\": \"scatter\", \"y\": [0.18590721545295796, 0.1758330876039429], \"marker\": {\"color\": \"blue\", \"size\": 5}, \"line\": {\"color\": \"black\", \"width\": 5}}, {\"text\": [\"RShoulder\"], \"x\": [0.014919541451528628, -0.020152992155446747], \"type\": \"scatter\", \"y\": [0.0945581882993558, 0.08432955045287538], \"marker\": {\"color\": \"blue\", \"size\": 5}, \"line\": {\"color\": \"red\", \"width\": 5}}, {\"text\": [\"RElbow\"], \"x\": [0.03224919168069218, 0.014919541451528628], \"type\": \"scatter\", \"y\": [0.17462556531073292, 0.0945581882993558], \"marker\": {\"color\": \"blue\", \"size\": 5}, \"line\": {\"color\": \"red\", \"width\": 5}}, {\"text\": [\"RWrist\"], \"x\": [0.03525254323163707, 0.03224919168069218], \"type\": \"scatter\", \"y\": [0.18729072311954442, 0.17462556531073292], \"marker\": {\"color\": \"blue\", \"size\": 5}, \"line\": {\"color\": \"red\", \"width\": 5}}, {\"y\": [], \"marker\": {\"color\": \"#1f77b4\", \"size\": 1}, \"type\": \"scatter\", \"x\": [], \"line\": {\"color\": \"#1f77b4\", \"width\": 1}}], \"name\": \"frame1\"}, {\"data\": [{\"text\": [\"RHip\"], \"x\": [0.009588367526442987, -0.009122337390714996], \"type\": \"scatter\", \"y\": [0.1986031330977669, 0.1786693631436178], \"marker\": {\"color\": \"blue\", \"size\": 5}, \"line\": {\"color\": \"red\", \"width\": 5}}, {\"text\": [\"RKnee\"], \"x\": [0.002549829404408399, 0.009588367526442987], \"type\": \"scatter\", \"y\": [0.2702004298242928, 0.1986031330977669], \"marker\": {\"color\": \"blue\", \"size\": 5}, \"line\": {\"color\": \"red\", \"width\": 5}}, {\"text\": [\"RAnkle\"], \"x\": [0.003139787363527713, 0.002549829404408399], \"type\": \"scatter\", \"y\": [0.3590006751579282, 0.2702004298242928], \"marker\": {\"color\": \"blue\", \"size\": 5}, \"line\": {\"color\": \"red\", \"width\": 5}}, {\"text\": [\"LHip\"], \"x\": [-0.026188707262453703, -0.009122337390714996], \"type\": \"scatter\", \"y\": [0.20088192266878369, 0.1786693631436178], \"marker\": {\"color\": \"blue\", \"size\": 5}, \"line\": {\"color\": \"black\", \"width\": 5}}, {\"text\": [\"LKnee\"], \"x\": [-0.021207873204577843, -0.026188707262453703], \"type\": \"scatter\", \"y\": [0.26810321918971436, 0.20088192266878369], \"marker\": {\"color\": \"blue\", \"size\": 5}, \"line\": {\"color\": \"black\", \"width\": 5}}, {\"text\": [\"LAnkle\"], \"x\": [-0.019439557679078234, -0.021207873204577843], \"type\": \"scatter\", \"y\": [0.322666952266101, 0.26810321918971436], \"marker\": {\"color\": \"blue\", \"size\": 5}, \"line\": {\"color\": \"black\", \"width\": 5}}, {\"text\": [\"Spine1\"], \"x\": [-0.009457664285109635, -0.009122337390714996], \"type\": \"scatter\", \"y\": [0.13211593875013272, 0.1786693631436178], \"marker\": {\"color\": \"blue\", \"size\": 5}, \"line\": {\"color\": \"black\", \"width\": 5}}, {\"text\": [\"Neck\"], \"x\": [-0.00900193617947398, -0.009457664285109635], \"type\": \"scatter\", \"y\": [0.0902381740096031, 0.13211593875013272], \"marker\": {\"color\": \"blue\", \"size\": 5}, \"line\": {\"color\": \"black\", \"width\": 5}}, {\"text\": [\"Head\"], \"x\": [-0.00895268066995547, -0.00900193617947398], \"type\": \"scatter\", \"y\": [0.07188492146855574, 0.0902381740096031], \"marker\": {\"color\": \"blue\", \"size\": 5}, \"line\": {\"color\": \"black\", \"width\": 5}}, {\"text\": [\"Site\"], \"x\": [-0.007742107572898171, -0.00895268066995547], \"type\": \"scatter\", \"y\": [0.0544327828915534, 0.07188492146855574], \"marker\": {\"color\": \"blue\", \"size\": 5}, \"line\": {\"color\": \"black\", \"width\": 5}}, {\"text\": [\"LShoulder\"], \"x\": [-0.04595185104496535, -0.00900193617947398], \"type\": \"scatter\", \"y\": [0.1019317595114193, 0.0902381740096031], \"marker\": {\"color\": \"blue\", \"size\": 5}, \"line\": {\"color\": \"black\", \"width\": 5}}, {\"text\": [\"LElbow\"], \"x\": [-0.06342357318508474, -0.04595185104496535], \"type\": \"scatter\", \"y\": [0.1809925078635939, 0.1019317595114193], \"marker\": {\"color\": \"blue\", \"size\": 5}, \"line\": {\"color\": \"black\", \"width\": 5}}, {\"text\": [\"LWrist\"], \"x\": [-0.06958892638942482, -0.06342357318508474], \"type\": \"scatter\", \"y\": [0.19203838470525358, 0.1809925078635939], \"marker\": {\"color\": \"blue\", \"size\": 5}, \"line\": {\"color\": \"black\", \"width\": 5}}, {\"text\": [\"RShoulder\"], \"x\": [0.028176011514393418, -0.00900193617947398], \"type\": \"scatter\", \"y\": [0.10465738787432832, 0.0902381740096031], \"marker\": {\"color\": \"blue\", \"size\": 5}, \"line\": {\"color\": \"red\", \"width\": 5}}, {\"text\": [\"RElbow\"], \"x\": [0.03426722625728851, 0.028176011514393418], \"type\": \"scatter\", \"y\": [0.18985700973834907, 0.10465738787432832], \"marker\": {\"color\": \"blue\", \"size\": 5}, \"line\": {\"color\": \"red\", \"width\": 5}}, {\"text\": [\"RWrist\"], \"x\": [0.0363505849545529, 0.03426722625728851], \"type\": \"scatter\", \"y\": [0.2034506800220347, 0.18985700973834907], \"marker\": {\"color\": \"blue\", \"size\": 5}, \"line\": {\"color\": \"red\", \"width\": 5}}, {\"y\": [0.168896721361546], \"marker\": {\"color\": \"#1f77b4\", \"size\": 1}, \"type\": \"scatter\", \"x\": [-0.01420320428666244], \"line\": {\"color\": \"#1f77b4\", \"width\": 1}}], \"name\": \"frame2\"}, {\"data\": [{\"text\": [\"RHip\"], \"x\": [0.015027674788469003, -0.005050386465429546], \"type\": \"scatter\", \"y\": [0.20513171412859665, 0.18477714474009765], \"marker\": {\"color\": \"blue\", \"size\": 5}, \"line\": {\"color\": \"red\", \"width\": 5}}, {\"text\": [\"RKnee\"], \"x\": [0.005225698711891713, 0.015027674788469003], \"type\": \"scatter\", \"y\": [0.27912924947804685, 0.20513171412859665], \"marker\": {\"color\": \"blue\", \"size\": 5}, \"line\": {\"color\": \"red\", \"width\": 5}}, {\"text\": [\"RAnkle\"], \"x\": [0.0005020024535533629, 0.005225698711891713], \"type\": \"scatter\", \"y\": [0.3564546640598987, 0.27912924947804685], \"marker\": {\"color\": \"blue\", \"size\": 5}, \"line\": {\"color\": \"red\", \"width\": 5}}, {\"text\": [\"LHip\"], \"x\": [-0.022337024234013292, -0.005050386465429546], \"type\": \"scatter\", \"y\": [0.2082815792688475, 0.18477714474009765], \"marker\": {\"color\": \"blue\", \"size\": 5}, \"line\": {\"color\": \"black\", \"width\": 5}}, {\"text\": [\"LKnee\"], \"x\": [-0.01859020263941713, -0.022337024234013292], \"type\": \"scatter\", \"y\": [0.28011795726580924, 0.2082815792688475], \"marker\": {\"color\": \"blue\", \"size\": 5}, \"line\": {\"color\": \"black\", \"width\": 5}}, {\"text\": [\"LAnkle\"], \"x\": [-0.015633009220501926, -0.01859020263941713], \"type\": \"scatter\", \"y\": [0.3760507476602244, 0.28011795726580924], \"marker\": {\"color\": \"blue\", \"size\": 5}, \"line\": {\"color\": \"black\", \"width\": 5}}, {\"text\": [\"Spine1\"], \"x\": [-0.0024387822483014077, -0.005050386465429546], \"type\": \"scatter\", \"y\": [0.13679616091479807, 0.18477714474009765], \"marker\": {\"color\": \"blue\", \"size\": 5}, \"line\": {\"color\": \"black\", \"width\": 5}}, {\"text\": [\"Neck\"], \"x\": [-0.0018651167259617907, -0.0024387822483014077], \"type\": \"scatter\", \"y\": [0.09284562851210032, 0.13679616091479807], \"marker\": {\"color\": \"blue\", \"size\": 5}, \"line\": {\"color\": \"black\", \"width\": 5}}, {\"text\": [\"Head\"], \"x\": [-0.0023833042635104107, -0.0018651167259617907], \"type\": \"scatter\", \"y\": [0.07354019035002257, 0.09284562851210032], \"marker\": {\"color\": \"blue\", \"size\": 5}, \"line\": {\"color\": \"black\", \"width\": 5}}, {\"text\": [\"Site\"], \"x\": [-0.00421433494240131, -0.0023833042635104107], \"type\": \"scatter\", \"y\": [0.05613748739718272, 0.07354019035002257], \"marker\": {\"color\": \"blue\", \"size\": 5}, \"line\": {\"color\": \"black\", \"width\": 5}}, {\"text\": [\"LShoulder\"], \"x\": [-0.04229292151421249, -0.0018651167259617907], \"type\": \"scatter\", \"y\": [0.10706359420836853, 0.09284562851210032], \"marker\": {\"color\": \"blue\", \"size\": 5}, \"line\": {\"color\": \"black\", \"width\": 5}}, {\"text\": [\"LElbow\"], \"x\": [-0.04788405161909848, -0.04229292151421249], \"type\": \"scatter\", \"y\": [0.18837819017110868, 0.10706359420836853], \"marker\": {\"color\": \"blue\", \"size\": 5}, \"line\": {\"color\": \"black\", \"width\": 5}}, {\"text\": [\"LWrist\"], \"x\": [-0.05202043368127285, -0.04788405161909848], \"type\": \"scatter\", \"y\": [0.20124763242912314, 0.18837819017110868], \"marker\": {\"color\": \"blue\", \"size\": 5}, \"line\": {\"color\": \"black\", \"width\": 5}}, {\"text\": [\"RShoulder\"], \"x\": [0.03516806949041995, -0.0018651167259617907], \"type\": \"scatter\", \"y\": [0.10719725101811495, 0.09284562851210032], \"marker\": {\"color\": \"blue\", \"size\": 5}, \"line\": {\"color\": \"red\", \"width\": 5}}, {\"text\": [\"RElbow\"], \"x\": [0.051232230629386866, 0.03516806949041995], \"type\": \"scatter\", \"y\": [0.1966156996029227, 0.10719725101811495], \"marker\": {\"color\": \"blue\", \"size\": 5}, \"line\": {\"color\": \"red\", \"width\": 5}}, {\"text\": [\"RWrist\"], \"x\": [0.05390202736283656, 0.051232230629386866], \"type\": \"scatter\", \"y\": [0.2097146592555953, 0.1966156996029227], \"marker\": {\"color\": \"blue\", \"size\": 5}, \"line\": {\"color\": \"red\", \"width\": 5}}, {\"y\": [0.168896721361546, 0.1786693631436178], \"marker\": {\"color\": \"#1f77b4\", \"size\": 1}, \"type\": \"scatter\", \"x\": [-0.01420320428666244, -0.009122337390714996], \"line\": {\"color\": \"#1f77b4\", \"width\": 1}}], \"name\": \"frame3\"}, {\"data\": [{\"text\": [\"RHip\"], \"x\": [0.003902001924620313, -0.015456630886367728], \"type\": \"scatter\", \"y\": [0.2161840155568331, 0.19266154578907035], \"marker\": {\"color\": \"blue\", \"size\": 5}, \"line\": {\"color\": \"red\", \"width\": 5}}, {\"text\": [\"RKnee\"], \"x\": [0.00130400852229684, 0.003902001924620313], \"type\": \"scatter\", \"y\": [0.29771709924847767, 0.2161840155568331], \"marker\": {\"color\": \"blue\", \"size\": 5}, \"line\": {\"color\": \"red\", \"width\": 5}}, {\"text\": [\"RAnkle\"], \"x\": [-0.0035786989183990148, 0.00130400852229684], \"type\": \"scatter\", \"y\": [0.35718482041829214, 0.29771709924847767], \"marker\": {\"color\": \"blue\", \"size\": 5}, \"line\": {\"color\": \"red\", \"width\": 5}}, {\"text\": [\"LHip\"], \"x\": [-0.0358166048072347, -0.015456630886367728], \"type\": \"scatter\", \"y\": [0.21595614319141299, 0.19266154578907035], \"marker\": {\"color\": \"blue\", \"size\": 5}, \"line\": {\"color\": \"black\", \"width\": 5}}, {\"text\": [\"LKnee\"], \"x\": [-0.026037653954211537, -0.0358166048072347], \"type\": \"scatter\", \"y\": [0.29749584029769705, 0.21595614319141299], \"marker\": {\"color\": \"blue\", \"size\": 5}, \"line\": {\"color\": \"black\", \"width\": 5}}, {\"text\": [\"LAnkle\"], \"x\": [-0.022589417317086857, -0.026037653954211537], \"type\": \"scatter\", \"y\": [0.3843653612758138, 0.29749584029769705], \"marker\": {\"color\": \"blue\", \"size\": 5}, \"line\": {\"color\": \"black\", \"width\": 5}}, {\"text\": [\"Spine1\"], \"x\": [-0.017925475651942024, -0.015456630886367728], \"type\": \"scatter\", \"y\": [0.1413673209748303, 0.19266154578907035], \"marker\": {\"color\": \"blue\", \"size\": 5}, \"line\": {\"color\": \"black\", \"width\": 5}}, {\"text\": [\"Neck\"], \"x\": [-0.019306486793163935, -0.017925475651942024], \"type\": \"scatter\", \"y\": [0.09467316746667476, 0.1413673209748303], \"marker\": {\"color\": \"blue\", \"size\": 5}, \"line\": {\"color\": \"black\", \"width\": 5}}, {\"text\": [\"Head\"], \"x\": [-0.02023142328467764, -0.019306486793163935], \"type\": \"scatter\", \"y\": [0.0743631847377213, 0.09467316746667476], \"marker\": {\"color\": \"blue\", \"size\": 5}, \"line\": {\"color\": \"black\", \"width\": 5}}, {\"text\": [\"Site\"], \"x\": [-0.022175053027856828, -0.02023142328467764], \"type\": \"scatter\", \"y\": [0.05706789755307384, 0.0743631847377213], \"marker\": {\"color\": \"blue\", \"size\": 5}, \"line\": {\"color\": \"black\", \"width\": 5}}, {\"text\": [\"LShoulder\"], \"x\": [-0.061033376888241286, -0.019306486793163935], \"type\": \"scatter\", \"y\": [0.11097269353666372, 0.09467316746667476], \"marker\": {\"color\": \"blue\", \"size\": 5}, \"line\": {\"color\": \"black\", \"width\": 5}}, {\"text\": [\"LElbow\"], \"x\": [-0.07544617367443007, -0.061033376888241286], \"type\": \"scatter\", \"y\": [0.2016321334526131, 0.11097269353666372], \"marker\": {\"color\": \"blue\", \"size\": 5}, \"line\": {\"color\": \"black\", \"width\": 5}}, {\"text\": [\"LWrist\"], \"x\": [-0.08206213279364027, -0.07544617367443007], \"type\": \"scatter\", \"y\": [0.21443128027535197, 0.2016321334526131], \"marker\": {\"color\": \"blue\", \"size\": 5}, \"line\": {\"color\": \"black\", \"width\": 5}}, {\"text\": [\"RShoulder\"], \"x\": [0.02027718033306436, -0.019306486793163935], \"type\": \"scatter\", \"y\": [0.10796033426279616, 0.09467316746667476], \"marker\": {\"color\": \"blue\", \"size\": 5}, \"line\": {\"color\": \"red\", \"width\": 5}}, {\"text\": [\"RElbow\"], \"x\": [0.03477613961997883, 0.02027718033306436], \"type\": \"scatter\", \"y\": [0.20202196079667123, 0.10796033426279616], \"marker\": {\"color\": \"blue\", \"size\": 5}, \"line\": {\"color\": \"red\", \"width\": 5}}, {\"text\": [\"RWrist\"], \"x\": [0.03795565568374726, 0.03477613961997883], \"type\": \"scatter\", \"y\": [0.21697619591512995, 0.20202196079667123], \"marker\": {\"color\": \"blue\", \"size\": 5}, \"line\": {\"color\": \"red\", \"width\": 5}}, {\"y\": [0.168896721361546, 0.1786693631436178, 0.18477714474009765], \"marker\": {\"color\": \"#1f77b4\", \"size\": 1}, \"type\": \"scatter\", \"x\": [-0.01420320428666244, -0.009122337390714996, -0.005050386465429546], \"line\": {\"color\": \"#1f77b4\", \"width\": 1}}], \"name\": \"frame4\"}, {\"data\": [{\"text\": [\"RHip\"], \"x\": [0.012333477386820668, -0.009625030808619428], \"type\": \"scatter\", \"y\": [0.22982077637999743, 0.20625479908567446], \"marker\": {\"color\": \"blue\", \"size\": 5}, \"line\": {\"color\": \"red\", \"width\": 5}}, {\"text\": [\"RKnee\"], \"x\": [0.0020148903437386956, 0.012333477386820668], \"type\": \"scatter\", \"y\": [0.3145718666674169, 0.22982077637999743], \"marker\": {\"color\": \"blue\", \"size\": 5}, \"line\": {\"color\": \"red\", \"width\": 5}}, {\"text\": [\"RAnkle\"], \"x\": [0.003074149990412778, 0.0020148903437386956], \"type\": \"scatter\", \"y\": [0.4168027783148598, 0.3145718666674169], \"marker\": {\"color\": \"blue\", \"size\": 5}, \"line\": {\"color\": \"red\", \"width\": 5}}, {\"text\": [\"LHip\"], \"x\": [-0.02983474077421777, -0.009625030808619428], \"type\": \"scatter\", \"y\": [0.231995847856718, 0.20625479908567446], \"marker\": {\"color\": \"blue\", \"size\": 5}, \"line\": {\"color\": \"black\", \"width\": 5}}, {\"text\": [\"LKnee\"], \"x\": [-0.023813280038863738, -0.02983474077421777], \"type\": \"scatter\", \"y\": [0.3145348493422184, 0.231995847856718], \"marker\": {\"color\": \"blue\", \"size\": 5}, \"line\": {\"color\": \"black\", \"width\": 5}}, {\"text\": [\"LAnkle\"], \"x\": [-0.02154133921349788, -0.023813280038863738], \"type\": \"scatter\", \"y\": [0.36788382920051155, 0.3145348493422184], \"marker\": {\"color\": \"blue\", \"size\": 5}, \"line\": {\"color\": \"black\", \"width\": 5}}, {\"text\": [\"Spine1\"], \"x\": [-0.008710285592113065, -0.009625030808619428], \"type\": \"scatter\", \"y\": [0.15173442166392948, 0.20625479908567446], \"marker\": {\"color\": \"blue\", \"size\": 5}, \"line\": {\"color\": \"black\", \"width\": 5}}, {\"text\": [\"Neck\"], \"x\": [-0.005739763976915335, -0.008710285592113065], \"type\": \"scatter\", \"y\": [0.10217972046230339, 0.15173442166392948], \"marker\": {\"color\": \"blue\", \"size\": 5}, \"line\": {\"color\": \"black\", \"width\": 5}}, {\"text\": [\"Head\"], \"x\": [-0.005547478296244579, -0.005739763976915335], \"type\": \"scatter\", \"y\": [0.08087101077076542, 0.10217972046230339], \"marker\": {\"color\": \"blue\", \"size\": 5}, \"line\": {\"color\": \"black\", \"width\": 5}}, {\"text\": [\"Site\"], \"x\": [-0.007004083629394087, -0.005547478296244579], \"type\": \"scatter\", \"y\": [0.06446199009856313, 0.08087101077076542], \"marker\": {\"color\": \"blue\", \"size\": 5}, \"line\": {\"color\": \"black\", \"width\": 5}}, {\"text\": [\"LShoulder\"], \"x\": [-0.05171148942214765, -0.005739763976915335], \"type\": \"scatter\", \"y\": [0.11606330380946961, 0.10217972046230339], \"marker\": {\"color\": \"blue\", \"size\": 5}, \"line\": {\"color\": \"black\", \"width\": 5}}, {\"text\": [\"LElbow\"], \"x\": [-0.07933507187285205, -0.05171148942214765], \"type\": \"scatter\", \"y\": [0.20709086078719885, 0.11606330380946961], \"marker\": {\"color\": \"blue\", \"size\": 5}, \"line\": {\"color\": \"black\", \"width\": 5}}, {\"text\": [\"LWrist\"], \"x\": [-0.08832742259105086, -0.07933507187285205], \"type\": \"scatter\", \"y\": [0.2198371048016703, 0.20709086078719885], \"marker\": {\"color\": \"blue\", \"size\": 5}, \"line\": {\"color\": \"black\", \"width\": 5}}, {\"text\": [\"RShoulder\"], \"x\": [0.03522870250443644, -0.005739763976915335], \"type\": \"scatter\", \"y\": [0.11996757143252812, 0.10217972046230339], \"marker\": {\"color\": \"blue\", \"size\": 5}, \"line\": {\"color\": \"red\", \"width\": 5}}, {\"text\": [\"RElbow\"], \"x\": [0.046607111882977836, 0.03522870250443644], \"type\": \"scatter\", \"y\": [0.22030764361580812, 0.11996757143252812], \"marker\": {\"color\": \"blue\", \"size\": 5}, \"line\": {\"color\": \"red\", \"width\": 5}}, {\"text\": [\"RWrist\"], \"x\": [0.04994544964166936, 0.046607111882977836], \"type\": \"scatter\", \"y\": [0.23622806453154666, 0.22030764361580812], \"marker\": {\"color\": \"blue\", \"size\": 5}, \"line\": {\"color\": \"red\", \"width\": 5}}, {\"y\": [0.168896721361546, 0.1786693631436178, 0.18477714474009765, 0.19266154578907035], \"marker\": {\"color\": \"#1f77b4\", \"size\": 1}, \"type\": \"scatter\", \"x\": [-0.01420320428666244, -0.009122337390714996, -0.005050386465429546, -0.015456630886367728], \"line\": {\"color\": \"#1f77b4\", \"width\": 1}}], \"name\": \"frame5\"}, {\"data\": [{\"text\": [\"RHip\"], \"x\": [0.017291138201791956, -0.0072014758747925844], \"type\": \"scatter\", \"y\": [0.23961914347810187, 0.21540433170048134], \"marker\": {\"color\": \"blue\", \"size\": 5}, \"line\": {\"color\": \"red\", \"width\": 5}}, {\"text\": [\"RKnee\"], \"x\": [0.010223481297902737, 0.017291138201791956], \"type\": \"scatter\", \"y\": [0.3183984680735581, 0.23961914347810187], \"marker\": {\"color\": \"blue\", \"size\": 5}, \"line\": {\"color\": \"red\", \"width\": 5}}, {\"text\": [\"RAnkle\"], \"x\": [0.0020215458745265202, 0.010223481297902737], \"type\": \"scatter\", \"y\": [0.4098209779400972, 0.3183984680735581], \"marker\": {\"color\": \"blue\", \"size\": 5}, \"line\": {\"color\": \"red\", \"width\": 5}}, {\"text\": [\"LHip\"], \"x\": [-0.027335858638810828, -0.0072014758747925844], \"type\": \"scatter\", \"y\": [0.24394690233435534, 0.21540433170048134], \"marker\": {\"color\": \"blue\", \"size\": 5}, \"line\": {\"color\": \"black\", \"width\": 5}}, {\"text\": [\"LKnee\"], \"x\": [-0.021575094426708352, -0.027335858638810828], \"type\": \"scatter\", \"y\": [0.3334974847732779, 0.24394690233435534], \"marker\": {\"color\": \"blue\", \"size\": 5}, \"line\": {\"color\": \"black\", \"width\": 5}}, {\"text\": [\"LAnkle\"], \"x\": [-0.024407907423017905, -0.021575094426708352], \"type\": \"scatter\", \"y\": [0.4500297218401079, 0.3334974847732779], \"marker\": {\"color\": \"blue\", \"size\": 5}, \"line\": {\"color\": \"black\", \"width\": 5}}, {\"text\": [\"Spine1\"], \"x\": [-0.004389576335269263, -0.0072014758747925844], \"type\": \"scatter\", \"y\": [0.15761520249923033, 0.21540433170048134], \"marker\": {\"color\": \"blue\", \"size\": 5}, \"line\": {\"color\": \"black\", \"width\": 5}}, {\"text\": [\"Neck\"], \"x\": [-0.004247778273601233, -0.004389576335269263], \"type\": \"scatter\", \"y\": [0.10491550275522832, 0.15761520249923033], \"marker\": {\"color\": \"blue\", \"size\": 5}, \"line\": {\"color\": \"black\", \"width\": 5}}, {\"text\": [\"Head\"], \"x\": [-0.005054806940452794, -0.004247778273601233], \"type\": \"scatter\", \"y\": [0.08203629786279265, 0.10491550275522832], \"marker\": {\"color\": \"blue\", \"size\": 5}, \"line\": {\"color\": \"black\", \"width\": 5}}, {\"text\": [\"Site\"], \"x\": [-0.007426980547988515, -0.005054806940452794], \"type\": \"scatter\", \"y\": [0.06324035027234931, 0.08203629786279265], \"marker\": {\"color\": \"blue\", \"size\": 5}, \"line\": {\"color\": \"black\", \"width\": 5}}, {\"text\": [\"LShoulder\"], \"x\": [-0.05220072931886466, -0.004247778273601233], \"type\": \"scatter\", \"y\": [0.12236171926377948, 0.10491550275522832], \"marker\": {\"color\": \"blue\", \"size\": 5}, \"line\": {\"color\": \"black\", \"width\": 5}}, {\"text\": [\"LElbow\"], \"x\": [-0.05878746119461964, -0.05220072931886466], \"type\": \"scatter\", \"y\": [0.21925172125132586, 0.12236171926377948], \"marker\": {\"color\": \"blue\", \"size\": 5}, \"line\": {\"color\": \"black\", \"width\": 5}}, {\"text\": [\"LWrist\"], \"x\": [-0.06363516937467217, -0.05878746119461964], \"type\": \"scatter\", \"y\": [0.23438748926148567, 0.21925172125132586], \"marker\": {\"color\": \"blue\", \"size\": 5}, \"line\": {\"color\": \"black\", \"width\": 5}}, {\"text\": [\"RShoulder\"], \"x\": [0.040400345637179313, -0.004247778273601233], \"type\": \"scatter\", \"y\": [0.12126729994283869, 0.10491550275522832], \"marker\": {\"color\": \"blue\", \"size\": 5}, \"line\": {\"color\": \"red\", \"width\": 5}}, {\"text\": [\"RElbow\"], \"x\": [0.05948003940618518, 0.040400345637179313], \"type\": \"scatter\", \"y\": [0.22810902350584672, 0.12126729994283869], \"marker\": {\"color\": \"blue\", \"size\": 5}, \"line\": {\"color\": \"red\", \"width\": 5}}, {\"text\": [\"RWrist\"], \"x\": [0.06362527645545502, 0.05948003940618518], \"type\": \"scatter\", \"y\": [0.2441376874794592, 0.22810902350584672], \"marker\": {\"color\": \"blue\", \"size\": 5}, \"line\": {\"color\": \"red\", \"width\": 5}}, {\"y\": [0.168896721361546, 0.1786693631436178, 0.18477714474009765, 0.19266154578907035, 0.20625479908567446], \"marker\": {\"color\": \"#1f77b4\", \"size\": 1}, \"type\": \"scatter\", \"x\": [-0.01420320428666244, -0.009122337390714996, -0.005050386465429546, -0.015456630886367728, -0.009625030808619428], \"line\": {\"color\": \"#1f77b4\", \"width\": 1}}], \"name\": \"frame6\"}, {\"data\": [{\"text\": [\"RHip\"], \"x\": [0.009526996861750847, -0.014568474759633299], \"type\": \"scatter\", \"y\": [0.2578915289999728, 0.2300486347335957], \"marker\": {\"color\": \"blue\", \"size\": 5}, \"line\": {\"color\": \"red\", \"width\": 5}}, {\"text\": [\"RKnee\"], \"x\": [0.007571925713879324, 0.009526996861750847], \"type\": \"scatter\", \"y\": [0.3553532431462496, 0.2578915289999728], \"marker\": {\"color\": \"blue\", \"size\": 5}, \"line\": {\"color\": \"red\", \"width\": 5}}, {\"text\": [\"RAnkle\"], \"x\": [0.0006393896684251388, 0.007571925713879324], \"type\": \"scatter\", \"y\": [0.45072135010323566, 0.3553532431462496], \"marker\": {\"color\": \"blue\", \"size\": 5}, \"line\": {\"color\": \"red\", \"width\": 5}}, {\"text\": [\"LHip\"], \"x\": [-0.038334309748559114, -0.014568474759633299], \"type\": \"scatter\", \"y\": [0.2586914744220239, 0.2300486347335957], \"marker\": {\"color\": \"blue\", \"size\": 5}, \"line\": {\"color\": \"black\", \"width\": 5}}, {\"text\": [\"LKnee\"], \"x\": [-0.023926308744348646, -0.038334309748559114], \"type\": \"scatter\", \"y\": [0.35719799758580084, 0.2586914744220239], \"marker\": {\"color\": \"blue\", \"size\": 5}, \"line\": {\"color\": \"black\", \"width\": 5}}, {\"text\": [\"LAnkle\"], \"x\": [-0.022209222412380214, -0.023926308744348646], \"type\": \"scatter\", \"y\": [0.4538423393709561, 0.35719799758580084], \"marker\": {\"color\": \"blue\", \"size\": 5}, \"line\": {\"color\": \"black\", \"width\": 5}}, {\"text\": [\"Spine1\"], \"x\": [-0.014888622025170384, -0.014568474759633299], \"type\": \"scatter\", \"y\": [0.1680035560164823, 0.2300486347335957], \"marker\": {\"color\": \"blue\", \"size\": 5}, \"line\": {\"color\": \"black\", \"width\": 5}}, {\"text\": [\"Neck\"], \"x\": [-0.01607469624872715, -0.014888622025170384], \"type\": \"scatter\", \"y\": [0.11176234271502972, 0.1680035560164823], \"marker\": {\"color\": \"blue\", \"size\": 5}, \"line\": {\"color\": \"black\", \"width\": 5}}, {\"text\": [\"Head\"], \"x\": [-0.016039234730524043, -0.01607469624872715], \"type\": \"scatter\", \"y\": [0.08744153137669153, 0.11176234271502972], \"marker\": {\"color\": \"blue\", \"size\": 5}, \"line\": {\"color\": \"black\", \"width\": 5}}, {\"text\": [\"Site\"], \"x\": [-0.01662748733427899, -0.016039234730524043], \"type\": \"scatter\", \"y\": [0.06779827386732329, 0.08744153137669153], \"marker\": {\"color\": \"blue\", \"size\": 5}, \"line\": {\"color\": \"black\", \"width\": 5}}, {\"text\": [\"LShoulder\"], \"x\": [-0.06665750501654044, -0.01607469624872715], \"type\": \"scatter\", \"y\": [0.13132356442619242, 0.11176234271502972], \"marker\": {\"color\": \"blue\", \"size\": 5}, \"line\": {\"color\": \"black\", \"width\": 5}}, {\"text\": [\"LElbow\"], \"x\": [-0.09495589454067, -0.06665750501654044], \"type\": \"scatter\", \"y\": [0.23563795085406514, 0.13132356442619242], \"marker\": {\"color\": \"blue\", \"size\": 5}, \"line\": {\"color\": \"black\", \"width\": 5}}, {\"text\": [\"LWrist\"], \"x\": [-0.1043652142385939, -0.09495589454067], \"type\": \"scatter\", \"y\": [0.24846597580556207, 0.23563795085406514], \"marker\": {\"color\": \"blue\", \"size\": 5}, \"line\": {\"color\": \"black\", \"width\": 5}}, {\"text\": [\"RShoulder\"], \"x\": [0.031936504434527446, -0.01607469624872715], \"type\": \"scatter\", \"y\": [0.12733277915336072, 0.11176234271502972], \"marker\": {\"color\": \"blue\", \"size\": 5}, \"line\": {\"color\": \"red\", \"width\": 5}}, {\"text\": [\"RElbow\"], \"x\": [0.04802609110962597, 0.031936504434527446], \"type\": \"scatter\", \"y\": [0.2413080154399021, 0.12733277915336072], \"marker\": {\"color\": \"blue\", \"size\": 5}, \"line\": {\"color\": \"red\", \"width\": 5}}, {\"text\": [\"RWrist\"], \"x\": [0.0524892867839859, 0.04802609110962597], \"type\": \"scatter\", \"y\": [0.2592309935271495, 0.2413080154399021], \"marker\": {\"color\": \"blue\", \"size\": 5}, \"line\": {\"color\": \"red\", \"width\": 5}}, {\"y\": [0.168896721361546, 0.1786693631436178, 0.18477714474009765, 0.19266154578907035, 0.20625479908567446, 0.21540433170048134], \"marker\": {\"color\": \"#1f77b4\", \"size\": 1}, \"type\": \"scatter\", \"x\": [-0.01420320428666244, -0.009122337390714996, -0.005050386465429546, -0.015456630886367728, -0.009625030808619428, -0.0072014758747925844], \"line\": {\"color\": \"#1f77b4\", \"width\": 1}}], \"name\": \"frame7\"}, {\"data\": [{\"text\": [\"RHip\"], \"x\": [0.030931853383081576, 0.002918584527786816], \"type\": \"scatter\", \"y\": [0.27325964759794186, 0.24555844720898212], \"marker\": {\"color\": \"blue\", \"size\": 5}, \"line\": {\"color\": \"red\", \"width\": 5}}, {\"text\": [\"RKnee\"], \"x\": [0.021834892948206175, 0.030931853383081576], \"type\": \"scatter\", \"y\": [0.37992309245443034, 0.27325964759794186], \"marker\": {\"color\": \"blue\", \"size\": 5}, \"line\": {\"color\": \"red\", \"width\": 5}}, {\"text\": [\"RAnkle\"], \"x\": [0.020932971295796188, 0.021834892948206175], \"type\": \"scatter\", \"y\": [0.4986174441064186, 0.37992309245443034], \"marker\": {\"color\": \"blue\", \"size\": 5}, \"line\": {\"color\": \"red\", \"width\": 5}}, {\"text\": [\"LHip\"], \"x\": [-0.020007004505677495, 0.002918584527786816], \"type\": \"scatter\", \"y\": [0.27842793573399294, 0.24555844720898212], \"marker\": {\"color\": \"blue\", \"size\": 5}, \"line\": {\"color\": \"black\", \"width\": 5}}, {\"text\": [\"LKnee\"], \"x\": [-0.013743662314884775, -0.020007004505677495], \"type\": \"scatter\", \"y\": [0.3842714808357488, 0.27842793573399294], \"marker\": {\"color\": \"blue\", \"size\": 5}, \"line\": {\"color\": \"black\", \"width\": 5}}, {\"text\": [\"LAnkle\"], \"x\": [-0.012138395448965, -0.013743662314884775], \"type\": \"scatter\", \"y\": [0.4361263432551561, 0.3842714808357488], \"marker\": {\"color\": \"blue\", \"size\": 5}, \"line\": {\"color\": \"black\", \"width\": 5}}, {\"text\": [\"Spine1\"], \"x\": [0.004656086827890871, 0.002918584527786816], \"type\": \"scatter\", \"y\": [0.17928658645089401, 0.24555844720898212], \"marker\": {\"color\": \"blue\", \"size\": 5}, \"line\": {\"color\": \"black\", \"width\": 5}}, {\"text\": [\"Neck\"], \"x\": [0.010496622454331916, 0.004656086827890871], \"type\": \"scatter\", \"y\": [0.11954168949626154, 0.17928658645089401], \"marker\": {\"color\": \"blue\", \"size\": 5}, \"line\": {\"color\": \"black\", \"width\": 5}}, {\"text\": [\"Head\"], \"x\": [0.011758464089104859, 0.010496622454331916], \"type\": \"scatter\", \"y\": [0.0935740225014211, 0.11954168949626154], \"marker\": {\"color\": \"blue\", \"size\": 5}, \"line\": {\"color\": \"black\", \"width\": 5}}, {\"text\": [\"Site\"], \"x\": [0.010529370218315348, 0.011758464089104859], \"type\": \"scatter\", \"y\": [0.07252750347313275, 0.0935740225014211], \"marker\": {\"color\": \"blue\", \"size\": 5}, \"line\": {\"color\": \"black\", \"width\": 5}}, {\"text\": [\"LShoulder\"], \"x\": [-0.04635925299633625, 0.010496622454331916], \"type\": \"scatter\", \"y\": [0.13466485409717366, 0.11954168949626154], \"marker\": {\"color\": \"blue\", \"size\": 5}, \"line\": {\"color\": \"black\", \"width\": 5}}, {\"text\": [\"LElbow\"], \"x\": [-0.06389679234468315, -0.04635925299633625], \"type\": \"scatter\", \"y\": [0.2512980349856129, 0.13466485409717366], \"marker\": {\"color\": \"blue\", \"size\": 5}, \"line\": {\"color\": \"black\", \"width\": 5}}, {\"text\": [\"LWrist\"], \"x\": [-0.07119060267210098, -0.06389679234468315], \"type\": \"scatter\", \"y\": [0.26930503541098516, 0.2512980349856129], \"marker\": {\"color\": \"blue\", \"size\": 5}, \"line\": {\"color\": \"black\", \"width\": 5}}, {\"text\": [\"RShoulder\"], \"x\": [0.0588840619233888, 0.010496622454331916], \"type\": \"scatter\", \"y\": [0.1412026239747446, 0.11954168949626154], \"marker\": {\"color\": \"blue\", \"size\": 5}, \"line\": {\"color\": \"red\", \"width\": 5}}, {\"text\": [\"RElbow\"], \"x\": [0.06813723875263222, 0.0588840619233888], \"type\": \"scatter\", \"y\": [0.26496159843848455, 0.1412026239747446], \"marker\": {\"color\": \"blue\", \"size\": 5}, \"line\": {\"color\": \"red\", \"width\": 5}}, {\"text\": [\"RWrist\"], \"x\": [0.07200082786599471, 0.06813723875263222], \"type\": \"scatter\", \"y\": [0.28442275490375524, 0.26496159843848455], \"marker\": {\"color\": \"blue\", \"size\": 5}, \"line\": {\"color\": \"red\", \"width\": 5}}, {\"y\": [0.168896721361546, 0.1786693631436178, 0.18477714474009765, 0.19266154578907035, 0.20625479908567446, 0.21540433170048134, 0.2300486347335957], \"marker\": {\"color\": \"#1f77b4\", \"size\": 1}, \"type\": \"scatter\", \"x\": [-0.01420320428666244, -0.009122337390714996, -0.005050386465429546, -0.015456630886367728, -0.009625030808619428, -0.0072014758747925844, -0.014568474759633299], \"line\": {\"color\": \"#1f77b4\", \"width\": 1}}], \"name\": \"frame8\"}, {\"data\": [{\"text\": [\"RHip\"], \"x\": [0.03064303533322832, 0.001134361061107203], \"type\": \"scatter\", \"y\": [0.2951172289367898, 0.2651330218548176], \"marker\": {\"color\": \"blue\", \"size\": 5}, \"line\": {\"color\": \"red\", \"width\": 5}}, {\"text\": [\"RKnee\"], \"x\": [0.023824438107612478, 0.03064303533322832], \"type\": \"scatter\", \"y\": [0.3908140209176101, 0.2951172289367898], \"marker\": {\"color\": \"blue\", \"size\": 5}, \"line\": {\"color\": \"red\", \"width\": 5}}, {\"text\": [\"RAnkle\"], \"x\": [0.01990316180367513, 0.023824438107612478], \"type\": \"scatter\", \"y\": [0.48877796802363105, 0.3908140209176101], \"marker\": {\"color\": \"blue\", \"size\": 5}, \"line\": {\"color\": \"red\", \"width\": 5}}, {\"text\": [\"LHip\"], \"x\": [-0.023983575133921797, 0.001134361061107203], \"type\": \"scatter\", \"y\": [0.29993711854727434, 0.2651330218548176], \"marker\": {\"color\": \"blue\", \"size\": 5}, \"line\": {\"color\": \"black\", \"width\": 5}}, {\"text\": [\"LKnee\"], \"x\": [-0.016862823690219075, -0.023983575133921797], \"type\": \"scatter\", \"y\": [0.4113904789806999, 0.29993711854727434], \"marker\": {\"color\": \"blue\", \"size\": 5}, \"line\": {\"color\": \"black\", \"width\": 5}}, {\"text\": [\"LAnkle\"], \"x\": [-0.020126713581579248, -0.016862823690219075], \"type\": \"scatter\", \"y\": [0.5534545783070484, 0.4113904789806999], \"marker\": {\"color\": \"blue\", \"size\": 5}, \"line\": {\"color\": \"black\", \"width\": 5}}, {\"text\": [\"Spine1\"], \"x\": [0.0014839932877095396, 0.001134361061107203], \"type\": \"scatter\", \"y\": [0.19415502230094062, 0.2651330218548176], \"marker\": {\"color\": \"blue\", \"size\": 5}, \"line\": {\"color\": \"black\", \"width\": 5}}, {\"text\": [\"Neck\"], \"x\": [0.005380018316597512, 0.0014839932877095396], \"type\": \"scatter\", \"y\": [0.13000366130900787, 0.19415502230094062], \"marker\": {\"color\": \"blue\", \"size\": 5}, \"line\": {\"color\": \"black\", \"width\": 5}}, {\"text\": [\"Head\"], \"x\": [0.005337842757109135, 0.005380018316597512], \"type\": \"scatter\", \"y\": [0.10218557559437991, 0.13000366130900787], \"marker\": {\"color\": \"blue\", \"size\": 5}, \"line\": {\"color\": \"black\", \"width\": 5}}, {\"text\": [\"Site\"], \"x\": [0.0009895704458344756, 0.005337842757109135], \"type\": \"scatter\", \"y\": [0.07990516272771386, 0.10218557559437991], \"marker\": {\"color\": \"blue\", \"size\": 5}, \"line\": {\"color\": \"black\", \"width\": 5}}, {\"text\": [\"LShoulder\"], \"x\": [-0.05511651304849219, 0.005380018316597512], \"type\": \"scatter\", \"y\": [0.14875351214235744, 0.13000366130900787], \"marker\": {\"color\": \"blue\", \"size\": 5}, \"line\": {\"color\": \"black\", \"width\": 5}}, {\"text\": [\"LElbow\"], \"x\": [-0.06584173226560652, -0.05511651304849219], \"type\": \"scatter\", \"y\": [0.27191008452207743, 0.14875351214235744], \"marker\": {\"color\": \"blue\", \"size\": 5}, \"line\": {\"color\": \"black\", \"width\": 5}}, {\"text\": [\"LWrist\"], \"x\": [-0.07289503874583514, -0.06584173226560652], \"type\": \"scatter\", \"y\": [0.2908822306135064, 0.27191008452207743], \"marker\": {\"color\": \"blue\", \"size\": 5}, \"line\": {\"color\": \"black\", \"width\": 5}}, {\"text\": [\"RShoulder\"], \"x\": [0.05610974533375512, 0.005380018316597512], \"type\": \"scatter\", \"y\": [0.15165364228983658, 0.13000366130900787], \"marker\": {\"color\": \"blue\", \"size\": 5}, \"line\": {\"color\": \"red\", \"width\": 5}}, {\"text\": [\"RElbow\"], \"x\": [0.07984936430337775, 0.05610974533375512], \"type\": \"scatter\", \"y\": [0.28508249994570467, 0.15165364228983658], \"marker\": {\"color\": \"blue\", \"size\": 5}, \"line\": {\"color\": \"red\", \"width\": 5}}, {\"text\": [\"RWrist\"], \"x\": [0.08541475712244173, 0.07984936430337775], \"type\": \"scatter\", \"y\": [0.3055769496946825, 0.28508249994570467], \"marker\": {\"color\": \"blue\", \"size\": 5}, \"line\": {\"color\": \"red\", \"width\": 5}}, {\"y\": [0.168896721361546, 0.1786693631436178, 0.18477714474009765, 0.19266154578907035, 0.20625479908567446, 0.21540433170048134, 0.2300486347335957, 0.24555844720898212], \"marker\": {\"color\": \"#1f77b4\", \"size\": 1}, \"type\": \"scatter\", \"x\": [-0.01420320428666244, -0.009122337390714996, -0.005050386465429546, -0.015456630886367728, -0.009625030808619428, -0.0072014758747925844, -0.014568474759633299, 0.002918584527786816], \"line\": {\"color\": \"#1f77b4\", \"width\": 1}}], \"name\": \"frame9\"}, {\"data\": [{\"text\": [\"RHip\"], \"x\": [0.011509814146343667, -0.01727584325395648], \"type\": \"scatter\", \"y\": [0.3172925175976302, 0.28209143127200265], \"marker\": {\"color\": \"blue\", \"size\": 5}, \"line\": {\"color\": \"red\", \"width\": 5}}, {\"text\": [\"RKnee\"], \"x\": [0.0013815147844620235, 0.011509814146343667], \"type\": \"scatter\", \"y\": [0.43980046217465896, 0.3172925175976302], \"marker\": {\"color\": \"blue\", \"size\": 5}, \"line\": {\"color\": \"red\", \"width\": 5}}, {\"text\": [\"RAnkle\"], \"x\": [0.0021516263135972213, 0.0013815147844620235], \"type\": \"scatter\", \"y\": [0.5768985073749473, 0.43980046217465896], \"marker\": {\"color\": \"blue\", \"size\": 5}, \"line\": {\"color\": \"red\", \"width\": 5}}, {\"text\": [\"LHip\"], \"x\": [-0.04763277207014016, -0.01727584325395648], \"type\": \"scatter\", \"y\": [0.3170306747688678, 0.28209143127200265], \"marker\": {\"color\": \"blue\", \"size\": 5}, \"line\": {\"color\": \"black\", \"width\": 5}}, {\"text\": [\"LKnee\"], \"x\": [-0.030007741825264, -0.04763277207014016], \"type\": \"scatter\", \"y\": [0.43834027831809164, 0.3170306747688678], \"marker\": {\"color\": \"blue\", \"size\": 5}, \"line\": {\"color\": \"black\", \"width\": 5}}, {\"text\": [\"LAnkle\"], \"x\": [-0.01962986599129868, -0.030007741825264], \"type\": \"scatter\", \"y\": [0.5526537076887736, 0.43834027831809164], \"marker\": {\"color\": \"blue\", \"size\": 5}, \"line\": {\"color\": \"black\", \"width\": 5}}, {\"text\": [\"Spine1\"], \"x\": [-0.01950500776117603, -0.01727584325395648], \"type\": \"scatter\", \"y\": [0.205779712050578, 0.28209143127200265], \"marker\": {\"color\": \"blue\", \"size\": 5}, \"line\": {\"color\": \"black\", \"width\": 5}}, {\"text\": [\"Neck\"], \"x\": [-0.018556435491941636, -0.01950500776117603], \"type\": \"scatter\", \"y\": [0.13625311309538835, 0.205779712050578], \"marker\": {\"color\": \"blue\", \"size\": 5}, \"line\": {\"color\": \"black\", \"width\": 5}}, {\"text\": [\"Head\"], \"x\": [-0.01882946352034731, -0.018556435491941636], \"type\": \"scatter\", \"y\": [0.10648685734665142, 0.13625311309538835], \"marker\": {\"color\": \"blue\", \"size\": 5}, \"line\": {\"color\": \"black\", \"width\": 5}}, {\"text\": [\"Site\"], \"x\": [-0.021843162891006962, -0.01882946352034731], \"type\": \"scatter\", \"y\": [0.08341891471264429, 0.10648685734665142], \"marker\": {\"color\": \"blue\", \"size\": 5}, \"line\": {\"color\": \"black\", \"width\": 5}}, {\"text\": [\"LShoulder\"], \"x\": [-0.08217811869373326, -0.018556435491941636], \"type\": \"scatter\", \"y\": [0.15890501169952498, 0.13625311309538835], \"marker\": {\"color\": \"blue\", \"size\": 5}, \"line\": {\"color\": \"black\", \"width\": 5}}, {\"text\": [\"LElbow\"], \"x\": [-0.1066510859607479, -0.08217811869373326], \"type\": \"scatter\", \"y\": [0.28849534218867934, 0.15890501169952498], \"marker\": {\"color\": \"blue\", \"size\": 5}, \"line\": {\"color\": \"black\", \"width\": 5}}, {\"text\": [\"LWrist\"], \"x\": [-0.11688210983925595, -0.1066510859607479], \"type\": \"scatter\", \"y\": [0.3043859004892029, 0.28849534218867934], \"marker\": {\"color\": \"blue\", \"size\": 5}, \"line\": {\"color\": \"black\", \"width\": 5}}, {\"text\": [\"RShoulder\"], \"x\": [0.03882757170952811, -0.018556435491941636], \"type\": \"scatter\", \"y\": [0.1579898094719191, 0.13625311309538835], \"marker\": {\"color\": \"blue\", \"size\": 5}, \"line\": {\"color\": \"red\", \"width\": 5}}, {\"text\": [\"RElbow\"], \"x\": [0.05323313920913719, 0.03882757170952811], \"type\": \"scatter\", \"y\": [0.30051221508454184, 0.1579898094719191], \"marker\": {\"color\": \"blue\", \"size\": 5}, \"line\": {\"color\": \"red\", \"width\": 5}}, {\"text\": [\"RWrist\"], \"x\": [0.05768048705154216, 0.05323313920913719], \"type\": \"scatter\", \"y\": [0.3231645522427864, 0.30051221508454184], \"marker\": {\"color\": \"blue\", \"size\": 5}, \"line\": {\"color\": \"red\", \"width\": 5}}, {\"y\": [0.168896721361546, 0.1786693631436178, 0.18477714474009765, 0.19266154578907035, 0.20625479908567446, 0.21540433170048134, 0.2300486347335957, 0.24555844720898212, 0.2651330218548176], \"marker\": {\"color\": \"#1f77b4\", \"size\": 1}, \"type\": \"scatter\", \"x\": [-0.01420320428666244, -0.009122337390714996, -0.005050386465429546, -0.015456630886367728, -0.009625030808619428, -0.0072014758747925844, -0.014568474759633299, 0.002918584527786816, 0.001134361061107203], \"line\": {\"color\": \"#1f77b4\", \"width\": 1}}], \"name\": \"frame10\"}, {\"data\": [{\"text\": [\"RHip\"], \"x\": [0.0244309896951449, -0.008902432248442893], \"type\": \"scatter\", \"y\": [0.344679639511261, 0.30792095064559644], \"marker\": {\"color\": \"blue\", \"size\": 5}, \"line\": {\"color\": \"red\", \"width\": 5}}, {\"text\": [\"RKnee\"], \"x\": [0.000757091276621491, 0.0244309896951449], \"type\": \"scatter\", \"y\": [0.4800583407661059, 0.344679639511261], \"marker\": {\"color\": \"blue\", \"size\": 5}, \"line\": {\"color\": \"red\", \"width\": 5}}, {\"text\": [\"RAnkle\"], \"x\": [-0.0007136546402998212, 0.000757091276621491], \"type\": \"scatter\", \"y\": [0.6237180366898525, 0.4800583407661059], \"marker\": {\"color\": \"blue\", \"size\": 5}, \"line\": {\"color\": \"red\", \"width\": 5}}, {\"text\": [\"LHip\"], \"x\": [-0.04000994660660362, -0.008902432248442893], \"type\": \"scatter\", \"y\": [0.34807592359804684, 0.30792095064559644], \"marker\": {\"color\": \"blue\", \"size\": 5}, \"line\": {\"color\": \"black\", \"width\": 5}}, {\"text\": [\"LKnee\"], \"x\": [-0.041578551089659355, -0.04000994660660362], \"type\": \"scatter\", \"y\": [0.48279703975488, 0.34807592359804684], \"marker\": {\"color\": \"blue\", \"size\": 5}, \"line\": {\"color\": \"black\", \"width\": 5}}, {\"text\": [\"LAnkle\"], \"x\": [-0.03056657200024593, -0.041578551089659355], \"type\": \"scatter\", \"y\": [0.5340073168743864, 0.48279703975488], \"marker\": {\"color\": \"blue\", \"size\": 5}, \"line\": {\"color\": \"black\", \"width\": 5}}, {\"text\": [\"Spine1\"], \"x\": [-0.00777833032981301, -0.008902432248442893], \"type\": \"scatter\", \"y\": [0.22377466457986106, 0.30792095064559644], \"marker\": {\"color\": \"blue\", \"size\": 5}, \"line\": {\"color\": \"black\", \"width\": 5}}, {\"text\": [\"Neck\"], \"x\": [-0.0010717760361226292, -0.00777833032981301], \"type\": \"scatter\", \"y\": [0.1487284058721695, 0.22377466457986106], \"marker\": {\"color\": \"blue\", \"size\": 5}, \"line\": {\"color\": \"black\", \"width\": 5}}, {\"text\": [\"Head\"], \"x\": [0.0003594579635390893, -0.0010717760361226292], \"type\": \"scatter\", \"y\": [0.11655193541659459, 0.1487284058721695], \"marker\": {\"color\": \"blue\", \"size\": 5}, \"line\": {\"color\": \"black\", \"width\": 5}}, {\"text\": [\"Site\"], \"x\": [-0.001933056293922819, 0.0003594579635390893], \"type\": \"scatter\", \"y\": [0.0927504850813321, 0.11655193541659459], \"marker\": {\"color\": \"blue\", \"size\": 5}, \"line\": {\"color\": \"black\", \"width\": 5}}, {\"text\": [\"LShoulder\"], \"x\": [-0.07212767234375672, -0.0010717760361226292], \"type\": \"scatter\", \"y\": [0.16811656584457335, 0.1487284058721695], \"marker\": {\"color\": \"blue\", \"size\": 5}, \"line\": {\"color\": \"black\", \"width\": 5}}, {\"text\": [\"LElbow\"], \"x\": [-0.08458751356664163, -0.07212767234375672], \"type\": \"scatter\", \"y\": [0.31691892420443035, 0.16811656584457335], \"marker\": {\"color\": \"blue\", \"size\": 5}, \"line\": {\"color\": \"black\", \"width\": 5}}, {\"text\": [\"LWrist\"], \"x\": [-0.09128040962075379, -0.08458751356664163], \"type\": \"scatter\", \"y\": [0.3398316226164375, 0.31691892420443035], \"marker\": {\"color\": \"blue\", \"size\": 5}, \"line\": {\"color\": \"black\", \"width\": 5}}, {\"text\": [\"RShoulder\"], \"x\": [0.05934400276685459, -0.0010717760361226292], \"type\": \"scatter\", \"y\": [0.17502077094070023, 0.1487284058721695], \"marker\": {\"color\": \"blue\", \"size\": 5}, \"line\": {\"color\": \"red\", \"width\": 5}}, {\"text\": [\"RElbow\"], \"x\": [0.07587514112038951, 0.05934400276685459], \"type\": \"scatter\", \"y\": [0.3309965952081515, 0.17502077094070023], \"marker\": {\"color\": \"blue\", \"size\": 5}, \"line\": {\"color\": \"red\", \"width\": 5}}, {\"text\": [\"RWrist\"], \"x\": [0.08134110200465172, 0.07587514112038951], \"type\": \"scatter\", \"y\": [0.35559176440023177, 0.3309965952081515], \"marker\": {\"color\": \"blue\", \"size\": 5}, \"line\": {\"color\": \"red\", \"width\": 5}}, {\"y\": [0.168896721361546, 0.1786693631436178, 0.18477714474009765, 0.19266154578907035, 0.20625479908567446, 0.21540433170048134, 0.2300486347335957, 0.24555844720898212, 0.2651330218548176, 0.28209143127200265], \"marker\": {\"color\": \"#1f77b4\", \"size\": 1}, \"type\": \"scatter\", \"x\": [-0.01420320428666244, -0.009122337390714996, -0.005050386465429546, -0.015456630886367728, -0.009625030808619428, -0.0072014758747925844, -0.014568474759633299, 0.002918584527786816, 0.001134361061107203, -0.01727584325395648], \"line\": {\"color\": \"#1f77b4\", \"width\": 1}}], \"name\": \"frame11\"}, {\"data\": [{\"text\": [\"RHip\"], \"x\": [0.0213047049057713, -0.017960655099532596], \"type\": \"scatter\", \"y\": [0.3624612125361464, 0.32705438099457207], \"marker\": {\"color\": \"blue\", \"size\": 5}, \"line\": {\"color\": \"red\", \"width\": 5}}, {\"text\": [\"RKnee\"], \"x\": [0.007755801627151726, 0.0213047049057713], \"type\": \"scatter\", \"y\": [0.49398269356975244, 0.3624612125361464], \"marker\": {\"color\": \"blue\", \"size\": 5}, \"line\": {\"color\": \"red\", \"width\": 5}}, {\"text\": [\"RAnkle\"], \"x\": [-0.0018371440546157691, 0.007755801627151726], \"type\": \"scatter\", \"y\": [0.6186957773832222, 0.49398269356975244], \"marker\": {\"color\": \"blue\", \"size\": 5}, \"line\": {\"color\": \"red\", \"width\": 5}}, {\"text\": [\"LHip\"], \"x\": [-0.04524546942660179, -0.017960655099532596], \"type\": \"scatter\", \"y\": [0.37370382861625195, 0.32705438099457207], \"marker\": {\"color\": \"blue\", \"size\": 5}, \"line\": {\"color\": \"black\", \"width\": 5}}, {\"text\": [\"LKnee\"], \"x\": [-0.03441792077000905, -0.04524546942660179], \"type\": \"scatter\", \"y\": [0.5213940918046116, 0.37370382861625195], \"marker\": {\"color\": \"blue\", \"size\": 5}, \"line\": {\"color\": \"black\", \"width\": 5}}, {\"text\": [\"LAnkle\"], \"x\": [-0.06266207864899687, -0.03441792077000905], \"type\": \"scatter\", \"y\": [0.7034334804469613, 0.5213940918046116], \"marker\": {\"color\": \"blue\", \"size\": 5}, \"line\": {\"color\": \"black\", \"width\": 5}}, {\"text\": [\"Spine1\"], \"x\": [-0.01824508015807713, -0.017960655099532596], \"type\": \"scatter\", \"y\": [0.23721287820967163, 0.32705438099457207], \"marker\": {\"color\": \"blue\", \"size\": 5}, \"line\": {\"color\": \"black\", \"width\": 5}}, {\"text\": [\"Neck\"], \"x\": [-0.017358499936427352, -0.01824508015807713], \"type\": \"scatter\", \"y\": [0.15639151357855885, 0.23721287820967163], \"marker\": {\"color\": \"blue\", \"size\": 5}, \"line\": {\"color\": \"black\", \"width\": 5}}, {\"text\": [\"Head\"], \"x\": [-0.014528367276317566, -0.017358499936427352], \"type\": \"scatter\", \"y\": [0.12177409338151646, 0.15639151357855885], \"marker\": {\"color\": \"blue\", \"size\": 5}, \"line\": {\"color\": \"black\", \"width\": 5}}, {\"text\": [\"Site\"], \"x\": [-0.00989777341743514, -0.014528367276317566], \"type\": \"scatter\", \"y\": [0.09401947237288866, 0.12177409338151646], \"marker\": {\"color\": \"blue\", \"size\": 5}, \"line\": {\"color\": \"black\", \"width\": 5}}, {\"text\": [\"LShoulder\"], \"x\": [-0.08951438768364872, -0.017358499936427352], \"type\": \"scatter\", \"y\": [0.18161951237130702, 0.15639151357855885], \"marker\": {\"color\": \"blue\", \"size\": 5}, \"line\": {\"color\": \"black\", \"width\": 5}}, {\"text\": [\"LElbow\"], \"x\": [-0.11175478461661403, -0.08951438768364872], \"type\": \"scatter\", \"y\": [0.3403065575448436, 0.18161951237130702], \"marker\": {\"color\": \"blue\", \"size\": 5}, \"line\": {\"color\": \"black\", \"width\": 5}}, {\"text\": [\"LWrist\"], \"x\": [-0.120923632745081, -0.11175478461661403], \"type\": \"scatter\", \"y\": [0.36521125721960446, 0.3403065575448436], \"marker\": {\"color\": \"blue\", \"size\": 5}, \"line\": {\"color\": \"black\", \"width\": 5}}, {\"text\": [\"RShoulder\"], \"x\": [0.051303725439962644, -0.017358499936427352], \"type\": \"scatter\", \"y\": [0.1809846317215602, 0.15639151357855885], \"marker\": {\"color\": \"blue\", \"size\": 5}, \"line\": {\"color\": \"red\", \"width\": 5}}, {\"text\": [\"RElbow\"], \"x\": [0.08094627801243015, 0.051303725439962644], \"type\": \"scatter\", \"y\": [0.3417373354033646, 0.1809846317215602], \"marker\": {\"color\": \"blue\", \"size\": 5}, \"line\": {\"color\": \"red\", \"width\": 5}}, {\"text\": [\"RWrist\"], \"x\": [0.08925529782029429, 0.08094627801243015], \"type\": \"scatter\", \"y\": [0.3656262690447425, 0.3417373354033646], \"marker\": {\"color\": \"blue\", \"size\": 5}, \"line\": {\"color\": \"red\", \"width\": 5}}, {\"y\": [0.168896721361546, 0.1786693631436178, 0.18477714474009765, 0.19266154578907035, 0.20625479908567446, 0.21540433170048134, 0.2300486347335957, 0.24555844720898212, 0.2651330218548176, 0.28209143127200265, 0.30792095064559644], \"marker\": {\"color\": \"#1f77b4\", \"size\": 1}, \"type\": \"scatter\", \"x\": [-0.01420320428666244, -0.009122337390714996, -0.005050386465429546, -0.015456630886367728, -0.009625030808619428, -0.0072014758747925844, -0.014568474759633299, 0.002918584527786816, 0.001134361061107203, -0.01727584325395648, -0.008902432248442893], \"line\": {\"color\": \"#1f77b4\", \"width\": 1}}], \"name\": \"frame12\"}]);\n",
       "                        }).then(function(){\n",
       "                            Plotly.animate('780e75bf-faf0-40d5-bad5-291e666f48c5', null);\n",
       "                        }).then(function(){\n",
       "                            \n",
       "var gd = document.getElementById('780e75bf-faf0-40d5-bad5-291e666f48c5');\n",
       "var x = new MutationObserver(function (mutations, observer) {{\n",
       "        var display = window.getComputedStyle(gd).display;\n",
       "        if (!display || display === 'none') {{\n",
       "            console.log([gd, 'removed!']);\n",
       "            Plotly.purge(gd);\n",
       "            observer.disconnect();\n",
       "        }}\n",
       "}});\n",
       "\n",
       "// Listen for the removal of the full notebook cells\n",
       "var notebookContainer = gd.closest('#notebook-container');\n",
       "if (notebookContainer) {{\n",
       "    x.observe(notebookContainer, {childList: true});\n",
       "}}\n",
       "\n",
       "// Listen for the clearing of the current output cell\n",
       "var outputEl = gd.closest('.output');\n",
       "if (outputEl) {{\n",
       "    x.observe(outputEl, {childList: true});\n",
       "}}\n",
       "\n",
       "                        })\n",
       "                };\n",
       "                });\n",
       "            </script>\n",
       "        </div>"
      ]
     },
     "metadata": {},
     "output_type": "display_data"
    }
   ],
   "source": [
    "# projection 2d\n",
    "frames, layout = generate_frames_layout_2d(keypoints[\"05\"][\"01\"][0][::50], dataset.skeleton(), human36m_kpts_name, x_range=[-1, 1], y_range=[1, -1])\n",
    "fig = dict(data=get_line_2d_segs(keypoints[\"05\"][\"01\"][0], 0, dataset.skeleton(), human36m_kpts_name), layout=layout, frames=frames)\n",
    "plotly.offline.iplot(fig)"
   ]
  },
  {
   "cell_type": "code",
   "execution_count": null,
   "metadata": {},
   "outputs": [],
   "source": []
  }
 ],
 "metadata": {
  "kernelspec": {
   "display_name": "Python 3",
   "language": "python",
   "name": "python3"
  },
  "language_info": {
   "codemirror_mode": {
    "name": "ipython",
    "version": 3
   },
   "file_extension": ".py",
   "mimetype": "text/x-python",
   "name": "python",
   "nbconvert_exporter": "python",
   "pygments_lexer": "ipython3",
   "version": "3.5.2"
  }
 },
 "nbformat": 4,
 "nbformat_minor": 2
}
